{
 "cells": [
  {
   "cell_type": "markdown",
   "metadata": {},
   "source": [
    "## Constantes de movimiento {#ncuerpos_constantes}"
   ]
  },
  {
   "cell_type": "markdown",
   "metadata": {},
   "source": [
    "Como aprendimos en la [Sección *integración de la e.d.m.*](#integracion_edm), una manera posible para buscar la solución analítica a las $6N$ ecuaciones diferenciales del problema de los N cuerpos (Ec. \\ref{eq:ncuerpos_formulacion_ecuaciones}), o al menos, aprender cosas sobre la dinámicas del sistema aunque no tenamos una solución, es la de buscar tantas constantess de movimiento (cuadraturas) como sea posible.  \n",
    "\n",
    "Como habíamos visto, para convertir el problema diferencial en uno algebraico determinado (igual numero de ecuaciones que de incognitas), es necesario encontrar $6N$ constantes, es decir, un número igual de constantes que el número de variables del sistema, a saber $x(t)$, $y(t)$, $z(t)$, $\\dot{x}(t)$, $\\dot{y}(t)$, $\\dot{z}(t)$. \n",
    "\n",
    "En esta sección usaremos los métodos introducidos en la [Sección *integración de la e.d.m.*](#integracion_edm) para encontrar las primeras integrales de movimiento del problema de los N cuerpos."
   ]
  },
  {
   "cell_type": "markdown",
   "metadata": {},
   "source": [
    "### Momentum lineal del centro de masa {#ncuerpos_momentum}"
   ]
  },
  {
   "cell_type": "markdown",
   "metadata": {},
   "source": [
    "La primera cuadratura interesante resulta de aplicar un truco ingenioso: si multiplicamos la e.d.m. de cada una de las partículas en la Ec. (\\ref{eq:ncuerpos_formulacion_ecuaciones)) y las sumamos, obtenemos\n",
    "\n",
    "\\begin{equation}\n",
    "\\label{eq:ncuerpos_suma_edm}\n",
    "\\sum_i m_i\\ddot{\\vec r}_i = -\\sum_i \\sum_j \\frac{m_i \\mu_j}{r_{ij}^3} \\vec{r}_{ij}\n",
    "\\end{equation}"
   ]
  },
  {
   "cell_type": "markdown",
   "metadata": {},
   "source": [
    "En el lado derecho el término en el denominador es simétrico, $r_{ji}=r_{ij}$, mientras el término en el numerador, $\\vec{r}_{ji}=\\vec{r}_i-\\vec{r}_j$  es *antisimétrico* (el signo cambia al cambiar el orden de los índices). Como resultado, por cada término en la doble sumatoria (por ejemplo el término $i=1$, $j=4$) habra un término idéntico pero de signo contrario (el término con $i=4$, $j=1$).  De este modo, el lado derecho de la Ec. (\\ref{eq:ncuerpos_suma_edm}) siempre sera nulo (sin importar el número de partículas) y la suma de las e.d.m. de las partículas será:\n",
    "\n",
    "\\begin{equation}\n",
    "\\sum m_i\\ddot{\\vec r}_i = 0\n",
    "\\end{equation}"
   ]
  },
  {
   "cell_type": "markdown",
   "metadata": {},
   "source": [
    "Esta ecuación puede expresarse de la forma (cuadratura):\n",
    "\n",
    "$$\n",
    "\\frac{d}{dt}\\left(\\sum_i m_i \\dot{\\vec{r}}_i\\right) =0,\n",
    "$$\n",
    "\n",
    "siempre y cuando asumamos que la masa de todas las partículas del sistema $\\{m_i\\}$ son constantes. "
   ]
  },
  {
   "cell_type": "markdown",
   "metadata": {},
   "source": [
    "De donde encontramos la primera constante (vectorial) de movimiento del problema de N cuerpos:\n",
    "\n",
    "\\begin{equation}\n",
    "\\label{eq:ncuerpos_momentum}\n",
    "\\sum_i m_i \\dot{\\vec{r}}_i=\\vec P\n",
    "\\end{equation}\n",
    "\n",
    "En realidad, por tratarse de una expresión vectorial, en esta cuadratura hay contenidas tres constantes de movimiento: $\\sum_i m_i\\dot{x}_i=P_x$, $\\sum_i m_i\\dot{y}_i=P_y$ y $\\sum_i m_i\\dot{z}_i=P_z$.\n",
    "\n",
    "Es claro que $\\vec P$ no es otra cosa que el *momentum* lineal del centro de masa y la cuadratura obtenida simplemente expresa que en un sistema de N cuerpos, el *momentum* lineal total se conserva.  Este resultado es consistente con la ley de conservación del *momentum* lineal para un sistema de partículas que habíamos enunciado en la [Sección *Dinámica newtoniana*](#dinamica_newtoniana).  Dado que las partículas de nuestro sistema solo experimentan las fuerzas mutuas, no existe ninguna fuerza externa y por la misma razón su *momentum* lineal total debe mantenerse constante."
   ]
  },
  {
   "cell_type": "markdown",
   "metadata": {},
   "source": [
    "La constancia de $\\vec P$ en el problema de los N cuerpos, nos permite además introducir la idea de que siempre podemos describir la dinámica del sistema desde un marco de referencia inercial, aquel con velocidad constante $\\vec V=\\vec P/M$ (donde $M=\\sum m_i$), en el cuál el movimiento de las partículas es el más simple posible.  En este sistema de referencia, $\\vec P=\\vec 0$, lo que simplificará considerablemente los cálculos."
   ]
  },
  {
   "cell_type": "markdown",
   "metadata": {},
   "source": [
    "### Posición del centro de masa {#ncuerpos_centro_masa}"
   ]
  },
  {
   "cell_type": "markdown",
   "metadata": {},
   "source": [
    "Una segunda constante de movimiento puede obtenerse aplicando cuadraturas a la primera integral (Ec. \\ref{eq:ncuerpos_momentum}):\n",
    "\n",
    "$$\n",
    "\\frac{\\mathrm{d}}{\\mathrm{d}t}\\left(\\sum_i m_i \\vec{r}_i\\right)=\\frac{\\mathrm{d}}{\\mathrm{d}t}\\left(\\vec P t\\right)\n",
    "$$\n",
    "\n",
    "De donde podemos escribir:\n",
    "\n",
    "\\begin{equation}\n",
    "\\label{eq:ncuerpos_centro_masa}\n",
    "\\sum_i m_i \\vec{r}_i-\\vec P t=M\\vec R\n",
    "\\end{equation}\n",
    "\n",
    "Para expresar está última constante de movimiento, hemos elegido, arbitrariamente, llamar a su valor $M\\vec R$, donde $M$ es la masa total del sistema, que también es un valor constante y $\\vec R$ es también un vector constante.  La elección de esta parametrización para el valor de esta integral, no modifica en nada el hecho que el lado derecho de la Ec. (\\ref{eq:ncuerpos_centro_masa) es constante también.\n",
    "\n",
    "¿Cómo podemos interpretar físicamente la constante de movimiento en la Ec. (\\ref{eq:ncuerpos_centro_masa})?  Si dividimos la expresión de esta constante por la masa total del sistema $M$ y la escribimos como:\n",
    "\n",
    "$$\n",
    "\\frac{\\sum_i m_i \\vec{r}_i}{M}=\\vec R+\\vec V t,\n",
    "$$\n",
    "\n",
    "identificamos, del lado izquierdo, la posición del centro de masa del sistema en cualquier tiempo $R_{\\rm CM}=\\sum m_i\\vec{r}_i/M$. Del lado derecho encontramos $\\vec V t$, que no es otra cosa que el desplazamiento que sufre el centro de masa al moverse con velocidad constante $\\vec V=\\vec P/M$.  \n",
    "\n",
    "De esta expresión, podemos entonces concluir que $\\vec R$ es el valor de la posición inicial del centro de masa, y que la Ec. (\\ref{eq:ncuerpos_centro_masa}) es la constante de movimiento asociada con ella.\n",
    "\n",
    "De nuevo, por tratarse de una expresión vectorial, en realidad la Ec. (\\ref{eq:ncuerpos_centro_masa}) corresponde a tres constantes en lugar de una."
   ]
  },
  {
   "cell_type": "markdown",
   "metadata": {},
   "source": [
    "### Momentum angular {#Ncuerpos_momentum_angular}"
   ]
  },
  {
   "cell_type": "markdown",
   "metadata": {},
   "source": [
    "Una nueva cuadratura del problema de los N cuerpos, puede obtenerse mediante el uso de un ingenioso factor integrante.  \n",
    "\n",
    "Si tomamos las e.d.m. del sistema de partículas (Ec. \\ref{eq:ncuerpos_formulacion_ecuaciones}) y *premultiplicamos*, con el producto cruz (producto vectorial), por el vector posición de cada partícula y la masa de cada una de ellas (este será el factor integrante), el resultado será el conjunto de ecuaciones:\n",
    "\n",
    "$$\n",
    "\\left\\{m_i\\vec{r}_i\\times \\ddot{\\vec{r}}_i= -m_i\\sum_j \\frac{\\mu_j}{r_{ij}^3} \\vec{r}_i\\times \\vec{r}_{ij} \\right\\}\n",
    "$$\n",
    "\n",
    "Por las propiedades del producto vectorial, el último término en el lado derecho será, $\\vec{r}_i\\times \\vec{r}_{ij}=-\\vec{r}_i\\times \\vec{r}_j$, que es también antisimétrico.  Como consecuencia, si sumamos todas las ecuaciones diferenciales resultantes, obtendremos la ecuación:\n",
    "\n",
    "$$\n",
    "\\displaystyle \\sum_i m_i\\vec{r}_i \\times \\ddot{\\vec{r}}_i = \\vec{0}\n",
    "$$"
   ]
  },
  {
   "cell_type": "markdown",
   "metadata": {},
   "source": [
    "Teniendo en cuenta esta propiedad (que será utilizada muchas veces en este libro):\n",
    "\n",
    "\\begin{equation}\n",
    "\\label{eq:derivada_momento_angular}\n",
    "\\frac{d}{dt}(\\vec{r}_i \\times \\dot{\\vec{r}}_i) = \\vec{r}_i \\times \\ddot{\\vec{r}}_i\n",
    "\\end{equation}"
   ]
  },
  {
   "cell_type": "markdown",
   "metadata": {},
   "source": [
    "Las e.d.m. sumadas después de ser transformada con el factor integrante introducido antes, conducirán a la forma en cuadratura:\n",
    "\n",
    "$$\n",
    "\\frac{d}{dt}\\left(\\sum_i m_i \\vec{r}_i \\times \\dot{\\vec{r}}_i\\right) = \\vec 0\n",
    "$$"
   ]
  },
  {
   "cell_type": "markdown",
   "metadata": {},
   "source": [
    "Y de aquí obtenemos una nueva constante de movimiento:\n",
    "\n",
    "\\begin{equation}\n",
    "\\label{eq:ncuerpos_momentum_lineal}\n",
    "\\sum m_i \\vec{r}_i \\times \\dot{\\vec{r}}_i= \\vec L\n",
    "\\end{equation}\n",
    "\n",
    "La interpretación física de esta constante de movimiento también es directa: se trata del *momentum* angular del sistema. La Ec. (\\ref{eq:ncuerpos_momentum_lineal}) indica que el *momentum* angular de un sistema de N cuerpos se mantiene constante.  Este resultado, nuevamente, coincide con lo visto en la [Sección *Dinámica newtoniana*](#dinamica_newtoniana), en la que probabamos que si un sistema no esta sometido a fuerzas externas (diferentes de las fuerzas de interacción) y se cumplía la ley de acción y reacción fuerte (que es el caso de la fuerza gravitacional newtoniana de acción instantánea a distancia) el momentum angular no debería cambiar. "
   ]
  },
  {
   "cell_type": "markdown",
   "metadata": {},
   "source": [
    "Una interpretación geométrica muy interesante de esta constante de movimiento es la siguiente.  Si nos ubicamos en el sistema de referencia del centro de masa del sistema, la dirección (constante) del momentum angular total define un plano invariable (en dirección perpendicular a él).  No importa la posición de las partículas, ni el tiempo en el que se registren, dicho plano mantendrá siempre su orientación en el espacio. A este plano se lo conoce históricamente como el **plano invariable de Laplace** <cite data-cite=\"Laplace1835Obras\"><a href=\"mybook.html#Laplace1835Obras\">(Laplace, 1835)</a></cite>."
   ]
  },
  {
   "cell_type": "markdown",
   "metadata": {
    "tags": [
     "box_definition"
    ]
   },
   "source": [
    "> **Definición: Plano invariable y sistema natural de referencia**.  Dado un sistema de N cuerpos $\\{m_i\\}$ y un marco de referencia inercial que se mueve con velocidad constante: \n",
    "\n",
    "> $$\\vec V = \\frac{m_i \\dot{\\vec{r}}_i}{M}$$\n",
    "\n",
    "\n",
    "> Llamamos **plano invariable** (de Laplace) a aquel que tiene vector normal $\\hat n=\\vec L/L$, donde:\n",
    "\n",
    "> $$\\vec L=\\sum m_i \\vec{r}_i \\times \\dot{\\vec{r}}_i$$\n",
    "\n",
    "> Las posiciones y velocidades de las partículas que definen $\\vec L$ se toman en un tiempo cualquiera (el vector es constante).  \n",
    "\n",
    "> Llamamos **sistema natural de referencia** a aquel que tiene: 1) origen en el centro de masa del sistema:\n",
    "\n",
    "> $$\\vec R=\\frac{\\sum m_i \\vec{r_i}}{M}$$\n",
    "\n",
    "> y 2) plano $x-y$ sobre el plano invariable."
   ]
  },
  {
   "cell_type": "markdown",
   "metadata": {
    "tags": [
     "box_history",
     "placement:h"
    ]
   },
   "source": [
    "> **Mecánica celeste en la historia: El plano invariable del Sistema Solar**. Durante más de 100 años, los astrónomos han buscado encontrar la orientación del plano invariable del Sistema Solar.  El esfuerzo no ha sido sencillo, en tanto durante en el mismo lapso, la masa de los cuerpos no siempre se ha conocido con precisión e incluso, cuerpos enteramente nuevos se descubren de vez en cuando.  \n",
    "\n",
    "> La determinación más precisa de la orientación del plano invariable que se hizo recientemente <cite data-cite=\"Souami2012SolarPlane\"><a href=\"mybook.html#Souami2012SolarPlane\">(Souami & Souchay, 2012)</a></cite> ha determinado que tiene una inclinación, respecto al sistema ICRF (ver la [Sección *sistema de referencia astronómico*](#sistema_ICRF)) de 23$^\\circ$ 0' 31\".9 y una longitude del nodo ascendente de 3$^\\circ$ 51' 9\".4 (para una definición de estos ángulos ver la [Sección *cónica en el espacio](#conica_espacio)).  Esto implica, que el plano invariable del Sistema Solar esta inclinado respecto al plano de la eclípica de J2000.0, que usamos en la Astronomía del Sistema Solar, en 1$^\\circ$ 34' 43\".3. "
   ]
  },
  {
   "cell_type": "markdown",
   "metadata": {},
   "source": [
    "Usando `SPICE` podemos intentar obtener una estimación de la inclinación del plano invariable del Sistema Solar asumiendo que el momentum angular total del sistema esta concentrado en los 8 planetas.  En el algoritmo a continuación se muestra cómo hacerlo."
   ]
  },
  {
   "cell_type": "code",
   "execution_count": null,
   "metadata": {},
   "outputs": [],
   "source": [
    "import spiceypy as spy\n",
    "t=0\n",
    "spy.furnsh('pymcel/data/de430.bsp')\n",
    "sol,tluz=spy.spkezr(\"SUN\",et,\"ECLIPJ2000\",\"SSB\",0)\n",
    "tierra,tluz=spy.spkgeo(399,et,\"ECLIPJ2000\",0)\n",
    "distancia=spy.vnorm(tierra-sol)"
   ]
  },
  {
   "cell_type": "markdown",
   "metadata": {},
   "source": [
    "### Energía {#Ncuerpos_energia}"
   ]
  },
  {
   "cell_type": "markdown",
   "metadata": {},
   "source": [
    "Para la siguiente cuadratura o primera integral debemos primero identificar que la fuerza gravitacional sobre cada partícula deriva de un potencial:\n",
    "\n",
    "$$\n",
    "-\\frac{\\mu_j}{|r_i-r_j|^3}(\\vec r_i-\\vec r_j)=-\\nabla_i V_{j}\n",
    "$$"
   ]
  },
  {
   "cell_type": "markdown",
   "metadata": {},
   "source": [
    "Donde, en cooredenadas cartesianas, el operador gradiente respecto a las coordenadas de la partícula se escribe $\\nabla_i=\\partial/\\partial x_i \\hat i+\\partial/\\partial y_i \\hat j+\\partial/\\partial z_i \\hat k$.  Aquí $V_j$ es el potencial gravitacional producido por la partícula j-esima en la posición de la partícula i, $V_j = -\\mu_j/|r_i-r_j|$ .\n",
    "\n",
    "Utilizando este hecho, la ecuación de movimiento de la i-esima partícula se puede escribir de la forma:\n",
    "\n",
    "\\begin{eqnarray}\n",
    "m_i \\ddot{\\vec{r}}_i & = & -\\sum_j \\nabla_i (m_i V_j)\\\\\n",
    "m_i \\ddot{\\vec{r}}_i & = & -\\sum_j \\nabla_i U_{ji}\n",
    "\\end{eqnarray}"
   ]
  },
  {
   "cell_type": "markdown",
   "metadata": {},
   "source": [
    "Para obtener la primera integral multiplicamos a ambos lados de la ecuación de movimiento de cada partícula por el factor integrante $\\vec r_i\\cdot$:\n",
    "\n",
    "$$\n",
    "m_i \\dot{\\vec r_i}\\cdot \\ddot{\\vec r_i} = -\\dot{\\vec r_i}\\cdot\\sum_j\\nabla_i U_{ji}\n",
    "$$"
   ]
  },
  {
   "cell_type": "markdown",
   "metadata": {},
   "source": [
    "Reconociendo la identidad vectorial $\\vec r_i\\cdot\\nabla_i U_{ji}=dU_{ji}/dt$, sumando las ecuaciones de movimiento de todas las partículas obtenemos:\n",
    "\n",
    "$$\n",
    "\\frac{d}{dt}\\left(\\frac{1}{2}\\sum_i m_i \\dot{\\vec r_i}^2\\right)=-\\frac{d}{dt}\\left(\\sum_i\\sum_j U_{ji}\\right)\n",
    "$$"
   ]
  },
  {
   "cell_type": "markdown",
   "metadata": {},
   "source": [
    "Si llamamos $U$ al término en la derivada del lado derecho y que podemos escribir como:\n",
    "\n",
    "$$\n",
    "U(\\left\\{\\vec{r}_i\\right\\}_N) = -\\frac{1}{2}\\sum_i \\sum_{j} \\frac{m_i\\mu_j}{r_{ji}} \n",
    "$$\n",
    "\n",
    "e identificamos en el término en la derivada del lado izquierdo la *energía cinética* $U(\\left\\{\\vec{r}_i\\right\\}_N)$, de todo el sistema, obtenemos la cuadratura:\n",
    "\n",
    "$$\n",
    "\\boxed{f_{E}(\\{\\vec r_i\\},\\{\\dot{\\vec{r_i}}\\})=K\\left(\\left\\{\\dot{\\vec{r}_i}\\right\\}_N\\right)+U\\left(\\left\\{\\vec{r}_i\\right\\}_N\\right)\\equiv E}\n",
    "$$"
   ]
  },
  {
   "cell_type": "markdown",
   "metadata": {},
   "source": [
    "Que identificamos como la energía mecánica total del sistema de N-cuerpos."
   ]
  },
  {
   "cell_type": "markdown",
   "metadata": {},
   "source": [
    "Hasta aquí hemos identificado un total de 10 cuadraturas (consideradas como ecuaciones escalares):\n",
    "\n",
    "\\begin{eqnarray}\n",
    "\\sum_i m_i \\dot{\\vec{r}}_i & = & 0\\\\\n",
    "\\sum_i m_i \\vec{r}_i & = & 0\\\\\n",
    "K\\left(\\left\\{\\dot{\\vec{r}_i}\\right\\}_N\\right)+U\\left(\\left\\{\\vec{r}_i\\right\\}_N\\right) & = & E\\\\\n",
    "\\sum_i m_i \\vec{r}_i \\times \\dot{\\vec{r}}_i & = & \\vec L \n",
    "\\end{eqnarray}"
   ]
  },
  {
   "cell_type": "markdown",
   "metadata": {},
   "source": [
    "Con $E$ y $\\vec L$ constantes determinadas por las condiciones iniciales del sistema.\n",
    "\n",
    "¿Existirán otras cuadraturas o primeras integrales? La respuesta es negativa.  En el año 1887 H. Bruns en un artículo titulado *Über die integrale des Vielkörper-Problems* demostró que no existen otras primeras integrales de movimiento que puedan expresarse en términos de funciones algebráicas, aparte de las 10 que hemos deducido.  Este resultado fue posteriormente confirmado por H. Poincarè y se considera como un hecho.\n",
    "\n",
    "Ahora bien.  Dado que para N partículas, son necesarias $6N$ cuadraturas (primeras integrales de movimiento), de las cuales podría obtenerse la solución deseada, a saber las funciones $\\{\\vec r_i\\}_N, \\{\\dot{\\vec r_i}\\}_N$. \n",
    "\n",
    "Notamos entonces que ni siquiera en el caso de $N=2$, no existen suficientes cuadraturas (se necesitan 12) que permitan conseguir el objetivo deseado.  Jacobi demostró, sin embargo que el problema, tiene adicionalmente otras dos simetrías que permiten encontrar 2 relaciones adicionales.  Como resultado el problema de los 2 cuerpos es soluble.  La primera solución fue encontrada en 1710 por Johann Bernoulli y será discutida aquí. \n",
    "\n",
    "En el caso de $N>2$ no hay suficientes cuadraturas para resolver el problema general de forma cerrada, lo que se ha convertido en uno de los más importantes problemas de física teóricas en la historia de la física."
   ]
  },
  {
   "cell_type": "markdown",
   "metadata": {},
   "source": [
    "### El teorema del Virial {#Ncuerpos_teorema_virial}"
   ]
  },
  {
   "cell_type": "markdown",
   "metadata": {},
   "source": [
    "La estabilidad a largo plazo de un sistema de N-cuerpos es un tema de gran interés en mecánica celeste.  Es posible mostrar que la condición de estabilidad esta relacionada con el *valor promedio* de una la función escalar $G$, definida como:\n",
    "\n",
    "$$\n",
    "G=\\sum_{k=1}^N \\mathbf{p}_k \\cdot \\mathbf{r}_k\n",
    "$$"
   ]
  },
  {
   "cell_type": "markdown",
   "metadata": {},
   "source": [
    "Si factorizamos la derivada obtenemos:\n",
    "\n",
    "$$\n",
    "G=\\frac{1}{2} \\frac{d}{dt} \\sum_{k=1}^N m_{k} \\, \\mathbf{r}_k \\cdot \\mathbf{r}_k \n",
    "$$"
   ]
  },
  {
   "cell_type": "markdown",
   "metadata": {},
   "source": [
    "En esta expresión identificamos el momento de inercia del sistema:\n",
    "\n",
    "$$    \n",
    "I = \\sum_{k=1}^{N} m_{k} r_{k}^{2}\n",
    "$$\n",
    "\n",
    "Lo que conduce a la identidad:\n",
    "\n",
    "$$\n",
    "G=\\frac{1}{2} \\frac{dI}{dt}\n",
    "$$"
   ]
  },
  {
   "cell_type": "markdown",
   "metadata": {},
   "source": [
    "El rango de valores del escalar $G$, para valores del tiempo muy largos, puede escribirse como:\n",
    "\n",
    "$$\n",
    "\\frac{G(\\tau) - G(0)}{\\tau} = \\frac{1}\\tau \\int_{0}^\\tau \\frac{dG}{dt}\\,dt =\\left\\langle \\frac{dG}{dt} \\right\\rangle_\\tau\n",
    "$$"
   ]
  },
  {
   "cell_type": "markdown",
   "metadata": {},
   "source": [
    "Esto implica que una forma de la estabilidad a largo plazo de un sistema esta determinada por la variación del escalar $G$, que por su relación con el momento de inercia, depende a su vez de la segunda derivada de esta cantidad:\n",
    "\n",
    "$$\n",
    "\\frac{dG}{dt}=\\frac{1}{2}\\frac{d^2I}{dt^2}\n",
    "$$"
   ]
  },
  {
   "cell_type": "markdown",
   "metadata": {},
   "source": [
    "Derivando obtenemos:\n",
    "\n",
    "$$\n",
    "\\frac{1}{2}\\ddot I = 2 K - \\sum_i \\vec r_i\\cdot \\nabla_i U\n",
    "$$"
   ]
  },
  {
   "cell_type": "markdown",
   "metadata": {},
   "source": [
    "El teorema de [Euler para funciones homogéneas](http://mathworld.wolfram.com/EulersHomogeneousFunctionTheorem.html) establece que:\n",
    "\n",
    "$$\n",
    "\\sum_i \\vec r_i\\cdot \\nabla_i U = \\sum_i \\left(x_i\\frac{\\partial U}{\\partial x_i}+y_i\\frac{\\partial U}{\\partial y_i}+z_i\\frac{\\partial U}{\\partial z_i}\\right)=-U\n",
    "$$"
   ]
  },
  {
   "cell_type": "markdown",
   "metadata": {},
   "source": [
    "De donde obtenemos:\n",
    "\n",
    "$$\n",
    "\\boxed{\\frac{1}{2}\\ddot I = 2 K + U}\n",
    "$$\n",
    "\n",
    "Este resultado se conoce como el **teorema del virial**."
   ]
  },
  {
   "cell_type": "markdown",
   "metadata": {},
   "source": [
    "Si un sistema es estable a largo plazo el promedio de estas cantidades será:\n",
    "\n",
    "$$\n",
    "\\langle K\\rangle = -\\frac{1}{2}\\langle U\\rangle\n",
    "$$"
   ]
  }
 ],
 "metadata": {
  "celltoolbar": "Tags",
  "kernelspec": {
   "display_name": "Python 3",
   "language": "python",
   "name": "python3"
  },
  "language_info": {
   "codemirror_mode": {
    "name": "ipython",
    "version": 3
   },
   "file_extension": ".py",
   "mimetype": "text/x-python",
   "name": "python",
   "nbconvert_exporter": "python",
   "pygments_lexer": "ipython3",
   "version": "3.6.8"
  }
 },
 "nbformat": 4,
 "nbformat_minor": 2
}
