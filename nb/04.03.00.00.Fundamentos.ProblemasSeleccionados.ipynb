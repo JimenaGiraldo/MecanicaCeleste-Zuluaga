{
 "cells": [
  {
   "cell_type": "markdown",
   "metadata": {
    "tags": [
     "navigation"
    ]
   },
   "source": [
    "[Indice](index.ipynb) | Previo: [Fundamentos.Conicas.Rotaciones](04.02.05.00.Fundamentos.Conicas.Rotaciones.ipynb) | Siguiente: [Mecanica](05.00.00.00.Mecanica.ipynb)"
   ]
  },
  {
   "cell_type": "markdown",
   "metadata": {},
   "source": [
    "## 4.3. Problemas seleccionados\n",
    "<a id='fundamentos_problemas'></a>"
   ]
  },
  {
   "cell_type": "markdown",
   "metadata": {
    "tags": [
     "problem"
    ]
   },
   "source": [
    "1.  **Otra definición de una elipse**. Una elipse se puede definir como el lugar geométrico de los puntos cuya suma de las distancias a dos puntos fijos llamados focos es constante (esto es, en la figura de abajo, que $\\overline{F_1P}+\\overline{F_2P}=\\text{constante}$). A partir de esta definición y de los parámetros descritos en el punto anterior:\n",
    "\n",
    "> a) Muestre que la constante a la que es igual dicha suma es $2a$.\n",
    "\n",
    "> b) Muestre que $a$, $b$ y la *distancia focal* —definida como la distancia entre el centro $C$ de la elipse y cualquiera de sus focos—, $c$, satisfacen el teorema de pitágoras $a^2=b^2+c^2$.\n",
    "\n",
    "> c) Demuestre a partir de esta definición que la ecuación de la elipse horizontal centrada en $C=(0,0)$ es:\n",
    "\n",
    "> $$\n",
    "    \\frac{x^2}{a^2}+\\frac{y^2}{b^2}=1\n",
    "    $$\n",
    "\n",
    "> d) A partir de las relaciones dadas entre $a$, $b$, $e$ y $F$, muestre que $e$ también se puede calcular como $e=c/a$.\n",
    "\n",
    "> e) A partir de la definición conceptual de $p$ dada en el punto 1, muestre que el \\textit{semilatus rectum} también se puede calcular como $p=b^2/a$."
   ]
  },
  {
   "cell_type": "markdown",
   "metadata": {
    "tags": [
     "figure",
     "problem"
    ]
   },
   "source": [
    "<a id='fig:prob:elipse'></a>![Una elipse con algunos puntos resaltados.++t!++0.5++\\label{fig:prob:elipse}](./figures/problems/elipse.png)\n",
    "\n",
    "<center><b>Figura 4.34</b>. Una elipse con algunos puntos resaltados.</center>"
   ]
  },
  {
   "cell_type": "markdown",
   "metadata": {
    "tags": [
     "problem"
    ]
   },
   "source": [
    "2.  **Ecuación de una elipse**. Encuentre la ecuación general de la elipse cuyo semilatus rectum valga 9 y excentricidad sea 0.5."
   ]
  },
  {
   "cell_type": "markdown",
   "metadata": {
    "tags": [
     "problem"
    ]
   },
   "source": [
    "3.  **Parámetros geométricos**. Defina conceptualmente a qué corresponden cada uno de los siguientes parámetros en el caso de una elipse: a) defina $F$, b) defina $e$, c) defina $p$, d) defina $C$, e) defina $a$, f) defina $b$, g) defina $r$, h) defina $f$, i) defina $E$."
   ]
  },
  {
   "cell_type": "markdown",
   "metadata": {
    "tags": [
     "problem"
    ]
   },
   "source": [
    "4.  **Traslación de las cónicas.** A partir de una completación de cuadrados, demuestre que la ecuación general de las cónicas sin términos acoplados\n",
    "\n",
    "> $$Ax^2+Cy^2+Dx+Ey+G=0$$ \n",
    "\n",
    "> con $A,C\\neq 0$ se puede escribir, en su forma ordinaria, como \n",
    "\n",
    "> $$\\frac{x'^2}{q}+\\frac{y'^2}{t}=1,$$ \n",
    "\n",
    "> donde $x'$ y $y'$ son las coordenadas de un punto en el sistema trasladado dadas por \n",
    "\n",
    "> $$x' = x+\\frac{D}{2A},$$\n",
    "> $$y' = y+\\frac{E}{2C}$$ \n",
    "\n",
    "> y $q,t$ están dadas por\n",
    "\n",
    "> $$q\t= -\\frac{G}{A}+\\frac{D^{2}}{4A^{2}}+\\frac{E^{2}}{4AC},$$\n",
    "> $$t\t= -\\frac{G}{C}+\\frac{D^{2}}{4AC}+\\frac{E^{2}}{4C^{2}}.$$ \n",
    "\n",
    "> ¿Qué condiciones se deben dar para que dicha cónica sea una circunferencia, una elipse o una hipérbola? Dé un ejemplo numérico sencillo de cada una.\n"
   ]
  },
  {
   "cell_type": "markdown",
   "metadata": {
    "tags": [
     "problem"
    ]
   },
   "source": [
    "5.  **Rotación de cónicas.** A partir de la ecuación general de la cónica con términos acoplados\n",
    "\n",
    "> $$Ax^2 + Bxy + Cy^2 + Dx + Ey + G = 0$$\n",
    "\n",
    "> aplique una rotación de la forma\n",
    "\n",
    "> $$x  =  x' \\cos\\theta - y' \\sin\\theta $$\n",
    "> $$y  =  x' \\sin\\theta + y' \\cos\\theta $$\n",
    "\n",
    "> y demuestre que si se rota el sistema de coordenadas original un ángulo $\\theta$ que satisface\n",
    "\n",
    "> $$\\tan 2\\theta = \\frac{B}{A-C},$$\n",
    "\n",
    "> los nuevos ejes estarán alineados con los ejes de simetría. "
   ]
  },
  {
   "cell_type": "markdown",
   "metadata": {
    "tags": [
     "problem"
    ]
   },
   "source": [
    "6.  **Órbitas de cometas.** El semieje mayor de un cometa es de 20 AU y la distancia entre el foco y el perihelio es de 1 AU. \n",
    "\n",
    "> a) ¿Cuál es la excentricidad de la órbita?\n",
    "\n",
    "> b) ¿Cuánto vale el semieje menor?\n",
    "\n",
    "> c) ¿Cuánto vale el semilatus rectum?\n",
    "\n",
    "> d) Escriba la ecuación de este cometa en coordenadas polares.\n",
    "\n",
    "> e) Haga un bosquejo de la situación medianamente a escala."
   ]
  },
  {
   "cell_type": "markdown",
   "metadata": {
    "tags": [
     "problem"
    ]
   },
   "source": [
    "7.  **Órbita lunar.** Sobre una órbita lunar, el punto más cercano al satélite se conoce como periselenio y el más lejano como aposelenio. La nave Apolo 11 fue puesta en una órbita elíptica alrededor de la luna con una altitud (respecto a la superficie lunar) en el periselenio de 110 km y de 314 km en el aposelenio. Encuentre la ecuación de esta elipse en coordenadas polares si el radio de la luna es de 1728 km y el centro de la luna se encuentra en uno de los focos de la elipse. Haga un bosquejo de la situación medianamente a escala."
   ]
  },
  {
   "cell_type": "markdown",
   "metadata": {
    "tags": [
     "problem"
    ]
   },
   "source": [
    "8.  **Anomalías.**\n",
    "\n",
    "> a) Demuestre que, para una elipse, la distancia radial, $r$, está relacionada con la anomalía excéntrica, $E$, por medio de la expresión\n",
    "  \n",
    "> $$\n",
    "r=a(1 - e\\cos E).\n",
    "$$\n",
    "\n",
    "> b) Demuestre, además, que la anomalía verdadera se relaciona con la anomalía excéntrica a través de \n",
    "  \n",
    "> $$\n",
    "\\tan \\frac{f}{2} = \\sqrt{\\frac{1+e}{1-e}}\\tan \\frac{E}{2}.\n",
    "$$"
   ]
  },
  {
   "cell_type": "markdown",
   "metadata": {
    "tags": [
     "problem"
    ]
   },
   "source": [
    "9.  **Parámetros de elipse**. Dada la ecuación de la elipse $x^2 + 2y^2 + 2x + y - 6 = 0$ complete cuadrados y llévela a su forma ordinaria, para determina la posición del centro, el semieje mayor, semieje menor, distancia focal y semilatus rectum."
   ]
  },
  {
   "cell_type": "markdown",
   "metadata": {
    "tags": [
     "problem"
    ]
   },
   "source": [
    "10.  **Elementos orbitales.** Para un satélite en órbita alrededor de la Tierra se tienen los siguientes elementos orbitales: $a=8016.0\\mbox{ km}$, $e=0.06$, $I=50^\\text{o}$, $\\Omega=0.0^\\text{o}$, $\\omega=30^\\text{o}$ y $f=20^\\text{o}$. Encuentre el vector de posición en el plano fundamental del ecuador terrestre."
   ]
  },
  {
   "cell_type": "markdown",
   "metadata": {
    "tags": [
     "problem"
    ]
   },
   "source": [
    "11.  **Circunferencia máxima.** La posición de un punto sobre la Tierra se especifica por su longitud $\\phi$ y latitud $\\lambda$, como se muestra en la Figura ([prob:latlon](#fig:prob:latlon)).\n",
    "\n",
    "> Sean los vectores desde el centro de la Tierra hacia dos puntos $\\vec{r}_{1}$ y $\\vec{r}_{2}$. El coseno del ángulo $\\theta$ entre ellos puede ser hallado a partir de su producto escalar (producto punto), de tal manera que la \n",
    "distancia a lo largo del círculo máximo entre los dos puntos es $R\\theta$.\n",
    "\n",
    "> Encuentre una expresión para $\\theta$ en términos de las coordenadas de los dos puntos. "
   ]
  },
  {
   "cell_type": "markdown",
   "metadata": {
    "tags": [
     "figure",
     "problem"
    ]
   },
   "source": [
    "<a id='fig:prob:latlon'></a>![Definición de elas coordenadas de latitud y longitud sobre la Tierra++t!++0.5++\\label{fig:prob:latlon}](./figures/problems/earth.png)\n",
    "\n",
    "<center><b>Figura 4.35</b>. Definición de elas coordenadas de latitud y longitud sobre la Tierra</center>"
   ]
  },
  {
   "cell_type": "markdown",
   "metadata": {
    "tags": [
     "problem"
    ]
   },
   "source": [
    "12.  **Derivada temporal de los vectores unitarios.** La figura muestra la  configuración de un sistema de coordenadas polares definido por ($\\hat{r},\\hat{\\theta}$) relativo a un sistema cartesiano. Los conjuntos de vectores ($\\hat{r},\\hat{\\theta}$) y ($\\hat{i},\\hat{j}$) son constantes en magnitud pero solamente los vectores cartesianos lo son también en dirección. Conforme la partícula de vector posición $\\vec{r}$ se desplaza, los vectores ($\\hat{r},\\hat{\\theta}$) cambian de dirección, de forma tal que es posible definir una derivada temporal de estos.\n",
    "\n",
    "\n",
    "> a) Muestre que \n",
    " \n",
    "> $$\n",
    "   \\frac{d\\hat{r}}{dt} = \\dot{\\theta}\\hat{\\theta}\n",
    "   $$\n",
    "   \n",
    "> $$\n",
    "   \\frac{d\\hat{\\theta}}{dt} = -\\dot{\\theta}\\hat{r}\n",
    "   $$\n",
    "   \n",
    "> b) Usando los resultados del punto anterior, muestre que el vector aceleración en coordenadas polares viene dado por\n",
    "  \n",
    "> $$\n",
    "   \\vec{a}=(\\ddot{r}-r\\dot{\\theta}^2)\\hat{r} + (r\\ddot{\\theta}+2\\dot{r}\\dot{\\theta})\\hat{\\theta}\n",
    "  $$"
   ]
  },
  {
   "cell_type": "markdown",
   "metadata": {
    "tags": [
     "navigation"
    ]
   },
   "source": [
    "[Indice](index.ipynb) | Previo: [Fundamentos.Conicas.Rotaciones](04.02.05.00.Fundamentos.Conicas.Rotaciones.ipynb) | Siguiente: [Mecanica](05.00.00.00.Mecanica.ipynb)"
   ]
  }
 ],
 "metadata": {
  "kernelspec": {
   "display_name": "Python 3",
   "language": "python",
   "name": "python3"
  },
  "language_info": {
   "codemirror_mode": {
    "name": "ipython",
    "version": 3
   },
   "file_extension": ".py",
   "mimetype": "text/x-python",
   "name": "python",
   "nbconvert_exporter": "python",
   "pygments_lexer": "ipython3",
   "version": "3.6.8"
  },
  "mybook": {
   "type": "problems:0"
  }
 },
 "nbformat": 4,
 "nbformat_minor": 2
}
