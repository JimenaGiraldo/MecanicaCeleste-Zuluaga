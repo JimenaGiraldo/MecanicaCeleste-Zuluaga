{
 "cells": [
  {
   "cell_type": "markdown",
   "metadata": {
    "tags": [
     "navigation"
    ]
   },
   "source": [
    "[Indice](index.ipynb) | Previo: [Fundamentos.Conicas.Rotaciones](04.02.05.00.Fundamentos.Conicas.Rotaciones.ipynb) | Siguiente: [Mecanica](05.00.00.00.Mecanica.ipynb)"
   ]
  },
  {
   "cell_type": "markdown",
   "metadata": {},
   "source": [
    "## 4.3. Problemas seleccionados\n",
    "<a id='fundamentos_problemas'></a>"
   ]
  },
  {
   "cell_type": "markdown",
   "metadata": {
    "tags": [
     "problem"
    ]
   },
   "source": [
    "1.  **Otra definición de una elipse**. Una elipse se puede definir como el lugar geométrico de los puntos cuya suma de las distancias a dos puntos fijos llamados focos es constante (esto es, en la figura de abajo, que $\\overline{F_1P}+\\overline{F_2P}=\\text{constante}$). A partir de esta definición y de los parámetros descritos en el punto anterior:\n",
    "\n",
    "> a) Muestre que la constante a la que es igual dicha suma es $2a$.\n",
    "\n",
    "> b) Muestre que $a$, $b$ y la *distancia focal* —definida como la distancia entre el centro $C$ de la elipse y cualquiera de sus focos—, $c$, satisfacen el teorema de pitágoras $a^2=b^2+c^2$.\n",
    "\n",
    "> c) Demuestre a partir de esta definición que la ecuación de la elipse horizontal centrada en $C=(0,0)$ es:\n",
    "\n",
    "> $$\n",
    "    \\frac{x^2}{a^2}+\\frac{y^2}{b^2}=1\n",
    "    $$\n",
    "\n",
    "> d) A partir de las relaciones dadas entre $a$, $b$, $e$ y $F$, muestre que $e$ también se puede calcular como $e=c/a$.\n",
    "\n",
    "> e) A partir de la definición conceptual de $p$ dada en el punto 1, muestre que el \\textit{semilatus rectum} también se puede calcular como $p=b^2/a$."
   ]
  },
  {
   "cell_type": "markdown",
   "metadata": {
    "tags": [
     "figure",
     "problem"
    ]
   },
   "source": [
    "<a id='fig:prob:elipse'></a>![Una elipse con algunos puntos resaltados.++t!++0.5++\\label{fig:prob:elipse}](./figures/problems/elipse.png)\n",
    "\n",
    "<center><b>Figura 4.35</b>. Una elipse con algunos puntos resaltados.</center>"
   ]
  },
  {
   "cell_type": "markdown",
   "metadata": {
    "tags": [
     "solution"
    ]
   },
   "source": [
    "1.  **Solución**\n",
    "\n",
    "> a) Dada la Figura 1, por simetría, se puede ver claramente que $\\overline{A_1F_1}=\\overline{A_2F_2}$, por lo que la suma de las distancias de $A_1$ a los focos sería $$\\overline{A_1F_1}+\\overline{A_1F_2}=\\overline{A_2F_2}+\\overline{A_1F_2}=2a.$$\n",
    "\n",
    ">> Dado que, por definición, esa distancia es una costante para cualquier punto, entonces esa constante debe ser igual a $2a$.\n",
    "\n",
    "> b) Si nos paramos, por ejemplo, en el punto $B_2$, ya sabemos que $\\overline{F_1B_2}+\\overline{B_2F_2}=2a$. Pero, por simetría, $\\overline{F_1B_2}=\\overline{B_2F_2}=a$. Se hace claro, entonces, que $$a^2=b^2+c^2.$$\n",
    "\n",
    "> c) Por definición, considerando el punto generalizado de la elipse $P(x,y)$ medido desde $C(0,0)$, tenemos\n",
    "$$\\sqrt{\\left(x+c\\right)^{2}+y^{2}}+\\sqrt{\\left(x-c\\right)^{2}+y^{2}}=2a.$$\n",
    "\n",
    ">> Elevando al cuadrado:\n",
    ">> $$\\left(x+c\\right)^{2}+y^{2}+\\left(x-c\\right)^{2}+y^{2}+2\\sqrt{\\left(x+c\\right)^{2}+y^{2}}\\sqrt{\\left(x-c\\right)^{2}+y^{2}}=4a^{2}.$$\n",
    ">> Expandiendo y organizando:\n",
    ">> $$\\sqrt{\\left(x+c\\right)^{2}+y^{2}}\\sqrt{\\left(x-c\\right)^{2}+y^{2}}=2a^{2}-x^{2}-c^{2}-y^{2}.$$\n",
    ">> Elevando de nuevo al cuadrado:\n",
    ">> $$\\left(x^{2}+2cx+c^{2}+y^{2}\\right)\\left(x^{2}-2cx+c^{2}+y^{2}\\right)=\\left(2a^{2}-x^{2}-c^{2}-y^{2}\\right)^{2}.$$\n",
    ">> Expandiendo y sumando términos semejantes, se llega a \n",
    ">> $$4a^{2}x^{2}+4a^{2}y^{2}-4c^{2}x^{2}=4a^{4}-4a^{2}c^{2}.$$\n",
    ">> Factorizando, obtenemos\n",
    ">> $$\\left(a^{2}-c^{2}\\right)x^{2}+a^{2}y^{2}=a^{2}(a^{2}-c^{2}).$$\n",
    ">> Por el resultado del punto anterior, tenemos que $a^{2}-c^{2}=b^{2}$, por lo que tenemos\n",
    ">> $$b^{2}x^{2}+a^{2}y^{2}=a^{2}b^{2}.$$\n",
    ">> Dividiendo entre $a^{2}b^{2}$:\n",
    ">> $$\\frac{x^{2}}{a^{2}}+\\frac{y^{2}}{b^{2}}=1,$$ \n",
    ">> que era a lo que queríamos llegar.\n",
    "\n",
    "> d) Dado que sabemos que $a$, $b$ y $e$ se pueden relacionar mediante $b=a\\sqrt{1-e^2}$, podemos escribir el teorema de pitágoras como \n",
    ">> $$a^{2}=a^{2}\\left(1-e^{2}\\right)+c^{2}.$$\n",
    ">> Sumando términos semejantes, llegamos a que \n",
    ">> $$e^{2}=\\frac{c^{2}}{a^{2}}.$$\n",
    ">> Debido a que $a$, $b$ y $e$ se definien como reales positivos, obtenemos\n",
    ">> $$e=\\frac{c}{a},$$\n",
    ">> que era lo que queríamos.\n",
    "\n",
    "> e) El semilatus rectum hace parte de un triángulo rectángulo con $F_1$ y $F_2$ como los vértices de la base. Así, por la definición de todos los parámetros geométricos y de elipse como lugar geométrico, podemos escribir la relación\n",
    ">> $$\\left(2a-p\\right)^{2}=\\left(2c\\right)^{2}+p^{2}.$$\n",
    ">> Expandiendo, simplificando y despejando, obtenemos\n",
    ">> $$p=\\frac{a^{2}-c^{2}}{a}.$$\n",
    ">> Pero como $a^{2}-c^{2}=b^{2}$, entonces obtenemos\n",
    ">> $$p=\\frac{b^{2}}{a},$$\n",
    ">> que era lo que queríamos."
   ]
  },
  {
   "cell_type": "markdown",
   "metadata": {
    "tags": [
     "problem"
    ]
   },
   "source": [
    "2.  **Ecuación de una elipse**. Encuentre la ecuación general de la elipse cuyo semilatus rectum valga 9 y excentricidad sea 0.5."
   ]
  },
  {
   "cell_type": "markdown",
   "metadata": {
    "tags": [
     "solution"
    ]
   },
   "source": [
    "2.  **Solución**. Ya hemos demostrado que $p=b^2/a$, $b^2=a^2-c^2$ y $c=ea$. Reemplazando la tercera en la segunda y ésta en la primera, se sigue\n",
    "\n",
    "> $$9a=a^2-0.25a^2.$$\n",
    "\n",
    "> Dado que $a\\neq 0,$ obtenemos $a=12$, $c=6$ y $b=\\sqrt{108}$. Así, la ecuación ordinaria de la elipse sería\n",
    "\n",
    "> $$\\frac{x'^{2}}{144}+\\frac{y'^{2}}{108}=1,$$\n",
    "\n",
    "> que al multiplicar por 432 obtendríamos la ecuación general\n",
    "\n",
    "> $$\\boxed{3x'^2+4y'^2-432=0.}$$"
   ]
  },
  {
   "cell_type": "markdown",
   "metadata": {
    "tags": [
     "problem"
    ]
   },
   "source": [
    "3.  **Parámetros geométricos**. Defina conceptualmente a qué corresponden cada uno de los siguientes parámetros en el caso de una elipse: a) defina $F$, b) defina $e$, c) defina $p$, d) defina $C$, e) defina $a$, f) defina $b$, g) defina $r$, h) defina $f$, i) defina $E$."
   ]
  },
  {
   "cell_type": "markdown",
   "metadata": {
    "tags": [
     "solution"
    ]
   },
   "source": [
    "3.  **Solución**.\n",
    "\n",
    "> a) $F$ corresponde a la distancia entre la directriz de la elipse y su foco. Es una distancia, pero no necesariamente es la \\textit{distancia focal} (depende del sistema coordenado elegido). En el sistema coordenado \"natural\", coincide con la coordenada $x$ del foco como punto del plano. \n",
    "\n",
    "> b) $e$ cooresponde a la excentricidad de la elipse, definida como la razón constante entre la distancia de cualquier punto de la elipse a su foco y la distancia de ese punto a la directriz. Indica qué tan achatada es la elipse. Entre más cercano sea $e$ a 1, más achatada es la elipse. Entre más cercano a 0, más \"circular\" es.\n",
    "\n",
    "> c) $p$ corresponde al semilatus rectum de la elipse, la distancia entre su foco y un punto de la elipse sobre la perpendicular a su eje mayor que pasa por el foco.\n",
    "\n",
    "> d) $C$ corresponde al centro geométrico de la elipse. Puede considerarse una coordenada o una distancia. En el sistema coordenado «natural» corresponde a la coordenada $x$ del centro de la elipse.    "
   ]
  },
  {
   "cell_type": "markdown",
   "metadata": {
    "tags": [
     "solution"
    ]
   },
   "source": [
    "> e) $a$ corresponde al semieje mayor de la elipse. Es la distancia entre el centro geométrico de la elipse y uno de los puntos más alejados de éste.\n",
    "\n",
    "> f) $b$ corresponde al semieje menor de la elipse. Es la distancia entre el centro geométrico de la elipse y uno de los puntos más cercanos a éste.\n",
    "\n",
    "> g) $r$ corresponde a la coordenada radial en coordenadas polares de un punto de la elipse medido desde el foco de la misma.\n",
    "\n",
    "> h) $f$ corresponde a la coordenada angular en coordenadas polares (llamada anomalía verdadera) de un punto de la elipse medido desde el foco como polo y el eje mayor como eje polar.\n",
    "\n",
    "> i) $E$ corresponde a la anomalía excéntrica y es la coordenada angular de un punto de una circunferencia de radio $a$ verticalmente superior al punto sobre la elipse con anomalía verdadera $f$."
   ]
  },
  {
   "cell_type": "markdown",
   "metadata": {
    "tags": [
     "problem"
    ]
   },
   "source": [
    "4.  **Traslación de las cónicas.** A partir de una completación de cuadrados, demuestre que la ecuación general de las cónicas sin términos acoplados\n",
    "\n",
    "> $$Ax^2+Cy^2+Dx+Ey+G=0$$ \n",
    "\n",
    "> con $A,C\\neq 0$ se puede escribir, en su forma ordinaria, como \n",
    "\n",
    "> $$\\frac{x'^2}{q}+\\frac{y'^2}{t}=1,$$ \n",
    "\n",
    "> donde $x'$ y $y'$ son las coordenadas de un punto en el sistema trasladado dadas por \n",
    "\n",
    "> $$x' = x+\\frac{D}{2A},$$\n",
    "> $$y' = y+\\frac{E}{2C}$$ \n",
    "\n",
    "> y $q,t$ están dadas por\n",
    "\n",
    "> $$q\t= -\\frac{G}{A}+\\frac{D^{2}}{4A^{2}}+\\frac{E^{2}}{4AC},$$\n",
    "> $$t\t= -\\frac{G}{C}+\\frac{D^{2}}{4AC}+\\frac{E^{2}}{4C^{2}}.$$ \n",
    "\n",
    "> ¿Qué condiciones se deben dar para que dicha cónica sea una circunferencia, una elipse o una hipérbola? Dé un ejemplo numérico sencillo de cada una.\n"
   ]
  },
  {
   "cell_type": "markdown",
   "metadata": {
    "tags": [
     "solution"
    ]
   },
   "source": [
    "4.  **Solución**.\n",
    "\n",
    "> Tomando la ecuación y sacando factor «común» $A$ para los términos con $x$ y $B$ para los términos con $y$, se tiene\n",
    "\n",
    "> $$A\\left(x^{2}+\\frac{D}{A}x\\right)+C\\left(y^{2}+\\frac{E}{C}y\\right)=-G.$$\n",
    "\n",
    "> Sumando a ambos lados de la ecuación los términos $D^{2}/4A$ y $E^{2}/4C$ convenientemente, se sigue que \n",
    "\n",
    "> $$A\\left(x^{2}+\\frac{D}{A}x+\\frac{D^{2}}{4A^{2}}\\right)+C\\left(y^{2}+\\frac{E}{C}y+\\frac{E^{2}}{4C^{2}}\\right)=-G+\\frac{D^{2}}{4A}+\\frac{E^{2}}{4C}.$$\n",
    "\n",
    "> Factorizando los trinomios cuadrado perfecto y dividiendo la ecuación por todo el lado derecho, obtenemos\n",
    "\n",
    "> $$\\frac{\\left(x+\\frac{D}{2A}\\right)^{2}}{-\\frac{G}{A}+\\frac{D^{2}}{4A^{2}}+\\frac{E^{2}}{4AC}}+\\frac{\\left(y+\\frac{E}{2C}\\right)^{2}}{-\\frac{G}{C}+\\frac{C^{2}}{4AC}+\\frac{E^{2}}{4C^{2}}}=1.$$\n",
    "\n",
    "> Haciendo \n",
    "\n",
    ">$$x' = x+\\frac{D}{2A},$$\n",
    ">$$y' = y+\\frac{E}{2C},$$ \n",
    ">$$q\t= -\\frac{G}{A}+\\frac{D^{2}}{4A^{2}}+\\frac{E^{2}}{4AC},$$\n",
    ">$$t\t= -\\frac{G}{C}+\\frac{D^{2}}{4AC}+\\frac{E^{2}}{4C^{2}},$$\n",
    "\n",
    ">tenemos la ecuación de la cónica en su forma ordinaria pedida. Para que esta cónica sea una circunferencia, debe suceder que $q=t$ y que $q,t>0$; para que sea una elipse, debe suceder que $q\\neq t$ y que $q,t>0$; y para que sea una hipérbola, debe suceder que $q>0$ y $t<0$ o viceversa. Nótese que $t=\\frac{C}{A}q$, lo que significa que la ecuación pertenece a una circunferencia, también, cuando $A=C$; a una elipse cuando $A\\neq C$ pero $A,C>0$; y a una hipérbola cuando $A>0$ y $C<0$ o viceversa. Un ejemplo sencilla de cada una, en orden, sería\n",
    "\n",
    ">$$x'^{2}+y'^{2}=1,\\qquad\\frac{x'^{2}}{2}+y'^{2}=1,\\qquad x'^{2}-y'^{2}=1.$$"
   ]
  },
  {
   "cell_type": "markdown",
   "metadata": {
    "tags": [
     "problem"
    ]
   },
   "source": [
    "5.  **Rotación de cónicas.** A partir de la ecuación general de la cónica con términos acoplados\n",
    "\n",
    "> $$Ax^2 + Bxy + Cy^2 + Dx + Ey + G = 0$$\n",
    "\n",
    "> aplique una rotación de la forma\n",
    "\n",
    "> $$x  =  x' \\cos\\theta - y' \\sin\\theta $$\n",
    "> $$y  =  x' \\sin\\theta + y' \\cos\\theta $$\n",
    "\n",
    "> y demuestre que si se rota el sistema de coordenadas original un ángulo $\\theta$ que satisface\n",
    "\n",
    "> $$\\tan 2\\theta = \\frac{B}{A-C},$$\n",
    "\n",
    "> los nuevos ejes estarán alineados con los ejes de simetría. "
   ]
  },
  {
   "cell_type": "markdown",
   "metadata": {
    "tags": [
     "solution"
    ]
   },
   "source": [
    "5.  **Solución**\n",
    "\n",
    "> Al aplicar la rotación:\n",
    "\n",
    "> \\begin{eqnarray*}\n",
    "A\\left(x'\\cos\\theta-y'\\sin\\theta\\right)^{2}+B\\left(x'\\cos\\theta-y'\\sin\\theta\\right)\\left(x'\\sin\\theta+y'\\cos\\theta\\right)+C\\left(x'\\sin\\theta+y'\\cos\\theta\\right)^{2}\\\\\n",
    "+D\\left(x'\\cos\\theta-y'\\sin\\theta\\right)+E\\left(x'\\sin\\theta+y'\\cos\\theta\\right)+G=0.\n",
    "\\end{eqnarray*}\n",
    "\n",
    "> Para que los nuevos ejes estén alineados con los ejes de simetría, es necesario que los términos acoplados se anulen. Esto es, al expandir, que suceda que\n",
    "\n",
    "> $$-2Ax'y'\\cos\\theta\\sin\\theta+Bx'y'\\cos^{2}\\theta-Bx'y'\\sin^{2}\\theta+2Cx'y'\\sin\\theta\\cos\\theta=0.$$\n",
    "\n",
    "> Dado que $\\cos^{2}\\theta-\\sin^{2}\\theta=\\cos 2\\theta$ y $2\\sin\\theta\\cos\\theta=\\sin 2\\theta$, la condición se reduce a que \n",
    "\n",
    "> $$-\\sin2\\theta\\left(A-C\\right)+B\\cos2\\theta=0\\qquad\\Longrightarrow\\qquad\\tan2\\theta=\\frac{B}{A-C},$$\n",
    "\n",
    "> que era lo que queríamos demostrar."
   ]
  },
  {
   "cell_type": "markdown",
   "metadata": {
    "tags": [
     "problem"
    ]
   },
   "source": [
    "6.  **Órbitas de cometas.** El semieje mayor de un cometa es de 20 AU y la distancia entre el foco y el perihelio es de 1 AU. \n",
    "\n",
    "> a) ¿Cuál es la excentricidad de la órbita?\n",
    "\n",
    "> b) ¿Cuánto vale el semieje menor?\n",
    "\n",
    "> c) ¿Cuánto vale el semilatus rectum?\n",
    "\n",
    "> d) Escriba la ecuación de este cometa en coordenadas polares.\n",
    "\n",
    "> e) Haga un bosquejo de la situación medianamente a escala."
   ]
  },
  {
   "cell_type": "markdown",
   "metadata": {
    "tags": [
     "solution"
    ]
   },
   "source": [
    "6.  **Solución**\n",
    "\n",
    "> a) Claramente, la distancia entre el foco y el perihelio debe ser $r_1=a-c.$ Dado que $r_1=1$ AU y que $a=20$ AU, entonces $c=19$ AU y, por lo tanto, $\\boxed{e=c/a=19/20=0.95}$.\n",
    "\n",
    "> b) Dado que $a^2=b^2+c^2$, entonces $\\boxed{b=\\sqrt{39}=6.2\\text{ AU}}$.\n",
    "\n",
    "> c) Dado que $p=b^2/a$, entonces $\\boxed{p=39/20=1.9\\text{ AU}}$.\n",
    "\n",
    "> d) La ecuación de la órbita de este cometa en coordenadas polares sería de la forma\n",
    "$$\\boxed{r=\\frac{39/20\\mbox{ AU}}{1+\\frac{19}{20}\\cos f}=\\frac{1.9\\mbox{ AU}}{1+0.95\\cos f}}$$"
   ]
  },
  {
   "cell_type": "markdown",
   "metadata": {
    "tags": [
     "problem"
    ]
   },
   "source": [
    "7.  **Órbita lunar.** Sobre una órbita lunar, el punto más cercano al satélite se conoce como periselenio y el más lejano como aposelenio. La nave Apolo 11 fue puesta en una órbita elíptica alrededor de la luna con una altitud (respecto a la superficie lunar) en el periselenio de 110 km y de 314 km en el aposelenio. Encuentre la ecuación de esta elipse en coordenadas polares si el radio de la luna es de 1728 km y el centro de la luna se encuentra en uno de los focos de la elipse. Haga un bosquejo de la situación medianamente a escala."
   ]
  },
  {
   "cell_type": "markdown",
   "metadata": {
    "tags": [
     "solution"
    ]
   },
   "source": [
    "7.  **Solución** \n",
    "\n",
    "> En primer lugar, sabemos que la distancia entre el periselenio y el aposelenio debe ser 2 veces el semieje mayor de la órbita del satélite. Así\n",
    "\n",
    "> $$a=\\frac{110+2\\times 1728+314}{2} \\mbox{ km}=1940\\mbox{ km}.$$\n",
    "\n",
    "> Además, la distancia entre el centro de la luna (foco) y el periselenio es, como ya se había dicho, $a-c=1728\\mbox{ km}+110\\mbox{ km}$, por lo que $c=102\\mbox{ km}$. Así, $e=c/a=0.053$, $b^2=a^2-c^2=3753196\\mbox{ km}^\\text{o}$ y $p=b^2/a=1935$ km. Y, por lo tanto, la ecuación de esta elipse en coordenadas polares sería\n",
    "\n",
    "> $$\\boxed{r=\\frac{1935\\mbox{ km}}{1+0.053\\cos f}.}$$"
   ]
  },
  {
   "cell_type": "markdown",
   "metadata": {
    "tags": [
     "problem"
    ]
   },
   "source": [
    "8.  **Anomalías.**\n",
    "\n",
    "> a) Demuestre que, para una elipse, la distancia radial, $r$, está relacionada con la anomalía excéntrica, $E$, por medio de la expresión\n",
    "  \n",
    "> $$\n",
    "r=a(1 - e\\cos E).\n",
    "$$\n",
    "\n",
    "> b) Demuestre, además, que la anomalía verdadera se relaciona con la anomalía excéntrica a través de \n",
    "  \n",
    "> $$\n",
    "\\tan \\frac{f}{2} = \\sqrt{\\frac{1+e}{1-e}}\\tan \\frac{E}{2}.\n",
    "$$"
   ]
  },
  {
   "cell_type": "markdown",
   "metadata": {
    "tags": [
     "solution"
    ]
   },
   "source": [
    "8.  **Solución**\n",
    "\n",
    "> a) Si definimos la elipse como el lugar geométrico de los puntos tal que están a una distancia del eje $x$ en proporción $b/a$ de la distancia de los puntos de una circunferencia de radio $a$ que se muestra en la Figura \\ref{anomalia-excentrica}, entonces \n",
    "\n",
    "> $$\\frac{\\overline{PD}}{\\overline{QD}} = \\frac{b}{a}$$\n",
    "\n",
    "> Si usamos el teorema de Pitágoras para relacionar $r$ con los distintos segmentos de la figura obtenemos\n",
    "> $$\n",
    "r^2 = (\\overline{DF})^2 + (\\overline{PD})^2 = (\\overline{CF}-\\overline{CD})^2 + \\left(\\frac{b}{a}\\overline{QD}\\right)^2\n",
    "$$\n",
    "\n",
    "> Por la geometría de la elipse sabemos sin embargo que $\\overline{CD}=a\\cos E$, $\\overline{QD}=a\\sin E$ y que la distancia focal $\\overline{CF}=ea$. Así,\n",
    "\n",
    "> \\begin{eqnarray*}\n",
    "r^{2}&=&(ea-a\\cos E)^{2}+\\left(\\frac{b}{a}a\\sin E\\right)^{2}\\\\\\mbox{expandiendo }\\rightarrow&=&e^{2}a^{2}-2ea^{2}\\cos E+a^{2}\\cos^{2}E+b^{2}\\sin^{2}E\\\\\\sin^{2}E=1-\\cos^{2}E\\rightarrow&=&e^{2}a^{2}-2ea^{2}\\cos E+a^{2}\\cos^{2}E+b^{2}-b^{2}\\cos^{2}E\\\\\\mbox{agrupando }\\rightarrow&=&\\left(e^{2}a^{2}+b^{2}\\right)-2ea^{2}\\cos E+\\left(a^{2}-b^{2}\\right)\\cos^{2}E\\\\c=e/a\\mbox{ y }a^{2}=b^{2}+c^{2}\\rightarrow&=&a^{2}-2ea^{2}\\cos E+e^{2}a^{2}\\cos^{2}E\\\\\\mbox{factorizando }\\rightarrow&=&a^{2}\\left(1-e\\cos E\\right)^{2}\\\\r&=&a\\left(1-e\\cos E\\right).\n",
    "\\end{eqnarray*}\n",
    "\n",
    "> b) Primero, nótese que para cualquier ángulo $\\theta$ se satisface la identidad\n",
    "\n",
    "> $$\\tan\\left(\\frac{\\theta}{2}\\right)=\\frac{\\sin(\\theta/2)}{\\cos(\\theta/2)}=\\frac{\\sqrt{\\frac{1-\\cos\\theta}{2}}}{\\sqrt{\\frac{1+\\cos\\theta}{2}}}=\\sqrt{\\frac{1-\\cos\\theta}{1+\\cos\\theta}\\times1}=\\sqrt{\\frac{1-\\cos\\theta}{1+\\cos\\theta}\\times\\frac{1+\\cos\\theta}{1+\\cos\\theta}}=\\sqrt{\\frac{1-\\cos^{2}\\theta}{\\left(1+\\cos\\theta\\right)^{2}}}=\\sqrt{\\frac{\\sin^{2}\\theta}{\\left(1+\\cos\\theta\\right)^{2}}}=\\frac{\\sin\\theta}{1+\\cos\\theta},$$\n",
    "\n",
    "> por lo que, entonces, \n",
    "\n",
    "> $$\\tan\\frac{f}{2}=\\frac{\\sin f}{1+\\cos f}.$$\n",
    "\n",
    "> Se puede ver que $\\sin{f}=\\overline{PD}/r$ y que $\\cos{f}=(a\\cos{E}-ae)/r$, por lo que \n",
    "\n",
    "> $$\\tan\\frac{f}{2}=\\frac{\\overline{PD}}{r+a\\cos E-ae}.$$\n",
    "\n",
    "> Debido a que tenemos que $\\overline{PD}=b\\sin E$, $r=a\\left(1-e\\cos E\\right)$ y que $b=a\\sqrt{1-e^{2}}$, entonces, factorizando y racionalizando, se obtiene\n",
    "\n",
    "> $$\\tan\\frac{f}{2}=\\sqrt{\\frac{1+e}{1-e}}\\frac{\\sin E}{1+\\cos E}.$$\n",
    "\n",
    "> Pero como \n",
    "> $$\\frac{\\sin E}{1+\\cos E}=\\tan\\frac{E}{2},$$\n",
    "> entonces\n",
    ">$$\\tan\\frac{f}{2}=\\sqrt{\\frac{1+e}{1-e}}\\tan\\frac{E}{2}.$$"
   ]
  },
  {
   "cell_type": "markdown",
   "metadata": {
    "tags": [
     "problem"
    ]
   },
   "source": [
    "9.  **Parámetros de elipse**. Dada la ecuación de la elipse $x^2 + 2y^2 + 2x + y - 6 = 0$ complete cuadrados y llévela a su forma ordinaria, para determina la posición del centro, el semieje mayor, semieje menor, distancia focal y semilatus rectum."
   ]
  },
  {
   "cell_type": "markdown",
   "metadata": {
    "tags": [
     "solution"
    ]
   },
   "source": [
    "9.  **Solución**\n",
    "\n",
    "> Agrupemos las $x$ y las $y$:\n",
    "\n",
    "> $$\\left(x^{2}+2x\\right)+2\\left(y^{2}+\\frac{y}{2}\\right)=6.$$\n",
    "\n",
    "> Completemos cuadrados:\n",
    "\n",
    "> $$\\left(x^{2}+2x+1\\right)+2\\left(y^{2}+\\frac{y}{2}+\\frac{1}{16}\\right)=6+1+\\frac{1}{8}.$$\n",
    "\n",
    "> Factoricemos y dividamos ambos lados entre 57/8:\n",
    "\n",
    "> $$\\boxed{\\frac{\\left(x+1\\right)^{2}}{57/8}+\\frac{\\left(y+\\frac{1}{4}\\right)^{2}}{57/16}=1.}$$\n",
    "\n",
    "> Tenemos, entonces, que el centro de la elipse es el punto $\\boxed{C(-1,-1/4)}$, los semiejes mayor y menores son $\\boxed{a=\\sqrt{57/8}=2.7}$ y $\\boxed{b=\\sqrt{57/16}=1.9}$, la distancia focal es $\\boxed{c=\\sqrt[]{a^2-b^2}=b}$ y el semilatus rectum es $\\boxed{p=b^2/a=1.3}$. Grafiquemos:"
   ]
  },
  {
   "cell_type": "markdown",
   "metadata": {
    "tags": [
     "problem"
    ]
   },
   "source": [
    "10.  **Elementos orbitales.** Para un satélite en órbita alrededor de la Tierra se tienen los siguientes elementos orbitales: $a=8016.0\\mbox{ km}$, $e=0.06$, $I=50^\\text{o}$, $\\Omega=0.0^\\text{o}$, $\\omega=30^\\text{o}$ y $f=20^\\text{o}$. Encuentre el vector de posición en el plano fundamental del ecuador terrestre."
   ]
  },
  {
   "cell_type": "markdown",
   "metadata": {
    "tags": [
     "solution"
    ]
   },
   "source": [
    "10.  **Solución**\n",
    "\n",
    "> Es claro que, en el plano de la órbita del satélite, se satisface $z'''=0$ y que\n",
    "$$r=\\frac{a\\left(1-e^{2}\\right)}{1+e\\cos f}\\qquad\\Longrightarrow\\qquad x'''=r\\cos f\\quad\\mbox{y}\\quad y'''=r\\sin f.$$"
   ]
  },
  {
   "cell_type": "code",
   "execution_count": 8,
   "metadata": {
    "codelabel": "",
    "codeplot": 0,
    "tags": [
     "code",
     "solution"
    ]
   },
   "outputs": [
    {
     "name": "stdout",
     "output_type": "stream",
     "text": [
      "El vector posición en el plano orbital es, en km,\n",
      " [[7104.87486548]\n",
      " [2585.96296922]\n",
      " [   0.        ]]\n"
     ]
    }
   ],
   "source": [
    "import numpy as np\n",
    "GRADOS=np.pi/180\n",
    "a = 8016.\n",
    "e = 0.06\n",
    "f = 20*GRADOS\n",
    "\n",
    "r = a*(1-e*e)/(1+e*np.cos(f))\n",
    "xppp = r*np.cos(f)\n",
    "yppp = r*np.sin(f)\n",
    "zppp = 0\n",
    "rppp=np.array([[xppp], [yppp], [zppp]])\n",
    "print('El vector posición en el plano orbital es, en km,\\n',rppp)"
   ]
  },
  {
   "cell_type": "markdown",
   "metadata": {
    "tags": [
     "solution"
    ]
   },
   "source": [
    "> Recordemos que `SPICE` tiene una rutina predefinida para calcular una matriz de rotación a partir de tres ángulos de Euler: `eul2m`. Usándo la matriz para pasar del sistema no primado al primado quedaría:"
   ]
  },
  {
   "cell_type": "code",
   "execution_count": 10,
   "metadata": {
    "codelabel": "",
    "codeplot": 0,
    "tags": [
     "code",
     "solution"
    ]
   },
   "outputs": [
    {
     "data": {
      "text/plain": [
       "array([[ 0.8660254 ,  0.3213938 ,  0.38302222],\n",
       "       [-0.5       ,  0.5566704 ,  0.66341395],\n",
       "       [ 0.        , -0.76604444,  0.64278761]])"
      ]
     },
     "execution_count": 10,
     "metadata": {},
     "output_type": "execute_result"
    }
   ],
   "source": [
    "import spiceypy as spy\n",
    "i = 50*GRADOS\n",
    "Omega = 0*GRADOS\n",
    "omega = 30*GRADOS\n",
    "\n",
    "R3d=spy.eul2m(omega,i,Omega,3,1,3)\n",
    "R3d"
   ]
  },
  {
   "cell_type": "markdown",
   "metadata": {
    "tags": [
     "solution"
    ]
   },
   "source": [
    "Pero queremos pasar del sistema primado al no primado, entonces sacamos la inversa (o traspuesta, que es lo mismo para matrices de rotación):"
   ]
  },
  {
   "cell_type": "code",
   "execution_count": 11,
   "metadata": {
    "codelabel": "",
    "codeplot": 0,
    "tags": [
     "code",
     "solution"
    ]
   },
   "outputs": [
    {
     "data": {
      "text/plain": [
       "array([[ 0.8660254 , -0.5       ,  0.        ],\n",
       "       [ 0.3213938 ,  0.5566704 , -0.76604444],\n",
       "       [ 0.38302222,  0.66341395,  0.64278761]])"
      ]
     },
     "execution_count": 11,
     "metadata": {},
     "output_type": "execute_result"
    }
   ],
   "source": [
    "R3D = np.transpose(R3d) \n",
    "R3D"
   ]
  },
  {
   "cell_type": "markdown",
   "metadata": {
    "tags": [
     "solution"
    ]
   },
   "source": [
    "Así, el vector posición está dado por"
   ]
  },
  {
   "cell_type": "code",
   "execution_count": 12,
   "metadata": {
    "codelabel": "",
    "codeplot": 0,
    "scrolled": true,
    "tags": [
     "code",
     "solution"
    ]
   },
   "outputs": [
    {
     "data": {
      "text/plain": [
       "array([[4860.02063961],\n",
       "       [3722.99180441],\n",
       "       [4436.88885811]])"
      ]
     },
     "execution_count": 12,
     "metadata": {},
     "output_type": "execute_result"
    }
   ],
   "source": [
    "R3D.dot(rppp)"
   ]
  },
  {
   "cell_type": "markdown",
   "metadata": {
    "tags": [
     "problem"
    ]
   },
   "source": [
    "11.  **Circunferencia máxima.** La posición de un punto sobre la Tierra se especifica por su longitud $\\phi$ y latitud $\\lambda$, como se muestra en la Figura ([prob:latlon](#fig:prob:latlon)).\n",
    "\n",
    "> Sean los vectores desde el centro de la Tierra hacia dos puntos $\\vec{r}_{1}$ y $\\vec{r}_{2}$. El coseno del ángulo $\\theta$ entre ellos puede ser hallado a partir de su producto escalar (producto punto), de tal manera que la \n",
    "distancia a lo largo del círculo máximo entre los dos puntos es $R\\theta$.\n",
    "\n",
    "> Encuentre una expresión para $\\theta$ en términos de las coordenadas de los dos puntos. "
   ]
  },
  {
   "cell_type": "markdown",
   "metadata": {
    "tags": [
     "figure",
     "problem"
    ]
   },
   "source": [
    "<a id='fig:prob:latlon'></a>![Definición de elas coordenadas de latitud y longitud sobre la Tierra++t!++0.5++\\label{fig:prob:latlon}](./figures/problems/earth.png)\n",
    "\n",
    "<center><b>Figura 4.36</b>. Definición de elas coordenadas de latitud y longitud sobre la Tierra</center>"
   ]
  },
  {
   "cell_type": "markdown",
   "metadata": {
    "tags": [
     "solution"
    ]
   },
   "source": [
    "11.  **Solución**\n",
    "\n",
    "> El vector posición $\\vec{r}_i$ sobre la superficie de la Tierra tendrá coordenadas cartesianas $x_i=R\\cos\\lambda_i\\cos\\phi_i$, $y_i=R\\cos\\lambda_i\\sin\\phi_i$ y $z_i=R\\sin\\lambda_i$. Así, el producto punto entre $\\vec{r}_1$ y $\\vec{r}_2$ se puede calcular como $R^2\\cos\\theta$ y, a la vez, como la suma de los productos de las componentes $x_1x_2+y_1y_2+z_1z_2$, de tal forma que \n",
    "\n",
    "> $$R^2\\cos\\theta=R^2(\\cos\\lambda_1\\cos\\phi_1\\cos\\lambda_2\\cos\\phi_2+\\cos\\lambda_1\\sin\\phi_1\\cos\\lambda_2\\sin\\phi_2+\\sin\\lambda_1\\sin\\lambda_2).$$\n",
    "\n",
    "> Sacando factor común $\\cos\\lambda_1\\cos\\lambda_2$ en los primeros dos términos y teniendo en cuenta la identidad $\\cos\\phi_1\\cos\\phi_2+\\sin\\phi_1\\sin\\phi_2=\\cos(\\phi_1-\\phi_2)$, obtenemos la expresión para $\\theta$ pedida:\n",
    "\n",
    "> $$\\boxed{\\theta=\\arccos(\\cos\\lambda_1\\cos\\lambda_2\\cos(\\phi_1-\\phi_2)+\\sin\\lambda_1\\sin\\lambda_2)}$$"
   ]
  },
  {
   "cell_type": "markdown",
   "metadata": {
    "tags": [
     "problem"
    ]
   },
   "source": [
    "12.  **Derivada temporal de los vectores unitarios.** La figura muestra la  configuración de un sistema de coordenadas polares definido por ($\\hat{r},\\hat{\\theta}$) relativo a un sistema cartesiano. Los conjuntos de vectores ($\\hat{r},\\hat{\\theta}$) y ($\\hat{i},\\hat{j}$) son constantes en magnitud pero solamente los vectores cartesianos lo son también en dirección. Conforme la partícula de vector posición $\\vec{r}$ se desplaza, los vectores ($\\hat{r},\\hat{\\theta}$) cambian de dirección, de forma tal que es posible definir una derivada temporal de estos.\n",
    "\n",
    "\n",
    "> a) Muestre que \n",
    " \n",
    "> $$\n",
    "   \\frac{d\\hat{r}}{dt} = \\dot{\\theta}\\hat{\\theta}\n",
    "   $$\n",
    "   \n",
    "> $$\n",
    "   \\frac{d\\hat{\\theta}}{dt} = -\\dot{\\theta}\\hat{r}\n",
    "   $$\n",
    "   \n",
    "> b) Usando los resultados del punto anterior, muestre que el vector aceleración en coordenadas polares viene dado por\n",
    "  \n",
    "> $$\n",
    "   \\vec{a}=(\\ddot{r}-r\\dot{\\theta}^2)\\hat{r} + (r\\ddot{\\theta}+2\\dot{r}\\dot{\\theta})\\hat{\\theta}\n",
    "  $$"
   ]
  },
  {
   "cell_type": "markdown",
   "metadata": {
    "tags": [
     "solution"
    ]
   },
   "source": [
    "12.  **Solución**\n",
    "\n",
    "> En primer lugar, se puede ver claramente de la figura dada que el vector unitario $\\hat{r}$ se puede escribir como una suma de $\\cos\\theta$ en $\\hat{i}$ y de $\\sin\\theta$ en $\\hat{j}$, al igual que el vector unitario $\\hat{\\theta}$ se puede escribir como una suma de $-\\sin\\theta$ en $\\hat{i}$ y de $\\cos\\theta$ en $\\hat{j}$. \n",
    "\n",
    "> a. Así,\n",
    "\n",
    ">> $$\\frac{\\mathrm{d}\\hat{r}}{\\mathrm{d}t}=\\frac{\\mathrm{d}}{\\mathrm{d}t}(\\cos\\theta \\hat{i}+\\sin\\theta\\hat{j})$$\n",
    "\n",
    ">> Pero como $\\mathrm{d}(\\sin\\theta)/\\mathrm{d}t=\\dot{\\theta}\\cos\\theta$, $\\mathrm{d}(\\cos\\theta)/\\mathrm{d}t=-\\dot{\\theta}\\sin\\theta$ y los vecotres unitarios $\\hat{i}$ y $\\hat{j}$ no cambian en el tiempo, entonces\n",
    ">> $$\\frac{\\mathrm{d}\\hat{r}}{\\mathrm{d}t}=-\\dot{\\theta}\\sin\\theta \\hat{i}+\\dot{\\theta}\\cos\\theta\\hat{j}=\\dot{\\theta}\\hat{\\theta}$$\n",
    "\n",
    ">> De igual forma, \n",
    "\n",
    ">> $$\\frac{\\mathrm{d}\\hat{\\theta}}{\\mathrm{d}t}=\\frac{\\mathrm{d}}{\\mathrm{d}t}(-\\sin\\theta \\hat{i}+\\cos\\theta\\hat{j})=-\\dot{\\theta}\\cos\\theta \\hat{i}-\\dot{\\theta}\\sin\\theta\\hat{j}=-\\dot{\\theta}\\hat{r}$$\n",
    "\n",
    "> b. Dado que $\\vec{r}=r\\hat{r}$, entonces\n",
    "\n",
    ">> $$\\dot{\\vec{r}}=\\dot{r}\\hat{r}+r\\frac{\\mathrm{d}\\hat{r}}{\\mathrm{d}t}=\\dot{r}\\hat{r}+r\\dot{\\theta}\\hat{\\theta}$$\n",
    "\n",
    ">> Y por lo tanto\n",
    "\n",
    ">> $$\\ddot{\\vec{r}}=\\ddot{r}\\hat{r}+\\dot{r}\\dot{\\theta}\\hat{\\theta}+\\dot{r}\\dot{\\theta}\\hat{\\theta}+r\\ddot{\\theta}\\hat{\\theta}-r\\dot{\\theta}^2\\hat{r}$$\n",
    "\n",
    ">> Agrupando,\n",
    "\n",
    ">> $$\\ddot{\\vec{r}}=(\\ddot{r}-r\\dot{\\theta}^2)\\hat{r}+(2\\dot{r}\\dot{\\theta}+r\\ddot{\\theta})\\hat{\\theta}$$\n",
    "\n",
    "> c. Volviendo a derivar:\n",
    "\n",
    ">> $$\\dddot{\\vec{r}}=\\dddot{r}\\hat{r}+\\ddot{r}\\dot{\\theta}\\hat{\\theta}+2\\ddot{r}\\dot{\\theta}\\hat{\\theta}+2\\dot{r}\\ddot{\\theta}\\hat{\\theta}-2\\dot{r}\\dot{\\theta}^2\\hat{r}+\\dot{r}\\ddot{\\theta}\\hat{\\theta}+r\\dddot{\\theta}\\hat{\\theta}-r\\ddot{\\theta}\\dot{\\theta}\\hat{r}-\\dot{r}\\dot{\\theta}^2\\hat{r}-2r\\dot{\\theta}\\ddot{\\theta}\\hat{r}-r\\dot{\\theta}^3\\hat{\\theta}$$\n",
    "\n",
    ">> Agrupando,\n",
    ">> $$\\dddot{\\vec{r}}=(\\dddot{r}-3\\dot{r}\\dot{\\theta}^2-3r\\dot{\\theta}\\ddot{\\theta})\\hat{r}+(3\\ddot{r}\\dot{\\theta}+3\\dot{r}\\ddot{\\theta}+r\\dddot{\\theta}-r\\dot{\\theta}^3)\\hat{\\theta}$$\n",
    "En el caso de una partícula moviéndose en una circunferencia de radio $R$ ($r=R$, $\\dot{r}=\\ddot{r}=\\dddot{r}=0$) con rapidez angular $\\omega$ ($\\dot{\\theta}=\\omega$, $\\ddot{\\theta}=\\dddot{\\theta}=0$), el tirón sería\n",
    "$$\\dddot{\\vec{r}}=-R\\omega^3\\hat{\\theta}$$"
   ]
  },
  {
   "cell_type": "markdown",
   "metadata": {
    "tags": [
     "navigation"
    ]
   },
   "source": [
    "[Indice](index.ipynb) | Previo: [Fundamentos.Conicas.Rotaciones](04.02.05.00.Fundamentos.Conicas.Rotaciones.ipynb) | Siguiente: [Mecanica](05.00.00.00.Mecanica.ipynb)"
   ]
  }
 ],
 "metadata": {
  "kernelspec": {
   "display_name": "Python 3",
   "language": "python",
   "name": "python3"
  },
  "language_info": {
   "codemirror_mode": {
    "name": "ipython",
    "version": 3
   },
   "file_extension": ".py",
   "mimetype": "text/x-python",
   "name": "python",
   "nbconvert_exporter": "python",
   "pygments_lexer": "ipython3",
   "version": "3.6.8"
  },
  "mybook": {
   "type": "problems:1"
  }
 },
 "nbformat": 4,
 "nbformat_minor": 2
}
