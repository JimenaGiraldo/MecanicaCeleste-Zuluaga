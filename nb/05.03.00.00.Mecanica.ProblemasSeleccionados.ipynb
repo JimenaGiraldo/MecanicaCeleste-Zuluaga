{
 "cells": [
  {
   "cell_type": "markdown",
   "metadata": {
    "tags": [
     "navigation"
    ]
   },
   "source": [
    "[Indice](index.ipynb) | Previo: [Mecanica.SistemasNoInerciales.Numerico](05.03.01.00.Mecanica.SistemasNoInerciales.Numerico.ipynb) | Siguiente: [ProblemaNCuerpos](06.00.00.00.ProblemaNCuerpos.ipynb)"
   ]
  },
  {
   "cell_type": "markdown",
   "metadata": {},
   "source": [
    "## 5.5. Problemas seleccionados\n",
    "<a id='mecanica_problemas'></a>"
   ]
  },
  {
   "cell_type": "markdown",
   "metadata": {
    "tags": [
     "problem"
    ]
   },
   "source": [
    "1.  **Leyes de conservación.**\n",
    "\n",
    "> a) Demuestre que si la fuerza externa sobre un sistema de partículas es 0, entonces el momentum total del sistema se conserva.\n",
    "\n",
    "> b) Demuestre que si el torque externo sobre un sistema de partículas es 0, entonces el momentum angular total del sistema se conserva."
   ]
  },
  {
   "cell_type": "markdown",
   "metadata": {
    "tags": [
     "problem"
    ]
   },
   "source": [
    "2.  **Lanzamiento de un proyectil.** Un proyectil de masa $m$ es disparado desde la superficie de la Tierra bajo un ángulo $\\alpha$ desde la vertical como se muestra en la figura. La velocidad inicial $v_0$ es igual\n",
    "a $\\sqrt[]{GM_e/R_e}$, donde $M_e$ es la masa de la Tierra y $R_e$ es su radio. ¿Qué tan alto sube el proyectil? Desprecie el aire\n",
    "resistencia y la rotación de la Tierra. (*Ayuda*: determine qué cantidades se conservan —¡explique claramente porqué!— y aplique las leyes de conservación de dichas cantidades. En algún momento de su procedimiento es posible que encuentre dos posibles valores matemáticos para $r_{max}$; los dos parecen físicamente aceptables, así que explique claramente porqué solo debe escoger uno y en qué consiste el otro.)"
   ]
  },
  {
   "cell_type": "markdown",
   "metadata": {
    "tags": [
     "figure",
     "problem"
    ]
   },
   "source": [
    "<a id='fig:prob:lanzamiento_proyectil'></a>![Geometría del lanzamiento de un proyectil desde la superficie de una Tierra en rotación.++t!++0.5++\\label{fig:prob:lanzamiento_proyectil}](./figures/problems/proyectil.png)\n",
    "\n",
    "<center><b>Figura 5.59</b>. Geometría del lanzamiento de un proyectil desde la superficie de una Tierra en rotación.</center>"
   ]
  },
  {
   "cell_type": "markdown",
   "metadata": {
    "tags": [
     "problem"
    ]
   },
   "source": [
    "3.  **Péndulo de Foucault.** Considere un péndulo de masa $m$ que se balancea con frecuencia $\\gamma=\\sqrt[]{g/l}$, donde $l$ es la longitud del péndulo. Demuestre que el plano en el que se mueve el péndulo gira en dirección de las manecillas del reloj y tarda un tiempo \n",
    "\n",
    "> $$T=\\frac{2\\pi}{\\Omega \\sin\\phi}$$\n",
    "> en dar una vuelta, donde $\\Omega$ es la rapidez angular de rotación de la Tierra y $\\phi$ la latitud del lugar en donde está el péndulo. ¿Cuánto tarda el plano del péndulo en dar una vuelta en el Polo Norte? ¿En París? ¿En Medellín? ¿Y en el Ecuador?"
   ]
  },
  {
   "cell_type": "markdown",
   "metadata": {
    "tags": [
     "problem"
    ]
   },
   "source": [
    "4.  **¡Se mueve!** Un cuerpo se lanza verticalmente hacia arriba con una velocidad $v_{0}$. Demuestre que, debido a la fuerza de coriolis, el cuerpo caerá en un punto desplazado hacia el oeste por una distancia igual a \n",
    "\n",
    "> $$\\Delta x=\\frac{4}{3}\\Omega\\cos\\phi\\frac{v_0^{3}}{g^2},$$\n",
    "\n",
    "> siendo $\\Omega$ el modulo de la velocidad angular de la Tierra (asúmala constante), $\\phi$ la latitud del lugar donde se lanzó el móvil y $g$ la aceleración debida a la gravedad. Determine $\\Delta x$ si el cuerpo se lanza a $v_0=100$ m/s desde Medellín. (*Ayuda*: en primer lugar, suponga que, a medida que el cuerpo está en el aire, la única componente de la velocidad que afecta a la aceleración de coriolis es la componente radial. ¿Cómo varía dicha componente en el tiempo si $g$ es constante? Teniendo esto en cuenta, solo basta integrar la aceleración de Coriolis dos veces en el tiempo para obtener la respuesta.)"
   ]
  },
  {
   "cell_type": "markdown",
   "metadata": {
    "tags": [
     "problem"
    ]
   },
   "source": [
    "5.  **Fuerza sobre un bebé.** Estime la razón entre la fuerza que la estrella más cercana al Sol le hace a un bebé que se encuentra en las manos de una doctora y la fuerza que la doctora le hace al mismo bebé."
   ]
  },
  {
   "cell_type": "markdown",
   "metadata": {
    "tags": [
     "problem"
    ]
   },
   "source": [
    "6.  **Péndulo simple.** La ecuación diferencial para el ángulo $\\theta$ que forma un péndulo con la vertical sobre el cual también actúa la fricción del aire es de la forma\n",
    "\n",
    "> $$\\ddot\\theta(t)+b\\dot\\theta(t)+c\\sin\\theta(t)=0,$$\n",
    "\n",
    "> donde $b$ y $c$ son constantes positivas. Escriba un código que solucione esta ecuación diferencial y proporcione en una misma gráfica las soluciones para $\\theta(t)$ y $\\dot\\theta(t)$."
   ]
  },
  {
   "cell_type": "markdown",
   "metadata": {
    "tags": [
     "navigation"
    ]
   },
   "source": [
    "[Indice](index.ipynb) | Previo: [Mecanica.SistemasNoInerciales.Numerico](05.03.01.00.Mecanica.SistemasNoInerciales.Numerico.ipynb) | Siguiente: [ProblemaNCuerpos](06.00.00.00.ProblemaNCuerpos.ipynb)"
   ]
  }
 ],
 "metadata": {
  "kernelspec": {
   "display_name": "Python 3",
   "language": "python",
   "name": "python3"
  },
  "language_info": {
   "codemirror_mode": {
    "name": "ipython",
    "version": 3
   },
   "file_extension": ".py",
   "mimetype": "text/x-python",
   "name": "python",
   "nbconvert_exporter": "python",
   "pygments_lexer": "ipython3",
   "version": "3.6.8"
  },
  "mybook": {
   "type": "problems:0"
  }
 },
 "nbformat": 4,
 "nbformat_minor": 2
}
