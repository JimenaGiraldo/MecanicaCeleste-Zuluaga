{
 "cells": [
  {
   "cell_type": "markdown",
   "metadata": {
    "tags": [
     "navigation"
    ]
   },
   "source": [
    "[Indice](index.ipynb) | Previo: [Introduccion](03.00.00.00.Introduccion.ipynb) | Siguiente: [Fundamentos.Calculo](04.01.00.00.Fundamentos.Calculo.ipynb)"
   ]
  },
  {
   "cell_type": "markdown",
   "metadata": {},
   "source": [
    "# 4. Fundamentos matemáticos\n",
    "<a id='fundamentos'></a>"
   ]
  },
  {
   "cell_type": "markdown",
   "metadata": {
    "label": "",
    "subtitle": "",
    "tags": [
     "box_summary"
    ],
    "title": "Resumen"
   },
   "source": [
    "> **Resumen:**<a id=''></a> En este capítulo haremos una síntesis práctica de los temas de matemáticas que usaremos en el resto del libro para presentar las teorías y métodos de la mecánica celeste. Repasaremos la geometría de las cónicas (que son la base para describir la trayectorias de cuerpos celestes sometidos a la gavedad newtoniana), en el plano y en el espacio de tres dimensiones. Haremos una síntesis muy práctica de las definiciones y proposiciones de la geometría vectorial, los sistemas de coordenadas, el cálculo diferencial, el cálculo integral y el más exótico pero muy importante cálculo de variaciones.  También introduciremos algunos resultados útiles de la teoría de ecuaciones diferenciales y más importante los algoritmos para manipular todas estas cantidades que serán aplicadas a lo largo del texto."
   ]
  },
  {
   "cell_type": "markdown",
   "metadata": {
    "tags": [
     "navigation"
    ]
   },
   "source": [
    "[Indice](index.ipynb) | Previo: [Introduccion](03.00.00.00.Introduccion.ipynb) | Siguiente: [Fundamentos.Calculo](04.01.00.00.Fundamentos.Calculo.ipynb)"
   ]
  }
 ],
 "metadata": {
  "celltoolbar": "Tags",
  "kernelspec": {
   "display_name": "Python 3",
   "language": "python",
   "name": "python3"
  },
  "language_info": {
   "codemirror_mode": {
    "name": "ipython",
    "version": 3
   },
   "file_extension": ".py",
   "mimetype": "text/x-python",
   "name": "python",
   "nbconvert_exporter": "python",
   "pygments_lexer": "ipython3",
   "version": "3.6.8"
  }
 },
 "nbformat": 4,
 "nbformat_minor": 2
}
