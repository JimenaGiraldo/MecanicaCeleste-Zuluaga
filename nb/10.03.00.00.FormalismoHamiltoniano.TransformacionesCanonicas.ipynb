{
 "cells": [
  {
   "cell_type": "markdown",
   "metadata": {
    "tags": [
     "navigation"
    ]
   },
   "source": [
    "[Indice](index.ipynb) | Previo: [FormalismoHamiltoniano.Simetrias](10.02.00.00.FormalismoHamiltoniano.Simetrias.ipynb) | Siguiente: [FormalismoHamiltoniano.TransformacionesCanonicas.FuncionGeneratriz](10.03.01.00.FormalismoHamiltoniano.TransformacionesCanonicas.FuncionGeneratriz.ipynb)"
   ]
  },
  {
   "cell_type": "markdown",
   "metadata": {},
   "source": [
    "## 10.7. Transformaciones canónicas\n",
    "<a id='transformaciones_canonicas'></a>"
   ]
  },
  {
   "cell_type": "markdown",
   "metadata": {},
   "source": [
    "Una de las características más poderosas del formalismo Hamiltoniano es la manera como puede *manipularse* tanto el espacio de fase, como la función hamiltoniana misma, para simplificar la solución a problemas dinámicos muy complicados o para analizar algunas de sus propiedades más sutiles.\n"
   ]
  },
  {
   "cell_type": "markdown",
   "metadata": {},
   "source": [
    "Para ilustrar esta flexibilidad del formalismo consideremos por ejemplo un problema muy estudiado en los últimos dos capítulos: el oscilador armónico simple.  Una cuerpo de masa $m$ esta unido a un resorte de constante elástica $k$ y solo puede oscilar en una dimensión.  Es fácil mostrar que el Hamiltoniano del sistema es simplemente:\n",
    "\n",
    "$$\n",
    "H_\\mathrm{MAS}(x,p_x)=\\frac{p_x^2}{2m}+\\frac{1}{2}kx^2=\\frac{1}{2m}(p_x^2+m^2\\omega^2 x^2)\n",
    "$$\n",
    "donde $\\omega\\equiv\\sqrt{k/m}$."
   ]
  },
  {
   "cell_type": "markdown",
   "metadata": {},
   "source": [
    "Consideremos ahora el siguiente cambio de coordenadas:\n",
    "\n",
    "\\begin{eqnarray}\n",
    "\\nonumber\n",
    "p_x & = & C\\sqrt{P}\\cos X\\\\\n",
    "\\nonumber\n",
    "x & = & \\frac{C\\sqrt{P}}{m\\omega} \\sin X\n",
    "\\end{eqnarray}\n",
    "donde $C$ es una constante desconocida."
   ]
  },
  {
   "cell_type": "markdown",
   "metadata": {},
   "source": [
    "Reemplazando en el Hamiltoniano obtenemos una nueva función:\n",
    "\n",
    "$$\n",
    "K(X,P)\\equiv H(x(X,P),p_x(X,P))=\\frac{C^2P}{2m}\n",
    "$$"
   ]
  },
  {
   "cell_type": "markdown",
   "metadata": {},
   "source": [
    "Aunque esta función es mucho más simple que el Hamiltoniano original no podemos asegurar que $K$ sea una alternativa válida al Hamiltoniano para describir la dinámica del sistema.  La razón esencial de esto es que no sabemos si las nuevas variables $X$ y $P$, junto con la nueva función $K$ satisfacen un conjunto de ecuaciones idéntica a las ecuaciones canónicas:\n",
    "\n",
    "\\begin{eqnarray}\n",
    "\\label{eq:dQ_K}\n",
    "\\dot X = +\\frac{\\partial K}{\\partial P}\\\\\n",
    "\\label{eq:dP_H}\n",
    "\\dot P = -\\frac{\\partial K}{\\partial X}\\\\\n",
    "\\end{eqnarray}"
   ]
  },
  {
   "cell_type": "markdown",
   "metadata": {
    "label": "",
    "subtitle": "Transformación Canónica",
    "tags": [
     "box_definition"
    ],
    "title": "Definición"
   },
   "source": [
    "> **Definición 11.24. Transformación Canónica.**<a id=''></a> Una transformación puntual (invertible) en el espacio de fase: \n",
    "\n",
    "> \\begin{eqnarray} \n",
    "  \\label{eq:Q_transformacion}\n",
    "  Q_k & = & Q_k(\\{q_j\\},\\{p_j\\},t)\\\\\n",
    "  \\label{eq:P_transformacion}\n",
    "  P_k & = & P_k(\\{q_j\\},\\{p_j\\},t)\n",
    "  \\end{eqnarray}\n",
    "\n",
    "> se llama *transformación canónica* si es posible encontrar una función $K(\\{Q_k\\},\\{P_k\\},t)$ tal que:\n",
    "\n",
    "> \\begin{eqnarray}\n",
    "  \\nonumber\n",
    "  \\left\\{\\dot Q_j = +\\frac{\\partial K}{\\partial P_j}\\right\\}_M\\\\\n",
    "  \\nonumber\n",
    "  \\left\\{\\dot P_j = -\\frac{\\partial K}{\\partial Q_j}\\right\\}_M\\\\\n",
    "  \\end{eqnarray}\n",
    "  \n",
    "> En otras palabras una transformación es canónica si la variable correspondiente al momento sigue siendo canónica conjugada de la variable generalizada correspondiente."
   ]
  },
  {
   "cell_type": "markdown",
   "metadata": {},
   "source": [
    "¿Cómo saber *exactamente* si una transformación es canónica? ¿qué condiciones matemáticas deben cumplir las ecuaciones de transformación ([Q_transformacion](#mjx-eqn-eq%3AQ_transformacion)) y ([P_transformacion](#mjx-eqn-eq%3AP_transformacion)) o sus inversas para satisfacer que exista una función que relacione sus tasas de variación a través de ecuaciones canónicas?.  "
   ]
  },
  {
   "cell_type": "markdown",
   "metadata": {},
   "source": [
    "El conjunto de transformaciones consideradas en la definición anterior es muy amplio e incluye transformaciones en las que es posible que la relación entre el nuevo conjunto de variables y el conjunto original dependa del tiempo.  Si nos restringimos a transformaciones puntuales que no dependen del tiempo (como la transformación postulada en el ejemplo del oscilador armónico simple):\n",
    "\n",
    "\n",
    "\\begin{eqnarray} \n",
    "\\label{eq:Q_transformacion_restringidas}\n",
    "Q_k & = & Q_k(\\{q_j\\},\\{p_j\\})\\\\\n",
    "\\label{eq:P_transformacion_restringidas}\n",
    "P_k & = & P_k(\\{q_j\\},\\{p_j\\})\n",
    "\\end{eqnarray}\n",
    "la condición de transformación canónica adopta una forma relativamente simple."
   ]
  },
  {
   "cell_type": "markdown",
   "metadata": {},
   "source": [
    "Una transformación geométrica como la indicada arriba no debería cambiar el Hamiltoniano mismo.  A lo sumo podemos postular que la función $K$ de la definición no es otra cosa el Hamiltoniano original en el que simplemente cambiamos las variables originales por las nuevas variables a través de las transformaciones inversas :\n",
    "\n",
    "$$\n",
    "K(\\{Q_j\\},\\{P_j\\},t)= H(\\{q_j(\\{Q_k,P_k\\})\\},\\{p_j(\\{Q_k,P_k\\})\\},t)\n",
    "$$"
   ]
  },
  {
   "cell_type": "markdown",
   "metadata": {},
   "source": [
    "La pregunta que nos hacemos es si esta nueva función $K$ es tal que:\n",
    "\n",
    "\\begin{equation}\n",
    "\\label{eq:dotQ_K}\n",
    "\\dot{Q}_j=\\frac{\\partial K}{\\partial P_j}\n",
    "\\end{equation}"
   ]
  },
  {
   "cell_type": "markdown",
   "metadata": {},
   "source": [
    "En la igualdad anterior, $Q_j$ y $P_j$ son consideradas variables independientes.  Pero podemos, por un momento tratarlas como las funciones de transformación, que a su vez dependen de $q_j$ y $p_j$.  En este caso:\n",
    "\n",
    "\\begin{equation}\n",
    "\\label{eq:dotQ_simplectica}\n",
    "\\dot{Q}_j=\\frac{\\partial Q_j}{\\partial q_j}\\dot{q}_j+\\frac{\\partial Q_j}{\\partial p_j}\\dot{p}_j\n",
    "=\\frac{\\partial H}{\\partial p_j}\\left(\\frac{\\partial Q_j}{\\partial q_j}\\right)_{q,p}-\\frac{\\partial H}{\\partial q_j}\\left(\\frac{\\partial Q_j}{\\partial p_j}\\right)_{q,p}\n",
    "\\end{equation}\n",
    "donde hemos utilizado las ecuaciones canónicas para reemplazar $\\dot{q}_j$ y $\\dot{p}_j$ en el lado derecho."
   ]
  },
  {
   "cell_type": "markdown",
   "metadata": {},
   "source": [
    "La notación $(\\partial Q_j/\\partial p_j)_{q,p}$ y $(\\partial Q_j/\\partial q_j)_{q,p}$ refuerza el hecho de que en estas derivadas las variables originales $q$ y $p$ juegan el papel de variables independientes."
   ]
  },
  {
   "cell_type": "markdown",
   "metadata": {},
   "source": [
    "Por otro lado, por la regla de la cadena y teniendo en cuenta las transformaciones inversas:\n",
    "\\begin{equation}\n",
    "\\label{eq:dotK_simplectica}\n",
    "\\frac{\\partial K}{\\partial P_j}=\\frac{\\partial K}{\\partial p_j}\\frac{\\partial p_j}{\\partial P_j}+\\frac{\\partial K}{\\partial q_j}\\frac{\\partial q_j}{\\partial P_j}=\n",
    "\\frac{\\partial H}{\\partial p_j}\\left(\\frac{\\partial p_j}{\\partial P_j}\\right)_{Q,P}+\\frac{\\partial H}{\\partial q_j}\\left(\\frac{\\partial q_j}{\\partial P_j}\\right)_{Q,P}\n",
    "\\end{equation}\n",
    "aquí se ha usado el hecho de que en realidad $K$ es el mismo Hamiltoniano $H$ pero expresado en términos de las nuveas variables; pero cuando se toma una derivada como $\\partial K/\\partial q_j$ en realidad necesaitamos volver a la forma funcional original de $H$ y es por eso que hacemo $\\partial K/\\partial q_j=\\partial H/\\partial q_j$."
   ]
  },
  {
   "cell_type": "markdown",
   "metadata": {},
   "source": [
    "Para que se cumpla entonces la Ec. ([dotQ_K](#mjx-eqn-eq%3AdotQ_K)), el lado derecho de las Ecs. ([dotQ_simplectica](#mjx-eqn-eq%3AdotQ_simplectica)) y ([dotK_simplectica](#mjx-eqn-eq%3AdotK_simplectica)) deben ser iguales.  Comparando término a término, la igualdad se satisface si y solo si:\n",
    "\n",
    "\\begin{eqnarray}\n",
    "\\label{eq:dQdq_simplectica}\n",
    "\\left(\\frac{\\partial Q_j}{\\partial q_j}\\right)_{q,p} & = & \\left(\\frac{\\partial p_j}{\\partial P_j}\\right)_{Q,P}\\\\\n",
    "\\label{eq:dQdp_simplectica}\n",
    "\\left(\\frac{\\partial Q_j}{\\partial p_j}\\right)_{q,p} & = & \\left(\\frac{\\partial q_j}{\\partial P_j}\\right)_{Q,P}\n",
    "\\end{eqnarray}"
   ]
  },
  {
   "cell_type": "markdown",
   "metadata": {},
   "source": [
    "Si se utilizá un procedimiento análogo pero partiendo de la ecuación:\n",
    "\n",
    "$$\n",
    "\\dot{P}_j=-\\frac{\\partial K}{\\partial Q_j}\n",
    "$$\n",
    "se obtienen las condiciones:\n",
    "\n",
    "\\begin{eqnarray}\n",
    "\\label{eq:dPdq_simplectica}\n",
    "\\left(\\frac{\\partial P_j}{\\partial q_j}\\right)_{q,p} & = & -\\left(\\frac{\\partial p_j}{\\partial Q_j}\\right)_{Q,P}\\\\\n",
    "\\label{eq:dPdp_simplectica}\n",
    "\\left(\\frac{\\partial P_j}{\\partial p_j}\\right)_{q,p} & = & \\left(\\frac{\\partial q_j}{\\partial Q_j}\\right)_{Q,P}\n",
    "\\end{eqnarray}"
   ]
  },
  {
   "cell_type": "markdown",
   "metadata": {},
   "source": [
    "A las condiciones expresadas en las Ecs. ([dQdq_simplectica](#mjx-eqn-eq%3AdQdq_simplectica))-([dPdp_simplectica](#mjx-eqn-eq%3AdPdp_simplectica)) se las conoce como *condiciones directas* para transformaciones canónicas restringidas."
   ]
  },
  {
   "cell_type": "markdown",
   "metadata": {},
   "source": [
    "Podemos usar este conjunto de condiciones para poner a prueba las transformaciones propuestas antes para el movimiento armónico simple:\n",
    "\n",
    "\\begin{eqnarray}\n",
    "\\nonumber\n",
    "p_x & = & C\\sqrt{P}\\cos X\\\\\n",
    "\\nonumber\n",
    "x & = & \\frac{C\\sqrt{P}}{m\\omega} \\sin X\n",
    "\\end{eqnarray}"
   ]
  },
  {
   "cell_type": "markdown",
   "metadata": {},
   "source": [
    "Para ello necesitamos primero obtener las transformaciones inversas:\n",
    "\n",
    "\\begin{eqnarray}\n",
    "\\nonumber\n",
    "P & = & \\frac{1}{C^2}(p_x^2+m^2\\omega^2 x^2)\\\\\n",
    "\\nonumber\n",
    "X & = & \\tan^{-1}\\left(\\frac{m\\omega x}{p_x}\\right)\n",
    "\\end{eqnarray}"
   ]
  },
  {
   "cell_type": "markdown",
   "metadata": {},
   "source": [
    "Pongamos a prueba la transformación con la condición:\n",
    "\n",
    "$$\n",
    "\\left(\\frac{\\partial Q_j}{\\partial q_j}\\right)_{q,p} = \\left(\\frac{\\partial p_j}{\\partial P_j}\\right)_{Q,P}\n",
    "$$\n",
    "que en este caso se expresaría como:\n",
    "\n",
    "$$\n",
    "\\left(\\frac{\\partial X}{\\partial x}\\right)_{x,p_x} = \\left(\\frac{\\partial p_x}{\\partial P}\\right)_{X,P}\n",
    "$$\n"
   ]
  },
  {
   "cell_type": "markdown",
   "metadata": {},
   "source": [
    "El lado izquierdo de esta ecuación se puede escribir como:\n",
    "\n",
    "$$\n",
    "\\left(\\frac{\\partial X}{\\partial x}\\right)_{x,p_x}=\\frac{m\\omega p_x}{p_x^2+m^2\\omega^2 x^2}\n",
    "$$"
   ]
  },
  {
   "cell_type": "markdown",
   "metadata": {},
   "source": [
    "Si usamos las reglas de transformación para $p_x$ y para $P$ la anterior relación queda:\n",
    "\n",
    "\\begin{equation}\n",
    "\\label{eq:dXdx}\n",
    "\\left(\\frac{\\partial X}{\\partial x}\\right)_{x,p_x}\n",
    "=\\frac{m\\omega C\\sqrt{P}\\cos X}{C^2 P}\n",
    "=\\frac{m\\omega\\cos X}{C\\sqrt{P}}\n",
    "\\end{equation}"
   ]
  },
  {
   "cell_type": "markdown",
   "metadata": {},
   "source": [
    "Por otro lado:\n",
    "\n",
    "\\begin{equation}\n",
    "\\label{eq:dpdP}\n",
    "\\left(\\frac{\\partial p_x}{\\partial P}\\right)_{X,P}=\\frac{C\\cos X}{2\\sqrt{P}}\n",
    "\\end{equation}"
   ]
  },
  {
   "cell_type": "markdown",
   "metadata": {},
   "source": [
    "Las Ecs. ([dXdx](#mjx-eqn-eq%3AdXdx)) y ([dpdP](#mjx-eqn-eq%3AdpdP)) son iguales si y solo si:\n",
    "\n",
    "$$\n",
    "\\frac{m\\omega}{C}=\\frac{C}{2}\n",
    "$$\n",
    "o bien $C=\\sqrt{2m\\omega}$."
   ]
  },
  {
   "cell_type": "markdown",
   "metadata": {},
   "source": [
    "Es decir, la transformación:\n",
    "\n",
    "\\begin{eqnarray}\n",
    "\\nonumber\n",
    "x & = & \\sqrt{\\frac{2 P}{m\\omega}} \\sin X\\\\\n",
    "\\nonumber\n",
    "p_x & = & \\sqrt{2m\\omega P}\\cos X\n",
    "\\end{eqnarray}\n",
    "satisface al menos una de las condiciones directas para ser una transformación canónica.  Es posible mostrar (ver Problemas al final del capítulo) que esta transformación cumple también todas las demás condiciones directas, de donde concluimos que *es* canónica y que el hamiltoniano del sistema es, en el nuevo sistema de coordenadas:\n",
    "\n",
    "\\begin{equation}\n",
    "\\label{eq:MAS_hamiltoniano_transformado}\n",
    "K=\\omega P\n",
    "\\end{equation}"
   ]
  },
  {
   "cell_type": "markdown",
   "metadata": {},
   "source": [
    "¿Qué importancia tienen las transformaciones canónicas?.  El ejemplo del oscilador armónico simple (si bien muy sencillo para una técnica tan sofisticada) nos permite ilustrar nuevamente el poder de este tipo de transformaciones. Dicho Hamiltoniano  en el nuevo sistema de coordenadas dado por la Ec. ([MAS_hamiltoniano_transformado](#mjx-eqn-eq%3AMAS_hamiltoniano_transformado)), tiene una serie de propiedades muy interesantes:\n",
    "\n",
    "1. A diferencia del Hamiltoniano original, en el nuevo sistema de variables, $X$ es cíclica y por lo tanto su momento canónico conjugado $P$ es constante.  Esto básicamente significa que la transformación canónica realizada convirtió el espacio de fase, de uno en el que los contornos de igual valor de $H$ eran elipses, a otro en el que son líneas rectas horizontales (ver Figura ([transformacion_canonica](#fig:transformacion_canonica))).  La dinámica en el espacio transformado es trivial.  Dado un punto inicial, el sistema se mueve sobre una línea recta horizontal con ecuación de movimiento dado por:\n",
    "\n",
    "   $$\n",
    "   \\dot X=\\frac{\\partial K}{\\partial P}=\\omega\n",
    "   $$\n",
    "   que puede resolverse analíticamente como:\n",
    "\n",
    "   $$\n",
    "   X=X_0+\\omega t\n",
    "   $$"
   ]
  },
  {
   "cell_type": "markdown",
   "metadata": {},
   "source": [
    "<a id='fig:Figure_177'></a>![Ilustración del efecto en el espacio de fase y en la descripción de la dinámica de un sistema dinámico de una transformación canónica.  En este caso se ilustra el oscilador armónico simple cuyo espacio de fase es tradicionalmente el de la izquierda, y el mismo sistema después de una transformación canónica convenientemente escogida (panel de la derecha).](./figures/horizontal_transformacion_canonica.png)\n",
    "\n",
    "<center><b>Figura 10.177</b>. Ilustración del efecto en el espacio de fase y en la descripción de la dinámica de un sistema dinámico de una transformación canónica.  En este caso se ilustra el oscilador armónico simple cuyo espacio de fase es tradicionalmente el de la izquierda, y el mismo sistema después de una transformación canónica convenientemente escogida (panel de la derecha).</center>"
   ]
  },
  {
   "cell_type": "markdown",
   "metadata": {},
   "source": [
    "2. Tanto el Hamiltoniano original, como el nuevo, satisfacen las condiciones que permiten identificarlo, primero como una constante y segundo como la energía mecánica:\n",
    "\n",
    "   $$\n",
    "   \\omega P=E\n",
    "   $$\n",
    "   de donde se sigue que:\n",
    "   \n",
    "   $$\n",
    "   P=\\frac{E}{\\omega}\n",
    "   $$\n",
    "   que habíamos dicho también es constante."
   ]
  },
  {
   "cell_type": "markdown",
   "metadata": {},
   "source": [
    "3. Las propiedades del sistema en el nuevo conjunto de variables y los resultados muy sencillos obtenidos en los apartes anteriores, nos permiten finalmente escribir la solución analítica al problema en las coordenadas generalizadas originales como:\n",
    "\n",
    "\\begin{eqnarray}\n",
    "\\nonumber\n",
    "x & = & \\sqrt{\\frac{2 E}{m\\omega^2}} \\sin(\\omega t+X_0)\\\\\n",
    "\\nonumber\n",
    "p_x & = & \\sqrt{2mE}\\cos(\\omega t+X_0)\n",
    "\\end{eqnarray}"
   ]
  },
  {
   "cell_type": "markdown",
   "metadata": {},
   "source": [
    "Es decir, en este caso, la transformación canónica propuesta nos permitió resolver completamente el problema al simplificar significativamente la dinámica del sistema en el espacio de fase.  Esta es una de las aplicaciones posibles de este tipo de transformaciones."
   ]
  },
  {
   "cell_type": "markdown",
   "metadata": {
    "tags": [
     "navigation"
    ]
   },
   "source": [
    "[Indice](index.ipynb) | Previo: [FormalismoHamiltoniano.Simetrias](10.02.00.00.FormalismoHamiltoniano.Simetrias.ipynb) | Siguiente: [FormalismoHamiltoniano.TransformacionesCanonicas.FuncionGeneratriz](10.03.01.00.FormalismoHamiltoniano.TransformacionesCanonicas.FuncionGeneratriz.ipynb)"
   ]
  }
 ],
 "metadata": {
  "celltoolbar": "Tags",
  "kernelspec": {
   "display_name": "Python 3",
   "language": "python",
   "name": "python3"
  },
  "language_info": {
   "codemirror_mode": {
    "name": "ipython",
    "version": 3
   },
   "file_extension": ".py",
   "mimetype": "text/x-python",
   "name": "python",
   "nbconvert_exporter": "python",
   "pygments_lexer": "ipython3",
   "version": "3.6.8"
  }
 },
 "nbformat": 4,
 "nbformat_minor": 2
}
