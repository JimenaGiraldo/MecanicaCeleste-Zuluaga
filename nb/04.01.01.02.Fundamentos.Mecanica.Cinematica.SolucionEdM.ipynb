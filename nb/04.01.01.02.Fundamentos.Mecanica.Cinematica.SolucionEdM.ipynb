{
 "cells": [
  {
   "cell_type": "markdown",
   "metadata": {
    "tags": [
     "navigation"
    ]
   },
   "source": [
    "[Indice](index.ipynb) | Previo: [Fundamentos.Mecanica.Cinematica.Cantidades](04.01.01.01.Fundamentos.Mecanica.Cinematica.Cantidades.ipynb) | Siguiente: [Fundamentos.Mecanica.Cinematica.SolucionNumerica](04.01.01.03.Fundamentos.Mecanica.Cinematica.SolucionNumerica.ipynb)"
   ]
  },
  {
   "cell_type": "markdown",
   "metadata": {},
   "source": [
    "### 4.1.3. La ecuación de movimiento (e.d.m.)\n",
    "<a id='ecuacion_movimiento'></a>"
   ]
  },
  {
   "cell_type": "markdown",
   "metadata": {},
   "source": [
    "Dada una partícula, una vez especificado el vector de estado inicial, es decir, la posición y velocidad en el tiempo $t_0$, $\\vec r_0$ y $\\vec v_0$, su estado futuro puede predecirse si se conoce la aceleración como función del tiempo o del estado de la partículo.  Así, la igualdad\n",
    "\n",
    "\\begin{equation}\n",
    "\\label{eq:edm}\n",
    "\\ddot{\\vec r} = \\vec a,\n",
    "\\end{equation}\n",
    "\n",
    "puede verse como una definición o como una ecuación diferencial que permite calcular el estado del sistema en un tiempo $t\\neq t_0$.  A esta ecuación se la conoce en mecánica como la **ecuación de movimiento**.  Para referirnos a ella, en lo sucesivo, usaremos el acrónimo e.d.m. o el nombre `edm` en los algoritmos.\n",
    "\n",
    "La e.d.m. es una ecuación diferencial vectorial de segundo orden con condiciones iniciales $\\vec{r}(t_0)=r_0$, $\\dot{\\vec r}(t=t_0)=\\vec v_0$. En teoría de ecuaciones diferenciales, se dice que resolver la e.d.m. constituye un *problema de valor inicial* (en inglés *initial value problem* o IVP; en la siguiente sección volveremos sobre la importancia de esta clasificación.) \n",
    "\n",
    "La aceleración $\\vec a$ en la Ec. ([edm](#mjx-eqn-eq%3Aedm)) es en realidad una función puede depender de varias de las cantidades cinemáticas definicadas en la sección previa.  Para la mayoría de las situaciones consideradas en este texto, sin embargo, asumiremos, que en general la aceleración puede depender del tiempo o del estado de la partícula:\n",
    "\n",
    "$$\n",
    "\\vec a=\\vec a(\\vec r,\\dot{\\vec r},t).\n",
    "$$"
   ]
  },
  {
   "cell_type": "markdown",
   "metadata": {},
   "source": [
    "La e.d.m. puede expresarse también como dos ecuaciones diferenciales vectoriales de primer orden:\n",
    "\n",
    "\\begin{equation}\n",
    "\\label{eq:edm_primer_orden}\n",
    "\\begin{array}{ccl}\n",
    "\\dot{\\vec r} & = &\\vec v\\\\\n",
    "\\dot{\\vec v} & = &\\vec a(\\vec r,\\vec v,t)\n",
    "\\end{array}\n",
    "\\end{equation}\n",
    "\n",
    "Donde se ha introducido como variable auxiliar la velocidad $\\vec v\\equiv\\dot{\\vec r}$.  En este sistema de ecuaciones diferenciales, las funciones incognitas, son ahora dos $\\vec r(t)$ y $\\vec v(t)$ en lugar de una.  El sistema ha gando variables pero el orden se ha reducido.  A esta manera de reescribir una ecuación diferencial se la conoce como *reducción de orden* y como veremos es una estrategia muy útil para su solución. "
   ]
  },
  {
   "cell_type": "markdown",
   "metadata": {},
   "source": [
    "La e.d.m., tanto la de segundo orden (Ec. [edm](#mjx-eqn-eq%3Aedm)) como la de primero (Ec. [edm_primer_orden](#mjx-eqn-eq%3Aedm_primer_orden)) son ecuaciones diferenciales vectoriales.  Es, decir, ambas representan, en realidad, una forma compacta de escribir un sistema de ecuaciones diferenciales escalares.  \n",
    "\n",
    "Así por ejemplo la e.d.m. de la Ec. ([edm](#mjx-eqn-eq%3Aedm)), se puede escribir, en términos de las componentes cartesianas del vector posición, como:\n",
    "\n",
    "\\begin{equation}\n",
    "\\label{eq:edm_escalar}\n",
    "\\begin{array}{ccl}\n",
    "\\ddot{x} & = &a_x\\\\\n",
    "\\ddot{y} & = &a_y\\\\\n",
    "\\ddot{z} & = &a_z\\\\\n",
    "\\end{array}\n",
    "\\end{equation}\n",
    "\n",
    "Por su lado la e.d.m. de primer orden de de la Ec. ([edm_primer_orden](#mjx-eqn-eq%3Aedm_primer_orden)), es en realidad un sistema de 6 ecuaciones diferenciales escalares de primer orden:\n",
    "\n",
    "\\begin{equation}\n",
    "\\label{eq:edm_primer_orden_escalar}\n",
    "\\begin{array}{ccl}\n",
    "\\dot{x} & = &v_x\\\\\n",
    "\\dot{y} & = &v_y\\\\\n",
    "\\dot{z} & = &v_z\\\\\n",
    "\\dot{v_x} & = &a_x(x,y,z,v_x,v_y,v_z,y)\\\\\n",
    "\\dot{v_y} & = &a_y(x,y,z,v_x,v_y,v_z,y)\\\\\n",
    "\\dot{v_z} & = &a_z(x,y,z,v_x,v_y,v_z,y)\\\\\n",
    "\\end{array}\n",
    "\\end{equation}"
   ]
  },
  {
   "cell_type": "markdown",
   "metadata": {},
   "source": [
    "En términos del vector de estado $\\vec X:(\\vec r\\;\\vec v)^\\mathrm{T}$, la e.d.m. de primer orden (Ec. [edm_primer_orden_escalar](#mjx-eqn-eq%3Aedm_primer_orden_escalar)) se puede escribir como:\n",
    "\n",
    "\\begin{equation}\n",
    "\\label{eq:edm_estado}\n",
    "\\dot{X} = \\left( \n",
    "\\begin{array}{c}\n",
    "\\vec{v} \\\\ \\vec{a}\n",
    "\\end{array}\n",
    "\\right)\n",
    "\\end{equation}\n",
    "\n",
    "Donde (abusando de la notación) $\\vec v:(v_x\\;v_y\\;v_z)^\\mathrm{T}$ y  $\\vec a:(a_x\\;a_y\\;a_z)^\\mathrm{T}$"
   ]
  },
  {
   "cell_type": "markdown",
   "metadata": {
    "subtitle": "Ecuaciones de movimiento en otros sistemas de coordenadas",
    "tags": [
     "box_note"
    ],
    "title": "Nota"
   },
   "source": [
    "> **:Nota: Ecuaciones de movimiento en otros sistemas de coordenadas.** Ecuaciones análogas a la Ecs. ([edm_escalar](#mjx-eqn-eq%3Aedm_escalar),[edm_primer_orden_escalar](#mjx-eqn-eq%3Aedm_primer_orden_escalar)) pueden escribirse en caso de que se conozca la función aceleración en coordenadas cilíndricas o esféricas.  Para ello deben usarse las definiciones de velocidad y aceleración, en el sistema de coordenadas respectivo, que vimos en la [sección *Propiedades cinemáticas*](04.01.01.01.Fundamentos.Mecanica.Cinematica.Cantidades.ipynb#propiedades_cinematicas).  La forma explícita de esas ecuaciones diferenciales, sin embargo, no será tan sencilla como la que escribimos en el caso de las coordenadas cartesianas. El lector podrá explorar estos casos a través de algunos de los problemas incluídos al final del capítulo."
   ]
  },
  {
   "cell_type": "markdown",
   "metadata": {},
   "source": [
    "### 4.1.4. Integración de la e.d.m.\n",
    "<a id='integracion_edm'></a>"
   ]
  },
  {
   "cell_type": "markdown",
   "metadata": {},
   "source": [
    "La solución o *integración* de la e.d.m. constituye el problema matemático central de la cinemática y a la larga, el problema más importante de toda la mecánica incluyendo, naturalmente, la mecánica celeste.\n",
    "\n",
    "En los cursos de mecánica newtoniana básica el problema se resuelve normalmente para dos casos simples: \n",
    "\n",
    "1. $\\vec a=\\vec 0$ que se conoce también como movimiento rectilineo y uniforme o m.r.u.[$^1$](05.01.00.00.ProblemaNCuerpos.Formulacion.ipynb#notaspie_1) \n",
    "2. $\\vec a=\\vec{a}_0$ que se conoce como movimiento rectilíneo uniformemente acelerado, m.r.u.a."
   ]
  },
  {
   "cell_type": "markdown",
   "metadata": {},
   "source": [
    "Si bien estos dos casos son interesantes en un amplio rango de aplicaciones simples (p.e. el movimiento parabólico), en situaciones realistas y en particular en las que veremos en la mecánica celeste, la función $\\vec a$ puede ser mucho más compleja.  En los próximos dos ejemplos consideramos dos situaciones hipotéticas en las que $\\vec a$ depende del tiempo o del vector de estado."
   ]
  },
  {
   "cell_type": "markdown",
   "metadata": {},
   "source": [
    "### Integración por cuadraturas"
   ]
  },
  {
   "cell_type": "markdown",
   "metadata": {},
   "source": [
    "#### Ejemplo 1: movimiento con tirón constante"
   ]
  },
  {
   "cell_type": "markdown",
   "metadata": {},
   "source": [
    "Considerese el caso simple de una partícula que esta sometida a un tirón $\\vec{j}:(j_0,0,0)$ constante (ver la [Sección *Propiedades cinemáticas*](04.01.01.01.Fundamentos.Mecanica.Cinematica.Cantidades.ipynb#propiedades_cinematicas) para recordar la definición de tirón.)  Suponga además que en $t=0$ la aceleración de la partícula es nula.  \n",
    "\n",
    "En estas condiciones la función de aceleración, en cualquier tiempo, se puede escribir como: \n",
    "\n",
    "$$\n",
    "\\vec a(t):(j_0 t,0,0),\n",
    "$$\n",
    "\n",
    "y la componente $x$ de la e.d.m. (Ec.[edm_escalar](#mjx-eqn-eq%3Aedm_escalar)) será:\n",
    "\n",
    "\\begin{equation}\n",
    "\\label{eq:edm_ejemplo1}\n",
    "\\ddot{x} = j_0 t\n",
    "\\end{equation}\n",
    "\n",
    "Si bien una solución a esta ecuación diferencial puede encontrarse fácilmente por tanteo, pe. $x(t)\\propto j_0 t^3$, un procedimiento cuidadoso de solución nos permite descubrir algunas propiedades interesantes del sistema dinámico. Además, para el caso que nos interesa aquí, nos permitirá identificar un método que será de gran utilidad para el estudio de sistemas dinámicos en los siguientes capítulos.  "
   ]
  },
  {
   "cell_type": "markdown",
   "metadata": {},
   "source": [
    "Reescribamos la ecuación ([edm_ejemplo1](#mjx-eqn-eq%3Aedm_ejemplo1)) en la forma:\n",
    "\n",
    "\\begin{equation}\n",
    "\\label{eq:edm_ejemplo1_cuadratura}\n",
    "\\frac{\\mathrm{d}}{\\mathrm{dt}}\\dot{x} = \\frac{\\mathrm{d}}{\\mathrm{dt}}\\left(\\frac{1}{2}ct^2\\right).\n",
    "\\end{equation}\n",
    "\n",
    "Aquí hemos decidido combinar dos notaciones diferentes para la derivada de una función $f$: una notación similar a la de Newton, $\\dot{f}$ (que usaremos de forma generalizada aquí) y la notación de Leibniz $\\mathrm{d}f/\\mathrm{dt}$.  Aunque el uso de dos notaciones no es conveniente, esta \"inconsistencia\" nos permitirá revelar mejor los pormenores de muchos de los procedimientos usados en el libro."
   ]
  },
  {
   "cell_type": "markdown",
   "metadata": {},
   "source": [
    "Si reunimos los términos en un mismo lado de la ecuación, la e.d.m. nos queda:\n",
    "\n",
    "$$\n",
    "\\frac{\\mathrm{d}}{\\mathrm{dt}}\\left(\\dot{x}-\\frac{1}{2}ct^2\\right)= 0.\n",
    "$$\n",
    "\n",
    "No hemos resuelto la ecuación todavía, pero está última manera de escribirla nos permite identificar una fórmula (la que aparece entre paréntesis) que combina la velocidad y el tiempo, y que, sin importar el estado de la partícula o el instanate de tiempo, siempre es constante (su derivada con respecto al tiempo es cero).  \n",
    "\n",
    "Si llamamos $I_x$ al valor constante al que es igual esta fórmula, podemos escribir:\n",
    "\n",
    "\\begin{equation}\n",
    "\\label{eq:Ix_ejemplo1}\n",
    "\\dot{x}-\\frac{1}{2}ct^2 = I_x\n",
    "\\end{equation}\n",
    "\n",
    "\n",
    "Decimos que $f(\\dot x,t)=\\dot{x}-ct^2/2$ es una **integral del sistema**, una **cuadratura** o una **constante de movimiento** del sistema. \n",
    "\n",
    "Es fácil verificar que otras constantes de movimiento del sistema son $\\dot{y}=I_y$ y $\\dot{z}=I_z$."
   ]
  },
  {
   "cell_type": "markdown",
   "metadata": {
    "subtitle": "Constante de movimiento de un sistema dinámico",
    "tags": [
     "box_definition"
    ],
    "title": "Definición"
   },
   "source": [
    "> **:Definición 5.2. Constante de movimiento de un sistema dinámico.** Si una función $f(\\vec r,\\vec v,t)$ que depende (o no) del tiempo y de una o todas las variables de estado de un sistema dinámico, es tal que:\n",
    "\n",
    "> $$f(\\vec r,\\vec v,t)=I$$\n",
    "\n",
    "> Donde $I$ es una cantidad que solo depende de las condiciones iniciales, decimos que $f(\\vec r,\\vec v,t)$ es una **constante de movimiento**.  Alternativamente la llamaremos una **integral** o **cuadratura** del sistema [$^2$](05.01.00.00.ProblemaNCuerpos.Formulacion.ipynb#notaspie_2)."
   ]
  },
  {
   "cell_type": "markdown",
   "metadata": {},
   "source": [
    "#### Ejemplo 2: movimiento oscilatorio"
   ]
  },
  {
   "cell_type": "markdown",
   "metadata": {},
   "source": [
    "Considere ahora el caso en el que una partícula tiene una aceleración dada por:\n",
    "\n",
    "$$\n",
    "\\vec a(t):(-\\omega x,0,0),\n",
    "$$\n",
    "\n",
    "donde $\\omega$ es una cantidad constante.  Vemos que al alejarse del origen la aceleración de la partícula apuntará nuevamente hacia allí.  Sabemos que este tipo de aceleración producirá a un movimiento oscilatorio.\n",
    "\n",
    "En este caso la e.d.m. para $x$ será:\n",
    "\n",
    "$$\n",
    "\\ddot{x} = -\\omega x.\n",
    "$$\n",
    "\n",
    "La integración de esta ecuación por tanteo ya no es tan trivial.  Tampoco lo es intentar exprear ambos lados de la ecuación como derivadas respecto al tiempo de otras funciones (como lo hicimos para encontrar la Ec. [edm_ejemplo1_cuadratura](#mjx-eqn-eq%3Aedm_ejemplo1_cuadratura)). Sin embargo, si multiplicamos ambos lados de la ecuación por la función $\\dot x$:\n",
    "\n",
    "$$\n",
    "\\dot{x}\\ddot{x} = -\\omega \\dot{x}x.\n",
    "$$\n",
    "\n",
    "la nueva ecuación puede escribirse, convenientemente, de esta forma:\n",
    "\n",
    "$$\n",
    "\\frac{\\mathrm{d}}{\\mathrm{dt}}\\left(\\frac{1}{2}\\dot{x}^2\\right) = \\frac{\\mathrm{d}}{\\mathrm{dt}}\\left(-\\frac{1}{2}\n",
    "\\omega x^2\\right),\n",
    "$$\n",
    "\n",
    "de donde identificamos la constante de movimiento:\n",
    "\n",
    "\\begin{equation}\n",
    "\\label{eq:Ix_ejemplo2}\n",
    "\\frac{1}{2}\\dot{x}^2+\\frac{1}{2}\\omega x^2=I_x.\n",
    "\\end{equation}\n",
    "\n",
    "Dado que la multiplicación de la e.d.m. por la función $\\dot{x}$, nos permitió encontrar una constante de movimiento o una integral de la ecuación, llamamos a $\\dot{x}$, un *factor integrante.*"
   ]
  },
  {
   "cell_type": "markdown",
   "metadata": {},
   "source": [
    "¿De qué sirve entonces encontrar las constantes de movimientode un sistema si lo que queremos en realidad es encontrar formas explícitas (o representaciones en series) para las funciones $\\vec r(t)$, $\\vec v(t)$?  \n",
    "\n",
    "Las constantes de movimiento pueden ofrecernos información de la dinámica del sistema, incluso en situaciones en las que no es posible obtener una solución.  Note, por ejemplo, cuan diferentes son las constantes de movimiento de los sistemas en los ejemplos 1 y 2.  Aunque no resolvimos ninguno de los dos problemas, sus cuadraturas nos dan pistas sobre como se relacionan la posición y velocidad de la partícula en cualquier instante del tiempo.  Más adelante mostraremos que es incluso posible dar una interpretación física a estas constantes (como la energía, el momentum lineal, el momentum angular, entre otras) y su relevancia para la comprensión del sistema, será aún mayor.\n",
    "\n",
    "Ahora bien, siendo las cuadraturas $f(\\vec r,\\vec v,t)$ funciones de las variables que deseamos encontrar, si se obtienen suficientes constantes de movimiento (tantas como variables), habremos, técnicamente, recabado sufiente información para obtener la solución.  En otras palabras, un número suficiente de cuadraturas o de constantes de movimiento permite convertir la solución de una ecuación diferencial, en la solución a un sistema algebraico de ecuaciones (aquel formado por las cuadraturas)."
   ]
  },
  {
   "cell_type": "markdown",
   "metadata": {},
   "source": [
    "Para ilustrarlo volvamos a la e.d.m. del sistema en el ejemplo 1:\n",
    "\n",
    "$$\n",
    "\\begin{array}{ccl}\n",
    "\\ddot{x} & = & j_0 t\\\\\n",
    "\\ddot{y} & = & 0\\\\\n",
    "\\ddot{z} & = & 0\\\\\n",
    "\\end{array}\n",
    "$$\n",
    "\n",
    "Es posible mostrar que este sistema tiene 6 constantes de movimiento (ya habíamos deducido tres de ellas, se deja al lector obtener las otras tres):\n",
    "\n",
    "\\begin{equation}\n",
    "\\label{eq:constantes_ejemplo1}\n",
    "\\begin{array}{rrl}\n",
    "\\dot{x}-\\frac{1}{2}j_0 t^2 & = & I_x \\\\\n",
    "\\dot{y} & = & I_y \\\\\n",
    "\\dot{z} & = & I_z\\\\\n",
    "x-\\frac{1}{6}j_0 t^6-I_x t & = & S_x \\\\\n",
    "y-I_y t & = & S_y\\\\\n",
    "z-I_z t & = & S_z\\\\\n",
    "\\end{array}\n",
    "\\end{equation}\n",
    "\n",
    "Donde el valor de las cantidades $I_x$, $I_y$, $I_z$, $S_x$, $S_y$, $S_z$ se puede obtener del valor de las condiciones iniciales en el lado izquierdo de estas ecuaciones. La solución simultánea a este sistema de ecuaciones algebraicas permite encontrar de forma explícita la solución buscada al problema:\n",
    "\n",
    "\\begin{equation}\n",
    "\\label{eq:solucion_ejemplo1}\n",
    "\\begin{array}{rcl}\n",
    "x(t) & = & \\frac{1}{6}j_0 t^6+I_x t+S_x\\\\\n",
    "y(t) & = & I_y t+S_y\\\\\n",
    "z(t) & = & I_z t+S_z\\\\\n",
    "\\dot{x}(t) & = & \\frac{1}{2}j_0 t^2+I_x\\\\\n",
    "\\dot{y}(t) & = & I_y \\\\\n",
    "\\dot{z}(t) & = & I_z\\\\\n",
    "\\end{array}\n",
    "\\end{equation}"
   ]
  },
  {
   "cell_type": "markdown",
   "metadata": {},
   "source": [
    "Un procedimiento análogo puede usarse para encontrar la solución a la e.d.m. del sistema del ejemplo 2 (vea los problemas al final del capítulo.)\n",
    "\n",
    "Es posible que nadie escoja un procedimiento tan elaborado para hayar la solución a la e.d.m. original de estos dos sistema, especialmente porque existen procedimiento más simples.  Pero usarlo con sistemas conocidos, nos ha  permitido ilustrar el poder que tiene este \"nuevo\" método, que llamaremos en lo sucesivo el *método de las cuadraturas* y que usaremos sistemáticamente a lo largo del texto al estudiar sistemas dinámicos mucho más complejos en mecánica celeste. "
   ]
  },
  {
   "cell_type": "markdown",
   "metadata": {
    "tags": [
     "footnote"
    ]
   },
   "source": [
    "**NOTAS AL PIE:**\n",
    "\n",
    "<a id='notaspie_1'></a>\n",
    "1. En lo sucesivo usaremos el símbolo $\\vec 0$ para representar el vector nulo.\n",
    "\n",
    "<a id='notaspie_2'></a>\n",
    "2. En términos rigurosos la *constante de movimiento* es la función $f(\\vec r,\\vec v,t)$ no su valor numérico $I$ que por definición es un número real - o complejo - y por tanto constante.\n",
    "\n"
   ]
  },
  {
   "cell_type": "markdown",
   "metadata": {
    "tags": [
     "navigation"
    ]
   },
   "source": [
    "[Indice](index.ipynb) | Previo: [Fundamentos.Mecanica.Cinematica.Cantidades](04.01.01.01.Fundamentos.Mecanica.Cinematica.Cantidades.ipynb) | Siguiente: [Fundamentos.Mecanica.Cinematica.SolucionNumerica](04.01.01.03.Fundamentos.Mecanica.Cinematica.SolucionNumerica.ipynb)"
   ]
  }
 ],
 "metadata": {
  "celltoolbar": "Tags",
  "kernelspec": {
   "display_name": "Python 3",
   "language": "python",
   "name": "python3"
  },
  "language_info": {
   "codemirror_mode": {
    "name": "ipython",
    "version": 3
   },
   "file_extension": ".py",
   "mimetype": "text/x-python",
   "name": "python",
   "nbconvert_exporter": "python",
   "pygments_lexer": "ipython3",
   "version": "3.6.8"
  }
 },
 "nbformat": 4,
 "nbformat_minor": 2
}
