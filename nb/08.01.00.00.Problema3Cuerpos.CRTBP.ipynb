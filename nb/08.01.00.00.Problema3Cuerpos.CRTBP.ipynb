{
 "cells": [
  {
   "cell_type": "markdown",
   "metadata": {
    "tags": [
     "navigation"
    ]
   },
   "source": [
    "[Indice](index.ipynb) | Previo: [Problema3Cuerpos.Motivacion](08.00.00.00.Problema3Cuerpos.Motivacion.ipynb) | Siguiente: [Problema3Cuerpos.CRTBP.Numerico](08.01.00.00.Problema3Cuerpos.CRTBP.Numerico.ipynb)"
   ]
  },
  {
   "cell_type": "markdown",
   "metadata": {},
   "source": [
    "## 8.2. El problema restringido de los tres cuerpos\n",
    "<a id='rtbp'></a>"
   ]
  },
  {
   "cell_type": "markdown",
   "metadata": {},
   "source": [
    "En los sistemas mencionados en la sección anterior, incluyendo aquel cuya dinámica simulamos explícitamente, siempre consideramos dos partículas grandes que forman un sistema de dos cuerpos (por ejemplo el Sol y la Tierra), y una tercera partícula (un vehículo espacial) con una masa mucho más pequeña que las dos primeras.  "
   ]
  },
  {
   "cell_type": "markdown",
   "metadata": {},
   "source": [
    "Dado que la partícula más liviana ($m_0$) ejerce un efecto despreciable sobre el movimiento de las partículas más masivas ($m_1$ y $m_2$), la posición y velocidad de estas últimas puede obtenerse usando las fórmulas y procedimientos descritos en el [Capítulo *El problema de los dos cuerpos*](Not Found#doscuerpos).  De este modo el problema resultante consiste simplemente en la predicción de las posiciones y velocidades de $m_0$.  La descripción completa de un sistema así es a lo que llamaremos aquí **el problema restringido de los tres cuerpos**."
   ]
  },
  {
   "cell_type": "markdown",
   "metadata": {},
   "source": [
    "Las ecuaciones de movimiento de la partícula $m_0$ serán:\n",
    "\n",
    "\\begin{equation}\n",
    "\\label{eq:rtbp_general}\n",
    "\\ddot{\\vec{r}}_0(t) = -\\frac{\\mu_1}{r_{01}^3}\\vec{r}_{01} -\\frac{\\mu_2}{r_{02}^3}\\vec{r}_{02}\n",
    "\\end{equation}\n",
    "donde $\\vec r_{01}=\\vec r_0-\\vec r_1$ y $\\vec r_{02}=\\vec r_0-\\vec r_2$ y los parámetros gravitacionales $\\mu_1=Gm_1$ y $\\mu_2=Gm_2$."
   ]
  },
  {
   "cell_type": "markdown",
   "metadata": {},
   "source": [
    "Dado que ahora es prácticamente irrelevante numerar a la única partícula de interés en el sistema (la partícula 0), en lo sucesivo nos referirnos a su posición y velocidad como $\\vec r(t)\\equiv \\vec r_0(t)$, $\\dot{\\vec r}(t)\\equiv\\dot{\\vec r}_0(t)$, y a su posición relativa respecto a las dos partículas más masivas como $\\vec r_1\\equiv\\vec r_{01}$ y $\\vec r_2\\equiv\\vec r_{02}$.  De este modo la ecuación de movimiento (Ec. [rtbp_general](#mjx-eqn-eq%3Artbp_general)) queda:\n",
    "\n",
    "\\begin{equation}\n",
    "\\label{eq:rtbp}\n",
    "\\ddot{\\vec{r}}(t) = -\\frac{\\mu_1}{r_{1}^3}\\vec{r}_{1} -\\frac{\\mu_2}{r_{2}^3}\\vec{r}_{2}\n",
    "\\end{equation}"
   ]
  },
  {
   "cell_type": "markdown",
   "metadata": {},
   "source": [
    "Dado que el movimiento del sistema formado por las partículas más masivas (1 y 2) se realiza sobre un plano (problema de los dos cuerpos), la mejor elección del sistema de coordenadas será aquella en la que el plano $x-y$ reside sobre el plano orbita de 1 y 2, y el eje $x$ apunta en dirección al periapsis del sistema.   En este sistema de referencia podemos escribir explícitamente las cantidades de la Ec. ([rtbp](#mjx-eqn-eq%3Artbp)) como:\n",
    "\n",
    "\\begin{equation}\n",
    "\\label{eq:rtbp_r1_r2}\n",
    "\\begin{array}{rcl}\n",
    "\\vec{r}_1 & = & (x-x_1)\\hat e_x + (y-y_1)\\hat e_y + z\\hat e_z\\\\\n",
    "\\vec{r}_2 & = & (x-x_2)\\hat e_x + (y-y_2)\\hat e_y + z\\hat e_z\\\\\n",
    "\\end{array}\n",
    "\\end{equation}"
   ]
  },
  {
   "cell_type": "markdown",
   "metadata": {},
   "source": [
    "Ciertamente la complejidad del problema restringido, planteado de esta manera, se ha reducido considerablemente respecto al problema general de tres cuerpos.  Pasamos, por ejemplo, de tener con 18 variables independientes (posiciones y velocidades de las tres partículas) y 3 ecuaciones vectoriales, a solo 6 variables (posición y velocidad de la partícula más ligera) y una ecuación diferencial (Ec. [rtbp](#mjx-eqn-eq%3Artbp)).   "
   ]
  },
  {
   "cell_type": "markdown",
   "metadata": {},
   "source": [
    "Aún así las cantidades $x_1(t)$, $y_1(t)$, $x_2(t)$, $y_2(t)$ que aparecen impplícitamente en la ecuación a través de las expresiones para $\\vec r_1$ y $\\vec r_2$ (Ecs. [rtbp_r1_r2](#mjx-eqn-eq%3Artbp_r1_r2)), no se pueden escribir como funciones elementales del tiempo (implícitamente es necesario resolver la Ecuación de Kepler), de modo que la solución a la ecuación de movimiento (Ec. [rtbp](#mjx-eqn-eq%3Artbp)) solo parece posible a través de procedimientos numéricos.  Si ese es el caso, lo único que habremos conseguido hasta ahora fue reducir la complejidad del problema numérico, pero sin ganar comprensión del problema físico de fondo."
   ]
  },
  {
   "cell_type": "markdown",
   "metadata": {},
   "source": [
    "¿Cómo podemos \"deshacernos\" de la limitación impuesta por las variables $x_1(t)$, $y_1(t)$, $x_2(t)$, $y_2(t)$?  \n",
    "\n",
    "Una manera de hacerlo sería considerar solo aquellas situaciones en las que estas cantidades obedezcan las expresiones más simples posibles; es decir considerar el problema solo en el caso en el que el movimiento de los cuerpos más masivos sigan las trayectorias más elementales admisibles en el problema de los dos cuerpos.  "
   ]
  },
  {
   "cell_type": "markdown",
   "metadata": {},
   "source": [
    "## 8.3. El problema circular restringido de los tres cuerpos (CRTBP)\n",
    "<a id='crtbp'></a>"
   ]
  },
  {
   "cell_type": "markdown",
   "metadata": {},
   "source": [
    "El caso más simple resulta al asumir que los cuerpos más masivos se mueven siguiendo trayectorias circulares alrededor de su centro de masa común (o equivalentemente, que el movimiento relativo es elíptico con excentricidad 0).  Al problema resultante de describir el movimiento de una partícula de masa despreciable, respecto a dos cuerpos que se mueven en orbitas circulares relativas, lo conocemos como el **problema circular restringido de los dos cuerpos** (***CRTBP*** por las siglas en inglés de *circular restricted three body problem*). "
   ]
  },
  {
   "cell_type": "markdown",
   "metadata": {},
   "source": [
    "En esta situación, la posición de las partículas más masivas se puede describir analíticamente como:\n",
    "\n",
    "\\begin{equation}\n",
    "\\begin{array}{rcl}\n",
    "x_1 & = & -a_1 \\cos (n t) \\\\\n",
    "y_1 & = & -a_1 \\sin (n t) \\\\ \n",
    "x_2 & = & +a_2 \\cos (n t) \\\\\n",
    "y_2 & = & +a_2 \\sin (n t) \\\\\n",
    "\\end{array}\n",
    "\\end{equation}\n",
    "donde $a_1=(m_2/M) a$, $a_2=(m_1/M) a$ (ver Ecs. [a1_a2](#mjx-eqn-eq%3Aa1_a2)), con $M=m_1+m_2$.  Por otro lado $n=\\sqrt{\\mu/a^3}$ es la velocidad angular del vector relativo, $\\mu=G M$ y $a$ es el semieje mayor de la órbita relativa de los cuerpos $m_1$ y $m_2$.\n",
    "\n",
    "Como puede verse $a$ es el único parámetro geométrico relevante y, junto con $\\mu$, determinan completamente la posición de las partículas más masivas en el sistema."
   ]
  },
  {
   "cell_type": "markdown",
   "metadata": {},
   "source": [
    "Conocer la forma analítica de las posiciones de las partículas masivas es un gran paso.  Sin embargo la ecuación de movimiento resultante (Ec. [rtbp](#mjx-eqn-eq%3Artbp)) sigue siendo tan complicada que es poco lo que podremos ganar analizándola con las técnicas que hemos utilizado en el texto (solución por cuadraturas)."
   ]
  },
  {
   "cell_type": "markdown",
   "metadata": {},
   "source": [
    "Existe sin embargo un recurso ingenieoso y que ofrece las oportunidades que necesitamos para ganar alguna comprensión del sistema, sin resolver numéricamente las ecuaciones de movimiento.  "
   ]
  },
  {
   "cell_type": "markdown",
   "metadata": {},
   "source": [
    "Hasta ahora, nos habíamos ocupado de estudiar los problemas del movimiento relativo de partículas en sistemas de dos o más cuerpos, en sistemas de referencia inerciales.  Pero ¿qué pasa si usamos un sistema de referencia no inercial convenientemente construído? \n",
    "\n",
    "Ya en la [Sección *Dinámica en sistemas de referencia rotantes*](05.03.00.00.Mecanica.SistemasNoInerciales.ipynb#sistemas_rotantes) habíamos mostrado como formular y resolver las ecuaciones de movimiento de partículas en sistemas no inerciales, en particular en sistemas de referencia rotantes. "
   ]
  },
  {
   "cell_type": "markdown",
   "metadata": {},
   "source": [
    "En el caso del crtbp, por ejemplo, podemos estudiar el movimiento de la partícula de prueba en un sistema de referencia no inercial que rote de modo que las partículas más masivas se mantengan en reposo.  Para lograrlo basta que la velocidad angular del sistema de referencia sea igual a $n$, es decir que $\\omega=n$ (ver [Sección *Dinámica en sistemas de referencia rotantes*](05.03.00.00.Mecanica.SistemasNoInerciales.ipynb#sistemas_rotantes))."
   ]
  },
  {
   "cell_type": "markdown",
   "metadata": {},
   "source": [
    "En un sistema de referencia como este las coordenadas de las partículas masivas se hacen las más simples posible:\n",
    "\n",
    "\\begin{eqnarray}\n",
    "\\nonumber\n",
    "x_1 & = & -\\frac{m_2}{M} a \\\\\n",
    "\\nonumber\n",
    "y_1 & = & 0 \\\\ \n",
    "\\nonumber\n",
    "x_2 & = & +\\frac{m_1}{M} a \\\\\n",
    "\\nonumber\n",
    "y_2 & = & 0 \\\\\n",
    "\\end{eqnarray}"
   ]
  },
  {
   "cell_type": "markdown",
   "metadata": {},
   "source": [
    "A pesar de esta simplificación, la ecuación de movimiento se hace más complicada: además de las aceleraciones debidas a las interacciones gravitacionales de la partícula de prueba con las partículas masivas que incluimos en la Ec. ([rtbp](#mjx-eqn-eq%3Artbp)), en el sistema rotante debemos agregar las aceleraciones no inerciales, aceleración centrífuga, aceleración de coriolis (la aceleración de Euler en este caso sera cero), cuyas formas explícitas dedujimos en la [Sección *Dinámica en sistemas de referencia rotantes*](05.03.00.00.Mecanica.SistemasNoInerciales.ipynb#sistemas_rotantes)."
   ]
  },
  {
   "cell_type": "markdown",
   "metadata": {},
   "source": [
    "La ecuación de movimiento en este sistema de referencia se escribirá como:\n",
    "\n",
    "\\begin{equation}\n",
    "\\label{eq:crtbp}\n",
    "\\ddot{\\vec{r}} = \n",
    "-\\frac{\\mu_1}{{r_{1}}^3}\\vec{r}_{1}\n",
    "-\\frac{\\mu_2}{r_{2}^3}\\vec{r}_{2}\n",
    "-\\vec{\\omega}\\times(\\vec{\\omega}\\times \\vec{r})\n",
    "-2\\vec{\\omega}\\times \\dot{\\vec{r}}\n",
    "\\end{equation}\n",
    "donde $\\vec\\omega\\equiv\\omega \\hat{e}_z$. "
   ]
  },
  {
   "cell_type": "markdown",
   "metadata": {},
   "source": [
    "Aquí es muy importante aclarar que tanto la aceleración $\\ddot{\\vec{r}}$, la velocidad $\\dot{\\vec{r}}$ y las posiciones relativas $\\vec{r}_{1}$ y $\\vec{r}_{2}$ son las del sistema rotante (las que \"primamos\" en la [Sección *Dinámica en sistemas de referencia rotantes*](05.03.00.00.Mecanica.SistemasNoInerciales.ipynb#sistemas_rotantes)).  Si no hacemos aquí la distinción entre estas cantidades y aquellas del sistema inercial (que son las que usamos en la Ec. [rtbp](#mjx-eqn-eq%3Artbp)) es por cuestión de simplicidad y espacio.  Esta distinción, sin embargo debe tenerse cuidadosamente en cuenta, cuando vayamos a implementar estas ideas en algoritmos."
   ]
  },
  {
   "cell_type": "markdown",
   "metadata": {},
   "source": [
    "## 8.4. Las unidades canónicas del CRTBP\n",
    "<a id='unidades_crtbp'></a>"
   ]
  },
  {
   "cell_type": "markdown",
   "metadata": {},
   "source": [
    "Hay una interesante simplificación de las ecuaciones de movimiento que se produce por la simple elección de un sistema de unidades apropiado."
   ]
  },
  {
   "cell_type": "markdown",
   "metadata": {},
   "source": [
    "Si, como es costumbre, escogemos un sistema de unidades en el que $G=1$, $U_M=M=m_1+m_2$ y $U_L=a$, entonces, en este sistema de coordenadas:\n",
    "\n",
    "1. $\\omega=n=\\sqrt{\\mu/a^3}=1$.\n",
    "2. Si llamamos $\\alpha\\equiv \\mu_2$, entonces $\\mu_1 = \\mu - \\mu_2=1-\\alpha$.\n",
    "3. $x_1=-\\alpha$ y $x_2=1-\\alpha$.\n",
    "\n",
    "En este sistema de unidades las ecuaciones de movimiento (Ec. [crtbp](#mjx-eqn-eq%3Acrtbp)) se pueden escribir ahora como:\n",
    "\n",
    "\\begin{equation}\n",
    "\\label{eq:crtbp_uc}\n",
    "\\ddot{\\vec{r}} = \n",
    "-(1-\\alpha)\\frac{\\vec{r}_{1}}{{r_{1}}^3}\n",
    "-\\alpha\\frac{\\vec{r}_{2}}{r_{2}^3}\n",
    "-\\hat{e}_z\\times(\\hat{e}_z\\times \\vec{r})\n",
    "-2\\hat{e}_z\\times \\dot{\\vec{r}}\n",
    "\\end{equation}\n",
    "con:\n",
    "\n",
    "\\begin{eqnarray}\n",
    "\\vec r_1 & = & (x+\\alpha)\\hat e_x + y\\hat e_y + z\\hat e_z\\\\\n",
    "\\vec r_2 & = & (x+\\alpha-1)\\hat e_x + y\\hat e_y + z\\hat e_z\\\\\n",
    "\\end{eqnarray}"
   ]
  },
  {
   "cell_type": "markdown",
   "metadata": {},
   "source": [
    "<a id='fig:crtbp_configuracion'></a>![Representación esquemática de la configuración del problema circular restringido de los tres cuerpos.  Todas las cantidades están expresadas en el sistema de unidades canónicas en el que $a=1$ (distancia entre las partículas más masivas) y $\\mu_2=\\alpha$.++t++1++\\label{fig:crtbp_configuracion}](./figures/horizontal_crtbp_configuracion.png)\n",
    "\n",
    "<center><b>Figura 8.107</b>. Representación esquemática de la configuración del problema circular restringido de los tres cuerpos.  Todas las cantidades están expresadas en el sistema de unidades canónicas en el que $a=1$ (distancia entre las partículas más masivas) y $</center>"
   ]
  },
  {
   "cell_type": "markdown",
   "metadata": {},
   "source": [
    "Con todas las restricciones implícitas en la Ec. ([crtbp_uc](#mjx-eqn-eq%3Acrtbp_uc)) podemos finalmente proceder a estudiar esta ecuación con los métodos vistos en capítulos anteriores para de este modo ganar intuición sobre el comportamiento de este tipo de sistemas. "
   ]
  },
  {
   "cell_type": "markdown",
   "metadata": {
    "tags": [
     "navigation"
    ]
   },
   "source": [
    "[Indice](index.ipynb) | Previo: [Problema3Cuerpos.Motivacion](08.00.00.00.Problema3Cuerpos.Motivacion.ipynb) | Siguiente: [Problema3Cuerpos.CRTBP.Numerico](08.01.00.00.Problema3Cuerpos.CRTBP.Numerico.ipynb)"
   ]
  }
 ],
 "metadata": {
  "celltoolbar": "Tags",
  "kernelspec": {
   "display_name": "Python 3",
   "language": "python",
   "name": "python3"
  },
  "language_info": {
   "codemirror_mode": {
    "name": "ipython",
    "version": 3
   },
   "file_extension": ".py",
   "mimetype": "text/x-python",
   "name": "python",
   "nbconvert_exporter": "python",
   "pygments_lexer": "ipython3",
   "version": "3.6.8"
  }
 },
 "nbformat": 4,
 "nbformat_minor": 2
}
