{
 "cells": [
  {
   "cell_type": "markdown",
   "metadata": {
    "tags": [
     "navigation"
    ]
   },
   "source": [
    "[Indice](index.ipynb) | Previo: [FormalismoHamiltoniano.MecanicaCeleste](10.04.00.00.FormalismoHamiltoniano.MecanicaCeleste.ipynb) | Siguiente: [FormalismoHamiltoniano.MecanicaCeleste.HamiltonJacobi](10.04.00.00.FormalismoHamiltoniano.MecanicaCeleste.HamiltonJacobi.ipynb)"
   ]
  },
  {
   "cell_type": "markdown",
   "metadata": {},
   "source": [
    "### 10.9.1. El hamiltononiano del problema de los dos cuerpos\n",
    "<a id='hamiltoniano_doscuerpos'></a>"
   ]
  },
  {
   "cell_type": "markdown",
   "metadata": {},
   "source": [
    "En el [Capítulo *El formalismo lagrangiano*](09.00.00.00.FormalismoLagrangiano.ipynb#formalismo_lagrangiano) habíamos deducido la forma general del Lagrangiano del problema relativo de dos cuerpos usando como variables generalizadas las coordenadas esféricas.  El resultado que obtuvimos fue (Ec. [lagrangiano2B_general](#mjx-eqn-eq%3Alagrangiano2B_general)): \n",
    "\n",
    "$$\n",
    "L_{2B}=\\frac{1}{2}m_r(\\dot r^2+r^2\\cos^2\\phi\\dot\\theta^2+r^2\\dot\\phi^2)+\\frac{\\mu m_r}{r}\n",
    "$$\n",
    "donde recordemos $m_r=Gm_1m_2/M$ es la masa reducida del sistema.  Podemos, partiendo de este lagrangiano y con las herramientas y métodos estudiados en este capítulo, escribir el Hamiltoniano del sistema y estudiar sus propiedades."
   ]
  },
  {
   "cell_type": "markdown",
   "metadata": {},
   "source": [
    "Para ello primero debemos encontrar los momentos canónicos conjugados de las variables generalizadas:\n",
    "\n",
    "\\begin{eqnarray}\n",
    "\\nonumber\n",
    "p_r=\\frac{\\partial L}{\\partial \\dot r} & = & m_r\\dot r\\\\\n",
    "\\nonumber\n",
    "p_\\theta=\\frac{\\partial L}{\\partial \\dot \\theta} & = & m_r r^2\\cos^2\\phi\\dot \\theta\\\\\n",
    "\\nonumber\n",
    "p_\\phi=\\frac{\\partial L}{\\partial \\dot \\phi} & = & m_r r^2\\dot \\phi\\\\\n",
    "\\end{eqnarray}\n",
    "e invertir para obtener las velocidades generalizadas como función de estos momentos:\n",
    "\n",
    "\\begin{eqnarray}\n",
    "\\nonumber\n",
    "\\dot r & = & \\frac{p_r}{m_r}\\\\\n",
    "\\nonumber\n",
    "\\dot\\theta & = & \\frac{p_\\theta}{m_r r^2\\cos^2\\phi}\\\\\n",
    "\\nonumber\n",
    "\\dot\\phi & = & \\frac{p_\\phi}{m_r r^2}\\\\\n",
    "\\end{eqnarray}\n"
   ]
  },
  {
   "cell_type": "markdown",
   "metadata": {},
   "source": [
    "Usando la definición de la función Hamiltoniana para este caso:\n",
    "\n",
    "$$\n",
    "H_\\mathrm{2B}=(r,\\theta,\\phi,p_r,p_\\theta,p_\\phi)=p_r\\dot{r}+p_\\theta\\dot{\\theta}+p_\\phi\\dot{\\phi}-L_{qp}\n",
    "$$\n",
    "y reemplazando las velocidades generalizadas como función de los momentos y variables generalizadas en esta expresion y en el lagrangiano original obtenemos:\n",
    "\n",
    "$$\n",
    "H_\\mathrm{2B}(r,\\theta,\\phi,p_r,p_\\theta,p_\\phi)=\\frac{1}{2m_r}\\left(p_r^2+\\frac{p_\\theta^2}{\\cos^2\\phi r^2}+\\frac{p_\\phi^2}{r^2}\\right)-\\frac{m_r\\mu}{r}\n",
    "$$"
   ]
  },
  {
   "cell_type": "markdown",
   "metadata": {},
   "source": [
    "¿Qué simetría podemos reconocer en este Hamiltoniano?.  Hay dos bastante evidentes y que conducen a resultados muy conocidos:\n",
    "\n",
    "1. **Variables cíclicas o ignorables**.  La variable $\\theta$ no aparece explícitamente en el Hamiltoniano y por lo tanto es ignorable.  Esto implica que la ecuación de movimiento para su momento canónico conjugado\n",
    "\n",
    "   $$\n",
    "   p_\\theta=-\\frac{\\partial H_\\mathrm{2B}}{\\partial \\theta}=0\n",
    "   $$\n",
    "   de donde se sigue por lo tanto que $p_\\theta$ es una cuadratura del sistema:\n",
    "   \n",
    "   $$\n",
    "   m_r r^2\\cos^2\\phi\\dot \\theta=\\alpha_\\theta\n",
    "   $$\n",
    "   con $\\alpha_\\theta$ una constante[$^1$](11.00.00.00.ApendiceAlgoritmos.ipynb#notaspie_1)(10.04.00.00.FormalismoHamiltoniano.HamiltonJacobi.ipynb#hamilton_jacobi) y en la que la letra $\\alpha$ esta reservada para los momentos canónicos conjugados que son constantes en un determinado sistema.]"
   ]
  },
  {
   "cell_type": "markdown",
   "metadata": {},
   "source": [
    "2. **Simetría temporal**.  El Lagrangiano del problema de los dos cuerpos no depende explícitamente del tiempo:\n",
    "\n",
    "   $$\n",
    "   \\frac{\\partial H_\\mathrm{2B}}{\\partial t}=0\n",
    "   $$\n",
    "   de donde se sigue que también es una cuadratura del sistema:\n",
    "   \n",
    "   $$\n",
    "   \\frac{1}{2m_r}\\left(p_r^2+\\frac{p_\\theta^2}{\\cos^2\\phi r^2}+\\frac{p_\\phi^2}{r^2}\\right)-\\frac{m_r\\mu}{r}=E\n",
    "   $$\n",
    "   siendo $E$ una constante, que además corresponde a la energía mecánica total del sistema."
   ]
  },
  {
   "cell_type": "markdown",
   "metadata": {},
   "source": [
    "Más allá de estas dos simetrías, el problema relativo de los dos cuerpos descrito en coordenadas esféricas en el espacio de tres dimensiones no tiene otras simetrías evidentes (volveremos sobre simetrías menos evidentes más adelante)."
   ]
  },
  {
   "cell_type": "markdown",
   "metadata": {},
   "source": [
    "Si fijamos el plano $x-y$ sobre el plano invariante de Laplace, el Hamiltoniano del sistema se simplifica: \n",
    "\n",
    "\\begin{equation}\n",
    "\\label{eq:Hamilton_2B_Laplace}\n",
    "H_\\mathrm{2B,Lap}(r,\\theta,p_r,p_\\theta)=\\frac{1}{2m_r}\\left(p_r^2+\\frac{p_\\theta^2}{r^2}\\right)-\\frac{m_r\\mu}{r}\n",
    "\\end{equation}\n",
    "donde\n",
    "\n",
    "\\begin{eqnarray}\n",
    "\\nonumber\n",
    "p_r & = & m_r\\dot r\\\\\n",
    "\\nonumber\n",
    "p_\\theta & = & m_r r^2\\dot \\theta\\\\\n",
    "\\end{eqnarray}"
   ]
  },
  {
   "cell_type": "markdown",
   "metadata": {},
   "source": [
    "### 10.9.2. Conservación del vector de excentricidad\n",
    "<a id='conservacion_e'></a>"
   ]
  },
  {
   "cell_type": "markdown",
   "metadata": {},
   "source": [
    "En el [Capítulo *El problema de los dos cuerpos*](07.00.00.00.Problema2Cuerpos.ipynb#problema_doscuerpos) aprendimos que el siguiente vector aparece en diferentes problemas de mecánica:\n",
    "\n",
    "$$\n",
    "\\vec{e}=\\frac{\\dot{\\vec{r}} \\times \\vec{h}}{\\mu} - \\frac{\\vec{r}}{r}\n",
    "$$\n",
    "y demostramos, usando el formalismo vectorial, que en el problema de los dos cuerpos es una constante de movimiento. "
   ]
  },
  {
   "cell_type": "markdown",
   "metadata": {},
   "source": [
    "Hay una manera alternativa, usando el formalismo Hamiltoniano, de probar que este vector, al que llamamos antes el vector de **vector de excentricidad** o **vector de Laplace-Hamilton**, es constante."
   ]
  },
  {
   "cell_type": "markdown",
   "metadata": {},
   "source": [
    "Para comenzar expresemos el vector de una forma más compatible con el Hamiltoniano del problema de los dos cuerpos y para ello multipliquemos $\\vec e$ por el factor constante $\\mu m_r$:\n",
    "\n",
    "$$\n",
    "\\vec{A} \\equiv \\mu m_r \\vec{e} = \\vec{p}\\times \\vec{L} -   \\mu m_r \\hat{r}\n",
    "$$\n",
    "\n",
    "Aquí $\\vec p\\equiv m_r\\dot{\\vec r}$ y $\\vec L=\\vec{r}\\times \\vec p$ son los momentos lineal y angular reducidos.  El vector expresado de esta manera es conocido también en la literatura como el **vector de Laplace-Runge-Lenz**."
   ]
  },
  {
   "cell_type": "markdown",
   "metadata": {},
   "source": [
    "Probar que este vector es constante implica demostrar que $\\mathrm{d}\\vec A/\\mathrm{d}t=\\vec o$.  En coordenadas cilíndricas y sobre el plano invariante de Laplaca (donde residen ambos la trayectoria del vector relativo y el vector $\\vec A$), esto implica demostrar que las componentes del vector:\n",
    "\n",
    "\\begin{equation}\n",
    "\\label{eq:dAdt_cilindricas}\n",
    "\\frac{\\mathrm{d}\\vec A}{\\mathrm{d}t}=\n",
    "\\left(\\frac{\\mathrm{d}A_r}{\\mathrm{d}t}-A_\\theta\\dot\\theta\\right)\\hat{a}_r+\n",
    "\\left(\\frac{\\mathrm{d}A_\\theta}{\\mathrm{d}t}+A_r\\dot\\theta\\right)\\hat{a}_\\theta\n",
    "\\end{equation}\n",
    "son también nulas."
   ]
  },
  {
   "cell_type": "markdown",
   "metadata": {},
   "source": [
    "En la [Sección *Cantidades conservadas y los corchetes de Poisson*](10.02.00.00.FormalismoHamiltoniano.Simetrias.ipynb#corchetes_poisson) habíamos mostrado que es posible calcular la derivada total de una función $f$ de las coordenadas del espacio de fase de un sistema usando los corchetes de Poisson:\n",
    "\n",
    "$$\n",
    "\\frac{\\mathrm{d}f}{\\mathrm{d}t}=\\{f,H\\}+\\frac{\\partial f}{\\partial t}\n",
    "$$\n",
    "\n",
    "En nuestro caso, podemos usar esta relación para calcular las derivadas $\\mathrm{d}A_r/\\mathrm{d}t$ y $\\mathrm{d}A_\\theta/\\mathrm{d}t$."
   ]
  },
  {
   "cell_type": "markdown",
   "metadata": {},
   "source": [
    "Para ello debemos primero escribir estas componentes, de forma explícita, como función de las coordenadas del espacio de fase del sistema:\n",
    "\n",
    "$$\n",
    "\\vec A=\\left(p_r \\hat{a}_r + \\frac{p_\\theta}{r}\\hat{a}_\\theta\\right)\\times p_\\theta\\hat{a}_z-\\mu m_r\\hat{a}_r\n",
    "$$"
   ]
  },
  {
   "cell_type": "markdown",
   "metadata": {},
   "source": [
    "Realizando el producto cruz encontramos que las componentes del vector $\\vec A$ son:\n",
    "\n",
    "\\begin{eqnarray}\n",
    "\\nonumber\n",
    "A_r & = & \\frac{p_\\theta^2}{r}-\\mu m_r\\\\\n",
    "\\nonumber\n",
    "A_\\theta & = & -p_r p_\\theta\n",
    "\\end{eqnarray}\n",
    "\n"
   ]
  },
  {
   "cell_type": "markdown",
   "metadata": {},
   "source": [
    "Evaluemos por separado el corchete de Poisson de cada componente del vector, con el Hamiltoniano del problema de los dos cuerpos en el plano de Laplace:\n",
    "\n",
    "$$\n",
    "H=\\frac{1}{2m_r}\\left(p_r^2+\\frac{p_\\theta^2}{r^2}\\right)-\\frac{m_r\\mu}{r}\n",
    "$$"
   ]
  },
  {
   "cell_type": "markdown",
   "metadata": {},
   "source": [
    "El corchete correspondiente a la componente radial del vector es:\n",
    "\n",
    "\\begin{eqnarray}\n",
    "\\label{eq:Ar_H}\n",
    "\\{A_r,H\\} & = & \\left\\{\\frac{p_\\theta^2}{r},H\\right\\}\\\\\n",
    "\\nonumber\n",
    "          & = & \\left\\{\\frac{p_\\theta^2}{r},\\frac{p_r^2}{2m_r}\\right\\}+\n",
    "                 \\left\\{\\frac{p_\\theta^2}{r},\\frac{p_\\theta^2}{2m_rr^2}\\right\\}-\n",
    "                 \\left\\{\\frac{p_\\theta^2}{r},\\frac{\\mu m_r}{r}\\right\\} \\\\\n",
    "\\end{eqnarray}"
   ]
  },
  {
   "cell_type": "markdown",
   "metadata": {},
   "source": [
    "Dado que por definición:\n",
    "\n",
    "$$\n",
    "\\{f,g\\}=\\sum_j\\left(\\frac{\\partial f}{\\partial q_j}\\frac{\\partial g}{\\partial p_j}-\\frac{\\partial f}{\\partial p_j}\\frac{\\partial g}{\\partial q_j}\\right)\n",
    "$$\n",
    "una manera de saber si un corchete de Poisson de una expresión relativamente complicada es nulo es formular la pregunta: ¿contiene la función $f$ una variable y al mismo tiempo la función $g$ su canónica conjugada?.  Si la respuesta a esta pregunta es negativa, entonces el corchete es nulo."
   ]
  },
  {
   "cell_type": "markdown",
   "metadata": {},
   "source": [
    "Al aplicar este criterio a los corchetes en el lado derecho de la Ec. ([Ar_H](#mjx-eqn-eq%3AAr_H)) nos damos cuenta que solo el primer corchete no es nulo y su valor viene dado por la definición por:\n",
    "\n",
    "$$\n",
    "\\{A_r,H\\} = \n",
    "\\frac{\\partial}{\\partial r}\\left(\\frac{p_\\theta^2}{r}\\right)\n",
    "\\frac{\\partial}{\\partial p_r}\\left(\\frac{p_r^2}{2m_r}\\right) = \n",
    "-\\frac{p_r p_\\theta^2}{m_rr^2}=-A_\\theta\\dot{\\theta}\n",
    "$$\n"
   ]
  },
  {
   "cell_type": "markdown",
   "metadata": {},
   "source": [
    "Por otro lado el corchete de Poisson de la componente $A_\\theta$ viene dado por:\n",
    "\n",
    "$$\n",
    "\\{A_\\theta,H\\}=\n",
    "-\\left\\{p_r p_\\theta,\\frac{p_r^2}{2m_r}\\right\\}-\n",
    "\\left\\{p_r p_\\theta,\\frac{p_\\theta^2}{2m_rr^2}\\right\\}+\n",
    "\\left\\{p_r p_\\theta,\\frac{\\mu m_r}{r}\\right\\}\n",
    "$$\n",
    "y aplicando el mismo criterio anterior:\n",
    "\n",
    "$$\n",
    "\\{A_\\theta,H\\}=\n",
    "\\frac{\\partial}{\\partial p_r}(p_r p_\\theta)\\frac{\\partial}{\\partial r}\\left(\\frac{p_\\theta^2}{2m_r r^2}\\right)-\n",
    "\\frac{\\partial}{\\partial p_r}(p_r p_\\theta)\\frac{\\partial}{\\partial r}\\left(\\frac{\\mu m_r}{r}\\right)\n",
    "$$"
   ]
  },
  {
   "cell_type": "markdown",
   "metadata": {},
   "source": [
    "Derivando queda:\n",
    "\n",
    "$$\n",
    "\\{A_\\theta,H\\}=\n",
    "-\\frac{p_\\theta^3}{m_r r^3}\n",
    "+\\frac{\\mu m_r p_\\theta}{r^2}\n",
    "$$\n",
    "que se puede probar es igual a:\n",
    "\n",
    "$$\n",
    "\\{A_\\theta,H\\}=-A_r\\dot\\theta\n",
    "$$"
   ]
  },
  {
   "cell_type": "markdown",
   "metadata": {},
   "source": [
    "Reemplazando en la Ec. ([dAdt_cilindricas](#mjx-eqn-eq%3AdAdt_cilindricas)) obtenemos:\n",
    "\n",
    "\\begin{eqnarray}\n",
    "\\nonumber\n",
    "\\frac{\\mathrm{d}\\vec A}{\\mathrm{d}t} & = & \n",
    "\\left(\\{A_r,H\\}-A_\\theta\\dot\\theta\\right)\\hat{a}_r+\n",
    "\\left(\\{A_\\theta,H\\}+A_r\\dot\\theta\\right)\\hat{a}_\\theta\\\\\n",
    "\\nonumber\n",
    "& = & \n",
    "\\left(A_\\theta\\dot\\theta-A_\\theta\\dot\\theta\\right)\\hat{a}_r\n",
    "\\left(-A_r\\dot\\theta+A_r\\dot\\theta\\right)\\hat{a}_\\theta\\\\\n",
    "\\nonumber\n",
    "& = & \\vec o\n",
    "\\end{eqnarray}\n",
    "con lo que queda demostrado que el vector de Laplace-Runge-Lenz y por lo tanto el vector de excentricidad son cuadraturas del problema de los dos cuerpos."
   ]
  },
  {
   "cell_type": "markdown",
   "metadata": {
    "tags": [
     "footnote"
    ]
   },
   "source": [
    "**NOTAS AL PIE:**\n",
    "\n",
    "<a id='notaspie_1'></a>\n",
    "1. Aquí hemos utilizado la notación que usamos en la [Sección *El método de Hamilton-Jacobi*\n",
    "\n"
   ]
  },
  {
   "cell_type": "markdown",
   "metadata": {
    "tags": [
     "navigation"
    ]
   },
   "source": [
    "[Indice](index.ipynb) | Previo: [FormalismoHamiltoniano.MecanicaCeleste](10.04.00.00.FormalismoHamiltoniano.MecanicaCeleste.ipynb) | Siguiente: [FormalismoHamiltoniano.MecanicaCeleste.HamiltonJacobi](10.04.00.00.FormalismoHamiltoniano.MecanicaCeleste.HamiltonJacobi.ipynb)"
   ]
  }
 ],
 "metadata": {
  "celltoolbar": "Tags",
  "kernelspec": {
   "display_name": "Python 3",
   "language": "python",
   "name": "python3"
  },
  "language_info": {
   "codemirror_mode": {
    "name": "ipython",
    "version": 3
   },
   "file_extension": ".py",
   "mimetype": "text/x-python",
   "name": "python",
   "nbconvert_exporter": "python",
   "pygments_lexer": "ipython3",
   "version": "3.6.8"
  }
 },
 "nbformat": 4,
 "nbformat_minor": 2
}
