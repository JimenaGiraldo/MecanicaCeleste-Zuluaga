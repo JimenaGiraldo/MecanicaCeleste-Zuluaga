{
 "cells": [
  {
   "cell_type": "markdown",
   "metadata": {
    "tags": [
     "navigation"
    ]
   },
   "source": [
    "[Indice](index.ipynb) | Previo: [FormalismoHamiltoniano.MecanicaCeleste.Problema2Cuerpos](10.04.00.00.FormalismoHamiltoniano.MecanicaCeleste.Problema2Cuerpos.ipynb) | Siguiente: [ApendiceAlgoritmos](11.00.00.00.ApendiceAlgoritmos.ipynb)"
   ]
  },
  {
   "cell_type": "markdown",
   "metadata": {},
   "source": [
    "### 10.9.3. El método de Hamilton-Jacobi en mecánica celeste\n",
    "<a id='hamilton_jacobi_celeste'></a>"
   ]
  },
  {
   "cell_type": "markdown",
   "metadata": {},
   "source": [
    "Si de encontrar simetrías adicionales del problema de los dos cuerpos se trata, no hay un método mejor de hallarlas que el de Hamilton-Jacobi.  Usemos el procedimiento general que presentamos en la [Sección *El método de Hamilton-Jacobi*](10.04.00.00.FormalismoHamiltoniano.HamiltonJacobi.ipynb#hamilton_jacobi) para buscar una transformación canónica que produzca el Hamiltoniano más simétrico posible en el problema de los dos cuerpos y del que podamos además derivar el mayor número adicional de constantes de movimiento."
   ]
  },
  {
   "cell_type": "markdown",
   "metadata": {},
   "source": [
    "1. **Hamitoniano original**. El Hamiltoniano de partida es el del problema de los dos cuerpos referido al plano invariante de Laplace:\n",
    "\n",
    "   \\begin{equation}\n",
    "   \\label{eq:Hamilton_2B_Laplace}\n",
    "   H=\\frac{1}{2m_r}\\left(p_r^2+\\frac{p_\\theta^2}{r^2}\\right)-\\frac{m_r\\mu}{r}\n",
    "   \\end{equation}"
   ]
  },
  {
   "cell_type": "markdown",
   "metadata": {},
   "source": [
    "2. **Variables y Hamiltoniano objetivo**. Para resolver el problema sabemos que existe una transformación canónica $(r,\\theta,p_r,p_\\theta)\\rightarrow(\\beta_r,\\beta_\\theta,\\alpha_r,\\alpha_\\theta)$ tal que en el nuevo conjunto de variables:\n",
    "\n",
    "   $$\n",
    "   \\begin{array}{rcl}\n",
    "   K(\\beta_r,\\beta_\\theta,\\alpha_r,\\alpha_\\theta) & = & 0 \\\\\n",
    "   \\dot{\\beta}_r & = & 0\\\\\n",
    "   \\dot{\\beta}_\\theta & = & 0\\\\\n",
    "   \\dot{\\alpha}_r & = & 0\\\\\n",
    "   \\dot{\\alpha}_\\theta & = & 0\\\\\n",
    "   \\end{array}\n",
    "   $$"
   ]
  },
  {
   "cell_type": "markdown",
   "metadata": {},
   "source": [
    "3. **Propiedades de la transformación**. Asumimos que la transformación canónica tiene una función generatriz del tipo $F_{qP}$ que llamaremos $S(r,\\theta,\\alpha_1,\\alpha_2,t)$, tal que:\n",
    "\n",
    "   \\begin{eqnarray}\n",
    "   \\nonumber\n",
    "   p_r & = & \\frac{\\partial S}{\\partial r}\\\\\n",
    "   \\nonumber\n",
    "   p_\\theta& = & \\frac{\\partial S}{\\partial \\theta}\\\\\n",
    "   \\nonumber\n",
    "   \\beta_r & = & \\frac{\\partial S}{\\partial \\alpha_r}\\\\\n",
    "   \\nonumber\n",
    "   \\beta_\\theta & = & \\frac{\\partial S}{\\partial \\alpha_\\theta}\\\\\n",
    "   \\nonumber\n",
    "   0 & = & H+\\frac{\\partial S}{\\partial t}\\\\\n",
    "   \\end{eqnarray}"
   ]
  },
  {
   "cell_type": "markdown",
   "metadata": {},
   "source": [
    "4. **La energía y la ecuación de Hamilton-Jacobi**. La última ecuación del apartado anterior tiene dos implicaciones posibles.  \n",
    "\n",
    "   1. Dado que el hamiltoniano del sistema cumple las condiciones del teorema de conservación de la energía se cumple que:\n",
    "      $$\n",
    "      \\frac{\\partial S}{\\partial t}=-E\n",
    "      $$\n",
    "      que puede integrarse para obtener:\n",
    "   \n",
    "      $$\n",
    "      S(r,\\theta,\\alpha_r,\\alpha_\\theta,t)=W(r,\\theta,\\alpha_r,\\alpha_\\theta)-Et\n",
    "      $$\n",
    "      \n",
    "   2. La ecuación de Hamilton-Jacobi en este caso será:\n",
    "   \n",
    "      $$\n",
    "      \\frac{1}{2m_r}\\left[\\left(\\frac{\\partial W}{\\partial r}\\right)^2+\\frac{1}{r^2}\\left(\\frac{\\partial W}{\\partial \\theta}\\right)^2\\right]-\\frac{m_r\\mu}{r}=E\n",
    "      $$"
   ]
  },
  {
   "cell_type": "markdown",
   "metadata": {},
   "source": [
    "5. **Solución a la ecuación de Hamilton-Jacobi y la función generatriz**. Si asumimos que la función característica $W$ puede escribirse como:\n",
    "\n",
    "   $$\n",
    "   W=W_r+W_\\theta\n",
    "   $$\n",
    "   la ecuación de Hamilton Jacobi se convierte ahora en dos ecuaciones:\n",
    "   \n",
    "   \\begin{eqnarray}\n",
    "   \\nonumber\n",
    "   \\left(\\frac{\\partial W_r}{\\partial r}\\right)^2 + \\frac{\\alpha_\\theta}{r^2} & = & 2m_r\\left(E+\\frac{m_r\\mu}{r}\\right)\\\\\n",
    "   \\nonumber\n",
    "   \\frac{\\partial W_\\theta}{\\partial \\theta} & = & \\alpha_\\theta\\\\\n",
    "   \\end{eqnarray}\n",
    "   \n",
    "   En estas dos ecuaciones, hay dos constantes: $E$ y $\\alpha_\\theta$.  En lo que sigue asignaremos el rol de $\\alpha_r$ a la energía.\n",
    "   \n",
    "   Las ecuaciones individuales son integrables y producen:\n",
    "   \n",
    "   \\begin{eqnarray}\n",
    "   \\nonumber\n",
    "   W_r & = & \\int dr \\sqrt{2m_r\\left(E+\\frac{m_r\\mu}{r}\\right)-\\frac{\\alpha_\\theta^2}{r^2}}\\\\\n",
    "   \\nonumber\n",
    "   W_\\theta & = & \\alpha_\\theta\\theta\\\\\n",
    "   \\end{eqnarray}\n",
    "   \n",
    "   Aquí es importante anotar que en el problema de los dos cuerpos $p_\\theta=m_r r^2 \\dot{\\theta}=m_r h$ donde $h$ es el momento angular relativo específico.  Por otro lado, por las propiedades de la función generatriz:\n",
    "   \n",
    "   $$\n",
    "   p_\\theta=\\frac{\\partial S}{\\partial\\theta}=\\alpha_\\theta\n",
    "   $$\n",
    "   donde hemos usado la solución para $W_\\theta$ obtenida anteriormente.  De aquí identificamos la constante $\\alpha_\\theta=m_r h$ que reemplazaremos aquí y allá. \n",
    "   \n",
    "   Con estos resultados la función generatriz queda:\n",
    "   \n",
    "   $$\n",
    "   S(r,\\theta,E,\\alpha_\\theta)=\\alpha_\\theta \\theta+\\int dr \\sqrt{2m_r\\left(E+\\frac{m_r\\mu}{r}\\right)-\\frac{\\alpha_\\theta^2}{r^2}}-E t\n",
    "   $$"
   ]
  },
  {
   "cell_type": "markdown",
   "metadata": {},
   "source": [
    "6. **Variable generalizada en el nuevo sistema**. Las variables generalizadas $\\beta_r$ y $\\beta_\\theta$ se obtienen derivando la función generatriz\n",
    "\n",
    "    $$\n",
    "    \\beta_r=\\frac{\\partial S}{\\partial E}=I_r-t\n",
    "    $$\n",
    "    donde $I_r$ es la integral:\n",
    "\n",
    "   $$\n",
    "   I_r=\\int \\frac{m_r dr}{\\sqrt{2m_r(E+m_r\\mu/r)-\\alpha_\\theta^2/r^2}}\n",
    "   $$\n",
    "\n",
    "   Por otro lado:\n",
    "   $$\n",
    "   \\beta_\\theta=\\frac{\\partial S}{\\partial \\alpha_\\theta}=\\theta-I_\\theta\n",
    "   $$\n",
    "\n",
    "   Donde $I_\\theta$ es:\n",
    "\n",
    "   $$\n",
    "   I_\\theta=\\int \\frac{\\alpha_\\theta^2 dr}{r^2\\sqrt{2m_r(E+m_r\\mu/r)-\\alpha_\\theta^2/r^2}}\n",
    "   $$\n",
    "\n",
    "   Resolviendo para las variables originales:\n",
    "\n",
    "   \\begin{eqnarray}\n",
    "   \\label{eq:solucion_r_t_2B}\n",
    "   t&=&\\int \\frac{m_r dr}{\\sqrt{2m_r(E+m_r\\mu/r)-\\alpha_\\theta^2/r^2}}-\\beta_r\\\\\n",
    "   \\label{eq:solucion_teta_r_2B}\n",
    "   \\theta&=&\\beta_\\theta+\\int \\frac{\\alpha_\\theta^2 dr}{r^2\\sqrt{2m_r(E+m_r\\mu/r)-\\alpha_\\theta^2/r^2}}\n",
    "   \\end{eqnarray}\n",
    "   \n",
    "   La primera ecuación debería darnos en principio la dependencia de $r$ del tiempo.  La segunda nos da la dependencia de $\\theta$ de $r$.\n",
    "   "
   ]
  },
  {
   "cell_type": "markdown",
   "metadata": {},
   "source": [
    "En este problema el paso 7, que corresponde el cálculo de los momentos del sistema original, no es tan relevante.  Por un lado uno de esos momento $p_\\theta$, que hemos llamado aquí $\\alpha_\\theta$, es constante y su valor fue asumido como parte del procedimiento (se puede determinar a partir de las condiciones iniciales).  Del otro lado las resultados obtenidas al final del procedimiento son suficientes para especificar completamente la trayectoria del sistema en el espacio coordenado que es, en última instancia, el interés central del problema."
   ]
  },
  {
   "cell_type": "markdown",
   "metadata": {},
   "source": [
    "No deja de sorprender sin embargo como un problema al que dedicamos tanto tiempo y espacio en capítulos anteriores (aunque naturalmente dijimos mucho sobre él más allá de resolverlo) puede verse reducido a los 6 pasos del procedimiento anterior.  El problema de Kepler es justamente uno de esos problemas mecánicos en el que el poder del método de Hamilton-Jacobi se hace más evidente.  "
   ]
  },
  {
   "cell_type": "markdown",
   "metadata": {},
   "source": [
    "### 10.9.4. El espacio de fase de los elementos orbitales\n",
    "<a id='fase_elementos_orbitales'></a>"
   ]
  },
  {
   "cell_type": "markdown",
   "metadata": {},
   "source": [
    "Existen diversas maneras de convertir las soluciones escritas en las Ec. ([solucion_r_t_2B](#mjx-eqn-eq%3Asolucion_r_t_2B)) y ([solucion_teta_r_2B](#mjx-eqn-eq%3Asolucion_teta_r_2B)) en soluciones útiles en mecánica celeste.  "
   ]
  },
  {
   "cell_type": "markdown",
   "metadata": {},
   "source": [
    "Así por ejemplo, si derivamos la Ec. ([solucion_r_t_2B](#mjx-eqn-eq%3Asolucion_r_t_2B)) con respecto a $r$ obtenemos:\n",
    "\n",
    "$$\n",
    "\\frac{\\mathrm{d}t}{\\mathrm{d}r}=\\frac{m_r}{\\sqrt{2m_r(E+m_r\\mu/r)-\\alpha_\\theta^2/r^2}}\n",
    "$$\n",
    "e invertimos, obtenemos una ecuación familiar para nosotros en el problema de los dos cuerpos:\n",
    "\n",
    "$$\n",
    "\\frac{1}{2}\\dot{r}^2=\\frac{E}{m_r}-\\left(-\\frac{\\mu}{r}+\\frac{h^2}{2r^2}\\right)\n",
    "$$\n",
    "donde hemos hecho $\\alpha_\\theta=m_r h$.  Derivando una vez respecto al tiempo y haciendo el cambio de variables $u=1/r$ esta ecuación finalmente se convierte en la que llamamos la *ecuación de la forma orbital*:\n",
    "\n",
    "$$\n",
    "\\frac{d^2 u}{d\\theta^2}+u=-\\frac{1}{h^2 u^2}f\\left(\\frac{1}{u}\\right)\n",
    "$$\n",
    "de la que se sigue sin demora que la trayectoria del sistema es una cónica."
   ]
  },
  {
   "cell_type": "markdown",
   "metadata": {},
   "source": [
    "Por otro lado, si en la integral de la misma Ec. ([solucion_r_t_2B](#mjx-eqn-eq%3Asolucion_r_t_2B)), hacemos el cambio de variable:\n",
    "\n",
    "\\begin{equation}\n",
    "\\label{eq:cambio_variable_rE}\n",
    "r=a(1-e\\cos E) \\mathrm{,}\\;dr=ae\\sin E\\;\\mathrm{d}E\n",
    "\\end{equation}\n",
    "después de un poco de álgebra, la ecuación se convierte en:\n",
    "\n",
    "$$\n",
    "t=\\frac{a^{3/2}}{\\sqrt{\\mu}}(E-e\\sin E)-\\beta_r\n",
    "$$\n",
    "y si llamamos $n=\\sqrt{\\mu/a^{3}}$, la ecuación anterior no es otra cosa que la ecuación de Kepler:\n",
    "\n",
    "$$\n",
    "n(t+\\beta_r)=E-e\\sin E\n",
    "$$\n",
    "lo que nos permite identificar la constante $\\beta_r$ (una de las variable generalizadas en el nuevo espacio de fase) con el negativo del tiempo de paso del cuerpo por el periapsis $t_p$:\n",
    "\n",
    "$$\n",
    "\\beta_r=-t_p\n",
    "$$"
   ]
  },
  {
   "cell_type": "markdown",
   "metadata": {},
   "source": [
    "Es decir, una sola de las ecuaciones obtenidas con el método de Hamilton-Jacobi es suficiente para darnos la ecuación de la trayectoria y la solución del problema en el tiempo."
   ]
  },
  {
   "cell_type": "markdown",
   "metadata": {},
   "source": [
    "¿Qué información contiene la segunda ecuación (Ec. [solucion_teta_r_2B](#mjx-eqn-eq%3Asolucion_teta_r_2B))?. Si hacemos el mismo cambio de variable de la Ec. ([cambio_variable_rE](#mjx-eqn-eq%3Acambio_variable_rE)) para resolver la integral de esta ecuación, obtenemos (ver Problemas al final del Capítulo):\n",
    "\n",
    "$$\n",
    "\\theta=\\beta_\\theta+\\frac{\\alpha_\\theta}{m_r}\\frac{f}{\\sqrt{a\\mu(1-e^2)}}\n",
    "$$\n",
    "donde $f$ es la anomalía verdadera.  Si tenemos en cuenta que $\\alpha_\\theta=m_r h$ y $h=\\sqrt{\\mu p}=\\sqrt{a\\mu(1-e^2)}$ entones:\n",
    "\n",
    "$$\n",
    "\\theta=\\beta_\\theta+f\n",
    "$$\n",
    "de donde podemos interpretar que $\\beta_\\theta$ no es otra cosa que el *argumento del perihelio* $\\omega$, o lo que es lo mismo, el ángulo entre la dirección del eje $x$ y el peripasis."
   ]
  },
  {
   "cell_type": "markdown",
   "metadata": {},
   "source": [
    "En síntesis, el problema de los dos cuerpos sobre el plano invariante de Laplace, puede describirse con un Hamiltoniano y en un espacio de fases dado por:\n",
    "\n",
    "\\begin{eqnarray}\n",
    "\\nonumber\n",
    "K(Q_1,Q_2,P_1,P_2) & = & 0\\\\\n",
    "\\nonumber\n",
    "Q_1 & = & -t_0\\\\\n",
    "\\nonumber\n",
    "Q_2 & = & \\omega\\\\\n",
    "\\nonumber\n",
    "P_1 & = & -\\frac{m_r\\mu}{2a} \\\\\n",
    "\\nonumber\n",
    "P_2 & = & m_r\\sqrt{\\mu a(1-e^2)}\\\\\n",
    "\\end{eqnarray}\n",
    "donde hemos reemplazado $E=-m_r\\mu/(2a)$."
   ]
  },
  {
   "cell_type": "markdown",
   "metadata": {},
   "source": [
    "Es decir, una transformación canónica apropiada nos permite pasarnos del espacio de fase original $(r,\\theta,p_r,p_\\theta)$ en el que la dinámica es relativamente completa, a un espacio de fase donde las coordenadas son esencialmente funciones de los elementos orbitales (constantes) del problema ($t_0$, $\\omega$, $a$, $e$) y en el que el sistema se mantiene en total reposo ($K=0$). ¡Esta si que es una poderosa simplificación del problema!"
   ]
  },
  {
   "cell_type": "markdown",
   "metadata": {},
   "source": [
    "### 10.9.5. Las variables de Delaunay\n",
    "<a id='variables_delaunay'></a>"
   ]
  },
  {
   "cell_type": "markdown",
   "metadata": {},
   "source": [
    "Un procedimiento similar al que seguimos en la [Sección *El método de Hamilton-Jacobi en mecánica celeste*](#hamilton_jacobi_celeste) puede usarse para resolver el problema de los dos cuerpos en el espacio de tres dimensiones, donde el Hamiltoniano es:\n",
    "\n",
    "$$\n",
    "H=\\frac{1}{2m_r}\\left(p_r^2+\\frac{p_\\theta^2}{\\cos^2\\phi r^2}+\\frac{p_\\phi^2}{r^2}\\right)-\\frac{m_r\\mu}{r}\n",
    "$$"
   ]
  },
  {
   "cell_type": "markdown",
   "metadata": {},
   "source": [
    "Al hacerlo y expresar de forma análoga a como lo hicimos en el caso del sistema en dos dimension, las nuevas variables del espacio de fase en términos de elementos orbitales, se obtiene:\n",
    "\n",
    "\\begin{eqnarray}\n",
    "\\nonumber\n",
    "K(Q_1,Q_2,Q_3,P_1,P_2,P_3) & = & 0\\\\\n",
    "\\nonumber\n",
    "Q_1 & = & -t_0\\\\\n",
    "\\nonumber\n",
    "Q_2 & = & \\omega\\\\\n",
    "\\nonumber\n",
    "Q_3 & = & \\Omega\\\\\n",
    "\\nonumber\n",
    "P_1 & = & -\\frac{m_r\\mu}{2a} \\\\\n",
    "\\nonumber\n",
    "P_2 & = & m_r\\sqrt{\\mu a(1-e^2)}\\\\\n",
    "\\nonumber\n",
    "P_3 & = & m_r\\sqrt{\\mu a(1-e^2)}\\cos i\\\\\n",
    "\\end{eqnarray}"
   ]
  },
  {
   "cell_type": "markdown",
   "metadata": {},
   "source": [
    "Este nuevo sistema admite dos simplificaciones adicionales que son de amplio uso en la mecánica celeste. La primera tiene que ver con la eliminación del incómodo parámetro $m_r$.  Para ello podemos usar una transformación de coordinadas tal que :\n",
    "\n",
    "$$\n",
    "\\begin{array}{rcl}\n",
    "q_i & = & Q_i\\\\\n",
    "p_i & = & P_i/m_r\\\\\n",
    "\\end{array}\n",
    "$$"
   ]
  },
  {
   "cell_type": "markdown",
   "metadata": {},
   "source": [
    "Es trivial mostrar que este nuevo conjunto de coordenadas también son canónicas conjugadas y que el Hamiltoniano correspondiente $K'=0$.  Con esto el sistema anterior se transforma en:\n",
    "\n",
    "\\begin{eqnarray}\n",
    "\\nonumber\n",
    "K'(q_1,q_2,q_3,p_1,p_2,p_3) & = & 0\\\\\n",
    "\\nonumber\n",
    "q_1 & = & -t_0\\\\\n",
    "\\nonumber\n",
    "q_2 & = & \\omega\\\\\n",
    "\\nonumber\n",
    "q_3 & = & \\Omega\\\\\n",
    "\\nonumber\n",
    "p_1 & = & -\\frac{\\mu}{2a} \\\\\n",
    "\\nonumber\n",
    "p_2 & = & \\sqrt{\\mu a(1-e^2)}\\\\\n",
    "\\nonumber\n",
    "p_3 & = & \\sqrt{\\mu a(1-e^2)}\\cos i\\\\\n",
    "\\end{eqnarray}"
   ]
  },
  {
   "cell_type": "markdown",
   "metadata": {},
   "source": [
    "En este nuevo sistema de coordenadas, las variables generalizadas $q_2$ y $q_3$ son ángulos, pero no lo es la variable $q_1$.  Preguntemonos cuál debería ser una transformación canónica tal que las nuevas coordenadas del espacio de fase tuvierna la forma:\n",
    "\n",
    "\\begin{eqnarray}\n",
    "\\nonumber\n",
    "l_D & = & n(t+q_1) = n(t-t_p) = M\\\\\n",
    "\\nonumber\n",
    "g_D & = & q_2 = \\omega\\\\\n",
    "\\nonumber\n",
    "h_D & = & q_3 = \\Omega\\\\\n",
    "\\nonumber\n",
    "L_D & = & ? \\\\\n",
    "\\nonumber\n",
    "G_D & = & p_2 = m_r\\sqrt{\\mu a(1-e^2)}\\\\\n",
    "\\nonumber\n",
    "H_D & = & p_3 = m_r\\sqrt{\\mu a(1-e^2)}\\cos i\\\\\n",
    "\\end{eqnarray}\n",
    "donde la forma funcional del momento canónico conjugado de la nueva variable $l_D$ esta por determinarse."
   ]
  },
  {
   "cell_type": "markdown",
   "metadata": {},
   "source": [
    "De la teoría de transformaciones canónicas básicas, sabemos que una transformación una función generatriz del tipo $F_{qP}$, permite obtener la variable $l_D$ por medio de la expresión:\n",
    "\n",
    "$$\n",
    "l_D=\\frac{\\partial F_{qP}}{\\partial L_D}\n",
    "$$"
   ]
  },
  {
   "cell_type": "markdown",
   "metadata": {},
   "source": [
    "Si queremos entonces cambiar la variable $l_D$ para que tenga la forma deseada, manteniendo las demás variables inalteradas, la función generatriz debe tener la forma:\n",
    "\n",
    "$$\n",
    "F_{qP}(q_1,q_2,q_3,L_D,G_D,H_D,t)=n(t+q_1)L_D+q_2 G_D+q_3 H_D\n",
    "$$"
   ]
  },
  {
   "cell_type": "markdown",
   "metadata": {},
   "source": [
    "La función generatriz nos permite además encontrar la forma de $L_D$ a través de la relación:\n",
    "\n",
    "$$\n",
    "p_1=\\frac{\\partial F_{qP}}{\\partial q_1}=nL_D\n",
    "$$\n",
    "donde sabemos que $p_1=-\\mu/(2a)$ y por lo tanto:\n",
    "\n",
    "$$\n",
    "L_D=-\\frac{\\sqrt{\\mu a}}{2}\n",
    "$$"
   ]
  },
  {
   "cell_type": "markdown",
   "metadata": {},
   "source": [
    "Una forma aún más simple para $L_D$ puede obtener si se usa la función generatriz:\n",
    "\n",
    "$$\n",
    "F_{qP}(q_1,q_2,q_3,L_D,G_D,H_D,t)=\\left(n L_D-\\frac{3\\mu}{2a}\\right)(t+q_1)+q_2 G_D+q_3 H_D\n",
    "$$\n",
    "que no altera en nada el objetivo original de que $l_D=M$, pero para el cuál el momento canónico conjugado queda:\n",
    "\n",
    "$$\n",
    "L_D=\\sqrt{\\mu a}\n",
    "$$"
   ]
  },
  {
   "cell_type": "markdown",
   "metadata": {},
   "source": [
    "Una consecuencia de que la función generatriz de la nueva transformación dependa explícitamente del tiempo (que es el precio a pagara para que $l_D$ sea la anomalía media) es que el Hamiltoniano en estas nuevas variables ya no es 0:\n",
    "\n",
    "$$\n",
    "K_D(l_D,g_D,h_D,L_D,G_D,H_D)=K'(q_1,q_2,q_3,p_1,p_2,p_3)+\\frac{\\partial F_{qP}}{\\partial t}\n",
    "$$"
   ]
  },
  {
   "cell_type": "markdown",
   "metadata": {},
   "source": [
    "En síntesis, el sistema después de las simplificaciones realizadas queda:\n",
    "\n",
    "\\begin{eqnarray}\n",
    "\\nonumber \n",
    "K_D & = & -\\frac{\\mu^2}{2L^2}\\\\\n",
    "\\nonumber \n",
    "l_D & = & M\\\\\n",
    "\\nonumber \n",
    "g_D & = & \\omega\\\\\n",
    "\\nonumber \n",
    "h_D & = & \\Omega\\\\\n",
    "\\nonumber \n",
    "L_D & = & \\sqrt{\\mu a} \\\\\n",
    "\\nonumber \n",
    "G_D & = & \\sqrt{\\mu a(1-e^2)}\\\\\n",
    "\\nonumber \n",
    "H_D & = & \\sqrt{\\mu a(1-e^2)}\\cos i\\\\\n",
    "\\end{eqnarray}"
   ]
  },
  {
   "cell_type": "markdown",
   "metadata": {},
   "source": [
    "A este conjunto de variables, ampliamente conocido en la mecánica celeste, se lo conoce como las **variables de Delaunay**.  Si bien su utilidad y poder no será explorada en este texto, basta con decir que son de uso muy frecuente en la teoría de perturbaciones que queda para un libro más avanzado."
   ]
  },
  {
   "cell_type": "markdown",
   "metadata": {
    "tags": [
     "navigation"
    ]
   },
   "source": [
    "[Indice](index.ipynb) | Previo: [FormalismoHamiltoniano.MecanicaCeleste.Problema2Cuerpos](10.04.00.00.FormalismoHamiltoniano.MecanicaCeleste.Problema2Cuerpos.ipynb) | Siguiente: [ApendiceAlgoritmos](11.00.00.00.ApendiceAlgoritmos.ipynb)"
   ]
  }
 ],
 "metadata": {
  "celltoolbar": "Tags",
  "kernelspec": {
   "display_name": "Python 3",
   "language": "python",
   "name": "python3"
  },
  "language_info": {
   "codemirror_mode": {
    "name": "ipython",
    "version": 3
   },
   "file_extension": ".py",
   "mimetype": "text/x-python",
   "name": "python",
   "nbconvert_exporter": "python",
   "pygments_lexer": "ipython3",
   "version": "3.6.8"
  }
 },
 "nbformat": 4,
 "nbformat_minor": 2
}
