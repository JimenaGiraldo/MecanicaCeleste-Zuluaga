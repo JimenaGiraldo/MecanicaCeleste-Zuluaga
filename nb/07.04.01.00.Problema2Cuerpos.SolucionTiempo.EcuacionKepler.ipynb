{
 "cells": [
  {
   "cell_type": "markdown",
   "metadata": {
    "tags": [
     "navigation"
    ]
   },
   "source": [
    "[Indice](index.ipynb) | Previo: [Problema2Cuerpos.OrbitaEspacio](07.03.00.00.Problema2Cuerpos.OrbitaEspacio.ipynb) | Siguiente: [Problema2Cuerpos.SolucionTiempo.AproximacionKepler](07.04.02.00.Problema2Cuerpos.SolucionTiempo.AproximacionKepler.ipynb)"
   ]
  },
  {
   "cell_type": "markdown",
   "metadata": {},
   "source": [
    "## 7.1. El problema de los dos cuerpos en el tiempo\n",
    "<a id='doscuerpos_tiempo'></a>"
   ]
  },
  {
   "cell_type": "markdown",
   "metadata": {},
   "source": [
    "Como vimos en la [Sección *Constantes de movimiento*](07.02.00.00.Problema2Cuerpos.ProblemaRelativo.ipynb#doscuerpos_constantes), **ninguna** de las constantes de movimiento identificadas en el problema relativo de los dos cuerpos, depende explícitamente del tiempo.  Esto implica que con las cuadraturas disponibles lo único que podemos hacer es expresar la posición y velocidad en términos de un parámetro, la anomalía verdadera $f$ (ver [Sección *La ecuación de la trayectoria*](07.02.00.00.Problema2Cuerpos.ProblemaRelativo.ipynb#doscuerpos_ecuacion)) sin tener todavía ninguna clave de cómo este parámetro depende del tiempo.  En esta sección nos proponemos justamente eso, encontrar la manera de calcular la anomalía verdadera del vector relativo (o cualquiera de las otras anomalías definidas antes) para cualquier instante del tiempo.  Llamamos a este el *problema de Kepler* y su solución no es otra cosa que el objetivo perseguido desde el principio de este libro."
   ]
  },
  {
   "cell_type": "markdown",
   "metadata": {},
   "source": [
    "Para ello debemos primero responder a la pregunta: ¿hay alguna propiedad geométrica en el movimiento del vector relativo sobre la cónica cuyo valor puede predecirse exactamente en el tiempo?  Examinando los teoremas del movimiento orbital (ver [Sección *Teoremas del movimiento orbital*](07.02.00.00.Problema2Cuerpos.ProblemaRelativo.ipynb#teoremas_orbital)) nos damos cuenta que la única cantidad con esta propiedad es el área $A$ barrida por el radio vector (area del *sector de cónica*) que, deacuerdo con el Teo. ([ncuerpos_solucion](07.02.00.00.Problema2Cuerpos.ProblemaRelativo.ipynb#box:teo:areas)), cambia uniformemente con el tiempo a razón de (Ec. [velocidad_areal](#mjx-eqn-eq%3Avelocidad_areal)):\n",
    "\n",
    "$$\n",
    "\\frac{\\mathrm{d}A}{\\mathrm{d}t}=\\frac{h}{2}\n",
    "$$\n",
    "\n",
    "Si integramos esta ecuación el área del sector de cónica barrida por el vector relativo entre el tiempo de paso por el periapsis $t_p$ y un tiempo arbitrario $t$ será:\n",
    "\n",
    "\\begin{equation}\n",
    "\\label{eq:area_sector_tiempo}\n",
    "\\Delta A = \\frac{h}{2}(t-t_p)\n",
    "\\end{equation}"
   ]
  },
  {
   "cell_type": "markdown",
   "metadata": {},
   "source": [
    "Ahora bien, como vimos en la [Sección *Áreas de las cónicas*](04.02.04.00.Fundamentos.Conicas.Areas.ipynb#area_conicas) el área del sector $\\Delta A$ depende explícitamente de las anomalías (verdadera o excéntrica), de modo la Ec. ([area_sector_tiempo](#mjx-eqn-eq%3Aarea_sector_tiempo)) combinada con la expresión explícita de $\\Delta A$ como función de las anomalías proveerá la respuestas final a la pregunta formulada aquí."
   ]
  },
  {
   "cell_type": "markdown",
   "metadata": {},
   "source": [
    "### 7.10.1. La ecuación de Halley\n",
    "<a id='ecuacion_halley'></a>"
   ]
  },
  {
   "cell_type": "markdown",
   "metadata": {},
   "source": [
    "Aunque no es común presentarlo en este orden e históricamente el caso de la parábola fue el último en ser planteado como se muestra aquí, comenzaremos por resolver la pregunta de cómo calcular la anomalía verdadera del vector relativo en el problema de los dos cuerpos que se mueven sobre una parábola, $e=1$ (p.e. un cometa.) "
   ]
  },
  {
   "cell_type": "markdown",
   "metadata": {},
   "source": [
    "En la [Sección *Área de las cónicas*](04.02.04.00.Fundamentos.Conicas.Areas.ipynb#area_elipse) habíamos deducido geométricamente la relación entre el área de un sector de parábola y la anomalía verdadera correspondiente:\n",
    "\n",
    "$$\n",
    "\\Delta A_\\mathrm{parabola}=\\frac{1}{4}p^2\\left(\\tan\\frac{f}{2}+\\frac{1}{3}\\tan^3\\frac{f}{2}\\right)\n",
    "$$"
   ]
  },
  {
   "cell_type": "markdown",
   "metadata": {},
   "source": [
    "Dado que por la Ec. ([](#mjx-eqn-1){eq:area_sector_tiempo) sabemos cuánto vale $\\Delta A$ en cualquier tiempo, podemos escribir explícitamente:\n",
    "\n",
    "$$\n",
    "\\frac{1}{2}h(t-t_p)=\\frac{1}{4}p^2\\left(\\tan\\frac{f}{2}+\\frac{1}{3}\\tan^3\\frac{f}{2}\\right)\n",
    "$$"
   ]
  },
  {
   "cell_type": "markdown",
   "metadata": {},
   "source": [
    "Si usamos $h=\\sqrt{\\mu p}$ obtenemos después de algunas manipulaciones algebraicas elementales:\n",
    "\n",
    "\\begin{equation}\n",
    "\\label{eq:ecuacion_barker}\n",
    "6\\sqrt{\\frac{\\mu}{p^3}}(t-t_p)=\\tan^3\\frac{f}{2}+3\\tan\\frac{f}{2}\n",
    "\\end{equation}\n",
    "\n",
    "Llamaremos a esta ecuación, la **ecuación de Halley** y su solución nos brinda finalmente la respuesta a la pregunta original. "
   ]
  },
  {
   "cell_type": "markdown",
   "metadata": {
    "label": "",
    "subtitle": "¿Halley o Barker?",
    "tags": [
     "box_history"
    ],
    "title": "Un poco de historia"
   },
   "source": [
    "> **Un poco de historia: ¿Halley o Barker?.**<a id=''></a> Es común presentar la Ec. ([ecuacion_halley](#mjx-eqn-eq%3Aecuacion_halley)) en la forma:\n",
    "\n",
    "> $$\n",
    "  2\\sqrt{\\frac{\\mu}{p^3}}(t-t_p)=\\tan\\frac{f}{2}+\\frac{1}{3}\\tan^3\\frac{f}{2}\n",
    "  $$\n",
    "> y referirse a ella como la **Ecuación de Barker**.  Así lo hacen prácticamente la totalidad de los textos de mecánica celeste escritos en los últimos 250 años.  \n",
    "\n",
    "> Una indagación histórica más juiciosa <cite data-cite=\"Colwell1993Kepler\"><a href=\"mybook.html#Colwell1993Kepler\">(Colwell, 1993)</a></cite> ha revelado, sin embargo, que el primero en deducir y utilizar esta ecuación fue Edmund Halley ([\"Edmond Hali\"](https://forvo.com/search/Halley/en_uk/).)\n",
    "\n",
    "> Halley (1656-1742, ver Figura ([halley](#fig:halley))) fue un virtuoso inglés contemporáneo de Newton, cuyos trabajos científicos abarcaron áreas tan diversas como la astronomía (en la que hizo sus principales contribuciones), la física, la meteorología, las matemáticas y la geofísica.  Fue Halley en 1684 quién presentó a Newton el problema que conduciría a este a su teoría general de la gravitación: qué tipo de trayectoria seguirá un cuerpo que se mueva bajo la influencia de una fuerza que disminuya con el cuadrado de la distancia.  Newton respondió a este problema con la monografía \"*De Motu corporum in gyrum*\", que no es otra cosa que la \"semilla\" de la Mecánica Celeste moderna.  En 1687, Halley culminó el \"trabajo editorial\" de su vida al publicar la primera edición de los *Principia* de Newton.\n",
    "\n",
    "> En 1705, más de veinte años después de la publicación de los Principia, Halley publicá la monografía \"Una sinopsis de la astronomía de los cometas\" [$^1$](11.00.00.00.ApendiceAlgoritmos.ipynb#notaspie_1) en la que compila información observacional relacionada con los cometas observados en su tiempo y en siglos anteriores y de provee tablas de posiciones pasadas y futuras de esos mismos cometas.  Es en este trabajo en el que Halley introduce por primera vez la Ec. ([ecuacion_halley](#mjx-eqn-eq%3Aecuacion_halley)), la cual utiliza para el cálculo de sus tablas.  Allí, además, Halley realizá el trascendental descubrimiento por el que sería recordado por siempre. Según sus análisis tres cometas que habían sido observado en 1531, 1607 y 1682 (esté último observado y registrado por él mismo) eran en realidad uno solo. Armado con la teoría de Newton Halley predice que el cometa se aproximaría nuevamente al Sol y a la Tierra en el año 1758.  Lamentablemente no viviría lo suficiente para hacer realidad su predicción, que se cumplió sin falta.  Hoy, el mencionado cometa lleva su nombre, 1P/Halley o \"cometa Halley\". Sus últimas apariciones (antes de la preparación de este libro) se produjeron en 1910 y 1986 y las próximas serán en 2061 y 2134 (ver Figura ([Halley](#fig:Halley)).)\n",
    "\n",
    "> ¿Por qué entonces la mayoría de los autores llaman a la Ec. ([ecuacion_halley](#mjx-eqn-eq%3Aecuacion_halley)), \"ecuación de Barker\"? \n",
    "\n",
    "> En 1757, apenas un año antes del regreso del cometa Halley, El meteorologo inglés Thomas Barker escribió una monografía titulada \"Un relato sobre los descubrimientos relacionados con los cometas\" en la que no solo realizaba predicciones precisas de la posición de los cometas sobre órbitas parabólicas sino también aplicaba los mismos métodos teóricos para estudiar el problema más práctico del movimiento de proyectiles.  Barker uso en su trabajo la Ec. ([ecuacion_halley](#mjx-eqn-eq%3Aecuacion_halley)) para sus predicciones y no sabemos si la dedujo por su cuenta o la tomó del trabajo de Halley (como seguramente debió ocurrir) sin hacer necesariamente referencia a él (una práctica común en la época, especialmente si se trataba de resultados que no erán muy difíciles de deducir.) En 1793, el astrónomo Henry Englefield publico su influyente libro \"Sobre la determinación de las órbitas de los cometas\" en el que uso, entre otros, los métodos de Barker.  Para dar crédito a su autor, fue Englefield el que llamo por primera vez a la Ec. ([ecuacion_halley](#mjx-eqn-eq%3Aecuacion_halley)) \"ecuación de Barker\" y de allí se nutrieron los autores sucesivos."
   ]
  },
  {
   "cell_type": "markdown",
   "metadata": {},
   "source": [
    "<a id='fig:halley'></a>![Halley.++t!++1++\\label{fig:halley}](./figures/horizontal_halley.png)\n",
    "\n",
    "<center><b>Figura 7.84</b>. Halley.</center>"
   ]
  },
  {
   "cell_type": "markdown",
   "metadata": {},
   "source": [
    "¿Tiene la ecuación de Halley una solución analítica?  Si usamos la variable auxiliar $z\\equiv\\tan(f/2)$ la Ec. ([ecuacion_barker](#mjx-eqn-eq%3Aecuacion_barker)) se puede escribir como:\n",
    "\n",
    "$$\n",
    "z^3+3z-2M_p=0\n",
    "$$\n",
    "donde,\n",
    "\n",
    "\\begin{equation}\n",
    "\\label{eq:Mp}\n",
    "M_p\\equiv3\\sqrt{\\frac{\\mu}{p^3}}(t-t_p)\n",
    "\\end{equation}\n",
    "una cantidad que llamaremos la *anomalía media parabólica*."
   ]
  },
  {
   "cell_type": "markdown",
   "metadata": {},
   "source": [
    "Esta ecuación cúbica tiene solo una raiz real <cite data-cite=\"Meire1985Barker\"><a href=\"mybook.html#Meire1985Barker\">(Meire, 1985)</a></cite>:\n",
    "\n",
    "$$\n",
    "z=\\sqrt[3]{M_p+\\sqrt{M_p^2+1}}+\\sqrt[3]{M_p-\\sqrt{M_p^2+1}}\n",
    "$$"
   ]
  },
  {
   "cell_type": "markdown",
   "metadata": {},
   "source": [
    "Si definimos la variable auxiliar $y\\equiv\\sqrt[3]{M_p+\\sqrt{M_p^2+1}}$, la solución a la ecuación de Halley se puede escribir finalmente como:\n",
    "\n",
    "$$\n",
    "\\tan\\frac{f}{2}=y-\\frac{1}{y}\n",
    "$$"
   ]
  },
  {
   "cell_type": "markdown",
   "metadata": {},
   "source": [
    "Una aproximación interesante y útil se obtiene cuando consideramos el caso de tiempos muy cercanos al paso por el periapsis $(t-t_p)\\rightarrow 0$.  En esta situación $M_p\\ll 1$ y una aproximación a $y$ se puede obtener con el teorema del binomio:\n",
    "\n",
    "\\begin{eqnarray}\n",
    "\\nonumber\n",
    "y & \\approx & 1+\\frac{1}{3}M_p\\\\\n",
    "\\frac{1}{y} & \\approx & 1-\\frac{1}{3}M_p\n",
    "\\end{eqnarray}\n",
    "\n",
    "Por otro lado como $f\\ll 1$,\n",
    "\n",
    "$$\n",
    "\\tan\\frac{f}{2}\\approx \\frac{f}{2}\n",
    "$$\n",
    "con lo que resulta:\n",
    "\n",
    "\\begin{equation}\n",
    "\\label{eq:f_Mp}\n",
    "f\\approx \\frac{4}{3}M_p\\;\\mathrm{para}\\;M_p\\ll 1\n",
    "\\end{equation}"
   ]
  },
  {
   "cell_type": "markdown",
   "metadata": {},
   "source": [
    "Como acostumbramos aquí, podemos \"verificar\" este resultado usando el siguiente algoritmo:"
   ]
  },
  {
   "cell_type": "code",
   "execution_count": 1,
   "metadata": {
    "codelabel": "",
    "codeplot": 0
   },
   "outputs": [],
   "source": [
    "#Constantes del sistema\n",
    "mu=1.0\n",
    "h=3.0\n",
    "\n",
    "#Tamaño de la parabola\n",
    "p=h**2/mu\n",
    "\n",
    "#Tiempo de paso por el periapsis\n",
    "tp=0.0\n",
    "\n",
    "#Tiempo en el que deseamos calcular f\n",
    "t=1.0\n",
    "\n",
    "#Anomalía media parabólica\n",
    "from numpy import sqrt\n",
    "Mp=3*sqrt(mu/p**3)*(t-tp)\n",
    "\n",
    "#Variable auxiliar\n",
    "y=(Mp+sqrt(1+Mp**2))**(1./3)\n",
    "\n",
    "#Raíz de la ecuación de Halley\n",
    "z=y-1/y\n",
    "\n",
    "#Anomalía verdadera\n",
    "from numpy import arctan\n",
    "f=2*arctan(z)\n",
    "\n",
    "#Aproximación de la anomalía media\n",
    "faprox=(4./3)*Mp\n",
    "\n",
    "#Polinomio cúbico en z\n",
    "polinomio=z**3+3*z-2*Mp"
   ]
  },
  {
   "cell_type": "code",
   "execution_count": 11,
   "metadata": {
    "codelabel": "",
    "codeplot": 0,
    "tags": [
     "hide_input"
    ]
   },
   "outputs": [
    {
     "name": "stdout",
     "output_type": "stream",
     "text": [
      "Porpiedades del sistema: h=3, mu=1, tp=0\n",
      "Solución al problema de Kepler en t = 1:\n",
      "Anomalía parabólica: Mp = 6.3662 grados\n",
      "Variable auxiliar: y = 1.0376528\n",
      "Anomalía verdadera: z = tan(f/2) = 0.0739393\n",
      "Anomalía verdadera: f = 8.4574333 grados\n",
      "Aproximación: 4/3 Mp = 8.4882636 grados\n",
      "Polinomio: z^3 + 3z - 2Mp = 7.494005416219807e-16\n"
     ]
    }
   ],
   "source": [
    "from numpy import pi\n",
    "print(f\"Porpiedades del sistema: h={h:g}, mu={mu:g}, tp={tp:g}\")\n",
    "print(f\"Solución al problema de Kepler en t = {t:g}:\")\n",
    "print(f\"Anomalía parabólica: Mp = {Mp*180/pi:g} grados\")\n",
    "print(f\"Variable auxiliar: y = {y:.7f}\")\n",
    "print(f\"Anomalía verdadera: z = tan(f/2) = {z:.7f}\")\n",
    "print(f\"Anomalía verdadera: f = {f*180/pi:.7f} grados\")\n",
    "print(f\"Aproximación: 4/3 Mp = {faprox*180/pi:.7f} grados\")\n",
    "print(f\"Polinomio: z^3 + 3z - 2Mp = {polinomio}\")"
   ]
  },
  {
   "cell_type": "markdown",
   "metadata": {
    "label": "",
    "subtitle": "La anomalía media parabólica no es un ángulo",
    "tags": [
     "box_note"
    ],
    "title": "Nota"
   },
   "source": [
    "> **Nota: La anomalía media parabólica no es un ángulo.**<a id=''></a> Aunque en el resultado del algoritmo anterior, hemos presentado el valor de la anomalía media parabólica $M_p$ en grados, no puede interpretarse esta cantidad como un verdadero ángulo. "
   ]
  },
  {
   "cell_type": "markdown",
   "metadata": {},
   "source": [
    "### 7.10.2. La ecuación de Kepler\n",
    "<a id='ecuacion_kepler'></a>"
   ]
  },
  {
   "cell_type": "markdown",
   "metadata": {},
   "source": [
    "En la [Sección *Área de las cónicas*](04.02.04.00.Fundamentos.Conicas.Areas.ipynb#area_conicas) habíamos deducido geométricamente el área de un sector de elipse como función de la anomalía excéntrica (Ec. [area_sector_elipse](#mjx-eqn-eq%3Aarea_sector_elipse)).  Usando ahora el teorema de áreas en la Ec. ([area_sector_tiempo](#mjx-eqn-eq%3Aarea_sector_tiempo)) podemos escribir la relación:\n",
    "\n",
    "$$\n",
    "\\frac{h}{2}(t-t_p)  = \\frac{1}{2} ab (E - e \\sin E)\n",
    "$$"
   ]
  },
  {
   "cell_type": "markdown",
   "metadata": {},
   "source": [
    "Si tenemos en cuenta el teorema armónico (Teo. [area_sector_tiempo](07.02.00.00.Problema2Cuerpos.ProblemaRelativo.ipynb#box:teo:armonico)), a saber que \n",
    "\n",
    "$$a^3 n^2=\\mu$$ \n",
    "y las relaciones que $p=h^2/\\mu$ y $a=p/(1-e^2)$ obtenemos finalmente la ecuación:\n",
    "\n",
    "\\begin{equation}\n",
    "\\label{eq:ecuacion_kepler}\n",
    "M = E - e \\sin E\n",
    "\\end{equation}\n",
    "donde $M\\equiv n(t-t_p)$ se conoce como la **anomalía media elíptica** o simplemente **anomalía media**. \n",
    "\n",
    "A esta ecuación fundamental se la conoce universalmente como la **Ecuación de Kepler**."
   ]
  },
  {
   "cell_type": "markdown",
   "metadata": {},
   "source": [
    "El mismo procedimiento puede usarse para deducir una ecuación análoga en el caso de la hipérbola.  \n",
    "\n",
    "Usando el área del sector en la Ec. ([area_sector_hiperbola](#mjx-eqn-eq%3Aarea_sector_hiperbola)) y aplicando el teorema de áreas obtenemos:\n",
    "\n",
    "$$\n",
    "\\frac{h}{2}(t-t_p)  = \\frac{1}{2} |a|\\beta (e \\sinh F - F)\n",
    "$$\n",
    "donde $\\beta=|a|(e^2-1)$ y $F$ es la anomalía excéntrica sobre la hipérbola."
   ]
  },
  {
   "cell_type": "markdown",
   "metadata": {},
   "source": [
    "Una manipulación algebraica similar a la usada para deducir la Ecuación de Kepler en el caso elíptico conduce a:\n",
    "\n",
    "\\begin{equation}\n",
    "\\label{eq:ecuacion_kepler_hiperbola}\n",
    "M_h = e \\sin F - F\n",
    "\\end{equation}\n",
    "donde $M_h\\equiv n_h(t-t_p)$ se conoce como la **anomalía media hiperbólica** y hemos introducido una nueva cantidad $n_h$, que guarda una relación con el valor absoluto del semieje mayor $|a|$, similar a la que guarda la velocidad angular promedio $n$ en el caso elíptico:\n",
    "\n",
    "$$\n",
    "|a|^3 n_h^2=\\mu\n",
    "$$ \n",
    "\n",
    "Llamamos a la Ec. ([ecuacion_kepler_hiperbola](#mjx-eqn-eq%3Aecuacion_kepler_hiperbola)), la *ecuación de Kepler hiperbólica*."
   ]
  },
  {
   "cell_type": "markdown",
   "metadata": {},
   "source": [
    "### 7.10.3. La función generalizada de Kepler\n",
    "<a id='funcion_kepler'></a>"
   ]
  },
  {
   "cell_type": "markdown",
   "metadata": {},
   "source": [
    "Las ecuaciones de Kepler para elipses e hipérbolas son muy parecidas pero no pueden escribirse como una sola ecuación de términos de las mismas funciones explícitas.  Sin embargo es posible usar una \"parametrización\" o notación que permite unificarlas, al menos para los propósitos de escribir por ejemplo algunos algoritmos de solución.  "
   ]
  },
  {
   "cell_type": "markdown",
   "metadata": {},
   "source": [
    "Para ello definamos las siguientes variables y funciones auxiliares:\n",
    "\n",
    "$$\n",
    "\\sigma,\\mathrm{c}(G),\\mathrm{s}(G),\\mathrm{t}(G)=\n",
    "\\left\\{\n",
    "\\begin{array}{ll}\n",
    "+1,\\cos G,\\sin G,\\tan G & e<1\\\\\n",
    "-1,\\cosh G,\\sinh G,\\tanh G & e>1\n",
    "\\end{array}\n",
    "\\right.\n",
    "$$\n",
    "donde $G$ es la *anomalía excéntrica generalizada* ($E$ o $F$ dependiendo de la cónica)."
   ]
  },
  {
   "cell_type": "markdown",
   "metadata": {},
   "source": [
    "Con esta parametrización podemos definir la **función generalizada de Kepler**:\n",
    "\n",
    "\\begin{equation}\n",
    "\\label{eq:kepler_generalizada}\n",
    "k(G;M,e)=\\sigma[G-e\\;\\mathrm{s}(G)]-M\n",
    "\\end{equation}\n",
    "donde $M=n(t-t_p)$, $n^2|a|^3=\\mu$ y $a=p(1-e^2)$.\n",
    "\n",
    "Las derivadas de esta función con respecto de $G$, que serán utilizadas más adelante, son por su parte:\n",
    "\n",
    "\\begin{eqnarray}\n",
    "\\label{eq:kepler_generalizada_derivada1}\n",
    "k'(G;M,e)\\equiv\\frac{\\mathrm{d}k}{\\mathrm{d}G} & = & \\sigma[1-e\\;\\mathrm{c}(G)]\\\\\n",
    "\\label{eq:kepler_generalizada_derivada2}\n",
    "k''(G;M,e)\\equiv\\frac{\\mathrm{d}^2k}{\\mathrm{d}G^2} & = & e\\;\\mathrm{s}(G)\\\\\n",
    "\\end{eqnarray}"
   ]
  },
  {
   "cell_type": "markdown",
   "metadata": {},
   "source": [
    "La ecuación de Kepler generalizada será entonces:\n",
    "\n",
    "\\begin{equation}\n",
    "\\label{eq:kepler_generalizada}\n",
    "k(G;M,e)=0\n",
    "\\end{equation}\n",
    "y su solución nos da el valor de la anomalía excéntrica generalizada $G$, una vez provistos los valores de la anomalía media $M$ y la excentricidad $e$ de la cónica. "
   ]
  },
  {
   "cell_type": "markdown",
   "metadata": {},
   "source": [
    "Con el valor de $G$, la anomalía verdadera $f$ se calcula finalmente como:\n",
    "\n",
    "\\begin{equation}\n",
    "\\label{eq:f_G}\n",
    "\\tan\\frac{f}{2}=\\sqrt{\\frac{1+e}{\\sigma(1-e)}}\\;\\mathrm{t}\\left(\\frac{G}{2}\\right)\n",
    "\\end{equation}"
   ]
  },
  {
   "cell_type": "markdown",
   "metadata": {},
   "source": [
    "La siguiente rutina permite implementar la función generalizada de Kepler y calcular además de su valor, el de su primera y segunda derivada:"
   ]
  },
  {
   "cell_type": "markdown",
   "metadata": {},
   "source": [
    "<a id='code:funcion_kepler'></a>"
   ]
  },
  {
   "cell_type": "code",
   "execution_count": 29,
   "metadata": {
    "codelabel": "code:funcion_kepler--export",
    "codeplot": 0,
    "tags": [
     "code:funcion_kepler",
     "export"
    ]
   },
   "outputs": [],
   "source": [
    "def funcion_kepler(G,M=0,e=0):\n",
    "    #Parametro sigma\n",
    "    sigma=+1 if e<1 else -1\n",
    "    #Funciones cG, sG\n",
    "    from numpy import cos,cosh,sin,sinh\n",
    "    cG=cos(G) if e<1 else cosh(G)\n",
    "    sG=sin(G) if e<1 else sinh(G)\n",
    "    #Función de Kepler\n",
    "    k=sigma*(G-e*sG)-M\n",
    "    #Primera derivada\n",
    "    kp=sigma*(1-e*cG)\n",
    "    #Segunda derivada\n",
    "    kpp=e*sG\n",
    "    return k,kp,kpp"
   ]
  },
  {
   "cell_type": "markdown",
   "metadata": {},
   "source": [
    "En la Figura ([code:plot_funcion_kepler](#fig:code:plot_funcion_kepler)) se presentan curvas de la función generalizada de Kepler para distintos valores de la excéntricidad, tanto en el caso de elipse como en el de hipérbolas.  En cada caso la intersección de la función generalizada de Kepler con el eje $G$ es igual al valor de la anomalía excéntrica correspondiente a la respectiva anomalía media y excentricidad."
   ]
  },
  {
   "cell_type": "code",
   "execution_count": 30,
   "metadata": {
    "codelabel": "",
    "codeplot": 0,
    "tags": [
     "hide_pdf",
     "hide_html"
    ]
   },
   "outputs": [],
   "source": [
    "%matplotlib nbagg"
   ]
  },
  {
   "cell_type": "markdown",
   "metadata": {},
   "source": [
    "<a id='code:plot_funcion_kepler'></a>"
   ]
  },
  {
   "cell_type": "code",
   "execution_count": 32,
   "metadata": {
    "codelabel": "fig:07.04.01.00.Problema2Cuerpos.SolucionTiempo.EcuacionKepler_85",
    "codeplot": 1,
    "figcaption": "<b>Figura 7.85.</b> Gráficos de la función generalizada de Kepler $k(G;M,e)$ para $M=\\pi/2$ y para distintos valores de la excentricidad (elipses, líneas continuas e hipérbolas, lineas rayadas.) El intercepto de cada curva con el eje horizontal G (línea continua horizontal) provee el valor de la anomalía excéntrica $G$ correspondiente a los valores de $M$ y de $e$ respectivos.",
    "tags": [
     "hide_autocaption",
     "hide_input",
     "code:plot_funcion_kepler"
    ]
   },
   "outputs": [
    {
     "data": {
      "application/javascript": [
       "/* Put everything inside the global mpl namespace */\n",
       "window.mpl = {};\n",
       "\n",
       "\n",
       "mpl.get_websocket_type = function() {\n",
       "    if (typeof(WebSocket) !== 'undefined') {\n",
       "        return WebSocket;\n",
       "    } else if (typeof(MozWebSocket) !== 'undefined') {\n",
       "        return MozWebSocket;\n",
       "    } else {\n",
       "        alert('Your browser does not have WebSocket support. ' +\n",
       "              'Please try Chrome, Safari or Firefox ≥ 6. ' +\n",
       "              'Firefox 4 and 5 are also supported but you ' +\n",
       "              'have to enable WebSockets in about:config.');\n",
       "    };\n",
       "}\n",
       "\n",
       "mpl.figure = function(figure_id, websocket, ondownload, parent_element) {\n",
       "    this.id = figure_id;\n",
       "\n",
       "    this.ws = websocket;\n",
       "\n",
       "    this.supports_binary = (this.ws.binaryType != undefined);\n",
       "\n",
       "    if (!this.supports_binary) {\n",
       "        var warnings = document.getElementById(\"mpl-warnings\");\n",
       "        if (warnings) {\n",
       "            warnings.style.display = 'block';\n",
       "            warnings.textContent = (\n",
       "                \"This browser does not support binary websocket messages. \" +\n",
       "                    \"Performance may be slow.\");\n",
       "        }\n",
       "    }\n",
       "\n",
       "    this.imageObj = new Image();\n",
       "\n",
       "    this.context = undefined;\n",
       "    this.message = undefined;\n",
       "    this.canvas = undefined;\n",
       "    this.rubberband_canvas = undefined;\n",
       "    this.rubberband_context = undefined;\n",
       "    this.format_dropdown = undefined;\n",
       "\n",
       "    this.image_mode = 'full';\n",
       "\n",
       "    this.root = $('<div/>');\n",
       "    this._root_extra_style(this.root)\n",
       "    this.root.attr('style', 'display: inline-block');\n",
       "\n",
       "    $(parent_element).append(this.root);\n",
       "\n",
       "    this._init_header(this);\n",
       "    this._init_canvas(this);\n",
       "    this._init_toolbar(this);\n",
       "\n",
       "    var fig = this;\n",
       "\n",
       "    this.waiting = false;\n",
       "\n",
       "    this.ws.onopen =  function () {\n",
       "            fig.send_message(\"supports_binary\", {value: fig.supports_binary});\n",
       "            fig.send_message(\"send_image_mode\", {});\n",
       "            if (mpl.ratio != 1) {\n",
       "                fig.send_message(\"set_dpi_ratio\", {'dpi_ratio': mpl.ratio});\n",
       "            }\n",
       "            fig.send_message(\"refresh\", {});\n",
       "        }\n",
       "\n",
       "    this.imageObj.onload = function() {\n",
       "            if (fig.image_mode == 'full') {\n",
       "                // Full images could contain transparency (where diff images\n",
       "                // almost always do), so we need to clear the canvas so that\n",
       "                // there is no ghosting.\n",
       "                fig.context.clearRect(0, 0, fig.canvas.width, fig.canvas.height);\n",
       "            }\n",
       "            fig.context.drawImage(fig.imageObj, 0, 0);\n",
       "        };\n",
       "\n",
       "    this.imageObj.onunload = function() {\n",
       "        fig.ws.close();\n",
       "    }\n",
       "\n",
       "    this.ws.onmessage = this._make_on_message_function(this);\n",
       "\n",
       "    this.ondownload = ondownload;\n",
       "}\n",
       "\n",
       "mpl.figure.prototype._init_header = function() {\n",
       "    var titlebar = $(\n",
       "        '<div class=\"ui-dialog-titlebar ui-widget-header ui-corner-all ' +\n",
       "        'ui-helper-clearfix\"/>');\n",
       "    var titletext = $(\n",
       "        '<div class=\"ui-dialog-title\" style=\"width: 100%; ' +\n",
       "        'text-align: center; padding: 3px;\"/>');\n",
       "    titlebar.append(titletext)\n",
       "    this.root.append(titlebar);\n",
       "    this.header = titletext[0];\n",
       "}\n",
       "\n",
       "\n",
       "\n",
       "mpl.figure.prototype._canvas_extra_style = function(canvas_div) {\n",
       "\n",
       "}\n",
       "\n",
       "\n",
       "mpl.figure.prototype._root_extra_style = function(canvas_div) {\n",
       "\n",
       "}\n",
       "\n",
       "mpl.figure.prototype._init_canvas = function() {\n",
       "    var fig = this;\n",
       "\n",
       "    var canvas_div = $('<div/>');\n",
       "\n",
       "    canvas_div.attr('style', 'position: relative; clear: both; outline: 0');\n",
       "\n",
       "    function canvas_keyboard_event(event) {\n",
       "        return fig.key_event(event, event['data']);\n",
       "    }\n",
       "\n",
       "    canvas_div.keydown('key_press', canvas_keyboard_event);\n",
       "    canvas_div.keyup('key_release', canvas_keyboard_event);\n",
       "    this.canvas_div = canvas_div\n",
       "    this._canvas_extra_style(canvas_div)\n",
       "    this.root.append(canvas_div);\n",
       "\n",
       "    var canvas = $('<canvas/>');\n",
       "    canvas.addClass('mpl-canvas');\n",
       "    canvas.attr('style', \"left: 0; top: 0; z-index: 0; outline: 0\")\n",
       "\n",
       "    this.canvas = canvas[0];\n",
       "    this.context = canvas[0].getContext(\"2d\");\n",
       "\n",
       "    var backingStore = this.context.backingStorePixelRatio ||\n",
       "\tthis.context.webkitBackingStorePixelRatio ||\n",
       "\tthis.context.mozBackingStorePixelRatio ||\n",
       "\tthis.context.msBackingStorePixelRatio ||\n",
       "\tthis.context.oBackingStorePixelRatio ||\n",
       "\tthis.context.backingStorePixelRatio || 1;\n",
       "\n",
       "    mpl.ratio = (window.devicePixelRatio || 1) / backingStore;\n",
       "\n",
       "    var rubberband = $('<canvas/>');\n",
       "    rubberband.attr('style', \"position: absolute; left: 0; top: 0; z-index: 1;\")\n",
       "\n",
       "    var pass_mouse_events = true;\n",
       "\n",
       "    canvas_div.resizable({\n",
       "        start: function(event, ui) {\n",
       "            pass_mouse_events = false;\n",
       "        },\n",
       "        resize: function(event, ui) {\n",
       "            fig.request_resize(ui.size.width, ui.size.height);\n",
       "        },\n",
       "        stop: function(event, ui) {\n",
       "            pass_mouse_events = true;\n",
       "            fig.request_resize(ui.size.width, ui.size.height);\n",
       "        },\n",
       "    });\n",
       "\n",
       "    function mouse_event_fn(event) {\n",
       "        if (pass_mouse_events)\n",
       "            return fig.mouse_event(event, event['data']);\n",
       "    }\n",
       "\n",
       "    rubberband.mousedown('button_press', mouse_event_fn);\n",
       "    rubberband.mouseup('button_release', mouse_event_fn);\n",
       "    // Throttle sequential mouse events to 1 every 20ms.\n",
       "    rubberband.mousemove('motion_notify', mouse_event_fn);\n",
       "\n",
       "    rubberband.mouseenter('figure_enter', mouse_event_fn);\n",
       "    rubberband.mouseleave('figure_leave', mouse_event_fn);\n",
       "\n",
       "    canvas_div.on(\"wheel\", function (event) {\n",
       "        event = event.originalEvent;\n",
       "        event['data'] = 'scroll'\n",
       "        if (event.deltaY < 0) {\n",
       "            event.step = 1;\n",
       "        } else {\n",
       "            event.step = -1;\n",
       "        }\n",
       "        mouse_event_fn(event);\n",
       "    });\n",
       "\n",
       "    canvas_div.append(canvas);\n",
       "    canvas_div.append(rubberband);\n",
       "\n",
       "    this.rubberband = rubberband;\n",
       "    this.rubberband_canvas = rubberband[0];\n",
       "    this.rubberband_context = rubberband[0].getContext(\"2d\");\n",
       "    this.rubberband_context.strokeStyle = \"#000000\";\n",
       "\n",
       "    this._resize_canvas = function(width, height) {\n",
       "        // Keep the size of the canvas, canvas container, and rubber band\n",
       "        // canvas in synch.\n",
       "        canvas_div.css('width', width)\n",
       "        canvas_div.css('height', height)\n",
       "\n",
       "        canvas.attr('width', width * mpl.ratio);\n",
       "        canvas.attr('height', height * mpl.ratio);\n",
       "        canvas.attr('style', 'width: ' + width + 'px; height: ' + height + 'px;');\n",
       "\n",
       "        rubberband.attr('width', width);\n",
       "        rubberband.attr('height', height);\n",
       "    }\n",
       "\n",
       "    // Set the figure to an initial 600x600px, this will subsequently be updated\n",
       "    // upon first draw.\n",
       "    this._resize_canvas(600, 600);\n",
       "\n",
       "    // Disable right mouse context menu.\n",
       "    $(this.rubberband_canvas).bind(\"contextmenu\",function(e){\n",
       "        return false;\n",
       "    });\n",
       "\n",
       "    function set_focus () {\n",
       "        canvas.focus();\n",
       "        canvas_div.focus();\n",
       "    }\n",
       "\n",
       "    window.setTimeout(set_focus, 100);\n",
       "}\n",
       "\n",
       "mpl.figure.prototype._init_toolbar = function() {\n",
       "    var fig = this;\n",
       "\n",
       "    var nav_element = $('<div/>');\n",
       "    nav_element.attr('style', 'width: 100%');\n",
       "    this.root.append(nav_element);\n",
       "\n",
       "    // Define a callback function for later on.\n",
       "    function toolbar_event(event) {\n",
       "        return fig.toolbar_button_onclick(event['data']);\n",
       "    }\n",
       "    function toolbar_mouse_event(event) {\n",
       "        return fig.toolbar_button_onmouseover(event['data']);\n",
       "    }\n",
       "\n",
       "    for(var toolbar_ind in mpl.toolbar_items) {\n",
       "        var name = mpl.toolbar_items[toolbar_ind][0];\n",
       "        var tooltip = mpl.toolbar_items[toolbar_ind][1];\n",
       "        var image = mpl.toolbar_items[toolbar_ind][2];\n",
       "        var method_name = mpl.toolbar_items[toolbar_ind][3];\n",
       "\n",
       "        if (!name) {\n",
       "            // put a spacer in here.\n",
       "            continue;\n",
       "        }\n",
       "        var button = $('<button/>');\n",
       "        button.addClass('ui-button ui-widget ui-state-default ui-corner-all ' +\n",
       "                        'ui-button-icon-only');\n",
       "        button.attr('role', 'button');\n",
       "        button.attr('aria-disabled', 'false');\n",
       "        button.click(method_name, toolbar_event);\n",
       "        button.mouseover(tooltip, toolbar_mouse_event);\n",
       "\n",
       "        var icon_img = $('<span/>');\n",
       "        icon_img.addClass('ui-button-icon-primary ui-icon');\n",
       "        icon_img.addClass(image);\n",
       "        icon_img.addClass('ui-corner-all');\n",
       "\n",
       "        var tooltip_span = $('<span/>');\n",
       "        tooltip_span.addClass('ui-button-text');\n",
       "        tooltip_span.html(tooltip);\n",
       "\n",
       "        button.append(icon_img);\n",
       "        button.append(tooltip_span);\n",
       "\n",
       "        nav_element.append(button);\n",
       "    }\n",
       "\n",
       "    var fmt_picker_span = $('<span/>');\n",
       "\n",
       "    var fmt_picker = $('<select/>');\n",
       "    fmt_picker.addClass('mpl-toolbar-option ui-widget ui-widget-content');\n",
       "    fmt_picker_span.append(fmt_picker);\n",
       "    nav_element.append(fmt_picker_span);\n",
       "    this.format_dropdown = fmt_picker[0];\n",
       "\n",
       "    for (var ind in mpl.extensions) {\n",
       "        var fmt = mpl.extensions[ind];\n",
       "        var option = $(\n",
       "            '<option/>', {selected: fmt === mpl.default_extension}).html(fmt);\n",
       "        fmt_picker.append(option);\n",
       "    }\n",
       "\n",
       "    // Add hover states to the ui-buttons\n",
       "    $( \".ui-button\" ).hover(\n",
       "        function() { $(this).addClass(\"ui-state-hover\");},\n",
       "        function() { $(this).removeClass(\"ui-state-hover\");}\n",
       "    );\n",
       "\n",
       "    var status_bar = $('<span class=\"mpl-message\"/>');\n",
       "    nav_element.append(status_bar);\n",
       "    this.message = status_bar[0];\n",
       "}\n",
       "\n",
       "mpl.figure.prototype.request_resize = function(x_pixels, y_pixels) {\n",
       "    // Request matplotlib to resize the figure. Matplotlib will then trigger a resize in the client,\n",
       "    // which will in turn request a refresh of the image.\n",
       "    this.send_message('resize', {'width': x_pixels, 'height': y_pixels});\n",
       "}\n",
       "\n",
       "mpl.figure.prototype.send_message = function(type, properties) {\n",
       "    properties['type'] = type;\n",
       "    properties['figure_id'] = this.id;\n",
       "    this.ws.send(JSON.stringify(properties));\n",
       "}\n",
       "\n",
       "mpl.figure.prototype.send_draw_message = function() {\n",
       "    if (!this.waiting) {\n",
       "        this.waiting = true;\n",
       "        this.ws.send(JSON.stringify({type: \"draw\", figure_id: this.id}));\n",
       "    }\n",
       "}\n",
       "\n",
       "\n",
       "mpl.figure.prototype.handle_save = function(fig, msg) {\n",
       "    var format_dropdown = fig.format_dropdown;\n",
       "    var format = format_dropdown.options[format_dropdown.selectedIndex].value;\n",
       "    fig.ondownload(fig, format);\n",
       "}\n",
       "\n",
       "\n",
       "mpl.figure.prototype.handle_resize = function(fig, msg) {\n",
       "    var size = msg['size'];\n",
       "    if (size[0] != fig.canvas.width || size[1] != fig.canvas.height) {\n",
       "        fig._resize_canvas(size[0], size[1]);\n",
       "        fig.send_message(\"refresh\", {});\n",
       "    };\n",
       "}\n",
       "\n",
       "mpl.figure.prototype.handle_rubberband = function(fig, msg) {\n",
       "    var x0 = msg['x0'] / mpl.ratio;\n",
       "    var y0 = (fig.canvas.height - msg['y0']) / mpl.ratio;\n",
       "    var x1 = msg['x1'] / mpl.ratio;\n",
       "    var y1 = (fig.canvas.height - msg['y1']) / mpl.ratio;\n",
       "    x0 = Math.floor(x0) + 0.5;\n",
       "    y0 = Math.floor(y0) + 0.5;\n",
       "    x1 = Math.floor(x1) + 0.5;\n",
       "    y1 = Math.floor(y1) + 0.5;\n",
       "    var min_x = Math.min(x0, x1);\n",
       "    var min_y = Math.min(y0, y1);\n",
       "    var width = Math.abs(x1 - x0);\n",
       "    var height = Math.abs(y1 - y0);\n",
       "\n",
       "    fig.rubberband_context.clearRect(\n",
       "        0, 0, fig.canvas.width / mpl.ratio, fig.canvas.height / mpl.ratio);\n",
       "\n",
       "    fig.rubberband_context.strokeRect(min_x, min_y, width, height);\n",
       "}\n",
       "\n",
       "mpl.figure.prototype.handle_figure_label = function(fig, msg) {\n",
       "    // Updates the figure title.\n",
       "    fig.header.textContent = msg['label'];\n",
       "}\n",
       "\n",
       "mpl.figure.prototype.handle_cursor = function(fig, msg) {\n",
       "    var cursor = msg['cursor'];\n",
       "    switch(cursor)\n",
       "    {\n",
       "    case 0:\n",
       "        cursor = 'pointer';\n",
       "        break;\n",
       "    case 1:\n",
       "        cursor = 'default';\n",
       "        break;\n",
       "    case 2:\n",
       "        cursor = 'crosshair';\n",
       "        break;\n",
       "    case 3:\n",
       "        cursor = 'move';\n",
       "        break;\n",
       "    }\n",
       "    fig.rubberband_canvas.style.cursor = cursor;\n",
       "}\n",
       "\n",
       "mpl.figure.prototype.handle_message = function(fig, msg) {\n",
       "    fig.message.textContent = msg['message'];\n",
       "}\n",
       "\n",
       "mpl.figure.prototype.handle_draw = function(fig, msg) {\n",
       "    // Request the server to send over a new figure.\n",
       "    fig.send_draw_message();\n",
       "}\n",
       "\n",
       "mpl.figure.prototype.handle_image_mode = function(fig, msg) {\n",
       "    fig.image_mode = msg['mode'];\n",
       "}\n",
       "\n",
       "mpl.figure.prototype.updated_canvas_event = function() {\n",
       "    // Called whenever the canvas gets updated.\n",
       "    this.send_message(\"ack\", {});\n",
       "}\n",
       "\n",
       "// A function to construct a web socket function for onmessage handling.\n",
       "// Called in the figure constructor.\n",
       "mpl.figure.prototype._make_on_message_function = function(fig) {\n",
       "    return function socket_on_message(evt) {\n",
       "        if (evt.data instanceof Blob) {\n",
       "            /* FIXME: We get \"Resource interpreted as Image but\n",
       "             * transferred with MIME type text/plain:\" errors on\n",
       "             * Chrome.  But how to set the MIME type?  It doesn't seem\n",
       "             * to be part of the websocket stream */\n",
       "            evt.data.type = \"image/png\";\n",
       "\n",
       "            /* Free the memory for the previous frames */\n",
       "            if (fig.imageObj.src) {\n",
       "                (window.URL || window.webkitURL).revokeObjectURL(\n",
       "                    fig.imageObj.src);\n",
       "            }\n",
       "\n",
       "            fig.imageObj.src = (window.URL || window.webkitURL).createObjectURL(\n",
       "                evt.data);\n",
       "            fig.updated_canvas_event();\n",
       "            fig.waiting = false;\n",
       "            return;\n",
       "        }\n",
       "        else if (typeof evt.data === 'string' && evt.data.slice(0, 21) == \"data:image/png;base64\") {\n",
       "            fig.imageObj.src = evt.data;\n",
       "            fig.updated_canvas_event();\n",
       "            fig.waiting = false;\n",
       "            return;\n",
       "        }\n",
       "\n",
       "        var msg = JSON.parse(evt.data);\n",
       "        var msg_type = msg['type'];\n",
       "\n",
       "        // Call the  \"handle_{type}\" callback, which takes\n",
       "        // the figure and JSON message as its only arguments.\n",
       "        try {\n",
       "            var callback = fig[\"handle_\" + msg_type];\n",
       "        } catch (e) {\n",
       "            console.log(\"No handler for the '\" + msg_type + \"' message type: \", msg);\n",
       "            return;\n",
       "        }\n",
       "\n",
       "        if (callback) {\n",
       "            try {\n",
       "                // console.log(\"Handling '\" + msg_type + \"' message: \", msg);\n",
       "                callback(fig, msg);\n",
       "            } catch (e) {\n",
       "                console.log(\"Exception inside the 'handler_\" + msg_type + \"' callback:\", e, e.stack, msg);\n",
       "            }\n",
       "        }\n",
       "    };\n",
       "}\n",
       "\n",
       "// from http://stackoverflow.com/questions/1114465/getting-mouse-location-in-canvas\n",
       "mpl.findpos = function(e) {\n",
       "    //this section is from http://www.quirksmode.org/js/events_properties.html\n",
       "    var targ;\n",
       "    if (!e)\n",
       "        e = window.event;\n",
       "    if (e.target)\n",
       "        targ = e.target;\n",
       "    else if (e.srcElement)\n",
       "        targ = e.srcElement;\n",
       "    if (targ.nodeType == 3) // defeat Safari bug\n",
       "        targ = targ.parentNode;\n",
       "\n",
       "    // jQuery normalizes the pageX and pageY\n",
       "    // pageX,Y are the mouse positions relative to the document\n",
       "    // offset() returns the position of the element relative to the document\n",
       "    var x = e.pageX - $(targ).offset().left;\n",
       "    var y = e.pageY - $(targ).offset().top;\n",
       "\n",
       "    return {\"x\": x, \"y\": y};\n",
       "};\n",
       "\n",
       "/*\n",
       " * return a copy of an object with only non-object keys\n",
       " * we need this to avoid circular references\n",
       " * http://stackoverflow.com/a/24161582/3208463\n",
       " */\n",
       "function simpleKeys (original) {\n",
       "  return Object.keys(original).reduce(function (obj, key) {\n",
       "    if (typeof original[key] !== 'object')\n",
       "        obj[key] = original[key]\n",
       "    return obj;\n",
       "  }, {});\n",
       "}\n",
       "\n",
       "mpl.figure.prototype.mouse_event = function(event, name) {\n",
       "    var canvas_pos = mpl.findpos(event)\n",
       "\n",
       "    if (name === 'button_press')\n",
       "    {\n",
       "        this.canvas.focus();\n",
       "        this.canvas_div.focus();\n",
       "    }\n",
       "\n",
       "    var x = canvas_pos.x * mpl.ratio;\n",
       "    var y = canvas_pos.y * mpl.ratio;\n",
       "\n",
       "    this.send_message(name, {x: x, y: y, button: event.button,\n",
       "                             step: event.step,\n",
       "                             guiEvent: simpleKeys(event)});\n",
       "\n",
       "    /* This prevents the web browser from automatically changing to\n",
       "     * the text insertion cursor when the button is pressed.  We want\n",
       "     * to control all of the cursor setting manually through the\n",
       "     * 'cursor' event from matplotlib */\n",
       "    event.preventDefault();\n",
       "    return false;\n",
       "}\n",
       "\n",
       "mpl.figure.prototype._key_event_extra = function(event, name) {\n",
       "    // Handle any extra behaviour associated with a key event\n",
       "}\n",
       "\n",
       "mpl.figure.prototype.key_event = function(event, name) {\n",
       "\n",
       "    // Prevent repeat events\n",
       "    if (name == 'key_press')\n",
       "    {\n",
       "        if (event.which === this._key)\n",
       "            return;\n",
       "        else\n",
       "            this._key = event.which;\n",
       "    }\n",
       "    if (name == 'key_release')\n",
       "        this._key = null;\n",
       "\n",
       "    var value = '';\n",
       "    if (event.ctrlKey && event.which != 17)\n",
       "        value += \"ctrl+\";\n",
       "    if (event.altKey && event.which != 18)\n",
       "        value += \"alt+\";\n",
       "    if (event.shiftKey && event.which != 16)\n",
       "        value += \"shift+\";\n",
       "\n",
       "    value += 'k';\n",
       "    value += event.which.toString();\n",
       "\n",
       "    this._key_event_extra(event, name);\n",
       "\n",
       "    this.send_message(name, {key: value,\n",
       "                             guiEvent: simpleKeys(event)});\n",
       "    return false;\n",
       "}\n",
       "\n",
       "mpl.figure.prototype.toolbar_button_onclick = function(name) {\n",
       "    if (name == 'download') {\n",
       "        this.handle_save(this, null);\n",
       "    } else {\n",
       "        this.send_message(\"toolbar_button\", {name: name});\n",
       "    }\n",
       "};\n",
       "\n",
       "mpl.figure.prototype.toolbar_button_onmouseover = function(tooltip) {\n",
       "    this.message.textContent = tooltip;\n",
       "};\n",
       "mpl.toolbar_items = [[\"Home\", \"Reset original view\", \"fa fa-home icon-home\", \"home\"], [\"Back\", \"Back to previous view\", \"fa fa-arrow-left icon-arrow-left\", \"back\"], [\"Forward\", \"Forward to next view\", \"fa fa-arrow-right icon-arrow-right\", \"forward\"], [\"\", \"\", \"\", \"\"], [\"Pan\", \"Pan axes with left mouse, zoom with right\", \"fa fa-arrows icon-move\", \"pan\"], [\"Zoom\", \"Zoom to rectangle\", \"fa fa-square-o icon-check-empty\", \"zoom\"], [\"\", \"\", \"\", \"\"], [\"Download\", \"Download plot\", \"fa fa-floppy-o icon-save\", \"download\"]];\n",
       "\n",
       "mpl.extensions = [\"eps\", \"jpeg\", \"pdf\", \"png\", \"ps\", \"raw\", \"svg\", \"tif\"];\n",
       "\n",
       "mpl.default_extension = \"png\";var comm_websocket_adapter = function(comm) {\n",
       "    // Create a \"websocket\"-like object which calls the given IPython comm\n",
       "    // object with the appropriate methods. Currently this is a non binary\n",
       "    // socket, so there is still some room for performance tuning.\n",
       "    var ws = {};\n",
       "\n",
       "    ws.close = function() {\n",
       "        comm.close()\n",
       "    };\n",
       "    ws.send = function(m) {\n",
       "        //console.log('sending', m);\n",
       "        comm.send(m);\n",
       "    };\n",
       "    // Register the callback with on_msg.\n",
       "    comm.on_msg(function(msg) {\n",
       "        //console.log('receiving', msg['content']['data'], msg);\n",
       "        // Pass the mpl event to the overridden (by mpl) onmessage function.\n",
       "        ws.onmessage(msg['content']['data'])\n",
       "    });\n",
       "    return ws;\n",
       "}\n",
       "\n",
       "mpl.mpl_figure_comm = function(comm, msg) {\n",
       "    // This is the function which gets called when the mpl process\n",
       "    // starts-up an IPython Comm through the \"matplotlib\" channel.\n",
       "\n",
       "    var id = msg.content.data.id;\n",
       "    // Get hold of the div created by the display call when the Comm\n",
       "    // socket was opened in Python.\n",
       "    var element = $(\"#\" + id);\n",
       "    var ws_proxy = comm_websocket_adapter(comm)\n",
       "\n",
       "    function ondownload(figure, format) {\n",
       "        window.open(figure.imageObj.src);\n",
       "    }\n",
       "\n",
       "    var fig = new mpl.figure(id, ws_proxy,\n",
       "                           ondownload,\n",
       "                           element.get(0));\n",
       "\n",
       "    // Call onopen now - mpl needs it, as it is assuming we've passed it a real\n",
       "    // web socket which is closed, not our websocket->open comm proxy.\n",
       "    ws_proxy.onopen();\n",
       "\n",
       "    fig.parent_element = element.get(0);\n",
       "    fig.cell_info = mpl.find_output_cell(\"<div id='\" + id + \"'></div>\");\n",
       "    if (!fig.cell_info) {\n",
       "        console.error(\"Failed to find cell for figure\", id, fig);\n",
       "        return;\n",
       "    }\n",
       "\n",
       "    var output_index = fig.cell_info[2]\n",
       "    var cell = fig.cell_info[0];\n",
       "\n",
       "};\n",
       "\n",
       "mpl.figure.prototype.handle_close = function(fig, msg) {\n",
       "    var width = fig.canvas.width/mpl.ratio\n",
       "    fig.root.unbind('remove')\n",
       "\n",
       "    // Update the output cell to use the data from the current canvas.\n",
       "    fig.push_to_output();\n",
       "    var dataURL = fig.canvas.toDataURL();\n",
       "    // Re-enable the keyboard manager in IPython - without this line, in FF,\n",
       "    // the notebook keyboard shortcuts fail.\n",
       "    IPython.keyboard_manager.enable()\n",
       "    $(fig.parent_element).html('<img src=\"' + dataURL + '\" width=\"' + width + '\">');\n",
       "    fig.close_ws(fig, msg);\n",
       "}\n",
       "\n",
       "mpl.figure.prototype.close_ws = function(fig, msg){\n",
       "    fig.send_message('closing', msg);\n",
       "    // fig.ws.close()\n",
       "}\n",
       "\n",
       "mpl.figure.prototype.push_to_output = function(remove_interactive) {\n",
       "    // Turn the data on the canvas into data in the output cell.\n",
       "    var width = this.canvas.width/mpl.ratio\n",
       "    var dataURL = this.canvas.toDataURL();\n",
       "    this.cell_info[1]['text/html'] = '<img src=\"' + dataURL + '\" width=\"' + width + '\">';\n",
       "}\n",
       "\n",
       "mpl.figure.prototype.updated_canvas_event = function() {\n",
       "    // Tell IPython that the notebook contents must change.\n",
       "    IPython.notebook.set_dirty(true);\n",
       "    this.send_message(\"ack\", {});\n",
       "    var fig = this;\n",
       "    // Wait a second, then push the new image to the DOM so\n",
       "    // that it is saved nicely (might be nice to debounce this).\n",
       "    setTimeout(function () { fig.push_to_output() }, 1000);\n",
       "}\n",
       "\n",
       "mpl.figure.prototype._init_toolbar = function() {\n",
       "    var fig = this;\n",
       "\n",
       "    var nav_element = $('<div/>');\n",
       "    nav_element.attr('style', 'width: 100%');\n",
       "    this.root.append(nav_element);\n",
       "\n",
       "    // Define a callback function for later on.\n",
       "    function toolbar_event(event) {\n",
       "        return fig.toolbar_button_onclick(event['data']);\n",
       "    }\n",
       "    function toolbar_mouse_event(event) {\n",
       "        return fig.toolbar_button_onmouseover(event['data']);\n",
       "    }\n",
       "\n",
       "    for(var toolbar_ind in mpl.toolbar_items){\n",
       "        var name = mpl.toolbar_items[toolbar_ind][0];\n",
       "        var tooltip = mpl.toolbar_items[toolbar_ind][1];\n",
       "        var image = mpl.toolbar_items[toolbar_ind][2];\n",
       "        var method_name = mpl.toolbar_items[toolbar_ind][3];\n",
       "\n",
       "        if (!name) { continue; };\n",
       "\n",
       "        var button = $('<button class=\"btn btn-default\" href=\"#\" title=\"' + name + '\"><i class=\"fa ' + image + ' fa-lg\"></i></button>');\n",
       "        button.click(method_name, toolbar_event);\n",
       "        button.mouseover(tooltip, toolbar_mouse_event);\n",
       "        nav_element.append(button);\n",
       "    }\n",
       "\n",
       "    // Add the status bar.\n",
       "    var status_bar = $('<span class=\"mpl-message\" style=\"text-align:right; float: right;\"/>');\n",
       "    nav_element.append(status_bar);\n",
       "    this.message = status_bar[0];\n",
       "\n",
       "    // Add the close button to the window.\n",
       "    var buttongrp = $('<div class=\"btn-group inline pull-right\"></div>');\n",
       "    var button = $('<button class=\"btn btn-mini btn-primary\" href=\"#\" title=\"Stop Interaction\"><i class=\"fa fa-power-off icon-remove icon-large\"></i></button>');\n",
       "    button.click(function (evt) { fig.handle_close(fig, {}); } );\n",
       "    button.mouseover('Stop Interaction', toolbar_mouse_event);\n",
       "    buttongrp.append(button);\n",
       "    var titlebar = this.root.find($('.ui-dialog-titlebar'));\n",
       "    titlebar.prepend(buttongrp);\n",
       "}\n",
       "\n",
       "mpl.figure.prototype._root_extra_style = function(el){\n",
       "    var fig = this\n",
       "    el.on(\"remove\", function(){\n",
       "\tfig.close_ws(fig, {});\n",
       "    });\n",
       "}\n",
       "\n",
       "mpl.figure.prototype._canvas_extra_style = function(el){\n",
       "    // this is important to make the div 'focusable\n",
       "    el.attr('tabindex', 0)\n",
       "    // reach out to IPython and tell the keyboard manager to turn it's self\n",
       "    // off when our div gets focus\n",
       "\n",
       "    // location in version 3\n",
       "    if (IPython.notebook.keyboard_manager) {\n",
       "        IPython.notebook.keyboard_manager.register_events(el);\n",
       "    }\n",
       "    else {\n",
       "        // location in version 2\n",
       "        IPython.keyboard_manager.register_events(el);\n",
       "    }\n",
       "\n",
       "}\n",
       "\n",
       "mpl.figure.prototype._key_event_extra = function(event, name) {\n",
       "    var manager = IPython.notebook.keyboard_manager;\n",
       "    if (!manager)\n",
       "        manager = IPython.keyboard_manager;\n",
       "\n",
       "    // Check for shift+enter\n",
       "    if (event.shiftKey && event.which == 13) {\n",
       "        this.canvas_div.blur();\n",
       "        event.shiftKey = false;\n",
       "        // Send a \"J\" for go to next cell\n",
       "        event.which = 74;\n",
       "        event.keyCode = 74;\n",
       "        manager.command_mode();\n",
       "        manager.handle_keydown(event);\n",
       "    }\n",
       "}\n",
       "\n",
       "mpl.figure.prototype.handle_save = function(fig, msg) {\n",
       "    fig.ondownload(fig, null);\n",
       "}\n",
       "\n",
       "\n",
       "mpl.find_output_cell = function(html_output) {\n",
       "    // Return the cell and output element which can be found *uniquely* in the notebook.\n",
       "    // Note - this is a bit hacky, but it is done because the \"notebook_saving.Notebook\"\n",
       "    // IPython event is triggered only after the cells have been serialised, which for\n",
       "    // our purposes (turning an active figure into a static one), is too late.\n",
       "    var cells = IPython.notebook.get_cells();\n",
       "    var ncells = cells.length;\n",
       "    for (var i=0; i<ncells; i++) {\n",
       "        var cell = cells[i];\n",
       "        if (cell.cell_type === 'code'){\n",
       "            for (var j=0; j<cell.output_area.outputs.length; j++) {\n",
       "                var data = cell.output_area.outputs[j];\n",
       "                if (data.data) {\n",
       "                    // IPython >= 3 moved mimebundle to data attribute of output\n",
       "                    data = data.data;\n",
       "                }\n",
       "                if (data['text/html'] == html_output) {\n",
       "                    return [cell, data, j];\n",
       "                }\n",
       "            }\n",
       "        }\n",
       "    }\n",
       "}\n",
       "\n",
       "// Register the function which deals with the matplotlib target/channel.\n",
       "// The kernel may be null if the page has been refreshed.\n",
       "if (IPython.notebook.kernel != null) {\n",
       "    IPython.notebook.kernel.comm_manager.register_target('matplotlib', mpl.mpl_figure_comm);\n",
       "}\n"
      ],
      "text/plain": [
       "<IPython.core.display.Javascript object>"
      ]
     },
     "metadata": {},
     "output_type": "display_data"
    },
    {
     "data": {
      "text/html": [
       "<img src=\"data:image/png;base64,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\" width=\"640\">"
      ],
      "text/plain": [
       "<IPython.core.display.HTML object>"
      ]
     },
     "metadata": {},
     "output_type": "display_data"
    }
   ],
   "source": [
    "import matplotlib.pyplot as plt\n",
    "fig=plt.figure()\n",
    "ax=fig.gca()\n",
    "\n",
    "#Valor de la anomalía media\n",
    "from numpy import pi\n",
    "M=pi/2\n",
    "\n",
    "#Valores posibles de G\n",
    "from numpy import linspace\n",
    "Gs=linspace(0,2*M)\n",
    "\n",
    "#Caso elíptico\n",
    "es=linspace(0.05,0.95,4)\n",
    "for e in es:    \n",
    "    ks,kps,kpps=funcion_kepler(Gs,M,e)\n",
    "    ax.plot(Gs*180/pi,ks,label=f\"$e$ = {e}\",ls='-');\n",
    "\n",
    "#Caso hiperbólico\n",
    "es=linspace(1.05,1.95,4)\n",
    "for e in es:    \n",
    "    ks,kps,kpps=funcion_kepler(Gs,M,e)\n",
    "    ax.plot(Gs*180/pi,ks,label=f\"$e$ = {e}\",ls='--');\n",
    "   \n",
    "#Decoración\n",
    "ax.axhline(0,color='k')\n",
    "ax.axvline(M*180/pi,color='r',linestyle='dotted')\n",
    "ax.text(M*180/pi,-1.5,f\"$M={M*180/pi:g}$\",color='r')\n",
    "ax.legend()\n",
    "ax.set_xlim((0,2*M*180/pi))\n",
    "ax.set_ylim((-2,2))\n",
    "ax.set_xlabel(\"$G$ (grados)\")\n",
    "ax.set_ylabel(\"$k(G,\\pi/2)$\")\n",
    "ax.set_title(f\"Función de Kepler para $M = {M*180/pi:g}^\\circ$\")\n",
    "ax.grid();\n",
    "\n"
   ]
  },
  {
   "cell_type": "markdown",
   "metadata": {},
   "source": [
    "<a id='fig:07.04.01.00.Problema2Cuerpos.SolucionTiempo.EcuacionKepler_85'></a><center><b>Figura 7.85.</b> Gráficos de la función generalizada de Kepler $k(G;M,e)$ para $M=\\pi/2$ y para distintos valores de la excentricidad (elipses, líneas continuas e hipérbolas, lineas rayadas.) El intercepto de cada curva con el eje horizontal G (línea continua horizontal) provee el valor de la anomalía excéntrica $G$ correspondiente a los valores de $M$ y de $e$ respectivos.</center>"
   ]
  },
  {
   "cell_type": "markdown",
   "metadata": {},
   "source": [
    "En las libretas que encontrará con la [versión electrónica del libro](http://mybook.org) podrá ver una versión interactiva de esta gráfica."
   ]
  },
  {
   "cell_type": "markdown",
   "metadata": {
    "tags": [
     "hide_html"
    ]
   },
   "source": [
    "La rutina que produce el gráfico interactivo se muestra a continuación:"
   ]
  },
  {
   "cell_type": "code",
   "execution_count": 27,
   "metadata": {
    "codelabel": "",
    "codeplot": 0,
    "tags": [
     "hide_html"
    ]
   },
   "outputs": [],
   "source": [
    "def grafica_funcion_kepler(M=0,e=0.5):\n",
    "    #Valores de entrada\n",
    "    from numpy import pi\n",
    "    M=float(M)*pi/180 #M entra en grados\n",
    "    e=float(e)\n",
    "        \n",
    "    #Grafica\n",
    "    import matplotlib.pyplot as plt\n",
    "    plt.close(\"all\")\n",
    "    fig=plt.figure()\n",
    "    ax=fig.gca()\n",
    "\n",
    "    #Valores posibles de G\n",
    "    Gs=linspace(0,2*M)\n",
    "    ks,kps,kpps=funcion_kepler(Gs,M,e)\n",
    "    ax.plot(Gs*180/pi,ks);\n",
    "\n",
    "    #Decoración\n",
    "    yext=-funcion_kepler(0,M,e)[0]\n",
    "    ax.axhline(0,color='k')\n",
    "    ax.axvline(M*180/pi,color='r',linestyle='dotted')\n",
    "    ax.text(M*180/pi,-2*yext/3,f\"$M={M*180/pi:g}$\",color='r')\n",
    "    \n",
    "    if e<1.5:\n",
    "        xmax=min(2*M*180/pi,360)\n",
    "    else:\n",
    "        xmax=M/(e-1)*180/pi\n",
    "    ax.set_xlim((0,xmax))\n",
    "    ax.set_ylim((-yext,yext))\n",
    "    ax.set_title(f\"Función de Kepler para $M = {M*180/pi:g}^\\circ$\")\n",
    "    ax.set_xlabel(\"$G$ (grados)\")\n",
    "    ax.set_ylabel(\"$k(G,\\pi/2)$\")\n",
    "    ax.grid();"
   ]
  },
  {
   "cell_type": "markdown",
   "metadata": {
    "tags": [
     "hide_html"
    ]
   },
   "source": [
    "El código interactivo es:"
   ]
  },
  {
   "cell_type": "code",
   "execution_count": 28,
   "metadata": {
    "codelabel": "fig:07.04.01.00.Problema2Cuerpos.SolucionTiempo.EcuacionKepler_86",
    "codeplot": 1,
    "figcaption": "<b>Figura 7.86.</b> ",
    "tags": [
     "hide_html"
    ]
   },
   "outputs": [
    {
     "data": {
      "application/vnd.jupyter.widget-view+json": {
       "model_id": "9205f36c987a4ff4875a95e284e8e177",
       "version_major": 2,
       "version_minor": 0
      },
      "text/plain": [
       "interactive(children=(FloatSlider(value=90.0, continuous_update=False, description='M', max=359.0, min=1.0), F…"
      ]
     },
     "metadata": {},
     "output_type": "display_data"
    }
   ],
   "source": [
    "from ipywidgets import interact,fixed,widgets\n",
    "opciones=dict(continuous_update=False)\n",
    "interact(grafica_funcion_kepler,\n",
    "         M=widgets.FloatSlider(min=1,max=359,step=0.1,value=90.0,**opciones),\n",
    "         e=widgets.FloatSlider(min=0.0,max=2,step=0.01,value=0.5,**opciones),\n",
    "        );"
   ]
  },
  {
   "cell_type": "markdown",
   "metadata": {},
   "source": [
    "<a id='fig:07.04.01.00.Problema2Cuerpos.SolucionTiempo.EcuacionKepler_86'></a><center><b>Figura 7.86.</b> </center>"
   ]
  },
  {
   "cell_type": "markdown",
   "metadata": {},
   "source": [
    "### 7.10.4. Interpretación geométrica de la anomalía media\n",
    "<a id='interpretacion_M'></a>"
   ]
  },
  {
   "cell_type": "markdown",
   "metadata": {},
   "source": [
    "La solución al problema relativo de los dos cuerpos en las secciones precedentes, nos ha revelado que además de las dos anomalías ya conocidas para indicar la posición relativa, la anomalía verdadera $f$ y la anomalía excéntrica $E$ (o $F$ en el caso de la hipérbola) existe una tercera anomalía, la anomalía media, $M$ (o $M_h$ en el caso de la hipérbola) que también es única para cada punto sobre la trayectoria. "
   ]
  },
  {
   "cell_type": "markdown",
   "metadata": {},
   "source": [
    "La anomalía media es, además, la única cantidad que varia uniformemente con el tiempo y por la misma razón, puede ser predicha trivialmente conociendo la velocidad angular promedio $n$ del vector relativo en el caso de movimiento elíptico o el parámetro $n_h$ en el caso de la hipérbola."
   ]
  },
  {
   "cell_type": "markdown",
   "metadata": {},
   "source": [
    "¿Qué interpretación geométrica tiene la anomalía media $M$?  "
   ]
  },
  {
   "cell_type": "markdown",
   "metadata": {},
   "source": [
    "De la misma manera que la anomalía excéntrica $F$ en el caso de una hipérbola no tiene una interpretación geométrica elemental, como la que vimos para el caso de la anomalía excéntrica $E$ en una elipse[$^2$](#notaspie_2), así mismo, la anomalía media hiperbólica $M_h$ carece también de dicha interpretación.  Sin embargo, en el movimiento sobre una elipse, que es con mucho el más estudiado desde los tiempos de Kepler, se han encontrado multiples interpretaciones para $M$."
   ]
  },
  {
   "cell_type": "markdown",
   "metadata": {},
   "source": [
    "En la Figura ([anomalia_media](#fig:anomalia_media)) adapatamos un diagrama del capítulo 60 del libro *Astronomia Nova*[$^3$](#notaspie_3) de Johannes Kepler y en la que en 1609, el astrónomo Prusiano dedujo por primera vez la Ecuación que lleva su nombre."
   ]
  },
  {
   "cell_type": "markdown",
   "metadata": {},
   "source": [
    "<a id='fig:anomalia_excentrica'></a>![Construcción geométrica original de Johannes Kepler para interpretar la anomalía media $M$ o su suplemento $M'\\equiv=\\pi-M$. Según Kepler $M'$ es proporcional al área total de la región FRA que, a su vez la suma del area triangulo RCF, que es proporcional a $e\\sin E'$ y el área del sector de círculo RCA, que es proporcional a $E'$.++ht!++1++\\label{fig:anomalia_excentrica}](./figures/horizontal_anomalia_media.png)\n",
    "\n",
    "<center><b>Figura 7.87</b>. Construcción geométrica original de Johannes Kepler para interpretar la anomalía media $M$ o su suplemento $M'</center>"
   ]
  },
  {
   "cell_type": "markdown",
   "metadata": {},
   "source": [
    "Kepler interpreto geométricamente la Ec. ([ecuacion_kepler](#mjx-eqn-eq%3Aecuacion_kepler)) en términos de las áreas de sectores sobre la elipse. Para entender su argumento debemos primero definir los suplementos de la anomalía excéntrica $E'\\equiv\\pi-E$ y de la anomalía media $M'\\equiv\\pi-M$.  \n",
    "\n",
    "En términos de estos suplementos la ecuación de Kepler (Ec. [ecuacion_kepler](#mjx-eqn-eq%3Aecuacion_kepler)) se escribe:\n",
    "\n",
    "$$\n",
    "M'=E'+e\\sin E'\n",
    "$$"
   ]
  },
  {
   "cell_type": "markdown",
   "metadata": {},
   "source": [
    "A medida que el cuerpo se mueve sobre la elipse, el valor de la anomalía excéntrica $E$ y de su suplemento $E'$ cambian con una velocidad variable (recordemos que por el teorema de áreas el cuerpo se mueve más rápido cerca al periapsis O.)  \n",
    "\n",
    "Cuando el cuerpo se encuentra en el punto P, toda el área sombreada en la Figura ([anomalia_media](#fig:anomalia_media)) (que es la que le falta barrer al radio dirigido del foco a la circunferencia circunscrita, antes de llegar al afelio), será igual al área del triángulo RCF más el área del sector de círculo RCA:\n",
    "\n",
    "$$\n",
    "A_\\mathrm{RFA}=A_\\mathrm{RCA}+A_\\mathrm{RCF}\n",
    "$$"
   ]
  },
  {
   "cell_type": "markdown",
   "metadata": {},
   "source": [
    "Pero $A_\\mathrm{RCA}=a^2 E'/2$ (área de un sector circular) y $A_\\mathrm{RCF}=a^2 e \\sin E'/2$ (área de un triángulo), de modo que reemplazando el área total del sector sombreado en la Figura ([anomalia_media](#fig:anomalia_media))([anomalia_media](#eq:anomalia_media)) queda:\n",
    "\n",
    "\\begin{eqnarray}\n",
    "\\nonumber\n",
    "A_\\mathrm{RFA} & = & \\frac{1}{2}a^2(E'+e\\sin E')\\\\\n",
    "\\nonumber\n",
    "               & = & \\frac{1}{2}a^2 M' \n",
    "\\end{eqnarray}\n",
    "donde en el último paso hemos usado la ecuación de Kepler en términos de los suplementos. "
   ]
  },
  {
   "cell_type": "markdown",
   "metadata": {},
   "source": [
    "Este último resultado llevo a Kepler a planetar el problema del cálculo de la posición planetaria sobre una elipse como aquel en el que el Astrónomo, que puede predecir con suma facilidad el valor de la anomalía media $M=n(t-t_p)$, debe encontrar el lugar geométrico del punto R sobre la circunferencia circunscrita (y que esta justo arriba del punto sobre la elipse buscado buscado), tal que el área RFA sea igual a $a^2M'/2$.  "
   ]
  },
  {
   "cell_type": "markdown",
   "metadata": {},
   "source": [
    "Dado que el punto F no está en el centro de la circunferencia circunscrita, $M$ no se puede interpretar como ningún ángulo en la construcción de la Figura ([anomalia_media](#fig:anomalia_media)).  Como consecuencia de este hecho, y como lo reconoció Kepler desde aquel entonces, el problema de encontrar $E'$ dado un valor de $M'$ es altamente no trivial. A la fecha no se conoce ninguna solución geométrica al problema de Kepler, es decir, no podemos encontrar la posición del punto R usando solamente una regla y un compás."
   ]
  },
  {
   "cell_type": "markdown",
   "metadata": {},
   "source": [
    "En términos algebraicos la conclusión de Kepler es equivalente a reconocer que en la ecuación:\n",
    "\n",
    "$$\n",
    "M=E-e\\sin E\n",
    "$$\n",
    "es imposible despejar algebraicamente $E$.  A este tipo de ecuaciones se las conoce en matemáticas como *ecuaciones trascendentales*."
   ]
  },
  {
   "cell_type": "markdown",
   "metadata": {},
   "source": [
    "Esta conclusión es válida también en el caso de la ecuación de Kepler para el movimiento sobre una hipérbola:\n",
    "\n",
    "$$\n",
    "M_h=e\\sinh F - F\n",
    "$$"
   ]
  },
  {
   "cell_type": "markdown",
   "metadata": {},
   "source": [
    "Si queremos entonces resolver el problema de los dos cuerpos en el tiempo, al menos cuando $e\\neq 1$ tenemos que encontrar una manera *aproximada* de resolver esta ecuación.  Este será justamente el tema de la siguiente sección.  No sobra, sin embargo, hacer aquí una última reflexión, con la que podemos cerrar el esfuerzo de este capítulo para encontrar una solución al problema de los dos cuerpos.  "
   ]
  },
  {
   "cell_type": "markdown",
   "metadata": {},
   "source": [
    "A pesar de que logramos encontrar un número suficiente de cuadraturas para el problema e incluso encontramos una cantidad geométrica que depende de la posición y que cambia de forma predecible con el tiempo (el área barrida por el radiovector), la solución completa del problema de los dos cuerpos dependerá en últimas de resolver numéricamente una ecuación trascendental. En conclusión, ni siquiera la versión más simple del problema general de los N cuerpos admite una solución algebraica cerrada.  Sin embargo y como veremos en la [Sección *Solución en series de la ecuación de Kepler*](07.04.02.00.Problema2Cuerpos.SolucionTiempo.AproximacionKepler.ipynb#solucion_kepler_series) es posible encontrar una solución en términos de series de potencias uniformemente convergentes (funciones analíticas), satisfaciendo así las condiciones al problema de los N cuerpos formulado en el [Capítulo *El problema de los N cuerpos*](06.00.00.00.ProblemaNCuerpos.ipynb#problema_ncuerpos)."
   ]
  },
  {
   "cell_type": "markdown",
   "metadata": {
    "tags": [
     "footnote"
    ]
   },
   "source": [
    "**NOTAS AL PIE:**\n",
    "\n",
    "<a id='notaspie_1'></a>\n",
    "1. Una copia digital del manuscrito esta disponible en línea en https://archive.org/details/synopsisofastron00hall/page/n4\n",
    "\n",
    "<a id='notaspie_2'></a>\n",
    "2. Aunque vale admitir que hay una interpretación geométrica curiosa para $F$ que puede encontrarse en <cite data-cite=\"Portilla2019\"><a href=\"mybook.html#Portilla2019,\">Portilla, 2019</a></cite>\n",
    "\n",
    "<a id='notaspie_3'></a>\n",
    "3. Para una versión digital en latín, disponible en línea vea: https://www.e-rara.ch/zut/content/pageview/162861\n",
    "\n"
   ]
  },
  {
   "cell_type": "markdown",
   "metadata": {
    "tags": [
     "navigation"
    ]
   },
   "source": [
    "[Indice](index.ipynb) | Previo: [Problema2Cuerpos.OrbitaEspacio](07.03.00.00.Problema2Cuerpos.OrbitaEspacio.ipynb) | Siguiente: [Problema2Cuerpos.SolucionTiempo.AproximacionKepler](07.04.02.00.Problema2Cuerpos.SolucionTiempo.AproximacionKepler.ipynb)"
   ]
  }
 ],
 "metadata": {
  "celltoolbar": "Tags",
  "kernelspec": {
   "display_name": "Python 3",
   "language": "python",
   "name": "python3"
  },
  "language_info": {
   "codemirror_mode": {
    "name": "ipython",
    "version": 3
   },
   "file_extension": ".py",
   "mimetype": "text/x-python",
   "name": "python",
   "nbconvert_exporter": "python",
   "pygments_lexer": "ipython3",
   "version": "3.6.8"
  }
 },
 "nbformat": 4,
 "nbformat_minor": 2
}
