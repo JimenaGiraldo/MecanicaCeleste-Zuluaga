{
 "cells": [
  {
   "cell_type": "markdown",
   "metadata": {},
   "source": [
    "<p style=\"margin:3em\"></p>\n",
    "<p style=\"text-align:center;font-size:3em;font-weight:bold\">Title of the Book</p>\n",
    "<p style=\"text-align:center;font-size:2em\">Subtitle of the book</p>\n",
    "<p style=\"text-align:center;font-size:2em;font-weight:bold\">Author O. Book</p>\n",
    "<p style=\"text-align:center;font-size:1.2em\">Title of author and affiliation</p>"
   ]
  },
  {
   "cell_type": "markdown",
   "metadata": {},
   "source": [
    "# Installing Notebooks"
   ]
  },
  {
   "cell_type": "markdown",
   "metadata": {},
   "source": [
    "In this notebook you will find the instruction to install locally the packages and `Jupyter` extensions to install and use the Book notebooks.  \n",
    "\n",
    "To install follow the instructions below:"
   ]
  },
  {
   "cell_type": "markdown",
   "metadata": {},
   "source": [
    "## First verifications"
   ]
  },
  {
   "cell_type": "markdown",
   "metadata": {},
   "source": [
    "Are you sure you download all the notebook files?:"
   ]
  },
  {
   "cell_type": "code",
   "execution_count": 4,
   "metadata": {},
   "outputs": [
    {
     "name": "stdout",
     "output_type": "stream",
     "text": [
      "You have all what you need\n"
     ]
    }
   ],
   "source": [
    "import os\n",
    "archivos=[\"test.ipynb\",\"log/\",\"mybook.conf\"]\n",
    "for i,archivo in enumerate(archivos):\n",
    "    if not os.path.lexists(archivo):\n",
    "        print(f\"Sorry, the file '{archivo}' is missing\")\n",
    "        break\n",
    "if i==len(archivos)-1:\n",
    "    print(\"You have all what you need\")\n",
    "else:\n",
    "    print(\"Some file is missing\")"
   ]
  },
  {
   "cell_type": "markdown",
   "metadata": {},
   "source": [
    "## Dependencies"
   ]
  },
  {
   "cell_type": "markdown",
   "metadata": {},
   "source": [
    "Algunos paquetes que necesitamos:"
   ]
  },
  {
   "cell_type": "code",
   "execution_count": 5,
   "metadata": {},
   "outputs": [],
   "source": [
    "import getpass\n",
    "import imp\n",
    "conf=imp.load_source(f\"{os.environ['PWD']}\",\"mybook.conf\")"
   ]
  },
  {
   "cell_type": "markdown",
   "metadata": {},
   "source": [
    "## Operating system"
   ]
  },
  {
   "cell_type": "markdown",
   "metadata": {},
   "source": [
    "De acuerdo a tu archivo de configuración tu sistema operativo es:"
   ]
  },
  {
   "cell_type": "code",
   "execution_count": 6,
   "metadata": {},
   "outputs": [
    {
     "data": {
      "text/plain": [
       "'macos'"
      ]
     },
     "execution_count": 6,
     "metadata": {},
     "output_type": "execute_result"
    }
   ],
   "source": [
    "conf.SYSTEM"
   ]
  },
  {
   "cell_type": "markdown",
   "metadata": {},
   "source": [
    "If this is not your OS, please select the right one below and run the cell:"
   ]
  },
  {
   "cell_type": "code",
   "execution_count": 8,
   "metadata": {},
   "outputs": [],
   "source": [
    "conf.SYSTEM=\"macos\"\n",
    "#conf.SYSTEM=\"linux\"\n",
    "#conf.SYSTEM=\"linux\""
   ]
  },
  {
   "cell_type": "markdown",
   "metadata": {},
   "source": [
    "No es que no te creamos, pero es mejor verificar:"
   ]
  },
  {
   "cell_type": "code",
   "execution_count": 10,
   "metadata": {},
   "outputs": [
    {
     "name": "stdout",
     "output_type": "stream",
     "text": [
      "Ok, your OS have been verified\n"
     ]
    }
   ],
   "source": [
    "if conf.SYSTEM is \"linux\":\n",
    "    out=os.system(\"uname -ar |grep Linux\")\n",
    "elif conf.SYSTEM is \"macos\":\n",
    "    out=os.system(\"uname -ar |grep Mac\")\n",
    "else:\n",
    "    out=os.system(\"uname -ar\")\n",
    "    \n",
    "if not out:\n",
    "    print(\"Ok, your OS have been verified\")\n",
    "else:\n",
    "    print(\"Please verify that you choose the right OS (it seems you choose the wrong one)\")"
   ]
  },
  {
   "cell_type": "markdown",
   "metadata": {},
   "source": [
    "## Instalación de paquetes básicos en el sistema"
   ]
  },
  {
   "cell_type": "markdown",
   "metadata": {},
   "source": [
    "We need first to verify and install the following system packages:"
   ]
  },
  {
   "cell_type": "code",
   "execution_count": 11,
   "metadata": {},
   "outputs": [],
   "source": [
    "packages=[\n",
    "    dict(name=\"make\",test=\"make --version\"),\n",
    "]"
   ]
  },
  {
   "cell_type": "code",
   "execution_count": 14,
   "metadata": {},
   "outputs": [
    {
     "name": "stdout",
     "output_type": "stream",
     "text": [
      "Package 'make' already installed\n"
     ]
    }
   ],
   "source": [
    "for pack in packages:\n",
    "    out=os.system(pack[\"test\"])\n",
    "    if out:\n",
    "        print(f\"Package '{pack['name']}' not installed, trying to install...\")\n",
    "        if conf.SYSTEM is \"linux\":\n",
    "            password=getpass.getpass(\"Your root password:\")\n",
    "            print(\"Installing a Linux package...\")\n",
    "            os.system(f\"sudo -S apt-get install -y make | {password}\")\n",
    "        elif conf.SYSTEM is \"macos\":\n",
    "            print(\"Installing a MacOS package...\")\n",
    "            !brew install make\n",
    "        else:\n",
    "            print(\"Please install manually `{pack}`\")\n",
    "    else:\n",
    "        print(f\"Package '{pack['name']}' already installed\")"
   ]
  },
  {
   "cell_type": "markdown",
   "metadata": {},
   "source": [
    "## Datos que vienen con las libretas"
   ]
  },
  {
   "cell_type": "markdown",
   "metadata": {},
   "source": [
    "Some books may come with large files.  If you are in Linux or MacOS run:"
   ]
  },
  {
   "cell_type": "code",
   "execution_count": 16,
   "metadata": {},
   "outputs": [
    {
     "name": "stdout",
     "output_type": "stream",
     "text": [
      "Unpacking...\r\n",
      "\tUnpacking pybook/data/mybook.png...file already unpacked\r\n"
     ]
    }
   ],
   "source": [
    "!bash .pack/pack.sh unpack"
   ]
  },
  {
   "cell_type": "markdown",
   "metadata": {},
   "source": [
    "## Python packages"
   ]
  },
  {
   "cell_type": "markdown",
   "metadata": {},
   "source": [
    "According to your `mybook.conf` configuration file, we will attempto to install the following python packages:"
   ]
  },
  {
   "cell_type": "code",
   "execution_count": 18,
   "metadata": {},
   "outputs": [
    {
     "data": {
      "text/plain": [
       "'numpy,scipy,matplotlib,spiceypy'"
      ]
     },
     "execution_count": 18,
     "metadata": {},
     "output_type": "execute_result"
    }
   ],
   "source": [
    "conf.BOOK_PACKAGES"
   ]
  },
  {
   "cell_type": "markdown",
   "metadata": {},
   "source": [
    "Instala los paquetes básicos de python requeridos:"
   ]
  },
  {
   "cell_type": "code",
   "execution_count": 20,
   "metadata": {},
   "outputs": [
    {
     "name": "stdout",
     "output_type": "stream",
     "text": [
      "Package numpy already installed\n",
      "Package scipy already installed\n",
      "Package matplotlib already installed\n",
      "Package spiceypy already installed\n"
     ]
    }
   ],
   "source": [
    "paquetes=conf.BOOK_PACKAGES.split(\",\")\n",
    "for paquete in paquetes:\n",
    "    try:\n",
    "        exec(f\"import {paquete}\",globals())\n",
    "        print(f\"Package {paquete} already installed\")\n",
    "    except:\n",
    "        print(f\"Installing '{paquete}'...\")\n",
    "        !$conf.PYTHON -m pip install $paquete"
   ]
  },
  {
   "cell_type": "markdown",
   "metadata": {},
   "source": [
    "## Tests"
   ]
  },
  {
   "cell_type": "markdown",
   "metadata": {},
   "source": [
    "If everything was properly installed, all the following tests will pass:"
   ]
  },
  {
   "cell_type": "code",
   "execution_count": 26,
   "metadata": {},
   "outputs": [
    {
     "name": "stdout",
     "output_type": "stream",
     "text": [
      "This file is generated automatically after 'make publish'\r\n"
     ]
    }
   ],
   "source": [
    "!bash test.sh"
   ]
  },
  {
   "cell_type": "markdown",
   "metadata": {},
   "source": [
    "Done."
   ]
  }
 ],
 "metadata": {
  "kernelspec": {
   "display_name": "Python 3",
   "language": "python",
   "name": "python3"
  },
  "language_info": {
   "codemirror_mode": {
    "name": "ipython",
    "version": 3
   },
   "file_extension": ".py",
   "mimetype": "text/x-python",
   "name": "python",
   "nbconvert_exporter": "python",
   "pygments_lexer": "ipython3",
   "version": "3.6.8"
  }
 },
 "nbformat": 4,
 "nbformat_minor": 2
}
