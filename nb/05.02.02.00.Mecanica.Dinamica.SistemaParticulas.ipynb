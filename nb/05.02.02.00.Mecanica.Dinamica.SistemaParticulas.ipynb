{
 "cells": [
  {
   "cell_type": "markdown",
   "metadata": {
    "tags": [
     "navigation"
    ]
   },
   "source": [
    "[Indice](index.ipynb) | Previo: [Mecanica.Dinamica.Postulados](05.02.01.00.Mecanica.Dinamica.Postulados.ipynb) | Siguiente: [Mecanica.SistemasNoInerciales](05.03.00.00.Mecanica.SistemasNoInerciales.ipynb)"
   ]
  },
  {
   "cell_type": "markdown",
   "metadata": {},
   "source": [
    "## 5.4. Sistemas de partículas\n",
    "<a id='sistemas_particulas'></a>"
   ]
  },
  {
   "cell_type": "markdown",
   "metadata": {},
   "source": [
    "Una vez definidas las cantidades y conceptos básicos de la mecánica y formulados los principios, postulados y teoremas que nos permiten describir el movimiento de partículas puntuales, tenemos los elementos necesarios para abordar la cinemática y dinámica de sistemas formados por muchas partículas.\n",
    "\n",
    "Los sistemas considerados aquí, sin embargo, estarán constituidos por partículas que interactúan a distancia, con fuerzas relativamente débiles y en números relativamente pequeños.  La mecánica de sistemas con partículas unidas por fuerzas intensas y que mantienen su posición relativa de forma estable (cuerpos rígidos) o aquellos formados por *moles* de partículas individuales, y cuya mecánica es descrita por leyes empíricas macroscópicas o por reglas estadística, está más allá del interés del libro.\n",
    "\n",
    "Una buena parte de los desarrollos teóricos contenidos en esta sección vienen originalmente del texto clásico de Goldstein, Poole \\& Safko, \"*Classical mechanics*\" <cite data-cite=\"Goldstein2002\"><a href=\"mybook.html#Goldstein2002\">(Goldstein et al., 2002)</a></cite> y que estaremos citando con alguna frecuencia en el resto de este libro."
   ]
  },
  {
   "cell_type": "markdown",
   "metadata": {},
   "source": [
    "### 5.4.1. Fuerzas y centro de masa\n",
    "<a id='fuerzas_centro_masa'></a>"
   ]
  },
  {
   "cell_type": "markdown",
   "metadata": {},
   "source": [
    "Cada partícula en nuestro sistema esta sometida a dos tipos de fuerzas: (1) las fuerzas externas $\\vec{F}^{E}_i$, producidas por cuerpos externos o campos diferentes a los producidos por las componentes del sistema y (2) las fuerzas entre las partículas $\\vec{F}_{ij}$.  "
   ]
  },
  {
   "cell_type": "markdown",
   "metadata": {},
   "source": [
    "La evolución del sistema se obtiene resolviendo simultáneamenete el conjunto de las e.d.m. de cada partícula, que se puede escribir en términos de las fuerzas externas e internas como:\n",
    "\n",
    "\\begin{equation}\n",
    "\\label{eq:edm_sistema_particulas}\n",
    "\\left\\{m_i \\ddot{\\vec r_i} = \\vec F^E_i+\\sum_{j\\neq i} \\vec F_{ij}\\right\\}_N\n",
    "\\end{equation}"
   ]
  },
  {
   "cell_type": "markdown",
   "metadata": {},
   "source": [
    "Si sumamos todas las e.d.m. y suponemos que las fuerzas entre partículas satisfacen la ley de acción y reacción (débil o fuerte), esto es $\\vec{F}_{ji}=-\\vec{F}_{ij}$, podemos escribir:\n",
    "\n",
    "$$\n",
    "\\sum_i m_i \\ddot{\\vec r_i} = \\sum_i \\vec F^E_i\n",
    "$$\n",
    "o bien:\n",
    "\n",
    "$$\n",
    "\\frac{\\mathrm{d}^2}{\\mathrm{d}t^2}\\left(\\sum_i m_i \\vec{r}_i\\right) = \\sum_i \\vec F^E_i\n",
    "$$\n"
   ]
  },
  {
   "cell_type": "markdown",
   "metadata": {},
   "source": [
    "Si definimos: \n",
    "\n",
    "\\begin{equation}\n",
    "\\label{eq:centro_masa}\n",
    "\\vec R\\equiv \\frac{\\sum_i m_i \\vec{r}_i}{M}\n",
    "\\end{equation}\n",
    "donde $M=\\sum_i m_i$ es la masa total del sistema, las e.d.m. de todas las partículas del sistema se transforman en una sola ecuación, que tiene exactamente la misma forma que la e.d.m. de una sola partícula de masa $M$ y posición $\\vec{R}$ sometida a una fuerza total $F^E=\\sum_i \\vec F^E_i$:\n",
    "\n",
    "\\begin{equation}\n",
    "\\label{eq:edm_sistema}\n",
    "M\\ddot{\\vec R}=\\vec F^E\n",
    "\\end{equation}"
   ]
  },
  {
   "cell_type": "markdown",
   "metadata": {},
   "source": [
    "Esto sencillo resultado tiene implicaciones trascententales.  Significa, esencialmente, que muchos de las cantidades cinemáticas y dinámicas definidas hasta ahora para partículas indivuales, así como algunos de los resultados vistos antes, se aplican también cuando describimos sistemas de partículas, siempre y cuando nos ocupemos del movimiento de un punto imaginario localizado en la posición $\\vec R$ dada por la Ec. ([centro_masa](#mjx-eqn-eq%3Acentro_masa)).  Llamamos a este punto el **centro de Masa** del sistema."
   ]
  },
  {
   "cell_type": "markdown",
   "metadata": {},
   "source": [
    "Para ilustrar numéricamente el concepto de centro de masa consideremos un sistema de $N$ partículas con posiciones y masas aleatorias sobre el plano xy.  \n",
    "\n",
    "Para ello generemos valores uniformemente distribuidos en el intervalo $[0,100)$ que corresponderán a la masa de las partículas en kg.  La posición de las partículas se generara asumiendo que sus coordenadas se encuentran restringidas al interior de un cuadrado de lado 2 m y apoyado sobre el origen del sistema de coordenadas.  Por su lado, supondremos que las componentes de la velocidad están restringidas al intervalo $[-0.2,0.2]$ m/s.\n",
    "\n",
    "El algoritmo para preparar las masas, posiciones y velocidades de las partículas será:"
   ]
  },
  {
   "cell_type": "markdown",
   "metadata": {},
   "source": [
    "<a id='code:random_particles'></a>"
   ]
  },
  {
   "cell_type": "code",
   "execution_count": 219,
   "metadata": {
    "codelabel": "code:random_particles",
    "codeplot": 0,
    "tags": [
     "code:random_particles"
    ]
   },
   "outputs": [],
   "source": [
    "#Número de partículas \n",
    "N=3\n",
    "\n",
    "#Semilla de números aleatorios\n",
    "from numpy.random import seed\n",
    "seed(30)\n",
    "\n",
    "#Valores aleatorios de las masas\n",
    "from numpy.random import uniform\n",
    "ms=uniform(0,100,size=N)\n",
    "\n",
    "#Masa total\n",
    "M=ms.sum()\n",
    "\n",
    "#Tabla de posiciones\n",
    "rs=uniform(0,2,size=(N,3))\n",
    "#Ponemos todos los valores de z en 0\n",
    "rs[:,2]=0\n",
    "\n",
    "#Tabla de velocidades\n",
    "vs=uniform(-0.2,0.2,size=(N,3))\n",
    "#Ponemos todos los valores de vz en 0\n",
    "vs[:,2]=0"
   ]
  },
  {
   "cell_type": "code",
   "execution_count": 220,
   "metadata": {
    "codelabel": "",
    "codeplot": 0,
    "tags": [
     "hide_input"
    ]
   },
   "outputs": [
    {
     "name": "stdout",
     "output_type": "stream",
     "text": [
      "Masas:\n",
      "[64.41 38.07 66.3 ]...\n",
      "Posiciones:\n",
      "[[0.33 1.93]\n",
      " [1.98 0.47]\n",
      " [0.81 0.27]]\n",
      "...\n",
      "Velocidades:\n",
      "[[ 0.01  0.11]\n",
      " [-0.16 -0.12]\n",
      " [-0.11 -0.1 ]]\n",
      "...\n"
     ]
    }
   ],
   "source": [
    "from numpy import set_printoptions\n",
    "set_printoptions(precision=2)\n",
    "print(f\"Masas:\\n{ms}...\")\n",
    "print(f\"Posiciones:\\n{rs[:,:2]}\\n...\")\n",
    "print(f\"Velocidades:\\n{vs[:,:2]}\\n...\")"
   ]
  },
  {
   "cell_type": "markdown",
   "metadata": {
    "label": "",
    "subtitle": "semilla de números aleatorios",
    "tags": [
     "box_note"
    ],
    "title": "Nota"
   },
   "source": [
    "> **Nota: semilla de números aleatorios.**<a id=''></a> La mayoría de los algoritmos de generación de números aleatorios, lo hacen partiendo de una *semilla entera*, a partir del cuál generan secuencias de números perfectamente predecibles pero que a los ojos de un ser humano parecen completamente al azar (pseudo-aleatorios).  \n",
    "\n",
    "> En el Alg. ([random_particles](#code:random_particles)) hemos generado las propiedades del sistema físico fijando la semilla en un valor arbitrario de 30 (de allí el comando `seed(30)`.) De este modo, al correr este algorimo siempre obtendremos las mismas propiedades.  \n",
    "\n",
    "> Si el lector desea generar un conjunto completamente diferente puede cambiar este número por cualquier otro (siempre que sea entero.)  Más interesante aún es comprobar el efecto que tienen eliminar (o comentar esta línea.)"
   ]
  },
  {
   "cell_type": "markdown",
   "metadata": {},
   "source": [
    "Usando la Ec. ([centro_masa](#mjx-eqn-eq%3Acentro_masa)), podemos calcular la posición y velocidad del centro de masa con el siguiente algoritmo:"
   ]
  },
  {
   "cell_type": "markdown",
   "metadata": {},
   "source": [
    "<a id='code:centro_masa'></a>"
   ]
  },
  {
   "cell_type": "code",
   "execution_count": 170,
   "metadata": {
    "codelabel": "code:centro_masa",
    "codeplot": 0,
    "tags": [
     "code:centro_masa"
    ]
   },
   "outputs": [],
   "source": [
    "from numpy import array\n",
    "R_CM=sum(ms[:,None]*rs)/M\n",
    "V_CM=sum(ms[:,None]*vs)/M"
   ]
  },
  {
   "cell_type": "code",
   "execution_count": 171,
   "metadata": {
    "codelabel": "",
    "codeplot": 0,
    "tags": [
     "hide_input"
    ]
   },
   "outputs": [
    {
     "name": "stdout",
     "output_type": "stream",
     "text": [
      "Posición centro de masa: [0.89 0.95]\n",
      "Velocidad centro de masa: [-0.08 -0.03]\n"
     ]
    }
   ],
   "source": [
    "print(f\"Posición centro de masa: {R_CM[:2]}\")\n",
    "print(f\"Velocidad centro de masa: {V_CM[:2]}\")"
   ]
  },
  {
   "cell_type": "markdown",
   "metadata": {
    "label": "",
    "subtitle": "Operaciones entre vectores y matrices",
    "tags": [
     "box_note"
    ],
    "title": "Nota"
   },
   "source": [
    "> **Nota: Operaciones entre vectores y matrices.**<a id=''></a> En lo que queda de esta sección, pero también en algunos de los capítulos posteriores, nos enfrentaremos con mucha frecuencia a situaciones en las que es necesario realizar operaciones entre vectores y matrices (como `ms` y `rs` en el algoritmo anterior), que merecen un poco de atención.\n",
    "\n",
    "> El cálculo, en una sola línea de código, de la posición del centro de masa que hicimos en el Alg. ([centro_masa](#code:centro_masa)) no es para nada trivial. \n",
    "\n",
    "> Si quisieramos hacerlo paso a paso el código (uno de los muchos posibles) sería bastante bastante engorroso: \n",
    "\n",
    " ```python\n",
    "  R_CM=[0,0,0]\n",
    "  for i in range(3):\n",
    "      for k in range(N):\n",
    "          R_CM[i]=R_CM[i]+ms*rs[k,i]\n",
    " ```\n",
    "\n",
    "> En este ineficiente algoritmo (el único posible en lenguajes como `C`), el primer ciclo `for` es para recorrer las componentes del vector `R_CM` y el segundo para recorrer las partículas del sistema.  \n",
    "\n",
    "> Si tuvieramos que escribir todas las expresiones vectoriales usando algoritmos como aquel, este texto tendría miles de páginas y posiblemente se convertiría en un aburrido libro de \"programación ineficiente\" (cuando en realidad lo emocionante esta en la física.)  \n",
    "\n",
    "> Hay cinco trucos entones que debemos reconocer para todos los algoritmos sucesivos:\n",
    "\n",
    "> 1. Si queremos multiplicar un vector por una matrix, por ejemplo para calcular $\\{m_i\\vec{r}_i\\}$ no podemos simplemente escribir `ms*rs` (aunque el sistema eventualmente no produzca ningún error el resultado será equivocado).  Para hacer correctamente esta multiplicación, debemos asegurarnos que `ms` (que es un vector de dimensiones $1\\times N$, donde $N$ es el número de partículas) se convierta en un vector columna $N\\times 1$.  El truco en `Python` para ello es escribir simplemente `ms[:,None]`.\n",
    "\n",
    "> 2. Si queremos sumar las filas de una matrix $N\\times M$ basta usar la rutina `sum` incorporada en la biblioteca base del lenguaje.  Así `sum(rs)` produce un vector de $M$ componentes que tiene la suma *vectorial* de todas las filas de la matriz `rs`.  Este y el anterior truco, son los que permiten escribir en una línea las componentes de $\\vec R$: `R_CM=sum(ms[:,None]*rs)/M`.\n",
    "\n",
    "> 3. Si queremos restar a la matriz `rs` un vector constante `R_CM`, la operación `rs-R_CM` producirá un error.  La razón es que el operador `-` asume que los dos arreglos tienen el mismo tamaño; en realidad `rs` es una matriz $N\\times 3$ y `R_CM` un vector simple de 3 componentes.  Para restar cada fila de la matriz `rs` por el vector `R_CM` se debe usar la rutina `subtract` de `NumPy`: `subtrac(rs,R_CM)`.\n",
    "\n",
    "> 4. Las operaciones vectoriales `cross` (producto cruz) y `dot` (producto punto) del paquete `NumPy`, aplicadas sobre dos matrices $N\\times3$ (como las matrices de posiciones `rs` y velocidades `vs` de las partículas del sistema), realizan las operaciones fila por fila (cada fila de la matriz se considera un vector.)  Así `cross(rs,vs)` es igual al conjunto $\\{\\vec{r}_i\\times\\vec{v}_i\\}$ y es en sí misma una matriz $N\\times3$.  Lo mismo sucede con `dot(rs,rs)`, aunque en este último caso el resultado es un vector columna $N\\times 1$ con los productos punto $\\{\\vec{r}_i\\cdot\\vec{r}_i\\}$.\n",
    "\n",
    "> 5. La operación `norm` (que esta en el subpaquete `linalg` de `NumPy`) y que permite calcular la magnitud euclidiana de un vector, se puede aplicar sobre una matriz como `vs` para obtener la magnitud de cada fila; pero no de cualquier manera.  `norm(vs)` devuelve un solo número.  Pero `norm(vs,axis=1)` devuelve la magnitud de cada fila (el `axis=1` le indica a `norm` que recorra la matriz por filas; alternativamente `axis=0` le dirá a que lo haga por columnas, que no es nuestro interés aquí.)  Así el código `norm(vs,axis=1)**2` permite calcular el conjunto $\\{v_i^2\\}$."
   ]
  },
  {
   "cell_type": "markdown",
   "metadata": {},
   "source": [
    "Un gráfico de la posición y velocidad de las partículas del sistema y de la posición y velocidad del centro de masa puede obtenerse con el siguiente algoritmo:"
   ]
  },
  {
   "cell_type": "code",
   "execution_count": 172,
   "metadata": {
    "codelabel": "",
    "codeplot": 0,
    "tags": [
     "hide_pdf"
    ]
   },
   "outputs": [],
   "source": [
    "%matplotlib nbagg"
   ]
  },
  {
   "cell_type": "markdown",
   "metadata": {},
   "source": [
    "<a id='code:grafico_sistema_ejemplo'></a>"
   ]
  },
  {
   "cell_type": "code",
   "execution_count": 229,
   "metadata": {
    "codelabel": "code:grafico_sistema_ejemplo",
    "codeplot": 1,
    "figcaption": "<b>Figura 5.48.</b> Un sistema de tres partículas.  El tamaño del círculo que representa cada partícula es proporcional a su masa.  La cruz y la flecha adherida a ella muestran la posición y velocidad del centro de masa.",
    "tags": [
     "code:grafico_sistema_ejemplo"
    ]
   },
   "outputs": [
    {
     "data": {
      "application/javascript": [
       "/* Put everything inside the global mpl namespace */\n",
       "window.mpl = {};\n",
       "\n",
       "\n",
       "mpl.get_websocket_type = function() {\n",
       "    if (typeof(WebSocket) !== 'undefined') {\n",
       "        return WebSocket;\n",
       "    } else if (typeof(MozWebSocket) !== 'undefined') {\n",
       "        return MozWebSocket;\n",
       "    } else {\n",
       "        alert('Your browser does not have WebSocket support. ' +\n",
       "              'Please try Chrome, Safari or Firefox ≥ 6. ' +\n",
       "              'Firefox 4 and 5 are also supported but you ' +\n",
       "              'have to enable WebSockets in about:config.');\n",
       "    };\n",
       "}\n",
       "\n",
       "mpl.figure = function(figure_id, websocket, ondownload, parent_element) {\n",
       "    this.id = figure_id;\n",
       "\n",
       "    this.ws = websocket;\n",
       "\n",
       "    this.supports_binary = (this.ws.binaryType != undefined);\n",
       "\n",
       "    if (!this.supports_binary) {\n",
       "        var warnings = document.getElementById(\"mpl-warnings\");\n",
       "        if (warnings) {\n",
       "            warnings.style.display = 'block';\n",
       "            warnings.textContent = (\n",
       "                \"This browser does not support binary websocket messages. \" +\n",
       "                    \"Performance may be slow.\");\n",
       "        }\n",
       "    }\n",
       "\n",
       "    this.imageObj = new Image();\n",
       "\n",
       "    this.context = undefined;\n",
       "    this.message = undefined;\n",
       "    this.canvas = undefined;\n",
       "    this.rubberband_canvas = undefined;\n",
       "    this.rubberband_context = undefined;\n",
       "    this.format_dropdown = undefined;\n",
       "\n",
       "    this.image_mode = 'full';\n",
       "\n",
       "    this.root = $('<div/>');\n",
       "    this._root_extra_style(this.root)\n",
       "    this.root.attr('style', 'display: inline-block');\n",
       "\n",
       "    $(parent_element).append(this.root);\n",
       "\n",
       "    this._init_header(this);\n",
       "    this._init_canvas(this);\n",
       "    this._init_toolbar(this);\n",
       "\n",
       "    var fig = this;\n",
       "\n",
       "    this.waiting = false;\n",
       "\n",
       "    this.ws.onopen =  function () {\n",
       "            fig.send_message(\"supports_binary\", {value: fig.supports_binary});\n",
       "            fig.send_message(\"send_image_mode\", {});\n",
       "            if (mpl.ratio != 1) {\n",
       "                fig.send_message(\"set_dpi_ratio\", {'dpi_ratio': mpl.ratio});\n",
       "            }\n",
       "            fig.send_message(\"refresh\", {});\n",
       "        }\n",
       "\n",
       "    this.imageObj.onload = function() {\n",
       "            if (fig.image_mode == 'full') {\n",
       "                // Full images could contain transparency (where diff images\n",
       "                // almost always do), so we need to clear the canvas so that\n",
       "                // there is no ghosting.\n",
       "                fig.context.clearRect(0, 0, fig.canvas.width, fig.canvas.height);\n",
       "            }\n",
       "            fig.context.drawImage(fig.imageObj, 0, 0);\n",
       "        };\n",
       "\n",
       "    this.imageObj.onunload = function() {\n",
       "        fig.ws.close();\n",
       "    }\n",
       "\n",
       "    this.ws.onmessage = this._make_on_message_function(this);\n",
       "\n",
       "    this.ondownload = ondownload;\n",
       "}\n",
       "\n",
       "mpl.figure.prototype._init_header = function() {\n",
       "    var titlebar = $(\n",
       "        '<div class=\"ui-dialog-titlebar ui-widget-header ui-corner-all ' +\n",
       "        'ui-helper-clearfix\"/>');\n",
       "    var titletext = $(\n",
       "        '<div class=\"ui-dialog-title\" style=\"width: 100%; ' +\n",
       "        'text-align: center; padding: 3px;\"/>');\n",
       "    titlebar.append(titletext)\n",
       "    this.root.append(titlebar);\n",
       "    this.header = titletext[0];\n",
       "}\n",
       "\n",
       "\n",
       "\n",
       "mpl.figure.prototype._canvas_extra_style = function(canvas_div) {\n",
       "\n",
       "}\n",
       "\n",
       "\n",
       "mpl.figure.prototype._root_extra_style = function(canvas_div) {\n",
       "\n",
       "}\n",
       "\n",
       "mpl.figure.prototype._init_canvas = function() {\n",
       "    var fig = this;\n",
       "\n",
       "    var canvas_div = $('<div/>');\n",
       "\n",
       "    canvas_div.attr('style', 'position: relative; clear: both; outline: 0');\n",
       "\n",
       "    function canvas_keyboard_event(event) {\n",
       "        return fig.key_event(event, event['data']);\n",
       "    }\n",
       "\n",
       "    canvas_div.keydown('key_press', canvas_keyboard_event);\n",
       "    canvas_div.keyup('key_release', canvas_keyboard_event);\n",
       "    this.canvas_div = canvas_div\n",
       "    this._canvas_extra_style(canvas_div)\n",
       "    this.root.append(canvas_div);\n",
       "\n",
       "    var canvas = $('<canvas/>');\n",
       "    canvas.addClass('mpl-canvas');\n",
       "    canvas.attr('style', \"left: 0; top: 0; z-index: 0; outline: 0\")\n",
       "\n",
       "    this.canvas = canvas[0];\n",
       "    this.context = canvas[0].getContext(\"2d\");\n",
       "\n",
       "    var backingStore = this.context.backingStorePixelRatio ||\n",
       "\tthis.context.webkitBackingStorePixelRatio ||\n",
       "\tthis.context.mozBackingStorePixelRatio ||\n",
       "\tthis.context.msBackingStorePixelRatio ||\n",
       "\tthis.context.oBackingStorePixelRatio ||\n",
       "\tthis.context.backingStorePixelRatio || 1;\n",
       "\n",
       "    mpl.ratio = (window.devicePixelRatio || 1) / backingStore;\n",
       "\n",
       "    var rubberband = $('<canvas/>');\n",
       "    rubberband.attr('style', \"position: absolute; left: 0; top: 0; z-index: 1;\")\n",
       "\n",
       "    var pass_mouse_events = true;\n",
       "\n",
       "    canvas_div.resizable({\n",
       "        start: function(event, ui) {\n",
       "            pass_mouse_events = false;\n",
       "        },\n",
       "        resize: function(event, ui) {\n",
       "            fig.request_resize(ui.size.width, ui.size.height);\n",
       "        },\n",
       "        stop: function(event, ui) {\n",
       "            pass_mouse_events = true;\n",
       "            fig.request_resize(ui.size.width, ui.size.height);\n",
       "        },\n",
       "    });\n",
       "\n",
       "    function mouse_event_fn(event) {\n",
       "        if (pass_mouse_events)\n",
       "            return fig.mouse_event(event, event['data']);\n",
       "    }\n",
       "\n",
       "    rubberband.mousedown('button_press', mouse_event_fn);\n",
       "    rubberband.mouseup('button_release', mouse_event_fn);\n",
       "    // Throttle sequential mouse events to 1 every 20ms.\n",
       "    rubberband.mousemove('motion_notify', mouse_event_fn);\n",
       "\n",
       "    rubberband.mouseenter('figure_enter', mouse_event_fn);\n",
       "    rubberband.mouseleave('figure_leave', mouse_event_fn);\n",
       "\n",
       "    canvas_div.on(\"wheel\", function (event) {\n",
       "        event = event.originalEvent;\n",
       "        event['data'] = 'scroll'\n",
       "        if (event.deltaY < 0) {\n",
       "            event.step = 1;\n",
       "        } else {\n",
       "            event.step = -1;\n",
       "        }\n",
       "        mouse_event_fn(event);\n",
       "    });\n",
       "\n",
       "    canvas_div.append(canvas);\n",
       "    canvas_div.append(rubberband);\n",
       "\n",
       "    this.rubberband = rubberband;\n",
       "    this.rubberband_canvas = rubberband[0];\n",
       "    this.rubberband_context = rubberband[0].getContext(\"2d\");\n",
       "    this.rubberband_context.strokeStyle = \"#000000\";\n",
       "\n",
       "    this._resize_canvas = function(width, height) {\n",
       "        // Keep the size of the canvas, canvas container, and rubber band\n",
       "        // canvas in synch.\n",
       "        canvas_div.css('width', width)\n",
       "        canvas_div.css('height', height)\n",
       "\n",
       "        canvas.attr('width', width * mpl.ratio);\n",
       "        canvas.attr('height', height * mpl.ratio);\n",
       "        canvas.attr('style', 'width: ' + width + 'px; height: ' + height + 'px;');\n",
       "\n",
       "        rubberband.attr('width', width);\n",
       "        rubberband.attr('height', height);\n",
       "    }\n",
       "\n",
       "    // Set the figure to an initial 600x600px, this will subsequently be updated\n",
       "    // upon first draw.\n",
       "    this._resize_canvas(600, 600);\n",
       "\n",
       "    // Disable right mouse context menu.\n",
       "    $(this.rubberband_canvas).bind(\"contextmenu\",function(e){\n",
       "        return false;\n",
       "    });\n",
       "\n",
       "    function set_focus () {\n",
       "        canvas.focus();\n",
       "        canvas_div.focus();\n",
       "    }\n",
       "\n",
       "    window.setTimeout(set_focus, 100);\n",
       "}\n",
       "\n",
       "mpl.figure.prototype._init_toolbar = function() {\n",
       "    var fig = this;\n",
       "\n",
       "    var nav_element = $('<div/>');\n",
       "    nav_element.attr('style', 'width: 100%');\n",
       "    this.root.append(nav_element);\n",
       "\n",
       "    // Define a callback function for later on.\n",
       "    function toolbar_event(event) {\n",
       "        return fig.toolbar_button_onclick(event['data']);\n",
       "    }\n",
       "    function toolbar_mouse_event(event) {\n",
       "        return fig.toolbar_button_onmouseover(event['data']);\n",
       "    }\n",
       "\n",
       "    for(var toolbar_ind in mpl.toolbar_items) {\n",
       "        var name = mpl.toolbar_items[toolbar_ind][0];\n",
       "        var tooltip = mpl.toolbar_items[toolbar_ind][1];\n",
       "        var image = mpl.toolbar_items[toolbar_ind][2];\n",
       "        var method_name = mpl.toolbar_items[toolbar_ind][3];\n",
       "\n",
       "        if (!name) {\n",
       "            // put a spacer in here.\n",
       "            continue;\n",
       "        }\n",
       "        var button = $('<button/>');\n",
       "        button.addClass('ui-button ui-widget ui-state-default ui-corner-all ' +\n",
       "                        'ui-button-icon-only');\n",
       "        button.attr('role', 'button');\n",
       "        button.attr('aria-disabled', 'false');\n",
       "        button.click(method_name, toolbar_event);\n",
       "        button.mouseover(tooltip, toolbar_mouse_event);\n",
       "\n",
       "        var icon_img = $('<span/>');\n",
       "        icon_img.addClass('ui-button-icon-primary ui-icon');\n",
       "        icon_img.addClass(image);\n",
       "        icon_img.addClass('ui-corner-all');\n",
       "\n",
       "        var tooltip_span = $('<span/>');\n",
       "        tooltip_span.addClass('ui-button-text');\n",
       "        tooltip_span.html(tooltip);\n",
       "\n",
       "        button.append(icon_img);\n",
       "        button.append(tooltip_span);\n",
       "\n",
       "        nav_element.append(button);\n",
       "    }\n",
       "\n",
       "    var fmt_picker_span = $('<span/>');\n",
       "\n",
       "    var fmt_picker = $('<select/>');\n",
       "    fmt_picker.addClass('mpl-toolbar-option ui-widget ui-widget-content');\n",
       "    fmt_picker_span.append(fmt_picker);\n",
       "    nav_element.append(fmt_picker_span);\n",
       "    this.format_dropdown = fmt_picker[0];\n",
       "\n",
       "    for (var ind in mpl.extensions) {\n",
       "        var fmt = mpl.extensions[ind];\n",
       "        var option = $(\n",
       "            '<option/>', {selected: fmt === mpl.default_extension}).html(fmt);\n",
       "        fmt_picker.append(option);\n",
       "    }\n",
       "\n",
       "    // Add hover states to the ui-buttons\n",
       "    $( \".ui-button\" ).hover(\n",
       "        function() { $(this).addClass(\"ui-state-hover\");},\n",
       "        function() { $(this).removeClass(\"ui-state-hover\");}\n",
       "    );\n",
       "\n",
       "    var status_bar = $('<span class=\"mpl-message\"/>');\n",
       "    nav_element.append(status_bar);\n",
       "    this.message = status_bar[0];\n",
       "}\n",
       "\n",
       "mpl.figure.prototype.request_resize = function(x_pixels, y_pixels) {\n",
       "    // Request matplotlib to resize the figure. Matplotlib will then trigger a resize in the client,\n",
       "    // which will in turn request a refresh of the image.\n",
       "    this.send_message('resize', {'width': x_pixels, 'height': y_pixels});\n",
       "}\n",
       "\n",
       "mpl.figure.prototype.send_message = function(type, properties) {\n",
       "    properties['type'] = type;\n",
       "    properties['figure_id'] = this.id;\n",
       "    this.ws.send(JSON.stringify(properties));\n",
       "}\n",
       "\n",
       "mpl.figure.prototype.send_draw_message = function() {\n",
       "    if (!this.waiting) {\n",
       "        this.waiting = true;\n",
       "        this.ws.send(JSON.stringify({type: \"draw\", figure_id: this.id}));\n",
       "    }\n",
       "}\n",
       "\n",
       "\n",
       "mpl.figure.prototype.handle_save = function(fig, msg) {\n",
       "    var format_dropdown = fig.format_dropdown;\n",
       "    var format = format_dropdown.options[format_dropdown.selectedIndex].value;\n",
       "    fig.ondownload(fig, format);\n",
       "}\n",
       "\n",
       "\n",
       "mpl.figure.prototype.handle_resize = function(fig, msg) {\n",
       "    var size = msg['size'];\n",
       "    if (size[0] != fig.canvas.width || size[1] != fig.canvas.height) {\n",
       "        fig._resize_canvas(size[0], size[1]);\n",
       "        fig.send_message(\"refresh\", {});\n",
       "    };\n",
       "}\n",
       "\n",
       "mpl.figure.prototype.handle_rubberband = function(fig, msg) {\n",
       "    var x0 = msg['x0'] / mpl.ratio;\n",
       "    var y0 = (fig.canvas.height - msg['y0']) / mpl.ratio;\n",
       "    var x1 = msg['x1'] / mpl.ratio;\n",
       "    var y1 = (fig.canvas.height - msg['y1']) / mpl.ratio;\n",
       "    x0 = Math.floor(x0) + 0.5;\n",
       "    y0 = Math.floor(y0) + 0.5;\n",
       "    x1 = Math.floor(x1) + 0.5;\n",
       "    y1 = Math.floor(y1) + 0.5;\n",
       "    var min_x = Math.min(x0, x1);\n",
       "    var min_y = Math.min(y0, y1);\n",
       "    var width = Math.abs(x1 - x0);\n",
       "    var height = Math.abs(y1 - y0);\n",
       "\n",
       "    fig.rubberband_context.clearRect(\n",
       "        0, 0, fig.canvas.width / mpl.ratio, fig.canvas.height / mpl.ratio);\n",
       "\n",
       "    fig.rubberband_context.strokeRect(min_x, min_y, width, height);\n",
       "}\n",
       "\n",
       "mpl.figure.prototype.handle_figure_label = function(fig, msg) {\n",
       "    // Updates the figure title.\n",
       "    fig.header.textContent = msg['label'];\n",
       "}\n",
       "\n",
       "mpl.figure.prototype.handle_cursor = function(fig, msg) {\n",
       "    var cursor = msg['cursor'];\n",
       "    switch(cursor)\n",
       "    {\n",
       "    case 0:\n",
       "        cursor = 'pointer';\n",
       "        break;\n",
       "    case 1:\n",
       "        cursor = 'default';\n",
       "        break;\n",
       "    case 2:\n",
       "        cursor = 'crosshair';\n",
       "        break;\n",
       "    case 3:\n",
       "        cursor = 'move';\n",
       "        break;\n",
       "    }\n",
       "    fig.rubberband_canvas.style.cursor = cursor;\n",
       "}\n",
       "\n",
       "mpl.figure.prototype.handle_message = function(fig, msg) {\n",
       "    fig.message.textContent = msg['message'];\n",
       "}\n",
       "\n",
       "mpl.figure.prototype.handle_draw = function(fig, msg) {\n",
       "    // Request the server to send over a new figure.\n",
       "    fig.send_draw_message();\n",
       "}\n",
       "\n",
       "mpl.figure.prototype.handle_image_mode = function(fig, msg) {\n",
       "    fig.image_mode = msg['mode'];\n",
       "}\n",
       "\n",
       "mpl.figure.prototype.updated_canvas_event = function() {\n",
       "    // Called whenever the canvas gets updated.\n",
       "    this.send_message(\"ack\", {});\n",
       "}\n",
       "\n",
       "// A function to construct a web socket function for onmessage handling.\n",
       "// Called in the figure constructor.\n",
       "mpl.figure.prototype._make_on_message_function = function(fig) {\n",
       "    return function socket_on_message(evt) {\n",
       "        if (evt.data instanceof Blob) {\n",
       "            /* FIXME: We get \"Resource interpreted as Image but\n",
       "             * transferred with MIME type text/plain:\" errors on\n",
       "             * Chrome.  But how to set the MIME type?  It doesn't seem\n",
       "             * to be part of the websocket stream */\n",
       "            evt.data.type = \"image/png\";\n",
       "\n",
       "            /* Free the memory for the previous frames */\n",
       "            if (fig.imageObj.src) {\n",
       "                (window.URL || window.webkitURL).revokeObjectURL(\n",
       "                    fig.imageObj.src);\n",
       "            }\n",
       "\n",
       "            fig.imageObj.src = (window.URL || window.webkitURL).createObjectURL(\n",
       "                evt.data);\n",
       "            fig.updated_canvas_event();\n",
       "            fig.waiting = false;\n",
       "            return;\n",
       "        }\n",
       "        else if (typeof evt.data === 'string' && evt.data.slice(0, 21) == \"data:image/png;base64\") {\n",
       "            fig.imageObj.src = evt.data;\n",
       "            fig.updated_canvas_event();\n",
       "            fig.waiting = false;\n",
       "            return;\n",
       "        }\n",
       "\n",
       "        var msg = JSON.parse(evt.data);\n",
       "        var msg_type = msg['type'];\n",
       "\n",
       "        // Call the  \"handle_{type}\" callback, which takes\n",
       "        // the figure and JSON message as its only arguments.\n",
       "        try {\n",
       "            var callback = fig[\"handle_\" + msg_type];\n",
       "        } catch (e) {\n",
       "            console.log(\"No handler for the '\" + msg_type + \"' message type: \", msg);\n",
       "            return;\n",
       "        }\n",
       "\n",
       "        if (callback) {\n",
       "            try {\n",
       "                // console.log(\"Handling '\" + msg_type + \"' message: \", msg);\n",
       "                callback(fig, msg);\n",
       "            } catch (e) {\n",
       "                console.log(\"Exception inside the 'handler_\" + msg_type + \"' callback:\", e, e.stack, msg);\n",
       "            }\n",
       "        }\n",
       "    };\n",
       "}\n",
       "\n",
       "// from http://stackoverflow.com/questions/1114465/getting-mouse-location-in-canvas\n",
       "mpl.findpos = function(e) {\n",
       "    //this section is from http://www.quirksmode.org/js/events_properties.html\n",
       "    var targ;\n",
       "    if (!e)\n",
       "        e = window.event;\n",
       "    if (e.target)\n",
       "        targ = e.target;\n",
       "    else if (e.srcElement)\n",
       "        targ = e.srcElement;\n",
       "    if (targ.nodeType == 3) // defeat Safari bug\n",
       "        targ = targ.parentNode;\n",
       "\n",
       "    // jQuery normalizes the pageX and pageY\n",
       "    // pageX,Y are the mouse positions relative to the document\n",
       "    // offset() returns the position of the element relative to the document\n",
       "    var x = e.pageX - $(targ).offset().left;\n",
       "    var y = e.pageY - $(targ).offset().top;\n",
       "\n",
       "    return {\"x\": x, \"y\": y};\n",
       "};\n",
       "\n",
       "/*\n",
       " * return a copy of an object with only non-object keys\n",
       " * we need this to avoid circular references\n",
       " * http://stackoverflow.com/a/24161582/3208463\n",
       " */\n",
       "function simpleKeys (original) {\n",
       "  return Object.keys(original).reduce(function (obj, key) {\n",
       "    if (typeof original[key] !== 'object')\n",
       "        obj[key] = original[key]\n",
       "    return obj;\n",
       "  }, {});\n",
       "}\n",
       "\n",
       "mpl.figure.prototype.mouse_event = function(event, name) {\n",
       "    var canvas_pos = mpl.findpos(event)\n",
       "\n",
       "    if (name === 'button_press')\n",
       "    {\n",
       "        this.canvas.focus();\n",
       "        this.canvas_div.focus();\n",
       "    }\n",
       "\n",
       "    var x = canvas_pos.x * mpl.ratio;\n",
       "    var y = canvas_pos.y * mpl.ratio;\n",
       "\n",
       "    this.send_message(name, {x: x, y: y, button: event.button,\n",
       "                             step: event.step,\n",
       "                             guiEvent: simpleKeys(event)});\n",
       "\n",
       "    /* This prevents the web browser from automatically changing to\n",
       "     * the text insertion cursor when the button is pressed.  We want\n",
       "     * to control all of the cursor setting manually through the\n",
       "     * 'cursor' event from matplotlib */\n",
       "    event.preventDefault();\n",
       "    return false;\n",
       "}\n",
       "\n",
       "mpl.figure.prototype._key_event_extra = function(event, name) {\n",
       "    // Handle any extra behaviour associated with a key event\n",
       "}\n",
       "\n",
       "mpl.figure.prototype.key_event = function(event, name) {\n",
       "\n",
       "    // Prevent repeat events\n",
       "    if (name == 'key_press')\n",
       "    {\n",
       "        if (event.which === this._key)\n",
       "            return;\n",
       "        else\n",
       "            this._key = event.which;\n",
       "    }\n",
       "    if (name == 'key_release')\n",
       "        this._key = null;\n",
       "\n",
       "    var value = '';\n",
       "    if (event.ctrlKey && event.which != 17)\n",
       "        value += \"ctrl+\";\n",
       "    if (event.altKey && event.which != 18)\n",
       "        value += \"alt+\";\n",
       "    if (event.shiftKey && event.which != 16)\n",
       "        value += \"shift+\";\n",
       "\n",
       "    value += 'k';\n",
       "    value += event.which.toString();\n",
       "\n",
       "    this._key_event_extra(event, name);\n",
       "\n",
       "    this.send_message(name, {key: value,\n",
       "                             guiEvent: simpleKeys(event)});\n",
       "    return false;\n",
       "}\n",
       "\n",
       "mpl.figure.prototype.toolbar_button_onclick = function(name) {\n",
       "    if (name == 'download') {\n",
       "        this.handle_save(this, null);\n",
       "    } else {\n",
       "        this.send_message(\"toolbar_button\", {name: name});\n",
       "    }\n",
       "};\n",
       "\n",
       "mpl.figure.prototype.toolbar_button_onmouseover = function(tooltip) {\n",
       "    this.message.textContent = tooltip;\n",
       "};\n",
       "mpl.toolbar_items = [[\"Home\", \"Reset original view\", \"fa fa-home icon-home\", \"home\"], [\"Back\", \"Back to previous view\", \"fa fa-arrow-left icon-arrow-left\", \"back\"], [\"Forward\", \"Forward to next view\", \"fa fa-arrow-right icon-arrow-right\", \"forward\"], [\"\", \"\", \"\", \"\"], [\"Pan\", \"Pan axes with left mouse, zoom with right\", \"fa fa-arrows icon-move\", \"pan\"], [\"Zoom\", \"Zoom to rectangle\", \"fa fa-square-o icon-check-empty\", \"zoom\"], [\"\", \"\", \"\", \"\"], [\"Download\", \"Download plot\", \"fa fa-floppy-o icon-save\", \"download\"]];\n",
       "\n",
       "mpl.extensions = [\"eps\", \"jpeg\", \"pdf\", \"png\", \"ps\", \"raw\", \"svg\", \"tif\"];\n",
       "\n",
       "mpl.default_extension = \"png\";var comm_websocket_adapter = function(comm) {\n",
       "    // Create a \"websocket\"-like object which calls the given IPython comm\n",
       "    // object with the appropriate methods. Currently this is a non binary\n",
       "    // socket, so there is still some room for performance tuning.\n",
       "    var ws = {};\n",
       "\n",
       "    ws.close = function() {\n",
       "        comm.close()\n",
       "    };\n",
       "    ws.send = function(m) {\n",
       "        //console.log('sending', m);\n",
       "        comm.send(m);\n",
       "    };\n",
       "    // Register the callback with on_msg.\n",
       "    comm.on_msg(function(msg) {\n",
       "        //console.log('receiving', msg['content']['data'], msg);\n",
       "        // Pass the mpl event to the overridden (by mpl) onmessage function.\n",
       "        ws.onmessage(msg['content']['data'])\n",
       "    });\n",
       "    return ws;\n",
       "}\n",
       "\n",
       "mpl.mpl_figure_comm = function(comm, msg) {\n",
       "    // This is the function which gets called when the mpl process\n",
       "    // starts-up an IPython Comm through the \"matplotlib\" channel.\n",
       "\n",
       "    var id = msg.content.data.id;\n",
       "    // Get hold of the div created by the display call when the Comm\n",
       "    // socket was opened in Python.\n",
       "    var element = $(\"#\" + id);\n",
       "    var ws_proxy = comm_websocket_adapter(comm)\n",
       "\n",
       "    function ondownload(figure, format) {\n",
       "        window.open(figure.imageObj.src);\n",
       "    }\n",
       "\n",
       "    var fig = new mpl.figure(id, ws_proxy,\n",
       "                           ondownload,\n",
       "                           element.get(0));\n",
       "\n",
       "    // Call onopen now - mpl needs it, as it is assuming we've passed it a real\n",
       "    // web socket which is closed, not our websocket->open comm proxy.\n",
       "    ws_proxy.onopen();\n",
       "\n",
       "    fig.parent_element = element.get(0);\n",
       "    fig.cell_info = mpl.find_output_cell(\"<div id='\" + id + \"'></div>\");\n",
       "    if (!fig.cell_info) {\n",
       "        console.error(\"Failed to find cell for figure\", id, fig);\n",
       "        return;\n",
       "    }\n",
       "\n",
       "    var output_index = fig.cell_info[2]\n",
       "    var cell = fig.cell_info[0];\n",
       "\n",
       "};\n",
       "\n",
       "mpl.figure.prototype.handle_close = function(fig, msg) {\n",
       "    var width = fig.canvas.width/mpl.ratio\n",
       "    fig.root.unbind('remove')\n",
       "\n",
       "    // Update the output cell to use the data from the current canvas.\n",
       "    fig.push_to_output();\n",
       "    var dataURL = fig.canvas.toDataURL();\n",
       "    // Re-enable the keyboard manager in IPython - without this line, in FF,\n",
       "    // the notebook keyboard shortcuts fail.\n",
       "    IPython.keyboard_manager.enable()\n",
       "    $(fig.parent_element).html('<img src=\"' + dataURL + '\" width=\"' + width + '\">');\n",
       "    fig.close_ws(fig, msg);\n",
       "}\n",
       "\n",
       "mpl.figure.prototype.close_ws = function(fig, msg){\n",
       "    fig.send_message('closing', msg);\n",
       "    // fig.ws.close()\n",
       "}\n",
       "\n",
       "mpl.figure.prototype.push_to_output = function(remove_interactive) {\n",
       "    // Turn the data on the canvas into data in the output cell.\n",
       "    var width = this.canvas.width/mpl.ratio\n",
       "    var dataURL = this.canvas.toDataURL();\n",
       "    this.cell_info[1]['text/html'] = '<img src=\"' + dataURL + '\" width=\"' + width + '\">';\n",
       "}\n",
       "\n",
       "mpl.figure.prototype.updated_canvas_event = function() {\n",
       "    // Tell IPython that the notebook contents must change.\n",
       "    IPython.notebook.set_dirty(true);\n",
       "    this.send_message(\"ack\", {});\n",
       "    var fig = this;\n",
       "    // Wait a second, then push the new image to the DOM so\n",
       "    // that it is saved nicely (might be nice to debounce this).\n",
       "    setTimeout(function () { fig.push_to_output() }, 1000);\n",
       "}\n",
       "\n",
       "mpl.figure.prototype._init_toolbar = function() {\n",
       "    var fig = this;\n",
       "\n",
       "    var nav_element = $('<div/>');\n",
       "    nav_element.attr('style', 'width: 100%');\n",
       "    this.root.append(nav_element);\n",
       "\n",
       "    // Define a callback function for later on.\n",
       "    function toolbar_event(event) {\n",
       "        return fig.toolbar_button_onclick(event['data']);\n",
       "    }\n",
       "    function toolbar_mouse_event(event) {\n",
       "        return fig.toolbar_button_onmouseover(event['data']);\n",
       "    }\n",
       "\n",
       "    for(var toolbar_ind in mpl.toolbar_items){\n",
       "        var name = mpl.toolbar_items[toolbar_ind][0];\n",
       "        var tooltip = mpl.toolbar_items[toolbar_ind][1];\n",
       "        var image = mpl.toolbar_items[toolbar_ind][2];\n",
       "        var method_name = mpl.toolbar_items[toolbar_ind][3];\n",
       "\n",
       "        if (!name) { continue; };\n",
       "\n",
       "        var button = $('<button class=\"btn btn-default\" href=\"#\" title=\"' + name + '\"><i class=\"fa ' + image + ' fa-lg\"></i></button>');\n",
       "        button.click(method_name, toolbar_event);\n",
       "        button.mouseover(tooltip, toolbar_mouse_event);\n",
       "        nav_element.append(button);\n",
       "    }\n",
       "\n",
       "    // Add the status bar.\n",
       "    var status_bar = $('<span class=\"mpl-message\" style=\"text-align:right; float: right;\"/>');\n",
       "    nav_element.append(status_bar);\n",
       "    this.message = status_bar[0];\n",
       "\n",
       "    // Add the close button to the window.\n",
       "    var buttongrp = $('<div class=\"btn-group inline pull-right\"></div>');\n",
       "    var button = $('<button class=\"btn btn-mini btn-primary\" href=\"#\" title=\"Stop Interaction\"><i class=\"fa fa-power-off icon-remove icon-large\"></i></button>');\n",
       "    button.click(function (evt) { fig.handle_close(fig, {}); } );\n",
       "    button.mouseover('Stop Interaction', toolbar_mouse_event);\n",
       "    buttongrp.append(button);\n",
       "    var titlebar = this.root.find($('.ui-dialog-titlebar'));\n",
       "    titlebar.prepend(buttongrp);\n",
       "}\n",
       "\n",
       "mpl.figure.prototype._root_extra_style = function(el){\n",
       "    var fig = this\n",
       "    el.on(\"remove\", function(){\n",
       "\tfig.close_ws(fig, {});\n",
       "    });\n",
       "}\n",
       "\n",
       "mpl.figure.prototype._canvas_extra_style = function(el){\n",
       "    // this is important to make the div 'focusable\n",
       "    el.attr('tabindex', 0)\n",
       "    // reach out to IPython and tell the keyboard manager to turn it's self\n",
       "    // off when our div gets focus\n",
       "\n",
       "    // location in version 3\n",
       "    if (IPython.notebook.keyboard_manager) {\n",
       "        IPython.notebook.keyboard_manager.register_events(el);\n",
       "    }\n",
       "    else {\n",
       "        // location in version 2\n",
       "        IPython.keyboard_manager.register_events(el);\n",
       "    }\n",
       "\n",
       "}\n",
       "\n",
       "mpl.figure.prototype._key_event_extra = function(event, name) {\n",
       "    var manager = IPython.notebook.keyboard_manager;\n",
       "    if (!manager)\n",
       "        manager = IPython.keyboard_manager;\n",
       "\n",
       "    // Check for shift+enter\n",
       "    if (event.shiftKey && event.which == 13) {\n",
       "        this.canvas_div.blur();\n",
       "        event.shiftKey = false;\n",
       "        // Send a \"J\" for go to next cell\n",
       "        event.which = 74;\n",
       "        event.keyCode = 74;\n",
       "        manager.command_mode();\n",
       "        manager.handle_keydown(event);\n",
       "    }\n",
       "}\n",
       "\n",
       "mpl.figure.prototype.handle_save = function(fig, msg) {\n",
       "    fig.ondownload(fig, null);\n",
       "}\n",
       "\n",
       "\n",
       "mpl.find_output_cell = function(html_output) {\n",
       "    // Return the cell and output element which can be found *uniquely* in the notebook.\n",
       "    // Note - this is a bit hacky, but it is done because the \"notebook_saving.Notebook\"\n",
       "    // IPython event is triggered only after the cells have been serialised, which for\n",
       "    // our purposes (turning an active figure into a static one), is too late.\n",
       "    var cells = IPython.notebook.get_cells();\n",
       "    var ncells = cells.length;\n",
       "    for (var i=0; i<ncells; i++) {\n",
       "        var cell = cells[i];\n",
       "        if (cell.cell_type === 'code'){\n",
       "            for (var j=0; j<cell.output_area.outputs.length; j++) {\n",
       "                var data = cell.output_area.outputs[j];\n",
       "                if (data.data) {\n",
       "                    // IPython >= 3 moved mimebundle to data attribute of output\n",
       "                    data = data.data;\n",
       "                }\n",
       "                if (data['text/html'] == html_output) {\n",
       "                    return [cell, data, j];\n",
       "                }\n",
       "            }\n",
       "        }\n",
       "    }\n",
       "}\n",
       "\n",
       "// Register the function which deals with the matplotlib target/channel.\n",
       "// The kernel may be null if the page has been refreshed.\n",
       "if (IPython.notebook.kernel != null) {\n",
       "    IPython.notebook.kernel.comm_manager.register_target('matplotlib', mpl.mpl_figure_comm);\n",
       "}\n"
      ],
      "text/plain": [
       "<IPython.core.display.Javascript object>"
      ]
     },
     "metadata": {},
     "output_type": "display_data"
    },
    {
     "data": {
      "text/html": [
       "<img src=\"data:image/png;base64,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\" width=\"640\">"
      ],
      "text/plain": [
       "<IPython.core.display.HTML object>"
      ]
     },
     "metadata": {},
     "output_type": "display_data"
    }
   ],
   "source": [
    "import matplotlib.pyplot as plt\n",
    "fig=plt.figure();\n",
    "\n",
    "#Etiquetas sobre las partículas\n",
    "for i in range(N):\n",
    "    plt.text(rs[i,0],rs[i,1],i,color=\"cyan\",\n",
    "             ha='center',va='center')\n",
    "\n",
    "#Posiciones y velocidades de las partículas\n",
    "plt.scatter(rs[:,0],rs[:,1],s=5*ms,c='red',marker='o')\n",
    "plt.quiver(rs[:,0],rs[:,1],vs[:,0],vs[:,1],scale=1)\n",
    "\n",
    "#Posiciones y velocidad del centro de masa\n",
    "plt.scatter(R_CM[0],R_CM[1],s=M,c='blue',marker='+')\n",
    "plt.quiver(R_CM[0],R_CM[1],V_CM[0],V_CM[1],color='blue',scale=1)\n",
    "\n",
    "#Decoración\n",
    "plt.xlabel(\"$x$ (m)\");\n",
    "plt.ylabel(\"$y$ (m)\");\n",
    "\n",
    "#Ajusta gráfico\n",
    "from pymcel.plot import fija_ejes_proporcionales\n",
    "fija_ejes_proporcionales(fig.gca(),(rs,R_CM),margin=0.4);\n",
    "plt.tight_layout();\n",
    "plt.show();\n",
    "\n"
   ]
  },
  {
   "cell_type": "markdown",
   "metadata": {},
   "source": [
    "<a id='code:grafico_sistema_ejemplo'></a><center><b>Figura 5.48.</b> Un sistema de tres partículas.  El tamaño del círculo que representa cada partícula es proporcional a su masa.  La cruz y la flecha adherida a ella muestran la posición y velocidad del centro de masa.</center>"
   ]
  },
  {
   "cell_type": "markdown",
   "metadata": {
    "label": "",
    "subtitle": "Escala de los ejes en el espacio",
    "tags": [
     "box_note"
    ],
    "title": "Nota"
   },
   "source": [
    "> **Nota: Escala de los ejes en el espacio.**<a id=''></a> La rutina `fija_ejes_proporcionales` del paquete `pymcel` que que viene con la versión electrónica de este libro y que utilizamos en el Alg. ([grafico_sistema_ejemplo](#code:grafico_sistema_ejemplo)), juega en ese algoritmo un papel muy importante.  \n",
    "\n",
    "> En lo sucesivo, al representar la posición de partículas en el espacio coordenado, es indispensable que la escala de los ejes sea exactamente la misma. El lector puede verificar con una regla, que una unidad sobre el eje horizontal en la Figura ([code:grafico_sistema_ejemplo](#fig:code:grafico_sistema_ejemplo)) mide exactamente lo mismo que una unidad del eje vertical. De este modo las posiciones o los vectores representados no estarán deformados, un efecto que crea distorsiones en nuestra interpretación de esas cantidades (más adelante veremos que solo usando esta rutina, las trayectorias circulares apareceran efectivamente como círculos.)\n",
    "\n",
    "> El código de esta rutina es muy elaborado como para reproducirlo en el libro.  El lector curiosos puede encontrar todos los algoritmos del paquete `pymcel` en el material distribuido con la [versión electrónica del libro](http://github.com/seap-udea/MecanicaCeleste-Zuluaga)."
   ]
  },
  {
   "cell_type": "markdown",
   "metadata": {
    "tags": [
     "hide_html"
    ]
   },
   "source": [
    "Podemos reunir todos los comandos usados en los algoritmos anteriores en una solo rutina:"
   ]
  },
  {
   "cell_type": "code",
   "execution_count": 174,
   "metadata": {
    "codelabel": "",
    "codeplot": 0,
    "tags": [
     "hide_html"
    ]
   },
   "outputs": [],
   "source": [
    "def centro_masa_sistema(N=3,semilla=1):\n",
    "    N=int(N)\n",
    "    from numpy.random import seed\n",
    "    seed(int(semilla))\n",
    "    from numpy.random import uniform\n",
    "    ms=uniform(0,100,size=N)\n",
    "    M=ms.sum()\n",
    "    rs=uniform(0,2,size=(N,3))\n",
    "    rs[:,2]=0\n",
    "    vs=uniform(-0.2,0.2,size=(N,3))\n",
    "    vs[:,2]=0\n",
    "    R_CM=sum(ms[:,None]*rs)/M\n",
    "    V_CM=sum(ms[:,None]*vs)/M\n",
    "    import matplotlib.pyplot as plt\n",
    "    fig=plt.figure();\n",
    "    for i in range(N):\n",
    "        plt.text(rs[i,0],rs[i,1],i,color=\"cyan\",\n",
    "                 ha='center',va='center')\n",
    "    plt.scatter(rs[:,0],rs[:,1],s=5*ms,c='red',marker='o')\n",
    "    plt.quiver(rs[:,0],rs[:,1],vs[:,0],vs[:,1],scale=1)\n",
    "    plt.scatter(R_CM[0],R_CM[1],s=M,c='blue',marker='+')\n",
    "    plt.quiver(R_CM[0],R_CM[1],V_CM[0],V_CM[1],color='blue',scale=1)\n",
    "    plt.xlabel(\"$x$ (m)\");\n",
    "    plt.ylabel(\"$y$ (m)\");\n",
    "    from pymcel.plot import fija_ejes_proporcionales\n",
    "    fija_ejes_proporcionales(fig.gca(),(rs,R_CM),margin=0.4);\n",
    "    plt.tight_layout();\n",
    "    plt.show();"
   ]
  },
  {
   "cell_type": "markdown",
   "metadata": {
    "tags": [
     "hide_html"
    ]
   },
   "source": [
    "Para crear la figura interactiva mostrada a continuación y que permite ilustrar graficamente las propiedades del centro de masa:"
   ]
  },
  {
   "cell_type": "code",
   "execution_count": 175,
   "metadata": {
    "codelabel": "fig:05.02.02.00.Mecanica.Dinamica.SistemaParticulas_49",
    "codeplot": 1,
    "figcaption": "<b>Figura 5.49.</b> ",
    "tags": [
     "hide_html"
    ]
   },
   "outputs": [
    {
     "data": {
      "application/vnd.jupyter.widget-view+json": {
       "model_id": "16784095d21449fc97c086bd1c5a7f29",
       "version_major": 2,
       "version_minor": 0
      },
      "text/plain": [
       "interactive(children=(FloatSlider(value=3.0, continuous_update=False, description='N', max=10.0, min=2.0, step…"
      ]
     },
     "metadata": {},
     "output_type": "display_data"
    }
   ],
   "source": [
    "from ipywidgets import interact,fixed,widgets\n",
    "opciones=dict(continuous_update=False)\n",
    "\n",
    "interact(centro_masa_sistema,\n",
    "         N=widgets.FloatSlider(min=2,max=10,step=1,value=3,**opciones),\n",
    "         semilla=widgets.FloatSlider(min=0,max=50,step=1,value=30,**opciones),\n",
    "        );"
   ]
  },
  {
   "cell_type": "markdown",
   "metadata": {},
   "source": [
    "<a id='fig:05.02.02.00.Mecanica.Dinamica.SistemaParticulas_49'></a><center><b>Figura 5.49.</b> </center>"
   ]
  },
  {
   "cell_type": "markdown",
   "metadata": {},
   "source": [
    "### 5.4.2. Centro de masa de un sistema de dos partículas\n",
    "<a id='centro_masa'></a>"
   ]
  },
  {
   "cell_type": "markdown",
   "metadata": {},
   "source": [
    "De particular de interés para la mecánica celeste son las propiedades del centro de masa de un sistema formado por solo dos partículas:\n",
    "\n",
    "$$\n",
    "\\vec R_\\mathrm{CM}=\\frac{m_1 \\vec r_1 + m_2 \\vec r_2}{M}\n",
    "$$"
   ]
  },
  {
   "cell_type": "markdown",
   "metadata": {},
   "source": [
    "Es fácil mostrar que en este caso, el centro de masa siempre se encuentra en la línea que une a las dos partículas (ver problemas al final del capítulo.)"
   ]
  },
  {
   "cell_type": "markdown",
   "metadata": {},
   "source": [
    "Si introducimos el vector relativo $\\vec r\\equiv\\vec r_1-\\vec r_2$, es posible mostrar que la posición de cada partícula se puede escribir en términos de la posición del centro de masa $\\vec R_\\mathrm{CM}$ y el vector $\\vec r$ como:\n",
    "\n",
    "\\begin{eqnarray}\n",
    "\\vec r_1 & = & \\vec{R}_\\mathrm{CM} + \\frac{m_2}{M} \\vec r\\\\\n",
    "\\vec r_2 & = & \\vec{R}_\\mathrm{CM} - \\frac{m_1}{M} \\vec r\n",
    "\\end{eqnarray}"
   ]
  },
  {
   "cell_type": "markdown",
   "metadata": {},
   "source": [
    "<a id='fig:centro_masa'></a>![Relación entre la posición del centro de masa $\\vec R$, el vector relativo $\\vec r=\\vec{r}_1-\\vec{r}_2$ y la posición de las partículas en un sistema de dos cuerpos.++t!++0.8++\\label{fig:centro_masa}](./figures/horizontal_centro_masa.png)\n",
    "\n",
    "<center><b>Figura 5.50</b>. Relación entre la posición del centro de masa $</center>"
   ]
  },
  {
   "cell_type": "markdown",
   "metadata": {},
   "source": [
    "Como vemos la distancia del centro de masa a cada partícula es directamente proporcional a la masa de la otra partícula.  Así, si llamamos $\\vec{r}_i'=\\vec r_i-\\vec R$ al vector que va del centro de masa a la posición de cada partícula, entonces:\n",
    "\n",
    "\\begin{equation}\n",
    "\\label{eq:distancia_centro_masa}\n",
    "\\frac{r_1'}{r_2'}=\\frac{m_2}{m_1}\n",
    "\\end{equation}\n"
   ]
  },
  {
   "cell_type": "markdown",
   "metadata": {
    "label": "",
    "subtitle": "Kepler y el centro de masa",
    "tags": [
     "box_history"
    ],
    "title": "Un poco de historia"
   },
   "source": [
    "> **Un poco de historia: Kepler y el centro de masa.**<a id=''></a> Muchos años antes de que Newton hubiera formalizado las leyes de la mecánica, antes de que apareciera el concepto de masa, fuerza o el postulado de acción y reacción, todos los cuales son requeridos para la deducción formal de la relación expresada en la Ec. ([distancia_centro_masa](#mjx-eqn-eq%3Adistancia_centro_masa)), Kepler había ya intuido este resultado.  En su obra cumbre *Astronomía Nueva* de 1609, presentó, entre los que denomino sus *8 axiomas de una teoría verdadera de la gravedad*, la siguiente afirmación:\n",
    "\n",
    "![Primera página de la obra cumbre de Kepler *Astronomía Nova*.++w++0.5++\\label{fig:astronomia_nova}](./figures/vertical_astronomia_nova.png)$$\\mathrm{\\mathbf{Figura\\;5.51}.}$$\n",
    "\n",
    "> > \"*Si la Tierra y la Luna no fueran mantenidas en sus respectivas órbitas por una fuerza espiritual o de alguna otra naturaleza equivalente, la Tierra ascendería hacia la Luna 1/54 de la distancia y la Luna descendería las restantes 53 partes del intervalo y así se unirían.  Pero este cálculo presupone que ambos poseen la misma densidad*.\"[$^1$](06.03.00.00.ProblemaNCuerpos.TeoremaVirial.ipynb#notaspie_1) \n",
    "\n",
    "> Este hecho pone en evidencia dos cosas: (1) la clarividencia del matemático alemán, quién entre otras cosas además de la citada, intuyó algunas importantes propiedades de la gravedad y de sus efectos sobre el movimiento planetario 80 años antes que Newton y sus contemporáneos; y (2) que las ideas de la mecánica que hoy atribuímos exclusivamente a Newton estaban \"flotando\" en el ambiente intelectual de su época desde hacía casi 100 años. Newton, como lo sería también Maxwell un siglo y medio después en el caso de la electricidad y el magnetismo, fue en cierto sentido un compilador de la sabiduría \"mecánica\" de su época."
   ]
  },
  {
   "cell_type": "markdown",
   "metadata": {},
   "source": [
    "### 5.4.3. Teoremas de conservación\n",
    "<a id='teoremas_conservacion'></a>"
   ]
  },
  {
   "cell_type": "markdown",
   "metadata": {},
   "source": [
    "Usando la e.d.m. para un sistema de partículas (Ec. \\ref{}) y algunas de las deducciones que ya habíamos realizado en el caso de partículas individuales, podemos deducir algunos teoremas mecánicas de gran importancia."
   ]
  },
  {
   "cell_type": "markdown",
   "metadata": {
    "label": "box:teo:conservacion.p.sistemas",
    "subtitle": "Teorema de conservación del momentum lineal",
    "tags": [
     "box_theorem",
     "box:teo:conservacion.p.sistemas"
    ],
    "title": "Proposición"
   },
   "source": [
    "> **Proposición: Teorema de conservación del momentum lineal.**<a id='box:teo:conservacion.p.sistemas'></a> Si la fuerza externa total sobre un sistema de partículas es nula, el momentum total del sistema se mantiene constante.  En términos matemáticos:\n",
    "\n",
    "  $$\n",
    "  \\vec{F}^\\mathrm{E}=\\sum_i \\vec{F}_i^\\mathrm{E}=0\\Longleftrightarrow \\vec{P}=\\vec{P}_\\mathrm{CM}\n",
    "  $$\n",
    "  \n",
    "> Donde $\\vec{P}_\\mathrm{CM}$ es un vector constante."
   ]
  },
  {
   "cell_type": "markdown",
   "metadata": {},
   "source": [
    "Este teorema ocupa un lugar central en la mecánica y sus implicaciones no son para nada triviales. Piense tan solo en el hecho de que aún si un sistema contiene un enorme número de partículas, que rebotan entre sí o se dispersan unas contra otras, procesos en los cuáles el momento de las partículas se modifica de formas a veces inesperadas, la suma de todos los momentos individuales producirá siempre el mismo número."
   ]
  },
  {
   "cell_type": "markdown",
   "metadata": {},
   "source": [
    "Premultiplicamos ahora la e.d.m. en la Ec. ([edm_sistema](#mjx-eqn-eq%3Aedm_sistema)) por el factor integrante $\\vec{r}_i\\times$ y sumando sobre todas las partículas:\n",
    "\n",
    "$$\n",
    "\\sum_i m_i r_i\\times\\ddot{r}_i=\\sum_i\\vec{r}_i\\times\\left(\\vec{F}^E_i + \\sum_{j\\neq i}\\vec{F}_{ij}\\right)\n",
    "$$"
   ]
  },
  {
   "cell_type": "markdown",
   "metadata": {},
   "source": [
    "El lado izquierdo izquierdo de esta última ecuación se puede expresar en términos de cuadraturas (ver [la Sección *Integración de la e.d.m.*](05.01.02.00.Mecanica.Cinematica.SolucionEdM.ipynb#integracion_edm)), de modo que la ecuación adopta la forma más conveniente de:\n",
    "\n",
    "$$\n",
    "\\frac{\\mathrm{d}}{\\mathrm{d}t}\\left(\\sum_i m_i r_i\\times\\dot{r}_i\\right)=\\vec{r}_i\\times\\sum\\left(\\vec{F}^E_i + \\vec{F}_{ij}\\right),\n",
    "$$\n",
    "donde reconocemos, del lado izquierdo al momento angular total $\\vec L=\\sum m_i\\vec{r}_i\\times\\dot{\\vec{r}}_i$ y del derecho la torca neta:\n",
    "\n",
    "\\begin{equation}\n",
    "\\label{eq:torca_sistema}\n",
    "\\vec \\tau=\\vec{r}_i\\times\\sum\\left(\\vec{F}^E_i + \\vec{F}_{ij}\\right).\n",
    "\\end{equation}"
   ]
  },
  {
   "cell_type": "markdown",
   "metadata": {},
   "source": [
    "En términos de estas cantidades, la e.d.m. de un sistema de particulas se puede escribir, alternativamente, como:\n",
    "\n",
    "\\begin{equation}\n",
    "\\label{eq:dLdt_sistema_torca}\n",
    "\\dot{\\vec{L}}=\\tau\n",
    "\\end{equation}"
   ]
  },
  {
   "cell_type": "markdown",
   "metadata": {},
   "source": [
    "Volvamos a la torca. Por el postulado de acción y reacción (Pos. [edm_sistema](05.02.01.00.Mecanica.Dinamica.Postulados.ipynb#box:pos:accion.reaccion)) las torcas de las fuerzas entre las partículas se pueden agrupar por pares de la forma:\n",
    "\n",
    "$$\n",
    "\\vec r_k\\times \\vec F_{lk}+\\vec r_l \\times \\vec F_{kl}=-\\vec{r}_{lk}\\times \\vec F_{lk},\n",
    "$$\n",
    "donde $\\vec{r}_{lk}=\\vec{r}_l-\\vec{r}_k$ es el vector relativo, y hemos usado índices $l,k$ distintos a los originales $i,j$ de la e.d.m. para evitar confusiones."
   ]
  },
  {
   "cell_type": "markdown",
   "metadata": {},
   "source": [
    "Si adicionalmente, las interacciones son tales que el postulado de acción y reacción fuerte se cumple, es decir si $\\vec{r}_{lk}\\parallel \\vec{F}_{lk}$, entonces todas las torcas internas se cancelan mutuamente y como consecuencia:\n",
    "\n",
    "\\begin{equation}\n",
    "\\label{eq:torque_sistema}\n",
    "\\vec{\\tau} = \\sum \\vec{r}_i\\times \\vec{F}^E_i,\n",
    "\\end{equation}\n",
    "de donde, finamente, la e.d.m. del sistema de partículas (Ec. [dLdt_sistema_torca](#mjx-eqn-eq%3AdLdt_sistema_torca)) tiene la forma explícita:\n",
    "\n",
    "$$\n",
    "\\dot{\\vec{L}}=\\sum \\vec{r}_i\\times \\vec{F}^E_i\n",
    "$$\n",
    "\n",
    "Esta última ecuación conduce a un segundo importante teorema de conservación:"
   ]
  },
  {
   "cell_type": "markdown",
   "metadata": {
    "label": "box:teo:conservacion.L.sistemas",
    "subtitle": "Teorema de conservación del momentum angular",
    "tags": [
     "box_theorem",
     "box:teo:conservacion.L.sistemas"
    ],
    "title": "Proposición"
   },
   "source": [
    "> **Proposición: Teorema de conservación del momentum angular.**<a id='box:teo:conservacion.L.sistemas'></a> Si la torca externa total sobre un sistema de partículas es nula, el momento angular total del sistema se mantiene constante.  En términos matemáticos:\n",
    "\n",
    "  $$\n",
    "  \\vec{\\tau} = \\sum \\vec{r}_i\\times \\vec{F}^E_i=\\vec 0\\Longleftrightarrow \\vec{L}=\\vec{L}_\\mathrm{0}\n",
    "  $$\n",
    "  \n",
    "> Donde $\\vec{L}_\\mathrm{0}$ es un vector constante."
   ]
  },
  {
   "cell_type": "markdown",
   "metadata": {},
   "source": [
    "Es claro que la condición básica del teorema de conservación del momento angular (torque neto nulo) se cumple también en el caso en el que las fuerzas externas son nulas.  Es decir, en un sistema aislado de partículas, tanto el momento lineal como el momento angular se conservan."
   ]
  },
  {
   "cell_type": "markdown",
   "metadata": {},
   "source": [
    "De nuevo, por trivial que nos parezca el teorema de conservación del momento angular, esta lejos de serlo.  La cantidad implicada aquí es mucho más compleja que el momento lineal y resulta sencillamente increíble que bajo una condición tan particular como la que supone el teorema, una combinación no trivial de cantidades cinemáticas produzcan un vector constante."
   ]
  },
  {
   "cell_type": "markdown",
   "metadata": {},
   "source": [
    "Pongamos a prueba el teorema usando el sistema de partículas que habíamos introducido en la [Sección *Fuerzas y centro de masa*](#fuerzas_centro_masa).  Para ello calculemos el momento angular total del sistema:"
   ]
  },
  {
   "cell_type": "markdown",
   "metadata": {},
   "source": [
    "<a id='code:L_sistema_ejemplo'></a>"
   ]
  },
  {
   "cell_type": "code",
   "execution_count": 230,
   "metadata": {
    "codelabel": "code:L_sistema_ejemplo",
    "codeplot": 0,
    "tags": [
     "code:L_sistema_ejemplo"
    ]
   },
   "outputs": [],
   "source": [
    "#Momento angular de cada partícula\n",
    "from numpy import cross\n",
    "Ls=ms[:,None]*cross(rs,vs)\n",
    "\n",
    "#Momento angular total\n",
    "L=sum(Ls)"
   ]
  },
  {
   "cell_type": "code",
   "execution_count": 231,
   "metadata": {
    "codelabel": "",
    "codeplot": 0,
    "tags": [
     "hide_input"
    ]
   },
   "outputs": [
    {
     "name": "stdout",
     "output_type": "stream",
     "text": [
      "Momentos angulares individuales:\n",
      "[[ 0.    0.    1.35]\n",
      " [ 0.   -0.   -6.25]\n",
      " [ 0.   -0.   -3.72]]\n",
      "Momento angular total:\n",
      "[ 0.    0.   -8.62]\n"
     ]
    }
   ],
   "source": [
    "print(f\"Momentos angulares individuales:\\n{Ls}\")\n",
    "print(f\"Momento angular total:\\n{L}\")"
   ]
  },
  {
   "cell_type": "markdown",
   "metadata": {},
   "source": [
    "Propaguemos ahora sus posiciones y velocidades asumiendo que las partículas se mueven con velocidad constante, es decir, sin experimentan ninguna fuerza de interacción mutua, y más importante, ninguna fuerza externa.  En esta condición dinámica las velocidades no se modifican:"
   ]
  },
  {
   "cell_type": "code",
   "execution_count": 178,
   "metadata": {
    "codelabel": "",
    "codeplot": 0
   },
   "outputs": [],
   "source": [
    "#Tiempo futuro\n",
    "t=10.0\n",
    "\n",
    "#Posición y velocidad de las partículas en t\n",
    "rs_t=rs+10*vs\n",
    "vs_t=vs"
   ]
  },
  {
   "cell_type": "code",
   "execution_count": 179,
   "metadata": {
    "codelabel": "",
    "codeplot": 0,
    "tags": [
     "hide_input"
    ]
   },
   "outputs": [
    {
     "name": "stdout",
     "output_type": "stream",
     "text": [
      "Posiciones iniciales: rs =\n",
      "[[0.33 1.93 0.  ]\n",
      " [1.98 0.47 0.  ]\n",
      " [0.81 0.27 0.  ]]\n",
      "Posiciones finales: rs =\n",
      "[[ 0.4   2.99  0.  ]\n",
      " [ 0.34 -0.75  0.  ]\n",
      " [-0.25 -0.77  0.  ]]\n"
     ]
    }
   ],
   "source": [
    "print(f\"Posiciones iniciales: rs =\\n{rs}\")\n",
    "print(f\"Posiciones finales: vs =\\n{rs_t}\")"
   ]
  },
  {
   "cell_type": "markdown",
   "metadata": {},
   "source": [
    "Véamos ahora cuánto valen los momentos angulares individuales y total, después de que las partículas se propagaran:"
   ]
  },
  {
   "cell_type": "code",
   "execution_count": 180,
   "metadata": {
    "codelabel": "",
    "codeplot": 0
   },
   "outputs": [],
   "source": [
    "#Momento angular de cada partícula\n",
    "from numpy import cross\n",
    "Ls_t=ms[:,None]*cross(rs_t,vs_t)\n",
    "\n",
    "#Momento angular total\n",
    "L_t=Ls_t.sum(axis=0)"
   ]
  },
  {
   "cell_type": "code",
   "execution_count": 232,
   "metadata": {
    "codelabel": "",
    "codeplot": 0,
    "tags": [
     "hide_input"
    ]
   },
   "outputs": [
    {
     "name": "stdout",
     "output_type": "stream",
     "text": [
      "Momentos angulares después:\n",
      "[[ 0.    0.    1.35]\n",
      " [ 0.   -0.   -6.25]\n",
      " [ 0.    0.   -3.72]]\n",
      "Momento angular total después:\n",
      "[ 0.    0.   -8.62]\n"
     ]
    }
   ],
   "source": [
    "print(f\"Momentos angulares después:\\n{Ls_t}\")\n",
    "print(f\"Momento angular total después:\\n{L_t}\")"
   ]
  },
  {
   "cell_type": "markdown",
   "metadata": {},
   "source": [
    "El momento angular total después de la propagación resulta igual al momento angular antes de ella (Alg. [L_sistema_ejemplo](#code:L_sistema_ejemplo)) con lo que comprobamos que en la ausencia de fuerzas externas, incluso frente a modificaciones no triviales de las posiciones, el momento angular se mantiene constante."
   ]
  },
  {
   "cell_type": "markdown",
   "metadata": {},
   "source": [
    "### 5.4.4. Dinámica referida al centro de masa\n",
    "<a id='dinamica_centro_masa'></a>"
   ]
  },
  {
   "cell_type": "markdown",
   "metadata": {},
   "source": [
    "Una forma especial de las e.d.m. de un sistema de partículas, se obtiene cuando lo describimos desde un sistemade referencia \"atado\" del centro de masa (origen en el centro de masa y velocidad igual a él.)\n",
    "\n",
    "Usando las transformaciones de Galileo (Pos. [L_sistema_ejemplo](05.01.01.00.Mecanica.Cinematica.Cantidades.ipynb#box:pos:transformaciones.galileo)) la posición y velocidad de cada partícula referida al centro de masa será (Ecs. [ley_adicion_velocidades](#mjx-eqn-eq%3Aley_adicion_velocidades) y [transformaciones_galileo](#mjx-eqn-eq%3Atransformaciones_galileo)):\n",
    "\n",
    "\\begin{equation}\n",
    "\\label{eq:estado_CM}\n",
    "\\begin{array}{rcl}\n",
    "\\vec r_i(t) & = & \\vec R_\\mathrm{CM}(t)+\\vec{r}_i'(t)\\\\\n",
    "\\vec v_i(t) & = & \\vec V_\\mathrm{CM}(t)+\\vec{v}_i'(t) \\\\\n",
    "\\end{array}\n",
    "\\end{equation}\n",
    "\n",
    "Aquí, las cantidades primadas están referidas al nuevo sistema de referencia. En general $\\vec{R}_\\mathrm{CM}(t)=\\int \\vec{V}_\\mathrm{CM}(t)\\;\\mathrm{d}t$ será la posición del centro de masa en $t$."
   ]
  },
  {
   "cell_type": "markdown",
   "metadata": {},
   "source": [
    "#### Momento angular total del sistema"
   ]
  },
  {
   "cell_type": "markdown",
   "metadata": {},
   "source": [
    "En el sistema de referencia del centro de masa el momentum angular es:\n",
    "\n",
    "$$\n",
    "\\begin{array}{rcl}\n",
    "\\vec L & = & \\sum_i \\vec r_i \\times \\vec p_i \\\\\n",
    "       & = & \\sum_i m_i(\\vec R_\\mathrm{CM}+\\vec{r}_i')\\times (\\vec V_\\mathrm{CM}+\\vec{v}_i')\\\\\n",
    "       & = & (\\sum_i m_i)\\vec R_\\mathrm{CM}\\times\\vec V_\\mathrm{CM}+\\vec R_\\mathrm{CM}\\times(\\sum_i m_i\\vec{v}_i')+\n",
    "             (\\sum_i m_i\\vec{r}_i')\\times\\vec{V_\\mathrm{CM}}+\n",
    "             \\sum_i (m_i\\vec{r}_i'\\times\\vec{v}_i')\n",
    "\\end{array}\n",
    "$$\n",
    "\n",
    "En esta expresión $\\sum m_i\\vec{r}_i'$ y $\\sum m_i\\vec{v}_i'$ son, respectivamente, vectores proporcionales a la posición y velocidad del centro de masa (ver Ec. [centro_masa](#mjx-eqn-eq%3Acentro_masa)), pero medidos en el sistema de referencia del mismo centro de masa; por definción, ambas cantidades son entonces nulas (para una sencilla comprobación numérica, ver algoritmos abajo.)  "
   ]
  },
  {
   "cell_type": "markdown",
   "metadata": {},
   "source": [
    "Finalmente, el momento angular total del sistema se puede escribir como:\n",
    "\n",
    "\\begin{equation}\n",
    "\\label{eq:L_CM_interno}\n",
    "\\vec L = \\vec R_\\mathrm{CM}\\times \\vec P_\\mathrm{CM} + \\sum_i \\vec r'_i\\times \\vec p'_i\n",
    "\\end{equation}\n",
    "es decir, **el momento angular total de un sistema de partículas** es es igual a la suma del **momento angular del centro de masa** y el **momentum angular total de las partículas en el sistema de referencia del centro de masa**."
   ]
  },
  {
   "cell_type": "markdown",
   "metadata": {},
   "source": [
    "Nuevamente podemos comprobar este resultado usando el sistema de ejemplo que introdujimos en [la Sección *Fuerzas y centro de masa*](#fuerzas_centro_masa).  \n",
    "\n",
    "Calculemos primero el momento angular del centro de masa del sistema:"
   ]
  },
  {
   "cell_type": "code",
   "execution_count": 211,
   "metadata": {
    "codelabel": "",
    "codeplot": 0
   },
   "outputs": [],
   "source": [
    "#Momento angular del centro de masaa\n",
    "from numpy import cross\n",
    "L_CM=M*cross(R_CM,V_CM)"
   ]
  },
  {
   "cell_type": "code",
   "execution_count": 212,
   "metadata": {
    "codelabel": "",
    "codeplot": 0,
    "tags": [
     "hide_input"
    ]
   },
   "outputs": [
    {
     "name": "stdout",
     "output_type": "stream",
     "text": [
      "Momento angular del centro de masa:\n",
      "[ 0.   -0.    7.96]\n"
     ]
    }
   ],
   "source": [
    "print(f\"Momento angular del centro de masa:\\n{L_CM}\")"
   ]
  },
  {
   "cell_type": "markdown",
   "metadata": {},
   "source": [
    "Para calcular el momento angular de las partículas en el sistema de referencia del centro de masa, debemos primero calcular la posición y velocidad de ellas en ese sistema usando las Ecs. ([estado_CM](#mjx-eqn-eq%3Aestado_CM)):"
   ]
  },
  {
   "cell_type": "code",
   "execution_count": 213,
   "metadata": {
    "codelabel": "",
    "codeplot": 0
   },
   "outputs": [],
   "source": [
    "#Posición y velocidad referida al centro de masa\n",
    "from numpy import subtract\n",
    "rps=subtract(rs,R_CM)\n",
    "vps=subtract(vs,V_CM)"
   ]
  },
  {
   "cell_type": "code",
   "execution_count": 214,
   "metadata": {
    "codelabel": "",
    "codeplot": 0,
    "tags": [
     "hide_input"
    ]
   },
   "outputs": [
    {
     "name": "stdout",
     "output_type": "stream",
     "text": [
      "Posiciones respecto al CM:\n",
      "[[-0.56  0.98]\n",
      " [ 1.09 -0.48]\n",
      " [-0.08 -0.68]]\n",
      "Velocidades respecto al CM:\n",
      "[[ 0.08  0.13]\n",
      " [-0.09 -0.09]\n",
      " [-0.03 -0.08]]\n"
     ]
    }
   ],
   "source": [
    "print(f\"Posiciones respecto al CM:\\n{rps[:,:2]}\")\n",
    "print(f\"Velocidades respecto al CM:\\n{vps[:,:2]}\")"
   ]
  },
  {
   "cell_type": "markdown",
   "metadata": {},
   "source": [
    "Con este resultado podemos verificar la afirmación que habíamos hecho en la deducción de la Ec. ([L_CM_interno](#mjx-eqn-eq%3AL_CM_interno)), en la que habíamos dicho que $\\sum m_i\\vec{r}_i'$ y $\\sum m_i\\vec{v}_i'$ son vectores nulos:"
   ]
  },
  {
   "cell_type": "code",
   "execution_count": 215,
   "metadata": {
    "codelabel": "",
    "codeplot": 0
   },
   "outputs": [],
   "source": [
    "R_CM_CM=sum(ms[:,None]*rps)/M\n",
    "V_CM_CM=sum(ms[:,None]*vps)/M"
   ]
  },
  {
   "cell_type": "code",
   "execution_count": 216,
   "metadata": {
    "codelabel": "",
    "codeplot": 0,
    "tags": [
     "hide_input"
    ]
   },
   "outputs": [
    {
     "name": "stdout",
     "output_type": "stream",
     "text": [
      "Posiciones del CM respecto al CM:\n",
      "[1.53e-16 0.00e+00]\n",
      "Posiciones del CM respecto al CM:\n",
      "[-3.95e-18  5.26e-18]\n"
     ]
    }
   ],
   "source": [
    "print(f\"Posiciones del CM respecto al CM:\\n{R_CM_CM[:2]}\")\n",
    "print(f\"Posiciones del CM respecto al CM:\\n{V_CM_CM[:2]}\")"
   ]
  },
  {
   "cell_type": "markdown",
   "metadata": {},
   "source": [
    "Hecha esta verificación, podemos ahora calcular el momento angular total de las partículas en el sistema de referencia del centro de masa:"
   ]
  },
  {
   "cell_type": "code",
   "execution_count": 217,
   "metadata": {
    "codelabel": "",
    "codeplot": 0
   },
   "outputs": [],
   "source": [
    "#Momento angular de cada partícula\n",
    "from numpy import cross\n",
    "Lps=ms[:,None]*cross(rps,vps)\n",
    "\n",
    "#Momento angular total\n",
    "Lp=sum(Lps)"
   ]
  },
  {
   "cell_type": "code",
   "execution_count": 218,
   "metadata": {
    "codelabel": "",
    "codeplot": 0,
    "tags": [
     "hide_input"
    ]
   },
   "outputs": [
    {
     "name": "stdout",
     "output_type": "stream",
     "text": [
      "Momento angular total referido al centro de masa:\n",
      "[  0.     0.   -16.58]\n"
     ]
    }
   ],
   "source": [
    "print(f\"Momento angular total referido al centro de masa:\\n{Lp}\")"
   ]
  },
  {
   "cell_type": "markdown",
   "metadata": {},
   "source": [
    "Ciertamente este vector no coincide con el momentum angular total referido al origen que habíamos calculado en el Alg. ([L_sistema_ejemplo](#code:L_sistema_ejemplo)); pero esto es natural puesto que no hemos sumado el momento angular del centro de masa que calculamos antes:"
   ]
  },
  {
   "cell_type": "code",
   "execution_count": 192,
   "metadata": {
    "codelabel": "",
    "codeplot": 0
   },
   "outputs": [],
   "source": [
    "#Momento angular total\n",
    "L=L_CM+Lp"
   ]
  },
  {
   "cell_type": "code",
   "execution_count": 193,
   "metadata": {
    "codelabel": "",
    "codeplot": 0,
    "tags": [
     "hide_input"
    ]
   },
   "outputs": [
    {
     "name": "stdout",
     "output_type": "stream",
     "text": [
      "Momento angular total:\n",
      "[ 0.    0.   -8.62]\n"
     ]
    }
   ],
   "source": [
    "print(f\"Momento angular total:\\n{L}\")"
   ]
  },
  {
   "cell_type": "markdown",
   "metadata": {},
   "source": [
    "Que coincide con el obtenida con el Alg. ([L_sistema_ejemplo](#code:L_sistema_ejemplo)).  Con esto hemos comprobado la relación expresada en la Ec. ([L_CM_interno](#mjx-eqn-eq%3AL_CM_interno))."
   ]
  },
  {
   "cell_type": "markdown",
   "metadata": {},
   "source": [
    "#### Energía cinética total del sistema"
   ]
  },
  {
   "cell_type": "markdown",
   "metadata": {},
   "source": [
    "Una relación similar a la encontrada en la Ec. ([L_CM_interno](#mjx-eqn-eq%3AL_CM_interno)) para el momento angular, puede deducirse también para el caso de la energía cinética total $K$.  \n",
    "\n",
    "Usando el teorema del trabajo y energía (Teo. [L_CM_interno](05.02.01.00.Mecanica.Dinamica.Postulados.ipynb#box:teo:trabajo.energia)) puede probarse que en el caso de un sistema de partículas $K$ es:\n",
    "\n",
    "$$\n",
    "K=\\frac{1}{2}\\sum m_i v_i^2\n",
    "$$"
   ]
  },
  {
   "cell_type": "markdown",
   "metadata": {},
   "source": [
    "Reemplazando en esta expresión la velocidad de cada partícula en el sistema original por su velocidad en el sistema de referencia del centro de masa, $\\vec{v}_i=\\vec{v}_i'+\\vec{V}$  (Ec. [estado_CM](#mjx-eqn-eq%3Aestado_CM)) se obtiene:\n",
    "\n",
    "$$\n",
    "K=\n",
    "\\frac{1}{2}\\sum m_i \\vec V^2+\n",
    "\\vec V\\cdot\\frac{\\mathrm{d}}{\\mathrm{d}t}\\left(\\sum m_i \\vec{r}_i'\\right)+\n",
    "\\frac{1}{2}\\sum m_i\\vec{v}_i'^2\n",
    "$$\n",
    "de donde por los mismos argumentos en la deducción de la Ec. ([L_CM_interno](#mjx-eqn-eq%3AL_CM_interno)) obtenemos finalmente:\n",
    "\n",
    "\\begin{equation}\n",
    "\\label{eq:K_CM_interno}\n",
    "K = \\frac{1}{2} M V^2 + \\frac{1}{2} \\sum m_i {v_i}'^2,\n",
    "\\end{equation}\n",
    "es decir la **energía cinética total del sistema** es igual a **la energía cinética del centro de masa** más **la energía cinética total referida al centro de masa** (energía interna.)"
   ]
  },
  {
   "cell_type": "markdown",
   "metadata": {},
   "source": [
    "De nuevo podemos verificar este resultado usando el sistema de ejemplo.  \n",
    "\n",
    "Para ello, primero calculemos la energía cinética total usando las velocidades referidas al sistema de referencia original:"
   ]
  },
  {
   "cell_type": "markdown",
   "metadata": {},
   "source": [
    "<a id='code:K_sistema_ejemplo'></a>"
   ]
  },
  {
   "cell_type": "code",
   "execution_count": 204,
   "metadata": {
    "codelabel": "code:K_sistema_ejemplo",
    "codeplot": 0,
    "tags": [
     "code:K_sistema_ejemplo"
    ]
   },
   "outputs": [],
   "source": [
    "#Magnitud de las velocidades de las partículas\n",
    "from numpy.linalg import norm\n",
    "vmags=norm(vs,axis=1)\n",
    "\n",
    "#Energía cinética individual de cada partícula\n",
    "Ks=0.5*ms*vmags**2\n",
    "\n",
    "#Energía cinética total\n",
    "K=sum(Ks)"
   ]
  },
  {
   "cell_type": "code",
   "execution_count": 209,
   "metadata": {
    "codelabel": "",
    "codeplot": 0,
    "tags": [
     "hide_input"
    ]
   },
   "outputs": [
    {
     "name": "stdout",
     "output_type": "stream",
     "text": [
      "Energía cinética de las partículas:\n",
      "[0.37 0.79 0.73]\n",
      "Energía cinética total: 1.90\n"
     ]
    }
   ],
   "source": [
    "print(f\"Energía cinética de las partículas:\\n{Ks}\")\n",
    "print(f\"Energía cinética total: {K:.2f}\")"
   ]
  },
  {
   "cell_type": "markdown",
   "metadata": {},
   "source": [
    "Ahora podemos hacerlo usando la nueva expresión:"
   ]
  },
  {
   "cell_type": "code",
   "execution_count": 206,
   "metadata": {
    "codelabel": "",
    "codeplot": 0
   },
   "outputs": [],
   "source": [
    "#Energía cinética del centro de masa:\n",
    "K_CM=0.5*M*norm(V_CM)**2\n",
    "\n",
    "#Magnitud de las velocidades\n",
    "vpmags=norm(vps,axis=1)\n",
    "\n",
    "#Energía cinética individual de cada partícula\n",
    "Kps=0.5*ms*vpmags**2\n",
    "\n",
    "#Energía cinética en el centro de masa\n",
    "Kp=Kps.sum()\n",
    "\n",
    "#Energía total\n",
    "K=K_CM+Kp"
   ]
  },
  {
   "cell_type": "code",
   "execution_count": 210,
   "metadata": {
    "codelabel": "",
    "codeplot": 0,
    "tags": [
     "hide_input"
    ]
   },
   "outputs": [
    {
     "name": "stdout",
     "output_type": "stream",
     "text": [
      "Energía cinética del CM: 0.5505136059795793\n",
      "Energía cinética de las partículas (respecto al CM): [0.8  0.32 0.22]\n",
      "Energía cinética total (respecto al CM): 1.35\n",
      "Energía cinética total: 1.90\n"
     ]
    }
   ],
   "source": [
    "print(f\"Energía cinética del CM: {K_CM}\")\n",
    "print(f\"Energía cinética de las partículas (respecto al CM): {Kps}\")\n",
    "print(f\"Energía cinética total (respecto al CM): {Kp:.2f}\")\n",
    "print(f\"Energía cinética total: {K:.2f}\")"
   ]
  },
  {
   "cell_type": "markdown",
   "metadata": {},
   "source": [
    "De nuevo, la energía cinética calculada con la Ec. ([K_CM_interno](#mjx-eqn-eq%3AK_CM_interno)) coincide con la obtenida en el Alg. ([K_sistema_ejemplo](#code:K_sistema_ejemplo))."
   ]
  },
  {
   "cell_type": "markdown",
   "metadata": {
    "tags": [
     "footnote"
    ]
   },
   "source": [
    "**NOTAS AL PIE:**\n",
    "\n",
    "<a id='notaspie_1'></a>\n",
    "1. En realidad el centro de masa del sistema Tierra-Luna esta a 1/81 de la distancia entre ambos (la masa de la Tierra es 81 veces la de la Luna.)  Sin embargo, la estimación de Kepler, como bien lo aclara al final de esta cita sin que terminemos de entenderle, se basaba en la suposición de que la masa de nuestro satélite se puede estimar exclusivamente a partir de su tamaño.  Usando el valor contemporáneo del radio de la Luna y de la Tierra, la masa estimada de nuestro satélite, a partir de su tamaño y suponiendo densidades iguales, sería $(R_\\mathrm{Luna}/R_\\mathrm{Tierra})^3=(1737/6371)^3=1/49$ de la masa de la Tierra, que es cercano al valor de 1/54 usado por Kepler.\n",
    "\n"
   ]
  },
  {
   "cell_type": "markdown",
   "metadata": {
    "tags": [
     "navigation"
    ]
   },
   "source": [
    "[Indice](index.ipynb) | Previo: [Mecanica.Dinamica.Postulados](05.02.01.00.Mecanica.Dinamica.Postulados.ipynb) | Siguiente: [Mecanica.SistemasNoInerciales](05.03.00.00.Mecanica.SistemasNoInerciales.ipynb)"
   ]
  }
 ],
 "metadata": {
  "celltoolbar": "Tags",
  "kernelspec": {
   "display_name": "Python 3",
   "language": "python",
   "name": "python3"
  },
  "language_info": {
   "codemirror_mode": {
    "name": "ipython",
    "version": 3
   },
   "file_extension": ".py",
   "mimetype": "text/x-python",
   "name": "python",
   "nbconvert_exporter": "python",
   "pygments_lexer": "ipython3",
   "version": "3.6.8"
  }
 },
 "nbformat": 4,
 "nbformat_minor": 2
}
