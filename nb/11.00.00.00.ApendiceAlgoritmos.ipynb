{
 "cells": [
  {
   "cell_type": "markdown",
   "metadata": {
    "tags": [
     "navigation"
    ]
   },
   "source": [
    "[Indice](index.ipynb) | Previo: [FormalismoHamiltoniano.ProblemasSeleccionados](10.04.00.00.FormalismoHamiltoniano.ProblemasSeleccionados.ipynb) | "
   ]
  },
  {
   "cell_type": "markdown",
   "metadata": {},
   "source": [
    "# 11. Algoritmos y rutinas útiles\n",
    "<a id='algoritmos_utiles'></a>"
   ]
  },
  {
   "cell_type": "markdown",
   "metadata": {},
   "source": [
    "En este apéndice compilamos todas aquellos algoritmos y rutinas útiles usados en el libro y que pueden aprovecharse en la solución de una amplia gama de problemas en mecánica celeste."
   ]
  },
  {
   "cell_type": "markdown",
   "metadata": {},
   "source": [
    "## Rutina útiles"
   ]
  },
  {
   "cell_type": "markdown",
   "metadata": {},
   "source": [
    "Del vector de estado a los elementos orbitales clásicos."
   ]
  },
  {
   "cell_type": "markdown",
   "metadata": {},
   "source": [
    "<a id='code:estado_a_elementos'></a>"
   ]
  },
  {
   "cell_type": "code",
   "execution_count": 151,
   "metadata": {
    "codelabel": "",
    "codeplot": 0,
    "tags": [
     "export",
     "code:estado_a_elementos"
    ]
   },
   "outputs": [],
   "source": [
    "def estado_a_elementos(mu,x):\n",
    "    #Posición y velocidad del sistema relativo\n",
    "    rvec=x[:3]\n",
    "    vvec=x[3:]\n",
    "    \n",
    "    from numpy import cross\n",
    "    from numpy.linalg import norm\n",
    "\n",
    "    #Momento angular relativo específico\n",
    "    hvec=cross(rvec,vvec)\n",
    "    h=norm(hvec)\n",
    "    #Vector excentricidad\n",
    "    r=norm(rvec)\n",
    "    evec=cross(vvec,hvec)/mu-rvec/r\n",
    "    #Vector nodo ascendente\n",
    "    nvec=cross([0,0,1],hvec)\n",
    "    n=norm(nvec)\n",
    "    \n",
    "    #Semilatus rectum y excentricidad\n",
    "    p=h**2/mu\n",
    "    e=norm(evec)\n",
    "\n",
    "    #Orientación\n",
    "    from numpy import dot,arccos,pi\n",
    "    i=arccos(hvec[2]/h)\n",
    "\n",
    "    Wp=arccos(nvec[0]/n)\n",
    "    W=Wp if nvec[1]>=0 else 2*pi-Wp\n",
    "\n",
    "    wp=arccos(dot(nvec,evec)/(e*n))\n",
    "    w=wp if evec[2]>=0 else 2*pi-wp\n",
    "\n",
    "    fp=arccos(dot(rvec,evec)/(r*e))\n",
    "    f=fp if dot(rvec,vvec)>0 else 2*pi-fp\n",
    "    \n",
    "    return p,e,i,W,w,f"
   ]
  },
  {
   "cell_type": "markdown",
   "metadata": {},
   "source": [
    "De los elementos orbitales clásicos al vector de estado:"
   ]
  },
  {
   "cell_type": "markdown",
   "metadata": {},
   "source": [
    "<a id='code:elementos_a_estado'></a>"
   ]
  },
  {
   "cell_type": "code",
   "execution_count": 153,
   "metadata": {
    "codelabel": "",
    "codeplot": 0,
    "tags": [
     "export",
     "code:elementos_a_estado"
    ]
   },
   "outputs": [],
   "source": [
    "def elementos_a_estado(mu,elementos):\n",
    "    #Extrae elementos\n",
    "    p,e,i,W,w,f=elementos\n",
    "    \n",
    "    #Calcula momento angular relativo específico\n",
    "    from numpy import sqrt\n",
    "    h=sqrt(mu*p)\n",
    "    \n",
    "    #Calcula r\n",
    "    from numpy import cos\n",
    "    r=p/(1+e*cos(f))\n",
    "    \n",
    "    #Posición\n",
    "    from numpy import cos,sin\n",
    "    x=r*(cos(W)*cos(w+f)-cos(i)*sin(W)*sin(w+f))\n",
    "    y=r*(sin(W)*cos(w+f)+cos(i)*cos(W)*sin(w+f))\n",
    "    z=r*sin(i)*sin(w+f)\n",
    "    \n",
    "    #Velocidad\n",
    "    muh=mu/h\n",
    "\n",
    "    vx=muh*(-cos(W)*sin(w+f)-cos(i)*sin(W)*cos(w+f))\\\n",
    "       -muh*e*(cos(W)*sin(w)+cos(w)*cos(i)*sin(W))\n",
    "    vy=muh*(-sin(W)*sin(w+f)+cos(i)*cos(W)*cos(w+f))\\\n",
    "       +muh*e*(-sin(W)*sin(w)+cos(w)*cos(i)*cos(W))\n",
    "    vz=muh*(sin(i)*cos(w+f)+e*cos(w)*sin(i))\n",
    "\n",
    "    from numpy import array\n",
    "    return array([x,y,z,vx,vy,vz])"
   ]
  },
  {
   "cell_type": "markdown",
   "metadata": {},
   "source": [
    "Método de Newton general:"
   ]
  },
  {
   "cell_type": "markdown",
   "metadata": {},
   "source": [
    "<a id='code:metodo_newton'></a>"
   ]
  },
  {
   "cell_type": "code",
   "execution_count": 262,
   "metadata": {
    "codelabel": "",
    "codeplot": 0,
    "tags": [
     "export",
     "code:metodo_newton"
    ]
   },
   "outputs": [],
   "source": [
    "def metodo_newton(f,x0=1,delta=1e-5,args=()):\n",
    "    #Valor inicial de la anomalía excéntrica\n",
    "    xn=x0\n",
    "    #Valor inicial del error relativo\n",
    "    Dn=1\n",
    "    #Contador de iteraciones\n",
    "    ni=0\n",
    "    while Dn>delta:\n",
    "        #Inicializa el valor de En\n",
    "        x=xn\n",
    "        #Nuevo valor (regla de iteración)\n",
    "        xn=x-f(x,*args)[0]/f(x,*args)[1]\n",
    "        #Valor medio\n",
    "        xmed=(x+xn)/2\n",
    "        #Criterio de convergencia\n",
    "        en=xn-x\n",
    "        Dn=abs(en/xmed)\n",
    "        ni+=1\n",
    "    return xmed,Dn,ni"
   ]
  },
  {
   "cell_type": "markdown",
   "metadata": {},
   "source": [
    "Método de Laguerre-Conway:"
   ]
  },
  {
   "cell_type": "markdown",
   "metadata": {},
   "source": [
    "<a id='code:metodo_laguerre'></a>"
   ]
  },
  {
   "cell_type": "code",
   "execution_count": 3,
   "metadata": {
    "codelabel": "",
    "codeplot": 0,
    "tags": [
     "export",
     "code:metodo_laguerre"
    ]
   },
   "outputs": [],
   "source": [
    "def metodo_laguerre(f,x0=1,delta=1e-5,args=(),eta=5):\n",
    "    #Varifica que el valor inicial sea apropiado\n",
    "    disc=-1\n",
    "    mi=0\n",
    "    #Valor inicial de la anomalía excéntrica\n",
    "    xn=x0\n",
    "    #Valor inicial del error relativo\n",
    "    Dn=1\n",
    "    #Contador de iteraciones\n",
    "    ni=0\n",
    "    while Dn>delta:\n",
    "        #Inicializa el valor de En\n",
    "        x=xn\n",
    "        disc=-1\n",
    "        mi=0\n",
    "        while disc<0:\n",
    "            mi+=1\n",
    "            #Valor de la función y sus derivadas\n",
    "            y,yp,ypp=f(x,*args)\n",
    "            #Discriminante\n",
    "            disc=(eta-1)**2*yp**2-eta*(eta-1)*y*ypp\n",
    "            eta=eta-1 if disc<0 else eta\n",
    "        #Raiz del discriminante\n",
    "        from numpy import sqrt\n",
    "        raiz_disc=sqrt(disc)\n",
    "        #Signo en el denominador\n",
    "        sgn=+1 if abs(yp+raiz_disc)>abs(yp-raiz_disc) else -1\n",
    "        #Valor de en\n",
    "        en=eta*y/(yp+sgn*raiz_disc)\n",
    "        #Nuevo valor (regla de iteración)\n",
    "        xn=x-en\n",
    "        #Valor medio\n",
    "        xmed=(x+xn)/2\n",
    "        #Criterio de convergencia\n",
    "        en=xn-x\n",
    "        Dn=abs(en/xmed)\n",
    "        ni+=1\n",
    "    return xmed,Dn,ni+mi-1"
   ]
  },
  {
   "cell_type": "code",
   "execution_count": 4,
   "metadata": {
    "tags": [
     "hide"
    ]
   },
   "outputs": [
    {
     "data": {
      "text/plain": [
       "(62.38420186888202, 0.0, 4, (0.0, 0.7682298150551188, 0.4430379006028892))"
      ]
     },
     "execution_count": 4,
     "metadata": {},
     "output_type": "execute_result"
    }
   ],
   "source": [
    "#Prueba Elíptica\n",
    "def f(x,M,e):\n",
    "    from numpy import sin,cos\n",
    "    y=x-e*sin(x)-M\n",
    "    yp=1-e*cos(x)\n",
    "    ypp=e*sin(x)\n",
    "    return y,yp,ypp\n",
    "\n",
    "from numpy import pi\n",
    "M=37*pi/180\n",
    "e=0.5\n",
    "x,error,ni=metodo_laguerre(f,x0=M,delta=1e-14,args=(M,e))\n",
    "x*180/pi,error,ni,f(x,M,e)"
   ]
  },
  {
   "cell_type": "markdown",
   "metadata": {},
   "source": [
    "La fuente original de este algoritmo esta disponible [en línea](http://smallsats.org/2013/04/20/keplers-equation-iterative-and-non-iterative-solver-comparison/)."
   ]
  },
  {
   "cell_type": "code",
   "execution_count": 155,
   "metadata": {
    "codelabel": "",
    "codeplot": 0,
    "tags": [
     "export"
    ]
   },
   "outputs": [],
   "source": [
    "def kepler_semianalitico(M,e):\n",
    "    from math import sin,cos,pi\n",
    "    \n",
    "    #Casos extremos\n",
    "    if M==0 or M==2*pi or e==1:return M,0,0\n",
    "    Minp=M\n",
    "    \n",
    "    Ecorr=0;Esgn=1.0\n",
    "    if M>pi:\n",
    "        M=2*pi-M\n",
    "        Ecorr=2*pi\n",
    "        Esgn=-1.0\n",
    "    \n",
    "    #Circunferencia\n",
    "    if e==0:return Ecorr+Esgn*M,0,0\n",
    "        \n",
    "    a=(1-e)*3/(4*e+0.5);\n",
    "    b=-M/(4*e+0.5);\n",
    "    y=(b**2/4 +a**3/27)**0.5;\n",
    "    x=(-0.5*b+y)**(1./3)-(0.5*b+y)**(1./3);\n",
    "    w=x-0.078*x**5/(1 + e);\n",
    "    E=M+e*(3*w-4*w**3);\n",
    "\n",
    "    #Corrección por Newton\n",
    "    sE=sin(E)\n",
    "    cE=cos(E)\n",
    "\n",
    "    f=(E-e*sE-M);\n",
    "    fd=1-e*cE;\n",
    "    f2d=e*sE;\n",
    "    f3d=-e*cE;\n",
    "    f4d=e*sE;\n",
    "    E=E-f/fd*(1+f*f2d/(2*fd*fd)+\\\n",
    "              f*f*(3*f2d*f2d-fd*f3d)/(6*fd**4)+\\\n",
    "              (10*fd*f2d*f3d-15*f2d**3-fd**2*f4d)*\\\n",
    "              f**3/(24*fd**6))\n",
    "\n",
    "    #Corrección por Newton\n",
    "    f=(E-e*sE-M);\n",
    "    fd=1-e*cE;\n",
    "    f2d=e*sE;\n",
    "    f3d=-e*cE;\n",
    "    f4d=e*sE;\n",
    "    E=E-f/fd*(1+f*f2d/(2*fd*fd)+\\\n",
    "              f*f*(3*f2d*f2d-fd*f3d)/(6*fd**4)+\\\n",
    "              (10*fd*f2d*f3d-15*f2d**3-fd**2*f4d)*\\\n",
    "              f**3/(24*fd**6))\n",
    "    \n",
    "    E=Ecorr+Esgn*E\n",
    "    \n",
    "    #Error relativo\n",
    "    Mnum=E-e*sin(E)\n",
    "    Dn=abs(Mnum-Minp)/Minp\n",
    "    \n",
    "    return E,Dn,1"
   ]
  },
  {
   "cell_type": "markdown",
   "metadata": {},
   "source": [
    "Si continuamos indefinidamente el proceso anterior es posible mostrar que la anomalía excéntrica puede calcularse como una *serie de Fourier* de la forma <cite data-cite=\"Plummer1918\"><a href=\"mybook.html#Plummer1918\">(Plummer, 1918)</a></cite>:\n",
    "\n",
    "\\begin{equation}\n",
    "\\label{eq:kepler_fourier}\n",
    "E =M + \\sum_{n=1}^{\\infty}\\frac{e^n}{2^{n-1}}\\sum_{k=0}^{\\lfloor n/2\\rfloor} a_{nk}\\sin [(n-2k)M]\n",
    "\\end{equation}\n",
    "donde:\n",
    "\n",
    "$$\n",
    "a_{nk} = (-1)^k\\frac{(n-2k)^{n-1}}{(n-k)!k!}\n",
    "$$\n",
    "\n",
    "Puede probarse que esta serie converge uniformemente para todos los valores de $e<0.662743419349181$.[$^1$](#notaspie_1)\n"
   ]
  },
  {
   "cell_type": "markdown",
   "metadata": {},
   "source": [
    "<a id='code:kepler_fourier'></a>"
   ]
  },
  {
   "cell_type": "code",
   "execution_count": 156,
   "metadata": {
    "codelabel": "",
    "codeplot": 0,
    "tags": [
     "export",
     "code:kepler_fourier"
    ]
   },
   "outputs": [],
   "source": [
    "def kepler_eserie(M,e,delta=0,orden=1):\n",
    "    from math import sin,factorial,floor\n",
    "    nfac=1\n",
    "    En=M\n",
    "    Dn=1\n",
    "    n=0\n",
    "    condicion=Dn>delta if delta>0 else n<=orden\n",
    "    while condicion:\n",
    "        n+=1\n",
    "        E=En\n",
    "        prefactor=e**n/2**(n-1)\n",
    "        kmax=int(floor(n/2))\n",
    "        sgn=-1\n",
    "        #Los factoriales se calculan así para mayor eficiencia\n",
    "        nfac=nfac*n if n>0 else 1\n",
    "        kfac=1\n",
    "        nkfac=1\n",
    "        termino=0\n",
    "        for k in range(kmax+1):\n",
    "            sgn*=-1\n",
    "            kfac=kfac*k if k>0 else 1\n",
    "            nkfac=nkfac/(n-k+1) if k>0 else nfac\n",
    "            ank=sgn/(kfac*nkfac)*(n-2*k)**(n-1)\n",
    "            termino+=ank*sin((n-2*k)*M)\n",
    "        dE=prefactor*termino\n",
    "        En+=dE\n",
    "        Dn=abs(dE/En)\n",
    "        #La condicion depende de si se pasa o no la tolerancia\n",
    "        condicion=Dn>delta if delta>0 else n<orden\n",
    "    return En,Dn,n"
   ]
  },
  {
   "cell_type": "markdown",
   "metadata": {},
   "source": [
    "Esta rutina implementa la serie en la Ec. [kepler_bessel](#mjx-eqn-eq%3Akepler_bessel):"
   ]
  },
  {
   "cell_type": "markdown",
   "metadata": {},
   "source": [
    "<a id='code:kepler_bessel'></a>"
   ]
  },
  {
   "cell_type": "code",
   "execution_count": null,
   "metadata": {
    "codelabel": "",
    "codeplot": 0,
    "tags": [
     "export",
     "code:kepler_bessel"
    ]
   },
   "outputs": [],
   "source": [
    "def kepler_bessel(M,e,delta):\n",
    "    from math import sin\n",
    "    from scipy.special import jv\n",
    "    Dn=1\n",
    "    n=1\n",
    "    En=M\n",
    "    while Dn>delta:\n",
    "        E=En\n",
    "        dE=(2./n)*jv(n,n*e)*sin(n*M)\n",
    "        En+=dE\n",
    "        Emed=(E+En)/2\n",
    "        Dn=abs(dE/Emed)\n",
    "        n+=1\n",
    "    return En,Dn,n"
   ]
  },
  {
   "cell_type": "markdown",
   "metadata": {},
   "source": [
    "Series de Stumpff.  Devuelve el valor de la series y de su primera y segunda derivada."
   ]
  },
  {
   "cell_type": "markdown",
   "metadata": {},
   "source": [
    "<a id='code:serie_stumpff'></a>"
   ]
  },
  {
   "cell_type": "code",
   "execution_count": 17,
   "metadata": {
    "codelabel": "",
    "codeplot": 0,
    "tags": [
     "export",
     "code:serie_stumpff"
    ]
   },
   "outputs": [],
   "source": [
    "def serie_stumpff(t,k,N=15):\n",
    "    from math import factorial\n",
    "    sk=lambda n:t/((2*n+k+1)*(2*n+k+2))*(1-sk(n+1))\\\n",
    "                if n<N else 0\n",
    "    return (1-sk(0))/factorial(k)"
   ]
  },
  {
   "cell_type": "markdown",
   "metadata": {
    "tags": [
     "footnote"
    ]
   },
   "source": [
    "**NOTAS AL PIE:**\n",
    "\n",
    "<a id='notaspie_1'></a>\n",
    "1. El valor de esta cota máxima es una constante matemática conocida como el *límite de Laplace* y es igual a la solución numérica de la ecuación $x\\exp{\\sqrt{1+x^2}}/(1+\\sqrt{1+x^2})=1$ <cite data-cite=\"Colwell1993Kepler\"><a href=\"mybook.html#Colwell1993Kepler\">(Colwell, 1993)</a></cite>.\n",
    "\n"
   ]
  }
 ],
 "metadata": {
  "celltoolbar": "Tags",
  "kernelspec": {
   "display_name": "Python 3",
   "language": "python",
   "name": "python3"
  },
  "language_info": {
   "codemirror_mode": {
    "name": "ipython",
    "version": 3
   },
   "file_extension": ".py",
   "mimetype": "text/x-python",
   "name": "python",
   "nbconvert_exporter": "python",
   "pygments_lexer": "ipython3",
   "version": "3.6.8"
  }
 },
 "nbformat": 4,
 "nbformat_minor": 2
}
