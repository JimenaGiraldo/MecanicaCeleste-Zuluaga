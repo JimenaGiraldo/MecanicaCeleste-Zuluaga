{
 "cells": [
  {
   "cell_type": "markdown",
   "metadata": {},
   "source": [
    "## Determinación de los elementos osculatrices de la Luna"
   ]
  },
  {
   "cell_type": "markdown",
   "metadata": {},
   "source": [
    "Tomar la posición relativa de la Luna respecto de la Tierra en una fecha dada y voy a determinar $(p,e,i,\\Omega,\\omega,f)$.\n",
    "\n",
    "Usamos NASA Horizons para las condiciones iniciales: https://ssd.jpl.nasa.gov/horizons.cgi"
   ]
  },
  {
   "cell_type": "code",
   "execution_count": 8,
   "metadata": {},
   "outputs": [
    {
     "data": {
      "text/plain": [
       "(7.346031312180854e+22, 5.972365261369357e+24)"
      ]
     },
     "execution_count": 8,
     "metadata": {},
     "output_type": "execute_result"
    }
   ],
   "source": [
    "# Datos de la Luna\n",
    "mu_luna=4902.800066 # km^3/s^2\n",
    "mu_tierra=398600.435436 # km^3/s^2\n",
    "G=6.67408e-20 # km^3/(kg s^2)\n",
    "\n",
    "mluna=mu_luna/G\n",
    "mtierra=mu_tierra/G\n",
    "mluna,mtierra"
   ]
  },
  {
   "cell_type": "code",
   "execution_count": 13,
   "metadata": {},
   "outputs": [],
   "source": [
    "# Vector relativo en kg-km-s (orbitales)\n",
    "from numpy import array\n",
    "\n",
    "rvec=array([-3.176502419832263E+05,-2.418831750401069E+05,3.655582402218442E+04]) #km\n",
    "vvec=array([5.607870632956331E-01,-7.999322621097942E-01,-1.639331278680323E-03]) #km/s"
   ]
  },
  {
   "cell_type": "code",
   "execution_count": 14,
   "metadata": {},
   "outputs": [
    {
     "data": {
      "text/plain": [
       "4.318778271891243"
      ]
     },
     "execution_count": 14,
     "metadata": {},
     "output_type": "execute_result"
    }
   ],
   "source": [
    "# Unidades \n",
    "UL = 3.83e5 # km\n",
    "UM = mtierra+mluna\n",
    "from numpy import sqrt\n",
    "UT = sqrt(UL**3/(G*UM))\n",
    "UV = UL/UT\n",
    "\n",
    "UT/86400"
   ]
  },
  {
   "cell_type": "code",
   "execution_count": 15,
   "metadata": {},
   "outputs": [
    {
     "data": {
      "text/plain": [
       "(array([-0.829374  , -0.63154876,  0.09544602]),\n",
       " array([ 0.54635367, -0.77934381, -0.00159714]))"
      ]
     },
     "execution_count": 15,
     "metadata": {},
     "output_type": "execute_result"
    }
   ],
   "source": [
    "# Condiciones iniciales a las unidades canónicas\n",
    "mu=1\n",
    "rvec=rvec/UL\n",
    "vvec=vvec/UV\n",
    "\n",
    "rvec,vvec"
   ]
  },
  {
   "cell_type": "code",
   "execution_count": 20,
   "metadata": {},
   "outputs": [
    {
     "data": {
      "text/plain": [
       "(array([0.07539393, 0.05082266, 0.99141647]),\n",
       " array([ 0.01970893,  0.06151967, -0.00465246]),\n",
       " array([-0.05082266,  0.07539393,  0.        ]))"
      ]
     },
     "execution_count": 20,
     "metadata": {},
     "output_type": "execute_result"
    }
   ],
   "source": [
    "# Vectores clave\n",
    "from numpy import cross\n",
    "from numpy.linalg import norm\n",
    "r=norm(rvec)\n",
    "hvec = cross(rvec,vvec)\n",
    "evec = cross(vvec,hvec)-rvec/r\n",
    "nvec = cross([0,0,1],hvec)\n",
    "\n",
    "hvec,evec,nvec"
   ]
  },
  {
   "cell_type": "code",
   "execution_count": 23,
   "metadata": {},
   "outputs": [
    {
     "data": {
      "text/plain": [
       "(0.06476694137435804, 379619.56864546525, 381218.6882904266)"
      ]
     },
     "execution_count": 23,
     "metadata": {},
     "output_type": "execute_result"
    }
   ],
   "source": [
    "h=norm(hvec)\n",
    "e=norm(evec)\n",
    "\n",
    "p=h**2/mu\n",
    "a=p/(1-e**2)\n",
    "\n",
    "e,p*UL,a*UL"
   ]
  },
  {
   "cell_type": "code",
   "execution_count": 26,
   "metadata": {},
   "outputs": [
    {
     "data": {
      "text/plain": [
       "5.240010960708313"
      ]
     },
     "execution_count": 26,
     "metadata": {},
     "output_type": "execute_result"
    }
   ],
   "source": [
    "# Orientación de la órbita\n",
    "from numpy import arccos,dot,pi\n",
    "ip=arccos(dot(hvec,[0,0,1])/h)\n",
    "i=ip\n",
    "\n",
    "i*180/pi"
   ]
  },
  {
   "cell_type": "code",
   "execution_count": 30,
   "metadata": {},
   "outputs": [
    {
     "data": {
      "text/plain": [
       "123.98370376817692"
      ]
     },
     "execution_count": 30,
     "metadata": {},
     "output_type": "execute_result"
    }
   ],
   "source": [
    "Wp=arccos(dot(nvec,[1,0,0])/norm(nvec))\n",
    "W=Wp if nvec[1]>0 else 2*pi-Wp\n",
    "\n",
    "W*180/pi"
   ]
  },
  {
   "cell_type": "code",
   "execution_count": 32,
   "metadata": {},
   "outputs": [
    {
     "data": {
      "text/plain": [
       "308.13590250830623"
      ]
     },
     "execution_count": 32,
     "metadata": {},
     "output_type": "execute_result"
    }
   ],
   "source": [
    "wp=arccos(dot(nvec,evec)/(norm(nvec)*norm(evec)))\n",
    "w=wp if evec[2]>=0 else 2*pi-wp\n",
    "\n",
    "w*180/pi"
   ]
  },
  {
   "cell_type": "code",
   "execution_count": null,
   "metadata": {},
   "outputs": [],
   "source": []
  }
 ],
 "metadata": {
  "kernelspec": {
   "display_name": "Python 3",
   "language": "python",
   "name": "python3"
  },
  "language_info": {
   "codemirror_mode": {
    "name": "ipython",
    "version": 3
   },
   "file_extension": ".py",
   "mimetype": "text/x-python",
   "name": "python",
   "nbconvert_exporter": "python",
   "pygments_lexer": "ipython3",
   "version": "3.6.8"
  }
 },
 "nbformat": 4,
 "nbformat_minor": 2
}
