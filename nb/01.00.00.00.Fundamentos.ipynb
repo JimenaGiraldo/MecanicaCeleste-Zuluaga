{
 "cells": [
  {
   "cell_type": "markdown",
   "metadata": {},
   "source": [
    "# 1. Fundamentos\n",
    "<a id='fundamentos'></a>"
   ]
  },
  {
   "cell_type": "markdown",
   "metadata": {
    "subtitle": "",
    "tags": [
     "box_summary"
    ],
    "title": "Resumen"
   },
   "source": [
    "> **:Resumen:** En este capítulo haremos una síntesis práctica de los temas de matemáticas, física y astronomía que necesitaremos para desarrollar la mecánica celeste en el resto del libro. Repasaremos la geometría de las cónicas, (que son la base para describir la trayectorias de cuerpos celestes sometidos a la gavedad newtoniana), en el plano y en el espacio de tres dimensiones. Sintetizaremos, en un lenguaje moderno, los principios y leyes de la mecánica newtoniana, incluyendo la dinámica en sistemas de referencia rotantes.  Presentaremos brevemente los fundamentos de la teoría de la relatividad (especial y general), especialmente el concepto de métrica y sus implicaciones cinemáticas básicas. Finalmente repasaremos a algunas conceptos y definiciones de astronomía que serán de relevancia en el texto, la organización y nomenclatura del sistema solar, los sistemas de medida de tiempo y los sistemas de referencia usados para especificar la posición de cuerpos en el cielo y en el espacio interplanetario."
   ]
  },
  {
   "cell_type": "markdown",
   "metadata": {
    "tags": [
     "navigation"
    ]
   },
   "source": [
    "[Indice](index.ipynb) | Siguiente: [Fundamentos.Calculo](01.01.00.00.Fundamentos.Calculo.ipynb)"
   ]
  }
 ],
 "metadata": {
  "celltoolbar": "Tags",
  "kernelspec": {
   "display_name": "Python 3",
   "language": "python",
   "name": "python3"
  },
  "language_info": {
   "codemirror_mode": {
    "name": "ipython",
    "version": 3
   },
   "file_extension": ".py",
   "mimetype": "text/x-python",
   "name": "python",
   "nbconvert_exporter": "python",
   "pygments_lexer": "ipython3",
   "version": "3.6.8"
  }
 },
 "nbformat": 4,
 "nbformat_minor": 2
}
