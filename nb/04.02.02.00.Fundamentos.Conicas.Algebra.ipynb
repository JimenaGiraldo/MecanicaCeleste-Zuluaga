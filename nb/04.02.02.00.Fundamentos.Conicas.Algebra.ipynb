{
 "cells": [
  {
   "cell_type": "markdown",
   "metadata": {
    "tags": [
     "navigation"
    ]
   },
   "source": [
    "[Indice](index.ipynb) | Previo: [Fundamentos.Conicas.Geometria](04.02.01.00.Fundamentos.Conicas.Geometria.ipynb) | Siguiente: [Fundamentos.Conicas.Anomalias](04.02.03.00.Fundamentos.Conicas.Anomalias.ipynb)"
   ]
  },
  {
   "cell_type": "markdown",
   "metadata": {},
   "source": [
    "### 4.2.5. Descripción algebraica\n",
    "<a id='conicas_algebra'></a>"
   ]
  },
  {
   "cell_type": "markdown",
   "metadata": {},
   "source": [
    "Si bien en las secciones anteriores adscribimos a Apolonio y a Arquímedes (y a sus contemporáneos griegos) la descripción de las cónicas en términos de ecuaciones algebraicas con sus coordenadas como variables, en realidad esta descripción solo apareció en la historia con el surgimiento de la moderna Geometría analítica en los 1600 y de la mano de René Descartes ([\"René decart\"](https://es.forvo.com/word/ren%C3%A9_descartes/#fr)) y Pierre de Fermat (\"pier de fermat\")."
   ]
  },
  {
   "cell_type": "markdown",
   "metadata": {},
   "source": [
    "Ahora bien, la forma algebraica general que vimos en la Ec. ([ecuacion_apside](#mjx-eqn-eq%3Aecuacion_apside))\n",
    "\n",
    "\\begin{equation}\n",
    "\\label{eq:ecuacion_apside_pe}\n",
    "y_a^2-2p x_a -(e^2-1) x_a^2 = 0\n",
    "\\end{equation}\n",
    "no es precisamente ni la fórmula más simple, ni la más general.  \n",
    "\n",
    "En esta sección exploraremos a fondo las propiedades algebraicas de las cónicas y al hacerlo descubriremos algunas propiedades importantes que usaremos en la mecánica celeste."
   ]
  },
  {
   "cell_type": "markdown",
   "metadata": {},
   "source": [
    "Si queremos escribir la ecuación de la cónica en otras formas, podemos, como lo hicimos en el caso de la  Eq. [ecuacion_directriz_trasladada](#mjx-eqn-eq%3Aecuacion_directriz_trasladada), aplicar dos tipos de transformaciones al sistema de coordenadas: \n",
    "\n",
    "- Una **traslación**, que implica simplemente modificar la posición del origen de coordenadas, tal y como hicimos en la [Sección *Directriz de las cónicas*](04.02.01.00.Fundamentos.Conicas.Geometria.ipynb#conicas_directriz) al pasar del origen en la directriz a un origen en el ápisde.\n",
    "\n",
    "- Una **rotación**, que implica modificar la dirección de los ejes coordenados.  Esta es una transformación más compleja pero que resultará particularmente útil en la aplicación de las cónicas en mecánica celeste."
   ]
  },
  {
   "cell_type": "markdown",
   "metadata": {},
   "source": [
    "### 4.2.6. Ecuación respecto al centro\n",
    "<a id='conicas_centro'></a>"
   ]
  },
  {
   "cell_type": "markdown",
   "metadata": {},
   "source": [
    "Para encontrar una forma más simple de la ecuación de la cónica, podemos realizar una traslación del origen, del apside (respecto al cuál esta escrita la Ec. [ecuacion_apside](#mjx-eqn-eq%3Aecuacion_apside)) a un punto C en el cuál la forma algebraica, por ejemplo solo contenga términos cuadráticos en las coordenadas."
   ]
  },
  {
   "cell_type": "markdown",
   "metadata": {},
   "source": [
    "Una traslación a lo largo del eje $x$ se escribe como:\n",
    "\n",
    "\\begin{eqnarray}\n",
    "\\label{eq:traslacion_centro}\n",
    "x_a & = & x_c + a \\\\\n",
    "\\nonumber\n",
    "y_a & = & y_c  \n",
    "\\end{eqnarray}\n",
    "donde $a$ es la distancia del origen de las nuevas coordenadas $x_c,y_c$ (punto C), al origen de las coordenadas $x_a,y_a$ (apside). "
   ]
  },
  {
   "cell_type": "markdown",
   "metadata": {},
   "source": [
    "Reemplazando las Ecs. ([traslacion_centro](#mjx-eqn-eq%3Atraslacion_centro)) en la ecuación de la cónica obtenemos:\n",
    "\n",
    "$$\n",
    "y_a^2-2p(x_c+a)+(1-e^2)(x_c+a)^2=0\n",
    "$$\n",
    "que después de una manipulación algebraica se puede escribir en la forma:\n",
    "\n",
    "$$\n",
    "y_c^2+(1-e^2)x_c^2+2[(1-e^2)a-p]x_c=2pa-(1-e^2)a^2\n",
    "$$"
   ]
  },
  {
   "cell_type": "markdown",
   "metadata": {},
   "source": [
    "Como el valor de $a$ es libre, podemos escogerlo de modo el término lineal en $x_c$ desaparezca.  Con esta elección el valor de esta constante queda:\n",
    "\n",
    "\\begin{equation}\n",
    "\\label{eq:semiejemayor}\n",
    "a=\\frac{p}{1-e^2}\n",
    "\\end{equation}\n",
    "\n",
    "Descubrimos aquí que el desplazamiento al punto $C$ solo tiene el efecto deseado en el caso en el que $e\\neq 1$ (elipse e hipérbola).  Para el caso de la parábola, en realidad la forma más simple de la ecuación sigue siendo aquella referida al apside (Ec. [ecuacion_apside](#mjx-eqn-eq%3Aecuacion_apside)), $y_d^2=2px_d$."
   ]
  },
  {
   "cell_type": "markdown",
   "metadata": {},
   "source": [
    "La ecuación de la elipse o de la hipérbola se puede escribir entonces como:\n",
    "\n",
    "$$\n",
    "\\frac{x_c^2}{p^2/(1-e^2)^2}+\\frac{y_c^2}{p^2/(1-e^2)}=1\n",
    "$$\n",
    "o en términos del parámetro $a$:\n",
    "\n",
    "\\begin{equation}\n",
    "\\label{eq:ecuacion_centro}\n",
    "\\frac{x_c^2}{a^2}+\\frac{y_c^2}{b^2}=1\n",
    "\\end{equation}\n",
    "en el que se ha definido:\n",
    "\n",
    "\\begin{equation}\n",
    "\\label{eq:semiejemenor}\n",
    "b^2\\equiv a^2(1-e^2)\n",
    "\\end{equation}"
   ]
  },
  {
   "cell_type": "markdown",
   "metadata": {},
   "source": [
    "### 4.2.7. Eje mayor y menor de la elipse\n",
    "<a id='conicas_ejes'></a>"
   ]
  },
  {
   "cell_type": "markdown",
   "metadata": {},
   "source": [
    "La ecuación ([ecuacion_centro](#mjx-eqn-eq%3Aecuacion_centro)) es la forma más simple y simétrica de una elipse o una hipérbola.  Pero ¿qué interpretación geométrica tienen los parámetros $a$, $b$ y el punto C.\n",
    "\n",
    "En el caso de la elipse, podemos ver que cuando $y_c=0$ (apsides), $x_c=\\pm a$ (ver Figura ([elipse](#fig:elipse))), es decir $a$ es la distancia de los apsides al punto C, alrededor del cuál la elipse es simétrica.  Llamamos a la constante $a$ en este caso el **semieje mayor** de la elipse y C es el centro geométrico de la figura.\n",
    "\n",
    "También en el caso de la elipse, haciendo $x_c=0$ resulta $y_c=\\pm b$, de donde interpretamos a $b=a\\sqrt{1-e^2}$ como la distancia a los extremos del *eje menor* al centro de la elipse.  Por esta misma razón llamamos a la constante $b$ el **semieje menor**."
   ]
  },
  {
   "cell_type": "markdown",
   "metadata": {},
   "source": [
    "<a id='fig:elipse'></a>![Parámetros geométricos de la elipse referidos al apside O, el foco F y el centro C: $a$ semieje mayor, $b$ semieje menor, $p$ *semilatus rectum*, $e$ excentricidad, $c$ distancia foco-centro.++t!++0.6++\\label{fig:elipse}](./figures/horizontal_elipse.png)\n",
    "\n",
    "<center><b>Figura 4.17</b>. Parámetros geométricos de la elipse referidos al apside O, el foco F y el centro C: $a$ semieje mayor, $b$ semieje menor, $p$ *semilatus rectum*, $e$ excentricidad, $c$ distancia foco-centro.</center>"
   ]
  },
  {
   "cell_type": "markdown",
   "metadata": {},
   "source": [
    "Un resultado interesante, que podemos agregar a las definiciones geométricas de Apolonio y Democrito, resulta al combinar la definición de $a$ con la distancia de un apside al foco más cercano $q$. Es claro de la Figura ([elipse_hiperbola](#fig:elipse_hiperbola)) que la distancia entre el centro y el foco de la elipse, que llamaremos en lo sucesivo $c$ es:\n",
    "\n",
    "\\begin{eqnarray}\n",
    "\\nonumber\n",
    "c & = & a-q\\\\\n",
    " \\nonumber\n",
    "  & = & \\frac{p}{1-e^2}-\\frac{p}{1+e}\\\\\n",
    "  \\nonumber\n",
    "\\end{eqnarray}\n",
    "o en términos simples:\n",
    "\n",
    "\\begin{equation}\n",
    "c = ae\n",
    "\\end{equation}"
   ]
  },
  {
   "cell_type": "markdown",
   "metadata": {},
   "source": [
    "Este resultado se puede interpretar diciendo que la excentricidad de una elipse $e=c/a$ es el grado en el que el foco esta desplazado a partir del centro geométrico de la figura y medido en unidades del semieje mayor $a$.  De allí precisamente el nombre de este parámetro. "
   ]
  },
  {
   "cell_type": "markdown",
   "metadata": {},
   "source": [
    "Uno podría entonces cuantificar la excentricidad de una elipse como un porcentaje.  Así por ejemplo, la órbita *osculatriz* de Marte (volveremos sobre este concepto en el [Capítulo *El problema de los dos cuerpos*](07.00.00.00.Problema2Cuerpos.ipynb#problema_doscuerpos)), que fue el planeta utilizado por Kepler para descubrir que las órbitas planetarias eran elipses, es una elipse con una excentricidad de $9.3\\%$.  \n",
    "\n",
    "Es decir, el centro geométrico de la órbita de Marte esta desplazado respecto a su foco (donde se ubica el Sol o más precisamente el centro de masa del Sistema Solar) un $9.3\\%$ del eje mayor (la distancia promedio de Marte al Sol.)  Este desplazamiento (que es significativo) fue la clave precisamente de porque fue más fácil para Kepler deducir la elipticidad de la trayectoria de ese planeta, de lo que lo fue para todos los astrónomos antes que él deducirlo usando la trayectoria de todos los demás planetas (en comparación las excentricidades de las órbitas osculatrices de la Tierra y de Júpiter, por ejemplo, son $1.6\\%$ y $4.8\\%, respectivamente.)"
   ]
  },
  {
   "cell_type": "markdown",
   "metadata": {},
   "source": [
    "Utilice el código interactivo que viene con las libretas en la [versión electrónica del libro](http://mybook.org) para visualizar la forma de las órbitas de los planetas mencionados y ver realmente, que tan diferentes de una circunferencia son."
   ]
  },
  {
   "cell_type": "markdown",
   "metadata": {
    "tags": [
     "hide_html"
    ]
   },
   "source": [
    "#### 4.2.7.1. Elipse interactiva\n",
    "<a id='elipse_interactiva'></a>"
   ]
  },
  {
   "cell_type": "markdown",
   "metadata": {
    "tags": [
     "hide_html"
    ]
   },
   "source": [
    "Podemos escribir, a la manera como lo hicimos en la [Sección *Del nombre al algebra*](04.02.01.00.Fundamentos.Conicas.Geometria.ipynb#conicas_nombre_algebra), una rutina para graficar la elipse en términos de su excentricidad $e$:"
   ]
  },
  {
   "cell_type": "code",
   "execution_count": 57,
   "metadata": {
    "codelabel": "",
    "codeplot": 0,
    "tags": [
     "hide_pdf",
     "hide_html",
     "hide_html"
    ]
   },
   "outputs": [],
   "source": [
    "%matplotlib nbagg"
   ]
  },
  {
   "cell_type": "code",
   "execution_count": 58,
   "metadata": {
    "codelabel": "",
    "codeplot": 0,
    "tags": [
     "hide_html"
    ]
   },
   "outputs": [],
   "source": [
    "#Definimos el algoritmo como una rutina\n",
    "def elipse_centro(e=0.5):\n",
    "\n",
    "    #Semieje mayor\n",
    "    a=10.0\n",
    "\n",
    "    #Forma\n",
    "    e=float(e)\n",
    "    \n",
    "    #Semieje menor\n",
    "    from numpy import sqrt\n",
    "    b=a*sqrt(1-e**2)\n",
    "    \n",
    "    #Distancia foco-centro\n",
    "    c=a*e\n",
    "    \n",
    "    #Máximo valor de x\n",
    "    xcmax=a\n",
    "    \n",
    "    #Valores de x en los que graficaremos\n",
    "    from numpy import linspace\n",
    "    xcs=linspace(-a,a,100)\n",
    "\n",
    "    #Ecuaciones de las cónicas referidas al apside\n",
    "    from numpy import append\n",
    "    ycs_cir=a*sqrt(1-xcs**2/a**2)\n",
    "    ycs=b*sqrt(1-xcs**2/a**2)\n",
    "\n",
    "    #Gráfica\n",
    "    import matplotlib.pyplot as plt\n",
    "    fig=plt.figure(figsize=(6,6))\n",
    "    ax=fig.gca()\n",
    "\n",
    "    ax.plot(xcs,ycs_cir,'k--')\n",
    "    ax.plot(xcs,-ycs_cir,'k--')\n",
    "    ax.plot(xcs,ycs,'r')\n",
    "    ax.plot(xcs,-ycs,'r')\n",
    "    \n",
    "    #Graficar la posición del foco y el centro\n",
    "    ax.plot([-c],[0],'bx',markersize=10)\n",
    "    ax.plot([0],[0],'ko',markersize=5)\n",
    "\n",
    "    #Decoración\n",
    "    ax.grid()\n",
    "    ax.set_title(f\"Elipse con $a = {a}$, $e={e}$\")\n",
    "    \n",
    "    #Fijamos la misma escala en los ejes\n",
    "    from pymcel.plot import fija_ejes_proporcionales\n",
    "    valores=(xcs,ycs_cir,-ycs_cir,ycs,-ycs),\n",
    "    fija_ejes_proporcionales(ax,valores);"
   ]
  },
  {
   "cell_type": "markdown",
   "metadata": {
    "tags": [
     "hide_html"
    ]
   },
   "source": [
    "El código interactivo para visualizar el producto de esta rutina sería:"
   ]
  },
  {
   "cell_type": "code",
   "execution_count": 59,
   "metadata": {
    "codelabel": "fig:04.02.02.00.Fundamentos.Conicas.Algebra_18",
    "codeplot": 1,
    "figcaption": "<b>Figura 4.18.</b> ",
    "tags": [
     "hide_html"
    ]
   },
   "outputs": [
    {
     "data": {
      "application/vnd.jupyter.widget-view+json": {
       "model_id": "f192fb0633904ef38994371147464c84",
       "version_major": 2,
       "version_minor": 0
      },
      "text/plain": [
       "interactive(children=(FloatSlider(value=0.0, continuous_update=False, description='e', max=1.0, readout_format…"
      ]
     },
     "metadata": {},
     "output_type": "display_data"
    }
   ],
   "source": [
    "# Widgets de Jupyter\n",
    "import matplotlib.pyplot as plt\n",
    "plt.close(\"all\")\n",
    "from ipywidgets import interact,fixed,widgets\n",
    "opciones=dict(continuous_update=False,readout_format=\".3f\")\n",
    "interact(elipse_centro,\n",
    "         e=widgets.FloatSlider(min=0.000,max=1.000,step=0.001,value=0.0,**opciones)\n",
    "        );"
   ]
  },
  {
   "cell_type": "markdown",
   "metadata": {},
   "source": [
    "<a id='fig:04.02.02.00.Fundamentos.Conicas.Algebra_18'></a><center><b>Figura 4.18.</b> </center>"
   ]
  },
  {
   "cell_type": "markdown",
   "metadata": {},
   "source": [
    "### 4.2.8. Parámetros de la hipérbola\n",
    "<a id='subsubsec_conicas_hiperbola'></a>"
   ]
  },
  {
   "cell_type": "markdown",
   "metadata": {},
   "source": [
    "La interpretación geométrica de $a$ y $b$ en el caso de la hipérbola ($e>1$) es un poco más complicada (ver la Figura ([hiperbola](#fig:hiperbola))).\n",
    "\n",
    "Para empezar el valor del parámetro $a=p/(1-e^2)$ es negativo.  Esto implica que el punto $C$, que hace la ecuación de la hipérbola la más sencilla posible, esta a la izquierda del apside, contrario a lo que pasa con la elipse.  Llamamos a C, no el centro de la hipérbola sino su *vértice*.\n",
    "\n",
    "No debemos confundir sin embargo el eje $y_c$ en la Figura ([hiperbola](#fig:hiperbola)) con la directriz de la hipérbola (ver Figura ([conicas_directriz](04.02.01.00.Fundamentos.Conicas.Geometria.ipynb#fig:conicas_directriz))) que en realidad esta situada a una distancia $\\alpha=a(1-e)/e$ (ver Ec. [alpha](#mjx-eqn-eq%3Aalpha).)  La directriz y el eje $y_c$ se aproximan una a otra cuando $e\\rightarrow \\infty$."
   ]
  },
  {
   "cell_type": "markdown",
   "metadata": {},
   "source": [
    "<a id='fig:elipse'></a>![Parámetros geométricos de la hipérbola referidos al apside O, el foco F y el vértice C: $a$ distancia al vértice (llamado con frecuencia también semieje mayor aunque en la hipérbola no hay tal), $\\beta$ pendiente de la hipérbola, $p$ *semilatus rectum*, $e$ excentricidad, $\\psi$ angulo de semiapertura.++t!++0.6++\\label{fig:elipse}](./figures/vertical_hiperbola.png)\n",
    "\n",
    "<center><b>Figura 4.19</b>. Parámetros geométricos de la hipérbola referidos al apside O, el foco F y el vértice C: $a$ distancia al vértice (llamado con frecuencia también semieje mayor aunque en la hipérbola no hay tal), $</center>"
   ]
  },
  {
   "cell_type": "markdown",
   "metadata": {},
   "source": [
    "El parámetro $b^2=a^2(1-e^2)$ es inconveniente dado que en este caso $e>1$ y por lo tanto $b$ debería ser un número imaginario.  Para evitar este inconveniente reescribimos la ecuación de la hipérbola Ec. ([ecuacion_centro](#mjx-eqn-eq%3Aecuacion_centro)) como:\n",
    "\n",
    "\\begin{equation}\n",
    "\\label{eq:ecuacion_centro_hiperbola}\n",
    "\\frac{x_c^2}{a^2}-\\frac{y_c^2}{\\beta^2}=1\n",
    "\\end{equation}\n",
    "y definimos:\n",
    "\n",
    "\\begin{equation}\n",
    "\\label{eq:beta}\n",
    "\\beta\\equiv |a|\\sqrt{e^2-1}\n",
    "\\end{equation}"
   ]
  },
  {
   "cell_type": "markdown",
   "metadata": {},
   "source": [
    "¿Cuál es la interpretación geométrica de $\\beta$? Si despejamos $y_c$ de la Ec. ([ecuacion_centro_hiperbola](#mjx-eqn-eq%3Aecuacion_centro_hiperbola)) tenemos:\n",
    "\n",
    "$$\n",
    "y_c=\\pm\\beta\\sqrt{\\frac{x_c^2}{a^2}-1}\n",
    "$$\n",
    "donde los signos $\\pm$ corresponden a las \"ramas\" superior e inferior de la hipérbola.\n",
    "\n",
    "Aquí descubrimos una interesante propiedad de esta cónica: cuando $x_c\\rightarrow \\infty$, la hipérbola se aproxima a las recta: \n",
    "\n",
    "$$\n",
    "y_c\\rightarrow\\pm\\frac{\\beta}{|a|} x_c\n",
    "$$\n",
    "que llamamos *asíntotas*.  La pendiente de las asíntotas, $\\beta/|a|$ nos permite identificar a $\\beta$ como una cantidad que cuántifica el grado de *apertura* de la hipérbola respecto a su eje de simetría: a mayor $\\beta$ (mayor excentricidad), mayor es la pendiente de las asíntotas y más cerca esta la hipérbola de una línea recta paralela a la directriz."
   ]
  },
  {
   "cell_type": "markdown",
   "metadata": {},
   "source": [
    "Otra manera de cuantificar la pendiente de las asintotas es usar el ángulo $\\psi$:\n",
    "\n",
    "$$\n",
    "\\tan\\psi \\equiv \\frac{\\beta}{|a|}\n",
    "$$\n",
    "\n",
    "No es difícil mostrar (ver problemas al final del capítulo), a partir de la definición anterior, que:\n",
    "\n",
    "\\begin{equation}\n",
    "\\label{eq:cos_psi}\n",
    "\\cos\\psi = \\frac{1}{e}\n",
    "\\end{equation}"
   ]
  },
  {
   "cell_type": "markdown",
   "metadata": {},
   "source": [
    "Para poner en un contexto astronómico este resultado, podemos mencionar que en 2019 fue descubierto un cometa proveniente del espacio interestelar, hoy conocido como el 2I/Borisov, cuya trayectoria respecto al centro de masa del sistema solar es una hipérbola con $e=3.35$.  Usando la Ec. ([cos_psi](#mjx-eqn-eq%3Acos_psi)) podemos calcular que las asíntotas de su órbita se abren en un ángulo extremo de "
   ]
  },
  {
   "cell_type": "code",
   "execution_count": 60,
   "metadata": {
    "codelabel": "",
    "codeplot": 0
   },
   "outputs": [],
   "source": [
    "#Cometa interestelar 2I/Borisov\n",
    "e=3.35\n",
    "\n",
    "from numpy import arccos\n",
    "psi=arccos(1/e)"
   ]
  },
  {
   "cell_type": "code",
   "execution_count": 61,
   "metadata": {
    "codelabel": "",
    "codeplot": 0,
    "tags": [
     "hide_input"
    ]
   },
   "outputs": [
    {
     "name": "stdout",
     "output_type": "stream",
     "text": [
      "Psi = 72.63202008811639 grados\n"
     ]
    }
   ],
   "source": [
    "from numpy import pi\n",
    "print(f\"Psi = {psi*180/pi} grados\")"
   ]
  },
  {
   "cell_type": "markdown",
   "metadata": {},
   "source": [
    "Utilice el código interactivo que viene con las libretas en la [versión electrónica del libro](http://mybook.org) para visualizar la forma de la órbita del 2I/Borisov."
   ]
  },
  {
   "cell_type": "markdown",
   "metadata": {
    "tags": [
     "hide_html"
    ]
   },
   "source": [
    "#### 4.2.8.1. Hipérbola interactiva\n",
    "<a id='hiperbola_interactiva'></a>"
   ]
  },
  {
   "cell_type": "markdown",
   "metadata": {
    "tags": [
     "hide_html"
    ]
   },
   "source": [
    "De la misma manera que lo hicimos con la elipse, podemos construir una hipérbola interactiva, que nos permita visualizar sus propiedades geométricas.  Para ello primero debemos escribir la rutina que nos permite graficar la hipérbola:"
   ]
  },
  {
   "cell_type": "code",
   "execution_count": 62,
   "metadata": {
    "codelabel": "",
    "codeplot": 0,
    "tags": [
     "hide_html"
    ]
   },
   "outputs": [],
   "source": [
    "#Definimos el algoritmo como una rutina\n",
    "def hiperbola_centro(e=1.5):\n",
    "\n",
    "    #Semieje mayor\n",
    "    a=-10.0\n",
    "\n",
    "    #Forma\n",
    "    e=float(e)\n",
    "    \n",
    "    #Semieje menor\n",
    "    from numpy import sqrt\n",
    "    beta=abs(a)*sqrt(e**2-1)\n",
    "    \n",
    "    #Semilatus rectum\n",
    "    p=a*(1-e**2)\n",
    "    \n",
    "    #Posición del foco\n",
    "    q=p/(1+e)\n",
    "    F=abs(a)+q\n",
    "    \n",
    "    #Máximo valor de x\n",
    "    xcmax=3*abs(a)\n",
    "    \n",
    "    #Valores de x en los que graficaremos\n",
    "    from numpy import linspace\n",
    "    xcs=linspace(abs(a),xcmax,100)\n",
    "\n",
    "    #Ecuaciones de las cónicas referidas al apside\n",
    "    from numpy import append\n",
    "    ycs=beta*sqrt(xcs**2/a**2-1)\n",
    "\n",
    "    #Ecuación de las asintotas\n",
    "    xas=linspace(0,xcmax,100)\n",
    "    ycs_asi=beta*xas/abs(a)\n",
    "    \n",
    "    #Gráfica\n",
    "    import matplotlib.pyplot as plt\n",
    "    fig=plt.figure(figsize=(6,6))\n",
    "    ax=fig.gca()\n",
    "\n",
    "    ax.plot(xas,ycs_asi,'k--')\n",
    "    ax.plot(xas,-ycs_asi,'k--')\n",
    "    ax.plot(xcs,ycs,'r')\n",
    "    ax.plot(xcs,-ycs,'r')\n",
    "    \n",
    "    #Graficar la posición del foco y el vértice\n",
    "    ax.plot([F],[0],'bx',markersize=10)\n",
    "    ax.plot([0],[0],'ko',markersize=5)\n",
    "\n",
    "\n",
    "    #Decoración\n",
    "    ax.grid()\n",
    "    ax.set_title(f\"Hipérbola con $a = {a}$, $e={e}$\")\n",
    "    \n",
    "    #Fijamos la misma escala en los ejes\n",
    "    from pymcel.plot import fija_ejes_proporcionales\n",
    "    valores=(xcs,ycs_asi,-ycs_asi,ycs,-ycs),\n",
    "    fija_ejes_proporcionales(ax,valores,xmin=-xcmax,ycm=0);"
   ]
  },
  {
   "cell_type": "markdown",
   "metadata": {
    "tags": [
     "hide_html"
    ]
   },
   "source": [
    "La hipérbola interactiva sería:"
   ]
  },
  {
   "cell_type": "code",
   "execution_count": 63,
   "metadata": {
    "codelabel": "fig:04.02.02.00.Fundamentos.Conicas.Algebra_20",
    "codeplot": 1,
    "figcaption": "<b>Figura 4.20.</b> ",
    "tags": [
     "hide_html"
    ]
   },
   "outputs": [
    {
     "data": {
      "application/vnd.jupyter.widget-view+json": {
       "model_id": "9937296e688748a6a00e7e32612bfb21",
       "version_major": 2,
       "version_minor": 0
      },
      "text/plain": [
       "interactive(children=(FloatSlider(value=1.5, continuous_update=False, description='e', max=20.0, min=1.001, re…"
      ]
     },
     "metadata": {},
     "output_type": "display_data"
    }
   ],
   "source": [
    "# Widgets de Jupyter\n",
    "import matplotlib.pyplot as plt\n",
    "plt.close(\"all\")\n",
    "from ipywidgets import interact,fixed,widgets\n",
    "opciones=dict(continuous_update=False,readout_format=\".3f\")\n",
    "interact(hiperbola_centro,\n",
    "         e=widgets.FloatSlider(min=1.001,max=20.000,step=0.001,value=1.5,**opciones)\n",
    "        );"
   ]
  },
  {
   "cell_type": "markdown",
   "metadata": {},
   "source": [
    "<a id='fig:04.02.02.00.Fundamentos.Conicas.Algebra_20'></a><center><b>Figura 4.20.</b> </center>"
   ]
  },
  {
   "cell_type": "markdown",
   "metadata": {},
   "source": [
    "### 4.2.9. Rotación de las cónicas en el plano\n",
    "<a id='conicas_rotacion_plano'></a>"
   ]
  },
  {
   "cell_type": "markdown",
   "metadata": {},
   "source": [
    "Al comenzar la [Sección *Descripción algebraica de las cónicas*](Not Found#conicas_algebraica), habíamos mencionado dos posibles transformaciones que nos conducían a la forma algebraica más simple (la que obtuvimos en la [Sección *Ecuación respecto al centro*](#conicas_centro)) y a la más general.   La primera la obtuvimos simplemente aplicando una traslación de los ejes coordenados:\n",
    "\n",
    "$$\n",
    "\\begin{array}{rcl}\n",
    "x_c &=& x_a-c\\\\\n",
    "y_c &=& y_a\n",
    "\\end{array}\n",
    "$$\n",
    "\n",
    "Para obtener la forma más general, nos proponemos ahora realizar una rotación."
   ]
  },
  {
   "cell_type": "markdown",
   "metadata": {},
   "source": [
    "Si llamamos $x'$, $y'$, $z'$ a las coordenadas de un punto con respecto a los ejes rotados, puede demostrarse (ver problemas al final del capítulo) que estas se relacionan con las coordenadas del mismo punto en el sistema alineado con la cónica (eje $x$ en dirección del eje de simetría) a través de:\n",
    "\n",
    "\\begin{equation}\n",
    "\\label{eq:rotacion2d}\n",
    "\\begin{array}{rcl}\n",
    "x' & = & x \\cos\\theta + y \\sin\\theta \\\\\n",
    "y' & = & - x \\sin\\theta + y \\cos\\theta \\\\\n",
    "z' & = & z \\\\\n",
    "\\end{array}\n",
    "\\end{equation}\n",
    "donde $\\theta$ es el ángulo que forma el eje $x'$ con el eje $x$ (ver Figura ([rotacion](#fig:rotacion)).)"
   ]
  },
  {
   "cell_type": "markdown",
   "metadata": {},
   "source": [
    "Matricialmente estas relaciones se pueden escribir como:\n",
    "\n",
    "\\begin{equation}\n",
    "\\label{eq:rotacion2d_matricial}\n",
    "\\left(\n",
    "\\begin{array}{c}\n",
    "x' \\\\\n",
    "y' \\\\\n",
    "z'\n",
    "\\end{array}\n",
    "\\right)\n",
    "= R_z(\\theta)\n",
    "\\left(\n",
    "\\begin{array}{c}\n",
    "x \\\\\n",
    "y \\\\\n",
    "z\n",
    "\\end{array}\n",
    "\\right)\n",
    "\\end{equation}\n",
    "donde la matriz $R_z(\\theta)$ esta dada por:\n",
    "\n",
    "\\begin{equation}\n",
    "\\label{eq:matriz_rotacion2d}\n",
    "R_z(\\theta) =\n",
    "\\left(\n",
    "\\begin{array}{ccc}\n",
    "\\cos\\theta & \\sin\\theta & 0 \\\\\n",
    "-\\sin\\theta & \\cos\\theta & 0 \\\\\n",
    "0 & 0 & 1 \\\\\n",
    "\\end{array}\n",
    "\\right)\n",
    "\\end{equation}\n",
    "y el subíndice $z$ indica que la rotación se realiza alrededor de este eje."
   ]
  },
  {
   "cell_type": "markdown",
   "metadata": {},
   "source": [
    "La matriz de rotación $R_z(\\theta)$ es una matriz *unitaria* que tiene las siguientes propiedades:\n",
    "\n",
    "- Determinante, $\\det R_z=1$.\n",
    "- Inversa, $R_z^{-1}=R_z^T$\n",
    "\n",
    "Esta última propiedad implica que:\n",
    "\n",
    "\\begin{equation}\n",
    "\\label{eq:inversa_matriz_rotacion}\n",
    "R_z^{-1}(\\theta)=R_z(-\\theta)\n",
    "\\end{equation}\n",
    "que será muy conveniente para lo que viene."
   ]
  },
  {
   "cell_type": "markdown",
   "metadata": {},
   "source": [
    "Usando las propiedades de $R_z$ podemos encontrar la transformación inversa a la Ec. ([rotacion2d](#mjx-eqn-eq%3Arotacion2d)):\n",
    "\n",
    "\\begin{equation}\n",
    "\\label{eq:rotacion2d_inversa_matricial}\n",
    "\\left(\n",
    "\\begin{array}{c}\n",
    "x \\\\\n",
    "y \\\\\n",
    "z\n",
    "\\end{array}\n",
    "\\right)\n",
    "= R_z(-\\theta)\n",
    "\\left(\n",
    "\\begin{array}{c}\n",
    "x' \\\\\n",
    "y' \\\\\n",
    "z'\n",
    "\\end{array}\n",
    "\\right)\n",
    "\\end{equation}\n",
    "o explícitamente:\n",
    "\n",
    "\\begin{equation}\n",
    "\\label{eq:rotacion2d_inversa}\n",
    "\\begin{array}{rcl}\n",
    "x & = & x' \\cos\\theta - y' \\sin\\theta \\\\\n",
    "x & = & x' \\sin\\theta + y' \\cos\\theta \\\\\n",
    "z & = & z' \\\\\n",
    "\\end{array}\n",
    "\\end{equation}"
   ]
  },
  {
   "cell_type": "markdown",
   "metadata": {},
   "source": [
    "El sistema `SPICE` contiene una rutina útil para definir de manera sencilla una matriz de rotación dado un ángulo y un eje respecto al que se realiza la rotación:"
   ]
  },
  {
   "cell_type": "markdown",
   "metadata": {},
   "source": [
    "<a id='code:spice_rotate'></a>"
   ]
  },
  {
   "cell_type": "code",
   "execution_count": 64,
   "metadata": {
    "codelabel": "code:spice_rotate",
    "codeplot": 0,
    "tags": [
     "code:spice_rotate"
    ]
   },
   "outputs": [],
   "source": [
    "from spiceypy import rotate\n",
    "from numpy import pi\n",
    "Rz=rotate(pi/6,3)"
   ]
  },
  {
   "cell_type": "code",
   "execution_count": 65,
   "metadata": {
    "codelabel": "",
    "codeplot": 0,
    "tags": [
     "hide_input"
    ]
   },
   "outputs": [
    {
     "name": "stdout",
     "output_type": "stream",
     "text": [
      "Rz(30 grados) = \n",
      "[[ 0.8660254  0.5        0.       ]\n",
      " [-0.5        0.8660254  0.       ]\n",
      " [ 0.         0.         1.       ]]\n"
     ]
    }
   ],
   "source": [
    "print(f\"Rz(30 grados) = \\n{Rz}\")"
   ]
  },
  {
   "cell_type": "markdown",
   "metadata": {},
   "source": [
    "Que coincide con la definición dada por la Ec. ([matriz_rotacion2d](#mjx-eqn-eq%3Amatriz_rotacion2d))."
   ]
  },
  {
   "cell_type": "markdown",
   "metadata": {},
   "source": [
    "### 4.2.1. Ecuación general de las cónicas\n",
    "<a id='conicas_ecuacion_general'></a>"
   ]
  },
  {
   "cell_type": "markdown",
   "metadata": {},
   "source": [
    "Qué pasa entonces si, partiendo de la ecuación general respecto al apside (Ec. [ecuacion_apside_pe](#mjx-eqn-eq%3Aecuacion_apside_pe)) hacemos primero una traslación a un punto con coordenadas $(t_x,t_y)$:\n",
    "\n",
    "$$\n",
    "(y+t_y)^2-2p(x+t_x)-(e^2-1)(x+t_x)^2=0\n",
    "$$\n",
    "y una vez trasladados al nuevo origen, realizamos una rotación a unos nuevos ejes $(x',y')$ realizando para ello la transformación dada por las Ecs. ([rotacion2d_inversa](#mjx-eqn-eq%3Arotacion2d_inversa)):\n",
    "\n",
    "$$\n",
    "[(x'\\sin\\theta + y'\\cos\\theta)+t_y]^2-2p [(x'\\cos\\theta - y'\\sin\\theta)+t_x] -(e^2-1) [(x'\\cos\\theta - y'\\sin\\theta)+t_x]^2 = 0\n",
    "$$"
   ]
  },
  {
   "cell_type": "markdown",
   "metadata": {},
   "source": [
    "Expandiendo y recogiendo términos comunes, la ecuación general de una cónica trasladada y rotada será:\n",
    "\n",
    "\\begin{equation}\n",
    "\\label{eq:ecuacion_conica_trasladada_rotada}\n",
    "\\begin{array}{rcc}\n",
    "x'^2 (1- e^2 \\cos^2\\theta)+x'y'(e^2 \\sin2\\theta)+y'^2 (1- e^2 \\sin^2\\theta) & + & \\\\\n",
    "x' [2 t_y \\sin\\theta - 2 p \\cos\\theta + 2 t_x \\cos\\theta (1-e^2)] & + & \\\\ \n",
    "y' [2 t_y \\cos\\theta + 2 p \\sin\\theta - 2 t_x \\sin\\theta (1-e^2)] & + & \\\\\n",
    "t_x^2 (1- e^2) - 2 p t_x + t_y^2 & = & 0\n",
    "\\end{array}\n",
    "\\end{equation}\n",
    "que puede escribirse de forma general, como:\n",
    "    \n",
    "\\begin{equation}\n",
    "\\label{eq:ecuacion_general}\n",
    "\\displaystyle Ax'^2 + Bx'y' + Cy'^2 + Dx' + Ey' + F = 0\n",
    "\\end{equation}\n",
    "con:\n",
    "\n",
    "\\begin{equation}\n",
    "\\label{eq:ecuacion_general_coeficientes}\n",
    "\\begin{array}{rcl}\n",
    "A &=&  1 - e^2 \\cos^2\\theta\\\\\n",
    "B &=&  e^2 \\sin2\\theta\\\\\n",
    "C &=&  1 - e^2 \\sin^2\\theta\\\\\n",
    "D &=& 2 t_y \\sin\\theta - 2 p \\cos\\theta + 2 t_x \\cos\\theta (1-e^2)\\\\\n",
    "E &=& 2 t_y \\cos\\theta + 2 p \\sin\\theta - 2 t_x \\sin\\theta (1-e^2)\\\\\n",
    "F &=& t_x^2 (1- e^2) - 2 p t_x + t_y^2\n",
    "\\end{array}\n",
    "\\end{equation}"
   ]
  },
  {
   "cell_type": "markdown",
   "metadata": {},
   "source": [
    "Es decir, cualquier curva en el plano cuyos puntos obedezcan una ecuación cuadrática general de la forma Ec. ([ecuacion_general](#mjx-eqn-eq%3Aecuacion_general)) es una cónica con una orientación, tamaño, forma y posición de los apsides que dependerá de los coeficientes $A$, $B$, $C$, $D$, $E$ y $F$.  "
   ]
  },
  {
   "cell_type": "markdown",
   "metadata": {},
   "source": [
    "Dada la ecuación algebraica de una cónica, expresada en la forma cuadrática general (Ec. [ecuacion_general](#mjx-eqn-eq%3Aecuacion_general)), es posible, usando los coeficiende $A$, $B$ y $C$ determinar qué tipo de cónica y su orientación en el esepacio. \n",
    "\n",
    "Para ello es posible, combinando algunas de las Ecs. (\\ref{:ecuacion_general_coeficientes}), demostrar que:\n",
    "\n",
    "\\begin{equation}\n",
    "\\label{eq:eta_ecuacion_general}\n",
    "\\eta=1-(A+C)\n",
    "\\end{equation}\n",
    "y por otro lado:\n",
    "\n",
    "\\begin{equation}\n",
    "\\label{eq:teta_ecuacion_general}\n",
    "\\tan 2\\theta=\\frac{B}{C-A}\n",
    "\\end{equation}"
   ]
  },
  {
   "cell_type": "markdown",
   "metadata": {},
   "source": [
    "Si además se usan los valores de los coeficientes $D$ y $E$, es posible determinar la ordenada del vértice de la cónica:\n",
    "\n",
    "\\begin{equation}\n",
    "\\label{eq:ty_ecuacion_general}\n",
    "t_y=\\frac{D\\sin\\theta+E\\cos\\theta}{2}\n",
    "\\end{equation}\n",
    "\n",
    "Expresiones mucho más complejas pueden derivarse para $t_x$ y para $p$ en función de los coeficientes $D$, $E$ y $F$, que también dependen de ellos (ver problemas al final del capítulo.) Sin embargo, una vez el apside de la cónica ha sido localizada sobre el eje de las abcisas (realizando la traslación inversa $-t_y$) y ha sido rotada en un ángulo $\\theta$ dado por la Ec. ([teta_ecuacion_general](#mjx-eqn-eq%3Ateta_ecuacion_general)) para que su eje de simetría coincida con el eje $x$, las demás propiedades de la curva pueden obtenerse más fácilmente. "
   ]
  },
  {
   "cell_type": "markdown",
   "metadata": {},
   "source": [
    "### 4.2.11. Gráfico de una cónica rotada en el plano\n",
    "<a id='grafico_conica_rotada_plano'></a>"
   ]
  },
  {
   "cell_type": "markdown",
   "metadata": {},
   "source": [
    "Podemos poner en práctica algunos de los resultados de las secciones anteriores (siempre es importante hacerlo para garantizar que todo se ha entendido bien), construyendo numéricamente una cónica con la Ec. ([ecuacion_apside_pe](#mjx-eqn-eq%3Aecuacion_apside_pe)) y aplicando traslaciones y rotaciones a la misma para ver el efecto y escribir la ecuación general cuadrática (Ec. [ecuacion_general](#mjx-eqn-eq%3Aecuacion_general)) que la describe."
   ]
  },
  {
   "cell_type": "markdown",
   "metadata": {},
   "source": [
    "Comencemos, escogiendo las propiedades de nuestra cónica y determinando, el rango de valores de las coordenadas $x_a$ de los puntos sobre la cónica, en el sistema de coordenadas que tiene origen en el ápside:"
   ]
  },
  {
   "cell_type": "code",
   "execution_count": 66,
   "metadata": {
    "codelabel": "",
    "codeplot": 0
   },
   "outputs": [],
   "source": [
    "p=10.0\n",
    "e=0.8\n",
    "\n",
    "#Parametro eta\n",
    "eta=e**2-1\n",
    "\n",
    "#Conjunto de valores de x de la cónica\n",
    "from numpy import linspace\n",
    "if e==1:\n",
    "    a=p\n",
    "else:\n",
    "    a=p/(1-e**2)\n",
    "\n",
    "#Rango de valores de x\n",
    "xs=linspace(0,2*abs(a),100)"
   ]
  },
  {
   "cell_type": "markdown",
   "metadata": {},
   "source": [
    "Nótese que $a$ no esta definido en el caso de una parábola $e=1$ (para una elipse y una hipérbola $a=p/(1-e^2)$, ver Ec. [semiejemayor](#mjx-eqn-eq%3Asemiejemayor).)  Por esa razón en el algoritmo anterior hemos escogido definir $a\\equiv p$ cuando $e=1$, únicamente con el propósito de usar una sola expresión `xs=linspace(0,2*abs(a),100)` para calcular el rango de valores de las abcisas de la cónica. \n",
    "\n",
    "Si bien sabemos que en el caso de parábolas e hipérbolas, los valores de las abcisas son $x_a\\in [0,\\infty)$ (ver Figura ([conicas_apolonio](04.02.01.00.Fundamentos.Conicas.Geometria.ipynb#fig:conicas_apolonio))), para una elipse es claro que $x_a\\in [0,2a]$ (ver Figura ([elipse](#fig:elipse)).)"
   ]
  },
  {
   "cell_type": "markdown",
   "metadata": {},
   "source": [
    "Con los valores de $x$ podemos ahora usar la Ec. ([ecuacion_apside_pe](#mjx-eqn-eq%3Aecuacion_apside_pe)) para calcular los valores de la ordenada, tanto para la rama superior de la cónica (por encima del eje de simetría) como para la inferior:"
   ]
  },
  {
   "cell_type": "code",
   "execution_count": 67,
   "metadata": {
    "codelabel": "",
    "codeplot": 0
   },
   "outputs": [],
   "source": [
    "#Ecuación de la cónica\n",
    "from numpy import sqrt\n",
    "ys_sup=sqrt(2*p*xs+eta*xs**2)\n",
    "ys_inf=-sqrt(2*p*xs+eta*xs**2)"
   ]
  },
  {
   "cell_type": "markdown",
   "metadata": {},
   "source": [
    "Para los propósito de graficar la cónica, debemos duplicar los valores de la lista `xs`.  Sin embargo, y por razones que veremos abajo, lo haremos ordenando de forma especial las coordenadas de los puntos, comenzando primero con el punto más lejano al origen ($x=2a$ o `xs[-1],ys[-1]`), llegando hasta el origen mismo `xs[0],ys[0]` y de allí regresando de nuevo al punto más lejano.\n",
    "\n",
    "En Python esta \"compleja\" operación puede abreviarse usando la sintaxis genera para extraer tajadas de los arreglos:"
   ]
  },
  {
   "cell_type": "code",
   "execution_count": 68,
   "metadata": {
    "codelabel": "",
    "codeplot": 0
   },
   "outputs": [],
   "source": [
    "from numpy import append,zeros_like\n",
    "xs=append(xs[::-1],xs)\n",
    "ys=append(ys_sup[::-1],ys_inf)\n",
    "zs=zeros_like(xs)"
   ]
  },
  {
   "cell_type": "markdown",
   "metadata": {},
   "source": [
    "Un gráfico de los puntos de la cónica en el sistema de referencia del ápside srá:"
   ]
  },
  {
   "cell_type": "code",
   "execution_count": 69,
   "metadata": {
    "codelabel": "fig:04.02.02.00.Fundamentos.Conicas.Algebra_21",
    "codeplot": 1,
    "figcaption": "<b>Figura 4.21.</b> "
   },
   "outputs": [
    {
     "data": {
      "application/javascript": [
       "/* Put everything inside the global mpl namespace */\n",
       "window.mpl = {};\n",
       "\n",
       "\n",
       "mpl.get_websocket_type = function() {\n",
       "    if (typeof(WebSocket) !== 'undefined') {\n",
       "        return WebSocket;\n",
       "    } else if (typeof(MozWebSocket) !== 'undefined') {\n",
       "        return MozWebSocket;\n",
       "    } else {\n",
       "        alert('Your browser does not have WebSocket support. ' +\n",
       "              'Please try Chrome, Safari or Firefox ≥ 6. ' +\n",
       "              'Firefox 4 and 5 are also supported but you ' +\n",
       "              'have to enable WebSockets in about:config.');\n",
       "    };\n",
       "}\n",
       "\n",
       "mpl.figure = function(figure_id, websocket, ondownload, parent_element) {\n",
       "    this.id = figure_id;\n",
       "\n",
       "    this.ws = websocket;\n",
       "\n",
       "    this.supports_binary = (this.ws.binaryType != undefined);\n",
       "\n",
       "    if (!this.supports_binary) {\n",
       "        var warnings = document.getElementById(\"mpl-warnings\");\n",
       "        if (warnings) {\n",
       "            warnings.style.display = 'block';\n",
       "            warnings.textContent = (\n",
       "                \"This browser does not support binary websocket messages. \" +\n",
       "                    \"Performance may be slow.\");\n",
       "        }\n",
       "    }\n",
       "\n",
       "    this.imageObj = new Image();\n",
       "\n",
       "    this.context = undefined;\n",
       "    this.message = undefined;\n",
       "    this.canvas = undefined;\n",
       "    this.rubberband_canvas = undefined;\n",
       "    this.rubberband_context = undefined;\n",
       "    this.format_dropdown = undefined;\n",
       "\n",
       "    this.image_mode = 'full';\n",
       "\n",
       "    this.root = $('<div/>');\n",
       "    this._root_extra_style(this.root)\n",
       "    this.root.attr('style', 'display: inline-block');\n",
       "\n",
       "    $(parent_element).append(this.root);\n",
       "\n",
       "    this._init_header(this);\n",
       "    this._init_canvas(this);\n",
       "    this._init_toolbar(this);\n",
       "\n",
       "    var fig = this;\n",
       "\n",
       "    this.waiting = false;\n",
       "\n",
       "    this.ws.onopen =  function () {\n",
       "            fig.send_message(\"supports_binary\", {value: fig.supports_binary});\n",
       "            fig.send_message(\"send_image_mode\", {});\n",
       "            if (mpl.ratio != 1) {\n",
       "                fig.send_message(\"set_dpi_ratio\", {'dpi_ratio': mpl.ratio});\n",
       "            }\n",
       "            fig.send_message(\"refresh\", {});\n",
       "        }\n",
       "\n",
       "    this.imageObj.onload = function() {\n",
       "            if (fig.image_mode == 'full') {\n",
       "                // Full images could contain transparency (where diff images\n",
       "                // almost always do), so we need to clear the canvas so that\n",
       "                // there is no ghosting.\n",
       "                fig.context.clearRect(0, 0, fig.canvas.width, fig.canvas.height);\n",
       "            }\n",
       "            fig.context.drawImage(fig.imageObj, 0, 0);\n",
       "        };\n",
       "\n",
       "    this.imageObj.onunload = function() {\n",
       "        fig.ws.close();\n",
       "    }\n",
       "\n",
       "    this.ws.onmessage = this._make_on_message_function(this);\n",
       "\n",
       "    this.ondownload = ondownload;\n",
       "}\n",
       "\n",
       "mpl.figure.prototype._init_header = function() {\n",
       "    var titlebar = $(\n",
       "        '<div class=\"ui-dialog-titlebar ui-widget-header ui-corner-all ' +\n",
       "        'ui-helper-clearfix\"/>');\n",
       "    var titletext = $(\n",
       "        '<div class=\"ui-dialog-title\" style=\"width: 100%; ' +\n",
       "        'text-align: center; padding: 3px;\"/>');\n",
       "    titlebar.append(titletext)\n",
       "    this.root.append(titlebar);\n",
       "    this.header = titletext[0];\n",
       "}\n",
       "\n",
       "\n",
       "\n",
       "mpl.figure.prototype._canvas_extra_style = function(canvas_div) {\n",
       "\n",
       "}\n",
       "\n",
       "\n",
       "mpl.figure.prototype._root_extra_style = function(canvas_div) {\n",
       "\n",
       "}\n",
       "\n",
       "mpl.figure.prototype._init_canvas = function() {\n",
       "    var fig = this;\n",
       "\n",
       "    var canvas_div = $('<div/>');\n",
       "\n",
       "    canvas_div.attr('style', 'position: relative; clear: both; outline: 0');\n",
       "\n",
       "    function canvas_keyboard_event(event) {\n",
       "        return fig.key_event(event, event['data']);\n",
       "    }\n",
       "\n",
       "    canvas_div.keydown('key_press', canvas_keyboard_event);\n",
       "    canvas_div.keyup('key_release', canvas_keyboard_event);\n",
       "    this.canvas_div = canvas_div\n",
       "    this._canvas_extra_style(canvas_div)\n",
       "    this.root.append(canvas_div);\n",
       "\n",
       "    var canvas = $('<canvas/>');\n",
       "    canvas.addClass('mpl-canvas');\n",
       "    canvas.attr('style', \"left: 0; top: 0; z-index: 0; outline: 0\")\n",
       "\n",
       "    this.canvas = canvas[0];\n",
       "    this.context = canvas[0].getContext(\"2d\");\n",
       "\n",
       "    var backingStore = this.context.backingStorePixelRatio ||\n",
       "\tthis.context.webkitBackingStorePixelRatio ||\n",
       "\tthis.context.mozBackingStorePixelRatio ||\n",
       "\tthis.context.msBackingStorePixelRatio ||\n",
       "\tthis.context.oBackingStorePixelRatio ||\n",
       "\tthis.context.backingStorePixelRatio || 1;\n",
       "\n",
       "    mpl.ratio = (window.devicePixelRatio || 1) / backingStore;\n",
       "\n",
       "    var rubberband = $('<canvas/>');\n",
       "    rubberband.attr('style', \"position: absolute; left: 0; top: 0; z-index: 1;\")\n",
       "\n",
       "    var pass_mouse_events = true;\n",
       "\n",
       "    canvas_div.resizable({\n",
       "        start: function(event, ui) {\n",
       "            pass_mouse_events = false;\n",
       "        },\n",
       "        resize: function(event, ui) {\n",
       "            fig.request_resize(ui.size.width, ui.size.height);\n",
       "        },\n",
       "        stop: function(event, ui) {\n",
       "            pass_mouse_events = true;\n",
       "            fig.request_resize(ui.size.width, ui.size.height);\n",
       "        },\n",
       "    });\n",
       "\n",
       "    function mouse_event_fn(event) {\n",
       "        if (pass_mouse_events)\n",
       "            return fig.mouse_event(event, event['data']);\n",
       "    }\n",
       "\n",
       "    rubberband.mousedown('button_press', mouse_event_fn);\n",
       "    rubberband.mouseup('button_release', mouse_event_fn);\n",
       "    // Throttle sequential mouse events to 1 every 20ms.\n",
       "    rubberband.mousemove('motion_notify', mouse_event_fn);\n",
       "\n",
       "    rubberband.mouseenter('figure_enter', mouse_event_fn);\n",
       "    rubberband.mouseleave('figure_leave', mouse_event_fn);\n",
       "\n",
       "    canvas_div.on(\"wheel\", function (event) {\n",
       "        event = event.originalEvent;\n",
       "        event['data'] = 'scroll'\n",
       "        if (event.deltaY < 0) {\n",
       "            event.step = 1;\n",
       "        } else {\n",
       "            event.step = -1;\n",
       "        }\n",
       "        mouse_event_fn(event);\n",
       "    });\n",
       "\n",
       "    canvas_div.append(canvas);\n",
       "    canvas_div.append(rubberband);\n",
       "\n",
       "    this.rubberband = rubberband;\n",
       "    this.rubberband_canvas = rubberband[0];\n",
       "    this.rubberband_context = rubberband[0].getContext(\"2d\");\n",
       "    this.rubberband_context.strokeStyle = \"#000000\";\n",
       "\n",
       "    this._resize_canvas = function(width, height) {\n",
       "        // Keep the size of the canvas, canvas container, and rubber band\n",
       "        // canvas in synch.\n",
       "        canvas_div.css('width', width)\n",
       "        canvas_div.css('height', height)\n",
       "\n",
       "        canvas.attr('width', width * mpl.ratio);\n",
       "        canvas.attr('height', height * mpl.ratio);\n",
       "        canvas.attr('style', 'width: ' + width + 'px; height: ' + height + 'px;');\n",
       "\n",
       "        rubberband.attr('width', width);\n",
       "        rubberband.attr('height', height);\n",
       "    }\n",
       "\n",
       "    // Set the figure to an initial 600x600px, this will subsequently be updated\n",
       "    // upon first draw.\n",
       "    this._resize_canvas(600, 600);\n",
       "\n",
       "    // Disable right mouse context menu.\n",
       "    $(this.rubberband_canvas).bind(\"contextmenu\",function(e){\n",
       "        return false;\n",
       "    });\n",
       "\n",
       "    function set_focus () {\n",
       "        canvas.focus();\n",
       "        canvas_div.focus();\n",
       "    }\n",
       "\n",
       "    window.setTimeout(set_focus, 100);\n",
       "}\n",
       "\n",
       "mpl.figure.prototype._init_toolbar = function() {\n",
       "    var fig = this;\n",
       "\n",
       "    var nav_element = $('<div/>');\n",
       "    nav_element.attr('style', 'width: 100%');\n",
       "    this.root.append(nav_element);\n",
       "\n",
       "    // Define a callback function for later on.\n",
       "    function toolbar_event(event) {\n",
       "        return fig.toolbar_button_onclick(event['data']);\n",
       "    }\n",
       "    function toolbar_mouse_event(event) {\n",
       "        return fig.toolbar_button_onmouseover(event['data']);\n",
       "    }\n",
       "\n",
       "    for(var toolbar_ind in mpl.toolbar_items) {\n",
       "        var name = mpl.toolbar_items[toolbar_ind][0];\n",
       "        var tooltip = mpl.toolbar_items[toolbar_ind][1];\n",
       "        var image = mpl.toolbar_items[toolbar_ind][2];\n",
       "        var method_name = mpl.toolbar_items[toolbar_ind][3];\n",
       "\n",
       "        if (!name) {\n",
       "            // put a spacer in here.\n",
       "            continue;\n",
       "        }\n",
       "        var button = $('<button/>');\n",
       "        button.addClass('ui-button ui-widget ui-state-default ui-corner-all ' +\n",
       "                        'ui-button-icon-only');\n",
       "        button.attr('role', 'button');\n",
       "        button.attr('aria-disabled', 'false');\n",
       "        button.click(method_name, toolbar_event);\n",
       "        button.mouseover(tooltip, toolbar_mouse_event);\n",
       "\n",
       "        var icon_img = $('<span/>');\n",
       "        icon_img.addClass('ui-button-icon-primary ui-icon');\n",
       "        icon_img.addClass(image);\n",
       "        icon_img.addClass('ui-corner-all');\n",
       "\n",
       "        var tooltip_span = $('<span/>');\n",
       "        tooltip_span.addClass('ui-button-text');\n",
       "        tooltip_span.html(tooltip);\n",
       "\n",
       "        button.append(icon_img);\n",
       "        button.append(tooltip_span);\n",
       "\n",
       "        nav_element.append(button);\n",
       "    }\n",
       "\n",
       "    var fmt_picker_span = $('<span/>');\n",
       "\n",
       "    var fmt_picker = $('<select/>');\n",
       "    fmt_picker.addClass('mpl-toolbar-option ui-widget ui-widget-content');\n",
       "    fmt_picker_span.append(fmt_picker);\n",
       "    nav_element.append(fmt_picker_span);\n",
       "    this.format_dropdown = fmt_picker[0];\n",
       "\n",
       "    for (var ind in mpl.extensions) {\n",
       "        var fmt = mpl.extensions[ind];\n",
       "        var option = $(\n",
       "            '<option/>', {selected: fmt === mpl.default_extension}).html(fmt);\n",
       "        fmt_picker.append(option);\n",
       "    }\n",
       "\n",
       "    // Add hover states to the ui-buttons\n",
       "    $( \".ui-button\" ).hover(\n",
       "        function() { $(this).addClass(\"ui-state-hover\");},\n",
       "        function() { $(this).removeClass(\"ui-state-hover\");}\n",
       "    );\n",
       "\n",
       "    var status_bar = $('<span class=\"mpl-message\"/>');\n",
       "    nav_element.append(status_bar);\n",
       "    this.message = status_bar[0];\n",
       "}\n",
       "\n",
       "mpl.figure.prototype.request_resize = function(x_pixels, y_pixels) {\n",
       "    // Request matplotlib to resize the figure. Matplotlib will then trigger a resize in the client,\n",
       "    // which will in turn request a refresh of the image.\n",
       "    this.send_message('resize', {'width': x_pixels, 'height': y_pixels});\n",
       "}\n",
       "\n",
       "mpl.figure.prototype.send_message = function(type, properties) {\n",
       "    properties['type'] = type;\n",
       "    properties['figure_id'] = this.id;\n",
       "    this.ws.send(JSON.stringify(properties));\n",
       "}\n",
       "\n",
       "mpl.figure.prototype.send_draw_message = function() {\n",
       "    if (!this.waiting) {\n",
       "        this.waiting = true;\n",
       "        this.ws.send(JSON.stringify({type: \"draw\", figure_id: this.id}));\n",
       "    }\n",
       "}\n",
       "\n",
       "\n",
       "mpl.figure.prototype.handle_save = function(fig, msg) {\n",
       "    var format_dropdown = fig.format_dropdown;\n",
       "    var format = format_dropdown.options[format_dropdown.selectedIndex].value;\n",
       "    fig.ondownload(fig, format);\n",
       "}\n",
       "\n",
       "\n",
       "mpl.figure.prototype.handle_resize = function(fig, msg) {\n",
       "    var size = msg['size'];\n",
       "    if (size[0] != fig.canvas.width || size[1] != fig.canvas.height) {\n",
       "        fig._resize_canvas(size[0], size[1]);\n",
       "        fig.send_message(\"refresh\", {});\n",
       "    };\n",
       "}\n",
       "\n",
       "mpl.figure.prototype.handle_rubberband = function(fig, msg) {\n",
       "    var x0 = msg['x0'] / mpl.ratio;\n",
       "    var y0 = (fig.canvas.height - msg['y0']) / mpl.ratio;\n",
       "    var x1 = msg['x1'] / mpl.ratio;\n",
       "    var y1 = (fig.canvas.height - msg['y1']) / mpl.ratio;\n",
       "    x0 = Math.floor(x0) + 0.5;\n",
       "    y0 = Math.floor(y0) + 0.5;\n",
       "    x1 = Math.floor(x1) + 0.5;\n",
       "    y1 = Math.floor(y1) + 0.5;\n",
       "    var min_x = Math.min(x0, x1);\n",
       "    var min_y = Math.min(y0, y1);\n",
       "    var width = Math.abs(x1 - x0);\n",
       "    var height = Math.abs(y1 - y0);\n",
       "\n",
       "    fig.rubberband_context.clearRect(\n",
       "        0, 0, fig.canvas.width / mpl.ratio, fig.canvas.height / mpl.ratio);\n",
       "\n",
       "    fig.rubberband_context.strokeRect(min_x, min_y, width, height);\n",
       "}\n",
       "\n",
       "mpl.figure.prototype.handle_figure_label = function(fig, msg) {\n",
       "    // Updates the figure title.\n",
       "    fig.header.textContent = msg['label'];\n",
       "}\n",
       "\n",
       "mpl.figure.prototype.handle_cursor = function(fig, msg) {\n",
       "    var cursor = msg['cursor'];\n",
       "    switch(cursor)\n",
       "    {\n",
       "    case 0:\n",
       "        cursor = 'pointer';\n",
       "        break;\n",
       "    case 1:\n",
       "        cursor = 'default';\n",
       "        break;\n",
       "    case 2:\n",
       "        cursor = 'crosshair';\n",
       "        break;\n",
       "    case 3:\n",
       "        cursor = 'move';\n",
       "        break;\n",
       "    }\n",
       "    fig.rubberband_canvas.style.cursor = cursor;\n",
       "}\n",
       "\n",
       "mpl.figure.prototype.handle_message = function(fig, msg) {\n",
       "    fig.message.textContent = msg['message'];\n",
       "}\n",
       "\n",
       "mpl.figure.prototype.handle_draw = function(fig, msg) {\n",
       "    // Request the server to send over a new figure.\n",
       "    fig.send_draw_message();\n",
       "}\n",
       "\n",
       "mpl.figure.prototype.handle_image_mode = function(fig, msg) {\n",
       "    fig.image_mode = msg['mode'];\n",
       "}\n",
       "\n",
       "mpl.figure.prototype.updated_canvas_event = function() {\n",
       "    // Called whenever the canvas gets updated.\n",
       "    this.send_message(\"ack\", {});\n",
       "}\n",
       "\n",
       "// A function to construct a web socket function for onmessage handling.\n",
       "// Called in the figure constructor.\n",
       "mpl.figure.prototype._make_on_message_function = function(fig) {\n",
       "    return function socket_on_message(evt) {\n",
       "        if (evt.data instanceof Blob) {\n",
       "            /* FIXME: We get \"Resource interpreted as Image but\n",
       "             * transferred with MIME type text/plain:\" errors on\n",
       "             * Chrome.  But how to set the MIME type?  It doesn't seem\n",
       "             * to be part of the websocket stream */\n",
       "            evt.data.type = \"image/png\";\n",
       "\n",
       "            /* Free the memory for the previous frames */\n",
       "            if (fig.imageObj.src) {\n",
       "                (window.URL || window.webkitURL).revokeObjectURL(\n",
       "                    fig.imageObj.src);\n",
       "            }\n",
       "\n",
       "            fig.imageObj.src = (window.URL || window.webkitURL).createObjectURL(\n",
       "                evt.data);\n",
       "            fig.updated_canvas_event();\n",
       "            fig.waiting = false;\n",
       "            return;\n",
       "        }\n",
       "        else if (typeof evt.data === 'string' && evt.data.slice(0, 21) == \"data:image/png;base64\") {\n",
       "            fig.imageObj.src = evt.data;\n",
       "            fig.updated_canvas_event();\n",
       "            fig.waiting = false;\n",
       "            return;\n",
       "        }\n",
       "\n",
       "        var msg = JSON.parse(evt.data);\n",
       "        var msg_type = msg['type'];\n",
       "\n",
       "        // Call the  \"handle_{type}\" callback, which takes\n",
       "        // the figure and JSON message as its only arguments.\n",
       "        try {\n",
       "            var callback = fig[\"handle_\" + msg_type];\n",
       "        } catch (e) {\n",
       "            console.log(\"No handler for the '\" + msg_type + \"' message type: \", msg);\n",
       "            return;\n",
       "        }\n",
       "\n",
       "        if (callback) {\n",
       "            try {\n",
       "                // console.log(\"Handling '\" + msg_type + \"' message: \", msg);\n",
       "                callback(fig, msg);\n",
       "            } catch (e) {\n",
       "                console.log(\"Exception inside the 'handler_\" + msg_type + \"' callback:\", e, e.stack, msg);\n",
       "            }\n",
       "        }\n",
       "    };\n",
       "}\n",
       "\n",
       "// from http://stackoverflow.com/questions/1114465/getting-mouse-location-in-canvas\n",
       "mpl.findpos = function(e) {\n",
       "    //this section is from http://www.quirksmode.org/js/events_properties.html\n",
       "    var targ;\n",
       "    if (!e)\n",
       "        e = window.event;\n",
       "    if (e.target)\n",
       "        targ = e.target;\n",
       "    else if (e.srcElement)\n",
       "        targ = e.srcElement;\n",
       "    if (targ.nodeType == 3) // defeat Safari bug\n",
       "        targ = targ.parentNode;\n",
       "\n",
       "    // jQuery normalizes the pageX and pageY\n",
       "    // pageX,Y are the mouse positions relative to the document\n",
       "    // offset() returns the position of the element relative to the document\n",
       "    var x = e.pageX - $(targ).offset().left;\n",
       "    var y = e.pageY - $(targ).offset().top;\n",
       "\n",
       "    return {\"x\": x, \"y\": y};\n",
       "};\n",
       "\n",
       "/*\n",
       " * return a copy of an object with only non-object keys\n",
       " * we need this to avoid circular references\n",
       " * http://stackoverflow.com/a/24161582/3208463\n",
       " */\n",
       "function simpleKeys (original) {\n",
       "  return Object.keys(original).reduce(function (obj, key) {\n",
       "    if (typeof original[key] !== 'object')\n",
       "        obj[key] = original[key]\n",
       "    return obj;\n",
       "  }, {});\n",
       "}\n",
       "\n",
       "mpl.figure.prototype.mouse_event = function(event, name) {\n",
       "    var canvas_pos = mpl.findpos(event)\n",
       "\n",
       "    if (name === 'button_press')\n",
       "    {\n",
       "        this.canvas.focus();\n",
       "        this.canvas_div.focus();\n",
       "    }\n",
       "\n",
       "    var x = canvas_pos.x * mpl.ratio;\n",
       "    var y = canvas_pos.y * mpl.ratio;\n",
       "\n",
       "    this.send_message(name, {x: x, y: y, button: event.button,\n",
       "                             step: event.step,\n",
       "                             guiEvent: simpleKeys(event)});\n",
       "\n",
       "    /* This prevents the web browser from automatically changing to\n",
       "     * the text insertion cursor when the button is pressed.  We want\n",
       "     * to control all of the cursor setting manually through the\n",
       "     * 'cursor' event from matplotlib */\n",
       "    event.preventDefault();\n",
       "    return false;\n",
       "}\n",
       "\n",
       "mpl.figure.prototype._key_event_extra = function(event, name) {\n",
       "    // Handle any extra behaviour associated with a key event\n",
       "}\n",
       "\n",
       "mpl.figure.prototype.key_event = function(event, name) {\n",
       "\n",
       "    // Prevent repeat events\n",
       "    if (name == 'key_press')\n",
       "    {\n",
       "        if (event.which === this._key)\n",
       "            return;\n",
       "        else\n",
       "            this._key = event.which;\n",
       "    }\n",
       "    if (name == 'key_release')\n",
       "        this._key = null;\n",
       "\n",
       "    var value = '';\n",
       "    if (event.ctrlKey && event.which != 17)\n",
       "        value += \"ctrl+\";\n",
       "    if (event.altKey && event.which != 18)\n",
       "        value += \"alt+\";\n",
       "    if (event.shiftKey && event.which != 16)\n",
       "        value += \"shift+\";\n",
       "\n",
       "    value += 'k';\n",
       "    value += event.which.toString();\n",
       "\n",
       "    this._key_event_extra(event, name);\n",
       "\n",
       "    this.send_message(name, {key: value,\n",
       "                             guiEvent: simpleKeys(event)});\n",
       "    return false;\n",
       "}\n",
       "\n",
       "mpl.figure.prototype.toolbar_button_onclick = function(name) {\n",
       "    if (name == 'download') {\n",
       "        this.handle_save(this, null);\n",
       "    } else {\n",
       "        this.send_message(\"toolbar_button\", {name: name});\n",
       "    }\n",
       "};\n",
       "\n",
       "mpl.figure.prototype.toolbar_button_onmouseover = function(tooltip) {\n",
       "    this.message.textContent = tooltip;\n",
       "};\n",
       "mpl.toolbar_items = [[\"Home\", \"Reset original view\", \"fa fa-home icon-home\", \"home\"], [\"Back\", \"Back to previous view\", \"fa fa-arrow-left icon-arrow-left\", \"back\"], [\"Forward\", \"Forward to next view\", \"fa fa-arrow-right icon-arrow-right\", \"forward\"], [\"\", \"\", \"\", \"\"], [\"Pan\", \"Pan axes with left mouse, zoom with right\", \"fa fa-arrows icon-move\", \"pan\"], [\"Zoom\", \"Zoom to rectangle\", \"fa fa-square-o icon-check-empty\", \"zoom\"], [\"\", \"\", \"\", \"\"], [\"Download\", \"Download plot\", \"fa fa-floppy-o icon-save\", \"download\"]];\n",
       "\n",
       "mpl.extensions = [\"eps\", \"jpeg\", \"pdf\", \"png\", \"ps\", \"raw\", \"svg\", \"tif\"];\n",
       "\n",
       "mpl.default_extension = \"png\";var comm_websocket_adapter = function(comm) {\n",
       "    // Create a \"websocket\"-like object which calls the given IPython comm\n",
       "    // object with the appropriate methods. Currently this is a non binary\n",
       "    // socket, so there is still some room for performance tuning.\n",
       "    var ws = {};\n",
       "\n",
       "    ws.close = function() {\n",
       "        comm.close()\n",
       "    };\n",
       "    ws.send = function(m) {\n",
       "        //console.log('sending', m);\n",
       "        comm.send(m);\n",
       "    };\n",
       "    // Register the callback with on_msg.\n",
       "    comm.on_msg(function(msg) {\n",
       "        //console.log('receiving', msg['content']['data'], msg);\n",
       "        // Pass the mpl event to the overridden (by mpl) onmessage function.\n",
       "        ws.onmessage(msg['content']['data'])\n",
       "    });\n",
       "    return ws;\n",
       "}\n",
       "\n",
       "mpl.mpl_figure_comm = function(comm, msg) {\n",
       "    // This is the function which gets called when the mpl process\n",
       "    // starts-up an IPython Comm through the \"matplotlib\" channel.\n",
       "\n",
       "    var id = msg.content.data.id;\n",
       "    // Get hold of the div created by the display call when the Comm\n",
       "    // socket was opened in Python.\n",
       "    var element = $(\"#\" + id);\n",
       "    var ws_proxy = comm_websocket_adapter(comm)\n",
       "\n",
       "    function ondownload(figure, format) {\n",
       "        window.open(figure.imageObj.src);\n",
       "    }\n",
       "\n",
       "    var fig = new mpl.figure(id, ws_proxy,\n",
       "                           ondownload,\n",
       "                           element.get(0));\n",
       "\n",
       "    // Call onopen now - mpl needs it, as it is assuming we've passed it a real\n",
       "    // web socket which is closed, not our websocket->open comm proxy.\n",
       "    ws_proxy.onopen();\n",
       "\n",
       "    fig.parent_element = element.get(0);\n",
       "    fig.cell_info = mpl.find_output_cell(\"<div id='\" + id + \"'></div>\");\n",
       "    if (!fig.cell_info) {\n",
       "        console.error(\"Failed to find cell for figure\", id, fig);\n",
       "        return;\n",
       "    }\n",
       "\n",
       "    var output_index = fig.cell_info[2]\n",
       "    var cell = fig.cell_info[0];\n",
       "\n",
       "};\n",
       "\n",
       "mpl.figure.prototype.handle_close = function(fig, msg) {\n",
       "    var width = fig.canvas.width/mpl.ratio\n",
       "    fig.root.unbind('remove')\n",
       "\n",
       "    // Update the output cell to use the data from the current canvas.\n",
       "    fig.push_to_output();\n",
       "    var dataURL = fig.canvas.toDataURL();\n",
       "    // Re-enable the keyboard manager in IPython - without this line, in FF,\n",
       "    // the notebook keyboard shortcuts fail.\n",
       "    IPython.keyboard_manager.enable()\n",
       "    $(fig.parent_element).html('<img src=\"' + dataURL + '\" width=\"' + width + '\">');\n",
       "    fig.close_ws(fig, msg);\n",
       "}\n",
       "\n",
       "mpl.figure.prototype.close_ws = function(fig, msg){\n",
       "    fig.send_message('closing', msg);\n",
       "    // fig.ws.close()\n",
       "}\n",
       "\n",
       "mpl.figure.prototype.push_to_output = function(remove_interactive) {\n",
       "    // Turn the data on the canvas into data in the output cell.\n",
       "    var width = this.canvas.width/mpl.ratio\n",
       "    var dataURL = this.canvas.toDataURL();\n",
       "    this.cell_info[1]['text/html'] = '<img src=\"' + dataURL + '\" width=\"' + width + '\">';\n",
       "}\n",
       "\n",
       "mpl.figure.prototype.updated_canvas_event = function() {\n",
       "    // Tell IPython that the notebook contents must change.\n",
       "    IPython.notebook.set_dirty(true);\n",
       "    this.send_message(\"ack\", {});\n",
       "    var fig = this;\n",
       "    // Wait a second, then push the new image to the DOM so\n",
       "    // that it is saved nicely (might be nice to debounce this).\n",
       "    setTimeout(function () { fig.push_to_output() }, 1000);\n",
       "}\n",
       "\n",
       "mpl.figure.prototype._init_toolbar = function() {\n",
       "    var fig = this;\n",
       "\n",
       "    var nav_element = $('<div/>');\n",
       "    nav_element.attr('style', 'width: 100%');\n",
       "    this.root.append(nav_element);\n",
       "\n",
       "    // Define a callback function for later on.\n",
       "    function toolbar_event(event) {\n",
       "        return fig.toolbar_button_onclick(event['data']);\n",
       "    }\n",
       "    function toolbar_mouse_event(event) {\n",
       "        return fig.toolbar_button_onmouseover(event['data']);\n",
       "    }\n",
       "\n",
       "    for(var toolbar_ind in mpl.toolbar_items){\n",
       "        var name = mpl.toolbar_items[toolbar_ind][0];\n",
       "        var tooltip = mpl.toolbar_items[toolbar_ind][1];\n",
       "        var image = mpl.toolbar_items[toolbar_ind][2];\n",
       "        var method_name = mpl.toolbar_items[toolbar_ind][3];\n",
       "\n",
       "        if (!name) { continue; };\n",
       "\n",
       "        var button = $('<button class=\"btn btn-default\" href=\"#\" title=\"' + name + '\"><i class=\"fa ' + image + ' fa-lg\"></i></button>');\n",
       "        button.click(method_name, toolbar_event);\n",
       "        button.mouseover(tooltip, toolbar_mouse_event);\n",
       "        nav_element.append(button);\n",
       "    }\n",
       "\n",
       "    // Add the status bar.\n",
       "    var status_bar = $('<span class=\"mpl-message\" style=\"text-align:right; float: right;\"/>');\n",
       "    nav_element.append(status_bar);\n",
       "    this.message = status_bar[0];\n",
       "\n",
       "    // Add the close button to the window.\n",
       "    var buttongrp = $('<div class=\"btn-group inline pull-right\"></div>');\n",
       "    var button = $('<button class=\"btn btn-mini btn-primary\" href=\"#\" title=\"Stop Interaction\"><i class=\"fa fa-power-off icon-remove icon-large\"></i></button>');\n",
       "    button.click(function (evt) { fig.handle_close(fig, {}); } );\n",
       "    button.mouseover('Stop Interaction', toolbar_mouse_event);\n",
       "    buttongrp.append(button);\n",
       "    var titlebar = this.root.find($('.ui-dialog-titlebar'));\n",
       "    titlebar.prepend(buttongrp);\n",
       "}\n",
       "\n",
       "mpl.figure.prototype._root_extra_style = function(el){\n",
       "    var fig = this\n",
       "    el.on(\"remove\", function(){\n",
       "\tfig.close_ws(fig, {});\n",
       "    });\n",
       "}\n",
       "\n",
       "mpl.figure.prototype._canvas_extra_style = function(el){\n",
       "    // this is important to make the div 'focusable\n",
       "    el.attr('tabindex', 0)\n",
       "    // reach out to IPython and tell the keyboard manager to turn it's self\n",
       "    // off when our div gets focus\n",
       "\n",
       "    // location in version 3\n",
       "    if (IPython.notebook.keyboard_manager) {\n",
       "        IPython.notebook.keyboard_manager.register_events(el);\n",
       "    }\n",
       "    else {\n",
       "        // location in version 2\n",
       "        IPython.keyboard_manager.register_events(el);\n",
       "    }\n",
       "\n",
       "}\n",
       "\n",
       "mpl.figure.prototype._key_event_extra = function(event, name) {\n",
       "    var manager = IPython.notebook.keyboard_manager;\n",
       "    if (!manager)\n",
       "        manager = IPython.keyboard_manager;\n",
       "\n",
       "    // Check for shift+enter\n",
       "    if (event.shiftKey && event.which == 13) {\n",
       "        this.canvas_div.blur();\n",
       "        event.shiftKey = false;\n",
       "        // Send a \"J\" for go to next cell\n",
       "        event.which = 74;\n",
       "        event.keyCode = 74;\n",
       "        manager.command_mode();\n",
       "        manager.handle_keydown(event);\n",
       "    }\n",
       "}\n",
       "\n",
       "mpl.figure.prototype.handle_save = function(fig, msg) {\n",
       "    fig.ondownload(fig, null);\n",
       "}\n",
       "\n",
       "\n",
       "mpl.find_output_cell = function(html_output) {\n",
       "    // Return the cell and output element which can be found *uniquely* in the notebook.\n",
       "    // Note - this is a bit hacky, but it is done because the \"notebook_saving.Notebook\"\n",
       "    // IPython event is triggered only after the cells have been serialised, which for\n",
       "    // our purposes (turning an active figure into a static one), is too late.\n",
       "    var cells = IPython.notebook.get_cells();\n",
       "    var ncells = cells.length;\n",
       "    for (var i=0; i<ncells; i++) {\n",
       "        var cell = cells[i];\n",
       "        if (cell.cell_type === 'code'){\n",
       "            for (var j=0; j<cell.output_area.outputs.length; j++) {\n",
       "                var data = cell.output_area.outputs[j];\n",
       "                if (data.data) {\n",
       "                    // IPython >= 3 moved mimebundle to data attribute of output\n",
       "                    data = data.data;\n",
       "                }\n",
       "                if (data['text/html'] == html_output) {\n",
       "                    return [cell, data, j];\n",
       "                }\n",
       "            }\n",
       "        }\n",
       "    }\n",
       "}\n",
       "\n",
       "// Register the function which deals with the matplotlib target/channel.\n",
       "// The kernel may be null if the page has been refreshed.\n",
       "if (IPython.notebook.kernel != null) {\n",
       "    IPython.notebook.kernel.comm_manager.register_target('matplotlib', mpl.mpl_figure_comm);\n",
       "}\n"
      ],
      "text/plain": [
       "<IPython.core.display.Javascript object>"
      ]
     },
     "metadata": {},
     "output_type": "display_data"
    },
    {
     "data": {
      "text/html": [
       "<img src=\"data:image/png;base64,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\" width=\"640\">"
      ],
      "text/plain": [
       "<IPython.core.display.HTML object>"
      ]
     },
     "metadata": {},
     "output_type": "display_data"
    }
   ],
   "source": [
    "import matplotlib.pyplot as plt\n",
    "fig=plt.figure()\n",
    "ax=fig.gca()\n",
    "\n",
    "ax.plot(xs,ys,'b-')\n",
    "\n",
    "from pymcel.plot import fija_ejes_proporcionales\n",
    "valores=(xs,ys)\n",
    "fija_ejes_proporcionales(ax,valores,xmin=0,ycm=0);\n",
    "ax.grid()"
   ]
  },
  {
   "cell_type": "markdown",
   "metadata": {},
   "source": [
    "<a id='fig:04.02.02.00.Fundamentos.Conicas.Algebra_21'></a><center><b>Figura 4.21.</b> </center>"
   ]
  },
  {
   "cell_type": "markdown",
   "metadata": {},
   "source": [
    "Ahora podemos trasladar la cónica:"
   ]
  },
  {
   "cell_type": "code",
   "execution_count": 70,
   "metadata": {
    "codelabel": "",
    "codeplot": 0
   },
   "outputs": [],
   "source": [
    "#Parámetros de la traslación\n",
    "tx=15.0\n",
    "ty=-10.0\n",
    "\n",
    "#Coordenadas trasladadas\n",
    "xs=xs-tx\n",
    "ys=ys-ty"
   ]
  },
  {
   "cell_type": "markdown",
   "metadata": {},
   "source": [
    "Construimos la matriz de rotación usando las rutinas de `SPICE` (ver Alg. [spice_rotate](#code:spice_rotate)):"
   ]
  },
  {
   "cell_type": "code",
   "execution_count": 71,
   "metadata": {
    "codelabel": "",
    "codeplot": 0
   },
   "outputs": [],
   "source": [
    "from spiceypy import rotate\n",
    "from numpy import pi\n",
    "teta=pi/6\n",
    "Rz=rotate(teta,3)"
   ]
  },
  {
   "cell_type": "markdown",
   "metadata": {},
   "source": [
    "La rotación de los puntos de la cónica contenidos en las listas `xs`, `ys` usando la Ec. ([rotacion2d_matricial](#mjx-eqn-eq%3Arotacion2d_matricial)), no es tan trivial en `Python`.  Para ello definiremos una rutina general que usaremos más adelante en el libro:"
   ]
  },
  {
   "cell_type": "markdown",
   "metadata": {},
   "source": [
    "<a id='code:rota_puntos'></a>"
   ]
  },
  {
   "cell_type": "code",
   "execution_count": 72,
   "metadata": {
    "codelabel": "",
    "codeplot": 0,
    "tags": [
     "export",
     "code:rota_puntos"
    ]
   },
   "outputs": [],
   "source": [
    "def rota_puntos(R,x,y,z):\n",
    "    from spiceypy import mxv\n",
    "    from numpy import zeros_like\n",
    "    N=len(x)\n",
    "    xp=zeros_like(x)\n",
    "    yp=zeros_like(y)\n",
    "    zp=zeros_like(z)\n",
    "    for i in range(N):\n",
    "        xp[i],yp[i],zp[i]=mxv(R,[x[i],y[i],z[i]])\n",
    "    return xp,yp,zp"
   ]
  },
  {
   "cell_type": "markdown",
   "metadata": {},
   "source": [
    "Los puntos rotados de la cónica serán:"
   ]
  },
  {
   "cell_type": "code",
   "execution_count": 73,
   "metadata": {
    "codelabel": "",
    "codeplot": 0
   },
   "outputs": [],
   "source": [
    "xps,yps,zps=rota_puntos(Rz,xs,ys,zs)"
   ]
  },
  {
   "cell_type": "markdown",
   "metadata": {},
   "source": [
    "Y una gráfica de los puntos rotados:"
   ]
  },
  {
   "cell_type": "code",
   "execution_count": 77,
   "metadata": {
    "codelabel": "fig:04.02.02.00.Fundamentos.Conicas.Algebra_22",
    "codeplot": 1,
    "figcaption": "<b>Figura 4.22.</b> "
   },
   "outputs": [
    {
     "data": {
      "application/javascript": [
       "/* Put everything inside the global mpl namespace */\n",
       "window.mpl = {};\n",
       "\n",
       "\n",
       "mpl.get_websocket_type = function() {\n",
       "    if (typeof(WebSocket) !== 'undefined') {\n",
       "        return WebSocket;\n",
       "    } else if (typeof(MozWebSocket) !== 'undefined') {\n",
       "        return MozWebSocket;\n",
       "    } else {\n",
       "        alert('Your browser does not have WebSocket support. ' +\n",
       "              'Please try Chrome, Safari or Firefox ≥ 6. ' +\n",
       "              'Firefox 4 and 5 are also supported but you ' +\n",
       "              'have to enable WebSockets in about:config.');\n",
       "    };\n",
       "}\n",
       "\n",
       "mpl.figure = function(figure_id, websocket, ondownload, parent_element) {\n",
       "    this.id = figure_id;\n",
       "\n",
       "    this.ws = websocket;\n",
       "\n",
       "    this.supports_binary = (this.ws.binaryType != undefined);\n",
       "\n",
       "    if (!this.supports_binary) {\n",
       "        var warnings = document.getElementById(\"mpl-warnings\");\n",
       "        if (warnings) {\n",
       "            warnings.style.display = 'block';\n",
       "            warnings.textContent = (\n",
       "                \"This browser does not support binary websocket messages. \" +\n",
       "                    \"Performance may be slow.\");\n",
       "        }\n",
       "    }\n",
       "\n",
       "    this.imageObj = new Image();\n",
       "\n",
       "    this.context = undefined;\n",
       "    this.message = undefined;\n",
       "    this.canvas = undefined;\n",
       "    this.rubberband_canvas = undefined;\n",
       "    this.rubberband_context = undefined;\n",
       "    this.format_dropdown = undefined;\n",
       "\n",
       "    this.image_mode = 'full';\n",
       "\n",
       "    this.root = $('<div/>');\n",
       "    this._root_extra_style(this.root)\n",
       "    this.root.attr('style', 'display: inline-block');\n",
       "\n",
       "    $(parent_element).append(this.root);\n",
       "\n",
       "    this._init_header(this);\n",
       "    this._init_canvas(this);\n",
       "    this._init_toolbar(this);\n",
       "\n",
       "    var fig = this;\n",
       "\n",
       "    this.waiting = false;\n",
       "\n",
       "    this.ws.onopen =  function () {\n",
       "            fig.send_message(\"supports_binary\", {value: fig.supports_binary});\n",
       "            fig.send_message(\"send_image_mode\", {});\n",
       "            if (mpl.ratio != 1) {\n",
       "                fig.send_message(\"set_dpi_ratio\", {'dpi_ratio': mpl.ratio});\n",
       "            }\n",
       "            fig.send_message(\"refresh\", {});\n",
       "        }\n",
       "\n",
       "    this.imageObj.onload = function() {\n",
       "            if (fig.image_mode == 'full') {\n",
       "                // Full images could contain transparency (where diff images\n",
       "                // almost always do), so we need to clear the canvas so that\n",
       "                // there is no ghosting.\n",
       "                fig.context.clearRect(0, 0, fig.canvas.width, fig.canvas.height);\n",
       "            }\n",
       "            fig.context.drawImage(fig.imageObj, 0, 0);\n",
       "        };\n",
       "\n",
       "    this.imageObj.onunload = function() {\n",
       "        fig.ws.close();\n",
       "    }\n",
       "\n",
       "    this.ws.onmessage = this._make_on_message_function(this);\n",
       "\n",
       "    this.ondownload = ondownload;\n",
       "}\n",
       "\n",
       "mpl.figure.prototype._init_header = function() {\n",
       "    var titlebar = $(\n",
       "        '<div class=\"ui-dialog-titlebar ui-widget-header ui-corner-all ' +\n",
       "        'ui-helper-clearfix\"/>');\n",
       "    var titletext = $(\n",
       "        '<div class=\"ui-dialog-title\" style=\"width: 100%; ' +\n",
       "        'text-align: center; padding: 3px;\"/>');\n",
       "    titlebar.append(titletext)\n",
       "    this.root.append(titlebar);\n",
       "    this.header = titletext[0];\n",
       "}\n",
       "\n",
       "\n",
       "\n",
       "mpl.figure.prototype._canvas_extra_style = function(canvas_div) {\n",
       "\n",
       "}\n",
       "\n",
       "\n",
       "mpl.figure.prototype._root_extra_style = function(canvas_div) {\n",
       "\n",
       "}\n",
       "\n",
       "mpl.figure.prototype._init_canvas = function() {\n",
       "    var fig = this;\n",
       "\n",
       "    var canvas_div = $('<div/>');\n",
       "\n",
       "    canvas_div.attr('style', 'position: relative; clear: both; outline: 0');\n",
       "\n",
       "    function canvas_keyboard_event(event) {\n",
       "        return fig.key_event(event, event['data']);\n",
       "    }\n",
       "\n",
       "    canvas_div.keydown('key_press', canvas_keyboard_event);\n",
       "    canvas_div.keyup('key_release', canvas_keyboard_event);\n",
       "    this.canvas_div = canvas_div\n",
       "    this._canvas_extra_style(canvas_div)\n",
       "    this.root.append(canvas_div);\n",
       "\n",
       "    var canvas = $('<canvas/>');\n",
       "    canvas.addClass('mpl-canvas');\n",
       "    canvas.attr('style', \"left: 0; top: 0; z-index: 0; outline: 0\")\n",
       "\n",
       "    this.canvas = canvas[0];\n",
       "    this.context = canvas[0].getContext(\"2d\");\n",
       "\n",
       "    var backingStore = this.context.backingStorePixelRatio ||\n",
       "\tthis.context.webkitBackingStorePixelRatio ||\n",
       "\tthis.context.mozBackingStorePixelRatio ||\n",
       "\tthis.context.msBackingStorePixelRatio ||\n",
       "\tthis.context.oBackingStorePixelRatio ||\n",
       "\tthis.context.backingStorePixelRatio || 1;\n",
       "\n",
       "    mpl.ratio = (window.devicePixelRatio || 1) / backingStore;\n",
       "\n",
       "    var rubberband = $('<canvas/>');\n",
       "    rubberband.attr('style', \"position: absolute; left: 0; top: 0; z-index: 1;\")\n",
       "\n",
       "    var pass_mouse_events = true;\n",
       "\n",
       "    canvas_div.resizable({\n",
       "        start: function(event, ui) {\n",
       "            pass_mouse_events = false;\n",
       "        },\n",
       "        resize: function(event, ui) {\n",
       "            fig.request_resize(ui.size.width, ui.size.height);\n",
       "        },\n",
       "        stop: function(event, ui) {\n",
       "            pass_mouse_events = true;\n",
       "            fig.request_resize(ui.size.width, ui.size.height);\n",
       "        },\n",
       "    });\n",
       "\n",
       "    function mouse_event_fn(event) {\n",
       "        if (pass_mouse_events)\n",
       "            return fig.mouse_event(event, event['data']);\n",
       "    }\n",
       "\n",
       "    rubberband.mousedown('button_press', mouse_event_fn);\n",
       "    rubberband.mouseup('button_release', mouse_event_fn);\n",
       "    // Throttle sequential mouse events to 1 every 20ms.\n",
       "    rubberband.mousemove('motion_notify', mouse_event_fn);\n",
       "\n",
       "    rubberband.mouseenter('figure_enter', mouse_event_fn);\n",
       "    rubberband.mouseleave('figure_leave', mouse_event_fn);\n",
       "\n",
       "    canvas_div.on(\"wheel\", function (event) {\n",
       "        event = event.originalEvent;\n",
       "        event['data'] = 'scroll'\n",
       "        if (event.deltaY < 0) {\n",
       "            event.step = 1;\n",
       "        } else {\n",
       "            event.step = -1;\n",
       "        }\n",
       "        mouse_event_fn(event);\n",
       "    });\n",
       "\n",
       "    canvas_div.append(canvas);\n",
       "    canvas_div.append(rubberband);\n",
       "\n",
       "    this.rubberband = rubberband;\n",
       "    this.rubberband_canvas = rubberband[0];\n",
       "    this.rubberband_context = rubberband[0].getContext(\"2d\");\n",
       "    this.rubberband_context.strokeStyle = \"#000000\";\n",
       "\n",
       "    this._resize_canvas = function(width, height) {\n",
       "        // Keep the size of the canvas, canvas container, and rubber band\n",
       "        // canvas in synch.\n",
       "        canvas_div.css('width', width)\n",
       "        canvas_div.css('height', height)\n",
       "\n",
       "        canvas.attr('width', width * mpl.ratio);\n",
       "        canvas.attr('height', height * mpl.ratio);\n",
       "        canvas.attr('style', 'width: ' + width + 'px; height: ' + height + 'px;');\n",
       "\n",
       "        rubberband.attr('width', width);\n",
       "        rubberband.attr('height', height);\n",
       "    }\n",
       "\n",
       "    // Set the figure to an initial 600x600px, this will subsequently be updated\n",
       "    // upon first draw.\n",
       "    this._resize_canvas(600, 600);\n",
       "\n",
       "    // Disable right mouse context menu.\n",
       "    $(this.rubberband_canvas).bind(\"contextmenu\",function(e){\n",
       "        return false;\n",
       "    });\n",
       "\n",
       "    function set_focus () {\n",
       "        canvas.focus();\n",
       "        canvas_div.focus();\n",
       "    }\n",
       "\n",
       "    window.setTimeout(set_focus, 100);\n",
       "}\n",
       "\n",
       "mpl.figure.prototype._init_toolbar = function() {\n",
       "    var fig = this;\n",
       "\n",
       "    var nav_element = $('<div/>');\n",
       "    nav_element.attr('style', 'width: 100%');\n",
       "    this.root.append(nav_element);\n",
       "\n",
       "    // Define a callback function for later on.\n",
       "    function toolbar_event(event) {\n",
       "        return fig.toolbar_button_onclick(event['data']);\n",
       "    }\n",
       "    function toolbar_mouse_event(event) {\n",
       "        return fig.toolbar_button_onmouseover(event['data']);\n",
       "    }\n",
       "\n",
       "    for(var toolbar_ind in mpl.toolbar_items) {\n",
       "        var name = mpl.toolbar_items[toolbar_ind][0];\n",
       "        var tooltip = mpl.toolbar_items[toolbar_ind][1];\n",
       "        var image = mpl.toolbar_items[toolbar_ind][2];\n",
       "        var method_name = mpl.toolbar_items[toolbar_ind][3];\n",
       "\n",
       "        if (!name) {\n",
       "            // put a spacer in here.\n",
       "            continue;\n",
       "        }\n",
       "        var button = $('<button/>');\n",
       "        button.addClass('ui-button ui-widget ui-state-default ui-corner-all ' +\n",
       "                        'ui-button-icon-only');\n",
       "        button.attr('role', 'button');\n",
       "        button.attr('aria-disabled', 'false');\n",
       "        button.click(method_name, toolbar_event);\n",
       "        button.mouseover(tooltip, toolbar_mouse_event);\n",
       "\n",
       "        var icon_img = $('<span/>');\n",
       "        icon_img.addClass('ui-button-icon-primary ui-icon');\n",
       "        icon_img.addClass(image);\n",
       "        icon_img.addClass('ui-corner-all');\n",
       "\n",
       "        var tooltip_span = $('<span/>');\n",
       "        tooltip_span.addClass('ui-button-text');\n",
       "        tooltip_span.html(tooltip);\n",
       "\n",
       "        button.append(icon_img);\n",
       "        button.append(tooltip_span);\n",
       "\n",
       "        nav_element.append(button);\n",
       "    }\n",
       "\n",
       "    var fmt_picker_span = $('<span/>');\n",
       "\n",
       "    var fmt_picker = $('<select/>');\n",
       "    fmt_picker.addClass('mpl-toolbar-option ui-widget ui-widget-content');\n",
       "    fmt_picker_span.append(fmt_picker);\n",
       "    nav_element.append(fmt_picker_span);\n",
       "    this.format_dropdown = fmt_picker[0];\n",
       "\n",
       "    for (var ind in mpl.extensions) {\n",
       "        var fmt = mpl.extensions[ind];\n",
       "        var option = $(\n",
       "            '<option/>', {selected: fmt === mpl.default_extension}).html(fmt);\n",
       "        fmt_picker.append(option);\n",
       "    }\n",
       "\n",
       "    // Add hover states to the ui-buttons\n",
       "    $( \".ui-button\" ).hover(\n",
       "        function() { $(this).addClass(\"ui-state-hover\");},\n",
       "        function() { $(this).removeClass(\"ui-state-hover\");}\n",
       "    );\n",
       "\n",
       "    var status_bar = $('<span class=\"mpl-message\"/>');\n",
       "    nav_element.append(status_bar);\n",
       "    this.message = status_bar[0];\n",
       "}\n",
       "\n",
       "mpl.figure.prototype.request_resize = function(x_pixels, y_pixels) {\n",
       "    // Request matplotlib to resize the figure. Matplotlib will then trigger a resize in the client,\n",
       "    // which will in turn request a refresh of the image.\n",
       "    this.send_message('resize', {'width': x_pixels, 'height': y_pixels});\n",
       "}\n",
       "\n",
       "mpl.figure.prototype.send_message = function(type, properties) {\n",
       "    properties['type'] = type;\n",
       "    properties['figure_id'] = this.id;\n",
       "    this.ws.send(JSON.stringify(properties));\n",
       "}\n",
       "\n",
       "mpl.figure.prototype.send_draw_message = function() {\n",
       "    if (!this.waiting) {\n",
       "        this.waiting = true;\n",
       "        this.ws.send(JSON.stringify({type: \"draw\", figure_id: this.id}));\n",
       "    }\n",
       "}\n",
       "\n",
       "\n",
       "mpl.figure.prototype.handle_save = function(fig, msg) {\n",
       "    var format_dropdown = fig.format_dropdown;\n",
       "    var format = format_dropdown.options[format_dropdown.selectedIndex].value;\n",
       "    fig.ondownload(fig, format);\n",
       "}\n",
       "\n",
       "\n",
       "mpl.figure.prototype.handle_resize = function(fig, msg) {\n",
       "    var size = msg['size'];\n",
       "    if (size[0] != fig.canvas.width || size[1] != fig.canvas.height) {\n",
       "        fig._resize_canvas(size[0], size[1]);\n",
       "        fig.send_message(\"refresh\", {});\n",
       "    };\n",
       "}\n",
       "\n",
       "mpl.figure.prototype.handle_rubberband = function(fig, msg) {\n",
       "    var x0 = msg['x0'] / mpl.ratio;\n",
       "    var y0 = (fig.canvas.height - msg['y0']) / mpl.ratio;\n",
       "    var x1 = msg['x1'] / mpl.ratio;\n",
       "    var y1 = (fig.canvas.height - msg['y1']) / mpl.ratio;\n",
       "    x0 = Math.floor(x0) + 0.5;\n",
       "    y0 = Math.floor(y0) + 0.5;\n",
       "    x1 = Math.floor(x1) + 0.5;\n",
       "    y1 = Math.floor(y1) + 0.5;\n",
       "    var min_x = Math.min(x0, x1);\n",
       "    var min_y = Math.min(y0, y1);\n",
       "    var width = Math.abs(x1 - x0);\n",
       "    var height = Math.abs(y1 - y0);\n",
       "\n",
       "    fig.rubberband_context.clearRect(\n",
       "        0, 0, fig.canvas.width / mpl.ratio, fig.canvas.height / mpl.ratio);\n",
       "\n",
       "    fig.rubberband_context.strokeRect(min_x, min_y, width, height);\n",
       "}\n",
       "\n",
       "mpl.figure.prototype.handle_figure_label = function(fig, msg) {\n",
       "    // Updates the figure title.\n",
       "    fig.header.textContent = msg['label'];\n",
       "}\n",
       "\n",
       "mpl.figure.prototype.handle_cursor = function(fig, msg) {\n",
       "    var cursor = msg['cursor'];\n",
       "    switch(cursor)\n",
       "    {\n",
       "    case 0:\n",
       "        cursor = 'pointer';\n",
       "        break;\n",
       "    case 1:\n",
       "        cursor = 'default';\n",
       "        break;\n",
       "    case 2:\n",
       "        cursor = 'crosshair';\n",
       "        break;\n",
       "    case 3:\n",
       "        cursor = 'move';\n",
       "        break;\n",
       "    }\n",
       "    fig.rubberband_canvas.style.cursor = cursor;\n",
       "}\n",
       "\n",
       "mpl.figure.prototype.handle_message = function(fig, msg) {\n",
       "    fig.message.textContent = msg['message'];\n",
       "}\n",
       "\n",
       "mpl.figure.prototype.handle_draw = function(fig, msg) {\n",
       "    // Request the server to send over a new figure.\n",
       "    fig.send_draw_message();\n",
       "}\n",
       "\n",
       "mpl.figure.prototype.handle_image_mode = function(fig, msg) {\n",
       "    fig.image_mode = msg['mode'];\n",
       "}\n",
       "\n",
       "mpl.figure.prototype.updated_canvas_event = function() {\n",
       "    // Called whenever the canvas gets updated.\n",
       "    this.send_message(\"ack\", {});\n",
       "}\n",
       "\n",
       "// A function to construct a web socket function for onmessage handling.\n",
       "// Called in the figure constructor.\n",
       "mpl.figure.prototype._make_on_message_function = function(fig) {\n",
       "    return function socket_on_message(evt) {\n",
       "        if (evt.data instanceof Blob) {\n",
       "            /* FIXME: We get \"Resource interpreted as Image but\n",
       "             * transferred with MIME type text/plain:\" errors on\n",
       "             * Chrome.  But how to set the MIME type?  It doesn't seem\n",
       "             * to be part of the websocket stream */\n",
       "            evt.data.type = \"image/png\";\n",
       "\n",
       "            /* Free the memory for the previous frames */\n",
       "            if (fig.imageObj.src) {\n",
       "                (window.URL || window.webkitURL).revokeObjectURL(\n",
       "                    fig.imageObj.src);\n",
       "            }\n",
       "\n",
       "            fig.imageObj.src = (window.URL || window.webkitURL).createObjectURL(\n",
       "                evt.data);\n",
       "            fig.updated_canvas_event();\n",
       "            fig.waiting = false;\n",
       "            return;\n",
       "        }\n",
       "        else if (typeof evt.data === 'string' && evt.data.slice(0, 21) == \"data:image/png;base64\") {\n",
       "            fig.imageObj.src = evt.data;\n",
       "            fig.updated_canvas_event();\n",
       "            fig.waiting = false;\n",
       "            return;\n",
       "        }\n",
       "\n",
       "        var msg = JSON.parse(evt.data);\n",
       "        var msg_type = msg['type'];\n",
       "\n",
       "        // Call the  \"handle_{type}\" callback, which takes\n",
       "        // the figure and JSON message as its only arguments.\n",
       "        try {\n",
       "            var callback = fig[\"handle_\" + msg_type];\n",
       "        } catch (e) {\n",
       "            console.log(\"No handler for the '\" + msg_type + \"' message type: \", msg);\n",
       "            return;\n",
       "        }\n",
       "\n",
       "        if (callback) {\n",
       "            try {\n",
       "                // console.log(\"Handling '\" + msg_type + \"' message: \", msg);\n",
       "                callback(fig, msg);\n",
       "            } catch (e) {\n",
       "                console.log(\"Exception inside the 'handler_\" + msg_type + \"' callback:\", e, e.stack, msg);\n",
       "            }\n",
       "        }\n",
       "    };\n",
       "}\n",
       "\n",
       "// from http://stackoverflow.com/questions/1114465/getting-mouse-location-in-canvas\n",
       "mpl.findpos = function(e) {\n",
       "    //this section is from http://www.quirksmode.org/js/events_properties.html\n",
       "    var targ;\n",
       "    if (!e)\n",
       "        e = window.event;\n",
       "    if (e.target)\n",
       "        targ = e.target;\n",
       "    else if (e.srcElement)\n",
       "        targ = e.srcElement;\n",
       "    if (targ.nodeType == 3) // defeat Safari bug\n",
       "        targ = targ.parentNode;\n",
       "\n",
       "    // jQuery normalizes the pageX and pageY\n",
       "    // pageX,Y are the mouse positions relative to the document\n",
       "    // offset() returns the position of the element relative to the document\n",
       "    var x = e.pageX - $(targ).offset().left;\n",
       "    var y = e.pageY - $(targ).offset().top;\n",
       "\n",
       "    return {\"x\": x, \"y\": y};\n",
       "};\n",
       "\n",
       "/*\n",
       " * return a copy of an object with only non-object keys\n",
       " * we need this to avoid circular references\n",
       " * http://stackoverflow.com/a/24161582/3208463\n",
       " */\n",
       "function simpleKeys (original) {\n",
       "  return Object.keys(original).reduce(function (obj, key) {\n",
       "    if (typeof original[key] !== 'object')\n",
       "        obj[key] = original[key]\n",
       "    return obj;\n",
       "  }, {});\n",
       "}\n",
       "\n",
       "mpl.figure.prototype.mouse_event = function(event, name) {\n",
       "    var canvas_pos = mpl.findpos(event)\n",
       "\n",
       "    if (name === 'button_press')\n",
       "    {\n",
       "        this.canvas.focus();\n",
       "        this.canvas_div.focus();\n",
       "    }\n",
       "\n",
       "    var x = canvas_pos.x * mpl.ratio;\n",
       "    var y = canvas_pos.y * mpl.ratio;\n",
       "\n",
       "    this.send_message(name, {x: x, y: y, button: event.button,\n",
       "                             step: event.step,\n",
       "                             guiEvent: simpleKeys(event)});\n",
       "\n",
       "    /* This prevents the web browser from automatically changing to\n",
       "     * the text insertion cursor when the button is pressed.  We want\n",
       "     * to control all of the cursor setting manually through the\n",
       "     * 'cursor' event from matplotlib */\n",
       "    event.preventDefault();\n",
       "    return false;\n",
       "}\n",
       "\n",
       "mpl.figure.prototype._key_event_extra = function(event, name) {\n",
       "    // Handle any extra behaviour associated with a key event\n",
       "}\n",
       "\n",
       "mpl.figure.prototype.key_event = function(event, name) {\n",
       "\n",
       "    // Prevent repeat events\n",
       "    if (name == 'key_press')\n",
       "    {\n",
       "        if (event.which === this._key)\n",
       "            return;\n",
       "        else\n",
       "            this._key = event.which;\n",
       "    }\n",
       "    if (name == 'key_release')\n",
       "        this._key = null;\n",
       "\n",
       "    var value = '';\n",
       "    if (event.ctrlKey && event.which != 17)\n",
       "        value += \"ctrl+\";\n",
       "    if (event.altKey && event.which != 18)\n",
       "        value += \"alt+\";\n",
       "    if (event.shiftKey && event.which != 16)\n",
       "        value += \"shift+\";\n",
       "\n",
       "    value += 'k';\n",
       "    value += event.which.toString();\n",
       "\n",
       "    this._key_event_extra(event, name);\n",
       "\n",
       "    this.send_message(name, {key: value,\n",
       "                             guiEvent: simpleKeys(event)});\n",
       "    return false;\n",
       "}\n",
       "\n",
       "mpl.figure.prototype.toolbar_button_onclick = function(name) {\n",
       "    if (name == 'download') {\n",
       "        this.handle_save(this, null);\n",
       "    } else {\n",
       "        this.send_message(\"toolbar_button\", {name: name});\n",
       "    }\n",
       "};\n",
       "\n",
       "mpl.figure.prototype.toolbar_button_onmouseover = function(tooltip) {\n",
       "    this.message.textContent = tooltip;\n",
       "};\n",
       "mpl.toolbar_items = [[\"Home\", \"Reset original view\", \"fa fa-home icon-home\", \"home\"], [\"Back\", \"Back to previous view\", \"fa fa-arrow-left icon-arrow-left\", \"back\"], [\"Forward\", \"Forward to next view\", \"fa fa-arrow-right icon-arrow-right\", \"forward\"], [\"\", \"\", \"\", \"\"], [\"Pan\", \"Pan axes with left mouse, zoom with right\", \"fa fa-arrows icon-move\", \"pan\"], [\"Zoom\", \"Zoom to rectangle\", \"fa fa-square-o icon-check-empty\", \"zoom\"], [\"\", \"\", \"\", \"\"], [\"Download\", \"Download plot\", \"fa fa-floppy-o icon-save\", \"download\"]];\n",
       "\n",
       "mpl.extensions = [\"eps\", \"jpeg\", \"pdf\", \"png\", \"ps\", \"raw\", \"svg\", \"tif\"];\n",
       "\n",
       "mpl.default_extension = \"png\";var comm_websocket_adapter = function(comm) {\n",
       "    // Create a \"websocket\"-like object which calls the given IPython comm\n",
       "    // object with the appropriate methods. Currently this is a non binary\n",
       "    // socket, so there is still some room for performance tuning.\n",
       "    var ws = {};\n",
       "\n",
       "    ws.close = function() {\n",
       "        comm.close()\n",
       "    };\n",
       "    ws.send = function(m) {\n",
       "        //console.log('sending', m);\n",
       "        comm.send(m);\n",
       "    };\n",
       "    // Register the callback with on_msg.\n",
       "    comm.on_msg(function(msg) {\n",
       "        //console.log('receiving', msg['content']['data'], msg);\n",
       "        // Pass the mpl event to the overridden (by mpl) onmessage function.\n",
       "        ws.onmessage(msg['content']['data'])\n",
       "    });\n",
       "    return ws;\n",
       "}\n",
       "\n",
       "mpl.mpl_figure_comm = function(comm, msg) {\n",
       "    // This is the function which gets called when the mpl process\n",
       "    // starts-up an IPython Comm through the \"matplotlib\" channel.\n",
       "\n",
       "    var id = msg.content.data.id;\n",
       "    // Get hold of the div created by the display call when the Comm\n",
       "    // socket was opened in Python.\n",
       "    var element = $(\"#\" + id);\n",
       "    var ws_proxy = comm_websocket_adapter(comm)\n",
       "\n",
       "    function ondownload(figure, format) {\n",
       "        window.open(figure.imageObj.src);\n",
       "    }\n",
       "\n",
       "    var fig = new mpl.figure(id, ws_proxy,\n",
       "                           ondownload,\n",
       "                           element.get(0));\n",
       "\n",
       "    // Call onopen now - mpl needs it, as it is assuming we've passed it a real\n",
       "    // web socket which is closed, not our websocket->open comm proxy.\n",
       "    ws_proxy.onopen();\n",
       "\n",
       "    fig.parent_element = element.get(0);\n",
       "    fig.cell_info = mpl.find_output_cell(\"<div id='\" + id + \"'></div>\");\n",
       "    if (!fig.cell_info) {\n",
       "        console.error(\"Failed to find cell for figure\", id, fig);\n",
       "        return;\n",
       "    }\n",
       "\n",
       "    var output_index = fig.cell_info[2]\n",
       "    var cell = fig.cell_info[0];\n",
       "\n",
       "};\n",
       "\n",
       "mpl.figure.prototype.handle_close = function(fig, msg) {\n",
       "    var width = fig.canvas.width/mpl.ratio\n",
       "    fig.root.unbind('remove')\n",
       "\n",
       "    // Update the output cell to use the data from the current canvas.\n",
       "    fig.push_to_output();\n",
       "    var dataURL = fig.canvas.toDataURL();\n",
       "    // Re-enable the keyboard manager in IPython - without this line, in FF,\n",
       "    // the notebook keyboard shortcuts fail.\n",
       "    IPython.keyboard_manager.enable()\n",
       "    $(fig.parent_element).html('<img src=\"' + dataURL + '\" width=\"' + width + '\">');\n",
       "    fig.close_ws(fig, msg);\n",
       "}\n",
       "\n",
       "mpl.figure.prototype.close_ws = function(fig, msg){\n",
       "    fig.send_message('closing', msg);\n",
       "    // fig.ws.close()\n",
       "}\n",
       "\n",
       "mpl.figure.prototype.push_to_output = function(remove_interactive) {\n",
       "    // Turn the data on the canvas into data in the output cell.\n",
       "    var width = this.canvas.width/mpl.ratio\n",
       "    var dataURL = this.canvas.toDataURL();\n",
       "    this.cell_info[1]['text/html'] = '<img src=\"' + dataURL + '\" width=\"' + width + '\">';\n",
       "}\n",
       "\n",
       "mpl.figure.prototype.updated_canvas_event = function() {\n",
       "    // Tell IPython that the notebook contents must change.\n",
       "    IPython.notebook.set_dirty(true);\n",
       "    this.send_message(\"ack\", {});\n",
       "    var fig = this;\n",
       "    // Wait a second, then push the new image to the DOM so\n",
       "    // that it is saved nicely (might be nice to debounce this).\n",
       "    setTimeout(function () { fig.push_to_output() }, 1000);\n",
       "}\n",
       "\n",
       "mpl.figure.prototype._init_toolbar = function() {\n",
       "    var fig = this;\n",
       "\n",
       "    var nav_element = $('<div/>');\n",
       "    nav_element.attr('style', 'width: 100%');\n",
       "    this.root.append(nav_element);\n",
       "\n",
       "    // Define a callback function for later on.\n",
       "    function toolbar_event(event) {\n",
       "        return fig.toolbar_button_onclick(event['data']);\n",
       "    }\n",
       "    function toolbar_mouse_event(event) {\n",
       "        return fig.toolbar_button_onmouseover(event['data']);\n",
       "    }\n",
       "\n",
       "    for(var toolbar_ind in mpl.toolbar_items){\n",
       "        var name = mpl.toolbar_items[toolbar_ind][0];\n",
       "        var tooltip = mpl.toolbar_items[toolbar_ind][1];\n",
       "        var image = mpl.toolbar_items[toolbar_ind][2];\n",
       "        var method_name = mpl.toolbar_items[toolbar_ind][3];\n",
       "\n",
       "        if (!name) { continue; };\n",
       "\n",
       "        var button = $('<button class=\"btn btn-default\" href=\"#\" title=\"' + name + '\"><i class=\"fa ' + image + ' fa-lg\"></i></button>');\n",
       "        button.click(method_name, toolbar_event);\n",
       "        button.mouseover(tooltip, toolbar_mouse_event);\n",
       "        nav_element.append(button);\n",
       "    }\n",
       "\n",
       "    // Add the status bar.\n",
       "    var status_bar = $('<span class=\"mpl-message\" style=\"text-align:right; float: right;\"/>');\n",
       "    nav_element.append(status_bar);\n",
       "    this.message = status_bar[0];\n",
       "\n",
       "    // Add the close button to the window.\n",
       "    var buttongrp = $('<div class=\"btn-group inline pull-right\"></div>');\n",
       "    var button = $('<button class=\"btn btn-mini btn-primary\" href=\"#\" title=\"Stop Interaction\"><i class=\"fa fa-power-off icon-remove icon-large\"></i></button>');\n",
       "    button.click(function (evt) { fig.handle_close(fig, {}); } );\n",
       "    button.mouseover('Stop Interaction', toolbar_mouse_event);\n",
       "    buttongrp.append(button);\n",
       "    var titlebar = this.root.find($('.ui-dialog-titlebar'));\n",
       "    titlebar.prepend(buttongrp);\n",
       "}\n",
       "\n",
       "mpl.figure.prototype._root_extra_style = function(el){\n",
       "    var fig = this\n",
       "    el.on(\"remove\", function(){\n",
       "\tfig.close_ws(fig, {});\n",
       "    });\n",
       "}\n",
       "\n",
       "mpl.figure.prototype._canvas_extra_style = function(el){\n",
       "    // this is important to make the div 'focusable\n",
       "    el.attr('tabindex', 0)\n",
       "    // reach out to IPython and tell the keyboard manager to turn it's self\n",
       "    // off when our div gets focus\n",
       "\n",
       "    // location in version 3\n",
       "    if (IPython.notebook.keyboard_manager) {\n",
       "        IPython.notebook.keyboard_manager.register_events(el);\n",
       "    }\n",
       "    else {\n",
       "        // location in version 2\n",
       "        IPython.keyboard_manager.register_events(el);\n",
       "    }\n",
       "\n",
       "}\n",
       "\n",
       "mpl.figure.prototype._key_event_extra = function(event, name) {\n",
       "    var manager = IPython.notebook.keyboard_manager;\n",
       "    if (!manager)\n",
       "        manager = IPython.keyboard_manager;\n",
       "\n",
       "    // Check for shift+enter\n",
       "    if (event.shiftKey && event.which == 13) {\n",
       "        this.canvas_div.blur();\n",
       "        event.shiftKey = false;\n",
       "        // Send a \"J\" for go to next cell\n",
       "        event.which = 74;\n",
       "        event.keyCode = 74;\n",
       "        manager.command_mode();\n",
       "        manager.handle_keydown(event);\n",
       "    }\n",
       "}\n",
       "\n",
       "mpl.figure.prototype.handle_save = function(fig, msg) {\n",
       "    fig.ondownload(fig, null);\n",
       "}\n",
       "\n",
       "\n",
       "mpl.find_output_cell = function(html_output) {\n",
       "    // Return the cell and output element which can be found *uniquely* in the notebook.\n",
       "    // Note - this is a bit hacky, but it is done because the \"notebook_saving.Notebook\"\n",
       "    // IPython event is triggered only after the cells have been serialised, which for\n",
       "    // our purposes (turning an active figure into a static one), is too late.\n",
       "    var cells = IPython.notebook.get_cells();\n",
       "    var ncells = cells.length;\n",
       "    for (var i=0; i<ncells; i++) {\n",
       "        var cell = cells[i];\n",
       "        if (cell.cell_type === 'code'){\n",
       "            for (var j=0; j<cell.output_area.outputs.length; j++) {\n",
       "                var data = cell.output_area.outputs[j];\n",
       "                if (data.data) {\n",
       "                    // IPython >= 3 moved mimebundle to data attribute of output\n",
       "                    data = data.data;\n",
       "                }\n",
       "                if (data['text/html'] == html_output) {\n",
       "                    return [cell, data, j];\n",
       "                }\n",
       "            }\n",
       "        }\n",
       "    }\n",
       "}\n",
       "\n",
       "// Register the function which deals with the matplotlib target/channel.\n",
       "// The kernel may be null if the page has been refreshed.\n",
       "if (IPython.notebook.kernel != null) {\n",
       "    IPython.notebook.kernel.comm_manager.register_target('matplotlib', mpl.mpl_figure_comm);\n",
       "}\n"
      ],
      "text/plain": [
       "<IPython.core.display.Javascript object>"
      ]
     },
     "metadata": {},
     "output_type": "display_data"
    },
    {
     "data": {
      "text/html": [
       "<img src=\"data:image/png;base64,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\" width=\"640\">"
      ],
      "text/plain": [
       "<IPython.core.display.HTML object>"
      ]
     },
     "metadata": {},
     "output_type": "display_data"
    }
   ],
   "source": [
    "import matplotlib.pyplot as plt\n",
    "fig=plt.figure()\n",
    "ax=fig.gca()\n",
    "\n",
    "ax.plot(xps,yps,'b-')\n",
    "\n",
    "from pymcel.plot import fija_ejes_proporcionales\n",
    "valores=(xps,yps)\n",
    "fija_ejes_proporcionales(ax,valores);\n",
    "ax.grid()"
   ]
  },
  {
   "cell_type": "markdown",
   "metadata": {},
   "source": [
    "<a id='fig:04.02.02.00.Fundamentos.Conicas.Algebra_22'></a><center><b>Figura 4.22.</b> </center>"
   ]
  },
  {
   "cell_type": "markdown",
   "metadata": {},
   "source": [
    "Los valores de los coeficientes del polinomio de segundo grado $P(x,y)=Ax^2+By^2+Cxy+Dx+Ey+F$ que describe los puntos del gráfico anterior, son (Ec. [ecuacion_general_coeficientes](#mjx-eqn-eq%3Aecuacion_general_coeficientes)):"
   ]
  },
  {
   "cell_type": "code",
   "execution_count": 78,
   "metadata": {
    "codelabel": "",
    "codeplot": 0
   },
   "outputs": [],
   "source": [
    "from numpy import sin,cos\n",
    "A=1-e**2*cos(teta)**2\n",
    "B=e**2*sin(2*teta)\n",
    "C=1-e**2*sin(teta)**2\n",
    "D=2*ty*sin(teta)-2*p*cos(teta)+2*tx*cos(teta)*(1-e**2)\n",
    "E=2*ty*cos(teta)+2*p*sin(teta)-2*tx*sin(teta)*(1-e**2)\n",
    "F=tx**2*(1-e**2)-2*p*tx+ty**2"
   ]
  },
  {
   "cell_type": "code",
   "execution_count": 79,
   "metadata": {
    "codelabel": "",
    "codeplot": 0,
    "tags": [
     "hide_input"
    ]
   },
   "outputs": [
    {
     "name": "stdout",
     "output_type": "stream",
     "text": [
      "A = 0.5199999999999998\n",
      "B = 0.5542562584220408\n",
      "C = 0.84\n",
      "D = -17.967433714816835\n",
      "E = -12.720508075688773\n",
      "F = -119.00000000000003\n",
      "Ecuación: (0.52)x^2+(0.55)xy+(0.84)y^2+(-18)x+(-13)y+(-119.0)=0\n"
     ]
    }
   ],
   "source": [
    "print(f\"A = {A}\")\n",
    "print(f\"B = {B}\")\n",
    "print(f\"C = {C}\")\n",
    "print(f\"D = {D}\")\n",
    "print(f\"E = {E}\")\n",
    "print(f\"F = {F}\")\n",
    "print(f\"Ecuación: ({A:.2g})x^2+({B:.2g})xy+({C:.2g})y^2+({D:.2g})x+({E:.2g})y+({F:.1f})=0\")"
   ]
  },
  {
   "cell_type": "markdown",
   "metadata": {},
   "source": [
    "Podemos ahora verificar la afirmación que los puntos de la cónica satisfacen la ecuación $P(x,y)=0$ (Ec. [ecuacion_general](#mjx-eqn-eq%3Aecuacion_general)), construyendo primero una rutina para calcular, dado cualquier punto $(x,y)$ el valor del polinomio $P(x,y)$:"
   ]
  },
  {
   "cell_type": "markdown",
   "metadata": {},
   "source": [
    "<a id='code:polinomio_segundo_grado'></a>"
   ]
  },
  {
   "cell_type": "code",
   "execution_count": 80,
   "metadata": {
    "codelabel": "",
    "codeplot": 0,
    "tags": [
     "export",
     "code:polinomio_segundo_grado"
    ]
   },
   "outputs": [],
   "source": [
    "def polinomio_segundo_grado(coeficientes,x,y):\n",
    "    A,B,C,D,E,F=coeficientes\n",
    "    P=A*x**2+B*x*y+C*y**2+D*x+E*y+F\n",
    "    return P"
   ]
  },
  {
   "cell_type": "markdown",
   "metadata": {},
   "source": [
    "Si calculamos el valor de $P(x,y)$ para todos los puntos `xps` y `yps` verificamos la afirmación:"
   ]
  },
  {
   "cell_type": "code",
   "execution_count": 81,
   "metadata": {
    "codelabel": "",
    "codeplot": 0
   },
   "outputs": [],
   "source": [
    "coeficientes=A,B,C,D,E,F\n",
    "Pxpsyps=polinomio_segundo_grado(coeficientes,xps,yps)"
   ]
  },
  {
   "cell_type": "code",
   "execution_count": 82,
   "metadata": {
    "codelabel": "",
    "codeplot": 0
   },
   "outputs": [
    {
     "name": "stdout",
     "output_type": "stream",
     "text": [
      "P(xps,yps):\n",
      "[ 2.84217094e-14 -1.13686838e-13 -1.13686838e-13 -7.10542736e-14\n",
      " -5.68434189e-14]...\n"
     ]
    }
   ],
   "source": [
    "print(f\"P(xps,yps):\\n{Pxpsyps[:5]}...\")"
   ]
  },
  {
   "cell_type": "markdown",
   "metadata": {},
   "source": [
    "O para verificarlo en todos los puntos, podemos sumar el valor absoluto de los valores de `Pxpsyps`:"
   ]
  },
  {
   "cell_type": "code",
   "execution_count": 83,
   "metadata": {
    "codelabel": "",
    "codeplot": 0
   },
   "outputs": [],
   "source": [
    "Psum=sum(abs(Pxpsyps))"
   ]
  },
  {
   "cell_type": "code",
   "execution_count": 84,
   "metadata": {
    "codelabel": "",
    "codeplot": 0,
    "tags": [
     "hide_input"
    ]
   },
   "outputs": [
    {
     "name": "stdout",
     "output_type": "stream",
     "text": [
      "Sum |P(xps,yps)| = 1.1738165994756855e-11\n"
     ]
    }
   ],
   "source": [
    "print(f\"Sum |P(xps,yps)| = {Psum}\")"
   ]
  },
  {
   "cell_type": "markdown",
   "metadata": {},
   "source": [
    "Finalmente podemos poner a prueba las Ecs. ([eq:eta_ecuacion_general](#mjx-eqn-eq%3Aeq%3Aeta_ecuacion_general)), ([teta_ecuacion_general](#mjx-eqn-eq%3Ateta_ecuacion_general)) y ([ty_ecuacion_general](#mjx-eqn-eq%3Aty_ecuacion_general)):"
   ]
  },
  {
   "cell_type": "code",
   "execution_count": 85,
   "metadata": {
    "codelabel": "",
    "codeplot": 0
   },
   "outputs": [],
   "source": [
    "#Parámetro de forma\n",
    "eta_num=1-(A+C)\n",
    "\n",
    "#Ángulo\n",
    "from numpy import arctan,sin,cos\n",
    "teta_num=0.5*arctan(B/(C-A))\n",
    "\n",
    "#Desplazamiento vertical\n",
    "ty_num=(D*sin(teta_num)+E*cos(teta_num))/2"
   ]
  },
  {
   "cell_type": "code",
   "execution_count": 86,
   "metadata": {
    "codelabel": "",
    "codeplot": 0,
    "tags": [
     "hide_input"
    ]
   },
   "outputs": [
    {
     "name": "stdout",
     "output_type": "stream",
     "text": [
      "eta original = -0.36, eta numérico = -0.36\n",
      "teta original = 30, teta numérico = 30\n",
      "ty original = -10, ty numérico = -10\n"
     ]
    }
   ],
   "source": [
    "from numpy import pi\n",
    "print(f\"eta original = {eta:g}, eta numérico = {eta_num:g}\")\n",
    "print(f\"teta original = {teta*180/pi:g}, teta numérico = {teta_num*180/pi:g}\")\n",
    "print(f\"ty original = {ty:g}, ty numérico = {ty_num:g}\")"
   ]
  },
  {
   "cell_type": "markdown",
   "metadata": {},
   "source": [
    "Como era de esperarse, la coincidencia es perfecta."
   ]
  },
  {
   "cell_type": "markdown",
   "metadata": {},
   "source": [
    "### 4.2.12. Síntesis algebraica\n",
    "<a id='conicas_sintesis_algebraica'></a>"
   ]
  },
  {
   "cell_type": "markdown",
   "metadata": {},
   "source": [
    "En la [Sección *Del nombre al álgebra*](04.02.01.00.Fundamentos.Conicas.Geometria.ipynb#conicas_nombre_algebra) mostramos como las definiciones abstractas de la antigüedad, basadas en áreas y proporciones, se convirtieron en la edad baja edad media y el renacimiento, en ecuaciones algebraicas.  Las representaciones algebraicas permiten describir de forma sintética y poderosa el lugar geométrico de las cónicas."
   ]
  },
  {
   "cell_type": "markdown",
   "metadata": {},
   "source": [
    "En las secciones precedentes hemos visto como la descripción algebraica de las cónicas depende de donde coloquemos el origen o en que dirección escojamos los ejes del sistema de coordenadas.  De acuerdo a estas elecciones reconocimos hasta ahora 4 formas distintas de describir algebraicamente cualquier cónica, una vez especificados un parámetro de tamaño, por ejemplo el *semilatus rectum* $p$ y uno de forma, por ejemplo la excentricidad $e$:"
   ]
  },
  {
   "cell_type": "markdown",
   "metadata": {},
   "source": [
    "- Ecuación respecto al apside (origen en el ápside, eje $x$ sobre el eje de simetría, Ec. [ecuacion_apside](#mjx-eqn-eq%3Aecuacion_apside)): \n",
    "  $$\n",
    "  y_a^2-2p x_a -(e^2-1) x_a^2 = 0\n",
    "  $$"
   ]
  },
  {
   "cell_type": "markdown",
   "metadata": {},
   "source": [
    "- Ecuación respecto a la directriz (origen en la directriz, eje $x$ sobre el eje de simetría, Ec. [directriz](#mjx-eqn-eq%3Adirectriz)):\n",
    "\n",
    "  $$\n",
    "  y_d^2 - 2pe x_d -(e^2-1) x_d^2 + e^2p^2=0\n",
    "  $$"
   ]
  },
  {
   "cell_type": "markdown",
   "metadata": {},
   "source": [
    "- Ecuación respecto al centro (origen en el centro de simetría, eje $x$ sobre el eje de simetría, Ec. [ecuacion_centro](#mjx-eqn-eq%3Aecuacion_centro), solo valida para $e\\neq 1$): \n",
    "\n",
    "  $$\n",
    "  \\frac{x_c^2}{a^2}\\pm\\frac{y_c^2}{b^2}=1\n",
    "  $$\n",
    "\n",
    "  donde $a^2=p/(1-e^2)$, el signo \"$+$\" es para elipses ($e<1$) en cuyo caso $b^2=a^2(1-e^2)$ y el signo \"$-$\" es para hipérbola ($e>1$) para el cuál $b^2=\\beta^2=a^2(e^2-1)$."
   ]
  },
  {
   "cell_type": "markdown",
   "metadata": {},
   "source": [
    "- Ecuación general (origen en $t_x,t_y$ y eje $x'$ rotado un ángulo $\\theta$ respecto al eje de simetría, Ec. [ecuacion_general](#mjx-eqn-eq%3Aecuacion_general)):\n",
    "\n",
    "  $$\n",
    "  Ax'^2 + Bx'y' + Cy'^2 + Dx' + Ey' + F = 0\n",
    "  $$\n",
    "  con:\n",
    "\n",
    "    $$\n",
    "    \\begin{array}{rcl}\n",
    "    A &=&  1 - e^2 \\cos^2\\theta\\\\\n",
    "    B &=&  e^2 \\sin2\\theta\\\\\n",
    "    C &=&  1 - e^2 \\sin^2\\theta\\\\\n",
    "    D &=& 2 t_y \\sin\\theta - 2 p \\cos\\theta + 2 t_x \\cos\\theta (1-e^2)\\\\\n",
    "    E &=& 2 t_y \\cos\\theta + 2 p \\sin\\theta - 2 t_x \\sin\\theta (1-e^2)\\\\\n",
    "    F &=& t_x^2 (1- e^2) - 2 p t_x + t_y^2.\n",
    "    \\end{array}\n",
    "    $$"
   ]
  },
  {
   "cell_type": "markdown",
   "metadata": {
    "tags": [
     "navigation"
    ]
   },
   "source": [
    "[Indice](index.ipynb) | Previo: [Fundamentos.Conicas.Geometria](04.02.01.00.Fundamentos.Conicas.Geometria.ipynb) | Siguiente: [Fundamentos.Conicas.Anomalias](04.02.03.00.Fundamentos.Conicas.Anomalias.ipynb)"
   ]
  }
 ],
 "metadata": {
  "celltoolbar": "Tags",
  "kernelspec": {
   "display_name": "Python 3",
   "language": "python",
   "name": "python3"
  },
  "language_info": {
   "codemirror_mode": {
    "name": "ipython",
    "version": 3
   },
   "file_extension": ".py",
   "mimetype": "text/x-python",
   "name": "python",
   "nbconvert_exporter": "python",
   "pygments_lexer": "ipython3",
   "version": "3.6.8"
  }
 },
 "nbformat": 4,
 "nbformat_minor": 2
}
