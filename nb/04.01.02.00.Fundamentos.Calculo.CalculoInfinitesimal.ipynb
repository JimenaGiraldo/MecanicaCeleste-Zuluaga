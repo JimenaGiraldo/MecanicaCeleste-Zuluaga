{
 "cells": [
  {
   "cell_type": "markdown",
   "metadata": {
    "tags": [
     "navigation"
    ]
   },
   "source": [
    "[Indice](index.ipynb) | Previo: [Fundamentos.Calculo.Vectores](04.01.01.00.Fundamentos.Calculo.Vectores.ipynb) | Siguiente: [Fundamentos.Calculo.EcuacionesDiferenciales](04.01.03.00.Fundamentos.Calculo.EcuacionesDiferenciales.ipynb)"
   ]
  },
  {
   "cell_type": "markdown",
   "metadata": {},
   "source": [
    "### 4.1.3. Funciones\n",
    "<a id='funciones'></a>"
   ]
  },
  {
   "cell_type": "markdown",
   "metadata": {},
   "source": [
    "Una función es, en términos informales, una regla de correspondencia que asocia los elementos de un conjunto de partida o *dominio* (p.e. el conjunto de los números reales ${\\rm I\\!R}$, el conjunto de puntos en un plano ${\\rm I\\!R}^2$ o de eventos en el espacio tiempo ${\\rm I\\!R}^4$) con los de otro conjunto, llamado rango, de modo a que cada elemento del dominio le corresponde **uno y solo un elemento del rango**.\n",
    "\n",
    "Entre los distintos tipos de funciones que reconoce el análisis matemático, en este libro nos concentraremos en:\n",
    "\n",
    "- **Funciones de variable real**: Dominio y rango ${\\rm I\\!R}$.  Ejemplo: $f(t)=t^2$.\n",
    "- **Funciones de muchas variables** o **Campos escalares**: Dominio ${\\rm I\\!R}^n$, rango ${\\rm I\\!R}$.  Ejemplos: $f(x,y)=x^2+y^2$, $H(\\{q_i\\}_N)=\\sum_i q_i^2$ (para la notación del conjunto $\\{q_i\\}$ ver la [Sección *Conjunto, tuplas y vectores](04.01.01.00.Fundamentos.Calculo.Vectores.ipynb#conjuntos_tuplas_vectores)).\n",
    "- **Funciones vectoriales**: Dominio ${\\rm I\\!R}$, rango ${\\rm I\\!R}^n$.  Ejemplo: $\\vec a(t)=kr^{-n} \\hat{e}_r$.\n",
    "- **Funciones vectoriales de muchas variables** o **Campos vectoriales**: Dominio ${\\rm I\\!R}^n$, rango ${\\rm I\\!R}^3$. Ejemplo: $\\vec{F}(r,\\theta,z):-k(r\\cos\\theta,r\\sin\\theta,z)$."
   ]
  },
  {
   "cell_type": "markdown",
   "metadata": {
    "label": "",
    "subtitle": "$t$ como variable genérica de las funciones",
    "tags": [
     "box_note"
    ],
    "title": "Nota"
   },
   "source": [
    "> **Nota: $t$ como variable genérica de las funciones.**<a id=''></a> En todos los textos de matemáticas (incluso en los de física) se acostumbra usar $x$ como el nombre preferido para representar, de forma genérica, la variable independiente de las funciones. En lo sucesivo cambiaremos esta convención al llamar $t$ a la variable independiente genérica.  La razón no puede ser más sencilla: en la mecánica $t$ es el nombre que damos a la variable independiente por excelencia, el tiempo, de modo que muchas de las fórmulas que desarrollaremos en este capítulo, se trasladaran simbólicamente casi sin modificación a la mecánica.  \n",
    "\n",
    "> Es obvio que la elección de la letra con la que representamos la variable independiente, no modifica en nada las definiciones y teoremas que veremos en esta sección, de modo que esperamos esta elección no moleste a los más conservadores ni confunda a quienes han estudiado ampliamente estos temas en otros textos."
   ]
  },
  {
   "cell_type": "markdown",
   "metadata": {},
   "source": [
    "#### Algoritmos para funciones"
   ]
  },
  {
   "cell_type": "markdown",
   "metadata": {},
   "source": [
    "Hay dos maneras de definir una función en `Python`: 1) como una rutina o 2) como una función `lambda`.  \n",
    "\n",
    "Como una rutina, una función en `Python` puede recibir como \"argumentos\" de entrada no solo las variables de la función sino también argumentos opcionales.  \n",
    "\n",
    "La siguiente función, por ejemplo, permite calcular el valor de la energía potencial de un sistema físico usando la función de varias variables $U(\\vec r)=kr^{n}$ (siendo $\\vec r:x,y,z$ el vector posición y $r$ su magnitud.)"
   ]
  },
  {
   "cell_type": "markdown",
   "metadata": {},
   "source": [
    "<a id='code:rutina_potencial'></a>"
   ]
  },
  {
   "cell_type": "code",
   "execution_count": 11,
   "metadata": {
    "codelabel": "code:rutina_potencial",
    "codeplot": 0,
    "tags": [
     "code:rutina_potencial"
    ]
   },
   "outputs": [],
   "source": [
    "def U(x,y,z,k=1,n=-1):\n",
    "    r=(x**2+y**2+z**2)**0.5\n",
    "    return k*r**n"
   ]
  },
  {
   "cell_type": "code",
   "execution_count": 12,
   "metadata": {
    "codelabel": "",
    "codeplot": 0,
    "tags": [
     "hide_input"
    ]
   },
   "outputs": [
    {
     "name": "stdout",
     "output_type": "stream",
     "text": [
      "U(1.0,2.0,0.0) con k = 1 y n = -1 (valores por defecto) = 0.4472135954999579\n",
      "U(1.0,2.0,0.0) con k = 6.67e-11 y n = -2 = 1.334e-11\n"
     ]
    }
   ],
   "source": [
    "print(f\"U(1.0,2.0,0.0) con k = 1 y n = -1 (valores por defecto) = {U(1.0,2.0,0.0)}\")\n",
    "print(f\"U(1.0,2.0,0.0) con k = 6.67e-11 y n = -2 = {U(1.0,2.0,0.0,k=6.67e-11,n=-2)}\")"
   ]
  },
  {
   "cell_type": "markdown",
   "metadata": {
    "label": "",
    "subtitle": "Argumentos obligatorios y argumentos opcionales",
    "tags": [
     "box_note"
    ],
    "title": "Nota"
   },
   "source": [
    "> **Nota: Argumentos obligatorios y argumentos opcionales.**<a id=''></a> Toda rutina en `Python` puede tener unos argumentos obligatorios (que llamaremos variables) o unos opcionales.  \n",
    "\n",
    "> Las variables son en estricto sentido una `tupla` de valores, por ejemplo `x,y,z` en la función $U$ en el Alg. ([rutina_potencial](#code:rutina_potencial)).  \n",
    "\n",
    "> Los argumentos opcionales son, por otro lado, un `diccionario` de valores, que no es otra cosa que una lista de valores identificados con un nombre (también llamdo clave o `key`).  En la función $U$ en el Alg. ([rutina](#code:rutina)) los argumentos opcionales son `k=1,n=-1`.  \n",
    "\n",
    "> En `Python` las variables y las opciones de una rutina pueden representarse usando los objetos especiales `*variables` y `**opciones`. El uso de estos objetos especiales no es muy común, pero en ciertas situaciones puede ser bastante útil.  \n",
    "\n",
    "> Una forma alternativa de la rutina para $U$ en el Alg. ([rutina](#code:rutina)) es:\n",
    "\n",
    "  ```python\n",
    "  def U(*variables,**opciones):\n",
    "    x,y,z=*variables\n",
    "    r=(x**2+y**2+z**2)**0.5\n",
    "    return opciones[\"k\"]*r**n\n",
    "  ```\n",
    "  \n",
    "> que se puede invocar usando:\n",
    "\n",
    "  ```python\n",
    "  var=1.0,2.0\n",
    "  opc=dict(k=1,n=-2)\n",
    "  U(*var,**opc)\n",
    "  ```\n",
    "  \n",
    "> No parece muy práctico, pero como veremos puede ser muy útil en ciertas situaciones especiales."
   ]
  },
  {
   "cell_type": "markdown",
   "metadata": {},
   "source": [
    "Las funciones `lambda` se usan para representar funciones muy abreviadas y no tienen argumentos distintos de las variables de las que dependen.  \n",
    "\n",
    "Así, por ejemplo, el siguiente algoritmo define una función `lambda`, `U_x`, basada en la función $U$ del Alg. ([rutina](#code:rutina)), que depende solo de la variable $x$ cuando y asumes constante los valores de $y$ y $z$ (`U_x` será util para calcular más abajo la derivadas parcial de $U$ respecto a $x$):"
   ]
  },
  {
   "cell_type": "markdown",
   "metadata": {},
   "source": [
    "<a id='code:funcion_lambda'></a>"
   ]
  },
  {
   "cell_type": "code",
   "execution_count": 13,
   "metadata": {
    "codelabel": "code:funcion_lambda",
    "codeplot": 0,
    "tags": [
     "code:funcion_lambda"
    ]
   },
   "outputs": [],
   "source": [
    "y=1.0\n",
    "z=1.0\n",
    "k=1\n",
    "n=-2\n",
    "U_x=lambda x:U(x,y,z,k,n)"
   ]
  },
  {
   "cell_type": "code",
   "execution_count": 14,
   "metadata": {
    "codelabel": "",
    "codeplot": 0,
    "tags": [
     "hide_input"
    ]
   },
   "outputs": [
    {
     "name": "stdout",
     "output_type": "stream",
     "text": [
      "Ux(0.0) = 0.49999999999999994\n"
     ]
    }
   ],
   "source": [
    "print(f\"Ux(0.0) = {U_x(0.0)}\")"
   ]
  },
  {
   "cell_type": "markdown",
   "metadata": {},
   "source": [
    "### 4.1.4. Derivadas\n",
    "<a id='derivadas'></a>"
   ]
  },
  {
   "cell_type": "markdown",
   "metadata": {},
   "source": [
    "La derivada de una función de variable real es en sí misma una función definida por el límite:\n",
    "\n",
    "\\begin{equation}\n",
    "\\label{eq:derivada_definicion}\n",
    "\\frac{\\mathrm{d}f}{\\mathrm{d}t}\\equiv\\lim_{\\Delta t\\rightarrow 0}\\frac{f(t)-f(t+\\Delta t)}{\\Delta t}\n",
    "\\end{equation}\n",
    "\n",
    "Si el límite no existe decimos que la función no es derivable en $t$."
   ]
  },
  {
   "cell_type": "markdown",
   "metadata": {
    "label": "",
    "subtitle": "Notación de la derivada",
    "tags": [
     "box_note"
    ],
    "title": "Nota"
   },
   "source": [
    "> **Nota: Notación de la derivada.**<a id=''></a> A lo largo de la historia la manera como se ha representado la función derivada ha cambiado.  Existen al menos tres notaciones comunes:\n",
    "\n",
    "> - La **notación de Leibniz**, $\\mathrm{d}f/\\mathrm{dt}$, $\\mathrm{d}^2f/\\mathrm{d}t^2$.  En esta notación la derivada se representa como si fuera la razón entre dos cantidades, pero no es así ¡mucho cuidado! Usaremos la notación de Leibniz especialmente para representar la derivada de funciones que se escriben de forma explícita, así por ejemplo: \n",
    "  \n",
    "  $$ \n",
    "  \\frac{\\mathrm{d}}{\\mathrm{d}t}\\left(\\frac{1}{2} t^2\\right)\n",
    "  $$\n",
    "\n",
    "> - La **notación de Newton**, $\\dot f$, $\\ddot f$.  Esta será la forma que usaremos para denotar a lo largo del libro las derivadas respecto del tiempo (o el tiempo propio en relatividad).\n",
    "\n",
    "> - La **notación de Lagrange**, $f'$, $f''$, $f^{(n)}$.\n",
    "\n",
    "> - La **notación de Euler**, $\\mathrm{D}f$, $\\mathrm{D}^2f$, $\\mathrm{D}^{n} f$, que no usaremos aquí pero es la notación menos común, pero puede aparecer en el contexto de la mecánica de fluídos."
   ]
  },
  {
   "cell_type": "markdown",
   "metadata": {},
   "source": [
    "La definición de derivada de las funciones de variable real como un límite, se extiende por analogía a campos escalares, funciones vectoriales o campos vectoriales. Para las funciones que dependen de varias variables, sin embargo, se usa una notación y un nombre diferente: **derivada parcial**. La derivada parcial de un campo escalar se define como:\n",
    "  \n",
    "$$\n",
    "\\frac{\\partial f}{\\partial q_k}=\n",
    "\\lim_{\\Delta q_k\\rightarrow 0}\\frac{\n",
    "f(q_1,q_2,\\ldots,q_k+\\Delta q_k,\\ldots,q_N)-\n",
    "f(q_1,q_2,\\ldots,q_k,\\ldots,q_N)\n",
    "}{\\Delta q_k}\n",
    "$$\n",
    "  \n",
    "La derivada parcial se calcula de la misma manera que la derivada de una variable, con la salvedad de que al hacerlo se asume que todas las demás variables de la función son constantes. \n",
    "\n",
    "En muchas partes en este libro, y por economía usaremos la notación de Euler para las derivadas parciales, a saber:\n",
    "\n",
    "$$\n",
    "\\partial_x f\\equiv\\frac{\\partial f}{\\partial x}\n",
    "$$\n",
    "\n",
    "En esta notación una derivada parcial múltiple se escribirá como:\n",
    "\n",
    "$$\n",
    "\\partial_{xyz}f(x,y,z)\\equiv\\frac{\\partial^3 f}{\\partial x\\partial y\\partial z}\n",
    "$$"
   ]
  },
  {
   "cell_type": "markdown",
   "metadata": {},
   "source": [
    "A pesar de que la derivada parcial tiene una definición *numérica* análoga a la de la derivada total, existe una sútil diferencia entre ambas.\n",
    "\n",
    "Imagine que tenemos una **variable independiente** $t$ y definimos, a partir de ella, una nueva variable $u$ que es función de $t$ (variable dependiente).  \n",
    "\n",
    "¿Cómo podemos calcular la derivada de una función de la nueva variable $f(u)$ respecto de la variable independiente $t$? "
   ]
  },
  {
   "cell_type": "markdown",
   "metadata": {
    "label": "box:teo:regla.cadena",
    "subtitle": "Regla de la Cadena",
    "tags": [
     "box_theorem",
     "box:teo:regla.cadena"
    ],
    "title": "Proposición"
   },
   "source": [
    "> **Proposición: Regla de la Cadena.**<a id='box:teo:regla.cadena'></a> Dada una función compuesta $f(u(t))$, la derivada de $f$ respecto a $t$ es:\n",
    "\n",
    "$$\n",
    "\\frac{\\mathrm{d}f}{\\mathrm{d}t}=\\frac{\\mathrm{d}f}{\\mathrm{d}u}\\frac{\\mathrm{d}u}{\\mathrm{d}t}\n",
    "$$"
   ]
  },
  {
   "cell_type": "markdown",
   "metadata": {},
   "source": [
    "Decimos que la función $f$ depende *implícitamente* de la variable independiente $t$.  En este sentido la regla de la cadena es una regla de *derivación implícita*.\n",
    "\n",
    "Usando la notación de Newton la expresión anterior se escribirá de forma abreviada:\n",
    "\n",
    "$$\n",
    "\\dot{f}(t)=\\dot u\\frac{\\mathrm{d}f}{\\mathrm{d}u}\n",
    "$$"
   ]
  },
  {
   "cell_type": "markdown",
   "metadata": {},
   "source": [
    "¿Qué pasa en el caso en el que $f$ depende de varias variables dependientes, por ejemplo $f(q_1(t),q_2(t),\\ldots, q_N(t))\\equiv f(\\{q_i(t)\\}_N)$? \n",
    "\n",
    "En este caso la regla de la cadena se puede generalizar como: \n",
    "\n",
    "$$\n",
    "\\frac{\\mathrm{d}f}{\\mathrm{d}t}=\n",
    "\\frac{\\partial f}{\\partial q_1}\\frac{\\mathrm{d}q_1}{\\mathrm{d}t}+\n",
    "\\frac{\\partial f}{\\partial q_2}\\frac{\\mathrm{d}q_2}{\\mathrm{d}t}+\n",
    "\\ldots\n",
    "\\frac{\\partial f}{\\partial q_N}\\frac{\\mathrm{d}q_N}{\\mathrm{d}t}=\n",
    "\\sum_i \\frac{\\partial f}{\\partial q_i}\\frac{\\mathrm{d}q_i}{\\mathrm{d}t}=\n",
    "\\sum_i \\dot{q}_i\\partial_{q_i} f \n",
    "$$"
   ]
  },
  {
   "cell_type": "markdown",
   "metadata": {},
   "source": [
    "Ahora bien: ¿existirá, en este caso, la derivada parcial de $f$ respecto de $t$?  \n",
    "\n",
    "La respuesta a esta pregunta, ilustra, justamente, la diferencia sutil entre la derivada ordinaria o *derivada total* $\\mathrm{d}/\\mathrm{dt}$ y la derivada parcial $\\partial/\\partial t$.  \n",
    "\n",
    "Hay dos situaciones posibles:\n",
    "\n",
    "- Si la función $f$ *no depende* explícitamente de $t$, es decir si la variable $t$ no aparece en la fórmula de $f$, entonces $\\partial f/\\partial t=0$.  Este resultado es *independiente* de que $f$ dependa implícitamente de $t$ a través de otras variables dependientes.  \n",
    "\n",
    "    **Ejemplo**: si $f(q,t)=q^2$, entonces: $\\partial f/\\partial t=0$ aunque, por regla de la cadena, $\\mathrm{d}f/\\mathrm{d}t=2 q\\dot q$.\n",
    "  \n",
    "- Si la fórmula de la función $f$ contiene la variable $t$, entonces su derivada parcial puede ser distinta de cero (dependiendo de la forma funcional de $f$).\n",
    "\n",
    "    **Ejemplo**: Si $f(q,t)=q^2+\\sin t$, entonces: $\\partial f/\\partial t=\\cos t$ y $\\mathrm{d}f/\\mathrm{d}t=2 q\\dot q+\\cos t$.\n",
    "\n",
    "En este sentido la derivada parcial es como un \"operador semántico\", es decir un operador sobre las \"letras\" que aparecen en la fórmula de la función.\n",
    "\n",
    "Teniendo en cuenta esta propiedad, la forma más general de la regla de la cadena, para una función de varias variables (campo escalar o vectorial) será:\n",
    "\n",
    "\\begin{equation}\n",
    "\\label{eq:regla_cadena_general}\n",
    "\\frac{\\mathrm{d}}{\\mathrm{d}t}f(\\{q_i\\},t)=\n",
    "\\sum_i \\dot{q}_i\\partial_{q_i} f + \\frac{\\partial f}{\\partial t}\n",
    "\\end{equation}"
   ]
  },
  {
   "cell_type": "markdown",
   "metadata": {},
   "source": [
    "### 4.1.5. Funciones homogéneas\n",
    "<a id='funciones_homogeneas'></a>"
   ]
  },
  {
   "cell_type": "markdown",
   "metadata": {},
   "source": [
    "Existe un interesante conjunto de funciones para las cuáles hay una relación no trivial entre su derivada y el valor de la función misma.  Se conocen como **funciones homogéneas**:  "
   ]
  },
  {
   "cell_type": "markdown",
   "metadata": {
    "label": "box:def:funciones.homogeneas",
    "subtitle": "Funciones homogéneas",
    "tags": [
     "box_definition",
     "box:def:funciones.homogeneas"
    ],
    "title": "Definición"
   },
   "source": [
    "> **Definición 11.2. Funciones homogéneas.**<a id='box:def:funciones.homogeneas'></a> Una función general $f(\\{q_i\\})$ se llama homogénea si frente a una operación de escalado de sus variables (multiplicación por un escalar), la función *escala* también. En términos matemáticos:\n",
    "\n",
    "  $$\n",
    "  f(\\{\\lambda q_i\\})=\\lambda^k f(\\{q_i\\})\n",
    "  $$\n",
    "\n",
    "> donde $\\lambda$ es un número real y $k$ se conoce como el **orden** de la función."
   ]
  },
  {
   "cell_type": "markdown",
   "metadata": {},
   "source": [
    "Las funciones homogéneas son, generalmente polinomios y funciones racionales.  Así por ejemplo $f(x,y)=x^2/a^2+y^2/b^2$, con $a$ y $b$ constantes, y que representa la ecuación algebraica de una elipse, es una función homogénea de grado $k=2$.  De otro lado $f(x)=x^3y^2+y^5$ es homogénea de grado $k=5$.  \n",
    "\n",
    "Las funciones homogéneas más interesantes para nosotros en este libro son del tipo $f(\\vec r)=k r^n$ que son homogéneas de grado $k=n$ (ver problemas al final del capítulo.)\n",
    "\n",
    "Como mencionamos desde el principio, las derivadas de las funciones homogéneas tienen una propiedad muy importante:"
   ]
  },
  {
   "cell_type": "markdown",
   "metadata": {
    "label": "box:teo:funciones.homogeneas.euler",
    "subtitle": "Teorema de funciones homogeneas de de Euler",
    "tags": [
     "box_theorem",
     "box:teo:funciones.homogeneas.euler"
    ],
    "title": "Proposición"
   },
   "source": [
    "> **Proposición: Teorema de funciones homogeneas de de Euler.**<a id='box:teo:funciones.homogeneas.euler'></a> Si una función $f(\\{q_i\\}_N)$ es homogénea de grado $k$, entonces:\n",
    "\n",
    "  $$\n",
    "  \\sum_i q_i \\frac{\\partial f}{\\partial q_i} = k f\n",
    "  $$"
   ]
  },
  {
   "cell_type": "markdown",
   "metadata": {},
   "source": [
    "Para funciones homogéneas definidas en el espacio de tres dimensiones, el teorema de Euler se puede escribir como:\n",
    "\n",
    "$$\n",
    "\\vec r\\cdot\\vec{\\nabla}f=kf\n",
    "$$"
   ]
  },
  {
   "cell_type": "markdown",
   "metadata": {},
   "source": [
    "### Derivada vectorial"
   ]
  },
  {
   "cell_type": "markdown",
   "metadata": {},
   "source": [
    "Para funciones de varias variables (especialmente aquellas con dominio en el espacio coordenado ${\\rm I\\!R}^3$) se definen generalizaciones vectoriales de la derivada que tienen motivaciones e interpretaciones geométricas específicas.  \n",
    "\n",
    "El *operador diferencial vectorial* básico se conoce como el **gradiente**. Denotado comúnmente como $\\vec{\\nabla}$, en coordenadas cartesianas se define explícitamente como:\n",
    "\n",
    "\\begin{equation}\n",
    "\\label{eq:gradiente_cartesianas}\n",
    "\\vec{\\nabla}f(x,y,z)=\n",
    "\\frac{\\partial f}{\\partial x}\\hat{e}_x+\n",
    "\\frac{\\partial f}{\\partial y}\\hat{e}_y+\n",
    "\\frac{\\partial f}{\\partial z}\\hat{e}_z\n",
    "\\end{equation}\n",
    "\n",
    "El operador gradiente en el sistema de coordenadas cilíndrico (con la notación definida anteriormente) esta dado por: \n",
    "\n",
    "\\begin{equation}\n",
    "\\label{eq:gradiente_cilindricas}\n",
    "\\vec{\\nabla}f(r,\\theta,z)=\n",
    "\\frac{\\partial f}{\\partial r}\\hat{e}_r+\n",
    "\\frac{1}{r}\\frac{\\partial f}{\\partial \\theta}\\hat{e}_\\theta+\n",
    "\\frac{\\partial f}{\\partial z}\\hat{e}_z\n",
    "\\end{equation}\n",
    "\n",
    "Donde el factor $1/h_\\theta\\equiv1/r$ se conoce como *factor de escala*.\n",
    "\n",
    "Por su parte en coordenadas esféricas (con la notación definida anteriormente):\n",
    "\n",
    "\\begin{equation}\n",
    "\\label{eq:gradiente_esfericas}\n",
    "\\vec{\\nabla}f(r,\\theta,\\phi)=\n",
    "\\frac{\\partial f}{\\partial r}\\hat{e}_r+\n",
    "\\frac{1}{r}\\frac{\\partial f}{\\partial \\theta}\\hat{e}_\\theta+\n",
    "\\frac{1}{r\\cos\\phi}\\frac{\\partial f}{\\partial \\phi}\\hat{e}_\\phi\n",
    "\\end{equation}\n",
    "\n",
    "En este caso se ha introducido un nuevo factor de escala: $h_\\phi\\equiv r\\cos\\phi$."
   ]
  },
  {
   "cell_type": "markdown",
   "metadata": {
    "label": "",
    "subtitle": "Una notación para el gradiente",
    "tags": [
     "box_note"
    ],
    "title": "Nota"
   },
   "source": [
    "> **Nota: Una notación para el gradiente.**<a id=''></a> Como lo hicimos con la derivada parcial, a lo largo de este libro, abreviaremos el gradiente usando la notación especial:\n",
    "\n",
    "  $$\n",
    "  \\partial_{\\vec{r}} f\\equiv\\frac{\\partial f}{\\partial \\vec r}\\equiv\\vec{\\nabla}f\n",
    "  $$\n",
    "\n",
    "> Aunque no es una notación muy rigurosa, permite abreviar expresiones que de otra manera serían muy elaboradas.  Así por ejemplo, la regla de la cadena (Ec. [regla_cadena_general](#mjx-eqn-eq%3Aregla_cadena_general)) para funciones definidas en el espacio coordenado, se puede escribir de forma compacta como:\n",
    "\n",
    "  \\begin{equation}\n",
    "  \\label{eq:regla_cadena_multivariables}\n",
    "  \\dot{f}(x,y,z,t)=\\partial_{\\vec r} f\\cdot\\dot{\\vec{r}}+\\partial_t f\n",
    "  \\end{equation}\n"
   ]
  },
  {
   "cell_type": "markdown",
   "metadata": {},
   "source": [
    "Existen otros operadores vectoriales (laplaciano, divergencia, rotacional) sobre los que no profundizaremos aquí por no ser de mucha utilidad práctica en la mecánica celeste (al menos no al nivel de este libro.) "
   ]
  },
  {
   "cell_type": "markdown",
   "metadata": {},
   "source": [
    "#### 4.1.5.1. Algoritmos para la derivada\n",
    "<a id='algoritmos_derivada'></a>"
   ]
  },
  {
   "cell_type": "markdown",
   "metadata": {},
   "source": [
    "Existen diversos algoritmos para calcular la derivada de una función en una o varias variables.  En este libro, en donde sea necesario, nos apoyaremos de la biblioteca científica `scipy` y su rutina `derivative` que permite calcular, numéricamente, derivadas de cualquier orden.  \n",
    "\n",
    "El siguiente algoritmo ilustra el uso de `derivative` y sus opciones:"
   ]
  },
  {
   "cell_type": "code",
   "execution_count": 15,
   "metadata": {
    "codelabel": "",
    "codeplot": 0
   },
   "outputs": [],
   "source": [
    "def f(t):\n",
    "    from math import sin\n",
    "    return sin(t)/t\n",
    "\n",
    "#Valor de la variable independiente donde queremos la derivada\n",
    "t=2.0\n",
    "\n",
    "from scipy.misc import derivative\n",
    "\n",
    "#Primera derivada usando un dx=0.01 y 3 puntos\n",
    "dfdt=derivative(f,t,dx=1e-2,n=1,order=3)\n",
    "\n",
    "#Segunda derivada en t\n",
    "d2fdt2=derivative(f,t,dx=1e-2,n=2,order=5)"
   ]
  },
  {
   "cell_type": "code",
   "execution_count": 16,
   "metadata": {
    "codelabel": "",
    "codeplot": 0,
    "tags": [
     "hide_input"
    ]
   },
   "outputs": [
    {
     "name": "stdout",
     "output_type": "stream",
     "text": [
      "dfdt : Numérica = -0.4353938258295498, Exacta = -0.43539777497999166\n",
      "d2fdt2 : Numérica = -0.019250938436687903, Exacta = -0.01925093843284925\n"
     ]
    }
   ],
   "source": [
    "from math import sin,cos\n",
    "print(f\"dfdt : Numérica = {dfdt}, Exacta = {cos(t)/t-sin(t)/t**2}\")\n",
    "print(f\"d2fdt2 : Numérica = {d2fdt2}, Exacta = {-sin(t)/t-cos(t)/t**2-cos(t)/t**2+2*sin(t)/t**3}\")"
   ]
  },
  {
   "cell_type": "markdown",
   "metadata": {},
   "source": [
    "Usando `derivative` es posible diseñar funciones para calcular derivadas parciales e incluso gradientes (para los cuáles no existen funciones en la biblioteca `scipy`).  Así por ejemplo:"
   ]
  },
  {
   "cell_type": "code",
   "execution_count": 17,
   "metadata": {
    "codelabel": "",
    "codeplot": 0
   },
   "outputs": [],
   "source": [
    "def f(x,y,z):\n",
    "    from math import sin\n",
    "    return sin(x*y*z)/(x*y*z)\n",
    "\n",
    "def partial_derivative_x(f,x,y,z,**opciones):\n",
    "    f_solo_x=lambda x:f(x,y,z)\n",
    "    dfdx=derivative(f_solo_x,x,**opciones)\n",
    "    return dfdx\n",
    "\n",
    "x=1.0\n",
    "y=2.0\n",
    "z=3.0\n",
    "dfdx=partial_derivative_x(f,x,y,z,dx=0.01)"
   ]
  },
  {
   "cell_type": "code",
   "execution_count": 18,
   "metadata": {
    "codelabel": "",
    "codeplot": 0,
    "tags": [
     "hide_input"
    ]
   },
   "outputs": [
    {
     "name": "stdout",
     "output_type": "stream",
     "text": [
      "dfdx: Numérica = 1.0061803563982654, Exacta = 1.006739536350187\n"
     ]
    }
   ],
   "source": [
    "print(f\"dfdx: Numérica = {dfdx}, Exacta = {cos(x*y*z)/x-sin(x*y*z)/(x**2*y*z)}\")"
   ]
  },
  {
   "cell_type": "markdown",
   "metadata": {},
   "source": [
    "Nótese como usamos aquí la función `lambda` `f_solo_x`, de la manera que lo hicimos en el Algorítmo ([funcion_lambda](#code:funcion_lambda)) para conseguir el resultado deseado."
   ]
  },
  {
   "cell_type": "markdown",
   "metadata": {},
   "source": [
    "### 4.1.6. Integrales\n",
    "<a id='integrales'></a>"
   ]
  },
  {
   "cell_type": "markdown",
   "metadata": {},
   "source": [
    "Se llama **antiderivada**  de una función de variable real $f(t)$, a la función $F(t)$ cuya derivada es igual a la función original:\n",
    "\n",
    "$$\n",
    "\\dot{F}(t)=f(t)\n",
    "$$\n",
    "  \n",
    "O en notación *integral*:\n",
    "  \n",
    "$$\n",
    "F(t)\\equiv\\int f(t)\\;\\mathrm{d}t\n",
    "$$\n",
    "  \n",
    "A $F(t)$ o equivalentemente $\\int f(t)\\;\\mathrm{d}t$ se la llama también la **integral indefinida** de $f(t)$.\n",
    "  \n",
    "La antiderivada permite calcular la **cuadratura de una función**, que no es otra cosa que el área encerrada por la curva en el plano cartesiano definido por la variable independiente y los valores de la función:"
   ]
  },
  {
   "cell_type": "markdown",
   "metadata": {
    "label": "box:teo:formula.newton.leibniz",
    "subtitle": "Fórmula de Newton-Leibniz",
    "tags": [
     "box_theorem",
     "box:teo:formula.newton.leibniz"
    ],
    "title": "Proposición"
   },
   "source": [
    "> **Proposición: Fórmula de Newton-Leibniz.**<a id='box:teo:formula.newton.leibniz'></a> [$^1$](11.00.00.00.ApendiceAlgoritmos.ipynb#notaspie_1). Dada una función $f(t)$ que tiene antiderivada $F(t)$ definida en el intervalo $[a,b]$, el área o cuadratura de la función en el mismo intervalo esta dado por:\n",
    "\n",
    "  $$ \n",
    "  \\int_a^b f(t)\\;\\mathrm{d}t=F(b)-F(a)\n",
    "  $$\n",
    "  \n",
    "> A la cantidad $\\int_a^b f(t)\\;\\mathrm{d}t$ se la llama **integral definida** de $f(t)$."
   ]
  },
  {
   "cell_type": "markdown",
   "metadata": {},
   "source": [
    "En términos de la integral definida podemos definir una nueva función:\n",
    "\n",
    "$$\n",
    "I(t)=\\int_a^t f(\\tau)\\;\\mathrm{d}\\tau\n",
    "$$\n",
    "\n",
    "Nótese que para ser rigorusos hemos cambiado el nombre de la \"variable de integración\" $\\tau$ para no confundirla con el límite superior de la integral $t$.  \n",
    "\n",
    "Esta nueva función tiene una importante propiedad:"
   ]
  },
  {
   "cell_type": "markdown",
   "metadata": {
    "label": "box:teo:fundamental.calculo",
    "subtitle": "Teorema fundamental del cálculo",
    "tags": [
     "box_theorem",
     "box:teo:fundamental.calculo"
    ],
    "title": "Proposición"
   },
   "source": [
    "> **Proposición: Teorema fundamental del cálculo.**<a id='box:teo:fundamental.calculo'></a> Dada una función $f(t)$ integrable en el intervalo $[a,b]$, si definimos la función $I(t)=\\int_a^t f(\\tau)\\;\\mathrm{d}\\tau$, entonces:\n",
    "\n",
    "  $$ \n",
    "  \\frac{\\mathrm{d}I}{\\mathrm{d}t}=f(t)\n",
    "  $$\n",
    "  \n",
    "  o bien,\n",
    "  \n",
    "  \\begin{equation}\n",
    "  \\label{eq:teorema_fundamental_calculo}\n",
    "  \\frac{\\mathrm{d}}{\\mathrm{d}t}\\int_a^t f(\\tau)\\;\\mathrm{d}\\tau=f(t)\n",
    "  \\end{equation}  "
   ]
  },
  {
   "cell_type": "markdown",
   "metadata": {},
   "source": [
    "Es interesante anotar que aunque la antiderivada $F(t)$ y la función $I(t)$ tienen la misma derivada en $t$, es decir $\\mathrm{d}F/\\mathrm{d}t=\\mathrm{d}I/\\mathrm{d}t=f(t)$, no son necesariamente la misma función.  Considere, por ejemplo, el hecho elemental de que $I(a)=0$ (por definición) mientras que $F(a)$ podría ser cualquier número (incluyendo cero por supuesto.)"
   ]
  },
  {
   "cell_type": "markdown",
   "metadata": {},
   "source": [
    "### 4.1.7. Integrales vectoriales\n",
    "<a id='integrales_vectoriales'></a>"
   ]
  },
  {
   "cell_type": "markdown",
   "metadata": {},
   "source": [
    "Una extrapolación del concepto de integral a funciones de varias variables (campos escalares y campos vectoriales) conduce a algunas operaciones integrales de gran importancia en la física.  Para los propósitos de lo que veremos en este libro, son de particular interés las integrales del tipo:\n",
    "\n",
    "$$\n",
    "\\int \\vec F\\cdot \\mathrm{d}\\vec r,\n",
    "$$\n",
    "\n",
    "que se define sobre todos los valores de $\\vec r$ de una curva en el espacio coordenado.  A esta integral se la conoce como **integral de línea**.   Si la trayectoria es cerrada, escribiremos:\n",
    "\n",
    "$$\n",
    "\\oint \\vec F\\cdot \\mathrm{d}\\vec r,\n",
    "$$\n",
    "\n",
    "que no se diferencia (matemáticamente) en nada de una integral de línea.  A esta integral la llamaremos **circulación** del campo vectorial $\\vec F$.\n",
    "\n",
    "Otro tipo de integral vectorial de interés es:\n",
    "\n",
    "$$\n",
    "\\int_\\Sigma \\vec F\\cdot \\mathrm{d}\\vec{S}\n",
    "$$\n",
    "\n",
    "Donde $\\mathrm{d}\\vec S$ tiene dirección normal a la superficie $\\Sigma$ (formada por el lugar geométrico de todos los puntos que la definen) y magnitud igual al área de una fracción infinitesimal de la superficie.  "
   ]
  },
  {
   "cell_type": "markdown",
   "metadata": {
    "label": "box:teo:stokes",
    "subtitle": "teorema de Stokes",
    "tags": [
     "box_theorem",
     "box:teo:stokes"
    ],
    "title": "Proposición"
   },
   "source": [
    "> **Proposición: teorema de Stokes.**<a id='box:teo:stokes'></a> Si $\\vec F(\\vec r)$ es un campo vectorial diferenciable en todos los puntos del espacio, entonces:\n",
    "\n",
    "  $$\n",
    "  \\oint \\vec F\\cdot\\mathrm{d}\\vec r = \\int_\\Sigma (\\vec{\\nabla}\\times \\vec F)\\cdot \\mathrm{d}\\vec{S}\n",
    "  $$\n",
    "\n",
    "> Donde $\\Sigma$ es cualquier superficie que tenga como frontera la trayectoria sobre la que se define la circulación."
   ]
  },
  {
   "cell_type": "markdown",
   "metadata": {},
   "source": [
    "Un importante corolario del teorema de Stokes es el siguiente:"
   ]
  },
  {
   "cell_type": "markdown",
   "metadata": {
    "label": "box:cor:stokes",
    "subtitle": "Corolario de Stokes",
    "tags": [
     "box_theorem",
     "box:cor:stokes"
    ],
    "title": "Proposición"
   },
   "source": [
    "> **Proposición: Corolario de Stokes.**<a id='box:cor:stokes'></a> Si el campo vectorial $\\vec F(\\vec r)$ tiene circulación nula:\n",
    "\n",
    "  $$\n",
    "  \\oint \\vec F\\cdot\\mathrm{d}\\vec r = 0\n",
    "  $$\n",
    "\n",
    "> Entonces existe un campo escalar $U(\\vec r)$ tal que:\n",
    "\n",
    "  $$\n",
    "  \\vec F=\\vec{\\nabla} U\n",
    "  $$\n",
    "  \n",
    "> Llamamos a $U$ la función *potencial* de $\\vec F$."
   ]
  },
  {
   "cell_type": "markdown",
   "metadata": {},
   "source": [
    "#### 4.1.7.1. Algoritmos para la integral\n",
    "<a id='algoritmos_integral'></a>"
   ]
  },
  {
   "cell_type": "markdown",
   "metadata": {},
   "source": [
    "El cálculo numérico de integrales es una basta área del análisis numérico.  En cada lenguaje de programación es posible encontrar bibliotecas completas con rutinas para el cálculo de aproximaciones numéricas de integrales definidas e integrales vectoriales.\n",
    "\n",
    "Para los propósitos de este libro, usaremos la rutina `quad` de la biblioteca `SciPy` para calcular numéricamente integrales definidas de funciones de variable real.  \n",
    "\n",
    "En el algoritmo provisto a continuación, calculamos, por ejemplo, el trabajo $W\\equiv\\int F(x)\\;\\mathrm{d}x$ sobre una partícula que se mueve en una dimensióm sometida a una fuerza del tipo $F(x)=-kx$, asumiendo que $k=0.1$ y que la partícula se desplaza entre $x=1.0$ y $x=5.0$:"
   ]
  },
  {
   "cell_type": "code",
   "execution_count": 32,
   "metadata": {
    "codelabel": "",
    "codeplot": 0
   },
   "outputs": [],
   "source": [
    "#El integrando debe definirse como una rutina\n",
    "def F(x,k=1):\n",
    "    return -k*x\n",
    "\n",
    "from scipy.integrate import quad\n",
    "k=0.1\n",
    "x0=1.0\n",
    "x1=5.0\n",
    "integral=quad(F,x0,x1,args=(k,))"
   ]
  },
  {
   "cell_type": "code",
   "execution_count": 35,
   "metadata": {
    "codelabel": "",
    "codeplot": 0,
    "tags": [
     "hide_input"
    ]
   },
   "outputs": [
    {
     "name": "stdout",
     "output_type": "stream",
     "text": [
      "Integral: Numérica = (-1.2, 1.3322676295501878e-14), Exacta = -1.2\n"
     ]
    }
   ],
   "source": [
    "print(f\"Integral: Numérica = {integral}, Exacta = {-0.5*(k*x1**2-k**x0**2)}\")"
   ]
  },
  {
   "cell_type": "markdown",
   "metadata": {},
   "source": [
    "Nótese que los argumentos opcionales del integrando se pasan como la `tupla` `args` que en este caso, dado que la función solo depende de un parámetro opcional, se escribe de forma poco intuitiva como `args=(k,)` donde la coma final es oblogatoria.  \n",
    "\n",
    "El resultado de la turina `quad` es una `tupla` con dos números: el valor de la integral y el error estimado de la misma.  Como vemos, en el ejemplo arriba, la integral es prácticamente exacta."
   ]
  },
  {
   "cell_type": "markdown",
   "metadata": {
    "label": "",
    "subtitle": "Cuadraturas Gaussianas",
    "tags": [
     "box_note"
    ],
    "title": "Nota"
   },
   "source": [
    "> **Nota: Cuadraturas Gaussianas.**<a id=''></a> El método usado por `quad` para calcular la integral se conoce como *cuadraturas gaussianas* y aproxima la integral como una serie de pocos términos del valor de la función definido en algunos puntos específicos <cite data-cite=\"Press2007Numerical\"><a href=\"mybook.html#Press2007Numerical\">(Press et al., 2007)</a></cite>.  Las cuadraturas gaussianas permiten calcular la integral de funciones polinómicas de forma *exacta*.  Esta es la razón por la cuál la integral en el ejemplo dado aquí, es idéntica al valor esperado."
   ]
  },
  {
   "cell_type": "markdown",
   "metadata": {
    "tags": [
     "footnote"
    ]
   },
   "source": [
    "**NOTAS AL PIE:**\n",
    "\n",
    "<a id='notaspie_1'></a>\n",
    "1. A esta fórmula se la llama a menudo *segundo teorema fundamental del cálculo*\n",
    "\n"
   ]
  },
  {
   "cell_type": "markdown",
   "metadata": {
    "tags": [
     "navigation"
    ]
   },
   "source": [
    "[Indice](index.ipynb) | Previo: [Fundamentos.Calculo.Vectores](04.01.01.00.Fundamentos.Calculo.Vectores.ipynb) | Siguiente: [Fundamentos.Calculo.EcuacionesDiferenciales](04.01.03.00.Fundamentos.Calculo.EcuacionesDiferenciales.ipynb)"
   ]
  }
 ],
 "metadata": {
  "celltoolbar": "Tags",
  "kernelspec": {
   "display_name": "Python 3",
   "language": "python",
   "name": "python3"
  },
  "language_info": {
   "codemirror_mode": {
    "name": "ipython",
    "version": 3
   },
   "file_extension": ".py",
   "mimetype": "text/x-python",
   "name": "python",
   "nbconvert_exporter": "python",
   "pygments_lexer": "ipython3",
   "version": "3.6.8"
  }
 },
 "nbformat": 4,
 "nbformat_minor": 2
}
