{
 "cells": [
  {
   "cell_type": "markdown",
   "metadata": {
    "tags": [
     "navigation"
    ]
   },
   "source": [
    "[Indice](index.ipynb) | Previo: [Fundamentos.Conicas.Anomalias](04.02.03.00.Fundamentos.Conicas.Anomalias.ipynb) | Siguiente: [Fundamentos.Conicas.Rotaciones](04.02.05.00.Fundamentos.Conicas.Rotaciones.ipynb)"
   ]
  },
  {
   "cell_type": "markdown",
   "metadata": {},
   "source": [
    "### 4.2.15. Área de las cónicas\n",
    "<a id='area_conicas'></a>"
   ]
  },
  {
   "cell_type": "markdown",
   "metadata": {},
   "source": [
    "Existe un último resultado de la geometría analítica de las cónicas que es de interés para la mecánica celeste: el área encerrada por estas curvas.  Como veremos en el [Capítulo *El problema de los dos cuerpos*](Not Found#problema_doscuerpos), el área es la única cantidad geométrica cuyo valor puede predicerse de forma exacta como función del tiempo cuando describimos el movimiento de un cuerpo respecto a un centro de atracción."
   ]
  },
  {
   "cell_type": "markdown",
   "metadata": {
    "label": "",
    "subtitle": "Newton, el área debajo de la hipérbola y la invención del cálculo",
    "tags": [
     "box_history"
    ],
    "title": "Un poco de historia"
   },
   "source": [
    "> **Un poco de historia: Newton, el área debajo de la hipérbola y la invención del cálculo.**<a id=''></a> El cálculo del área encerrada por curvas arbitrarias (cuadratura) es uno de los problemas clásicos de la geometría y en los 1600 uno de los que motivo la invención del cálculo infinitesimal (ver [Sección *Integrales*](04.01.02.00.Fundamentos.Calculo.CalculoInfinitesimal.ipynb#integrales).) "
   ]
  },
  {
   "cell_type": "markdown",
   "metadata": {},
   "source": [
    "En la Figura ([conicas_area](#fig:conicas_area)) se muestran las construcciones geométricas que usaremos en las próximas sesiones para calcular el área encerrada por elipses, hipérbolas y parábolas en función de las anomalías definidas en las secciones anterioes y otros parámetros geométricos de esas mismas cónicas."
   ]
  },
  {
   "cell_type": "markdown",
   "metadata": {},
   "source": [
    "<a id='fig:conicas_area'></a>![Construcción geométrica usada aquí para deducir la relación entre las anomalías $f$, $E$ y $F$ y el área del sector de cónica (región sombreada).++t!++1.0++\\label{fig:conicas_area}](./figures/square_area_conicas.png)\n",
    "\n",
    "<center><b>Figura 4.30</b>. Construcción geométrica usada aquí para deducir la relación entre las anomalías $f$, $E$ y $F$ y el área del sector de cónica (región sombreada).</center>"
   ]
  },
  {
   "cell_type": "markdown",
   "metadata": {},
   "source": [
    "En los tres casos el área del *sector de cónica* PQF, que es el área de interés para nosotros en la mecánica celeste, se puede siempre escribir como la suma del segmento PQO y del triángulo PFQ:\n",
    "\n",
    "\\begin{equation}\n",
    "\\label{eq:area_sector}\n",
    "\\Delta A\\equiv A_\\mathrm{PQF}=A_\\mathrm{PFQ}+A_\\mathrm{PQO}\n",
    "\\end{equation}\n",
    "\n",
    "El problema, en las tres cónicas consiste en calcular estas dos áreas como función de las anomalías excéntricas (en el caso de la elipse y la hipérbola y de la anomalía verdadera en el caso de la parábola."
   ]
  },
  {
   "cell_type": "markdown",
   "metadata": {},
   "source": [
    "#### 4.2.15.1. Área de un sector de elipse\n",
    "<a id='area_elipse'></a>"
   ]
  },
  {
   "cell_type": "markdown",
   "metadata": {},
   "source": [
    "El área del triángulo en PFQ en la elipse (ver panel superior en Figura ([conicas_area](#fig:conicas_area))) se puede escribir en términos de la anomalía excéntrica $E$ como:\n",
    "\n",
    "\\begin{eqnarray}\n",
    "\\nonumber\n",
    "A_\\mathrm{PFQ} & = & \\frac{1}{2} b\\sin E (a\\cos E-ae)\\\\\n",
    "\\label{eq:A_PFQ}\n",
    "               & = & \\frac{1}{2} ab\\sin E\\cos E - abe\\sin E\n",
    "\\end{eqnarray}"
   ]
  },
  {
   "cell_type": "markdown",
   "metadata": {},
   "source": [
    "Por otro lado, el área del segmento de elipse PQO se puede expresar como la integral definida:\n",
    "\n",
    "$$\n",
    "A_\\mathrm{PQO}=\\int_{-a}^{x_c} y_c(x) \\mathrm{d}x\n",
    "$$\n",
    "\n",
    "Por las propiedades geométricas de la elipse (ver [Sección *Anomalía de la elipse*](04.02.03.00.Fundamentos.Conicas.Anomalias.ipynb#conicas_anomalias)) la ordenada del punto P es $y_c(x)=(b/a)Y(x)$, donde $Y$ es la correspondiente ordenada del punto R sobre la circunferencia circunscrita en la elipse de radio $a$ . De esta manera el área del segmento de elipse se puede expresar en términos del área de segmento de circulo RQO como:\n",
    "\n",
    "\\begin{equation}\n",
    "\\label{eq:A_PQO}\n",
    "A_\\mathrm{PQO}=\\frac{1}{2}A_\\mathrm{RQO}\n",
    "\\end{equation}"
   ]
  },
  {
   "cell_type": "markdown",
   "metadata": {},
   "source": [
    "Por su parte:\n",
    "\n",
    "$$\n",
    "A_\\mathrm{RQO}=A_\\mathrm{RCO}-A_\\mathrm{RCQ}\n",
    "$$\n",
    "que a su vez se escriben en términos de $E$ como:\n",
    "\n",
    "\\begin{equation}\n",
    "\\label{eq:A_RQO}\n",
    "A_\\mathrm{RQO}=\\frac{1}{2}a^2 E-\\frac{1}{2}a^2\\sin E\\cos E\n",
    "\\end{equation}\n"
   ]
  },
  {
   "cell_type": "markdown",
   "metadata": {},
   "source": [
    "Reemplazando la Ec. ([A_RQO](#mjx-eqn-eq%3AA_RQO)) en la ([A_PQO](#mjx-eqn-eq%3AA_PQO)) y esta última junto con la Ec. ([A_PFQ](#mjx-eqn-eq%3AA_PFQ)) en la fórmula original (Ec. [area_sector](#mjx-eqn-eq%3Aarea_sector)) obetenmos finalmente:\n",
    "\n",
    "\\begin{equation}\n",
    "\\label{eq:area_sector_elipse}\n",
    "\\Delta A_\\mathrm{elipse}=\\frac{1}{2}ab(E-\\sin E)\n",
    "\\end{equation}"
   ]
  },
  {
   "cell_type": "markdown",
   "metadata": {},
   "source": [
    "Siendo la elipse la única figura cerrada entre las cónicas, es posible calcular el área total encerrada por ella haciendo en la última ecuación $E=2\\pi$:\n",
    "\n",
    "\\begin{equation}\n",
    "\\label{eq:area_elipse}\n",
    "A_\\mathrm{elipse}=\\pi ab E\n",
    "\\end{equation}"
   ]
  },
  {
   "cell_type": "markdown",
   "metadata": {},
   "source": [
    "#### 4.2.15.2. Área de un sector de hipérbola\n",
    "<a id='area_hiperbola'></a>"
   ]
  },
  {
   "cell_type": "markdown",
   "metadata": {},
   "source": [
    "La construcción en la Figura ([conicas_areas](#fig:conicas_areas)) permite, en el caso de la hipérbola (ver panel inferior izquierdo) escribir las áreas de interés en la Ec. ([area_sector](#mjx-eqn-eq%3Aarea_sector)) como:\n",
    "\n",
    "\\begin{eqnarray}\n",
    "\\nonumber\n",
    "A_\\mathrm{PFQ} & = & \\frac{1}{2}\\beta\\sinh F(|a|+q-|a|\\cosh F)\\\\\n",
    "\\nonumber\n",
    "A_\\mathrm{PQO} & = & \\int_{|a|}^{|a|\\cosh F} \\beta\\sqrt{\\frac{x^2}{a^2}-1}\\;\\mathrm{d}x\n",
    "\\end{eqnarray}\n",
    "\n",
    "Para la última expresión usamos la ecuación de la hipérbola referida al centro (ver Ec. [ecuacion_centro_hiperbola](#mjx-eqn-eq%3Aecuacion_centro_hiperbola)).  \n",
    "\n"
   ]
  },
  {
   "cell_type": "markdown",
   "metadata": {},
   "source": [
    "Resolviendo la integral (ver problemas al final del capítulo), sumando las dos áreas y teniendo en cuenta que $q=|a|(e-1)$ obtenemos finalmente el área del sector de hipérbola:\n",
    "\n",
    "\\begin{equation}\n",
    "\\label{eq:area_sector_hiperbola}\n",
    "\\Delta A_\\mathrm{hiperbola}=\\frac{1}{2}|a|\\beta(e\\sinh F-F)\n",
    "\\end{equation}"
   ]
  },
  {
   "cell_type": "markdown",
   "metadata": {},
   "source": [
    "#### 4.2.15.3. Área de un sector de parábola\n",
    "<a id='area_parábola'></a>"
   ]
  },
  {
   "cell_type": "markdown",
   "metadata": {},
   "source": [
    "De forma análoga a como lo hicimos con la hipérbola, podemos escribir lás áreas que componen el sector de parábola en términos de la anomalía verdadera $f$ (ver panel inferior derecho en la Figura ([conicas_areas](#fig:conicas_areas))):\n",
    "\n",
    "\\begin{eqnarray}\n",
    "\\nonumber\n",
    "A_\\mathrm{PFQ} & = & \\frac{1}{2}r^2 \\sin f\\cos f\\\\\n",
    "\\nonumber\n",
    "A_\\mathrm{PQO} & = & \\int_{0}^{q-r\\cos f} \\sqrt{2 p x}\\;\\mathrm{d}x\n",
    "\\end{eqnarray}\n",
    "donde en la integral hemos usado la ecuación de la parábola con origen en el ápside $y_a(x_a)^2=2px_a$ (ver Ec. [ecuacion_apside_pe](#mjx-eqn-eq%3Aecuacion_apside_pe))."
   ]
  },
  {
   "cell_type": "markdown",
   "metadata": {},
   "source": [
    "A pesar de que estas expresiones parecen más fáciles de desarrollar matemáticamente, en realidad encontrar una versión simplificada del área del sector de parábola es más complicado de lo que es para el caso del sector de elipse y el de hipérbola."
   ]
  },
  {
   "cell_type": "markdown",
   "metadata": {},
   "source": [
    "En términos llanos (sin simplificaciones trigonométricas), el área del sector, que es la suma de las ecuaciones anteriores resulta ser:\n",
    "\n",
    "$$\n",
    "\\Delta A_\\mathrm{parabola}=\\frac{1}{2}\\frac{p^2\\sin f\\cos f}{(1+\\cos f)^2}+\\frac{p^2}{3}\\left(\\frac{1-\\cos f}{1+\\cos f}\\right)^{3/2}\n",
    "$$\n",
    "donde hemos usado la ecuación de la parábola en coordenadas cilíndricas, $r=p/(1+\\cos f)$ y el hecho que $q=p/2$."
   ]
  },
  {
   "cell_type": "markdown",
   "metadata": {},
   "source": [
    "La fracción en el segundo término del lado derecho se puede escribir como:\n",
    "\n",
    "$$\n",
    "\\frac{1-\\cos f}{1+\\cos f}=\\tan\\frac{f}{2}\n",
    "$$\n",
    "y esto nos ofrece una clave de cómo simplificar el primer término: escribiéndo $\\sin f$ y $\\cos f$ en términos de $\\tan(f/2)$:\n",
    "\n",
    "\\begin{eqnarray}\n",
    "\\sin f & = & \\frac{2\\tan\\frac{f}{2}}{1+\\tan^2\\frac{f}{2}}\\\\\n",
    "\\cos f & = & \\frac{1-\\tan^2\\frac{f}{2}}{1+\\tan^2\\frac{f}{2}}\\\\\n",
    "\\end{eqnarray}"
   ]
  },
  {
   "cell_type": "markdown",
   "metadata": {},
   "source": [
    "Reemplazando, el área del sector de parábola queda:\n",
    "\n",
    "$$\n",
    "\\Delta A_\\mathrm{parabola}=\\frac{1}{4} p^2\\tan\\frac{f}{2}\\left(1-\\tan^2\\frac{f}{2}\\right)+\\frac{p^2}{6}\\tan^3\\frac{f}{2}\n",
    "$$\n",
    "y simplifando obtenemos finalmente:\n",
    "\n",
    "\\begin{equation}\n",
    "\\label{eq:area_sector_parabola}\n",
    "\\Delta A_\\mathrm{parabola}=\\frac{1}{4}p^2\\left(\\tan\\frac{f}{2}+\\frac{1}{3}\\tan^3\\frac{f}{2}\\right)\n",
    "\\end{equation}"
   ]
  },
  {
   "cell_type": "markdown",
   "metadata": {
    "tags": [
     "navigation"
    ]
   },
   "source": [
    "[Indice](index.ipynb) | Previo: [Fundamentos.Conicas.Anomalias](04.02.03.00.Fundamentos.Conicas.Anomalias.ipynb) | Siguiente: [Fundamentos.Conicas.Rotaciones](04.02.05.00.Fundamentos.Conicas.Rotaciones.ipynb)"
   ]
  }
 ],
 "metadata": {
  "celltoolbar": "Tags",
  "kernelspec": {
   "display_name": "Python 3",
   "language": "python",
   "name": "python3"
  },
  "language_info": {
   "codemirror_mode": {
    "name": "ipython",
    "version": 3
   },
   "file_extension": ".py",
   "mimetype": "text/x-python",
   "name": "python",
   "nbconvert_exporter": "python",
   "pygments_lexer": "ipython3",
   "version": "3.6.8"
  }
 },
 "nbformat": 4,
 "nbformat_minor": 2
}
