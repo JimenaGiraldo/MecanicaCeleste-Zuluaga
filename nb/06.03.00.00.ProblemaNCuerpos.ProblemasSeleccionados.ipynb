{
 "cells": [
  {
   "cell_type": "markdown",
   "metadata": {
    "tags": [
     "navigation"
    ]
   },
   "source": [
    "[Indice](index.ipynb) | Previo: [ProblemaNCuerpos.SolucionNumerica.ConstantesMovimiento](06.03.00.00.ProblemaNCuerpos.SolucionNumerica.ConstantesMovimiento.ipynb) | Siguiente: [Problema2Cuerpos](07.00.00.00.Problema2Cuerpos.ipynb)"
   ]
  },
  {
   "cell_type": "markdown",
   "metadata": {},
   "source": [
    "## 6.5. Problemas seleccionados\n",
    "<a id='ncuerpos_problemas'></a>"
   ]
  },
  {
   "cell_type": "markdown",
   "metadata": {
    "tags": [
     "problem"
    ]
   },
   "source": [
    "1.  **Fuerza gravitacional y energía potencial a partir de un gradiente.** \n",
    "\n",
    "> a. Demuestre que \n",
    "\n",
    ">> $$\n",
    " \\displaystyle \\nabla_j \\left(\\frac{Gm_im_j}{|\\vec{r}_j - \\vec{r}_i|}\\right) = -\\frac{Gm_im_j}{|\\vec{r}_j - \\vec{r}_i|^3}(\\vec{r}_j - \\vec{r}_i)\n",
    "$$\n",
    "\n",
    "> b. A partir de lo anterior y de la introducción de un factor integrante en las ecuaciones de movimiento de $N$ cuerpos, demuestre que la energía potecial de este sistema aislado se puede escribir como \n",
    "\n",
    ">> $$\n",
    "U=-\\frac{1}{2}\\sum_i \\sum_{j\\neq i} \\frac{m_i\\mu_j}{r_{ji}} \n",
    "$$"
   ]
  },
  {
   "cell_type": "markdown",
   "metadata": {
    "tags": [
     "navigation"
    ]
   },
   "source": [
    "[Indice](index.ipynb) | Previo: [ProblemaNCuerpos.SolucionNumerica.ConstantesMovimiento](06.03.00.00.ProblemaNCuerpos.SolucionNumerica.ConstantesMovimiento.ipynb) | Siguiente: [Problema2Cuerpos](07.00.00.00.Problema2Cuerpos.ipynb)"
   ]
  }
 ],
 "metadata": {
  "kernelspec": {
   "display_name": "Python 3",
   "language": "python",
   "name": "python3"
  },
  "language_info": {
   "codemirror_mode": {
    "name": "ipython",
    "version": 3
   },
   "file_extension": ".py",
   "mimetype": "text/x-python",
   "name": "python",
   "nbconvert_exporter": "python",
   "pygments_lexer": "ipython3",
   "version": "3.6.8"
  },
  "mybook": {
   "type": "problems:0"
  }
 },
 "nbformat": 4,
 "nbformat_minor": 2
}
