{
 "cells": [
  {
   "cell_type": "markdown",
   "metadata": {
    "tags": [
     "navigation"
    ]
   },
   "source": [
    "[Indice](index.ipynb) | Previo: [ProblemaNCuerpos.SolucionNumerica.ConstantesMovimiento](06.03.00.00.ProblemaNCuerpos.SolucionNumerica.ConstantesMovimiento.ipynb) | Siguiente: [Problema2Cuerpos](07.00.00.00.Problema2Cuerpos.ipynb)"
   ]
  },
  {
   "cell_type": "markdown",
   "metadata": {},
   "source": [
    "## 6.5. Problemas seleccionados\n",
    "<a id='ncuerpos_problemas'></a>"
   ]
  },
  {
   "cell_type": "markdown",
   "metadata": {
    "tags": [
     "problem"
    ]
   },
   "source": [
    "1.  **Fuerza gravitacional y energía potencial a partir de un gradiente.** \n",
    "\n",
    "> a. Demuestre que \n",
    "\n",
    ">> $$\n",
    " \\displaystyle \\nabla_j \\left(\\frac{Gm_im_j}{|\\vec{r}_j - \\vec{r}_i|}\\right) = -\\frac{Gm_im_j}{|\\vec{r}_j - \\vec{r}_i|^3}(\\vec{r}_j - \\vec{r}_i)\n",
    "$$\n",
    "\n",
    "> b. A partir de lo anterior y de la introducción de un factor integrante en las ecuaciones de movimiento de $N$ cuerpos, demuestre que la energía potecial de este sistema aislado se puede escribir como \n",
    "\n",
    ">> $$\n",
    "U=-\\frac{1}{2}\\sum_i \\sum_{j\\neq i} \\frac{m_i\\mu_j}{r_{ji}} \n",
    "$$"
   ]
  },
  {
   "cell_type": "markdown",
   "metadata": {
    "tags": [
     "solution"
    ]
   },
   "source": [
    "1.  **Solución**\n",
    "\n",
    "> a. Miremos, para ilustrarnos un poco, que \n",
    "\n",
    ">> \\begin{eqnarray}\n",
    "\\frac{\\partial}{\\partial x}\\left(\\frac{1}{\\left|x-y\\right|}\\right)&=&\\frac{\\partial}{\\partial x}\\left(\\frac{1}{\\sqrt{\\left(x-y\\right)^{2}}}\\right)\\\\&=&\\frac{\\partial}{\\partial x}\\left[\\left(x-y\\right)^{2}\\right]^{-1/2}\\\\&=&-\\frac{1}{2}\\left[\\left(x-y\\right)^{2}\\right]^{-3/2}\\frac{\\partial}{\\partial x}\\left(x-y\\right)^{2}\\\\&=&-\\left[\\left(x-y\\right)^{2}\\right]^{-3/2}\\left(x-y\\right)\\\\&=&-\\frac{\\left(x-y\\right)}{\\left|x-y\\right|^{3}}.\n",
    "\\end{eqnarray}\n",
    "\n",
    ">> De esta manera, en coordenadas cartesianas, \n",
    "\n",
    ">> \\begin{eqnarray}\n",
    "\\nabla_{j}\\left(\\frac{Gm_{i}m_{j}}{\\left|\\vec{r_{j}}-\\vec{r_{i}}\\right|}\\right)&=&Gm_{i}m_{j}\\left[\\frac{\\partial}{\\partial x}\\left(\\frac{1}{\\left|\\vec{r_{j}}-\\vec{r_{i}}\\right|}\\right)\\hat{i}+\\frac{\\partial}{\\partial y}\\left(\\frac{1}{\\left|\\vec{r_{j}}-\\vec{r_{i}}\\right|}\\right)\\hat{j}+\\frac{\\partial}{\\partial z}\\left(\\frac{1}{\\left|\\vec{r_{j}}-\\vec{r_{i}}\\right|}\\right)\\hat{k}\\right]\\\\&=&-\\frac{Gm_{i}m_{j}}{\\left|\\vec{r_{j}}-\\vec{r_{i}}\\right|^{3}}\\left[\\left(x_{j}-x_{i}\\right)\\hat{i}+\\left(y_{j}-y_{i}\\right)\\hat{j}+\\left(z_{j}-z_{i}\\right)\\hat{k}\\right]\\\\&=&-\\frac{Gm_{i}m_{j}}{\\left|\\vec{r_{j}}-\\vec{r_{i}}\\right|^{3}}\\left(\\vec{r_{j}}-\\vec{r_{i}}\\right).\n",
    "\\end{eqnarray}\n",
    "\n",
    "> b. Si definimos al argumento del gradiente como la energía potencial gravitacional entre las partículas $m_{i}$ y $m_{j}$, $U_{ji}$, entonces la ecuación de movimiento de la $i-$ésima partícula se puede escribir como \n",
    "\n",
    ">> $$m_{i}\\ddot{\\vec{r}}_{i}=-\\sum_{j\\neq i}\\nabla_{i}U_{ji},$$\n",
    "en donde el subíndice $j\\neq i$ es dado que la partícula $i$ no se hace fuerza a ella misma o no tiene energía potencial por sí sola. Ahora, si premultiplicamos a ambos lados de la ecuación por la velocidad de la partícula $i-$ésima $\\dot{\\vec{r}}_{i}\\cdot$, se sigue\n",
    "\n",
    ">> $$m_{i}\\dot{\\vec{r}}_{i}\\cdot\\ddot{\\vec{r}}_{i}=-\\sum_{j\\neq i}\\dot{\\vec{r}}_{i}\\cdot\\nabla_{i}U_{ji},$$\n",
    "donde $\\dot{\\vec{r}}_{i}\\cdot$ distribuye a la suma para notar que $\\vec{r}_{i}\\cdot\\nabla_{i}U_{ji}=\\mathrm{d}U_{ji}/\\mathrm{d}t$. Recordando, además, que\n",
    "\n",
    ">> $$\\dot{\\vec{r}}_{i}\\cdot\\ddot{\\vec{r}}_{i}=\\frac{1}{2}\\frac{\\mathrm{d}}{\\mathrm{d}t}\\left(\\dot{\\vec{r}}_{i}^{2}\\right),$$\n",
    "\n",
    ">> si sumamos todas las ecuaciones de cada partícula $i$ obtenemos\n",
    "\n",
    ">> $$\\frac{d}{dt}\\left(\\frac{1}{2}\\sum_{i}m_{i}\\dot{\\vec{r}_{i}}^{2}\\right)=-\\frac{d}{dt}\\left(\\sum_{i}\\sum_{j\\neq i}U_{ji}\\right),$$\n",
    ">> donde las derivadas temporales salen de las integrales como “factor” común. Al lado izquierdo de la ecuación se puede reconocer la energía cinética del sistema de partículas, mientras que al lado derecho se reconoce a energía potencial total del sistema. Dado que definimos\n",
    "\n",
    ">> $$U_{ji}=-\\frac{m_{i}\\mu_{j}}{r_{ji}},$$\n",
    "\n",
    ">> se puede notar que, al sumar sobre $i$, se está sumando dos veces la energía potencial de cada pareja de partículas $\\left(i,j\\right)$, por lo que la energía total del sistema aislado se debe poder escribir como \n",
    "\n",
    ">> $$U=-\\frac{1}{2}\\sum_{i}\\sum_{j\\neq i}\\frac{m_{i}\\mu_{j}}{r_{ji}},$$\n",
    ">> donde el 1/2 indica que se debe tomar una sola vez cada una de los pares de sistemas. "
   ]
  },
  {
   "cell_type": "markdown",
   "metadata": {
    "tags": [
     "navigation"
    ]
   },
   "source": [
    "[Indice](index.ipynb) | Previo: [ProblemaNCuerpos.SolucionNumerica.ConstantesMovimiento](06.03.00.00.ProblemaNCuerpos.SolucionNumerica.ConstantesMovimiento.ipynb) | Siguiente: [Problema2Cuerpos](07.00.00.00.Problema2Cuerpos.ipynb)"
   ]
  }
 ],
 "metadata": {
  "kernelspec": {
   "display_name": "Python 3",
   "language": "python",
   "name": "python3"
  },
  "language_info": {
   "codemirror_mode": {
    "name": "ipython",
    "version": 3
   },
   "file_extension": ".py",
   "mimetype": "text/x-python",
   "name": "python",
   "nbconvert_exporter": "python",
   "pygments_lexer": "ipython3",
   "version": "3.6.8"
  },
  "mybook": {
   "type": "problems:1"
  }
 },
 "nbformat": 4,
 "nbformat_minor": 2
}
