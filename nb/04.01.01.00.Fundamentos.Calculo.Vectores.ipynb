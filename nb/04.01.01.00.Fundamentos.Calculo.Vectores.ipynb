{
 "cells": [
  {
   "cell_type": "markdown",
   "metadata": {
    "tags": [
     "navigation"
    ]
   },
   "source": [
    "[Indice](index.ipynb) | Previo: [Fundamentos.Calculo](04.01.00.00.Fundamentos.Calculo.ipynb) | Siguiente: [Fundamentos.Calculo.CalculoInfinitesimal](04.01.02.00.Fundamentos.Calculo.CalculoInfinitesimal.ipynb)"
   ]
  },
  {
   "cell_type": "markdown",
   "metadata": {},
   "source": [
    "### 4.1.1. Conjunto, tuplas y vectores\n",
    "<a id='conjuntos_tuplas_vectores'></a>"
   ]
  },
  {
   "cell_type": "markdown",
   "metadata": {},
   "source": [
    "Hay tres tipos de entidades matemáticas (además de los números reales y las funciones) que usaremos con frecuencia en este capítulo (y en general en todo el libro):\n",
    "\n",
    "- **Conjuntos**. Muchas veces nos referiremos aquí a conjuntos (no necesariamente ordenados) de entidades que están relacionadas de alguna manera: las coordenadas de un punto en el espacio de fases, un conjunto de funciones, las ecuaciones diferenciales que describen el movimiento de un sistema dinámico, las partículas que interactúan gravitacionalmente en un sistema, etc. Los elementos de la mayoría de los conjuntos usados en este libro estarán numerados.  Así por ejemplo, las masas de un sistema de N partículas, $m_0$, $m_1$, ..., $m_{N-1}$ se representarán como el conjunto:\n",
    "\n",
    "  $$\n",
    "  \\{m_i\\}_{i=0,1,\\ldots,N-1}\n",
    "  $$\n",
    "  \n",
    "  Una versión sintética más común de esta notación será $\\{m_i\\}_N$. En el caso en el que el número de elementos sea claro en el contexto se usará simplemente $\\{m_i\\}$"
   ]
  },
  {
   "cell_type": "markdown",
   "metadata": {
    "label": "",
    "subtitle": "Numeración comenzando en cero",
    "tags": [
     "box_note"
    ],
    "title": "Nota"
   },
   "source": [
    "> **Nota: Numeración comenzando en cero.**<a id=''></a> En lo sucesivo numeraremos todas las cantidades físicas y matemáticas (partículas, variables auxiliares, componentes de un vector o una matriz, etc.) comenzando en cero, tal y como se acostumbra en programación.  Esta elección facilitará la implementación de las fórmulas en algoritmos y programas de computadora.  Si bien la numeración comenzando en cero no es muy común en matemáticas o física, existen justificaciones poderosas para su uso, algunas de las cuáles están enumeradas en el documento [\"Why numbering should start at zero\"](https://www.cs.utexas.edu/users/EWD/transcriptions/EWD08xx/EWD831.html) del maestro de maestros de la programación científica, Edsger Wybe Dijkstra."
   ]
  },
  {
   "cell_type": "markdown",
   "metadata": {},
   "source": [
    "- **Tuplas**. Las tuplas (pares, tripletas, etc.) son conjuntos ordenados de números reales. Para las tuplas usaremos la notación convencional $(x_0,x_2,\\ldots,x_{N-1})$, donde los paréntesis, a diferencia de las llaves de los conjuntos más generales, nos permitirán reconocer el hecho de que el orden de los elementos es importante. Las tuplas forman, con el conjunto de los números reales, un *espacio vectorial*.  En este espacio se definen las siguientes operaciones básicas:\n",
    "\n",
    "    * Suma: \n",
    "    \n",
    "    \\begin{equation}\n",
    "    \\label{eq:suma_tuplas}\n",
    "    (a_0,a_1,\\ldots)+(b_0,b_1,\\ldots)\\equiv(a_0+b_0,a_1+b_1,\\ldots)\n",
    "    \\end{equation}\n",
    "    \n",
    "    * Multiplicación por un escalar: \n",
    "    \n",
    "      \\begin{equation}\n",
    "      \\label{eq:k_tupla}\n",
    "       k(a_0,a_1,\\ldots)\\equiv(ka_0,ka_1,\\ldots)\n",
    "      \\end{equation}\n",
    "    \n",
    "      donde $k$ es un número real."
   ]
  },
  {
   "cell_type": "markdown",
   "metadata": {},
   "source": [
    "<a id='fig:vectores'></a>![Definición geométrica de vector espacial y de sus operaciones básicas (suma, resta y multiplicación por un escalar). Aunque la resta de $\\vec A-\\vec B$ es un caso particular de la suma, es importante aquí familiarizarse con la dirección que tiene este vector (va de la cabeza del sustraendo $\\vec B$ a la del minuendo $\\vec A$.)++t!++0.8++\\label{fig:vectores}](./figures/square_vectores_definicion.png)\n",
    "\n",
    "<center><b>Figura 4.6</b>. Definición geométrica de vector espacial y de sus operaciones básicas (suma, resta y multiplicación por un escalar). Aunque la resta de $</center>"
   ]
  },
  {
   "cell_type": "markdown",
   "metadata": {},
   "source": [
    "- **Vectores geométricos (euclidianos)**. Los vectores geométricos o en breve vectores, son *segmentos orientados* en el espacio de tres dimensiones (ver Figura ([vectores](#fig:vectores))) que tienen las siguientes propiedades:\n",
    "\n",
    "     * Se denotarán en este libro como $\\vec A$ o $\\hat e$ (este último es un vector unitario) en lugar de usar la notación más común con letras en negrilla. \n",
    "     \n",
    "     * Todo vector tiene: 1) magnitud, $A$, igual a la longitud (euclidiana) del segmento correspondiente y 2) una dirección en el espacio. \n",
    "\n",
    "     * Los vectores forman con los números reales, un espacio vectorial con operaciones definidas, geométricamente, como se muestra en la Figura ([vectores](#fig:vectores)).  \n",
    "     \n",
    "     * El elemento neutro de la operación suma entre vectores, es el vector nulo, que representaremos como $\\vec 0$. \n",
    "  \n",
    "     * Todo vector, por definición, se puede escribir como una combinación lineal de tres vectores de una base ortonormal: $\\hat{e}_0,\\hat{e}_1,\\hat{e}_2$. Los coeficientes de la combinación se conocen como componentes del vector: \n",
    "     \n",
    "       \\begin{equation}\n",
    "       \\label{eq:vectores_en_base}\n",
    "       \\vec A=A_0\\hat{e}_0+A_1\\hat{e}_1+A_2\\hat{e}_2.\n",
    "       \\end{equation}\n",
    "     \n",
    "     * El espacio de vectores es *isomorfico* a el espacio vectorial de tripletas.  Por la misma razón nos referiremos al vector, o bien como la entidad abstracta $\\vec A$, como su representación en términos de los vectores unitarios de una base ortonormal (ver ítem anterior) o aún mejor, en términos de la tripleta:\n",
    "     \n",
    "       $$\n",
    "       \\vec A:(A_0,A_1,A_2)\n",
    "       $$\n",
    "     \n",
    "       En este caso usaremos el símbolo \":\" en lugar de \"=\" para dar entender que el vector *no es* una tripleta sino una entidad geométrica más abstracta.  \n",
    "       \n",
    "       El isomorfismo implica también, que las componentes de los vectores en las operaciones geométricas definidas en la Figura ([vectores](#fig:vectores)), cumplen la Ecs. ([suma_tuplas](#mjx-eqn-eq%3Asuma_tuplas)) y ([k_tupla](#mjx-eqn-eq%3Ak_tupla)).\n",
    "       \n",
    "     * Además de la suma y la multiplicación por un escalar, que caracterizan el espacio vectorial, se definen dos productos adicionales: \n",
    "     \n",
    "        + **Producto escalar** o **producto punto**, $\\vec A\\cdot\\vec B$.  El producto escalar se define, a partir los vectores unitarios de la base, como: \n",
    "        \n",
    "          $$\\hat{e}_i\\cdot \\hat{e}_j=\\delta_{ij},$$ \n",
    "\n",
    "          donde $\\delta_{ij}$ es el \"delta de kroenecker\":\n",
    "          \n",
    "            \\begin{equation}\n",
    "            \\label{eq:delta_kroenecker}\n",
    "            \\delta_{ij}=\\left\\{\n",
    "            \\begin{array}{ccc}\n",
    "            1 & & i=j\\\\\n",
    "            0 & & i\\neq j\\\\\n",
    "            \\end{array}\n",
    "            \\right.\n",
    "            \\end{equation}\n",
    "\n",
    "          Con esta esta definición y usando la representación de los vectores dada por la Ec. ([vectores_en_base](#mjx-eqn-eq%3Avectores_en_base)) puede probarse que:\n",
    "          \n",
    "            $$\n",
    "            \\vec A\\cdot\\vec B=A_0B_0+A_1B_1+A_2B_2\n",
    "            $$\n",
    "          \n",
    "        + **Producto vectorial** o **producto cruz**, $\\vec A\\times\\vec B$. El producto vectorial se define, a partir los vectores unitarios de la base, como: \n",
    "        \n",
    "            \\begin{equation}\n",
    "            \\label{eq:base_mano_derecha}\n",
    "            \\hat{e}_i\\times \\hat{e}_j=\\epsilon_{ijk}\\hat{e}_k,\n",
    "            \\end{equation}\n",
    "            \n",
    "            donde $\\epsilon_{ijk}$ es el \"simbolo de Levi-Civita\" ([\"levi chivita\"](https://forvo.com/word/levi-civita/#it)):\n",
    "        \n",
    "            \\begin{equation}\n",
    "            \\label{eq:levi_civita}\n",
    "            {\\epsilon _{ijk}=\\left\\{{\\begin{matrix}+1&{\\mbox{si }}(i,j,k){\\mbox{ es }}(0,1,2),(1,2,0){\\mbox{ o }}(2,0,1)\\\\-1&{\\mbox{si }}(i,j,k){\\mbox{ es }}(2,1,0),(0,2,1){\\mbox{ o }}(1,0,2)\\\\0&{\\mbox{de otro modo }}i=j{\\text{ o }}j=k{\\text{ o }}k=i\\end{matrix}}\\right.}\n",
    "            \\end{equation}\n",
    "              \n",
    "            Al conjunto de vectores unitarios de una base que se definen cumpliendo la Ec. ([base_mano_derecha](#mjx-eqn-eq%3Abase_mano_derecha)) se lo llama un *conjunto de vectores de mano derecha*.\n",
    "          \n",
    "            Con esta esta definición y usando la representación de los vectores dada por la Ec. ([vectores_en_base](#mjx-eqn-eq%3Avectores_en_base)) puede probarse que:\n",
    "          \n",
    "            \\begin{equation}\n",
    "            \\label{eq:producto_cruz}\n",
    "            \\begin{array}{rcl}\n",
    "            \\vec A\\times\\vec B \n",
    "            & = & (A_1B_2-A_2B_1)\\hat{e}_0+\\\\\n",
    "            &   & -(A_0B_2-A_2B_0)\\hat{e}_1+\\\\\n",
    "            &   & (A_0B_1-A_1B_0)\\hat{e}_2\\\\\n",
    "            \\end{array}\n",
    "            \\end{equation}\n",
    "          \n",
    "            Está última expresión es tan elaborada que con frecuencia se usa la regla mnemoténica:\n",
    "          \n",
    "          \\begin{equation}\n",
    "          \\label{eq:producto_cruz_determinante}\n",
    "          \\vec A\\times\\vec B =\n",
    "          \\left|\n",
    "          \\begin{array}{ccc}\n",
    "          \\hat{e}_0 & \\hat{e}_1 & \\hat{e}_2\\\\\n",
    "          A_0 & A_1 & A_2\\\\\n",
    "          B_0 & B_1 & B_2\\\\\n",
    "          \\end{array}\n",
    "          \\right|\n",
    "          \\end{equation}\n",
    "          \n",
    "            Donde $|M|$ es el determinante de la matriz $M$.\n",
    "\n",
    "    * Otras identidades útiles:\n",
    "     \n",
    "         + Propiedad cíclica del **triple producto escalar**:\n",
    "         \n",
    "            \\begin{equation}\n",
    "            \\label{eq:triple_producto_escalar}\n",
    "            \\vec A\\cdot(\\vec B\\times\\vec C)=\n",
    "            \\vec C\\cdot(\\vec A\\times\\vec B)=\n",
    "            \\vec B\\cdot(\\vec C\\times\\vec A)\n",
    "            \\end{equation}\n",
    "\n",
    "         + **Triple producto vectorial**:\n",
    "         \n",
    "            \\begin{equation}\n",
    "            \\label{eq:triple_producto_vectorial}\n",
    "            \\vec A\\times(\\vec B\\times\\vec C)=(\\vec A\\cdot\\vec C)\\vec B-(\\vec A\\cdot\\vec B)\\vec C\n",
    "            \\end{equation}"
   ]
  },
  {
   "cell_type": "markdown",
   "metadata": {},
   "source": [
    "#### Algoritmos para conjuntos y tuplas"
   ]
  },
  {
   "cell_type": "markdown",
   "metadata": {},
   "source": [
    "Todos los lenguajes modernos de programación, definen tipos especiales para representar conjuntos y tuplas.  En `Python` existen tres tipos de objetos básicos para este propósito: `listas`, `tuplas` y diccionarios. Existen sútiles diferencias entre las listas y las tuplas en `Python` y en general usaremos con más frecuencia las primeras.   \n",
    "Para para los algoritmos de este libro, es importante entender las *operaciones* entre listas, que son diferentes a las operaciones en el espacio vectorial de las tuplas matemáticas que definimos antes.\n",
    "\n",
    "Así, por ejemplo, en el siguiente algorítmo se construye una lista con las componentes del vector de estado de una partícula, \"sumando\" las listas de las componentes de su vector posición y velocidad:"
   ]
  },
  {
   "cell_type": "code",
   "execution_count": 27,
   "metadata": {
    "codelabel": "",
    "codeplot": 0
   },
   "outputs": [],
   "source": [
    "#Lista de componentes del vector posición\n",
    "r=[1,0,3]\n",
    "#Lista de componentes del vector velocidad\n",
    "v=[0,-1,0]\n",
    "#Lista de componentes del vector de estado\n",
    "X=r+v"
   ]
  },
  {
   "cell_type": "code",
   "execution_count": 2,
   "metadata": {
    "codelabel": "",
    "codeplot": 0,
    "tags": [
     "hide_input"
    ]
   },
   "outputs": [
    {
     "name": "stdout",
     "output_type": "stream",
     "text": [
      "X = [1, 0, 3, 0, -1, 0]\n"
     ]
    }
   ],
   "source": [
    "print(f\"X = {X}\")"
   ]
  },
  {
   "cell_type": "markdown",
   "metadata": {},
   "source": [
    "El operador `+`, entre listas y tuplas de `Python` produce la unión de los elementos de las listas.  \n",
    "\n",
    "Usando este operador se pueden hacer algoritmos prácticos como el que se muestra a continuación:"
   ]
  },
  {
   "cell_type": "code",
   "execution_count": 3,
   "metadata": {
    "codelabel": "",
    "codeplot": 0
   },
   "outputs": [],
   "source": [
    "def f(x):\n",
    "    from math import sin\n",
    "    y=sin(x)/x\n",
    "    return y\n",
    "\n",
    "valores_de_x=[1.0,2.0,3.0]\n",
    "valores_de_f=[]\n",
    "for x in valores_de_x:\n",
    "    valores_de_f+=[f(x)]"
   ]
  },
  {
   "cell_type": "code",
   "execution_count": 4,
   "metadata": {
    "codelabel": "",
    "codeplot": 0,
    "tags": [
     "hide_input",
     "b"
    ]
   },
   "outputs": [
    {
     "name": "stdout",
     "output_type": "stream",
     "text": [
      "valores de f = [0.8414709848078965, 0.45464871341284085, 0.0470400026866224]\n"
     ]
    }
   ],
   "source": [
    "print(f\"valores de f = {valores_de_f}\")"
   ]
  },
  {
   "cell_type": "markdown",
   "metadata": {},
   "source": [
    "aquí, comenzamos con un conjunto vacío, `valores_de_f=[]` y después, dentro de un ciclo, usamos el operador de acumulación `+=` para agreganr elementos al conjunto.  Este es un método muy común usado en el lenguaje para construir \"tablas de valores\", que pueden, por ejemplo usarse para hacer gráficos de funciones."
   ]
  },
  {
   "cell_type": "markdown",
   "metadata": {},
   "source": [
    "#### Algoritmos para vectores"
   ]
  },
  {
   "cell_type": "markdown",
   "metadata": {},
   "source": [
    "Los vectores forman un \"capítulo\" en la computación separado de las listas y las tuplas.  La razón básica son sus propiedades matemáticas y las operaciones definidas entre ellos.  Bibliotecas de rutinas muy completas existen en todos los lenguajes de programación para representar este tipo de entidades matemáticas.\n",
    "\n",
    "En `Python` y a lo largo de este libro usaremos los objetos y rutinas de los paquetes `NumPy` y `SPICE` para definir y manipular vectores.  \n",
    "\n",
    "El ejemplo abajo muestra como se calcula el ángulo entre dos vectores $\\theta_{AB}$, a partir de la interpretación geométrica del producto punto $\\vec{A}\\cdot\\vec{B}=AB\\cos\\theta_{AB}$ (ver problemas al final del capítulo):"
   ]
  },
  {
   "cell_type": "code",
   "execution_count": 28,
   "metadata": {
    "codelabel": "",
    "codeplot": 0
   },
   "outputs": [
    {
     "data": {
      "text/plain": [
       "0.5575988266995369"
      ]
     },
     "execution_count": 28,
     "metadata": {},
     "output_type": "execute_result"
    }
   ],
   "source": [
    "#Definimos los vectores\n",
    "from numpy import array\n",
    "A=array([1.0,0.0,2.0])\n",
    "B=array([0.0,1.0,3.0])\n",
    "\n",
    "#Calculamos el producto escalar y vectorial\n",
    "from numpy import dot\n",
    "ApuntoB=dot(A,B)\n",
    "\n",
    "#El ángulo entre los vectores\n",
    "from numpy import arccos\n",
    "from numpy.linalg import norm\n",
    "anguloAB=arccos(ApuntoB/(norm(A)*norm(B)))"
   ]
  },
  {
   "cell_type": "code",
   "execution_count": 6,
   "metadata": {
    "codelabel": "",
    "codeplot": 0,
    "tags": [
     "hide_input"
    ]
   },
   "outputs": [
    {
     "name": "stdout",
     "output_type": "stream",
     "text": [
      "AnguloAB = 31.948059431330062\n"
     ]
    }
   ],
   "source": [
    "from numpy import pi\n",
    "print(f\"AnguloAB = {anguloAB*180/pi} grados\")"
   ]
  },
  {
   "cell_type": "markdown",
   "metadata": {
    "label": "",
    "subtitle": "Radianes y grados en los algoritmos",
    "tags": [
     "box_note"
    ],
    "title": "Nota"
   },
   "source": [
    "> **Nota: Radianes y grados en los algoritmos.**<a id=''></a> Es importante entender que las funciones trigonométricas inversas como `arccos`, devuelven, en todos los lenguajes de programación, valores de los ángulos en radianes.  En el caso anterior, por ejemplo, el valor de la variable `anguloAB` al final del algoritmo en realidad era `0.5575988266995369`.  Sin embargo, decidimos mostrar su valor en grados después de multiplicar `anguloAB` por el factor de conversión $\\pi/180$ (esta operación no se muestra en el código.) Así lo seguiremos haciendo en el resto del libro.  El lector que use los algoritmos no debe olvidar multiplicar por el factor de conversión para reconstruir los resultados mostrados aquí."
   ]
  },
  {
   "cell_type": "markdown",
   "metadata": {},
   "source": [
    "Un procedimiento similar, esta vez usando vectores y rutinas de `SPICE` (internamente `SPICE` usa vectores o arreglos de `NumPy`), puede usarse para calcular el triple producto vectorial:"
   ]
  },
  {
   "cell_type": "code",
   "execution_count": 7,
   "metadata": {
    "codelabel": "",
    "codeplot": 0
   },
   "outputs": [],
   "source": [
    "from numpy import array\n",
    "from spiceypy import vdot,vcrss\n",
    "\n",
    "A=array([2.0,2.0,1.0])\n",
    "B=array([0.0,-1.0,0.0])\n",
    "C=array([0.0,0.0,2.0])\n",
    "\n",
    "AxBxC=vdot(A,B)*C-vdot(A,C)*B"
   ]
  },
  {
   "cell_type": "code",
   "execution_count": 8,
   "metadata": {
    "codelabel": "",
    "codeplot": 0,
    "tags": [
     "hide_input"
    ]
   },
   "outputs": [
    {
     "name": "stdout",
     "output_type": "stream",
     "text": [
      "A x (B x C) = [-0.  2. -4.]\n"
     ]
    }
   ],
   "source": [
    "print(f\"A x (B x C) = {AxBxC}\")"
   ]
  },
  {
   "cell_type": "markdown",
   "metadata": {},
   "source": [
    "También podemos usarlas para verificar la propiedad cíclica del triple producto escalar:"
   ]
  },
  {
   "cell_type": "code",
   "execution_count": 9,
   "metadata": {
    "codelabel": "",
    "codeplot": 0
   },
   "outputs": [],
   "source": [
    "from numpy import array\n",
    "from spiceypy import vnorm,vdot,vcrss\n",
    "A=array([2.0,2.0,1.0])\n",
    "B=array([0.0,-1.0,0.0])\n",
    "C=array([0.0,0.0,2.0])\n",
    "\n",
    "ABC=vdot(A,vcrss(B,C))\n",
    "CAB=vdot(C,vcrss(A,B))\n",
    "BCA=vdot(B,vcrss(C,A))"
   ]
  },
  {
   "cell_type": "code",
   "execution_count": 10,
   "metadata": {
    "codelabel": "",
    "codeplot": 0,
    "tags": [
     "hide_input"
    ]
   },
   "outputs": [
    {
     "name": "stdout",
     "output_type": "stream",
     "text": [
      "A.(BxC) = -4.0\n",
      "C.(AxB) = -4.0\n",
      "B.(CxA) = -4.0\n"
     ]
    }
   ],
   "source": [
    "print(f\"A.(BxC) = {ABC}\")\n",
    "print(f\"C.(AxB) = {CAB}\")\n",
    "print(f\"B.(CxA) = {BCA}\")"
   ]
  },
  {
   "cell_type": "markdown",
   "metadata": {},
   "source": [
    "Con lo que se verifica la identidad (al menos para los vectores escogidos.)"
   ]
  },
  {
   "cell_type": "markdown",
   "metadata": {},
   "source": [
    "### 4.1.2. Sistemas de coordenadas\n",
    "<a id='sistemas_coordenadas'></a>"
   ]
  },
  {
   "cell_type": "markdown",
   "metadata": {},
   "source": [
    "<a id='fig:coordenadas'></a>![Definción de los sistemas de coordenadas usadas en este texto++t++1++\\label{fig:coordenadas}](./figures/horizontal_sistemas_coordenadas.png)\n",
    "\n",
    "<center><b>Figura 4.7</b>. Definción de los sistemas de coordenadas usadas en este texto</center>"
   ]
  },
  {
   "cell_type": "markdown",
   "metadata": {},
   "source": [
    "A lo largo de este libro, usaremos los tres sistemas de coordenadas ortogonales *clásicos* (cartesianas, cilíndricas y esféricas, ver Figura ([coordenadas](#fig:coordenadas))) con algunas convenciones más propias de la astronomía y la mecánica celeste que del cálculo.  \n",
    "\n",
    "A continuación, y en especial para clarificar nuestra notación, enumeramos detalladamente las propiedades de cada sistema.\n",
    "\n",
    "- **Sistema de coordenadas cartesiano**.\n",
    "\n",
    "  - Coordenadas: $x\\in(-\\infty,+\\infty)$, $y\\in(-\\infty,+\\infty)$, $z\\in(-\\infty,+\\infty)$. \n",
    "  - Vectores unitarios: $\\hat{e}_x$, $\\hat{e}_y$, $\\hat{e}_z$.\n",
    "  - Comentarios: \n",
    "  \n",
    "    - En todos los casos la orientación de los ejes obedecerá la *regla de la mano derecha*, es decir, los sistemas cartesianos usados en el texto y cuyos ejes están definidos por el conjunto de vectores unitarios ($\\hat{e}_x$, $\\hat{e}_y$, $\\hat{e}_z$) forman un *conjunto de mano derecha* (ver Ec. [base_mano_derecha](#mjx-eqn-eq%3Abase_mano_derecha)), a saber, en forma explícita: \n",
    "  \n",
    "  \\begin{equation}\n",
    "  \\label{eq:conjunto_mano_derecha}\n",
    "  \\begin{array}{ccl}\n",
    "  \\hat{e}_x\\times\\hat{e}_y & = & \\hat{e}_z\\\\\n",
    "  \\hat{e}_y\\times\\hat{e}_z & = & \\hat{e}_x\\\\\n",
    "  \\hat{e}_z\\times\\hat{e}_x & = & \\hat{e}_y\n",
    "  \\end{array}\n",
    "  \\end{equation}"
   ]
  },
  {
   "cell_type": "markdown",
   "metadata": {},
   "source": [
    "- **Sistema de coordenadas cilíndrico** (ver Figura ([coordenadas](#fig:coordenadas))).\n",
    "\n",
    "  - Coordenadas: $r\\in[0,+\\infty)$, $\\theta\\in[0,2\\pi)$, $z\\in(-\\infty,+\\infty)$. \n",
    "\n",
    "  - Conversión al sistema de coordenadas cartesianas:\n",
    "\n",
    "      \\begin{equation}\n",
    "      \\label{eq:cilindricas_a_cartesianas}\n",
    "      \\begin{array}{ccl}\n",
    "      x & = & r\\cos\\theta\\\\\n",
    "      y & = & r\\sin\\theta\\\\\n",
    "      \\end{array}\n",
    "      \\end{equation}\n",
    " \n",
    "  - Vectores unitarios expresados en el sistema de coordenadas cartesianas:\n",
    "  \n",
    "      \\begin{equation}\n",
    "      \\label{eq:unitarios_cilindricas}\n",
    "      \\begin{array}{ccl}\n",
    "      \\hat{e}_r & = & \\cos\\theta\\;\\hat{e}_x + \\sin\\theta\\;\\hat{e}_y\\\\\n",
    "      \\hat{e}_\\theta & = & -\\sin\\theta\\;\\hat{e}_x + \\cos\\theta\\;\\hat{e}_y\\\\\n",
    "      \\hat{e}_z & = & \\hat{e}_z\n",
    "      \\end{array}\n",
    "      \\end{equation}\n",
    "\n",
    "  - Comentarios: \n",
    "    \n",
    "    - El conjunto de vectores unitarios ($\\hat{e}_r$, $\\hat{e}_\\theta$, $\\hat{e}_z$) forman un conjunto de mano derecha tal y como se definió en las Ecs. ([conjunto_mano_derecha](#mjx-eqn-eq%3Aconjunto_mano_derecha)).\n",
    "    \n",
    "    - Nótese que, a diferencia de la notación usada generalmente en los textos de cálculo, la coordenada cilíndrica $r$ usa la misma letra que la coordenada esférica $r$ y la magnitud del vector posición (ver siguiente sección).  La distinción entre las tres, dependerá del contexto.  \n",
    "    \n",
    "    - Usaremos la letra griega $\\theta$ para denotar el ángulo *acimutal*, a diferencia de la notación convencional que usa esta letra para la coordenada esférica polar (ángulo del vector posición respecto al eje z.)"
   ]
  },
  {
   "cell_type": "markdown",
   "metadata": {},
   "source": [
    "- **Sistema de coordenadas esférico** (ver Figura ([coordenadas](#fig:coordenadas))).\n",
    "\n",
    "  - Coordenadas: $r\\in[0,+\\infty)$, $\\theta\\in[0,2\\pi)$, $\\phi\\in[-\\pi/2,+\\pi/2]$. \n",
    "\n",
    "  - Conversión al sistema de coordenadas cartesianas:\n",
    "\n",
    "      \\begin{equation}\n",
    "      \\label{eq:esfericas_a_cartesianas}\n",
    "      \\begin{array}{ccl}\n",
    "      x & = & r\\cos\\phi\\cos\\theta\\\\\n",
    "      y & = & r\\cos\\phi\\sin\\theta\\\\\n",
    "      z & = & r\\sin\\phi\\\\\n",
    "      \\end{array}\n",
    "      \\end{equation}\n",
    "\n",
    "  - Vectores unitarios expresados en el sistema de coordenadas cartesianas:\n",
    "  \n",
    "      \\begin{equation}\n",
    "      \\label{eq:unitarios_esfericas}\n",
    "      \\begin{array}{ccl}\n",
    "      \\hat{e}_r & = & \\cos\\phi\\cos\\theta\\;\\hat{e}_x + \\cos\\phi\\sin\\theta\\;\\hat{e}_y + \\sin\\phi\\;\\hat{e}_z\\\\\n",
    "      \\hat{e}_\\theta & = & -\\sin\\theta\\;\\hat{e}_x + \\cos\\theta\\;\\hat{e}_y\\\\\n",
    "      \\hat{e}_\\phi & = & \\cos\\phi\\cos\\theta\\;\\hat{e}_x + \\sin\\phi\\sin\\theta\\;\\hat{e}_y - \\sin\\phi\\;\\hat{e}_z\\\\\n",
    "      \\end{array}\n",
    "      \\end{equation}\n",
    "\n",
    "  - Comentarios: \n",
    "    \n",
    "    - El conjunto de vectores unitarios ($\\hat{e}_r$, $\\hat{e}_\\theta$, $\\hat{e}_\\phi$) forman un conjunto de mano derecha tal y como se definió en las Ecs. ([conjunto_mano_derecha](#mjx-eqn-eq%3Aconjunto_mano_derecha)).\n",
    "\n",
    "    - Nótese que, a diferencia de la notación usada generalmente en los textos de cálculo, la coordenada esférica $\\phi$ se medirá respecto al plano $x-y$ (como una *latitud*) en lugar de hacerlo respecto al eje $z$ (como una *colatitud*).\n",
    "    \n",
    "Una interesante página interactiva que permite visualizar mejor la definición de los sistemas de coordenadas y la orientación de los vectores coordenadas puede encontrarse en los siguientes enlaces, tanto para el [sistema de coordenadas cilíndrica](http://dynref.engr.illinois.edu/rvy.html) como para el [sistema de coordenadas esféricas](http://dynref.engr.illinois.edu/rvy.html). "
   ]
  },
  {
   "cell_type": "markdown",
   "metadata": {
    "tags": [
     "navigation"
    ]
   },
   "source": [
    "[Indice](index.ipynb) | Previo: [Fundamentos.Calculo](04.01.00.00.Fundamentos.Calculo.ipynb) | Siguiente: [Fundamentos.Calculo.CalculoInfinitesimal](04.01.02.00.Fundamentos.Calculo.CalculoInfinitesimal.ipynb)"
   ]
  }
 ],
 "metadata": {
  "celltoolbar": "Tags",
  "kernelspec": {
   "display_name": "Python 3",
   "language": "python",
   "name": "python3"
  },
  "language_info": {
   "codemirror_mode": {
    "name": "ipython",
    "version": 3
   },
   "file_extension": ".py",
   "mimetype": "text/x-python",
   "name": "python",
   "nbconvert_exporter": "python",
   "pygments_lexer": "ipython3",
   "version": "3.6.8"
  }
 },
 "nbformat": 4,
 "nbformat_minor": 2
}
