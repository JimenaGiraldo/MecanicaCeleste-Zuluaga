{
 "cells": [
  {
   "cell_type": "markdown",
   "metadata": {
    "tags": [
     "navigation"
    ]
   },
   "source": [
    "[Indice](index.ipynb) | Previo: [FormalismoLagrangiano.Motivacion](09.00.00.00.FormalismoLagrangiano.Motivacion.ipynb) | Siguiente: [FormalismoLagrangiano.EcuacionesLagrange](09.02.00.00.FormalismoLagrangiano.EcuacionesLagrange.ipynb)"
   ]
  },
  {
   "cell_type": "markdown",
   "metadata": {},
   "source": [
    "## 9.3. Restricciones y variables generalizadas\n",
    "<a id='restricciones_variables_generalizadas'></a>"
   ]
  },
  {
   "cell_type": "markdown",
   "metadata": {},
   "source": [
    "Como vimos en el ejemplo del péndulo simple, la aplicación del principio de d'Alambert-Lagrange puede ser truculenta.  El número de desplazamientos virtuales consistentes con las restricciones puede ser enorme (si no infinito).  No todos esos desplazamientos son compatibles con las restricciones del problema, y más sútil todavía, la manera como los podemos expresar en distintos sistemas de coordenadas, no necesariamente conducen a una ecuación *útil* e incluso a una ecuación soluble."
   ]
  },
  {
   "cell_type": "markdown",
   "metadata": {},
   "source": [
    "El aspecto más importante en la aplicación del principio es la elección de un conjunto apropiado de variables capaces de describir la *configuración del sistema* (dónde están las partículas del sistema) sin ninguna *redundancia*.  Por ejemplo, en el caso del péndulo simple, cuando se utilizan las coordenadas cartesianas, los valores de $x$ y $y$ no son independientes.  Estas dos variables están conectadas por la relación matemática:\n",
    "\n",
    "\\begin{equation}\n",
    "\\label{eq:pendulo_restriccion_cuerda}\n",
    "x^2+y^2-L^2=0\n",
    "\\end{equation}"
   ]
  },
  {
   "cell_type": "markdown",
   "metadata": {},
   "source": [
    "Esta relación es una expresión de una **restricción del sistema**, a saber el hecho de que la cuerda es rígida. Usando esta relación es posible, si se da el valor de una de las variables ($x$ por ejemplo), obtener la otra ($y$).  Es en este senrido que decimos que el sistema de coordenadas cartesianas es *redundante* para describir la dinámica del péndulo simple."
   ]
  },
  {
   "cell_type": "markdown",
   "metadata": {},
   "source": [
    "Con estas ideas en la cabeza podemos proceder a definir una serie de conceptos que serán fundamentales en lo que resta de la construcción del formalismo Lagrangiano."
   ]
  },
  {
   "cell_type": "markdown",
   "metadata": {
    "label": "",
    "subtitle": "Espacio de coordenadas",
    "tags": [
     "box_definition"
    ],
    "title": "Definición"
   },
   "source": [
    "> **Definición 11.11. Espacio de coordenadas.**<a id=''></a> Es el espacio geométrico en el que se desarrolla la dinámica del sistema.  En la física clásica, este espacio tiene tres dimensiones y por tanto la ubicación de los puntos en él se específican usando tres coordenadas por partícula.  El sistema *natural* de coordenadas de cualquier sistema de partículas, es el sistema cartesiano."
   ]
  },
  {
   "cell_type": "markdown",
   "metadata": {},
   "source": [
    "Es importante entender que el espacio *físico* es el mismo para todas las partículas que constituye el sistema.  Sin embargo, para especificar la configuración de N partículas 3 coordenadas no son suficientes.  En realidad es necesario específicar 3N coordenadas cartesianas, que describiremos en general como $\\{\\vec{r}_i\\}_{N}$, o equivalentemente \n",
    "\n",
    "$$\\{x^k_i\\}_{3N}$$\n",
    "donde $x^k$ con $k:(1,2,3)$ son las coordenadas cartesianas $(x_i,y_i,z_i)$ de la partícula $i$-esima."
   ]
  },
  {
   "cell_type": "markdown",
   "metadata": {
    "label": "",
    "subtitle": "Restricción",
    "tags": [
     "box_definition"
    ],
    "title": "Definición"
   },
   "source": [
    "> **Definición 11.12. Restricción.**<a id=''></a> Entendemos por restricción cualquier función o desigualdad que involucre las coordenadas cartesianas del sistema y que especifíca las regiones del *espacio físico* a las que tiene acceso el sistema.  "
   ]
  },
  {
   "cell_type": "markdown",
   "metadata": {},
   "source": [
    "En el ejemplo del péndulo la Ec. ([pendulo_restriccion_cuerda](#mjx-eqn-eq%3Apendulo_restriccion_cuerda)) es una restricción en el sentido de la definición anterior."
   ]
  },
  {
   "cell_type": "markdown",
   "metadata": {
    "label": "",
    "subtitle": "Restricción holonómica",
    "tags": [
     "box_definition"
    ],
    "title": "Definición"
   },
   "source": [
    "> **Definición 11.13. Restricción holonómica.**<a id=''></a> Son aquellas restricciones que conectan las coordenadas cartesianas del sistema a través de una igualdad del tipo:\n",
    "\n",
    "> \\begin{equation}\n",
    "  \\label{eq:restriccion_holonomica}\n",
    "  f_k(\\{\\vec{r}_i\\},t)=0\n",
    "  \\end{equation}\n",
    "> donde el índice $k$ simboliza el hecho que en un mismo problema puede existir más de una restricción."
   ]
  },
  {
   "cell_type": "markdown",
   "metadata": {},
   "source": [
    "El péndulo simple, por ejemplo, esto sometida a dos restricciones holonómicas:\n",
    "\n",
    "$$\n",
    "\\begin{array}{ll}\n",
    "f_1(\\vec r,t) & \\equiv z = 0 \\\\\n",
    "f_2(\\vec r,t) & \\equiv x^2+y^2-L^2 = 0\n",
    "\\end{array}\n",
    "$$"
   ]
  },
  {
   "cell_type": "markdown",
   "metadata": {
    "label": "",
    "subtitle": "Restricción no holonómica",
    "tags": [
     "box_definition"
    ],
    "title": "Definición"
   },
   "source": [
    "> **Definición 11.14. Restricción no holonómica.**<a id=''></a> Son aquellas restricciones que conectan las coordenadas cartesianas del sistema de una forma que no puede reducirse a la forma de una función elemental. Un caso partícular de restricciones no holonómicas son por ejemplo las restricciones que se escriben como desigualdades:\n",
    "\n",
    "> $$\n",
    "  f_k(\\{\\vec{r}_i\\},t)\\le 0\n",
    "  $$\n"
   ]
  },
  {
   "cell_type": "markdown",
   "metadata": {},
   "source": [
    "Este tipo de restricciones son utilizadas para delimitar regiones del espacio físico a las que el sistema puede o no puede acceder.  Un ejemplo de una restricción no holonómica es la que debemos aplicar, por ejemplo, si queremos describir el movimiento de las partículas de un gas contenido en una caja.  En ese caso las coordenadas cartesianas pueden ser cualquiera excepto si están por fuera de la caja."
   ]
  },
  {
   "cell_type": "markdown",
   "metadata": {},
   "source": [
    "Otro tipo de restricción no holonómica se obtiene en un sistema como el mostrado en la figura abajo.  Un cuerpo se mueve sobre un cascarón esférico en un campo gravitacional.  "
   ]
  },
  {
   "cell_type": "markdown",
   "metadata": {},
   "source": [
    "<a id='fig:restriccion_no_holonomica'></a>![Un cuerpo desliza por la superficie de un cuenco invertido en presencia de un campo gravitacional uniforme.  En algún punto en su descenso, el cuerpo puede desprenderse de la superficie.\\label{fig:restriccion_no_holonomica}](./figures/horizontal_restriccion_noholonomica.png)\n",
    "\n",
    "<center><b>Figura 9.145</b>. Un cuerpo desliza por la superficie de un cuenco invertido en presencia de un campo gravitacional uniforme.  En algún punto en su descenso, el cuerpo puede desprenderse de la superficie.</center>"
   ]
  },
  {
   "cell_type": "markdown",
   "metadata": {},
   "source": [
    "En este ejemplo, tenemos ambas, restricciones holonómicas y no holonómicas:\n",
    "\n",
    "\\begin{eqnarray}\n",
    "f_1(\\vec r,t) & = & z = 0 \\\\\n",
    "f_2(\\vec r,t) & = & x^2+y^2-R^2 \\ge 0\n",
    "\\end{eqnarray}"
   ]
  },
  {
   "cell_type": "markdown",
   "metadata": {},
   "source": [
    "Es importante anotar que las restricciones no holonómicas no se son solamente a aquellas que se expresan en términos de desigualdades.  Otro tipo de restricciones no holonómicas comunes son aquellas que se escriben en términos de *velocidades*.  En ese caso, no siempre es posible expresar la condición en la forma: \n",
    "\n",
    "$$\n",
    "f_n(\\{\\vec{r}_i\\},t)=0\n",
    "$$\n",
    "y por lo tanto tampoco podemos llamarla una restricción holonómica."
   ]
  },
  {
   "cell_type": "markdown",
   "metadata": {},
   "source": [
    "En las definiciones matemáticas de las restricciones (por ejemplo en la Ec. [restriccion_holonomica](#mjx-eqn-eq%3Arestriccion_holonomica)) aparece el tiempo.  ¿Es esto valido?.  En el caso del péndulo simple, ciertamente la restricción no depende del tiempo, pero existen otras restricciones que si pueden depender de él.  Esto nos lleva a las siguientes definiciones:"
   ]
  },
  {
   "cell_type": "markdown",
   "metadata": {
    "label": "",
    "subtitle": "Restricción esclerónoma y reónoma**.  Las restricciones **esclerónomas*** son aquellas restricciones que no dependen *explícitamente* del tiempo.  En contraposición, las restricciones **reónomas",
    "tags": [
     "box_definition"
    ],
    "title": "Definición"
   },
   "source": [
    "> **Definición 11.15. Restricción esclerónoma y reónoma**.  Las restricciones **esclerónomas*** son aquellas restricciones que no dependen *explícitamente* del tiempo.  En contraposición, las restricciones **reónomas.**<a id=''></a> si dependen explícitamente de él."
   ]
  },
  {
   "cell_type": "markdown",
   "metadata": {},
   "source": [
    "El adverbio *explícitamente* es muy importante aquí, en tanto las restricciones siempre involucran variables dinámicas que cambián *intrínsecamente* con el tiempo.  Una restricción es reónoma solo si el tiempo aparece en su fórmula como variable independiente."
   ]
  },
  {
   "cell_type": "markdown",
   "metadata": {},
   "source": [
    "Para ilustrar el caso de una condición reónoma, imagine que en la situación de la Figura ([restriccion_no_holonomica](#fig:restriccion_no_holonomica)) el centro del cuenco se moviera con velocidad constante $u$, de modo que en el tiempo $t$ tuviera abscisa $x_c(t)=ut$.  La segunda restricción del sistema se escribiría como:\n",
    "\n",
    "$$\n",
    "f_2(\\vec r,t)=[x-x_c(t)]^2+y^2-R^2\\ge 0\n",
    "$$\n",
    "o equivalentemente,\n",
    "\n",
    "$$\n",
    "f_2(\\vec r,t)=(x-ut)^2+y^2-R^2\\ge 0\n",
    "$$"
   ]
  },
  {
   "cell_type": "markdown",
   "metadata": {},
   "source": [
    "Ambas fórmulas corresponden a restricciones reónomas, incluso si en la primera no se escribe la fórmula explícita de $x_c(t)$.  De manera más general, entonces, para que una restricción sea reónoma, es necesario que el tiempo aparezca explícitamente o que una cantidad en la restricción dependa del tiempo de una manera conocida e independiente de la solución al problema dinámico."
   ]
  },
  {
   "cell_type": "markdown",
   "metadata": {
    "label": "",
    "subtitle": "el origen de las palabras",
    "tags": [
     "box_note"
    ],
    "title": "Nota"
   },
   "source": [
    "> **Nota: el origen de las palabras.**<a id=''></a> La palabra *esclerónoma* es ciertamente ajena al lenguaje cotidiano. Esta palabra viene del griego antiguo *sklero* que significa *duro* y de la partícula *nomos* o *nomía* que se refiere a una ley.  Es decir, una restricción esclerónoma se llama así porque es una \"regla fija\", que no se modifica con el tiempo. \n",
    "\n",
    "> La palabra *reónomo* tampoco es común. Para recordarla basta recordar que *reo-* viene del griego *rheos* que significa flujo, corriente.  Es decir una restricción reónoma para un griego antiguo sonaría algo así a una *regla cambiante*."
   ]
  },
  {
   "cell_type": "markdown",
   "metadata": {},
   "source": [
    "### 9.3.1. Fuerzas de restricción\n",
    "<a id='fuerzas_restriccion'></a>"
   ]
  },
  {
   "cell_type": "markdown",
   "metadata": {},
   "source": [
    "Es interesante mencionar en este punto el hecho de que si en un sistema hay una restricción es porque pueden existir interacciones entre las partículas y su entorno que justamente mantengan al sistema constreñido.  Así por ejemplo, en el cuerpo que desciende por el cuenco, una fuerza normal $\\vec N$ es la que mantiene el bloque a una distancia al menos igual al radio del cuenco."
   ]
  },
  {
   "cell_type": "markdown",
   "metadata": {},
   "source": [
    "A este tipo de fuerzas se las conoce como **fuerzas de restricción**.  Estas fuerzas son, en general, muy difíciles de modelar en la mecánica Newtoniana y en la mayoría de las ocasiones es casi imposible conocerlas a priori. La fuerza total sobre una partícula del sistema puede siempre descomponerse como:\n",
    "\n",
    "$$\n",
    "\\vec{F}_i=\\vec{F}^a_i+\\vec{f}_i\n",
    "$$\n",
    "donde llamaremos a $\\vec{F}^a_i$ la *fuerza aplicada* (por ejemplo producto de las interacciones entre las partículas) y $\\vec{f}_i$ la fuerza de restricción.  "
   ]
  },
  {
   "cell_type": "markdown",
   "metadata": {},
   "source": [
    "Dado que en la aplicación del principio de d'Alambert-Lagrange solo pueden usarse desplazamientos virtuales compatibles con las restricciones, es muy común encontrar que estos desplazamientos terminan siendo perpendiculares a las fuerzas de restricción.  Por la misma razón el *trabajo virtual* realizado por las fuerzas de restricción es nulo."
   ]
  },
  {
   "cell_type": "markdown",
   "metadata": {},
   "source": [
    "Este resultado nos permite generalizar reescribir el principio de d'Alambert-Lagrange prescindiendo completamente de las fuerzas de restricción:\n",
    "\n",
    "\\begin{equation}\n",
    "\\label{eq:principio_dalambert_aplicadas}\n",
    "\\sum_i (\\vec{F}_i-\\dot{\\vec{p}_i})\\cdot\\delta\\vec{r}_i=\\sum_i (\\vec{F}^a_i-\\dot{\\vec{p}_i})\\cdot\\delta\\vec{r}_i=0\n",
    "\\end{equation}"
   ]
  },
  {
   "cell_type": "markdown",
   "metadata": {},
   "source": [
    "Esta idea, que parece trivial, en realidad es una de las características más notorias del formalismo Lagrangiano.  En este formalismo las desconocidas fuerzas de restricción no juegan (aparte de determinar las restricciones mismas) ningún papel en la dinámica del sistema.  Esta es la razón por la cuál, por ejemplo, en el péndulo simple, la tensión, que juega el papel de una fuerza de resticción, no aparece en la ecuación final de movimiento."
   ]
  },
  {
   "cell_type": "markdown",
   "metadata": {},
   "source": [
    "### 9.3.2. Variables generalizadas\n",
    "<a id='variables_generalizadas'></a>"
   ]
  },
  {
   "cell_type": "markdown",
   "metadata": {},
   "source": [
    "En el cuadro de Nota de la sección anterior en la que explicabamos el origen de las palabras *escléronoma* y *reónoma* bien podríamos haber explicado también la razón por la cuál las restricciones que se expresan con igualdades se conocen como *restricciones holónomas*.  ¿Qué significado tiene el término *holónomo* en este contexto?."
   ]
  },
  {
   "cell_type": "markdown",
   "metadata": {},
   "source": [
    "La palabra *holonomía* tiene significados muy específicos en matemáticas, en particular en geometría.  Si bien la raíz griega *holos* significa todos, la holonomía hace referencia a la manera como las propiedades geométricas de un sistema se modifican cuando se produce un desplazamiento en el espacio.  La holonomía hace referencia por lo tanto en las matemáticas, a una transformación.  Esta es la misma acepción por la que se usa la palabra en la mecánica analítica."
   ]
  },
  {
   "cell_type": "markdown",
   "metadata": {},
   "source": [
    "Cuando las variables cartesianas de un sistema dinámico están sometidas a restricciones holonómicas, sabemos que es posible describir el estado o *configuración* del sistema usando un conjunto *reducido* de variables en lugar de usar todas las coordenadas físicas del sistema.  Así por ejemplo, en el caso del péndulo simple, las dos restricciones holonómica impuesta por la cuerda, permiten describir el sistema usando una sola variable, en lugar de las tres coordenadas cartesianas.  Esta condición permite introducir un concepto nuevo y crucial en el formalismo Lagrangiano."
   ]
  },
  {
   "cell_type": "markdown",
   "metadata": {
    "label": "",
    "subtitle": "Número de grados de libertad, M, de un sistema dinámico",
    "tags": [
     "box_definition"
    ],
    "title": "Definición"
   },
   "source": [
    "> **Definición 11.16. Número de grados de libertad, M, de un sistema dinámico.**<a id=''></a> El *número de grados de libertad* de un sistema dinámico es el número mínimo de variables que pueden usarse para describir sin redundancias la configuración del sistema. Si un sistema de $N$ partículas esta sometido a $K$ restricciones holonomas, el número de grados de libertad $M$ es:\n",
    "\n",
    "$$\n",
    "M=3N-K\n",
    "$$"
   ]
  },
  {
   "cell_type": "markdown",
   "metadata": {},
   "source": [
    "En el péndulo simple, donde $N=1$ y $K=2$, el número de grados de libertad es $M=3\\times1-2=1$, que coincide justamente con nuestra intuición y con el procedimiento que seguimos en la [Sección *Principio de d'Alambert-Lagrange*](09.00.00.00.FormalismoLagrangiano.Motivacion.ipynb#principio_dalambert_lagrange), donde vimos que solo es necesaria una variable, en particular un ángulo, para especificar la posición de la partícula."
   ]
  },
  {
   "cell_type": "markdown",
   "metadata": {},
   "source": [
    "Ahora bien, ¿cuáles son las variables que pueden usarse en lugar de las coordenadas físicas del sistema para describir la configuración del mismo?.  La respuesta a esta pregunta no es única. Así por ejemplo, en el caso del péndulo simple podríamos usar la coordenada $x$ solamente, el ángulo $\\theta$, la longitud del arco $l$ medido a lo largo del movimiento, la altura $h$ sobre el nivel del techo, etc. Más interesante aún sería uitlizar como variable  la velocidad tangencial $v_t$, la energía potencial gravitacional $U$ u otras variables dinámicas.  Es decir, para especificar la configuración de un sistema no solo pueden usarse *coordenadas* sino que también podrían usarse otras cantidades físicas (energías, velocidades, momentos)."
   ]
  },
  {
   "cell_type": "markdown",
   "metadata": {
    "label": "",
    "subtitle": "Variables generalizadas",
    "tags": [
     "box_definition"
    ],
    "title": "Definición"
   },
   "source": [
    "> **Definición 11.17. Variables generalizadas.**<a id=''></a> Cualquier conjunto de $M$ de variables físicas (siendo $M$ el número de grados de libertad) que permitan describir unívocamente la configuración de un sistema dinámico se conocen como *variables generalizadas*.  En lo sucesivo para referirnos a ella usaremos la notación:\n",
    "\n",
    "> $$\n",
    "  \\{q_j\\}_M\n",
    "  $$"
   ]
  },
  {
   "cell_type": "markdown",
   "metadata": {},
   "source": [
    "Las restricciones *holonomas* permiten que podamos encontrar funciones matemáticas o transformaciones que conecten las coordenadas del sistema con las variables generalizadas.  Estas transformaciones pueden escribirse de forma general como:\n",
    "\n",
    "\\begin{equation}\n",
    "\\label{eq:generalizadas_a_coordenadas}\n",
    "\\{\\vec{x}_{k,i}=\\vec{x}_{k,i}(t,\\{q_j\\}_M)\\}_{3N}\n",
    "\\end{equation}\n",
    "\n",
    "En términos matemáticos, las coordenadas del sistema y sus variables generalizadas se relacionan a través de una *holonomía*. Esta es justamente la acepción que tiene esta palabra en el contexto del formalismo lagrangiano."
   ]
  },
  {
   "cell_type": "markdown",
   "metadata": {},
   "source": [
    "Aunque no siempre es seguro, asumiremos en lo sucesivo que las funciones en la Ec. ([generalizadas_a_coordenadas](#mjx-eqn-eq%3Ageneralizadas_a_coordenadas)) pueden ser invertidas para encontrar las variables generalizadas como función de las coordenadas:\n",
    "\n",
    "\\begin{equation}\n",
    "\\label{eq:coordenadas_a_generalizadas}\n",
    "\\{q_j=q_j(t,\\{\\vec{r}_i\\}_N)\\}_M\n",
    "\\end{equation}"
   ]
  },
  {
   "cell_type": "markdown",
   "metadata": {},
   "source": [
    "Como ilustración de estas relaciones abstractas, usemos nuevamente el caso del pendulo simple.  En este caso si tomamos como variable generalizada $q_1$ el ángulo $\\theta$, las ecuaciones de transformación (Ec. [generalizadas_a_coordenadas](#mjx-eqn-eq%3Ageneralizadas_a_coordenadas)) se escriben como:\n",
    "\n",
    "$$\n",
    "\\begin{array}{ccc}\n",
    "x_1 (t,q_1) & = & L \\sin q_1 \\\\\n",
    "y_1 (t,q_1) & = & -L \\cos q_1 \\\\\n",
    "z_1 (t,q_1) & = & 0\n",
    "\\end{array}\n",
    "$$\n",
    "y su inversa (Ecs. [coordenadas_a_generalizadas](#mjx-eqn-eq%3Acoordenadas_a_generalizadas)) como:\n",
    "\n",
    "$$\n",
    "q_1 (t,x_1,y_1,z_1) = \\tan^{-1}(y_1/x_1)\n",
    "$$\n"
   ]
  },
  {
   "cell_type": "markdown",
   "metadata": {},
   "source": [
    "Por definición, en el caso en el que un sistema tenga restricciones holónomas esclerónomas, las ecuaciones de transformación no dependerán explícitamente del tiempo. Por otro lado, si las restricciones son holónomas reónomas, el tiempo aparecerá explícitamente en las ecuaciones de transformación."
   ]
  },
  {
   "cell_type": "markdown",
   "metadata": {
    "label": "",
    "subtitle": "Variables generalizadas independientes",
    "tags": [
     "box_note"
    ],
    "title": "NOTA"
   },
   "source": [
    "> **NOTA: Variables generalizadas independientes.**<a id=''></a> Un importante detalle para tener en cuenta sobre las variables generalizadas es que al elegirlas no se trata simplemente de escoger $M$ números en lugar de $3N$.  \n",
    "\n",
    "> Las variables escogidas deben ser tales que sean completamente *independientes*.  Esto significa que una variable puede cambiar sin que otras variables generalizadas cambien también.  \n",
    "\n",
    "> Imaginen por ejemplo el caso del péndulo cónico mostrado en la Figura ([pendulo_conico](#fig:pendulo_conico)). En esta situación el número de grados de libertad es de 2.  ¿cuáles podrían ser las variables generalizadas?.  \n",
    "\n",
    "> Podría elegir por ejemplo como variables generalizadas las coordenadas cartesianas $x$, $y$ (tenga presente que $y$ va en la dirección vertical).  El problema es que dadas las restricciones del sistema, no es posible variar la coordenada $x$ sin que se produzca un cambio en la coordenada $y$.  Es decir, este par de variables no es el más apropiado para describir el sistema. Lo mismo podría ocurrir si elijo la coordenada $y$ y la energía potencial $U$.  \n",
    "\n",
    "> Sin embargo si elijo como variables generalizadas la coordenada $z$ y el ángulo $\\theta$ es posible imaginar un desplazamiento virtual que implique un cambio en $\\theta$ sin que se modifique $z$ y viceversa.  O bien, puedo escoger como variables generalizadas (esta sería la elección más apropiada) dos ángulos, el ángulo $\\theta$ del péndulo respecto a la vertical, y un ángulo horizontal $\\phi$.  En este caso, de nuevo, puedo imaginarme desplazamientos virtuales que impliquen el cambio de un ángulo sin que el otro se modifique. "
   ]
  },
  {
   "cell_type": "markdown",
   "metadata": {},
   "source": [
    "<a id='fig:lagrangiano_pendulo_conico'></a>![En el péndulo cónico generalizado, la partícula puede moverse libremente oscilando en y alrededor de la dirección vertical.++t++0.5++\\label{fig:lagrangiano_pendulo_conico}](./figures/square_pendulo_conico.png)\n",
    "\n",
    "<center><b>Figura 9.146</b>. En el péndulo cónico generalizado, la partícula puede moverse libremente oscilando en y alrededor de la dirección vertical.</center>"
   ]
  },
  {
   "cell_type": "markdown",
   "metadata": {},
   "source": [
    "El concepto de variables independientes conduce, finalmente, a la última definición importante de esta sección:"
   ]
  },
  {
   "cell_type": "markdown",
   "metadata": {
    "label": "",
    "subtitle": "Espacio de configuración",
    "tags": [
     "box_definition"
    ],
    "title": "Definición"
   },
   "source": [
    "> **Definición 11.18. Espacio de configuración.**<a id=''></a> Al espacio definido por las variables generalizadas de un sistema dinámico lo llamaremos *espacio de configuración*.  Este espacio es en general diferente del espacio coordenado (con la excepción de sistemas que no tengan restricciones).  Cada punto del espacio de configuración esta determinado por $M$ coordenadas (las variables generalizadas del punto)."
   ]
  },
  {
   "cell_type": "markdown",
   "metadata": {},
   "source": [
    "### 9.3.3. Propiedades matemáticas de las reglas de transformación\n",
    "<a id='reglas_transformacion_propiedades'></a>"
   ]
  },
  {
   "cell_type": "markdown",
   "metadata": {},
   "source": [
    "Muchos de los resultados sobre los que se basa la construcción del formalismo Lagrangiano dependen de propiedades matemáticas específicas de las reglas de transformación $\\vec{r}_i(t,\\{q_j\\},)$ que definimos antes.  He aquí algunas de ellas."
   ]
  },
  {
   "cell_type": "markdown",
   "metadata": {},
   "source": [
    "- **Desplazamientos virtuales en el espacio de configuración**.  Un desplazamiento virtual en el espacio coordenado se puede expresar como desplazamiento virtual en el espacio de configuraciones usando la regla de la cadena:\n",
    "\n",
    "    $$\n",
    "    \\delta\\vec{r}_i = \\sum_{j=1}^n \\left(\\frac{\\partial \\vec{r}_i}{\\partial q_j}\\delta q_j+\\frac{\\partial \\vec{r}_i}{\\partial t}\\delta t\\right)\n",
    "    $$\n",
    "    \n",
    "  Dado que por definición, los desplazamientos virtuales no implican un cambio verdadero en la configuración del sistema, los cambios no implican la variable tiempo.  De allí que la relación estrictamente correcta es:\n",
    "    \n",
    "    \\begin{equation}\n",
    "    \\label{eq:delta_ri_delta_qj}\n",
    "    \\delta\\vec{r}_i = \\sum \\frac{\\partial \\vec{r}_i}{\\partial q_j}\\delta q_j\n",
    "    \\end{equation}"
   ]
  },
  {
   "cell_type": "markdown",
   "metadata": {},
   "source": [
    "- **Velocidad coordenada y velocidad generalizada**.  Usando también la regla de la cadena podemos escribir las relaciones entre la velocidad en el espacio coordenado y en el espacio de configuración:\n",
    "\n",
    "    \\begin{equation}\n",
    "    \\label{eq:vi_qj}\n",
    "    \\dot{\\vec{r}}_i = \\sum \\frac{\\partial \\vec{r}_i}{\\partial q_j} \\dot{q}_j + \\frac{\\partial \\vec{r}_i}{\\partial t}\n",
    "    \\end{equation}"
   ]
  },
  {
   "cell_type": "markdown",
   "metadata": {},
   "source": [
    "- **Arbitrariedad en el orden de las derivadas**.  Una propiedad útil muy importante de las reglas de transformación es que es posible intercambiar las derivadas temporales con las derivadas espaciales: :\n",
    "\n",
    "    \\begin{equation}\n",
    "    \\label{eq:intercambio_derivadas}\n",
    "    \\frac{\\partial}{\\partial q_l}\\left(\\frac{d \\vec{r}_i}{dt}\\right) = \\frac{d}{dt}\\left(\\frac{\\partial \\vec{r}_i}{\\partial q_l}\\right) \n",
    "    \\end{equation}\n",
    "    \n",
    "  En la sección de Problemas se propone la demostración de esta propiedad."
   ]
  },
  {
   "cell_type": "markdown",
   "metadata": {},
   "source": [
    "- **Regla de cancelación de \"puntos\"**.  Si derivamos la velocidad son respecto de la componente de la velocidad generalizada $q_k$ obtenemos:\n",
    "\n",
    "    $$\n",
    "    \\frac{\\partial \\dot{\\vec{r}}_i}{\\partial \\dot{q}_k} = \\sum \\frac{\\partial \\vec{r}_i}{\\partial q_j}\\frac{\\partial \\dot{q}_j}{\\partial \\dot{q}_k} + \\frac{\\partial^2 \\vec{r}_i}{\\partial \\dot{q}_j \\partial t}\n",
    "    $$\n",
    "\n",
    "  Si reconocemos que $\\partial\\dot{q}_j/\\partial\\dot{q}_k=\\delta_{jk}$ siendo $\\delta_{jk}$ el delta de kroenecker, entonces:\n",
    "\n",
    "    \\begin{equation}\n",
    "    \\label{eq:cancelacion_puntos}\n",
    "    \\frac{\\partial \\dot{\\vec{r}}_i}{\\partial \\dot{q}_l} = \\frac{\\partial \\vec{r}_i}{\\partial q_l}\n",
    "    \\end{equation}\n",
    "\n",
    "  Llamamos a esta la *regla de cancelación de puntos* en tanto parece como si los puntos en el numerados y el denominador se cancelaran.  "
   ]
  },
  {
   "cell_type": "markdown",
   "metadata": {},
   "source": [
    "Un ilustración de la regla de cancelación de puntos se puede obtener volviendo sobre el ejemplo del péndulo simple.  En ese caso la refla de transformación de la coordenada $x$ se escribe como:\n",
    "\n",
    "$$\n",
    "x(q)=L\\sin(q)\n",
    "$$"
   ]
  },
  {
   "cell_type": "markdown",
   "metadata": {},
   "source": [
    "Derivando a ambos lados con respecto al tiempo obtenemos:\n",
    "\n",
    "$$\n",
    "\\dot{x}(q,\\dot q)=L\\cos(q)\\dot{q}\n",
    "$$"
   ]
  },
  {
   "cell_type": "markdown",
   "metadata": {},
   "source": [
    "De donde vemos que efectivamente $\\partial\\dot x/\\partial\\dot q$ es igual a $\\partial x/\\partial q$."
   ]
  },
  {
   "cell_type": "markdown",
   "metadata": {
    "tags": [
     "navigation"
    ]
   },
   "source": [
    "[Indice](index.ipynb) | Previo: [FormalismoLagrangiano.Motivacion](09.00.00.00.FormalismoLagrangiano.Motivacion.ipynb) | Siguiente: [FormalismoLagrangiano.EcuacionesLagrange](09.02.00.00.FormalismoLagrangiano.EcuacionesLagrange.ipynb)"
   ]
  }
 ],
 "metadata": {
  "celltoolbar": "Tags",
  "kernelspec": {
   "display_name": "Python 3",
   "language": "python",
   "name": "python3"
  },
  "language_info": {
   "codemirror_mode": {
    "name": "ipython",
    "version": 3
   },
   "file_extension": ".py",
   "mimetype": "text/x-python",
   "name": "python",
   "nbconvert_exporter": "python",
   "pygments_lexer": "ipython3",
   "version": "3.6.8"
  }
 },
 "nbformat": 4,
 "nbformat_minor": 2
}
