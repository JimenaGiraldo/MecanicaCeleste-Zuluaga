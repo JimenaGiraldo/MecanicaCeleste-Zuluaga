{
 "cells": [
  {
   "cell_type": "markdown",
   "metadata": {
    "tags": [
     "navigation"
    ]
   },
   "source": [
    "[Indice](index.ipynb) | Previo: [ProblemaNCuerpos](05.00.00.00.ProblemaNCuerpos.ipynb) | Siguiente: [ProblemaNCuerpos.SolucionNumerica](05.01.00.00.ProblemaNCuerpos.SolucionNumerica.ipynb)"
   ]
  },
  {
   "cell_type": "markdown",
   "metadata": {},
   "source": [
    "## 5.1. Formulación del problema\n",
    "<a id='ncuerpos_formulacion'></a>"
   ]
  },
  {
   "cell_type": "markdown",
   "metadata": {},
   "source": [
    "### 5.1.1. Motivación\n",
    "<a id='ncuerpos_motivacion'></a>"
   ]
  },
  {
   "cell_type": "markdown",
   "metadata": {},
   "source": [
    "El problema de los N cuerpos es uno de los más importantes problemas en la historia de la Física.  En cierta forma, podría considerarse el primer problema serio de física teórica que se formuló en la historia de la ciencia.\n",
    "\n",
    "Cuando Newton desarrollo su teoría mecánica con el propósito de describir el movimiento de los cuerpos del Sistema Solar, era claro que en el sistema existían cuerpos que dominaban el movimiento de otros, sin verse significativamente afectados por ellos.  \n",
    "\n",
    "Así por ejemplo, el Sol *domina* el movimiento de la Tierra, Júpiter por su lado *domina* el movimiento de sus lunas, mientras que Saturno lo hace para el movimiento de las partículas que componen sus anillos. \n",
    "\n",
    "Cuando un cuerpo *domina* el movimiento de muchos otros cuerpos pequeños (o *ligeros* para ser más precisos), el problema de describir y predecir los movimientos de esos cuerpos, es relativamente sencillo.  La fuerza que ejercé el cuerpo *principal* sobre cada cuerpo pequeño es independiente de la posición o velocidad de todos los demás.  \n",
    "\n",
    "De ese modo, la solución al problema se obtiene resolviendo, independientemente, la ecuación de movimiento de cada cuerpo pequeño (como veremos en el [El problema de los dos cuerpos](Not Found#problema_doscuerpos) y en [El problema de los tres cuerpos](Not Found#problema_trescuerpos))."
   ]
  },
  {
   "cell_type": "markdown",
   "metadata": {},
   "source": [
    "Al estudiar en algún detalle la dinámica de sistemas de muchos cuerpos en el Universo (el Sistema Solar por ejemplo), incluso de sistemas en los que hay un cuerpo que domina, se hace claro que la evolución de estos sistemas es más compleja que lo descrito en el párrafo anterior.  \n",
    "\n",
    "Una prueba cercana de ello la ofrece la Luna.  Desde los primeros esfuerzos de Newton por describir su movimiento siguiendo un esquema simple como el esbozado en el párrafo anterior, en el que la Tierra (que es 81 veces más masiva) dominaba su dinámica, quedo claro que el movimiento de nuestro satélite escapaba a estas descripciones simplificadas."
   ]
  },
  {
   "cell_type": "markdown",
   "metadata": {},
   "source": [
    "Cuando se admite que en un sistema de muchas partículas, la posición y velocidad de todas ellas debe considerarse para obtener una descripción correcta de la dinámica del sistema, decimos que nos enfrentamos al **problema de los N cuerpos** [$^1$](#notaspie_1)"
   ]
  },
  {
   "cell_type": "markdown",
   "metadata": {},
   "source": [
    "### 5.1.2. Enunciado físico y matemático\n",
    "<a id='ncuerpos_enunciado'></a>"
   ]
  },
  {
   "cell_type": "markdown",
   "metadata": {},
   "source": [
    "Históricamente, el problema de los N-cuerpos, puede formularse de la siguiente forma:"
   ]
  },
  {
   "cell_type": "markdown",
   "metadata": {
    "subtitle": "Problema de los N cuerpos**. \"Dado un sistema con un número arbitrario de partículas puntuales que se atráen mutuamente obedeciendo la leyes de Newton, encontrar, bajo la suposición de que ninguna de esas partículas colisiona, una representación de las coordenadas de cada partícula como una **serie** de una variable que sea una función conocida del tiempo, tal que para todos los valores de la variable, la serie **converga uniformemente",
    "tags": [
     "box_definition"
    ],
    "title": "Definición"
   },
   "source": [
    "> **:Definición 5.3. Problema de los N cuerpos**. \"Dado un sistema con un número arbitrario de partículas puntuales que se atráen mutuamente obedeciendo la leyes de Newton, encontrar, bajo la suposición de que ninguna de esas partículas colisiona, una representación de las coordenadas de cada partícula como una **serie** de una variable que sea una función conocida del tiempo, tal que para todos los valores de la variable, la serie **converga uniformemente.** \" [$^2$](#notaspie_2)"
   ]
  },
  {
   "cell_type": "markdown",
   "metadata": {},
   "source": [
    "Esta formulación rigurosa (matemática) del problema, podríamos matizarla con algunos comentarios más físicos:\n",
    "\n",
    "- Asumimos que en un momento dado del tiempo $t_o$, las posiciones y velocidades de todas las partículas son conocidas, es decir tenemos un conocimiento exhaustivo de las condiciones iniciales $\\{{\\vec r_i(t_o)},{\\dot{\\vec r}_i(t_o)}\\}_{N}$ (ver Figura ([ncuerpos_formulacion](#fig:ncuerpos_formulacion))).\n",
    "\n",
    "- El problema de los N cuerpos consiste entonces en encontrar las posiciones y velocidades de todas las partículas en un instante futuro de tiempo $t$, es decir $\\{{\\vec r_i(t)},{\\dot{\\vec r}_i(t)}\\}_{N}$.\n",
    "\n",
    "- Al decir que la solución puede encontrarse como una serie, el enunciado admité que no es necesario que las posiciones y velocidades deban expresarse en la forma de funciones analíticas (p.e. polinomios, $\\sin$, $\\cos$, $\\log$, etc.) [$^3$](#notaspie_3)\n",
    "\n",
    "- Como lo admite implícitamente el enunciado, no se espera que sea posible predecir el estado del sistema en cualquier instante futuro. En el caso, por ejemplo, en el que las condiciones iniciales conduzcan a una colisión, al menos dos partículas en el sistema podrían situarse a una distancia nula una de otra (recordemos que asumimos que son puntuales) y se produciría una *situación singular* (fuerzas infinitas).  Aún en esta situación, sin embargo, se espera que sea posible predecir la evolución del sistema entre el tiempo inicial y el tiempo de la primera colisión.\n",
    "\n",
    "- La convergencia uniforme es una condición matemática rigurosa, aplicada a las sucesiones, que implica, palabras más, palabras menos, que las posiciones y velocidades predichas sean tan cercanas como se desee a las posiciones y velocidades reales, sin importar el tiempo en el que se calculen.  "
   ]
  },
  {
   "cell_type": "markdown",
   "metadata": {},
   "source": [
    "<a id='fig:ncuerpos_formulacion'></a>![El problema de los N cuerpos: dadas las condiciones iniciales de un conjunto de N partículas puntuales, predecir la posición y velocidad de las partículas en cualquier instante futuro.++t++1++\\label{fig:ncuerpos_formulacion}](./figures/horizontal_ncuerpos_formulacion.png)\n",
    "\n",
    "<center><b>Figura 5.10</b>. El problema de los N cuerpos: dadas las condiciones iniciales de un conjunto de N partículas puntuales, predecir la posición y velocidad de las partículas en cualquier instante futuro.</center>"
   ]
  },
  {
   "cell_type": "markdown",
   "metadata": {},
   "source": [
    "Matemáticamente, en el formalismo vectorial de la Mecánica, el problema de los N cuerpos es equivalente a encontrar la solución matemática al conjunto formado por de las ecuaciones (diferenciales) de movimiento de todos los cuerpos del sistema, a saber:\n",
    "\n",
    "\\begin{equation}\n",
    "\\label{eq:ncuerpos_ecuaciones_generales}\n",
    "\\left\\{\\ddot{\\vec r}_i=\\frac{1}{m_i}\\sum_{j\\neq i} \\vec F_{ij}\\right\\}_{N},\n",
    "\\end{equation}\n",
    "\n",
    "donde $\\vec F_{ij}$ es la fuerza ejercida *sobre* la partícula $i$ *por* la partícula $j$.  Se asume que no existen otras fuerzas (fricción con un medio, interacción con un campo externo, etc.) actuando sobre las partículas del sistema."
   ]
  },
  {
   "cell_type": "markdown",
   "metadata": {},
   "source": [
    "La dificultad matemática más relevante del problema de los N cuerpos, estriba en el hecho de que las fuerzas entre las partículas dependen de las posiciones (y posiblemente de las velocidades) de todas las demás partículas, es decir \n",
    "\n",
    "$$\n",
    "\\vec F_{ij}=\\vec F_{ij}\\left(\\{\\vec r_k\\},\\{\\dot{\\vec r}_k\\}\\right).\n",
    "$$  \n",
    "\n",
    "De este modo, el conjunto de ecuaciones diferenciales que define el problema es altamente acoplado y en general *no lineal* (es decir, cada ecuación diferencial, depende de funciones no lineales de las posiciones o velocidades)."
   ]
  },
  {
   "cell_type": "markdown",
   "metadata": {},
   "source": [
    "De acuerdo a la formulación original del problema, asumimos que la única interacción entre las partículas es la interacción gravitacional newtoniana.  De este modo, podemos escribir (ver Ec. [fundamentos_mecanica_gravedad](#mjx-eqn-eq%3Afundamentos_mecanica_gravedad)): \n",
    "\n",
    "$$\n",
    "\\vec{F}_{ij} = -\\frac{Gm_i m_j}{r_{ij}^3} \\vec r_{ij} = -\\frac{Gm_i m_j}{|\\vec{r}_i - \\vec{r}_j |^3} (\\vec{r}_i - \\vec{r}_j).\n",
    "$$\n",
    "\n",
    "Es importante tener en cuenta aquí la dirección del vector relativo $\\vec{r}_{ij}=\\vec{r}_i - \\vec{r}_j$ tal y como se usará en esta ecuación, apunta en la dirección que va de la partícula que produce la fuerza (partícula $j$-esima) hacia la partícula que la experimenta (partícula $i$-esima). Esta condición, produce el signo menos en la expresión para la fuerza."
   ]
  },
  {
   "cell_type": "markdown",
   "metadata": {},
   "source": [
    "En términos explícitos, el problema de los N cuerpos en mecánica celeste, consiste en resolver el conjunto de ecuaciones diferenciales:\n",
    "\n",
    "\\begin{equation}\n",
    "\\label{eq:ncuerpos_formulacion_ecuaciones}\n",
    "\\left\\{\\ddot{\\vec r}_i= -\\sum_{j\\neq i} \\frac{\\mu_j}{r_{ij}^3} \\vec{r}_{ij} \\right\\}_{N},\n",
    "\\end{equation}\n",
    "\n",
    "donde $\\mu_j=G m_j$ se conoce como el **parametro gravitacional** del cuerpo $j$-esimo."
   ]
  },
  {
   "cell_type": "markdown",
   "metadata": {
    "subtitle": "Henri Poincaré y el premio del Rey Oscar",
    "tags": [
     "box_history"
    ],
    "title": "Historias de la mecánica celeste"
   },
   "source": [
    "> **:Historias de la mecánica celeste: Henri Poincaré y el premio del Rey Oscar.** Los protagonistas de nuestra primera historia son el polímata Francés Henri Poincaré (que se pronuncia, \"[Honri Poancaré](https://es.forvo.com/search/Henri%20Poincare/)\") y el rey Oscar II de Suecia.  \n",
    "\n",
    "![Fotografía de Henri Poincaré hacia el año 1886, en el tiempo en el que trabajaba en el problema de los tres cuerpos (Foto: Eugène Pirou)++w++0.3++\\label{fig:henri_poincare}](./figures/vertical_henri_poincare.png)$$\\mathrm{\\mathbf{Figura\\;5.11}.}$$\n",
    "\n",
    "> En 1889, el matemático sueco Mittag-Leffer convenció al rey Oscar de Suecia de que, con motivo de la celebración de su cumpleaños número 60, el 21 de enero de ese año, presentará al mundo un nuevo concurso matemático. En este, se formularían un conjunto de problemas abiertos frente a los cuales los participantes deberían presentar artículos inéditos. De conseguir resolver el problema, los ganadores recibirían una suma sustancial por su descubrimiento.  \n",
    "\n",
    "> Entre los problemas formulados en el concurso del rey Oscar II, se encontraba, precisamente, el problema de los N cuerpos.  La formulación del problema presentada en este capítulo, es literalmente la que preparó el matemático alemán Karl Weierstrass (que se pronuncia \"[Vierstrass](https://es.forvo.com/search/Weierstrass/de/)\"), inspirado originalmente por las ideas del matemático alemán Peter Gustav Dirichlet. Uno de los participantes del concurso, fue precisamente Poincaré, que contaba para la época con 35 años (ver Figura ([henri_poincare](#fig:henri_poincare))). \n",
    "\n",
    "> Poincaré nació en Francia el 29 de abril de 1854.  Después de una infancia marcada por la enfermedad y una juventud en la que sus maestros reconocieron su precocidad matemática, se graduo como doctor en matemáticas en 1879 bajo la orientación de Charles Hermite (que se pronuncia \"[Charle ermit](https://es.forvo.com/search/Charles%20Hermite/fr/)\").  Las mayores contribuciones de Poincaré, como matemático, se produjeron en la teoría de ecuaciones diferenciales. Sin embargo, por sus estudios posteriores de ingeniería, su posición como profesor de la Universidad de Paris (La Sorbona) en las áreas de Mecánica, Física Matemática, Teoría de la Probabilidad, Mecánica Celeste y Astronomía, además del reconocimiento público que lo llevo a ser miembro de la Oficina de Longitudes de Francia en 1897 y elegido presidente de la Academia Francesa de Ciencias en 1906, los conocimientos de Poincaré se extendieron a muchas otras disciplinas.  De allí que sea considerado un Polímata o un \"hombre universal\", alguien que domina muchas disciplinas intelectuales o artísticas (una etiqueta que comparte con personajes Aristóteles o Leonardo da Vinci).\n",
    "\n",
    "> El artículo presentado por Poincaré en el concurso del Rey Oscar II, titulado \"Sobre el problema de los tres cuerpos y las ecuaciones de la dinámica\", fue declarado, sin lugar a dudas el ganador del concurso. Esto, a pesar de que el artículo no resolvía el problema original, sino que se restringía al caso particular de tres cuerpos. Aún así, y en palabras de los jurados, el trabajo de Poincaré \"iniciaría una nueva era en la historia de la mecánica celeste\".\n",
    "\n",
    "> Hoy sabemos que el trabajo de Poincaré de 1889 contenía errores (que no fueron detectados por los evaluadores), pero aún así los métodos utilizados por él en la búsqueda de su solución influenciarían de forma importante los intentos posteriores y serían la base para el desarrollo de la teoría del caos.\n",
    "\n",
    "> El problema de los tres cuerpos, formulado a la manera del concurso del rey Oscar II, fue finalmente resuelto en 1912 por el matemático Finlandés Karl Sundman <cite data-cite=\"Sundman1913ThreeBody\"><a href=\"mybook.html#Sundman1913ThreeBody\">Sundman, 1913</a></cite>. En este trabajo Sundman probó la existencia de series que describían la posición de los tres cuerpos y que convergían para tiempos arbitrarios.  Una excelente síntesis histórica de la contribución (poco apreciada de Sundman) puede encontrarse en <cite data-cite=\"Barrow2010Sundman\"><a href=\"mybook.html#Barrow2010Sundman\">Barrow-Green, 2010</a></cite>."
   ]
  },
  {
   "cell_type": "markdown",
   "metadata": {
    "tags": [
     "footnote"
    ]
   },
   "source": [
    "**NOTAS AL PIE:**\n",
    "\n",
    "<a id='notaspie_1'></a>\n",
    "1. En otras áreas de la física, a este problema se lo conoce también como el **problema de muchos cuerpos** y en general no se restringe únicamente a describir el movimiento del sistema (lo que es propio de la física clásica), sino también el estado cuántico de todo el sistema, por ejemplo, y su posible evolución en el tiempo.\n",
    "\n",
    "<a id='notaspie_2'></a>\n",
    "2. Tomado literalmente del prefacio del editor en <cite data-cite=\"Poincare1992NewMethods\"><a href=\"mybook.html#Poincare1992NewMethods\">Poincare, 1992</a></cite>, que a su vez reproduce el texto del concurso organizado por el rey Oscar II en 1889 (ver el recuadro *Historias de la Mecánica Celeste* en esta sección).\n",
    "\n",
    "<a id='notaspie_3'></a>\n",
    "3. La idea de usar series para resolver problemas como estos, fue precisamente del francés Henri Poincaré (ver Historias de la Mecánica Celeste)\n",
    "\n"
   ]
  },
  {
   "cell_type": "markdown",
   "metadata": {
    "tags": [
     "navigation"
    ]
   },
   "source": [
    "[Indice](index.ipynb) | Previo: [ProblemaNCuerpos](05.00.00.00.ProblemaNCuerpos.ipynb) | Siguiente: [ProblemaNCuerpos.SolucionNumerica](05.01.00.00.ProblemaNCuerpos.SolucionNumerica.ipynb)"
   ]
  }
 ],
 "metadata": {
  "celltoolbar": "Tags",
  "kernelspec": {
   "display_name": "Python 3",
   "language": "python",
   "name": "python3"
  },
  "language_info": {
   "codemirror_mode": {
    "name": "ipython",
    "version": 3
   },
   "file_extension": ".py",
   "mimetype": "text/x-python",
   "name": "python",
   "nbconvert_exporter": "python",
   "pygments_lexer": "ipython3",
   "version": "3.6.8"
  }
 },
 "nbformat": 4,
 "nbformat_minor": 2
}
