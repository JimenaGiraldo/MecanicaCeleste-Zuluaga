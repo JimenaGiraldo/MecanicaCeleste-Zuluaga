{
 "cells": [
  {
   "cell_type": "markdown",
   "metadata": {
    "tags": [
     "navigation"
    ]
   },
   "source": [
    "[Indice](index.ipynb) | Previo: [Problema2Cuerpos.ProblemaRelativo](07.02.00.00.Problema2Cuerpos.ProblemaRelativo.ipynb) | Siguiente: [Problema2Cuerpos.SolucionTiempo.EcuacionKepler](07.04.01.00.Problema2Cuerpos.SolucionTiempo.EcuacionKepler.ipynb)"
   ]
  },
  {
   "cell_type": "markdown",
   "metadata": {},
   "source": [
    "## 7.9. La órbita en el espacio\n",
    "<a id='orbita_espacio'></a>"
   ]
  },
  {
   "cell_type": "markdown",
   "metadata": {},
   "source": [
    "En las secciones precedentes encontramos, usando las constantes de movimiento del problema relativo de dos cuerpos,  la ecuación de la curva que describe el vector relativo (Ec. [doscuerpos_trayectoria](#mjx-eqn-eq%3Adoscuerpos_trayectoria)) y de allí las ecuaciones de las trayectorias descritas por los cuerpos individuales (Ecs. [doscuerpos_trayectoria_m1](#mjx-eqn-eq%3Adoscuerpos_trayectoria_m1) y [doscuerpos_trayectoria_m2](#mjx-eqn-eq%3Adoscuerpos_trayectoria_m2)).  \n",
    "\n",
    "Estos resultados implican que una vez se específica un único parámetro $f$, es posible calcular la posición y velocidad relativa de los dos cuerpos en el sistema de coordenadas natural de la cónica que describen (origen en uno de los focos, semieje $x+$ que coincide con el eje de simetría y apuntando hacia el periapsis.)"
   ]
  },
  {
   "cell_type": "markdown",
   "metadata": {},
   "source": [
    "En las siguientes secciones intentaremos resolver dos problemas clásicos:\n",
    "\n",
    "1. **Determinación de órbita**. Si se conoce la posición y velocidad relativa instantanea de un sistema de dos cuerpos, referida a un sistema de coordenadas arbitrario, ¿cuál es son los elementos orbitales $(p,e,i,\\Omega,\\omega,f_0)$ que describen la cónica?\n",
    "\n",
    "2. **Predicción del vector estado**.  Una vez se conocen los elementos orbitales de un sistema de dos cuerpos $(p,e,i,\\Omega,\\omega,f_0)$ ¿cuál es el vector de estado del sistema (y de las partículas constituyentes) para cualquier valor de $f$?  "
   ]
  },
  {
   "cell_type": "markdown",
   "metadata": {},
   "source": [
    "### 7.9.1. Determinación de la órbita\n",
    "<a id='determinacion_orbita'></a>"
   ]
  },
  {
   "cell_type": "markdown",
   "metadata": {},
   "source": [
    "En la Figura ([determinacion_orbita](#fig:determinacion_orbita)) se muestra la posición y velocidad relativa instantánea de un sistema de dos cuerpos en un sistema de coordenadas arbitrario $x-y-z$.  El reto consiste es encontrar a partir únicamente de $\\vec r$ y $\\dot{\\vec r}$,  los parámetros geométricos de la cónica $p$ y $e$, su orientación en el espacio específicada por los ángulos $i$, $\\Omega$ y $\\omega$, además del valor de la anomalía $f_0$ correspondiente a la posición relativa del sistema."
   ]
  },
  {
   "cell_type": "markdown",
   "metadata": {},
   "source": [
    "<a id='fig:determinacion_orbita'></a>![Construcción geométrica requerida para resolver el problema de la determinación de los elementos orbitales de la trayectoria del vector relativo a partir del vector de estado $\\vec X=({\\vec r}\\;\\dot{\\vec r})^\\mathrm{T}$.++t!++1.0++\\label{fig:determinacion_orbita}](./figures/square_determinacion_orbita.png)\n",
    "\n",
    "<center><b>Figura 7.83</b>. Construcción geométrica requerida para resolver el problema de la determinación de los elementos orbitales de la trayectoria del vector relativo a partir del vector de estado $</center>"
   ]
  },
  {
   "cell_type": "markdown",
   "metadata": {},
   "source": [
    "La reconstrucción comienza por encontrar los vectores constantes:\n",
    "\n",
    "\\begin{eqnarray}\n",
    "\\label{eq:det_hvec}\n",
    "\\vec{h} & = & \\vec{r}\\times\\dot{\\vec{r}}\\\\\n",
    "\\label{eq:det_evec}\n",
    "\\vec{e} & = & \\frac{\\dot{\\vec{r}} \\times \\vec{h}}{\\mu} - \\frac{\\vec{r}}{r}\\\\\n",
    "\\label{eq:det_nvec}\n",
    "\\vec{n} & = & {\\hat e}_z\\times {\\vec h} \\\\\n",
    "\\end{eqnarray}"
   ]
  },
  {
   "cell_type": "markdown",
   "metadata": {},
   "source": [
    "De aquí se pueden obtener los parámetros de tamaño y forma de la cónica:\n",
    "\n",
    "\\begin{eqnarray}\n",
    "\\label{eq:det_p}\n",
    "p & = & \\frac{h^2}{\\mu}\\\\\n",
    "\\label{eq:det_e}\n",
    "e & = & |\\vec{e}|\n",
    "\\end{eqnarray}"
   ]
  },
  {
   "cell_type": "markdown",
   "metadata": {},
   "source": [
    "La orientación de la cónica puede obtenerse usando el producto escalar entre los vectores claves:\n",
    "\n",
    "\\begin{eqnarray}\n",
    "\\label{eq:det_i}\n",
    "\\cos i & = & \\frac{\\vec{h}\\cdot \\hat{a_z}}{h} = \\frac{h_z}{h} \\\\\n",
    "\\label{eq:det_W}\n",
    "\\cos \\Omega & = & \\frac{\\vec{n}\\cdot \\hat{a_x}}{n} = \\frac{n_x}{n}\\\\\n",
    "\\label{eq:det_w}\n",
    "\\cos \\omega & = & \\frac{\\vec{n}\\cdot \\vec{e} }{ne} \\\\\n",
    "\\end{eqnarray}\n"
   ]
  },
  {
   "cell_type": "markdown",
   "metadata": {},
   "source": [
    "Numéricamente, la función $\\theta=\\cos^{-1} x$ devuelve un ángulo en el rango $0\\leq\\theta\\leq\\pi$.  Esto es suficiente para determinar la *inclinación orbital* $i$, pero no lo es en el caso de la *longitud del nodo ascendente* $\\Omega$ que es un ángulo en el rango $0\\leq\\Omega\\leq 2\\pi$, ni tampoco en el caso del *argumento del periapsis* que tiene un rango similar.  En estos dos casos podemos usar la siguientes reglas para determinar el cuadrante correcto para los ángulos respectivos:"
   ]
  },
  {
   "cell_type": "markdown",
   "metadata": {},
   "source": [
    "- **Longitud del nodo ascendente $\\Omega$**. El criterio para determinar el cuadrante correcto de este elemento, parte de calcular la proyección del vector nodal $\\vec{n}$ sobre el eje $y$. Si el signo es positivo, el valor de $\\Omega$ será el valor principal devuelto por $\\cos^{-1}$:\n",
    "\n",
    "  $$\n",
    "  \\Omega_p\\equiv\\cos^{-1}\\left(\\frac{n_x}{n}\\right)\n",
    "  $$\n",
    "\n",
    "  En caso contrario, usaremos el ángulo complementario a $2\\pi$.  En síntesis: \n",
    "\n",
    "  \\begin{equation}\n",
    "  \\label{eq:W_cuadrante}\n",
    "  \\Omega =\n",
    "  \\left\\{\n",
    "  \\begin{array}{ll}\n",
    "  \\Omega_p & \\mathrm{Si}\\;n_y \\geq 0\\\\\n",
    "  2\\pi-\\Omega_p & \\mathrm{Si}\\;n_y < 0\\\\\n",
    "  \\end{array}\n",
    "  \\right.\n",
    "  \\end{equation}"
   ]
  },
  {
   "cell_type": "markdown",
   "metadata": {},
   "source": [
    "- **Argumento del periapsis $\\omega$**. En este caso el valor principal del elemento es:\n",
    "\n",
    "  $$\n",
    "  \\omega_p\\equiv\\cos^{-1}\\left(\\frac{\\vec{n}\\cdot\\vec{e}}{en}\\right)\n",
    "  $$\n",
    "\n",
    "  para determinar el cuadrante correcto, proyectamos el vector de excentricidad sobre el eje $z$. Con esto $\\omega$ queda:\n",
    "  \n",
    "  \\begin{equation}\n",
    "  \\label{eq:w_cuadrante}\n",
    "  \\omega =\n",
    "  \\left\\{\n",
    "  \\begin{array}{ll}\n",
    "  \\omega_p & \\mathrm{Si}\\;e_z \\geq 0\\\\\n",
    "  2\\pi-\\omega_p & \\mathrm{Si}\\;e_z < 0\\\\\n",
    "  \\end{array}\n",
    "  \\right.\n",
    "  \\end{equation}"
   ]
  },
  {
   "cell_type": "markdown",
   "metadata": {},
   "source": [
    "Finalmente la anomalía verdadera instantánea se puede determinar de la proyección del vector posición sobre el vector excentricidad:\n",
    "\n",
    "\\begin{equation}\n",
    "\\label{eq:det_f}\n",
    "f_p \\equiv \\cos^{-1}\\left(\\frac{\\vec{e}\\cdot \\vec{r}}{er}\\right)\n",
    "\\end{equation}"
   ]
  },
  {
   "cell_type": "markdown",
   "metadata": {},
   "source": [
    "El cuadrante del ángulo en este caso se encuentra determinando si el vector relativo se aleja ($0<f<\\pi$) o se acerca al periapsis ($\\pi<f<2\\pi$).  Esta condición puede evaluarse si se calcula la proyección del vector velocidad sobre el vector posición:\n",
    "\n",
    "$$\n",
    "v_r = \\frac{\\vec{r}\\cdot \\vec{v}}{r}\n",
    "$$\n",
    "\n",
    "Finalmente, el valor $f$ en el cuadrante correcto:\n",
    "\n",
    "\\begin{equation}\n",
    "\\label{eq:f_cuadrante}\n",
    "f =\n",
    "\\left\\{\n",
    "\\begin{array}{ll}\n",
    "f_p & \\mathrm{Si}\\;v_r \\geq 0\\\\\n",
    "2\\pi-f_p & \\mathrm{Si}\\;v_r < 0\\\\\n",
    "\\end{array}\n",
    "\\right.\n",
    "\\end{equation}"
   ]
  },
  {
   "cell_type": "markdown",
   "metadata": {},
   "source": [
    "### 7.9.2. Predicción del vector de estado\n",
    "<a id='prediccion_estado'></a>"
   ]
  },
  {
   "cell_type": "markdown",
   "metadata": {},
   "source": [
    "Una vez hemos calculado los elementos orbitales $(p,e,i,\\Omega,\\omega,f_0)$ a partir de una posición específica o nos son provistos para una trayectoria particular, el siguiente problema consiste en determinar la posición y velocidad relativa (vecto de estado) del sistema para un valor cualquiera de la anomalía verdadera $f$."
   ]
  },
  {
   "cell_type": "markdown",
   "metadata": {},
   "source": [
    "En la [Sección *Elementos orbitales*](04.02.05.00.Fundamentos.Conicas.Rotaciones.ipynb#elementos_orbitales) habíamos visto cómo calcular las coordenadas de la partícula a partir de los elementos orbitales, para una anomalía verdadera $f$ (Ecs. [elementos_estado_f](#mjx-eqn-eq%3Aelementos_estado_f)):\n",
    "\n",
    "$$\n",
    "\\begin{array}{rcl}\n",
    "x & = & r[\\cos \\Omega \\cos(\\omega+f) - \\cos i \\sin \\Omega \\sin(\\omega+f)]\\\\\n",
    "y & = & r[\\sin \\Omega \\cos(\\omega+f) + \\cos i \\cos \\Omega \\sin(\\omega+f)]\\\\\n",
    "z & = & r \\sin i \\sin(\\omega+f)\\\\ \n",
    "\\end{array}\n",
    "$$\n",
    "donde $r=p/(1+e\\cos f)$"
   ]
  },
  {
   "cell_type": "markdown",
   "metadata": {},
   "source": [
    "Las componentes cartesianas de la velocidad en el espacio se pueden obtener partiendo de sus componentes en el sistema de coordenadas natural de la cónica (Ecs. [v_hodografo](#mjx-eqn-eq%3Av_hodografo)):\n",
    "\n",
    "\\begin{eqnarray}\n",
    "\\nonumber\n",
    "\\dot x''' & = & -\\frac{\\mu}{h} \\sin f\\\\\n",
    "\\nonumber\n",
    "\\dot y''' & = & \\frac{\\mu}{h} (e+\\cos f)\\\\\n",
    "\\nonumber\n",
    "\\dot z''' & = & 0\n",
    "\\end{eqnarray}\n",
    "que pueden, usando las expresiones explícitas para la rotación en tres dimensiones dadas por las Ecs. ([rotacion3d_natural_M](#mjx-eqn-eq%3Arotacion3d_natural_M)) y ([matrizM_explicita_transpuesta](#mjx-eqn-eq%3AmatrizM_explicita_transpuesta)), rotarse al sistema del observador:\n",
    "\n",
    "\\begin{eqnarray}\n",
    "\\label{eq:elementos_dotx}\n",
    "\\dot x = &   & \\frac{\\mu}{h}[-\\cos \\Omega \\sin(\\omega+f) - \\cos i \\sin \\Omega \\cos(\\omega+f)]\\\\\n",
    "\\nonumber\n",
    "         & - & \\frac{\\mu e}{h}(\\cos \\Omega \\sin\\omega + \\cos\\omega\\cos i\\sin\\Omega)\\\\\n",
    "\\label{eq:elementos_doty}    \n",
    "\\dot y = &   & \\frac{\\mu}{h}[-\\sin \\Omega \\sin(\\omega+f) + \\cos i \\cos \\Omega \\cos(\\omega+f)]\\\\\n",
    "\\nonumber\n",
    "         & + & \\frac{\\mu e}{h}(-\\sin \\Omega \\sin\\omega + \\cos\\omega\\cos i\\cos\\Omega)\\\\\n",
    "\\label{eq:elementos_dotz}\n",
    "\\dot z = &   & \\frac{\\mu}{h}[\\sin i\\cos(\\omega+f) + e\\cos \\omega\\sin i]\\\\ \n",
    "\\end{eqnarray}"
   ]
  },
  {
   "cell_type": "markdown",
   "metadata": {},
   "source": [
    "### 7.9.3. La órbita osculatriz\n",
    "<a id='orbita_osculatriz'></a>"
   ]
  },
  {
   "cell_type": "markdown",
   "metadata": {},
   "source": [
    "La existencia de una *función* que asigna a cada vector de estado $\\vec x:(x,y,z,v_x,v_y,v_z)$ un conjunto de elementos orbitales $p(\\vec x)$, $e(\\vec x)$, $i(\\vec x)$, $\\Omega(\\vec x)$, $\\omega(\\vec x)$, $f(\\vec x)$ y viceversa (Ecs. [det_p](#mjx-eqn-eq%3Adet_p)-[elementos_dotz](#mjx-eqn-eq%3Aelementos_dotz)) es una interesante propiedad que conduce a una importante definición en mecánica celeste. "
   ]
  },
  {
   "cell_type": "markdown",
   "metadata": {},
   "source": [
    "<a id='fig:osculatriz'></a>![Ilutración del concepto de órbita osculatriz.  La trayectoria del cuerpo (curva continua) no es una cónica.  Sin embargo por cada punto de la curva (p.e. los puntos P y Q) podemos encontrar una cónica que sea tangente a la curva (curvas rayadas) y que tenga como foco ($F_P$ o $F_Q$) el origen de coordenadas.++t!++0.5++\\label{fig:osculatriz}](./figures/square_osculatriz.png)\n",
    "\n",
    "<center><b>Figura 7.84</b>. Ilutración del concepto de órbita osculatriz.  La trayectoria del cuerpo (curva continua) no es una cónica.  Sin embargo por cada punto de la curva (p.e. los puntos P y Q) podemos encontrar una cónica que sea tangente a la curva (curvas rayadas) y que tenga como foco ($F_P$ o $F_Q$) el origen de coordenadas.</center>"
   ]
  },
  {
   "cell_type": "markdown",
   "metadata": {},
   "source": [
    "Independientemente de cuál es la trayectoria que siga una partícula en el espacio, sea esta una cónica o no, siempre es posible encontrar para cada punto de la trayectoria, una curva cónica con elementos $p(\\vec x)$, $e(\\vec x)$, $i(\\vec x)$, $\\Omega(\\vec x)$, $\\omega(\\vec x)$, $f(\\vec x)$ que tiene como foco el origen de coordenadas y es tangente a la trayectoria de la partícula (ver Figura ([osculatriz](#fig:osculatriz)).)  Por su naturaleza \"rasante\", llamamos a esta cónica la **órbita osculatriz** o **cónica osculatriz** (la palabra osculatriz viene del latin *osculo* que significa \"beso\".)"
   ]
  },
  {
   "cell_type": "markdown",
   "metadata": {},
   "source": [
    "Naturalmente, en el problema relativo de los dos cuerpos, la cónica osculatriz asociada a cada punto de la trayectoria descrita por el vector relativo será siempre la misma.  En otros términos, podemos decir que los elementos orbitales $p(\\vec x)$, $e(\\vec x)$, $i(\\vec x)$, $\\Omega(\\vec x)$, $\\omega(\\vec x)$, $f(\\vec x)$ son en sí mismos constantes de movimiento en el problema de los dos cuerpos (un interesante resultado sobre el que volveremos en el [Capítulo *Formalismo de Hamilton-Jacobi*](Not Found#formalismo_hamilton_jacobi))."
   ]
  },
  {
   "cell_type": "markdown",
   "metadata": {},
   "source": [
    "En situaciones más generales (como veremos en la [Sección *Aproximación de dos cuerpos a sistemas jerárquicos*](Not Found#doscuerpos_aproximacion_jerarquicos)), los elementos de la órbita osculatriz cambian punto a punto y el estudio de su *dinámica* (conocido en mecánica celeste como *teoría de perturbaciones*) se vuelve en sí mismo muy interesante. Si bien la teoría de perturbaciones está más allá del objetivo de este libro (es de esos temas desarrollados en detalle en la mayoría de los textos avanzados de mecánica celeste), por su importancia abordaremos algunos de sus rudimentos más adelante en este capítulo."
   ]
  },
  {
   "cell_type": "markdown",
   "metadata": {},
   "source": [
    "### 7.9.4. Un ejemplo numérico\n",
    "<a id='ejemplo_numerico_orbita_espacio'></a>"
   ]
  },
  {
   "cell_type": "markdown",
   "metadata": {},
   "source": [
    "Para poner en práctica lo visto en esta sección partamos de un sistema de dos cuerpos con condiciones iniciales arbitrarias:"
   ]
  },
  {
   "cell_type": "code",
   "execution_count": 1,
   "metadata": {
    "codelabel": "",
    "codeplot": 0
   },
   "outputs": [],
   "source": [
    "from numpy import array\n",
    "sistema=[\n",
    "    dict(m=1.0,\n",
    "         r=array([0.0,0.0,+0.3]),\n",
    "         v=array([+1.0,0.0,0.5])),\n",
    "    dict(m=0.5,\n",
    "         r=array([+1.0,0.0,0.0]),\n",
    "         v=array([0.0,+1.0,0.0])),\n",
    "]"
   ]
  },
  {
   "cell_type": "markdown",
   "metadata": {},
   "source": [
    "A partir de estas condiciones iniciales, podemos calcular los parámetros iniciales del sistema relativo:"
   ]
  },
  {
   "cell_type": "code",
   "execution_count": 2,
   "metadata": {
    "codelabel": "",
    "codeplot": 0
   },
   "outputs": [],
   "source": [
    "from numpy.linalg import norm\n",
    "mu=sistema[0][\"m\"]+sistema[1][\"m\"]\n",
    "rvec=sistema[0][\"r\"]-sistema[1][\"r\"]\n",
    "r=norm(rvec)\n",
    "vvec=sistema[0][\"v\"]-sistema[1][\"v\"]\n",
    "v=norm(vvec)"
   ]
  },
  {
   "cell_type": "code",
   "execution_count": 3,
   "metadata": {
    "codelabel": "",
    "codeplot": 0,
    "tags": [
     "hide_input"
    ]
   },
   "outputs": [
    {
     "name": "stdout",
     "output_type": "stream",
     "text": [
      "mu = 1.5\n",
      "r_vec = [-1.   0.   0.3]\n",
      "r = 1.044030650891055\n",
      "v_vec = [ 1.  -1.   0.5]\n",
      "v = 1.5\n"
     ]
    }
   ],
   "source": [
    "print(f\"mu = {mu}\")\n",
    "print(f\"r_vec = {rvec}\")\n",
    "print(f\"r = {r}\")\n",
    "print(f\"v_vec = {vvec}\")\n",
    "print(f\"v = {v}\")"
   ]
  },
  {
   "cell_type": "markdown",
   "metadata": {},
   "source": [
    "A partir de los vectores posición y velocidad podemos obtener los vectores clave (Ecs. [det_h](#mjx-eqn-eq%3Adet_h)-[det_n](#mjx-eqn-eq%3Adet_n)):"
   ]
  },
  {
   "cell_type": "code",
   "execution_count": 4,
   "metadata": {
    "codelabel": "",
    "codeplot": 0
   },
   "outputs": [],
   "source": [
    "from numpy import cross\n",
    "from numpy.linalg import norm\n",
    "\n",
    "#Momento angular relativo específico\n",
    "hvec=cross(rvec,vvec)\n",
    "h=norm(hvec)\n",
    "#Vector excentricidad\n",
    "evec=cross(vvec,hvec)/mu-rvec/r\n",
    "e=norm(evec)\n",
    "#Vector nodo ascendente\n",
    "nvec=cross([0,0,1],hvec)\n",
    "n=norm(nvec)"
   ]
  },
  {
   "cell_type": "code",
   "execution_count": 5,
   "metadata": {
    "codelabel": "",
    "codeplot": 0,
    "tags": [
     "hide_input"
    ]
   },
   "outputs": [
    {
     "name": "stdout",
     "output_type": "stream",
     "text": [
      "hvec = [0.3 0.8 1. ]\n",
      "h = 1.3152946437965904\n",
      "evec = [ 0.02449295 -0.56666667  0.44598545]\n",
      "e = 0.7215358864417007\n",
      "nvec = [-0.8  0.3  0. ]\n",
      "n = 0.8544003745317532\n"
     ]
    }
   ],
   "source": [
    "print(f\"hvec = {hvec}\")\n",
    "print(f\"h = {h}\")\n",
    "print(f\"evec = {evec}\")\n",
    "print(f\"e = {e}\")\n",
    "print(f\"nvec = {nvec}\")\n",
    "print(f\"n = {n}\")"
   ]
  },
  {
   "cell_type": "markdown",
   "metadata": {},
   "source": [
    "Los parámetros de tamaño y forma se obtienen usando:"
   ]
  },
  {
   "cell_type": "code",
   "execution_count": 6,
   "metadata": {
    "codelabel": "",
    "codeplot": 0
   },
   "outputs": [],
   "source": [
    "#Semilatus rectum\n",
    "p=h**2/mu\n",
    "#Semieje mayor\n",
    "a=p/(1-e**2)\n",
    "#Velocidad angular promedio\n",
    "from numpy import sqrt\n",
    "nmed=sqrt(mu/abs(a)**3)"
   ]
  },
  {
   "cell_type": "code",
   "execution_count": 7,
   "metadata": {
    "codelabel": "",
    "codeplot": 0,
    "tags": [
     "hide_input"
    ]
   },
   "outputs": [
    {
     "name": "stdout",
     "output_type": "stream",
     "text": [
      "p = 1.153333333333333 u.c.\n",
      "a = 2.405855445416549 u.c.\n",
      "nmed = 0.3282020847560834 u.c.\n"
     ]
    }
   ],
   "source": [
    "print(f\"p = {p} u.c.\")\n",
    "print(f\"a = {a} u.c.\")\n",
    "print(f\"nmed = {nmed} u.c.\")"
   ]
  },
  {
   "cell_type": "markdown",
   "metadata": {},
   "source": [
    "La orientación de la órbita se obtiene usando las Ecs. ([det_W](#mjx-eqn-eq%3Adet_W))-([det_f](#mjx-eqn-eq%3Adet_f)):"
   ]
  },
  {
   "cell_type": "code",
   "execution_count": 10,
   "metadata": {
    "codelabel": "",
    "codeplot": 0
   },
   "outputs": [],
   "source": [
    "from numpy import dot,arccos,pi\n",
    "i=arccos(hvec[2]/h)\n",
    "\n",
    "Wp=arccos(nvec[0]/n)\n",
    "W=Wp if nvec[1]>0 else 2*pi-Wp\n",
    "\n",
    "wp=arccos(dot(nvec,evec)/(e*n))\n",
    "w=wp if evec[2]>0 else 2*pi-wp\n",
    "\n",
    "fp=arccos(dot(rvec,evec)/(r*e))\n",
    "f0=fp if dot(rvec,vvec)>0 else 2*pi-fp"
   ]
  },
  {
   "cell_type": "code",
   "execution_count": 11,
   "metadata": {
    "codelabel": "",
    "codeplot": 0,
    "tags": [
     "hide_input"
    ]
   },
   "outputs": [
    {
     "name": "stdout",
     "output_type": "stream",
     "text": [
      "i = 40.510589437332754 grados\n",
      "W = 159.44395478041653 grados\n",
      "w = 107.91123121198778 grados\n",
      "f_0 = 278.34291953929824 grados\n"
     ]
    }
   ],
   "source": [
    "print(f\"i = {i*180/pi} grados\")\n",
    "print(f\"W = {W*180/pi} grados\")\n",
    "print(f\"w = {w*180/pi} grados\")\n",
    "print(f\"f_0 = {f0*180/pi} grados\")"
   ]
  },
  {
   "cell_type": "markdown",
   "metadata": {},
   "source": [
    "Hemos sintetizado este mismo procedimiento como la rutina `estado_a_elementos` cuyo algoritmo se presenta en el [Apéndice *Algoritmos y rutinas útiles*]."
   ]
  },
  {
   "cell_type": "markdown",
   "metadata": {},
   "source": [
    "Con este resultado podemos ahora determinar el vector posición y velocidad en un valor arbitario de la anomalía verdadera:"
   ]
  },
  {
   "cell_type": "code",
   "execution_count": 12,
   "metadata": {
    "codelabel": "",
    "codeplot": 0
   },
   "outputs": [],
   "source": [
    "#Anomalía verdadera\n",
    "f=pi/2\n",
    "\n",
    "#Distancia al punto\n",
    "from numpy import cos\n",
    "r=p/(1+e*cos(f))"
   ]
  },
  {
   "cell_type": "markdown",
   "metadata": {},
   "source": [
    "Las coordenadas del punto son:"
   ]
  },
  {
   "cell_type": "code",
   "execution_count": 13,
   "metadata": {
    "codelabel": "",
    "codeplot": 0
   },
   "outputs": [],
   "source": [
    "from numpy import cos,sin\n",
    "x=r*(cos(W)*cos(w+f)-cos(i)*sin(W)*sin(w+f))\n",
    "y=r*(sin(W)*cos(w+f)+cos(i)*cos(W)*sin(w+f))\n",
    "z=r*sin(i)*sin(w+f)\n",
    "\n",
    "from numpy import array\n",
    "r_nuevo=array([x,y,z])"
   ]
  },
  {
   "cell_type": "markdown",
   "metadata": {},
   "source": [
    "Y la velocidad:"
   ]
  },
  {
   "cell_type": "code",
   "execution_count": 14,
   "metadata": {
    "codelabel": "",
    "codeplot": 0
   },
   "outputs": [],
   "source": [
    "#Parametro mu/h\n",
    "muh=mu/h\n",
    "\n",
    "vx=muh*(-cos(W)*sin(w+f)-cos(i)*sin(W)*cos(w+f))\\\n",
    "   -muh*e*(cos(W)*sin(w)+cos(w)*cos(i)*sin(W))\n",
    "vy=muh*(-sin(W)*sin(w+f)+cos(i)*cos(W)*cos(w+f))\\\n",
    "   +muh*e*(-sin(W)*sin(w)+cos(w)*cos(i)*cos(W))\n",
    "vz=muh*(sin(i)*cos(w+f)+e*cos(w)*sin(i))\n",
    "\n",
    "from numpy import array\n",
    "v_nuevo=array([vx,vy,vz])"
   ]
  },
  {
   "cell_type": "markdown",
   "metadata": {},
   "source": [
    "Una posible comprobación de que nuestra predicción es la correcta (aunque es una condición necesaria y no suficiente de su validez), es verificar si el momento angular específico relativo con el vector de estado sigue siendo el mismo:"
   ]
  },
  {
   "cell_type": "code",
   "execution_count": 16,
   "metadata": {
    "codelabel": "",
    "codeplot": 0
   },
   "outputs": [],
   "source": [
    "from numpy import cross\n",
    "hvec_nuevo=cross(r_nuevo,v_nuevo)"
   ]
  },
  {
   "cell_type": "code",
   "execution_count": 17,
   "metadata": {
    "codelabel": "",
    "codeplot": 0,
    "tags": [
     "hide_input"
    ]
   },
   "outputs": [
    {
     "name": "stdout",
     "output_type": "stream",
     "text": [
      "Inicial, hvec = [0.3 0.8 1. ]\n",
      "Nueva posición, hvec = [0.3 0.8 1. ]\n"
     ]
    }
   ],
   "source": [
    "print(f\"Inicial, hvec = {hvec}\")\n",
    "print(f\"Nueva posición, hvec = {hvec_nuevo}\")"
   ]
  },
  {
   "cell_type": "markdown",
   "metadata": {},
   "source": [
    "Y vemos que coinciden."
   ]
  },
  {
   "cell_type": "markdown",
   "metadata": {},
   "source": [
    "Una prueba aún más estricta para nuestra teoría sería la de comparar la órbita predicha con una integración numérica de las ecuaciones de movimiento.  Para ello nos valdremos de la rutina `ncuerpos_solucion` definida en el Alg. ([ncuerpos_solucion](06.03.00.00.ProblemaNCuerpos.SolucionNumerica.ConstantesMovimiento.ipynb#code:ncuerpos_solucion)):"
   ]
  },
  {
   "cell_type": "code",
   "execution_count": 18,
   "metadata": {
    "codelabel": "",
    "codeplot": 0
   },
   "outputs": [],
   "source": [
    "#Tiempo característico de la cónica\n",
    "#Si la cónica es una elipse este es el período\n",
    "from numpy import pi\n",
    "T=2*pi/nmed\n",
    "\n",
    "#Tiempos \n",
    "from numpy import linspace\n",
    "ts=linspace(0,T,20)\n",
    "\n",
    "#Solución a las e.d.m. del sistema\n",
    "from pymcel.export import ncuerpos_solucion\n",
    "rs,vs,rps,vps,constantes=ncuerpos_solucion(sistema,ts)"
   ]
  },
  {
   "cell_type": "markdown",
   "metadata": {},
   "source": [
    "Para comparar con la solución necesitamos calcular las posiciones y velocidades relativas.  Por relativas, no es importante si usamos el vector de estado referido al sistema de referencia original (`rs`, `vs`) o el referido al centro de masa (`rps`,`vps`):"
   ]
  },
  {
   "cell_type": "code",
   "execution_count": 19,
   "metadata": {
    "codelabel": "",
    "codeplot": 0
   },
   "outputs": [],
   "source": [
    "rs_num=rs[0,:,:]-rs[1,:,:]\n",
    "vs_num=vs[0,:,:]-vs[1,:,:]"
   ]
  },
  {
   "cell_type": "markdown",
   "metadata": {},
   "source": [
    "Para visualizar la órbita predicha en tres dimensiones, usaremos la rutina `conica_de_elementos`:"
   ]
  },
  {
   "cell_type": "code",
   "execution_count": 21,
   "metadata": {
    "codelabel": "",
    "codeplot": 0,
    "tags": [
     "hide_pdf",
     "hide_html"
    ]
   },
   "outputs": [],
   "source": [
    "%matplotlib nbagg"
   ]
  },
  {
   "cell_type": "code",
   "execution_count": 22,
   "metadata": {
    "codelabel": "fig:07.03.00.00.Problema2Cuerpos.OrbitaEspacio_85",
    "codeplot": 1,
    "figcaption": "<b>Figura 7.85.</b> "
   },
   "outputs": [
    {
     "data": {
      "application/javascript": [
       "/* Put everything inside the global mpl namespace */\n",
       "window.mpl = {};\n",
       "\n",
       "\n",
       "mpl.get_websocket_type = function() {\n",
       "    if (typeof(WebSocket) !== 'undefined') {\n",
       "        return WebSocket;\n",
       "    } else if (typeof(MozWebSocket) !== 'undefined') {\n",
       "        return MozWebSocket;\n",
       "    } else {\n",
       "        alert('Your browser does not have WebSocket support. ' +\n",
       "              'Please try Chrome, Safari or Firefox ≥ 6. ' +\n",
       "              'Firefox 4 and 5 are also supported but you ' +\n",
       "              'have to enable WebSockets in about:config.');\n",
       "    };\n",
       "}\n",
       "\n",
       "mpl.figure = function(figure_id, websocket, ondownload, parent_element) {\n",
       "    this.id = figure_id;\n",
       "\n",
       "    this.ws = websocket;\n",
       "\n",
       "    this.supports_binary = (this.ws.binaryType != undefined);\n",
       "\n",
       "    if (!this.supports_binary) {\n",
       "        var warnings = document.getElementById(\"mpl-warnings\");\n",
       "        if (warnings) {\n",
       "            warnings.style.display = 'block';\n",
       "            warnings.textContent = (\n",
       "                \"This browser does not support binary websocket messages. \" +\n",
       "                    \"Performance may be slow.\");\n",
       "        }\n",
       "    }\n",
       "\n",
       "    this.imageObj = new Image();\n",
       "\n",
       "    this.context = undefined;\n",
       "    this.message = undefined;\n",
       "    this.canvas = undefined;\n",
       "    this.rubberband_canvas = undefined;\n",
       "    this.rubberband_context = undefined;\n",
       "    this.format_dropdown = undefined;\n",
       "\n",
       "    this.image_mode = 'full';\n",
       "\n",
       "    this.root = $('<div/>');\n",
       "    this._root_extra_style(this.root)\n",
       "    this.root.attr('style', 'display: inline-block');\n",
       "\n",
       "    $(parent_element).append(this.root);\n",
       "\n",
       "    this._init_header(this);\n",
       "    this._init_canvas(this);\n",
       "    this._init_toolbar(this);\n",
       "\n",
       "    var fig = this;\n",
       "\n",
       "    this.waiting = false;\n",
       "\n",
       "    this.ws.onopen =  function () {\n",
       "            fig.send_message(\"supports_binary\", {value: fig.supports_binary});\n",
       "            fig.send_message(\"send_image_mode\", {});\n",
       "            if (mpl.ratio != 1) {\n",
       "                fig.send_message(\"set_dpi_ratio\", {'dpi_ratio': mpl.ratio});\n",
       "            }\n",
       "            fig.send_message(\"refresh\", {});\n",
       "        }\n",
       "\n",
       "    this.imageObj.onload = function() {\n",
       "            if (fig.image_mode == 'full') {\n",
       "                // Full images could contain transparency (where diff images\n",
       "                // almost always do), so we need to clear the canvas so that\n",
       "                // there is no ghosting.\n",
       "                fig.context.clearRect(0, 0, fig.canvas.width, fig.canvas.height);\n",
       "            }\n",
       "            fig.context.drawImage(fig.imageObj, 0, 0);\n",
       "        };\n",
       "\n",
       "    this.imageObj.onunload = function() {\n",
       "        fig.ws.close();\n",
       "    }\n",
       "\n",
       "    this.ws.onmessage = this._make_on_message_function(this);\n",
       "\n",
       "    this.ondownload = ondownload;\n",
       "}\n",
       "\n",
       "mpl.figure.prototype._init_header = function() {\n",
       "    var titlebar = $(\n",
       "        '<div class=\"ui-dialog-titlebar ui-widget-header ui-corner-all ' +\n",
       "        'ui-helper-clearfix\"/>');\n",
       "    var titletext = $(\n",
       "        '<div class=\"ui-dialog-title\" style=\"width: 100%; ' +\n",
       "        'text-align: center; padding: 3px;\"/>');\n",
       "    titlebar.append(titletext)\n",
       "    this.root.append(titlebar);\n",
       "    this.header = titletext[0];\n",
       "}\n",
       "\n",
       "\n",
       "\n",
       "mpl.figure.prototype._canvas_extra_style = function(canvas_div) {\n",
       "\n",
       "}\n",
       "\n",
       "\n",
       "mpl.figure.prototype._root_extra_style = function(canvas_div) {\n",
       "\n",
       "}\n",
       "\n",
       "mpl.figure.prototype._init_canvas = function() {\n",
       "    var fig = this;\n",
       "\n",
       "    var canvas_div = $('<div/>');\n",
       "\n",
       "    canvas_div.attr('style', 'position: relative; clear: both; outline: 0');\n",
       "\n",
       "    function canvas_keyboard_event(event) {\n",
       "        return fig.key_event(event, event['data']);\n",
       "    }\n",
       "\n",
       "    canvas_div.keydown('key_press', canvas_keyboard_event);\n",
       "    canvas_div.keyup('key_release', canvas_keyboard_event);\n",
       "    this.canvas_div = canvas_div\n",
       "    this._canvas_extra_style(canvas_div)\n",
       "    this.root.append(canvas_div);\n",
       "\n",
       "    var canvas = $('<canvas/>');\n",
       "    canvas.addClass('mpl-canvas');\n",
       "    canvas.attr('style', \"left: 0; top: 0; z-index: 0; outline: 0\")\n",
       "\n",
       "    this.canvas = canvas[0];\n",
       "    this.context = canvas[0].getContext(\"2d\");\n",
       "\n",
       "    var backingStore = this.context.backingStorePixelRatio ||\n",
       "\tthis.context.webkitBackingStorePixelRatio ||\n",
       "\tthis.context.mozBackingStorePixelRatio ||\n",
       "\tthis.context.msBackingStorePixelRatio ||\n",
       "\tthis.context.oBackingStorePixelRatio ||\n",
       "\tthis.context.backingStorePixelRatio || 1;\n",
       "\n",
       "    mpl.ratio = (window.devicePixelRatio || 1) / backingStore;\n",
       "\n",
       "    var rubberband = $('<canvas/>');\n",
       "    rubberband.attr('style', \"position: absolute; left: 0; top: 0; z-index: 1;\")\n",
       "\n",
       "    var pass_mouse_events = true;\n",
       "\n",
       "    canvas_div.resizable({\n",
       "        start: function(event, ui) {\n",
       "            pass_mouse_events = false;\n",
       "        },\n",
       "        resize: function(event, ui) {\n",
       "            fig.request_resize(ui.size.width, ui.size.height);\n",
       "        },\n",
       "        stop: function(event, ui) {\n",
       "            pass_mouse_events = true;\n",
       "            fig.request_resize(ui.size.width, ui.size.height);\n",
       "        },\n",
       "    });\n",
       "\n",
       "    function mouse_event_fn(event) {\n",
       "        if (pass_mouse_events)\n",
       "            return fig.mouse_event(event, event['data']);\n",
       "    }\n",
       "\n",
       "    rubberband.mousedown('button_press', mouse_event_fn);\n",
       "    rubberband.mouseup('button_release', mouse_event_fn);\n",
       "    // Throttle sequential mouse events to 1 every 20ms.\n",
       "    rubberband.mousemove('motion_notify', mouse_event_fn);\n",
       "\n",
       "    rubberband.mouseenter('figure_enter', mouse_event_fn);\n",
       "    rubberband.mouseleave('figure_leave', mouse_event_fn);\n",
       "\n",
       "    canvas_div.on(\"wheel\", function (event) {\n",
       "        event = event.originalEvent;\n",
       "        event['data'] = 'scroll'\n",
       "        if (event.deltaY < 0) {\n",
       "            event.step = 1;\n",
       "        } else {\n",
       "            event.step = -1;\n",
       "        }\n",
       "        mouse_event_fn(event);\n",
       "    });\n",
       "\n",
       "    canvas_div.append(canvas);\n",
       "    canvas_div.append(rubberband);\n",
       "\n",
       "    this.rubberband = rubberband;\n",
       "    this.rubberband_canvas = rubberband[0];\n",
       "    this.rubberband_context = rubberband[0].getContext(\"2d\");\n",
       "    this.rubberband_context.strokeStyle = \"#000000\";\n",
       "\n",
       "    this._resize_canvas = function(width, height) {\n",
       "        // Keep the size of the canvas, canvas container, and rubber band\n",
       "        // canvas in synch.\n",
       "        canvas_div.css('width', width)\n",
       "        canvas_div.css('height', height)\n",
       "\n",
       "        canvas.attr('width', width * mpl.ratio);\n",
       "        canvas.attr('height', height * mpl.ratio);\n",
       "        canvas.attr('style', 'width: ' + width + 'px; height: ' + height + 'px;');\n",
       "\n",
       "        rubberband.attr('width', width);\n",
       "        rubberband.attr('height', height);\n",
       "    }\n",
       "\n",
       "    // Set the figure to an initial 600x600px, this will subsequently be updated\n",
       "    // upon first draw.\n",
       "    this._resize_canvas(600, 600);\n",
       "\n",
       "    // Disable right mouse context menu.\n",
       "    $(this.rubberband_canvas).bind(\"contextmenu\",function(e){\n",
       "        return false;\n",
       "    });\n",
       "\n",
       "    function set_focus () {\n",
       "        canvas.focus();\n",
       "        canvas_div.focus();\n",
       "    }\n",
       "\n",
       "    window.setTimeout(set_focus, 100);\n",
       "}\n",
       "\n",
       "mpl.figure.prototype._init_toolbar = function() {\n",
       "    var fig = this;\n",
       "\n",
       "    var nav_element = $('<div/>');\n",
       "    nav_element.attr('style', 'width: 100%');\n",
       "    this.root.append(nav_element);\n",
       "\n",
       "    // Define a callback function for later on.\n",
       "    function toolbar_event(event) {\n",
       "        return fig.toolbar_button_onclick(event['data']);\n",
       "    }\n",
       "    function toolbar_mouse_event(event) {\n",
       "        return fig.toolbar_button_onmouseover(event['data']);\n",
       "    }\n",
       "\n",
       "    for(var toolbar_ind in mpl.toolbar_items) {\n",
       "        var name = mpl.toolbar_items[toolbar_ind][0];\n",
       "        var tooltip = mpl.toolbar_items[toolbar_ind][1];\n",
       "        var image = mpl.toolbar_items[toolbar_ind][2];\n",
       "        var method_name = mpl.toolbar_items[toolbar_ind][3];\n",
       "\n",
       "        if (!name) {\n",
       "            // put a spacer in here.\n",
       "            continue;\n",
       "        }\n",
       "        var button = $('<button/>');\n",
       "        button.addClass('ui-button ui-widget ui-state-default ui-corner-all ' +\n",
       "                        'ui-button-icon-only');\n",
       "        button.attr('role', 'button');\n",
       "        button.attr('aria-disabled', 'false');\n",
       "        button.click(method_name, toolbar_event);\n",
       "        button.mouseover(tooltip, toolbar_mouse_event);\n",
       "\n",
       "        var icon_img = $('<span/>');\n",
       "        icon_img.addClass('ui-button-icon-primary ui-icon');\n",
       "        icon_img.addClass(image);\n",
       "        icon_img.addClass('ui-corner-all');\n",
       "\n",
       "        var tooltip_span = $('<span/>');\n",
       "        tooltip_span.addClass('ui-button-text');\n",
       "        tooltip_span.html(tooltip);\n",
       "\n",
       "        button.append(icon_img);\n",
       "        button.append(tooltip_span);\n",
       "\n",
       "        nav_element.append(button);\n",
       "    }\n",
       "\n",
       "    var fmt_picker_span = $('<span/>');\n",
       "\n",
       "    var fmt_picker = $('<select/>');\n",
       "    fmt_picker.addClass('mpl-toolbar-option ui-widget ui-widget-content');\n",
       "    fmt_picker_span.append(fmt_picker);\n",
       "    nav_element.append(fmt_picker_span);\n",
       "    this.format_dropdown = fmt_picker[0];\n",
       "\n",
       "    for (var ind in mpl.extensions) {\n",
       "        var fmt = mpl.extensions[ind];\n",
       "        var option = $(\n",
       "            '<option/>', {selected: fmt === mpl.default_extension}).html(fmt);\n",
       "        fmt_picker.append(option);\n",
       "    }\n",
       "\n",
       "    // Add hover states to the ui-buttons\n",
       "    $( \".ui-button\" ).hover(\n",
       "        function() { $(this).addClass(\"ui-state-hover\");},\n",
       "        function() { $(this).removeClass(\"ui-state-hover\");}\n",
       "    );\n",
       "\n",
       "    var status_bar = $('<span class=\"mpl-message\"/>');\n",
       "    nav_element.append(status_bar);\n",
       "    this.message = status_bar[0];\n",
       "}\n",
       "\n",
       "mpl.figure.prototype.request_resize = function(x_pixels, y_pixels) {\n",
       "    // Request matplotlib to resize the figure. Matplotlib will then trigger a resize in the client,\n",
       "    // which will in turn request a refresh of the image.\n",
       "    this.send_message('resize', {'width': x_pixels, 'height': y_pixels});\n",
       "}\n",
       "\n",
       "mpl.figure.prototype.send_message = function(type, properties) {\n",
       "    properties['type'] = type;\n",
       "    properties['figure_id'] = this.id;\n",
       "    this.ws.send(JSON.stringify(properties));\n",
       "}\n",
       "\n",
       "mpl.figure.prototype.send_draw_message = function() {\n",
       "    if (!this.waiting) {\n",
       "        this.waiting = true;\n",
       "        this.ws.send(JSON.stringify({type: \"draw\", figure_id: this.id}));\n",
       "    }\n",
       "}\n",
       "\n",
       "\n",
       "mpl.figure.prototype.handle_save = function(fig, msg) {\n",
       "    var format_dropdown = fig.format_dropdown;\n",
       "    var format = format_dropdown.options[format_dropdown.selectedIndex].value;\n",
       "    fig.ondownload(fig, format);\n",
       "}\n",
       "\n",
       "\n",
       "mpl.figure.prototype.handle_resize = function(fig, msg) {\n",
       "    var size = msg['size'];\n",
       "    if (size[0] != fig.canvas.width || size[1] != fig.canvas.height) {\n",
       "        fig._resize_canvas(size[0], size[1]);\n",
       "        fig.send_message(\"refresh\", {});\n",
       "    };\n",
       "}\n",
       "\n",
       "mpl.figure.prototype.handle_rubberband = function(fig, msg) {\n",
       "    var x0 = msg['x0'] / mpl.ratio;\n",
       "    var y0 = (fig.canvas.height - msg['y0']) / mpl.ratio;\n",
       "    var x1 = msg['x1'] / mpl.ratio;\n",
       "    var y1 = (fig.canvas.height - msg['y1']) / mpl.ratio;\n",
       "    x0 = Math.floor(x0) + 0.5;\n",
       "    y0 = Math.floor(y0) + 0.5;\n",
       "    x1 = Math.floor(x1) + 0.5;\n",
       "    y1 = Math.floor(y1) + 0.5;\n",
       "    var min_x = Math.min(x0, x1);\n",
       "    var min_y = Math.min(y0, y1);\n",
       "    var width = Math.abs(x1 - x0);\n",
       "    var height = Math.abs(y1 - y0);\n",
       "\n",
       "    fig.rubberband_context.clearRect(\n",
       "        0, 0, fig.canvas.width / mpl.ratio, fig.canvas.height / mpl.ratio);\n",
       "\n",
       "    fig.rubberband_context.strokeRect(min_x, min_y, width, height);\n",
       "}\n",
       "\n",
       "mpl.figure.prototype.handle_figure_label = function(fig, msg) {\n",
       "    // Updates the figure title.\n",
       "    fig.header.textContent = msg['label'];\n",
       "}\n",
       "\n",
       "mpl.figure.prototype.handle_cursor = function(fig, msg) {\n",
       "    var cursor = msg['cursor'];\n",
       "    switch(cursor)\n",
       "    {\n",
       "    case 0:\n",
       "        cursor = 'pointer';\n",
       "        break;\n",
       "    case 1:\n",
       "        cursor = 'default';\n",
       "        break;\n",
       "    case 2:\n",
       "        cursor = 'crosshair';\n",
       "        break;\n",
       "    case 3:\n",
       "        cursor = 'move';\n",
       "        break;\n",
       "    }\n",
       "    fig.rubberband_canvas.style.cursor = cursor;\n",
       "}\n",
       "\n",
       "mpl.figure.prototype.handle_message = function(fig, msg) {\n",
       "    fig.message.textContent = msg['message'];\n",
       "}\n",
       "\n",
       "mpl.figure.prototype.handle_draw = function(fig, msg) {\n",
       "    // Request the server to send over a new figure.\n",
       "    fig.send_draw_message();\n",
       "}\n",
       "\n",
       "mpl.figure.prototype.handle_image_mode = function(fig, msg) {\n",
       "    fig.image_mode = msg['mode'];\n",
       "}\n",
       "\n",
       "mpl.figure.prototype.updated_canvas_event = function() {\n",
       "    // Called whenever the canvas gets updated.\n",
       "    this.send_message(\"ack\", {});\n",
       "}\n",
       "\n",
       "// A function to construct a web socket function for onmessage handling.\n",
       "// Called in the figure constructor.\n",
       "mpl.figure.prototype._make_on_message_function = function(fig) {\n",
       "    return function socket_on_message(evt) {\n",
       "        if (evt.data instanceof Blob) {\n",
       "            /* FIXME: We get \"Resource interpreted as Image but\n",
       "             * transferred with MIME type text/plain:\" errors on\n",
       "             * Chrome.  But how to set the MIME type?  It doesn't seem\n",
       "             * to be part of the websocket stream */\n",
       "            evt.data.type = \"image/png\";\n",
       "\n",
       "            /* Free the memory for the previous frames */\n",
       "            if (fig.imageObj.src) {\n",
       "                (window.URL || window.webkitURL).revokeObjectURL(\n",
       "                    fig.imageObj.src);\n",
       "            }\n",
       "\n",
       "            fig.imageObj.src = (window.URL || window.webkitURL).createObjectURL(\n",
       "                evt.data);\n",
       "            fig.updated_canvas_event();\n",
       "            fig.waiting = false;\n",
       "            return;\n",
       "        }\n",
       "        else if (typeof evt.data === 'string' && evt.data.slice(0, 21) == \"data:image/png;base64\") {\n",
       "            fig.imageObj.src = evt.data;\n",
       "            fig.updated_canvas_event();\n",
       "            fig.waiting = false;\n",
       "            return;\n",
       "        }\n",
       "\n",
       "        var msg = JSON.parse(evt.data);\n",
       "        var msg_type = msg['type'];\n",
       "\n",
       "        // Call the  \"handle_{type}\" callback, which takes\n",
       "        // the figure and JSON message as its only arguments.\n",
       "        try {\n",
       "            var callback = fig[\"handle_\" + msg_type];\n",
       "        } catch (e) {\n",
       "            console.log(\"No handler for the '\" + msg_type + \"' message type: \", msg);\n",
       "            return;\n",
       "        }\n",
       "\n",
       "        if (callback) {\n",
       "            try {\n",
       "                // console.log(\"Handling '\" + msg_type + \"' message: \", msg);\n",
       "                callback(fig, msg);\n",
       "            } catch (e) {\n",
       "                console.log(\"Exception inside the 'handler_\" + msg_type + \"' callback:\", e, e.stack, msg);\n",
       "            }\n",
       "        }\n",
       "    };\n",
       "}\n",
       "\n",
       "// from http://stackoverflow.com/questions/1114465/getting-mouse-location-in-canvas\n",
       "mpl.findpos = function(e) {\n",
       "    //this section is from http://www.quirksmode.org/js/events_properties.html\n",
       "    var targ;\n",
       "    if (!e)\n",
       "        e = window.event;\n",
       "    if (e.target)\n",
       "        targ = e.target;\n",
       "    else if (e.srcElement)\n",
       "        targ = e.srcElement;\n",
       "    if (targ.nodeType == 3) // defeat Safari bug\n",
       "        targ = targ.parentNode;\n",
       "\n",
       "    // jQuery normalizes the pageX and pageY\n",
       "    // pageX,Y are the mouse positions relative to the document\n",
       "    // offset() returns the position of the element relative to the document\n",
       "    var x = e.pageX - $(targ).offset().left;\n",
       "    var y = e.pageY - $(targ).offset().top;\n",
       "\n",
       "    return {\"x\": x, \"y\": y};\n",
       "};\n",
       "\n",
       "/*\n",
       " * return a copy of an object with only non-object keys\n",
       " * we need this to avoid circular references\n",
       " * http://stackoverflow.com/a/24161582/3208463\n",
       " */\n",
       "function simpleKeys (original) {\n",
       "  return Object.keys(original).reduce(function (obj, key) {\n",
       "    if (typeof original[key] !== 'object')\n",
       "        obj[key] = original[key]\n",
       "    return obj;\n",
       "  }, {});\n",
       "}\n",
       "\n",
       "mpl.figure.prototype.mouse_event = function(event, name) {\n",
       "    var canvas_pos = mpl.findpos(event)\n",
       "\n",
       "    if (name === 'button_press')\n",
       "    {\n",
       "        this.canvas.focus();\n",
       "        this.canvas_div.focus();\n",
       "    }\n",
       "\n",
       "    var x = canvas_pos.x * mpl.ratio;\n",
       "    var y = canvas_pos.y * mpl.ratio;\n",
       "\n",
       "    this.send_message(name, {x: x, y: y, button: event.button,\n",
       "                             step: event.step,\n",
       "                             guiEvent: simpleKeys(event)});\n",
       "\n",
       "    /* This prevents the web browser from automatically changing to\n",
       "     * the text insertion cursor when the button is pressed.  We want\n",
       "     * to control all of the cursor setting manually through the\n",
       "     * 'cursor' event from matplotlib */\n",
       "    event.preventDefault();\n",
       "    return false;\n",
       "}\n",
       "\n",
       "mpl.figure.prototype._key_event_extra = function(event, name) {\n",
       "    // Handle any extra behaviour associated with a key event\n",
       "}\n",
       "\n",
       "mpl.figure.prototype.key_event = function(event, name) {\n",
       "\n",
       "    // Prevent repeat events\n",
       "    if (name == 'key_press')\n",
       "    {\n",
       "        if (event.which === this._key)\n",
       "            return;\n",
       "        else\n",
       "            this._key = event.which;\n",
       "    }\n",
       "    if (name == 'key_release')\n",
       "        this._key = null;\n",
       "\n",
       "    var value = '';\n",
       "    if (event.ctrlKey && event.which != 17)\n",
       "        value += \"ctrl+\";\n",
       "    if (event.altKey && event.which != 18)\n",
       "        value += \"alt+\";\n",
       "    if (event.shiftKey && event.which != 16)\n",
       "        value += \"shift+\";\n",
       "\n",
       "    value += 'k';\n",
       "    value += event.which.toString();\n",
       "\n",
       "    this._key_event_extra(event, name);\n",
       "\n",
       "    this.send_message(name, {key: value,\n",
       "                             guiEvent: simpleKeys(event)});\n",
       "    return false;\n",
       "}\n",
       "\n",
       "mpl.figure.prototype.toolbar_button_onclick = function(name) {\n",
       "    if (name == 'download') {\n",
       "        this.handle_save(this, null);\n",
       "    } else {\n",
       "        this.send_message(\"toolbar_button\", {name: name});\n",
       "    }\n",
       "};\n",
       "\n",
       "mpl.figure.prototype.toolbar_button_onmouseover = function(tooltip) {\n",
       "    this.message.textContent = tooltip;\n",
       "};\n",
       "mpl.toolbar_items = [[\"Home\", \"Reset original view\", \"fa fa-home icon-home\", \"home\"], [\"Back\", \"Back to previous view\", \"fa fa-arrow-left icon-arrow-left\", \"back\"], [\"Forward\", \"Forward to next view\", \"fa fa-arrow-right icon-arrow-right\", \"forward\"], [\"\", \"\", \"\", \"\"], [\"Pan\", \"Pan axes with left mouse, zoom with right\", \"fa fa-arrows icon-move\", \"pan\"], [\"Zoom\", \"Zoom to rectangle\", \"fa fa-square-o icon-check-empty\", \"zoom\"], [\"\", \"\", \"\", \"\"], [\"Download\", \"Download plot\", \"fa fa-floppy-o icon-save\", \"download\"]];\n",
       "\n",
       "mpl.extensions = [\"eps\", \"jpeg\", \"pdf\", \"png\", \"ps\", \"raw\", \"svg\", \"tif\"];\n",
       "\n",
       "mpl.default_extension = \"png\";var comm_websocket_adapter = function(comm) {\n",
       "    // Create a \"websocket\"-like object which calls the given IPython comm\n",
       "    // object with the appropriate methods. Currently this is a non binary\n",
       "    // socket, so there is still some room for performance tuning.\n",
       "    var ws = {};\n",
       "\n",
       "    ws.close = function() {\n",
       "        comm.close()\n",
       "    };\n",
       "    ws.send = function(m) {\n",
       "        //console.log('sending', m);\n",
       "        comm.send(m);\n",
       "    };\n",
       "    // Register the callback with on_msg.\n",
       "    comm.on_msg(function(msg) {\n",
       "        //console.log('receiving', msg['content']['data'], msg);\n",
       "        // Pass the mpl event to the overridden (by mpl) onmessage function.\n",
       "        ws.onmessage(msg['content']['data'])\n",
       "    });\n",
       "    return ws;\n",
       "}\n",
       "\n",
       "mpl.mpl_figure_comm = function(comm, msg) {\n",
       "    // This is the function which gets called when the mpl process\n",
       "    // starts-up an IPython Comm through the \"matplotlib\" channel.\n",
       "\n",
       "    var id = msg.content.data.id;\n",
       "    // Get hold of the div created by the display call when the Comm\n",
       "    // socket was opened in Python.\n",
       "    var element = $(\"#\" + id);\n",
       "    var ws_proxy = comm_websocket_adapter(comm)\n",
       "\n",
       "    function ondownload(figure, format) {\n",
       "        window.open(figure.imageObj.src);\n",
       "    }\n",
       "\n",
       "    var fig = new mpl.figure(id, ws_proxy,\n",
       "                           ondownload,\n",
       "                           element.get(0));\n",
       "\n",
       "    // Call onopen now - mpl needs it, as it is assuming we've passed it a real\n",
       "    // web socket which is closed, not our websocket->open comm proxy.\n",
       "    ws_proxy.onopen();\n",
       "\n",
       "    fig.parent_element = element.get(0);\n",
       "    fig.cell_info = mpl.find_output_cell(\"<div id='\" + id + \"'></div>\");\n",
       "    if (!fig.cell_info) {\n",
       "        console.error(\"Failed to find cell for figure\", id, fig);\n",
       "        return;\n",
       "    }\n",
       "\n",
       "    var output_index = fig.cell_info[2]\n",
       "    var cell = fig.cell_info[0];\n",
       "\n",
       "};\n",
       "\n",
       "mpl.figure.prototype.handle_close = function(fig, msg) {\n",
       "    var width = fig.canvas.width/mpl.ratio\n",
       "    fig.root.unbind('remove')\n",
       "\n",
       "    // Update the output cell to use the data from the current canvas.\n",
       "    fig.push_to_output();\n",
       "    var dataURL = fig.canvas.toDataURL();\n",
       "    // Re-enable the keyboard manager in IPython - without this line, in FF,\n",
       "    // the notebook keyboard shortcuts fail.\n",
       "    IPython.keyboard_manager.enable()\n",
       "    $(fig.parent_element).html('<img src=\"' + dataURL + '\" width=\"' + width + '\">');\n",
       "    fig.close_ws(fig, msg);\n",
       "}\n",
       "\n",
       "mpl.figure.prototype.close_ws = function(fig, msg){\n",
       "    fig.send_message('closing', msg);\n",
       "    // fig.ws.close()\n",
       "}\n",
       "\n",
       "mpl.figure.prototype.push_to_output = function(remove_interactive) {\n",
       "    // Turn the data on the canvas into data in the output cell.\n",
       "    var width = this.canvas.width/mpl.ratio\n",
       "    var dataURL = this.canvas.toDataURL();\n",
       "    this.cell_info[1]['text/html'] = '<img src=\"' + dataURL + '\" width=\"' + width + '\">';\n",
       "}\n",
       "\n",
       "mpl.figure.prototype.updated_canvas_event = function() {\n",
       "    // Tell IPython that the notebook contents must change.\n",
       "    IPython.notebook.set_dirty(true);\n",
       "    this.send_message(\"ack\", {});\n",
       "    var fig = this;\n",
       "    // Wait a second, then push the new image to the DOM so\n",
       "    // that it is saved nicely (might be nice to debounce this).\n",
       "    setTimeout(function () { fig.push_to_output() }, 1000);\n",
       "}\n",
       "\n",
       "mpl.figure.prototype._init_toolbar = function() {\n",
       "    var fig = this;\n",
       "\n",
       "    var nav_element = $('<div/>');\n",
       "    nav_element.attr('style', 'width: 100%');\n",
       "    this.root.append(nav_element);\n",
       "\n",
       "    // Define a callback function for later on.\n",
       "    function toolbar_event(event) {\n",
       "        return fig.toolbar_button_onclick(event['data']);\n",
       "    }\n",
       "    function toolbar_mouse_event(event) {\n",
       "        return fig.toolbar_button_onmouseover(event['data']);\n",
       "    }\n",
       "\n",
       "    for(var toolbar_ind in mpl.toolbar_items){\n",
       "        var name = mpl.toolbar_items[toolbar_ind][0];\n",
       "        var tooltip = mpl.toolbar_items[toolbar_ind][1];\n",
       "        var image = mpl.toolbar_items[toolbar_ind][2];\n",
       "        var method_name = mpl.toolbar_items[toolbar_ind][3];\n",
       "\n",
       "        if (!name) { continue; };\n",
       "\n",
       "        var button = $('<button class=\"btn btn-default\" href=\"#\" title=\"' + name + '\"><i class=\"fa ' + image + ' fa-lg\"></i></button>');\n",
       "        button.click(method_name, toolbar_event);\n",
       "        button.mouseover(tooltip, toolbar_mouse_event);\n",
       "        nav_element.append(button);\n",
       "    }\n",
       "\n",
       "    // Add the status bar.\n",
       "    var status_bar = $('<span class=\"mpl-message\" style=\"text-align:right; float: right;\"/>');\n",
       "    nav_element.append(status_bar);\n",
       "    this.message = status_bar[0];\n",
       "\n",
       "    // Add the close button to the window.\n",
       "    var buttongrp = $('<div class=\"btn-group inline pull-right\"></div>');\n",
       "    var button = $('<button class=\"btn btn-mini btn-primary\" href=\"#\" title=\"Stop Interaction\"><i class=\"fa fa-power-off icon-remove icon-large\"></i></button>');\n",
       "    button.click(function (evt) { fig.handle_close(fig, {}); } );\n",
       "    button.mouseover('Stop Interaction', toolbar_mouse_event);\n",
       "    buttongrp.append(button);\n",
       "    var titlebar = this.root.find($('.ui-dialog-titlebar'));\n",
       "    titlebar.prepend(buttongrp);\n",
       "}\n",
       "\n",
       "mpl.figure.prototype._root_extra_style = function(el){\n",
       "    var fig = this\n",
       "    el.on(\"remove\", function(){\n",
       "\tfig.close_ws(fig, {});\n",
       "    });\n",
       "}\n",
       "\n",
       "mpl.figure.prototype._canvas_extra_style = function(el){\n",
       "    // this is important to make the div 'focusable\n",
       "    el.attr('tabindex', 0)\n",
       "    // reach out to IPython and tell the keyboard manager to turn it's self\n",
       "    // off when our div gets focus\n",
       "\n",
       "    // location in version 3\n",
       "    if (IPython.notebook.keyboard_manager) {\n",
       "        IPython.notebook.keyboard_manager.register_events(el);\n",
       "    }\n",
       "    else {\n",
       "        // location in version 2\n",
       "        IPython.keyboard_manager.register_events(el);\n",
       "    }\n",
       "\n",
       "}\n",
       "\n",
       "mpl.figure.prototype._key_event_extra = function(event, name) {\n",
       "    var manager = IPython.notebook.keyboard_manager;\n",
       "    if (!manager)\n",
       "        manager = IPython.keyboard_manager;\n",
       "\n",
       "    // Check for shift+enter\n",
       "    if (event.shiftKey && event.which == 13) {\n",
       "        this.canvas_div.blur();\n",
       "        event.shiftKey = false;\n",
       "        // Send a \"J\" for go to next cell\n",
       "        event.which = 74;\n",
       "        event.keyCode = 74;\n",
       "        manager.command_mode();\n",
       "        manager.handle_keydown(event);\n",
       "    }\n",
       "}\n",
       "\n",
       "mpl.figure.prototype.handle_save = function(fig, msg) {\n",
       "    fig.ondownload(fig, null);\n",
       "}\n",
       "\n",
       "\n",
       "mpl.find_output_cell = function(html_output) {\n",
       "    // Return the cell and output element which can be found *uniquely* in the notebook.\n",
       "    // Note - this is a bit hacky, but it is done because the \"notebook_saving.Notebook\"\n",
       "    // IPython event is triggered only after the cells have been serialised, which for\n",
       "    // our purposes (turning an active figure into a static one), is too late.\n",
       "    var cells = IPython.notebook.get_cells();\n",
       "    var ncells = cells.length;\n",
       "    for (var i=0; i<ncells; i++) {\n",
       "        var cell = cells[i];\n",
       "        if (cell.cell_type === 'code'){\n",
       "            for (var j=0; j<cell.output_area.outputs.length; j++) {\n",
       "                var data = cell.output_area.outputs[j];\n",
       "                if (data.data) {\n",
       "                    // IPython >= 3 moved mimebundle to data attribute of output\n",
       "                    data = data.data;\n",
       "                }\n",
       "                if (data['text/html'] == html_output) {\n",
       "                    return [cell, data, j];\n",
       "                }\n",
       "            }\n",
       "        }\n",
       "    }\n",
       "}\n",
       "\n",
       "// Register the function which deals with the matplotlib target/channel.\n",
       "// The kernel may be null if the page has been refreshed.\n",
       "if (IPython.notebook.kernel != null) {\n",
       "    IPython.notebook.kernel.comm_manager.register_target('matplotlib', mpl.mpl_figure_comm);\n",
       "}\n"
      ],
      "text/plain": [
       "<IPython.core.display.Javascript object>"
      ]
     },
     "metadata": {},
     "output_type": "display_data"
    },
    {
     "data": {
      "text/html": [
       "<img src=\"data:image/png;base64,iVBORw0KGgoAAAANSUhEUgAAAoAAAAHgCAYAAAA10dzkAAAgAElEQVR4XuydB5gXxfnH37uDO7CAir3FkviPir0jasTeNWpUEjX23rtoUGPvXWLsNdh7iQV7wV4Te0GNigUQkTvuuP/zmeM9h2X3t7O78yvHzTzPPZTbnZ15p33n+7a69vb2dgklSCBIIEggSCBIIEggSCBIoNtIoC4AwG4z1qGjQQJBAkECQQJBAkECQQJGAgEAhokQJBAkECQQJBAkECQQJNDNJBAAYDcb8NDdIIEggSCBIIEggSCBIIEAAMMcCBIIEggSCBIIEggSCBLoZhIIALCbDXjobpBAkECQQJBAkECQQJBAAIBhDgQJBAkECQQJBAkECQQJdDMJBADYzQY8dDdIIEggSCBIIEggSCBIIADAMAeCBIIEggSCBIIEggSCBLqZBAIA7GYDHrobJBAkECQQJBAkECQQJBAAYJgDQQJBAkECQQJBAkECQQLdTAIBAHazAQ/dDRIIEggSCBIIEggSCBIIADDMgSCBIIEggSCBIIEggSCBbiaBAAC72YCH7gYJBAkECQQJBAkECQQJBAAY5kCQQJBAkECQQJBAkECQQDeTQACA3WzAQ3eDBIIEggSCBIIEggSCBAIADHMgSCBIIEggSCBIIEggSKCbSSAAwG424KG7QQJBAkECQQJBAkECQQIBAIY5ECQQJBAkECQQJBAkECTQzSQQAGA3G/DQ3SCBIIEggSCBIIEggSCBAADDHAgSCBIIEggSCBIIEggS6GYSCACwmw146G6QQJBAkECQQJBAkECQQACAYQ4ECQQJBAkECQQJBAkECXQzCQQA2M0GPHQ3SCBIIEggSCBIIEggSCAAwDAHggSCBIIEggSCBIIEggS6mQQCAOxmAx66GyQQJBAkECQQJBAkECQQAGCYA0ECQQJBAkECQQJBAkEC3UwCAQB2swEP3Q0SCBIIEggSCBIIEggSCADQwxxobm6Wc845R1ZYYQXZYIMNPNQYqggSCBIIEggSCBIIEggSKJ8EAgD0INv99ttPnnjiCXn22WdllllmyVXjNddcI7vssot88sknstBCC+WqI7wUJBAkkE0C48ePlz59+pgL3CGHHJLt5fB0kECQQJBAF5ZAAICRwfvoo4/kzDPPlEceeUS++uoraWxslKWWWkr+9Kc/yZ577im9e/ee6o1bbrnFHBzPP/+8LLjggrmnQgCAuUVX+EVAwFlnnSUvvviijBw5Un788Ue5+uqr5a9//atT3Vne56Kw9tprx9bLHFp11VWdvllLD8GA/+1vf5Prr7/eyG7ppZeWk08+WdZbb73UZiLja6+9NvG5L774Quabbz556aWXzHMjRoyQTz/9VPr162dkxXcWW2yx1O8kPfDCCy/IaqutJo8++qiss846uetxffGUU06R4447TpZcckl5++23p3mtiCxd51aW+eraL32OOcxaeuaZZ2Ts2LEyzzzzyEYbbSTHHnusLLDAAlmry/y8a99cZaUNeOWVV2TIkCHy3HPPSXt7u5kznBPLLrts5jamzYHMFVbxBVd508QsMg/yrsygBgBoyfn++++XbbfdVpqammSnnXaS/v37S0tLi9nMbr/9dgMILr/88s432AjOO+88WXfddc2hV6S0tbXJpEmTzLfr6uqKVBXezSgBAMXCCy9sAPwiiyxiNqosADDL+7oJHnjggbLSSitN1dINN9xQZp999oytr/7jO+ywg9x2221y8MEHy+9+9zvhMgNgA6wNHDiwZAMBDFy67MK62nvvvQ0T/s4775hfbbPNNoZhZ32y1r7++mu5+OKLhQMIEMdazVMmT55s1ngl1h1g9v/+7//M+qZvcQCwiCxd51aW+ZpFpowH85rxGTx4sAHp7777rlx55ZWmmvvuuy91PmT5Xtyzrn1zlRXfePXVV2X11Vc3AHavvfYS5syll14qP/zwg7kwMqauxWUOuNZVC8+5ytsGgGl7X5B35UY2AMApskb1ysY1//zzy+OPP25urnb58MMPBYB40EEHVW50wpcqIgFYF5irueeeW15++WUDzLIAwCzv68Fz6623GlDT1QsH4CqrrGJYn8MPP9x0Z+LEiQaQzTnnnIYxyVq4cK2xxhoCUwJzRKGeFVdc0TDyWj744APDziPHG264IetnKv789ttvL6NHjxYue9999900ALCoLF3nVpb56iqkJ598UgYNGiQ77rijXHXVVVJfX9/56meffSZrrrmm/PLLLwbQzzHHHK7VZn7OtW+usqIBm2yyidHwMN8AtZT//e9/hnlef/31DTngWtLmgGs9tfKcq7xtAJi29wV5V250AwCcIut99tlHhg0bZliGAQMGpI7Aa6+9Zg4nnudGyCHIgWWr8E444QQ58cQTzcaBququu+4y6oM//vGPcskll8gMM8zQ+Z04FfCXX35pVGsPPvigfP/99zLvvPMKLNEFF1zQeRCyuZ5xxhny2GOPyeeff27qZCPmQHaxJXT5hu++0un//ve/pq222nzzzTcX2nPYYYcZ9cp7770nc801lwHdlbLPygMA7cmS9r598OAwhElBjx49UuebywPUjdwASxzAzGPmyqKLLuryeq5njjzySDn33HMNG4ItnZbTTjvNrA/mZFbV37777mvW4scff5w6h3G8oqAyylNQU0+YMMGs43KWp556yqxL1tIBBxwQCwCLyjLP3Eqbr64y+cMf/mD2OS7KUTMZ6rj33nuF9Y36++9//7trtYWeK9W3LLJiXrPvYu5jl0033dSYCrE3zzTTTKltdZkDqZVYD3zzzTeGfQRUsl6ihXahUWA/Pfvss7NUnevZtLnkKvNalXcuodT4SwEAThkgmD/UQFF1VNz4cYsF8DFROax69uwp//jHP4zNIDdhfkdRALjccssZFSOqYujtK664QtjsAW5aogCQumCixowZY2wPf//73xtwhKqNA16dTfg34HKLLbYw7CWU/GWXXWbahvrFBpnRvrh8oxx9pR2owdZaay2jbtWCjH7++WdpbW2V/fff34A/ZPX6668b9RE3w2hBbY6tkUuZbbbZpmIm4t5J28TSvpP2vm6CHBioLxsaGgzbBWCH4cpbmD+77babsbvjYALUXHTRRQZcMg/iDmUfsuN7zEu+YRcuJMz3e+65RzbbbDPnbtEm2HfmO0xgqcJlCnCJPd3DDz/s/A37QeYYFzLWTLnmFozf8ssvb+zGOKgBS3EMYFFZ5plbafPVRajsUTBjANvzzz8/9hXGivX3m9/8xqzncsnartcFALqsQ84FQFbUVhW7cNgsF9td1zngIm99hnMB5ps9H7Y9rkAaYJbBuVRumafNJdf5WavyzjI2XeXZAABFZNy4cdK3b18DomDp0spWW20lDzzwgPznP/8xNmMUVALcxgB7utgUAO66666ddjA8y4HDbZBDQEsUAO68885mceOYEAUGbKZqJ4haJXq4q2H7ddddZ1QyScXlG+XoK+2JAsCffvrJjMHMM89s+gwAoKAy49DYcsst5aabbpqmK6UMi6MPu3hYp21iaXMj7X3AO4zZxhtvbG7nACdu5wBffsf8yVqwJYMJO/744w3DouXNN9+UZZZZxqiomHPR4kN2qHoBUQA+u9AvgBmAB7sp1wLQBzBiYwUrX6qwPpjf2JixxrKWb7/91rQ96Vs+5EObYPtxIIAhQ/2ZBACLyjLP3Eqbry4y5VLL/ANEY7uZVLgYMy9Y6+WYi9E6S/Uti6wwDULVSdu5sFGwGwVYwXBzCd96661Lisp1DrjIm2dGjRplmP099tjDzK+kAokAU0g7yy3ztLnkKvNalLfruHS15wIAFBEMc2ES/vKXvxhPxlKFmxzsGizL8OHDp3qUze+f//ynsSfjGQWA2PbYBv84jhx66KGGuVK1mQ0AUYvOOuusxlvUBZBqI2BPALMARDYnnFb4VlxBbZ32jXL1Na49ClpPPfVUOeaYY6Z6hMMFJvPpp5+e5lVk7ar+wyGhV69eJcc3bRNLW+B53kdtxqaHndRDDz2U9olpfg8TgWqRDTbqQAQDgEzVPs9+2YfsOIS4+HAhsgvqW37H/MM5xLXgPMCByoVK7a3i3sWEAEAByGRe6MHs+h2ew/MX1o3345xVfMgHNRy2YqjDUcVRkgCgb1nyrbS5lWe+RmWsa/fCCy80LGBSYR1zaYadjhYfso7WmbVvSbLiEsNlhAszmhv2TrQud9xxh3Hc48zg7EgqWeaA6/zFtIjzhT6qGQSglD3bJgQwA+HiwUW63DLPKu+k+VmL8nYdl672XACAGRlAvA9RUcG2nHTSSVONN/ZWHHYwMhxMCgB5B6ZBi4I9qHvYLYoNAFnAOCTAGrDRlCowgNhb4bSAKg7wp4W4ghhkxxVuhWnfKFdf49oDcEalwc0WVbZd2OBgTvKAo6wLMs8mZn8j7/t4f3KgcDhmATMwE6jW4g5VbVdWFi6LzIqyVva3UImzTrCVw2YsqTAv8crk8AV8AHLzFL2IocKEfS5HATgANDGlUAeWcjGASe0vNbfyzlf7W9ghY2+MnS7sdlKB8cZ0BaBViZKnb0myYi/GTIM5R0Ergw0vdt933nmn0VAklSxzwFUuK6+8slH9wmJrwRkKdtU2h1Cvcy5M5S555E2b4mRea/Iut+yqVX8AgFMkT6wxgFfa5pQHFHH7ssN7xDl85AWAu+++uwF/AE9sjDjIYIGwWYGlpN64Ui4A6NLXuPbg6IFKj9uyXfAohamEWcDBIVq49eKA4FIAkWngKu8mpt/P+z7MAgeMzQq79AlGZYklljCG9UkxBFEDx3le+pBdUbs1u4+q0r355pvN/I0ryAcAhUoL5o6+5y1ckPD4B8DElaLygXnBlAG7ONsOkr7BeHFQowEAwFN8ytLuT6m5lXe+RuWlpjDYUMeFsVLPbi552EuXex1Tf56+lZIVYwaQZ4/F+xxWl8s3/5c0D7POAZe5zCUfjQgMuG1DzcUZMyZVCbNWYNFRT0e1VXyn6PyOtjWPvKkjSea1Im+XMemqzwQAOGXksFMixh9qNIBUUimlFuWmRx1RFbALKMqrAuZGjX2XzfQBmjBuRi2RBACLqoCL9DVOtrA+MKf2jZbnsCvC0QamR51r7Pd92WkVBXBF3+f2TpghbAHtEBppG4uGDnGxQ4rW5UN2RxxxhFHzRr2AUTtzi8/iBUzAYIACl5M45yXmNWE3UPnDqpVap2ly4/cwy7CHSWxjUfm4vM/FRx0nfMrS7n+puZX30I7Kl0wqmBkkqUPxAMZMgLHjQlKOuegDkGRZh7BwmCpwgUhas1nngMu8VZv17bbbTv71r3+ZVzABwdEIUAorSUGjAPjDkQ4HsXLLPO9ccpV5teTtMiZd9ZkAAKeMHDdXNiZUsrACtsqWR/g9Bups2DhGEJoFWl1DrXBoYetDZPioE0hWAEidLg4atIsbHpsrLKAWmCRuVdSRBAB51uUb5egr346GgcGLDTm9//77xn6Rwr85pLldJ6l/fdsOpW1iqFoBNTC6cUGb096nT1E27o033jA2ogCgu+++O9NeAmBGlQ+rFHWSwZsalRAMalzxITscdmAe7TiAqKVRDTM3Ae6UNLkhF8AY6iCcl6KFixcXHUAEMsKJpkihPi5J2OLqgRmtr6h8cPKK82TGUYdx0RA9sEmUorLMM7fS5qurjFGNopZnXePgZmfIAOCiHo4zm9H6i8o6rp2l+pZHVvY3YNRYczhwqW1n3BzPOgdc5M36wpaZ6AHIWvdy9khU0TCszG9+DzvJfhVn4uBb5mlzqYjM4+Qdt6+UQ94uY9JVnwkA0Bo5QlZwq0IVbGcCgRXE3R+nChaXhkaBfYOdItQG/48NXlwYmDwAkLqwM+G2h9pk8cUXN7dN2sGhomFgAHE33nijCZsCUCIkAewItoGlVMB02+Ub5egr37a9gFUdjSMELA+5lWk/qgw2MrJK5LXzcl2YZDHAFozQOLCOgA31yEX9rBuo3uiHDh1qbDy1uL4P08n8wjgb0ItnIawxoYQYO8ZZS1yonLj+/PnPfzbgjzA5gEhkhikDDAAMQVo2DlcZJT2HEwp2UBzyv/3tb024DJhJPINxbKEkyc2WH3LmEMO2KlowcQAwoUrle9ESNcJPkx1ABVmXUjcXlUvS+0k2gDxfRJZZ5pbrfI2u1bg+4fDDHsll5KijjjK2jswH2Fp1VmBesGYoXCpnnHHGconXZIhJW8tZZAXIwt6b/uilhgs3KnvYY43jmTbH7Q4nzYG0eat1wIaxL+Iwx54J88plBjMZ2so64rJUTvvfcu19rvJ22Ve0jaXWXNkmYheoOADAyCBhswGbobmAiUkEMOG2h8s9/6ZAubP4ooGgbbWUOoHkAYB8g5sbt2bYRoAgdooc8Bhaq0E5Gx0Ln42IjYBbOAclhyiTvhQD6PoN332NHirqjQloAAwBcrFzoa+MRdZAwnnWHaxrki2YHT4maZN3fR9PSQA7AI0xhQ0kBy2HI4ekFhwiCInDvAOklCowAswJbOhoK+pTbLJgyWCCS8WCzCOr6DvMO+Yp39dcwNgk2kAu7XBk3QAkAOBxdprM5bhYZtoW2/nJRXbMMcBWKfstH7KJq6PUYVRElq5ziza5zlcXWar5it1XvSDFjZtLOKYisnfpWxZZof3hok+4G5hb4pVy8WbftTPTpM3xNADoImut46233jKEBPMXh0NCGWFvisqXM4lIEoDxPOGRssreRd7U6SpzV3kHAJh1pKZ9PgDA4jIMNRSUACoi7Iewf1OAXbDKLv86t3cYXNTDqiLs8p2qUAeC7PIJGhCNbTD2bOrIEWSZT5Z53gqyziO18E4RCQQAWER64V0vEsBAGY9O7P9C6ZAADgGo6OOCXwcZlZZAkF1p+QD0FOwB+DAZ0B/+jX0ZJgkwsTDIYR5WZsWFeVsZOYev/CqBAADDbKi6BPDuxZEhqwNE1RseGhAkUOMSsIGegj2cg/i7AkFl+/iTH8Cf/h37NoBgXGiXGu96aF6QQJBAigQCAAxTpKoS4BDC1g0nltNPP72qbQkfDxLoyhJgLcHkAe74AejxbwWB2jfAnK3mtcGdAkAFh7zDswBB+52uLKfQ9iCBIIEOCQQAGGZCkECQQJBAF5KArcK11bf6d+Jp4uFsM3nK6KV1UwGgPheAYJrEwu+DBLquBAIA7LpjF1oeJBAkMJ1LoJStnno+86cCPJg/zW1se6i6iikKAG0gSN38HpWwMoKu9YbnggSCBGpPAgEA1t6YhBYFCQQJdEMJ2CrcqGOGLQ4Fe7btnv4etS9x1AgCDANYqvA90oERfoTwJvzJDzFGCUkUFz5IAWkAgt1wgoYuT3cSCABwuhvS0KEggSCBWpaAqlXVXs8Ge7bK1QZ6ripcBYAE4NYAxcgC9o7g6jbQ4+9k8ADokRVFf8imQM5z4m8uuuiiU8W6oy5tI39iF6iMYHAUqeVZF9oWJDCtBAIADLMiSCBIIEigTBJQxswGe4A0G0TxaQV4mlM2L5gC0KECJq0lgE/ZPWJsUmygh/MVGTlsoKgqYMAhYZkI7E3gY1Jk2s8pECSLD4GdSQcYPIbLNIlCtUECZZJAAIBlEmyoNkggSKD7SCAttp4CpjysXpIU+SZZYFR1C2jjh2wi2P8p2APo8XeYvjRgGbUB/P777w0QpE7UwmQjUpBKu2AKAYCEclIgG4Bg95n3oaddWwIBAHbt8QutDxIIEqiwBJJi68HskeIPxkzZsijgy9tUVLgTJkyYxl5PVbgK8gjiTHowUrDZQM31u3FOIPQXpg8gyO8XW2wxk8eav5OfnBSKMIDBY9hVyuG5IIHakEAAgLUxDqEVQQJBAjUogSyx9Xi2iAeudh8gadvqKcMHoItT4dq5k2EEyQXrEwBquwChX3zxhQG5vXv3lv/7v/8zzOCoUaM6GUBlOtVDOcQQrMFJHZoUJDBFAgEAhqkQJBAk0O0lUCq2nqtjBnZ+Tz75pJMHrgIlAJQCPLXX4//IiR1V4QK60lS4CgDXXnvt1GfjBj0pDIz9LAD1008/NapfVSsPGDBgmuqCx3C3X1ZBADUugQAAa3yAQvOCBIIE/Eoga2y9aNiVpNaUCsECe4Yjhm2vx98BjeqFq2pcgF+eGH60C/D43HPPyaBBg3IJTRk7l5cBm2+88Yb88MMPxjYQG0FAarQEIOgizfBMkEDlJRAAYOVlHr4YJBAkUCEJaFo0zYOrIVf4t11KxdZzbaoCQOzhAEe2GhfwpypcG+jhhWurcF2/lfQcnr8vvPCCwADmKVkAIPV//vnnxhEExhI7QbyFF1lkkWliEIbQMXlGI7wTJFBeCQQAWF75htqDBIIEKiCBcsbWS2o+34RxU6DHn3jNUgBECvRsB400FW5RUeEo8uKLL1YMAOIAQp+XX355GTt2rHEUGTdunAGBCy644DTgNgoEg8dw0REP7wcJ5JdAAID5ZRfeDBIIEqiCBOJi6wE6YL9mnXVW441K8RVbj7pgDuNUuDCJsHgaZuXjjz+W1VZbLVYVWglRAQBHjhxpnEDylKwMILaAxApcbrnlOj9HIGmAIFlGNHRMFPhG7SoDEMwzWuGdIIFiEggAsJj8wttBAkECZZJA1DHDVuOqClfz4KKGHD16tCy77LK5nB/sLmh6NDtFGsAKVS1AL6rC1XArSVk4yiSe2GoBqS+//LKstdZauT6bFQDiCALzh9ztwrgQIuaDDz4wciN0zBxzzDHN2ITQMbmGKbwUJOBFAgEAehFjqCRIIEigiASSYusB9BQk2LlvozZ7X331lbFBs5motPZQr50tQx00sN8jnp4N9Pg7at1SKlzNwhFNw5bWDp+/pw+vvPJKxQDgRx99ZJjRpZdeOrYbjB92gjwHeCZ0DLmGo0XHGPCNHGFyAaPlVpn7lH2oK0igq0kgAMCuNmKhvUECXVwCdmy9aB5c2zlDAYAN/JK6DtsEC5gEAFWFa9vrAVz4XjS2Hv+Opj1zEXmtAMBXX31VAKF5SlYGkJiAgOilllqq5OdgR2ELURnPPvvs8rvf/c7IPVq+/PJLE1dw5ZVX7swxnCegdZ6+h3eCBLqbBAIA7G4jHvobJFAhCVTSMQMAyA/OCLBINtCDFUOF27Nnz9j0aL4ARi0AQPr9+uuvm1iEeUpWAIiKF8a0f//+Tp/DaQY2EKBH6JhFF13UsK1a+H9+VlppJQPOAf+okAHkvsbJqaHhoSCBbiCBAAC7wSCHLgYJlFsC5YqtV6rdfFPTo8H+YYsGSAAAEo/OttdDhUtsvXKqFGsBAOIMQ2y+SgFAnD3o95JLLplpisG+8i4OIwsttFBn+jzYP8YSAKjOPPonIJCfco5hpk6Eh4MEurgEAgDs4gMYmh8kUGkJ2LH1UO1xmMOu6UGt7fERW0/r0u9EU6Txe42lBxO1xBJLmH/nUeEWlaMCQBwwfMb2y9IuAOCbb74pAwcOzPJa57NZGcD33nvPeEgj9zxlzJgxQh2wtLCBFMLKrLDCCp3VhdAxeSQb3gkSSJdAAIDpMgpPBAl0Swm4qHABPQQeBnAoO1OEoeGbtgpXPXGxMwNkRh0zYPoALbBGqA5t4FDpQasFAAgL+vbbb8vqq6+eq/tZAeB//vMf853FF1881/d4iTGHCQQIAuIZU0LpJIWO4XltJ0C7yHzL3ejwYpDAdCCBAACng0EMXQgSKCqBaGw9GDeYHf1/rZ/D1vbO5JmnnnrKOB1kZd1gElWFa4dcAUhpejRbjYsXblKpBQAIcH3mmWeMB261GEAYtXfeeSc3AKTdWdr+7rvvmufx7i1amGuor7/99lvD4lInDiPREkLHFJV0eD9IoEMCAQCGmRAk0I0kEI2tB4ADiAH4bJsrW32rf48TU6n8t/bzPBfNg4vqmBKNrce/s4AQ6iAEzBdffFFVBrAWACBBmWHlBgwYkGtWZwWAgE2YWeL8+Sg4iDBP+vTpIwTV5k/q7tu3bwCCPgQc6ggSsCQQAGCYDkEC06kE0mLr0W0NpBwFfK4iAUA++eSTRgWMkwX1RfPgYreH9ye/j1Ph+lDhAQBxIFhxxRVdm+79uVoBgP/973+NCjVPyQoAUTfDzBLWxUfBq5i5QlgZmGBAIOnm5pxzTgMEYYajRed58Bj2MQKhju4kgQAAu9Noh75OtxIoR2y9NGHBHMLWkHli3nnn7VTnAgrjVLgAwHKVAAA7JPvDDz8YW7pKAcC33nrL2OyR8s1HifMqxv6TeIOE+Zl//vmNs0icOUAAgj5GINTRnSQQAGB3Gu3Q1y4vARfHDDrpqsJ1FQhsTJwKF3tAAN/cc89tMjygvlWvXNe6fTyH3RgZJ2qBASQPb7Vi1uFBC4u26qqr5hJrVgYQmz3GXD14c33Uegn2kotFnFcxTDJ9o48LL7ywCR8TtTsNoWOKjkB4vztJIADA7jTaoa9dSgJxsfXUVg91I+wLOVjVKUNBRxGVKt9EBWc7ZfB3/g/WxVbhcvDD/owYMcIwTvy9WgUAiKqQ+HHVKqoCrjYAhC1bZZVVcokhKwAk6DT2eQAyH8XFqxiWE6YQByKYR1jBKOC2bV0BjHPNNVfZ40D66H+oI0igkhIIALCS0g7fChJIkIAdW89Oj2anRrOZPRi5Z599tpDHKXXjiBGNrcf3YfGiKdIw9o8rAEAYp+4OALF9ZEyqCQAJp4IjRaUA4GuvvWby9sLG+Sg4lcDqpXkVA/AA/QBB/o59ICAvevnhwvToo4+adULGEeoOoWN8jFSoY3qQQACA08Mohj50GQnEOWYo4FPWws59Gw2mrB3NmnUCdkpVuMruwaBwGEaBHuAviwrziSeeMLlb4wz0KzUwo0ePNnlmq8kA1gIARA7k3GU8XIo67eicoA8LLrigUee7FPIO9+vXT37zm9+4PJ76TFanEi4xxH+E9QTgAQRpj71OHnvsMVlnnXU6PctZU1xm7HBGqQ0LDwQJTIcSCABwOhzU0KXakEDe2HouKlz1vgqglKkAACAASURBVCXll83M8U2M5qMqXA52DshoyBX+z+V7pSQKAAR4ARyrVQIA7JB8KTkwNzTuIqyvMr8ad1HT5X311VcyxxxzJHrd2mP8yiuvmGcBjT4KWUy4SGR1KmE9cAEA/AJeYRDpD/Mehnr99dc3gC/EEPQxSqGO6UUCAQBOLyMZ+lE1CfiOrefSEZgPgNcyyyzTabOnDB+/A4xF7fWSVLgu3yv1DGFgyMABuKxWycp8laOdygCuvfbahUF13vapLeTyyy9v1Pt6EQDs8W/mqs4Ne35o3EX+BBDibIHX7QILLGAcPJI8uF966SWZZ555jB2ej4JTCe1aZJFFclUH040KnJBAOCbR/hdffFE22GCDqcYkeAznEm94aTqTQACA09mAhu6UVwJxjhkaTDlPIGXX1salR4PNwaYpGlsPBiWLCte1DUnPkQlkueWWM+2oVsH2jZhxrqrPcrSzWgBQPbQBeciBfMDMRVXvMy46R9Lmhu0EQn2ElCG7CCAQli8aoHvkyJEy33zzmR8fBZtCGLyiTiWsDdTCZIjhQjRo0KBYEBuAoI9RC3V0VQkEANhVRy60u+wSiIutx2EIGLNtpNSWyLbdy9s4W01nq3H5Jk4Waq/HgY66DOeLatre0c+nn37aeCN3dwCIp/Rzzz0n5WIAmRt6EVD1rQbZVg9t5iBMH8xwHvU+F4ro5UHz9AI0sbGD8dO5DrsGy0YcSB/Ft00hABBPZfoFq4itYhTEhtAxPkYu1NEVJRAAYFcctdBmrxLIElsP1RIH7JJLLllYzQdzGI2tx78p6oVrs3vRmGe1YHtHW8l/u/TSS5u0XdUqRb1ffbTbJwCM2uvpZcC217PtOVVFWzQnchwARDa0B9tAVMN86/e//73MNtts8sILLxhQBSj0UQgqTtYPXzaFsKGoqbmgwGbC0pK1BMCaFDqGvvK74DHsY0RDHbUsgQAAa3l0Qtu8S6BUbD3bQFy9b6Ox9Qg2PHbsWJOqyrUocxN1zEBNhV2efZAD+GD6XFS4tWB7pwAQecTla3WVUdHniPVWJP5d0e/zvgJA1I1ZimZUic4P217PniOl8iRjt8cPNoB5ShIA1LpsZwvCv+BwhMMG9nY+im+bQhh71MqwssgTgAyIZX3DZgI2o05Qug8EIOhjREMdtSyBAABreXRC23JLwHbM4ICNi63HM1kzZnzxxRcmEwEqtrjCtzgUbRUdB7syN7YKl7/DpuT1wq0F1SsyIPYdjKhr6JDcg1rixa4CAIlLF50bMMq2vZ6CvTR7vThxAP4AOdhk5ilpAFDrRBUN4OZCNPvss5sLUVx6tqxtQKWMQ4kvm0KCRmMqQWxGLaxR1jHtR8Z4DANmoyV6IQyhY7KOZni+1iUQAGCtj1BoX6oE4mLrcdCy0WeJrZf6IRGjBiPvLAcs34hLj0Y9UaDHv0sxN0nf5qC98sorjRdj1H6pFlSvtBu7t8UXXzz2EHWRqY9niqZA89EGgP/zzz9vHA7S7PUU5KmKP4+9Xlyb7fmZp0+uAFDrxgGISwygNik9W5Z2+FYpYxrw7rvvypprrjlNM1i/GjqG2IEwgnGe7CF0TJYRDM92JQkEANiVRiu01Rys6nULwGMT598KAlVEsGp2oNe8LBv1UTe2Q4A9GJYff/zRqG458Dn8orH1YBWKfM8e5ptuukn23ntv81/0B2aEPKkYtPONAQMGGPYFQ/yojWClpgugBxYFm7BqlWoCQOYHc0HbgBwARGn2euWQFUGRCYmDzVuekhUAwkID/rnckMcXNbimZ8uzBrhMMLd9qZQ1W8jAgQMTxcHaJnQMrCC2gbQfQB4tusfo5RKbV9Ug5JF1eCdIoNoSCACw2iMQvh8rAVuFa6tvFeyp515WFW6auAGV2ObZ6dH4O5s+jhkckBz2HHoaODetziK/32abbeTf//53ahUAUhhCwnVwgPKjf8egvlzg8Oyzz5aTTjppmvaddtppst9++6W229cDmh8Wr+hyFjt9nj1HmI/YbqLOhUlSZi8P61uk/QBAWK8kE4W0urMCQBhA1P8waMgAdhxnC/rNpQD1cBYgiDkBThrY5vkoqMMJD8RFKa0wdtgHAqBZM6yhuNiZyBhnMEIO0c+sMktrR/h9kEClJBAAYKUkHb6TKIE4xww7th4HLewC2SaigK+IWDV+mq3G5RCAaYtLj8ZmX414cw8++KAcdthhhqGIFg4fZUWTZMEzNjgEGPoCh4wNqmjUf9hRnXLKKfL444/Lww8/7M2Oy2WMAYAAj9VWW83lcadnstrrwSSpCtjpA2V4iDmCLPDKzlOyghkckWCgbfYXkIxtIKwaLBlA0NVDHEYRD2Oyi/goqMRpS5aLAU5ezCXmNiAwGv8QGVMv+5FeRNkbAItZwK6P/oU6ggSKSCAAwCLSC+9mloCtwo1zzNAKbaAHQMOTL86Ox6UBfBPVVNRej//DcD1qrweTk7SRV0vViKz+9a9/GbYNNTSFNuoBxL85NGFj+BMgS1os2A+AiSs4tJlDQKMLc4jhPoDysssuk+HDh8v999/vLTesy/jyTBEAaNvr2Zkz7PlhB1NOsteDGcaGDY/TahWYKUwUKgUANRtNnBMFFyzm32effWZUujB7rK1SxWYUfcgQto6frAHCmRNc9t5//32jytfQMaw5ACUsIdlvoh7DyggGIOhj9EId5ZZAAIDllnA3rV83RmXybLAXF27FBnxRkaGSJeOA7cmXJFZbRaeAjz/5PrZ50fRoSSmukurncP3Pf/7jpFIqx9Aji4svvljOO+88A/Io2C3RLgCIFmwFt9hiC/PD3xUMwspwKPMn/wfIKQUOYT8Ad0cffbRhPOIKY3PXXXfJPffcUxXwR5voPyxxGgOo9nq2J65trxd1zsgyP2oFABL6JEuYIntMszKAsL0AoVIhgJALQAr1MJeKJNUq7SgFKPOsJwAx311xxRXzvG4AHhcuVMOq1ma+wBLantYhdEwu8YaXqiyBAACrPADTw+dVhWuDPdRn9qZIP5Ni66XJICnALjdz2w4LoKcq3Lj0aD7ssdj433rrLSllVJ7WHx+/51A75JBD5IEHHjDezhzc6667rlFDjRgxwrCdWgCIm2++uWy11VayyiqrdMYY5D1UWQoI7T/5uw0OsUNMUqNh6wcQeOihhyrO/Gkf44B59DKgc4X/t1lf5oradxYZG8A5bGg1GUDYKYIf9+/fP1dXsgLAxx57zFwMXFS8tmoVRwscl6LxLpm7ACtfIYVgH2Ht88ZFVCHaam1kxGUy7kIUQsfkmnbhpSpJIADAKgm+K37WdszwGVsvTRaEQsHODO9XDllV06HaRB0XVeH6CqkR1y5ARBF1dFpfs/z+lVdeMfI4//zz5ZFHHjGvcnAefPDBhmW57777BPtB2qwFVZyCQQBdEihmfGE+lDHccsstYw9lbP6uueYao/oteshm6Xv0WdR1MIAwTAr0fMbXc2lbLQBAAA/9rxQAfPTRR82lwjUNIHsI6lMYQeYYDjNzzTVXp8lFFkDpMiaw3DCieeMiRr/BpZN1B5jFUYX2c3mIlhA6xmV0wjPVlkAAgNUegRr9vu2YoWCvXLH1bBHAInJwR7Mi8P9stLYtFsAvzkuvnCKlbWQrcFFHl7Md1A0QBdCRhgsG7rjjjpO3337bfHahhRaSE044QTbaaCPDCKKihS2EHdLCwbvZZpsZZhAvyawM6ZlnninDhg2TE0880YQdUc9NQKiPoMBJ8gP4R4Mpq/obb1Rlf/mznJeBaPtqAQAS105TFeaZf1kZQC4eqN3j4ueV+j57CrZ5qFbtYMzUx8XEFVCm9ZELDHtJXq/ouPo1pRzsJQw6JhYwmnFzXvdRtB+2fWCwEUwbufD7SkggAMBKSLnGvxEXW08BGAeqFp+x9agTZi8uPVo0KwKHC6ALkBIXn6uS4q0FOy/tL0nucfjQrAmA5Jtvvtk4ihD+goKa6tRTTzUsDcAJoHj33XcbWz1YDC3UAzMI07f66qunOn8wZ1Dh2YBS6wJwYhdWtMTZ6zFfmDeABjv+IoACVom2V6vUCgCkHbDleUpWT1a8vTGHiGPBXL7PpRKWDuBKyBji9hWpL/pNACamDHltIuP6gA0weyHeysxHvgEDzaULb/g4x6k4IOiS7tFFhuGZIIG8EggAMK/kuuB7WWLr4VXJxoz3XNHbavQgV9DHQQ6gsxkbDnVu0tFvYhxOWzj4q1kAUcQqgwGs9gb+xhtvmPhrpM6yCwzQRRddJBdccEGnowjADkYQ1bCCb2UGAYOoybRwEAMGcSBZY401UsHgq6++alhIfvKWovZ6tP+dd96pOgB0dVbKK6e091izXFIqBQCx+8Q7v+i6BKSRmk2DMQOusjjgJMkFtg6QiXe8rwLLTttQ/2rBBpULCGsPp6k4+0b12LdDx2RlXH31IdQTJIAEAgCcTudBWmw9us0zSYGU83q7wkLZ3reo6tgU+RYsQTRrhkuYEdpKeAjseHyphvIOOzZAxCpba621MqtM834z6T2cUVC3ctjEFVhAbPSuv/56Y28Fu7PnnnvKEUccMVXcNoA48dxQE2M3yNhrAWCiJgZAAgapA7aDMSX2G+OBKhp1Ms4mLkVT6DE34uz1bE9c13y4sJkczNVmAKsNADXsD4HK85QsDCBrGgaQy5APZl7rY17BLHNZiaY/zNon2DpKXnnEfY/cwsxL1L52se0b2QcJHcOlKHqZDaFjso5ieL5cEggAsFySrWC9HO764xpbz6D/urrEVrIBwzBx6CcVTY9me+KifuIQiUuPVoQxwwkENU6pcBOVEDngBTCqYKgS30z6BoAHAMYhWarAjGEfiIE9BdB45JFHyh577DGN3RIAl/4BBu+9914TX08LB/Omm25qmDYM4WEZd955Z4mqou222HNE54mm0LPtOYva69WCd3Yt2IdWEgCy5+AdjtezD5tPuz4ukbB3XE5g2uKAlMvaIw+whm9xed7lGeY7+xDq3rgCwMO+EUZTmUJY9WgJoWNcpB2eKacEAgAsp3Q91+0ztl5a0zjMXn75ZcN08d249GiABQK7RkOusOkVVRtH21cL+WZpE4cU6miYJh+HXto4pAE7WFVsj1wKHpvHH3+8AXAU3sNeEFVv3HgBdmE7NcYf4TTsgkoeIAkwhAGELbQDKSfZ65UjhV4AgB0jg9MD6xIVap6ShQHksonTxqBBg7yoa5lvzNF11lnHXCI1Bh+qVfYUMorYNsku/eOSxDqFjfNVMHmgHWkXL+SjGVEAjADZuAss/WRtYQeJ7Sx9t/OY+2p3qCdIICqBAABrdE6UO7ZeUrfZhAF/agPIYa0Bh+PSo7mqcIuKWbNNxN2ki9ad5X3GBds5PB/TshpkqTfPs6i3UL0lMRFxdXIo3XjjjfL3v//dBMil4CCCqrhUtgTmBbaPgEFUyjAzWgCh1AEo5oesEPaloBJzBMYa1Vw14zPWAgMIAGSsAEt5ShabtChgy/M9+x3mFE5KxLO05wxzlvA2sJvMLc217PI95gTzE7s8X4WLMReeJNOL6HfoF7aZ9IH3AKNRm0nNWayxNgGAOha+L9O+5BDq6foSCACwymNYrdh6fJeNKS6cBrdtNk1swbCdIcgrG1Y1NyI2XbJS+EoSX2TYYQDxrs3r+Vjk2/a7xL2DLchzuMHOXXjhheYHdpfyxz/+0TiK2Iyiba+n7N7QoUMNGEQlTxgMmxmE4SD0DKFlYIYqxZLWCgBU1tzXGGetB7WjxtfL+i7PZwGACtjWW289L/awmAtwuVp//fVjHaz4HgCX7B7Ym2KDl2Z7mKauzSMjLqM4Xqn3vWsdmD4wPsTXBDyybtXRhXVEv7hIhdAxrhINzxWVQACARSWY4f202Hoc6AAcVGpR54wMn5nmUQ4EO4CyOmmgKoqG01AvXG7dOAbAqPjwxivSft714WlatA36fq04pKAagymIGqNn6ScHD+zfDTfcYA4e5h/BozXWnm2vp3adqH3vuOMOE15mn332kZtuuskAQtgbDT9DG7g4AAZxIEGtl3ZYZ2l39FkXm9Ui9bu8a5tNuDxfjmcIScI42h6qWb6TRQWcBtiyfJdnmWvsORtssEHJyyZyZu6nhV7RfYP91NVMwqXNmKPAuhODM0/h0k370bKoowugkLVjZxcJoWPySDe8k0UCAQBmkVaBZzFo3mmnnYzXHIBMi9p6APi4rWbxpoxrTpSxUbDHdzSQsh7k/Dsp+C+bD0wXKolqqzrpJw4pqH+z3roLDFniqzikLL300k7pr8rxfa2Tw56S1b5Jw/LYMRiR7z//+U+j2mae2p640QsAnsT/+te/jBr5oIMOMt63qHxhNV544QWjJibWIIeaFn6/4YYbGmYQMOh7TnGosn5KOS2VcyyoG3niHIPdbLVK1jmhXvvqkQ0DCDPlAtYJ3cIekQbYXGXBJRWbU+pzKWgo2FcBjlyC2BuijmYwslxq0B74Klx2WHNFtREAQNqPHHHM4lyIxs8MoWN8jVqoJ04CAQBWaF5A/WOXg7osycA3LayH3VQ2BjaOaMgV/o8DOxpbjwM3qwqX2zgbUtYo/+UQaRbZlOP7dp0cAMQV85WvNG97mVMc4KXsvUrF14tmVtELQZq39r777msYQ9TFhx56qHEqiTqj8F1Cotx5550GDMI0amE+ccgDBrH3KhpDjnoDAOyQbilWmMuhHXpHQzTB+qlHNqweqdpKBTXWcVTGDmDvo7CXPffcc0YF7FrYB7Fl1X7DfBLUXPc6AsjjQRyNlelaf9xzgFRMY3zYI2v7WUOsGcwq7NR4+v0QOqbIiIV3kyQQAGCF5gabKjdGwgMkxbIjZAFALWrUr4e4gj212+Pwj1Ph+lLZ1kroFYYoDmRUaOim+UyteCRHPT7j7PVQlwHobEaPvwPY0oBeknwPOOAAufbaa01oGdTBSfNW32f+chArM0iwXy20AzCImhhbsrx2lbWQo7kWGEAYJVh9GK8o2AOwYZNpXw75ux14HTCIRzXmKDwP0wWzFnd5zMrYpa1X2ot9HZeCrIU5hg0dlyL6xKUIe1Tqg5l2jVHp8l1YTzQAqJZ9FVUJI3PYV9ofV38IHeNL4qEeJBAAYIXmATdrFjYba9JmxCagdli2ei56iKs3bikVro9u1QrQoS/IDWCrmSx89C9vHbXgkYxBPOo+DmEuDRyecfZ6zJU87G8p2RxyyCFy5ZVXyjHHHGN+0gCgXRfzG7WcgkHCZGjhMgP7AxgEFGYBg6wX7ETJSlGtUg0AaDtzMQdQu2Pby+XQDtGkDF/a5VBtAKkXmzT2JNTChJWJhmChv+wRAHcfBeDJ3MBEIG+h73gLq8ctbUSlnddeL64d2Louv/zyXjUAAHfGDAZTPZ4BgEkezwoEzSFeV2fGCOCfVcuTV87hvelDAgEAVmgcuaFyGONAwO1OVbh2EGVsWtgE7Fu6MjeVTGqvIkGFBxuJSqXahYOIzS2rvVs52g2bRQywojZALm2Ls9djzgAANV4YDI3rAe/yzbRnDjvsMGMvSEYR4goSjoY5mxWc0zdAG2CQHw4+LYAXwCAxClExppkh1AoALCcIjc4FZfgAPZplh0sAQBrgkCf8TtQJxA7BAiBh71JgXoSxi5tjpPMjqwyBpYsW5MAFCdMD1imqVfrmoxCrEG9dn1mJuETByGv8RtvjGRU2No5xdrM2EAyhY3yMbveqY7oGgICts846yxhmczPGHgl2oVSB3le7JlQHqLn++te/FpoV2OVhKI/NE+nMOOiwH+Mg1Y2bAw6mDzWez8TlRRqO3AAXPm/PedvjYu+Wt+6s75VLLraq31bf8f9RBx7mC4cb3q/9+/fP2oVCz6P2HTZsmJm/hIQpEo5GG8JBhhMHQJB1SlBcLVx+YJkAg3gVxx281WDfokL0CULt4Ov2XACQqQbAzqSizlx5wbj2JckLGA0GaxATFg1hwr7GZagIY2fLEKcI4vaRWs5XYT+nT7QVJhDVeF7TB20T2U+Id5mFoU7rT1LAahh+gCx2jrSdS1YcixsFgjqOgRFMk3z3/v10DQAJZ4HBPo4MxDhLA4AE6+Qw3XvvvWX33Xc3qbMOPvhguf/++50903Q6XXLJJcYjkkONTZnNmkWKlyKbBzdI1Aj2ZoRtFE4iyyyzTE3MylIpvirdQMaGTdxnTs+8fcia+zbuO2qvZ2fOiFP1M2+S7PWweYI1qfSF4dhjj5WLL77YrA0yiajdWZFwNLaMWCcAAQWDqPS0wDRiI8ZFDjBIqBlKLQDAvHaItqOODfbol227WWouqHyyqOPj5mWaipj2Md6oa7kcAgh9AUD2Pmx9farxcWTDYYs5pWpWWMw4RwuX/YB6iOSAp7dPT3a88BnrpJieXPRU7qVyJIfQMS6jGJ5RCUzXANAeZm5CaQDwqKOOMmCP25iW7bff3hyyDz30UKZZQ12oYpZddlnzw+0NwAdrApMRV2Ap+eG5Wih43mJI7TOEQt5+wZpy+FSa7Yprb9aQNBpw2w667cNer1oXBtS+F1xwgey///4mFmA51fMcaMxDVRPDQmkBrAA+AIMcyDAl1QzB4gIAo2FX7DBNyujpn3mCrwMAeS9v3Ls0AKiyJwYfYI1LGfsbataibBOOcoAcn9lcCCxN+8ggwlwCsDJPYJVRt/L/WYrv/Mf6bS6VtCVt3JA76w1GNslBR0PH0FZANdqmIk5fWeQTnu1aEggA0Bovbp6Ar/PPP7/zf6+++mrDdHDjLVo4nLbbbjvZcccdY6tiA0T1ZQcDLfrNIu8XZROKfDv6LmAHFRHed9UuSSFpStnrRQ3yNeB2kb5wmDFnOOAqWU488UQ555xzTBDoM844wxyolHLbZyJfQIeCQQ5CLai8YM5322032WSTTbwa6LvKNgoA7bArCv5hee2wK+qR68tRp6i3fJZA0IALgIvGGAVQxeW6dZXft99+a+YSGhJfBS3OiiuuOFW7GBf2WbQKhHLBXtJVnYu9JXVqvmJf7cwSr9B20EH1Hw19o23iOcygllhiCdNPnsUutChQ99XnUE/1JRAAoDUGLKRddtnFeDZqeeCBB8yBot6WRYZs0003NSpg4qjFFQ0MSjDeWii+VXtF+oS9G3Yw2FBWu8AQA+DwirS9tTnkk+z18hjkp/WzWowxAaCxrd1jjz3k7LPPkbff/kjGjauXfv0WFe5JY8bUybhxdTJxosikSXUyaRJ/dvy9tVWkvl6ksbFdevQQwS6/46ddZpyR7CHtnT99+4rMMku7NDZOKwkON0wrYPUBhMxVGwxiR4bN7cYbb+w1XEfSmMDyAmBgKDls1StbHbpsez077EraGGf9vQblxkkpT8kKAAGcAwYMMJ63gCrshdlHXQJJR9uH1zGgzOf+V8phw7ZrJE4gJgxpDKjv7Ccqgzzp5TT0DeGgALDIPcpoqscyphKsGXUUCR7DeVbH9PdOAIAVBICDBw82Rryoh+NKLeQztdtVNK+oz+XC4QDjFY2U7/MbSXVF7fVg3fg/NlG10bKzqxQ1MnftUyVkAnD79NM6+eijevn443r56qt6efTRk+Xdd/8uffrsJW1tl8nPP9e5NjnXc4DAueeeLHPNRao6/t4u88wzWRZaqF0WWmiy/OY3k+XDD18zjilqc6sfAngDBlETc5GLhjLJ2iAOUU2TZ6v0+T+AHUAQz/lKemXbfQAActjnNdvIAgBRRwLCNfsKZg2wsgBhl0DSUdlzySMsENmHfBUXhw0ucVwgiMLA2NH2pAxJrunqsra/SHo59iKAMwCc+Q0QVK/5Rx55xMhTbdBVPRxCx2Qdoenz+QAArXEttwoY5xJumORejSuoh/Cq8+kFV2TacqvHxgcVQrVLpdTjaq9nM3uwv4ybgjyAOio7jMmrqU7hoOXARMVVtLS1iXz8cZ28+WaDvPVWvbz1VoN8+GG9fP55nbS1RQHeySJyvIjsISKXm083NLRL376wdx2sHUxe794dzN6vLJ9Ijx7tQibElpYOZhBGEGawuVkMkBw3Tgx7yM9PP7kDy379Jku/fmNlmWVmktlnf1e+++52ef31O+SDD97pFA2HOmYYgMHNNtssFQy6hF2x7faYJ9iHVjMdXdGMOVkAYJLNHjbTLoGko3OWCx4/K6+8ctHpbN7P6rCBShsgyB6AOQPxWqPrmz0ax8Is2UpcOkPQfYBbkdBSXEJgAzGXoe04lOAEw7lmZ9sJoWNcRqR7PBMAoDXOMHOofNlEtcDaoZrN6gQSN32Im8at+cILL4ydXSxgNhcAYKVYpFLTHHBRjTAjcW1ic8Y+yBc7YMdhtJkcNn/AXTRzBuyOlnI6PWTZdoqA4tGj6+SFFxrk+ecbZOTIBnnnnfpEJm+GGdplkUUmy6KLTpYFFmiX998/Q/7977/JeuvtKGeddalMmPCJ1Nf/IksssXiW5qc+CygdM0Zk9Oh6+frrOvnmG/2ply++qJNPP62Xzz6rkx9+qE+sq6npvzLrrLfKxIm3yZgxb04FBjkYbTAIgFMvXDvbTqmwK/aHWSvVBoB4T6MGJFRLnpIFAJay2bPt1KiTy1Ia+4pXO6y2LxtoddhgP3VVSdNuTCtY49puO+Wb79iHOkbY6uGtnCYjlzEFpLJXMj7IgAtJnI1jAIIu0py+n5muASAsjnoNYjt27rnnmiCjBDRFRYKtHzfO6667zoyyhoHZb7/9ZNdddxXsJw488MBcYWDipg22U2zQV111VeysgspnI2DB+gpaWmT6VsvLNK7NqGdQN2FvlLWwCdqHu3pe4pGpcRhtG600e71aiUnIZYIbPyGFSpbWVvl+bA8ZMYKfBnnuuR5GpRstvXu3y5JLTpall26TpZaaLIst1gH65pmnXeosMg4PYDyBd9hhB/nHP/5h1g2qsWoxxdgdvv/+JHnkkQ+lV69l5D//qZf//rfjp7nZZhFxVrlNRG4Vkdc6u19XV2+8ywcOMXXWBAAAIABJREFUXN2EmGFv0PmQxXuyVgAg+1ve3LdZACBgDS1BqTVZKpB0dP5x4eRS48vMg/0UG8BBgwal2vZF20K7aQ/rCy9aACxzwmewavubtrdy1v0t6Xn2B5xLGNNSMRBD6BhfEu969UzXAJAgoHFR5XfeeWe55pprTIBn7CZ4Tgt/J9UVHrBsohx0RQNBa90cnMQmvPVWDqBpCwuRjYAN1fXGWs4pVy0ng7g+uR6ubPrcgO14avwbVY4vez0OPdjaasckhJmGqYhjRVGzvvxSnYw553pZ5fGzZcWWZ+UbmdsCPe2y+OKTZbXV2mSVVdpk+eU7wF5DQ/qMIgYgsQC33XZbkxKONQTArhYApMUAUOJu2usdBvGjj8g20iJvvNEub7zRQ955Zwb58UfYXMLJ3D4FDL4yFRhcdtnVZfDgLWXLLTc38eJci+scda0vz3MwkLBIeQFgmhOE3Sb2B8IzubDycYGko99iHjGnfYXBgs3nEg+oT7vUJck6mpGDrEioiX2HG8KzGOZT41rmGfvoO5jvcJ4hT/YJ9kbUzGQWiTNdCUDQh9S7Vh3TNQCstaEgpMwVV1xRUp2MzQY34LTUV5XoGyoENnhfKpkibY4L9Otir6egz1eYDfpQbcZL5RhlRQF9qHXvuquH3HNPD/n2qzYZKSvLcvK63CZbywlLDpd11mmTNdZolZVXbpOMIdA6h++yyy4zjkwEV+cixcENyEaFVa0CAMSQHqY/Cv7tsCszzTSzjBvX1wDB115rkFdeaZCXXvpMfvnljilg8CWrC3WyyCKry5/+tKXsuuvmqRlxasGJq2jw9iwAEKcN1LapDLQlUTuQdJSVYl0RbstXWCMFQNjrFTWp4YKjDi5qS5oXVMatEZxVuPj73Pdte0XAHeOFapj1ABBEtR0FgqoWVo/hEDqmWjtaZb4bAGBl5Gy+cvvtt5vMCRj8JhVsAFFHFYmn5atLvu3u8raLzUhVL3joqX0WrIJtr6dgz7bXy/vNUu/VSlBqZEIYjr5915Drr+8pd97ZQ77++lfV7swzt8seK70sZz4xQBomt8ov114rrVttVVgkl19+uRx++OHGfg7ziWrIww6urYCPAz8adgW1HaCmlLMOziivv14vzz7bQx55ZJSMHHmnNDfDDr44FRice+4BstFGW8qBB24miy46r/TeaCO8X+SX++4zz9kAsPemm4q0tckvDz5YWN5ZKgAA4kiAE0CekgUAFnHaUAcSzDNQr9JmmHUuer4yIQHaMKnZYIMNvDlrAVIxAQEYETYGprUouMzqrOI6rszHaKo+VW0ja9YGso87a6JAELAbQse4Sr7rPBcAYAXHCnuUPffc04SqSDqQUGPhgebDGLho1xRg+AzMmtYm217P9sRl42JTIs6YBs/lT5+38LS26e9hPWDfqhmU+scfRW64oU2uvrpOPvywb2fT8cTdeONW2XLLSTJoUJvgu9J48snSdOaZMnn22WXCyJHSPvvsrl2NfQ61L2YSxLW86aabjK0UzE05UtKVCrtiB9fGZAKzDey9ihY8k998s17uvvsrE2Pwk09gB1+YqtpZZhkgB/X8RnYf/ZHMveaaBgQiAxzI1jv9dOnx1FPSOuX/i7Yny/tF0xRmAYDYCKMGzqshYK1rZg5sLflhvH3No3J47NJfQCDsJapg9nFAFKrhvBEB2NsI15LHVrHU3GCPwiQgLqoEAa0BgVzeAN+cOWmOIiF0TJaV2DWeDQCwguNEsE8OTQyLkzYLjHYxQi8SDsBXl1xSWxX5VlxarCR7PZgdmFM8N6sB+ux+VisDB23AW/eyy3rK8OE9Ox0cCLUC6Bs8eJJR8U4TOLmlRWZYc01pePddmbT11jLx6quLDJtce+21csABB5hcvMOHDzdqQB+AOC3siu2oEwX/sH/PPfecsQHMexAnCYXQNHfe+bVcf/3d8vrrd0pLy3NTPdpfRP7QdwHZ6ZEXZOHdN5LZ33yzKuCPRr366qvGxoufPCULAPTltIFtGmAEYAWoJwyMDxvocnjssvYBvqi9AbD8HUYQ8JQ3E4oPW8W4sY7GaYx7hnVD+1EPw2YCbOM0KMFjOM9qqv13AgCs4BjhxYqNErZ1SYdU0Ru8z+6gQgG0xjnSZP1Okr3e1PZZMxl2L85ej80Wg2byhGY5pLK20+X5SjvHYNv38MMNctlljfLEEz06m7j44pNk4MD35dhjfyP9+rWXbHr9q6/KDOusI3WoJW+6SVpRUeYsN9xwg8lms9566xmzhjxp+uKYXs2k4hp2xW6+hlAqBwC0v/PDDz/K1Vc/KtdfP1w+/fR5mTz5J/PrGURkvIjgc/zZb/8g7Y/cI/365RRwgdcAgKh/YcrzlCxrC/YIMxFfThsEscYJhLHME0g62l8Y2VdeecULK6x1c9khI5Ede1MBLPKACcS+zo67lzYOaqvoU1XNN2knZINL5AS0Ldg4Mp6lZK+OIsR5pJ/s1ajAfV+60mQWfu9HAgEA+pGjUy3csuabbz4DAJNuuEUDuTo1xPGhPHEJ7fh6tgqXuuhzlMVJs8/SpqqHNGmi2HSqWdhYOQh8BGAu1Q+8WLHrO+OMRnnvvQ733Pr6dtlii1bZd98W6d9/vLz00kjnwOGNJ5wgTeeeK5PnnFN+HjlSZLbZconx5ptvlr322sscrKhIYUVgG5JstwB7tme22nDycVudz9+zhF2JA4A+Y2hysKNWhpXHloofO/+w/X0sLyeICFnr6oU0d+2y/vqtst12rbLRRq3Sq1cuUWd+CcDDHpMHAHKIZwk/hfMPzK+v9IxckCmwl3kCSUeFRdswt/FxgdW6S4FegBxOFlwQ0eLAprnIk7WBdgMA6LPkcdJBZqi2ufzTfuJJRm0cNbwOa439Wx1FitpC+ux7qMtNAgEAusnJy1MAIg45bmXcFOMKBw4Ah5RE1S5pcQlL2evZ8fXUOaOo6hYPaUCXa+L2csmvSABmlzbFAT9s+/7610myxx4tsuCCHWxfXOiTkvVPnCgzrLGGNLz3nkzafnuZeHlHFo+s5ZZbbpHdd9/dAM977rnHAEBkgvdmVK0P2OOAs9Pm6SUAlsQXc5DnshLtN8BegR5/wqZxEKaVNfv0kdvGjRMsK2EAX5xpbVl1/OOdr5EVBZvMwYNbTdgdO6ZiWt1Zfw9Y5dDOEr5Gv5EVAPr22mXvY55gU5cnkHRUVrBZsIo+Q7a49BnnC0AUf5L6k7zMpcBROVTVyCKOrXSZT8henXT4O/aBXCh0rdr5kPk/zgH+DEDQRbq19UwAgBUcDw5HWDA2aTaGuMLGoR5mFWxa7KeUdcMJBPBmM3p6sGt8PTtzRl4WJ62/Tz/9tGGZfMbKSvtm3O85WLCbyRL+wuU77e0iDz3UIEOHNsl//9vB+JFWbf/9W2SvvVqk76++HuZ3eeze6keOlBnWX1/qCI59yy3StuGGLk2b6pk77rjDxMZkXuAEAgDEYYg5AmCy1foK9pj3vsBeXIMxMYBFcWUAOcQwkFfAx5rEpi1amMvMN1h71q9dcNQaNtdcss277xqbv69vvFHw/u33xhsydsW15O9rPSy33NJTRo361TN7scXaDJDfYYfWVLV95oERMXtLXhvirAAQuz32AV9eu4A17M8AHFqyBJKOygsQA5PoMzUf65457uIApiCKPqAutUGU3dZyBZcuytAC7DR0DOOi2VzoP3uxMpYhdEyelVob7wQAWMFxYKFwaNx9992Jsa5gB2HeWGzVKhymCvZoD4c3YEMPdhvs+Yyvl9ZfQuQQa47I/NUs2CkB1FFH+yrk3x0ypKnTxg/gd8ABHcCP/Lo+QI/W0TRkiDRedJFMnmce+fnFF0GZqd2ww67A+h133HEmEDbZdZgXGmTWJexK6sdyPJAFAJKRh6DsvGMXABDBrInDySUMBhCQ2Cm3piZjn0bZbrvt5ILPP5e5nn++0+FDvebXPe20Ti/gn++5z6Tbu/nmHnL77T070+01NrbL5pu3yi67YMfpjxUE0GLDlaRhKCXarAAwCxhyGVLMX9hPCK8SLS6BpKPvlEpV59KeuGcwAWDeEKrLpbDnq6cz+yj7Opla7FIOppL62bth313Aaqm+2CCcvRcTA9jaddZZZ6rXQugYlxlRW88EAFjB8WCBsDlfeumlxps1rlQyqK7a6ynYs+Prqb0emxO2IHglu9rrlUukhMjhJh3dQMv1vaR6fYbH+eEHkRNOaJJrr+0p7e11AjDYb78WOfTQaRm/aHsI5cBNPLNn9C+/yIwDBkj9Rx9Jy447SvMll3RW7RJ2ZeTIkXLwwQcbdTyZFkgJxiHnK4VXnvFUAIi6D/BWqmggawLhEsJEf/CCJEsPqRrpE4W6YOs5TGFEUK0CHjfeeONp4gDa8yIuDuBPP4ncdltPueaaniYItRZYwX32mSTbbz9JZpwxT+9/fYexwXwkDwBk7LOscezdAGauYCitZ4BtLpfsN0mlVCDp6DuMISpbnxc1GEXklDULECCKvR3WFBKAfUyDPitTiIObz5IVrKZ9mzVG+5Upp71xzi62x3AIHZMm1er+PgDACsufzRL2ZJNNNon9ch6PSpcu5LXXqxXWjT4WOdxcZOT6jI+UX6h7hw/vIcce2yTffdehIvzjHyfJCSfgAVnao1fbmWajWao/Dc8/L7033FDqyBBw1VXyzbLLdrK+AEtUn0lhV0hnCAOG9yee2djOMW+rCQAVDLsAQC41AAlss3ReEdwahxbqoQD08HJGrczBTSH38WmnnZZ4AclyMXjttXoD+lERjx/fka8Y1neXXVpkjz0myfzzu82B6BizRgCsgNtSJclWk6DAgBuXQPQADOTlKwMMDht818X+OS6QdNTEII8TRNoeYNsppj0b93ubyYRJg+3E8SItp3Keb6lTTVawmvYtLnvUzZmCvSmAPc57PISOSZNk9X8fAGCFxwCX/F122UW233772C/7CDFib+7K7tnx9eycuBz0pRgTwsCwSdVCYGo8HGFp8hi4+xzmuLR0Wer/5JM6OfjgXjJiREdIl9//vk0uuKDZOAhkKVlC48RdABY85xxZ+N57ZeKcc8rbN98sM84zT6dXbqk5QdqqbbbZxpgxkGkBVRusQLm9okvJJgsApB5MGghh849//MN4imohBh32jagjhw0b1hl8HNaPuIelCgAQgOASdkPrIcbgDTf0lGHDGuXTTzsuAg0Nv3p6r7zy5CxTwoRtiq5X9gPNlqJ/YseFzaaCfPXGBljBmmGvBktVKh4fZhDU7SsHNCp32H20JC4lGkg6GoevaKDquDbE2Sm6tDX6jB12BbAOMHTJqZzlW7QVYMY4+iwwqwBWAnZzCQDAAtq5UMU5+gUg6FP6fusKANCvPFNrw3CWnz322CP22awephx8du5T/m4b4ttgL4/XJTZFLOxaCExdKzES88ZHhPUjZdvRRzcZ1qdXr3Y56qgWY+s3TfDm1JkkBpyMGDHCOGPYwVs5GDlgoqp9qrRZvT4NDTLneutJw6efSsuuu0rz+ec7fFWM2pc0cLDZBF+uhZzRrupwgCoqXnIYY8tJQXbbbrutWZMAQ2IcovKl/PnPf5ZTTz1VZnVInBzNzewkzCkP4V/y0EM9TJDvp576NdYjeZsPO6xF1l7bzU6QfMjEAcTrFKaaOcDlDztNnFlswEe/bdZMbQDxLgfcsRfBJgLI4i4EvhkmLniornFiyVI0Dh9MrQ1cfQWqttvioqbO0nbmIJcN5h1MKqygL2epN9980zD5pVTqWdqqz0ZTAMKoAwTpA5cP+hDn9awxBIPHcB6pl+edAADLI9fEWjloODgPPfTQ2GeSHAyi9np6uNvx9WznjCy2PKVEUDSzgE/xsvnCRMICVrPk8b4dPbpODjywSe6/v6dp+uqrt8oll0yURRbJp+rT/gPGmE+2k0aWsCsNTz0lM0wJCj3h3nulba21UkVLOJ7NNtvMqAphnJQ1gj2rVikFAFk7MJWwfQ888IBRXVFQXxHOZqeddjLOB+Tpxj6Q5wFRsH5ZYrMVAYC23HAIuvTSRmMi0NraoR5ebrk2OfzwFtlkk1apn+JUDPBJYvZQpSrYA/i57AdRJxD2ImzekC3OCzDvNjiB7eSgh3nzUbhsEgMw7/oGuAJEuJAoaCUYtK84hfSRSyiXAVeW0kUuAFfU1chZw+DkseGMfqscbeUbccCaNYMpCPJnjsA6QhrEgdkABF1mRWWeCQCwMnLu/Mpuu+1mNpChQ4fGflnty9i0ogwO6hZYPJvFAfS5BBvN281aAV20H5UGh1lWhiBv35Pey+JxSh1PPtkgu+7aS0aPrhfStv3tb82y//5s9tlaxgFhz4ko22uzO1nCrjQdcog0XnmlTF5oIfn5uedEZpqpZMOwi8MJgnAdsDYEgYYx8x0WJ4t01B7SdohBVgStxr4PRksLoWLIyY1KlwMXFhPWD7UWZccdd5RTTjkls7e5LwCo7Rw1qk4uuqjR2Ar+8ksHEFx00Yny5z+PklVX/VRaWiYY9tIedw5ggLkLYxmVb5wXsHqxUi9sEnVrGKZ33nnHqPx8RSzgMgH4g0EqUlDFA1xZH7QZJxBfrFpelrJUf5h37Pt46xJomn8jY+RaJOQVIYEA7Vx0fJZSsRDt9HhcquK8nmkL88r+k3nEj69x8tnf6bmuAAArPLp4T6JCPOecc8yX1V5PD3ZurDA43KxtRo+/p9nrlaMrgC4OGDWYL8c3XOuslSDZcWAjrg/sceef3ygnntgokyfXyeKLt8kVV0yUpZZKt+uyGT1leWAeowc+44PzBWOUu3BQrrqq1I8aJS177SXNZ51Vsiq8sddff32jHsR+rlxxEbP0x3aIgVH55z//aWIUcrBSWDs4cQD8bMbq5JNPlrPOOsscSACPCy+80Dh/5Cm+AKBt1sHYjxo1UW67bV554IFF5OefOxjkhReeJMccM1H+9Ceyw/zaWsBsXgDInpMUrB35AvIBKLCjgH+8gKNx+/LITd9hXrHP5M1jbH+b8WRucjlh7DWGXZH28W5RljLu+4TTgb3Epo7C+CNrmDYXW8ykPgGoAX+Ml8/i4v3NfGEdAhax64QRjNujQugYnyOTva5uAwAvueQSs9FjwErg0osuusgkHY8r2AfhqGEXNjoO4CKFzeiQQw4xbeCmwy31xBNPNLc0BXswN9y2XbwZi7TF9V3sfOh7UuBq13p8PAeLwwHl26Yla9sA7ahBS+UlHjtWZJ99esl993Uc2IMHT5Jzz50oM5A01irRsCsK9gCA3KCjRvpRbztUm7DFhQAgjgePPSYzbLWVadmEhx6StgEDEsWCp+m6665r1GDYGaEqZM76NmLPMi6YQpx//vmCDRxqcS3MFUDf4MGDYz1bNa3dzjvvLIBBF+/XpHYBAFnTWcKOJAF9O22izoFffmmUK69slIsu6inff9+B+vr3b5PjjmuWjTbqsBEs4rVfCgBqn7m8sg4VWKGqtAM3Zxmz6LOAV/aZPGns4r4LUGHPBgDCqgFEAIJFMgkBUtFA+ARVSc40yJp1hYkFwBjZZMmmhDyZ/76d5rKEwmFdAmZxyAHYYyMYl8pTgaBmycLUB3Y+MIJFVlT6u90CAA4fPtzY+eDVh5qKg4J4Xyy8OOcGAOBBBx00ldqIiZh1IaEiIW0Wthj8sAhQzbAQUENxcMOkEFxTJ3qR0B7pw539CbXp8LXJZ2/Br2+woVOq3RZ1vsDbs8+55+K2KS1HHdXZ0E8/rZNttuktf3r/VGmsb5W+5x1jsj+ItJubvm23BfObFnallMxQx6I6KqIq0vqb9t9fGq+7TiYvskiHKjiKVqc8iF0o8xd1HaxsOQJju84TQNcNN9xgGD8N18JawnaPfMXkgS2VhouxpD8+QtikyUHBnjpn8Kfa8EYdNEqZdRBPEBtB1MPjxnWohldYoU2OP75ZGhufkqWW6p8LyLoAQB0XWF/2NGSNDWqSvZfrOPIc4JW17cvhzAZWeQJJx7XdN0jlG2m2lGiFAF1ohpLy88a1lRihsMFpIYGyjBHPcq4xP7N4FyuYxT5TwWzcHGc/AyQyB3Q+8mcAgllHye35bgEAAX0Ee7344ouNVDR+0QEHHCBHH330NJICAKKqxZakSCFcBocTQI8fwmYACG+88Ua57777Yqu2wUWpEAxF2pXlXW5kABRfht5Zvh19tpbagvct82qWiy6SplNOkeYhQwwIfPnletluu96y1+hT5O/yN3lnu0Ol+cg/d4I+5l5Utc+/04IXJ8mNQ5MDuAhz1Vn32LEy4yqrSP1XX0nL/vtL86mnxn4Wu1DSa3GR4ZD1pfrMMjdQfWPbx+UOUE1BjoRwwZvXJZZclu+5PGsDQABH1EGD/4uyurB7eW14cWK+8MJGE0JmwoQOILj00t/Laae1yhprRKhmhw5kAYBUBwBkv2KfRPaAjSJMNICFfcaHAwTtQ3sBcLD3riyBpONEBkCBRfTVRr7hEloGOdv5eWlDGugmRifarjz2oKWmSxFPaMAspAJ/AmZhU+29D80K+xlsrdoJBiDosHhzPjLdA0Bu3ThO3HbbbSZ0hRZUPmxcpGWLFgAg3oHYBHFgE/CWUBA+Ap5yYJ155pkmgG5SYRHASGik+Jxj6+W1SmYmSWswbeEm6SvuWNr3Sv3eHqOep58uvU49VV7Y5DD5w6NnyBHNpxrw9+pWO8m4A3fpjK3H4eg7T3IRm6+4/jU8/LDMsO220l5XJxP+/W+ZvMoq0zwGA4Cak0MQUJ4lAHIRmXMR4eKENy/91sKBAehDdUh6qrigtEW+W+pdDin2GNg82A0OadR0uu/YKnz+nkWF59rmb76pk3POaZSrruopLS0dQJCsIkOHNst887l7mecBgIAL9km1WePvsHh5xgBzBvZYXzFHSzmpuASSjpO/7zbyjSyAynayUNvGpNSYjz32mCE+fGgHbFnAmDNGRezCMSHQTCUaOgawTpuJJ6oX2uAx7LoL5HtuugeAuNezKXFg2LY5Rx55pLHjwlA2WrAjQt2Iao2bytlnn23CSLCh5A1RoN8gDAXsIh5aSbQ2t0wMgr2wOvnmRedbo0aNMgxP0XySBZthXscomvFQY2kfdWatQ512YD+4pWJjZMKunPawbPLCpdIsjdIkLfL9QUdKz5OGlF11UY70eL322kt63nyztC22mEx45hmRXr2mEhPqKOxn6T+gnDEhlpnvVFb6UYDV1VdfbeL3ESidAmuwxRZbGPs+1jUHBZeqUnaZWcc6+nwpe00umdjKotJnfnJ5KwfYK9UHvIb333+sjBjR4UXbu3dHPumDD25Jc+w2z2cFgFEgwDqAEYYJhd0BIJRSv0f7wvixz/hK9cicRIuSZDKSFkg6TtblYNXyhGvBVAgHC9YfFzHUsdG0bGigiBFaxOYxTga+HGFYT6xnzlrWM31AFqzhaJsDECy6e8W/HwBgDACMigrmAfUGXoQkki9SAHfEAmSjTAKAHOpsWr5uwkXaC4AmvpPPWFp520MAUm6OqDUqUdQb0w69okG2AYKoYLCvufXWOeWYY2aWidJkwF97Y6OM/+67SjTRXGA4bL3a+fzwQ4cq+JtvpPmQQ6TlxBOn6gsbNgw1zAOgHPYLZxCfAJANn0sSbN+dd97ZmaKNww4HrV133XUqQ/wsWVFcBkbjbkbVuFF7Tc2gAdirBWcYLqp1dSvLKafMKs891xFQeq65JpsUgzvs8GsMwTgZZAWASSFRWKNcEhgTVem62HBhVsE+k8RouYyb/Ywrs5YUSDrue1GGKmub4p5nnrOX5AlvxQWU9QiQstOyMX8ffvhhY6vr25QIggQHMB/e2siDecI+oiY+aNzi7EBD6Bgfs23qOqZ7AJhHBRwnZkAbmzxeg0UKByW3MsBM0qZYS9k3AH+wgNVM86Xy9pEmL2nsXMOucOCj3mIT5FJw/fVzynHH9ZLj5O9G7Qv4q2tp6bQJLDJXXN4tV37kHvffL7132EHa6+tlwmOPyeQVVuhsDh6V2LPCcnFBACQRcgO7wKJFU7Rh3wcboAVVFmwfZhx21hP9vQLAaFYUl/ZEwZ46aQAM7JzICvaS7DVrAQCqacKMM84k997bQ44/vkk++aTDY3iVVdrknHMmytJLx4chygoAS8WZU1Ul4AQVJEAwzT7QN7hi/gAmXe1Bo4GkeS/K4j7yyCOGcfZpnsMaRktVJP6h2jZijsGFEC9lAPWgQYNyqeNLrZty2EHyPS7XXGBYX1xoIUHi5BxCx7jsam7PTPcAsGPjW8WorAj9ojcOblv7779/rBNIVHSwPdimEPz2XLw+CxQoezYWDoskFVGtpDyjm9zmOfCrmeVBxe0DjGYJu1LKQB+W9plnlpeTTurXCf4mDhkik446ShrPOGMqx5AC0yX1VQ5h5rIvz0n7g7123VV63nabtC2+uEx46ilypplfEwsONScODYwJhw9zliDMeQuXDE3RhocpBaC39dZbG+AHK1CqqPNUGgDkuagnNu1njdtgD9CSNe4m7QbwVDMcDgCQy5qq0FpaxKSXO/30Jvn55zqpr2+XPfaYJEOGNMsss0wt0awA0EUVCGNKnDvGF/MZ7L2S7AMfffRRs1enAUXXOQZDCZDIaqumgaSZJ4AQOz0brBoXnai61bVNcc9xmeRM8BH+hv0a7RJy5zJFTMu8DmZJfWKOsf59qer1O8ibumEtYQMhSZA9gDaOxQxAsMis63i3WwBAHC9w+kCdBJAhDAzeuKgpCO1CiBgm2mmnnWaEQkooNnE2KzYD4gfeddddJutBUQcE7OlYOByiSd5ZsIT8zncE9zzTJS20RZ46876TFYzGHfaoc2F27IwqthrPtW0nn/y5nHnmkp3gT72A9f1KgUDmJHPXx+ER7Xvd99/LDCuvLPWjR0vzEUdIy/HHm0fYmGE/8V4F9CBT2kHsyiyF8cHzE7YP5w5N0QZQ0BRtrqrtOAC1u66SAAAgAElEQVTI/8EqRMPuAPZsT2wd/yz2anH9rAUAiI0abGnUhurLL+tkyJAmueOOjriUc8wxWU46qVkGD2418QMpWQFglkDDzBH1GGdf5dISlTc2a4RW8sWuFcmEwdwhXiuOCsxzzWhRDrWq7/A3tB37QNquGUV8mhMRZxMTEN826qxT5hQxRinMGS5U7PuAeEBynMe8AkEDaOrqzDMhdIzbTtwtACCiIASMBoJGfUXEf01dxY0Dmwa8fykEa77jjjvMBgAQY7ITJNaHHRzggwmK63+SzUetZLxAFuWw73KbmtM+VQqMAh7iDvto2BX1xC1yK77nnh6y0069THaP+1c6Xgat326Yv2gBBEpbm7Qce2zeLqe+V+5czT3uukt677STtDc0yIQnnpDJyyxj1gUG22yyXJAw/ocNYh25FDZ2LmUAP0J1aIFBJHYfKdqyOlCoChjGBuZDQR+HA2DIjrPn2xNb218LAFDDE8UxVG2T2+TBx3+WISc1yyf/Gy/SNFaWXOEH2W2PCbL7wE0NU5RlXeTJ3IH3LRdvSjTki292zYdqlcuCpmfjLKD9vtWq5fAsZv7DLMKe2UGwfYBr30Bd1w/kCKYkxO60C3sMlwf2DQ0dE3dZs4FgCB3jshN3EwbQTRSVeYqDCrsUFlFSWBkmOxsxN+Vql7zsTjnajbcpwBl2FtDBJqcOGvzJ7U+ZHf3T92H/4ov1summM0hzc51svfVYueoqgpSWo7dudbJhov71mZkg+uVeO+0kPe+6S9qWWkomjBgho6fE8OI5xgTVDYdtGgBEFXjFFVeYOJi8R2F8tt9+e6PmhVV0KUlgX5k9mAkNv+J7/Eu1r1wp8YzZQluzjGseJ2NbxspPzT/JuJZx5t8/tfwkY5vHmr/zf+99+p70nqW3jG8db35n/n/Kc+MnjY9v/i+zyt9n+koOPHCyNDW5J6jOq7pk/FAJMx8YK4Ag4+SbXcsDUJPGlxiOMGqw32hm8oa6iasf0A4p4TNeH+sLVh6wamfj0DR+cXa0LmuvnM4lejmIsyXWOIiMAesc+eOEEmdHHzyGXUay45luwwC6i6S8TzI5UXER1iIpZRT2DzCFvpKsF+kRhzsbPbcyF0++It+Kexc5KMjjhog6gHYAkPWQV7AH61HONn72WZ0MGjSDjB5dL6uv/r384x+jZcEFiyWuLyovPB1R7xQNT1SqHXWjR8sMK60k9T/8IM3HHitf77mnYcwpsLLYG3HYRm/u/J7DHsN5zC+w8dLCTZ7YfaRoK+X1GQV76qBBPdEYe4BQ1lRcqqmicnZ5Pw4ATm6fLONbxicCNsAcoE5Bmg3YDLCbAvQmTSaTjJ/S1NAkfZr6SO+6PvLD131l/Lf9RK7/tyy3XJsMG9YmyyzjFjuwaKoxHK8AgWRIYv7iCcocygtOotLxnbUDZhkVO2YJdiDjoqYD5YjXx7okDI5tlsGlGQDFHoo6lTWclWlnP2YdE28zbwDzpFmMZgHVdalUipyfOJ6hGlbVfJKZSACC6ftFAIDpMvL6BJMSpuOUU04xaeDiSi0FX2aTxuurErmJk8KuYDTOYc/BgCcwDCBGweUEe9FxGTdOZP31Z5B3322QpZduk7PPHinzzz9LWYGXy8SrlL1oj1tvld677SbtPXvK/x54QOZbbz3TPG7tgDQuCbANWgDrMH2kaGNTpzBezHnYPg6Q6MFJPcrsqgo3yuwyD1DnxoF9bJN8AsCWtpapGTZl3GIAG0Dt+/Hfy7fjvpX2xvZO9g0Wrl3cAJXLeM/cOLP0aexjAJz5e1PH3/k//v39l9/Lkr9dUmabcTbp29S34/+bOt7h3zzT1KPDmYfS3i5y44095Nhje8mYMVys2uXQQ8kv3KY+P4nNYl/AFKCoAxJjjCkAAJr6ACZFQRWN9tU+FQAmJtiskmYwbyDpOGGWQ6Wq7YsLzaQ5qwG0aJkA3657qYJg1rGPMbLlwUUAcOficAgLyIUB9Tb7AfMmziYxhI4pvasEAOiy63p+BiPt/fbbz3g4xhUWAje4Wgi+zELDM8t3gN0sYVeUEWDz4VZfaTaSQ3KHHXrJAw/0lLnnniwjRkyQH398y2w8eWJ3+ZxOqMQr0o72duk1eLD0vP9+Gbf00tL3zTdNNwDksAgYsjMu2K9qijYOTAoM31/+8hfj2EFCe4qCPRg9G+xxqESZPVdmF1WaXg5+nvTz1CrSlg51qTJssGvm3zGqVH1uYttEb0PVo75HJ3BTIGYDNwPWpoA5BXlTPdfUR2bqOZM01CeraF09oeM6RTaRI4/sJXfe2RE7sH//yXL11a2y1FLJ4NVn6jb2AwA8Y80cQC3s6gCUNEjY1uG0V7QerR+gykUHz1qdw6iEYaNQYdPmrI4RqlLlgu2TuU5j0/guHvxqboS2CTmlAUEuaKz1JPKiyIKB+ODcS/P4t78BaQAIxE6Ti0hcQOyOi0575w/aI18sc5H+1sK7AQBWYRRgSohnRkDbuFLOeHdZu6uHSl5mRWOs2cGUOfA1PmPUG7OUWqGSbKQtpwsv7Gli/TU2Elx1gqywwmSTFYZNX1WhWeXq6/lKtqPu669lxpVXluYxY6T3lA5wWWFDPe+888zBwI8WbFxh+/SiE/XG5T3G33bQ6NnUsxOYlQJsCtxs1SnsW7M0y0+TfhJUr77KjD1n/JVtm8Ko9W2MALamPlLfUi8/f/+zrNB/hamYOdi3Xj3Kz1gXDYbNeNx3X0/Zf/8eMno03pTtMnRomxxySJs0xOBOn84L2KkB4PEAZU6hGsYmTu0D84yl78wiqH3xLIa9tkuWQNLRfnDBxkTCt2MJwJSfNDbNDsKsHsOlUsdxYcPhKyqDPOMTfQfTJwBmHuIDUyXmDGcnjCYmJknxQrlgBADYIf0AAH3M3Ix1AP5gAQ888MDYN6HvuQ3xTC0U19zEpWKsFQ27ghzYaDl0MBL2bX+SJGecPjbccAZpa6uT886bKLvt1mGLhcqKTUQZrWqNU6U9xnvcdJP03Htv6QgmInL44YfLTTfdZFQ3FEDEwEED5Q+b/0H6LdxPvhv/nfw44UeZ2D5RWhtapaW+RVrqWuSX9l/k59afDQNnA70JrR2soY9SX1c/lepzKoatqY8A4lQ9aqtSbWaOv8PeuRRsqzjENLqAyzs+nynK1qsX8Lffiuy7bw+5774O1DdgwGS54opJMoW87Wyyz3hwqlpEvQoLxWUPZg0QA8vOgZ51zfvOLJLkpaoCcQkkHR1vGCxsAAG+We3xSs0d1KOcI0SwcCk2k0ZIKZws4hhJZIDdcZrDl8s3o8/ARrLHJzlHutTJJZN5gzlBnJ0jgDcAwF8lGQCgy6zy/AxxB/HGGjJkSGzNtRR7jwbG5SauZNgVFVIRFVeeISQe8cCBM8qXX9bL1ltPkquumtjp8VsrntqE1MBGshJAFJXRE0+8K3cf86Tc9x3OL4f9KtYZRYSzhp++eaQ99Tu9GnpNpRKN2rMBzKKq1A/e+UBWXXZVmavvXIaxg7lLU2kVb+mvNWSNU+nz29SlADDvBckOA4PZw3XX1cthh/WQ8ePxrm+XM89slV12mdy5BnzmxbXt62y5cKAzx2GeACV44LqOqW/nCkAFjHtawPNSgaSjYx4Fvr7mBHa3MJZ4F2cpCmJZ68TeY1+xgXcp28Is34l7lsssc9CH86Nm5WFeqZ0jwI9zi28kBSMv2oeu9n4AgFUYMez/KKeffnrs12sp9h4NxO6OWzgbr4ZeiTPOx3ZLbXjKJdZScc58f/Ovf+1lAuf+9reT5cknf5aZZ/71C9wyAaTYnFSzlAOI0i9UKdz0X331dXnqqfHy1lsLyPjxZPqAle5ILSbyGxH5XKS/iGxG6g6ROqmbRl2qTgvT2L41zWxYONuhQZ9pbGjMLFYACSovn1kasjSi2gBQGXIASh42KS4OIP47u+/eU559tmPMt9mmTS69tFX69BGjsvWVu5f9hH0mzraM+fjtt9922quhFnYJbOw7bVsW8BMXSDquzag8uWDDfPosqEMBc2TsyFMAj+wt7Pd27L0028I839J3cGjDrIbv+Sg6b/B81r2aXOKsjQAAOyQcAKCPmZaxjmOOOcaoNi655JLYN7MG1s34+ZKP22FXbLDH7Unjq1Uq7EpcQ1EBYyTsI6BpKUHcfnsP2WWX3sYr8vHHJ8hyy01tU1YroXrY3ADmsCN5Chsjc5F4gqRz6wB9H8p33y0nIhtP+Zl7qqr79PlIejfdL82TLpYxYz4wv5tvwfnkgosvkHXXWldQvVajJGXBqFRbAAgwL2l2V+VqD2o8HDOyAEBUreqIgx0erE/UkaGtTeT88xtk6NAGaW2tk0UWaZcbbpgkP/74qEk7l9XxIa7/0SwQcc/A3mDsz9ojmxJAsBTY9x1YGlaMb5OtxLXYgaRpM+yWnaXFpd+u37KfA7zx7SKZqzT2HnUpgGKOcTksxxwnqD0y8m1XzbxhjwMUY7aDiUa1Lol5xrKc7wQAWE7pJtRNyjlill133XWxT7ARq1elq7ojTzfSwq4o0GPTxbCWwJvVLtyWMRIuZahctI14RK688ozy4491ctRRzTJkSMs0VXLQc8MussEWbSfvs6mxwbkwkWzi2AYB8mzAB3Ml8vspYG8TEVlDpNPKT6SxsVlWWOFH2Wab3rLppg0yzzwdnqF8l1Avxx13nGAbRCHl4gknnODE0Pjov11HAIAdADApZJPteW+DPrXPRdWHLSfmKcynKEvy4ot1suOOPeXzzzscRHbZ5V05+eS5pE8fixrPOahJDhZx1bE/wsDTVgArjFGU8SyHdy3fY/3kyfVMm1mrGkiaNiNf1MVcvOJiaOYUpXnNpzpVARQyhyUmBFc57FxdcksXkQmAGPCKNiurPWmR79byuwEAVmF0YP7uvPNO8xNXyuHswAZkZ87g79ifsJg1F6qG34h6SLFBkTO5nNkmXIcBNRFxFH1GzY9+W1W/xPuD/WuM0UbWSqxGGAmAPGyIXTgAaSNAD8Cn7B62MR2FWHCkbgPw8dMRnkXLoou2yoYbTpYNNmiV1VYrHRMO5gtvX2yuKKi6SJ1IkOdyXmCi44ZTAoxUNA+u69wq+ly1GUD1ksdAn8OONW6H2WG9Y9ivsRR1vSt44nBnn8DmjnkSl7MXnL/33j3k7rs7HEQ22qhFrryyXWabrZj08gAh+oYzFhoTACs5sXW+qXetz8DSeCcDIIo45zEmMGoaSJpLNnaFWfNop0mbINDs7Xk1A0nnEiwdlz0NueJzreXNLJMmC/v3gFnAXx4TiSzf6SrPBgBYhZG6/vrrTW5iOzNC9PDGvgZVA4s4S/EZdkW/y2ZCLDcMsKtdSBbOweRiA5SnrSNGNMgWWxCLrF2eeGKCLLtsfDgRmAA28bw2NnnaFvcOMbBgIpkngD37R9Ot/fre/FJfv7n07r21TJy4urS1/RoQmBA3Awe2GcC3/vqtsuii7sGL1TkHM4GjjjqqM78v85fwMK4p3orKxNVbveh3kt6vlve+MvkczLD1zAW93NkhdgB8pZgPDkUN7gsrDLgCUEVj8uEgMmxYvRxxRL20tjbIAgu0y/Dhk2T55d3nTFSGAE5swLJ6l9rx7OgbbUWNWI6MFVk9a0vNM7UnZOyQMQDQ52WJfQDVPJ6wPgssII4VXBZgRDkTlM0s+h2fcSWT2sLFAOY1AMAOCQUAWHTW5nj/7rvvlmOPPdakz0oqLodZucOuaNsqGWsuTZyoCVD7FM0+EPed5maR1VabUT78sF722qtFzjqrObE5sAF4BS6zzDJpTfb6e26wsH7K6DGHUPfAgkRLjx69ZN55tzaAb8yY1eWbb+ac6pF5551swN4GG7TJWmu1ykwz5W+qZuFgY4XhxsGJg4J/E+7oyCOPLLvdjcuayd/D9DcrAQABNhpPUdk9vQDAxuicBPhlVXPZAJDeaow4VJdcuLBfs22nLr30Bbn44oHy8ccE1m2XSy5plb/8JV/8RVcP21IHO4w3FyICGuO9qkGbASs+CvUDsnF88VGQLyCbvQSNBvL1YU9J28gDjBzYK30W2kvhUsc8xAYZmSBvvlVE1uXIiRztOzIHABZpp095VruuAACrMAJMdGylyOKQdOuLhl5JCrsCCGTjt7Mn8G+fExyVEIeJL++sIiJnY0PVQ6wq3+W88xpl6NAmmXPOyfLKKz9L3xLhTLj9YhTu6zCI6wu3VQ5fwJ6qclHn4jEZLYwP6p7FFhsgTU2by+jRK8urr84hY8b86pABq7nSSh1qXX7I9lBX50eKmoVDY4fBlgD6HnjgAfMB7G7OOuss2Wijjfx8MKaWSjkIJXXANwC0wZ6CPkA1JhpRZo9DTTPl2Cn5sgg7CgD1XdvmDkaJH/YXnCyWW+4Psu++M8n993eArH33bZUzzmiTnhoo0rEByI59hhA2RQoygKVCVcue6TNnLRcv1p7PS5/aFQIAYW+xs2YdZ9X8RGVWLns6zizmn61aBryj1sYEgf/HVCgPm4lGDNtCzrJyFM0NTPt9no/laGul6gwAsFKStr5DNHnSCbHg4xYKBz/MDi7rbGJs/jA8PBvNnFHusCs0u1ZCntAWgBByAQT6LMT8W3bZmWTs2DoZNuwXGTy4tWT1hEPAoNs10GpaWznsuU3bKlxUYppOzX5fN2DUz4su+lvp0WNFaW5eVx59tElefrle2tt/RXWzztou667bAfjWWadV+vVLa0m+3yeFYLn//vvliCOOMCwHZdNNN5UzzjijLOYEAEAAebkOkDTJEKqENZ3HRkxt9my7PQV7erlT0JcUwgImMJqTOa3N9u+TAKA+g0kBDBAgi4Me0xBs7Hr2bJJTTmmQU07pCJg9cOBkuemmSTLn1IRzyaYgO/aZ1VdfPUuTE5/lcsbFSdeKbR+Y9wO0j777NPuw7QoZb/YAwDCesADtvKpK5gF1+Hbc4wLKfIzGHQVcAWaREfMTNjOLmY467eDBXi4P3QAAp5353Q4Aop6CieAA5yZ30UUXlXRpv/XWW+X44483BvVsehxeG29MeIz8hUUChc7NCTUOFDoLXZ00AHvK7LGIqhl2hV6iVoEFqJQtVynJAoq4Lfu2RxwypEkuuqhRllqqTZ5+eoLUp0QyKXLYY/fDjdn2xOUw5QCPFg4wNlMOHcLfcENeYIEl5JlnesnDDzfIgw/WyejRU9Mt9KHDlq9NVlopPo1X/tkb/2YpD1xYE9YNaw+gC0NNKKR99tkns5qyVLu7CgAE7CET20GDNc/BGXXQyJKyCgCBjWxej9I0AIjsNUYkbB2MD2BXD/p7762XXXdlH6uT+eZrl1tumSQrrOBmF8h+zD6TJcRKqbmgcQVZN6w1ZFvUecxHaJVom7kwcA7Y+W85D5CvAu084JUoEpxXvk1l0lTLdtgb9mmcc1wuZGqz6Tslni1vzQfMmlJbV9/7YFerr1sBwOHDhwtZOIYNG2YO0vPPP18AeCzsuIWCxyk3EsK2wFyQ8oqDDE+o/v2JfputYOjMrRRjV9qA2g4WaYcddjCHoe2Ny02b25vvG1y2Fnc8zSYFOM3T5zzfK/UO9ogAYp+2LYS1WH75GaWlpU7uuGOCrLtuW2qzXYP+ckgyluqJC+ijD2zu0YL6VMEezCKxtji0UFd88EGdPPxwD3nkkR7yzDMNMmnSryxf795tMmgQ9nxtxqaPw7fSxcX+jn4fcsghnbavpHxiDfoKKcG6IvOBy4FTDvnEXQoU7Nl2e2obaatx+XsWsBfXfuolvFRWRwqtywUA6rOawYKDFIAC2ABkvfdenWy7bQ95/33yrbbLsGGtssMO6XaBqGzZZ/KEWImThZ2zljFQ+0C0B6yxuDRnaXPCdopJe9b194Be2hrN2OEaSDrpOz7zNNvfYH4x3mkaGPY9VOajRo0yKmEc90qptTUXNIHAywXOAgCcdrZ0KwDIQcONFQ9cCupVmKQDDjhAjj766Gmks9122xnV63333df5OzYoFisAzqWw+VAPNyc2IWh5mEcOzBNPPNEkAY8DM+ViulzaHH2mWg4PcW0tRw7egw5qkquvbpQ112yVe+/9xckuTlMN2QcWmxgOGXboFUAPm2G0oObAYxGGArBHPdyWdfPDIQWg9+9/9zDA7+OPp6YkF164w5ZvxRVJ2fSprLJKtpRPeeZBqXdc2TfW3A033GBYdd+xA6sNAGGxNGamsnvsHwCrqBoXsJfHTqrUGBQNIJ8FAGoOWxg7NBqEceGQZz/96acOJhC7wKFygqyxVp2s/tDR06yrhlNPJX+dtB1/vLkIs8/4ugzQHi7qtj0koBUVK+rhPCpW1jKXdpeYm67rKy1jR1og6aTv+MzSYn8ja6gW5iQy58JcSublyohitz0AwG4MADmEOXRvu+022XLLLTslgTMGmwWeudGC4fqhhx4qBx98cOevhg4dKnfddZdhdFzL5ZdfbhwosE8iRAGHIGowHD2SNhOABO31HRXdtc32c9zO+bHVFHnq8fEOmwkgicPGR/nf/+pkqaU62L+HH55gYt65FOTx0EMP/T97ZwKuVVW2/+c9EyCYmVqZWmZW/0hLLfXDKTVR1BwAhxRUHELBAdQPQWSeEUMFc0DBIXFK+cwRQc0hzSkzh9RK06wsTc0ChMMZ/tdvn57DOps9rLX3es9+0Xdd17kYzh7WXuO97ud57ifoSzXlAk7ZGMMFxhKwh4A1YI9NjvqHT7p/+1vpv4CvVh56qE6WL1/D8iG8u+uubQwfwG/rrVuDDRXQge9N0X3jCr4wewECAYMUH9qB1IHDVTlFwrVv6Xc2LdOMi9mRTQbTl8nuwXz4BntRY5T3c9DMqinnAgDDjA1+a4x/xnSbqXUjGTOmVtabPV0myzj52bYTZL9fjpIu/1UeAvzVTZokTePGSfPo0QH4y6uxZ7ZJkqwM6736MsIGYmWx6R8O5azJvtYe6mtrVo4Tko5bq8oVUMGeRZvBpLoUDnt8Kyw1bDEMorn+uQiBu7w3CgB21nzMWs/OvO8TwwCySTLoMOv26tWrvY2JVISNw3cmXDBpXHvttYGJVsull14aMHecIrMWNgmElTFJI1wbVcqR4zVrffP4u2V9Z9x9LpkvbN6tvn+9ejXJffet7YPHM/DNw0dPmT3+ZAPBb6WtfEdExovIlbL++g8FGyBgj74F7OEwHR3sI0HQBgwfPy+80FGu4vOfXyPTsueeTR1yEeu3MQ4xs8SNI5s28HFN1gwtzEfMwiovQRAA2oFhYWubOmatQ9qzFeyZZlzAFqZ5k9njkOkTxKTVK/x76gTrhdtKluICANUETA5bHduaqo05igQJfXjDDd3lH6dNl4mt4+XKL06UA381Uj57RUfwR119auzxPBgnDtFxbaG+jBwoYWOZs2idJhXmPcA+HACRpa31HlezclhIGpIiymTqOw2e1hdfXw5ZWYT4VbNR01cqkGT8ANhZY7MeXmz6gPFJqQLANa1VBYAFAUBOkWx0cQ7blZJrlqECW4OZx5d/js1kjbvGZ0AKSTG++c0eAdN2660rAh86WB2kDkzpFRyyMcWES/fue0hDwxT54IM26YpvfnOFPP54UyKbwDvvv78N8PEn6ea0lEqt8t3vKuhrkm99qyU1GMW39EjWvgnLFrk8B+Ck2oGA7azagT4AoMothZk9NqlwgAZ+ZCawLxqMAw4Yt50BAOknDs4mANQ+h61ik4edxoLxpz9tLb89/HwZs2q8NEqDNEhjO/On9+AeAwjwxWSr0PJuu+2WOBQ5xJHWkfdzKMciE+erVo5ctVGyKjZzR7+P8QqQwofdBOJLliwJ9pa8fqXhupDtBzeqPCy76kuyxzGnqL9KDfmKAo9qQ95LG5XD/cKmzyrxmk8MACzSBBzV8fgRIo9x8MEHR46LSkk1RuUwmeD/Us7JaTs58LGC6SCAIG+ZObNRpk79nWy66dPyve89HTB8bFx6UjSfz4kXloDT7yab7Ce/+MUe8uijGwaXoK93xBFNMmLEKvnqVzsGYJA14cUX21i+JUtq5amnaqWlZQ3o+/SnW2XvvdvMur17N8vGG7sFcNgGo+Rtq7T7iTqkT9JYlKTn0Lcw8vfee29wGb6x559/vrV2oCsIhZEA8IeZPQV7JrsXBntR31E0AAS04pqSVUvPhQHElIfJHQAYV9TUyuZeW7ut7N77y9JFGmWVNMhvn/yPfPvba8Y6IAwzYDgYIm3cxf2evgBg2EYVA2iZ+1g7TK1D8/nIdwESfSoQYFbGHSiLxqqZoxc3ExWSVv/MffbZJ7OMTFy7AizZB3ykgKOeHOiZ9wBKDtnl3GMUAObVWMw6Jivxvk8MAKTxMccRWYn0C4UBAYV+2mmnxQaBsNDdeeed7X3HgoJ5zzYIJK7TOaVjWh44cGDkJfjEcCLmXUUXNkjAUdaNxWf9MXfiT+LaLmyOLLbqr/fcc78NWE2RtQEX/mg9e/bsYMbFfeD552tl+vQGueeeNtkVgN/hhzfJOed0BH7oND/8cBvgI4jjr3/tGMDRs2ebTAsZOHbaqVnq2uTTMpVKYWd95mgOawcedNBBQfT95ptvnthGSQAQsMdcDufH5YHhAA38vGx8wsKVAXQwb31pQ7oOCB3jaaxX3HNdAKDKrBC1mVRodwI8midMkK9df700lhqkobVRpjRMlB3vGCV77tk2/3yLLGeNKlYJFkArgArBeR0LthGwLv0GY8vhMo+vNywm7adC0uxpBGtEsbMudQtfy34JACTK3CeIAnyzLnMAAHxjYnfNYmPzXdQfc7lvVtTm3ZV6zScKAOJzR9DHFVdcEQBBJChuueWWQHOJkx0SMWz0yL5Q2NTwSSCt1YEHHig33XSTTJs2LbMMjDkIeB7PRv4lqlRS4EVeeQmfg5/NBPNHElMA8wATYkqvsEBGlVJpM9l1161l++2/FZg2GBfIFpjlt7+tkRkzGuTuu9cAv/79V8meez4mA0Pj/AsAACAASURBVAZ8N1hUXn+9TaaFH6J3CSrR0q1bq3zve2vy7JI71VfhkIC/qOnX6uvZLs9hw2HDJMjJR1HtQCL2YQZgHEifeMopp8RuDrCQSBXBJrCpmGZcgB9gBKbEDNDguVnAXtQ3Fg0A2UDxo8oKANl0bduC9kSsHkH7tKIBH28PHSoP7/4D+eDsx2TI36bKhNqJ8vWfniv9+rUEGW/oM18iy3miilXUGEYQ5hfmnxRt5RBXJmiHgApAW96iQtKwmHwDWVCyCklH1aWczCIMMNYM6s3YghGN82/M2k4AQPx244TUsz53Xb7vEwUA6Sg2FBWCBkTMmTOnXXqAkw0nsWuuuaa9T9EJHDNmTLsQNCapvELQPBz2Dz9ATF5RpVJ8u6gbp2E2V3xKbDeIck2KcNQrAAigZ0qvsJhEFUA+zB5m3Ece2VOeffZ/5JRTNpTzz4/O+fv8823A76672oAfPnptjF+jbLbZKpk372X5xz++I0uWNAT5g82y5ZZtvnz87L57s3TrVp4WqRTzPGAA/ylfAFBbK0070MyHzUGODRsgoWDPZPfKnTXHd3YY1xEDAMSnLKsZzQUAmjp7SfUMR/sC7H/721fltUG3y4/emiXjZKJsMudc2WuvV4N1xpfWKJYC+iNLVhb9Hpg1TJS44xApzFxTfzvXvom7vhysIuCXcQDQYU5mTc0WrnNU4I+vdtAsK/Q/QFCjo6m/ycLmeV8VAK7dep84AJhnAPm89+STTw5o9ClTpkQ+tlKYHSrHQojOG2ZrnydK1/bE3Im+FWCURQLzCdGDUYVFA580wJ4yeypd8M47Jfna17oHvnhPP71cvv71jkK1AL+ZMxvkzjvXAL/DDmuSE05A3JQcqLXyi1/UybJla1i+urpW2WUXlWlplq99zV+e3aR2ysv6uPZB3PVE0XOgcUn/ZPvuKO3Avn37yvHHHx+wrzCEMHv482EmBujD7JVLUDau3kUDQAAKka+2fm/h73ABgIw72Ku0vMO1kyeL1NYGUi9a2kSO35Vf7nex/PH3PWSiTJCzzvqbDBz4j+CA5qNgDmWN8GGO50ABIKF/sRBRR1+5ZMvBKmLGZm2EudQsKK6p2aL6wNbsn6X/VAVAs02pfyPMMPskEeVZIo/NurBOsH9VGcA1rVIFgFlGq4d7CAAB0Fx88cWRT8vrz+Ohiu2PYDIS/g+z0Fn+EzCgZiQuf9d8suFv00UZsIcJ10xPFdUOV1xRLyNGdJXvfrdZHnxwRfslL7zQxviZwG/PPZtlq61a5Ne/rpXnnuso0/LpT6+UPn1EDjigVfbaq0k22MBnq9s9q1L8MwGAmG2Q//BRAAkwDmaABv2/YMECIRKRwoYwbtw4GTRoULAh47LB5pwnECVP3YsGgGz8bKSdAQABm8zJrGnnaOfm5hYZPny5XHll25g55ZS/ykUX+Rk/WAGoI9qrvsqDDz4YAAjGJoCKg0Zei0g5UraZEjgqJI0LDIcz6p01gMMW9Gdp77hoaMgHGFj6k7UFRjBr/WkLDjnl8C/M8s2VcE8VABbUC5MnTw6CEtjQogpsBlFn5dRFcvl0mDeCaMqRqJuNExOu+YNuY1QB7AE02OTQvgPsuZ4M9923mzzxRJ1Mn75STj11dRClC/C74441jB9+eh9+KPLhhx1NuzvsoAEcTfL++/fLrrv2klKpmyDi/PbbNcGf/PTp07wWs+jS3rbX5tV+s31P2nWYsnDgdhWI5blsqJj/wgEamjfYlF9h8QdsRmkHwprnzfea9p1Jvy8aAOa1GrgwgIBNXC+ypp0z23Hy5FaZOrVr8F+DB78rs2d3l7q6joct137xHVTC+1kDcRvS7BaMRcZbHkmUcqRswwcQk6rpCuAqJB3V3uXU6kvTWFSZGPYFWH6sDa5MHkQGY7xIK5brOC739VUAWO4Wjnk+ASiIdRKEElUqye+O+tmm+kpqThVf1Uhc9d1j4wwXTtbILWDGZdGF2cOcw//ncXR/661SoP2HP9/tt38k8+fXtwM/IoLJrtHausa0u/76rbLjjk3Ss2eLfOELOCgD9AB5NfL73y+XDz9cXz74oCNI5FsuuWSlHHvs2llBfA+3vOm/fNXn6aefDmRbbJLPM7bNAA3+joM5G6oZoIFZN87UFqUd2K9fP5k0adJaQTy+vjHtOUVnZYlKT5hWZ/P3LlHAWC9gbXwdUEeNekcuumiLoDr9+r0hs2fXyOc+t0bbzuU7uNZ3UAnPNDXwzMhbfOzIbpHFOpJHWDmuTQBJuMZE6bbaCklHPdtWW9G1r7jeNhiGAy9mbcY60cL47Nua42EAAY1VALimh6oAMMto9XAPzB8/qnkWfmSl+N1pvVx13gB7mOzMSFz+zuk0XPDVIuILB2AFewjCRp2s8zJec+bUy5gxXQVgB5iLKuut1yr19SIrVxIAE31N+D4ifTfdtFU226wl+HPAgNWy1152aeXyDCci/2DE8pji8rxf74Wtpg/DAFCZPZPdA7wB9swAjSSwl1S/sHYg7MCPf/xja+1AH9+uzyg6ch9QBvDJmk/XBQBiZsTc7EsaikPd7bdvJlOnbho050EHvSEjRvxFvvGN/xeME9dCBC+HCh96ofpuJFCwPDBWtTD/ACS0B5YJAImL76kPYeVw29ik1UsSko5ra8Y35thyKA6whnHgDyswxNWFsU67s5YAvm0CXaoAcO3WrAJA15XF0/XkJCYABDHVqAKAwuTAguNTcylr9YnyZKJFOflTV06cZiQuf2eSRoE9FkkWZvxz2Kz401xUk+qYF/Dssks3efFFN+G9z3ymjf1r+2kDeJtt1irvv/+C9Or1Rfna19YTskjBHnZ2wU8O37eiI7Q5wRN4w1g12T0AIG4DphmXvvZ9Ckc78IwzzggkgtoAhJ12oM/+KhoAAkIwfWYFgC4mYN9sEIdDxsUjj3xVhg7Fz64kAwe+I4cf/qR88YtbBCY/F98tIsJZlzSoIG8/8ywsNjCeRJqHC2sd7+TgTsCCmZkj6d1Lly4NAJXt+mfzHRyKqE9aVpU4Iem4d9gAS5v6RV0DwUAf41dpW8x0fowN/BuTfJD5XhhAW8bQth7r8nVVAFhQ73GaRAMQR+o4R2JSLeHnltXp1eenqYkPHy9OgWGfPXyCwoWJhl+YMnsK9vL4EeYxjb/2Wkm23747gi7/rWqrbLRRq2y5ZatssUUbsAPgKdjbdNO2/4uTcCk66ICP0PbAF8uFecg7Njh5a4AGf6qGl4I9Zff40zfYi6s7Tvow6ldddZW1dmDedjDvrwQAiGwJ7hJZigsAjPIzy/JOvYf1BK091ov582vk1FPb/HHPOmuF9O37bHCoIAAAhtcm8IJoaOZDlpzSUd+hIshJ6dXU6oH/HYAO8JnEXqaByqztyRhgThIUZ1PCQtIc9KNIB1tgafPO8DV5fCFh9iAgOPwQAAYQDLc7bU0fYqavAsA1rV8FgFlGq4d7YNRIA4fJJm5Bc01t5aFaHR7BhGExYXEGsAL8MPsQDRYubPL4ZAD2OHmyCWHO9c1eYtaBNeUk7jqRzz67i1x5ZYPU17fKiy8ul89+thWFisylXNp3LhXK0x627+Ed4QANmEeYEGX2AD8E6KRl67B9Z5brtD+oC0Ei/JvCmCTvdlZmzLYuRQPALNqhbP4K5JnDtuK7rqnW0townGf38strZPjwNhA4btxqOfHEtwOGDZBqE+hj6uClvdvm97TT/fffH4grpzGRzBfACKCEOQGgigpYALjAAPrO2QsAzaKpqELSjCOAOJYa8/BWjsAabXsOb/h4cwjIWjiUUkc0INFtNIEsAJCfKgPYsXWrADDraMt5HydUBjwLaRwA7EyAAdhj8pjSKwA/NodwYQHE3wXVfkAeGyunzSxO0K7NyKIJM0q2A9cosG226S5//nON7LhjszzwwBr5F9c66PW+pU+y1MO3r6iCPVN+BbAHkDcDNAB+5kbIuMF8Y+vDk+Vb0+4x3RSitAORi5kwYYJ3sWqtV9EAEFYOliZO/Ji5gw+tCeYJImLe0p/0M+2GlE6anA8BL0hz+PIHiwoCuPjiWhk5ss1dY+rUJhk+vDE4hHIoxcQK0xN3wERhATYas6KPAqDCJYfUd7ZMO22rAQuslwRJmfeWK7NGXvO3psNjPJhC0uXwq9S+ifKvzNpvJpAFxAJmIQsAgIx12/7L+v516b4qACyot1Brhy3htBUHnFwiK7N+BiYztAjxwWHBigJ7nKRYwMi/S4JxgJ8r+Mpav/B9WX0jGxtFNtmkR+BbpPIveevUGf2TVsc8gNhkf9RvD9FbNtVwftw01oPDAu4BMB5FlSg/VXyhxo4dK9dff31QLXxY8b09+uijrUyJLt8CAAQY+dSec3k/ABDWCbcRgBzzWcEe/cu/YXRMf0xAva4/bJL4ecEgqWZcnLsGkaYwLb5YVeYSPqQEAphl5sxaGT++DQRefPFqOfnklgCoAqz43rhI0DRZEZd25VrmBQfPLPl1cY8AlNEnmKSZJxz6NbOGC6i0qTfZc5ivgLespU2s++8dhKRpb+rty6yudStXjmF0IGl3ACH7F2sTVosqAFwzKqoAMOsMyXkfCzOLL6fZuNM2rAqLInS2z2JGZt5+++0yfvz44PFsBIA9NeMiI0CwBosJpl9+z4JbdEE6AZbDxTdy0aI6GTQI520CVpYFQRt5C6wFiwp9VFRRQJwm0g3Yg/0xAzRYGJX9Mdm9LOCeAwTjuEgAmJSNBCdzzMJsCBQY5NmzZ3vdzABFMPqdDQAZA/Ql4I0DJQCevmazVrCn/cvv4iwO6gOommsAWtgTZVDMMc4Blp+s/obh+ZKUEm3ChFqZMaMukG66/vom6d+/LXMPUiCsSxyCTGDF71g70QeFAfJRAM+MIcBalgLIUXBNX1BfADfuLIBKnwX2k7UR0JO3mELSjA/Aq8/IaupXLiaUZzM3AK4cGNhHqbuND2nedltX7q8CwIJ6ionF5guIiANVTGQWsfCp2LbKDH511jc3fv5PnfVZ7KkDJ3lMP3EO+9D/nJx8mVRsvyHqOhZNTM8u8hCHHdZNliypkw03bJE331yb6cxSn0owe1Jv/GcwxWl0ImPLDNCg7wEIADsT6PH3LGAvqq0Yq+QBLtIHMM0kH6UdOGzYMCErT57AJG2PzgCAmiFF57P+qeYt+p45ytzgm1w2u3AQiKaWY4PG786U+PEdEQp7i/9hlAtBa6vIsGF1Mm9erTQ0tModd6yWPfdsDZpdAy9Yn/AfA1gRgGGrK2c775lPjC8sIHkKbYnfN+wp7Qlg7927d55HrnWvb/DLC9gn6CNYS/oJcOlr7cjDrto2HPNCU0a6zAnb56+r11UBYEE9x8LFhnnnnXfGRmvhJ8gibnOKNbMpmJu/aq6xKOrmn0WGA/9AWCT8boounMRhKW0dhtlAttiih/z73yXp3Xu13HbbSi+fAOuFqaxI0KMmYMaIpk6DrWBxDptxy+mjmfew4qND0gCgvgM/OUDf4sWLg//CN2vWrFnSh7x+OUo5AKCKZpsHOOYhc9hk91gnYB9h7dLkP+I+MSoK2ARYRFgCsGCXADC8D3Ozj0JOXJjGODa9uVlk4MA6+b//qw00PJcuXS3bbdcGAikmsAKgEKjmMyjJdxo0GFoCVQDZtKlt8I1NW6PJCbjkmT4LoJoxx1ikPQCBPurNfgW49A2EzW+HgaUkMeA+22pdeVYVABbUUyysbDyXX355rJgqtDVmgjDrFs6TqoBPsymYEhz83SVa9mc/+5mceuqpQZo6XYyRq8FEc9lll3kz+eRpdjYLgCgA2qb84Q8l+c532sRb5879SI47rsnmttRrEK9lU8zK0Ka+IHQBYA9wZ4IB/s14AAzDFisoAAB25kmXtqAOvjcdlzZijMKmpwUw8EzaDO3Ac845pz3HdF7twLwAMMzW08+maDYHOH4AYFFzOq8PYhKjQz3wDcTsy2EDsIgJlkA2H8UmJy7C7AcdVC+PPkqWEHRSGyXskcJaiFmYQAYAoC+TH9/Kmugj9Z22F8/EV1H9a9WMnbc9XUWVbd/Hczns0q5ZhKTj3uMjr3TaNwAAWQ99q1KkvbfSf18FgAX2EIsTyewPOOCAyFrAugHqAIpmVCanRzNPqgK+rNkUzJezMeJPhgD1BRdcIFOnTg0c6K+77rpg8hAAUnRx2eip68UX18vYsW25Rp98crl84xttp8G8BWdr2pz+8V1YsKIiNtWJ33TkZ2GG9XExifuuL2wG7y9HW9jW1XVc8FzaeMaMGfKTn/wkt3YgABB/I9wT0ooG4JimXJXWUaaeP13Y+rwA1EYHEOYHywQHD4AofsI+DhpIXnGoS8sljQJV79718vzzNbLVVq3y8MONsskmHVubNQw3EdZOmFHM1xzU8hTfmU+oCyAKn1TWWxhVTMOmGTtrfdEn5SDk2zc5/Fz1a6TejFMAbJa8yLQtY2qPPfbI+smp91UBYHQTVQFg6tAp3wX4bZ144oly5JFHBi9h4cIfQsEeCwSbAiWcOiuOBfBRWyKDjz322IAdmTt3bqCAz8SmPjabm486JD0DEwesm61q/F57rSe//nWt1Na2yrvvLpM6t0QgsVVh0cLvDtNVnqIRmyazBzCB5TGBHn+PMmGw2SHDk2XxzVNv817AMGPSxl3B1zvDzwEA0hdpICLq/QBYgkQA05Qs2oFxAFDlV+hf7WMNwDHBXlhax7WdYOfyzFEbAKjrlKZ1hHUGYOXNZOEiBPz22yJ77tkgb75Zkl69WmTx4tXSpUvH1oJRBAQBVJGrYa0gKjYrA+Rb+JrahrUUYVkBU/hXsr65Zj/RFmA98MUmmq3Kc+nrMMNuKyQdN56JNiYYEtKhXIU1Fh/2crrBlKvu5XxuFQD+N5rs9NNPD/zxGCT9+/cPpFGSFjVMAcgCmOXkk08OTLo2hQGJAChRt0x8TkGYXtVRlc2AiYUPEFGFnR26To5PTClECRMxySRlg/Fl8rFpo7hrEI0lossmOpoEJV/+cg9paSlJz57N8sQT+fX/tF4qTOsSbWfKc6hEB5sU/Wua7gEGtv4qrj6Redo+7l5fYDhP3ZASAYBmAYC8N692IPMDoMB4CGvtwdyaYM9nAI62Ge9nHbHNABFua1sAyH1s2LCBjFHYK5hfvjtr1hci+5GZsnXreOWVknzve/Xy4YclOfroZpk/v6lDKkaTUeRQjTsN4DhLvl6+17fuIc/kwIBsDyyqWRg7rC0cFgCBgEGX9d+1LW3nHM9lbAH6o0qakHTce3xHlEe9h7nNgdpX4Iptm1X6dVUAKBIkjsd/5oorrgjMBscff3wgM3LDDTfE9h8AkBPlpEmT2q/B3BDHwuB4zqKEIy0/RGqx8bNhAfAw4SFUC4uik70oYVnU6QcOHBgAUxgRvpPFk5O0L9mHPBPDRXLk1lvr5IQT2nJ3DhiwWi67zE8ACM8j8hDzFyA+btFhUTTBgCnPYbJ7MIlZTWmYZmyyI+Rp87R7Pw4AUL8REIV24MKFC4P/itMOhLE3tfbQHISxj9Pay9q/aW2vv4c5og6dAQBxT+HbAW2Mb/qfsY4Zl4OZ67cissw66GKqvf/+khxySL00N5dk0qQmOeec5vamimIUTdkY5ovLQQGQQvv60j2kokmR1IwtNRFrSjsb31ae6yOrRtSYe+CBB4L1P83VJE5IOm4cszcy58pJLlQBYHTrf+IBICwX8iewBxrRRnQgfnlM0LjMBgBAzKEXXXSR1fo8efLkwOmcQc4PgI97mdSqwxd+UJqyv9WLHS/CKfnAAw8M6sYGCKDF/4/Fk1O0L+V/x2p1uNwl4OCkk7rKLbe0pZQaO3aVjBjRmOfVHe7FXANjy6anWmymGZeNkY3QjMDOIs+RVmHXoJi052X5fSXoRPoW5g5rBzL2AYaYE+lnwDxF+xfGHrYJIOMKgLK0efgemDg2X0BZluLCABIQAthVn2DGPwdW1ggOwqypaUDBrCPggvXXNrJf7503r0bOOKNtft9442rp27fNvzeOrTL1+Myo5rT2om1hAeOyrKTdH/V7m9y61BeWkLUG5k2jsJPexwGesZrXLB9+B65AWIZsJJOihKQ5SEWVcqaY0/exTjO+0wTts/TjunzPJx4ALliwQM4+++xg4dTCQo5pg4jYvn37RvYvABC/JwY6zrZEELI52EwOfSAaZCyiBFtEFUAXLFPYRFCuAceChM4VUb9nnXVWAIr5N6ZufKsAXpiDiy628jhNTSJf+UoP+eCDUlDlBQs+ksMOyx8BrGCPhYsNH8YHMMD/h824rlpsWdo2SQA5y/Oy3JPFHJ7lPUn3+AKAKqkEyGMOzp8/X6655prAHQMz0jHHHCPDhw8PpDZg7BXs5TXB5m0PQAoRlVkDtVwAIOsSFgJ8Jc1i+oO5+LGRZxd2zQU06nvPOqtWLr20Trp1a5UHHlgtO+zQmsqCmf52NuZrG7Dm2n9YVDCj2/hVm1HYqsMXBWYYuwA1cqWrLqhrvaKu12wdrnmLTSFpzS4TFvAvZ4q5KgBM7v1PPACcNm2aXHvttcHJ1Sws7hMnTgzAUFSZN29e4PcCQ4g8wMiRIwN6fNGiRdbzjQhgTnaYnqMKi0NngS42OnSYOOGZrOZhhx0WsFw//elPA9M1C0vRxRZsPP54rfTpgxguicBL8otfLJfvfMctAlgDc8LMHv/PAgwgYBwos+fiq+OrHfMEP/iqQ5xkka/n2zyH4CA2R1Ow2OY+NtewsLIpqQQLDrAijzCbKyVKO7BoAAhTxJqRBQCqkLRNe3EN/c26ANMXVTgQwQrDgsOQs04msaJ5WCsOev361cuSJTXyhS+0yq9+1SgvvGAHKE3ztZn3NvxNLmDNtg1Z+zlAuvSXytzwJ64ngGyzXekT2nLvvff26u/GHMG0DCGQxc+TwxPfyxyhzqaQNAd6NXPbtp3rdQBY1ussdXd917p0/ccWAI4aNUpmzpyZ2BcsUAC2LAAw/GAmx/e///1gkNsGBSA+i69KnK8hPjZsapUAulioMDVyAizCvGW2d5rvnV47blyDXHTRmvDAP/3pPxJjhQhuCUdhKyhg8TDNuAACmD1cBLgmzIJ09gLgi/nKU2/bPsnzjrR7baLDAXamTyb9x+akmXFUay9KUilKO/Dggw8O1hm00fL64KV9X9rvAYB5xqOLgzyHMNoDX7q4wu+JdOVaLCpcG2fidTEvRr0PeRiCQl55pUb22KNFzjzzHtl9dzszqGmuJEoUUBuup+nzmNYPtr8HRMOYuqZWo76a3owDKGZhNa8qUOMw76L/mlZnX9k6mHt8tykkTQQ+86+cWaYAxozvKgDs2NMfWwCIAy0O0UkFmQA07rKYgMPPBayxaeA/aJvbEebvxhtvDKKPowrmYRz8KwF0sbAQxAIY9bmwpC08Ub+3zUqy007rySuv1AaP6NKFRZP8qG1PNMW0TXbPjMLWIA0zMMesT16fqyzfHnUPzCwCrbayOL7eaz4HnzBKXEBMOd4ZfmYYAGpKPJPdYyMDjITlV1w2hrB2IPN+9OjR8oMf/CDY2LIGYeRtI8yU1M0VUOh7XQAgh2cOgoCPtALIIWr4jTfeCIAyY8R8ly+z5auvlmTXXetl2bKSHHroH2TBgo2dXHIYL1pP3HpgBFU2JM7knfbtSb93acOo53Awpc9ZD4mepi/oE1x22IN8HtQZVxAAvrJ1mELSMHO0d145raS2pq0Yc0XvXXnGSznu/dgCQNvG0iAQNg+NQlqyZEmQFiopCCT8fBzG8Y8jQtXWCfumm24K/P+IgIsqLJwwhAhkumxQtt/ucp2mHMNEXLQjLeYYNvI48xPf9ac/leTb3+4hNTWtgQTMZps1y8MPv9FBUJtvUn1FM02erRk3r+6aS/snXesii+PrneHnwHyzyLJpFlF4N0wo/QiggGnQlHhhsOcCdJK+JawdiKkT38ABAwYU0QQBwOKbOwMAYrZjM3VJDUndYAMxpzNOOLQAUrL6l0U18qJFNXL00W1BIdddt1yOOMJd9JNoZlgqCASsOZj7AYBpjKdrpzN+GIt55wwMNgcwZGWIwCYYZ99993WtTuL1vlPh8TINyGEPhgEsl5Yp/cZPFQCu3cWfeABIkyADg6kCDT+VgSEiTU2zbPSYd4mGxc+PExe/I1IY6h0fQERkWdDC2oBJs+quu+4K2Ec2rqjTGoMWcIhAZlYBU1+rgNaF6DKfzsVZ6pdk6lIH/ksuQRpiY9lqq+Xy+uvd5Stf+ZdccUVbLkuT2ctzIixKpifcZkgKwf7FRaxnaWPXe8yIaNd7Xa9n42CTNoWVNSKXjYTIejXlllv4NUo7EBkpIvttNe1cvz/uepuDUdK7XIAx4IW2dWV8Vd6ETZ+DJIc4GFSCQHz5rZ1zTo3MmVMf5Ax+7LHV8rWvrckZ7NLWAEDqSZ0ZV9TTBfCmvYt9gwOorctQ2vOYD/SLugHAtvpiAWkLgh7Lka0DKxf7G1IwAFjGlM/9jv5jnjJe86z3ae2/Lv6+CgD/KwR92mmndRCCnjNnTnsYPSdr6GnAGNG/mP7QyWOycarFqZVo4TFjxjhlY0BZnSwgnIrjJiqAEjAajpwqYrBVSl1gZglagWnl9Gv6dPF3zNWTJ+8mv/71RtKnz4eyePEGss8+q2XRIn8agLQ/hwbGgsoHFdEnvNNFF7FcddS0hTYmQZc6aMR1uI+ZL6aOIoCPDYpDmO8UWDb1ZfMich7hdAogdMqUKXLUUUd524TT6gEAxG0kyS/PFwAkOI2DYFa/Ldh36qtZOmCvsgYYhL/po49Wy267rZSXXtpYevZskUcfXS3du6e1XvTvAQ7McdZovpe57qL0kPRWDm5I0fg0fQLUWA8AOgBs5qOPg0g5MqFo26hoN3scTCvmYdoEjVwfli9lAAGAttadbKNl3burCgAL7DMmKmZjGMY4AMjkIErMVR+rHJ9FXQBdLBxL4QAAIABJREFURaUc02hNNgtMErQZ/xdOk9fa2kO23noDaWwsyRlnrJI5c7rID3+4WubN8wsAK0UcGyYBjTAOIkUVfKcA41nBB/UO+2Wq7x7/HxWEE54zmMJhQYsAgNSfgwnBYJdcckkAGCjM7wsvvNArcxTXx3n6gLZ0ce3wxV7B5GJOBkADVojizrtJMw4XLXpczj13P/n739syhSxYkE/+CbCG2wlMM8AE//G84ATfXcSo+WZfRX3rsNRAXDAmOIzAXOYBrlg78DcshyRZWLPRVUg6re2qADC+haoAMG30lPH3nH5ZSBjwcdT0E088EfiI+DjF5f2Uzsw4AbALsz4arclGxd/VfBReiO+4o04GDuwmW23VIkccsVpmzOgiJ57YKBdeuCpvE3S4n9M2pk+f2QGyVNBFGDvL823uyWJ+pA/D8iv4vQLoTb+9uCCccL2K9oXUoCCAzE9+8hOZMWNGABoYr2eccYaMGDEi1yac1g95WFhXAMjhFQaW9StvgbUEBABQWAeZ13HpxmzepRGrPXr0kX33bQh8gK+9drUceaSbBJT5LmXrcPnBLJwn64k+F/kmzLT8+CrhvLq0Lf6BALg8wLUcQtj6zZj/ca0yiYWwkHQeJrMKAKsA0Nf88voczJgsKPi0xaVAqgSJD/1oBIfxV7FNSWTbWPhdmpG4Ks2BycU08/F3wF4a8zZ0aFe5/vp6GTq0MYj+vfDCLnLqqY0yfbpfAKgn1aKzo2D6hCHDWb2oAtvAphgXmGP2sfY1ADAqCCern06lAEANAoMxAfShDECJ0g702V+20fFR73QFgD7Nl4wb3GGIMGUc8R34tHLwzeILhlsO1goiYSdPrpWpU8nD3CpPPdUoW26ZrcVNtg5AoVlPWKOS5G2S3kZULaDMJqe5ba3jUtZhMQG4Ao7xsXP1D6RfWO/IcuOz0JYEXcZlGLERkk6rjwJA29zqac/7OP2+ygAW2Jtsijhes4HHme+K3tTM5rHRWUtrTtVhM9k9TqmmNIcGasSZpJIypLS0IEXSXd59t0buuGOF3HtvnVx2WYOcffYqGT/eXxo4vpNFFT/QXXfdNe2zy/r7SsjDa0agwuLRv9rHAD76OA7Q+2ocQAnmX58bqkvdomSBVDsQIMjmTDG1A12en3ZtnkhsVwDIuoRVAgCTtwDYUFHQyFVAClG4HPTwMQQ4u5iFGXdYTgCUiETvs0+9PPFEjfTq1SJLl66WOvfA4CBQj3GFj6kWU94G1wMAq0sgDd8MGHMVLk9qb8gE/PWi/JLDrJpL/vBy6CDyHbbC1UlC0mnjDz9OShUArt1SVQCYNnrK+HsGJr59UOBxzEkl+HdpE7hGmyoQMNk91WEzo3H5u4v/ETISgOYo4PXMMzWy997dgwjAP/1pmYwY0UWuvrpBzjtvlYwc6RcA8l2Ywji9FlmKzMPLAo5flGrQsVHD6OBwreytmnNd+jhLe7qOzyzvSLonKRVbnHbgKaecktuXTOuEqY9NPousiCsA9Om/ZgI2s301Cpf/A6zE5ZIN9wkHMw6rKDdQ/vQnkZ12apD//KckY8c2yXnnNTt3PdYPDulRkfaMd3w+OZgCWG39GJH4Yt33aVHBFYP1MYmpMwNw8EHEPzBN2SGraHVaQwPsCK60Fa6OEpJOOxywzzK+WZN8RUWnfde68vsqACywp1isoeLJRBLnXAvQwUzm46Sd91OTwKjJ+ijzA9hj0ikAUNDnckqOqnMS8JoypUHOP7+LHHroarnuupVy8sld5cYb62XSpFUyfLhfAMimXgnp8VicMY37kpOIGycspLA1pt8e/+bdCu7YAOnncsuvRNWxkgGg1hfGGK1A/L8oBHjNnj3bix+pqxg3c9Y8nAGwADlpGyr1BmBhpvUReEQdYNgUsJl9y5iD1eLbACv4gqWZhTFVPvfcc4GAvpYbbqiRE04gdWNbvuD/+R83aRj8n/F3TAowIpDFFHdOA3bh4Ie86zP3uzB1sPJE3aJmwP5C5G1cYEsW3Ueb71HzP+yvCzgzhaQBsLCocfcrAEwbNzb1/bhdUwWABfYoAJAFbfr06bEK65WQY1WbSMEoZhDAj2nGNVkf028vL9iL6p6kFHm77baePP98rVx22UcyYECTDBnSVRYurJcJE1bJWWf5BYB8M8yAudEUMZzKkYZN5VdMsEefs8iGhZVZWImAZeO1FUEvRzsVDQBtc/GyIZFbe+zYsQFbQ/GhHcg4ALxFSbPwTvpPtRP5U+cs/YkPKUDANggjyiSatU9pA/ouaR6ZYIWDDoAlDqjCHAK0wyk0jzuuTm6+uVa23LJVnn66UdZf377G+BTCrKaZaxWwYo4HUCdF3z7wwAOBqdanwkMWpo72B7jSxtQXU3cYTOWV/Ylr6STwn9Y7KiRNWzN+2UujFCq4jrFSxKE07RuK/n0VABbcAywAp59+uvTr1y+yJp0psBtVATXxMVHZ5GEN1HcxHKDRWRMMZhEfHzQZzYXqr38tyTe+0UNKpVZ57bXlsvHGrXLGGV3kmmsaZMyYVXLOOX4BYKWk6stj+qPPAXu0aTjqmv8Pa+1hKoo6aZvajEVNKVgfWCKfUZUu32ILAPWZMEaAwIULFwb/lVc7UA+LACRTKJu5C/gD3KlAtoJ4nbP0Kb/HhIh0CEwXYCDuAMfBh4Ogj7bm4IArBfM5rXAtbBTrEmZh+jtclIkLu2aQLxhT8JtvlmTw4GaZM8deGgZzLRlWbM3QZnYOmLUodm3p0qVCABngxVfJml7ODGzRvM1mYCJzC6DqU7OQb8ZsjmXJpu/j2og9CeYTN5QoIWkAIGO7HGSEr34r6jlVAFhUy//3vajfIyI9aNCgyJrkTe/k8nkK9kwgANuGeY8NA+Cn4qKdBfai6q95iVk0TBZgwYJ6GT68q+y0U7Pcf/+K4NazzuoiV13VICNHrpLzzvMLAOPq4dLmPq51if7UTClmgAZ/1xzIJruHLIeNOZBvIMCBjbeoPLjUYV0DgNr3BAOQSUi1AwEumIVtsk5ofwLyWCuYo2yILuCdepg+gOrTBtgiSAEzbxj0cwDD181H9hnXLBMqzszBR3Pgmhp3SaLFb504Ra5d2CBTZKzce2+j7LXXGlNw7bRpRCVI89ixa03LrOZajb5Vdg1gTVvSP/fdd1/AUqb537msEVkztOg7GDscAhhLZiQ2Jn/YT5+ahbxTTbnoZeYtjNsoIekqAIxv2SoAzDvqct5/yCGHBP4/sIBRJSqyMOcrg9tNk5BGbKo/VzhAQ51n8wjN+qizuUhF5Ug+4ohusnhxnYwbt0r+93/bwN7IkV3KFgVcKbmak/rF1FNUc66KZ5tgDxbCFuxF9WUl5EUuOiNKUorCtPFPnyAgPXPmzHbtwGHDhsn//u//dtAOVDkd05Sr2onMadgbGEBb7UStV1QQCEAKRgnmhGAF01SJhAlskA/RbUAA4Nc1mEpZNiRZlGWD6UELDxATJc8EyKubNEnGyiS5fssx8swzjQIBp//fNG6cNI8evVZ3IfBNrvgs5lrAHuL1gBOAKswl8w35E8zePg/TvvQZsQhQX8YAbcvhzhfgNxu3HALTYSFpgCzERZUBXHsVqgLAtJW5zL8/5phjAlPK6IhFh1f7yDerYM+U5gDssViGzbhJofJQ7Dxjm222KXOrJD+e7+FEThSwLp4rVohsuWUPWbmyJI8/vly22aYt9P+887rI3LkNMmwY6eH86gDCmpEej9NrkYuLijDjoxQWVoZ5YNMJ93NWrb24nmGDw4fMt06Yy0BblwGgfmdYOxD27dxzz5Xtttsu6FuV01FTrh7W6M880eCA/6gAAMY4BwzGGOsUjCCbKUERAE0217wlb5oxfNgwCwOOAVf8ycE5LrCuacI06T6jDQS+N2S0zNlkUgAK48Af34e5lufR3llL2FTJoclX+jutE/I8mKl9aYICphhXrPs8E1baJVgjra3KJTBtSt4wXishh31aWxTx+yoALKLVjXcOHTo0YF4IBIkqLI5sCjvuuKNVTTVS0zTjqv9PmNlz1UWqBD8vbQSkA1iQ1XyyeHGtHHHEerL55i3y0kvLpVRqu1Kjgk86qVFmz/YLAFlkqMcuu+ySGplo1XkOF7ExK6DnkMCJnf+jT8Ngr9zyK74OKg6fH3kpAJDNz9Rqy/tMl/vzMIBmhDVmQ8yD5CPHPEoBKEyaNCnYgOP6M48eZBwA1O/nwMjzGXPUAUBoExRh037h7BU294SvYS6yPsFacSgEECcJtL9x4nT5+sKJskoapIs0JoI/3kV/xIkVu9ZX25K+9ZX+TuvgMzhHn6nrHH/CLGcVvo5qJxvZGtf2Na9nTeRgykEqb+q+PPWo1HurALDgnhk1alTA8mH+iSrJosct7c7eCgY0UjMMAuKc910+3wcb6fK+pGth3jDJqAP18OFdZMGChvaUbw3489TWyuzuY2T06K5y+OGrZf78tlzADTNnBr4+jTGsq0sdAYCY8PPk2Ux7X9hcDxPEJgLrSD+zMMMuEIFbFBPJJg6jQZ8UVXAmxyesKABoy5Br0I2acXXuhiOsAWXkEb700kvbfTSxFMRpB5YTANKn1JvNFEYIlk3BS97+9mkGxJRORDHMFbItSTl7a9b7lNS3NEpjqUEa//1vqa+P/hL118Pn2JeUCP5quLGon62LzmFSe+ObCVPnWwyddY71BdCKf2BUsEWWcUCQI4dX5JDKVVg/OTRVAeDaLVwFgOUadZbPnTZtWqCphRZgVIENIAQfcyebvmnGNcGeye75AHtRdYGNhOWIUpm3/Fxvl5E6ioADTGGtrQjFdpe//a1Gbr11hey7b3MA8rpMnSpP/WCs7HzXJOndu0luu+2j9v9fdd550jhyZO76hIFo3geyWGkEp7K4JoNrmv7UN7NcfqIu3wIwgIGpAsC1XSQ057EJ+GAmwhHWgIEo81qUdiDAkPypZsmjGZrGAJrv4bCBCwbfgF8YZuE8m2tc+jKX8WdeC0BhPDKXaHuAKqZqs23V508ZwEf2mSA73zUq8pW22Spc6qvi12gfcnAACBEFTl3zBIWUI7sI30WyAg66jFkz2AKAjSRPVpcSfD/pp7hECC5tGnct/cfBOM8Y9VGPSnxGFQAW3Cswfz//+c9l0aJF7TUxNdg4ycKuqIN+2Iwbt2mU47M4/bFQsRAUXfBBYtFAquD552tkt926y3rrtcobbyyTrl3baqcgEF+fJTuNlkd6jw9AoS/wxztMIOraJiYTZJrs2ajC/ZwE6ishArcSDgdFZ81hI+fABgNp+mKGcx6r7p5L0E1YO5AxgnLA+PHjA9aTkicntAsA5F0cfPABZOwBCAAuGuHqOg84OMAC2rq5pD0fsyL9wAER31TkcZhPGnxhBnzM/8IY+cspM2SyjJP3ho2THjPXDgCB7USzz6e/HvVDRB4VCApjBPM1az2ACmCVBVS5ytWktSW/j8vXi3UKAEf74BYQBtk2z+ZwAzjLkr3G5vlcw9zhHVna0/Yd6+p1VQBo9NzUqVPl7rvvDuQkGDAq0prUuUwOFuErr7wyuB6m7rLLLgtOxTblmmuukQULFsihhx4qOPAeeOCB7WY9zJsAPBYFTvv4X/h0wLWpn3mNOgTj81Z0wdRBG+Pzdf75DTJlShc54IDVctNNbWZeLX8/dZZ89aeTpVEapEEavYI/3sGJm6CYtOhAxgkO/GGtPRYn+tlMm+YK6ishAMPVV7Uc46ezAaCpkUm/ckBiMzT9MDXS2hf7kKQdCADkfVmkOlwBoMqicAADvAEETJDl0r9J+WtdnqPXhrNh0CccXGHKd1y8WD5/6aXtPn9YD8gVvNdjUwMQGBUIwrzle8lW4QLak+oep3+nosxxzGVae2CqJWBoww03TLvU+vdJDCjrGocAwKv6B0aJMce9zFfUctzzqR9rrPqFWn/0J+TCKgA0Ohogx4LGiXT+/PlWABDZBgI4MOESLo+wKyZb/HHC/iIMRhYnTL78cAIkJRR+K6j3AyQGDx4c/Km+IZUiNUIzVUruW+qCszMnZYRg9957PXnmmVqZM2elDBq0usPUfe21knxj+40CR+/WhgZZ9s9/ep3ayGHAfoQXXBZwE+zRdirXYYI9V7mOqMpXgm8mUh4wL2GzpNfGTnkY84756yM9WfhVzN1wGjxM8wA77U+AAptlOf2ZtF5R2oH4BsJ6dQYABGgQ8a1iwSbIUgbLFvTCnAKed9hhBy/DBX1A5l9YrYD5uHzECGlsbpa6iRPbM168/HJJdtyxXkY1TZFjjmqUL109pkM9NF3Zfvvt56V+PCRJ+sYEVRwOYS5to49NU62vyrI/IYOTlK/XjHBGG5LDuY28DXsgpm9fUctR87YKAONHQhUARrQNrBz5OtMYQCYqg/3ss88O9LooUPtQ4Tzjhz/8YYenY4rAkZYf/Oj4YcOYMmVKkLooit0rMtI03DRsgACvPKrtvhYlFg6yENTUbCpf/Wp3aW0tyauvLpNNN+2Y47M0dab0mDm1PdrPp/mXbyEjAhseTsZhsx8gPqy1Vw4zRCX438FMcbgp0j0AAAgTmwUAmeMyzNZqv5riyuqLaUbSd6ZoO/UNawcCuE444YQgWtg1KMmVAYzTxaOtOPwChgEuSTlatc19R4KyzrKuRvmVmRkvaCOuAVyNGFErc+fWyTe+0SJPPYXg/ZoRAdDnoAcA8lWYs8yXJGsKoArmEoYUtwJIgrQgL6KVkaXiYOmrEKSByR8AnGaBAizT/qwHaSn7dP30lVEm6nvpb34Ao77YW1/tWgnPqQLAHAAQfSwGOVFn0O5aUHfn3xdffHGHpzMQNY2a/gJAxcRi84ibXEw+wKLPSZ1l8FVK6jPqrnlfH3zwizJ0aDfZfns0+dqyf2hRH8CpXSfKmJXj5K3BY2XzeVNymYFZlM1AHE7y9CtAIKzNZsuAZOkL855KML9Wgn9oVgAYFss22VozdVpaZpTOBoA6BsLagRxIZs2aFawrtsUVACYxTcpgAQRgCAGCSYCUdZQ55SuLDFHKFN4bV0zGCsZ4o422lu237y7vvVeS2bNXy9ChbTqilDz5auPej9sGwC5Oq9C8DwCKiR1yIS4zC9fDdCEu7TNamedqwIoLAGY9oM4AcfwD4w4CPvUko9q6CgCTV4AqAIxoH1sGkMGLzx+T2Qy7P+KIIwIwd/PNN6euv/hOkGOSE1PcCYVE5JiV0vzMUl+W8wLAK0EPe+yxR+ERVSr5MWrU1nLHHfUyatQqGT16Tao3BX8wftsvmigvv1wrixatkAN+Pc06ECQuNR6ncGX2VGPKR07UrN1TCebXJLmirN/leh8sepoPXBjAR4kra5CGK1tbFACkndjoCCibO3du4DNMIcvQjBkzrPL1ugJAmzy2AGvWN9ZHghpwkYlqU1gumCMsIz4KvpAcvmxS6QGuVOj4mWe+K+PGbSIbbtgqL77YKBtt1FYbfJ/xCydrh6/iGvhC/6rZmDYE3Grwj9aJsQ0wJ7LYp/YnljAO3K7fr9qMmOTjTNkErcDCYgYuR1EA6Kp5W466VOIzP/YAEJ09/PSSCgsAflxaOhMAAiCInsOPK47hI+CBKKnwhO/sARWVgaOz66Dva8t5+Sn53vd6yrJlJXnooeWyww5rTu2qA4jUi6aI+/GPV8qPfrQ6UgfQFOJV3z0zNZ5pyjV9WwjcAfz71t1yaddKYN8AgDA+SeK7Lt+U5VrGBOY89Scy+1QlWFQ/0WT2uMfHhgkABMiUU9IiqV1wqCdaHH9kW+1AfZ4rAIRp4vBrY5XQTB0AFIALfrtmifPZyzIGuMc1H67qG7700qty+um7yOuv95ChQ5tk9uzmoArML56JZcdXgbXl0O8qm8SYZpxhPqYdAbkqG4PfI76ZPoNV9PsB1Rz8sxSIA+oL48lBGRZTTdlhX9Isz0+6pwoAk1v0Yw8AOTWpmn5cU3A6NX0rbAGgqwk46v1sGCyinJTj8mpiJmZTg0YvunSG8LHNN+Jn9Nxzm8gpp2wln/tci7z66nKpqYm+c/ToLnLJJQ0ydGijzJixKmBLorT2VH7FNOWmnRxhBliIi2QAKwF8FR0hTp8CgGB+mMsAPtgdgI0ZdEPf2jin24zB8DVFA0DGImsEfsm22oH6DbBKLoyna2YM+ocoXNY5IvdNvbskn70s/YB1gDUV9xyXAkC94YZ/yODBW0ldXYv8+tcr5Otfrw+YN+qIb52volI1puuQy7Nxx6EtIRBUiw8AiIXGxfRv805cTGBp86o/cPiiHVmv6Bv2NOR1ODSqoL9NfVyuATBT0tZxl2d+nK792APALJ1lCwA1CIQAEAJBKGw8LMJRQSBRdWGA4h+DOTlOOqYSWCatO5Q90X+2UWlZ2t/mHhaS2bO/JDfeuIkce2yjXHJJdJo3+mjePJERIz4lu+32oUyZ8lzg08L/s+iYYM9VfoV6drb0SFTbFA2+qBMsDywBrFBnlChxZTZwwB2AXEFflj7NWn/NyVwUA6h+sQBACmvLddddJ+PGjQv6hwPO8ccfH8hWhaPWXQAgcwcACCPmKlpMvzF3AS4aJACQ4ZlJPnsufQIQxl0Gk3OW0qdPjTz0UL3stddfZd68jwJ2mMN+XgBk1sWX2VvnPiwbgAo21cVXz6Z9MOED3n0FeMF8qgA0B/Es48im3joHGPe+MrjYvnddua4KAI2egqLmdHLHHXcETtScpihEX+kJhZMrsi99+/YNfod5GT8bUwYGUBAlAxM1KFj4AIw/+9nPYs0BlQAytO62unflngC///0f5JBDvil//WsXueGGj+QHP2gKXmkCAw3WePbZT8vYsbvIFluslKVL3wzAgQ/5Fd5n43dW7rbAOZx6dBb4ivoezVjjkyXR97C5qVleTbn4l9GHJoBn/jJPCYIoohQNAOMOimy4Y8aMkRtuuCFoFvyt0DxFpUADz1wAoI9gA9ZZ1kjWP/qRHxufPZt+pR1gGbNKizz7bEl22aVBSqVWufTSX8lWWy0L2FGfYxsQzIEF/++8RYNuNOiCdcAnowb4A7D7zADFGMIMTjvg2uQidePSXrynCgDjW6wKAI22QVk/KiUbZk+VPmEwXX311YEKP4XJx4l63rx5wSmbRQL/G1tlc+7nJEzEcJy8Sp4UTy6TxeZaU4DZ5vpyXbN06V+lf///Jw0NrfLwwy9Jc/OHAfuqwMA0+/3rXz1km202kNraVvn735dJly7+asUmBstUFOjgSypBn5E6cFDJu0ma4soqvwJLYBNlXfQ8qQQACPsX50pCMNmZZ54ZbLqU3XffPcg1zFrlAgB9pUZjcwa0Ux/mEJlAfDA1aKxyqM4jBzRwYJ3cemut9OnTLOPGPSWYQXHzAKSmSbHYrC42kco2zzGvAaQRCU+7EtkMceHDt9W3TI/WWQW2AeqATFupG5d2oS1wAymX24dLXSrx2ioArIBeQf5g5MiRctBBB0XWhgUS3yZXn5ZyfJopwFyO58c9U6M3FRTMm/dpueaab8h3v/tPmTv3j+0mP06+YfkV1P633LKHfPBBSR55ZLlst92aYJG838BCzuKCH05RBV83WI+sTto+6g1Dh+kNUGFbTHFl7VcVVzaDbvi7zaZbNBgvGgCqNmYcAKRfwtqBAIRhw4YJwXK2rJHvaFPGDf0OIAC0ANzyaLYhrg8QBlBkLX/4Q0m2265emptLcuONb8lmm70RgCn8yVWKJU8dy5ECDZCKCZj9hHWJOQW4px3S9PuS2smXuTr8DlNfkb+zz2HS9jEG9F0AQA43NutH1rGyLt9XBYAV0HtsmgMGDAh+ogoTUPWUiq4uQCOJZfBRvzgWCKClwOC447aU3/xmfbnggpUyeHDH7B9RdTjooG7y8MN18pOffCTHHNNmLvZRWLRYYFi0iio4V8N6+IxSdP2WNBCq4spqwlXzPO8x8x7Tv1kdtgGA+KRl9f1y/ebw9QBAFUDO+6ws9zMGYH4Qok8rBKyMGDEi8OWjwGBfdNFF0qdPn7RbAy1Tn7lxNWgDzUD6EGCFH2XWdGZYKQCR6guZ+kExFwwZUidXX43pd7nMmvVC4PtMQAjgijmfp45ZA1WSvgUlCcyqaAsy3wCEmIUBrphYs7an7yAd/QYsZuwnmg+Z/1epG/6Ou1U4Yty1L6sAMLnFqgDQdUSV4foDDjgg0FgilVNUKTq60KwTkZb4EPmKemWCAh7MtGkqvxLHAr3/vshWW/WQlpaSvPDCMvnSlzpm/4hqQ40EHjy4US64IDpgJEvXcuJmsbU1+Wd5R9o9mEjJSOKq05X2XJff04cwUApCYZpMsKfiyhp4oyZ6n/mtiwaABArgg+ormMGl/bkWAAjwsVULYNzeddddcs455wT5XCn4NuP/nMSe2aQGc6m7GbTBegCQpi1hMrOYXAmog5FPYkJt6vf66yLbbtsQsIALFrwkRx/ddsgzpVgA28x9V9M1ATsAXp+HlShtQQ7T7B+0J+OC9nStK/MKwOvLR1PbHjY1Sl5GXQOQjiGYByBoy06H+5XvBwD7MIXbjJl17ZoqAKyAHsMZm0WEE3lUwT8CatyXUGqeT86abYF3qsnPdOgHOLC4KCDQP2H74swWt9xSJyedBNOzTH7723Twx7tvuqlOBg/uJr16Ncl9932Upwk63MsiBSNi6kh6e7jlg0jVRKoqAGAeU4/l69a6DJOgntw5sau4Mn5dpi8mi7iL1IhrfT7pADCrXBTzcdq0aXL55ZcHlgb6icjhoUOHRgq+q++WL705wBDslOlHy5iGaWPdS8p+ETVGCFTjHlsgnDTOTjyxThYurJXdd/+XLF3arcOltAMMG2MfCwC+bLZmYQ5LzJU8forheiflVKauMHmwgiobYzsXy8FWUve0dHgcNLB+AWyz+jRWAWDyKloFgK67TBmuHzx4cBAFRw7PqAK1j7o/Joiii+0mC9hjETfz47LRUMJgD7OdC3A5/viuctuLliXUAAAgAElEQVRt9XL00W/K5Zd/xqpJXn65RnbemWhD9MiWSV2d1W2pFxXt90UFYZ3Y9Agist2AUj8s5oIwY0v/qrgyCzabizK3nX3qLtofs2gGEN83GKU0s5lGyhO5rfNT3S7mzJkjPIfCgZPMImH5D5fcsDbjLAkMAVjoV8YSEbM22ZBQb4CF9ZFd4ve/b/MFxNrw5JON8u1vr33ghMmijqx5mIWJQE4rPvwUw+9g/NGfSdqCRF9TV/pbTaxpa28UQE/7PpvfwzoD7tLkZdg3ANp8G0AbMGi7zrFeMXY6Ky2nzXdX0jVVAFgBvYGGIP4Q+OBElUrI9ar1ivJ5Y+HTTcU05SqbYJpys5r8cMp+440a2XbbFtlpp+7yr3+V5KKLnpYTTliTwSWpK9ED/dKXesiHH5bk4YeXy/bb+wkE4dQNi+lDziHrUAR4EeGJ+dX2VG/zrjjB7ChxZRZafK+KNENXAeBTAQA3gY8ZPKUmeeaqKaGj4tiwLaw1uHnMnj07YN8AByeeeKJMnjy53YcMlwOfgsMwl5hr2dijCusI4IbDVjiTRNT15E4ndaavzEmHHrpCFi/eUPr1a5Ybboj2H1azJS4h4QwdUXVkrsAY+swgxLth+vj2pKKi3FxvY2LFtQBTd1z/2KwlUdcQAQ57apMNxUyFx/oDeLUB+IwdAkCqADC6l6oAMOvo9XgfzB9RYfPnz498aiXkWdWKsUkAODCvmOweGw2bisnuYUqyPamlNefkyQ0ya1YX6d27SZYurZMNN2yWhQsfkN1265V2a/vv+/fvFtw7c+ZKGTIkPXDE5sGY5wHvaYuuzbOyXkPbI9CdN0dzlLgyG5spmA1YiGJs2XjwvTIdurN+T9b7KgEAMjeKcgcAVACQmHNm6jsNnjI1E8MbosrAsCHD8sPqkstc85kDatA7Pfroo4MsOjDOmIB9FNgw6p3mV0yd6GOYS/zRuD6KvfKdXuznP39Njjyyp9TUtMpLLzVKkr60maFDha6j1kCfZmrtAxVXthUix3UFEAgLhyma+kax9r6CasJjxYaxDN+jQJt9CLcB5lpSOsIqA5g8Q6sA0McKlvMZaHGRXF0X2/Djyimym1Z1U4QXdg8wyqmqs/27+vXrJvffXyd77tkkDz1UJ/37L5eTTnrUSfz4ggsaZNKkLtK372q59tqVaZ9u9XsWT0xASC8UVegPWA+iyW3NrjbiygAGW8FsNUMX5YdI27MBctovSpKHDa2zAGA4qhrAxzoB2IDVMXMd22igmTqAJuOGn9YFF1zQrh3IIQPxe8SlfWWccAEYmreXviaYAbDDt5qFCGVEi23MxTZzFr/nYcP+nzz+eA85/fQmmTWrLUdwUoE9BUjTllH5jzmwUXcbFivtXfr7rMEarOsAaywZ+KKHgXU5wCp1JgMM82Wbbbax/cT267gP8IoZOQ68ah5g1gSflhHnylbwDVUAWAGdA/NH6rh77rknsjadJfPBYmWacNlU8PdhoVVmj3+z2Xcm4EHH7ytf6S7//GeNbLFFs7z1Vq1cdtn7ssUWv3LSvvvlL2vlgAPWk003bZFXXlkupVL+zidNEptkkf6ZnHIfeuihAAxHbfZhWR2zX02gEKWhaNtCnemHGFcnlbwoSi+znAFBAHZl9fRPZd0BOsxPoj1hxmx80MJtCCMYZqoABIAKGG5cDPAHZP5zyOjXr18QNOKaCi6q7whgwnfRJWqXb6e9ccHANEnQh7KaHKaRQvGVrpIo5eef31QGD/6i9OjRKq+91igbbJA+M5iXWAgAKpijYas4OFOYr6yhWaVZot5OsAbPzyJJZQJr1hBAK1HKFMAqLi5ZxlVSKwE6YXDzMOYKXvkzHCzEN9EHfE8VAEb3RBUAps/jsl9BGjhSM2nqufAL1bzmk11RZ35TqkOd+U2fPRZRU0STExdmoqxJzLM05l/+UpKePYkgbQ0kGerqWuV3v3tXXnnlydjsKVHvWbFCZIstesjq1SV59tllsvXWdhHESXUmOIc2sfFjyfLtNvew0GH2IlcpfYWJzgQLpqyOaQb0KY5aLj9Em+/Xa4oWTPcFAM25CavH5hbOhgLoC0dVA6QAgFl836IAIO3K2CIIDXANILzqqqtkyZIlQZMD2vBb3m+//Vy6aa1rYZgALTb6heGbFaQyxvl2fOqoHxlpkkyDLhVGq27DDT8j/fp9VQgmmzmzSYYNS2cB9R3MDdgu2pE24wcA6JOl5F15cyDzDA6L+FryoxI3jCsOuAoIXdou6VqYVQ4QWQCr+VzVPFT/dAAlYFUZQACgL1ckX99eKc+pAsAK6AnEWE899dRAFDPKpyWvjxcbCgukye6p/EpYay/NXFQE4LnzzjoZMKBbwNy9/TbRvE2y006YDn4pP/zh/zhFEB94YDd59NE6awHptOFRZICOaQZETwuwTj8zhkz5Ff6eVVw57fv19zBUHGB8B6LYvp/r1kUAaEbLm4cxGAuTnbXJhoIPZlbB3zgAaPYvIIbDDu2sZmB+DxuIdmCaD19cX8IuAt7Sopfj7leQSr0AfbipMA59sJO8U1PL3X//ljJ0aL1ssUWrvPxyo7OSAEwqjCpzBca8V69e3lhK6ulTWgaml/bksM/+QV3DpnaXuRl1rW8tRM0vjH8gpnXM2YyBKgCM76kqAMw7ij3czwnr0EMPDUwFUQBQGZ44E1/4NARbYII9/m6CAgUHWUABCwKnw5122snDl9s9YtKkBrnggi7y+c+3yN//XiPf+15TkNXj299+Rx56yM2/Y/bsBpkwoYvsv3+T3Hxzfj1AfKFgftKkDOy+NPkqU1xZA3A4HMAE0ccaAZo10jpPHfMeUvK8W+8tOisL44B2SBLMDfch/QjrYgL2uECbtDYCAOJXloWpSQOA+m5ADKZGQBasM4ygRvuTE33IkCHOEZe+/OFoe0Aq0aX4hQEAfER/apDKZz6zmWy9dYO8915JFi1aLQcc4K4koBG4AEHMv/i/+WIqbYNp0saR+Xv8m4nSBkgxtrKC9Kh3pkV/u9TTvBZwzV6Kew5sIC4hVQYwujWrADDrKPN4H+wNidBh1+I0mXDyx2RgLhbKAJnCyvyd/w9nXMA3JE3vyeaTiohI1gAQovDQ4/r0p1sDGZhRo56SESPcEp4/91yN7LFH98CX5403lklDg81Xx19TrvaIk++gH00zrpoB2UR32GGHzIr5+VqhzXTkGoiS953h+ysNAJo+tcru4c5h9iF96StaHlMqgCJL8IMtAKTNAQWYG2Fc+K6LL764XTsQvzZ8BV0OiD5lWzRPMW0AEAAAYMrMs/aZki2jRtXKRRfVyYEHNsttt2VLKUm7YaYmVR1rPgLYHN7ygtUsvpRpc5AxjE8lYJqDP4eLtMjbtGfq78shhWO+G/cJCqA1T//bfs+6eF0VAFZAr6nSOWxSnF8WZhImHuDOZPfUETystVeuEw+TCska2MjOKASAbLVVd3nvvZrgdZ/9bIu8806NbL55i1x88V2y++69nFIboQe49dZtASX33LNCdtvN3pcn6nvVrIP/XdYS549p5j5W0Be3SWB+xS/Tl+O767coAMT3yqdvoUs9YH8Y93l9ilzeqdcyL/GTw3QGwFOBbPpLgzT0T9tIbdd6sEYgR1RuAMg6BYPFoVUzYYS1A0866aRA2N4myAEmkbFrc21am2iaun322ScAVxwKaA9M41mZNphVWCSAJMLQ3/pWQyAJ8/vfN8rmm6fVaO3fm7mUVdqGg0FesJrXlB71JYBo+gfJH/YazcyBhiFtkge0Ul+ApY+MLVF1Z12lZLF0uffqunlHFQBWQL+xWbBIccLSSCuN+lOwx6mbTSZKa68zI5zwHcRXETmIzihvvVWSb36zh5RKrdLaWpLPfa5F/vGPGhk7dpXsuOOSgGnQyDrb+px0Ule55ZZ6OfPMVTJxYqPtbZHX0XeYxAA+NsUUV1YzLn2sPl+mKTDNH9N8X57N36beadekRSKn3e/j9wBATvpEA5a7mJqJGqihmmMABQXsnbn5MAbI3pHFV8uFAcQNBGClY16zdYS1A9nY0Q486qijEhmYBx98MAiiygJcw/2saeoITGEsmHIhBF/AtLmulxyuNGsG7+vdu14efZQ1qEnOO8/9AGmCKg4srAmYK2lT5j9gNUvuW59Mqrarin4DAJVFY90igpffAeBgMrMwbATCMF6zBC3ZzO8qAExvpSoADLUR0bh33313YOKAyYDhSSuDBg2Sa6+9tsNlLECLFy9OuzX4Pe9g0zr88MMDHxYWqQMPPDDwu1BAgPO1q1SC1csdL4Lh6MyMDxoAohHAVLe+Hifs5fLKKw9nMnvedludHH98N/nKV1rk2WfzycEA3nBmjgLEZoYUUzSb/6dfTbDnmg4v3G15/L8ch0Dk5S5+qj7eF/WMcgFA22waME5sOkk+gOX6dp6bhwV2AYAAPnysTCsADDA+kEjRhLUDCcggxVxcu9x///2BD60P9hpQgjtEnz59OjQ1IB1XGw7Wrr5sYWB10001MmhQvWy+eau8+mqj1Na69WpcJhXqBsOGdAw+jDDZLgybTyCtX8T69uSTTwqMqlmY78qwclClTV0BPHqNsMhZDiw2Lc5cBJhyCKuW6BaoAsBQu+DIjJ8DZln0+WwBIIve1Vdf3f40JkWcSYOoMjZs/sQRlpMfZiF8/DgJM9k4XZumIlg3JA58pg7KMilU7qMz8s5SPw0AUeCHhMvhh6+W+fNXBtpkWUxepCTeaqsesmpVSZ54Yrn07OnuzK1tB+tBH9IeplabMre0F6d5E+zZiiu79E8eCRCX9yRdywZEtKCv6EvXegFKKHkYQI2YD8vo2GTTYPPmfliRIgrAB7mOLEDKBQCy1gH2otweGPeYhwFcAFL8AWHlWMvOOussGTVq1FrjAx8zxk0W1ivczlgoWFujspSYKdBYm2HabMZqOLPIypXokrYFg9x5Z6P07u0mJ0UbcYiOE9LWNgQoqrSNDcPmsx21XRG0hgyJS/FoioazNzH2bS0XqF/4lOsJjwXmIgyrbX2KmLNFv7MKAGN6AGHm4cOHWwNAgOLtt99u1Z9HHnlk4MfH6YcfQB+mzHnz5sWaEjEzQpVvnsXpxKpWdhdptKdL1gm7J0df1bdvN3nggbrglxoEsnTpctl55xYB9GCayeI7dOSR3eTee+vk3HNXybnnupuB1cGfIBBYDzYSFc025TvYjF1NTlnaiw0F4ONbrNWlLmyUCPDabKouz7W9FgDIJm8LwKKyaWjEfFiCxWYTqQQAmDUQyAUAwvzgrgJoiypq0sQ/EBDDugY4QegZX8EwUwQQYD1xdeWIenccY2Vey6GMQzffgbUFy0qSz3QUUzVsWJ1ccUWtDBjQLPPnuwWDAI6RbElKm2hK29AuMGxJwJ7raUcsET7aUdsLf0/MvfRPUqGfaVNclfANxEcwqU01EAZgaTO3bNcA87oqAExvtSoA9AQAAX+YjAEjTOwpU6Y4bcYorcM+7r///pE1wnwBc0TEWJHFFB0uN7UeDgDhu7/1rWZ59NEVQRYPTBMsNlnSKS1cWCdDhnSTb36zWX71qxWJTRrWUTQd/GEtOCXDRMIcl8vBP63PkYBQGZi0a8v1e3x6svhk+qpPGgC0yaYBOMkaMV80AIxSCrBtWxcAiL8aUiuA/aSiAshcT5o8fMUOPvjgDrcocPGl22cDrrQCmq6N+Q3Aijs8RTFrjz9ekr33bgjUBN56q1G6dbNtaQkkdDjQYzVIK+GMJ5iFo9YYjdZl7/EZhJXE9kbVHQAIYKRfTb/J8LUarAMLWq4DMv3Ks322R1p/rWu/rwJADwDwpptuCjYNTpKYRkaPHh2YM2CobAc3i+mPfvQjOeKIIyJrVLTIrVkpNnqYy6xRdbaT5M9/Lsk22/T47+WYWUoyd+5KOe641cH/YULHVyZLFNn77xMN3EOamjpmBTGFec1o67C4MgwRJ1cW6KIFkGkLzNCcurO0hW1/pF3XWeMirh4mAAtHVgPaw9k0NHLedo6mfX8aAE27P+/v87S/CwDEHxkXGVvtS4AWB1jmFgdd1o5zzjlHTj755MBkjiQK6+chhxwSmBsZx1kL74JltAFXvIP3A2bpO+RCAC3mwTaKWaudPFlaa2vlq9dOkDffLMnChaulf/82N5LaadPQRJLmsWNjP8GWVTMfgGkbYMWaFJWv14x+dvEbTGtnwDs+ibZ9bbYp8zGcAk/fp76aGqyTVo8svwcU0xZVABjfep8IAIjfCcr1SYXJZeYkdDEBh5/LaRdmCufm73//+1ZjF58V2D/kE6IKk4kBXZSDuVknAA96X+Vy3tV33XFHnQwcuOZojf7fK68sk/+m0wyikfP4RR56aDd58ME6GT78Axk06M/t6dNU2NY0A8axQpWgf6dgmJyoWdJpWQ1Qi4tgoHBn8OHLZfG69ksUtLOJE2GJ6cmMrDb7sZybQSUAwKwMLKySjZ8ZjQ74I60ZQM62mFkaZs+eHbCB+FgzfwCAkydPDnyfkY7JU2CgAJuuKgX4KXLIJsAFlk1NmFGmSkBe3aRJct+uE6TPY+Pl4IOb5ZZbmgLwx/83jRsnzaNHx36GK6umD2Kccy+m9XDgBe4nzD/fgApwTNR3llSXJgMc1jq0MdXnGQfcy9hiXBdllclb/864/xMBABnALAxJBfOZuTnkAYC8h9MkZmBOuTalf//+Aag688wzIy/Hz4xTE6aKokuelFMudTcDQLjvtNMaZdq0Ve2PgC2gnW1TUIWjOW+/vbvMmvVt+cIXVshtt70gG2zwqQDUugjzVoL8CQ0CGGZTxc+qqJInCMGlznHZNHSxZ/POmk3DpR7ha4sGgHl8MF0AIIwQQISgNdcCUBkzZozcddddwQGZA8vYsWMFKwrALe/hISxR41o/9gmCWADDsJX43elB3gQSCvbGyiQ5v2GM/HPYBFl/Vjr4oz6A5zfffDPVhB5XdzPwgrUP31/mRFzwi2sbmNfj64lZPU/ud+6HYKHvNagFn3kXpjbLN6gsk09GNEs9KvmeTwQAzNIBeQAgJ2RMk/gFhn1e4upy/PHHB75s48aNi7yERRfzBrpJRZc8vncudT/ooG5Byjctv/nNMvnKV9ZE3JFMHL87mK9wiTMBmtGcdXUbyI47bi7LlpXkvvtWSK9e7ppevDfPxuvSHknXIkXDZgoILKrkkSFJ2uzMTDeYcuOyabBZpaViK2fb+IhCzlO/PFHYLgAwDyvE9xG9j8XjtttuC5isY445JmAATzjhhDyfH9yblV0zX8zawYEbdx4OmASLRPmqKQhcJQ3SRRpTmT99RxYGNaphUCCADQRMsQbSL2G5lrwNiuUJ4IaPc55iBrUQJIblhj3NVj81y7urADC91aoAMNRGTCKcdO+4444gwTmbGgWzgJ5OMRVPnz5d+vbtK/hmTJw4UWDwYF9YNPBvYdMCoNhGOJ1xxhnBKY53RhVOjSxEyDwUXfC9K7e5kQCQzTcnx20p+Nx99mmSRYs65u7VwBgYH9hRU7qDflFxZTN1Wrg/hgzpKgsX1stxxzXK3Llr2EWXNs7je+XynqRrXdlQX+81n5NHiJjnqEi2CivzJ5ucmU1D+zLKrGOTi7cc363PLBIA5g3OcgGAgCPWSCKOsxTmKr6qsIC33nqrEGULGPSRu5d1kvrFRSi71BfgwxqDzx6SMRzqw2by2u6fkrrmRlld0yAtK/5t9XjYP56Zxawa9QLM1tST/QNfvSy5oOMqDsDUIBmrj0u5iAMaLlIc1pjXRBeXyy0DppRnVxnA+E6pAsBQ20SJOnMJLI86FrMIoPnHtSwShx56aCAGzEkMBobTLSdaF38szCJMissvvzyyt5jkLBwufjc+JmzUMzqDbeoYACJy880rZP/9mwOQoFkYaC8mOdGdKq5spsSzEVd+9NFaOfBA8uu2yh/+sMwpmk/bprNMn0n9WQkyQa66jGY2DQXvZj+6ZtMAADIWTF/ecs2BqOdWAgBEnNn20Gl+gwsAZN6x1uU5jBL0Rl0XLFgQBM0BBGB2AVou62a4H1wDVNLGBwcQxjVrCUACFxwFWGEGcNV540TGxvv+6bt8mFXD9WZ/gHAArEFEuOjxJbUBwJKxYSutlNae+nsVDWe+Q64Arn2nL6UtAIC+grxsv21duq4KACukt84///xgoVm4cGFkjThxk+kgTXqhMz4HsIHcTZTp1df7b7+9To49ti0AZOONm2TJkt/J8uX/DphVNnkikFk82OwIuMkqrky6yG99q7v8+c81ctVVH8kRR7hpelE/V+Djq43M57D4I2HCQlpUeeyxxwK/qSgGwjabRtZ+5JuLBoDlykRi0595fVFdooBhcJiH+CxnLVg8rrzyyiDw7ZRTTglMrIA3AjFcRJrD7/dlXtXnarACenUAN34wX27zf/8nXaZOldVjx8nmV0yQwe9MkckyzsoMjFkVFtSnO4+avvHVUz0+fANZo/MAK9Z65iRrrM8CS4tLE/XDPxBShYNbFkmvqHqxNzAn2B+qADC+56oA0OeozvEsmL9bbrlFfv7zn0c+BXMYm3w5fSZsq18uTUIVV4YNGjlyE7n77s8GVRo06Pdy8snvB479mkKNSe0rMnr69AaZPr2L9OrVJPfd19HMbNMmnRUUk1SXF198MWibPBIaNt+adI22A0AU5iRLNo08dQCYwCrCIhVRigSAGo3O+pDFpOYCAAHa9G8eAAP4O/vsswMXG9grzYphijQDOogedQEwef0Tw+MmrCsIcPvPOefIF6+6St4fPlzWmz5dhgypl2uuqZU7dpooBz01IRUEMk44xHJY8lXCci0EwwCsWCeZD1nz7WLtAZD71p81QbBK8fB/aDESKJJXzLoKAO1GVhUA2rVT2a+68cYbBXkEHLmjCgsuvncIphZd8AthkyFyOmsJp9zipM03Ym4A6PXrt6O8806DlEqt8vrry2WjjdZOt8RpXM1GWevBfW+/TcRf90AT8LHHlsu227qlhiMLByaSrItsnrrrvUQusmj6XqjT6mZm04B54MSNW4TqJgIG1ZSbxTSZ9n7z95UAAAErmLQ6u7jKEYVFsak3G69NFK6PwADcZDAhn3feeYGGZVguC4sHY5oCULLN9qPMUh7ztNl3UbqC6AAu++gjeXLffQPNwD//eTs59tgN5EtfapU/HjchVQcQYEbxeVCJisw2g1kwq7NGuYr30zcwnr4zULFWMGZNVQsOb7hRAGbR1OUnq/8e65JaiFwOEJ09b4t+XxUAFt0D/33/nXfeKSNGjAgWw6gC0IFhwRRhq9dVrk9z9XVKElc2ffZUXBnB509/uoe0tiIE3SSPPx7NyuETCXDcZpttcn/qoEFdZdGiehk0qFHmzHELBqmELBxsKgCsPKDcphEBDrS5GaiBeRczEWNUdRn5d2eP008yAExK0aiHLfpMWVlTFBuQzuaL+ZTxw0/Spql6i67zjnrATKGwQHo42CX+jz+jcs2aAEbzzKaxm4wBvjGPbIk5DwjWAIhG6QpqQMPLL78lAwbsHxwgX355lXz5y8kzqRx+dUnAl3nJoZ22NzUObeY7h1usCr5z0NMGgLsoXVuVjaHe/B6fRte1pAoAbXpXpAoA7dqp7FcRSHDUUUe1+0OEX8jGi7mEhSjrqcjXR6T5WpnO/SrhwWkPE6UJ+OLElZ97riR77NGWAUSDP6Lq7lMa5/HHa6VPn/WkW7c2sekNN7RvrUrIwsECD3vq01fHNZsG8kBsMEXlI/bFCNv3fMcrMe0VxQCa6wPARIGeAnU2UGVilZU1wRRjh3twJaDfYd3iGO0o9samzRAq7tOnT7CpAwARrbbJ3AFY5YBD4An3on0XBwh8+9dhngbwErASV1Ac2HPPennxxU/JjBnvyrBh6ycClnL41dmY5c00bUmp78zvxK8XX0LfGYbQAIRtjluvNJ80c4p9ArbUJfFAFQDazMgqALRrpU64ChkPwB2n8KjFTWUeskb5+fwETpuYa9kkzM1GwR4AEAZIAZ+ruDJ1fe01kQsv7CKXXBLPxmEqYIH2cdpHdmaXXdaTl16qlWnTVsppp7Wlm7MpJHZnUypShDkv+DBZWgUPrtk0OksfMq5PAICYn4sSS8/bBzZjLXwNByv6CyDFvATU4UfH5moCvrT8xhoFbGbsYDwDuMKsG4cNxosPEyagBNCZ5trC+5jrAEEiculj1pdwoQ/4fld2Mq7tkd5iXKXJyowfXyszZ9bJ3nv/VSZMeD2oX5w5nbUeEI6J01ex9Ss0/e0IuKB/ac+4AminLX0f6hCu55lpPstmLmQVvU5jgfkWBYCYvF3ZQ199si48p8oAVkgvYbqAPcH3JS5qqWi9OWWEML2y6VBPTuemuLIyfJ3BUrI4EznoS0/r6qvrZdiwrrLllpillkttrd3g6AxZnLSauGahiMumYYJ212wamMLZ1BDPLaIUDQBhxpgT5fIBNHUSFaSr3yz9BpgiMhdw4Tr/wjIwAGlMn7BuRGcib6UbqRm1mbefXfPiAghg+Qj2ADzQ1uZ66Vu3zjYX7oMPluSAAxrkC19okbvuel7+8pe3gvrBcIX7ggMjc8RnxL6rXyGHdMYr0cOY/Jm3UWZ/fNJZXxlTPgtrBWPK1rfQFL2mz9Oim9mrKFUAmNxrVQDoc1TneBaLNycyzJpxky2v0K5L9dhsmHRmFgZMHZpcG+YBp2JAgs2JzOXdttfi0wLr4UsbcflykZ49e8gHH6Dz+JH0728nCYM5g9Os7WJm+30u1yVFRNNX9J3pAxaXTSOPw3TRpvCi0yX6BoAK0s1+M3US1ZTLAYxrMdehVZqlD6N0ADX3LOACNgtWC2YfYAjo8pGXHFYP9spV3QAArOLHMJFqoqRufL8vLUhbWZmPPhL53OdgX0vywguN8vnP/ztoJ4A0dSEIQwG0K/ixWQdgUVmHXfX6YI6pJ2sE7Rg+vDsjjMoAACAASURBVC1dujRgP22Cg2zqqdfgzw7wdLWaaHQzfUx945hJACDtzdyoMoDxPVMFgC6jtozX4sPDBGYyxgGJX/3qV8Gi6zvaVCM5TbDH3+NEeVm0AapZcoH6bEJAM8AH9XtfZdq0Bpkxo4tsu22z/PKXK6TUlogksSSlpEu719fvYZABAYyPqKwoAHc1CSZl08hTH6LUYTV8+wvZ1sl0TbC9x+d1AEDaOYsfJhuWOf8AfWGQDuCL00mE0QEAZg0SSxKCZm2CYQYM8W3K+ruCjai2zpO6jfWJOtHuAAGAFvPAp3CxS9aO3r3r5dFHa+TSS1fLCSe0BOsnDCL1Y84BWOi/cgRWpPnUJY1zxh7rOX3M3kI74jJA/e+7777gUOEaPZw2r/Bnpz2y6P6ZbgrcT33DZmwFgL7rnfZd69rvqwCwQnqMAcsiAeUe51sDw4LMR14TG0AhnF9VIzlNkMAiEMUmYLbB6dgn8MrSDZxeYSd22WWXLLdH3vPeeyLbbNNDli8vya23rpB9903PD1wuXUSbj9KAG0xisA2c5PNk07B5Z9w1mLY4vOTJ5JDn/esKANQDl8nsqb+lKZvDXIxKeRfVRnlVAmxYfMzBjHXGGSA/jw6gfoOP1G2mOROAxfpI4IKP4pK1Y8yYWrnggjo58cRm+clP1lgPTACNqRXQC3j2eVDyodfHvgAbS59QT8ysZMBCosd2HNq2Oc9FqidP2jr6nfriCsS+CKOo7gDsp+xd5Zaesv3eSr2uCgArpGfYFPCJ+OlPfxoLrHCcVZkN22qb4srqN8RmwYnJBHtQ/LaK6eUAXrbfY17H9xBR52o+SnvX6NEEnzTIrrs2yb33pgtDA0I5afp06o6qY1I2DQXqnIbzZNNIa5uk3xcdDANbg6nbp8CuS3vEMYAaKGUCPv6POWcCPpvUhXH1AZRhIdh7771dqtx+rQ0A5GI2Vt5DO+OUD+OcBxzY+tjZfBQWAdZIWNi84ELfZxNdq9cuWlQjRx9dL9tvTxutHURG/2PhYd2CSfXpKwo5gDnVR3YmgD71BBCyVyDSbbs32PQT12BaJqtVVCCP7TP0OurLGgwgVHM7+yl1th3Xru/8uFxfBYAV0pMMWBbTmTNnyj777BNZq7R8r2FxZRYa/PiYBCbYY9LlWbR5LiYH8ncWWdiEAB1pEYSudfzb30qy7bbdZfXqkixdulx23jlZGDqP6S+ubnF9GRdwAwNIv/iKfnRtM67PckDJ8p64e3zqQmapFwEIgA8YUPpCAZ+pucc8BPS5HLhs6gIAxLQYpadnc79LLmDmPgcetSKw6XIwzeJrZetjZ/MNOgaZOxxSbbUDk57tonn45psiX/96F6mvb5V3322Url3XfjLr/AMPPBCw9Gq2zpv1grcQgQ/4g0TwUagf4BcXG8ysar729WxMy6zbSRHILu+ivgQEwggyt9hLYRerADC5FasA0GWUlflaoq2GDRsmffv2jXyTaWqMku0AEJl6X+XKwACo5MSJb0iRhY2VhS/rppdU99NP7yLXXtsg++7bJLfemswC5k0BZvpgKmhgc3XJpuFTEzFrnxYdDV0EAIR10D7DFIW5DzbWPHAB+Mq9ETEXCC7IOiddAKDKmGB245thX/hegkRcwQwHF3yKffkTcyAEsGAGVrYNMGBGMbuMb5eoYqSkttiiQf75z5I8+mij7Ljj2tmLeDduPpjPaTvMrUlRuLZ1JagCVtGn+wWHGMYUQBpwpWZW1wjz8DfAft9///1lMS1rlDjrIQDTB8No2wfr4nVVAFhBvQaQ6d+/vxx33HFr1YqNhoWWAQ61DUDgpKt6Xyrfkab35eNz8/ob+agDz1DH96yRj0n1+OMfS7Ljjt2luTmdBXTNSRzOpsFCy/9hujWBg0s2DZgUlQHx1b6uzwEYsPFiGiyilJsFVc09M8exal5q/mP6DMCRhQ3L02ZZDmUqleGaMivsb8bY5RCEOdc1fy+gnXG7ww475Pn89ntNU6gZxUy/JGnzxb3cNeL5kEPq5L77auXii1fLySdHWw7MyFozCpf6ZQmKoO55girivt0U6Tazc4Sjml07jv0DSTPSAWaJWLd5H4w4fZ7H0mXznnX9mioAjOhBnMknT54cnNQ4pXF6HDhwYJC3Mukkz8AmwflNN90UgJP99ttPLr30UutT2cEHHxyE3JMRhLB+dKTYbAB7PI/BzA+O9lnElX0NVs06wAnLt2+ISx3LnR3ltNO6yHXXNchuuzXJ3XeT3za6dkkpyFyzabh8v3ktmy/O5b5yoGapB6ZBNrAiASAb1bbbbpul+h3uUc09M6OGmataTbkcvJQR8ZEjO2vFbXKFMxZVIFfBn76PdYXvYENOA6/KsoVFfAEMWCkotvl7fefuxSLA+miOQQ7NmHJhhWCxAKm26xbrMG4XtkElEybUyowZdTJoULNcfvnaMlK0/5IlSwL3GWVLw+LMACzX6FUAFRqQtjmTbcYZkiuMaXX1MaOaGfeYhbPIw2CpgrEEAJar0KY6psv1jo/Dc6sAMKIXFy9eLDfffHMAxHDUZRH40Y9+JMccc4xccMEFsf0+ZMgQufvuu4NclzACp512WrCgIs8QVwCNMCecXC+66KIgwk6jsK6//vrgOUw2fljAisx0oN/A5GLBIfii3KatpElW7nqsHDVdLr2iq0xoHieLFq2QffZZExHcMHNmkPS9cfToQIuQDZgTPP1jMkSu2TSyLiqMGX58MSlZ6pHmo5rlmS73wABmBYCmMLamT2N8KbNuau7FAaTOyscc1SZsqvhgas5aE+wp6NP7qL/+AIT0e7iO9UpBYNx3IvdDBGuUkDHvJXKWQxEHZ6Jdk1gYrmOOAF58FAJUAHlRuWs1CIO+Zq7aqCm4pm27+eYaOe64etlllxZ58MG1A0FoHwAg1p5whCp7Af7EmMRdc/biV4geqku6tLT2jsuCwsEbqwf7EWOAurqYhekHDhFZA5bS6s3vYevZm1zqZfPcj9s1VQBo2aOzZs2Syy67LFjYogqDmgXlhhtukMMOOyy4hNMTpyQWJSKezHLvvffK2LFjg2AKnFWZvJy4OGmOGzcukkWpBD8vvoGNAgDIN/ly4rXshg6XUQ/kBGBNy1EPQF6XqVNlrEySu7YbLQ89tEJqakT0/1eMGiX/GDw4WAgBgCzuZs5jNefmie60bRffWVFs32teV7QeIv1ARGAaA6isrBmVC3CHkQlHxruYqIoEgBw6OEgyF5gXJtjj7wrqlPmK+i4TKAL+THBo9jOHVQBWkvA58wHzKcAURosI1ShA6RJlazMm03zh+EbGCSZr1ZBLYttc07b95jcl6dWrQTbZhPc0rlVlwBNgjUC/OHCiOXu5GaBqo/sKqCRNKGZPXwW/P37I2RxVAO70Mf6nuD3YBgLZpv/L8x1VAGjXelUAaNdOMmbMGIEZ5PQbVTAXo5eEGcTUNsJMMnz4cDnzzDM73AY45HQJ8OPEyuI4cuTIwIw3d+7cyHdUgplPK/bII48EbFMWE4Blk1tdRq5KHMh9Lnzmi5vGny8bXjglAIGbXTZU+r00QT57ySXyh2OOkd/17x+ABjZKQIWaRFxAg9VHWlwEawAD5suZ3uKVa10CAIQp85niyqUeUQAwSXNPzbi+hLE7CwBGmXJhj2BViASl/U1zrut4pM1URy2KDSQwABNrmqmf58BKs9YxLpgf4SARlyhbm7FAtiTASBq7h0sN9WLecOimzaLaKc7cHVeXZctENt64S/Drt99eJRtu2PFK3suhNc3/zRQ7JrCDb4rTtCuXYDPrCaREUqpN3s3hk7akb+NyNJutQJvT7wDWchQ9yMAA2pr6y1GPdeGZVQBo0UvQ3UwCzL+YgqMKzN/xxx8f+OqZhdMTdD/yLmll6tSpgRkHE3JUYeLgNO0r9VlafZJ+z0IL0+I7R6RrnXB+3m677bxGe4X9v9780Q3S/7kLZZU0SBdplL8PHSorR4wI2CLMW5ySWSipR1GF92N6izutd0a9cJXAZJqW4L1cdQEAwi6wmZu+e6q5p0CPMVsOVrYcAFB99UzQp+1nmnL5O6wbdWD8shHnEdk12UDTLMy7XSVHTIHhsGkTkyf940u7kYMpz4pLERYee4jaw2IBmKPazIbtDD9zq60aBCmpRx5plJ126hgJDFvGmoV/uE2BmQZcMa4VqIaZ1HJF1WLtYh7ZrGvUATaX/YlDCP0cZ/r3qf0Y1YZ6gAEwVwFg8ij7RAHAUaNGpQIxFlAzjySbO8EORJpeddVVsa3pAwBecsklcuedd8qtt94a+R4WAU5OYXOyzULi+xo0x/DvsTFP+H63+Tz8K1nw82x2mk3D9N1jEVH/r1JpA+m5Q88A/DXVNshHH/yzwydVgv9dJWRn6eyMKGGtROYHYAOTngn2fGvuxY1nH4LgSYEaylCZgCzMWmlAAZsxPnhJG7HNvNTNFNCh72Xux/nZJT3z/fffD4JEeI7OWcAN74jLfmRTR/OaLMEQmAvVbxGzNkBLwYsr2KUu++1XLw8/XCNXXbVaBg7sGAmMSRyXIMSVXYrmwI0Cqrasosv7uDYLO8v3MQ8wD7M/wBKHAatv6Z/wd+nhBQDoyn67ttG6fv0nCgAyidgkkgqaTBrYwEkF4AfggpVLGkyuJuCoOlx77bVyxRVXBPkXowo+S5jZfGe+yDKIMQOR+SLN1JLl2S73uALRpGwaYQkW7W/1+VMG8F9nnSe1E0a2VxOzfdG5kdlc8Wsq8nAAk4IZCHBQjqJA3dRK5D0AdVg9/KswhdowFuWonysAtGX3FHi5bGYwTdQHVpADbZ60Y7qhapAIc591Er8+18I3wyzxA9ji34Aa89Dt+kzzetZhXFOyHAjVbxHwouLWrC+scy7fetppdXLVVbUyalSTTJjQMZVkngAIBaqAVVPkWllFzMppEdwubZsVnKv8DvcDwmBWTUuRS3o9l/rqtVUAaN9qnygAaN8sEpj1MN1i+iUaN41K1iCQG2+8MdDyo2DeYCGJCgKJqsuiRYtk/PjxQYh8VClX5guXdtFri077pfVIAqKu2TSi2kHB30fnniff/flE6fe7aTJZxsmq886TxpFtILASzK+VkJ7PFQAljTszhaECPtXcM333TK3EorUQAcCYluNSAiq7p3/q9+umrf525p9Z5qa5EcJOsw7B1ONH5iovwrO0LwiwoS9gmxEyxjctK+AAbMEG8jyCMQDtWZ9lthECw7hBZI2GNX3aYI45UNBuLgB6+vRamTgxWgrG1NbL2rcK7ukPWDbAFUylK6uY9n5cOiBDeEeWwrgB6AP4YAJhVnleFmbR5f1VAGjfWlUAGNFWgD+YP3yZYOVM8KcnQa4h6OO6665r97tCBuaee+4J2EIWoNNPPz14ehygC7+a6LATTzwxCA6JWgwrRYCZehct+qttR1AOPics0LQPp/eobBomaLBNEN7O/P0X7P3iF7VyyCHrybjSJJnYOr4dBMIq4ye688472888z1fyzSzY5XKstqluVh84G809ZWeTZB0qCQDayLAkmXJt2tv2GszigECAG5twlFnOBI3MI8aTAj7mFO0Oq6ZyOPzJupgmGZNUR/od4ILrhaYbyxvNb4os27ZP1HWwyQAVzJWwbaRYTCMB9DlXX10jQ4bUS58+zXL77R21AOkD5omPNJr4hKv/Iocj9iOfBYUK2HXY3jwFsA8byHhi/GnGKl9m/3DdFABy2PFxqMjz7ZV+bxUARvQQAI6AjqiiEgtov3HSJ6JL0y+pEDQsoCkEbWs+gM3af//9gxNT1MAtt/Cxy2AtOuJTs2lo/lU2ubzZNMLf3zBtmkhtbTvTx++POqqr3H13vcz/8kQZcOTKQAewEtg3NlEODkW6B9AX+E4htJtU6CdTgoW6m5p7CvZcF3AOZWywvjTlXOYD9VcGlAOJlnCgRpIMi8v7slyrwr60K2Y52FNYGvrC/KF/1KwO0IsKmrGVjEmrJ2OW+rBeEk2aFJGb9ix+j/uMKbJsc0/SNZiU9dBhm6lj8eIaOfTQetluuxZ54omOWoC4i3BY9HVQo/84+MH0Evxk+i/m/XYCEgmm8RXUBWDVbFYc2NPkmrLWvwoA7VuuCgDt26rsV3JKZ1KwUEf5+6jwMYuHLYtVrkqnmbt8vjcpmwa/Y4Ni02XTsj2lZ63f66+XZOedu8uqVSVZsOAjOeywpmDzLJp9g6UhRZcKAWf9vjz3MX5pfwIPtJh9p6CPyEaYHpOVxdzm4uMWVc/OisaOC9SAgeSH78c8qjp6eb8rT5+Y97IxMk5gtvAZxRwH2ONPBXqwfC7zSDdbDRJRwGtbZ1NnDyYdszCAiyARV4WBcsihqE8hY5d2s9EOVC3Az3++Vd54o6MWIECNSFmfvroAKw5fzCn6N0/uY7PfskRAp/U7gBWXKFhBFQr3vZepb63rATKt7h/H31cBYAX1KidgzA38GZdUnSg3ZGDKpXtn2xxRm73tvUnXsYiHs2lgMmATNYM0+DsbF8CLv3em9tzMmQ0ydWoX+dznWuSZZ5ZLTc1/ApO4D7NO1jasBP9QxsT/Z+88wPSqqvW/ZiYzgYD8RfTCVRARC3gFQUBClN5LBERCCS3SNUBoSUgyKZMGBGkCoROKARERpEjvLYDhAgpIuYiiKEWlpUym/J/fGddk5eSUvU/5vm/Cd55nnpQ5ZZ+199n73e9a6130H+WoYPVYNMN9py7EMmp0lgEAfRM1lGVjTOLiyhJzl3UMhK8D3Gk/4H7j7ypUDljg/wBsuDezJE3o88JJInEC0lHvFa4rbOPG2NTBaLlWc+BaXMBUmCiqQhExhYR2AIrx8AC01JXOnGM9NU2TJwcegzeHjZG11iIDFcDdzn9JE96Ezk55Y9iwgK0rUspLK3YAKmEYYdlcNfmSxhpAzTcBxmXsErbDeAOsqrwNfV3URolvln6p5rfnYodaOKcOAGuhF/7TBoJ7AXbsNGEQog709wjAzhrkXNTr4sbgQ8saIKztsCW4VIbFp5pGJZlIbTNSj5tttoK8+mqjHHFEu0yc+F4gwotcULUOxg4hBBqOUIl2kFFtpXNglaJcuSxGlYjFIWsfNiRPFnCSDIuyW2mxewAvwLBW9kmKuSuqnwBhsCoatwf45t8APWX3tKykLrQqNkygPm30LekVbnuUZExav8cJLbNxgA3U0pcuSRguVTZ87Y1LmbAKu+G2kiyWqQTk9Wtrk/bW8bLclInS3d0gb7yxUD5/Wc//d4wfL68fcECquLJvG8MVO/gumZ+JX8xSqk2f7yqq7dteMqtpFwyg2pJNAxumImTFVMS8aGbR9z37wvl1AFhDvcTAZcLmA7FuNNtEdmVQ/EV8KHlenThF37rEADsmdmUl+JNdNQBBY44Atj7uQBZaGIK0uLM87xp17QMPNMn3vw+w6Zbbb/+ntLc/GmSNV+ugLxgbZdXXVIBhY/cAGEyyyuppsgDjsxqHb6Ucl0QNWxLNl6HQgH++aeLH4lj9LLZi4xSO3eM+6lZX0OeyCKqANJsIFuE80k5hNjAtSQQ2iM2ujZtUe3AvwI1mMacxqkXr4SW5lC1TabUDFQRObpkk49vHyz+GT5D/Oq8H/HWOGRPEd9NveTYp4fESV7HDlmrDdr5Z21RZIiSp6LUG7VaYXQX1fIfE1KNdyf9lzVZXu9QBoPuMUgeA7rYq/UwmHCbfX/3qV4GWVdRBXAY6a3km6SJehEkHAIf7KOoIZ3ZyLuAPsBZ25eZxB8KWcjChVPo47LDl5Prrm2XddTukre122WGHrSrCdEW9J4sfEysgNI11cbGTFcdmwWIx4VBxbAV9FmDAOrAw1ioAdJVhKTJRQ9kYgAyblLiSY0l9onGUCvhg+bR2sWbm0h+wVL4g1YItADRakgT+J5Uecxk/rkkisNYwQUl1hRmLgEDcm3gcwq5XbQ82AbRQZaOIb8DFpcychhdC9RZJ+Os3fXrA+KluqII/2ll07WPumQQq6Qf6Ffvx7Wryj0sfokpBaUnfWMy0e9NHrBvhai3qYocVDFeMSbun/T3fC99wUWEAPs/ua+fWAWAN9RgfKyn31AKOcyeSmUWcID/VPMIZl2nVNLJmdqa9IxMqrp+ihGTTnmd//+67DbLJJgPkvfcaZZ99XpILL1yt9CSUuPbBCOGyYdz4JsJYzT1lZ63mnrJKVnMvqh3V7AvaQ2wV8VAbbrhh4IpWEKJxfNpmV1euz1hIO5dMcVtyjMU47sD2FuzRJwA768rl73k2TknPBiwQmwXYApzlAVPqFrZuc3s/n0obWraN98b1Gg6DAYTxDbiWWUvrM1eXMu+oNY9pU8D2fma1oHJQV3OLLPrwg95HAbC5b1Gl77gxGy/Ab1JWrcrakKQEgcBmJG2euOuuu4Js5aLjzdOAJWPPljR0LeunRq4DwLSRvfj3dQDobquKnEl8HyXrBg8eHPk8ZBOg5JN2zGU3FFYDyp54KxYyFqgwYGAizMNIuL5DFle0671dzvvVr/rJsGHLS1NTl9x//0eywQYNLpcVfo6rRJAm2VhXrjKzyuq5aO5FvQCxZIyDsvS94oymAE9dwHYhtDIsWSpqFNlR6jaEPWcRVsFoBd0K+mBCCIOwgC8NfBfZTu6lsVm4renPPCDAsoHhusK+iQbYkI0G8084vi1rmbUkMIzMFxU2XJhVvkEA3oCf/lTWmT07kgEE2HAU+Y0A2LELwDPtYIyxEWHDSBviYivLyKjWtrkAS75pvhM8PHi7YKRdNSKxBZuEMjZIafbta7+vA8Aa6zECjg888EDZf//9I1tW7XqrLFbstDUzD40oAANA0DVbr0iTp7mii3xW1L26u0WGDl1Obr21WdZbr0MeeGC+NDeX/dSl78+kh2uFTGQ78dlMUE3YYHJVgFEkMwsYB7wUubhFWTKO3QMAoE/JogbDgQtI5Ukq3yNLP5FFFfvAUiIFQp/xf3w3gD0rtFyNbyncYuu+xjPBt+4ChOJsHZUkAgCkr+KS3uLuRUgCcyH2hE0DJDC+CZEpShCZmMiHHnrIy6WsMYDnrDJWRrw3Reb+4BTZ8MZTe2MAaTPfZ97kOWsXAB1snmvoBf0AEwhYZczxvYbjU+l7MqCxZZFAim8XAEiymkuWrnX/MwbZNKWNwToAdJ/t6gDQ3VYVORMhaD66I488MvJ5ZSY9MDFExX6xiIZjv1hs2Z0VqWeVxcDVrv5Am//+d5Fvf7u/fPRRi4wZs1BGj15S+yvLe/leoxqRiCCrjA67fau5p65cnyQbn3bAyrBoujARrvd1TdRQZglAwIKoCUq+7iPXdrmcx0Jk2T1i9wDkCr75Oyy6JhGkueRcnlnGObQbmzIPhOu6+j4vnCSitbxdsnzDz1Igw5yIPh/uagBWUclYvoyigj9i/ra+b7w88kiTjBz5Oznm/Utk9YsuCkDgM7vtFoCtuCQ/X3tyPpse2DHfe8ICAgJxX4fBFd8RkmOu7Kdru3km2orbbbedF2GgIRR8U2mJSswZgNZa2ES52qVa59UBYLUsH/PcffbZJ4hnO+mkkyLPKEp+hZtrNQ0r5eFaTYNFgcm2KEX7rN1g476y3qOI6yZNekV++tNvS1NTt9x99zzZeOOuIm4bew9lk7Tv1KULiAi7cisVDA0AhB3OE9/kmqiRVC9XgQEbFILyYVvKXgw06clm5gIgWIhsogYg3AI9rYnLwgi4KjrjsqhBqJmasLwAVli7LDZVUMz8wQ/xXiS8AeCyxhqyacW1ituae7CBznovay9fRlF1AMn23W67ZnnkkUaZNetj+frXn5eVzztPPrvyyvLK0KHBeIirF52lv6yYdpbrFeDD+mm1E8YlSWUAwCKPPIk6jEFlLvlOWCejMusZY8x5WcZnke/aF+5VB4A11kuHH354wLZNmjQpsmVZY95sRQYFDbA10PA2K9e1CkAtVJ7AQGQG/uUvfwmy1ap54H697LJt5aablpcvf7lLHnnkY1lxxeJaxORs6xzThwrWFfCxCMLIFik34vMGuDVpY1xmePheLuxemuZeUvtYbGCuVN4EkFHUQX+EZVj4P2VZFfSRJZ0GRgCPjGE2dwDWIst5FfW+eh+AATaFIWIBTlIj0E2KahPyZxgU69yTt64w7SM2EBtyT8ZgUqKNi11oL0LVWRjFLbdsljlzGuWXv1wkgwd3BeAUu/HNErtYpAs4TkvR5R31HPpKY+5gzQH5xJsX5U7X5zA/kPgDA5j1sMwlsbSwl3ZTxbwCAKxVRj3re5dxXR0AlmHVHPc84YQTArfRWWedFXkXFgompqSMLw30t8xeUjWNLM1lUeVDzjI5Znle3DVkBpJ88J3vfKfI23rf6+GHH5Y119xAdtxxNfnrXxtl2LB2Oeechd734QLV3LN6iaq5Z8unhcF6tavEsIAAiqLGpmtFDdXdww5psT4uxlUtOdhA3IwsvL4xTVYDkffj+6M/2DzZ2D36I0+bAayAeL5VwFUWt6iLTfKeY20KWKCtLLiW3VNwHK4rDDAOl+hylYxJazfudNzB2I3NCDGLuEWzAgHYSSoNZRF4HzSoWebObZSbblokO+3U4w3APmQpA561bm8RLJWLlE6a7fT3GnNHnCpjGV3RPGM6/FxcuTCWRawbylyqCoTVFWTjlbXfXW21LJxXB4A11oswf+wUL7300siWRYnd5q2mkcUEqjtHMG+RE4RvW6g+QRxLtWMRcZfAOjz77Gdk8ODlgyoA1103T3bZpTP1laLiLlkUlR2J0tyLuiks5EYbbRTEmFXjsJuTNBkW68KtRKKGBVdpMURhkWWAOO8TlmFxEVn27QeVFAHIWHDle5+yz6edLMB8ewBWACDjOM3lndQuBYJZ6woDWtgMDho0KGCiAW/qWs+imwprRz+QmOd7bLxxs/z+941y223tsu223b2XE/NIwgtgVZlpX4HmcFtIpIEJK1IaDDvCpmpJuaJCVY3cdwAAIABJREFUE7RUYlFlM21CC98nmxHiIesA0G3E1gGgm50qdtaZZ54ZBMlee+21kc9kkiPWitJNyhDZahplB/pro3B3kSEXzjqtmKH+86BaiUW0FVrGjesv557bIiuv3B24gtdYY/ECoNVQrAwL/YfMhnXFZ5HQgYWkwkBe15dvHyq7R3wOgNwmgdSSDIuK4gJaVFoClgAAY925LMwsfAr4YK2y9IevHe35gCnqzsKYkN2JazjNlZzneWnXJrF7gD++Q2xE/GdRkjG2Ckta+/g9m2NYaN0Mqmtd+xtw4APaCS/BrQyg9D3WX79ZXn65Ue66q1222GLx9//YY48F8ZOwVbSXPo7LxHV9JqwizHaRjLGCaUAlQJB7+9ovqv1at3izzTZzfT2n8wD6tJM5iBAK7FFNYsKp0TVwUh0AxnQCIGvy5MkBGGPQkmF2wAEHyNixYxMVxmHEYGLsQUbvhRde6NTdMH9XXXWV3HbbbYHLgMVIy6cB+LQiA+yABQy+bi2nxiScxOSKRhaTo0s6f97nxV2PPXApFLWjzNpO3OG4m+iX9naRHXYYIHPnNsnGG7fLlVe+IfPmvR8AdlsNxSZrFOEKqlSd6LhEDd4P1oVFg7gcxmQl2D2fPgNYwULwfQO8tX02do+/VypxJq3tgBBAAm1KK4WWdi/X31utSHV5pyW04IZjAQbUZK14YtsXJRmTBoDDNXH1flphgnARwDTxbWn34loSzHAlZ/EurLtui7z+eoM88EC7DBy4GACySaMfNR41KRPXtb/YiAO8i8x4B0jRl4TWWPsBrijblxVc2fu6vp/PeYxXbMp6nbWNPs/r6+fWAWBMD95xxx3yi1/8Qvbbb79gYWdhI0EDjb4zzjgjtt8BgOw+2traes+BTQir1kfdgAkHBhD9JQYvE/+UKVOCygYK9pi42NFmcUsUPVirHXPG+xCLRT3RLHE6RdoD/TEmRkAPQOillxbKj360gXz8cbPss8+f5eST3+lNEAjHQBXVDtzQLAQwCkUdLokalqnB1Up2OIAAl3jRZaR83ou2a+KMJiKoyLJ+jwAsFmONY/O5f6XOVYFh3IbMRa4AxrV9WWP3ou6vcVnMXzDBLvNeXDvDkjFpdYUJQaA/4xLCsB/hNXx/fCdpTHkcoHSx6+qrtwiVgp5+ul2++c3FAJA5E7H/sEsVppfvhnembT4uVzbirBFFfvcAX83Q1vfVSiyw5vTtyiuv7GKKJc5h44WXIK7UqfcNQxfomIHprQPAdGvWAWC6jXrPmDFjhsycOTOIM4k7AIC44c4+++zUOwNeLrjggiCZgh8mHIKD+cAAmrBrfCjWbcFOnKyvagMeXq5aLkdrWAAH7teiauCmdtp/TgBc0H/qymVx4f80MYCF77HHVpXDD18luOL66+fJTjulxwO6Pj/qPNxLsAtZJma9n6sMS1K9XCZhFhDcZ4xnGKGyJ2PNOLWuXMCfyuLY+D3LtgIISbwAtCdVRsjTL0Vdy4IMgCHGKWt1jizsnm/7GUOoFbDYA1bzJGLwbNckkSjQEm67iltrNZakkmicw3ftqzDQ0UHN7JYgDviNNxbKqqsubgUeJeJ0ozZG2I13gEklLtB1UwJhsOmmm6YCWp9+ZI3j+0FX1B7at/weph+yw4ctL6MWsm2fjpWyNtk+NuwL59YBoEcvjRs3TmAGYZySAKDu5IjboaRba2trpDQHO/uhQ4cGEwJUOxMNop4/+MEPApYvyk3BgsVCX2nAUxbg8DB/5KlaA7fMZBQmFU3UUMDH5AiogUVgMsetiNsBFtAeI0f2lwsv7IkHfPDBj+VLX1rMBuR99/D1BJjjonF1BaUlaqh7NElzL+kd2KzAnPMc2MA8bFD4OWkiy5qdC1hKc/fRv4R5EPCv+mI+i1rR/Zh0P1udw8XVmsbuqVxNGQsm/Q9g5duBMXIdl3Hvr27huLrCgE6+TzbgaYeGK1jtu/A1AFiYOdg1n+Mf/xBZc03kf7rlww/bpV+/xVfffffdQvxbUqKWJizxbABWEuOLTaisQQhMkfJPZM3Tb3GSToQmaYxqWhut7fjGsHkerdCkvtB45DLGs88Y6Cvn1gGgY0+xKwOo4f7FFRx3XHzxxYH8AGAAHaVRo0YF4O7GG290ehILJrs53MFRC5drzVenh+U8yca95bxV5svLSEZRzT0rwxLW3APMMOFqHxGHSGIByTn2WLhQZMcde+IB11+/U+66iwSDzK+beCH9ASiI0rtzlWEpul6uFRDW+re+bGAlWCsMq4LCuDFh2HzLk5XTq9F3ta5WdWdWyk4+76lZmsyffB++jFH4WZYNDNcVhl0CdIZZqyRACcvHZjuKcYtjwdLe//e/b5CNN26Rz30OfcclqwLdeeedzmDNxWWtpdUgBHwSXNLewbVmMW3kXDZMLlVifMvWpbUz/HvswZzsor/pe+9l8fxPHAAcPXq0nHbaaYl9yYCGftcD1ywuV1imOHmWuBtC+SOmyQTI4px2MCEBIHH3RCV2aMkvKnAU+cGntSvq9zChuPiKzD7zbYcmo2S1h9XcU91EFhFsa5NswhUcwu0E7ON6DTOAnPfmmw2y5ZYD5J13GmXvvRfJpZeSfOD7punnE4cIyGKhLZvdS2/NkmeoLAeTc1r8VZrIsrpzy9jlMx408aLW2UDYbxgV2gvTySYF2ykrXSa759v/mkgAcAUE4j5MY2aTnhGVJMIcy3OSNFKj7qlhAMSmkSTCJo62cT/YON/73X9/g+y8M4CoS+bOXdT7yCxgjf4E2OIaZq7FnW5DGOjze++917u0Wlr/QUQwB+JRSDtgmQHLWiUmSciceZIscZe1MO25Ub9XAFjNxMQs7a7WNZ84AIirDnCVdJDBqC4gMqEAfmSCzZo1yzuWiTgx6H5cxzvuuGNqP+PCYOLG/RAXCFwLyRe8yNy5c4OJvEj9qVQDRZxAEDSsqYsLRDXerEi21dxT0Oc7gTBhci2TdNTx6KNNgT5gR0eDTJu2QIYPX7wwZHlne42CPfqDxcsygLUkw0I7WShYzPjG2OjQPo2l1Pg9ALjGUirYw7a+zGEeuzJO2AjihmMzmFerLU9buDaJ3WN+wYYKrn0SCPK2y+d63gHGCNchIBWWFeCa9QgniQCU8rgXAdL0OW1ik8LcD8DydVdef32jHHRQs2y5ZZfceefi75y2Ea8HIeCr2sAGSmtcW3Zaa/aytuQB1OE+wKPBN8d36npolRjaCpDGCxZuE3MU45ONahkHcwzzRLXJkTLerYx7fuIAoI8RYf6g1nH9XnPNNZmUxcnMJGP32WefDbK/0g52U0wOnB/3kVRK7iOtrezm+JiJUanmESeArJp71pWrmom2okYRGm9MzgDQpIntwgubZeTI5aSxsVtuumm+bLVVtqSQuEQNFkBYDAALbGTW2L0y+5IFlYUVtkDd0grAbc3cWpnAFRRgzyJ00Fxty9gNl5rTqhrWTsqCagIBALuIxAvXdmY5j/cgxoy4SwAGm6as4F4zvQHqhM3QT7gis4IhQBptI6NYmVSra+nyvmee2SRjxvSTIUM65aqrOnovIcSAzSr1dbO8L98JaxKsL2OAdvH+ZdTsJdEQT0LchjbODpZBB0jTRpttjZcCwqCsNQN7kPhVqzG8LuOnkufUAWCMtfnQYP5gKa688solwB/JHRycw24O3T7i/FiAZ8+eLbvssksQ8AxAOv7444PBHtYGTPqA+Lh/+9vfxroerOhwJQdL+FmwXnzc2KiaB4AYN41KsCjgs5p7Cvhor+/u2+XdYA4ALUk75u5ukaOPXk5mz26WT3+6W+6992P56leTk0J8XLk6JnFdwQTmzb50ee+kczRTWiVYADQqskx/wLKxcOMOAjhnXbTztjPtetoJa6UuwqJFmV1i95gTXOp021q9RSRepNkmz+/pe40Jc5WMoS9sbWG+dcCUMsUwtbqhU/Y7SxsZq5rsR1KJTwLLUUf1k1mzmmTcuA4ZN27xJo+xj2ZfXrZOXf8AaNYW1qE8tXWj7EN5OeaQcEyzqy3jXNesXWuttVYgbF7GUQeAflatA8AYe+HuHTZsWORvmbA5cNMymNnVARbZNSIWDTBiIiYebM899xSyh10zILk31xFrSFxb1GFjvfy6u9izXUBPsU9cfDdYBHXj4lJksufjZ5G0sXsuWaBFtJFAchYiQFfSMX++yK67DpCnn26Stdfuknvu+VhW6VGK6WXELOjTe1lXblq9XMYeYxAWqejs26R3g+GwrBX9wxEuoWZ35yzmGm+Eq83FjV9Ef2W5h8YG8j644bKylL7snm9bNfECJgtAlKX+se8zs56PLWCDNcaNDZRKDPEeWqWFccIPMXkAPFuDmX/r5sFVMsalvWzgdZMCYMGt6cIsbb11szz+eKNcddUiGTKkpw4wB+8CANp+++1dHp96DhsSVCPwakBA5JF/Cj+sKKCmrmvALww6YzKtFGPqiyecwHgiRtKln/I8Z1m5tg4Aa7An2Q1TE3innXaKbF2txN6pVI1LoHAeM4c19wAWTCgaJwaTgKuC3XAW10qetum1TGwsPiy2acfbbzfINtsMkD//uVEGDeqQG2/8UPr1W7xQcL0Vvc3iyrXZt2xSYNiKtI263izgs4uzLtB2cY6zC5M29sM1DIBmA1TLbCAuOK0qkZbMYNk9Za60dq4tNefC7qWNq/DvVU6ERbjWNQ6xCfJZgBnCSjRW124g1PXtwuArEFQpoyxsIGE49At9DFNJ/wFiomLbrO2/8IUWee+9Bpkzp12+9a3FDL+yiniNijqIqQQE8j36gNS056PxyrtmqaEcvjd9gXseFp2NO94abFjGoSFULmOkjOf3tXvWAWAN9hgJDZSP23vvvSNbVyuxd7i8+aBtxnQR5mQRUHaPSZMFjAlcmT0toaa7vFpgRNNsEZZheeGFRtl555Xko48aZd99F8r558+TxsaGAKTpTxG2VL0zdsV56rTSJ1oWTPskLLJM/+SZeGE0AAEahJ8nQaAI2yXdQ+UvwiXaymb3fN9LF182awArWKyszKXvs5POp11s4qw7F+aa8aOZzGwsAX1ZNy552cBnnnkmYNXYPGlsG16PpJrH774rsvrq/YNXf++9hbLCCoutwEYVUIm3qKhD6xXjpqZt2NNmMmd9DomGyOkUySqyVqCKwVyOTZNEuLO2m3mWMVREac2sbehL19UBYA32FvEcu+22mxx66KGRrWORZBIqK5PK1SS4wJm0fbPk7P1VqNYCPnb/ZDZawGc198LtI2CZWJWy4kpc7IEbC8ZFA8bjEjWU2eLP++9vkSFDBkhnZ4NMmNAuI0cuDhh3eabrOdiYuEBihVhU00qJhUWWtb4mfWLduUl94tq28Hks/oAV4ptgU1WSI+v9yryOcQozhKoAdqHtlWL3fN8L9zzMJSC7CBkW3+djG75xC/j4RvjGldnjTzZ1KsvCuAPM5I25jJKMcWGYiQFE4somQmgCCzVtcVfzYwHqY4/B7rfIGmt0yyuvLKkBCGsMSCuybjmsOdJhqFRolrVmMocTMHz6DGmZTTbZxDl0yeXetA8dRKpbkaxEPysz7dIfLs9g7mIM1QGgi7VE6gDQzU4VPYtKIKjPjxgxIvK5TOQM8LK0lFxflphHdrUu2c3cU3f9Wk2DBUF3/crqsSDgdvH5gJEsYKIuy62QZg/NwGTxhw3VGFGus7F7MGbqktJ7XnJJPxkxoiX458yZC+Wgg7JlBqe1kd8rw8bmgcUBF3o4AUHZPXbR4dg9jc1yeVbecwBVbHQAndrWvPfMe32Y3QPMAGxgKgFYWqINuxW1oOVtc/h6ZS6LkGGJa1uU2xsWX0M2FPDRhjh2Txk35roi2hqWjEmrK8y7JSVC0PeMT759W7v30ksbZfjwZtluuy659dYlpZ6wPaEOcbHdWfqaOZjNEmBND1vujgQ91gmf+ZT7ANRQr2CuKOpQGZxtttkmYOlsRjNAsIj43zoA9OutOgD0s1dFzj7kkEMCQEMJuagDNoeJxyXerMwGs/vEBRFXKgmGxEqw8HcmYpVXyKq5F36nJBHmMt4/it1jd0+/EMOmmnFJ9XJtu1pbm+VTZ06V7oZGWe/6UbLLLkuCwH6nnioNnZ2yaOzY3K9jy0wxubMLZ2LWLOkyRZZ9Gw/bAhvIwgkTlBZv53v/pPN9Y/dsW2FZa5m51Lby7bowwml2tYyxMnw8Q8eUFaROu1f497atWvouD7j2cQtTWhEAFadzqhu/xrY2WeH//T9Z6fTTZcSIAXL55U1y0kkdMmVKpzRNmybS2Smdra1BHBzJLrB1RR14YdjYwaqFD0C3xlWyiXIV7M8iWO3yPlEyOKwRfOPYhlhlfvJsNGk7DGCee7i8y7JyTh0A1mBPHnPMMcGifPrpp0e2LuxurNYrsICwA6WGsSYFWFeu1dzTxaAIzb3w+ypTVIYcjY8Mi4rcMtECWFx33SSV/3bQDPnhcxNlUr9JsvmdI2XgwJ6kEMBfy+TJ0t7aKh2jR3t1NYtdnMgycWAsEAA+MoV9ha+9GpLzZMTbcbUyhljIyohhs+yegpgswJiNAG1VlrWW4xhhWWkrfY9dXdkevmvrymUcwehYV27RSS2AHNrKc/K4NnUoqls4rq4w51FzHdCZVhKwa9IkWX76dHn5gANkj99dKi++2F+uu26R7PXCFOnX1iYd48dL55gxgtuYTTMZu0UdaeXvNCNcY0DxUKSNybKqizAXIdkVVRBBSxvyzWXNEtY+ZX6oA0C3EVYHgG52quhZY8eODXaKM2fOjHwuoIsPxrdEUVEvoewIFD7uByYUFgEAT7h8Wp6kANf2EvPCIsbuMc8RTtSIc+UmJWqwOAJIYdoAViyKLseiRSI3bzxDDnp1okxbbpLs8PDJsv5vpnuBPybusHiwxllZd66CPa19yzW4saJqCLu0vRLnqPYZoCVvZQ5fds/3/azQcREMm+/zfc5XvTaNaWMTZd2yurGzgE9jdC3gK6MsX/g9tOQYMW/E5VnJGJ93tiBQv/FwXWHOAaywkXPJhG2cNk2a29pkfMMkmdw9Xv7+k7Gy6vnTesEf96PdbGYoLFDUgUuZ75i5JunQGFA27Xgpwv1sry2rukhaFjR9wdoGWEV30QWs2nYruwsAzJo4VFS/9JX71AFgDfYUtYrZfVJ9JOpIc70W/UoawG1j92zsE5MkwK9Smnvh9yNOiB1fmgZf+Dofdi8cu5dkYyYiJntcwky04UDxuGvnzRP51YYz5Mg3J8pCaZH+0h7L/PEM1UhT0McOmz6wlSKIoUuaDLkP4wkb4uoCsLgyl0WPM5f72cocMAUuel8u7B42K7qAvDJsfSGrWRkY+gD3tWo6wuhrtrcdV9VkWFRbDqANG5i39J1lA61sDOL9ACtXEeg/HTpdvv7zSb3f7tvDh8unTj+99/vDc4Od40JmXMZ/+BykVWg/34LLoWOSOQHbRWX5Fq1XqO1S3cItt9zSGayqSLwLoKsDQJcRsOQ5dQDob7PSr4D5u+GGG+Smm26KfBauRgAGrteiD9Xcs7F7qrlny6dp/VHi7wgWrubhEhNpwZ6NA6LdaYkaWd+NhQqRYyYvFhIXF9s//ynyX19cWVq624OF5I0//ltWX7070EWzFTVcRJZ92g1jqfFCPsylzzOKOtfW6Q3HNim7Z21lM3NtAkIlQIyWFiPGqdbYQL6JsNAy7A8HLlyyxQEIZWR75x0LusnCBVqE2HU4SYSxgRQKYM2VxR8/vknaTl8h2Lh1t7TIfbffHrwm7Dp2pK1s0lyT5lxsxDeLl8UnHpx+B4ySicumj2vtRooNJcoKJGsUebBuwe65rhfq9qdvXKra1AGgf2/VAaC/zUq/4uc//7mcc845Qip+1MEuDuq/iGBiu9PX+L0kzT3bHiYzpBLSdnRlG4yJjPewu+A0GRbNAnRN1Mj6DlaCxUXWRGP+lAE8Y6VW+cKF28iAAe/3VkBQdy4gPE9AfPidLHOJi43dt8vOO6tt8lxHWwk/wP2vUiIAbhavcOweC3i1YxytxiGLWREZj772U3Fl1XPke2f8WEFqbKlhDHxDtNUVAPm2p4jzrdg1nghNwMp6b2UDmU9IAiFeD/u4HFd+5TQ54s0J0tmvRZo62mVRa6u8ut9+AfBDoYBvSavzuNzP5Rw24GwssyhCsLEnrpJxgO1U4NqVqXNpnz3HSta4XssYhOxgvdPY6rhvWQFgJcIRXNtf6+fVAWAN9tBvfvMbGTVqVCBDEHUwgcMs+coJhDX3+PCZ6KzmHguAS/UG2sXkS8mgrbfeulAg4tsl7GYBo8SMaByf3kPZPRvjUw1Qo7ImMCswAnbHrSLLy82YIf89c6a8tP/+8sT2P5K3j3lIRn7UJmd/ZoIMfvIE+e//7udrmkznwwoxvphQYQNtMfdMNyzooih2D9BHf/I72Azcl0UnIBTU/ACYwlZXouKJJgDZ2D2tw2xj9+K+dV14AS9aV7pWQwN0M0AYg5bp8wH8tqqNlpzTOEcYQAUUSZut9tZp8qkZbdIqbXLwKyPlS1dP600A+XDEiIBdRzILdzUxgEVt3KxYdZZxiu00rEITlxgnPkyd63OJ7+NZWTxXzJG4u0myItSHDWp4Hq8DQNeeWHxeHQD626z0K4g9GTp0aLA7i5ooWKCh6JOYNz4GPmSblauae9aV66u5Z1+eGBxKBtGOSrjTeHZUogZMEJOLulkV9JXN7vkOBOylCwG7WQABYD4I4r7pJll71ix577jjpGvs2IAheuONRrlt4Aw5+cMJct5/TZI9fneSfOYzvk/Ndj52hlklGQl2gVjGohYt1xbZ2NO4zFyN3QNUsWhh11qufcu7q2uLmEOf7Nsku2ltbOv6pg9tzVz+7hIzaZ/DnME8xALs4oZz7dsyzlNJEVyNSSUFlQm1tgJMWGCMrXRjwVzK31XHM9x2pF7I9gX83fiNsTJ3bo/+n/4/WcAdp5wiVCzie8cdXBQLjAcG1pPyiXkODVVgHiUZjDlps802y3PLpa5lo877U7Uk65EUw6hrQ50BdLduHQC626piZ7Kro1wQH2PUostkTJKIZd5Uc09j92BG+CAAeBbwFRnoDqMIWCWmw3dhcTVmUqKGunGZoAEqZDK6uFldn533PJttqokaylhp3wCuWHiWP+006W5qWkrq5ZVXGuS3350hCz7ukps3GC+/+c0CWWWVvC1zv14Fb+lfAHaahIT7nZc8M47dY7xaEJPE7qnrko1PrYMVDQ1gzCqj4QqwdXNnS/OxKaRvrK3SEoBc+4rn0U7ccEXE27k+N+t5gARCAxizhIVgV7UV49mHCaUNNkkkSkC6afJk+fVvmmXI8xPk+OM7ZPr0xTqeVgcQdy3jGbBOTGhaNq7L+8+ZMycAf0WJ4LN+sP4AAGE/XTKgXdrJOYwfvtG86hU2htHWP+b/6Wsf9te17cvqeXUAWIM9i9uFgHFcBlHuSj7ORx99NGBmmPj5aHHHwhrZ8mllaO5ZczEx3n///cFOsQhgkFeGRd2s6gYqC5TGDRnLWCngY7JX4WtdnJmgmAhxswLcAVZJcUYvvNAgO++8nLz7boP8z/90yS23LJBVV63cwAWsqFhrUQA7jd3LKh7MmESeiPb2haxmvnHVt4ur1RyVxcz/hYWWy9BHtKPMxttpCa/KjUK3J6mtsCsgizZrnCNjSseV79xgE8e4n2UDFy4U+eIXW+T99xvknnva5Xvf645sLBWL+M6Rq9KYUOZ3+j1rnKWrVqGb9XrOgqmDUcd2ZEDT10WAKkA5h2vGclqbrai9iq/TL2V/B2nt6ku/rwNAh976/ve/L3y8uBag76nVi1RL0q6LBf7EE0+U6667LthNIX55wQUXpIqK0hziHNh5setmFw9rxGBXdy7/ZkKiLUwcCvoqobkXNhcMIDEttNP3SEvUUEkG3XW7xO5pfVZsBbDKKxER905xLIwPY8U9UPLH1YpUDLWd41igl15qkF137S9//3ujfP3rXXLbbQvlv/87eqHx7QfX81XkGEDrI8jsyu4xjl362KW9Nqu5CKkQl2dmPceygYwDWDbdQMBYaRZzWGi5KFv5tNvG2zH/EHdbzQWXfrbsnrUV9iJuEe+AJrREyZ74vr8yTRpXfOedTbLHHs3B9/jaa+3S2Bh9R8J2cK+qYL0yWWz4ybgGxPjO4YTg0AdFMnWarUxiCHF3rHu0LSruzsd2bHgZK9yryEPLG2I73Mt5+7jIttX6veoA0KGHzjrrrIDlglGAXTjppJOCq9h9xR1HH3203HbbbTJr1qxg1zd8+PBgcYO5SzoALtyXcnDsFNk17bzzznL44Ycv4cqF+idDzUVaxOEVM5+CWCqUflqmXCVlWCwLhHukiGxWX5FlH4NqUk+am/XVVxtkl136y1//2ihf/nKX3H77wqDofCUP7MCiANvKTj6qSkJZ7J7vezIOCKMg8UITGSoVq+raVsAfGzqAHiLB/MnBdw37Yllj13tW4jw2WjoOKlWmLylZw7J7YW+EJrSw0cJlmAVoWZuGJWOOOqq/XHNNPznqqE45++yOWPMTA8gaAtizB3GWxAbzp35TruEASNUgK1PkRhf2nO8cZpJDPSt8O3nYSkgUNnlscoo++I7YTAOuq70mFv1uZd6vDgAzWJcs3T322CNg9qJ2bCzo7Mhmz54tP/zhD4MnMFnycZM1G5Zv+eUvfyl33HGHAOpwB7HTYiHYf//9ZYcddpBNN910KYYN4MWHzwdVzYP3YQEIT0Bp7F4lZFhgA55//vkAeANSXaU3mODjRJZtRY2kYva+faJuVhJakhbUP/2pBwSSIPLFL/aAwLXWqiwI5N1UggVGg/FqS84BaNjpW+HgItk9X9vqAquLWlZ3m+9zo87XjG9NQGDDxxyiQI8xBdMaV5mjiDYUeQ9lX2g381sRoSDaPpusgb2wVVSyhiuoty5sWDPO9HeuAAAgAElEQVQShlyBVpTNeuaJbvnKV1aQjz7C/btQkiRRkZXhW4nyHHEv3K6sE4xPWGsXWyIVRlZt2gbcp88hHbALNtJDk8IA0WymsiRawYCyLmKDMg7ayFjwde+X0Za+cs86APTsKWI3YPdgAgFhUcd9990n2267bRDDZxcbdicjRoyQ448/fonLpk+fHkxuAEPAHqwKO0X0AOPqRsYBL8/XyX06UjW4LmErNFja3tQq6/u4cnM37D83sDp8TGjYNTzpW300db1xuerLKeirxMSidW9xY7CgRm0w3nyzxx386quNsuqq3XLTTQtk/fUrAwItu8e3wBin35Wxyhq7V1R/x91HE4VwbxVRRsylvWHGirEFANSYULVVVAUdzoUVUtYlS4iFSxuLOMeWvkvKvk16lsrWxCVrqK1cJaqSxgGbFyRjuCdzQp74ttmzm+Tww/vLWmt1yXPPzZempsZeYflwG1zi9bTkIW10SRK5++67A+9UkeODTTM2iXLValY4m7y4+TTO9kUnrISfw1zPfOnrRi/iG+ir96gDQMeeQ5fvvPPOCzLIAGq33nprbIkgmL9hw4YFDKE9AHNk7hI/mDYZssOaMWNGACSjDoAXLuIiYz9cTBFO1Hj22WeDmAtcrbaiRlK9XJfnFH0OrAoLKpM+bbUMH8wAC4tl94oWWfZ5HxYB2soki8slqhTVW2+J7L77cvKHPzTKSit1y/XXL5TNN+/yeUzquTbOURdm7BZm9/id1YtzZWRSG1DCCbQf27JYYNsimRNbrSWOsWJT4aqnZ2vf8q2z0apG3J9rN2j2rYu8jSZrWJ1Cla2xmcxlbbpUMoYNF0ALt2wWNnDnnfvLQw81ybhx7TJqVHtgqqi6wvw/8Xps6lxqbqvblbESN075Pu+8885AhsuFLXTtR5usEnWNxoHCVqp2oAsAJfwJW0eFjbi2Lem8OgD0t+InFgCOHj06FYhBhSsNDoCA8SCgeNKkScHCAQiMmjTyAkC68dvf/nbAFOJqjjrmzp0bsFn8lHkkybDw7jBATAS1qr+mLjdACm3VEmosxEzECvpqbddo4xjj4tcIFxsypL88+iiZb91yxRXtsvvuiyUofMdFntg9NkYEeXOPooGV73uknc+YJl6IbEefWs32vtwDNsQCGN1I2GSNIsqoMXZVExTb1oowd5Sdwwkt2BdAlJaswXdYZEhF2hjQ3zOvM8/DeAHOXICMXkti1kYbLS+Njd3ywgsLgnjcJMkY33g963Zl0xqu042tYQAp2VYkUHZ11SrzS7gCGxRi+5I2fw899FDshta1v5LOw17M464brCKe2dfv8YkFgOz82GUlHQzoqA+LAc8HCaUfJZbp6wKOagM6gHvvvbccdNBBkU2EeYMZCgcU5xmQWRM1mNxZ/JkQiEv0mUTztDd8rQbUqxtXXW60R1kFgB/9TmIAjAoTVy2zKoAMbEvfRFXlmD9fZNiwFrnlln7BQnT22Yvk0EPjA9HVZq7snk/sHm1kg0ScUF+wrdZqxiZpFU8Y21Y4mLHFYcuo8feyNhJWmLvWbUtbiWeDFebvfF/Yj+8wKVmjyLnA514WtPrY9sQTm+XCC5tl8OAOue66HvaPI5wkopIxrAsoJviyzspaM8/axCtYTO65/fbbFyrEj6uWdYWNp8uh4Qps/ohdjGM4s76/Sxs4h35kva4DQFeLiXxiAaC7iZY+k9qE7GzRwAOohQ9NArn22mtlr732Cn5NzAlsYlQSSFRbBg8eHJR6+8lPfhLZVNxY0O9MWFmPIhM1dIHCNkVpxSW9F5Ms7J5dlFnQ+fitCynO5ca5xLpwPgkiRbpQsvZH3HV28Y8SDe7sFBkxolkuv7w5uMWYMYuCn4aGxXdUds/ay9bMLTJ2T4EVC79WZynaJkXdz9pW3aww25bd43vm34wRy+5VI0wABptvnwM2sNpJYLQjLlmD7xD7MubYMDN2azk8gH6GDVTJmKRkIfD/17++vHz4YUMgzr7ttkuHXygbqKExrBeED2VhcNUjwDqilUT4P2S4kBjL4r6O+4ZcYhXD19IWrdkLAIyKrbzrrrtk0KBBpREE9BsAsJbHWFHzVlH3qQPAFEuyGyJ9n2oXfHjsaltbW4OahkzExLuQEEKs3lVXXdWbtEGiyO233x7IwDBJH3PMMcGTkqRjbFMoBQe4w1UddeB2hW1wLQKe5srNorkX1S4tJJ6UxJBl8Fox3DiRZRacqID6uOfZzFt21khE1PLBQgobyDuy+Nvg9e5ukalTm2X69B4QuNdeC2TSpL/KggX/DhZgWATOt3GOPuyer12wLd+KVrrQGFHf+1TifIAwjBXMpca4sqDZJCDAQJFutjzvpfpxKnuBp6JSLLYma8TVGI5K1mBDgAtbwwOqmYWdZneVjGHskq0LaI1idX/6034yfjyVRrrkyScXxGr/aVwo9oIdZx3Jk8ii8jusP5AQjAGUIoo8fGIVw8+1NXtVO5C1BbsCACFM8iTdxL2nsq51AOg3EuoAMMVesETHHXec4HKFBSDmbqeddpJx48b1UuR8hLAHlhFUIWhYQCsE7QoyAJBMPFOnTo1sIS5MPirYtvARTtTg49DDJmqooj2/K3IBYZICqGAv2DXfCT/sngTwqcCrdbkllQXz+QyQsmCB0p1rLbsQWERhAWizglbL7l199XLy059+WTo7qTDwvpx77p9lrbV6XOBlTLxpdibukrFALFwYtKZdW8bvw6LUFhwD+LAlbWZjlSTMXUbbfO8JsGITyjvhevN1Lbo8r6hkDQusNKa1lr8zYlphA5nDVDJG7bVggcg3vrG8/OMfDXLRRQvlgAN64m7t2FKArCX61PXN+pFUV9ilTziHMBbWJq3ZWyQTTKzit771rVyCyioar0ksfP9I1lBEoYx+V7YVQqbOALqOoroL2N1SFT5z5MiRgTDsueeeG/lkAtiJCWHiT2L3FNjZzLQiwV7SjowdLzvptCoX4UL2uLlYeMJyGWUCGK0ji01dhK0rPBx6H6fgGHcLrBV9CWix7N5zz31OjjxylaA01Ze+1CU33LBQ1l23MjIxUXaxoLVSosHajjBzzMKc5vrW+sdswOLKs1Wr/6M2e5rQgrxNHtFzDatIqqyRN1kDYMVmS+PZXDJiq2Vr7EE5OTZc6JwydvnOLrmkn4wY0SJf+EKXPProP2TevB6WnR/mMmWOlQ21lVKSkkR83xOQRcYu8z99D1tZBLi65557AjmyLK5q+w6axc5aBfHBfFW0u1qfpwwgtq7E+ubbV7V6fp0BrNGemTJlSvBxX3HFFUu0UNk9Khww4di6irUow8Jiwk4VtyXxYFD0cfFVZYksu3ax1YpLA62u98x7XlLsHjFo2JdFB9BqSyD98Y8Nstde/eX113tkYq65ZmFknFLe9vlcrxqHLIyM26JdqmEAg21gyQByNnbPxfVt9SOzatv52CbvucoGMj+4ZmFzLtdZwAd7b5M1sFvRGy+NZ3vllVcCGSuAVVnJM3ntyvWqzcf4XXnlz8uee64n77zTLEcc8bzsvvtfemOOtSxnGgOlYIV7h+sK+7SX9gBOKX8Gy84mFkIARYasB23DVbv55ps7C+enPYv5/rnnngvGGcwiYLDImEWeXweAab0Q/fs6AMxmt9Kv+tnPfhaUkvvFL37RKy1gXbmaxEC2Fu5nzTSrtd0PkydxgcRXsfvXD9+CPf5ezXqi4c7U0my0CdBa9AIYN3is69u6kCy7xyJj5TK4hs0Ai2lY0uTdd0X226+/PPZYkzQ1dcv06Yvkxz/uWCI5pPSBHHoA4wHXGu/HYpVHxxIAA1usAIY/LYCxZdSyLjiMXRgr+gBgVevJQpqFHSV2nVRZw1ZtSQMwRY0ZAAtjgT7EzVqWPlyW9uq32NjWJvMpf/jDHwYb11tuWVsuu+ybstpq7fLS0PGyfEujdIwbl+URvfN6OP7a9WaIRcOuoURBe4m3BRCiDsEGK8u8pbF66NUWOScTVoG8DOuT1hIvsmRbHQC6jpolz6sDwGx2K/2qiRMnysUXXyxPP/108CEqu2ddubqz4vcwQEV+sFlekMnDCiyzyOPqIf6DxZiPlNg1zQisNbBq31ndluyy42reZrFR+BksfjYzV13fdkF2mci17B3jhLGgkyta5MOHt8js2f2CR++zT4ecd167DBiQt/XZr7euNRZ94lhdXFfEO9nkA2wXzvpmnBUNYBgLAGzcgQS2ZxUNzm4xvysZCyrLBNuiiQhswPgWrRRLnoQEv1ZFn81Y0MocMNgAwWrMY7qZUFeuhgqsd/PNstbll8u/jj9ePjhuvGy0ETJSjXLLpj+R3eZcIAvHjZPOU07JbAoFLvxp53aXDQvJh4A+3LV68I2QIMi8xXflm3yl0jJFx+ppTCBglW9JSx0WlcCkdmSudLFd5g5bxi6sA8Aa7VBqAx955JHBbu7KK6+M1atjcWIXDVMBWxVVNaKsV2SyseyL1uoMs3vWvaNAhUW61uVXsJvWvAWo4KrKCi6ysHu+/cYiRnIQk6sFKuQAXXBBPznllGbp7AQgdsm111anhrB9JzYHGg8Gu2Zd2LqZsIAPxshqOjLOihBadrUzgfe0t1YSWmy7o5I1+D/GHS5vElqwb9Fud1fbpZ2n2a3YuBJxojY7V6u2sJlQcKzuXEBZv1NPlZbJk+X2gRNk1ycmytmrtMlx702Q1w45RF4fOjRgsn0T3cL2yOIWJg4YoIe2YPjQcAv6O03jMvxNliEtwzyKFwgZGA5sbjPD865bGhpVB4BpX9qSv68DQD97VfRsFjxqB+MGPv/882X33XeP3N0weRBgC/2vbsCid0HW3aYyLHZBVtDnwihY+RUmz1py/UR1sBW6ZjJ1ybgDmFtBav6eld3zHXRsBmCA1NWijMrDDzfKgQf2l3feaZCVV+6Wyy9fKDvsUGz5ON+2qgv75ZdfDrKwAVfq1mXxDQstuzCFvm3wOZ94S9oKkw3DglRI0d9aWnt8kjUYu2QK026+NQuy055Tjd9jV1tirAiXO/bCWxKuM8xcZdnQpM3EhyNPlVXPnywLpUX6S7u0t7ZK+8iRvcLnRWU2+ySJ4P4FSG244YaRXaVxrIQFsC646DCyQUerFnHpIg/YSn5sbXvNDIcRJG4xD/vLvfgO1VtWZNuX5XvVAWCN9y4TAlIyyMIccMABQnJInIuEuECCbfO6hO0CoyDGutssw5dnQUbLil1gXnatEl2ITZhw+QmLMVeC3fN9RxZ8ZYZh1zTW7q9/bZChQ1vkqaeapKGhW8aPXyQnndQRq2Pm+1yX87GXhgoow4d7Ul1gxK8xJlw2Ey7PK+McZVjYDACsynRb5k3WwN6wRbDDuK9dgEAZNnO9p5YYgzXKkoAD8NHQCh1f/F84O9eVDYVB33PP/nLL3QMC8Nfd0iLz//Wv3tcBXPKtMYYJF8kT18pNLRsYV1eY8+hPnkn1paRDE4Tw2KTF3TLfU2aUGMAiD0AobuAottJqB2ZxW9NOBYAu4TJFvldfv1cdAPaRHmRXvM8++wQuHFzCcRVAsriE7YRpRZY1G1ABn4/IsqtZYSjIEqYNuISrVUbOtb0sKAqyYVOUWagUu+faTl1IWEQZOxZkExd48snNctllPaLRV641XgbvIdJ/ytKi47i/Gjo7ZdHYsT6PXuJcFnQdV7ogc4LdSMDE4F4HYCNrUitZ2EkvzXthWxY22IuishvLStZgrLLhUiCAtEktH5qAw5wHcImbGzQ2VMcW4E8zv5Xhy1Nn+Fe/apKXDzpdJst46WpukcZFPQxghxHpVy8M7DDuTNzYeTcFaWwgHh8V107rxzDTDlCNah8ueBjjLbbYIu2WXr9HDoxNH1nAcYd1W/tWuQEAApbz2tzrpZaBk+sAsA91ImDp2GOPlRtuuEEuuugi2XXXXb1dwpat0kWZD9NKZbAws1vOGu/ma9JKl5HzaV8cu8dkw+9wAeL+ybPA+LQny7nqwgZY4MJWweArr2ySE09skRPnTwkWtz8OHS9rXDyq9xEa+xRe7JLaoPaysXtRZdRg9+KSgDQLmzFJe3HN1fKhQuJa/caVWVKQbmWRsBusDvaxJQ2LYkMVCMAeaaWLPCx+2f1i6/SyKYAdZjzbZA3+bWNDAX1FbVYh+q75+hky6uMJcs8WE2TQb0f2xgRGfReAUYAZQKqIEIFwkoiqPWB3wDzfEJsP18OybYDUcEITYxmXLGVIizwAxmyYAHZJh1YQYhNIAguxzC7jkzUE2/h8e0W+X1+9Vx0A9rGeY0K45pprghrBhxxyiLS1tcUOeqh/KpjwYbArVbbKCuEqC1MLwbNMmsSuFV1GzqeL42L3AMSWscJeZIXi+mEhZaKqFGD2eR89l3HDpEogtta8ZfF44YUGOeig/rLXi1MDEHjX9ybIwNtGynJn9AS+p4G/sE4hCzOTsS2jlkXmh4WAhYjY1r6QeavyNshdJGWNF1VZI8sYsNcAMmF6ap0NVHsRLsL3xr81NtTG75WlI3jrpjNkyO8nytmfmSQHv3qS9O/fY8W0zRFsFnMDmxfGQ17JE2UDVQ2CuUZLkfJ9+B60j+tV3khFn/neCBegZnGRhy9YhZTgGtYs/Z6SYm3rADBbb9UBYDa7Vf0qPo4hQ4YEO1/qDbMzZnLEhcbuVxkYPiAmC2WrACu1zFZpGTkWqLIrcqTF7qkUS5K9aCegta+4sHGP0V521cquzZsnMmpUs3z+8lMDENje0CIt3dFuLtgWm/nNJkN1Cl3s5fvhqEuKcQ57UMsuHsYTQAW3MBsuGCAWpjIra/ja055v2UBKlLmyLXmemXYtDJW1F+MLVkezcvneACma7Fbmpuvmm5vkj/tPl66GRtnmvpHyne8smTCVFh7B5gimleQH2EvanEf6ysYGYkcAHHOTaz34sO1pH65Z4vMIKeI+2JYxvPHGG6d1ldfvCZsBDBPT6XrY5EaNtY3zBjD/MqfVGUBX6/acVweAfvaqqbPZqR166KHy1FNPBZMLkw0ByFddddUSbBUfRdlZwkUahg9fy8gxKfFuRWRa+rB7Pu9jXdh9ga2y7BruIxZ/7HvDDU2yz8ErBYHuZDteN+vfst12/1wC8GmpK+ueLDvwmmfiVrOxdj79U6lzNVmDdiLFw2aGg0XayouUbS/f97Xl2Yi1yyvJ4fp8TQay7lxVFgjby37/gEKVECkrs/mttxpk4MDl5N13G+SkkxbJpEmLXF9rqfNU8oR3yFOzWTessMzcExYPQJV3fmRTqJni9D3jNi6zOKsRnnnmmcCzExe7nnRf2oMLGQYYII0HIwykmdNggctigrO+d61fVweAtd5DofY9+eSTgSQMqfq4yGAZkM+AMifFftq0abHuhqKyhCtlMi0jp7prPuxPEeye73ta+RXYqlrfjS5Vmu3002XA9Om9DGCrtMnDWx4qo0f/Vb74xR7JDMBMmaxLks1hJnCrsUgBXKs92SclawCQWZSo0oLERa2XO+N7AbQyp5DMwkamaPvqBswKn/Nc3Uwog+wS82U3iRqC4XKdyzfd0SGy22795eGH0SrtkgcfXNDr+nW5PuocNgdas5m4Oza2ae2NEqe22czYDVDFfQBE6h7O0kbNFGejxTyLC9hnvk17JiQFG03ePesB8AX4Y5fwRoX/Y7ym2TTrs5fV6+oAsI/17Jw5c4IScXygKMDrbp1MWrKEmRBwCZOYEHVkyRKupolUzoSPP0nouix2z/fdaS+TFItcpYW5fdqqbBUuVhb+Na+6Sta99lr5v0MOkXeOOlbeOe6Xstuc6QIIvGTVcXLBBQtlp52qqxnI+xGzhn3ZzACyK8lWZUnWgNGivWzQWLTYrNXyoeLcvGve9vLult3DBoAKC/hw7edxi1r2klixIuw7eXKznHpqs6y4Yrc88sgC+epXuwvrMs3Exjbh9jJ3WHvBzLHZihKn1ga5Ssa4vgBMIAw28ymbFtaRIrwvEBawf4DAPAfzFt4hvF2qbMCYqgPAbFatA8BsdqvJq1gUf/zjH8tvf/tbufTSSwMxz6iP18ZWlCUcXaSBbHvJDMMNYGOFYApZXMqMRfN5H9te1V3Ls8j5PDvu3KiqLSwuLMZfufZaWfX88+Wl/feX+Sed1KsT9/axp8mXLmsLQOAUaZWDD+6QU09tl5VWKqJF2e+BfYmrwi1UVgJOkckatr2wa66l77JbKN+V2l4V6KW9aWygrdyiDB/faCXc37a9hMDQ3qzs++23N8mQIS3S3d0gV1yxUIYM6cxnzIirLdsKAMbDwdzNHEb8Npt4ZfdcK93YJJEk7cC0l2GzwrxAG/g77WGjlVee65FHHgkAZV6NRG0/GxVibfG60N8AS4BgnQFM6+Elf18HgH72qvmzmQguu+yyoIIIYHDcuHGxH0VfcQkru4fLklhGFf20mbnskot0WRTR0ez2YWY5bH3eIu6ddA9bk1kXYyZMrXygDIwuLs1Tp0p3U5O8f8wxSyS0BJmBk0+VB+/rll2fagsWxS9+sUtmzmyXrbaqPhuomay4Ylmkspbj4psJJx+wGGvyQVHJLVqVgz9pb63r8NFOXO7YIixwbN25VttRbeXjzi3qe6APaS/MGSECuN592KsXX2yQrbdeTj78sEGOPHKRnHlm9ri/8DuFATI2Y9wCtvgdTBsMWZ740LBkTBa3MPMVoI/YQq2BTRgDcXdsvLOGfzzwwAOBBmDRlWhUggmAilcsa/uKGoN97T51ANjXesyxvci/kCUMTX7FFVfEUu+15hJOi90D9MH44bpkEa31MnK2Pi874DJKh2ksmmZPsgCy8IWlWNJYHIYW7VUxZpuAQxm5I49skTfeaAxG4IEHdsjUqe2yyiqOA7Kk02wsmLLZaWyrur+tViE2VOFzdbnlWYzjXtdm3pbFXhZpastesiHQUn3KuFv3JPbzAVxFtlPvRXsRPyeWjbbFCR6Hn/3eexKAv9dea5QttuiU3/xmoTT36KRnOqIAMrYJxzsCWGz5O9qbV/fSuoV5ptUOTHsZkjWwG4BPD+YVXMMqOp0l7OKee+4JYtRdymimtTH8e1znkBkA/joA9LNeHQD62atPnQ0QOPLII+W+++4LWEHK+9SaS9jG7umCrDpytg5smN3TMnLqUqv1D181Dplcia1yAWNRg43JPSoWjUXDZubmXYzpC+RiAEHEMvLnhx+KtLY2yyWX9KyMn/1st5x2Wrvss0+nNDRU99NgAaC9jG/aa11WZVXWyPPGVoeP9mZlL/O0Ie7aqNJzhBDgXuN3hGEgO1UGQC7qfehzzRxPE2RGBomkjzlzmgKG++GHF4hvqGZcvKMrQAbEENeGh4ONF/ZN28ik2UrdwtYlnAbQn3766WBTTR/bw9bt5fcwrK5udtpx1113yeabb54b3MbNibSPNaLW14G0Pqv07+sAsNIWr/Dz+DAuvvhiOemkk4IqIqNHj66aS1jZPZsFmCd2r6+VkWNRYicNWGHRd3EBsjBoXVOt3EKfWnDM310nY5/hBzhnEYWhgJkAbHM88USjDB/eIi++2MMGbrttp5xzTrustVZxwfI+7dRzlW1FHgk2gIUPm5VZWSNLO/Uay16y4LLwV2MB01J9moCAzaLElvk/pDgYEyRbwGiXMe7y2DR8rQoyE/7Axgv3pj06O0X2379Fbr21n6y8crfcc88CWWed5HGsmzAS07AVfxYV78i9cGNja9qblzHzZQNJMmQswk5HHRoWQDsBgS4eDeJp7777btlmm21KGS/6jgDAvKC5yLHXF+5VB4B9oZcKaCMFvskSJtbk8ssv713Mw7cu0iWcxu5pnFCe2D0WfcRMiVMpy8VagPl7b6EB4CQwhF2WSe5vG1uVN3PS9300zsbKryBxd845/WT69GZZuLBBll++W045ZZEce2xHLteZb9vikjW4D+CEuCUCz2sZqLAJYmPAuxDWoKX6fG3hcj5jzJZS0wQqgJFlq5JKz2k5Ma5lYwDYruUDgEtCC65hYtsAODBhXV0iP/5xi1x9dT/p379bbr11oQwatHRsq62VriCZeUe/SU3aKCoBwYZhFLUxcGUDH3vssWAjkhZaox4YxgljNqnSCezx/fffHyQllrHBqQPA7F9fHQBmt12fu5IJ+/DDD5eHHnooiAuk4HdRLuEkdk8nSha2sqqQ1EIZOZ8BwaKPOj4HwAqWiv5hsdHMSXXp5gHIPm1KOpdJHJCC+xn2UoO5X321QY49tkUefLApuHzddbsCt/C22xafJOKTrMEiCshmoUpzARZlozz3UXkLSvW5xjK6PM/GOyp4CYt5Z0mgsrF2MNk+LkGXdhd9DolO8xYulDk77BBsBtZd9xvS2rpyEM7Q2tAme+/ZLmtfPSZ4LEx9WI5Fa6UrSC5rHrPvreXQtFxfltg7e79wkkhUbCBrg6u8kk0SYaPFTxQDx9z28MMPyw477FBKjKi+Vy2UMy163JZ9vzoALNvCNXZ/FoQLLrhARo0aJSeccIKMHDkydleWlCVcCXbP13QKUipRRs63bQpebOIBEzwTJn2icTe4fGrVjaEJDLApxCjBFNDW7m6R2bObZMyYlqByAseuu3bI9OmLZO21s7uF45I1WHxtMH1SLBqaZgBXzselVstMIHbjm6O92BqgrTVaXcdbnJactRdjrCgmhm8OOY60Gsiu7S/rPK3du3DsWHlhrx/KhAkryS23fDmQOGqTCfLeccfJ/w0dGgA/DRmwjCgMaVr8XBltV4+BVnnKI3Gj7bOSMeEkEZg6qoD4xKSycSX+lu81KrudEBaEoLfddtsyTBR8K/zUAaC/eesA0N9my8QVfJD77rtvID1AgkicGweghx4UekvEeyjws1mAGo9WiV1xmvFtXFWRZeTSnhv+PUwei7kFfCzOFrxgNyYtBSm1UuEi7V3peyZ8Dptw8e9/i0yb1iwXXdRPOjoapKWlW4YP75CRI3nvtLv2MOhqlXcAACAASURBVC+2DiwLBwBTF2IdZ77ghfuqZhggsNZdltYFyPcZVfoKa4ZDBhhrMLQkBNmQgSR3bnqvpJ9BO7QGMswwbuFaBNoKAn+53jgZ8vxkGSeTg9rX6F/+44gjlhhntdZ+dbvTx4S6EI+bB5CG2UCVjLn33nuDAgO+Gw8r0IwmnwWqrB14O7baaqv0wZThDJ7NUQeA/sarA0B/my0zV7Brp5bwE088EbiEv/e97wWTCu5UBTCaeMC/mTRYhHFRZXEbVdJwtJtJh8UPkFL2hB4Wpga8EBNkF+Ik5sWyl7WWFRrVbzb2Mlz/+KWXGmTUqBa5554et/Cqq3bLpEntMnRopzT25I0EYymtsga2cxXCTRtb6rIECAIAXcSN0+5Z9u8ZQwBtFmfGhEqwWPckGzKV+1GgXPZYj3tvC7RxCcNq5wEpRdjXJri8++778vqPbpZD3/hpUOuamtdvHnmkzN1ll163u+/moog2ut6DMaySMQA0gHY4qcX1XnqeTRLh/wCAhAZllaKBPSWJhflX64yzwSVxiPWljEN1YWs5K72M9y7innUAWIQV+/A9WEBaW1vlzDPPDHSaKAtGqZ2ZM2fKBhts0JttyoTDgg2oIiYNYeNaiE1LMr1rGTnf7gvLZDDZ2SL26m7zdRsxGZPBirsH1oefai+gabZhd4/LUoPBdUzgFr7jjsYACKKtxvHNb7bLT37yN/mf/3lTPvjg/cBlVIlsZvsO9BPtZaGqdTFmABWbNGrIqrajbipsLFqtgRat2QwbCAio1DxhwywUJGt1jX79PiPjx68rjz66giyQ/gH4625pkfn/+lcgdI2Xg/kChrhoseK0b8j39zaphbi7PJIxNqOZsUbfIRfGJiLr3KOMMECQhDWSsMge32yzzXxf1en8OgB0MlPkSXUAmN12ffZKJsdzzz1XqM8I+8eiyETNoojLadKkSbL++utHvh+AERYFlrCWa93aHa6WDWOijAtUTupMDQq3QstWJkNBTFFZgCz2KPIzCWPjvLv8sgcqC5KOCRZQJnxlRN9++3254opPydVXrynz5/foB26yyTxpbZ0XCO9WI95R46qIZSQrnszQaoMom0Sl4MXK1zAWyGLVMZGUdVl2f7vc37KBRbgso54ZV10jXH7u3XeXkx/8oL/8/veN0tbcJq2LJgTgr6G9XdpbW6Vj9OiAkWbzhaIALkxY7aK+Zxd7ZTkHwKal21wlY7CZykpxPWMtnNEMAM5TTk7fRYEqCg2wc+gAlvG9037uW6mNRpa+qtVr6gCwVnumxHaxsJANTOkcdmWU6CHLDTbnkEMOESRjZs2aJYMGDYpsBZMlgqXQ+n2hljAvoVm3vGcSqOLdONfG7mkZNSu0XHZcFS537MuOnMk9TZahxOGSemtlRFlAaS/MAXa08Y6dnSvLz362olx8cb9ANoaDRJEJExbJBjdNCUrRsRCHD+K2Gjo7ZdHYsant8D0BRhsXK7ZmTOTVXPN5flhaRDPArTs3rO/INbDDsPSAVjY0WVkan7bmOReXJUwQ7+JalSPueUnl52ycqAXzc+Y0Bjp/f/97o5y6QpuM+nhCL+jTmEAFgTxXXZj8yaa4qNq1eWyYdC1jgso9eG10g2vf37rAAXyAP631G5fRbJNEigCCgFTWC0AgrHvRDCvzD+9UrdCHsvq2EvetA8BKWLkPPYOPCXfw+PHjZezYsXLcccfF7tr6Si1hNb8FVUxExILZCVLjHTk/7JrMWrkjb9er3hZthUmpBVYiKVkDYAw7zGINixzWtHvzzYYgUeTqq6mB2iANDd1y3f+0yZDfT+xdmNVmUQt0XnuGr2e842JlEcXlDgNeBktBjGc4wcVKi2An1wxwFnLc2DAejOOs8VpF2zLufrYqB2MYhs0FuNq4Wt6ZjRnv7FpdY9asJhkxokUWLWqQcz7bJse+uxj8JY0xABBeAxhiAGARmbdl25q5GKDNOCNBhLlObYYHAdCldnOJq41LEnHpt/C7smkBUOMOVoaVcVDUnFoHgNlHVx0AZrfdMn3lo48+Kvvtt1/AjFx00UWBVl3U0ZdcwhrvgkuCCZ5dI+1XEVxl+PKWUSt6YLAQwlQxuRN7WUmmKkuyhs3Ejsti/eMfG2Ty5Gb59a/7BeYa39gmk7omyFtHt8r/O2O0VAL82X7ShAsAdpqwbVr/WpupO1dZ5KKkRVSDjdiqcBJOWvuq9XtlAxm/sIE2aD/OZnyLKrSM7VzCISjtdvLJLTJrVs/Y2n33DrnmKxOkZYAfy2wzb2slqcX2XdhmWpGEcwB5fHtUbMnjGrVJIr51hbWthIcA0vBkAARhBPnetLpQFlBp7QDYBUwWBSir9X1U47l1AFgFq+NqPeaYY+SWW24J2Ia99tpLzjnnnCXql4abRQr9gw8+uMR/U+f3wgsvLO0NyN46+OCDA/CBSxh5gKijVl3CSVqFLCz0AwcucFs7tjSD5rgxNoapQii4THkbbKYxQrY2s3V/u5aes6BKs1jDJnjmmQaZMKFF7r23qVeWY1FjizR3LY7PymE2r0vVxcrmwAdUaTUSy/Bpgot1TZaxQMG2sqCy4EeVOvMyQAVOhnHX8oKrr756sGjb6hpWr5C/+9rsD39okIMP7h+UKYRdHj9+kZx8ckfmWtVW4oa+BAhWK9s0HL+nYQN2U4HNtJoTvy8q/lLdwj51hXU4sX7gnoVJ5dCMfBhLNgOM2zwsdh0AZv9w6wAwu+0yX7nzzjsHWVEwa0yIw4YNk0022URmz54de08AIB9QW1tb7zl8NGWzQUw6p59+evBc3MLDhw+vSZcwk4qWuNKFOK3OcF8rI0fH824kiMCEwFTlWYxs1qS1GYyBBXx59B2ZnHGlEQOUVKrvqacaZcaMfvKr21YIMjSR6dhjp3mBhuCmmxZfVSTp49XMZr6vKBvDxFopFtxvLHBW8iePzXwnFhb8Wq96ElVdg/GH3QCCMFV5bIYU3CWX9JMxY5plwYKGQHrosssWytZbFzN2aD82prYwmwOSh/IyV2n9nCV+T++pwBWwXYZkjA8b+OyzzwZtIAHPHroZYC1kU5s1/IJ5nI1CLYTHpPVprf2+DgAr3CPsetjxIMS88cYbB0+/4447ZJdddgmCu+OKcAMAkWU5++yzK9zinsdRImj//fcPVOJhHeMCeSvlErZB9ApeVBPNghcXgKRl5ChphVui1icStTEMrY+wcRGVNbIOPhW7BiTFCQWr21cZQKo0TJFW2WKLTjn++EWy3XZk+2Vtgd91LE4KqogNZEwoI8pGA8bYMi+1IEKLjWEDdcF3Gft+VnE7Oymj2doMm7I5wDWcB1S98UaDHHVUizz0UI/u5Pbbd8rFFy+UMkoUAwCZw4l1ZRznYa7C1sTlrBuLPPF7YZCl49jWQXbryeizfNnA3/3udwHAJ2Ew6tCYVn6XRQOVtYCNRK3P23lsXta1dQBYlmVj7nv55ZfLiSeeGATo6sGCzmT9y1/+Uvbcc8/IKwGAWiKKIN/BgwcH+n1FTkBppmCiPvDAAwMXzlVXXdULYMPXWZewlgzLs1tWpkqBHn/CumgQvQI+Fr6sch6wOrgqWNyJswsnL6TZphq/Z+dMfA3jAXY4/O5lVdbI+q60B4BC/8GssSjoEY75++DkU2W1CybLxMZJMqlrfHDa177WJUcd1SFDh3bIiitmbUXyderOtQsxwJkFhuQFYmFh3X1dk+W0dum7KqsCUMFdmbdihEu74+oNh925cVmaClwBVT5u7M7OHtZvwoRm+eijBhkwoFsmT14kRxzRUepGwcZfwlxlycaOi99jDrMJG3ni92zfwWrz7TFusbFvpY+oOV7jA3ELR9UV1mvmzJkTsLywpnGHVr8hxIXz2BC4fmN1BtDlK40+pw4As9su05XTpk2TK6+8MgBR9iDLE/29o48+OvK+F198cbCDgiFEjJlavgg333jjjZnakfUiFsjp06cHP7T3qKOOSnQJq56dj3C0xrpYwAd4UNZFF5aiWRcbZ9dXZDYArNiYhZ82W7eR1ZHzyQDMOjZcrrObA8YyE33/GTOkZfLk2CzgW78zQYa+NEE++KBHPmallbrloIM6AjC41lrZaw1zL8u6APoIG1B3rtqMRVirG4SBq8s7V+OcIuVXwu23Y0xZUQCAfpcAGN/NmBU3tvGXzVOnRkoEzZ3bKM8NOU3efqtbJslEGTSoUy68sD1X7WnfflJQxXgBVCXFEcfF72EzBXz8vUwWi7kbgIVcU5RkjO/7c76LZMxjjz0WuHhdpKyQZgKo8h3CsKZVk1EQSh9k3fxnee9l5Zo6ACyoJ0ePHi2nnXZa4t1YRABsWQBg+Mb33XdfUFybFHs+rkoefHQkpOASJjHk/PPPjy0e7uIS1pgqK7TMRBhOPKjUB86iBqiqVBm5LH0XTtaAUWaRITaQSVPj0WpVGwtwCuPKewy84w5pGTAgUQfwn8eOldmz+8nMmbgNe/zABPnvskunHH10h2y1VVdqoD/jFubYJmsAAMPCwVGuU66FcWXjhn1hXMtcrLOMifA1VoxZF1Pf+9o40XB1DevOLUoXU5NaNMb1U+ecs8Tm4B//EJk6tVk+f9l0aZMJMrX/JFnxtNHyox91SFOPB7iihwVVNuM9Ln4PmyngyxPzmOcl+QZs5RNCX/IcaZIxhA8BkC3jn/Q8/dZYL7FXEiusAJRNWqXWhzy2qrVr6wCwoB7B5cLklXQQBHvNNddkcgGH78tOiR0n8YM77rhjQW/hdxsqExxwwAHBrvLqq68O4gOjDsv6rLHGGoH+nmrusahoGTUL+Fy0qvxa63c2EziTJO2Dvcw7Sfo9fcmzXZM1AFO0uZaBq30zdfuQ3eya2Uyw/z33NMoFFzTL3XcvXvHXXrtLDjywQ/bfv1O+8IUeVjBJONiONR8gB+NKKAZjNku8Up5xkPVavlNCBRjDuIWTNgWMNdgXrRLB+AdIhkFyUa7JqHcKS9ysdc010jJlity/9QTZ/ekJctyHU2SyjJfrvzlRNr75ZFlttayWKe46jQ1UdyQbHJWXUsBX7TnNvi39rJVPdEPj6nKNs1qcZMz9998frA2AOZ9D9SMZv3g38ICFNTr1mYzHMvQ7fdrbF8+tA8AK95omgTz99NOy0UYbBU+/6667ZKeddkpMAgk3E50+imuTYRVXtq0Sr8YOeMqUKUGm8NSpU+Wwww5b4kO0cWgAZHafxAPanXCtxlQxueQtI5elD/Ika9j6x33FXamZzVopwEXrDbu+/HKDXHRRP7nmmn5BDBhHY2O3DBz4gWy33Z9lvfX+JJ/6VE92rv4UofGoiyfsu8a41vriA8uubmzYQDZhHBrzCOBTZpT/D0uLVINdwcX6v//7gtx331qy2iWzZeRHE4PscLLEXz1ovHx+5qgsn1fua8Lxe4BkNgbK6CF/RHgDWe/VsJvPC9JuxgXzMu1Nc7m63DucJHLvvfcGFaeySm1pVj7fGJsuG59dB4AuPRJ/Th0A5rNfpquRgaHCA9m0KgNDRrDKwAA6cO+SaEGcH+rp/I5MYYLQiQE8/vjjg8DasDZgpgblvIiPEJc0LmFALT/PPPNMwJKgd8jOV12STJLsPPmo+0ItYUzjWkYuqxmLTtZQFwqsjwZU1zpAsVImsFQkXCQdtg7s3/72gdx223Jy552flz/8YXFiycord8m++3YG8YLrr58vVjCqLYwL3NjYm7GcN7A+6/hxvY52IoJO5i1gG3BiYx6VqSoCJLu2Ke68hQtFZs9uktNOa5a//KXH5b9A+gfgjzq+800SXd5npV1v4/fUDQ5wtjGPNn4Pm8LE813jvqym9yDt3fg94wKWjfAGLdmXN4Oce6osF4z5FltskSthkT7A08QPXiSt1VwHgC49XAeA+axU8NWAH/T0rBD0ueee27tDwiWG9ATUOdm/TNq4WllscP3yAZAtPG7cuNJ1AJNeHcbgiSeeEIJ8H3/88eCHj562ExsIq7nbbrst5XKyLuEisoQL7p7I20WVkcvyXMseKONSVrIG9yWWkckTN3bWHXiW98x6DckLLJ5sdACC6paKSjwA1IYzTV9/vYcRvOaaJnnrrcWaMeuu2yU/+EGH7Llnp6y77mIwGJdkQPtd6hDrwkQtVlc3dlbb+F4Xx1QRIgDgZkyrNqPvvcs6/4MPRC67rJ+cf36/3v5bbbUuufYb42Sr+6ZLV3OzNC5atFTCUJHtwTZW55HvFLCsrKgmuSRtqhRswxKTie2T1Vrku/jcS7UO+QZ9JWPsWNPwAVhnDR3gftgQm+VRhFBwzTqoElg8u+iEQB+79eVz6wxgX+69KrcdcWgSWgYNGhRQ/PzJoo0r+KyzzpJTTz1VDjnkkMKzhKv52uyUcZnAUDGpp7l4iqyskeW9rdg1iQuVELDN0k57DcwxwJVJHoDHv5n4NaZKF+KkxAMkQogVBAzecktTUA9WDwsG17t5emIGcntra2RySvgdAQwwHcTXVas+r9XGTKuuoZswNOJqIanl1VcbAkmXq6/uJ++/39NXn/98lxx7bIcc8+8pMuDUybJw7Fh5Ya+9ZPkzzpB1Zs+W9nHjpOOUU/IOt6UywXGH2rEG4Msav8cmjPmCsYzrndrCtX4QqkObk7KbNUzFxorGsaJpSSK+9tCxi4dDdUX5Mw+w9G3DsnJ+HQAuKz1Zhffgg48CQHygxDWiGbjNNtsEZe7i3GMuWcJVeLXER8Jy4oZnEiT+EiDC4ZqsUY3sP1hnGGQtvVRL2cFxOnIEdsMikD0IU+UaGxjuPLyFt93WFNQdvvfexqXA4Lmfa5PtHpok7eNapeOU7HWIbdWTSoBtra4BQ8VCTOyZamMqSE4ba4xlGFeACsC1ku7KRYsQwW8KgB+lAPVYZ50uGTFikeyzT6cMOPPUpQA67zp/zBj5ylVXycejRknD+B6dSJcjKX5P45LZdOR1gdq2WLCtY7mWvr8ouzGWCT3C+0TyBZ4amxzEmIuK5U5jRfnWuc6nkkhcv2qWOxsYvGJ1AOjyBSx5Th0A+tusfoWjBYhlJC4Q1owsYeKkoo6+6BJmIsO9wwRJQD3/ZlLUjEnrmixyMXE0feRpKsQMUKAvKrnY2wbhzrUuNtrDwmETDwCqGqMGcOWgzXnd2P/+t8itty4NBsfJ5CCzVKuQfHhyqzRNHJ3J3DAosIGAL9xURWTM2pgqtR2sEpsPazdAsu9CyL2pQkRsoGozpjHbYcP4uNKffbYhYGavv76fvPtuD9uHpM+OO3bJEUcsku23X1zxJe6+AJQPR42SD//1L+lsbQ1AStR7+8bvZepwx4tgsmGt6D88JUUkXDg+2vs0vlGANu5g4tU1u5k5I2+saDhJRAGhdyNFgnZxfa3MsVneoZrX1AFgNa3v+Wz09mbMmBEAqm9961vys5/9LEgSiTuoLEK1EGIKcVeiU0giSSUPJhJqCNPWM844I2AF4xYoXC9ZhKMr9T5RyRq8C5MQCzFxLkyQvotnpdrPc2xmM7tm4tbKTBDhebBLVnsP4GITgwAwSe5cdWOTPMQ4Lmq3DxhUZvCBBxrlX/OX661DvELTAhk4sCsoK8bPt77VnaozGAa5LPaAwSwafHGsKMDYAr4imST6CeAK6wobGFfuMWq8hiu56Dn6/385olVmrtIqv/51k7z00uLYzP/6r+6gssthh3XIl77kn6ijrnekfLRuc974vTK/R74HQBVjg75kbNQCeAGcqjuXP+3mgs0sY4PvT0NfypKM8bU93wnzVxGbLN9nLwvn1wFgH+nFX/ziF3LQQQcFmcMkWFATGIBH5pZKOthXITGDzCsqdpCIQRYxAHDu3LmxTFxZpmDSu/322+Xggw8OEkOID1S3afiZteIS9knWABhqGTlcwkzstX7gzgFsq7RCXH/4vkeYcQH4sQkoAriwMGFn2spiX+ikP+VUGTB9ci8DqHWI9f0BKt/9bqdstllXUHVivfW6pV+/dOtozCixX7ix4xbOuCSXKFY0/anZz2Dcs9DDbqMyoMH7Lne0IHD+iaPl7WNOk69e3SZhW7a0dMtuu3UGwI/6zi52jHs+wIXwBtrMBpKjqPg9l3fOeo4mXKAfmKcOcpbnh93gfFcqiK7sHn+GNxdWMkYZzCzPt9dofCAbaU0Q8WGw6wAwXw/UAWA++1XsakDfJptsIuedd17wTAY+TAgyK1QhCR/77LNPsIu79dZbe381cOBA2WCDDQIQWY2DSRqXMBM2Eje4x6KOariE8yZr0GaYVmQK+koZOcYQbj9c9Sq94jP50nc2Dg3mBXeuzZgEwPiWBUsam1rrlvqxmgWYdyyH2Sv99+M7T5CpjePkgQea5OOPFyeR8LwVVuiWTTYBDHbJwIGd8p3vdMmnPhXdEhZXLW8FcCXDWSUyKlFdI4t9mDtgA7F3WHst+psVeeWVBpk/9jTZ7PZJvXp9FvztsktPFvauuyKh4t+qtPg9AMvf/va3oEILdq51WR4swDgm4QLQynguo7a7ZZOV5UuSsUnqGSsZw7fNvJGXwQwniSTVFQ63jXfj/CKZcP+R2XevqAPAPtB3LLJMDDfccIPssccevS2GUWMBufnmm5d6C4J2TzjhBBkxYkTv7yZMmCA33XRTIB5drYMFZcyYMQEIPfPMMwNAWGmXsEuyBpMb8Wa+7lEtI8e1LEJ9YWJiEWKxZ9ePSyqOpVJ3rnWxlSVhkzY+lVmD/YZZ86nmYe+d5rokC/jj40fLU081yuOP89MkTzzR2JupqvdCgHqddbplvfWQ3OmSb36z50+qVGA32Ck2CLj/1rnuOulqaJC3DjtsCXcujKaL9EyabcK/94nPs9eyuCJvw6YmLHiNTt9zzzXKk0/2/DzySKP8/e9L6vUh2rzHTvOCW555Zrusuaafizctfk/ZUdv3tjQbclSUZ/P9hn3tm/d8Np8wroBXQjKwte9GzLbBintrrWbfhI20d7IMJhte2OI8beZ5GhuobKCLZAzvSv/3hXk2zabV+H0dAFbD6p7PZGJAvgO3LnIreowcOTIQgp4zZ85Sd+SDQKJlv/326/3dBRdcIJMmTQqCeqt58KGjgThs2DAZPHhwEBsYt/MtwiWcVFlDBar5M+9OVm2qZeRwf1Yz2cKnj5nQAYG4hmkzYDAsK8L78H/WnUt8ULUmX5g1XMJ5yrJlAUeUo3vxxYYADD72WA8w/POfF8e1WbuvvHK7fOlL78uaa34g3/hGh3zta92yyR2nyzeuu0I+PPlkaZo4sff0ODDq049R57qA3I4IL4Le6403PpY77viLvPbaCvLPf64hf/xjf/n97xulvX1JVrR//245f7U2OfSNidLV3CKNi9q99PrS9Pf4Rhl7LoCOsQrrCpjoK2wg7BxtVgbTNeFJk6qU3YOF55u01ZbKEvdWBpO5k82ja5vjxrSvZAzzERvWvDGJeb+xvnp9HQD2gZ5b1gCgmhxGZN999w1ABy5h3AlRh69LOCpZAzeBrf/K38tM1tDMSnTWbJH4Wh5uBP8rEwEbhR1VVkRt57oAV+o9sTMsFZIV1bJzT5m1D+XJJxfJc881yMsv95c//enT8re/DZDu7iVBktplSv9JMnbhRLnqK2Pkmd0myN4vTZNBd0ySNw5rlUWjTpHPfa5bmpuLs2KcmxuG84NjR8vf/tYgb77ZIH/5S8+f//d/jYI236uvNso//xn9Dp/9bI8b/Dvf6ZRNN+2SLR+eFsRRqnZiGqAFuFs2Oay/l5YclGYdK9JdrbGR1sbw7y2DGddmm7CB/Zg/2UDb+L1KCiPTZuYNMsmLsrMCQeyTJBmj2clZPQC+/bOsnV8HgH2gR5clF3DY3LzbqFGj5LLLLgsSW4hd9HEJ+yRr5HVRZBkqmtkMkKIaR1EsY5a22Gvi4qlIsOCHhQUWgWzzMuKS8rY/fL3aWdmTopJaws+JsxvMh03YoJ/nzWuQF19slOefb5Dnn2+UP/yhUV57raG3woVKz2h923CyxCqrdAdA8NOf7g5i5nr+7JYBA0h0EFluOSogiLS0UAOZhbKnFjIH7Fx7O3+K4K6lVvKWD0+VPedOkvaGFmnpbpczPz1Jxi9qXSq+Mapv1lijx6X9ta8tkJVWel2++tWPZLvtviwrrdQT+JjKMo4bJ+8fe2xvpqmtnxu2W9FjA0YMdpsDNrAvJGlpmxlvX/7yl4PKLdjMNWGjaBu63A/WlXhGQBnxjPRr3iNNMqYOAPNZuA4A89mvYleTBILkC3IqHAx8YkUoKReXBEJ8Fq5WPajUQZZqtZJA4ozFR05s4qGHHhqUuDv99NNjRX/Z/TKZM9mwyPOO2MKye0w8teQS0DJyxH8VlbjgO/A0LsjKsSTZjfNhL4m1c6nN69ueMs5XJoKklqKEmDUOTd1r6gYPl6DzGW8ffywBEHzttUbZ5+CVpF9newDKvv2Nf8u77/YPtPE6O6NZt7x203q6gM7lZGHv7QYM6JY11uiW1Vfv+VlzzS756le75Stf6ZK11+6W/2id9849MK4kdQFO0ODrP326dDc19VZNsZUiVjzrLFk4b568tO++S5Xu87FbnnenPa+//noQh0l7abeLKznPM7NcG07YIGGOcQ0jjwQLMlO27nCWZ5R5De1nXDA+VFMyLztn2UD6zMYGYhs2qnmfUaZNavnedQBYy71j2oYMDEkfF110UQAEYcuuv/76QE8KQVEkYogTRPaFg3jBLbfcMijHtuuuu8p1110n06ZNq4oMjKuJCTaHAcSlhnA0AdG4Fpi4mbTV3cEHz4QI68OkCEAp053r2v6083zLyKXdL+n32DDsXvOtEsH9tTYvFQywc1+YaNHeIzaQhRLA7ROjGA4fAPBlsZtL3ylr1t3SIg3t7fLqQQcFiSHrrPMNmTdveXn77QZ5552GIOEEzcIPPuDPBpk3T2TBApH58xtk/nwRKmp0d/f8EJ/I0b+/BC5k2EFkV1ZcUWTwoImW0gAAIABJREFU/06VbR+cJJ39WqSpo13+b9j4IMEFVy7KRTCIPge2wc6MCcYGLJUFyuFs8FoIH2DOYAMJqGBsMEaqeejGTNk9W2FDY/gAPMzzjE3aXC0Bdx872RJ4jI0oqTKf+3FuVJII/8f33Rfmf9/3rcT5dQBYCSsX9AwkYFQIGjmXc889N9AE5Nhqq62C+ItZs2b1Pg2dwHHjxvUKQcOsVVoI2ufVmeBIaCFLmFJrLCxMiABZEkWUdVE3aq0LR0e9OxMj+ntMXLiEi3BVci/igDTjT91rUW7JLG5wZV2RLqHN1V40XcYUYwl3FLbA7QeADR/YLSzHYkWq1TWZtQ5sUjvjYvL+euSR8r+DBweZzWxusvRX1HOTYgCTEkDi3kE3GDBUbBI0XhSJG41FSxL3dunDss6BpYIJZGOJFwU2sFIAwlbB0fJ9LgkbjFWqDrEhXm211QLtwEqxp1n7gTa/9dZbgSeBMQEQzKvdGU4SYdwxz9W6LbLasOzr6gCwbAvX759qAbKViQF86qmngngzXNVoeD3zzDPB3wG9cbFzRWQJpzaw4BO0jBxB00yKuEp8DssaKOhjYgSYWVd4kZOiTbZgwWSzURQ48Xl3n3N1AYI9wcYwygBwy4wWJVLt0660eLl/n3CCPL7ddr2F7n0YTBfwp+ekJWnoeSr/o+xeVPweYwFNSRZ4AHdfiRuFDeR7pM1lbGw00UVtpwkbNkPXp3yf1m5mo0LWLQLjtX4A0ihYQMZwHtFrHYdPPvmkPProo8EPa8bjjz8exCrXD38L1AGgv83qVxRsgdtuuy2QpgHswXwosGBBwSXMAUhkAY86fLOEC25+5tsxIeJCS3OvhrMlWUSUNVCWKotmYZaGE5wOg8lCj1xMrSS1RL2LBs5TbQEmAuAM06MMlcqKVIr90Ta6SM98fPLJvQwmbr88C73L8xaNHdtrQhu/p2DZCgerdFJ4g8E5fLOoFqANV1TJvizj1PUaq3WopRGzjockoGzHXBEsGOMZUAXjyiYy7ybB1V55zuM7ZDPGnMGYTvN+YE88QAC8Rx55JAhrghTgW/je974nm2++efCDV6IW4znz2KpS19YBYKUsXX9OJgsAfo4//ni59tprBR3D3Xff3StLONNDK3gRrjRbRg7mU925uvhqmSarWQhrUK0DYMXio0ktxKDWwmGBMowLdtSyYMSfwf7BurKR6CsMJnGjLJp5Ba+T+of+ZKEtKn4PtzDMGiwgC301x6rruGSs0GZsARvoksEKeOQ6y4xyPWPNAr6y4maZOxgbPJ+NM67hWmflsQ8JInyHfI/bb7997yYSwMecouwef9InCHor4KO8adn1y13HzLJwXh0ALgu96PEO559/fm8cIbQ5WcUklUQdxBMi1mwPdq8stJU8mBhIYjnqqKNk6NChMnXq1NhYkr7mElaWipgkJnLNcAtnmZa1iOTpR1hbhGsBgCxAWZmTLG2wcY8KlFkQYUJ18cWGYYZSExdgTGAw+wI40RhMFkwV6c5iM71G4/cUuBBLi50saMkbv8e41izyojKy87yzy7U2gzWqDnI49IJxpxU21KVbjUQXvkOAIM/GLVzLrLz2A7ajLjweBeZ0Mvdh+mCQ2TRYwFdElRGX/v8knlMHgJ+gXieTmGxhZGBIHiGTmEQR2JyoLC0A4HHHHRf8Xg8mvGoxPrRjyJAhQcAvLmF2hlFHLbuENelA5Vh08WUBAVzj2oEFZKHvC24d3gcGkzgfXDFlaawlxT2qG9xVHkNleVg4cZ/1BeZEkwBYIH1clXFuSQuUi6yCE/4eCXNgk8DzWNj7AjjROsiMaZQVNLsZsMLcYwWXy6qw4bssaY1s3Kx54ux8n+tzPgCbTQHMHu5cAB/2I1mLuePkk08OGEFcvLXOZPq8dy2fWweAtdw7BbcN0LfJJpsI2cQcfJAsJsccc0ykliAAkFrC7NZq5QBw0CYkcACyu+22W826hNVFZJMOWFQAeHEl6PpiGTlABhmV/OCeQbIn7wQeJWNTdNwjiyUuJmQ1kmog18rYpx2AEwA3Y4tNAmPJHmEdOcaelu+zzGiRCUJp9rHgpOjs5rRn+/w+KoSA62FDyRZmnPgkbPg8u6hztTQb7WRMp8XZFfXcqPsAnPm+iN9T0AeIZg2C4UPdgbhvNr14d3ANE+bDnF4/KmOBOgCsjJ2r/pQs1UQAgIcddliwC2Zh+fa3vx1oCRIjU80DwPHzn/9cfvzjHwfaiJMnT45lyyrpEmahU2aPP1XTK+zOTXOV8n7EyGgZObJu8wKqSvQXYANwwuIDOHENdveprlG0HQCaMFQwsX2lbrMVNSaWEdaVhRWXLmNOyx4q4KuGWzJqvBHfBdvD9wA4cR0fZYxdZUZVfy+c2ay2Y/5gfDBO+ooGH21GLga3KhsywGslkiSwEUkaGsP3xBNPBJuPgQMHCrF7JGwQbhQFoumPyy+/XB566KHAu1M/KmOBOgCsjJ2r/pQs9YQ1JoPqISwsaPHxgbKrIy6j2gcTM1nCBJszaTDRRR1luIS5Z1R2riYdqFsyTyxVrZaRS+p3BdwwEWwUorJXtbqGZUZdskzLGm8KuHGvauxXJRbMLO9jmVFsTFwgoJhMcn7y1s/N0iafa9iIEq9Gooi6332uz3oufcz3ZAFfOGEDYBrFjFoNPuSEyHCuxZjcsG3YEDBH0lbAa5gtzmpLrlMAjQyLZugiz8L8993vfrc3QxfSoC+EsuSxRV++tg4A+3LvebQ9CwAM3x6Gi537fvvtF7ButXDgEjv22GPl17/+tVx88cWy8847O7mEfSVMrGtNgQv2UHeuAr6iWQ2AEQsm7so4QFUL/RBuA24d2o2YMSyVLr7YDraqFqtEMJasSDfxSdU8LEulwIUQCBu/x/hDIJjvm9ivvhIwT/wlbCBu1TJkTPhulBXV7xWgDMizzGgaG2/7H7DN5peNH99iX6jIgR2osER5Nr5D4qazbG7CkiyQA3Pnzg02HTB76tLFLj42reb3VX+2SB0AfkJGQRYXcJRp9t5772BHiSxLrRxMTjCAxDLisp44cWKsMrxlqAg8Rkcr6lDFfuvSZeK0hetxrVVqslNApfU1s0zilegv+kITXWCoAK6AZ4L/WTDLrK5RxPvRVhbMN954IwBUldSyC28yYHBc4/cofwc46UvJFipjAkBjY5mnXJitsKHi6GUkbFg2kM0NY6QvsIGAYdhAxhhsYJrMjZVkIWEDty7hHQBIGD5cunVJliJmnOreow4Aq2v/ij6dJBBiMJB+4WAywG06fPjwyCSQcONYjNjhUU7uzDPPrGjbXR7GBEWWMJMbgJDYxagj7BImxi7szrUlwTSGL48716X9aeeUUUYu7Zlpv49jRgHHmujCgkxMY6UBVVrbk34P+GI8EV7AmC8je1X196wrXDcZWeL3bLIFgIrs5lo/+BZV61AF0V0SVACPKmNjNR9thm6ZCRtscgDc/AmgittI1pL9reg1GwZkWDRrn36AJdT4PUAfIRGMIxVcBvD1FYa5luxey22pA8Ba7p2C24YMDEkTF110UQAEkYEhmxZXHdIuSMQAmqZPnx48ua2tLQjgJeaFRYqSbDfddJP87ne/Cya9WjwQZv3JT34iVBe55JJLZIcddljKJawxaASlA0z4N4eCFmWpajF2JW8Zubx9lgRa1G5RzKgCKhgqAFUt2jZsGwVUMJkshHnlj2z8noIWQgaK1N/jHdS9qlUiXABV3nGR93o2YLiEYarClU/iXOEafqH2Kzr8Iu2dbOxoX6nPyzsxR37/+98PWG7CefAuAPhIGqHGPO5cwB5/1iVZ0kZB3/59HQD27f7zbj0SMAA5dt187Oeee26gCcix1VZbBXEiZP9yUIHjxhtvDM5lkt1oo41kypQpsuGGG3o/t5IXMDFTWxi5mKOPPloOP/xwefjhh2XOnDnBhMcEqDFoLCKasUuyS1/YyWNLlTBJKyOX1+5hZtSKBms8lSszqhI3bCaIwewrtmb8A058qnG4xO+Vqb9ns5sB3H3B1paZJ1yA8QUgZLwwdpSJZy6KS9jIO96zXG/r8wJe+SZr7QhLshDDx4YGtzDf4rhx44LNMvNh0Zn2tWaLensWW6AOAOujYZmyAIuIio3ecsstcvvttweLB64LgCvxgfwd155OdFEu4VqNsbOdBTjDTcliX4QIc1R1DVuGThm+PO5Qa+taz7gN21pdfiyY4RiqpPg9rRJRadBibU28GhU5KhWz6jOpaMKGzdDl//gGYdaIe61kvK1P2/VcbA2DhtuUjQK2ribzSsw3SRpRkiy4dGH48ALhBUGDj+SnmTNnBsxg/fjkWKAOAD85fb3Mv+mtt94alK6DpUJslGBlQB8s5v333x+wgttss03sDhdm8Lnnngvck75ZwtUyrhVh9o2xK7K6hu/7a8Yt1wFeqylY69p2jZNCY43kEFgqTRICvNgkIViqWtHf0+xVQIFrnVtXm2Q5T/Uybe1hwJICZf4kVEABVV9KtoANhC1mLiFsIEoGKYvNkq6xkiwquIwkCy5xlWQB8MVJsnD91VdfHUh8XXrppUU3r36/GrZAHQDWcOfUm+ZnAWJZqKnLRGfjgWBniAc88cQTg0zhU045JTZzzzVL2K9l5Z+tMXa4cHBDRcXYAQCUZQG44F4rurqGz5vaeMZarxdr4/cIoAfAwiDjWsXlB+BzdYX72Kioc1nkifmi2gKVWkh8qhTLHVV7mAQNG/toGXn7zgpeuQfglWtq/VDmFU8EAJDqJ0WygSrJgtCyavCpJIvW0KXKRl2SpdZHSvXbVweA1e+DegsqZAEmyX333TfQprviiitisyT7qksYZgU3JcBOK3HYDFMWU5gVK2WDO7faMT8AKlzZtAvwWuRimWVoJcXv2UQXEohgqWodvFobwI5ja/qcMVK01qHKANkM3bB2oW/so5VeIUmNpLRadGWHx5pNbMkjc6OSLCrHopIsxGtrwkZdkiXLl16/pg4A62PAywK4CUgiIRMYxg0B5j32+P/tnX3sVmX9x6/VcuvR5qplUmLWWrklkBXWH/GQoYKIZIlkyMA0UREpIFGeDYEILBYoYomaYppgUDykJOBWGIEs5zLb8CFXlGhbyXRz9dvrqs/3dzjc5/5e577Puc/D/f5s333R77nPua73dd3nvM/n4f0Z1fQcjzzyiJs6daonJ4TOSDgeP358qutmdTCeL4pCmAeth3hTTiJAVQoJW2UzD16KFhi7Cd9GCV/R5CppHfFOkpBu5LWTIruNpGysS0Rv2Jn+Hp7XqlQ3M188gch+tNu72fJGo4QvWrBh+GWx7/C6cg/h/GUIZYfck8CH++RTTz3lPcV4A3urgDfCG+2hK0mWELR1TFoERADTItblx2/evNknFlMRPHr06F4J4IEDB7yngURjRJoffvhhX52LTMuwYcMKQZMHIE3HZ8yY4Ynp9OnTEz0KZQ0Jx4Vv4901eMggaIyHr0r5jHjVeNihT5lXmDIuZWM9m42spM3fi1Y3xyVMCtnggRe13s3sEQgVYdnejO+O5T1a72EISxy7vDx00VC27ZG8rtUbFmn+jjcQuS3rOUzHIjMwZc9b/h6ePr4HJsliOnySZEmDuI4NQUAEMAQlHdMQATxMvXkAIVmQPcJOZoRhuRFu2bKlUGTpY4ksDA8SCkSSdN6KDglbWC0azo0KVSd116hqGzm8l1QlkqNGgQj5Ye1YNH8PDAmDkiMaJS3t5u9FPT1Urpa14jaOI2QY8oHXmDFTcRv1iPN323cQPl406HwRL9joVD6hjZ89wj0F8sQLjgkat7NP8v4se4Q0FIT0eYGmIG3fvn1egw9SbYVrhHMp3mBORadn5I2Jzl8sAiKAxeJf6auHEECrPkN02oz8O7yA3PSKNh5uEydOdOhiERLmbbvokDAPNR5w0QcvXqZWhaoJQVGZSP4UlcKdfli3ssaQV4gJPW7pFUveZsjDMJ6/B4aNch9DvF2tjJt8N4gJIW2ICdIvVTDErgmvEspGxsT2H2QZrKKEL6lgo9Pz5HtC0RdRhk4XtqSZK3sBomeSLLzc4LXke3neeed5rVIkWfLsXJJmvDq2exAQAeyetc58piEEEK8C0ixU3pqhzTd8+HD/YM7rQZxmsjxIaI83c+ZMN23aNF8tnBRWyiMknBSSNKFlfvPTTqirirIrrKEJXid1tUhqRWeiwVnmoIXuKUgoxIQQPGFskvVDyGvo+bM6LupZxrvHDwQWA2+8gWkLNrIaW5rzRAtbCGVDYosyw5ToguXw8e+4JAvyVERPaMOJJxCB/nZ6IRc1X1232giIAFZ7/QodfV0IoIFIpxDC03jJkI1J0vBqNySc1F0jWnBAdWbWpMFyjahcpSoRr1oVjBAu3ilIrLUgNO9oo/w9CEA7ZDkrTBgb3kDTlSz6ZSepYAPPclSSBW8g+Wp5SJhkhW38POxtCDdSNyeddJIn3Z3wdIdIshAFwRvcaE/Sto/WlXgCv/KVr+QFj84rBBoiIAKojdEyAiEEsOwh4PjkX3rpJe+xpMqZUPVnPvOZtkLCneiukXYBO9VGLu24Gh0fzd/jYcl/k4OGhwrSUnb9PULZ6MGRY0cFaGgoOwvsopXhRpijBRu8cCR5lnlJoSob0o1XrZNV2e3MHdLNywJki3HnIXND9wyTZOE3Id2oJAtpJEjVpCGgrEvWL3zt4KjPdgcCIoDdsc65zDKEAFIEQsiXm6TZ2LFjHUSr6CKQJFB4cC5fvtzNmjXLh4Wvvvrq4JAwD1XrLRytkoyGJPk3JKZIi7aRowdykWEzwyEkfw85EQgVv/GqFO1VC11DSDeECsKK9zULWZT4tRsVbECEzLvHbwhRKDFhPawqu0r6e5BuZG6ef/75TGRuOI/l70H42H+sIUTPdPiQtxKBC/029H4cKRQLFixw27dv9y9PpCNcdNFF7rrrrmsqo8N9jRSedevW+ZdFlCZQfEgq8Ot9JPU+QgSw3uub+exIDqcVFkYey7Jly9zgwYO9h4BqWnL9CDHecccd/hiTgSHMMWHCBP+Fnjx5cqEyMKGgcLOnSpiw4+rVq73XKW4keEP0eFBCajFCftGQWpqHbujYsjiOBzzrw0/aNnJZXL/V/D0e8Oiq4RHkQUzVbRWMvYJ3ipw1vFON9lOaeUS9o+zBaMGGFW1kUbBh+nsQzKpU3IKjydzwfQTvkHaDliYR9fCZJAuVuUQ0IH6SZEmzU9Mfi3Pg3nvv9fdfvKmkUqDf+tWvftUtXbo08YQU1KA6cfvtt3vvNjmWvPBA4GVHIyACqF2RCgFEnSF8cbv44ov9lw6BZ97eOM6Mf19zzTXeA9KnTx/vWStKCDrVZJ1z5EMxVnoEUyXMQ4S+wrztn3baab6Qhf/HAxdvFOSXhG/kS9BXq4JBHvDQkgvGgzIP7xQ4QNyiUjbx/D0wZAyh+XuE4thTlqtWtFc1ZK0h3ewRvEhpvGrxgo14dbO9cOS156IVt53MsQvBtNkx0WpyyDBSK9H9xd8h5VHRZbDlOPPuSZKl3VXI5vM0IFi1apXP9Wxk3E+4F9x9993u/PPP94eQy8pLIioPAwcOzGYgNTqLCGCNFlNTyRYBPCzodu3atcutXbvWy5Jg3FBGjhzpha0hLVHClEeVcLazanw268SBFwkvTxY9V807aqQvrr8Hdu0Wu1gom9+Q7qrIruBVi+rYxUPw0dxR67IBnvGCjbzIetKeQweQcUOi2CchXrVO7N/eroF3Hv09xk2IkJdUvEIQA76zkAO8e/xIkqU3NIv5Ox2k8Azu2bOn4QCILg0dOtRHZLi3mCERhOwYTgjZkQiIAGpHCIEGCFCR98ADD3iCggcAbwAehCVLlniiwZtoUmJ8u1XCRS2ItaCC6OLl4Sc0ryneA7aT+ntR2ZV2W5t1Evto5SrjhrxGPaTMy6SAmhVsdHLMXAuvGWkgeDIJz5U1/y0uyQLZw2uMJiaebr7jtIIcMGBAr+3ZOo2xrnckAuw3xLMJ/xIKbmR4/ijg48U9ahB6olaLFy8WrDEERAC1JYRAAwQIW1OxiY5hlASRzE8eCg8R8hwJFSVZlXoJR+eAp46QN6HspDZyJlZt3imIS149YEM3KCEgQtmE4nnA5xUODR1Ps+OiBRukGYA5+4yXCnIDIXx4BUMLNrIYU9pz4FUjfMqLURnwhvDhoYToWVs1qvnB0wo2IHyIi1966aU+t3fNmjWewMo6g8C3vvWtXokY91bE38140WDdBg0a5NcryUQA06+hCGB6zPSJLkcADwhvk9/+9rfd3LlzvZJ/0oO6qiHh6LhNBgSCZYSv3fy9vLYQ46ZABKLOA74s4rrRcLgVbEBQLXcPske1qY27KlWLhjeeNR7aFOSEeo3b3QMQPvCygg1In0myWMEGId1Gkiy8sBAShHxv3Lix3aHo84EIsF6HDh1qejTi6RTuYJB1iB8henLMm70QKQQcuAiRw0QA02OmT2SAwM6dOx1Jvbyh0xKpt57CScUnfLaIKlAePjt27PBhJLyASA1E806iEFUxJAxh4SFJBaTdsPEIxqubO/WwT7vlkI7Ak1BEX17Wm5xEI8v8jrejA8dGHkoqmxn3u971Lk+oqlDYwtpYQQ4eTMZtD/C069bseEtRiEuycD08fPxA+NKEpFmnMnuKs8SvaufC80foltDvXXfd1WtxmBWB3HPPPe6LX/yiny4vg+wPFYE0Xn0RwKp9K2oy3s2bN/swDV/u0aNHBxNAvtDRxu94eIoMk/HARp8K3TFCwuQTJVlZQ8K9VZgSUuVNHJzRDCTkVwWzvryEpsnbzEvrsFnBRrSHbmjBBqSE0CqkMauCnE6slxUS8SDG+5rUSSd0LKQZkPsVJXx4Sfv169dToStJllA00x1HdAM5lccff9yTeV4GezPUEiiWixo6fK3ovUL+8PxRwME5o5Xb9sLPMRR9cN8lzw8jGoPuLN5CnhNXXXWV//94iWVHIyACqF1ROAIhgtLmAYxXeBU++P8lxd9www2+QITfJCmXOSRs+Xvc1M1L1Vv+XlXbyDFudA6p+iQUiFZlu17LpA4bWRZsRAtyeAgSFivyRSf0e8a48crzokYYmxzaUC9mVJKFBzY/7E9JsoSin91xc+bM8RENIgC33XZbMAHkhZgOSmYWNUg7MggcBR2NjD2G8Z2mUA1ZLsgiZkLQeAGjQtBFRInSzrmI40UAi0Bd1zwCgTQEkIchX2w8I+TfketTBuOmxI2IkDDt42juniRJ0umQMA/WrPL3rI0c3h1CK6GafUWvEWSX/DBkS8hp5MEUauS5xfGLdtjIs2ADrzHj5juCF7Mqsit4X/Fi8kCmBV4jbyAew3379vXk8BGm40XEJFnw7n3605/2RT3tkvbQtdZxRyIAEUNCJdQDyHEbNmwQjBVBQASwIgtV52GGEEA8CngBEV+GAFINduedd7rdu3c3Dbt2Gje8H5DA5557zo/v1FNPTRyChYQJDWYpHG35e+bdo8K0UXeSVh+qPNQhJXmHVrNeO8ZLfh24QALJs2tk8YIN1ima/0j+XhYdNkLnZ6FQvDF0bEFMvdW1C71mFsfxovPss8+6Cy64wHvx5s2bd4To8mOPPeZxNZkl8vdICckjfzCL+XTjOdISQMif3WuGDBniIyLtdrzpRtw7NWcRwE4hreskIhBCABt9GGkAQnoQrTIZHqP58+e77373u27RokU+lJFXSDgpf8+6k0Q7RGRJGrguivyEYQjzVYmUQNLpEEAnDvT3IIatFGx0es8hu4IIM7mM5Nil8WJ2eqwmyfKb3/zGbd261edlUXELcSax3wo2ePGpihe50xiW4XppCCD9d1lfwrLkRNNHHR1VPLta4zKs5tFjEAEs57p01ahaJYDTpk3zLZy4wZTNeABu27bNawbywPv+97+fWISQJiSclL9XVIcIayNHuBtSElroUNR6WcEGVat4aQmPY+DXSsFGp+dhXkzIIF7Mdgstshp/XJKF/D20JEnZQESdtAj+G0JBftk3v/lNkYKswA88TysafGkIYHwYvCDygvXQQw/5Yg1Z+RAQASzfmnTdiFolgGeccYYnVXTsKKtRqTZ27FiHLAmeSnIXk6xRSNjy96xgw/T3ogUHafrn5oETIVPyvRg/Hp0kOZw8rt3bOa1gI1rwYh02wJBcNchg1byY7Ce8mBRakGPXaQ8LGBKSth66vISZ5EYzSRY8guPGjfOkkN7ass4hkFaDj5G1QwD5PC8ohIEvu+yyzk1UVwpGQAQwGCodmCUCkAUkHrD+/fu7ZcuWeU8ZOmKEda+99lrfaooSf+ymm27yoQW8HuSgkQO4YsUK72Ur+9slIeHZs2d7LyDahzwAk8KxSH88+eSTvugAfTIICjk1Ue9Uu/1zs1xHO1c7beSyHE9SwUYUv3iHDQutQqTxYlYlB81kbiDgvFjk2QfZ8hBNdJnfeFBNksVIH7JMvaUa0AcZAot3SFZuBNohgLwgcC8nL5De6bLyISACWL416YoRJQk7X3zxxf6tE00p8ss4DkNiZfXq1Z4UkmeCHh2kCtJYBYMgoX3I/L7whS+45cuX+3lQlAABIVHaBIPJ3zPtLfLU8E512sPTKqa04qJABPLaifZgjQpe4oLV4NkbKSG0CvHGUwiZqkrierQPMi9Iffv2zUQuBs8zeJiHLyrJYl02+A3p7A3bVveSPlccApB77ks/+9nP/Evrrl27/GCQUuIFFEMF4MYbb3TnnXee9/5T5IMAM5Ir5ABOnz7dtzjkflDmfNXiUC7+yiKAxa+BRtAlCOCdIiEecVIIB54QbpAXXnih+8Y3vuG9fDxQzQOVV5Vw3nBH28hBppKqbdOOI95hA7IGhhA8K3ZJ6rARci3OzwvGH//4R99NAg9VFbT3mBvEmwIRNPfAPK1YN0Qa0V8TXTZJFmRYqM7lR5IsIbuo/WNaEWFm75LECa3eAAAXwUlEQVRbeeutt/qXGMj5qlWrfNV4K9ZI1JnzRDX3IP5o/nEs3uhRo0Z5WR+u/773vc+/6C5YsMCnKcjKiYAIYDnXRaOqCQLcmHlLxpPJQxVCQUI8UjaQDcggVcJJXpSq9hJm+egeQp4aFcKN+rH2tsRgB8GLVuhCVKxgA8LMT9YhW66J1wKrkvYeXrunn37a44535vjjj2+4r6xyfM+ePT0evt/+9rceR/amVejS1Uaem952afZ/b0WEmd7k3GfomoEneNasWX4P48VVq7vs16guZxQBrMtKah6lRYDqOzxKJL7jnSGcy0N406ZN/u15+PDhXjKmmcivkSlyaqrSFYIFMTJlQsbNPFPxgg3yICE1RvTw7uEh7UQ4PKq9R5EFHo2qhDpJ9udlg24IpBrggcFDSAEGHj7CufTgJt+WPSlJlnLeOkLz77iXsD+JIlBdjfHdYd05x5gxY8o5QY2qcAREAAtfAg2gmxEgz5EQMA9oqoTx3CRZVUPCkCnCqujvffSjH/U5QhjkjnBRtMIZchclfPGCjU7vlUOHDvnQKuSTsZdd5gZ8IAR4fiZNmuQLrajEJCfLJFkI50L6CA9WJcTd6XUvw/VCCaDJrRB+pSjHDJ1U/vt73/teGaajMZQQARHAEi6KhhSOAGEPZGAINdIyihAW4RC8Ns3svvvu82ESCBgPQj5z9tlnh184wyMJa+IlpLIZjw1v7HUOCROSgnhYh41ohW5IwUaG0AedKipzgwcXMlgmM0kWy9/Dw4ckC98Bwu8UcvCSQXvCtLmBZZpnt40llACy3uT8ESUg7G/25S9/2d9H7r333m6DTvMNREAEMBAoHVZOBM4880xPmGg1Rb4c6vN4bPCAJIVUuWHiBYE8jhgxwt19992eAO7du7epTl+eCPAQRy5h4sSJ7txzz3VLly71hDbJqhASJjE8qr9HOBgCwjrxYEJyJasCkTzXhnNHZW7wpBUZhsejikcvSvhMksUqdPHwmSQLeYEXXXSRD8fzskRVuayzCOQpwiwC2Nm1rNPVRADrtJqaiyP/iQffjh07PMlrZPQm5WFIDp4ZDegJl9x8882Fokg4B0KL1iEaiM0e1mUKCccLNiB+FLoQwrUKXSvYgMAcOHCgcm3k2Bgma0G1LQUizUh6VhspSZKFvtjk8LHPe5Nkoeqcl4pLLrmkNN1DssKnCufJU4RZIeAq7IByjlEEsJzrolG1iAA5T4R0qYBL6rpBIcXUqVPdlClTeq5C5R0euP3797d45ew+BnGizR0VfYhHn3/++aULCUPiIENWoQvhixZsWB5fs4INE2CuShs5W2GrtiWn0apts1t956KSLHh3+IHAIcOCZ4/cLkmyZIl4Oc8VGgK2IhAKQCgEwcgp5kVYRSDlXNuyjEoEsCwroXG0jQCkBMV5yAh5T0mG3AXkirwos5UrV3oh04MHD7Y9jixOwE39pz/9qfva177mCSAh6mZyDnmHhKMFG1a4kUXBRpnbyPW2jnh1aIFHGBsiiFcwrUUlWSyk+9hjj0mSJS2QGRzPCwmyTBs3bvQ5qogaU0BhwseNLjFo0CAfbYgabc/aiSSkFWHm2twfFi1adIQMDL2XJQOTwcao8SlEAGu8uN02tcsvv9x324D8kfxeZQJoY8ejScgacgtpRU8vybIMCVuHDcvhw9uHJly0Qjergo1ofh25dXSzqIrkCt5ack7JdyQk3Fs7NuYKlibJAulDkoUwOd49C+nS6aYTcjfddo9oNt+zzjrLV6rfcsst3uOKPie5xeQIJxkEkDSN+fPn9xxCnitala1aWhFmrmNC0HRL4jvLPuKlVvmera5Cd3xOBLA71rn2s7zyyivdgw8+6Hbu3OmFUJtZ2UPA8bGTD0jImgcRlZy0XkoiSHjqaC/34osvekIS2tKsUcEGBC9aoZt3vhthK7wWXIfwfVVEiHn4Pvvss74wA3JHYZF5A/kba2E9dCF8zJFCEivYIIdPkizF3qL4zlCUhCA2uZXYli1bvDIAPW3R2UvyAJI7TK9ymRCoGgIigFVbMY33CAR4wBK2Wb9+ve+2EdL6CI/a4cOHfajHDPkYvC7thG7yXBrmiZwD4aWxY8e6hQsXNiVIzULCVrARrdC1go0o4cu6w0YIPlQI8zBGfy/LNnIh1273GEKIkDlChvR8JvyGIDMSRUiy4OEz0WVeQqri5WwXlyp8/oc//KHPnyOn1Yy9SNoFklG8dCURQNIA+E6hb3nOOed4eSnJ7VRh1TVGEUDtgUojgNgtnjG8f1HtP0Jx5rEaN26cO+GEE7zsC4Y3hkR6cmbowrFu3TpPqIqUgQldBASV0fciPEiVcDNvp4WE8UZxHJXPlr+HpxCMrEKXf7eSwxY67jTH8TAlFNdOG7k012vn2KgkC/tq9+7dnthRmUkv1AkTJnjSZ5Is7VxLn80PAb7/pFignxg11o3cYNJLGhkhV7y5eAjx7M6YMcN96lOf8nI7MiFQdgREAMu+QhpfUwSSvCjWpJwPk6dDXhkVcWa81V9//fU9QtBLliwpTAg67RITrqWC+Sc/+Ylv+I7XIYoD5I5WUHgzrEoXUgXJ44GGl48cpbJ3gYCw8lBlnISzy+BVMUmWqAYfnr+4JMsvf/lLd+mll/oCHsKDzdr8pV1/HR+OQKj+HoStFQIYH8n27dvd0KFDfQeWk08+OXygOlIIFICACGABoOuSQqBdBCB0eD7xTFDNPGDAAO/ZfOGFF9zkyZN9Fal59/gNIcS7UbVewlHJlWgbuXbxC/08xQCPP/74EaLLUUkWQr5IskBO4y8jzz//vBdgHj16tLv66qtDL6njMkQgVH/vrrvuaikEHB8qLy2kAJA/OGzYsAxnolMJgewREAHMHlOdUQjkigDEYteuXf7noYce8t4G8o8+8YlPuMGDB/v8M8LfcUKSZZVwrhNscPK//e1vXnKFBveE+vOokIVUU3BDIUAjSRar0AXn0AIVCCyWx3g7vQZ1vp4VgezZs8d/j7Bt27Y5Og01KwKJY8K+YZ+gJ0pOsUwIlBkBEcAyr47GJgRiCKALSHi7f//+PUUF/PuGG27weUdIWFC5mHWVcBkWAnKGwDceOELCdBlpx5pJsvAQt4INSbK0g/LRn/3BD37gvvOd77i//vWv7tRTT3UrVqzweXNJ1qm+3cjAoANKIZjJwBDaNxkYvOuEd8m9ZbxUffM3vm9U25OucM0113gJqrg2YLYI6mxCIBsERACzwVFnEQIdQQCR2OOOO+4ocVrIDA8m5HDoJzx37lwfBk6yvIWj8wLD2sghu4LGGcU9odW0UUkWk2Xhof3+97/fe22sy4YkWfJaPecr2SnKgmQROic/EoJHegL5qXHrZN9ucjn5/kSFoOnEY0LQzzzzjC+m+tWvfuXzii3Ejw4koV/2EdXC5Ba3owOYH/o6sxA4EgERQO0IIfA/BKgSxotG9SkhVKRhUNiPVhfHwaKwBMHYqBEexFtVhBEmpUqYBxBj46GUZFUOCYe0kYPw4bWJFmxIkqWIXfn/14T0Ia6MniUGoWePIuVEwUbcyty3u1gkdXUh0D4CIoDtY6gz1AQB8n3GjBnjH1BogM2cOdN3eUDPLamKE5JFgn9UPgKPFLlqRRnEzjwZt956q09Gr2NImG4ltE2jByoh8CFDhnj5FSN8/MZjSpjR8vckyVLUrvxvj2OKZe6//343atSonoGQs4o8EVJOcauaaHtx6OrKQiA9AiKA6THTJ7oEASoICUuRz0O1ZyMLbdjeacjwfiFuCzn9+te/7sVp3/SmNyUOo4ohYQos8HguX77ckwdIOp04IPDWZQPih/xNaJi40+vUTddjjxGyJ6x7+umn90x9+vTp/juGhmLcqtC3u5vWUHOtFwIigPVaT80mQwSoriUfjMIDulIkEcBLLrnEP9gIZyHHgqjsKaeckuFIWj8VOW6E0UhSh6wmtbTiCmUPCcclWeiygVeJhHzWadOmTT5c/+Mf/9gdf/zxrYOmT+aCgAhgLrDqpEKgZQREAFuGTh+sMwKQuZEjR/rQ1KOPPpo4VUjI008/7SUf0NpbunSp70eMZ4pqwDIYXjH0Ardu3epuu+02X8kYEhIushVbXJIFrxHhXrqVkJtpFbpRSRZ6CePtfPjhh30if7PK0jKsS7eNQSHgbltxzbfsCIgAln2FNL5CEIAwbd682ZO/NEQOLxWCxYgzL1iwoJCxN7oohHbNmjVu6tSp7oorrnDXXXdd09ZvnQ4JmyQLYUAwh/ChyYaIdRpJFs6DqC/5nO9+97tLg78G8l8EKAKBmCP9grEvyfMjZzWpCKRqfbu11kKgKgiIAFZlpTTOjiHAw4icMjx5zXrtJg3oS1/6kidX99xzT8fGHHohulpQJYxwNCFhfidZniFhiNqhQ4c80bOijbgkC3mXSL2UvWVdKPY67r8yMBR9oFcJEUQGhpaGVGdTOFWnvt1abyFQdgREAMu+QhpfxxCAlCBHsX79evfII4/4vLK0RmEC+X+Iwy5btiztxztyPKHqyy67zOuZUSiCplneIeHeJFmsSvfEE09UwUZOuyCNAHOe8kZIwJgQdL9+/Rxae3gGsbr17c5pKXVaIZAJAiKAmcCok9QBgUmTJnllf7x/Ue0/qkjRBcTiHor58+e7gQMHug996EM+X5AH24YNG9zvfvc797GPfay0sBB6Q4x32rRpbsqUKW7GjBmZhoQ5f1SSBU8f4s1IsliFLnl8eH1UoZv/NkkrwFxGeaP8UdIVhEB3ISAC2F3rrdk2QSCJiNB6bfz48Q09FLR+Qjyatlbkq1GUgCYd7dmqYOTZoX2IGC/ewGb6hRYSptiC0OwHP/jBnini+aSfquXvQfhefPFFRyst8+5JkqW4HZFWgLms8kbFIagrC4H6ISACWL811YyEQCoE8FwiZUMuHmQXz1yzkDCtriAIlrTP5yB8r732mg/lWUs1/o3wrzx8qZYj84Nbqb5lfcssb5Q5SDqhEOhCBEQAu3DRNWUhEEeAkC25Wddee63vrMHPG9/4Rn+YSbLgLbSCDUSy6ZDSt29f3wpv8ODB3vtJGzxZuRBoRX+vCvJG5UJZoxEC1UNABLB6a6YRC4HcEECGBQkbijEgdohg490jp/Gd73ynD+daSJdKZ45FZJqKZ8SwZeVDoBUCGJ9FWeWNyoe2RiQEqoOACGB11kojFQIdQeDll1/2Yst//vOf3bnnntsT0m0kyfLKK694DTcKPmjnJSsfAq2EgBvNoszyRuVDXSMSAuVHQASw/GukEQqBjiMAaXj99dd9Dl+IkUeIh1BWTgTSCjDHZ1EFeaNyIq9RCYHyIiACWN610cgqjMCqVascP88884yfBdqAs2fPdmeddVbirO677z43a9Ys/xk0CBcvXuz1BGXVRAAhcWSBCJ//5S9/8fqSo0aNajoZ9Cfp1kIrQSqzKbixCvR2UEgrwFxVeaN2MNJnhUC3ISAC2G0rrvl2BAF60VJEAZGjiGLt2rWeDOzbt8+TwbiRZ0fnixtvvNGNGDHC6xFCAPfu3evoySurHgK0EqRohuKY0aNH90oADxw44NeafsZU4NLTGI3Gn//8527YsGFtA5BGgLnq8kZtg6UTCIEuQEAEsAsWWVMsBwLHHXecJ4ETJ048akAXXHCBI59u06ZNPX9DYJpOCQg2y6qNAFI4vXkAEeOG7D3xxBM9k0WjkfD6li1bqg2ARi8EhEDpEBABLN2SaEB1Q4D8KcK79EDFA9ioQ8gHPvABH/rD42M2Z84c31Vk//79dYOk6+YTQgDxAA8YMMD3xzVDl5E9Qfs+mRAQAkIgSwREALNEU+cSAhEEkFA5/fTT3auvvure9ra3+bBuUk7fMccc48PEyKqYrVy50s2bN88dPHhQuFYcgRACSJU10jtoMZr94he/cMOHD3eHDx/uaUdYcSg0fCEgBEqCgAhgSRZCw6gfAlTSPvfcc957c//997s1a9Z4qZRGHkARwPqtf3RGIoD1Xl/NTghUEQERwCqumsZcSQQ+//nPu5NPPtndcsstR41fIeBKLmnwoEMIoELAwXDqQCEgBDJAQAQwAxB1CiEQgsCQIUMcRI8+q3GjCIQwH9XDZogxf/zjH1cRSAi4JT8mhABSBELIl9QBs7Fjx7qXXnpJRSAlX18NTwhUEQERwCqumsZcegTI40LzD8L3z3/+s0fWZevWre6MM85w48aN863TkH3BkIH53Oc+5xYtWuRzvtatW+cWLlwoGZjSr3TyAP/1r3+5P/3pT/6A/v37u2XLlvmeyVSDsy/YIy+88IK74447/DEmA3PFFVe4CRMmuO3bt7vJkydnJgNTYSg1dCEgBHJAQAQwB1B1SiGA1As6bggAH3vssd6Th4cH8ocNGjTI9e3b9whvIJXCCP+aEPSSJUskBJ1yK6UVX0Z4GVIWN9btve99b8qrH3l40rmpBscLjMAza81xZvwbDb4nn3zS9enTxwuDZyEE3dZE9GEhIARqiYAIYC2XVZMSAt2JQFrxZSNpTz31lHvHO97RA9p73vMe94Y3vKE7QdSshYAQ6AoERAC7Ypk1SSHQfQiE5N0ZAXz55ZfVy7j7tohmLAS6GgERwK5efk1eCNQXgTQE8MQTT3Svvfaab8U2d+5c99nPfra+wGhmQkAICAHnnAigtoEQEAK1RCCEABL6xQt42mmneQKIVuOdd97pdu/e7btyyISAEBACdUVABLCuK6t5CYEuRyCEADaCiGpsqnQhgjIhIASEQF0REAGs68pqXkKgyxFolQBOmzbNPfroo+7Xv/51lyOo6QsBIVBnBEQA67y6mpsQ6GIEWiWASPW8/e1vdw888EAXo6epCwEhUHcERADrvsKanxDIEQGErCFKf/jDH9yb3/xmR/eSxYsXu4985CNNr4rmIRp3pnnIZ84+++y2R5pWfPmmm25yJ510kjvllFPcq6++6nMAV6xY4bZt2+aGDh3a9nh0AiEgBIRAWREQASzrymhcQqACCJx55pluzJgx7pOf/KR7/fXX3cyZM90TTzzhhYzf+ta3NpwBXU/oewt5HDFiRE+XlL179/oq3HYsrfgyYturV6/2HTne8pa3eMHu2bNnNxSHbmdc+qwQEAJCoGwIiACWbUU0HiFQYQT+/ve/O0SUd+zY4UleI6Pv8SuvvOI2bdrU8+eBAwe6fv36qe9xhddeQxcCQqBaCIgAVmu9NFohUGoE6H374Q9/2P3+979P9OZRYTt16lQ3ZcqUnrnMmTPHbdiwwe3fv7/U89PghIAQEAJ1QUAEsC4rqXkIgYIR+Pe//+1Gjhzp/vGPf/gq2iQ75phj3Nq1a92FF17Yc8jKlSvdvHnz3MGDBwuehS4vBISAEOgOBEQAu2OdNUshkDsCl19+uaMXL+SvT58+IoC5I64LCAEhIARaR0AEsHXs9EkhIAT+h8CVV17pHnzwQbdz505fVdvMFALWthECQkAIFI+ACGDxa6ARCIHKIvCf//zHXXXVVW79+vW+pRr5f70ZRSCHDx92Gzdu7DkU+RgqcG+++ebePq6/CwEhIASEQAYIiABmAKJOIQS6FYFJkyZ5GRe8f1Htv2OPPdbrAmLjxo1zJ5xwgpd9wZCBod3aokWL3PDhw926devcwoULXRYyMN26Dpq3EBACQiAtAiKAaRHT8UJACPQgQLeNRvajH/3IjR8/3v9p0KBBrm/fvu7222/vORQh6Ouvv75HCBo9viyEoLU0QkAICAEhEIaACGAYTjpKCAgBISAEhIAQEAK1QUAEsDZLqYkIASEgBISAEBACQiAMARHAMJx0lBAQAkJACAgBISAEaoOACGBtllITEQJCQAgIASEgBIRAGAIigGE46SghIASEgBAQAkJACNQGARHA2iylJiIEhIAQEAJCQAgIgTAERADDcNJRQkAICAEhIASEgBCoDQIigLVZSk1ECAgBISAEhIAQEAJhCIgAhuGko4SAEBACQkAICAEhUBsERABrs5SaiBAQAkJACAgBISAEwhAQAQzDSUcJASEgBISAEBACQqA2CIgA1mYpNREhIASEgBAQAkJACIQhIAIYhpOOEgJCQAgIASEgBIRAbRAQAazNUmoiQkAICAEhIASEgBAIQ+D/AA450oxPou6ZAAAAAElFTkSuQmCC\" width=\"640\">"
      ],
      "text/plain": [
       "<IPython.core.display.HTML object>"
      ]
     },
     "metadata": {},
     "output_type": "display_data"
    }
   ],
   "source": [
    "#Visualización de la cónica \n",
    "from numpy import pi\n",
    "from pymcel.export import conica_de_elementos\n",
    "fig=conica_de_elementos(p,e,i*180/pi,W*180/pi,w*180/pi,figreturn=True)\n",
    "ax=fig.gca()\n",
    "#Posición y velocidad inicial\n",
    "ax.quiver(0,0,0,\n",
    "          rvec[0],rvec[1],rvec[2],\n",
    "          color='k');\n",
    "ax.quiver(rvec[0],rvec[1],rvec[2],\n",
    "          vvec[0],vvec[1],vvec[2],\n",
    "          color='k');\n",
    "\n",
    "#Posición y velocidad nueva\n",
    "ax.quiver(0,0,0,\n",
    "          r_nuevo[0],r_nuevo[1],r_nuevo[2],\n",
    "          color='b');\n",
    "ax.quiver(r_nuevo[0],r_nuevo[1],r_nuevo[2],\n",
    "          v_nuevo[0],v_nuevo[1],v_nuevo[2],\n",
    "          color='b');\n",
    "\n",
    "#Posiciones calculadas numéricamente\n",
    "ax.plot(rs_num[:,0],rs_num[:,1],rs_num[:,2],'rx');\n",
    "\n",
    "fig.tight_layout()"
   ]
  },
  {
   "cell_type": "markdown",
   "metadata": {},
   "source": [
    "<a id='fig:07.03.00.00.Problema2Cuerpos.OrbitaEspacio_85'></a><center><b>Figura 7.85.</b> </center>"
   ]
  },
  {
   "cell_type": "markdown",
   "metadata": {},
   "source": [
    "Este resultado nos permite comprobar plenamente los resultados teóricos de las últimas sesiones:\n",
    "\n",
    "- La posición y velocidad inicial coincide con uno de los puntos de la curva cónica.\n",
    "\n",
    "- La nueva posición y velocidad coincide también con uno de los puntos de la cónica.\n",
    "\n",
    "- Las posiciones relativas calculadas numéricamente coinciden perfectamente con los puntos sobre la cónica."
   ]
  },
  {
   "cell_type": "markdown",
   "metadata": {
    "tags": [
     "navigation"
    ]
   },
   "source": [
    "[Indice](index.ipynb) | Previo: [Problema2Cuerpos.ProblemaRelativo](07.02.00.00.Problema2Cuerpos.ProblemaRelativo.ipynb) | Siguiente: [Problema2Cuerpos.SolucionTiempo.EcuacionKepler](07.04.01.00.Problema2Cuerpos.SolucionTiempo.EcuacionKepler.ipynb)"
   ]
  }
 ],
 "metadata": {
  "celltoolbar": "Tags",
  "kernelspec": {
   "display_name": "Python 3",
   "language": "python",
   "name": "python3"
  },
  "language_info": {
   "codemirror_mode": {
    "name": "ipython",
    "version": 3
   },
   "file_extension": ".py",
   "mimetype": "text/x-python",
   "name": "python",
   "nbconvert_exporter": "python",
   "pygments_lexer": "ipython3",
   "version": "3.6.8"
  }
 },
 "nbformat": 4,
 "nbformat_minor": 2
}
