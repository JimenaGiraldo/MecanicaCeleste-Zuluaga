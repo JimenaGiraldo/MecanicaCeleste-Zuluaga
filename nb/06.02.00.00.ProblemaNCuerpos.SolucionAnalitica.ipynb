{
 "cells": [
  {
   "cell_type": "markdown",
   "metadata": {
    "tags": [
     "navigation"
    ]
   },
   "source": [
    "[Indice](index.ipynb) | Previo: [ProblemaNCuerpos.Formulacion](06.01.00.00.ProblemaNCuerpos.Formulacion.ipynb) | Siguiente: [ProblemaNCuerpos.SolucionAnalitica.ConstantesMovimiento](06.02.01.00.ProblemaNCuerpos.SolucionAnalitica.ConstantesMovimiento.ipynb)"
   ]
  },
  {
   "cell_type": "markdown",
   "metadata": {},
   "source": [
    "## 6.2. ¿Solución analítica?\n",
    "<a id='solucion_analitica'></a>"
   ]
  },
  {
   "cell_type": "markdown",
   "metadata": {},
   "source": [
    "Como aprendimos en la [Sección *integración de la e.d.m.*](05.01.02.00.Mecanica.Cinematica.SolucionEdM.ipynb#integracion_edm), una manera posible para buscar una solución analítica a las $6N$ ecuaciones diferenciales del problema de los N cuerpos (Ec. [ncuerpos_formulacion_ecuaciones](#mjx-eqn-eq%3Ancuerpos_formulacion_ecuaciones)), o para al menos, aprender cosas sobre la dinámicas del sistema aunque no obtengamos la solución, es la de buscar tantas constantes de movimiento (cuadraturas) como sea posible.  \n",
    "\n",
    "Como habíamos visto, para convertir el problema diferencial en uno algebraico completamente determinado (igual numero de ecuaciones que de incognitas), es necesario encontrar $6N$ cuadraturas, es decir, un número de constantes de movimiento igual al de variables del sistema. \n",
    "\n",
    "En esta sección usaremos los resultados generales sobre la dinámica de sistemas de partículas que obtuvimos en la [Sección *Dinámica de sistemas partículas*](05.02.02.00.Mecanica.Dinamica.SistemaParticulas.ipynb#sistemas_particulas) además de los métodos matemáticos introducidos en la [Sección *integración de la e.d.m.*](05.01.02.00.Mecanica.Cinematica.SolucionEdM.ipynb#integracion_edm), para encontrar las primeras integrales de movimiento del problema de los N cuerpos y acercarnos así a su solución analítica."
   ]
  },
  {
   "cell_type": "markdown",
   "metadata": {
    "tags": [
     "navigation"
    ]
   },
   "source": [
    "[Indice](index.ipynb) | Previo: [ProblemaNCuerpos.Formulacion](06.01.00.00.ProblemaNCuerpos.Formulacion.ipynb) | Siguiente: [ProblemaNCuerpos.SolucionAnalitica.ConstantesMovimiento](06.02.01.00.ProblemaNCuerpos.SolucionAnalitica.ConstantesMovimiento.ipynb)"
   ]
  }
 ],
 "metadata": {
  "celltoolbar": "Tags",
  "kernelspec": {
   "display_name": "Python 3",
   "language": "python",
   "name": "python3"
  },
  "language_info": {
   "codemirror_mode": {
    "name": "ipython",
    "version": 3
   },
   "file_extension": ".py",
   "mimetype": "text/x-python",
   "name": "python",
   "nbconvert_exporter": "python",
   "pygments_lexer": "ipython3",
   "version": "3.6.8"
  }
 },
 "nbformat": 4,
 "nbformat_minor": 2
}
