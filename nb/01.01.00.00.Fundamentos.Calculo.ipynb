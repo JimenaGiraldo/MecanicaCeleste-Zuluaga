{
 "cells": [
  {
   "cell_type": "markdown",
   "metadata": {
    "tags": [
     "navigation"
    ]
   },
   "source": [
    "[Indice](index.ipynb) | Previo: [Fundamentos](01.00.00.00.Fundamentos.ipynb) | Siguiente: [Fundamentos.Calculo.Vectores](01.01.01.00.Fundamentos.Calculo.Vectores.ipynb)"
   ]
  },
  {
   "cell_type": "markdown",
   "metadata": {},
   "source": [
    "## 1.1. Vectores y cálculo\n",
    "<a id='vectores_calculo'></a>"
   ]
  },
  {
   "cell_type": "markdown",
   "metadata": {},
   "source": [
    "En esta sección repasaremos, de manera práctica (y posiblemente poco rigurosa desde el punto de vista matemático), algunos resultados centrales del cálculo infinitesimal y la teoría de ecuaciones diferenciales que serán de utilidad en el resto del libro.  \n",
    "\n",
    "Para quienes conocen bien estos temas, puede servir de motivación para la lectura de esta sección, el hecho de que además de conceptos matemáticos ampliamente conocidos, hemos incluído aquí detalles sobre la **notación matemática**, **definiciones** y **teoremas** que usaremos en el resto del libro; escritos todos en un lenguaje muy propio del texto. Tal vez más interesante es el hecho de que a lo largo de esta sección ilustraremos también algunos de los conceptos claves usando **algoritmos**, con lo que sentarames las bases para todos los desarrollos *computacionales* de los demás capítulos.\n",
    "\n",
    "Sea que lea esta sección o sea que no lo haga, antes de pasar a los siguientes capítulos intente resolver los problemas al final de este capítulo que están directamente relacionados con los temas de esta sección.  Este ejercicio le permitirá valorar mejor las habilidades matemáticas y algorítmicas que tiene antes de comenzar y que serán indispensable en el resto del libro.  Tal vez descubra que después todo no es mala idea hacer este repaso."
   ]
  },
  {
   "cell_type": "markdown",
   "metadata": {
    "tags": [
     "navigation"
    ]
   },
   "source": [
    "[Indice](index.ipynb) | Previo: [Fundamentos](01.00.00.00.Fundamentos.ipynb) | Siguiente: [Fundamentos.Calculo.Vectores](01.01.01.00.Fundamentos.Calculo.Vectores.ipynb)"
   ]
  }
 ],
 "metadata": {
  "celltoolbar": "Tags",
  "kernelspec": {
   "display_name": "Python 3",
   "language": "python",
   "name": "python3"
  },
  "language_info": {
   "codemirror_mode": {
    "name": "ipython",
    "version": 3
   },
   "file_extension": ".py",
   "mimetype": "text/x-python",
   "name": "python",
   "nbconvert_exporter": "python",
   "pygments_lexer": "ipython3",
   "version": "3.6.8"
  }
 },
 "nbformat": 4,
 "nbformat_minor": 2
}
