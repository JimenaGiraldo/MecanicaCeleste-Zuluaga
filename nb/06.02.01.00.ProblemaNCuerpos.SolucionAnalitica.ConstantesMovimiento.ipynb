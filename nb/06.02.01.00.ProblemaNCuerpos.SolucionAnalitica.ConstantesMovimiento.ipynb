{
 "cells": [
  {
   "cell_type": "markdown",
   "metadata": {
    "tags": [
     "navigation"
    ]
   },
   "source": [
    "[Indice](index.ipynb) | Previo: [ProblemaNCuerpos.SolucionAnalitica](06.02.00.00.ProblemaNCuerpos.SolucionAnalitica.ipynb) | Siguiente: [ProblemaNCuerpos.SolucionAnalitica.Energia](06.02.02.00.ProblemaNCuerpos.SolucionAnalitica.Energia.ipynb)"
   ]
  },
  {
   "cell_type": "markdown",
   "metadata": {},
   "source": [
    "### 6.2.1. Aplicación de los teoremas de conservación\n",
    "<a id='ncuerpos_teoremas_conservacion'></a>"
   ]
  },
  {
   "cell_type": "markdown",
   "metadata": {},
   "source": [
    "En la forma específica del problema de los N cuerpos presentada aquí, asumimos que el sistema de partículas esta aislado del Universo, es decir, sobre los cuerpos no actúa ninguna fuerzas externa.\n",
    "\n",
    "Como vimos en la [Sección *Teoremas de conservación en sistemas de partículas*](05.02.02.00.Mecanica.Dinamica.SistemaParticulas.ipynb#teoremas_conservacion), esta condición implica que tanto el momentum lineal total del sistema (ver Teo. [ncuerpos_formulacion_ecuaciones](05.02.02.00.Mecanica.Dinamica.SistemaParticulas.ipynb#box:teo:conservacion.p.sistemas)), como su momentum angular total (ver Teo. [ncuerpos_formulacion_ecuaciones](05.02.02.00.Mecanica.Dinamica.SistemaParticulas.ipynb#box:teo:conservacion.L.sistemas)) se conservan.\n",
    "\n",
    "De acuerdo con esto, las funciones:\n",
    "\n",
    "$$\n",
    "\\begin{array}{rcl}\n",
    "\\sum m_i \\dot{\\vec r}_i & = & \\vec P_\\mathrm{CM}\\\\\n",
    "\\sum m_i {\\vec r}_i\\times\\dot{\\vec r}_i & = & {\\vec L}\n",
    "\\end{array}\n",
    "$$\n",
    "son las primeras constantes de movimiento que reconocemos para el problema."
   ]
  },
  {
   "cell_type": "markdown",
   "metadata": {},
   "source": [
    "Dada la importancia que el método de cuadraturas tiene en el desarrollo de muchos de los resultados en este libro, en las siguientes secciones confirmaremos este resultado, lo interpretaremos en el contexto del problema de los N cuerpos y en particular estudiaremos su implicación para algunos sistemas astronómicos de interés, pero más importante, encontraremos dos constantes adicionales que no habíamos deducido hasta ahora en el caso general de sistemas de muchas partículas."
   ]
  },
  {
   "cell_type": "markdown",
   "metadata": {},
   "source": [
    "### 6.2.2. Momento lineal\n",
    "<a id='ncuerpos_momento'></a>"
   ]
  },
  {
   "cell_type": "markdown",
   "metadata": {},
   "source": [
    "Como vimos en la [Sección *Fuerzas y centro de masa*](05.02.02.00.Mecanica.Dinamica.SistemaParticulas.ipynb#fuerzas_centro_masa), la manera de probar la conservación del momento angular en el problema de los N cuerpos, consiste en sumar las e.d.m. de cada una de las partículas (Ecs. [ncuerpos_formulacion_ecuaciones](#mjx-eqn-eq%3Ancuerpos_formulacion_ecuaciones)):\n",
    "\n",
    "\\begin{equation}\n",
    "\\label{eq:ncuerpos_suma_edm}\n",
    "\\sum_i m_i\\ddot{\\vec r}_i = -\\sum_i \\sum_j \\frac{m_i \\mu_j}{r_{ij}^3} \\vec{r}_{ij}\n",
    "\\end{equation}"
   ]
  },
  {
   "cell_type": "markdown",
   "metadata": {},
   "source": [
    "En el lado derecho de esta ecuación, el término en el denominador es simétrico, $r_{ji}=r_{ij}$, mientras el término en el numerador, $\\vec{r}_{ji}=\\vec{r}_i-\\vec{r}_j$  es *antisimétrico* (el signo cambia al cambiar el orden de los índices). Como resultado, por cada término en la doble sumatoria (por ejemplo el término $i=1$, $j=4$) habra un término idéntico pero de signo contrario (el término con $i=4$, $j=1$) que lo anulará.  Físicamente, esta propiedad matemática es equivalente a aplicar postulado de acción y reacción que usamos para deducir la Ec. ([edm_sistema](#mjx-eqn-eq%3Aedm_sistema))."
   ]
  },
  {
   "cell_type": "markdown",
   "metadata": {},
   "source": [
    "Así, el lado derecho de la Ec. ([ncuerpos_suma_edm](#mjx-eqn-eq%3Ancuerpos_suma_edm)) siempre será nulo (sin importar el número de partículas) y la suma de las e.d.m. será:\n",
    "\n",
    "\\begin{equation}\n",
    "\\sum m_i\\ddot{\\vec r}_i = 0.\n",
    "\\end{equation}\n",
    "\n",
    "Como era de esperarse esta ecuación es equivalente a la e.d.m. de un sistema de partículas sobre el que no actúan  fuerzas externas (Ec. [edm_sistema](#mjx-eqn-eq%3Aedm_sistema).) "
   ]
  },
  {
   "cell_type": "markdown",
   "metadata": {},
   "source": [
    "En forma de cuadraturas la misma ecuación se escribe:\n",
    "\n",
    "$$\n",
    "\\frac{d}{dt}\\left(\\sum_i m_i \\dot{\\vec{r}}_i\\right) =0,\n",
    "$$\n",
    "donde como siempre asumimos que las masas de todas las partículas del sistema $\\{m_i\\}$ son constantes. "
   ]
  },
  {
   "cell_type": "markdown",
   "metadata": {},
   "source": [
    "Esta expresión no es otra cosa que una forma del teorema de conservación del momento lineal y provee la primera constante (vectorial) de movimiento del problema de N cuerpos:\n",
    "\n",
    "\\begin{equation}\n",
    "\\label{eq:ncuerpos_momento}\n",
    "\\sum_i m_i \\dot{\\vec{r}}_i={\\vec P}_\\mathrm{CM}\n",
    "\\end{equation}\n",
    "\n",
    "Por tratarse de una expresión vectorial, en esta cuadratura hay contenidas en realidad tres constantes de movimiento: $\\sum_i m_i\\dot{x}_i=P_{\\mathrm{CM},x}$, $\\sum_i m_i\\dot{y}_i=P_{\\mathrm{CM},y}$ y $\\sum_i m_i\\dot{z}_i=P_{\\mathrm{CM},z}$."
   ]
  },
  {
   "cell_type": "markdown",
   "metadata": {
    "label": "",
    "subtitle": "El sistema de referencia del centro de masa",
    "tags": [
     "box_note"
    ],
    "title": "Nota"
   },
   "source": [
    "> **Nota: El sistema de referencia del centro de masa.**<a id=''></a> La constancia de ${\\vec P}_{\\mathrm{CM}}$ en el problema de los N cuerpos, nos permite introducir un sistema de referencia inercial ideal para la descripción simplificada del problema.  Naturalemente nos referimos al sistema de referencia del centro de masa, que tiene, respecto al sistema de referencia general considerado hasta aquí, una velocidad constante e igual a ${\\vec V}_{\\mathrm{CM}}={\\vec P}_{\\mathrm{CM}}/M$ (donde $M=\\sum m_i$).\n",
    "\n",
    "> El movimiento de las partículas en este sistema de referencia es el más *simple* que podemos percibir desde un sistema de referencia inercial. Por la misma razón, en lo sucesivo y siempre y cuando no se diga lo contrario, la dinámica de la mayoría de los sistemas de N cuerpos considerados en este libro se describirá en el sistema de referencia de su centro de masa."
   ]
  },
  {
   "cell_type": "markdown",
   "metadata": {},
   "source": [
    "### 6.2.3. Posición del centro de masa\n",
    "<a id='ncuerpos_centro_masa'></a>"
   ]
  },
  {
   "cell_type": "markdown",
   "metadata": {},
   "source": [
    "Una segunda constante de movimiento puede obtenerse aplicando cuadraturas a la primera integral (Ec. [ncuerpos_momentum](#mjx-eqn-eq%3Ancuerpos_momentum)):\n",
    "\n",
    "$$\n",
    "\\frac{\\mathrm{d}}{\\mathrm{d}t}\\left(\\sum_i m_i \\vec{r}_i\\right)=\\frac{\\mathrm{d}}{\\mathrm{d}t}\\left({\\vec P}_\\mathrm{CM} t\\right)\n",
    "$$\n",
    "\n",
    "De donde podemos escribir:\n",
    "\n",
    "\\begin{equation}\n",
    "\\label{eq:ncuerpos_centro_masa}\n",
    "\\sum_i m_i \\vec{r}_i-{\\vec P}_\\mathrm{CM} t=M\\vec R_0\n",
    "\\end{equation}"
   ]
  },
  {
   "cell_type": "markdown",
   "metadata": {},
   "source": [
    "Para expresar está última constante de movimiento, hemos elegido, arbitrariamente, llamar a su valor como $M\\vec R_0$, donde $M$ es la masa total del sistema (que también es un valor constante).  La elección de esta parametrización para el valor de la integral, no modifica en nada el hecho que el lado derecho de la Ec. ([ncuerpos_centro_masa](#mjx-eqn-eq%3Ancuerpos_centro_masa)) es constante también."
   ]
  },
  {
   "cell_type": "markdown",
   "metadata": {},
   "source": [
    "¿Cómo podemos interpretar físicamente la constante de movimiento en la Ec. ([ncuerpos_centro_masa](#mjx-eqn-eq%3Ancuerpos_centro_masa))?  Si dividimos la expresión de esta constante por la masa total del sistema $M$ y la escribimos como:\n",
    "\n",
    "$$\n",
    "\\frac{\\sum_i m_i \\vec{r}_i}{M}=\\vec R_0+\\vec V t,\n",
    "$$\n",
    "podemos identificar, del lado izquierdo, la posición del centro de masa del sistema en cualquier tiempo ${\\vec R}_{\\rm CM}=\\sum m_i\\vec{r}_i/M$ (ver Ec. [centro_masa](#mjx-eqn-eq%3Acentro_masa)). Del lado derecho, por otro lado, encontramos a ${\\vec V}_\\mathrm{CM} t$, que no es otra cosa que el desplazamiento que sufre el centro de masa al moverse con velocidad constante ${\\vec V}_\\mathrm{CM}={\\vec P}_\\mathrm{CM}/M$.  En consecuencia podemos entonces concluir que $\\vec R_0$ no es otra cosa es la posición inicial del centro de masa.  Así, la Ec. ([ncuerpos_centro_masa](#mjx-eqn-eq%3Ancuerpos_centro_masa)) es la constante de movimiento asociada al centro de masa."
   ]
  },
  {
   "cell_type": "markdown",
   "metadata": {},
   "source": [
    "De nuevo, por tratarse de una expresión vectorial, la Ec. ([ncuerpos_centro_masa](#mjx-eqn-eq%3Ancuerpos_centro_masa)) corresponde en realidad a tres constantes en lugar de una: $\\sum_i m_i x_i-P_{\\mathrm{CM},x} t=M x_{\\mathrm{CM},0}$, $\\sum_i m_i y_i-P_{\\mathrm{CM},y} t=M y_{\\mathrm{CM},0}$ y $\\sum_i m_i z_i-P_{\\mathrm{CM},z} t=M z_{\\mathrm{CM},0}$."
   ]
  },
  {
   "cell_type": "markdown",
   "metadata": {},
   "source": [
    "En el sistema de referencia del centro de masa que habíamos mencionado en una nota anterior, esta constante de movimiento se puede escribir de forma simplificada como:\n",
    "\n",
    "\\begin{equation}\n",
    "\\label{eq:ncuerpos_centro_masa}\n",
    "\\sum_i m_i {{\\vec r}_i}'=\\vec 0,\n",
    "\\end{equation}\n",
    "donde, como hicimos en la [Sección *Dinámica en el centro de masa*](05.02.02.00.Mecanica.Dinamica.SistemaParticulas.ipynb#dinamica_centro_masa), las cantidades primadas son medidas respecto al centro de masa.\n",
    "\n",
    "Esta expresión confirma la intuición expresada antes de que en este sistema de referenia la descripción del problema es la más simple posible."
   ]
  },
  {
   "cell_type": "markdown",
   "metadata": {},
   "source": [
    "### 6.2.4. Momentum angular\n",
    "<a id='ncuerpos_momento_angular'></a>"
   ]
  },
  {
   "cell_type": "markdown",
   "metadata": {},
   "source": [
    "Como hicimos en la [Sección *Teoremas de conservación en sistemas de partículas](05.02.02.00.Mecanica.Dinamica.SistemaParticulas.ipynb#teoremas_conservacion), si tomamos las e.d.m. del sistema de partículas (Ec. [ncuerpos_formulacion_ecuaciones](#mjx-eqn-eq%3Ancuerpos_formulacion_ecuaciones)) y *premultiplicamos* vectorialmente por el vector posición y la masa de cada partícula (este será el factor integrante), el resultado es el conjunto de ecuaciones:\n",
    "\n",
    "$$\n",
    "\\left\\{m_i\\vec{r}_i\\times \\ddot{\\vec{r}}_i= -m_i\\sum_j \\frac{\\mu_j}{r_{ij}^3} \\vec{r}_i\\times \\vec{r}_{ij} \\right\\}\n",
    "$$"
   ]
  },
  {
   "cell_type": "markdown",
   "metadata": {},
   "source": [
    "Por las propiedades del producto vectorial, el último término en el lado derecho será, $\\vec{r}_i\\times \\vec{r}_{ij}=-\\vec{r}_i\\times \\vec{r}_j$, que es también antisimétrico.  En consecuencia, si sumamos todas las ecuaciones diferenciales resultantes, obtendremos la ecuación:\n",
    "\n",
    "$$\n",
    "\\displaystyle \\sum_i m_i\\vec{r}_i \\times \\ddot{\\vec{r}}_i = \\vec{0},\n",
    "$$\n",
    "que podemos expresar en cuadraturas como:\n",
    "\n",
    "$$\n",
    "\\frac{d}{dt}\\left(\\sum_i m_i \\vec{r}_i \\times \\dot{\\vec{r}}_i\\right) = \\vec 0\n",
    "$$"
   ]
  },
  {
   "cell_type": "markdown",
   "metadata": {},
   "source": [
    "Esta última ecuación permite identificar la constante de movimiento:\n",
    "\n",
    "\\begin{equation}\n",
    "\\label{eq:ncuerpos_momento_angular}\n",
    "\\sum m_i \\vec{r}_i \\times \\dot{\\vec{r}}_i= \\vec L\n",
    "\\end{equation}\n",
    "que reconocemos, naturalmente, con el momento angular total del sistema."
   ]
  },
  {
   "cell_type": "markdown",
   "metadata": {},
   "source": [
    "Existe una interesante interpretación geométrica de esta constante de movimiento:  si nos ubicamos en el sistema de referencia del centro de masa del sistema, la dirección (constante) del vector momento angular total define un plano invariable (en dirección perpendicular a él).  No importa la posición de las partículas, ni el tiempo en el que se registren, dicho plano mantendrá siempre su orientación en el espacio. A este plano se lo conoce históricamente como el **plano invariable de Laplace** <cite data-cite=\"Laplace1835Obras\"><a href=\"mybook.html#Laplace1835Obras\">(Laplace, 1835)</a></cite>."
   ]
  },
  {
   "cell_type": "markdown",
   "metadata": {
    "label": "box:def:plano.invariable",
    "subtitle": "Plano invariable (de Laplace) y sistema natural de referencia**.  Dado un sistema de N partículas puntuales $\\{m_i\\}$, llamamos **plano invariable (de Laplace).",
    "tags": [
     "box_definition",
     "box:def:plano.invariable"
    ],
    "title": "Definición"
   },
   "source": [
    "> **Definición 11.8. Plano invariable (de Laplace) y sistema natural de referencia**.  Dado un sistema de N partículas puntuales $\\{m_i\\}$, llamamos **plano invariable (de Laplace)..**<a id='box:def:plano.invariable'></a> a aquel que tiene como vector normal $\\hat n={\\vec L}'/L'$, donde:\n",
    "\n",
    "> $${\\vec L}'=\\sum m_i {{\\vec r}_i}' \\times {\\dot{\\vec{r}}_i}'$$\n",
    "> es el momento angular total de las partículas referidas al sistema de referencia del centro de masa.  Dado que ${\\vec L}'$ es constante, es posible usar las posiciones y velocidades de las partículas en un tiempo arbitrario para calcular la dirección del plano invariable.  \n",
    "\n",
    "> Llamamos **sistema natural de coordenadas** de un sistema de N cuerpos a aquel que tiene: 1) origen en el centro de masa y 2) plano $x-y$ sobre el plano invariable de Laplace (ver Figura Figura ([plano_invariable](#fig:plano_invariable))).)"
   ]
  },
  {
   "cell_type": "markdown",
   "metadata": {},
   "source": [
    "<a id='fig:plano_invariable'></a>![Ilustración gráfica de la orientación del plano invariable de Laplace.  El plano invariable esta definido en el sistema de referencia inercial del centro de masa y se mueve con él con velocidad $V_\\mathrm{CM}$ y tiene una orientación dada por el momento angular total ${\\vec L}'$ de las partículas respecto del centro de masa.++t!++0.7++\\label{fig:plano_invariable}](./figures/square_plano_invariable.png)\n",
    "\n",
    "<center><b>Figura 6.64</b>. Ilustración gráfica de la orientación del plano invariable de Laplace.  El plano invariable esta definido en el sistema de referencia inercial del centro de masa y se mueve con él con velocidad $V_</center>"
   ]
  },
  {
   "cell_type": "markdown",
   "metadata": {},
   "source": [
    "Es importante insistir en que el vector que define la dirección del plano invariable de Laplace, no es, en general el vector en la Ec. ([ncuerpos_momento_angular](#mjx-eqn-eq%3Ancuerpos_momento_angular)) que, como vimos en la [Sección *Dinámica referida al centro de masa*](05.02.02.00.Mecanica.Dinamica.SistemaParticulas.ipynb#dinamica_centro_masa) se puede escribir como:\n",
    "\n",
    "$$\n",
    "\\vec L=M{\\vec R}_\\mathrm{CM}\\times{\\vec V}_\\mathrm{CM}+\\sum m_i {{\\vec r}_i}' \\times {\\dot{\\vec{r}}_i}'.\n",
    "$$\n",
    "\n",
    "El vector de la Definición [ncuerpos_momento_angular](#box:def:plano.invariable), que es esencialmente el segundo término de la ecuación anterior, no tiene la misma dirección de $\\vec L$ debido al término $M{\\vec R}_\\mathrm{CM}\\times{\\vec V}_\\mathrm{CM}$ (momento angular del centro de masa.)  Por lo tanto, es muy importante al construir el sistema de coordenadas natural, tener cuidado de asegurárse que las posiciones y velocidades de las partículas estén referidas al centro de masa."
   ]
  },
  {
   "cell_type": "markdown",
   "metadata": {
    "label": "",
    "subtitle": "El plano invariable del Sistema Solar",
    "tags": [
     "box_history",
     "placement:h"
    ],
    "title": "Un poco de historia"
   },
   "source": [
    "> **Un poco de historia: El plano invariable del Sistema Solar.**<a id=''></a> Durante más de 100 años, los astrónomos han intentado encontrar la orientación del plano invariable del Sistema Solar.  El esfuerzo no ha sido sencillo, en tanto durante en el mismo lapso, la masa de los cuerpos no siempre se ha conocido con precisión e incluso, cuerpos enteramente nuevos se descubren de vez en cuando.  \n",
    "\n",
    "> La determinación más precisa de la orientación del plano invariable se hizo recientemente <cite data-cite=\"Souami2012SolarPlane\"><a href=\"mybook.html#Souami2012SolarPlane\">(Souami & Souchay, 2012)</a></cite> y concluyó que este importante plano tiene una inclinación, respecto al plano del ecuador en el sistema ICRF (ver la [Sección *Sistema de referencia astronómicos*](Not Found#sistemas_referencia_astronomicos)) de 23$^\\circ$ 0' 31\".9 y una longitude del nodo ascendente de 3$^\\circ$ 51' 9\".4 (para una definición de estos ángulos ver la [Sección *Cónicas en el espacio*](04.02.05.00.Fundamentos.Conicas.Rotaciones.ipynb#conicas_espacio).)  Esto implica, que el plano invariable del Sistema Solar esta inclinado respecto al plano de la eclípica de J2000.0 (que es muy importante en la mecánica celeste al usarse como el plano de referencia fundamental para el cálculo de posiciones planetarias) en un ángulo de 1$^\\circ$ 34' 43\".3. "
   ]
  },
  {
   "cell_type": "markdown",
   "metadata": {},
   "source": [
    "Usando `SPICE` podemos hacer una estimación de primer orden de la inclinación del plano invariable del Sistema Solar, respecto al sistema de la eclíptica de J2000.0 (ver la [Sección *Sistemas de referencia astronómicos*](Not Found#sistemas_referencia_astronomicos).)  Para ello podemos asumir, por simplicidad, que el momentum angular total del sistema esta concentrado en el Sol y el planeta más masivo, Júpiter (entre los dos cuerpos concentran el 99.96% de la masa del sistema.)\n",
    "\n",
    "Para conseguirlo, primero debemos obtener de los `kernels` de `SPICE`, la masa, posición y velocidad de los cuerpos implicados en un *tiempo de efemérides* arbitrario (tomaremos $t_\\mathrm{ef}=0$ por comodidad):"
   ]
  },
  {
   "cell_type": "markdown",
   "metadata": {},
   "source": [
    "<a id='code:masas_estado_planetas'></a>"
   ]
  },
  {
   "cell_type": "code",
   "execution_count": 1,
   "metadata": {
    "codelabel": "code:masas_estado_planetas",
    "codeplot": 0,
    "tags": [
     "code:masas_estado_planetas"
    ]
   },
   "outputs": [],
   "source": [
    "import spiceypy as spy\n",
    "\n",
    "#Asumimos un tiempo cualquiera, en este caso t=J2000.0\n",
    "tef=0\n",
    "\n",
    "#Carga kernels con posiciones (bsp) y masas (tpc)\n",
    "spy.furnsh('pymcel/data/de430.bsp')\n",
    "spy.furnsh('pymcel/data/de430.tpc')\n",
    "\n",
    "#Parámetro gravitacional, posiciones y velocidades de los cuerpos\n",
    "musol=spy.bodvrd(\"SUN\",\"GM\",1)[1][0]\n",
    "sol,tluz=spy.spkezr(\"SUN\",tef,\n",
    "                    \"ECLIPJ2000\",\"None\",\"SSB\")\n",
    "rsol=sol[:3]\n",
    "vsol=sol[3:]\n",
    "mujupiter=spy.bodvrd(\"JUPITER_BARYCENTER\",\"GM\",1)[1][0]\n",
    "jupiter,tluz=spy.spkezr(\"JUPITER_BARYCENTER\",tef,\n",
    "                        \"ECLIPJ2000\",\"None\",\"SSB\")\n",
    "rjupiter=jupiter[:3]\n",
    "vjupiter=jupiter[3:]"
   ]
  },
  {
   "cell_type": "code",
   "execution_count": 2,
   "metadata": {
    "codelabel": "",
    "codeplot": 0,
    "tags": [
     "hide_input"
    ]
   },
   "outputs": [
    {
     "name": "stdout",
     "output_type": "stream",
     "text": [
      "Sol:\n",
      "\tmu = 132712440041.9394 km^3/s^2\n",
      "\tPosición = [-1067598.50226456  -418234.39327422    30837.61810502] km\n",
      "\tVelocidad = [ 0.00931257 -0.01282475 -0.00016333] km/s\n",
      "Jupiter:\n",
      "\tmu = 126712764.7999999 km^3/s^2\n",
      "\tPosición = [ 5.97499980e+08  4.39186501e+08 -1.51960586e+07] km\n",
      "\tVelocidad = [-7.90052522 11.14330827  0.13069904] km/s\n"
     ]
    }
   ],
   "source": [
    "print(f\"Sol:\")\n",
    "print(f\"\\tmu = {musol} km^3/s^2\")\n",
    "print(f\"\\tPosición = {rsol} km\")\n",
    "print(f\"\\tVelocidad = {vsol} km/s\")\n",
    "print(f\"Jupiter:\")\n",
    "print(f\"\\tmu = {mujupiter} km^3/s^2\")\n",
    "print(f\"\\tPosición = {rjupiter} km\")\n",
    "print(f\"\\tVelocidad = {vjupiter} km/s\")\n"
   ]
  },
  {
   "cell_type": "markdown",
   "metadata": {},
   "source": [
    "Nótese que como señalamos antes nos hemos cuidado de calcular tanto la posición del Sol como de Júpiter, respecto al centro de masa (baricentro) del sistema solar (`SSB` por *Solar System Barycenter* en `SPICE`.) "
   ]
  },
  {
   "cell_type": "markdown",
   "metadata": {},
   "source": [
    "Con esta información, el momento angular total del sistema será:"
   ]
  },
  {
   "cell_type": "code",
   "execution_count": 3,
   "metadata": {
    "codelabel": "",
    "codeplot": 0
   },
   "outputs": [],
   "source": [
    "#Constante de gravitación universal:\n",
    "G=6.67e-20 # km^3 / kg s^2\n",
    "\n",
    "#Momentum angular total\n",
    "from numpy import cross\n",
    "L=(musol/G)*cross(rsol,vsol)+(mujupiter/G)*cross(rjupiter,vjupiter)"
   ]
  },
  {
   "cell_type": "code",
   "execution_count": 4,
   "metadata": {
    "codelabel": "",
    "codeplot": 0,
    "tags": [
     "hide_input"
    ]
   },
   "outputs": [
    {
     "name": "stdout",
     "output_type": "stream",
     "text": [
      "L = [4.31661898e+35 7.99455257e+34 1.92754426e+37] kg m^2/s^2\n"
     ]
    }
   ],
   "source": [
    "print(f\"L = {L} kg m^2/s^2\")"
   ]
  },
  {
   "cell_type": "markdown",
   "metadata": {},
   "source": [
    "En el algoritmo anterior, para obtener la masa de cada cuerpo, hemos divido el valor de los parámetros gravitacionales $\\mu$ por la constante $G$ (en las unidades apropiadas.) "
   ]
  },
  {
   "cell_type": "markdown",
   "metadata": {},
   "source": [
    "Con este resultado, la inclinación estimada del plano invariable del Sistema Solar, se obtiene, finalmente, calculando el ángulo formado entre el momento angular total y el eje z (que en `SPICE` es perpendicular al plano de la eclíptica de J2000.0), es decir, $i=\\cos^{-1}(L_z/L)$:"
   ]
  },
  {
   "cell_type": "code",
   "execution_count": 5,
   "metadata": {
    "codelabel": "",
    "codeplot": 0
   },
   "outputs": [],
   "source": [
    "from numpy import arccos\n",
    "from numpy.linalg import norm\n",
    "\n",
    "i=arccos(L[2]/norm(L))"
   ]
  },
  {
   "cell_type": "code",
   "execution_count": 6,
   "metadata": {
    "codelabel": "",
    "codeplot": 0,
    "tags": [
     "hide_input"
    ]
   },
   "outputs": [
    {
     "name": "stdout",
     "output_type": "stream",
     "text": [
      "i = 1.3046988768626038 grados\n",
      "  = 1:18:16\n"
     ]
    }
   ],
   "source": [
    "from numpy import pi\n",
    "grados=i*180/pi\n",
    "minutos=60*(grados-int(grados))\n",
    "segundos=60*(minutos-int(minutos))\n",
    "print(f\"i = {grados} grados\")\n",
    "print(f\"  = {int(grados)}:{int(minutos)}:{int(segundos)}\")"
   ]
  },
  {
   "cell_type": "markdown",
   "metadata": {},
   "source": [
    "Aquí hemos usado la notación `grados:minutos:segundos`, mas conveniente en el contexto de los algoritmos.  \n",
    "\n",
    "La inclinación obtenida, $i=1^\\circ\\;18'\\;16''$, difiere de la calculada con todos los cuerpos del Sistema Solar (ver el recuadro el *Un poco de historia, el plano invariable del Sistema Solar*) en casi $16$ minutos de arco (que corresponde a un error relativo de un poco más del 17\\%.)  El lector podría obtener una estimación mejor de esta inclinación si incluye otros cuerpos en el cálculo (ver sección de problemas al final de este capítulo.)"
   ]
  },
  {
   "cell_type": "markdown",
   "metadata": {
    "tags": [
     "navigation"
    ]
   },
   "source": [
    "[Indice](index.ipynb) | Previo: [ProblemaNCuerpos.SolucionAnalitica](06.02.00.00.ProblemaNCuerpos.SolucionAnalitica.ipynb) | Siguiente: [ProblemaNCuerpos.SolucionAnalitica.Energia](06.02.02.00.ProblemaNCuerpos.SolucionAnalitica.Energia.ipynb)"
   ]
  }
 ],
 "metadata": {
  "celltoolbar": "Tags",
  "kernelspec": {
   "display_name": "Python 3",
   "language": "python",
   "name": "python3"
  },
  "language_info": {
   "codemirror_mode": {
    "name": "ipython",
    "version": 3
   },
   "file_extension": ".py",
   "mimetype": "text/x-python",
   "name": "python",
   "nbconvert_exporter": "python",
   "pygments_lexer": "ipython3",
   "version": "3.6.8"
  }
 },
 "nbformat": 4,
 "nbformat_minor": 2
}
