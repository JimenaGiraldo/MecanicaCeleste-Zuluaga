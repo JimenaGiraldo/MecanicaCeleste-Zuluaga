{
 "cells": [
  {
   "cell_type": "markdown",
   "metadata": {
    "tags": [
     "navigation"
    ]
   },
   "source": [
    "[Indice](index.ipynb) | Previo: [FormalismoLagrangiano.Simetrias](09.05.00.00.FormalismoLagrangiano.Simetrias.ipynb) | Siguiente: [FormalismoLagrangiano.MecanicaCeleste.ProblemaNCuerpos](09.06.00.00.FormalismoLagrangiano.MecanicaCeleste.ProblemaNCuerpos.ipynb)"
   ]
  },
  {
   "cell_type": "markdown",
   "metadata": {},
   "source": [
    "## 9.8. Mecánica celeste en el formalismo Lagrangiano\n",
    "<a id='celeste_lagrangiano'></a>"
   ]
  },
  {
   "cell_type": "markdown",
   "metadata": {},
   "source": [
    "Después de haber introducido en las secciones anteriores los elementos básicos del formalismo Hamiltoniano, ha llegado el momento de que volvamos sobre los problemas de la mecánica celeste pero que lo hagamos ahora con las herramientas del nuevo formalismo. En las siguientes secciones volveremos sobre temas que ya tratamos en capítulos anteriores.  Este ejercicio académico nos permitirá aplicar y conocer mejor el formalismo Lagrangiano.  Pero no todo será una duplicación de resultados conocidos.  Algunas de las características únicas del nuevo formalismo nos permitirá estudiar nuevos problemas o reconocer propiedades que desconocíamos de sistemas ya estudiados con el formalismo vectorial."
   ]
  },
  {
   "cell_type": "markdown",
   "metadata": {
    "tags": [
     "navigation"
    ]
   },
   "source": [
    "[Indice](index.ipynb) | Previo: [FormalismoLagrangiano.Simetrias](09.05.00.00.FormalismoLagrangiano.Simetrias.ipynb) | Siguiente: [FormalismoLagrangiano.MecanicaCeleste.ProblemaNCuerpos](09.06.00.00.FormalismoLagrangiano.MecanicaCeleste.ProblemaNCuerpos.ipynb)"
   ]
  }
 ],
 "metadata": {
  "celltoolbar": "Tags",
  "kernelspec": {
   "display_name": "Python 3",
   "language": "python",
   "name": "python3"
  },
  "language_info": {
   "codemirror_mode": {
    "name": "ipython",
    "version": 3
   },
   "file_extension": ".py",
   "mimetype": "text/x-python",
   "name": "python",
   "nbconvert_exporter": "python",
   "pygments_lexer": "ipython3",
   "version": "3.6.8"
  }
 },
 "nbformat": 4,
 "nbformat_minor": 2
}
