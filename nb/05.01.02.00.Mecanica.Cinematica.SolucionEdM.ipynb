{
 "cells": [
  {
   "cell_type": "markdown",
   "metadata": {
    "tags": [
     "navigation"
    ]
   },
   "source": [
    "[Indice](index.ipynb) | Previo: [Mecanica.Cinematica.Cantidades](05.01.01.00.Mecanica.Cinematica.Cantidades.ipynb) | Siguiente: [Mecanica.Cinematica.SolucionNumerica](05.01.03.00.Mecanica.Cinematica.SolucionNumerica.ipynb)"
   ]
  },
  {
   "cell_type": "markdown",
   "metadata": {},
   "source": [
    "### 5.2.3. La ecuación de movimiento (e.d.m.)\n",
    "<a id='ecuacion_movimiento'></a>"
   ]
  },
  {
   "cell_type": "markdown",
   "metadata": {},
   "source": [
    "La posición y velocidad de una partícula en cualquier instante futuro puede predecirse si se resuelve la siguiente ecuación diferencial: \n",
    "\n",
    "\\begin{equation}\n",
    "\\label{eq:edm}\n",
    "\\ddot{\\vec r} = \\vec a.\n",
    "\\end{equation}\n",
    "\n",
    "A esta ecuación se la conoce en mecánica como la **ecuación de movimiento** y para referirnos a ella, en lo sucesivo, usaremos el acrónimo e.d.m. o el nombre `edm` en los algoritmos.\n",
    "\n",
    "La solución general de esta ecuación es la función de posición de la partícula $\\vec r(t)$, de la que se pueden deducir posteriormente las demás cantidades cinemáticas."
   ]
  },
  {
   "cell_type": "markdown",
   "metadata": {},
   "source": [
    "La e.d.m. es una ecuación diferencial vectorial de segundo orden con condiciones iniciales $\\vec{r}(t_0)=r_0$, $\\dot{\\vec r}(t=t_0)=\\vec v_0$, es decir, matemáticamente y como explicamos en la [Sección *Ecuaciones diferenciales*](04.01.03.00.Fundamentos.Calculo.EcuacionesDiferenciales.ipynb#ecuaciones_diferenciales), es un problema de valor inicial (IVP).\n",
    "\n",
    "La aceleración $\\vec a$ en la Ec. ([edm](#mjx-eqn-eq%3Aedm)) es una función que puede depender de varias de las cantidades cinemáticas definidas en la sección previa.  Para la mayoría de las situaciones consideradas en este texto, sin embargo, asumiremos que la aceleración depende solamente del tiempo y del estado de la partícula, es decir:\n",
    "\n",
    "$$\n",
    "\\vec a=\\vec a(t,\\vec r,\\dot{\\vec r}).\n",
    "$$"
   ]
  },
  {
   "cell_type": "markdown",
   "metadata": {},
   "source": [
    "La e.d.m. puede expresarse también como dos ecuaciones diferenciales vectoriales de primer orden (*reducción de orden*):\n",
    "\n",
    "\\begin{equation}\n",
    "\\label{eq:edm_primer_orden}\n",
    "\\begin{array}{ccl}\n",
    "\\dot{\\vec r} & = &\\vec v\\\\\n",
    "\\dot{\\vec v} & = &\\vec a(t,\\vec r,\\vec v)\n",
    "\\end{array}\n",
    "\\end{equation}\n",
    "\n",
    "Aquí se ha introducido como variable auxiliar la velocidad misma $\\vec v\\equiv\\dot{\\vec r}$.  Escrita de esta manera, la solución al sistema de ecuaciones diferenciales de la e.d.m. provee simultáneamente las funciones $\\vec r(t)$ y $\\vec v(t)$.  El sistema gana variables, pero el orden se reduce."
   ]
  },
  {
   "cell_type": "markdown",
   "metadata": {},
   "source": [
    "La e.d.m., tanto en la forma ([edm](#mjx-eqn-eq%3Aedm)) como ([edm_primer_orden](#mjx-eqn-eq%3Aedm_primer_orden)) representa, en realidad, una forma compacta de escribir un sistema de ecuaciones diferenciales escalares.  \n",
    "\n",
    "En términos de las componentes cartesianas, la e.d.m. de la Ec. ([edm](#mjx-eqn-eq%3Aedm)) es en realidad un sistema de tres ecuaciones diferenciales ordinarias de segundo orden:\n",
    "\n",
    "\\begin{equation}\n",
    "\\label{eq:edm_escalar}\n",
    "\\begin{array}{ccl}\n",
    "\\ddot{x} & = &a_x\\\\\n",
    "\\ddot{y} & = &a_y\\\\\n",
    "\\ddot{z} & = &a_z\\\\\n",
    "\\end{array}\n",
    "\\end{equation}"
   ]
  },
  {
   "cell_type": "markdown",
   "metadata": {},
   "source": [
    "Por su lado la e.d.m. de la Ec. ([edm_primer_orden](#mjx-eqn-eq%3Aedm_primer_orden)) corresponde a un sistema de 6 ecuaciones diferenciales escalares de primer orden:\n",
    "\n",
    "\\begin{equation}\n",
    "\\label{eq:edm_primer_orden_escalar}\n",
    "\\begin{array}{ccl}\n",
    "\\dot{x} & = &v_x\\\\\n",
    "\\dot{y} & = &v_y\\\\\n",
    "\\dot{z} & = &v_z\\\\\n",
    "\\dot{v_x} & = &a_x(t,x,y,z,v_x,v_y,v_z,y)\\\\\n",
    "\\dot{v_y} & = &a_y(t,x,y,z,v_x,v_y,v_z,y)\\\\\n",
    "\\dot{v_z} & = &a_z(t,x,y,z,v_x,v_y,v_z,y)\\\\\n",
    "\\end{array}\n",
    "\\end{equation}\n",
    "\n",
    "En está última expresión hemos escrito explícitamente la dependencia de la aceleración de las componentes del vector de estado, para resaltar el hecho que el sistema de ecuaciones diferenciales puede ser altamente *acoplado*. "
   ]
  },
  {
   "cell_type": "markdown",
   "metadata": {},
   "source": [
    "En términos del vector de estado $\\vec X:(\\vec r\\;\\vec v)^\\mathrm{T}$, la e.d.m. de primer orden (Ec. [edm_primer_orden_escalar](#mjx-eqn-eq%3Aedm_primer_orden_escalar)) se puede escribir como:\n",
    "\n",
    "\\begin{equation}\n",
    "\\label{eq:edm_estado}\n",
    "\\dot{X} = \\left( \n",
    "\\begin{array}{c}\n",
    "\\vec{v} \\\\ \\vec{a}\n",
    "\\end{array}\n",
    "\\right)\n",
    "\\end{equation}\n",
    "donde (abusando de la notación) $\\vec v:(v_x\\;v_y\\;v_z)^\\mathrm{T}$ y  $\\vec a:(a_x\\;a_y\\;a_z)^\\mathrm{T}$"
   ]
  },
  {
   "cell_type": "markdown",
   "metadata": {
    "label": "",
    "subtitle": "Ecuaciones de movimiento en otros sistemas de coordenadas",
    "tags": [
     "box_note"
    ],
    "title": "Nota"
   },
   "source": [
    "> **Nota: Ecuaciones de movimiento en otros sistemas de coordenadas.**<a id=''></a> Ecuaciones análogas a la Ecs. ([edm_escalar](#mjx-eqn-eq%3Aedm_escalar),[edm_primer_orden_escalar](#mjx-eqn-eq%3Aedm_primer_orden_escalar)) pueden escribirse en caso de que la aceleración sea provista en los sistema coordenadas cilíndricas o esféricas.  Para ello deben usarse las definiciones de velocidad y aceleración, en el sistema de coordenadas respectivo, que vimos en la [sección *Cantidades cinemáticas*](05.01.01.00.Mecanica.Cinematica.Cantidades.ipynb#cantidades_cinematicas).  La forma explícita de esas ecuaciones diferenciales, sin embargo, no será tan sencilla como la que escribimos en el caso de las coordenadas cartesianas. El lector podrá explorar estos casos a través de algunos de los problemas incluídos al final del capítulo."
   ]
  },
  {
   "cell_type": "markdown",
   "metadata": {},
   "source": [
    "### 5.2.4. Integración de la e.d.m.\n",
    "<a id='integracion_edm'></a>"
   ]
  },
  {
   "cell_type": "markdown",
   "metadata": {},
   "source": [
    "La solución o *integración* de la e.d.m. constituye el problema matemático central de la cinemática y a la larga, el problema más importante de toda la mecánica incluyendo, naturalmente, la mecánica celeste.\n",
    "\n",
    "En los cursos de mecánica newtoniana básica el problema se resuelve normalmente para dos casos simples: \n",
    "\n",
    "1. $\\vec a=\\vec 0$ que se conoce también como *movimiento rectilineo y uniforme.* \n",
    "2. $\\vec a=\\vec{a}_0$, donde $\\vec{a}_0$ es un vector constante y que se conoce como movimiento rectilíneo uniformemente acelerado."
   ]
  },
  {
   "cell_type": "markdown",
   "metadata": {},
   "source": [
    "Si bien estos dos casos son interesantes en la descripción de un amplio rango de aplicaciones simples (p.e. en el movimiento parabólico), en situaciones realistas y en particular en las que veremos en la mecánica celeste, la función $\\vec a$ puede ser mucho más compleja.  \n",
    "\n",
    "En los ejemplos desarrollados a continuación, y que nos serviran para ilustrar algunos conceptos físicos y matemáticos que usaremos con regularidad en el resto del libro, consideramos dos situaciones hipotéticas comúnes, a saber que la $\\vec a$ depende exclusivamente del tiempo o que esta cantidad depende del vector de estado."
   ]
  },
  {
   "cell_type": "markdown",
   "metadata": {},
   "source": [
    "### 5.2.5. Integración por cuadraturas\n",
    "<a id='integracion_cuadraturas'></a>"
   ]
  },
  {
   "cell_type": "markdown",
   "metadata": {},
   "source": [
    "#### Ejemplo 1: movimiento con tirón constante"
   ]
  },
  {
   "cell_type": "markdown",
   "metadata": {},
   "source": [
    "Considerese el caso simple de una partícula que esta sometida a un tirón $\\vec{j}:(j_0,0,0)$ constante en el tiempo.  Suponga además que en $t=0$ la aceleración de la partícula es nula.  \n",
    "\n",
    "En estas condiciones la función de aceleración, en cualquier tiempo, se puede escribir como: \n",
    "\n",
    "$$\n",
    "\\vec a(t):(j_0 t,0,0),\n",
    "$$\n",
    "\n",
    "Por tanto, la a e.d.m., escrita en términos de las componentes del vector posición (Ec. [edm_escalar](#mjx-eqn-eq%3Aedm_escalar)) será:\n",
    "\n",
    "\\begin{equation}\n",
    "\\label{eq:edm_ejemplo1}\n",
    "\\begin{array}{rcl}\n",
    "\\ddot{x} & = & j_0 t\\\\\n",
    "\\ddot{y} & = & 0\\\\\n",
    "\\ddot{z} & = & 0\\\\\n",
    "\\end{array}\n",
    "\\end{equation}"
   ]
  },
  {
   "cell_type": "markdown",
   "metadata": {},
   "source": [
    "Si bien una solución a esta ecuación diferencial puede encontrarse fácilmente por tanteo, p.e. $x(t)=a t^3+b t^2+c t+d$, un procedimiento cuidadoso de solución nos permitirá a continuación revelar algunas propiedades interesantes del sistema dinámico y, más importante aquí, ilustrar un método de solución de ecuaciones diferenciales que será de gran utilidad en los siguientes capítulos.  "
   ]
  },
  {
   "cell_type": "markdown",
   "metadata": {},
   "source": [
    "Reescribamos la ecuación para $x$ en el sistema de Ecs. ([edm_ejemplo1](#mjx-eqn-eq%3Aedm_ejemplo1)) de la forma:\n",
    "\n",
    "\\begin{equation}\n",
    "\\label{eq:edm_ejemplo1_cuadratura}\n",
    "\\frac{\\mathrm{d}}{\\mathrm{dt}}\\dot{x} = \\frac{\\mathrm{d}}{\\mathrm{dt}}\\left(\\frac{1}{2}ct^2\\right).\n",
    "\\end{equation}\n",
    "\n",
    "La clave de este procedimiento de solución esta en la posibilidad de escribir, en función de sus respectivas antiderivadas, ambos lados de la ecuación diferencial.  Esta es la razón por la que llamaremos a este método, **método de las cuadraturas** en referencia al término que introdujimos en la [Sección *Integrales*](04.01.02.00.Fundamentos.Calculo.CalculoInfinitesimal.ipynb#integrales) para referirnos a la integral definida de una función."
   ]
  },
  {
   "cell_type": "markdown",
   "metadata": {},
   "source": [
    "Reuniendo los términos de la Ec. ([edm_ejemplo1_cuadratura](#mjx-eqn-eq%3Aedm_ejemplo1_cuadratura)) en un mismo lado obtenemos:\n",
    "\n",
    "$$\n",
    "\\frac{\\mathrm{d}}{\\mathrm{dt}}\\left(\\dot{x}-\\frac{1}{2}ct^2\\right)= 0.\n",
    "$$"
   ]
  },
  {
   "cell_type": "markdown",
   "metadata": {},
   "source": [
    "Si bien no hemos resuelto la ecuación todavía, está última manera de escribirla nos permite que la *fórmula* que aparece entre paréntesis y que combina la velocidad y el tiempo, sin importar el estado de la partícula o el instanate de tiempo, siempre será constante (su derivada con respecto al tiempo es cero):\n",
    "\n",
    "\\begin{equation}\n",
    "\\label{eq:Ix_ejemplo1}\n",
    "\\dot{x}-\\frac{1}{2}ct^2 = I_x\n",
    "\\end{equation}\n",
    "\n",
    "Decimos que $C_{Ix}(t,\\dot x)\\equiv\\dot{x}-ct^2/2$ es una **integral**, una **cuadratura** o una **constante de movimiento** del sistema.  En este caso $I_x$ es el valor que esta constante adopta para un conjunto específico de condiciones iniciales."
   ]
  },
  {
   "cell_type": "markdown",
   "metadata": {
    "label": "",
    "subtitle": "Constante de movimiento de un sistema dinámico",
    "tags": [
     "box_definition"
    ],
    "title": "Definición"
   },
   "source": [
    "> **Definición 7.5. Constante de movimiento de un sistema dinámico.**<a id=''></a> Si una función $f(t,\\vec r,\\vec v)$ es tal que:\n",
    "\n",
    "> $$C_I(t,\\vec r,\\vec v)=I$$\n",
    "\n",
    "> Donde $I$ es una cantidad que solo depende de las condiciones iniciales, decimos que $C_I(t,\\vec r,\\vec v)$ es una **constante de movimiento**. La llamaremos también una **integral** o **cuadratura** del sistema [$^1$](07.04.02.00.Problema2Cuerpos.SolucionTiempo.AproximacionKepler.ipynb#notaspie_1)."
   ]
  },
  {
   "cell_type": "markdown",
   "metadata": {},
   "source": [
    "Es fácil verificar que otras constantes de movimiento de este sistema son $\\dot{y}=I_y$ y $\\dot{z}=I_z$."
   ]
  },
  {
   "cell_type": "markdown",
   "metadata": {},
   "source": [
    "#### Ejemplo 2: movimiento oscilatorio"
   ]
  },
  {
   "cell_type": "markdown",
   "metadata": {},
   "source": [
    "Considere ahora el caso en el que una partícula tiene una aceleración dada por:\n",
    "\n",
    "$$\n",
    "\\vec a(t):(-\\omega x,0,0),\n",
    "$$\n",
    "donde $\\omega$ es una cantidad constante.  Como vemos, cuando la partícula se aleja del origen la aceleración apuntá de nuevo hacia allí.  Sabemos que este tipo de aceleración producirá un movimiento oscilatorio."
   ]
  },
  {
   "cell_type": "markdown",
   "metadata": {},
   "source": [
    "En este caso la e.d.m. para la componente $x$ será:\n",
    "\n",
    "$$\n",
    "\\ddot{x} = -\\omega x.\n",
    "$$\n",
    "\n",
    "La integración de esta ecuación por tanteo ya no es tan trivial.  Tampoco lo es intentar exprear ambos lados de la ecuación como derivadas respecto al tiempo de otras funciones (como lo hicimos para encontrar la Ec. [edm_ejemplo1_cuadratura](#mjx-eqn-eq%3Aedm_ejemplo1_cuadratura)). "
   ]
  },
  {
   "cell_type": "markdown",
   "metadata": {},
   "source": [
    "Sin embargo, si multiplicamos ambos lados de la ecuación por la función $\\dot x$:\n",
    "\n",
    "$$\n",
    "\\dot{x}\\ddot{x} = -\\omega \\dot{x}x,\n",
    "$$\n",
    "la nueva ecuación puede escribirse, convenientemente, de la forma:\n",
    "\n",
    "$$\n",
    "\\frac{\\mathrm{d}}{\\mathrm{dt}}\\left(\\frac{1}{2}\\dot{x}^2\\right) = \\frac{\\mathrm{d}}{\\mathrm{dt}}\\left(-\\frac{1}{2}\n",
    "\\omega x^2\\right).\n",
    "$$"
   ]
  },
  {
   "cell_type": "markdown",
   "metadata": {},
   "source": [
    "Allí podemos identificar una constante de movimiento del sistema:\n",
    "\n",
    "\\begin{equation}\n",
    "\\label{eq:Ix_ejemplo2}\n",
    "\\frac{1}{2}\\dot{x}^2+\\frac{1}{2}\\omega x^2=I_x.\n",
    "\\end{equation}\n",
    "\n",
    "Como la multiplicación de la e.d.m. original por la función $\\dot{x}$ nos permitió encontrar una integral de la ecuación, llamamos a $\\dot{x}$, un *factor integrante.*"
   ]
  },
  {
   "cell_type": "markdown",
   "metadata": {},
   "source": [
    "¿De qué sirve encontrar las constantes de movimientode un sistema si lo que queremos en realidad es hallar la forma explícitas para las funciones $\\vec r(t)$, $\\vec v(t)$?  \n",
    "\n",
    "Las constantes de movimiento pueden ofrecernos información sobre la dinámica del sistema, incluso en situaciones en las que no es posible obtener una solución.  Note, por ejemplo, cuan diferentes son las constantes de movimiento de los sistemas en los ejemplos 1 y 2.  Aunque no resolvimos ninguno de los dos problemas, sus cuadraturas nos dan pistas sobre como se relacionan la posición y velocidad de la partícula en cualquier instante del tiempo.  Más adelante mostraremos que es incluso posible dar una interpretación física a estas constantes (en términos de cantidades dinámicas conocidas tales como la energía, el momentum lineal, el momentum angular, o incluso de cantidades desconocidas pero útiles) y su relevancia para la comprensión del sistema será aún mayor."
   ]
  },
  {
   "cell_type": "markdown",
   "metadata": {},
   "source": [
    "Ahora bien, siendo las cuadraturas $C(t,\\vec r,\\vec v)$ funciones de las variables que deseamos encontrar, si se obtienen suficientes constantes de movimiento (tantas como variables), habremos, técnicamente, obtenido la solución. \n",
    "\n",
    "En otras palabras, un número suficiente de cuadraturas o de constantes de movimiento permite convertir la solución de una ecuación diferencial, en la solución a un sistema algebraico de ecuaciones (aquel formado por las cuadraturas)."
   ]
  },
  {
   "cell_type": "markdown",
   "metadata": {},
   "source": [
    "Para ilustrarlo volvamos a la e.d.m. del sistema en el ejemplo 1:\n",
    "\n",
    "$$\n",
    "\\begin{array}{ccl}\n",
    "\\ddot{x} & = & j_0 t\\\\\n",
    "\\ddot{y} & = & 0\\\\\n",
    "\\ddot{z} & = & 0\\\\\n",
    "\\end{array}\n",
    "$$"
   ]
  },
  {
   "cell_type": "markdown",
   "metadata": {},
   "source": [
    "Es posible mostrar que este sistema tiene 6 constantes de movimiento (ya habíamos introducido tres de ellas):\n",
    "\n",
    "\\begin{equation}\n",
    "\\label{eq:constantes_ejemplo1}\n",
    "\\begin{array}{rrl}\n",
    "\\dot{x}-\\frac{1}{2}j_0 t^2 & = & I_x \\\\\n",
    "\\dot{y} & = & I_y \\\\\n",
    "\\dot{z} & = & I_z\\\\\n",
    "x-\\frac{1}{6}j_0 t^6-I_x t & = & S_x \\\\\n",
    "y-I_y t & = & S_y\\\\\n",
    "z-I_z t & = & S_z\\\\\n",
    "\\end{array}\n",
    "\\end{equation}\n",
    "\n",
    "El valor de las cantidades $I_x$, $I_y$, $I_z$, $S_x$, $S_y$, $S_z$ se obtiene reemplazando las condiciones iniciales en el lado izquierdo de estas ecuaciones."
   ]
  },
  {
   "cell_type": "markdown",
   "metadata": {},
   "source": [
    "Si se resuelve simultánemante el sistema de ecuaciones algebraicas ([constantes_ejemplo1](#mjx-eqn-eq%3Aconstantes_ejemplo1)) se obtiene, finalmente, la solución al problema original:\n",
    "\n",
    "\\begin{equation}\n",
    "\\label{eq:solucion_ejemplo1}\n",
    "\\begin{array}{rcl}\n",
    "x(t) & = & \\frac{1}{3}j_0 t^3+I_x t+S_x\\\\\n",
    "y(t) & = & I_y t+S_y\\\\\n",
    "z(t) & = & I_z t+S_z\\\\\n",
    "\\dot{x}(t) & = & \\frac{1}{2}j_0 t^2+I_x\\\\\n",
    "\\dot{y}(t) & = & I_y \\\\\n",
    "\\dot{z}(t) & = & I_z\\\\\n",
    "\\end{array}\n",
    "\\end{equation}"
   ]
  },
  {
   "cell_type": "markdown",
   "metadata": {},
   "source": [
    "Un procedimiento análogo puede usarse para encontrar la solución a la e.d.m. del sistema del ejemplo 2 (vea los problemas al final del capítulo.)\n",
    "\n",
    "Es posible que nadie escoja un procedimiento tan elaborado para encontrar la solución a la e.d.m. de estos dos sistemas dinámicos simples. Claramente, existen procedimiento más sencillos (incluyendo una solución por tanteo.)  Sin embargo, usar el método de las cuadraturas aquí, con sistemas cuya solución se puede obtener con métodos más directos, nos permite ilustrar el poder que tiene el método de las cuadraturas, que será el preferido para encontrar la solución de la e.d.m. de sistemas dinámicos mucho más complejos en mecánica celeste. "
   ]
  },
  {
   "cell_type": "markdown",
   "metadata": {
    "tags": [
     "footnote"
    ]
   },
   "source": [
    "**NOTAS AL PIE:**\n",
    "\n",
    "<a id='notaspie_1'></a>\n",
    "1. En términos rigurosos la *constante de movimiento* es la función $C_I(t,\\vec r,\\vec v)$ no su valor numérico $I$ que por definición es un número real y por lo tanto es constante.\n",
    "\n"
   ]
  },
  {
   "cell_type": "markdown",
   "metadata": {
    "tags": [
     "navigation"
    ]
   },
   "source": [
    "[Indice](index.ipynb) | Previo: [Mecanica.Cinematica.Cantidades](05.01.01.00.Mecanica.Cinematica.Cantidades.ipynb) | Siguiente: [Mecanica.Cinematica.SolucionNumerica](05.01.03.00.Mecanica.Cinematica.SolucionNumerica.ipynb)"
   ]
  }
 ],
 "metadata": {
  "celltoolbar": "Tags",
  "kernelspec": {
   "display_name": "Python 3",
   "language": "python",
   "name": "python3"
  },
  "language_info": {
   "codemirror_mode": {
    "name": "ipython",
    "version": 3
   },
   "file_extension": ".py",
   "mimetype": "text/x-python",
   "name": "python",
   "nbconvert_exporter": "python",
   "pygments_lexer": "ipython3",
   "version": "3.6.8"
  }
 },
 "nbformat": 4,
 "nbformat_minor": 2
}
