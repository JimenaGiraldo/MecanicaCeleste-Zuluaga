{
 "cells": [
  {
   "cell_type": "markdown",
   "metadata": {
    "tags": [
     "navigation"
    ]
   },
   "source": [
    "[Indice](index.ipynb) | Previo: [Mecanica.Cinematica.SolucionNumerica](05.01.03.00.Mecanica.Cinematica.SolucionNumerica.ipynb) | Siguiente: [Mecanica.Dinamica.Postulados](05.02.01.00.Mecanica.Dinamica.Postulados.ipynb)"
   ]
  },
  {
   "cell_type": "markdown",
   "metadata": {},
   "source": [
    "## 5.3. Dinámica\n",
    "<a id='dinamica'></a>"
   ]
  },
  {
   "cell_type": "markdown",
   "metadata": {},
   "source": [
    "### 5.3.1. Cantidades dinámicas\n",
    "<a id='cantidades_dinamicas'></a>"
   ]
  },
  {
   "cell_type": "markdown",
   "metadata": {},
   "source": [
    "Las cantidades dinámicas son aquellas que son requeridas para describir la relación entre las causas del movimiento y su descripción.  Las más usadas se desciben a continuación:"
   ]
  },
  {
   "cell_type": "markdown",
   "metadata": {},
   "source": [
    "- **Masa, $m$**.  \n",
    "\n",
    "    * Definición: Escalar que mide (en el contexto de la mecánica Newtoniana): (1) la cantidad de materia contenida en un cuerpo, $m=\\int \\rho dV$ donde $\\rho$ es la densidad y la integral se realiza sobre el volumen del cuerpo, (2) la *inercia* o resistencia del cuerpo a moverse y (3) la intensidad de la atracción gravitacional que experimenta o produce en otros cuerpos (ver la [Sección *Masa y principio de equivalencia*](05.02.01.00.Mecanica.Dinamica.Postulados.ipynb#masa_equivalencia)).\n",
    "    * Patrón: $[m]=$M.\n",
    "    * Unidad del SI[$^1$](05.03.00.00.Mecanica.SistemasNoInerciales.ipynb#notaspie_1): kg."
   ]
  },
  {
   "cell_type": "markdown",
   "metadata": {},
   "source": [
    "- **Momento lineal, $p$**:\n",
    "    * Definción: $\\vec p\\equiv m\\vec v=m\\dot{\\vec{r}}$.\n",
    "    * Patrón: $[p]=$M L T$^{-1}$.\n",
    "    * Unidad del SI: kg m s$^{-1}$."
   ]
  },
  {
   "cell_type": "markdown",
   "metadata": {},
   "source": [
    "- **Momentum angular, $L$**:\n",
    "    * Definción: $\\vec L\\equiv \\vec r\\times\\vec p$.\n",
    "    * Una propiedad para partículas puntuales ($m$ constante): $\\vec L = m \\vec r\\times\\dot{\\vec r}$.\n",
    "    * Patrón: $[L]=$M L$^2$ T$^{-1}$.\n",
    "    * Unidad del SI: kg m$^2$ s$^{-1}$."
   ]
  },
  {
   "cell_type": "markdown",
   "metadata": {},
   "source": [
    "- **Fuerza resultante, $\\cal F$**:\n",
    "    * Definción: $\\vec{\\cal F}\\equiv \\dot{\\vec{p}}$.\n",
    "    * Una propiedad para partículas puntuales ($m$ constante), $\\vec{\\cal F}=m \\ddot{\\vec r}$. \n",
    "    * Patrón: $[\\cal F]=$M L T$^{-2}$.\n",
    "    * Unidad del SI: kg m s$^{-2}$ $\\equiv$ N (Newton)."
   ]
  },
  {
   "cell_type": "markdown",
   "metadata": {},
   "source": [
    "- **Momento de fuerza o torca, $\\vec{\\tau}$**:\n",
    "    * Definción: $\\vec \\tau\\equiv \\vec r\\times \\vec{\\cal F}$.\n",
    "    * Una propiedad para partículas puntuales ($m$ constante): $\\vec \\tau = \\dot{\\vec{L}}$.\n",
    "    * Patrón: $[\\tau]=$M L$^{2}$ T$^{-2}$.\n",
    "    * Unidad del SI: kg m$^2$ s$^{-2}$."
   ]
  },
  {
   "cell_type": "markdown",
   "metadata": {},
   "source": [
    "- **Energía cinética o *vis viva*, $K$**:\n",
    "    * Definción: $K\\equiv m \\vec{v}^2/2$.\n",
    "    * Patrón: $[K]=$M L$^{2}$ T$^{-2}$.\n",
    "    * Unidad del SI: kg m$^2$ s$^{-2}$ $\\equiv$ J (*Joule*, pronunciado [\"syul\"](https://forvo.com/search/Joule/fr/))."
   ]
  },
  {
   "cell_type": "markdown",
   "metadata": {},
   "source": [
    "- **Trabajo, $W$**:\n",
    "    * Definición: $W = \\int {\\cal F}(\\vec r)\\cdot\\mathrm{d}\\vec{r}$.\n",
    "    * Patrón: $[W]=$M L$^{2}$ T$^{-2}$.\n",
    "    * Unidad del SI: J."
   ]
  },
  {
   "cell_type": "markdown",
   "metadata": {},
   "source": [
    "### 5.3.2. Partículas y fuerzas\n",
    "<a id='particulas_fuerzas'></a>"
   ]
  },
  {
   "cell_type": "markdown",
   "metadata": {},
   "source": [
    "Hay tres conceptos centrales en la dinámica newtoniana: partícula, fuerza y masa. "
   ]
  },
  {
   "cell_type": "markdown",
   "metadata": {},
   "source": [
    "Entenderemos aquí por partícula o **partícula puntual** a una entidad material de tamaño insignificante, sin estructura, ni volumen (independientemente de que se las represente gráficamente como esferas.)\n",
    "\n",
    "Un sistema de muchas partículas puntuales puede formar: una \"nube\", un cuerpo (rígido o elástico) o un fluído.  En lo que resta de este libro nos concentraremos únicamente en la dinámica de partículas individuales o \"nubes\" de partículas."
   ]
  },
  {
   "cell_type": "markdown",
   "metadata": {
    "label": "",
    "subtitle": "Masa constante para partículas puntuales",
    "tags": [
     "box_note"
    ],
    "title": "Nota"
   },
   "source": [
    "> **Nota: Masa constante para partículas puntuales.**<a id=''></a> A diferencia de lo que pasa con un sistema de partículas, en la que el número de constituyentes puede variar debido al intercambio de materia con otros sistemas, en lo sucesivo asumiremos que la masa de las partículas puntuales es constante en el tiempo e independiente del sistema de referencia."
   ]
  },
  {
   "cell_type": "markdown",
   "metadata": {},
   "source": [
    "El concepto de fuerza es uno de los más esquivos de la Física <cite data-cite=\"Wilczek2004Force\"><a href=\"mybook.html#Wilczek2004Force\">(Wilczek, 2019)</a></cite>.  Para los propósitos de este libro nos apegaremos a  \"definiciones\" practicas del concepto, cercanas pero no en exceso a las introducidas originalmente por Newton en los *Principia*."
   ]
  },
  {
   "cell_type": "markdown",
   "metadata": {},
   "source": [
    "Distingumos dos cantidades físicas a las que llamaremos *fuerza*: \n",
    "\n",
    "- La **fuerza resultante**, $\\vec{\\cal F}$ es el nombre que daremos aquí a la razón instantánea de cambio en el momento lineal, ${\\cal F}\\equiv\\dot{\\vec p}$, independiente de cuál sea la causa de ese cambio.  \n",
    "\n",
    "- La **fuerza aplicada**, $\\vec F$, es un concepto eminentemente newtoniano y, en términos modernos, pobremente definido. En general, la fuerza aplicada es una medida la intensidad de la *interacción* entre una partícula y su entorno (otras partículas, medios materiales o campos). El valor de la fuerza aplicada difícilmente puede derivarse de primeros principios y normalmente se postula (p.e. la fuerza gravitacional) o se construye a partir de modelos simplificados de las interacciones (p.e. las fuerzas de fricción.)"
   ]
  },
  {
   "cell_type": "markdown",
   "metadata": {},
   "source": [
    "En la mecánica Newtoniana se reconocen dos tipos básicos de *fuerza aplicada*:\n",
    "\n",
    "- **Fuerzas de contacto**: Fuerzas que resultan de la interacción por contacto de una partícula con otras partículas (p.e. fuerzas en choques), con medios (p.e. fricción en un fluído) o con fronteras materiales (p.e. fuerzas normales o de fricción).\n",
    "\n",
    "- **Fuerzas de campo o de acción a distancia**: Fuerzas que resultan de la interacción de las partículas con otras partículas o cuerpos materiales, sin que medie el contacto directo (a distancia); también están en este grupo las fuerzas que resultan de la interacción con un *campo* (por ejemplo los campos electromagnéticos). "
   ]
  },
  {
   "cell_type": "markdown",
   "metadata": {},
   "source": [
    "Existe una tercera categoría de fuerzas, pero a diferencia de las anteriores no corresponden a *fuerzas aplicadas* sino un tipo específico de *fuerzas resultantes*:\n",
    "\n",
    "- **Fuerzas ficticias**: Son fuerzas resultantes que se manifiestan al estudiar la dinámica en ciertos sistema de referencia (por ejemplo en sistemas de referencia rotantes).  Entre ellas están la *fuerza centrífuga* y la *fuerza de Coriolis* que estudiaremos en la [Sección *Dinámica en sistemas de referencia rotantes*](Not Found#dinamica_rotantes). El adjetivo de *ficticias* viene precisamente del hecho de que no son producto de interacciónes con otras partículas o cuerpos materiales."
   ]
  },
  {
   "cell_type": "markdown",
   "metadata": {},
   "source": [
    "### 5.3.3. Sistemas de referencia inerciales\n",
    "<a id='sistemas_referencia_inerciales'></a>"
   ]
  },
  {
   "cell_type": "markdown",
   "metadata": {},
   "source": [
    "La introducción del concepto de fuerza ficticia permite definir un concepto central en la mecánica newtoniana:"
   ]
  },
  {
   "cell_type": "markdown",
   "metadata": {
    "label": "box:def:sistemas.inerciales",
    "subtitle": "Sistema de referencia inercial",
    "tags": [
     "box_definition",
     "box:def:sistemas.inerciales"
    ],
    "title": "Definición"
   },
   "source": [
    "> **Definición 5.6. Sistema de referencia inercial.**<a id='box:def:sistemas.inerciales'></a> Decimos que un sistema de referencia es inercial si todas las fuerzas resultantes en el sistema son causadas por fuerzas aplicadas, es decir si todos los cambios en los momentos lineales de las partículas pueden rastrearse hasta interacciones entre ellas, con medios materiales o con campos. "
   ]
  },
  {
   "cell_type": "markdown",
   "metadata": {},
   "source": [
    "Demostrar en la práctica que un sistema de referencia es inercial, que implica rastrear todas las causas físicas de los cambios en los momentos lineales de las partículas de un sistema de prueba, puede ser muy complicado sino imposible.  Existe, sin embargo, un teorema que puede ser de gran utilidad para este propósito:"
   ]
  },
  {
   "cell_type": "markdown",
   "metadata": {
    "label": "box:teo:sistemas.inerciales",
    "subtitle": "Sistemas de referencia con velocidad relativa constante",
    "tags": [
     "box_theorem",
     "box:teo:sistemas.inerciales"
    ],
    "title": "Proposición"
   },
   "source": [
    "> **Proposición: Sistemas de referencia con velocidad relativa constante.**<a id='box:teo:sistemas.inerciales'></a> Si un sistema de referencia $R$ se mueve con velocidad constante respecto a un sistema de referencia inercial $I$, entonces R es también un sistema de referencia inercial."
   ]
  },
  {
   "cell_type": "markdown",
   "metadata": {},
   "source": [
    "Este teorema es una consecuencia directa de las transformaciones de Galileo que postulamos en la [Sección *Sistemas de referencia*](05.01.01.00.Mecanica.Cinematica.Cantidades.ipynb#sistemas_referencia) (ver sección de problemas al final del capítulo).\n",
    "\n",
    "Para los propósitos de la mecánica Newtoniana, basta que identifiquemos al menos un sistema de referencia inercial en el Universo para que, midiendo la velocidad relativa respecto a él, podamos determinar si otros sistemas de referencia son también inerciales.  \n",
    "\n",
    "En la práctica la \"inercialidad\" de un sistema de referencia (el centro de masa del sistema solar, el centro de la galaxia, la radiación cósmica de fondo) se postula (o se considera como una aproximación en los modelos) y a partir de ellos a través del Teorema ([code:solucion_numerica_ejemplo2](#box:teo:sistemas_inerciales)) se construyen otros sistemas de referencia inerciales."
   ]
  },
  {
   "cell_type": "markdown",
   "metadata": {
    "tags": [
     "footnote"
    ]
   },
   "source": [
    "**NOTAS AL PIE:**\n",
    "\n",
    "<a id='notaspie_1'></a>\n",
    "1. Sistema Internacional de Unidades\n",
    "\n"
   ]
  },
  {
   "cell_type": "markdown",
   "metadata": {
    "tags": [
     "navigation"
    ]
   },
   "source": [
    "[Indice](index.ipynb) | Previo: [Mecanica.Cinematica.SolucionNumerica](05.01.03.00.Mecanica.Cinematica.SolucionNumerica.ipynb) | Siguiente: [Mecanica.Dinamica.Postulados](05.02.01.00.Mecanica.Dinamica.Postulados.ipynb)"
   ]
  }
 ],
 "metadata": {
  "celltoolbar": "Tags",
  "kernelspec": {
   "display_name": "Python 3",
   "language": "python",
   "name": "python3"
  },
  "language_info": {
   "codemirror_mode": {
    "name": "ipython",
    "version": 3
   },
   "file_extension": ".py",
   "mimetype": "text/x-python",
   "name": "python",
   "nbconvert_exporter": "python",
   "pygments_lexer": "ipython3",
   "version": "3.6.8"
  }
 },
 "nbformat": 4,
 "nbformat_minor": 2
}
