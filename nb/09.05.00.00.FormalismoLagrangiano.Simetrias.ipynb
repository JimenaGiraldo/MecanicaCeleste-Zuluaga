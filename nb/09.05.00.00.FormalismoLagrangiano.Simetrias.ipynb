{
 "cells": [
  {
   "cell_type": "markdown",
   "metadata": {
    "tags": [
     "navigation"
    ]
   },
   "source": [
    "[Indice](index.ipynb) | Previo: [FormalismoLagrangiano.PrincipioHamilton](09.04.00.00.FormalismoLagrangiano.PrincipioHamilton.ipynb) | Siguiente: [FormalismoLagrangiano.MecanicaCeleste](09.06.00.00.FormalismoLagrangiano.MecanicaCeleste.ipynb)"
   ]
  },
  {
   "cell_type": "markdown",
   "metadata": {},
   "source": [
    "## 9.7. Simetrías y leyes de conservación\n",
    "<a id='simetrias_conservacion'></a>"
   ]
  },
  {
   "cell_type": "markdown",
   "metadata": {},
   "source": [
    "Uno de los aspectos mejor conocidos del formalismo escalar de la mecánica, es su capacidad implícita para revelar propiedades de los sistemas dinámicos que no son fáciles de descubrir con el formalismo vectorial.  Este es el caso por ejemplo, de las denominadas cantidades conservadas (constantes de movimiento, primeras integrales o cuadraturas) que tanta utilidad han tenido en capítulos anteriores en la descripción de los sistemas dinámicos de la mecánica celeste."
   ]
  },
  {
   "cell_type": "markdown",
   "metadata": {},
   "source": [
    "El poder de las simetrías para revelar aspectos profundos de los sistemas físicos y entender su comportamiento, es uno de los *descubrimientos* más importantes de la física moderna y merece una consideración relativamente detallada. El resultado más importante en esta materia fue descubierto y publicado en 1915 por la matemática alemana Emmy Noether ([\"Emi noutar\"](https://forvo.com/search/Emmy%20Noether/de/))."
   ]
  },
  {
   "cell_type": "markdown",
   "metadata": {},
   "source": [
    "<a id='fig:emmy_noether'></a>![Emmy Noether (1883-1935), considerada como una de las matemáticas más importantes de la historia, descubrió el teorema que lleva su nombre y que juega un papel fundamental en la física contemporánea.  Crédito: Erlangen Konrad Jacobs (1930).\\label{fig:emmy_noether}](./figures/vertical_noether.png)\n",
    "\n",
    "<center><b>Figura 9.147</b>. Emmy Noether (1883-1935), considerada como una de las matemáticas más importantes de la historia, descubrió el teorema que lleva su nombre y que juega un papel fundamental en la física contemporánea.  Crédito: Erlangen Konrad Jacobs (1930).</center>"
   ]
  },
  {
   "cell_type": "markdown",
   "metadata": {
    "label": "",
    "subtitle": "El teorema de Noether",
    "tags": [
     "box_theorem"
    ],
    "title": "Teorema"
   },
   "source": [
    "> **Teorema: El teorema de Noether.**<a id=''></a> Si la acción $S[\\{q_j(t)\\}]=\\int_{t_1}^{t_2} L(\\{q_j(t)\\},\\{\\dot{q}_j(t)\\},t)\\;dt$ de un sistema dinámico es simétrica bajo una *transformación continua local* de coordenadas o de tiempo, existe una cantidad conservada (*corriente conservada*) asociada a esa transformación."
   ]
  },
  {
   "cell_type": "markdown",
   "metadata": {},
   "source": [
    "Pero ¿qué es exactamente una simetría en este contexto?.  En la vida cotidiana, una simetría es una propiedad, normalmente geométrica, que tiene un cuerpo y que lo hace ver igual incluso al cambiar la manera como lo observamos. Así por ejemplo, un cuerpo esférico se ve igual no importa en que dirección lo veamos.  Un cilindro es el mismo, si lo rotamos alrededor de su eje principal, pero cambia si lo rotamos alrededor de un eje perpendicular a él (no es simétrico alrededor de ese eje)."
   ]
  },
  {
   "cell_type": "markdown",
   "metadata": {},
   "source": [
    "Las simetrías a las que hace referencia el teorema de Noether no son simetrías geométrica de los cuerpos implicados en el sistema dinámico. Una *simetría matemática* se manifiesta cuando una función relevante para el sistema, la acción o el lagrangiano por ejemplo, mantiene la misma *forma matemática* después de una transformación de las coordenadas o del tiempo.  En física, decimos que la función correspondiente es *covariante* bajo la transformación indicada."
   ]
  },
  {
   "cell_type": "markdown",
   "metadata": {},
   "source": [
    "Consideren por ejemplo el Lagrangiano de un partícula unida a un resorte de constante elástica $k$, que puede oscilar en 2 dimensiones:\n",
    "\n",
    "$$\n",
    "L(x,y,\\dot x,\\dot y,t) = \\frac{1}{2}m(\\dot x^2+\\dot y^2)-\\frac{1}{2}k(x^2+y^2)\n",
    "$$\n",
    "\n",
    "Nótese que hemos usado las coordenadas cartesianas $x,y$ como variables generalizadas en el sistema."
   ]
  },
  {
   "cell_type": "markdown",
   "metadata": {},
   "source": [
    "Hay dos posibles transformaciones que mantienen la forma funcional de este Lagrangiano.  Por ejemplo, si cambiamos el valor del tiempo $t$ por uno nuevo $t'=t+\\epsilon$, el Lagrangiano seguirá siendo el mismo:\n",
    "\n",
    "$$\n",
    "L(x,y,\\dot x,\\dot y,t') = \\frac{1}{2}m(\\dot x^2+\\dot y^2)-\\frac{1}{2}k(x^2+y^2)\n",
    "$$\n",
    "\n",
    "Decimos que el sistema es covariante o simétrico bajo una *traslación temporal*. "
   ]
  },
  {
   "cell_type": "markdown",
   "metadata": {},
   "source": [
    "Considere ahora la siguiente transformación geométrica: \n",
    "\n",
    "\\begin{equation}\n",
    "\\label{eq:transformacion_inversion}\n",
    "\\begin{array}{lll}\n",
    "x' & = & x+\\epsilon y\\\\\n",
    "y' & = & y-\\epsilon x\n",
    "\\end{array}\n",
    "\\end{equation}\n",
    "\n",
    "Al reemplazar las variables originales por las nuevas variables primadas en el Lagrangiano original, obtenemos:\n",
    "\n",
    "$$\n",
    "L(x',y',\\dot x',\\dot y',t') = \\frac{1}{2}m[\\dot x'^2+\\dot y'^2+\\epsilon^2(\\dot x'^2+\\dot y'^2)]-\\frac{1}{2}k[x'^2+y'^2+\\epsilon^2(x'^2+y'^2)]\n",
    "$$\n"
   ]
  },
  {
   "cell_type": "markdown",
   "metadata": {},
   "source": [
    "Si suponemos que $\\epsilon$ es muy pequeño (que es justamente a lo que hace referencia el teorema de Noether al referirse a una transformación local), el Lagrangiano se puede escribir en la forma:\n",
    "\n",
    "$$\n",
    "L(x',y',\\dot x',\\dot y',t') = \\frac{1}{2}m(\\dot x'^2+\\dot y'^2)-\\frac{1}{2}k(x'^2+y'^2)\n",
    "$$\n",
    "que es funcionalmente idéntica (covariante) a la forma del Lagrangiano original.  Decimos por tanto que el sistema es simétrico frente a la transformación local dada por las Ecs. ([transformacion_inversion](#mjx-eqn-eq%3Atransformacion_inversion))."
   ]
  },
  {
   "cell_type": "markdown",
   "metadata": {},
   "source": [
    "Como la dinámica de un sistema depende esencialmente de la forma funcional del Lagrangiano, una simetría implicará que la dinámica si el sistema es descrita tan en términos de las variables $x',y',t'$ como en términos de las variables originales."
   ]
  },
  {
   "cell_type": "markdown",
   "metadata": {},
   "source": [
    "De acuerdo con el teorema de Noether, las dos simetrías mencionadas hasta aquí tienen asociada una cantidad conservada. Pero ¿cuál es esa cantidad? ¿cómo se determina?"
   ]
  },
  {
   "cell_type": "markdown",
   "metadata": {},
   "source": [
    "Supongamos que una transformación continua local de las variables generalizadas de un sistema dinámico se puede escribir de forma general como:\n",
    "\n",
    "\\begin{equation}\n",
    "\\label{eq:transformacion_general}\n",
    "q_j'(\\epsilon)=q_j+\\epsilon K_j(\\{q_k\\})\n",
    "\\end{equation}\n",
    "donde $K_j$ es una función arbitraria de todas las variables generalizadas y $\\epsilon$ un parámetro que caracteriza todas las posibles transformaciones de una determinada *familia*."
   ]
  },
  {
   "cell_type": "markdown",
   "metadata": {},
   "source": [
    "Asumamos que bajo esta transformación el Lagrangiano mantiene su forma matemática $L(\\{q'_j\\},\\{\\dot q'_j\\},t)=L(\\{q_j\\},\\{\\dot q_j\\},t)$ de modo que sigue satisfaciendo las ecuaciones de Euler-Lagrange, pero ahora respecto a las coordenadas transformadas:\n",
    "\n",
    "$$\n",
    "\\left\\{ \\frac{d}{dt} \\left(\\frac{\\partial L}{\\partial \\dot{q'}_j} \\right) - \\frac{\\partial L}{\\partial q'_j} =  0\\right\\}_M\n",
    "$$"
   ]
  },
  {
   "cell_type": "markdown",
   "metadata": {},
   "source": [
    "La invarianza del Lagrangiano (y por tanto de la acción) frente a esta transformación se puede expresar matemáticamente en términos del parámetro $\\epsilon$ en la forma:\n",
    "\n",
    "$$\n",
    "\\frac{d}{d\\epsilon}L(\\{q'_j(\\epsilon)\\},\\{\\dot q'_j(\\epsilon)\\},t)=0\n",
    "$$\n",
    "\n",
    "Esta condición básicamente expresa el hecho de que al aplicar la transformación no quedan *rastros* implícitos o explícitos de ella en el lagrangiano."
   ]
  },
  {
   "cell_type": "markdown",
   "metadata": {},
   "source": [
    "Usando la regla de la cadena la condición anterior se convierte en:\n",
    "$$\n",
    "\\frac{d}{d\\epsilon}L(\\{q'_j(\\epsilon)\\},\\{\\dot q'_j(\\epsilon)\\},t)=\\sum_j \\left(\\frac{\\partial L}{\\partial q'_j}\\frac{\\partial q'_j}{\\partial \\epsilon}+\\frac{\\partial L}{\\partial \\dot q'_j}\\frac{\\partial \\dot q'_j}{\\partial \\epsilon}\\right) = 0\n",
    "$$"
   ]
  },
  {
   "cell_type": "markdown",
   "metadata": {},
   "source": [
    "Si ahora tenemos en cuenta que de acuerdo a la Ec. ([transformacion_general](#mjx-eqn-eq%3Atransformacion_general)), \n",
    "\n",
    "\n",
    "$$\\partial q'_j/\\partial \\epsilon=K_j$$ \n",
    "y \n",
    "$$\\partial \\dot q'_j/\\partial \\epsilon=\\dot K_j$$ \n",
    "y además aprovechamos el hecho que el Lagrangiano original y el transformado satisfacen las ecuaciones de Euler-Lagrange, la condición de invarianza adopta la forma:\n",
    "\n",
    "$$\n",
    "\\frac{d}{dt}\\left(\\sum_j\\frac{\\partial L}{\\partial \\dot q'_j}K_j\\right)=0\n",
    "$$"
   ]
  },
  {
   "cell_type": "markdown",
   "metadata": {},
   "source": [
    "Aquí podemos identificar claramente la cantidad conservada asociada a la transformación en la Ec. ([transformacion_general](#mjx-eqn-eq%3Atransformacion_general)):\n",
    "\n",
    "$$\n",
    "P(\\{q_j\\},\\{\\dot q_j\\})\\equiv\\sum_j\\frac{\\partial L}{\\partial \\dot q_j}K_j\n",
    "$$\n",
    "que recibe el nombre de *momento conservado*."
   ]
  },
  {
   "cell_type": "markdown",
   "metadata": {},
   "source": [
    "Podemos sintetizar entonces este resultado como nuevo teorema:"
   ]
  },
  {
   "cell_type": "markdown",
   "metadata": {
    "label": "",
    "subtitle": "Teorema de Noether para el Lagrangiano",
    "tags": [
     "box_theorem"
    ],
    "title": "Teorema"
   },
   "source": [
    "> **Teorema: Teorema de Noether para el Lagrangiano.**<a id=''></a> Si un sistema dinámico es tal que su Lagrangiano es simétrico bajo la local $q_j'(\\epsilon)=q_j+\\epsilon K_j(\\{q_k\\})$, entonces la siguiente cantidad es conservada:\n",
    "\n",
    "> \\begin{equation}\n",
    "  \\label{eq:momento_conservado}\n",
    "  P(\\{q_j\\},\\{\\dot q_j\\})\\equiv\\sum_j\\frac{\\partial L}{\\partial \\dot q_j}K_j\n",
    "  \\end{equation}"
   ]
  },
  {
   "cell_type": "markdown",
   "metadata": {},
   "source": [
    "### 9.7.1. Conservación del momento angular\n",
    "<a id='simetrias_momento_angular'></a>"
   ]
  },
  {
   "cell_type": "markdown",
   "metadata": {},
   "source": [
    "En el ejemplo del oscilador armónico bidimensional, habíamos demostrado que la transformación,\n",
    "\n",
    "$$\n",
    "\\begin{array}{lll}\n",
    "x' & = & x+\\epsilon y\\\\\n",
    "y' & = & y-\\epsilon x\n",
    "\\end{array}\n",
    "$$\n",
    "deja invariante el Lagrangiano. Si comparamos esta transformación con la forma general de la Ec. ([transformacion_general](#mjx-eqn-eq%3Atransformacion_general)) vemos que ella corresponde a una transformación continua local con\n",
    "\n",
    "$$\n",
    "\\begin{array}{lll}\n",
    "K_1 & = & y \\\\\n",
    "K_2 & = & -x\n",
    "\\end{array}\n",
    "$$"
   ]
  },
  {
   "cell_type": "markdown",
   "metadata": {},
   "source": [
    "De acuerdo al teorema de Noether para el lagrangiano, la cantidad conservada será por lo tanto: \n",
    "\n",
    "$$\n",
    "P(x,y,\\dot x,\\dot y)=(m\\dot x) y + (m\\dot y)(-x)=m(y\\dot x-x\\dot y)\n",
    "$$\n",
    "que no es otra cosa que la componente $z$ del momentum angular total de la partícula."
   ]
  },
  {
   "cell_type": "markdown",
   "metadata": {},
   "source": [
    "Pero ¿qué clase de transformación es exactamente aquella que se expresa en la forma de las Ecs. ([transformacion_inversion](#mjx-eqn-eq%3Atransformacion_inversion))?.  Considere el caso de una rotación en un ángulo muy pequeño $\\delta\\theta$ alrededor del eje z.  Sabemos que en este caso las coordenadas del sistema rotado y el sistema original se relacionan de acuerdo a la transformación matricial:\n",
    "\n",
    "$$\n",
    "\\left(\n",
    "\\begin{array}{c}\n",
    "x'\\\\y'\\\\z'\n",
    "\\end{array}\n",
    "\\right)=\n",
    "\\left(\n",
    "\\begin{array}{ccc}\n",
    "\\cos\\delta\\theta & \\sin\\delta\\theta & 0 \\\\\n",
    "-\\sin\\delta\\theta & \\cos\\delta\\theta & 0 \\\\\n",
    "0 & 0 & 1 \\\\\n",
    "\\end{array}\n",
    "\\right)\n",
    "\\left(\n",
    "\\begin{array}{c}\n",
    "x\\\\y\\\\z\n",
    "\\end{array}\n",
    "\\right)\n",
    "$$"
   ]
  },
  {
   "cell_type": "markdown",
   "metadata": {},
   "source": [
    "Despreciando términos de orden cuadratico y superior en $\\delta\\theta$, podemos escribir $\\cos\\delta\\theta\\approx 1$ y $\\sin\\delta\\theta\\approx \\delta\\theta$, con lo que la transformación se puede escribir explícitamente como:\n",
    "\n",
    "$$\n",
    "\\begin{array}{lll}\n",
    "x' & = & x+\\delta\\theta y\\\\\n",
    "y' & = & -\\delta\\theta x+y\n",
    "\\end{array}\n",
    "$$\n",
    "que tiene justamente la misma forma que la transformación en las Ecs. ([transformacion_inversion](#mjx-eqn-eq%3Atransformacion_inversion)).  Este resultado nos permite formular el siguiente corolario del teorema de Noether:"
   ]
  },
  {
   "cell_type": "markdown",
   "metadata": {
    "label": "",
    "subtitle": "Conservación del momento angular",
    "tags": [
     "box_theorem"
    ],
    "title": "Teorema"
   },
   "source": [
    "> **Teorema: Conservación del momento angular.**<a id=''></a> Si el lagrangiano de un sistema dinámico es invariante bajo una rotación infinitesimal alrededor de un eje arbitrario en dirección $\\hat n$, entonces la componente del momento angular total $L_n=\\vec L\\cdot \\hat n$ se conserva.  "
   ]
  },
  {
   "cell_type": "markdown",
   "metadata": {},
   "source": [
    "### 9.7.2. Conservación del momento lineal\n",
    "<a id='simetrias_momento_lineal'></a>"
   ]
  },
  {
   "cell_type": "markdown",
   "metadata": {},
   "source": [
    "El tipo más trivial de transformación continua local es una traslación infinitesimal en la dirección de un vector unitario $\\hat \\tau:(\\tau_x,\\tau_y,\\tau_z)$.  Matemáticamente la transformación se puede escribir como:\n",
    "\n",
    "$$\n",
    "\\begin{array}{lll}\n",
    "x' & = & x+\\epsilon \\tau_x\\\\\n",
    "y' & = & y+\\epsilon \\tau_y\\\\\n",
    "z' & = & z+\\epsilon \\tau_z\\\\\n",
    "\\end{array}\n",
    "$$"
   ]
  },
  {
   "cell_type": "markdown",
   "metadata": {},
   "source": [
    "En coordenadas cartesianas, la función de energía potencial no depende de la velocidad.  Por lo tanto si el lagrangiano es invariante bajo la traslación, el teorema de Noether para lagrangianos implica que la siguiente cantidad es conservada:\n",
    "\n",
    "$$\n",
    "P=p_x\\tau_x+p_y\\tau_y+p_z\\tau_z=\\vec p\\cdot\\hat\\tau\n",
    "$$"
   ]
  },
  {
   "cell_type": "markdown",
   "metadata": {},
   "source": [
    "Este resultado se puede expresar de forma general con el siguiente teorema:"
   ]
  },
  {
   "cell_type": "markdown",
   "metadata": {
    "label": "",
    "subtitle": "Conservación del momento lineal",
    "tags": [
     "box_theorem"
    ],
    "title": "Teorema"
   },
   "source": [
    "> **Teorema: Conservación del momento lineal.**<a id=''></a> Si el lagrangiano de un sistema dinámico es invariante bajo una traslación infinitesimal en una dirección arbitrario $\\hat \\tau$, entonces la componente $p_\\tau=\\vec p\\cdot \\hat \\tau$ del momento lineal total del sistema se conserva.  "
   ]
  },
  {
   "cell_type": "markdown",
   "metadata": {},
   "source": [
    "### 9.7.3. Variables cíclicas\n",
    "<a id='variables_ciclicas'></a>"
   ]
  },
  {
   "cell_type": "markdown",
   "metadata": {},
   "source": [
    "Hay una caso aún más simple de transformación, simetría y cantidades conservadas que las consideradas hasta aquí.  Considere por ejemplo una transformación en la que una de las variable generalizadas se modifica de acuerdo a la regla:\n",
    "\n",
    "\\begin{equation}\n",
    "\\label{eq:transformacion_ciclica}\n",
    "q'_j=q_j+\\epsilon\n",
    "\\end{equation}"
   ]
  },
  {
   "cell_type": "markdown",
   "metadata": {},
   "source": [
    "De acuerdo con el teorema de Noether, la transformación mencionada se caracteriza por tener $K_j=1$ y por lo tanto, si un Lagrangiano es simétrico bajo esa transformación, el \"momento\" conservado será, de acuerdo a la Ec. ([momento_conservado](#mjx-eqn-eq%3Amomento_conservado)):\n",
    "\n",
    "$$\n",
    "P_j\\equiv\\frac{\\partial L}{\\partial \\dot q_j}\n",
    "$$"
   ]
  },
  {
   "cell_type": "markdown",
   "metadata": {},
   "source": [
    "Si esta cantidad es constante, la ecuación de Euler-Lagrange correspondiente a la variable $j$ será:\n",
    "\n",
    "\\begin{eqnarray}\n",
    "\\nonumber\n",
    "\\frac{\\mathrm{d}}{\\mathrm{d}t} \\left(\\frac{\\partial L}{\\partial \\dot{q}_j} \\right) - \\frac{\\partial L}{\\partial q_j} & = & 0\\\\\n",
    "\\nonumber\n",
    "\\frac{\\partial L}{\\partial q_j} & = & 0\n",
    "\\end{eqnarray}\n",
    "de donde concluímos que un lagrangiano simétrico bajo la transformación en la Ec. ([transformacion_ciclica](#mjx-eqn-eq%3Atransformacion_ciclica)) es simplemente uno en el que la variable $q_j$ no aparece explícitamente."
   ]
  },
  {
   "cell_type": "markdown",
   "metadata": {
    "label": "",
    "subtitle": "Variable cíclica y momento generalizado**.  Una variable generalizada $q_j$ es una **variable cíclica",
    "tags": [
     "box_definition"
    ],
    "title": "Definición"
   },
   "source": [
    "> **Definición 11.20. Variable cíclica y momento generalizado**.  Una variable generalizada $q_j$ es una **variable cíclica.**<a id=''></a> respecto al Lagrangiano $L$ si la variable no aparece explícitamente en el Lagrangiano.  Matemáticamente, la condición:\n",
    "\n",
    "> $$\n",
    "  \\frac{\\partial L}{\\partial q_j} = 0\n",
    "  $$\n",
    "  es necesaria y suficiente para que una variable sea cíclica.\n",
    "\n",
    "> El **momento generalizado** asociado a la variable $j$ se define como:\n",
    "\n",
    "> $$\n",
    "  P_j\\equiv\\frac{\\partial L}{\\partial \\dot q_j}\n",
    "  $$\n",
    "> y es una cantidad constante si y solo si la variable $q_j$ es cíclica."
   ]
  },
  {
   "cell_type": "markdown",
   "metadata": {},
   "source": [
    "Para ilustrar esta simetría, considere el Lagrangiano de una partícula que se mueve en un campo gravitacional uniforme de intensidad $g$:\n",
    "\n",
    "$$\n",
    "L_\\mathrm{CL}=\\frac{1}{2}m(\\dot x^2+\\dot y^2+\\dot z^2)-mgz\n",
    "$$"
   ]
  },
  {
   "cell_type": "markdown",
   "metadata": {},
   "source": [
    "En este caso, observamos que las variables $x$ y $y$ son variables ciclicas porque no aparecen explícitamente en el Lagrangiano.  De aquí, concluimos que sus momentums generalizados, \n",
    "\n",
    "$$\n",
    "P_x=\\frac{\\partial L}{\\partial \\dot x}=m\\dot x\n",
    "$$ \n",
    "y \n",
    "\n",
    "$$\n",
    "P_y=\\frac{\\partial L}{\\partial \\dot y}=m\\dot y\n",
    "$$\n",
    "son cantidades constantes en el sistema dinámico."
   ]
  },
  {
   "cell_type": "markdown",
   "metadata": {},
   "source": [
    "El hecho de que en un campo gravitacional uniforme las componentes de la velocidad del cuerpo en dirección perpendicular al campo sean constantes, fue justamente lo que intuyo originalmente Galileo cuando describió correctamente las características del movimiento parabólico.  Es interesante mostrar, después de tantos años de evolución de la física, que esta propiedad también se puede explicar como resultado de una simetría del sistema; a saber, el hecho de que la dinámica del movimiento parabólico no depende del lugar sobre el plano $x-y$ desde el que se lanza la partícula."
   ]
  },
  {
   "cell_type": "markdown",
   "metadata": {},
   "source": [
    "### 9.7.4. La función de Jacobi y la conservación de la energía\n",
    "<a id='funcion_jacobi'></a>"
   ]
  },
  {
   "cell_type": "markdown",
   "metadata": {},
   "source": [
    "En las secciones anteriores analizamos los casos de transformaciones espaciales.  ¿Qué podemos decir ahora de la invarianza respecto a una traslación temporal?.  La invarianza temporal implica que el lagrangiano mantiene su forma cuando se se realiza la transformación $t'=t+\\epsilon$. Una familia muy general de lagrangianos que tienen esta simetría es aquella para la cuál la forma funcional del lagrangiano no depende explícitamente del tiempo:\n",
    "\n",
    "$$\n",
    "\\frac{\\partial L}{\\partial t}=0\n",
    "$$"
   ]
  },
  {
   "cell_type": "markdown",
   "metadata": {},
   "source": [
    "¿Cuál es la cantidad física conservada en este caso?.  Consideremos para ello, la derivada total del Lagrangiano, que puede calcularse usando la regla de la cadena como:\n",
    "\n",
    "$$\n",
    "\\frac{\\mathrm{d}L}{\\mathrm{d}t} = \\sum_j \\frac{\\partial L}{\\partial q_j} \\dot{q}_j + \\sum_j \\frac{\\partial L}{\\partial \\dot{q}_j} \\ddot{q}_j + \\frac{\\partial L}{\\partial t}\n",
    "$$"
   ]
  },
  {
   "cell_type": "markdown",
   "metadata": {},
   "source": [
    "Si despejamos de allí la derivada parcial del lagrangiano respecto al tiempo y nos valemos de las ecuaciones de Euler-Lagrange para reemplazar el primer término del lado izquierdo, obtenemos:\n",
    "\n",
    "$$\n",
    "\\frac{\\partial L}{\\partial t}=\\frac{\\mathrm{d}}{\\mathrm{d}t}\\left(\\sum_j \\frac{\\partial L}{\\partial \\dot q_j} \\dot{q}_j - L\\right)\n",
    "$$"
   ]
  },
  {
   "cell_type": "markdown",
   "metadata": {},
   "source": [
    "Si definimos la función entre parentesis en el lado derecho de la ecuación como:\n",
    "\n",
    "\\begin{equation}\n",
    "\\label{eq:funcion_jacobi}\n",
    "h\\equiv\\sum_j \\frac{\\partial L}{\\partial \\dot q_j} \\dot{q}_j-L\n",
    "\\end{equation}\n",
    "la derivada total del lagrangiano se puede escribir equivalentemente como:\n",
    "\n",
    "$$\n",
    "\\frac{\\mathrm{d}h}{\\mathrm{d}t}=\\frac{\\partial L}{\\partial t}\n",
    "$$"
   ]
  },
  {
   "cell_type": "markdown",
   "metadata": {},
   "source": [
    "De allí se sigue, finalmente que si un lagrangiano es simétrico bajo una traslación temporal (el tiempo no aparece explícitamente en su fórmula) la función\n",
    "\n",
    "$$\n",
    "h(\\{q_j\\},\\{\\dot q_j\\})=\\sum_j \\frac{\\partial L(\\{q_j\\},\\{\\dot q_j\\})}{\\partial \\dot q_j} \\dot{q}_j-L(\\{q_j\\},\\{\\dot q_j\\})\n",
    "$$\n",
    "se conserva.  Llamamos a esta la **función de Jacobi** y juega, en el caso de la simetría temporal, el papel que jugaron los momentos en las simetrías espaciales."
   ]
  },
  {
   "cell_type": "markdown",
   "metadata": {},
   "source": [
    "En las secciones anteriores habíamos visto que los momentos conservados por el teorema de Noether para el lagrangiano, se relacionan en algunas situaciones concretas con cantidades en la mecánica newtoniana bien conocidas.  En particular, demostramos que en el caso de sistemas con simetría rotacional el momento conservado es el momento angular, mientras que en sistemas sistemas con simetría traslacional se conserva el momento lineal.  En el caso de sistemas con simetría temporal ¿cuál es el análogo newtoniano, si lo tiene, de la función de Jacobi?.  No es fácil responder esta pregunta en general, pero existen situaciones en las que la $h$ esta relacionada con una cantidad muy conocida."
   ]
  },
  {
   "cell_type": "markdown",
   "metadata": {},
   "source": [
    "Consideremos por ejemplo los casos en los que el potencial generalizado solo depende de las coordenadas $U(\\{q_j\\})$ (fuerzas conservativas en el sentido clásico).  En esta situación, la función de Jacobi se puede escribir simplemente como:\n",
    "\n",
    "\\begin{equation}\n",
    "\\label{eq:h_conservativo}\n",
    "h\\equiv\\sum_j \\dot{q}_j\\frac{\\partial T}{\\partial \\dot q_j}-T+U\n",
    "\\end{equation}"
   ]
  },
  {
   "cell_type": "markdown",
   "metadata": {},
   "source": [
    "Ahora bien, la función de energía cinética que en términos de las coordenadas cartesianas es\n",
    "\n",
    "$$T=\\sum_i m_i\\dot{\\vec{r}}_i^2/2$$ \n",
    "se puede escribir explícitamente en términos de las variables generalizadas como:\n",
    "\n",
    "\\begin{eqnarray}\n",
    "\\nonumber\n",
    "T & = & \\sum_i \\frac{1}{2}m_i \\left(\\sum_j \\frac{\\partial \\vec{r}_i}{\\partial q_j}\\dot{q}_j + \\frac{\\partial \\vec{r}_i}{\\partial t} \\right)^2 \\\\\n",
    "\\label{eq:energia_cinetica_variables_generalizadas}\n",
    "  & = &  \\sum_i \\frac{1}{2}m_i \\left[\\sum_j \\sum_k \\frac{\\partial \\vec{r}_i}{\\partial q_j} \\cdot \\frac{\\partial \\vec{r}_i}{\\partial q_k} \\dot{q}_j \\dot{q}_k + 2\\sum_j \\frac{\\partial \\vec{r}_i}{\\partial q_j} \\dot{q}_j \\cdot \\frac{\\partial \\vec{r}_i}{\\partial t} + \\left(\\frac{\\partial \\vec{r}_i}{\\partial t}\\right)^2  \\right]\n",
    "\\end{eqnarray}"
   ]
  },
  {
   "cell_type": "markdown",
   "metadata": {},
   "source": [
    "Si asumimos que las ecuaciones de transformación no dependen explícitamente del tiempo (restricciones son *esclerónomas*), solo el primer término de la ecuación anterior sobrevivirá:\n",
    "\n",
    "$$\n",
    "T=\\frac{1}{2}\\sum_i \\sum_j \\sum_k m_i \\frac{\\partial \\vec{r}_i}{\\partial q_j} \\cdot \\frac{\\partial \\vec{r}_i}{\\partial q_k} \\dot{q}_j \\dot{q}_k \n",
    "$$"
   ]
  },
  {
   "cell_type": "markdown",
   "metadata": {},
   "source": [
    "Es decir, bajo esta condición, la energía cinética será siempre una función cuadrática de las velocidades generalizadas.  Esta propiedad nos permite aprovechar el *teorema de Euler para funciones homogéneas*, que establece que si $f(\\{x_i\\})$ es un función de grado $k$ en $\\{x_i\\}$, es decir, si $f(\\{\\lambda x_i\\})=\\lambda^k f(\\{x_i\\})$, entonces:\n",
    "\n",
    "$$\n",
    "\\sum x_i f(x_i) = k f(x_i)\n",
    "$$\n"
   ]
  },
  {
   "cell_type": "markdown",
   "metadata": {},
   "source": [
    "Usando esta propiedad y teniendo en cuenta que como mostramos anteriormente, la energía cinética es una función homogénea de grado 2 en las velocidades generalizadas, el primer término de la Ec. ([h_conservativo](#mjx-eqn-eq%3Ah_conservativo)) queda:\n",
    "\n",
    "$$\n",
    "\\sum_j \\dot{q}_j\\frac{\\partial T}{\\partial \\dot q_j}=2T\n",
    "$$"
   ]
  },
  {
   "cell_type": "markdown",
   "metadata": {},
   "source": [
    "Finalmente, la función de Jacobi en este tipo de sistemas resulta ser\n",
    "\n",
    "$$\n",
    "h=T+U\n",
    "$$\n",
    "que no es otra cosa que la energía mecánica total del sistema."
   ]
  },
  {
   "cell_type": "markdown",
   "metadata": {},
   "source": [
    "Es importante sin embargo precisar que tanto $h$, en general, como $T$ y $L$ en particular, no son cantidades numéricas sino funciones de las variables generalizadas.  Es decir la expresión:\n",
    "\n",
    "$$\n",
    "h(\\{q_j\\},\\{\\dot q_j\\})=E\n",
    "$$\n",
    "es lo que en los capítulos anteriores llamamos una cuadratura del sistema."
   ]
  },
  {
   "cell_type": "markdown",
   "metadata": {
    "label": "",
    "subtitle": "Teorema de conservación de la energía mecánica",
    "tags": [
     "box_theorem"
    ],
    "title": "Teorema"
   },
   "source": [
    "> **Teorema: Teorema de conservación de la energía mecánica.**<a id=''></a> Si en un sistema dinámico se cumplen las siguientes condiciones:\n",
    "\n",
    "> 1. La dinámica puede ser descrita completamente con una función lagrangiana $L=T-U$ de las variables y velocidades generalizadas $\\{q_j\\}$, $\\{\\dot q_j\\}$.\n",
    "> 2. La función Lagrangiana no depende explícitamente del tiempo, esto es $\\partial L/\\partial t=0$.\n",
    "> 3. La función de energía potencial solo depende de las variables generalizadas y no de las velocidades, es decir $U(\\{q_j\\})$.\n",
    "> 4. Las transformaciones entre las coordenadas cartesianas y las variables generalizadas,  no dependen explícitamente del tiempo, $\\vec r_i=\\vec r_i(\\{q_j\\})$ (restricciones esclerónomas).\n",
    "\n",
    "> Entonces:\n",
    "\n",
    "> 1. La función de Jacobi es $h=T+U$.\n",
    "> 2. El valor de la función de Jacobi es igual la energía mecánica.\n",
    "> 3. El valor de la función de Jacobi y por tanto la energía mecánica se conserva. "
   ]
  },
  {
   "cell_type": "markdown",
   "metadata": {
    "tags": [
     "navigation"
    ]
   },
   "source": [
    "[Indice](index.ipynb) | Previo: [FormalismoLagrangiano.PrincipioHamilton](09.04.00.00.FormalismoLagrangiano.PrincipioHamilton.ipynb) | Siguiente: [FormalismoLagrangiano.MecanicaCeleste](09.06.00.00.FormalismoLagrangiano.MecanicaCeleste.ipynb)"
   ]
  }
 ],
 "metadata": {
  "celltoolbar": "Tags",
  "kernelspec": {
   "display_name": "Python 3",
   "language": "python",
   "name": "python3"
  },
  "language_info": {
   "codemirror_mode": {
    "name": "ipython",
    "version": 3
   },
   "file_extension": ".py",
   "mimetype": "text/x-python",
   "name": "python",
   "nbconvert_exporter": "python",
   "pygments_lexer": "ipython3",
   "version": "3.6.8"
  }
 },
 "nbformat": 4,
 "nbformat_minor": 2
}
