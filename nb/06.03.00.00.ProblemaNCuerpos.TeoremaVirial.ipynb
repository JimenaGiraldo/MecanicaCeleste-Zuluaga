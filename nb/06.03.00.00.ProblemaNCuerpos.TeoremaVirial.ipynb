{
 "cells": [
  {
   "cell_type": "markdown",
   "metadata": {
    "tags": [
     "navigation"
    ]
   },
   "source": [
    "[Indice](index.ipynb) | Previo: [ProblemaNCuerpos.SolucionAnalitica.Sintesis](06.02.03.00.ProblemaNCuerpos.SolucionAnalitica.Sintesis.ipynb) | "
   ]
  },
  {
   "cell_type": "markdown",
   "metadata": {},
   "source": [
    "## 6.3. Energía y virial\n",
    "<a id='ncuerpos_virial'></a>"
   ]
  },
  {
   "cell_type": "markdown",
   "metadata": {},
   "source": [
    "En la [Sección *Caso de estudio: el sistema Tierra-Luna*](06.02.02.00.ProblemaNCuerpos.SolucionAnalitica.Energia.ipynb#energia_tierra_luna) le pusimos números a una de las más importantes constantes de movimiento en el problema de los N cuerpos: la Energía.  "
   ]
  },
  {
   "cell_type": "markdown",
   "metadata": {},
   "source": [
    "Para hacerlo, calculamos la energía mecánica total del sistema Tierra-Luna y encontramos, contra toda intuición, que era negativa.  La interpretación física de este resultado indica que *hace falta* energía para separar a la Tierra y la Luna a una distancia enorme; o dicho en otros términos, que *el valor negativo de la energía de un sistema de dos partículas indica que la distancia entre ellas esta acotada y forman un sistema ligado*."
   ]
  },
  {
   "cell_type": "markdown",
   "metadata": {},
   "source": [
    "Este interesante resultado, aunque parece obvio, es evidencia de una afirmación que hemos repetido a lo largo de este capítulo: las constantes de movimiento o integrales en el problema de los N cuerpos, pueden no proveer toda la información necesaria para saber dónde estarán las cuerpos en el futuro, pero ofrecen pistas *útiles* sobre el destino del sistema."
   ]
  },
  {
   "cell_type": "markdown",
   "metadata": {},
   "source": [
    "¿Podríamos generalizar la interpretación del signo de la energía en el sistema Tierra-Luna a sistema formados por un número arbitrario de partículas?"
   ]
  },
  {
   "cell_type": "markdown",
   "metadata": {},
   "source": [
    "### 6.3.1. Momento de inercia\n",
    "<a id='ncuerpos_momento_inercia'></a>"
   ]
  },
  {
   "cell_type": "markdown",
   "metadata": {},
   "source": [
    "Para responder a esta última pregunta deberíamos identificar o definir primero una cantidad física que nos ayude a evaluar la afirmación \"*las partículas se encuentran a una distancia finita*\"."
   ]
  },
  {
   "cell_type": "markdown",
   "metadata": {},
   "source": [
    "No es difícil descubrir que el momento de inercia total $I$ del sistema puede cumplir esta función.  Para una nube de partículas, $I$ esta definido como[$^1$](#notaspie_1):\n",
    "\n",
    "\\begin{equation}\n",
    "\\label{eq:momento_inercia}\n",
    "I\\equiv \\sum_i m_i r_i^2\n",
    "\\end{equation}"
   ]
  },
  {
   "cell_type": "markdown",
   "metadata": {},
   "source": [
    "En términos de esta cantidad podemos decir que el sistema tenderá a disgregarse, si para $t\\rightarrow \\infty$, también $I\\rightarrow \\infty$.  Al contrario, el sistema colapsará totalmente, si, en algún tiempo finito $t_\\mathrm{c}$, el momento de inercia $I\\rightarrow 0$ .  Un sistema *ligado* (que no se disgrega, ni colapsa), será aquel que se encuentra entre estos dos extremos."
   ]
  },
  {
   "cell_type": "markdown",
   "metadata": {},
   "source": [
    "¿Cómo evoluciona $I$ con el tiempo?"
   ]
  },
  {
   "cell_type": "markdown",
   "metadata": {},
   "source": [
    "Podemos saberlo si encontramos sus primeras derivadas respecto al tiempo:\n",
    "\n",
    "$$\n",
    "\\dot I=2\\sum_i m_i \\vec{r}_i\\cdot\\dot{\\vec{r}}_i\n",
    "$$\n",
    "\n",
    "Esta primera derivada tiene una propiedad interesante: en una misma cantidad combina, tanto información sobre la posición de las partículas como sobre su velocidad.  "
   ]
  },
  {
   "cell_type": "markdown",
   "metadata": {},
   "source": [
    "Si definimos:\n",
    "\n",
    "\\begin{equation}\n",
    "\\label{eq:G}\n",
    "G\\equiv\\sum_i m_i\\vec{r}_i\\cdot\\dot{\\vec{r}_i}\n",
    "\\end{equation}\n",
    "entonces:\n",
    "\n",
    "\\begin{equation}\n",
    "\\label{eq:I_G}\n",
    "\\dot I=2G\n",
    "\\end{equation}"
   ]
  },
  {
   "cell_type": "markdown",
   "metadata": {},
   "source": [
    "A la \"luz\" de la función $G$, es más razonable definir un sistema ligado como aquel en el que simultáneamente la posición y la velocidad de las partículas están acotadas.  En términos de $G$:\n",
    "\n",
    "\\begin{equation}\n",
    "\\label{eq:G_acotada}\n",
    "G_\\mathrm{min}\\leq G\\leq G_\\mathrm{max}\n",
    "\\end{equation}"
   ]
  },
  {
   "cell_type": "markdown",
   "metadata": {},
   "source": [
    "### 6.3.2. El virial\n",
    "<a id='virial'></a>"
   ]
  },
  {
   "cell_type": "markdown",
   "metadata": {},
   "source": [
    "¿Como convertir la condición ([G_acotado](#mjx-eqn-eq%3AG_acotado)), que define a un sistema ligado, en una condición sobre la energía del sistema?"
   ]
  },
  {
   "cell_type": "markdown",
   "metadata": {},
   "source": [
    "No es difícil reconocer que la tasa de cambio de $G$, $\\dot G$, incluira términos proporcionales a la energía cinética, que es justamente lo que buscamos:\n",
    "\n",
    "\\begin{equation}\n",
    "\\label{eq:dotG}\n",
    "\\begin{array}{rcl}\n",
    "\\dot G & = & \\sum_i m_i {\\dot{\\vec{r}}_i}^2 + \\sum_i \\vec{r}_i\\cdot (m_i \\ddot{\\vec{r}}_i)\\\\\n",
    "        & = & 2K - \\sum_i \\vec{r}_i\\cdot{\\vec F}_i\n",
    "\\end{array}\n",
    "\\end{equation}"
   ]
  },
  {
   "cell_type": "markdown",
   "metadata": {},
   "source": [
    "En esta expresión aparece una cantidad nueva:\n",
    "\n",
    "$${\\cal V}=\\sum_i {\\vec r}_i\\cdot{\\vec F}_i,$$ \n",
    "que depende de las fuerzas que experimentan las partículas del sistema instantáneamente.  \n",
    "\n",
    "${\\cal V}$ no tuvo una utilidad reconocida previamente en la mecánica newtoniana hasta 1870 cuando Rudolf Clausius <cite data-cite=\"Clausius1870Virial\"><a href=\"mybook.html#Clausius1870Virial\">(Clausius, 1870)</a></cite> estudiaba la teoría mecánica de los gases y el calor.  Por su relación con la fuerza, cuya palabra en latín es *vis* (con acusativo *viris*),  Clausius llamo a $\\cal V$ el \"virial\" del sistema[$^2$](#notaspie_2)(#teorema_virial) es $\\langle\\cal V\\rangle/2$, donde $\\langle\\cal V\\rangle$ es el promedio de esta cantidad en un intervalo de tiempo muy largo.]."
   ]
  },
  {
   "cell_type": "markdown",
   "metadata": {},
   "source": [
    "### 6.3.3. Identidad de Lagrange-Jacobi\n",
    "<a id='identidad_lagrange_jacobi'></a>"
   ]
  },
  {
   "cell_type": "markdown",
   "metadata": {},
   "source": [
    "En el caso del problema de N partículas que interactúan a través de la fuerza gravitacional Newtoniana (Ec. [ncuerpos_edm_potencial](#mjx-eqn-eq%3Ancuerpos_edm_potencial)) $\\{\\vec F_i=\\partial_{{\\vec r}_i} U\\}$, el virial viene dado por \n",
    "\n",
    "\\begin{eqnarray}\n",
    "{\\cal V} =\\sum_i {\\vec r}_i\\cdot{\\vec F}_i = - \\sum_i \\vec{r}_i\\cdot\\partial_{{\\vec r}_i} U\n",
    "\\end{eqnarray}"
   ]
  },
  {
   "cell_type": "markdown",
   "metadata": {},
   "source": [
    "Es posible demostrar (ver problemas al final del capítulo) que la $U(\\{\\vec{r}_i\\})$ definida por la Ec. ([U_no_restringido](#mjx-eqn-eq%3AU_no_restringido)) es una función homogénea con $k=-1$ (ver Def. \\ref{box:def:funciones.homogéneas}).  \n",
    "\n",
    "Por lo tanto, por el Teo. \\ref{box:teo:funciones.homogeneas.eules} el virial de un sistema de N cuerpos es simplemente igual a su energía potencial:\n",
    "\n",
    "$$\n",
    "{\\cal V} = - \\sum_i \\vec{r}_i\\cdot\\partial_{{\\vec r}_i} U = U\n",
    "$$"
   ]
  },
  {
   "cell_type": "markdown",
   "metadata": {},
   "source": [
    "Aplicando este resultado a la Ec. ([dotG](#mjx-eqn-eq%3AdotG)) obtenemos la denominada **Identidad de Lagrange-Jacobi**:\n",
    "\n",
    "\\begin{equation}\n",
    "\\label{eq:identidad_lagrange_jacobi}\n",
    "\\begin{array}{ccc}\n",
    "\\dot G & = & 2K+U \\\\\n",
    "        & = & 2E-U \\\\\n",
    "        & = & K+E \\\\\n",
    "\\end{array}\n",
    "\\end{equation}\n",
    "\n",
    "Donde, para la segunda y tercera forma de la identidad, hemos usado el hecho conocido que $E=K+U$.  \n",
    "\n",
    "En virtud de la relación expresada por la Ec. ([I_G](#mjx-eqn-eq%3AI_G)), una forma alternativa de esta identidad, muy común en la literatura pero más oscura en términos del significado de las cantidades involucradas es:\n",
    "\n",
    "$$\n",
    "\\ddot I=4K+2U\n",
    "$$"
   ]
  },
  {
   "cell_type": "markdown",
   "metadata": {},
   "source": [
    "No podemos perder de vista para donde vamos: nuestro propósito era estudiar la posible relación existente entre la energía mecánica total de un sistema y el hecho de que sea un sistema ligado o no.\n",
    "\n",
    "Para ello, consideremos la última forma de la identidad de Lagrange-Jacobi, \n",
    "\n",
    "$$\\dot G=K+E.$$  \n",
    "\n",
    "Dado que por definición $K\\geq0$, si la energía mecánica total del sistema es $E\\geq0$, los valores (constantes) de $\\dot G$ y de $\\ddot I$ serán siempre positivos.  Por lo tanto, ambos, $G$ e $I$, independientemente de sus valores iniciales, crecerán indefinidamente y el sistema tenderá a disgregarse (no será un sistema ligado)[$^3$](#notaspie_3)"
   ]
  },
  {
   "cell_type": "markdown",
   "metadata": {},
   "source": [
    "Por otro lado si $E<0$, los signo de $\\dot G$ e $\\ddot I$, dependerán de la comparación entre $K$ y $|E|$.  Sin embargo como el valor de $K$ es variable en el tiempo (recordemos que solo $E$ es constante), no hay manera de predecir, trivialmente, si el sistema estará ligado o no.  \n",
    "\n",
    "En otras palabras, $E<0$ es una condición necesaria (puesto que $E\\geq0$ implica un sistema no ligado), mas no suficiente para que un sistema de N cuerpos sea ligado."
   ]
  },
  {
   "cell_type": "markdown",
   "metadata": {},
   "source": [
    "### 6.3.4. Teorema del virial\n",
    "<a id='teorema_virial'></a>"
   ]
  },
  {
   "cell_type": "markdown",
   "metadata": {},
   "source": [
    "Puede que no sepamos cuánto vale la energía cinética de un sistema de N cuerpos en un momento dado (para evaluar por ejemplo el signo de $\\dot G$ en la identidad de Lagrange-Jacobi), pero podríamos averiguar si esta acotada por un valor máximo y si valor es finito.  \n",
    "\n",
    "Una manera de hacerlo es calcular el *promedio asintótico* de $K(t)$, que definimos como:\n",
    "\n",
    "$$\n",
    "\\langle K\\rangle=\\lim_{T\\rightarrow\\infty} \\frac{1}{T}\\int_0^{T} K(t)\\;\\mathrm{d}t\n",
    "$$\n",
    "\n",
    "Un sistema en el que la energía cinética tampoco este acotada, para algún tiempo $t$, es decir $K\\rightarrow\\infty$, tendrá un valor promedio de la energía cinética $\\langle K\\rangle\\rightarrow\\infty$ y posiblemente, en virtud de las identidades de Lagrange-Jacobi no sea tampoco un sistema acotado."
   ]
  },
  {
   "cell_type": "markdown",
   "metadata": {},
   "source": [
    "Ahora bien, por la identidad de Lagrange-Jacobi (Ec. {eq:identidad_lagrange_jacobi}):\n",
    "\n",
    "$$\n",
    "\\langle\\dot G\\rangle=2\\langle\\dot K\\rangle+\\langle\\dot U\\rangle\n",
    "$$\n",
    "pero:\n",
    "\n",
    "$$\n",
    "\\langle \\dot G\\rangle=\\lim_{T\\rightarrow\\infty} \\frac{1}{T}\\int_0^{T} \\dot G dt=\\lim_{T\\rightarrow\\infty} \\left(\\frac{G(T)-G(0)}{T}\\right)\n",
    "$$\n",
    "donde usamos el teorema fundamental del cálculo (ver Teo. \\ref{box:teo:fundamental.calculo}.)"
   ]
  },
  {
   "cell_type": "markdown",
   "metadata": {},
   "source": [
    "Ahora bien si $G$ esta acotada, es decir si $G_\\mathrm{min}\\leq G(t)\\leq G_\\mathrm{max}$\n",
    "\n",
    "$$\n",
    "\\langle \\dot G\\rangle=\\lim_{T\\rightarrow\\infty} \\left(\\frac{G(T)-G(0)}{T}\\right)\\leq\\lim_{T\\rightarrow\\infty} \\left(\\frac{G_\\mathrm{max}-G_\\mathrm{min}}{T}\\right)=0\n",
    "$$\n",
    "\n",
    "Lo que conduce a uno de los más importantes teoremas de la dinámica de sistemas de muchas partículas:"
   ]
  },
  {
   "cell_type": "markdown",
   "metadata": {
    "label": "box:teo:virial",
    "subtitle": "Teorema del virial",
    "tags": [
     "box_theorem",
     "box:teo:virial"
    ],
    "title": "Teorema"
   },
   "source": [
    "> **:Teorema: Teorema del virial.** Si en un sistema de N cuerpos se define la cantidad física $G\\equiv\\sum_i m_i\\vec{r}_i\\cdot\\dot{\\vec{r}_i}$, la condición $G_\\mathrm{max}\\leq G\\leq G_\\mathrm{min}$ ($G$ esta acotada) es necesaria y suficiente[$^4$](#notaspie_4) para que el promedio asintótico de las funciones de energía potencial $U$ y energía cinética $K$, satisfagan:\n",
    "\n",
    "  \\begin{equation}\n",
    "  \\label{eq:teorema_virial_UK}\n",
    "  \\langle U\\rangle=-2\\langle K\\rangle\n",
    "  \\end{equation}\n",
    "  \n",
    "> o equivalentemente:\n",
    "\n",
    "  \\begin{equation}\n",
    "  \\label{eq:teorema_virial_EK}\n",
    "  E=-\\langle K\\rangle\n",
    "  \\end{equation}\n",
    "\n",
    "  \n",
    "> Donde $\\langle f\\rangle = \\lim_{T\\rightarrow\\infty} (1/T) \\int_0^T f(t)\\;\\mathrm{d}t$"
   ]
  },
  {
   "cell_type": "markdown",
   "metadata": {},
   "source": [
    "Puesto en palabras más llanas, en un sistema de N cuerpos ligado, es decir aquel en el que las posiciones y velocidades están acotadas, el negativo del promedio asintótico de la energía cinética es igual a la energía mecánica total. O bien, como es más común encontrarlo en la literatura:\n",
    "\n",
    "\\begin{equation}\n",
    "\\label{eq:teorema_virial_canonico}\n",
    "\\langle K\\rangle=-\\frac{1}{2}\\langle U\\rangle\n",
    "\\end{equation}"
   ]
  },
  {
   "cell_type": "markdown",
   "metadata": {},
   "source": [
    "Aunque las consecuencias del teorema del virial son interesantes, sus aplicaciones prácticas en mecánica celeste, especialmente al estudiar sistemas de pocas partículas, no son muchas.  Sin embargo cuando se estudian, tanto en astronomía como en física, sistemas con un número significativo de partículas ($N\\rightarrow \\infty$), las implicaciones pueden ser muy útiles como veremos en el siguiente caso de estudio."
   ]
  },
  {
   "cell_type": "markdown",
   "metadata": {},
   "source": [
    "### Caso de estudio: el virial del Sistema Solar"
   ]
  },
  {
   "cell_type": "markdown",
   "metadata": {},
   "source": [
    "Podemos comprobar el teorema del virial en el caso del sistema Solar, tomando los cuerpos más masivos del sistema y en los que asumimos se concentra la mayor parte de la energía cinética y potencial gravitacional del sistema: El Sol, Júpiter y Saturno."
   ]
  },
  {
   "cell_type": "markdown",
   "metadata": {},
   "source": [
    "Para ello, podemos usar como base los Algs. ([estado_tierra_luna](06.02.02.00.ProblemaNCuerpos.SolucionAnalitica.Energia.ipynb#code:estado_tierra_luna),[energia_tierra_luna](06.02.02.00.ProblemaNCuerpos.SolucionAnalitica.Energia.ipynb#code:energia_tierra_luna)), con la diferencia que ahora debemos calcular las posiciones y velocidades de los cuerpos no en uno, sino en muchos tiempos (valores que nos serviran para calcular los promedios.)  El siguiente algoritmo prepara la información básica requerida para nuestro cálculo:"
   ]
  },
  {
   "cell_type": "code",
   "execution_count": 1,
   "metadata": {
    "codelabel": "",
    "codeplot": 0
   },
   "outputs": [],
   "source": [
    "#Constante de gravitación universal \n",
    "G=6.67e-20 # km^3 / kg s^2\n",
    "\n",
    "#Carga kernels con posiciones (bsp) y masas (tpc)\n",
    "import spiceypy as spy\n",
    "spy.furnsh('pymcel/data/de430.bsp')\n",
    "spy.furnsh('pymcel/data/de430.tpc')\n",
    "\n",
    "#Número de valores de tiempo\n",
    "Nt=100\n",
    "\n",
    "#Lista de tiempos en los que calcularemos el virial:\n",
    "#Tomamos 60 años que es aprox. 2 veces el período de Saturno\n",
    "from numpy import linspace\n",
    "tefs=linspace(0.0,60*356.25*86400,Nt)\n",
    "\n",
    "#Masas de los cuerpos\n",
    "msol=spy.bodvrd(\"SUN\",\"GM\",1)[1][0]/G\n",
    "mjupiter=spy.bodvrd(\"JUPITER_BARYCENTER\",\"GM\",1)[1][0]/G\n",
    "msaturno=spy.bodvrd(\"SATURN_BARYCENTER\",\"GM\",1)[1][0]/G"
   ]
  },
  {
   "cell_type": "markdown",
   "metadata": {},
   "source": [
    "Con estos datos en mano podemos calcular ahora la energía cinética del sistema, la energía potencial (Ec. [potencial_tres_cuerpos](#mjx-eqn-eq%3Apotencial_tres_cuerpos)) y la energía total, para cada valor del tiempo escogido.  Una vez calculadas estas cantidades podemos determinar su valor promedio:"
   ]
  },
  {
   "cell_type": "code",
   "execution_count": 2,
   "metadata": {
    "codelabel": "",
    "codeplot": 0
   },
   "outputs": [],
   "source": [
    "from numpy.linalg import norm\n",
    "Ks=[]\n",
    "Us=[]\n",
    "Es=[]\n",
    "for tef in tefs:\n",
    "    #Posiciones, velocidades, energías cinéticas\n",
    "    sol,tluz=spy.spkezr(\"SUN\",tef,\n",
    "                        \"ECLIPJ2000\",\"None\",\"SSB\")\n",
    "    rsol=sol[:3]\n",
    "    vsol=sol[3:]\n",
    "    K_sol=0.5*msol*norm(vsol)**2\n",
    "    \n",
    "    jupiter,tluz=spy.spkezr(\"JUPITER_BARYCENTER\",tef,\n",
    "                            \"ECLIPJ2000\",\"None\",\"SSB\")\n",
    "    rjupiter=jupiter[:3]\n",
    "    vjupiter=jupiter[3:]\n",
    "    K_jup=0.5*mjupiter*norm(vjupiter)**2\n",
    "    \n",
    "    saturno,tluz=spy.spkezr(\"SATURN_BARYCENTER\",tef,\n",
    "                            \"ECLIPJ2000\",\"None\",\"SSB\")\n",
    "\n",
    "    rsaturno=saturno[:3]\n",
    "    vsaturno=saturno[3:]\n",
    "    K_sat=0.5*msaturno*norm(vsaturno)**2\n",
    "\n",
    "    #Distancias entre los cuerpos\n",
    "    r_jup_sol=norm(rjupiter-rsol)\n",
    "    r_sat_sol=norm(rsaturno-rsol)\n",
    "    r_jup_sat=norm(rjupiter-rsaturno)\n",
    "    \n",
    "    #Energia potencial\n",
    "    U_jup_sol=-G*mjupiter*msol/r_jup_sol\n",
    "    U_sat_sol=-G*msaturno*msol/r_sat_sol\n",
    "    U_jup_sat=-G*mjupiter*msaturno/r_jup_sat\n",
    "\n",
    "    #Energía cinética, potencial y mecánica\n",
    "    Ktot=K_sol+K_jup+K_sat\n",
    "    U=U_jup_sol+U_sat_sol+U_jup_sat\n",
    "    E=Ktot+U\n",
    "    \n",
    "    #Guarda valores en la lista\n",
    "    Ks+=[Ktot]\n",
    "    Us+=[abs(U)]\n",
    "    Es+=[abs(E)]"
   ]
  },
  {
   "cell_type": "code",
   "execution_count": 3,
   "metadata": {
    "codelabel": "",
    "codeplot": 0,
    "tags": [
     "hide_input"
    ]
   },
   "outputs": [
    {
     "name": "stdout",
     "output_type": "stream",
     "text": [
      "<K> = 1.883839013581885e+29 kg km^2/s^2\n",
      "<U>/2 = -1.8840677890439464e+29 kg km^2/s^2\n",
      "E = -1.8842965645060087e+29 kg km^2/s^2\n"
     ]
    }
   ],
   "source": [
    "from numpy import mean\n",
    "print(f\"<K> = {mean(Ks)} kg km^2/s^2\")\n",
    "print(f\"<U>/2 = -{mean(Us)/2} kg km^2/s^2\")\n",
    "print(f\"E = -{mean(Es)} kg km^2/s^2\")"
   ]
  },
  {
   "cell_type": "markdown",
   "metadata": {},
   "source": [
    "Como vemos, las tres cantidades coinciden (con un margen de error del 0.1%) con lo esperado a partir del teorema del Virial."
   ]
  },
  {
   "cell_type": "markdown",
   "metadata": {},
   "source": [
    "Podemos también hacer un gráfico de $K$ (lista `Ks`), $|U|$ (lista `Us`) y $|E|$ (lista `Es`):"
   ]
  },
  {
   "cell_type": "code",
   "execution_count": 4,
   "metadata": {
    "codelabel": "",
    "codeplot": 0,
    "tags": [
     "hide_pdf",
     "hide_html"
    ]
   },
   "outputs": [],
   "source": [
    "%matplotlib nbagg"
   ]
  },
  {
   "cell_type": "markdown",
   "metadata": {},
   "source": [
    "<a id='code:virial_sistema_solar'></a>"
   ]
  },
  {
   "cell_type": "code",
   "execution_count": 5,
   "metadata": {
    "codelabel": "code:virial_sistema_solar",
    "codeplot": 1,
    "figcaption": "<b>Figura 6.25.</b> ",
    "tags": [
     "code:virial_sistema_solar"
    ]
   },
   "outputs": [
    {
     "data": {
      "application/javascript": [
       "/* Put everything inside the global mpl namespace */\n",
       "window.mpl = {};\n",
       "\n",
       "\n",
       "mpl.get_websocket_type = function() {\n",
       "    if (typeof(WebSocket) !== 'undefined') {\n",
       "        return WebSocket;\n",
       "    } else if (typeof(MozWebSocket) !== 'undefined') {\n",
       "        return MozWebSocket;\n",
       "    } else {\n",
       "        alert('Your browser does not have WebSocket support. ' +\n",
       "              'Please try Chrome, Safari or Firefox ≥ 6. ' +\n",
       "              'Firefox 4 and 5 are also supported but you ' +\n",
       "              'have to enable WebSockets in about:config.');\n",
       "    };\n",
       "}\n",
       "\n",
       "mpl.figure = function(figure_id, websocket, ondownload, parent_element) {\n",
       "    this.id = figure_id;\n",
       "\n",
       "    this.ws = websocket;\n",
       "\n",
       "    this.supports_binary = (this.ws.binaryType != undefined);\n",
       "\n",
       "    if (!this.supports_binary) {\n",
       "        var warnings = document.getElementById(\"mpl-warnings\");\n",
       "        if (warnings) {\n",
       "            warnings.style.display = 'block';\n",
       "            warnings.textContent = (\n",
       "                \"This browser does not support binary websocket messages. \" +\n",
       "                    \"Performance may be slow.\");\n",
       "        }\n",
       "    }\n",
       "\n",
       "    this.imageObj = new Image();\n",
       "\n",
       "    this.context = undefined;\n",
       "    this.message = undefined;\n",
       "    this.canvas = undefined;\n",
       "    this.rubberband_canvas = undefined;\n",
       "    this.rubberband_context = undefined;\n",
       "    this.format_dropdown = undefined;\n",
       "\n",
       "    this.image_mode = 'full';\n",
       "\n",
       "    this.root = $('<div/>');\n",
       "    this._root_extra_style(this.root)\n",
       "    this.root.attr('style', 'display: inline-block');\n",
       "\n",
       "    $(parent_element).append(this.root);\n",
       "\n",
       "    this._init_header(this);\n",
       "    this._init_canvas(this);\n",
       "    this._init_toolbar(this);\n",
       "\n",
       "    var fig = this;\n",
       "\n",
       "    this.waiting = false;\n",
       "\n",
       "    this.ws.onopen =  function () {\n",
       "            fig.send_message(\"supports_binary\", {value: fig.supports_binary});\n",
       "            fig.send_message(\"send_image_mode\", {});\n",
       "            if (mpl.ratio != 1) {\n",
       "                fig.send_message(\"set_dpi_ratio\", {'dpi_ratio': mpl.ratio});\n",
       "            }\n",
       "            fig.send_message(\"refresh\", {});\n",
       "        }\n",
       "\n",
       "    this.imageObj.onload = function() {\n",
       "            if (fig.image_mode == 'full') {\n",
       "                // Full images could contain transparency (where diff images\n",
       "                // almost always do), so we need to clear the canvas so that\n",
       "                // there is no ghosting.\n",
       "                fig.context.clearRect(0, 0, fig.canvas.width, fig.canvas.height);\n",
       "            }\n",
       "            fig.context.drawImage(fig.imageObj, 0, 0);\n",
       "        };\n",
       "\n",
       "    this.imageObj.onunload = function() {\n",
       "        fig.ws.close();\n",
       "    }\n",
       "\n",
       "    this.ws.onmessage = this._make_on_message_function(this);\n",
       "\n",
       "    this.ondownload = ondownload;\n",
       "}\n",
       "\n",
       "mpl.figure.prototype._init_header = function() {\n",
       "    var titlebar = $(\n",
       "        '<div class=\"ui-dialog-titlebar ui-widget-header ui-corner-all ' +\n",
       "        'ui-helper-clearfix\"/>');\n",
       "    var titletext = $(\n",
       "        '<div class=\"ui-dialog-title\" style=\"width: 100%; ' +\n",
       "        'text-align: center; padding: 3px;\"/>');\n",
       "    titlebar.append(titletext)\n",
       "    this.root.append(titlebar);\n",
       "    this.header = titletext[0];\n",
       "}\n",
       "\n",
       "\n",
       "\n",
       "mpl.figure.prototype._canvas_extra_style = function(canvas_div) {\n",
       "\n",
       "}\n",
       "\n",
       "\n",
       "mpl.figure.prototype._root_extra_style = function(canvas_div) {\n",
       "\n",
       "}\n",
       "\n",
       "mpl.figure.prototype._init_canvas = function() {\n",
       "    var fig = this;\n",
       "\n",
       "    var canvas_div = $('<div/>');\n",
       "\n",
       "    canvas_div.attr('style', 'position: relative; clear: both; outline: 0');\n",
       "\n",
       "    function canvas_keyboard_event(event) {\n",
       "        return fig.key_event(event, event['data']);\n",
       "    }\n",
       "\n",
       "    canvas_div.keydown('key_press', canvas_keyboard_event);\n",
       "    canvas_div.keyup('key_release', canvas_keyboard_event);\n",
       "    this.canvas_div = canvas_div\n",
       "    this._canvas_extra_style(canvas_div)\n",
       "    this.root.append(canvas_div);\n",
       "\n",
       "    var canvas = $('<canvas/>');\n",
       "    canvas.addClass('mpl-canvas');\n",
       "    canvas.attr('style', \"left: 0; top: 0; z-index: 0; outline: 0\")\n",
       "\n",
       "    this.canvas = canvas[0];\n",
       "    this.context = canvas[0].getContext(\"2d\");\n",
       "\n",
       "    var backingStore = this.context.backingStorePixelRatio ||\n",
       "\tthis.context.webkitBackingStorePixelRatio ||\n",
       "\tthis.context.mozBackingStorePixelRatio ||\n",
       "\tthis.context.msBackingStorePixelRatio ||\n",
       "\tthis.context.oBackingStorePixelRatio ||\n",
       "\tthis.context.backingStorePixelRatio || 1;\n",
       "\n",
       "    mpl.ratio = (window.devicePixelRatio || 1) / backingStore;\n",
       "\n",
       "    var rubberband = $('<canvas/>');\n",
       "    rubberband.attr('style', \"position: absolute; left: 0; top: 0; z-index: 1;\")\n",
       "\n",
       "    var pass_mouse_events = true;\n",
       "\n",
       "    canvas_div.resizable({\n",
       "        start: function(event, ui) {\n",
       "            pass_mouse_events = false;\n",
       "        },\n",
       "        resize: function(event, ui) {\n",
       "            fig.request_resize(ui.size.width, ui.size.height);\n",
       "        },\n",
       "        stop: function(event, ui) {\n",
       "            pass_mouse_events = true;\n",
       "            fig.request_resize(ui.size.width, ui.size.height);\n",
       "        },\n",
       "    });\n",
       "\n",
       "    function mouse_event_fn(event) {\n",
       "        if (pass_mouse_events)\n",
       "            return fig.mouse_event(event, event['data']);\n",
       "    }\n",
       "\n",
       "    rubberband.mousedown('button_press', mouse_event_fn);\n",
       "    rubberband.mouseup('button_release', mouse_event_fn);\n",
       "    // Throttle sequential mouse events to 1 every 20ms.\n",
       "    rubberband.mousemove('motion_notify', mouse_event_fn);\n",
       "\n",
       "    rubberband.mouseenter('figure_enter', mouse_event_fn);\n",
       "    rubberband.mouseleave('figure_leave', mouse_event_fn);\n",
       "\n",
       "    canvas_div.on(\"wheel\", function (event) {\n",
       "        event = event.originalEvent;\n",
       "        event['data'] = 'scroll'\n",
       "        if (event.deltaY < 0) {\n",
       "            event.step = 1;\n",
       "        } else {\n",
       "            event.step = -1;\n",
       "        }\n",
       "        mouse_event_fn(event);\n",
       "    });\n",
       "\n",
       "    canvas_div.append(canvas);\n",
       "    canvas_div.append(rubberband);\n",
       "\n",
       "    this.rubberband = rubberband;\n",
       "    this.rubberband_canvas = rubberband[0];\n",
       "    this.rubberband_context = rubberband[0].getContext(\"2d\");\n",
       "    this.rubberband_context.strokeStyle = \"#000000\";\n",
       "\n",
       "    this._resize_canvas = function(width, height) {\n",
       "        // Keep the size of the canvas, canvas container, and rubber band\n",
       "        // canvas in synch.\n",
       "        canvas_div.css('width', width)\n",
       "        canvas_div.css('height', height)\n",
       "\n",
       "        canvas.attr('width', width * mpl.ratio);\n",
       "        canvas.attr('height', height * mpl.ratio);\n",
       "        canvas.attr('style', 'width: ' + width + 'px; height: ' + height + 'px;');\n",
       "\n",
       "        rubberband.attr('width', width);\n",
       "        rubberband.attr('height', height);\n",
       "    }\n",
       "\n",
       "    // Set the figure to an initial 600x600px, this will subsequently be updated\n",
       "    // upon first draw.\n",
       "    this._resize_canvas(600, 600);\n",
       "\n",
       "    // Disable right mouse context menu.\n",
       "    $(this.rubberband_canvas).bind(\"contextmenu\",function(e){\n",
       "        return false;\n",
       "    });\n",
       "\n",
       "    function set_focus () {\n",
       "        canvas.focus();\n",
       "        canvas_div.focus();\n",
       "    }\n",
       "\n",
       "    window.setTimeout(set_focus, 100);\n",
       "}\n",
       "\n",
       "mpl.figure.prototype._init_toolbar = function() {\n",
       "    var fig = this;\n",
       "\n",
       "    var nav_element = $('<div/>');\n",
       "    nav_element.attr('style', 'width: 100%');\n",
       "    this.root.append(nav_element);\n",
       "\n",
       "    // Define a callback function for later on.\n",
       "    function toolbar_event(event) {\n",
       "        return fig.toolbar_button_onclick(event['data']);\n",
       "    }\n",
       "    function toolbar_mouse_event(event) {\n",
       "        return fig.toolbar_button_onmouseover(event['data']);\n",
       "    }\n",
       "\n",
       "    for(var toolbar_ind in mpl.toolbar_items) {\n",
       "        var name = mpl.toolbar_items[toolbar_ind][0];\n",
       "        var tooltip = mpl.toolbar_items[toolbar_ind][1];\n",
       "        var image = mpl.toolbar_items[toolbar_ind][2];\n",
       "        var method_name = mpl.toolbar_items[toolbar_ind][3];\n",
       "\n",
       "        if (!name) {\n",
       "            // put a spacer in here.\n",
       "            continue;\n",
       "        }\n",
       "        var button = $('<button/>');\n",
       "        button.addClass('ui-button ui-widget ui-state-default ui-corner-all ' +\n",
       "                        'ui-button-icon-only');\n",
       "        button.attr('role', 'button');\n",
       "        button.attr('aria-disabled', 'false');\n",
       "        button.click(method_name, toolbar_event);\n",
       "        button.mouseover(tooltip, toolbar_mouse_event);\n",
       "\n",
       "        var icon_img = $('<span/>');\n",
       "        icon_img.addClass('ui-button-icon-primary ui-icon');\n",
       "        icon_img.addClass(image);\n",
       "        icon_img.addClass('ui-corner-all');\n",
       "\n",
       "        var tooltip_span = $('<span/>');\n",
       "        tooltip_span.addClass('ui-button-text');\n",
       "        tooltip_span.html(tooltip);\n",
       "\n",
       "        button.append(icon_img);\n",
       "        button.append(tooltip_span);\n",
       "\n",
       "        nav_element.append(button);\n",
       "    }\n",
       "\n",
       "    var fmt_picker_span = $('<span/>');\n",
       "\n",
       "    var fmt_picker = $('<select/>');\n",
       "    fmt_picker.addClass('mpl-toolbar-option ui-widget ui-widget-content');\n",
       "    fmt_picker_span.append(fmt_picker);\n",
       "    nav_element.append(fmt_picker_span);\n",
       "    this.format_dropdown = fmt_picker[0];\n",
       "\n",
       "    for (var ind in mpl.extensions) {\n",
       "        var fmt = mpl.extensions[ind];\n",
       "        var option = $(\n",
       "            '<option/>', {selected: fmt === mpl.default_extension}).html(fmt);\n",
       "        fmt_picker.append(option);\n",
       "    }\n",
       "\n",
       "    // Add hover states to the ui-buttons\n",
       "    $( \".ui-button\" ).hover(\n",
       "        function() { $(this).addClass(\"ui-state-hover\");},\n",
       "        function() { $(this).removeClass(\"ui-state-hover\");}\n",
       "    );\n",
       "\n",
       "    var status_bar = $('<span class=\"mpl-message\"/>');\n",
       "    nav_element.append(status_bar);\n",
       "    this.message = status_bar[0];\n",
       "}\n",
       "\n",
       "mpl.figure.prototype.request_resize = function(x_pixels, y_pixels) {\n",
       "    // Request matplotlib to resize the figure. Matplotlib will then trigger a resize in the client,\n",
       "    // which will in turn request a refresh of the image.\n",
       "    this.send_message('resize', {'width': x_pixels, 'height': y_pixels});\n",
       "}\n",
       "\n",
       "mpl.figure.prototype.send_message = function(type, properties) {\n",
       "    properties['type'] = type;\n",
       "    properties['figure_id'] = this.id;\n",
       "    this.ws.send(JSON.stringify(properties));\n",
       "}\n",
       "\n",
       "mpl.figure.prototype.send_draw_message = function() {\n",
       "    if (!this.waiting) {\n",
       "        this.waiting = true;\n",
       "        this.ws.send(JSON.stringify({type: \"draw\", figure_id: this.id}));\n",
       "    }\n",
       "}\n",
       "\n",
       "\n",
       "mpl.figure.prototype.handle_save = function(fig, msg) {\n",
       "    var format_dropdown = fig.format_dropdown;\n",
       "    var format = format_dropdown.options[format_dropdown.selectedIndex].value;\n",
       "    fig.ondownload(fig, format);\n",
       "}\n",
       "\n",
       "\n",
       "mpl.figure.prototype.handle_resize = function(fig, msg) {\n",
       "    var size = msg['size'];\n",
       "    if (size[0] != fig.canvas.width || size[1] != fig.canvas.height) {\n",
       "        fig._resize_canvas(size[0], size[1]);\n",
       "        fig.send_message(\"refresh\", {});\n",
       "    };\n",
       "}\n",
       "\n",
       "mpl.figure.prototype.handle_rubberband = function(fig, msg) {\n",
       "    var x0 = msg['x0'] / mpl.ratio;\n",
       "    var y0 = (fig.canvas.height - msg['y0']) / mpl.ratio;\n",
       "    var x1 = msg['x1'] / mpl.ratio;\n",
       "    var y1 = (fig.canvas.height - msg['y1']) / mpl.ratio;\n",
       "    x0 = Math.floor(x0) + 0.5;\n",
       "    y0 = Math.floor(y0) + 0.5;\n",
       "    x1 = Math.floor(x1) + 0.5;\n",
       "    y1 = Math.floor(y1) + 0.5;\n",
       "    var min_x = Math.min(x0, x1);\n",
       "    var min_y = Math.min(y0, y1);\n",
       "    var width = Math.abs(x1 - x0);\n",
       "    var height = Math.abs(y1 - y0);\n",
       "\n",
       "    fig.rubberband_context.clearRect(\n",
       "        0, 0, fig.canvas.width / mpl.ratio, fig.canvas.height / mpl.ratio);\n",
       "\n",
       "    fig.rubberband_context.strokeRect(min_x, min_y, width, height);\n",
       "}\n",
       "\n",
       "mpl.figure.prototype.handle_figure_label = function(fig, msg) {\n",
       "    // Updates the figure title.\n",
       "    fig.header.textContent = msg['label'];\n",
       "}\n",
       "\n",
       "mpl.figure.prototype.handle_cursor = function(fig, msg) {\n",
       "    var cursor = msg['cursor'];\n",
       "    switch(cursor)\n",
       "    {\n",
       "    case 0:\n",
       "        cursor = 'pointer';\n",
       "        break;\n",
       "    case 1:\n",
       "        cursor = 'default';\n",
       "        break;\n",
       "    case 2:\n",
       "        cursor = 'crosshair';\n",
       "        break;\n",
       "    case 3:\n",
       "        cursor = 'move';\n",
       "        break;\n",
       "    }\n",
       "    fig.rubberband_canvas.style.cursor = cursor;\n",
       "}\n",
       "\n",
       "mpl.figure.prototype.handle_message = function(fig, msg) {\n",
       "    fig.message.textContent = msg['message'];\n",
       "}\n",
       "\n",
       "mpl.figure.prototype.handle_draw = function(fig, msg) {\n",
       "    // Request the server to send over a new figure.\n",
       "    fig.send_draw_message();\n",
       "}\n",
       "\n",
       "mpl.figure.prototype.handle_image_mode = function(fig, msg) {\n",
       "    fig.image_mode = msg['mode'];\n",
       "}\n",
       "\n",
       "mpl.figure.prototype.updated_canvas_event = function() {\n",
       "    // Called whenever the canvas gets updated.\n",
       "    this.send_message(\"ack\", {});\n",
       "}\n",
       "\n",
       "// A function to construct a web socket function for onmessage handling.\n",
       "// Called in the figure constructor.\n",
       "mpl.figure.prototype._make_on_message_function = function(fig) {\n",
       "    return function socket_on_message(evt) {\n",
       "        if (evt.data instanceof Blob) {\n",
       "            /* FIXME: We get \"Resource interpreted as Image but\n",
       "             * transferred with MIME type text/plain:\" errors on\n",
       "             * Chrome.  But how to set the MIME type?  It doesn't seem\n",
       "             * to be part of the websocket stream */\n",
       "            evt.data.type = \"image/png\";\n",
       "\n",
       "            /* Free the memory for the previous frames */\n",
       "            if (fig.imageObj.src) {\n",
       "                (window.URL || window.webkitURL).revokeObjectURL(\n",
       "                    fig.imageObj.src);\n",
       "            }\n",
       "\n",
       "            fig.imageObj.src = (window.URL || window.webkitURL).createObjectURL(\n",
       "                evt.data);\n",
       "            fig.updated_canvas_event();\n",
       "            fig.waiting = false;\n",
       "            return;\n",
       "        }\n",
       "        else if (typeof evt.data === 'string' && evt.data.slice(0, 21) == \"data:image/png;base64\") {\n",
       "            fig.imageObj.src = evt.data;\n",
       "            fig.updated_canvas_event();\n",
       "            fig.waiting = false;\n",
       "            return;\n",
       "        }\n",
       "\n",
       "        var msg = JSON.parse(evt.data);\n",
       "        var msg_type = msg['type'];\n",
       "\n",
       "        // Call the  \"handle_{type}\" callback, which takes\n",
       "        // the figure and JSON message as its only arguments.\n",
       "        try {\n",
       "            var callback = fig[\"handle_\" + msg_type];\n",
       "        } catch (e) {\n",
       "            console.log(\"No handler for the '\" + msg_type + \"' message type: \", msg);\n",
       "            return;\n",
       "        }\n",
       "\n",
       "        if (callback) {\n",
       "            try {\n",
       "                // console.log(\"Handling '\" + msg_type + \"' message: \", msg);\n",
       "                callback(fig, msg);\n",
       "            } catch (e) {\n",
       "                console.log(\"Exception inside the 'handler_\" + msg_type + \"' callback:\", e, e.stack, msg);\n",
       "            }\n",
       "        }\n",
       "    };\n",
       "}\n",
       "\n",
       "// from http://stackoverflow.com/questions/1114465/getting-mouse-location-in-canvas\n",
       "mpl.findpos = function(e) {\n",
       "    //this section is from http://www.quirksmode.org/js/events_properties.html\n",
       "    var targ;\n",
       "    if (!e)\n",
       "        e = window.event;\n",
       "    if (e.target)\n",
       "        targ = e.target;\n",
       "    else if (e.srcElement)\n",
       "        targ = e.srcElement;\n",
       "    if (targ.nodeType == 3) // defeat Safari bug\n",
       "        targ = targ.parentNode;\n",
       "\n",
       "    // jQuery normalizes the pageX and pageY\n",
       "    // pageX,Y are the mouse positions relative to the document\n",
       "    // offset() returns the position of the element relative to the document\n",
       "    var x = e.pageX - $(targ).offset().left;\n",
       "    var y = e.pageY - $(targ).offset().top;\n",
       "\n",
       "    return {\"x\": x, \"y\": y};\n",
       "};\n",
       "\n",
       "/*\n",
       " * return a copy of an object with only non-object keys\n",
       " * we need this to avoid circular references\n",
       " * http://stackoverflow.com/a/24161582/3208463\n",
       " */\n",
       "function simpleKeys (original) {\n",
       "  return Object.keys(original).reduce(function (obj, key) {\n",
       "    if (typeof original[key] !== 'object')\n",
       "        obj[key] = original[key]\n",
       "    return obj;\n",
       "  }, {});\n",
       "}\n",
       "\n",
       "mpl.figure.prototype.mouse_event = function(event, name) {\n",
       "    var canvas_pos = mpl.findpos(event)\n",
       "\n",
       "    if (name === 'button_press')\n",
       "    {\n",
       "        this.canvas.focus();\n",
       "        this.canvas_div.focus();\n",
       "    }\n",
       "\n",
       "    var x = canvas_pos.x * mpl.ratio;\n",
       "    var y = canvas_pos.y * mpl.ratio;\n",
       "\n",
       "    this.send_message(name, {x: x, y: y, button: event.button,\n",
       "                             step: event.step,\n",
       "                             guiEvent: simpleKeys(event)});\n",
       "\n",
       "    /* This prevents the web browser from automatically changing to\n",
       "     * the text insertion cursor when the button is pressed.  We want\n",
       "     * to control all of the cursor setting manually through the\n",
       "     * 'cursor' event from matplotlib */\n",
       "    event.preventDefault();\n",
       "    return false;\n",
       "}\n",
       "\n",
       "mpl.figure.prototype._key_event_extra = function(event, name) {\n",
       "    // Handle any extra behaviour associated with a key event\n",
       "}\n",
       "\n",
       "mpl.figure.prototype.key_event = function(event, name) {\n",
       "\n",
       "    // Prevent repeat events\n",
       "    if (name == 'key_press')\n",
       "    {\n",
       "        if (event.which === this._key)\n",
       "            return;\n",
       "        else\n",
       "            this._key = event.which;\n",
       "    }\n",
       "    if (name == 'key_release')\n",
       "        this._key = null;\n",
       "\n",
       "    var value = '';\n",
       "    if (event.ctrlKey && event.which != 17)\n",
       "        value += \"ctrl+\";\n",
       "    if (event.altKey && event.which != 18)\n",
       "        value += \"alt+\";\n",
       "    if (event.shiftKey && event.which != 16)\n",
       "        value += \"shift+\";\n",
       "\n",
       "    value += 'k';\n",
       "    value += event.which.toString();\n",
       "\n",
       "    this._key_event_extra(event, name);\n",
       "\n",
       "    this.send_message(name, {key: value,\n",
       "                             guiEvent: simpleKeys(event)});\n",
       "    return false;\n",
       "}\n",
       "\n",
       "mpl.figure.prototype.toolbar_button_onclick = function(name) {\n",
       "    if (name == 'download') {\n",
       "        this.handle_save(this, null);\n",
       "    } else {\n",
       "        this.send_message(\"toolbar_button\", {name: name});\n",
       "    }\n",
       "};\n",
       "\n",
       "mpl.figure.prototype.toolbar_button_onmouseover = function(tooltip) {\n",
       "    this.message.textContent = tooltip;\n",
       "};\n",
       "mpl.toolbar_items = [[\"Home\", \"Reset original view\", \"fa fa-home icon-home\", \"home\"], [\"Back\", \"Back to previous view\", \"fa fa-arrow-left icon-arrow-left\", \"back\"], [\"Forward\", \"Forward to next view\", \"fa fa-arrow-right icon-arrow-right\", \"forward\"], [\"\", \"\", \"\", \"\"], [\"Pan\", \"Pan axes with left mouse, zoom with right\", \"fa fa-arrows icon-move\", \"pan\"], [\"Zoom\", \"Zoom to rectangle\", \"fa fa-square-o icon-check-empty\", \"zoom\"], [\"\", \"\", \"\", \"\"], [\"Download\", \"Download plot\", \"fa fa-floppy-o icon-save\", \"download\"]];\n",
       "\n",
       "mpl.extensions = [\"eps\", \"jpeg\", \"pdf\", \"png\", \"ps\", \"raw\", \"svg\", \"tif\"];\n",
       "\n",
       "mpl.default_extension = \"png\";var comm_websocket_adapter = function(comm) {\n",
       "    // Create a \"websocket\"-like object which calls the given IPython comm\n",
       "    // object with the appropriate methods. Currently this is a non binary\n",
       "    // socket, so there is still some room for performance tuning.\n",
       "    var ws = {};\n",
       "\n",
       "    ws.close = function() {\n",
       "        comm.close()\n",
       "    };\n",
       "    ws.send = function(m) {\n",
       "        //console.log('sending', m);\n",
       "        comm.send(m);\n",
       "    };\n",
       "    // Register the callback with on_msg.\n",
       "    comm.on_msg(function(msg) {\n",
       "        //console.log('receiving', msg['content']['data'], msg);\n",
       "        // Pass the mpl event to the overridden (by mpl) onmessage function.\n",
       "        ws.onmessage(msg['content']['data'])\n",
       "    });\n",
       "    return ws;\n",
       "}\n",
       "\n",
       "mpl.mpl_figure_comm = function(comm, msg) {\n",
       "    // This is the function which gets called when the mpl process\n",
       "    // starts-up an IPython Comm through the \"matplotlib\" channel.\n",
       "\n",
       "    var id = msg.content.data.id;\n",
       "    // Get hold of the div created by the display call when the Comm\n",
       "    // socket was opened in Python.\n",
       "    var element = $(\"#\" + id);\n",
       "    var ws_proxy = comm_websocket_adapter(comm)\n",
       "\n",
       "    function ondownload(figure, format) {\n",
       "        window.open(figure.imageObj.src);\n",
       "    }\n",
       "\n",
       "    var fig = new mpl.figure(id, ws_proxy,\n",
       "                           ondownload,\n",
       "                           element.get(0));\n",
       "\n",
       "    // Call onopen now - mpl needs it, as it is assuming we've passed it a real\n",
       "    // web socket which is closed, not our websocket->open comm proxy.\n",
       "    ws_proxy.onopen();\n",
       "\n",
       "    fig.parent_element = element.get(0);\n",
       "    fig.cell_info = mpl.find_output_cell(\"<div id='\" + id + \"'></div>\");\n",
       "    if (!fig.cell_info) {\n",
       "        console.error(\"Failed to find cell for figure\", id, fig);\n",
       "        return;\n",
       "    }\n",
       "\n",
       "    var output_index = fig.cell_info[2]\n",
       "    var cell = fig.cell_info[0];\n",
       "\n",
       "};\n",
       "\n",
       "mpl.figure.prototype.handle_close = function(fig, msg) {\n",
       "    var width = fig.canvas.width/mpl.ratio\n",
       "    fig.root.unbind('remove')\n",
       "\n",
       "    // Update the output cell to use the data from the current canvas.\n",
       "    fig.push_to_output();\n",
       "    var dataURL = fig.canvas.toDataURL();\n",
       "    // Re-enable the keyboard manager in IPython - without this line, in FF,\n",
       "    // the notebook keyboard shortcuts fail.\n",
       "    IPython.keyboard_manager.enable()\n",
       "    $(fig.parent_element).html('<img src=\"' + dataURL + '\" width=\"' + width + '\">');\n",
       "    fig.close_ws(fig, msg);\n",
       "}\n",
       "\n",
       "mpl.figure.prototype.close_ws = function(fig, msg){\n",
       "    fig.send_message('closing', msg);\n",
       "    // fig.ws.close()\n",
       "}\n",
       "\n",
       "mpl.figure.prototype.push_to_output = function(remove_interactive) {\n",
       "    // Turn the data on the canvas into data in the output cell.\n",
       "    var width = this.canvas.width/mpl.ratio\n",
       "    var dataURL = this.canvas.toDataURL();\n",
       "    this.cell_info[1]['text/html'] = '<img src=\"' + dataURL + '\" width=\"' + width + '\">';\n",
       "}\n",
       "\n",
       "mpl.figure.prototype.updated_canvas_event = function() {\n",
       "    // Tell IPython that the notebook contents must change.\n",
       "    IPython.notebook.set_dirty(true);\n",
       "    this.send_message(\"ack\", {});\n",
       "    var fig = this;\n",
       "    // Wait a second, then push the new image to the DOM so\n",
       "    // that it is saved nicely (might be nice to debounce this).\n",
       "    setTimeout(function () { fig.push_to_output() }, 1000);\n",
       "}\n",
       "\n",
       "mpl.figure.prototype._init_toolbar = function() {\n",
       "    var fig = this;\n",
       "\n",
       "    var nav_element = $('<div/>');\n",
       "    nav_element.attr('style', 'width: 100%');\n",
       "    this.root.append(nav_element);\n",
       "\n",
       "    // Define a callback function for later on.\n",
       "    function toolbar_event(event) {\n",
       "        return fig.toolbar_button_onclick(event['data']);\n",
       "    }\n",
       "    function toolbar_mouse_event(event) {\n",
       "        return fig.toolbar_button_onmouseover(event['data']);\n",
       "    }\n",
       "\n",
       "    for(var toolbar_ind in mpl.toolbar_items){\n",
       "        var name = mpl.toolbar_items[toolbar_ind][0];\n",
       "        var tooltip = mpl.toolbar_items[toolbar_ind][1];\n",
       "        var image = mpl.toolbar_items[toolbar_ind][2];\n",
       "        var method_name = mpl.toolbar_items[toolbar_ind][3];\n",
       "\n",
       "        if (!name) { continue; };\n",
       "\n",
       "        var button = $('<button class=\"btn btn-default\" href=\"#\" title=\"' + name + '\"><i class=\"fa ' + image + ' fa-lg\"></i></button>');\n",
       "        button.click(method_name, toolbar_event);\n",
       "        button.mouseover(tooltip, toolbar_mouse_event);\n",
       "        nav_element.append(button);\n",
       "    }\n",
       "\n",
       "    // Add the status bar.\n",
       "    var status_bar = $('<span class=\"mpl-message\" style=\"text-align:right; float: right;\"/>');\n",
       "    nav_element.append(status_bar);\n",
       "    this.message = status_bar[0];\n",
       "\n",
       "    // Add the close button to the window.\n",
       "    var buttongrp = $('<div class=\"btn-group inline pull-right\"></div>');\n",
       "    var button = $('<button class=\"btn btn-mini btn-primary\" href=\"#\" title=\"Stop Interaction\"><i class=\"fa fa-power-off icon-remove icon-large\"></i></button>');\n",
       "    button.click(function (evt) { fig.handle_close(fig, {}); } );\n",
       "    button.mouseover('Stop Interaction', toolbar_mouse_event);\n",
       "    buttongrp.append(button);\n",
       "    var titlebar = this.root.find($('.ui-dialog-titlebar'));\n",
       "    titlebar.prepend(buttongrp);\n",
       "}\n",
       "\n",
       "mpl.figure.prototype._root_extra_style = function(el){\n",
       "    var fig = this\n",
       "    el.on(\"remove\", function(){\n",
       "\tfig.close_ws(fig, {});\n",
       "    });\n",
       "}\n",
       "\n",
       "mpl.figure.prototype._canvas_extra_style = function(el){\n",
       "    // this is important to make the div 'focusable\n",
       "    el.attr('tabindex', 0)\n",
       "    // reach out to IPython and tell the keyboard manager to turn it's self\n",
       "    // off when our div gets focus\n",
       "\n",
       "    // location in version 3\n",
       "    if (IPython.notebook.keyboard_manager) {\n",
       "        IPython.notebook.keyboard_manager.register_events(el);\n",
       "    }\n",
       "    else {\n",
       "        // location in version 2\n",
       "        IPython.keyboard_manager.register_events(el);\n",
       "    }\n",
       "\n",
       "}\n",
       "\n",
       "mpl.figure.prototype._key_event_extra = function(event, name) {\n",
       "    var manager = IPython.notebook.keyboard_manager;\n",
       "    if (!manager)\n",
       "        manager = IPython.keyboard_manager;\n",
       "\n",
       "    // Check for shift+enter\n",
       "    if (event.shiftKey && event.which == 13) {\n",
       "        this.canvas_div.blur();\n",
       "        event.shiftKey = false;\n",
       "        // Send a \"J\" for go to next cell\n",
       "        event.which = 74;\n",
       "        event.keyCode = 74;\n",
       "        manager.command_mode();\n",
       "        manager.handle_keydown(event);\n",
       "    }\n",
       "}\n",
       "\n",
       "mpl.figure.prototype.handle_save = function(fig, msg) {\n",
       "    fig.ondownload(fig, null);\n",
       "}\n",
       "\n",
       "\n",
       "mpl.find_output_cell = function(html_output) {\n",
       "    // Return the cell and output element which can be found *uniquely* in the notebook.\n",
       "    // Note - this is a bit hacky, but it is done because the \"notebook_saving.Notebook\"\n",
       "    // IPython event is triggered only after the cells have been serialised, which for\n",
       "    // our purposes (turning an active figure into a static one), is too late.\n",
       "    var cells = IPython.notebook.get_cells();\n",
       "    var ncells = cells.length;\n",
       "    for (var i=0; i<ncells; i++) {\n",
       "        var cell = cells[i];\n",
       "        if (cell.cell_type === 'code'){\n",
       "            for (var j=0; j<cell.output_area.outputs.length; j++) {\n",
       "                var data = cell.output_area.outputs[j];\n",
       "                if (data.data) {\n",
       "                    // IPython >= 3 moved mimebundle to data attribute of output\n",
       "                    data = data.data;\n",
       "                }\n",
       "                if (data['text/html'] == html_output) {\n",
       "                    return [cell, data, j];\n",
       "                }\n",
       "            }\n",
       "        }\n",
       "    }\n",
       "}\n",
       "\n",
       "// Register the function which deals with the matplotlib target/channel.\n",
       "// The kernel may be null if the page has been refreshed.\n",
       "if (IPython.notebook.kernel != null) {\n",
       "    IPython.notebook.kernel.comm_manager.register_target('matplotlib', mpl.mpl_figure_comm);\n",
       "}\n"
      ],
      "text/plain": [
       "<IPython.core.display.Javascript object>"
      ]
     },
     "metadata": {},
     "output_type": "display_data"
    },
    {
     "data": {
      "text/html": [
       "<img src=\"data:image/png;base64,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\" width=\"640\">"
      ],
      "text/plain": [
       "<IPython.core.display.HTML object>"
      ]
     },
     "metadata": {},
     "output_type": "display_data"
    }
   ],
   "source": [
    "from numpy import max\n",
    "import matplotlib.pyplot as plt\n",
    "plt.plot(tefs,Ks,'k-',label=\"$K$\")\n",
    "plt.plot(tefs,Us,'b--',label=\"$|U|$\")\n",
    "plt.plot(tefs,Es,'r:',label=\"$|E|$\")\n",
    "\n",
    "plt.legend()\n",
    "plt.ylim(0,max(Us));\n",
    "plt.xlabel(\"$t_{ef}$ (segundos)\");\n",
    "plt.ylabel(\"$K,|U|,|E|$ (Joules)\");"
   ]
  },
  {
   "cell_type": "markdown",
   "metadata": {},
   "source": [
    "<a id='code:virial_sistema_solar'></a><center><b>Figura 6.25.</b> </center>"
   ]
  },
  {
   "cell_type": "markdown",
   "metadata": {},
   "source": [
    "Como podemos ver en la Figura ([code:virial_sistema_solar](#fig:code:virial_sistema_solar)), los resultados coinciden otra vez con nuestras expectativas: \n",
    "\n",
    "- La energía total $E$ (línea punteada) es constante, confirmando la validez del teorema de conservación de la energía mecánica en el Sistema Solar.\n",
    "\n",
    "- El valor promedio de la energía cinética del sistema (promedio de la línea continua) es igual al valor absoluto de la energía total, lo que confirma el teorema del Virial (Ec. [teorema_virial_EK](#mjx-eqn-eq%3Ateorema_virial_EK)).\n",
    "\n",
    "- El valor absoluto del promedio de la energía potencial del sistema (promedio de la línea rayada), es el doble que el promedio de la energía cinética, lo que confirma también el teorema del Virial (Ec. [teorema_virial_UK](#mjx-eqn-eq%3Ateorema_virial_UK))."
   ]
  },
  {
   "cell_type": "markdown",
   "metadata": {},
   "source": [
    "### 6.3.5. Caso de estudio: la masa de cúmulos de galaxias\n",
    "<a id='masa_cumulos_galaxias'></a>"
   ]
  },
  {
   "cell_type": "markdown",
   "metadata": {},
   "source": [
    "<a id='fig:coma_cluster'></a>![Mosaico en falso color del cúmulo de Galaxias de Coma que combina imágenes en luz visible e infrarrojo. Crédito: NASA / JPL-Caltech / L. Jenkins (GSFC).++t++0.7++\\label{fig:coma_cluster}](./figures/square_coma_cluster.png)\n",
    "\n",
    "<center><b>Figura 6.26</b>. Mosaico en falso color del cúmulo de Galaxias de Coma que combina imágenes en luz visible e infrarrojo. Crédito: NASA / JPL-Caltech / L. Jenkins (GSFC).</center>"
   ]
  },
  {
   "cell_type": "markdown",
   "metadata": {},
   "source": [
    "Otro interesante caso de aplicación del teorema del virial en astronomía, tiene que ver con el estudio la distribución de masa en cúmulos de estrellas y galaxias.  "
   ]
  },
  {
   "cell_type": "markdown",
   "metadata": {},
   "source": [
    "Se dice que un cúmulo de galaxias, estrellas o simplemente de \"partículas\" de materia oscura, esta \"virializado\", si ha alcanzado un estado dinámico en el cuál el teorema del virial describe apropiadamente los promedios estadísticos de sus propiedades cinemáticas (velocidades y posiciones.)  En virtud de las condiciones del Teo. (\\ref{box:teo:virial}), esto significa, esencialmente, que el sistema es ligado o estable a largo plazo."
   ]
  },
  {
   "cell_type": "markdown",
   "metadata": {},
   "source": [
    "Si asumimos que las partículas del cúmulo tienen una distribución esférica con una densidad aproximadamente uniforme y con un radio característico $R_\\mathrm{vir}$ (dentro del cual hay una masa $M_\\mathrm{vir}$), la energía potencial promedio del cúmulo será igual a:\n",
    "\n",
    "$$\n",
    "\\langle U\\rangle=-\\frac{3GM_\\mathrm{vir}^2}{5R_\\mathrm{vir}}\n",
    "$$"
   ]
  },
  {
   "cell_type": "markdown",
   "metadata": {},
   "source": [
    "Por su parte si asumimos que todas las partículas tienen la misma masa, el promedio de la energía cinética total será:\n",
    "\n",
    "$$\n",
    "\\langle K\\rangle=\\frac{1}{2} M_\\mathrm{vir}\\langle v^2\\rangle\n",
    "$$"
   ]
  },
  {
   "cell_type": "markdown",
   "metadata": {},
   "source": [
    "Usando el teorema del virial obtenemos:\n",
    "\n",
    "\\begin{equation}\n",
    "\\label{eq:virial_v_dispersion}\n",
    "\\frac{3GM_\\mathrm{vir}}{5R_\\mathrm{vir}}=\\langle v^2\\rangle\n",
    "\\end{equation}"
   ]
  },
  {
   "cell_type": "markdown",
   "metadata": {},
   "source": [
    "Si se puede estimar o medir el radio del sistema y el promedio del cuadrado de las rapideces de las partículas, la masa se puede de un cúmulo se puede estimar usando:\n",
    "\n",
    "$$\n",
    "M_\\mathrm{vir}=\\frac{5R_\\mathrm{vir}\\langle v^2\\rangle}{3G}\n",
    "$$"
   ]
  },
  {
   "cell_type": "markdown",
   "metadata": {},
   "source": [
    "En el algoritmo a continuación estimamos la masa de virial del cúmulo de Coma (ver Figura ([coma_cluster](#fig:coma_cluster))) para el cuál se ha estimado que $R_\\mathrm{vir}\\approx 2\\times 10^6$ pc (parsecs[$^5$](#notaspie_5)) y $\\langle v^2\\rangle^{1/2}\\approx 1.000$ km/s (datos obtenidos de <cite data-cite=\"Gavazzi2009ComaCluster\"><a href=\"mybook.html#Gavazzi2009ComaCluster\">Gavazzi et al., 2019</a></cite> y <cite data-cite=\"Struble1999ComaCluster\"><a href=\"mybook.html#Struble1999ComaCluster\">Strubble et al., 2019</a></cite> respectivamente): "
   ]
  },
  {
   "cell_type": "markdown",
   "metadata": {},
   "source": [
    "<a id='code:masa_coma_cluster'></a>"
   ]
  },
  {
   "cell_type": "code",
   "execution_count": 6,
   "metadata": {
    "codelabel": "code:masa_coma_cluster",
    "codeplot": 0,
    "tags": [
     "code:masa_coma_cluster"
    ]
   },
   "outputs": [],
   "source": [
    "#Constante gravitacional\n",
    "G=6.67e-20 # km^3 / kg s^2\n",
    "\n",
    "#Parsec y año-luz\n",
    "pc=3.26\n",
    "al=9.46e12 #km \n",
    "\n",
    "#Radio del viral\n",
    "Rvir=2e6*pc*al\n",
    "\n",
    "#Dispersión de velocidades\n",
    "v2=1000**2\n",
    "\n",
    "#Masa del virial del cúmulo\n",
    "Mvir=5*Rvir*v2/(3*G)"
   ]
  },
  {
   "cell_type": "code",
   "execution_count": 7,
   "metadata": {
    "codelabel": "",
    "codeplot": 0,
    "tags": [
     "hide_input"
    ]
   },
   "outputs": [
    {
     "name": "stdout",
     "output_type": "stream",
     "text": [
      "Masa del virial del cúmulo de Coma:\n",
      "1.5412093953023487e+45 kg\n"
     ]
    }
   ],
   "source": [
    "print(f\"Masa del virial del cúmulo de Coma:\\n{Mvir} kg\")"
   ]
  },
  {
   "cell_type": "markdown",
   "metadata": {},
   "source": [
    "Que equivale a $\\sim7\\times10^{14}\\;M_\\odot$ ($1\\;M_\\odot\\approx 2\\times10^{30}$ kg), o lo que es lo mismo a la masa de las estrellas y el gas de unas 10.000 galaxias típicas."
   ]
  },
  {
   "cell_type": "markdown",
   "metadata": {
    "label": "",
    "subtitle": "Fritz Zwicky, el teorema del virial y la materia oscura",
    "tags": [
     "box_history"
    ],
    "title": "Un poco de historia"
   },
   "source": [
    "> **:Un poco de historia: Fritz Zwicky, el teorema del virial y la materia oscura.** La estimación de la masa del cúmulo de Coma, usando el teorema del virial, que presentamos aquí, reproduce el trabajo del reconocido astrónomo suizo Fritz Zwicky ([\"Fritz tsviky\"](https://es.forvo.com/search/Fritz%20Zwicky/en/)), uno de los primeros en aplicar el teorema en Astronomía.  \n",
    "\n",
    "> En 1933, Zwicky presento en la revista Suiza *Helvetica Physica Acta* un artículo titulado \"*El desplazamiento al rojo de las nebulosas extragalácticas*\".  En este artículo, usando estimaciones del número y la masa de las galaxias del Cúmulo (que midió a partir de su luminosidad), así como medidas de su radio aproximado, Zwicky calculó la dispersión de velocidades $\\langle v^2\\rangle$ con la Ec. ([virial_v_dispersion](#mjx-eqn-eq%3Avirial_v_dispersion)).  \n",
    "\n",
    "> Para su sorpresa las velocidades típicas estimadas con el teorema del virial para las galaxias en el cúmulo, $\\langle v^2\\rangle^{1/2}\\approx 80$ km/s, eran casi 10 veces menores que las que se obtenían al medir el corrimiento espectral de la luz de las galaxias.  Es decir, las galaxias reales se estaban moviendo tan rápido en el cúmulo que este sistema no podría estar ligado (satisfacer el teorema del virial).  \n",
    "\n",
    "> Otra posibilidad era que la masa usada en la Ec. ([virial_v_dispersion](#mjx-eqn-eq%3Avirial_v_dispersion)) y que el supuso podía estimar a partir de la materia luminosa de las galaxias, fuera en realidad 10 veces mayor.  Esto implicaba la existencia de una forma de materia invisible (que no emite luz) y que Zwicky llamo en su artículo en alemán *dunkle Materie* o Materia oscura.  \n",
    "\n",
    "> En 1937, Zwicky publicó, en inglés, una versión extendida de su trabajo en la prestigiosa revista americana *The Astrophysical Journal* (<cite data-cite=\"Zwicky1937Clusters\"><a href=\"mybook.html#Zwicky1937Clusters\">Zwicky, 1937</a></cite>), donde estimó la masa del cúmulo, a partir de la dispersión de velocidades medida, siguiendo un procedimiento similar al desarrollado aquí.  El resultado confirmo sus estimaciones de 1933: el cúmulo de Coma, que contiene unas $\\sim 1000$ galaxias, tiene una masa equivalente a $\\sim 10000$ galaxias (tal y como estimamos en el Algoritmo [masa_coma_cluser](#code:masa_coma_cluser).) Es decir el contenido de materia oscura del cúmulo, supera por un factor de $\\sim 10$ el de materia luminosa (estrellas y nubes de gas).\n",
    "\n",
    "> Hoy la existencia de la materia oscura es soportada por un gran número de observaciones diferentes (curvas de rotación de galaxias, formación de grandes estructuras, lentes gravitacionales, etc.) pero su naturaleza física (en el tiempo de Zwicky se sospechaba que podría ser simplemente materia convencional poco luminosa) ha escapado a los más sesudos esfuerzos teóricos y a las más delicadas búsquedas experimentales.  A la fecha de preparación de este libro el misterio de la composición de la materia oscura, cuya existencia fue sugerida por una ingeniosa aplicación del teorema del virial, sigue abierto."
   ]
  },
  {
   "cell_type": "markdown",
   "metadata": {
    "tags": [
     "footnote"
    ]
   },
   "source": [
    "**NOTAS AL PIE:**\n",
    "\n",
    "<a id='notaspie_1'></a>\n",
    "1. La definición del momento de inercia aparece originalmente en la mecánica newtoniana al estudiar la cinemática y dinámica del movimiento de cuerpos rígidos.\n",
    "\n",
    "<a id='notaspie_2'></a>\n",
    "2. En realidad el \"virial\" original de Clausius, por razones que de verán en la [Sección *teorema del virial*\n",
    "\n",
    "<a id='notaspie_3'></a>\n",
    "3. Es interesante anotar que para que $I$ crezca indefinidamente, basta que al menos una partícula, por ejemplo la partícula $k$, escape del sistema, esto es que $r_k\\rightarrow\\infty$ cuando $t\\rightarrow\\infty$.\n",
    "\n",
    "<a id='notaspie_4'></a>\n",
    "4. La condición de que $G$ este acotada es demasiado restringente.  Es posible mostrar, por ejemplo, que en el caso de un sistema de dos cuerpos que se mueven sobre una parábola, también se cumple el teorema del Virial. Por lo tanto, existe una condición mucho más general y satisfactoria para formular el teorema que puede encontrarse en <cite data-cite=\"Pollard1964Virial,\"><a href=\"mybook.html#Pollard1964Virial\">(Pollard, 1964)</a></cite>. Esta condición sin embargo no afecta las conclusiones que obtenemos en este libro para sistemas generals\n",
    "\n",
    "<a id='notaspie_5'></a>\n",
    "5. 1 parsec = 3.26 a.l., 1 año-luz = $9.46\\times 10^{12}$ km\n",
    "\n"
   ]
  }
 ],
 "metadata": {
  "celltoolbar": "Tags",
  "kernelspec": {
   "display_name": "Python 3",
   "language": "python",
   "name": "python3"
  },
  "language_info": {
   "codemirror_mode": {
    "name": "ipython",
    "version": 3
   },
   "file_extension": ".py",
   "mimetype": "text/x-python",
   "name": "python",
   "nbconvert_exporter": "python",
   "pygments_lexer": "ipython3",
   "version": "3.6.8"
  }
 },
 "nbformat": 4,
 "nbformat_minor": 2
}
