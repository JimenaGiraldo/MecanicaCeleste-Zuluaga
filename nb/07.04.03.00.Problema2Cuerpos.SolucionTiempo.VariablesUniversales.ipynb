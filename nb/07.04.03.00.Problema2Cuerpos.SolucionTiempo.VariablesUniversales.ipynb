{
 "cells": [
  {
   "cell_type": "markdown",
   "metadata": {
    "tags": [
     "navigation"
    ]
   },
   "source": [
    "[Indice](index.ipynb) | Previo: [Problema2Cuerpos.SolucionTiempo.Sintesis](07.04.02.00.Problema2Cuerpos.SolucionTiempo.Sintesis.ipynb) | Siguiente: [Problema2Cuerpos.AproximacionJerarquico](07.05.00.00.Problema2Cuerpos.AproximacionJerarquico.ipynb)"
   ]
  },
  {
   "cell_type": "markdown",
   "metadata": {},
   "source": [
    "## 7.12. Variables universales\n",
    "<a id='variables_universales'></a>"
   ]
  },
  {
   "cell_type": "markdown",
   "metadata": {},
   "source": [
    "Como hemos visto, el cálculo de la anomalía verdadera del vector relativo como función del tiempo en el problema de los dos cuerpos, se consigue después de resolver la ecuación de Halley o la ecuación de Kepler.  En términos algorítmicos, como hemos visto en esta sección, el procedimiento puede hacerse bastante engorroso en tanto se hace necesario evaluar en distintos pasos sobre que cónica exactamente ocurre el movimiento."
   ]
  },
  {
   "cell_type": "markdown",
   "metadata": {},
   "source": [
    "En 1912, Karl Sundman descubrió un cambio de variable muy útil en el problema de los dos cuerpos que permite obtener lo que podríamos llamar una ecuación de kepler unificada o universal que es válida sin importar la cónica sobre la que se mueva el vector relativo.  La teoría de Sundman, fue desarrollada con muchas y diversas variantes durante el resto de los 1900, hasta convertirse en la que se conoce hoy en día como la *formulación universal* del problema de Kepler."
   ]
  },
  {
   "cell_type": "markdown",
   "metadata": {},
   "source": [
    "La formulación presentada aquí es original pero no necesariamente es la más general o rigurosa de las que se han concebido.  Para algunas versiones alternativas se invita al lector a explorar los ahora textos clásicos de Bate y otros <cite data-cite=\"Bate1971Astrodynamics\"><a href=\"mybook.html#Bate1971Astrodynamics\">(Bate et al., 1971)</a></cite> y Danby <cite data-cite=\"Danby1992CelestialMechanics\"><a href=\"mybook.html#Danby1992CelestialMechanics\">(Danby, 1992)</a></cite> y las referencias incluídas en ellos."
   ]
  },
  {
   "cell_type": "markdown",
   "metadata": {},
   "source": [
    "Considere por ejemplo la ecuación de Halley escrita en la forma:\n",
    "\n",
    "$$\n",
    "\\sqrt{\\frac{\\mu}{p^3}}(t-t_p)=\\frac{1}{2}\\tan\\frac{f}{2}+\\frac{1}{6}\\tan^3\\frac{f}{2}\n",
    "$$"
   ]
  },
  {
   "cell_type": "markdown",
   "metadata": {},
   "source": [
    "Es fácil ver mostrar que si introducimos la variable auxiliar $x=\\sqrt{p}\\tan(f/2)$, la ecuación adopta la forma:\n",
    "\n",
    "\\begin{equation}\n",
    "\\label{eq:parabola_universal}\n",
    "\\sqrt{\\mu}(t-t_p)=qx+\\frac{x^3}{3!}\n",
    "\\end{equation}\n",
    "donde $q=p/2$.\n",
    "\n",
    "¿Qué puede tener de especial esta forma particular de la ecuación de Halley?"
   ]
  },
  {
   "cell_type": "markdown",
   "metadata": {},
   "source": [
    "Escribamos ahora la ecuación de Kepler para órbitas elípticas:\n",
    "\n",
    "$$\n",
    "\\sqrt{\\frac{\\mu}{a^3}}(t-t_p)=E-e\\sin E\n",
    "$$\n",
    "\n",
    "Si usamos la expansión en series de potencias de la función seno:\n",
    "\n",
    "$$\n",
    "\\sin E=E-\\frac{E^3}{3!}+\\frac{E^5}{5!}+\\ldots\n",
    "$$\n",
    "la ecuación de Kepler queda:\n",
    "\n",
    "$$\n",
    "\\sqrt{\\frac{\\mu}{a^3}}(t-t_p)=(1-e)E+\\frac{E^3}{3!}-\\frac{E^5}{5!}+\\ldots\n",
    "$$"
   ]
  },
  {
   "cell_type": "markdown",
   "metadata": {},
   "source": [
    "Ahora bien, reconociendo que $q=a(1-e)$ y haciendo $x\\equiv\\sqrt{a}E$ y $\\alpha\\equiv1/a$, la ecuación de Kepler para órbitas elípticas se puede escribir de la forma:\n",
    "\n",
    "\\begin{equation}\n",
    "\\label{eq:kepler_universal}\n",
    "\\sqrt{\\mu}(t-t_p)=qx+ex^3\\left(\\frac{1}{3!}-\\alpha\\frac{x^2}{5!}+\\alpha^2\\frac{x^4}{7!}\\ldots\\right)\n",
    "\\end{equation}\n",
    "\n",
    "El parecido entre esta versión de la ecuación de Kepler y la ecuación de Halley escrita en la forma de la Ec. ([parabola_universal](#mjx-eqn-eq%3Aparabola_universal)) es simplemente asombroso. Basta notar que cuando se hace $e=1$ y $a\\rightarrow\\infty$ en la ecuación de Kepler escrita en la forma de la Ec. ([kepler_universal](#mjx-eqn-eq%3Akepler_universal)) se obtiene justamente la ecuación de Halley. Dos ecuaciones que fueron obtenidas con procedimientos geométricos y analíticos completamente diferentes, al expresarse en la forma de series infinitas revelan su parentesco de forma increible."
   ]
  },
  {
   "cell_type": "markdown",
   "metadata": {},
   "source": [
    "Pero las sorpresas continúan cuando consideramos la ecuación de Kepler en el caso hiperbólico:\n",
    "\n",
    "$$\n",
    "\\sqrt{\\frac{\\mu}{a^3}}(t-t_p)=e\\sinh F-F\n",
    "$$\n",
    "\n",
    "Usando, de forma análoga a como lo hicimos en el caso de la elipse, la expansión en series de Taylor de la función seno hiperbólico:\n",
    "\n",
    "$$\n",
    "\\sinh F=F+\\frac{F^3}{3!}+\\frac{F^5}{5!}+\\ldots\n",
    "$$\n",
    "la ecuación de Kepler en este caso se escribe como:\n",
    "\n",
    "$$\n",
    "\\sqrt{\\frac{\\mu}{|a|^3}}(t-t_p)=(e-1)F+\\frac{F^3}{3!}+\\frac{F^5}{5!}+\\ldots\n",
    "$$"
   ]
  },
  {
   "cell_type": "markdown",
   "metadata": {},
   "source": [
    "Si reconocemos que $a<0$, $q=|a|(1-e)$ y hacemos $x=\\sqrt{|a|}F$, obtenemos nuevamente la Ec. ([kepler_universal](#mjx-eqn-eq%3Akepler_universal)):\n",
    "\n",
    "$$\n",
    "\\sqrt{\\mu}(t-t_p)=qx+ex^3\\left(\\frac{1}{3!}-\\alpha\\frac{x^2}{5!}+\\alpha^2\\frac{x^4}{7!}\\ldots\\right)\n",
    "$$"
   ]
  },
  {
   "cell_type": "markdown",
   "metadata": {},
   "source": [
    "En el paréntesis del lado derecho de la última ecuación se reconocen claramente las series de Stumpff que introdujimos en la [Sección *Series infinitas*](Not Found#series_infinitas).  En términos de estas series la **ecuación universal de Kepler** queda: \n",
    "\n",
    "\\begin{equation}\n",
    "\\label{eq:kepler_universal_stumpff}\n",
    "\\sqrt{\\mu}(t-t_p)=qx+ex^3c_3(\\alpha x^2)\n",
    "\\end{equation}\n",
    "donde la **variable universal** $x$ se puede expresar en términos de las anomalías como:\n",
    "\n",
    "$$\n",
    "x=\n",
    "\\left\\{\n",
    "\\begin{array}{cc}\n",
    "\\sqrt{p}\\tan(f/2) & \\mathrm{Si}\\; e=1\\\\ \n",
    "\\sqrt{|a|}G & \\mathrm{Si}\\; e=1\\\\ \n",
    "\\end{array}\n",
    "\\right.\n",
    "$$\n",
    "y $G$ es la anomalía excéntrica generalizada ($G=E$ en el caso de la elipse y $G=F$ en el caso de la hipérbola.)"
   ]
  },
  {
   "cell_type": "markdown",
   "metadata": {},
   "source": [
    "La solución a la *ecuación universal de Kepler* se puede obtener usando algunos de los métodos que vimos en la [Sección *Solución numérica a la ecuación de Kepler*](Not Found#kepler_numerica).  \n",
    "\n",
    "Para ello, sin embargo es necesario primero escribir una rutina que permita calcular la *función universal de Kepler*:\n",
    "\n",
    "$$\n",
    "k_x(x;M,e,q)=qx+ex^3c_3(\\alpha x^2)-M_u\n",
    "$$\n",
    "donde $M_u=\\sqrt{\\mu}(t-t_p)$ es una *anomalía media generalizada* (valida para cualquier cónica) y sus derivadas, para lo cual podemos usar las relaciones de recurrencia de las derivadas de las series de Stumpff vistas en la [Sección *Series infinitas*](Not Found#series_infinitas) (Ecs. [stumpff_derivadas_recurrencia](#mjx-eqn-eq%3Astumpff_derivadas_recurrencia)):\n",
    "\n",
    "\\begin{eqnarray}\n",
    "\\nonumber\n",
    "\\frac{\\mathrm{d}k_u}{\\mathrm{d}x} & = & q+e x^2c_2(\\alpha x^2)\\\\\n",
    "\\frac{\\mathrm{d}^2k_u}{\\mathrm{d}x^2} & = & e x c_1(\\alpha x^2)\\\\\n",
    "\\end{eqnarray}\n"
   ]
  },
  {
   "cell_type": "markdown",
   "metadata": {},
   "source": [
    "La rutina que implementa la ecuación universal de Kepler será:"
   ]
  },
  {
   "cell_type": "markdown",
   "metadata": {},
   "source": [
    "<a id='code:funcion_universal_kepler'></a>"
   ]
  },
  {
   "cell_type": "code",
   "execution_count": 18,
   "metadata": {
    "codelabel": "",
    "codeplot": 0,
    "tags": [
     "export",
     "code:funcion_universal_kepler"
    ]
   },
   "outputs": [],
   "source": [
    "def funcion_universal_kepler(x,M,e,q):\n",
    "    #Parametro alga\n",
    "    alfa=(1-e)/q\n",
    "    #Funcion universal de Kepler\n",
    "    from pymcel.export import serie_stumpff\n",
    "    k=q*x+e*x**3*serie_stumpff(alfa*x**2,3)-M\n",
    "    kp=q+e*x**2*serie_stumpff(alfa*x**2,2)\n",
    "    kpp=q+e*x*serie_stumpff(alfa*x**2,1)\n",
    "    return k,kp,kpp"
   ]
  },
  {
   "cell_type": "markdown",
   "metadata": {},
   "source": [
    "Usando esta rutina podemos ahora aplicar el método de Newton o el más general método de Laguerre para resolver la ecuación:"
   ]
  },
  {
   "cell_type": "code",
   "execution_count": 28,
   "metadata": {
    "codelabel": "",
    "codeplot": 0
   },
   "outputs": [],
   "source": [
    "#Propiedades del sistema\n",
    "mu=1.0\n",
    "p=2.0\n",
    "tp=0.0\n",
    "t=10.0\n",
    "e=1.5\n",
    "a=p/(1-e**2)\n",
    "q=p/(1+e)\n",
    "\n",
    "#Anomalía media generalizada\n",
    "from numpy import sqrt\n",
    "M=sqrt(mu)*(t-tp)\n",
    "\n",
    "#Solución usando variables universales\n",
    "from pymcel.export import metodo_laguerre\n",
    "x,errorx,ni=metodo_laguerre(funcion_universal_kepler,\n",
    "                            x0=M,args=(M,e,q),delta=1e-14)\n",
    "Euni=x/sqrt(abs(a))\n",
    "errorEuni=errorx/sqrt(abs(a))\n",
    "\n",
    "#Solución usando la ecuación de Kepler\n",
    "from pymcel.export import kepler_newton\n",
    "n=sqrt(mu/abs(a)**3)\n",
    "M=n*(t-tp)\n",
    "E,errorE,niE=kepler_newton(M,e,delta=1e-14)"
   ]
  },
  {
   "cell_type": "code",
   "execution_count": 29,
   "metadata": {
    "codelabel": "",
    "codeplot": 0,
    "tags": [
     "hide_input"
    ]
   },
   "outputs": [
    {
     "name": "stdout",
     "output_type": "stream",
     "text": [
      "E (con variables universales): 130.32287447321414 grados (error 0.0)\n",
      "E (con ecuación de Kepler): 130.32287447321414 grados (error 0.0)\n"
     ]
    }
   ],
   "source": [
    "from numpy import pi\n",
    "print(f\"E (con variables universales): {Euni*180/pi} grados (error {errorEuni*Euni*180/pi})\")\n",
    "print(f\"E (con ecuación de Kepler): {E*180/pi} grados (error {errorE*E*180/pi})\")"
   ]
  },
  {
   "cell_type": "markdown",
   "metadata": {},
   "source": [
    "### 7.12.1. Las funciones $f$ y $g$\n",
    "<a id='funciones_fg'></a>"
   ]
  },
  {
   "cell_type": "markdown",
   "metadata": {},
   "source": [
    "Si la aproximación de variables universales que vimos en la sección anterior tuviera el único propósito de unificar la ecuación de Kepler para distintas cónicas, simplificar su solución o escribir algoritmos más efectivos para encontrarla, este formalismo sería poco más que una curiosidad matemática o numérica sin mayor trascendencia.  Sin embargo, hay otros aspecto de esta manera de parametrizar el problema que hace de las variables universales un tema de primera importancia en la solución al problema de los dos cuerpos en mecánica celeste. "
   ]
  },
  {
   "cell_type": "markdown",
   "metadata": {},
   "source": [
    "Considere por ejemplo la siguiente cuestión.  En el conjunto pasos descritos en la [Sección *Síntesis del problema de los dos cuerpos*](Not Found#sintesis_doscuerpos), vimos que para predecir el estado en cualquier instante del tiempo del vector relativo, es necesario primero convertir el vector de estado inicial ${\\vec x}(t_0):[{\\vec r}(t_0)\\;\\dot{\\vec r}(t_0)]$ en elementos orbitales, de allí, encontrar, usando la ecuación de Kepler o de Halley, la anomalía verdadera en el instante deseado y finalmente convertir los elementos orbitales, incluyendo la nueva anomalía, en el vector de estado buscado ${\\vec x}(t):[{\\vec r}(t)\\;\\dot{\\vec r}(t)]$. ¿Habrá una manera de encontrar el vector de estado en el tiempo $t$ usando solamente el vector de estado en el instante inicial, sin pasar por la conversión hacia y desde los elementos orbitales?"
   ]
  },
  {
   "cell_type": "markdown",
   "metadata": {},
   "source": [
    "Si nos restringimos al plano natural de la cónica, sabemos que los vectores de ${\\vec r}(t)$, $\\dot{\\vec r}(t)$ son coplanares con los vectores ${\\vec r}(t_0)$, $\\dot{\\vec r}(t_0)$.  Esto implica que podemos expresar, por ejemplo, el vector posición en el tiempo $t$ como una combinación lineal de la posición y la velocidad inicial:\n",
    "\n",
    "\\begin{equation}\n",
    "\\label{eq:r_fg}\n",
    "{\\vec r}(t) =  f {\\vec r}(t_0)+g \\dot{\\vec r}(t_0)\n",
    "\\end{equation}\n",
    "donde $f$ y $g$ son cantidades desconocidas que dependeran naturalmente del tiempo."
   ]
  },
  {
   "cell_type": "markdown",
   "metadata": {},
   "source": [
    "Dado que ${\\vec r}(t_0)$, $\\dot{\\vec r}(t_0)$ son constantes, la velocidad en el tiempo $t$ será por su parte:\n",
    "\n",
    "\\begin{equation}\n",
    "\\label{eq:v_fg}\n",
    "{\\vec v}(t) =  \\dot{f} {\\vec r}(t_0)+\\dot{g} \\dot{\\vec r}(t_0)\n",
    "\\end{equation}"
   ]
  },
  {
   "cell_type": "markdown",
   "metadata": {},
   "source": [
    "¿Cómo son las funciones $f$ y $g$? ¿se pueden escribir de modo que no dependan de los elementos orbitales y solo lo hagan del tiempo o de otras cantidades estrictamente relacionadas con la posición y velocidad inicial?  Aunque no nos detendremos aquí a ahondar en esta importante cuestión, nos bastará, para los propósitos de este libro, con decir que la respuesta a estas preguntas es afirmativa y que las expresiones más generales de las funciones $f$ y $g$ se obtienen precisamente en el formalismo de las variables universales.  El lector curioso puede conocer la deducción de las fórmulas provistas a continuación en cualquier texto avanzado de mecánica celeste <cite data-cite=\"Danby1992CelestialMechanics\"><a href=\"mybook.html#Danby1992CelestialMechanics\">(Danby, 1992)</a></cite>.  Algunas deducciones relacionadas se incluyen en los problemas al final de este capítulo."
   ]
  },
  {
   "cell_type": "markdown",
   "metadata": {},
   "source": [
    "Las funciones $f$ y $g$ como función del tiempo y de su estado inicial se pueden calcular usando las ecuaciones:\n",
    "\n",
    "\\begin{eqnarray}\n",
    "\\label{eq:f_s}\n",
    "f(s) & = & 1-\\left(\\frac{\\mu}{r_0}\\right)s^2 c_2(\\beta s^2)\\\\\n",
    "\\label{eq:g_s}\n",
    "g(s) & = & t-t_0-\\mu s^3 c_3(\\beta s^2)\\\\\n",
    "\\label{eq:dotf_s}\n",
    "\\dot{f}(s) & = & -\\left(\\frac{\\mu}{rr_0}\\right)s c_1(\\beta s^2)\\\\\n",
    "\\label{eq:dotg_s}\n",
    "\\dot{g}(s) & = & 1-\\left(\\frac{\\mu}{r}\\right)s^2 c_2(\\beta s^2)\\\\\n",
    "\\end{eqnarray}\n",
    "donde $\\beta=\\mu/a$ y la variable universal $s$ (una variable similar a la $x$ usada en la sección anterior) satisface la ecuación:\n",
    "\n",
    "\\begin{equation}\n",
    "\\label{eq:kepler_universal_s}\n",
    "k_s(s;r,r_0,\\beta,\\mu,t-t_0)\\equiv r_0 s c_1(\\beta s^2)+r_0 \\dot{r}_0 s^2 c_2(\\beta s^2)+\\mu s^3 c_3(\\beta s^2)-(t-t_0)=0\n",
    "\\end{equation}\n",
    "que llamaremos la *ecuación de Kepler en la variable universal s*. "
   ]
  },
  {
   "cell_type": "markdown",
   "metadata": {},
   "source": [
    "La rutina a continuación calcula la *función de Kepler en la variable universal s*, $k_s$, y sus derivadas $k'_s$ y $k''_s$, usando para esto último las relaciones de recurrencia de las derivadas de las series de Stumpff vistas en la [Sección *Series infinitas*](Not Found#series_infinitas) (Ecs. [stumpff_derivadas_recurrencia](#mjx-eqn-eq%3Astumpff_derivadas_recurrencia)):"
   ]
  },
  {
   "cell_type": "markdown",
   "metadata": {},
   "source": [
    "<a id='code:funcion_universal_kepler_s'></a>"
   ]
  },
  {
   "cell_type": "code",
   "execution_count": 97,
   "metadata": {
    "codelabel": "",
    "codeplot": 0,
    "tags": [
     "export",
     "code:funcion_universal_kepler_s"
    ]
   },
   "outputs": [],
   "source": [
    "def funcion_universal_kepler_s(s,r0,rdot0,beta,mu,M):\n",
    "    #Variable auxiliar\n",
    "    u=beta*s**2\n",
    "    #Series de Stumpff requeridas\n",
    "    from pymcel.export import serie_stumpff\n",
    "    c0=serie_stumpff(u,0)\n",
    "    s1c1=s*serie_stumpff(u,1)\n",
    "    s2c2=s**2*serie_stumpff(u,2)\n",
    "    s3c3=s**3*serie_stumpff(u,3)\n",
    "    #Ecuación universal de Kepler en s y sus derivadas\n",
    "    k=r0*s1c1+r0*rdot0*s2c2+mu*s3c3-M\n",
    "    kp=r0*c0+r0*rdot0*s1c1+mu*s2c2\n",
    "    kpp=(mu-r0*beta)*s1c1+r0*rdot0*c0\n",
    "    return k,kp,kpp"
   ]
  },
  {
   "cell_type": "markdown",
   "metadata": {},
   "source": [
    "El poder de las Ecs. ([r_fg](#mjx-eqn-eq%3Ar_fg)) y ([v_fg](#mjx-eqn-eq%3Av_fg)) además de la forma explícita de las funciones $f$ y $g$ y sus derivadas, provistas en las Ecs. ([f_s](#mjx-eqn-eq%3Af_s))-([dotg_s](#mjx-eqn-eq%3Adotg_s)), no puede menospreciars.  Si bien en este caso la variable universal $s$ carece de la interpretación geométrica que encontramos en la sección anterior para la variable $x$, es claro que esta cantidad nos permite obtener, independientemente del tipo de cónica, la posición relativa de los cuerpos en cualquier instante del tiempo, conociendo unicamente el estado relativo inicial y sin requerir el cálculo intermedio de elementos orbitales o anomalías."
   ]
  },
  {
   "cell_type": "markdown",
   "metadata": {},
   "source": [
    "La siguiente rutina implemente las Ecs. ([f_s](#mjx-eqn-eq%3Af_s))-([kepler_universal_s](#mjx-eqn-eq%3Akepler_universal_s)) y resuelve el problema de Kepler encontrando la posición y velocidad relativa de un sistema de dos cuerpos en un tiempo $t$ cuando se conoce su posición y velocidad relativa en un tiempo de referencia $t_0$."
   ]
  },
  {
   "cell_type": "markdown",
   "metadata": {},
   "source": [
    "<a id='code:propaga_f_g'></a>"
   ]
  },
  {
   "cell_type": "code",
   "execution_count": 100,
   "metadata": {
    "codelabel": "",
    "codeplot": 0,
    "tags": [
     "export",
     "code:propaga_f_g"
    ]
   },
   "outputs": [],
   "source": [
    "def propaga_f_g(mu,rvec0,vvec0,t0,t,delta=1e-14,verbose=False):\n",
    "\n",
    "    from numpy.linalg import norm\n",
    "    from numpy import dot,cross\n",
    "\n",
    "    #Calcular r0, rdot0\n",
    "    r0=norm(rvec0)\n",
    "    rdot0=dot(rvec0,vvec0)/r0\n",
    "    \n",
    "    #Calcula el valor del parámetro beta\n",
    "    hvec=cross(rvec0,vvec0)\n",
    "    h=norm(hvec)\n",
    "    e=norm(cross(vvec0,hvec)/mu-rvec0/norm(rvec0))\n",
    "    p=h**2/mu\n",
    "    q=p/(1+e)\n",
    "    beta=mu*(1-e)/q\n",
    "\n",
    "    #Equivalente a la anomalía media\n",
    "    M=t-t0\n",
    "    \n",
    "    #Resuelve la ecuación universal de Kepler en s\n",
    "    sn=M/r0\n",
    "\n",
    "    from pymcel.export import metodo_laguerre\n",
    "    s,error,ni=metodo_laguerre(funcion_universal_kepler_s,\n",
    "                               x0=sn,args=(r0,rdot0,beta,mu,M),delta=1e-15)\n",
    "    \n",
    "    #Variable auxiliar\n",
    "    u=beta*s**2\n",
    "    #Series de Stumpff requeridas\n",
    "    from pymcel.export import serie_stumpff\n",
    "    s1c1=s*serie_stumpff(u,1)\n",
    "    s2c2=s**2*serie_stumpff(u,2)\n",
    "    s3c3=s**3*serie_stumpff(u,3)\n",
    "    \n",
    "    #Calcula las funciones f,g\n",
    "    f=1-(mu/r0)*s2c2\n",
    "    g=M-mu*s3c3\n",
    "    \n",
    "    #Calcula r\n",
    "    rvec=rvec0*f+vvec0*g\n",
    "    r=norm(rvec)\n",
    "    \n",
    "    #Calcula las funciones f',g'\n",
    "    dotf=-(mu/(r*r0))*s1c1\n",
    "    dotg=1-(mu/r)*s2c2\n",
    "    \n",
    "    #Calcula v\n",
    "    vvec=rvec0*dotf+vvec0*dotg\n",
    "    \n",
    "    return s,f,g,dotf,dotg,rvec,vvec"
   ]
  },
  {
   "cell_type": "markdown",
   "metadata": {},
   "source": [
    "Que podemos probar usando:"
   ]
  },
  {
   "cell_type": "code",
   "execution_count": 107,
   "metadata": {
    "codelabel": "",
    "codeplot": 0
   },
   "outputs": [],
   "source": [
    "#Sistema\n",
    "from numpy import array\n",
    "t0=0\n",
    "sistema=[\n",
    "    dict(m=1.0,\n",
    "         r=array([0.0,0.0,+0.3]),\n",
    "         v=array([+1.0,0.0,0.5])),\n",
    "    dict(m=0.5,\n",
    "         r=array([+1.0,0.0,0.0]),\n",
    "         v=array([0.0,+1.0,0.0])),\n",
    "]\n",
    "\n",
    "#Condiciones iniciales\n",
    "m1=sistema[0][\"m\"]\n",
    "r1_0=sistema[0][\"r\"]\n",
    "v1_0=sistema[0][\"v\"]\n",
    "\n",
    "m2=sistema[1][\"m\"]\n",
    "r2_0=sistema[1][\"r\"]\n",
    "v2_0=sistema[1][\"v\"]\n",
    "\n",
    "#Posición y velocidad relativa inicial\n",
    "rvec0=r1_0-r2_0\n",
    "vvec0=v1_0-v2_0\n",
    "\n",
    "s,f,g,dotf,dotg,rvec,vvec=propaga_f_g(mu,rvec0,vvec0,t0,t,verbose=True)"
   ]
  },
  {
   "cell_type": "markdown",
   "metadata": {},
   "source": [
    "<a id='code:ejemplo_propaga_fg'></a>"
   ]
  },
  {
   "cell_type": "code",
   "execution_count": 108,
   "metadata": {
    "codelabel": "",
    "codeplot": 0,
    "tags": [
     "hide_input",
     "code:ejemplo_propaga_fg"
    ]
   },
   "outputs": [
    {
     "name": "stdout",
     "output_type": "stream",
     "text": [
      "Estado para t = 10\n",
      "Variable universal, s = 4.7662\n",
      "f = -3.17744, g = -3.24166\n",
      "f' = 0.256033, g' = -0.0535113\n",
      "r = [-0.06422662  3.24166306 -2.57406246]\n",
      "v = [-0.30954385  0.05351131  0.0500541 ]\n"
     ]
    }
   ],
   "source": [
    "print(f\"Estado para t = {t:g}\")\n",
    "print(f\"Variable universal, s = {s:g}\")\n",
    "print(f\"f = {f:g}, g = {g:g}\")\n",
    "print(f\"f' = {dotf:g}, g' = {dotg:g}\")\n",
    "print(f\"r = {rvec}\")\n",
    "print(f\"v = {vvec}\")"
   ]
  },
  {
   "cell_type": "markdown",
   "metadata": {},
   "source": [
    "Que coincide con los resultados que habíamos obtenido con el Alg. ([ejemplo_propaga_estado](07.04.02.00.Problema2Cuerpos.SolucionTiempo.Sintesis.ipynb#code:ejemplo_propaga_estado))."
   ]
  },
  {
   "cell_type": "markdown",
   "metadata": {
    "tags": [
     "navigation"
    ]
   },
   "source": [
    "[Indice](index.ipynb) | Previo: [Problema2Cuerpos.SolucionTiempo.Sintesis](07.04.02.00.Problema2Cuerpos.SolucionTiempo.Sintesis.ipynb) | Siguiente: [Problema2Cuerpos.AproximacionJerarquico](07.05.00.00.Problema2Cuerpos.AproximacionJerarquico.ipynb)"
   ]
  }
 ],
 "metadata": {
  "celltoolbar": "Tags",
  "kernelspec": {
   "display_name": "Python 3",
   "language": "python",
   "name": "python3"
  },
  "language_info": {
   "codemirror_mode": {
    "name": "ipython",
    "version": 3
   },
   "file_extension": ".py",
   "mimetype": "text/x-python",
   "name": "python",
   "nbconvert_exporter": "python",
   "pygments_lexer": "ipython3",
   "version": "3.6.8"
  }
 },
 "nbformat": 4,
 "nbformat_minor": 2
}
