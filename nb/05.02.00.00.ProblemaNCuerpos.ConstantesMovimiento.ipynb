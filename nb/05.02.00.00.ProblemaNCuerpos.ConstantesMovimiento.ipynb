{
 "cells": [
  {
   "cell_type": "markdown",
   "metadata": {
    "tags": [
     "navigation"
    ]
   },
   "source": [
    "[Indice](index.ipynb) | Previo: [ProblemaNCuerpos.Formulacion](05.01.00.00.ProblemaNCuerpos.Formulacion.ipynb) | Siguiente: [ProblemaNCuerpos.ConstantesMovimiento.Energia](05.02.01.00.ProblemaNCuerpos.ConstantesMovimiento.Energia.ipynb)"
   ]
  },
  {
   "cell_type": "markdown",
   "metadata": {},
   "source": [
    "## 5.2. Constantes de movimiento\n",
    "<a id='ncuerpos_constantes'></a>"
   ]
  },
  {
   "cell_type": "markdown",
   "metadata": {},
   "source": [
    "Como aprendimos en la [Sección *integración de la e.d.m.*](04.01.01.02.Fundamentos.Mecanica.Cinematica.SolucionEdM.ipynb#integracion_edm), una manera posible para buscar la solución analítica a las $6N$ ecuaciones diferenciales del problema de los N cuerpos (Ec. [ncuerpos_formulacion_ecuaciones](#mjx-eqn-eq%3Ancuerpos_formulacion_ecuaciones)), o al menos, aprender cosas sobre la dinámicas del sistema aunque no tenamos una solución, es la de buscar tantas constantess de movimiento (cuadraturas) como sea posible.  \n",
    "\n",
    "Como habíamos visto, para convertir el problema diferencial en uno algebraico determinado (igual numero de ecuaciones que de incognitas), es necesario encontrar $6N$ constantes, es decir, un número igual de constantes que el número de variables del sistema, a saber $x(t)$, $y(t)$, $z(t)$, $\\dot{x}(t)$, $\\dot{y}(t)$, $\\dot{z}(t)$. \n",
    "\n",
    "En esta sección usaremos los métodos introducidos en la [Sección *integración de la e.d.m.*](04.01.01.02.Fundamentos.Mecanica.Cinematica.SolucionEdM.ipynb#integracion_edm) para encontrar las primeras integrales de movimiento del problema de los N cuerpos."
   ]
  },
  {
   "cell_type": "markdown",
   "metadata": {},
   "source": [
    "### 5.2.1. Momentum lineal del centro de masa\n",
    "<a id='ncuerpos_momentum'></a>"
   ]
  },
  {
   "cell_type": "markdown",
   "metadata": {},
   "source": [
    "La primera cuadratura interesante resulta de aplicar un truco ingenioso: si multiplicamos la e.d.m. de cada una de las partículas en la Ec. (\\ref{eq:ncuerpos_formulacion_ecuaciones)) y las sumamos, obtenemos\n",
    "\n",
    "\\begin{equation}\n",
    "\\label{eq:ncuerpos_suma_edm}\n",
    "\\sum_i m_i\\ddot{\\vec r}_i = -\\sum_i \\sum_j \\frac{m_i \\mu_j}{r_{ij}^3} \\vec{r}_{ij}\n",
    "\\end{equation}"
   ]
  },
  {
   "cell_type": "markdown",
   "metadata": {},
   "source": [
    "En el lado derecho el término en el denominador es simétrico, $r_{ji}=r_{ij}$, mientras el término en el numerador, $\\vec{r}_{ji}=\\vec{r}_i-\\vec{r}_j$  es *antisimétrico* (el signo cambia al cambiar el orden de los índices). Como resultado, por cada término en la doble sumatoria (por ejemplo el término $i=1$, $j=4$) habra un término idéntico pero de signo contrario (el término con $i=4$, $j=1$).  De este modo, el lado derecho de la Ec. ([ncuerpos_suma_edm](#mjx-eqn-eq%3Ancuerpos_suma_edm)) siempre sera nulo (sin importar el número de partículas) y la suma de las e.d.m. de las partículas será:\n",
    "\n",
    "\\begin{equation}\n",
    "\\sum m_i\\ddot{\\vec r}_i = 0\n",
    "\\end{equation}"
   ]
  },
  {
   "cell_type": "markdown",
   "metadata": {},
   "source": [
    "Esta ecuación puede expresarse de la forma (cuadratura):\n",
    "\n",
    "$$\n",
    "\\frac{d}{dt}\\left(\\sum_i m_i \\dot{\\vec{r}}_i\\right) =0,\n",
    "$$\n",
    "\n",
    "siempre y cuando asumamos que la masa de todas las partículas del sistema $\\{m_i\\}$ son constantes. "
   ]
  },
  {
   "cell_type": "markdown",
   "metadata": {},
   "source": [
    "De donde encontramos la primera constante (vectorial) de movimiento del problema de N cuerpos:\n",
    "\n",
    "\\begin{equation}\n",
    "\\label{eq:ncuerpos_momentum}\n",
    "\\sum_i m_i \\dot{\\vec{r}}_i=\\vec P\n",
    "\\end{equation}\n",
    "\n",
    "En realidad, por tratarse de una expresión vectorial, en esta cuadratura hay contenidas tres constantes de movimiento: $\\sum_i m_i\\dot{x}_i=P_x$, $\\sum_i m_i\\dot{y}_i=P_y$ y $\\sum_i m_i\\dot{z}_i=P_z$.\n",
    "\n",
    "Es claro que $\\vec P$ no es otra cosa que el *momentum* lineal del centro de masa y la cuadratura obtenida simplemente expresa que en un sistema de N cuerpos, el *momentum* lineal total se conserva.  Este resultado es consistente con la ley de conservación del *momentum* lineal para un sistema de partículas que habíamos enunciado en la [Sección *Dinámica newtoniana*](Not Found#dinamica_newtoniana).  Dado que las partículas de nuestro sistema solo experimentan las fuerzas mutuas, no existe ninguna fuerza externa y por la misma razón su *momentum* lineal total debe mantenerse constante."
   ]
  },
  {
   "cell_type": "markdown",
   "metadata": {},
   "source": [
    "La constancia de $\\vec P$ en el problema de los N cuerpos, nos permite además introducir la idea de que siempre podemos describir la dinámica del sistema desde un marco de referencia inercial, aquel con velocidad constante $\\vec V=\\vec P/M$ (donde $M=\\sum m_i$), en el cuál el movimiento de las partículas es el más simple posible.  En este sistema de referencia, $\\vec P=\\vec 0$, lo que simplificará considerablemente los cálculos."
   ]
  },
  {
   "cell_type": "markdown",
   "metadata": {},
   "source": [
    "### 5.2.2. Posición del centro de masa\n",
    "<a id='ncuerpos_centro_masa'></a>"
   ]
  },
  {
   "cell_type": "markdown",
   "metadata": {},
   "source": [
    "Una segunda constante de movimiento puede obtenerse aplicando cuadraturas a la primera integral (Ec. [ncuerpos_momentum](#mjx-eqn-eq%3Ancuerpos_momentum)):\n",
    "\n",
    "$$\n",
    "\\frac{\\mathrm{d}}{\\mathrm{d}t}\\left(\\sum_i m_i \\vec{r}_i\\right)=\\frac{\\mathrm{d}}{\\mathrm{d}t}\\left(\\vec P t\\right)\n",
    "$$\n",
    "\n",
    "De donde podemos escribir:\n",
    "\n",
    "\\begin{equation}\n",
    "\\label{eq:ncuerpos_centro_masa}\n",
    "\\sum_i m_i \\vec{r}_i-\\vec P t=M\\vec R\n",
    "\\end{equation}\n",
    "\n",
    "Para expresar está última constante de movimiento, hemos elegido, arbitrariamente, llamar a su valor $M\\vec R$, donde $M$ es la masa total del sistema, que también es un valor constante y $\\vec R$ es también un vector constante.  La elección de esta parametrización para el valor de esta integral, no modifica en nada el hecho que el lado derecho de la Ec. (\\ref{eq:ncuerpos_centro_masa) es constante también.\n",
    "\n",
    "¿Cómo podemos interpretar físicamente la constante de movimiento en la Ec. ([ncuerpos_centro_masa](#mjx-eqn-eq%3Ancuerpos_centro_masa))?  Si dividimos la expresión de esta constante por la masa total del sistema $M$ y la escribimos como:\n",
    "\n",
    "$$\n",
    "\\frac{\\sum_i m_i \\vec{r}_i}{M}=\\vec R+\\vec V t,\n",
    "$$\n",
    "\n",
    "identificamos, del lado izquierdo, la posición del centro de masa del sistema en cualquier tiempo $R_{\\rm CM}=\\sum m_i\\vec{r}_i/M$. Del lado derecho encontramos $\\vec V t$, que no es otra cosa que el desplazamiento que sufre el centro de masa al moverse con velocidad constante $\\vec V=\\vec P/M$.  \n",
    "\n",
    "De esta expresión, podemos entonces concluir que $\\vec R$ es el valor de la posición inicial del centro de masa, y que la Ec. ([ncuerpos_centro_masa](#mjx-eqn-eq%3Ancuerpos_centro_masa)) es la constante de movimiento asociada con ella.\n",
    "\n",
    "De nuevo, por tratarse de una expresión vectorial, en realidad la Ec. ([ncuerpos_centro_masa](#mjx-eqn-eq%3Ancuerpos_centro_masa)) corresponde a tres constantes en lugar de una."
   ]
  },
  {
   "cell_type": "markdown",
   "metadata": {},
   "source": [
    "### 5.2.3. Momentum angular\n",
    "<a id='Ncuerpos_momentum_angular'></a>"
   ]
  },
  {
   "cell_type": "markdown",
   "metadata": {},
   "source": [
    "Una nueva cuadratura del problema de los N cuerpos, puede obtenerse mediante el uso de un ingenioso factor integrante.  \n",
    "\n",
    "Si tomamos las e.d.m. del sistema de partículas (Ec. [ncuerpos_formulacion_ecuaciones](#mjx-eqn-eq%3Ancuerpos_formulacion_ecuaciones)) y *premultiplicamos*, con el producto cruz (producto vectorial), por el vector posición de cada partícula y la masa de cada una de ellas (este será el factor integrante), el resultado será el conjunto de ecuaciones:\n",
    "\n",
    "$$\n",
    "\\left\\{m_i\\vec{r}_i\\times \\ddot{\\vec{r}}_i= -m_i\\sum_j \\frac{\\mu_j}{r_{ij}^3} \\vec{r}_i\\times \\vec{r}_{ij} \\right\\}\n",
    "$$\n",
    "\n",
    "Por las propiedades del producto vectorial, el último término en el lado derecho será, $\\vec{r}_i\\times \\vec{r}_{ij}=-\\vec{r}_i\\times \\vec{r}_j$, que es también antisimétrico.  Como consecuencia, si sumamos todas las ecuaciones diferenciales resultantes, obtendremos la ecuación:\n",
    "\n",
    "$$\n",
    "\\displaystyle \\sum_i m_i\\vec{r}_i \\times \\ddot{\\vec{r}}_i = \\vec{0}\n",
    "$$"
   ]
  },
  {
   "cell_type": "markdown",
   "metadata": {},
   "source": [
    "Teniendo en cuenta esta propiedad (que será utilizada muchas veces en este libro):\n",
    "\n",
    "\\begin{equation}\n",
    "\\label{eq:derivada_momento_angular}\n",
    "\\frac{d}{dt}(\\vec{r}_i \\times \\dot{\\vec{r}}_i) = \\vec{r}_i \\times \\ddot{\\vec{r}}_i\n",
    "\\end{equation}"
   ]
  },
  {
   "cell_type": "markdown",
   "metadata": {},
   "source": [
    "Las e.d.m. sumadas después de ser transformada con el factor integrante introducido antes, conducirán a la forma en cuadratura:\n",
    "\n",
    "$$\n",
    "\\frac{d}{dt}\\left(\\sum_i m_i \\vec{r}_i \\times \\dot{\\vec{r}}_i\\right) = \\vec 0\n",
    "$$"
   ]
  },
  {
   "cell_type": "markdown",
   "metadata": {},
   "source": [
    "Y de aquí obtenemos una nueva constante de movimiento:\n",
    "\n",
    "\\begin{equation}\n",
    "\\label{eq:ncuerpos_momentum_lineal}\n",
    "\\sum m_i \\vec{r}_i \\times \\dot{\\vec{r}}_i= \\vec L\n",
    "\\end{equation}\n",
    "\n",
    "La interpretación física de esta constante de movimiento también es directa: se trata del *momentum* angular del sistema. La Ec. ([ncuerpos_momentum_lineal](#mjx-eqn-eq%3Ancuerpos_momentum_lineal)) indica que el *momentum* angular de un sistema de N cuerpos se mantiene constante.  Este resultado, nuevamente, coincide con lo visto en la [Sección *Dinámica newtoniana*](Not Found#dinamica_newtoniana), en la que probabamos que si un sistema no esta sometido a fuerzas externas (diferentes de las fuerzas de interacción) y se cumplía la ley de acción y reacción fuerte (que es el caso de la fuerza gravitacional newtoniana de acción instantánea a distancia) el momentum angular no debería cambiar. "
   ]
  },
  {
   "cell_type": "markdown",
   "metadata": {},
   "source": [
    "Una interpretación geométrica muy interesante de esta constante de movimiento es la siguiente.  Si nos ubicamos en el sistema de referencia del centro de masa del sistema, la dirección (constante) del momentum angular total define un plano invariable (en dirección perpendicular a él).  No importa la posición de las partículas, ni el tiempo en el que se registren, dicho plano mantendrá siempre su orientación en el espacio. A este plano se lo conoce históricamente como el **plano invariable de Laplace** <cite data-cite=\"Laplace1835Obras\"><a href=\"mybook.html#Laplace1835Obras\">(Laplace, 1835)</a></cite>."
   ]
  },
  {
   "cell_type": "markdown",
   "metadata": {
    "subtitle": "Plano invariable y sistema natural de referencia",
    "tags": [
     "box_definition"
    ],
    "title": "Definición"
   },
   "source": [
    "> **:Definición 5.4. Plano invariable y sistema natural de referencia.** Dado un sistema de N cuerpos $\\{m_i\\}$ y un marco de referencia inercial que se mueve con velocidad constante: \n",
    "\n",
    "> $$\\vec V = \\frac{m_i \\dot{\\vec{r}}_i}{M}$$\n",
    "\n",
    "\n",
    "> Llamamos **plano invariable** (de Laplace) a aquel que tiene vector normal $\\hat n=\\vec L/L$, donde:\n",
    "\n",
    "> $$\\vec L=\\sum m_i \\vec{r}_i \\times \\dot{\\vec{r}}_i$$\n",
    "\n",
    "> Las posiciones y velocidades de las partículas que definen $\\vec L$ se toman en un tiempo cualquiera (el vector es constante).  \n",
    "\n",
    "> Llamamos **sistema natural de referencia** a aquel que tiene: 1) origen en el centro de masa del sistema:\n",
    "\n",
    "> $$\\vec R=\\frac{\\sum m_i \\vec{r_i}}{M}$$\n",
    "\n",
    "> y 2) plano $x-y$ sobre el plano invariable."
   ]
  },
  {
   "cell_type": "markdown",
   "metadata": {
    "subtitle": "El plano invariable del Sistema Solar",
    "tags": [
     "box_history",
     "placement:h"
    ],
    "title": "Mecánica celeste en la historia"
   },
   "source": [
    "> **:Mecánica celeste en la historia: El plano invariable del Sistema Solar.** Durante más de 100 años, los astrónomos han buscado encontrar la orientación del plano invariable del Sistema Solar.  El esfuerzo no ha sido sencillo, en tanto durante en el mismo lapso, la masa de los cuerpos no siempre se ha conocido con precisión e incluso, cuerpos enteramente nuevos se descubren de vez en cuando.  \n",
    "\n",
    "> La determinación más precisa de la orientación del plano invariable que se hizo recientemente <cite data-cite=\"Souami2012SolarPlane\"><a href=\"mybook.html#Souami2012SolarPlane\">(Souami & Souchay, 2012)</a></cite> ha determinado que tiene una inclinación, respecto al sistema ICRF (ver la [Sección *sistema de referencia astronómico*](Not Found#sistema_ICRF)) de 23$^\\circ$ 0' 31\".9 y una longitude del nodo ascendente de 3$^\\circ$ 51' 9\".4 (para una definición de estos ángulos ver la [Sección *cónica en el espacio](Not Found#conica_espacio)).  Esto implica, que el plano invariable del Sistema Solar esta inclinado respecto al plano de la eclípica de J2000.0, que usamos en la Astronomía del Sistema Solar, en 1$^\\circ$ 34' 43\".3. "
   ]
  },
  {
   "cell_type": "markdown",
   "metadata": {},
   "source": [
    "Usando `SPICE` podemos intentar obtener una estimación de la inclinación del plano invariable del Sistema Solar, respecto al sistema de la eclíptica de J2000.0, asumiendo que el momentum angular total del sistema esta concentrado en el Sol y el planeta más masivo, Júpiter (entre los dos cuerpos concentran el 99.99% de la masa del sistema)."
   ]
  },
  {
   "cell_type": "markdown",
   "metadata": {},
   "source": [
    "<a id='code:masas_estado_planetas'></a>"
   ]
  },
  {
   "cell_type": "code",
   "execution_count": 1,
   "metadata": {
    "codelabel": "code:masas_estado_planetas",
    "codeplot": 0,
    "tags": [
     "code:masas_estado_planetas"
    ]
   },
   "outputs": [],
   "source": [
    "import spiceypy as spy\n",
    "\n",
    "#Asumimos un tiempo cualquiera, en este caso t=J2000.0\n",
    "et=0\n",
    "\n",
    "#Carga kernels con posiciones (bsp) y masas (tpc)\n",
    "spy.furnsh('pymcel/data/de430.bsp')\n",
    "spy.furnsh('pymcel/data/de430.tpc')\n",
    "\n",
    "#Parámetro gravitacional, posiciones y velocidades\n",
    "musol=spy.bodvrd(\"SUN\",\"GM\",1)[1][0]\n",
    "sol,tluz=spy.spkezr(\"SUN\",et,\"ECLIPJ2000\",\"None\",\"SSB\")\n",
    "rsol=sol[:3]\n",
    "vsol=sol[3:]\n",
    "\n",
    "mujupiter=spy.bodvrd(\"JUPITER_BARYCENTER\",\"GM\",1)[1][0]\n",
    "jupiter,tluz=spy.spkezr(\"JUPITER_BARYCENTER\",et,\"ECLIPJ2000\",\"None\",\"SSB\")\n",
    "rjupiter=jupiter[:3]\n",
    "vjupiter=jupiter[3:]"
   ]
  },
  {
   "cell_type": "code",
   "execution_count": 2,
   "metadata": {
    "codelabel": "",
    "codeplot": 0,
    "tags": [
     "hide_input"
    ]
   },
   "outputs": [
    {
     "name": "stdout",
     "output_type": "stream",
     "text": [
      "Sol:\n",
      "\tmu = 132712440041.9394 km^3/s^2\n",
      "\tPosición = [-1067598.50226456  -418234.39327422    30837.61810502] km\n",
      "\tVelocidad = [ 0.00931257 -0.01282475 -0.00016333] km/s\n",
      "Jupiter:\n",
      "\tmu = 126712764.7999999 km^3/s^2\n",
      "\tPosición = [ 5.97499980e+08  4.39186501e+08 -1.51960586e+07] km\n",
      "\tVelocidad = [-7.90052522 11.14330827  0.13069904] km/s\n"
     ]
    }
   ],
   "source": [
    "print(f\"Sol:\")\n",
    "print(f\"\\tmu = {musol} km^3/s^2\")\n",
    "print(f\"\\tPosición = {rsol} km\")\n",
    "print(f\"\\tVelocidad = {vsol} km/s\")\n",
    "print(f\"Jupiter:\")\n",
    "print(f\"\\tmu = {mujupiter} km^3/s^2\")\n",
    "print(f\"\\tPosición = {rjupiter} km\")\n",
    "print(f\"\\tVelocidad = {vjupiter} km/s\")\n"
   ]
  },
  {
   "cell_type": "markdown",
   "metadata": {},
   "source": [
    "Podrá encontrar algunos detalles sobre `SPICE` en el [Apéndice *Sistema `SPICE`*](Not Found#SPICE)."
   ]
  },
  {
   "cell_type": "markdown",
   "metadata": {},
   "source": [
    "El momento angular total del sistema será:"
   ]
  },
  {
   "cell_type": "code",
   "execution_count": 3,
   "metadata": {
    "codelabel": "",
    "codeplot": 0
   },
   "outputs": [],
   "source": [
    "from numpy import cross\n",
    "\n",
    "#Constante de gravitación universal en km^3 / kg s^2\n",
    "G=6.67e-20 \n",
    "\n",
    "#Momentum angular total\n",
    "L=(musol/G)*cross(rsol,vsol)+(mujupiter/G)*cross(rjupiter,vjupiter)"
   ]
  },
  {
   "cell_type": "code",
   "execution_count": 4,
   "metadata": {
    "codelabel": "",
    "codeplot": 0,
    "tags": [
     "hide_input"
    ]
   },
   "outputs": [
    {
     "name": "stdout",
     "output_type": "stream",
     "text": [
      "L = [4.31661898e+35 7.99455257e+34 1.92754426e+37] kg m^2/s^2\n"
     ]
    }
   ],
   "source": [
    "print(f\"L = {L} kg m^2/s^2\")"
   ]
  },
  {
   "cell_type": "markdown",
   "metadata": {},
   "source": [
    "Nótese que hemos tenido que dividir por el valor de cada parámetro gravitacional $\\mu$ por la constante $G$ (en las unidades apropiadas) para obtener la masa de cada cuerpo."
   ]
  },
  {
   "cell_type": "markdown",
   "metadata": {},
   "source": [
    "Con este resultado, la inclinación estimada del plano invariable del Sistema Solar, se obtiene finalmente calculando el ángulo formado entre el momento angular total y el eje z (perpendicular al plano de la eclíptica de J2000.0), es decir $i=\\cos^{-1}(L_z/L)$:"
   ]
  },
  {
   "cell_type": "code",
   "execution_count": 5,
   "metadata": {
    "codelabel": "",
    "codeplot": 0
   },
   "outputs": [],
   "source": [
    "from numpy import arccos\n",
    "from numpy.linalg import norm\n",
    "\n",
    "i=arccos(L[2]/norm(L))"
   ]
  },
  {
   "cell_type": "code",
   "execution_count": 6,
   "metadata": {
    "codelabel": "",
    "codeplot": 0,
    "tags": [
     "hide_input"
    ]
   },
   "outputs": [
    {
     "name": "stdout",
     "output_type": "stream",
     "text": [
      "i = 1.3046988768626038 grados\n"
     ]
    }
   ],
   "source": [
    "from numpy import pi\n",
    "print(f\"i = {i*180/pi} grados\")"
   ]
  },
  {
   "cell_type": "markdown",
   "metadata": {},
   "source": [
    "Que es casi igual a la calculada con todos los cuerpos del Sistema Solar (ver el recuadro el *Mecánica Celeste en la Historia, el plano invariable del Sistema Solar*.) El lector podrá obtener una estimación mejor de esta inclinación, incluyendo muchos otros cuerpos, en uno de los problemas al final del capítulo."
   ]
  },
  {
   "cell_type": "markdown",
   "metadata": {
    "tags": [
     "navigation"
    ]
   },
   "source": [
    "[Indice](index.ipynb) | Previo: [ProblemaNCuerpos.Formulacion](05.01.00.00.ProblemaNCuerpos.Formulacion.ipynb) | Siguiente: [ProblemaNCuerpos.ConstantesMovimiento.Energia](05.02.01.00.ProblemaNCuerpos.ConstantesMovimiento.Energia.ipynb)"
   ]
  }
 ],
 "metadata": {
  "celltoolbar": "Tags",
  "kernelspec": {
   "display_name": "Python 3",
   "language": "python",
   "name": "python3"
  },
  "language_info": {
   "codemirror_mode": {
    "name": "ipython",
    "version": 3
   },
   "file_extension": ".py",
   "mimetype": "text/x-python",
   "name": "python",
   "nbconvert_exporter": "python",
   "pygments_lexer": "ipython3",
   "version": "3.6.8"
  }
 },
 "nbformat": 4,
 "nbformat_minor": 2
}
