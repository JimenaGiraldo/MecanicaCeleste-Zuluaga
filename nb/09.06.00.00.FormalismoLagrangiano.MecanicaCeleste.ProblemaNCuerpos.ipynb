{
 "cells": [
  {
   "cell_type": "markdown",
   "metadata": {
    "tags": [
     "navigation"
    ]
   },
   "source": [
    "[Indice](index.ipynb) | Previo: [FormalismoLagrangiano.MecanicaCeleste](09.06.00.00.FormalismoLagrangiano.MecanicaCeleste.ipynb) | Siguiente: [FormalismoLagrangiano.MecanicaCeleste.Problema2Cuerpos](09.06.00.00.FormalismoLagrangiano.MecanicaCeleste.Problema2Cuerpos.ipynb)"
   ]
  },
  {
   "cell_type": "markdown",
   "metadata": {},
   "source": [
    "### 9.8.1. El Lagrangiano de N cuerpos\n",
    "<a id='ncuerpos_lagrangiano'></a>"
   ]
  },
  {
   "cell_type": "markdown",
   "metadata": {},
   "source": [
    "Como hicimos a lo largo del libro, consideraremos los problemas de la mecánica celeste, a la luz del formalismo escalar de la mecánica, en el orden en el que lo estudiamos con el formalismo vectorial: el problema de los N-cuerpos, el problema de los N-cuerpos jerarquico, el problema de los 2 cuerpos y el problema de los 3 cuerpos."
   ]
  },
  {
   "cell_type": "markdown",
   "metadata": {},
   "source": [
    "Cómo es natural, la primera pregunta que debemos resolver es ¿cuál es el Lagrangiano del problema de los N-cuerpos?."
   ]
  },
  {
   "cell_type": "markdown",
   "metadata": {},
   "source": [
    "Un sistema de N-cuerpos que interactúan únicamente por efecto de su mutua fuerza gravitacional, no tiene ninguna restricción.  Todas las partículas tienen acceso irrestringido (por principio) a todos los puntos del espacio.  Por la misma razón concluímos que el sistema tiene 3N grados de libertad y exactamente el mismo número de variables generalizadas que describen su dinámica."
   ]
  },
  {
   "cell_type": "markdown",
   "metadata": {},
   "source": [
    "En una primera aproximación al problema, podemos usar las coordenadas cartesianas de las partículas como variables generalizadas del problema.  Si como hicimos en la [Sección *Restricciones y variables generalizadas*](09.01.00.00.FormalismoLagrangiano.VariablesRestricciones.ipynb#restricciones_variables_generalizadas) llamamos $\\{x^k_i\\}_{3N}$ al conjunto de componentes cartesianas $x^k:(x,y,z)$ de las partículas del sistema, podemos escribir la función de energía cinética como:\n",
    "\n",
    "$$\n",
    "T_\\mathrm{NB}(\\{\\dot{x}^k_i\\})=\\sum_{i,k} \\frac{1}{2}m_i(\\dot{x}^k_i)^2\n",
    "$$"
   ]
  },
  {
   "cell_type": "markdown",
   "metadata": {},
   "source": [
    "Por otro lado, la función de energía potencial la habíamos desarrollado en la [Sección *Energía potencial de N cuerpos*](06.02.02.00.ProblemaNCuerpos.SolucionAnalitica.Energia.ipynb#ncuerpos_potencial) y la podemos escribir de la forma no restringida (Ec. [U_no_restringido](#mjx-eqn-eq%3AU_no_restringido)):\n",
    "\n",
    "$$\n",
    "U_\\mathrm{NB}(\\{x^k_l\\})=-\\frac{1}{2}\\sum_i\\sum_{j\\neq i} \\frac{m_i\\mu_j}{r_{ij}(x^k_i,x^k_j)}\n",
    "$$\n",
    "donde $\\vec r_{ij}=\\sum_k(x^k_i-x^k_j) \\hat e_k$."
   ]
  },
  {
   "cell_type": "markdown",
   "metadata": {},
   "source": [
    "Con esto el Lagrangiano más general para el problema de los N cuerpos en mecánica celeste se puede escribir como:\n",
    "\n",
    "\\begin{equation}\n",
    "\\label{eq:lagrangiano_ncuerpos}\n",
    "L_{NB}(\\{x^k_l\\},\\{\\dot x^k_l\\})=\\sum_{i,k} \\frac{1}{2}m_i\\dot (\\dot{x}^k_i)^2+\\frac{1}{2}\\sum_i\\sum_{j\\neq i} \\frac{m_i\\mu_j}{r_{ij}(x^k_i,x^k_j)}\n",
    "\\end{equation}"
   ]
  },
  {
   "cell_type": "markdown",
   "metadata": {},
   "source": [
    "### 9.8.2. Simetrías del lagrangiano de N cuerpos\n",
    "<a id='ncuerpos_lagrangiano_simetrias'></a>"
   ]
  },
  {
   "cell_type": "markdown",
   "metadata": {},
   "source": [
    "¿Qué simetrías tiene el Lagrangiano y por tanto cuáles son las cantidades conservadas asociadas con él?."
   ]
  },
  {
   "cell_type": "markdown",
   "metadata": {},
   "source": [
    "La primera y más evidente simetría de este Lagrangiano es su independencia explícita del tiempo, \n",
    "\n",
    "$$\\frac{\\partial L_\\mathrm{NB}}{\\partial t}=0$$"
   ]
  },
  {
   "cell_type": "markdown",
   "metadata": {},
   "source": [
    "De acuerdo con el Teorema de conservación de la energía mecánica, además de esta condición el problema satisface todas las condiciones necesarias y suficientes para garantizar que la función de Jacobi sea una cuadratura del sistema:\n",
    "\n",
    "$$\n",
    "h(\\{x^k_l\\},\\{\\dot x^k_l\\})=\\sum_{i,k} \\frac{1}{2}m_i\\dot x_{i,k}^2-\\frac{1}{2}\\sum_i\\sum_{j\\neq i} \\frac{m_i\\mu_j}{r_{ij}}=E\n",
    "$$"
   ]
  },
  {
   "cell_type": "markdown",
   "metadata": {},
   "source": [
    "El Lagrangiano $L_\\mathrm{NB}$ no tiene ninguna variable cíclica de modo que ninguno de los momentos generalizados:\n",
    "\n",
    "$$\n",
    "p_i=\\frac{\\partial L_\\mathrm{NB}}{\\partial x^k_i}=m_i \\dot{x}^k_i\n",
    "$$\n",
    "es conservado independientemente."
   ]
  },
  {
   "cell_type": "markdown",
   "metadata": {},
   "source": [
    "Sin embargo, dado que el Lagrangiano depende únicamente de la distancia relativa entre las partículas, el origen de coordenadas puede elegirse en cualquir punto del espacio y la forma del Lagrangiano seguirá siendo la misma.  Esto implica que el sistema es simétrico bajo traslaciones espaciales del tipo:\n",
    "\n",
    "$$\n",
    "x^k_i=x^k_i+\\epsilon \\tau^k\n",
    "$$"
   ]
  },
  {
   "cell_type": "markdown",
   "metadata": {},
   "source": [
    "Ahora bien.  Dado que no importa la dirección en la que realicemos la traslación, el Lagrangiano se mantiene covariante (no cambia), usando el Teorema de Noether para el Lagrangiano, podemos concluir que las 3 componentes del momento total son constantes:\n",
    "\n",
    "$$\n",
    "P^k=\\sum_{i} m_i\\dot{x}^k_i\n",
    "$$"
   ]
  },
  {
   "cell_type": "markdown",
   "metadata": {},
   "source": [
    "Si ahora definimos\n",
    "\n",
    "$$x^k_\\mathrm{CM}\\equiv\\frac{\\sum_i m_i x^k_i}{M}$$\n",
    "donde $M=\\sum_i m_i$, entonces la componente del momento total conservado $P^k$ se puede escribir también como:\n",
    "\n",
    "$$\n",
    "P^k=M \\dot{x}^k_\\mathrm{CM}\n",
    "$$"
   ]
  },
  {
   "cell_type": "markdown",
   "metadata": {},
   "source": [
    "Integrando directamente obtenemos:\n",
    "\n",
    "$$\n",
    "x^k_\\mathrm{CM}=\\frac{P^k}{M} t + x^k_\\mathrm{CM,0}\n",
    "$$\n",
    "donde $x^k_\\mathrm{CM,0}$ son también constantes de movimiento."
   ]
  },
  {
   "cell_type": "markdown",
   "metadata": {},
   "source": [
    "Nuevamente, dado que la función de energía potencial del sistema solo depende de las distancias entre ella, el sistema es simétrico bajo rotaciones alrededor de cualquier eje en el espacio. De acuerdo con el Teorema de conservación del momento angular (que en realidad es un corolario del Teorema de Noether para el Lagrangiano), todas las componentes $L^k$ del momento angular, y que se pueden escribir en general como:\n",
    "\n",
    "$$\n",
    "L^k=\\sum_i m_i \\epsilon_{kmn} x^m_i x^n_i\n",
    "$$\n",
    "donde $\\epsilon_{kmn}$ son los símbolos de Levi-Civita, son también constantes de movimiento."
   ]
  },
  {
   "cell_type": "markdown",
   "metadata": {},
   "source": [
    "Como hemos visto aquí, el formalismo Lagrangiano permite encontrar todas las cuadraturas conocidas del problema de los N-cuerpos simplemente aplicando argumentos de simetría.  Estos argumentos conducen, a través del teorema de Noether a procedimientos matemáticos breves y compactos.  En comparación los procedimientos utilizados en el formalismo vectorial y que vimos en la [Sección *Aplicación de los teoremas de conservación*](06.02.01.00.ProblemaNCuerpos.SolucionAnalitica.ConstantesMovimiento.ipynb#ncuerpos_teoremas_conservacion) se antojan ahora un poco arbitrarios, en tanto dependen, por ejemplo de elecciones heurísticas de las operaciones que deben hacerse sobre las ecuaciones de movimiento o los factores integrantes que deben utilizarse."
   ]
  },
  {
   "cell_type": "markdown",
   "metadata": {},
   "source": [
    "### 9.8.3. El lagrangiano de un sistema de N cuerpos jerárquico\n",
    "<a id='ncuerpos_jerarquico_lagrangiano'></a>"
   ]
  },
  {
   "cell_type": "markdown",
   "metadata": {},
   "source": [
    "Como habíamos visto antes en este libro, muchos sistemas de N cuerpos de interés astronómico, pueden descomponerse como un conjunto de $N-1$ sistemas anidados de solo 2 cuerpos.  Así por ejemplo la interacción del Sol con los 8 planetas del sistema solar ($N=9$) puede describirse, a primer orden, como 8 problemas de dos cuerpos: Sol-Mercurio, Sol-Venus, Sol-Tierra,... , Sol-Neptuno."
   ]
  },
  {
   "cell_type": "markdown",
   "metadata": {},
   "source": [
    "En términos del formalismo lagrangiano podemos decir que la dinámica de un sistema de $N$ cuerpos jerarquico puede ser descrita (sus simetrías y ecuaciones de movimiento) por $N-1$ lagrangianos independientes, análogos al Legrangiano de la Ec. ([lagrangiano_ncuerpos](#mjx-eqn-eq%3Alagrangiano_ncuerpos)), pero en el que solamente aparezcan dos cuerpos interactuantes."
   ]
  },
  {
   "cell_type": "markdown",
   "metadata": {},
   "source": [
    "Explícitamente, el lagrangianos de dos de los cuerpos del sistema, puede escribirse como:\n",
    "\n",
    "\\begin{eqnarray}\n",
    "\\label{eq:lagrangiano_doscuerpos_general}\n",
    "L_\\mathrm{2B,G} & = & \\frac{1}{2}m_1(\\dot x_1^2+\\dot y_1^2+\\dot z_1^2)+\\frac{1}{2}m_1(\\dot x_2^2+\\dot y_2^2+\\dot z_2^2)+\\\\\n",
    "& & +\\frac{G m_1 m_2}{\\sqrt{(x_1-x_2)^2+(y_1-y_2)^2+(z_1-z_2)^2}}\n",
    "\\end{eqnarray}\n",
    "donde en lugar de la notación general $x^k_i$ hemos usado explícitamente las letras de las coordenadas cartesianas y los dos cuerpos están numerados como 1 y 2, a pesar de que en un sistema general podrían tratarse de los cuerpos 45  y 801, por poner un ejemplo.  "
   ]
  },
  {
   "cell_type": "markdown",
   "metadata": {},
   "source": [
    "Este lagrangiano tiene exactamente las mismas simetrías y cantidades conservadas del lagrangiano general de los $N$ cuerpos de la Ec. ([lagrangiano_ncuerpos](#mjx-eqn-eq%3Alagrangiano_ncuerpos)).  Sin embargo, no es difícil reconocer, en este caso, que la elección de las coordenadas cartesianas como variables generalizadas del problema, no es la más conveniente.  Una elección apropiada de las 6 variables generalizadas necesarias para describir el problema puede conducirnos a un Lagrangiano más simple y con nuevas simetrías."
   ]
  },
  {
   "cell_type": "markdown",
   "metadata": {},
   "source": [
    "Para ello comencemos por considerar el hecho conocido de que el centro de masa de este tipo de sistemas, \n",
    "\n",
    "$$\n",
    "\\vec r_\\mathrm{CM}=\\frac{m_1\\vec{r}_1+m_2\\vec{r}_2}{M}\n",
    "$$\n",
    "donde usaremos la notación vectorial aquí simplemente para abreviar pero no porque sea una característica fundamental de los desarrollos en lo sucesivo, se encuentra exactamente en la línea que une los dos cuerpos en el espacio."
   ]
  },
  {
   "cell_type": "markdown",
   "metadata": {},
   "source": [
    "Esta condición nos permite introducir un nuevo conjunto de variables generalizadas, a saber las componentes del vector relativo $\\vec r=\\vec r_1-\\vec r_2$ y las del vector posición del centro de masa $\\vec r_\\mathrm{CM}$, que se relacionan con las coordenadas cartesianas originales del sistema a través de las reglas de transformación:\n",
    "\n",
    "\\begin{eqnarray}\n",
    "\\nonumber\n",
    "\\vec r_1 & = & \\vec r_{CM}-\\frac{m_2}{M}\\vec r\\\\\n",
    "\\nonumber\n",
    "\\vec r_2 & = & \\vec r_{CM}+\\frac{m_2}{M}\\vec r\\\\\n",
    "\\end{eqnarray}\n",
    "y\n",
    "\n",
    "\\begin{eqnarray}\n",
    "\\nonumber\n",
    "\\dot{\\vec r}_1 & = & \\dot{\\vec r}_{CM}-\\frac{m_2}{M}\\dot{\\vec r}\\\\\n",
    "\\nonumber\n",
    "\\dot{\\vec r}_2 & = & \\dot{\\vec r}_{CM}+\\frac{m_2}{M}\\dot{\\vec r}\\\\\n",
    "\\end{eqnarray}"
   ]
  },
  {
   "cell_type": "markdown",
   "metadata": {},
   "source": [
    "Con esta transformación, es posible mostrar (ver Problemas al final del capítulo) que la función de energía potencial del sistema se simplifica como:\n",
    "\n",
    "$$\n",
    "T_\\mathrm{2B,R}=\\frac{1}{2}m_1\\dot{\\vec r}_1^2+\\frac{1}{2}m_2\\dot{\\vec r}_2^2=\\frac{1}{2}M\\dot{\\vec r}_{CM}+\\frac{1}{2}m_r\\dot{\\vec r}\n",
    "$$\n",
    "donde hemos introducido una nueva cantidad \n",
    "\n",
    "$$m_r\\equiv\\frac{m_1 m_2}{M}$$\n",
    "que llamaremos la **masa reducida** del sistema.  Adicionalmente el subíndice R que hemos agregado al nombre del Lagrangiano $L_\\mathrm{2B,R}$, hace referencia al hecho de que estamos usando la posición relativa de los dos cuerpos."
   ]
  },
  {
   "cell_type": "markdown",
   "metadata": {},
   "source": [
    "Con este cambio de variables, el Lagrangiano de los dos cuerpos se puede escribir ahora como:\n",
    "\n",
    "\\begin{equation}\n",
    "\\label{eq:lagrangiano_doscuerpos_relativo}\n",
    "L_\\mathrm{2B,R}=\\frac{1}{2}M\\dot{\\vec r}_\\mathrm{CM}^2+\\frac{1}{2}m_r\\dot{\\vec r}^2+\\frac{G M m_r}{r}\n",
    "\\end{equation}\n",
    "\n",
    "Es importante insistir que el uso de cantidades vectoriales aquí tiene el único propósito de abreviar la escritura del lagrangiano.  Es claro que esta última cantidad es escalar, como lo son todos los factores que involucran cantidades vectoriales en la fórmula anterior."
   ]
  },
  {
   "cell_type": "markdown",
   "metadata": {},
   "source": [
    "El cambio realizado hasta ahora implico simplemente pasar del conjunto de variables originales $(x_1,y_1,z_1,x_2,y_2,z_2)$ a un nuevo conjunto de variables generalizadas que pueden describir también la configuración del sistema: $(x,y,z,x_\\mathrm{CM},y_\\mathrm{CM},z_\\mathrm{CM})$. El Lagrangiano escrito en este nuevo conjunto de variables (Ec. [lagrangiano_doscuerpos_relativo](#mjx-eqn-eq%3Alagrangiano_doscuerpos_relativo)) tiene simetrías que no tenía el lagrangiano general original (Ec. [lagrangiano_doscuerpos](#mjx-eqn-eq%3Alagrangiano_doscuerpos)).  En partícular, podemos ver que las variables generalizadas $x_\\mathrm{CM},y_\\mathrm{CM},z_\\mathrm{CM}$ son ahora coordenadas cíclicas:\n",
    "\n",
    "$$\\frac{\\partial L}{\\partial x_\\mathrm{CM}}=\\frac{\\partial L}{\\partial y_\\mathrm{CM}}=\\frac{\\partial L}{\\partial z_\\mathrm{CM}}=0$$"
   ]
  },
  {
   "cell_type": "markdown",
   "metadata": {},
   "source": [
    "Esto implica que los momentos generalizados asociados con ellas, $P_\\mathrm{CM,x}=M\\dot x_\\mathrm{CM}$, $P_\\mathrm{CM,y}=M\\dot y_\\mathrm{CM}$, $P_\\mathrm{CM,z}=M\\dot z_\\mathrm{CM}$ se conservan.  Pero esto no es ninguna novedad: es un *redescubrimiento* de la conservación del momento lineal total del sistema que viene de su simetría traslacional.  Estos nos enseña una interesante lección nueva: una simetría en un conjunto de variables generalizadas (p.e. simetría traslacional) puede equivaler a otra simetría en un conjunto de variables distintas (p.e. simetría de variables cíclicas)."
   ]
  },
  {
   "cell_type": "markdown",
   "metadata": {},
   "source": [
    "Pero hay un elemento verdaderamente novedoso en el Lagrangiano de la Ec. ([lagrangiano_doscuerpos_relativo](#mjx-eqn-eq%3Alagrangiano_doscuerpos_relativo)).  Si reemplazamos el primer término del lagrangiano en términos de las constantes $\\vec P_\\mathrm{CM}$, el Lagrangiano queda:\n",
    "\n",
    "$$\n",
    "L_\\mathrm{2B,R}=\\frac{P_\\mathrm{CM}^2}{2M}+\\frac{1}{2}m_r\\dot{\\vec r}^2+\\frac{G M m_r}{r}\n",
    "$$"
   ]
  },
  {
   "cell_type": "markdown",
   "metadata": {},
   "source": [
    "Ahora bien, dado que el primer término es una constante (un número), al usar el Lagrangiano para escribir las ecuaciones de movimiento del sistema, usando para ello las Ecuaciones de Euler-Lagrange, \n",
    "\n",
    "$$\n",
    "\\left\\{ \\frac{d}{dt} \\left(\\frac{\\partial L}{\\partial \\dot{q}_j} \\right) - \\frac{\\partial L}{\\partial q_j} =  0\\right\\}_{3N}\n",
    "$$\n",
    "y dado que estas ecuaciones dependen de derivadas del Lagrangiano, el término constante desaparecerá de la descripción última de la dinámica sistema.  Dicho en otros términos, el Lagrangiano escrito antes describe tan bien la dinámica del sistema como el siguiente Lagrangiano:\n",
    "\n",
    "\\begin{equation}\n",
    "\\label{eq:lagrangiano_doscuerpos}\n",
    "L'_\\mathrm{2B,R}=\\frac{1}{2}m_r\\dot{\\vec r}^2+\\frac{G M m_r}{r}\n",
    "\\end{equation}"
   ]
  },
  {
   "cell_type": "markdown",
   "metadata": {},
   "source": [
    "Podemos expresar esta importante propiedad en la forma de un poderoso teorema general (para una demostración ver Problemas al final del capítulo):"
   ]
  },
  {
   "cell_type": "markdown",
   "metadata": {
    "label": "",
    "subtitle": "Libertad del Lagrangiano",
    "tags": [
     "box_theorem"
    ],
    "title": "Proposición"
   },
   "source": [
    "> **Proposición: Libertad del Lagrangiano.**<a id=''></a> La dinámica de un sistema dinámico, dictada directamente por las ecuaciones de Euler-Lagrange, es descrita igual de bien con el Lagrangiano original del sistema $L$ o con cualquier otro Lagrangiano $L'$ que cumpla con la condición:\n",
    "\n",
    "$$\n",
    "L'=L+\\frac{d}{dt}F(\\{q_j\\},t)\n",
    "$$"
   ]
  },
  {
   "cell_type": "markdown",
   "metadata": {},
   "source": [
    "Como vemos, la libertad de *eliminar* términos del Lagrangiano es más general que aquella de remover simplemente cantidades constantes.  Cualquier término del Lagrangiano que pueda expresarse, en general, como la derivada total de una función de las variables generalizadas y del tiempo, puede removerse sin alterar la dinámica resultante.  Como una curiosidad (pero solo como eso), para el problema de los dos cuerpos, la función $F$ sería:\n",
    "\n",
    "$$\n",
    "F=\\frac{P_\\mathrm{CM}^2}{2M}t\n",
    "$$"
   ]
  },
  {
   "cell_type": "markdown",
   "metadata": {},
   "source": [
    "Esta propiedad particular del formalismo Lagrangiano conduce a una reconocida regla heurística:"
   ]
  },
  {
   "cell_type": "markdown",
   "metadata": {
    "label": "",
    "subtitle": "Procedimiento de Routh",
    "tags": [
     "box_definition"
    ],
    "title": "Definición"
   },
   "source": [
    "> **Definición 10.23. Procedimiento de Routh.**<a id=''></a> Si un sistema dinámico contiene variables cíclicas, entonces se pueden eliminar del Lagrangiano todos los términos que solo dependan de los momentos generalizados conservados correspondientes a esas variables cíclicas.\n",
    "\n",
    "> *Ejemplo*: El lagrangiano más general de una partícula que cae libremente en un campo gravitacional uniforme de intensidad $g$ es:\n",
    "\n",
    "> $$L_\\mathrm{CL}=\\frac{1}{2}m(\\dot x^2+\\dot y^2+\\dot z^2)-mgz$$\n",
    "\n",
    "> Dado que las variables $x,y$ son cíclicas, podemos remover los términos del lagrangiano que solo dependen de los momentos $m\\dot x$ y $m\\dot y$, de modo que el Lagrangiano puede escribirse como:\n",
    "\n",
    "> $$L_\\mathrm{CL}=\\frac{1}{2}m\\dot z^2-mgz$$"
   ]
  },
  {
   "cell_type": "markdown",
   "metadata": {},
   "source": [
    "Podríamos creer que con lo anterior hemos agotado todas las posibles simplificaciones que puede sufrir el Lagrangiano de un sistema de dos cuerpos.  Pero existe una última simplificación y una muy poderosa, que se obtiene al realizar un cambio del sistema de coordenadas cartesianas al sistema de coordenadas esférico:\n",
    "\n",
    "$$\n",
    "\\begin{array}{lll}\n",
    "x & = & r\\cos\\phi\\cos\\theta\\\\\n",
    "y & = & r\\cos\\phi\\sin\\theta\\\\\n",
    "z & = & r\\sin\\phi\\\\\n",
    "\\end{array}\n",
    "$$\n",
    "donde debemos recordar que en mecánica celeste usamos $\\phi$ para referirnos al *ángulo de elevación* sobre ese plano $x-y$ y $\\theta$ para el ángulo azimuthal sobre el plano."
   ]
  },
  {
   "cell_type": "markdown",
   "metadata": {},
   "source": [
    "En términos de las nuevas coordenadas $r,\\phi,\\theta$ el Lagrangiano de la Ec. ([lagrangiano_ncuerpos](#mjx-eqn-eq%3Alagrangiano_ncuerpos)) queda:\n",
    "\n",
    "\\begin{equation}\n",
    "\\label{eq:lagrangiano2B_general}\n",
    "L_{2B}=\\frac{1}{2}m_r(\\dot r^2+r^2\\cos^2\\phi\\dot\\theta^2+r^2\\dot\\phi^2)+\\frac{G M m_r}{r}\n",
    "\\end{equation}"
   ]
  },
  {
   "cell_type": "markdown",
   "metadata": {},
   "source": [
    "En este Lagrangiano identificamos una nueva simetría: la coordenada angular $\\theta$ es cíclica y tiene como cantidad conservada el momentum generalizado:\n",
    "\n",
    "$$\n",
    "p_\\theta=\\frac{\\partial L}{\\partial\\dot\\theta}=L_r\\equiv m_r r^2 \\cos^2\\phi \\dot\\theta\n",
    "$$"
   ]
  },
  {
   "cell_type": "markdown",
   "metadata": {},
   "source": [
    "Ahora bien, por la conservación del momento angular, que demostramos en general para el Lagrangiano del problema de los N cuerpos y que se hereda para el Lagrangiano de este sistema, sabemos que existe un plano (el plano invariante de Laplace) sobre el cual se produce el movimiento del sistema.  Si fijamos el plano $x-y$ en el palno invariante de Laplace, entonces, una nueva constante emerge: $\\phi=0$.  Esta constante implica que también $\\dot\\phi=0$."
   ]
  },
  {
   "cell_type": "markdown",
   "metadata": {},
   "source": [
    "Con estas dos consideraciones, el Lagrangiano del problema de los dos cuerpos relativo, escrito en coordenadas esféricas definidas con respecto al plano invariante de Laplace será finalmente:\n",
    "\n",
    "\\begin{equation}\n",
    "\\label{eq:lagrangiano_doscuerpos_reducido}\n",
    "L_\\mathrm{2B}=\\frac{1}{2}m_r\\left(\\dot r^2+\\frac{L_r^2}{m_r^2 r^2}\\right)+\\frac{GMm_r}{r}\n",
    "\\end{equation}\n",
    "donde $L_r=m_r r^2 \\dot\\theta$, una cantidad fundamental que llamaremos el *momento angular reducido*."
   ]
  },
  {
   "cell_type": "markdown",
   "metadata": {},
   "source": [
    "Todas las simplificaciones realizadas a lo largo de esta sección, nos permitieron convertir un sistema con un Lagrangiano (Ec. [lagrangiano_ncuerpos](#mjx-eqn-eq%3Alagrangiano_ncuerpos)) definido en un espacio de configuración de $3N$ dimensiones (el problema general de los N cuerpos), primero, a un sistema cuya dinámica es la superposición elemental de $N-1$ subsistemas de dos cuerpos con lagrangianos generales definidos en 3 dimensiones (Ec. [lagrangiano_doscuerpos_general](#mjx-eqn-eq%3Alagrangiano_doscuerpos_general), hasta llegar finalmente a probar, que la dinámica de cada uno de esos subsistemas puede en realidad describirse con un lagrangiano (Ec. [lagrangiano_doscuerpos_reducido](#mjx-eqn-eq%3Alagrangiano_doscuerpos_reducido)) que depende de una sola variable, $r$."
   ]
  },
  {
   "cell_type": "markdown",
   "metadata": {},
   "source": [
    "Para ser precisos, en realidad el problema reducido de los dos cuerpos, que es descrito por el Lagrangiano en la Ec. ([lagrangiano_doscuerpos_reducido](#mjx-eqn-eq%3Alagrangiano_doscuerpos_reducido)), tiene dos grados de libertad: $r$ y $\\theta$.  Sin embargo por las simetrías del problema, la ecuación de movimiento de la variable cíclica $\\theta$ es simplemente:\n",
    "\n",
    "\\begin{equation}\n",
    "\\label{eq:doscuerpos_edm_angular}\n",
    "\\dot\\theta=\\frac{L_r}{m_r r^2}\n",
    "\\end{equation}"
   ]
  },
  {
   "cell_type": "markdown",
   "metadata": {
    "tags": [
     "navigation"
    ]
   },
   "source": [
    "[Indice](index.ipynb) | Previo: [FormalismoLagrangiano.MecanicaCeleste](09.06.00.00.FormalismoLagrangiano.MecanicaCeleste.ipynb) | Siguiente: [FormalismoLagrangiano.MecanicaCeleste.Problema2Cuerpos](09.06.00.00.FormalismoLagrangiano.MecanicaCeleste.Problema2Cuerpos.ipynb)"
   ]
  }
 ],
 "metadata": {
  "celltoolbar": "Tags",
  "kernelspec": {
   "display_name": "Python 3",
   "language": "python",
   "name": "python3"
  },
  "language_info": {
   "codemirror_mode": {
    "name": "ipython",
    "version": 3
   },
   "file_extension": ".py",
   "mimetype": "text/x-python",
   "name": "python",
   "nbconvert_exporter": "python",
   "pygments_lexer": "ipython3",
   "version": "3.6.8"
  }
 },
 "nbformat": 4,
 "nbformat_minor": 2
}
