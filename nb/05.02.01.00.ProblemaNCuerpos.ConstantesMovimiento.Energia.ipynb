{
 "cells": [
  {
   "cell_type": "markdown",
   "metadata": {
    "tags": [
     "navigation"
    ]
   },
   "source": [
    "[Indice](index.ipynb) | Previo: [ProblemaNCuerpos.ConstantesMovimiento](05.02.00.00.ProblemaNCuerpos.ConstantesMovimiento.ipynb) | Siguiente: [ProblemaNCuerpos.TeoremaVirial](05.03.00.00.ProblemaNCuerpos.TeoremaVirial.ipynb)"
   ]
  },
  {
   "cell_type": "markdown",
   "metadata": {},
   "source": [
    "### 5.2.4. Energía potencial de N cuerpos\n",
    "<a id='ncuerpos_potencial'></a>"
   ]
  },
  {
   "cell_type": "markdown",
   "metadata": {},
   "source": [
    "Una manera alternativa de escribir la ecuación de movimiento del problema de los N cuerpos, es reconociendo que cada una las fuerzas gravitacionales que actúan sobre las partículas *derivan* de un potencial (son fuerzas conservativas).  Así:\n",
    "\n",
    "$$\n",
    "\\left\\{m_i\\ddot{\\vec r}_i= -\\frac{\\partial}{\\partial\\vec{r}_i}\\left(\\sum_{j\\neq i} m_i V_{j}\\right)\\right\\}_{N},\n",
    "$$\n",
    "\n",
    "donde $V_j=-\\mu_j/r_{ij}$ es el potencial gravitacional de la partícula $j$, medido en la posición de la partícula $i$, y la *derivada vectorial* $\\partial/\\partial\\vec{r}_i$ es, por definición en este libro, una representación del operador gradiente, $\\vec{\\nabla}_i$, calculado con respecto a las coordenadas de la partícula $i$.  Explícitamente, en coordenadas cartesianas, $\\partial/\\partial\\vec{r}_i$ es:\n",
    "\n",
    "$$\n",
    "\\frac{\\partial}{\\partial\\vec{r}_i}\\equiv\\frac{\\partial}{\\partial x_i} \\hat{e}_x + \\frac{\\partial}{\\partial y_i} \\hat{e}_y + \\frac{\\partial}{\\partial z_i} \\hat{e}_z\n",
    "$$\n",
    "\n",
    "Si introducimos lo que podemos llamar la *energía potencial gravitacional mutua* $U_{ij}\\equiv m_i V_j$, la ecuación de movimiento se escribe:\n",
    "\n",
    "\\begin{equation}\n",
    "\\label{eq:ncuerpos_edm_potencial_individual}\n",
    "\\left\\{m_i\\ddot{\\vec r}_i= -\\frac{\\partial}{\\partial\\vec{r}_i} \\sum_{j\\neq i} U_{ij}\\right\\}_{N},\n",
    "\\end{equation}\n"
   ]
  },
  {
   "cell_type": "markdown",
   "metadata": {},
   "source": [
    "Si bien, la función de energía potencia $\\sum_{j\\neq i} U_{ij}$, que aparece en el lado derecho de las Ecs. ([ncuerpos_edm_potencial_individual](#mjx-eqn-eq%3Ancuerpos_edm_potencial_individual)), es unica para cada partícual del sistema, existe una interesante propiedad del problema de los N cuerpos (y otros de problemas de fuerzas centrales) que permite calcular las fuerzas en el sistema, como el gradiente de una única función de energía potencial. Aunque esta propiedad es presentada como un resultado trivial, en casi todos los libros de mecánica celeste, esta lejos de serlo por lo que profundizaremos un momento en ella."
   ]
  },
  {
   "cell_type": "markdown",
   "metadata": {},
   "source": [
    "Consideremos el caso particular de un sistema de tres cuerpos.  La e.d.m. original de este sistema tiene la forma (Ecs. [ncuerpos_formulacion_ecuaciones](#mjx-eqn-eq%3Ancuerpos_formulacion_ecuaciones)):\n",
    "\n",
    "\\begin{eqnarray}\n",
    "\\nonumber\n",
    "m_1 \\ddot{r}_1 & = & -\\frac{m_1\\mu_2}{r_{12}^3}\\vec{r}_{12}-\\frac{m_1\\mu_3}{r_{13}^3}\\vec{r}_{13}\\\\\n",
    "\\nonumber\n",
    "m_2 \\ddot{r}_2 & = & -\\frac{m_2\\mu_1}{r_{21}^3}\\vec{r}_{21}-\\frac{m_2\\mu_3}{r_{23}^3}\\vec{r}_{23}\\\\\n",
    "\\nonumber\n",
    "m_3 \\ddot{r}_3 & = & -\\frac{m_3\\mu_1}{r_{31}^3}\\vec{r}_{31}-\\frac{m_3\\mu_2}{r_{32}^3}\\vec{r}_{32}\\\\\n",
    "\\end{eqnarray}"
   ]
  },
  {
   "cell_type": "markdown",
   "metadata": {},
   "source": [
    "Nótese, por ejemplo, que las fuerzas $\\vec{F}_{12}=-m_1\\mu_2 \\vec{r}_{12}/r_{12}^3$ y $\\vec{F}_{21}=-m_2\\mu_1 \\vec{r}_{21}/r_{21}^3$, en realidad pueden obtenerse de una sola energía potencial, a saber, $U_{12}=-m_1\\mu_2/r_{12}$.  La fuerza $\\vec{F}_{12}$ se obtiene de $U_{12}$ si se deriva esta cantidad respecto a $\\vec r_1$; por su lado, la fuerza $\\vec{F}_{21}$ aparece deribando $U_{12}$ respecto a $\\vec r_2$. Una situación similar ocurre con los pares de fuerzas $\\vec{F}_{13}$, $\\vec{F}_{31}$ y $\\vec{F}_{23}$, $\\vec{F}_{32}$.  Es decir, 6 fuerzas diferentes derivan, en realidad, de solo 3 términos de energía potencial.  Explícitamente:\n",
    "\n",
    "\\begin{eqnarray}\n",
    "\\nonumber\n",
    "m_1 \\ddot{r}_1 & = & -\\frac{\\partial U_{12}}{\\partial\\vec{r}_1}-\\frac{\\partial U_{13}}{\\partial\\vec{r}_1}\\\\\n",
    "\\nonumber\n",
    "m_2 \\ddot{r}_2 & = & -\\frac{\\partial U_{12}}{\\partial\\vec{r}_2}-\\frac{\\partial U_{23}}{\\partial\\vec{r}_2}\\\\\n",
    "\\nonumber\n",
    "m_3 \\ddot{r}_3 & = & -\\frac{\\partial U_{13}}{\\partial\\vec{r}_3}-\\frac{\\partial U_{23}}{\\partial\\vec{r}_3}\\\\\n",
    "\\end{eqnarray}"
   ]
  },
  {
   "cell_type": "markdown",
   "metadata": {},
   "source": [
    "Dado que $\\partial U_{23}/\\partial \\vec{r}_1=\\partial U_{13}/\\partial \\vec{r}_2=\\partial U_{12}/\\partial \\vec{r}_3$, las e.d.m. se pueden escribir como:\n",
    "\n",
    "\\begin{eqnarray}\n",
    "\\nonumber\n",
    "m_1 \\ddot{r}_1 & = & \n",
    "-\\frac{\\partial U_{12}}{\\partial\\vec{r}_1}-\\frac{\\partial U_{13}}{\\partial\\vec{r}_1}-\\frac{\\partial U_{23}}{\\partial\\vec{r}_1}\\\\\n",
    "\\nonumber\n",
    "m_2 \\ddot{r}_2 & = & -\\frac{\\partial U_{12}}{\\partial\\vec{r}_2}-\\frac{\\partial U_{13}}{\\partial\\vec{r}_2}-\\frac{\\partial U_{23}}{\\partial\\vec{r}_2}\\\\\n",
    "\\nonumber\n",
    "m_3 \\ddot{r}_3 & = & -\\frac{\\partial U_{12}}{\\partial\\vec{r}_3}-\\frac{\\partial U_{13}}{\\partial\\vec{r}_3}-\\frac{\\partial U_{23}}{\\partial\\vec{r}_3}\\\\\n",
    "\\end{eqnarray}"
   ]
  },
  {
   "cell_type": "markdown",
   "metadata": {},
   "source": [
    "Allí identificamos una sola función de energía potencial:\n",
    "\n",
    "\\begin{equation}\n",
    "\\label{eq:potencial_tres_cuerpos}\n",
    "U=U_{12}+U_{13}+U_{23},\n",
    "\\end{equation}\n",
    "\n",
    "de la cual puede calcularse la fuerza sobre cualquier partícula del sistema usando:\n",
    "\n",
    "\\begin{equation}\n",
    "\\label{eq:ncuerpos_edm_potencial}\n",
    "\\left\\{m_i\\ddot{\\vec{r}}_i=-\\frac{\\partial  U}{\\partial\\vec{r}_i}\\right\\}_N\n",
    "\\end{equation}\n",
    "\n",
    "Esta es la forma más compacta de escribir las ecuaciones de movimiento del problema de los N cuerpos.  Estudie cuidadosamente las diferencia entre esta forma de las ecuaciones, que usa una sola función de energía potencial y la menos económica forma de las Ecs. ({eq:ncuerpos_edm_potencial_individual})."
   ]
  },
  {
   "cell_type": "markdown",
   "metadata": {
    "subtitle": "Motivación física de la energía potencial de N cuerpos",
    "tags": [
     "box_note"
    ],
    "title": "NOTA"
   },
   "source": [
    "> **:NOTA: Motivación física de la energía potencial de N cuerpos.** La deducción que hicimos en esta sección de la energía potencial de tres cuerpos, es de naturaleza eminentemente matemática. Sin embargo, una vez obtenida, es posible dar a ella una interpretación que nos permite entender las razones físicas por las que tiene un número restringido de términos.  \n",
    "\n",
    "> Es claro, físicamente, que al cuantificar la energía total de interacción de un sistema, solo debemos tener en cuenta *una vez* la contribución que cada pareja de partículas hace al presupuesto energético total.  Así, el sistema de partículas 1 y 2 contribuyen con $U_{12}$ a la energía total.  Resulta obvio entonces, que sumar a esa energía el término $U_{21}$ sería redundante y físicamente incorrecto.  Lo mismo pasa con las energías de interacción $U_{13}$ que descartan la necesidad de incluir la $U_{31}$ y la $U_{23}$ que una vez sumada hace innecesario agregar la energía $U_{32}$.  \n",
    "\n",
    "> Este razonamiento, es la razón *física* por la cual la funcuón de energía potencial en la Ec. ([potencial_tres_cuerpos](#mjx-eqn-eq%3Apotencial_tres_cuerpos)) total solo contiene tres términos (en lugar de 6 como podría intuirse de la forma de la Ec. [ncuerpos_edm_potencial_individual](#mjx-eqn-eq%3Ancuerpos_edm_potencial_individual)).\n",
    "\n",
    "> ¿Podría el lector generalizar este resultado a cuatro cuerpos? O más interesante ¿podría ofrecer una fórmula general para el número de términos que tiene la función de energía potencial de un sistema de N cuerpos? (intente encontrar la respuesta antes de mirar el pie de nota) [$^1$](05.03.00.00.ProblemaNCuerpos.TeoremaVirial.ipynb#notaspie_1)$. Con $N=3$ y $k=2$, el número de combinaciones es $C_{3,2}=3!/2!=3$ que coincide con nuestro resultado.]"
   ]
  },
  {
   "cell_type": "markdown",
   "metadata": {},
   "source": [
    "La energía potencial de N cuerpos $U$, que escribimos en la Ec. ([potencial_tres_cuerpos](#mjx-eqn-eq%3Apotencial_tres_cuerpos)) para un sistema de tres partículas, puede ahora escribirse, en general, para un sistema de N cuerpos, de dos maneras diferentes:\n",
    "\n",
    "1. Restringiendo las sumatorias: \n",
    "\n",
    "    \\begin{equation}\n",
    "    \\label{eq:U_restringido}\n",
    "    U=-\\sum_{i=1}^{i<j}\\sum_{j=1}^{j=3} \\frac{m_i\\mu_j}{r_{ij}}\n",
    "    \\end{equation}\n",
    "\n",
    "   Esta expresión es relativamente simple, pero expandir las sumatorias, en la práctica, puede ser muy complicado (el lector puede intentar, por ejemplo, escribir la energía potencial de un sistema de cuatro cuerpos, usando la fórmula anterior y no el razonamiento físico que esbozamos en la última *Nota*.)\n",
    "\n",
    "2. Sin restringir las sumatorias:\n",
    "\n",
    "    \\begin{equation}\n",
    "    \\label{eq:U_no_restringido}\n",
    "    U=-\\frac{1}{2}\\sum_i\\sum_{j\\neq i} \\frac{m_i\\mu_j}{r_{ij}}\n",
    "    \\end{equation}\n",
    "\n",
    "   El factor $1/2$ en el lado derecho, viene del hecho de que al no restringir la sumatoria sobre la $i$, apareceran los términos duplicados $m_i\\mu_j/r_{ij}$ y $m_j\\mu_i/r_{ji}$.\n",
    "   \n",
    "En lo que queda de este texto usaremos la parametrización de la Ec. ([U_no_restringido](#mjx-eqn-eq%3AU_no_restringido))."
   ]
  },
  {
   "cell_type": "markdown",
   "metadata": {},
   "source": [
    "### 5.2.5. Conservación de la energía\n",
    "<a id='ncuerpos_energia'></a>"
   ]
  },
  {
   "cell_type": "markdown",
   "metadata": {},
   "source": [
    "Si multiplicamos las Ecs. ([ncuerpos_edm_potencial](#mjx-eqn-eq%3Ancuerpos_edm_potencial)) por el factor integrante $m_i\\vec{r}_i$ (usando el producto punto o producto escalar) y sumamos sobre todas las partículas (como lo hemos hecho para obtener las otras constantes de movimiento) obtenemos:\n",
    "\n",
    "$$\n",
    "\\sum_i m_i \\dot{\\vec{r}}_i\\cdot\\ddot{\\vec{r}}_i =\n",
    "-\\sum_i\\dot{\\vec{r}}_i\\cdot\\frac{\\partial  U}{\\partial\\vec{r}_i}\n",
    "$$\n",
    "\n",
    "El lado derecho de esta ecuación tiene una forma claramente reconocible en el cálculo vectorial.  Recuerda la aplicación de la regla de la cadena para calcular la derivada total respecto del tiempo de la función de energía potencial $U(\\{\\vec{r}_i\\})$:\n",
    "\n",
    "$$\n",
    "\\frac{\\mathrm{d}U}{\\mathrm{d}t}=\\frac{\\partial U}{\\partial \\vec{r}_1}\\cdot\\frac{\\mathrm{d}\\vec{r}_1}{\\mathrm{d}t}+\\frac{\\partial U}{\\partial \\vec{r}_2}\\cdot\\frac{\\mathrm{d}\\vec{r}_2}{\\mathrm{d}t}+\\ldots+\\frac{\\partial U}{\\partial \\vec{r}_n}\\cdot\\frac{\\mathrm{d}\\vec{r}_n}{\\mathrm{d}t}\n",
    "$$\n",
    "\n",
    "Que coincide exactamente con el lado derecho de la suma de las e.d.m.   Este resultado permite conseguir el objetivo del factor integrante: escribir la ecuación diferencial en cuadraturas:\n",
    "\n",
    "$$\n",
    "\\frac{d}{dt}\\left(\\frac{1}{2}\\sum_i m_i \\dot{\\vec r_i}^2\\right)=-\\frac{dU}{dt}\n",
    "$$"
   ]
  },
  {
   "cell_type": "markdown",
   "metadata": {},
   "source": [
    "De donde podemos identificar, finalmente, una nueva constante de movimiento en el problema de los N cuerpos:\n",
    "\n",
    "\\begin{equation}\n",
    "\\label{eq:ncuerpos_energia}\n",
    "\\frac{1}{2}\\sum_i m_i \\dot{\\vec r_i}^2+U(\\{\\vec{r}_i\\})=E\n",
    "\\end{equation}\n",
    "\n",
    "Con $U(\\{\\vec{r}_i\\})=(1/2)\\sum_i\\sum_{j\\neq i} m_i\\mu_j/r_{ij}$.\n",
    "\n",
    "Físicamente el valor de $E$ corresponde a la energía mecánica total del sistema de N cuerpos y esta primera integral no es otra cosa que una manifestación del hecho de que la energía total se conserva en este tipo de sistemas."
   ]
  },
  {
   "cell_type": "markdown",
   "metadata": {},
   "source": [
    "En un terreno más práctico, sería interesante, usar este resultado, para preguntarse, por ejemplo, ¿cuánta energía *mecánica* existe en el sistema Tierra-Luna? \n",
    "\n",
    "Para ello podemos apoyarnos de `SPICE`, como lo hicimos antes para calcular el momentum angular del sistema Sol-Jupiter (ver Algoritmo [masas_estado_planetas](05.02.00.00.ProblemaNCuerpos.ConstantesMovimiento.ipynb#code:masas_estado_planetas)):"
   ]
  },
  {
   "cell_type": "code",
   "execution_count": 15,
   "metadata": {
    "codelabel": "",
    "codeplot": 0
   },
   "outputs": [],
   "source": [
    "import spiceypy as spy\n",
    "\n",
    "#Constante de gravitación universal en km^3 / kg s^2\n",
    "G=6.67e-20 \n",
    "\n",
    "#Asumimos un tiempo cualquiera, en este caso t=J2000.0\n",
    "et=0\n",
    "\n",
    "#Carga kernels con posiciones (bsp) y masas (tpc)\n",
    "spy.furnsh('pymcel/data/de430.bsp')\n",
    "spy.furnsh('pymcel/data/de430.tpc')\n",
    "\n",
    "#Parámetro gravitacional, posiciones y velocidades\n",
    "mutierra=spy.bodvrd(\"EARTH\",\"GM\",1)[1][0]\n",
    "tierra,tluz=spy.spkezr(\"EARTH\",et,\"ECLIPJ2000\",\"None\",\"EARTH_BARYCENTER\")\n",
    "rtierra=tierra[:3]\n",
    "vtierra=tierra[3:]\n",
    "\n",
    "muluna=spy.bodvrd(\"MOON\",\"GM\",1)[1][0]\n",
    "luna,tluz=spy.spkezr(\"MOON\",et,\"ECLIPJ2000\",\"None\",\"EARTH_BARYCENTER\")\n",
    "rluna=luna[:3]\n",
    "vluna=luna[3:]"
   ]
  },
  {
   "cell_type": "markdown",
   "metadata": {},
   "source": [
    "Una diferencia importante entre este algoritmo y el que vimos para el cálculo del momentum angular, es que las posiciones y velocidades de la Tierra y la Luna, son calculadas respecto a la posición del centro de masa del sistema (`EARTH_BARYCENTER`) en hacerlo respecto del baricentro del sistema solar (`SSB`).\n",
    "\n",
    "La energía mecánica total del sistema, será entonces:"
   ]
  },
  {
   "cell_type": "code",
   "execution_count": 16,
   "metadata": {
    "codelabel": "",
    "codeplot": 0
   },
   "outputs": [],
   "source": [
    "from numpy.linalg import norm\n",
    "\n",
    "#Masas\n",
    "mtierra=mutierra/G\n",
    "mluna=muluna/G\n",
    "\n",
    "#Energía potencial\n",
    "U=-G*mluna*mtierra/norm(rtierra-rluna)\n",
    "\n",
    "#Energía cinética\n",
    "K=0.5*mutierra*norm(vtierra)**2+0.5*mluna*norm(vluna)**2\n",
    "\n",
    "#Energía total\n",
    "E=K+U"
   ]
  },
  {
   "cell_type": "code",
   "execution_count": 18,
   "metadata": {
    "codelabel": "",
    "codeplot": 0
   },
   "outputs": [
    {
     "name": "stdout",
     "output_type": "stream",
     "text": [
      "Energía potencial U: -7.369786503549795e+22 kg km^2/s^2\n",
      "Energía cinética K: 3.4021556025880696e+22 kg km^2/s^2\n",
      "Energía total E: -3.967630900961725e+22 kg km^2/s^2\n"
     ]
    }
   ],
   "source": [
    "print(f\"Energía potencial U: {U} kg km^2/s^2\")\n",
    "print(f\"Energía cinética K: {K} kg km^2/s^2\")\n",
    "print(f\"Energía total E: {E} kg km^2/s^2\")"
   ]
  },
  {
   "cell_type": "markdown",
   "metadata": {},
   "source": [
    "¿Qué significa que la energía mecánica total del sistema Tierra-Luna sea negativa? Como lo comentamos en la [Sección *dinámica newtoniana*](Not Found#dinamica_newtoniana) el signo negativo de la energía potencial gravitacional (responsable última del signo negativo de $E$ en este caso) se debe a que consideramos (arbitrariamente) la distancia de referencia para calcular esta energía, como una distancia infinita.  Es decir, si la Tierra y la Luna estuvieran a una distancia extremadamente grande (incluso para los parametros astronómicos) tendrían una energía gravitacional muy cercana a cero. \n",
    "\n",
    "Otra manera de interpretar el signo de la energía mecánica total, es decir que $-E$ es el trabajo *mínimo* requerido para separar a la Tierra y a la Luna a una distancia inmensa.  O en términos *escatológicos*, $-E$ es la energía mínima necesaria para destruir la unión entre nuestro planeta y su eterna compañera.  No es difícil mostrar (ver problemas al final del capítulo) que esta energía es igual a la energía cinética de un cuerpo con la masa de la Luna moviéndose a $~$1 km/s relativa al centro de masa del sistema.  Una colisión con un cuerpo gemelo de la Luna, por ejemplo, podría hacer el trabajo de separarnos de ella[$^2$](05.03.00.00.ProblemaNCuerpos.TeoremaVirial.ipynb#notaspie_2).\n",
    "\n",
    "Para hacernos a una idea más cercana del valor de esta energía, las unidades utilizadas aquí, kg km$^2$/s$^2$, que vienen del hecho que `SPICE` usa km como unidad de longitud base, no son las más convenientes.  Para convertirlas a las unidades del sistema internacional, los joules, j = kg m$^2$/s$^2$, basta multiplicar las energía obtenidas anteriormente por un factor de conversión de $10^6$.  En conclusión podemos decir que (el valor absoluto de) la energía mecánica total del sistema Tierra-Luna es $~4\\times 10^{28}$ j.  Esta energía es aproximadamente igual a la energía consumida por toda la humanidad en casi [2 millones de años](https://en.wikipedia.org/wiki/World_energy_consumption)."
   ]
  },
  {
   "cell_type": "markdown",
   "metadata": {},
   "source": [
    "### 5.2.6. Síntesis y teorema de Bruns\n",
    "<a id='ncuerpos_teorema_bruns'></a>"
   ]
  },
  {
   "cell_type": "markdown",
   "metadata": {},
   "source": [
    "Hasta aquí hemos identificado las siguientes constantes de movimiento (cuadraturas) del problema de N cuerpos: \n",
    "\n",
    "\\begin{eqnarray}\n",
    "\\nonumber\n",
    "\\sum_i m_i \\dot{\\vec{r}}_i & = & \\vec P\\\\\n",
    "\\nonumber\n",
    "\\sum_i m_i \\vec{r}_i-\\vec P t & = & M\\vec R\\\\\n",
    "\\nonumber\n",
    "\\sum m_i \\vec{r}_i \\times \\dot{\\vec{r}}_i & = & \\vec L\\\\\n",
    "\\nonumber\n",
    "\\frac{1}{2}\\sum_i m_i \\dot{\\vec r_i}^2+U(\\{\\vec{r}_i\\}) & = & E \\\\\n",
    "\\end{eqnarray}\n",
    "\n",
    "Las tres primeras son formas compactas (vectoriales) de expresar, cada una, tres constantes diferentes, de modo que, en total, tenemos hasta ahora 10 ecuaciones algebraicas (escalares) que relacionan las 6N cantidades desconocidas $\\{x_i(t),y_i(t),z_i(t)\\}_N$, $\\{\\dot{x}_i(t),\\dot{y}_i(t),\\dot{z}_i(t)\\}_N$.  Es claro que nos falta mucho trabajo por hacer si queremos resolver incluso el problema más simple (con N=2, necesitaríamos por lo menos 12 cudraturas para resolver el sistema.)\n",
    "\n",
    "En el año 1887 el destacado matemático Ernst Heinrich Bruns, en un artículo titulado (en alemán) *Über die integrale des Vielkörper-Problems* (*Sobre las integral del problema de varios cuerpos*) <cite data-cite=\"Bruns1887Integrales\"><a href=\"mybook.html#Bruns1887Integrales\">(Bruns, 1887)</a></cite> demostró que, al menos para el problema de los tres cuerpos, no existen otras primeras integrales de movimiento que puedan expresarse en términos de funciones algebráicas de las posiciones y velocidades de las partículas y que sean independientes de las 10 integrales escritas hasta ahora.  En el año 2000, este resultado fue generalizado a sistemas con un número arbitrario de partículas, constituyéndose en lo que se conoce hoy como el **teorema de Bruns generalizado** <cite data-cite=\"Julliard2000Bruns\"><a href=\"mybook.html#Julliard2000Bruns\">(Julliard-Tosel, 2000)</a></cite>:"
   ]
  },
  {
   "cell_type": "markdown",
   "metadata": {
    "subtitle": "Teorema de Bruns generalizado",
    "tags": [
     "box_theorem"
    ],
    "title": "Teorema"
   },
   "source": [
    "> **:Teorema: Teorema de Bruns generalizado.** En el problema newtoniano de (N+1) cuerpos en ${\\rm I\\!R}^p$, con $N\\geq 2$ y $1\\leq p\\leq N+1$, toda primera integral que es algebraica respecto a las posiciones, el momento lineal y el tiempo, es una función algebraica de las primeras integrales clásicas: la energía, las p(p-1)/2 componentes del momento angular, y las 2p constantes que vienen del movimiento lineal uniforme del centro de masa."
   ]
  },
  {
   "cell_type": "markdown",
   "metadata": {},
   "source": [
    "Nótese que este resultado es un poco desesperanzador, en el sentido de implicar que por mucho que lo intentemos, no podemos obtener el número de constantes necesarias para expresar el problema de los N cuerpos como un conjunto completo de cuadraturas.\n",
    "\n",
    "Esto, sin embargo, no significa, de un lado, que las cuadraturas obtenidas no puedan enseñarnos cosas muy interesantes sobre el sistema (como ilustraremos en la siguiente sección); y del otro lado, y más importante, que el problema en realidad no tenga solución: el hecho de no encontrar cuadraturas suficientes solo significa que una solución algebraica es imposible.\n",
    "\n",
    "En el año 1990, casi exactamente 100 años después de la formulación del problema de los N cuerpos en el concurso del Rey Oscar II, el matemático chino Wang Qiu-Dong <cite data-cite=\"Wang1990GlobalSolution\"><a href=\"mybook.html#Wang1990GlobalSolution\">(Wang, 1990)</a></cite> y, posiblemente, el ruso L. K. Babadzhaniants (<cite data-cite=\"Babadzhaniants1979Continuation\"><a href=\"mybook.html#Babadzhaniants1979Continuation\">Babadzhaniants, 1979</a></cite>, <cite data-cite=\"Babadzhaniants1993\"><a href=\"mybook.html#Babadzhaniants1993\">Babadzhaniants, 1993</a></cite>) demostraron la existencia de una solución, con las condiciones expresadas en el problema original (ver la [Sección *formulación del problemas de los N cuerpos*](05.01.00.00.ProblemaNCuerpos.Formulacion.ipynb#ncuerpos_formulacion)), al menos para el caso de un sistema con momentum angular total nulo.  Con este resultado, Wang extendió el otro resultado obtenido en 1912 por Karl Sundman, quién había probado que dicha solución existe en el caso de N=3, incluso en sistemas con un momento angular no nulo (ver recuadro *Mecánica Celestre en la Historia* al principio de este capítulo.)  Esto es lo más cerca que la ciencia ha estado de resolver el problema de los N cuerpos (para una interesante síntesis de la historia de la solución al problema de los N-cuerpos ver <cite data-cite=\"Diacu1996Solution\"><a href=\"mybook.html#Diacu1996Solution\">Diacu, 1996</a></cite>.)\n",
    "\n",
    "Lamentablemente, si bien Sundman y Wang demostraron la existencia de una solución (en series) para el problema, la forma explícita de esa solución es, por decir menos, inútil: las series convergen muy lentamente y se necesitan normalmente millones de términos para aproximar la posición de las partículas incluso en intervalos de tiempo extremadamente cortos <cite data-cite=\"Diacu1996Solution\"><a href=\"mybook.html#Diacu1996Solution\">Diacu, 1996</a></cite>.  Este obstáculo, nos llevará a explorar en la [Sección *solución numérica al problema de los N cuerpos*](Not Found#ncuerpos_numerico) formas alternativas y aproximadas de resolver el problema.  \n",
    "\n",
    "Antes de abandonar, sin embargo, la descripción analítica del problema de los N cuerpos, revisaremos un resultado general, derivado de las propiedades contenidas en las primeras integrales obtenidas hasta aquí y que tiene importantes aplicaciones en la mecánica celeste y en general en la física de sistemas de muchas partículas."
   ]
  },
  {
   "cell_type": "markdown",
   "metadata": {
    "tags": [
     "footnote"
    ]
   },
   "source": [
    "**NOTAS AL PIE:**\n",
    "\n",
    "<a id='notaspie_1'></a>\n",
    "1. La respuesta está en la teoría combinatoria: el número de términos de la energía potencial es igual al número de combinaciones $C_{N,k}$ en parejas ($k=2$) de N números (las partículas del sistema). Es un resultado bien conocido que $C_{N,k}=N!/[k!(N-k)!\n",
    "\n",
    "<a id='notaspie_2'></a>\n",
    "2. En realidad una buena parte de la energía cinética de una colisión como estas se convertiría inicialmente en calor y además destruiría a la Luna y al impactor\n",
    "\n"
   ]
  },
  {
   "cell_type": "markdown",
   "metadata": {
    "tags": [
     "navigation"
    ]
   },
   "source": [
    "[Indice](index.ipynb) | Previo: [ProblemaNCuerpos.ConstantesMovimiento](05.02.00.00.ProblemaNCuerpos.ConstantesMovimiento.ipynb) | Siguiente: [ProblemaNCuerpos.TeoremaVirial](05.03.00.00.ProblemaNCuerpos.TeoremaVirial.ipynb)"
   ]
  }
 ],
 "metadata": {
  "celltoolbar": "Tags",
  "kernelspec": {
   "display_name": "Python 3",
   "language": "python",
   "name": "python3"
  },
  "language_info": {
   "codemirror_mode": {
    "name": "ipython",
    "version": 3
   },
   "file_extension": ".py",
   "mimetype": "text/x-python",
   "name": "python",
   "nbconvert_exporter": "python",
   "pygments_lexer": "ipython3",
   "version": "3.6.8"
  }
 },
 "nbformat": 4,
 "nbformat_minor": 2
}
