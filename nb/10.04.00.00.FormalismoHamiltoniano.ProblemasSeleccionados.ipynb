{
 "cells": [
  {
   "cell_type": "markdown",
   "metadata": {
    "tags": [
     "navigation"
    ]
   },
   "source": [
    "[Indice](index.ipynb) | Previo: [FormalismoHamiltoniano.MecanicaCeleste.HamiltonJacobi](10.04.00.00.FormalismoHamiltoniano.MecanicaCeleste.HamiltonJacobi.ipynb) | Siguiente: [ApendiceAlgoritmos](11.00.00.00.ApendiceAlgoritmos.ipynb)"
   ]
  },
  {
   "cell_type": "markdown",
   "metadata": {},
   "source": [
    "## 10.1. Problemas seleccionados\n",
    "<a id='hamiltoniano_problemas'></a>"
   ]
  },
  {
   "cell_type": "markdown",
   "metadata": {
    "tags": [
     "problem"
    ]
   },
   "source": [
    "1.  **Partícula deslizandose sobre un alambre parabólico**. Una partícula de masa $m$ se desliza bajo la acción de la gravedad y sin fricción sobre un alambre con forma de parábola. \n",
    "\n",
    "> a. Demuestre que el Hamiltoniano de este sistema se escribe como \n",
    "\n",
    ">> $$\n",
    "H(x,p) = \\frac{p^2}{2m(1+x^2)} + \\frac{mg}{2}x^2 \n",
    "$$\n",
    "\n",
    "> b. Grafique los contornos de nivel de este Hamiltoniano. "
   ]
  },
  {
   "cell_type": "markdown",
   "metadata": {
    "tags": [
     "problem"
    ]
   },
   "source": [
    "2.  **Ecuación de Kepler hiperbólica.** En un movimiento hiperbólico bajo un potencial de la forma $1/r$, el ángulo análogo a la anomalía excéntrica es $F$ definido mediante la ecuación \n",
    "\n",
    "> $$\n",
    "r = a(1-e\\cosh F)\n",
    "$$\n",
    "\n",
    "> donde $a(e-1)$ es la distancia al periápsis. Encuentre, usando el fomralismo Lagrangiano de la teoría de sistemas sometidos a fuerzas centrales, el análogo a la ecuación de Kepler expresando a \n",
    "$t$ como función de $F$."
   ]
  },
  {
   "cell_type": "markdown",
   "metadata": {
    "tags": [
     "problem"
    ]
   },
   "source": [
    "3.  **Ecuaciones canónicas de Hamilton.** Dado el siguiente lagrangiano \n",
    "\n",
    "> $$L\\left(q,\\dot{q}\\right)=\\frac{1}{2}\\dot{q}^{2}+q\\dot{q}+3q^{2},$$\n",
    "\n",
    "> encuentre la función Hamiltoniana y *solucione* las ecuaciones canónicas. "
   ]
  },
  {
   "cell_type": "markdown",
   "metadata": {
    "tags": [
     "problem"
    ]
   },
   "source": [
    "4.  **Corchetes de Poisson y constantes de movimiento.** Para un sistema de dos grados de libertad que es descrito por el Hamiltoniano \n",
    "\n",
    "> $$H=q_{1}p_{1}-q_{2}p_{2}-aq_{1}^{2}+bq_{2}^{2},$$\n",
    "\n",
    "> muestre, mediante el uso de corchetes de Poisson, que \n",
    "\n",
    "> \\begin{eqnarray}\n",
    "F_{1}&=&\\frac{p_{1}-aq_{1}}{q_{2}}\\\\F_{2}&=&q_{1}q_{2}\n",
    "\\end{eqnarray}\n",
    "\n",
    "> son constantes de movimiento."
   ]
  },
  {
   "cell_type": "markdown",
   "metadata": {
    "tags": [
     "problem"
    ]
   },
   "source": [
    "5.  **Rueda sin deslizar.** Una esfera maciza de radio $r$ rueda sin deslizar en un plano vertical sobre un cascarón esférico cóncavo hacia arriba de radio $R>r$. \n",
    "\n",
    "> a. Encuentre la función Hamiltoniana para este sistema.\n",
    "\n",
    "> b. Escriba las ecuaciones de movimiento.\n",
    "\n",
    "> c. Encuentre la posición de equilibrio del sistema y la frecuencia de pequeñas oscilaciones alrededor de esa posición."
   ]
  },
  {
   "cell_type": "markdown",
   "metadata": {
    "tags": [
     "problem"
    ]
   },
   "source": [
    "6.  **El vector de Laplace-Runge-Lenz.** Muestre a partir de la condición de los corchetes de Poisson para cantidades conservadas que el vector de Laplace-Runge-Lenz \n",
    "\n",
    "> $$\n",
    "\\vec{A} = \\vec{p}\\times \\vec{L} - mk\\hat{r}\n",
    "$$\n",
    "\n",
    "> es una constante de movimiento en el problema de Kepler."
   ]
  },
  {
   "cell_type": "markdown",
   "metadata": {
    "tags": [
     "problem"
    ]
   },
   "source": [
    "7.  **Condición Simplética.** Un sistema dinámico tiene un solo de grado de libertad.  Se aplica sobre él una transformación canónica dada por: \n",
    "\n",
    "> \\begin{eqnarray}\n",
    "Q & = & q\\cos\\alpha - p\\sin\\alpha \\\\\n",
    "P & = & q\\sin\\alpha+p\\cos\\alpha\n",
    "\\end{eqnarray}\n",
    "\n",
    "> a. Muestre que esta transformación satisface la condición simplética para cualquier valor del parámetreo $\\alpha$. \n",
    "\n",
    "> b. Encuentre la función generatriz de la transformación. \n",
    "\n",
    "> c. ¿Cuál es el significado físico de la trasnformación para $\\alpha=0$ y $\\alpha = \\pi/2$?"
   ]
  },
  {
   "cell_type": "markdown",
   "metadata": {
    "tags": [
     "problem"
    ]
   },
   "source": [
    "8.  **Tipos de transformaciones canónicas**. Demuestre la relación entre las variables y la función generatriz para cada uno de los tipos de transformaciones canónicas, así:\n",
    "\n",
    "> a. Transformación canónica de tipo 1: $\\{p_j=\\partial F_1/\\partial q_j, P_j=-\\partial F_1/\\partial Q_j\\}$\n",
    "\n",
    "> b. Transformación canónica de tipo 2: $\\{p_j=\\partial F_2/\\partial q_j, Q_j=\\partial F_2/\\partial P_j\\}$\n",
    "\n",
    "> c. Transformación canónica de tipo 3: $\\{q_j=-\\partial F_3/\\partial p_j, P_j=-\\partial F_3/\\partial Q_j\\}$\n",
    "\n",
    "> d. Transformación canónica de tipo 4: $\\{q_j=-\\partial F_4/\\partial p_j, Q_j=-\\partial F_4/\\partial P_j\\}$"
   ]
  },
  {
   "cell_type": "markdown",
   "metadata": {
    "tags": [
     "problem"
    ]
   },
   "source": [
    "9.  **El Hamiltoniano de Hénon-Heiles I.** En 1964, M. Hénon y C.Heiles estudiaban el movimiento de las estrellas alrededor del centro galáctico tratando de encontrar una tercera constante de movimento a parte del momentum angular y la energía. Esto les llevo a proponer un potencial idealizado que restringia su acción solo al plano $x,y$. Este potencial se caracteriza por poseer dos términos cúbicos que involucran a las variables $x,y$ haciendo a las ecuaciones de movimiento resultantes no lineales y acopladas. El Hamiltoniano asociado es el Hamiltoniano de Hénon-Heiles que en coordenadas cartesianas se escribe como\n",
    " \n",
    "> $$\n",
    "H = \\frac{p_x^2}{2m} +  \\frac{p_y^2}{2m} + \\frac{1}{2}(x^2+y^2) + x^2y-\\frac{1}{3}y^3\n",
    "$$\n",
    "\n",
    "> a. Deduzca las ecuaciones Hamiltonianas de movimiento.\n",
    " \n",
    "> b. Integre numéricamente las ecuaciones de movimiento usando por un lado el método de Euler y por el otro el *integrador simpléctico Leap-Frog*. Grafique el comportamiento de la energía como función del tiempo ¿Es la enregía una cantidad conservada con ambos esquemas? \n",
    " \n",
    "> c. Grafique la trayectoria obtenida en el punto anterior en el espacio de configuración. "
   ]
  },
  {
   "cell_type": "markdown",
   "metadata": {
    "tags": [
     "navigation"
    ]
   },
   "source": [
    "[Indice](index.ipynb) | Previo: [FormalismoHamiltoniano.MecanicaCeleste.HamiltonJacobi](10.04.00.00.FormalismoHamiltoniano.MecanicaCeleste.HamiltonJacobi.ipynb) | Siguiente: [ApendiceAlgoritmos](11.00.00.00.ApendiceAlgoritmos.ipynb)"
   ]
  }
 ],
 "metadata": {
  "kernelspec": {
   "display_name": "Python 3",
   "language": "python",
   "name": "python3"
  },
  "language_info": {
   "codemirror_mode": {
    "name": "ipython",
    "version": 3
   },
   "file_extension": ".py",
   "mimetype": "text/x-python",
   "name": "python",
   "nbconvert_exporter": "python",
   "pygments_lexer": "ipython3",
   "version": "3.6.8"
  },
  "mybook": {
   "type": "problems:0"
  }
 },
 "nbformat": 4,
 "nbformat_minor": 2
}
