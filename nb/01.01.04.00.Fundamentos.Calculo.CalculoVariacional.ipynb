{
 "cells": [
  {
   "cell_type": "markdown",
   "metadata": {
    "tags": [
     "navigation"
    ]
   },
   "source": [
    "[Indice](index.ipynb) | Previo: [Fundamentos.Calculo.EcuacionesDiferenciales](01.01.03.00.Fundamentos.Calculo.EcuacionesDiferenciales.ipynb) | "
   ]
  },
  {
   "cell_type": "markdown",
   "metadata": {},
   "source": [
    "### 1.1.9. Funcionales y cálculo de variaciones\n",
    "<a id='funcionales_calculo_variaciones'></a>"
   ]
  },
  {
   "cell_type": "markdown",
   "metadata": {},
   "source": [
    "Un tema poco cubierto en los textos básicos de cálculo, pero de gran utilidad en la mecánica, es el denominado **cálculo de variaciones**.  Si bien en esta sección de \"repaso\" no pretendemos ofrecer una introducción detallada a esta importante área del análisis matemático, es necesario presentar aquí algunos resultados básicos que serán de utilidad para el resto del libro. "
   ]
  },
  {
   "cell_type": "markdown",
   "metadata": {},
   "source": [
    "Si el cálculo infinitesimal, que repasamos en las secciones anteriores, trata sobre la variación continua de funciones de variable real, el cálculo de variaciones se ocupa de la variación de los que se conocen como **funcionales**.\n",
    "\n",
    "En términos informales, un funcional es una \"función de funciones\", es decir, una regla de correspondencia entre el conjunto de las funciones y el de los números reales.\n",
    "\n",
    "Un ejemplo, muy interesante e ilustrativo de un funcional, es la integral definida de una función de variable real:\n",
    "\n",
    "$$\n",
    "I[f]=\\int_a^b f(t)\\;\\mathrm{d}t\n",
    "$$\n",
    "\n",
    "La notación $I[f]$, en lugar de $I(b)$ como lo usamos en [la Sección *Integrales*](01.01.02.00.Fundamentos.Calculo.CalculoInfinitesimal.ipynb#integrales), trata de poner en evidencia el hecho de que lo que nos interesa aquí no es el valor mismo de la integral definida, sino cómo el valor de esta cantidad cambia si modificamos la función $f$.  En la Figura ([variacion_funcion](#fig:variacion_funcion)) se muestra la interpretación gráfica de la integral definida.  Sabemos que el área bajo la curva, el valor de nuestro funcional,  dependerá de si usamos la función $f(t)$ o $f_0(t)$."
   ]
  },
  {
   "cell_type": "markdown",
   "metadata": {},
   "source": [
    "<a id='fig:variacion_funcion'></a>![El área bajo una curva es un funcional, en tanto depende de la función que represente la curva, $f(t)$ o $f_0(t)$ Se conoce como una variación $\\delta f$ a la diferencia entre dos funciones cercanas, parametrizada a través de un número real $\\epsilon$ y una función plantilla (panel inferior.) En términos de variaciones el valor de cualquier función vecina a una función de referencia $f_0$ se puede calcular, en un intrevalo de interés, como $f(t)=f_0(t)+\\epsilon\\eta(t)$ .++t!++0.7++\\label{fig:variacion_funcion}](./figures/horizontal_variacion_funcion.png)\n",
    "\n",
    "<center><b>Figura 1.4</b>. El área bajo una curva es un funcional, en tanto depende de la función que represente la curva, $f(t)$ o $f_0(t)$ Se conoce como una variación $</center>"
   ]
  },
  {
   "cell_type": "markdown",
   "metadata": {},
   "source": [
    "De la misma manera en la que se puede estudiar el efecto que un cambio muy pequeño $\\Delta t$ en el valor de la variable independiente $t$ tiene en una función de variable real $f(t)$, como lo hicimos por ejemplo para definir la derivada (ver [la Sección *Derivadas*](01.01.02.00.Fundamentos.Calculo.CalculoInfinitesimal.ipynb#derivadas)), en el cálculo variacional es posible estudiar el efecto que un cambio pequeño $\\delta f$ de una función $f$ tiene en el funcional $I[f]$ \n",
    "\n",
    "Para hacerlo debemos primero definir otra función $\\eta$ que sirve de \"plantilla\" para el cambio.  Al cambio en $f$ se lo llama **variación** y se escribe como:\n",
    "\n",
    "\\begin{equation}\n",
    "\\label{eq:variacion}\n",
    "\\delta f\\equiv \\epsilon \\eta\n",
    "\\end{equation}\n",
    "\n",
    "Una ilustración del concepto de *variación* se muestra en la Figura ([variacion_funcion](#fig:variacion_funcion)).  Allí reconocemos una importante propiedad de la función de plantilla $\\eta(t)$ y es que vale cero en los extremos del intervalo considerado $[a,b]$."
   ]
  },
  {
   "cell_type": "markdown",
   "metadata": {},
   "source": [
    "El cálculo variacional surgió originalmente para resolver problemas prácticos en física, tales como hallar las funciones que máximan o minimizan (extremos) funcionales de alguna utilidad.  \n",
    "\n",
    "Así por ejemplo, considere la siguiente pregunta: ¿cuál es la curva más corta que conecta dos puntos en el plano de euclidiano? \n",
    "\n",
    "Para responder a esta pregunta debemos primero construir el funcional \"distancia a lo largo de una curva\", también llamado, longitud de arco (<cite data-cite=\"Apostol1969Calculus\"><a href=\"mybook.html#Apostol1969Calculus\">Apostol, 1969</a></cite>):\n",
    "\n",
    "\\begin{equation}\n",
    "\\label{eq:longitud_curva}\n",
    "I[f]=\\int_a^b \\sqrt{1+\\left|\\frac{\\mathrm{d}f}{\\mathrm{d}t}\\right|^2}\\;\\mathrm{d}t\n",
    "\\end{equation}\n",
    "\n",
    "Queremos encontrar la función $f_0$ tal que $I[f_0]$ tenga el mínimo valor entre todas las posibles funciones $f$."
   ]
  },
  {
   "cell_type": "markdown",
   "metadata": {},
   "source": [
    "Para encontrar la función que minimiza este funcional debemos, como se acostumbra en el cálculo (<cite data-cite=\"Apostol1967Calculus\"><a href=\"mybook.html#Apostol1967Calculus\">Apostol, 1967</a></cite>), derivar el funcional respecto a la cantidad que parametriza la variación: $\\epsilon$.\n",
    "\n",
    "Escribamos el funcional de forma más general, en términos de una función cercana al mínimo escrita como $f=f_0+\\epsilon\\eta$:\n",
    "\n",
    "\\begin{equation}\n",
    "\\label{eq:funcional_integral}\n",
    "I[f]=\\int_a^b L(f(t),\\dot{f}(t),t)\\;\\mathrm{d}t\n",
    "\\end{equation}\n",
    "\n",
    "Nótese que hemos escrito el integrando como una función general $L$ que depende del valor de la función $f(t)$, de su derivada $\\dot{f}(t)$ y de la variable independiente $t$.  Implícitamente, el funcional depende también del parámetro $\\epsilon$ dado que $f=f_0+\\epsilon\\eta$. "
   ]
  },
  {
   "cell_type": "markdown",
   "metadata": {},
   "source": [
    "Si derivamos el funcional respecto de $\\epsilon$, obtenemos:\n",
    "\n",
    "$$\n",
    "\\frac{\\mathrm{d}I[f]}{\\mathrm{d}\\epsilon}=\\int_a^b \\frac{\\mathrm{d}}{\\mathrm{d}\\epsilon} L(f(t),\\dot{f}(t),t)\\;\\mathrm{d}t\n",
    "$$\n",
    "\n",
    "Aplicando la regla de la cadena, la integral del lado derecho nos queda:\n",
    "\n",
    "$$\n",
    "\\frac{\\mathrm{d}I[f]}{\\mathrm{d}\\epsilon}=\\int_a^b \n",
    "\\left(\n",
    "\\frac{\\partial L}{\\partial f}\\frac{\\mathrm{d}f}{\\mathrm{d}\\epsilon}+\n",
    "\\frac{\\partial L}{\\partial \\dot{f}}\\frac{\\mathrm{d}\\dot{f}}{\\mathrm{d}\\epsilon}\n",
    "\\right)\n",
    "\\;\\mathrm{d}t\n",
    "$$"
   ]
  },
  {
   "cell_type": "markdown",
   "metadata": {},
   "source": [
    "Como $f(t)=f_0(t)+\\epsilon\\eta(t)$, entonces $\\mathrm{d}f/\\mathrm{d}\\epsilon=\\eta$, mientras que  $\\mathrm{d}\\dot{f}/\\mathrm{d}\\epsilon=\\dot{\\eta}$.  Así la integral anterior se desarrolla como:\n",
    "\n",
    "\\begin{equation}\n",
    "\\label{eq:dIdepsilon}\n",
    "\\frac{\\mathrm{d}I[f]}{\\mathrm{d}\\epsilon}=\\int_a^b \n",
    "\\left(\n",
    "\\frac{\\partial L}{\\partial f}\\eta+\n",
    "\\frac{\\partial L}{\\partial \\dot{f}}\\dot{\\eta}\n",
    "\\right)\n",
    "\\;\\mathrm{d}t\n",
    "\\end{equation}\n",
    "\n",
    "El término $\\int_a^b (\\partial L/\\partial \\dot{f})\\dot{\\eta}\\;\\mathrm{d}t$ se puede integrar por partes, si se hace $u=\\partial L/\\partial \\dot{f}$ y $\\mathrm{d}v=\\dot{\\eta}\\;\\mathrm{d}t$:\n",
    "\n",
    "$$\n",
    "\\int_a^b \\frac{\\partial L}{\\partial \\dot{f}}\\dot{\\eta}\\;\\mathrm{d}t=\n",
    "\\left.\\frac{\\partial L}{\\partial \\dot{f}}\\eta\\right|_a^b-\n",
    "\\int_a^b \\frac{\\mathrm{d}}{\\mathrm{d}x}\\left(\\frac{\\partial L}{\\partial \\dot{f}}\\right)\\eta\\;\\mathrm{d}t\n",
    "$$\n",
    "\n",
    "El primer término del lado derecho de la ecuación anterior es cero, en tanto, por definición $\\eta(a)=\\eta(b)=0$."
   ]
  },
  {
   "cell_type": "markdown",
   "metadata": {},
   "source": [
    "Reemplazando en la Ec. ([dIdepsilon](#mjx-eqn-eq%3AdIdepsilon)), la derivada del funcional respecto de epsilon queda finalmente:\n",
    "\n",
    "$$\n",
    "\\frac{\\mathrm{d}I[f]}{\\mathrm{d}\\epsilon}=\\int_a^b \n",
    "\\eta(x)\n",
    "\\left(\\frac{\\partial L}{\\partial f}-\\frac{\\mathrm{d}}{\\mathrm{d}x}\\frac{\\partial L}{\\partial \\dot{f}}\\right)\n",
    "\\;\\mathrm{d}x\n",
    "$$\n",
    "\n",
    "Para que $I[f]$ sea mínima en $f=f_0$ su derivada $\\mathrm{d}I[f]/{\\mathrm{d}\\epsilon}$ debe ser cero en $\\epsilon=0$.  Esto equivale a la *ecuación integral*:\n",
    "\n",
    "\\begin{equation}\n",
    "\\label{eq:ecuacion_integral_variaciones}\n",
    "\\int_a^b \n",
    "\\eta(x)\n",
    "\\left(\\frac{\\partial L}{\\partial f}-\\frac{\\mathrm{d}}{\\mathrm{d}t}\\frac{\\partial L}{\\partial \\dot{f}}\\right)\n",
    "\\;\\mathrm{d}t=0\n",
    "\\end{equation}\n",
    "\n",
    "que lamentablemente no es muy útil para resolver nuestro problema original.  Para acercarnos a la solución necesitamos de un poderoso teorema:"
   ]
  },
  {
   "cell_type": "markdown",
   "metadata": {
    "subtitle": "Lema fundamental del cálculo de variacions",
    "tags": [
     "box_theorem"
    ],
    "title": "Teorema"
   },
   "source": [
    "> **:Teorema: Lema fundamental del cálculo de variacions.** Si una función continua $f(t)$ en el intervalo abierto $(a,b)$ satisface la igualdad:\n",
    "\n",
    "  $$\n",
    "  \\int_a^b f(t)h(t)\\;\\mathrm{d}t=0\n",
    "  $$\n",
    "\n",
    "> para toda función $h(t)$ continuamente diferenciable (todas sus derivadas son continuas) y con *soporte compacto* (acotada), entonces $f(t)=0$. "
   ]
  },
  {
   "cell_type": "markdown",
   "metadata": {},
   "source": [
    "De acuerdo con este teorema, y suponiendo que $\\eta(t)$ es continuamente diferenciable y acotada, la función entre paréntesis la ecuación integral ([ecuacion_integral_variaciones](#mjx-eqn-eq%3Aecuacion_integral_variaciones)) es:\n",
    "\n",
    "\\begin{equation}\n",
    "\\label{eq:ecuacion_euler_lagrange}\n",
    "\\frac{\\partial L}{\\partial f}-\\frac{\\mathrm{d}}{\\mathrm{d}t}\\frac{\\partial L}{\\partial \\dot{f}}=0\n",
    "\\end{equation}\n",
    "\n",
    "Esta ecuación es una versión particular (para funciones de una sola variable) de la que se conoce en la historia como la **ecuación de Euler-Lagrange** y que será de importancia central en este libro."
   ]
  },
  {
   "cell_type": "markdown",
   "metadata": {},
   "source": [
    "Volviendo a nuestro problema original, es decir, encontrar la curva con la menor longitud entre dos puntos, y reconociendo que:\n",
    "\n",
    "$$\n",
    "L(f(t),\\dot{f}(t),t)=\\sqrt{1+|\\dot{f}(t)|^2},\n",
    "$$\n",
    "\n",
    "Entonces $\\partial L/\\partial f=0$ (no aparece el símbolo $f$ en la fórmula de $L$) y $\\partial L/\\partial\\dot{f}=\\dot{f}/\\sqrt{1+|\\dot{f}(t)|^2}$.  De allí, la ecuación de Euler-Lagrange ([ecuacion_euler_lagrange](#mjx-eqn-eq%3Aecuacion_euler_lagrange)) en este problema se convierte en:\n",
    "\n",
    "$$\n",
    "\\frac{\\mathrm{d}}{\\mathrm{d}t}\\left(\\frac{\\dot{f}}{\\sqrt{1+|\\dot{f}(t)|^2}}\\right)=0\n",
    "$$\n",
    "\n",
    "Esta ecuación significa que el término entre paréntesis es constante.  Después de un poco de algebra, la expresión resultante, se puede integrar para obtener:\n",
    "\n",
    "$$\n",
    "f(t)=At+B,\n",
    "$$\n",
    "\n",
    "donde $A$, $B$ son constantes.\n",
    "\n",
    "La respuesta final a la pregunta original es ahora clara: la curva más corta entre dos puntos en el plano euclidiano es una línea recta."
   ]
  },
  {
   "cell_type": "markdown",
   "metadata": {},
   "source": [
    "#### Algoritmos en el cálculo variacional"
   ]
  },
  {
   "cell_type": "markdown",
   "metadata": {},
   "source": [
    "Si el cálculo variacional es poco común en los textos básicos de cálculo infinitesimal, los algoritmos relacionados con él son aún más escasos en los textos de análisis numérico.\n",
    "\n",
    "Dada la importancia del cálculo variacional en la mecánica nos detendremos un momento aquí para explorar desde la algoritmia, al menos la solución al problema de cálculo variacional que expusimos en la sección anterior: el cálculo de la curva más corta entre dos puntos en el plano euclidiano."
   ]
  },
  {
   "cell_type": "markdown",
   "metadata": {},
   "source": [
    "Para ello escribamos primero la rutina que servirá en nuestro caso como funcional (y que implementa la Ec. [longitud_curva](#mjx-eqn-eq%3Alongitud_curva)):"
   ]
  },
  {
   "cell_type": "markdown",
   "metadata": {},
   "source": [
    "<a id='code:funcional_integral'></a>"
   ]
  },
  {
   "cell_type": "code",
   "execution_count": 11,
   "metadata": {
    "codelabel": "code:funcional_integral",
    "codeplot": 0,
    "tags": [
     "code:funcional_integral"
    ]
   },
   "outputs": [],
   "source": [
    "def funcional_integral(f0,eta,epsilon,a,b,**opciones_de_f0):\n",
    "    \n",
    "    #Definimos las función con su variación\n",
    "    f=lambda t:f0(t,**opciones_de_f0)+epsilon*eta(t)\n",
    "    \n",
    "    #La derivada de f la calculamos con derivative\n",
    "    from scipy.misc import derivative\n",
    "    dfdt=lambda t:derivative(f,t,0.01)\n",
    "    \n",
    "    #Este es el integrando del funcional\n",
    "    from numpy import sqrt\n",
    "    L=lambda t:sqrt(1+abs(dfdt(t))**2)\n",
    "    \n",
    "    #El funcional es la integral definida del integrando\n",
    "    from scipy.integrate import quad\n",
    "    integral=quad(L,a,b)\n",
    "    longitud=integral[0]\n",
    "    \n",
    "    return longitud"
   ]
  },
  {
   "cell_type": "markdown",
   "metadata": {},
   "source": [
    "Nótese que un *funcional* en el lenguaje de la algoritmia es una rutina que recibe como parámetros otras rutina (en este caso `f0` y `eta`) y devuelve un valor numérico (en este caso `longitud`.)\n",
    "\n",
    "La rutina en el Alg. ([funcional_integral](#code:funcional_integral)), si bien parece compleja, recoje todos los elementos que hemos aprendido en esta sección: los parametros opcionales de una rutina expresados como `**opciones_de_f0` y que vimos en una nota de la [Sección *Funciones*](01.01.02.00.Fundamentos.Calculo.CalculoInfinitesimal.ipynb#funciones), las funciones `lambda` que vimos en la misma sección, la derivada numérica calculada usando `derivative` que conocimos en la [Sección *Derivadas*](01.01.02.00.Fundamentos.Calculo.CalculoInfinitesimal.ipynb#derivadas) y la integral por cuadraturas usando `quad` de la [Sección *Integrales*](01.01.02.00.Fundamentos.Calculo.CalculoInfinitesimal.ipynb#integrales). \n",
    "\n",
    "Más importante aún es el hecho que esta rutina puede usarse para cualquier funcional que se exprese como una integral definida de la forma de la Ec. ([funcional_integral](#mjx-eqn-eq%3Afuncional_integral)).  Para adaptarla a otras situaciones, simplemente se debe cambiar la función `L`.  En la sección de problemas al final de este capítulo se pone a prueba esta rutina en otros contextos."
   ]
  },
  {
   "cell_type": "markdown",
   "metadata": {},
   "source": [
    "Supongamos ahora que queremos calcular la curva más corta que une los puntos del plano cartesiano $(0,0)$ y $(\\pi,1)$  (es decir $a=0$ y $b=\\pi$).  Para ello proponemos una función de referencia $f_0(t)=(t/\\pi)^n$.  Esta función para por ambos puntos para todo $n$.  Como función de plantilla $\\eta(t)$, que debe ser una función acotada de acuerdo al lema fundamental del cálculo de variaciones, usaremos la función trigonométrica seno (que cumple la condición $\\eta(a)=\\sin 0=0$ y $\\eta(b)=\\sin\\pi=0$). \n",
    "\n",
    "El siguiente algoritmo implementa estas elecciones:"
   ]
  },
  {
   "cell_type": "code",
   "execution_count": 2,
   "metadata": {
    "codelabel": "",
    "codeplot": 0
   },
   "outputs": [],
   "source": [
    "#Intevalo entre los puntos\n",
    "from numpy import pi\n",
    "a=0\n",
    "b=pi\n",
    "\n",
    "#Funcion de referencia\n",
    "def curva(t,n=1):\n",
    "    return (t/pi)**n\n",
    "\n",
    "#Función plantilla\n",
    "from numpy import sin\n",
    "eta=sin"
   ]
  },
  {
   "cell_type": "markdown",
   "metadata": {},
   "source": [
    "Para ilustrar el uso de la rutina en el Alg. ([funcional_integral](#code:funcional_integral)), calculemos la longitud de arco para el caso en el que $n=2$ y $\\epsilon=0.5$:"
   ]
  },
  {
   "cell_type": "code",
   "execution_count": 3,
   "metadata": {
    "codelabel": "",
    "codeplot": 0
   },
   "outputs": [],
   "source": [
    "n=2\n",
    "If=funcional_integral(curva,eta,0.5,a,b,n=n)"
   ]
  },
  {
   "cell_type": "code",
   "execution_count": 4,
   "metadata": {
    "codelabel": "",
    "codeplot": 0,
    "tags": [
     "hide_input"
    ]
   },
   "outputs": [
    {
     "name": "stdout",
     "output_type": "stream",
     "text": [
      "I[f] = 3.337162809417341\n"
     ]
    }
   ],
   "source": [
    "print(f\"I[f] = {If}\")"
   ]
  },
  {
   "cell_type": "markdown",
   "metadata": {},
   "source": [
    "Para encontrar la trayectoria más corta entre los puntos seleccionados, debemos minimizar una función del tipo `longitud_arco(epsilon)` que llame a la rutina `funcional_integral`, pero que solo dependa de la variable que queremos minimizar, es decir de `epsilon`.  Para ello podemos definir la función `lambda`:"
   ]
  },
  {
   "cell_type": "code",
   "execution_count": 5,
   "metadata": {
    "codelabel": "",
    "codeplot": 0
   },
   "outputs": [],
   "source": [
    "longitud_arco=lambda epsilon:funcional_integral(curva,eta,epsilon,\n",
    "                                                a,b,n=n)"
   ]
  },
  {
   "cell_type": "markdown",
   "metadata": {},
   "source": [
    "La minimización, finalmente, se consigue usando la rutina `minimize` del paquete `SciPy`, capaz de encontar el mínimo de funciones escalares con un número arbitario de variables.  Lo único que necesita `minimize` para lograr su cometido es que le pasemos una rutina que tenga un solo parametro, en nuestro caso `longitud_arco` y un valor de prueba para la variable independiente (en nuestro caso usaremos $\\epsilon=0$):"
   ]
  },
  {
   "cell_type": "code",
   "execution_count": 12,
   "metadata": {
    "codelabel": "",
    "codeplot": 0
   },
   "outputs": [],
   "source": [
    "from scipy.optimize import minimize\n",
    "solucion=minimize(longitud_arco,0.0)"
   ]
  },
  {
   "cell_type": "code",
   "execution_count": 13,
   "metadata": {
    "codelabel": "",
    "codeplot": 0,
    "tags": [
     "hide_input"
    ]
   },
   "outputs": [
    {
     "name": "stdout",
     "output_type": "stream",
     "text": [
      "Resultado de la minimización:\n",
      "      fun: 3.2975722013512403\n",
      " hess_inv: array([[0.73687233]])\n",
      "      jac: array([1.1920929e-06])\n",
      "  message: 'Optimization terminated successfully.'\n",
      "     nfev: 12\n",
      "      nit: 3\n",
      "     njev: 4\n",
      "   status: 0\n",
      "  success: True\n",
      "        x: array([0.25801323])\n"
     ]
    }
   ],
   "source": [
    "print(f\"Resultado de la minimización:\\n{solucion}\")"
   ]
  },
  {
   "cell_type": "markdown",
   "metadata": {},
   "source": [
    "Nótese que el resultado de la rutina `minimize` es un *objeto* entre cuyos atributos se encuentra el valor de la variable independiente `x` que hace mínima la función de nuestro interés, en este caso `longitud_de_arco`. \n",
    "\n",
    "Puesto en términos de nuestro problema el resultado anterior indica que para curvas del tipo $f_0(t)=(t/\\pi)^2$, que sufren variaciones con una función plantilla $\\eta(t)=\\sin t$, la curva de mínima longitud entre el punto $(0,0)$ y el punto $(0,\\pi)$, corresponde a una variación con $\\epsilon=0.258$."
   ]
  },
  {
   "cell_type": "markdown",
   "metadata": {},
   "source": [
    "Hagamos un gráfico de la función resultante y de su comparación con la solución analítica:"
   ]
  },
  {
   "cell_type": "code",
   "execution_count": null,
   "metadata": {
    "codelabel": "",
    "codeplot": 0,
    "tags": [
     "hide_pdf"
    ]
   },
   "outputs": [],
   "source": [
    "%matplotlib nbagg"
   ]
  },
  {
   "cell_type": "code",
   "execution_count": 15,
   "metadata": {
    "codelabel": "fig:01.01.04.00.Fundamentos.Calculo.CalculoVariacional_5",
    "codeplot": 1,
    "figcaption": "<b>Figura 1.5.</b> La curva continua indica una aproximación numérica al camino más corto entre los puntos $(0,0)$ y $(0,\\pi)$ del plano euclidiano, encontrada al minimizar el funcional longitud de arco y usando como función de prueba $f_0=(t/\\pi)^n$ (linea punteada) y como función plantilla $\\epsilon(t)=\\sin t$.  El valor de $\\epsilon$ que corresponde a la solución se muestra en la etiqueta.  Para comparación se muestra (linea rayada) la solución exacta, que corresponde a una línea recta."
   },
   "outputs": [
    {
     "data": {
      "image/png": "[encoded data removed]",
      "text/plain": [
       "<Figure size 432x288 with 1 Axes>"
      ]
     },
     "metadata": {
      "needs_background": "light"
     },
     "output_type": "display_data"
    }
   ],
   "source": [
    "import matplotlib.pyplot as plt\n",
    "plt.figure()\n",
    "\n",
    "from numpy import linspace,pi\n",
    "ts=linspace(0,pi)\n",
    "\n",
    "#Valor de epsilon proveniende de la minimización\n",
    "epsilon=solucion.x[0]\n",
    "\n",
    "plt.plot(ts,curva(ts,n=n),'r.',\n",
    "         label=f\"Curva de referencia\")\n",
    "plt.plot(ts,curva(ts,n=n)+epsilon*eta(ts),'b-',\n",
    "         label=f\"Curva variada con $\\epsilon$={epsilon:g}\")\n",
    "plt.plot(ts,curva(ts,n=1),'k--',\n",
    "         label=f\"Línea recta\")\n",
    "\n",
    "plt.legend();\n",
    "\n",
    "#--hide--\n",
    "plt.xlabel(\"t\");"
   ]
  },
  {
   "cell_type": "markdown",
   "metadata": {},
   "source": [
    "<a id='fig:01.01.04.00.Fundamentos.Calculo.CalculoVariacional_5'></a><center><b>Figura 1.5.</b> La curva continua indica una aproximación numérica al camino más corto entre los puntos $(0,0)$ y $(0,\\pi)$ del plano euclidiano, encontrada al minimizar el funcional longitud de arco y usando como función de prueba $f_0=(t/\\pi)^n$ (linea punteada) y como función plantilla $\\epsilon(t)=\\sin t$.  El valor de $\\epsilon$ que corresponde a la solución se muestra en la etiqueta.  Para comparación se muestra (linea rayada) la solución exacta, que corresponde a una línea recta.</center>"
   ]
  },
  {
   "cell_type": "markdown",
   "metadata": {},
   "source": [
    "### 1.1.1. Gráficos interactivos\n",
    "<a id='graficos_interactivos_variacional'></a>"
   ]
  },
  {
   "cell_type": "markdown",
   "metadata": {},
   "source": [
    "Para ver los gráficos interactivos use a las libretas de `Jupyter` que que están disponibles en la versión electrónica del libro."
   ]
  },
  {
   "cell_type": "markdown",
   "metadata": {
    "tags": [
     "hide_html"
    ]
   },
   "source": [
    "Los algoritmos de la sección anterior que nos permitieron determinar, de manera aproximada, cuál es la curva con la longitud mínima entre dos puntos, pueden resumirse en la siguiente rutina:"
   ]
  },
  {
   "cell_type": "code",
   "execution_count": 9,
   "metadata": {
    "codelabel": "",
    "codeplot": 0,
    "tags": [
     "hide_html"
    ]
   },
   "outputs": [],
   "source": [
    "def minima_longitud_arco(n=2):\n",
    "    from scipy.optimize import minimize\n",
    "    import matplotlib.pyplot as plt\n",
    "    from numpy import linspace,pi\n",
    "\n",
    "    longitud_arco=lambda epsilon:funcional_integral(curva,eta,epsilon,a,b,n=n)\n",
    "    solucion=minimize(longitud_arco,0.0)\n",
    "\n",
    "    plt.figure()\n",
    "\n",
    "    ts=linspace(0,pi)\n",
    "\n",
    "    #Valor de epsilon proveniende de la minimización\n",
    "    epsilon=solucion.x[0]\n",
    "\n",
    "    plt.plot(ts,curva(ts,n=n),'r-',\n",
    "             label=f\"Curva de referencia\")\n",
    "    plt.plot(ts,curva(ts,n=n)+epsilon*eta(ts),'b-',\n",
    "             label=f\"Curva variada con $\\epsilon$={epsilon:g}\")\n",
    "    plt.plot(ts,curva(ts,n=1),'k--',\n",
    "             label=f\"Línea recta\")\n",
    "\n",
    "    plt.legend();"
   ]
  },
  {
   "cell_type": "markdown",
   "metadata": {
    "tags": [
     "hide_html"
    ]
   },
   "source": [
    "Usando esta rutina, podemos comprobar gráficamente la solución buscada para distintos valores de $n$ en la función de prueba:"
   ]
  },
  {
   "cell_type": "code",
   "execution_count": 10,
   "metadata": {
    "codelabel": "fig:01.01.04.00.Fundamentos.Calculo.CalculoVariacional_6",
    "codeplot": 1,
    "figcaption": "<b>Figura 1.6.</b> ",
    "tags": [
     "hide_html"
    ]
   },
   "outputs": [
    {
     "data": {
      "application/vnd.jupyter.widget-view+json": {
       "model_id": "02a821fb3301460189595cfb399d93de",
       "version_major": 2,
       "version_minor": 0
      },
      "text/plain": [
       "interactive(children=(FloatSlider(value=2.0, continuous_update=False, description='n', max=3.0, min=0.5), Outp…"
      ]
     },
     "metadata": {},
     "output_type": "display_data"
    },
    {
     "data": {
      "text/plain": [
       "<function __main__.minima_longitud_arco(n=2)>"
      ]
     },
     "execution_count": 10,
     "metadata": {},
     "output_type": "execute_result"
    }
   ],
   "source": [
    "from ipywidgets import interact,fixed,widgets\n",
    "opciones=dict(continuous_update=False)\n",
    "\n",
    "interact(minima_longitud_arco,\n",
    "         n=widgets.FloatSlider(min=0.5,max=3.0,step=0.1,value=2.0,**opciones))"
   ]
  },
  {
   "cell_type": "markdown",
   "metadata": {},
   "source": [
    "<a id='fig:01.01.04.00.Fundamentos.Calculo.CalculoVariacional_6'></a><center><b>Figura 1.6.</b> </center>"
   ]
  }
 ],
 "metadata": {
  "celltoolbar": "Tags",
  "kernelspec": {
   "display_name": "Python 3",
   "language": "python",
   "name": "python3"
  },
  "language_info": {
   "codemirror_mode": {
    "name": "ipython",
    "version": 3
   },
   "file_extension": ".py",
   "mimetype": "text/x-python",
   "name": "python",
   "nbconvert_exporter": "python",
   "pygments_lexer": "ipython3",
   "version": "3.6.8"
  }
 },
 "nbformat": 4,
 "nbformat_minor": 2
}
