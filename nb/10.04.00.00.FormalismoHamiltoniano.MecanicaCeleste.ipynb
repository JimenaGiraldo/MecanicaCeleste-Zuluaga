{
 "cells": [
  {
   "cell_type": "markdown",
   "metadata": {
    "tags": [
     "navigation"
    ]
   },
   "source": [
    "[Indice](index.ipynb) | Previo: [FormalismoHamiltoniano.HamiltonJacobi](10.04.00.00.FormalismoHamiltoniano.HamiltonJacobi.ipynb) | Siguiente: [FormalismoHamiltoniano.MecanicaCeleste.Problema2Cuerpos](10.04.00.00.FormalismoHamiltoniano.MecanicaCeleste.Problema2Cuerpos.ipynb)"
   ]
  },
  {
   "cell_type": "markdown",
   "metadata": {},
   "source": [
    "## 10.9. Mecánica celeste en el formalismo hamiltoniano\n",
    "<a id='celeste_hamiltoniano'></a>"
   ]
  },
  {
   "cell_type": "markdown",
   "metadata": {},
   "source": [
    "Después de haber introducido en las secciones anteriores los elementos básicos del formalismo Hamiltoniano, ha llegado el momento de que volvamos sobre los problemas de la mecánica celeste pero que lo hagamos ahora con las herramientas del nuevo formalismo.  Ya habíamos hecho un ejercicio similar en el caso del formalismo lagrangiano.  La idea en esta sección no es que volvamos sobre los mismos problemas que estudiamos allí, sino de que tratemos con las particularidades del formalismo Hamiltoniano otros aspectos de algunos sistemas de la mecánica celeste que conocimos bien usando el formalismo vectorial."
   ]
  },
  {
   "cell_type": "markdown",
   "metadata": {
    "tags": [
     "navigation"
    ]
   },
   "source": [
    "[Indice](index.ipynb) | Previo: [FormalismoHamiltoniano.HamiltonJacobi](10.04.00.00.FormalismoHamiltoniano.HamiltonJacobi.ipynb) | Siguiente: [FormalismoHamiltoniano.MecanicaCeleste.Problema2Cuerpos](10.04.00.00.FormalismoHamiltoniano.MecanicaCeleste.Problema2Cuerpos.ipynb)"
   ]
  }
 ],
 "metadata": {
  "celltoolbar": "Tags",
  "kernelspec": {
   "display_name": "Python 3",
   "language": "python",
   "name": "python3"
  },
  "language_info": {
   "codemirror_mode": {
    "name": "ipython",
    "version": 3
   },
   "file_extension": ".py",
   "mimetype": "text/x-python",
   "name": "python",
   "nbconvert_exporter": "python",
   "pygments_lexer": "ipython3",
   "version": "3.6.8"
  }
 },
 "nbformat": 4,
 "nbformat_minor": 2
}
