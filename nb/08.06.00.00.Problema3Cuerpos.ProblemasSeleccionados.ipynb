{
 "cells": [
  {
   "cell_type": "markdown",
   "metadata": {
    "tags": [
     "navigation"
    ]
   },
   "source": [
    "[Indice](index.ipynb) | Previo: [Problema3Cuerpos.Aplicaciones.ParametroTisserand](08.06.03.00.Problema3Cuerpos.Aplicaciones.ParametroTisserand.ipynb) | "
   ]
  },
  {
   "cell_type": "markdown",
   "metadata": {},
   "source": [
    "## 8.14. Problemas seleccionados\n",
    "<a id='trescuerpos_problemas'></a>"
   ]
  },
  {
   "cell_type": "markdown",
   "metadata": {
    "tags": [
     "problem"
    ]
   },
   "source": [
    "1.  **Relaciones algebraicas básicas**. Dado el problema de los 3 cuerpos,\n",
    "\n",
    "> \\begin{eqnarray}\n",
    "\\vec{r}_{1} & = & \\vec{r} - \\vec{r}_1 = [x(t) - x_1]\\hat{i} + y(t)\\hat{j} + z(t) \\hat{k}, \\\\\n",
    "\\vec{r}_{2} & = & \\vec{r} - \\vec{r}_2 = [x(t) - x_2]\\hat{i} + y(t)\\hat{j} + z(t) \\hat{k}\n",
    "\\end{eqnarray}\n",
    "\n",
    "> son las posiciones del tercer cuerpo con respecto a los otros dos en el sistema rotante.  Muestre detalladamente que se satisfacen las relaciones algebraicas:\n",
    "\n",
    "> a. Producto punto:\n",
    ">> $$\n",
    "-\\frac{\\vec{r}_{1} \\cdot \\dot{\\vec{r}}}{r_{1}^3} = \\frac{d}{dt}\\left(\\frac{1}{r_{1}}\\right)\n",
    "$$\n",
    "\n",
    "> b. Potencial tres cuerpos::\n",
    ">> $$\n",
    " -(1-\\alpha)\\frac{\\vec{r}_{1}}{r^3_{1}} - \\alpha\\frac{\\vec{r}_{2}}{r^3_{2}} - \\hat{k}\\times(\\hat{k}\\times \\vec{r}) =- \\nabla \\left[-\\frac{(1-\\alpha)}{r_{1}}-\\frac{\\alpha}{r_{2}}-\\frac{1}{2}(x^2 + y^2)\\right]\n",
    "$$"
   ]
  },
  {
   "cell_type": "markdown",
   "metadata": {
    "tags": [
     "problem"
    ]
   },
   "source": [
    "2.  **Constante de Jacobi**. La constante de Jacobi se puede escribir como\n",
    "\n",
    "> $$\n",
    "C_J = 2\\frac{(1-\\alpha)}{r_{1}} + 2\\frac{\\alpha}{r_{2}} + x^2 + y^2-v^2 \n",
    "$$\n",
    "\n",
    "> en el sistema rotante del problema de los tres cuerpos. A partir de la posición $(\\xi, \\eta, \\zeta)$ de $m_3$ en el sistema inercial ubicado en el centro de masa de $m_1$ y $m_2$ y de la transformación de unas coordenadas a otras\n",
    "\n",
    "> $$\n",
    "\\left(\\! \\begin{array}{c}\n",
    "   \\xi \\\\\n",
    "   \\eta \\\\\n",
    "   \\zeta\n",
    "   \\end{array} \\! \\right)= \\left(\\!\\!\\! \\begin{array}{ccc}\n",
    "   \\cos nt & -\\sin nt & 0\\\\\n",
    "   \\sin nt & \\cos nt & 0\\\\  \n",
    "   0 & 0 & 1\n",
    "   \\end{array} \\!\\!\\!\\right)\\left(\\! \\begin{array}{c}\n",
    "   x \\\\\n",
    "   y \\\\\n",
    "   z\n",
    "   \\end{array} \\! \\right),\n",
    "$$\n",
    "\n",
    "> demuestre que la constante de Jacobi se puede escribir como\n",
    "\n",
    "> $$\n",
    "C_J = -(\\dot{\\xi}^2 + \\dot{\\eta}^2 + \\dot{\\zeta}^2) + 2\\frac{(1-\\alpha)}{r_1} + 2\\frac{\\alpha}{r_2} + 2(\\xi \\dot{\\eta} - \\eta \\dot{\\xi}) \n",
    "$$"
   ]
  },
  {
   "cell_type": "markdown",
   "metadata": {
    "tags": [
     "problem"
    ]
   },
   "source": [
    "3.  **Radio de Hill** Considere la constante de Jacobi en el problema de tres cuerpos con el Sol, la Tierra y la Luna. Encuentre el valor de $C_J$ e investigue el tamaño y la forma de la superficie límite de Hill para el movimiento de la Luna."
   ]
  },
  {
   "cell_type": "markdown",
   "metadata": {
    "tags": [
     "problem"
    ]
   },
   "source": [
    "4.  **Ecuación de la curva límite.** Considere una partícula de prueba que está confinada a moverse en el plano $xy$, formando un sistema de tres cuerpos con otro par de objetos masivos. Demuestre que la ecuación de la *curva limite* (que separa las regiones donde la partícula puede moverse y donde no) es  \n",
    "  \n",
    "> $$\n",
    "(1-\\alpha)\\Big(r_1^2 + \\frac{2}{r_1}\\Big) + \\alpha \\Big(r_2^2 + \\frac{2}{r_2}\\Big) = C_J + \\alpha(1-\\alpha).\n",
    "$$\n",
    "\n",
    "> A partir de esta expresión, demuestre que el valor mínimo de la constante de Jacobi $C$ es \n",
    "\n",
    "> $$\n",
    "\\displaystyle C_{\\text{min}} = 3-\\alpha(1-\\alpha)\n",
    "$$"
   ]
  },
  {
   "cell_type": "markdown",
   "metadata": {
    "tags": [
     "problem"
    ]
   },
   "source": [
    "5.  **Criterio de Tisserand para orbitas parabólicas.** Muestre que si un cometa inicialmente en una órbita parabólica es perturbado por Júpiter de manera que la órbita final continúa siendo parabólica, la relación de las inclinaciones orbitales antes y después se escribe como \n",
    " \n",
    "> $$\n",
    "\\cos i_2 = \\sqrt{\\frac{q_1}{q_2}}\\cos i_1\n",
    "$$\n",
    "\n",
    "> donde $q_1$ y $q_2$ son las distancias al perihelio de la orbita inicial y final respectivamente."
   ]
  },
  {
   "cell_type": "markdown",
   "metadata": {
    "tags": [
     "problem"
    ]
   },
   "source": [
    "6.  **Velocidad mínima respecto a un sistema rotante.** Una nave espacial se encuentra en una órbita circular alrededor de la Tierra con una altitud de 200 km y con un inclinación orbital respecto al ecuador  terrestre de 28.6º (esto último garantiza que la nave espacial y la Luna se  mueven sobre el mismo plano). A la nave se le dará un incremento tangencial en la velocidad, de tal  manera que la órbita subsecuente sea capaz de llevarla a una órbita lunar sin variar su inclinacion  orbital y con el mínimo gasto de combustible posible. Considerando la teoría alrededor de la constante de Jacobi, encuentre la velocidad mínima que debería tener la nave espacial (respecto al sistema rotante) requerida para este proposito. (***Ayuda:*** calcule el valor de $C_J$ asociado con una partícula hipotética en reposo localizada en  $L_1$)"
   ]
  },
  {
   "cell_type": "markdown",
   "metadata": {
    "tags": [
     "problem"
    ]
   },
   "source": [
    "7.  **Constante de Jacobi como función de $\\alpha$.** Usando las herramientas computacionales provistas en clase, encuentre el valor de la constante de Jacobi correspondiente al punto de Lagrange $L_1$ para varios valores de $\\alpha$. Trate de encontrar una ley de escalamiento entre $C$ y $\\alpha$. "
   ]
  }
 ],
 "metadata": {
  "kernelspec": {
   "display_name": "Python 3",
   "language": "python",
   "name": "python3"
  },
  "language_info": {
   "codemirror_mode": {
    "name": "ipython",
    "version": 3
   },
   "file_extension": ".py",
   "mimetype": "text/x-python",
   "name": "python",
   "nbconvert_exporter": "python",
   "pygments_lexer": "ipython3",
   "version": "3.6.8"
  },
  "mybook": {
   "type": "problems:0"
  }
 },
 "nbformat": 4,
 "nbformat_minor": 2
}
