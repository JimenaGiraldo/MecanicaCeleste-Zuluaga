{
 "cells": [
  {
   "cell_type": "markdown",
   "metadata": {
    "tags": [
     "navigation"
    ]
   },
   "source": [
    "[Indice](index.ipynb) | Previo: [Problema3Cuerpos.Aplicaciones.ParametroTisserand](08.06.03.00.Problema3Cuerpos.Aplicaciones.ParametroTisserand.ipynb) | Siguiente: [FormalismoLagrangiano](09.00.00.00.FormalismoLagrangiano.ipynb)"
   ]
  },
  {
   "cell_type": "markdown",
   "metadata": {},
   "source": [
    "## 8.14. Problemas seleccionados\n",
    "<a id='trescuerpos_problemas'></a>"
   ]
  },
  {
   "cell_type": "markdown",
   "metadata": {
    "tags": [
     "problem"
    ]
   },
   "source": [
    "1.  **Relaciones algebraicas básicas**. Dado el problema de los 3 cuerpos,\n",
    "\n",
    "> \\begin{eqnarray}\n",
    "\\vec{r}_{1} & = & \\vec{r} - \\vec{r}_1 = [x(t) - x_1]\\hat{i} + y(t)\\hat{j} + z(t) \\hat{k}, \\\\\n",
    "\\vec{r}_{2} & = & \\vec{r} - \\vec{r}_2 = [x(t) - x_2]\\hat{i} + y(t)\\hat{j} + z(t) \\hat{k}\n",
    "\\end{eqnarray}\n",
    "\n",
    "> son las posiciones del tercer cuerpo con respecto a los otros dos en el sistema rotante.  Muestre detalladamente que se satisfacen las relaciones algebraicas:\n",
    "\n",
    "> a. Producto punto:\n",
    ">> $$\n",
    "-\\frac{\\vec{r}_{1} \\cdot \\dot{\\vec{r}}}{r_{1}^3} = \\frac{d}{dt}\\left(\\frac{1}{r_{1}}\\right)\n",
    "$$\n",
    "\n",
    "> b. Potencial tres cuerpos::\n",
    ">> $$\n",
    " -(1-\\alpha)\\frac{\\vec{r}_{1}}{r^3_{1}} - \\alpha\\frac{\\vec{r}_{2}}{r^3_{2}} - \\hat{k}\\times(\\hat{k}\\times \\vec{r}) =- \\nabla \\left[-\\frac{(1-\\alpha)}{r_{1}}-\\frac{\\alpha}{r_{2}}-\\frac{1}{2}(x^2 + y^2)\\right]\n",
    "$$"
   ]
  },
  {
   "cell_type": "markdown",
   "metadata": {
    "tags": [
     "solution"
    ]
   },
   "source": [
    "1.  **Solución**\n",
    "\n",
    "> a. Dado que $r_{1}=\\sqrt{\\left(x-x_{1}\\right)^{2}+y^{2}+z^{2}}$, miremos que \n",
    "\n",
    ">> \\begin{eqnarray}\n",
    "\\frac{\\mathrm{d}}{\\mathrm{d}t}\\left(\\frac{1}{r_{1}}\\right)&=&\\frac{\\mathrm{d}}{\\mathrm{d}t}\\left(\\frac{1}{\\sqrt{\\left(x-x_{1}\\right)^{2}+y^{2}+z^{2}}}\\right)\\\\\\mbox{reorgnizando}\\rightarrow&=&\\frac{\\mathrm{d}}{\\mathrm{d}t}\\left(\\left[\\left(x-x_{1}\\right)^{2}+y^{2}+z^{2}\\right]^{-1/2}\\right)\\\\\\mbox{aplicando regla de la cadena}\\rightarrow&=&-\\frac{1}{2}\\frac{2\\left(x-x_{1}\\right)\\dot{x}+2y\\dot{y}+2z\\dot{z}}{\\left[\\left(x-x_{1}\\right)^{2}+y^{2}+z^{2}\\right]^{3/2}}\\\\\\mbox{simplificando}\\rightarrow&=&-\\frac{\\left(x-x_{1}\\right)\\dot{x}+y\\dot{y}+z\\dot{z}}{r_{1}^{3}}.\n",
    "\\end{eqnarray}\n",
    "\n",
    ">> Ahora, como $\\dot{\\vec{r}}=\\dot{x}\\hat{i}+\\dot{y}\\hat{j}+\\dot{z}\\hat{k}$, entonces \n",
    "\n",
    ">> \\begin{eqnarray}\n",
    "\\vec{r}_{1}\\cdot\\dot{\\vec{r}}=\\left[\\left(x-x_{1}\\right)\\hat{i}+y\\hat{j}+z\\hat{k}\\right]\\cdot\\left(\\dot{x}\\hat{i}+\\dot{y}\\hat{j}+\\dot{z}\\hat{k}\\right)=\\left(x-x_{1}\\right)\\dot{x}+y\\dot{y}+z\\dot{z}.\n",
    "\\end{eqnarray}\n",
    "\n",
    ">> Así, combinando ambos resultados, se obtiene lo pedido:\n",
    "\n",
    ">> $$\n",
    "-\\frac{\\vec{r}_{1} \\cdot \\dot{\\vec{r}}}{r_{1}^3} = \\frac{\\mathrm{d}}{\\mathrm{d}t}\\left(\\frac{1}{r_{1}}\\right).\n",
    "$$\n",
    "\n",
    "> b. De igual forma, procedamos operando el lado derecho de lo pedido:\n",
    "\n",
    ">> \\begin{eqnarray}\n",
    "-\\frac{\\partial}{\\partial x}\\left[-\\frac{(1-\\alpha)}{r_{1}}-\\frac{\\alpha}{r_{2}}-\\frac{1}{2}(x^{2}+y^{2})\\right]&=&-\\frac{\\partial}{\\partial x}\\left[-(1-\\alpha)\\left[\\left(x-x_{1}\\right)^{2}+y^{2}+z^{2}\\right]^{-1/2}-\\alpha\\left[\\left(x-x_{2}\\right)^{2}+y^{2}+z^{2}\\right]^{-1/2}-\\frac{1}{2}(x^{2}+y^{2})\\right]\\\\\\mbox{aplicando regla de la cadena}\\rightarrow&=&-\\frac{1}{2}(1-\\alpha)\\frac{2\\left(x-x_{1}\\right)}{\\left[\\left(x-x_{1}\\right)^{2}+y^{2}+z^{2}\\right]^{3/2}}-\\frac{1}{2}\\alpha\\frac{2\\left(x-x_{2}\\right)}{\\left[\\left(x-x_{2}\\right)^{2}+y^{2}+z^{2}\\right]^{3/2}}+x\\\\\\mbox{simplificando}\\rightarrow&=&-(1-\\alpha)\\frac{\\left(x-x_{1}\\right)}{r_{1}^{3}}-\\alpha\\frac{\\left(x-x_{2}\\right)}{r_{2}^{3}}+x.\n",
    "\\end{eqnarray}\n",
    "\n",
    ">> Sin pérdida de generalidad, se obtiene\n",
    "\n",
    ">> \\begin{eqnarray}\n",
    "-\\frac{\\partial}{\\partial y}\\left[-\\frac{(1-\\alpha)}{r_{1}}-\\frac{\\alpha}{r_{2}}-\\frac{1}{2}(x^{2}+y^{2})\\right]&=&-(1-\\alpha)\\frac{y}{r_{1}^{3}}-\\alpha\\frac{y}{r_{2}^{3}}+y\\\\-\\frac{\\partial}{\\partial z}\\left[-\\frac{(1-\\alpha)}{r_{1}}-\\frac{\\alpha}{r_{2}}-\\frac{1}{2}(x^{2}+y^{2})\\right]&=&-(1-\\alpha)\\frac{z}{r_{1}^{3}}-\\alpha\\frac{z}{r_{2}^{3}},\n",
    "\\end{eqnarray}\n",
    "\n",
    ">> de forma que \n",
    "\n",
    ">> \\begin{eqnarray}\n",
    "-\\nabla\\left[-\\frac{(1-\\alpha)}{r_{1}}-\\frac{\\alpha}{r_{2}}-\\frac{1}{2}(x^{2}+y^{2})\\right]&=&\\left[-(1-\\alpha)\\frac{\\left(x-x_{1}\\right)}{r_{1}^{3}}-\\alpha\\frac{\\left(x-x_{2}\\right)}{r_{2}^{3}}+x\\right]\\hat{i}+\\left[-(1-\\alpha)\\frac{y}{r_{1}^{3}}-\\alpha\\frac{y}{r_{2}^{3}}+y\\right]\\hat{j}+\\left[-(1-\\alpha)\\frac{z}{r_{1}^{3}}-\\alpha\\frac{z}{r_{2}^{3}}\\right]\\hat{k}\\\\&=&-(1-\\alpha)\\frac{\\vec{r}_{1}}{r_{1}^{3}}-\\alpha\\frac{\\vec{r}_{2}}{r_{2}^{3}}+x\\hat{i}+y\\hat{j}\n",
    "\\end{eqnarray}\n",
    "\n",
    ">> Pero podemos ver que \n",
    "\n",
    ">> \\begin{eqnarray}\n",
    "-\\hat{k}\\times\\left(\\hat{k}\\times\\vec{r}\\right)&=&-\\hat{k}\\times\\left[\\hat{k}\\times\\left(x\\hat{i}+y\\hat{j}+z\\hat{k}\\right)\\right]\\\\&=&-\\hat{k}\\times\\left(x\\hat{j}-y\\hat{i}\\right)\\\\&=&x\\hat{i}+y\\hat{j},\n",
    "\\end{eqnarray}\n",
    "\n",
    ">> por lo que obtenemos lo pedido:\n",
    "\n",
    ">> $$\n",
    " -(1-\\alpha)\\frac{\\vec{r}_{1}}{r^3_{1}} - \\alpha\\frac{\\vec{r}_{2}}{r^3_{2}} - \\hat{k}\\times(\\hat{k}\\times \\vec{r}) =- \\nabla \\left[-\\frac{(1-\\alpha)}{r_{1}}-\\frac{\\alpha}{r_{2}}-\\frac{1}{2}(x^2 + y^2)\\right].\n",
    "$$"
   ]
  },
  {
   "cell_type": "markdown",
   "metadata": {
    "tags": [
     "problem"
    ]
   },
   "source": [
    "2.  **Constante de Jacobi**. La constante de Jacobi se puede escribir como\n",
    "\n",
    "> $$\n",
    "C_J = 2\\frac{(1-\\alpha)}{r_{1}} + 2\\frac{\\alpha}{r_{2}} + x^2 + y^2-v^2 \n",
    "$$\n",
    "\n",
    "> en el sistema rotante del problema de los tres cuerpos. A partir de la posición $(\\xi, \\eta, \\zeta)$ de $m_3$ en el sistema inercial ubicado en el centro de masa de $m_1$ y $m_2$ y de la transformación de unas coordenadas a otras\n",
    "\n",
    "> $$\n",
    "\\left(\\! \\begin{array}{c}\n",
    "   \\xi \\\\\n",
    "   \\eta \\\\\n",
    "   \\zeta\n",
    "   \\end{array} \\! \\right)= \\left(\\!\\!\\! \\begin{array}{ccc}\n",
    "   \\cos nt & -\\sin nt & 0\\\\\n",
    "   \\sin nt & \\cos nt & 0\\\\  \n",
    "   0 & 0 & 1\n",
    "   \\end{array} \\!\\!\\!\\right)\\left(\\! \\begin{array}{c}\n",
    "   x \\\\\n",
    "   y \\\\\n",
    "   z\n",
    "   \\end{array} \\! \\right),\n",
    "$$\n",
    "\n",
    "> demuestre que la constante de Jacobi se puede escribir como\n",
    "\n",
    "> $$\n",
    "C_J = -(\\dot{\\xi}^2 + \\dot{\\eta}^2 + \\dot{\\zeta}^2) + 2\\frac{(1-\\alpha)}{r_1} + 2\\frac{\\alpha}{r_2} + 2(\\xi \\dot{\\eta} - \\eta \\dot{\\xi}) \n",
    "$$"
   ]
  },
  {
   "cell_type": "markdown",
   "metadata": {
    "tags": [
     "solution"
    ]
   },
   "source": [
    "2.  **Solución**\n",
    "\n",
    "> Multiplicando por la inversa en la transformación de coordenadas dada, podemos escribir $x$, $y$ y $z$ como \n",
    "\n",
    "> \\begin{eqnarray}\n",
    "x&=&\\xi\\cos t+\\eta\\sin t\\\\y&=&\\xi\\sin t+\\eta\\cos t\\\\z&=&\\zeta\n",
    "\\end{eqnarray}\n",
    "\n",
    "> de forma que \n",
    "\n",
    "> \\begin{eqnarray}\n",
    "\\dot{x}&=&\\dot{\\xi}\\cos t-\\xi\\sin t+\\dot{\\eta}\\sin t+\\eta\\cos t=\\left(\\dot{\\xi}+\\eta\\right)\\cos t+\\left(\\dot{\\eta}-\\xi\\right)\\sin t\\\\\\dot{y}&=&\\dot{\\xi}\\sin t+\\xi\\cos t+\\dot{\\eta}\\cos t-\\eta\\sin t=\\left(\\dot{\\xi}-\\eta\\right)\\sin t+\\left(\\dot{\\eta}+\\xi\\right)\\cos t\\\\\\dot{z}&=&\\dot{\\zeta},\n",
    "\\end{eqnarray}\n",
    "\n",
    "> en donde se toma $n=1$ para las coordenadas canónicas en las que \n",
    "\n",
    "> $$\n",
    "C_J = 2\\frac{(1-\\alpha)}{r_{1}} + 2\\frac{\\alpha}{r_{2}} + x^2 + y^2-v^2.\n",
    "$$\n",
    "\n",
    "> Nótese que \n",
    "\n",
    "> \\begin{eqnarray}\n",
    "x^{2}+y^{2}&=&\\left(\\xi\\cos t+\\eta\\sin t\\right)^{2}+\\left(-\\xi\\sin t+\\eta\\cos t\\right)^{2}\\\\\\mbox{elevando al cuadrado}\\rightarrow&=&\\xi^{2}\\cos^{2}t+2\\xi\\eta\\cos t\\sin t+\\eta^{2}\\sin^{2}t+\\xi^{2}\\sin^{2}t-2\\xi\\eta\\sin t\\cos t+\\eta^{2}\\cos^{2}t\\\\\\mbox{factorizando y cancelando}\\rightarrow&=&\\xi^{2}\\left(\\sin^{2}t+\\cos^{2}t\\right)+\\eta^{2}\\left(\\sin^{2}t+\\cos^{2}t\\right)\\\\\\mbox{simplificando}\\rightarrow&=&\\xi^{2}+\\eta^{2}\n",
    "\\end{eqnarray}\n",
    "\n",
    "> y que \n",
    "\n",
    "> \\begin{eqnarray}\n",
    "v^{2}&=&\\dot{x}^{2}+\\dot{y}^{2}+\\dot{z}^{2}\\\\\\mbox{reemplazando}\\rightarrow&=&\\left[\\left(\\dot{\\xi}+\\eta\\right)\\cos t+\\left(\\dot{\\eta}-\\xi\\right)\\sin t\\right]^{2}+\\left[-\\left(\\dot{\\xi}+\\eta\\right)\\sin t+\\left(\\dot{\\eta}-\\xi\\right)\\cos t\\right]^{2}+\\dot{\\zeta}^{2}\\\\\\mbox{expandiendo}\\rightarrow&=&\\left(\\dot{\\xi}+\\eta\\right)^{2}\\cos^{2}t+2\\left(\\dot{\\xi}+\\eta\\right)\\left(\\dot{\\eta}-\\xi\\right)\\sin t\\cos t+\\left(\\dot{\\eta}-\\xi\\right)^{2}\\sin^{2}t+\\left(\\dot{\\xi}+\\eta\\right)^{2}\\sin^{2}t-2\\left(\\dot{\\xi}+\\eta\\right)\\left(\\dot{\\eta}-\\xi\\right)\\sin t\\cos t+\\left(\\dot{\\eta}-\\xi\\right)^{2}\\cos^{2}t+\\dot{\\zeta}^{2}\\\\\\mbox{factorizando}\\rightarrow&=&\\left(\\dot{\\xi}+\\eta\\right)^{2}\\left(\\sin^{2}t+\\cos^{2}t\\right)+\\left(\\dot{\\eta}-\\xi\\right)^{2}\\left(\\sin^{2}t+\\cos^{2}t\\right)+\\dot{\\zeta}^{2}\\\\\\mbox{simplificando}\\rightarrow&=&\\left(\\dot{\\xi}+\\eta\\right)^{2}+\\left(\\dot{\\eta}-\\xi\\right)^{2}+\\dot{\\zeta}^{2}\\\\\\mbox{expandiendo}\\rightarrow&=&\\dot{\\xi}^{2}+2\\eta\\dot{\\xi}+\\eta^{2}+\\dot{\\eta}^{2}-2\\xi\\dot{\\eta}+\\xi^{2}+\\dot{\\zeta}^{2}\\\\\\mbox{organizando}\\rightarrow&=&\\dot{\\xi}^{2}+\\dot{\\eta}^{2}+\\dot{\\zeta}^{2}+\\eta^{2}+\\xi^{2}-2\\left(\\xi\\dot{\\eta}-\\eta\\dot{\\xi}\\right).\n",
    "\\end{eqnarray}\n",
    "\n",
    "> Reemplazando en $C_J$, se sigue que \n",
    "\n",
    "> \\begin{eqnarray}\n",
    "C_{J}&=&2\\frac{(1-\\alpha)}{r_{1}}+2\\frac{\\alpha}{r_{2}}+\\xi^{2}+\\eta^{2}-\\left[\\dot{\\xi}^{2}+\\dot{\\eta}^{2}+\\dot{\\zeta}^{2}+\\eta^{2}+\\xi^{2}-2\\left(\\xi\\dot{\\eta}-\\eta\\dot{\\xi}\\right)\\right]\\\\\\mbox{sumando términos semejantes}\\rightarrow&=&-\\left(\\dot{\\xi}^{2}+\\dot{\\eta}^{2}+\\dot{\\zeta}^{2}\\right)+2\\frac{(1-\\alpha)}{r_{1}}+2\\frac{\\alpha}{r_{2}}+2\\left(\\xi\\dot{\\eta}-\\eta\\dot{\\xi}\\right),\n",
    "\\end{eqnarray}\n",
    "\n",
    "> que era a lo que se quería llegar."
   ]
  },
  {
   "cell_type": "markdown",
   "metadata": {
    "tags": [
     "problem"
    ]
   },
   "source": [
    "3.  **Radio de Hill** Considere la constante de Jacobi en el problema de tres cuerpos con el Sol, la Tierra y la Luna. Encuentre el valor de $C_J$ e investigue el tamaño y la forma de la superficie límite de Hill para el movimiento de la Luna."
   ]
  },
  {
   "cell_type": "markdown",
   "metadata": {
    "tags": [
     "solution"
    ]
   },
   "source": [
    "3.  **Solución**\n",
    "\n",
    "> La superficie límite de Hill, dentro del contexto del CRTBP, es la superficie dentro de la cual debe estar $m_3$ orbitando a $m_2$ para que no exista la posibilidad de que pase a orbitar eventualmente a $m_1$. Dada la figura presentada en el Problema 7 (junto con la discusión que allí se da), podemos decir que esta superficie corresponde a la curva de cero velocidad que encierra a $m_2$ cuando $C_J$ toma el valor tal que $m_3$ se quedaría en reposo en el punto colineal de Lagrange $L_1$. Además, podríamos aproximar dicha superficie a una esfera de radio $x_2-x_{L_1}$.\n",
    "\n",
    "> En el caso del Sol, la Tierra y la Luna, sabemos que el punto colineal de Lagrange $L_1$ corresponde a $x_{L_1}=0.990029 U_L$, de forma que la constante de Jacobi para la cual $m_3$ se quedaría en reposo en el punto colineal de Lagrange $L_1$ es\n",
    "\n",
    "> $$\\boxed{C_J=\\frac{2\\left(1-\\alpha\\right)}{x_{L_{1}}+\\alpha}+\\frac{2\\alpha}{1-\\alpha-x_{L_{1}}}+x_{L_{1}}^{2}=3.00089.}$$\n",
    "\n",
    "> y el radio de la esfera de Hill mencionada sería \n",
    "\n",
    "> $$\\boxed{r_H=x_2-x_{L_1}=1-0.990029=0.00997122U_L=1.49169\\times 10^9\\mbox{ m}.}$$\n",
    "\n",
    "> Esto quiere decir que la Luna todavía está dentro del radio de Hill (a una distancia del 26%) y no pasará a orbitar al Sol en vez de la Tierra en un futuro cercano."
   ]
  },
  {
   "cell_type": "markdown",
   "metadata": {
    "tags": [
     "problem"
    ]
   },
   "source": [
    "4.  **Ecuación de la curva límite.** Considere una partícula de prueba que está confinada a moverse en el plano $xy$, formando un sistema de tres cuerpos con otro par de objetos masivos. Demuestre que la ecuación de la *curva limite* (que separa las regiones donde la partícula puede moverse y donde no) es  \n",
    "  \n",
    "> $$\n",
    "(1-\\alpha)\\Big(r_1^2 + \\frac{2}{r_1}\\Big) + \\alpha \\Big(r_2^2 + \\frac{2}{r_2}\\Big) = C_J + \\alpha(1-\\alpha).\n",
    "$$\n",
    "\n",
    "> A partir de esta expresión, demuestre que el valor mínimo de la constante de Jacobi $C$ es \n",
    "\n",
    "> $$\n",
    "\\displaystyle C_{\\text{min}} = 3-\\alpha(1-\\alpha)\n",
    "$$"
   ]
  },
  {
   "cell_type": "markdown",
   "metadata": {
    "tags": [
     "solution"
    ]
   },
   "source": [
    "4.  **Solución**\n",
    "\n",
    "> Recordemos que en las unidades canónicas de nuestro CRTBP, la constante de Jacobi está dada por \n",
    "\n",
    "> $$\n",
    "C=-\\vec{v}^{2}+\\frac{2\\left(1-\\alpha\\right)}{r_{1}}+\\frac{2\\alpha}{r_{2}}+x^{2}+y^{2}.\n",
    "$$\n",
    "\n",
    "> Debido a que necesariamente $\\vec{v}^{2}\\geq0$, tiene que suceder también que \n",
    "\n",
    "> $$\n",
    "-C+\\frac{2\\left(1-\\alpha\\right)}{r_{1}}+\\frac{2\\alpha}{r_{2}}+x^{2}+y^{2}\\geq0.\n",
    "$$\n",
    "\n",
    "> Por lo tanto, la ecuación de la curva límite que separa las regiones donde la partícula puede moverse está dada por el caso de igualdad. Ahora, si la partícula de prueba que está confinada a moverse en el plano $xy$, entonces su coordenada $z=0$ y, recordando que $x_{1}=-\\alpha$ y que $x_{2}=1-\\alpha$, tenemos lo siguiente: \n",
    "\n",
    "> \\begin{eqnarray}\n",
    "r_{1}^{2}&=&\\left(x-x_{1}\\right)^{2}+y^{2}=\\left(x+\\alpha\\right)^{2}+y^{2}=x^{2}+2\\alpha x+\\alpha^{2}+y^{2}\\\\\n",
    "r_{2}^{2}&=&\\left(x-x_{2}\\right)^{2}+y^{2}=\\left(x-\\left(1-\\alpha\\right)\\right)^{2}+y^{2}=x^{2}-2\\left(1-\\alpha\\right)x+\\left(1-\\alpha\\right)^{2}+y^{2}.\n",
    "\\end{eqnarray}\n",
    "\n",
    "> Al restar estas dos ecuaciones, tenemos\n",
    "> $$\n",
    "r_{1}^{2}-r_{2}^{2}=2x+\\alpha^{2}-\\left(1-\\alpha\\right)^{2}\\qquad\\Longrightarrow\\qquad2x=r_{1}^{2}-r_{2}^{2}-\\alpha^{2}+\\left(1-\\alpha\\right)^{2}.\n",
    "$$\n",
    "\n",
    "> Al sumarlas y aplicar lo obtenido, se sigue\n",
    "> $$r_{1}^{2}+r_{2}^{2}=2\\left(x^{2}+y^{2}\\right)+2\\left(2\\alpha-1\\right)x+\\alpha^{2}+\\left(1-\\alpha\\right)^{2}=2\\left(x^{2}+y^{2}\\right)+\\left(2\\alpha-1\\right)\\left[r_{1}^{2}-r_{2}^{2}-\\alpha^{2}+\\left(1-\\alpha\\right)^{2}\\right]+\\alpha^{2}+\\left(1-\\alpha\\right)^{2}.\n",
    "$$\n",
    "\n",
    "> Al despejar $2\\left(x^{2}+y^{2}\\right)$ (con cuidado algebraico): \n",
    "> \\begin{eqnarray}\n",
    "2\\left(x^{2}+y^{2}\\right)&=&r_{1}^{2}+r_{2}^{2}-\\left(2\\alpha-1\\right)\\left[r_{1}^{2}-r_{2}^{2}-\\alpha^{2}+\\left(1-\\alpha\\right)^{2}\\right]-\\alpha^{2}-\\left(1-\\alpha\\right)^{2}\\\\&=&r_{1}^{2}+r_{2}^{2}-\\left(2\\alpha-1\\right)r_{1}^{2}+\\left(2\\alpha-1\\right)r_{2}^{2}+\\left(2\\alpha-1\\right)\\alpha^{2}-\\left(2\\alpha-1\\right)\\left(1-\\alpha\\right)^{2}-\\alpha^{2}-\\left(1-\\alpha\\right)^{2}\\\\&=&r_{1}^{2}+r_{2}^{2}-2\\alpha r_{1}^{2}+r_{1}^{2}+2\\alpha r_{2}^{2}-r_{2}^{2}+2\\alpha^{3}-\\alpha^{2}-2\\alpha+4\\alpha^{2}-2\\alpha^{3}+1-2\\alpha+\\alpha^{2}-\\alpha^{2}-1+2\\alpha-\\alpha^{2}\\\\&=&2r_{1}^{2}\\left(1-\\alpha\\right)+2\\alpha r_{2}^{2}-2\\alpha\\left(1-\\alpha\\right).\n",
    "\\end{eqnarray}\n",
    "\n",
    "> Simplificando, se obtiene finalmente\n",
    "> $$x^{2}+y^{2}=r_{1}^{2}\\left(1-\\alpha\\right)+\\alpha r_{2}^{2}-\\alpha\\left(1-\\alpha\\right).\n",
    "$$\n",
    "\n",
    "> Reemplazando este resultado en la ecuación de la curva límite, tenemos\n",
    "> $$-C+\\frac{2\\left(1-\\alpha\\right)}{r_{1}}+\\frac{2\\alpha}{r_{2}}+r_{1}^{2}\\left(1-\\alpha\\right)+\\alpha r_{2}^{2}-\\alpha\\left(1-\\alpha\\right)=0.\n",
    "$$\n",
    "\n",
    "> Reorganizando esta expresión, obtenemos lo pedido:\n",
    "> $$\\left(1-\\alpha\\right)\\left(r_{1}^{2}+\\frac{2}{r_{1}}\\right)+\\alpha\\left(r_{2}^{2}+\\frac{2}{r_{2}}\\right)=C+\\alpha\\left(1-\\alpha\\right).\n",
    "$$\n",
    "\n",
    "> Ahora, si derivamos parcialmente esta expresión con respecto a $r_{1}$, obtenemos \n",
    "> $$\\left(1-\\alpha\\right)\\left(2r_{1}-\\frac{2}{r_{1}^{2}}\\right)=\\frac{\\partial C}{\\partial r_{1}}.$$\n",
    "\n",
    "> Igualando esta expresión a cero, obtenemos los puntos críticos de $C$:\n",
    "> $$\\left(1-\\alpha\\right)\\left(2r_{1}-\\frac{2}{r_{1}^{2}}\\right)=0\\qquad\\Longrightarrow\\qquad r_{1}=1$$\n",
    "\n",
    "> $\\alpha$ no puede ser 1 porque, por definición, su valor está entre 0 y 0.5. Al derivar parcialmente con respecto a $r_{2}$ e igualando a cero, obtenemos, de igual manera, $r_{2}=1$. Al derivar una segunda vez con respecto, por ejemplo, a $r_{1}$, obtenemos \n",
    "\n",
    "> $$\n",
    "\\left(1-\\alpha\\right)\\left(2+\\frac{4}{r_{1}^{3}}\\right)=\\frac{\\partial^{2}C}{\\partial r_{1}^{2}}.\n",
    "$$\n",
    "\n",
    "> Nótese que \n",
    "> $$\n",
    "\\left.\\frac{\\partial^{2}C}{\\partial r_{1}^{2}}\\right|_{r_{1}=1}>0.\n",
    "$$\n",
    "\n",
    "> Haciendo lo mismo con $r_{2}$, se obtiene que \n",
    "> $$\n",
    "\\left.\\frac{\\partial^{2}C}{\\partial r_{2}^{2}}\\right|_{r_{2}=1}>0.\n",
    "$$\n",
    "\n",
    "> por lo que podemos asegurar que estamos hallando un mínimo. Al reemplazar $r_{1}=r_{2}=1$ en nuestra curva límite, se sigue que \n",
    "\n",
    "> $$\n",
    "\\left(1-\\alpha\\right)\\left(1+2\\right)+\\alpha\\left(1+2\\right)=C_{\\mbox{min}}+\\alpha\\left(1-\\alpha\\right)\\qquad\\Longrightarrow\\qquad C_{\\mbox{min}}=3-\\alpha\\left(1-\\alpha\\right),\n",
    "$$\n",
    "> que era lo que queríamos demostrar."
   ]
  },
  {
   "cell_type": "markdown",
   "metadata": {
    "tags": [
     "problem"
    ]
   },
   "source": [
    "5.  **Criterio de Tisserand para orbitas parabólicas.** Muestre que si un cometa inicialmente en una órbita parabólica es perturbado por Júpiter de manera que la órbita final continúa siendo parabólica, la relación de las inclinaciones orbitales antes y después se escribe como \n",
    " \n",
    "> $$\n",
    "\\cos i_2 = \\sqrt{\\frac{q_1}{q_2}}\\cos i_1\n",
    "$$\n",
    "\n",
    "> donde $q_1$ y $q_2$ son las distancias al perihelio de la orbita inicial y final respectivamente."
   ]
  },
  {
   "cell_type": "markdown",
   "metadata": {
    "tags": [
     "solution"
    ]
   },
   "source": [
    "5.  **Solución**. Recordemos que la solución del problema de los dos cuerpos es \n",
    "\n",
    "> $$\n",
    "r=\\frac{h^{2}/\\mu}{1+e\\cos f}.\n",
    "$$\n",
    "\n",
    "> Por definición, para una parábola, $e=1$. Por lo tanto, para $r=q$, la distancia al periastro, se sigue que\n",
    "\n",
    "> $$\n",
    "q=\\frac{h^{2}}{2\\mu},\n",
    "$$\n",
    "\n",
    "> donde $\\vec{h}=\\vec{r}\\times\\vec{v}$. Como este vector es constante, calculemos su magnitud en un punto en particular: el periastro, \n",
    "\n",
    "> $$h=qv_{p},$$\n",
    "> donde $v_{p}$ es la velocidad del cometa en el periastro, perpendicular al vector posición en ese punto. Igualando las últimas dos relaciones, obtenemos \n",
    "\n",
    "> $$\n",
    "v_{p}=\\sqrt{\\frac{2\\mu}{q}}.\n",
    "$$\n",
    "\n",
    "> Recordemos, además, que la energía específica para el problema de los dos cuerpos se escribe como\n",
    "\n",
    "> $$\n",
    "\\epsilon=\\frac{1}{2}v^{2}-\\frac{\\mu}{r}.\n",
    "$$\n",
    "\n",
    "> Dado que esta cantidad también es constante, podemos calcularla para cualquier punto de la órbita; otra vez, en el periastro,\n",
    "\n",
    "> $$\n",
    "\\epsilon=\\frac{1}{2}\\frac{2\\mu}{q}-\\frac{\\mu}{q}=0.\n",
    "$$\n",
    "\n",
    "> Por lo tanto, obtenemos una relación *vis viva* para órbitas parabólicas: \n",
    "\n",
    "> $$\n",
    "v^{2}=\\frac{2\\mu}{r}.\n",
    "$$\n",
    "\n",
    "> Ahora, volviendo a nuestro problema de tres cuerpos, teníamos que para un sistema coordenado $\\left(\\xi,\\,\\eta,\\,\\zeta\\right)$ que no rota con la línea que une a $m_{1}$ y a $m_{2}$, la constante de Jacobi es\n",
    "\n",
    "> $$\n",
    "C\\left(\\xi,\\eta,\\zeta\\right)=-\\left(\\dot{\\xi}^{2}+\\dot{\\eta}^{2}+\\dot{\\zeta}^{2}\\right)+\\frac{2\\left(1-\\alpha\\right)}{r_{1}}+\\frac{2\\alpha}{r_{2}}+2h\\cos i.\n",
    "$$\n",
    "\n",
    "> Dado que $\\dot{\\xi}^{2}+\\dot{\\eta}^{2}+\\dot{\\zeta}^{2}=v^{2}$, que estamos considerando que $m_{3}$ orbita a $m_{1}$ y que en nuestras unidades canónicas $\\mu=1$, entonces\n",
    "\n",
    "> $$\n",
    "C=-\\frac{2}{r_{1}}+\\frac{2\\left(1-\\alpha\\right)}{r_{1}}+\\frac{2\\alpha}{r_{2}}+2h\\cos i.\n",
    "$$\n",
    "\n",
    "> Como $C$ es constante, lo puedo calcular donde yo quiera y permanecerá constante. Por lo tanto, puedo calcularlo cuando el cometa esté muy lejos de $m_{1}$ y $m_{2}$, en donde $r_{1},\\, r_{2}\\gg1$, tal que \n",
    "\n",
    "> $$\n",
    "C=2h\\cos i.\n",
    "$$\n",
    "\n",
    "> Así, para dos órbitas con distancias al periastro $q_{1}$ y $q_{2}$ e inclinaciones $i_{1}$ e $i_{2}$, obtenemos el criterio\n",
    "\n",
    "> $$\n",
    "2\\sqrt{2q_{1}}\\cos i_{1}=2\\sqrt{2q_{2}}\\cos i_{2}.\n",
    "$$\n",
    "\n",
    "> Despejando, obtenemos lo pedido:\n",
    "\n",
    "> $$\n",
    "\\cos i_{2}=\\sqrt{\\frac{q_{1}}{q_{2}}}\\cos i_{1}.\n",
    "$$"
   ]
  },
  {
   "cell_type": "markdown",
   "metadata": {
    "tags": [
     "problem"
    ]
   },
   "source": [
    "6.  **Velocidad mínima respecto a un sistema rotante.** Una nave espacial se encuentra en una órbita circular alrededor de la Tierra con una altitud de 200 km y con un inclinación orbital respecto al ecuador  terrestre de 28.6º (esto último garantiza que la nave espacial y la Luna se  mueven sobre el mismo plano). A la nave se le dará un incremento tangencial en la velocidad, de tal  manera que la órbita subsecuente sea capaz de llevarla a una órbita lunar sin variar su inclinacion  orbital y con el mínimo gasto de combustible posible. Considerando la teoría alrededor de la constante de Jacobi, encuentre la velocidad mínima que debería tener la nave espacial (respecto al sistema rotante) requerida para este proposito. (***Ayuda:*** calcule el valor de $C_J$ asociado con una partícula hipotética en reposo localizada en  $L_1$)"
   ]
  },
  {
   "cell_type": "markdown",
   "metadata": {
    "tags": [
     "solution"
    ]
   },
   "source": [
    "6.  **Solución**\n",
    "\n",
    "> De la teoría alrededor de la constante de Jacobi, sabemos que en nuestro sistema de referencia no inercial, existen regiones donde la nave espacial puede estar y otras donde no. Estas regiones dependen de la constante de Jacobi como tal. Si $C$ es pequeña —por ejemplo, igual a $C_{\\mbox{min}}$—, la nave espacial puede estar prácticamente en todo el espacio. Si $C$ es grande —digamos, por ejemplo, del orden de $10C_{\\mbox{min}}$—, la nave está restringida a un lugar del espacio muy pequeño, muy cerca a $m_{1}$ o a $m_{2}$, dependiendo de sus condiciones iniciales. Pero existe un valor exacto de $C$ en donde la nave puede pasar de orbitar a $m_{1}$ a orbitar a $m_{2}$ por un solo punto, pero sin nunca irse muy lejos del sistema, si la posición inicial de la nave se encontraba dentro de esa región. Esta situación es representada en la figura de abajo. \n",
    "\n",
    "> Este punto, como se muestra en la figura, es el primer punto colineal de Lagrange, $L_{1}$ (recordemos que los puntos colineales de Lagrange —además de ser puntos de equilibrio— son los puntos en donde las regiones de exclusión se abren y permiten el intercambio orbital o incluso, en el caso de $L_{2}$ y $L_{3}$, la deriva del cuerpo $m_{\\text{3}}$). Las regiones donde la nave espacial *puede* estar son las que están dentro de la curva interior y fuera de la curva exterior. La región entre las curvas no es permitida, pues la nave tendría una rapidez compleja y esto no tiene sentido físico (por ahora... o bueno, por lo menos no en este problema).\n",
    "\n",
    "> Ahora, recordemos que la constante de Jacobi es tal que \n",
    "\n",
    "> $$\n",
    "\\vec{v}^{2}=-C_J+\\frac{2\\left(1-\\alpha\\right)}{r_{1}}+\\frac{2\\alpha}{r_{2}}+x^{2}+y^{2}.\n",
    "$$\n",
    "\n",
    "> Por lo tanto, volviendo al problema, para que la rapidez que deba tener la nave espacial para pasar a orbitar la Luna sea mínima, se deben cumplir varias condiciones:\n",
    "\n",
    "> a. Dado que está negativa, la constante de Jacobi $C_J$ debe tener el máximo valor posible que permita un intercambio de órbitas. Esto es, debe tener el valor para que las regiones de exclusión sean las que se muestran en la figura anterior.\n",
    "\n",
    "> b. Por lo tanto, vamos a calcular $C_J$ en un punto conocido: $L_{1}$. Para que la rapidez de la nave al dejar la órbita de la Tierra sea mínima, la rapidez en $L_{1}$ debe ser casi cero, apenas para alcanzar a intercambiar de órbita.\n",
    "\n",
    "> c. Después de tener $C_J$, hay que calcular $v$ al salir de la Tierra. Para esto, $r_{1}$ es fija y está dada por las condiciones del problema. Pero para que $v$ sea mínima, hay que encontrar los sus puntos críticos respecto a $x$ y $y$.\n",
    "\n",
    "> Ahora sí, dada la discusión, calculemos: tenemos $a=6571\\mbox{ km}=0.017112U_{L}$ (el radio de la órbita inicial de la nave alrededor de la tierra. No se debe confundir con el semieje mayor de la Luna alrededor de la Tierra, que en nuestras unidades canónicas sería $a_{luna}=1U_{L}$), $e=0$ y ${\\displaystyle \\alpha=\\frac{M_{luna}}{M_{luna}+M_{\\oplus}}=0.01215}$. Computacionalmente hallamos la posición de $L_{1}$  y obtenemos $x_{L_{1}}=0.836924$. En este punto, \n",
    "\n",
    "> \\begin{eqnarray}\n",
    "r_{1}&=&x_{L_{1}}-x_{1}=x_{L_{1}}+\\alpha\\\\r_{2}&=&x_{2}-x_{L_{1}}=1-\\alpha-x_{L_{1}}\\\\x^{2}+y^{2}&=&x_{L_{1}}^{2}\n",
    "\\end{eqnarray}\n",
    "\n",
    "> y por lo tanto \n",
    "\n",
    "> $$\n",
    "C_J=\\frac{2\\left(1-\\alpha\\right)}{x_{L_{1}}+\\alpha}+\\frac{2\\alpha}{1-\\alpha-x_{L_{1}}}+x_{L_{1}}^{2}=3.18832.\n",
    "$$\n",
    "\n",
    "> Ahora, para calcular $v_{min}$, escribamos $\\vec{v}^{2}$ en términos de la expresión $x^{2}+y^{2}=r_{1}^{2}\\left(1-\\alpha\\right)+\\alpha r_{2}^{2}-\\alpha\\left(1-\\alpha\\right)$ encontrada en el problema 4:\n",
    "\n",
    "> $$\n",
    "\\vec{v}^{2}=-C_J+\\frac{2\\left(1-\\alpha\\right)}{r_{1}}+\\frac{2\\alpha}{r_{2}}+r_{1}^{2}\\left(1-\\alpha\\right)+\\alpha r_{2}^{2}-\\alpha\\left(1-\\alpha\\right).\n",
    "$$\n",
    "\n",
    "> Dado que $r_{1}=a$ es fijo, derivemos con respecto a $r_{2}$:\n",
    "\n",
    "> $$\n",
    "\\frac{\\mathrm{d}\\vec{v}^{2}}{\\mathrm{d}r_{2}}=-\\frac{2\\alpha}{r_{2}^{2}}+2\\alpha r_{2}=0\\qquad\\Longrightarrow\\qquad r_{2}=1.\n",
    "$$\n",
    "\n",
    "> Claramente,\n",
    "\n",
    "> $$\n",
    "\\left.\\frac{\\mathrm{d}^{2}\\vec{v}^{2}}{\\mathrm{d}r_{2}^{2}}\\right|_{r_{2}=1}>0,\n",
    "$$\n",
    "\n",
    "> por lo que $r_2=1$ corresponde a un mínimo de $\\vec{v}^{2}$ y tenemos entonces que para que la velocidad que le vamos a dar a la nave en su órbita inicial alrededor de la Tierra sea mínima, se debe cumplir que\n",
    "\n",
    "> \\begin{eqnarray}\n",
    "r_{1}&=&a\\\\r_{2}&=&1\\\\x^{2}+y^{2}&=&=a^{2}-a^{2}\\alpha+\\alpha^{2},\n",
    "\\end{eqnarray}\n",
    "\n",
    "> de manera que \n",
    "\n",
    "> $$\n",
    "\\boxed{v_{min}=\\sqrt{-C_{J}+\\frac{2\\left(1-\\alpha\\right)}{a}+2\\alpha+a^{2}-a^{2}\\alpha+\\alpha^{2}}=10.5969\\, U_{L}/U_{T}=10.8572 \\mbox{ km/s}.}\n",
    "$$"
   ]
  },
  {
   "cell_type": "markdown",
   "metadata": {
    "tags": [
     "problem"
    ]
   },
   "source": [
    "7.  **Constante de Jacobi como función de $\\alpha$.** Usando las herramientas computacionales provistas en clase, encuentre el valor de la constante de Jacobi correspondiente al punto de Lagrange $L_1$ para varios valores de $\\alpha$. Trate de encontrar una ley de escalamiento entre $C$ y $\\alpha$. "
   ]
  },
  {
   "cell_type": "markdown",
   "metadata": {
    "tags": [
     "solution"
    ]
   },
   "source": [
    "7.  **Solución**. Pendiente."
   ]
  },
  {
   "cell_type": "markdown",
   "metadata": {
    "tags": [
     "navigation"
    ]
   },
   "source": [
    "[Indice](index.ipynb) | Previo: [Problema3Cuerpos.Aplicaciones.ParametroTisserand](08.06.03.00.Problema3Cuerpos.Aplicaciones.ParametroTisserand.ipynb) | Siguiente: [FormalismoLagrangiano](09.00.00.00.FormalismoLagrangiano.ipynb)"
   ]
  }
 ],
 "metadata": {
  "kernelspec": {
   "display_name": "Python 3",
   "language": "python",
   "name": "python3"
  },
  "language_info": {
   "codemirror_mode": {
    "name": "ipython",
    "version": 3
   },
   "file_extension": ".py",
   "mimetype": "text/x-python",
   "name": "python",
   "nbconvert_exporter": "python",
   "pygments_lexer": "ipython3",
   "version": "3.6.8"
  },
  "mybook": {
   "type": "problems:1"
  }
 },
 "nbformat": 4,
 "nbformat_minor": 2
}
