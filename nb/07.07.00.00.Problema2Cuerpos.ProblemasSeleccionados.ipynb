{
 "cells": [
  {
   "cell_type": "markdown",
   "metadata": {
    "tags": [
     "navigation"
    ]
   },
   "source": [
    "[Indice](index.ipynb) | Previo: [Problema2Cuerpos.SPICE](07.07.00.00.Problema2Cuerpos.SPICE.ipynb) | "
   ]
  },
  {
   "cell_type": "markdown",
   "metadata": {},
   "source": [
    "## 7.16. Problemas seleccionados\n",
    "<a id='doscuerpos_problemas'></a>"
   ]
  },
  {
   "cell_type": "markdown",
   "metadata": {
    "tags": [
     "problem"
    ]
   },
   "source": [
    "1.  **Excentricidad máxima.** Un asteroide posee un semieje mayor de 3.2 AU. Encontrar la máxima excentricidad de su órbita tal que esta no cruce la de la Tierra. Asuma que la órbita terrestre tiene excentricidad cero."
   ]
  },
  {
   "cell_type": "markdown",
   "metadata": {
    "tags": [
     "problem"
    ]
   },
   "source": [
    "2.  **Momentum angular y energía total**.\n",
    "\n",
    "> a. Demuestre que el momentum angular $\\vec{L}$ de un sistema de dos cuerpos de masas $m_1$ y $m_2$, visto desde el centro de masa, se puede calcular como el momentum angular de una masa $m_r$ en una posición que coincide con la posición relativa entre las partículas $\\vec{r}$ y con una velocidad que coincide con su derivada, $\\dot{\\vec{r}}$:\n",
    "\n",
    ">> $$\\vec{L}=m_r\\vec{h},$$\n",
    ">> en donde \n",
    ">> $$m_r=\\frac{m_1m_2}{m_1+m_2}$$\n",
    ">> y $\\vec{h}=\\vec{r}\\times\\dot{\\vec{r}}$ es el momentum angular específico del sistema visto desde la solución relativa del problema de los dos cuerpos. Dicho de otra manera, demuestre que el momento angular específico del sistema visto desde la solución relativa del problema de los dos cuerpos, $\\vec{h}$, es igual al momento angular total del sistema, $\\vec{L}$, por unidad de masa reducida, $m_r$.\n",
    "\n",
    "> b. Demuestre que con la energía total del sistema $E$ y la energía específica del sistema relativo $\\epsilon$ pasa lo mismo. Es decir, que el la energía específica del sistema visto desde la solución relativa del problema de los dos cuerpos, $\\epsilon$, es igual a la energía total del sistema, $E$, por unidad de masa reducida, $m_r$:\n",
    ">> $$E=m_r\\epsilon$$"
   ]
  },
  {
   "cell_type": "markdown",
   "metadata": {
    "tags": [
     "problem"
    ]
   },
   "source": [
    "3.  **Segunda ley de Kepler**. En la Figura ([prob:orbita_satelite](#fig:prob:orbita_satelite)) un satélite gira en torno a un planeta ubicado en el foco $F_1$ empleando 18 meses. Si el tiempo para ir de  $A$ hacia $B$ es de 1 mes, y de $C$ hasta $D$ es de 3 meses, ¿qué parte de toda la elipse es la región sombreada? $F_2$ corresponde al segundo foco."
   ]
  },
  {
   "cell_type": "markdown",
   "metadata": {
    "tags": [
     "figure",
     "problem"
    ]
   },
   "source": [
    "<a id='fig:prob:orbita_satelite'></a>![Rrepresentación esquemática de la trayectoria elíptica de un satélite.++t!++0.5++\\label{fig:prob:orbita_satelite}](./figures/problems/kepler2.jpeg)\n",
    "\n",
    "<center><b>Figura 7.106</b>. Rrepresentación esquemática de la trayectoria elíptica de un satélite.</center>"
   ]
  },
  {
   "cell_type": "markdown",
   "metadata": {
    "tags": [
     "problem"
    ]
   },
   "source": [
    "4.  **Orbitas Cometarias.** Las órbitas cometarias usualmente tienen altas excentricidades (cercanas a la unidad \n",
    "o incluso mayores). El cometa Halley tiene un período orbital de 76 años y una excentricidad de $e=0.9673$. De acuerdo con estos datos responda:\n",
    "\n",
    "> a. Asumiendo conocida la masa del Sol encuentre el semieje mayor del cometa Halley.\n",
    "\n",
    "> b. ¿Cuál es la distancia desde el centro geométrico de su órbita al Sol?\n",
    "\n",
    "> c. Calcule la distancia del cometa desde el Sol al perihelio y desde el Sol al afelio.\n",
    "\n",
    "> d. Determine la razón $v_p / v_a$ entre las velocidades en el perihelio y \n",
    "en el afelio.  "
   ]
  },
  {
   "cell_type": "markdown",
   "metadata": {
    "tags": [
     "problem"
    ]
   },
   "source": [
    "5.  **Excentricidad de la órbita de los dos cuerpos**. Partiendo de la definición del vector LRL\n",
    " \n",
    "> $$\n",
    "\\vec{A} = \\dot{\\vec{r}}\\times \\vec{h}  - \\mu \\hat{r}\n",
    "$$\n",
    "\n",
    "> y sabiendo que el vector de excentricidad se define como\n",
    "\n",
    "> $$\n",
    "\\vec{e} = \\frac{\\vec{A}}{\\mu},\n",
    "$$\n",
    "\n",
    "> demuestre que la magnitud de este vector (la excentricidad de la órbita) se escribe \n",
    "como \n",
    "  \n",
    "> $$\n",
    "e = \\sqrt{1+\\frac{2\\mathcal{\\epsilon} h^2}{ \\mu^2}},\n",
    "$$\n",
    "  \n",
    "> donde $\\mathcal{\\epsilon}$ es la energía específica del sistema de dos cuerpos $\\mathcal{\\epsilon} = v^2/2 - \t\\mu/r$, $h$ es la magnitud del momentum angular específico y $\\mu = GM$, siendo $M=m_1+m_2$ la masa total del sistema."
   ]
  },
  {
   "cell_type": "markdown",
   "metadata": {
    "tags": [
     "problem"
    ]
   },
   "source": [
    "6.  **Propiedades orbitales de un Centauro.** Cierto cuerpo en el Sistema Solar se mueve en una órbita elíptica  de semieje menor $b=2.62588 \\times 10^9$ km y con un período  orbital de $84.02$ años. Calcule:\n",
    "  \n",
    "> a. La excentricidad de la órbita.\n",
    "\n",
    "> b. El momentum angular por unidad de masa $h$.\n",
    "\n",
    "> c. La distancia al perihelio y al afelio.\n",
    "\n",
    "> d. La energía específica de la órbita."
   ]
  },
  {
   "cell_type": "markdown",
   "metadata": {
    "tags": [
     "problem"
    ]
   },
   "source": [
    "7.  **Elementos orbitales.** Un satélite en órbita alrededor de la Tierra tiene una posición instantánea $\\vec{r}=6075.0\\hat{i}+3190.0\\hat{j}+0\\hat{k}$ km y una velocidad $\\vec{v}=-1.957\\hat{i}+5.818\\hat{j}+3.033\\hat{k}$ km/s. Determine los elementos orbitales asumiendo que el plano fundamental es el ecuador terrestre."
   ]
  },
  {
   "cell_type": "markdown",
   "metadata": {
    "tags": [
     "problem"
    ]
   },
   "source": [
    "8.  **Momentum angular orbital de un sistema binario.** Dos masas $m_1$ y $m_2$ forman un sistema estelar binario describiendo órbitas elípticas alrededor de su centro de masa común con un periodo $P$. La mayor separación entre ambas estrellas es $D_1$ y la menor $D_2$. Muestre que la magnitud del momentum angular orbital del sistema es; \n",
    "\n",
    "> $$\n",
    "\\displaystyle L = \\frac{\\pi}{P}\\frac{m_1m_2}{m_1+m_2}\\sqrt{D_1D_2}(D_1+D_2)\n",
    "$$"
   ]
  },
  {
   "cell_type": "markdown",
   "metadata": {
    "tags": [
     "problem"
    ]
   },
   "source": [
    "9.  **Tiempo por encima de cierta altitud** Un satélite está en órbita alrededor de la Tierra con una altitud (respecto a la superficie de la Tierra) en el perigeo de $250$ km y una altitud en el apogeo de 650 km. Encuentre el intervalo de tiempo durante el cual el satélite se mantiene por encima de una altitud de 450 km. ¿A qué fracción del periodo de la órbita equivale el tiempo calculado?"
   ]
  },
  {
   "cell_type": "markdown",
   "metadata": {
    "tags": [
     "problem"
    ]
   },
   "source": [
    "10.  **El problema de los dos cuerpos en el tiempo.** Para una órbita elíptica determine el tiempo $t$ que le tomaría a una partícula viajar desde el extremo del latus rectum ($f=-\\pi/2$) al extremo opuesto del latus rectum ($f=\\pi/2$) atravesando el periapsis. Exprese su respuesta como función del la excentricidad y el movimiento medio ($n=2\\pi/T$) y demuestre que cuando la excentricidad tiende a cero se cumple que $t=T/2$ siendo $T$ el período de la órbita."
   ]
  },
  {
   "cell_type": "markdown",
   "metadata": {
    "tags": [
     "problem"
    ]
   },
   "source": [
    "11.  **Satélite en órbita.** Un satélite en órbita elíptica alrededor de la Tierra tiene un período de $15.7430$ horas y una distancia al perigeo de $12756.0$ km (respecto al centro de la Tierra). En $t = 10$ horas después del paso por el perigeo calcule:\n",
    "\n",
    "> a. La distancia radial.\n",
    "\n",
    "> b. La velocidad.\n",
    "\n",
    "> c. La componente radial de la velocidad.\n",
    "\n",
    "> d. ¿Se acerca o se aleja del periapsis?"
   ]
  }
 ],
 "metadata": {
  "kernelspec": {
   "display_name": "Python 3",
   "language": "python",
   "name": "python3"
  },
  "language_info": {
   "codemirror_mode": {
    "name": "ipython",
    "version": 3
   },
   "file_extension": ".py",
   "mimetype": "text/x-python",
   "name": "python",
   "nbconvert_exporter": "python",
   "pygments_lexer": "ipython3",
   "version": "3.6.8"
  },
  "mybook": {
   "type": "problems:0"
  }
 },
 "nbformat": 4,
 "nbformat_minor": 2
}
