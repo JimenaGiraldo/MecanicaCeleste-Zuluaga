{
 "cells": [
  {
   "cell_type": "markdown",
   "metadata": {
    "tags": [
     "navigation"
    ]
   },
   "source": [
    "[Indice](index.ipynb) | Previo: [Problema2Cuerpos.SPICE](07.07.00.00.Problema2Cuerpos.SPICE.ipynb) | Siguiente: [Problema3Cuerpos](08.00.00.00.Problema3Cuerpos.ipynb)"
   ]
  },
  {
   "cell_type": "markdown",
   "metadata": {},
   "source": [
    "## 7.16. Problemas seleccionados\n",
    "<a id='doscuerpos_problemas'></a>"
   ]
  },
  {
   "cell_type": "markdown",
   "metadata": {
    "tags": [
     "problem"
    ]
   },
   "source": [
    "1.  **Excentricidad máxima.** Un asteroide posee un semieje mayor de 3.2 AU. Encontrar la máxima excentricidad de su órbita tal que esta no cruce la de la Tierra. Asuma que la órbita terrestre tiene excentricidad cero."
   ]
  },
  {
   "cell_type": "markdown",
   "metadata": {
    "tags": [
     "solution"
    ]
   },
   "source": [
    "1.  **Solución**\n",
    "\n",
    "> La excentricidad de la órbita del asteroide, para que no se cruce con la de la tierra, debe ser tal que su distancia al perihelio, $a\\left(1-e\\right)$, sea como mínimo del tamaño de la órbita de la Tierra, $R_{Tierra}=1\\mbox{ AU}$. Esto es,\n",
    "\n",
    "> $$\\boxed{e\\leq 1-\\frac{R_{Tierra}}{a}=0.69.}$$"
   ]
  },
  {
   "cell_type": "markdown",
   "metadata": {
    "tags": [
     "problem"
    ]
   },
   "source": [
    "2.  **Momentum angular y energía total**.\n",
    "\n",
    "> a. Demuestre que el momentum angular $\\vec{L}$ de un sistema de dos cuerpos de masas $m_1$ y $m_2$, visto desde el centro de masa, se puede calcular como el momentum angular de una masa $m_r$ en una posición que coincide con la posición relativa entre las partículas $\\vec{r}$ y con una velocidad que coincide con su derivada, $\\dot{\\vec{r}}$:\n",
    "\n",
    ">> $$\\vec{L}=m_r\\vec{h},$$\n",
    ">> en donde \n",
    ">> $$m_r=\\frac{m_1m_2}{m_1+m_2}$$\n",
    ">> y $\\vec{h}=\\vec{r}\\times\\dot{\\vec{r}}$ es el momentum angular específico del sistema visto desde la solución relativa del problema de los dos cuerpos. Dicho de otra manera, demuestre que el momento angular específico del sistema visto desde la solución relativa del problema de los dos cuerpos, $\\vec{h}$, es igual al momento angular total del sistema, $\\vec{L}$, por unidad de masa reducida, $m_r$.\n",
    "\n",
    "> b. Demuestre que con la energía total del sistema $E$ y la energía específica del sistema relativo $\\epsilon$ pasa lo mismo. Es decir, que el la energía específica del sistema visto desde la solución relativa del problema de los dos cuerpos, $\\epsilon$, es igual a la energía total del sistema, $E$, por unidad de masa reducida, $m_r$:\n",
    ">> $$E=m_r\\epsilon$$"
   ]
  },
  {
   "cell_type": "markdown",
   "metadata": {
    "tags": [
     "solution"
    ]
   },
   "source": [
    "2.  **Solución**\n",
    "\n",
    "> a. Recordemos que, de la solución del problema de los dos cuerpos, teníamos que \n",
    "\n",
    ">> $$\\vec{r}_{1}=\\vec{r}_{CM}-\\frac{m_{2}}{M}\\vec{r},\\qquad\\vec{r}_{2}=\\vec{r}_{CM}+\\frac{m_{1}}{M}\\vec{r},$$\n",
    "\n",
    ">> donde $M=m_{1}+m_{2}$. Si escogemos el origen inercial en el centro de masa, tal que $\\vec{r}_{CM}=0$, se sigue que\n",
    "\n",
    ">> $$\\vec{r}_{1}=-\\frac{m_{2}}{m_{1}+m_{2}}\\vec{r},\\qquad\\vec{r}_{2}=+\\frac{m_{1}}{m_{1}+m_{2}}\\vec{r},\\qquad\\left|\\vec{r}_{2}-\\vec{r}_{1}\\right|=\\left|\\vec{r}\\right|=r,$$\n",
    "\n",
    ">> de tal manera que\n",
    "\n",
    ">> \\begin{eqnarray}\n",
    "\\vec{L}&=&m_{1}\\vec{r}_{1}\\times\\dot{\\vec{r}}_{1}+m_{2}\\vec{r}_{2}\\times\\dot{\\vec{r}}_{2}\\\\&=&m_{1}\\left(-\\frac{m_{2}}{m_{1}+m_{2}}\\vec{r}\\right)\\times\\left(-\\frac{m_{2}}{m_{1}+m_{2}}\\dot{\\vec{r}}\\right)+m_{2}\\left(+\\frac{m_{1}}{m_{1}+m_{2}}\\vec{r}\\right)\\times\\left(+\\frac{m_{1}}{m_{1}+m_{2}}\\dot{\\vec{r}}\\right)\\\\&=&\\frac{m_{1}m_{2}^{2}}{\\left(m_{1}+m_{2}\\right)^{2}}\\vec{r}\\times\\dot{\\vec{r}}+\\frac{m_{1}^{2}m_{2}}{\\left(m_{1}+m_{2}\\right)^{2}}\\vec{r}\\times\\dot{\\vec{r}}\\\\&=&\\frac{m_{1}m_{2}}{\\left(m_{1}+m_{2}\\right)^{2}}\\left(m_{1}+m_{2}\\right)\\vec{r}\\times\\dot{\\vec{r}}.\n",
    "\\end{eqnarray}\n",
    "\n",
    ">> Pero $\\vec{r}\\times\\dot{\\vec{r}}=\\vec{h}$, por lo que \n",
    ">> $$L=\\frac{m_{1}m_{2}}{m_{1}+m_{2}}h.$$\n",
    "\n",
    "> b. De igual manera, \n",
    "\n",
    ">> $$E=\\frac{1}{2}m_{1}\\dot{\\vec{r}}_{1}^{2}+\\frac{1}{2}m_{2}\\dot{\\vec{r}}_{2}^{2}-\\frac{Gm_{1}m_{2}}{r}=\\frac{1}{2}m_{1}\\frac{m_{2}^{2}}{\\left(m_{1}+m_{2}\\right)^{2}}\\dot{\\vec{r}}^{2}+\\frac{1}{2}m_{2}\\frac{m_{1}^{2}}{\\left(m_{1}+m_{2}\\right)^{2}}\\dot{\\vec{r}}^{2}-\\frac{Gm_{1}m_{2}}{r}.$$\n",
    "\n",
    ">> Si sacamos factor común $m_{1}m_{2}/\\left(m_{1}+m_{2}\\right)$, se sigue\n",
    "\n",
    ">>$$E=\\frac{m_{1}m_{2}}{m_{1}+m_{2}}\\left(\\frac{1}{2}{\\frac{m_{2}}{m_{1}+m_{2}}}\\dot{\\vec{r}}^{2}+\\frac{1}{2}{\\frac{m_{1}}{m_{1}+m_{2}}}\\dot{\\vec{r}}^{2}-\\frac{G\\left(m_{1}+m_{2}\\right)}{r}\\right)=\\frac{m_{1}m_{2}}{m_{1}+m_{2}}\\left(\\frac{1}{2}\\dot{\\vec{r}}^{2}-\\frac{G\\left(m_{1}+m_{2}\\right)}{r}\\right).$$\n",
    "\n",
    ">> Debido a que, por definición, $\\dot{\\vec{r}}^{2}=v^{2}$ y $G\\left(m_{1}+m_{2}\\right)=\\mu$, y sabemos que $\\epsilon=v^{2}/2-\\mu/r$, obtenemos lo pedido:\n",
    "\n",
    ">> $$E=\\frac{m_{1}m_{2}}{m_{1}+m_{2}}\\left(\\frac{1}{2}v^{2}-\\frac{\\mu}{r}\\right)=\\frac{m_{1}m_{2}}{m_{1}+m_{2}}\\epsilon.$$ "
   ]
  },
  {
   "cell_type": "markdown",
   "metadata": {
    "tags": [
     "problem"
    ]
   },
   "source": [
    "3.  **Segunda ley de Kepler**. En la Figura ([prob:orbita_satelite](#fig:prob:orbita_satelite)) un satélite gira en torno a un planeta ubicado en el foco $F_1$ empleando 18 meses. Si el tiempo para ir de  $A$ hacia $B$ es de 1 mes, y de $C$ hasta $D$ es de 3 meses, ¿qué parte de toda la elipse es la región sombreada? $F_2$ corresponde al segundo foco."
   ]
  },
  {
   "cell_type": "markdown",
   "metadata": {
    "tags": [
     "figure",
     "problem"
    ]
   },
   "source": [
    "<a id='fig:prob:orbita_satelite'></a>![Rrepresentación esquemática de la trayectoria elíptica de un satélite.++t!++0.5++\\label{fig:prob:orbita_satelite}](./figures/problems/kepler2.jpeg)\n",
    "\n",
    "<center><b>Figura 7.105</b>. Rrepresentación esquemática de la trayectoria elíptica de un satélite.</center>"
   ]
  },
  {
   "cell_type": "markdown",
   "metadata": {
    "tags": [
     "solution"
    ]
   },
   "source": [
    "3.  **Solución**\n",
    "\n",
    "> El segundo teorema de Newton del movimiento planetario indica que la velocidad areal es constante, de tal forma que el área barrida en cierto tiempo se puede escribir en función del tiempo que tarda en hacerlo: $\\Delta A=k\\Delta t$ (sabemos que $k=h/2$, la mitad del momento angular específico, pero dejémoslo como $k$ por facilidad). Así, $A_{ABF_{1}}=k\\times1\\mbox{ mes}$ y $A_{CDF_{1}}=k\\times3\\mbox{ meses}$. Por simetría de la elipse, aunque el área $CDF_{2}$ no sea barrida por el radio vector posición del satélite, también tenemos $A_{CDF_{2}}=k\\times1\\mbox{ meses}$, de tal forma que el área pedida $A_{DF_{1}F_{2}}=k\\times2\\mbox{ meses}$. Debido a que el área de toda la elipse es $A_{total}=k\\times18\\mbox{ meses}$, la región sombreada corresponde a $2/18=1/9$ de toda la elipse. "
   ]
  },
  {
   "cell_type": "markdown",
   "metadata": {
    "tags": [
     "problem"
    ]
   },
   "source": [
    "4.  **Orbitas Cometarias.** Las órbitas cometarias usualmente tienen altas excentricidades (cercanas a la unidad \n",
    "o incluso mayores). El cometa Halley tiene un período orbital de 76 años y una excentricidad de $e=0.9673$. De acuerdo con estos datos responda:\n",
    "\n",
    "> a. Asumiendo conocida la masa del Sol encuentre el semieje mayor del cometa Halley.\n",
    "\n",
    "> b. ¿Cuál es la distancia desde el centro geométrico de su órbita al Sol?\n",
    "\n",
    "> c. Calcule la distancia del cometa desde el Sol al perihelio y desde el Sol al afelio.\n",
    "\n",
    "> d. Determine la razón $v_p / v_a$ entre las velocidades en el perihelio y \n",
    "en el afelio.  "
   ]
  },
  {
   "cell_type": "markdown",
   "metadata": {
    "tags": [
     "solution"
    ]
   },
   "source": [
    "4.  **Solución**.\n",
    "\n",
    "> a. Recordemos el corolario del segundo teorema de Newton para el movimiento planetario de la forma\n",
    "$$T^{2}=\\frac{4\\pi^{2}}{\\mu}a^{3},$$\n",
    "en donde $T=76\\mbox{ años}=2.4\\times10^{9}\\mbox{ s}$, $\\mu\\approx GM_{\\odot}=1.3\\times10^{20}\\mbox{ N m}^{2}\\mbox{/kg}$ (la masa del Halley es prácticamente despreciable con respecto a la del Sol) y $a$ es lo que queremos (debido a que, en este caso, el movimiento relativo corresponde prácticamente al movimiento del Halley). Despejando,\n",
    "\n",
    ">> $$\\boxed{a=\\left(\\frac{\\mu T^{2}}{4\\pi^{2}}\\right)^{1/3}=2.7\\times10^{12}\\mbox{ m}=18\\mbox{ AU}.}$$\n",
    "\n",
    "> b. Recordemos que la distancia desde el centro geométrico de un órbita elíptica a su foco (Sol) es \n",
    "\n",
    ">> $$\n",
    "\\boxed{ae=2.6\\times10^{12}\\mbox{ m}=17\\mbox{ AU}.}\n",
    "$$\n",
    "\n",
    "> c. Recordemos que la distancia desde el foco al perihelio es \n",
    "\n",
    ">> $$\n",
    "\\boxed{r_{p}=a\\left(1-e\\right)=8.7\\times10^{10}\\mbox{ m}=0.58\\mbox{ AU}}\n",
    "$$\n",
    ">> y que la distancia desde el foco al afelio es\n",
    ">> $$\n",
    "\\boxed{r_{a}=a\\left(1+e\\right)=5.2\\times10^{12}\\mbox{ m}=35\\mbox{ AU}.}\n",
    "$$\n",
    "\n",
    "> d. Recordemos, por último, la ecuación *vis-viva*:\n",
    "\n",
    ">> $$\n",
    "v^{2}=\\mu\\left(\\frac{2}{r}-\\frac{1}{a}\\right).\n",
    "$$\n",
    "\n",
    ">> De esta manera, las rapideces en el perihelio y en el afelio están\n",
    "dadas por\n",
    "\n",
    ">> $$\n",
    "v_{p}=\\sqrt{\\mu\\left(\\frac{2}{r_{p}}-\\frac{1}{a}\\right)}=\\sqrt{\\frac{\\mu\\left(1+e\\right)}{a\\left(1-e\\right)}}\\qquad\\mbox{y}\\qquad v_{a}=\\sqrt{\\mu\\left(\\frac{2}{r_{a}}-\\frac{1}{a}\\right)}=\\sqrt{\\frac{\\mu\\left(1-e\\right)}{a\\left(1+e\\right)}}\n",
    "$$\n",
    "\n",
    ">> y su razón por\n",
    ">> $$\n",
    "\\boxed{\\frac{v_{p}}{v_{a}}=\\frac{\\sqrt{\\frac{\\mu\\left(1+e\\right)}{a\\left(1-e\\right)}}}{\\sqrt{\\frac{\\mu\\left(1-e\\right)}{a\\left(1+e\\right)}}}=\\frac{1+e}{1-e}=60.}\n",
    "$$"
   ]
  },
  {
   "cell_type": "markdown",
   "metadata": {
    "tags": [
     "problem"
    ]
   },
   "source": [
    "5.  **Excentricidad de la órbita de los dos cuerpos**. Partiendo de la definición del vector LRL\n",
    " \n",
    "> $$\n",
    "\\vec{A} = \\dot{\\vec{r}}\\times \\vec{h}  - \\mu \\hat{r}\n",
    "$$\n",
    "\n",
    "> y sabiendo que el vector de excentricidad se define como\n",
    "\n",
    "> $$\n",
    "\\vec{e} = \\frac{\\vec{A}}{\\mu},\n",
    "$$\n",
    "\n",
    "> demuestre que la magnitud de este vector (la excentricidad de la órbita) se escribe \n",
    "como \n",
    "  \n",
    "> $$\n",
    "e = \\sqrt{1+\\frac{2\\mathcal{\\epsilon} h^2}{ \\mu^2}},\n",
    "$$\n",
    "  \n",
    "> donde $\\mathcal{\\epsilon}$ es la energía específica del sistema de dos cuerpos $\\mathcal{\\epsilon} = v^2/2 - \t\\mu/r$, $h$ es la magnitud del momentum angular específico y $\\mu = GM$, siendo $M=m_1+m_2$ la masa total del sistema."
   ]
  },
  {
   "cell_type": "markdown",
   "metadata": {
    "tags": [
     "solution"
    ]
   },
   "source": [
    "5.  **Solución**\n",
    "\n",
    "> Dado que $\\vec{h}=h\\hat{k}$, entonces \n",
    "\n",
    ">$$\n",
    "\\dot{\\vec{r}}\\times\\vec{h}=\\left(\\dot{r}\\hat{r}+r\\dot{\\theta}\\hat{\\theta}\\right)\\times h\\hat{k}=-\\dot{r}h\\hat{\\theta}+r\\dot{\\theta}h\\hat{r}.\n",
    "$$\n",
    "\n",
    "> Así, \n",
    "> $$\n",
    "\\vec{e}=\\frac{-\\dot{r}h\\hat{\\theta}+r\\dot{\\theta}h\\hat{r}}{\\mu}-\\hat{r}=\\left(\\frac{r\\dot{\\theta}h}{\\mu}-1\\right)\\hat{r}-\\frac{\\dot{r}h}{\\mu}\\hat{\\theta}\n",
    "$$\n",
    "\n",
    "> y\n",
    "> $$\n",
    "e^{2}=\\left(\\frac{r\\dot{\\theta}h}{\\mu}-1\\right)^{2}+\\left(\\frac{\\dot{r}h}{\\mu}\\right)^{2}=\\frac{r^{2}\\dot{\\theta}^{2}h^{2}}{\\mu^{2}}-\\frac{2h^{2}}{\\mu r}+1+\\frac{\\dot{r}^{2}h^{2}}{\\mu^{2}}=\\frac{h^{2}}{\\mu^{2}}\\left(r^{2}\\dot{\\theta}^{2}+\\dot{r}^{2}\\right)-\\frac{2h^{2}}{\\mu r}+1.\n",
    "$$\n",
    "\n",
    "> Dado que $v^{2}=r^{2}\\dot{\\theta}^{2}+\\dot{r}^{2}$ ,\n",
    "> $$\n",
    "e^{2}=\\frac{h^{2}}{\\mu^{2}}v^{2}-\\frac{2h^{2}}{\\mu r}+1=\\frac{2h^{2}}{\\mu^{2}}\\left(\\frac{v^{2}}{2}-\\frac{\\mu}{r}\\right)+1=\\frac{2h^{2}}{\\mu^{2}}\\epsilon+1,\n",
    "$$\n",
    "\n",
    ">quedando demostrado que \n",
    "> $$\n",
    "e=\\sqrt{1+\\frac{2\\epsilon h^{2}}{\\mu^{2}}}\n",
    "$$"
   ]
  },
  {
   "cell_type": "markdown",
   "metadata": {
    "tags": [
     "problem"
    ]
   },
   "source": [
    "6.  **Propiedades orbitales de un Centauro.** Cierto cuerpo en el Sistema Solar se mueve en una órbita elíptica  de semieje menor $b=2.62588 \\times 10^9$ km y con un período  orbital de $84.02$ años. Calcule:\n",
    "  \n",
    "> a. La excentricidad de la órbita.\n",
    "\n",
    "> b. El momentum angular por unidad de masa $h$.\n",
    "\n",
    "> c. La distancia al perihelio y al afelio.\n",
    "\n",
    "> d. La energía específica de la órbita."
   ]
  },
  {
   "cell_type": "markdown",
   "metadata": {
    "tags": [
     "solution"
    ]
   },
   "source": [
    "6.  **Solución**\n",
    "\n",
    "> a. De igual forma que en el punto 6, el semieje mayor de la órbita de\n",
    "un cuerpo orbitando al Sol está dado por el corolario del segundo\n",
    "teorema del movimiento planetario de Newton:\n",
    "\n",
    ">>$$\n",
    "a=\\left(\\frac{\\mu T^{2}}{4\\pi^{2}}\\right)^{1/3}=2.626\\times10^{12}\\mbox{ m}=2.868\\times10^{9}\\mbox{ km}.\n",
    "$$\n",
    "\n",
    ">> Así, la excentricidad de la órbita viene dada por \n",
    ">> $$\n",
    "\\boxed{e=\\sqrt{1-\\frac{b^{2}}{a^{2}}}=0.4022.}\n",
    "$$\n",
    "\n",
    "> b. Por el segundo teorema del movimiento de\n",
    "Newton, sabemos que la velocidad areal es igual a la mitad del momento\n",
    "angular específico $h$/2. particularmente, el área de una elipse\n",
    "es $\\pi ab$ y el tiempo que tarda este cuerpo en trazar dicha órbita\n",
    "es $T=84.02\\mbox{ años}=2.650\\times10^{9}\\mbox{ s}$, por lo que \n",
    "\n",
    ">> $$\n",
    "\\boxed{h=\\frac{2\\pi ab}{T}=1.786\\times10^{16}m^{2}/s.}\n",
    "$$\n",
    "\n",
    "> c. Las distancias al perihelio y al afelio están dadas por \n",
    "\n",
    ">> $$\n",
    "\\boxed{r_{p}=a\\left(1-e\\right)=1.715\\times10^{12}\\mbox{ m}=11.46\\mbox{ AU}}\\qquad y\\qquad\\boxed{r_{a}=a\\left(1+e\\right)=4.022\\times10^{12}\\mbox{ m}=26.88\\mbox{ AU}.}\n",
    "$$\n",
    "\n",
    "> d. La energía específica de la órbita $\\epsilon$ se puede obtener a\n",
    "partir de la expresión \n",
    "\n",
    ">> $$\n",
    "\\boxed{\\epsilon=-\\frac{\\mu}{2a}=-2.313\\times10^{7}\\text{ m}^2\\text{/s}^2.}\n",
    "$$"
   ]
  },
  {
   "cell_type": "markdown",
   "metadata": {
    "tags": [
     "problem"
    ]
   },
   "source": [
    "7.  **Elementos orbitales.** Un satélite en órbita alrededor de la Tierra tiene una posición instantánea $\\vec{r}=6075.0\\hat{i}+3190.0\\hat{j}+0\\hat{k}$ km y una velocidad $\\vec{v}=-1.957\\hat{i}+5.818\\hat{j}+3.033\\hat{k}$ km/s. Determine los elementos orbitales asumiendo que el plano fundamental es el ecuador terrestre."
   ]
  },
  {
   "cell_type": "markdown",
   "metadata": {
    "tags": [
     "solution"
    ]
   },
   "source": [
    "7.  **Solución**\n",
    "\n",
    "> Miremos, primero, que $\\vec{h}=\\vec{r}\\times\\vec{v}=9675\\hat{i}-18425\\hat{j}+41587\\hat{k}\\mbox{ km}^{2}\\mbox{/s}$ y $\\vec{n}=\\hat{k}\\times\\vec{h}=18425\\hat{i}+9675\\hat{j}\\mbox{ km}^{2}\\mbox{/s}$. De esta manera, dado que $n_{y}\\geq0$, la longitud del nodo ascendente será\n",
    "\n",
    "> $$\n",
    "\\boxed{\\Omega=\\arccos\\left(\\frac{n_{x}}{n}\\right)=27.7^\\text{o}.}\n",
    "$$\n",
    "\n",
    "> Ahora, dado que $\\mu=G\\left(M_{\\oplus}+M_{sat\\acute{e}lite}\\right)\\approx GM_{\\oplus}=3.982\\times10^{14}\\mbox{ m}^{3}\\mbox{/s}^{2}=3.982\\times10^{5}\\mbox{ km}^{3}\\mbox{/s}^{2}$, entonces \n",
    "\n",
    "> $$\n",
    "\\vec{e}=\\frac{\\vec{v}\\times\\vec{h}}{\\mu}-\\frac{\\vec{r}}{r}=-0.1374\\hat{i}-0.1868\\hat{j}-0.05081\\hat{k}.\n",
    "$$\n",
    "\n",
    "> Dado que $e_{z}<0$, el argumento del periapsis (perigeo en este caso) será\n",
    "\n",
    "> $$\n",
    "\\boxed{\\omega=2\\pi-\\arccos\\left(\\frac{\\vec{n}\\cdot\\vec{e}}{ne}\\right)=209^\\text{o}.}\n",
    "$$\n",
    "\n",
    "> Dado que $v_{r}=\\vec{r}\\cdot\\vec{v}/r=0.9722\\mbox{ km/s}>0$, entonces el satélite se aleja del perigeo, por lo que la anomalía verdadera será \n",
    "\n",
    "> $$\n",
    "\\boxed{f=\\arccos\\left(\\frac{\\vec{e}\\cdot\\vec{r}}{er}\\right)=151^\\text{o}.}\n",
    "$$\n",
    "\n",
    "> Sin riesgo de ambigüedad, la inclinación de la órbita con respecto al plano del ecuador será\n",
    "> $$\n",
    "\\boxed{i=\\arccos\\left(\\frac{h_{z}}{h}\\right)=26.6^\\text{o}.}\n",
    "$$\n",
    "\n",
    "> Por último, es claro que $\\boxed{e=\\left|\\vec{e}\\right|=0.2374}$\n",
    "y que debido a que $h^{2}/\\mu=a\\left(1-e^{2}\\right)$, \n",
    "\n",
    "> $$\n",
    "\\boxed{a=\\frac{h^{2}}{\\mu\\left(1-e^{2}\\right)}=5755\\mbox{ km}.}\n",
    "$$\n",
    "\n",
    "> Puede notarse claramente que el semieje mayor de la órbita es menor que el radio de la Tierra, indicando esto que, sin duda, si no se hace nada al respecto, el satélite terminará golpeando contra la superficie la Tierra. Miremos cuándo sucederá esto. Miremos, en primer lugar cuánto tiempo ha pasado desde el perigeo (en realidad, es imposible que este satélite haya venido del perigeo, pues este punto está adentro de la Tierra. Lo que tuvo que haber pasado es que el satélite obtuvo esa posición y velocidad debido a algún agente externo (uso de combustible, colisión con otro satélite, lanzamiento desde la Tierra…). Sin embargo, se puede calcular el tiempo que \"ha pasado\" desde un supuesto paso por el perigeo). Para esto, dado que $r\\left(E\\right)=a\\left(1-e\\cos E\\right)$, entonces la anomalía excéntrica del satélite en el momento dado es\n",
    "\n",
    "> $$\n",
    "E=\\arccos\\left[\\frac{1}{e}\\left(1-\\frac{r}{a}\\right)\\right]=2.514\\mbox{ rad}.\n",
    "$$\n",
    "\n",
    "> Así, usando la ecuación de Kepler encomtramos la anomalía media\n",
    "\n",
    "> $$\n",
    "M=E-e\\sin E=2.375\\mbox{ rad}.\n",
    "$$\n",
    "\n",
    "> Dado que el movimiento medio es\n",
    "> $$\n",
    "n=\\sqrt{\\frac{\\mu}{a^{3}}}=1.445\\times10^{-3}\\mbox{ rad/s},\n",
    "$$\n",
    "\n",
    "> entonces el supuesto tiempo entre el paso por el perigeo y el instante dado es \n",
    "> $$\n",
    "\\tau=\\frac{M}{n}=1643\\mbox{ s}=27.39\\mbox{ minutos}.\n",
    "$$\n",
    "\n",
    "> Ahora, para encontrar el supuesto tiempo que pasará entre el paso por el perigeo y que golpee contra la superficie de la Tierra, esto es, cuando $r'=6371\\mbox{ km}$, tenemos \n",
    "\n",
    "> $$\n",
    "E'=\\arccos\\left[\\frac{1}{e}\\left(1-\\frac{r'}{a}\\right)\\right]=2.038\\mbox{ rad}.\n",
    "$$\n",
    "\n",
    "> Pero esta es la anomalía excéntrica en el punto en el que \"estaba\" a $r'$ alejándose del perigeo, entonces queremos es el complemento, cuando se está acercando al perigeo (¡cuando va a golpear!):\n",
    "> $$\n",
    "E'=2\\pi-\\arccos\\left[\\frac{1}{e}\\left(1-\\frac{r'}{a}\\right)\\right]=4.245\\mbox{ rad}.\n",
    "$$\n",
    "\n",
    "> Así, \n",
    "> $$\n",
    "M'=E'-e\\sin E'=4.457\\mbox{ rad}\\qquad\\mbox{y}\\qquad\\tau'=\\frac{M'}{n}=3084\\mbox{ s}=51.40\\mbox{ minutos}.\n",
    "$$\n",
    "\n",
    "> Esto quiere decir que, si no se hace nada al respecto, ¡el satélite golpeará la superficie de la Tierra en $\\tau'-\\tau=1440\\mbox{ s}=24.01\\mbox{ minutos}!$ \n",
    "\n",
    "> ¿Qué se podría hacer al respecto? Podríamos mirar la energía necesaria que habría que entregarle para que se acomode en una órbita circular a esa altitud. Su energía específica en la órbita actual es \n",
    "> $$\n",
    "\\epsilon=-\\frac{\\mu}{2a}=-3.459\\times10^{7}\\mbox{ J/kg}\n",
    "$$\n",
    "\n",
    "> y aquella en una órbita ciruclar a esa altitud sería\n",
    "> $$\n",
    "\\epsilon_{2}=-\\frac{\\mu}{2r}=-2.902\\times10^{7}\\mbox{ J/kg},\n",
    "$$\n",
    "\n",
    "> por lo que habría que entregarle un total de $\\epsilon_{2}-\\epsilon=5.577\\times10^{6}\\mbox{ J/kg}$. En tan poco tiempo antes del impacto, lo más seguro es que el satélite tiene el combustible que le entregue esta energía."
   ]
  },
  {
   "cell_type": "markdown",
   "metadata": {
    "tags": [
     "problem"
    ]
   },
   "source": [
    "8.  **Momentum angular orbital de un sistema binario.** Dos masas $m_1$ y $m_2$ forman un sistema estelar binario describiendo órbitas elípticas alrededor de su centro de masa común con un periodo $P$. La mayor separación entre ambas estrellas es $D_1$ y la menor $D_2$. Muestre que la magnitud del momentum angular orbital del sistema es; \n",
    "\n",
    "> $$\n",
    "\\displaystyle L = \\frac{\\pi}{P}\\frac{m_1m_2}{m_1+m_2}\\sqrt{D_1D_2}(D_1+D_2)\n",
    "$$"
   ]
  },
  {
   "cell_type": "markdown",
   "metadata": {
    "tags": [
     "solution"
    ]
   },
   "source": [
    "8.  **Solución**\n",
    "\n",
    "> Ya habíamos demostrado que \n",
    "\n",
    "> $$\n",
    "L=\\frac{m_{1}m_{2}}{m_{1}+m_{2}}h,\n",
    "$$\n",
    "\n",
    "> donde, además, sabemos que $h=\\sqrt{\\mu a\\left(1-e^{2}\\right)}$. Ahora nótese que $D_{1}$ corresponde a la distancia en el apoapsis de una estrella con respecto a otra, $a\\left(1+e\\right)$, y que $D_{2}$ a la del periapsis, $a\\left(1-e\\right)$. Así, se puede ver que\n",
    "\n",
    "> $$\n",
    "D_{1}+D_{2}=2a\\qquad\\mbox{y que}\\qquad D_{1}D_{2}=a^{2}\\left(1-e^{2}\\right).\n",
    "$$\n",
    "\n",
    "> Además, por el corolario del segundo teorema del movimiento planetario de Newton, se sigue que\n",
    "\n",
    "> $$\n",
    "P^{2}=\\frac{4\\pi^{2}}{\\mu}a^{3}\\quad\\Longrightarrow\\quad\\mu=\\frac{4\\pi^{2}}{P^{2}}a^{3}.\n",
    "$$\n",
    "\n",
    "> El proceso que se sigue es directo:\n",
    "> \\begin{eqnarray}\n",
    "L & = & \\frac{m_{1}m_{2}}{m_{1}+m_{2}}h\\\\\n",
    " & = & \\frac{m_{1}m_{2}}{m_{1}+m_{2}}\\sqrt{\\mu a\\left(1-e^{2}\\right)}\\\\\n",
    " & = & \\frac{m_{1}m_{2}}{m_{1}+m_{2}}\\sqrt{\\frac{4\\pi^{2}}{P^{2}}a^{4}\\left(1-e^{2}\\right)}\\\\\n",
    " & = & \\frac{\\pi}{P}\\frac{m_{1}m_{2}}{m_{1}+m_{2}}\\sqrt{a^{2}\\left(1-e^{2}\\right)}2a\\\\\n",
    " & = & \\frac{\\pi}{P}\\frac{m_{1}m_{2}}{m_{1}+m_{2}}\\sqrt{D_{1}D_{2}}\\left(D_{1}+D_{2}\\right).\n",
    "\\end{eqnarray}"
   ]
  },
  {
   "cell_type": "markdown",
   "metadata": {
    "tags": [
     "problem"
    ]
   },
   "source": [
    "9.  **Tiempo por encima de cierta altitud** Un satélite está en órbita alrededor de la Tierra con una altitud (respecto a la superficie de la Tierra) en el perigeo de $250$ km y una altitud en el apogeo de 650 km. Encuentre el intervalo de tiempo durante el cual el satélite se mantiene por encima de una altitud de 450 km. ¿A qué fracción del periodo de la órbita equivale el tiempo calculado?"
   ]
  },
  {
   "cell_type": "markdown",
   "metadata": {
    "tags": [
     "solution"
    ]
   },
   "source": [
    "9.  **Solución**\n",
    "\n",
    "> Las distancias al perigeo y al apogeo serían $r_{p}=\\left(6371+250\\right)\\mbox{ km}=6621\\mbox{ km}$ y $r_{a}=\\left(6371+600\\right)\\mbox{ km}=7021\\mbox{ km}$. Por lo\n",
    "tanto, \n",
    "\n",
    "> $$\n",
    "a=\\frac{r_{p}+r_{a}}{2}=6821\\mbox{ km}\\qquad\\mbox{y}\\qquad e=\\frac{r_{a}}{a}-1=0.0293.\n",
    "$$\n",
    "\n",
    "> Nótese, ahora, que el satélite se encuentra por encima de una altitud de 450 km entre las anomalías verdaderas para las cuales se encuentra a una distancia del centro de la Tierra de $r=\\left(6371+450\\right)\\mbox{ km}=6821\\mbox{ km}$. Éstas serían tales que\n",
    "\n",
    "> $$\n",
    "r=\\frac{a\\left(1-e^{2}\\right)}{1+\\cos f}\\qquad\\Longrightarrow\\qquad f=\\arccos\\left[\\frac{a\\left(1-e^{2}\\right)}{r}-1\\right]=1.57\\text{ y }4.71\\mbox{ rad}.\n",
    "$$\n",
    "\n",
    "> Se puede observar que estos ángulos corresponden a ángulos mayores de $90^\\text{o}$ y menores que $270^\\text{o}$. Por lo tanto, el tiempo $t$ que tarda el satélite en realizar ese movimiento está dado por el periodo de la órbita $T$ **menos** dos veces el tiempo $\\tau$ que tarda el satélite en ir del perigeo al punto en donde su órbita comienza\n",
    "a estar por encima de una altitud de 450 km, es decir,\n",
    "\n",
    "> $$\n",
    "t=T-2\\tau.\n",
    "$$\n",
    "\n",
    "> $T$ está dado por $2\\pi/n$, donde \n",
    "\n",
    "> $$\n",
    "n=\\sqrt{\\frac{\\mu}{a^{3}}}=1.12\\times10^{-3}\\mbox{ rad/s}.\n",
    "$$\n",
    "\n",
    "> Y $\\tau$ es tal que $M=n\\tau$. Para hallar $M$, recordemos que $r\\left(E\\right)=a\\left(1-e\\cos E\\right)$ y obtengamos $E$:\n",
    "\n",
    "> $$\n",
    "\\cos E=\\frac{1}{e}\\left(1-\\frac{r}{a}\\right)\\qquad\\Longrightarrow\\qquad E=1.57\\mbox{ rad}.\n",
    "$$\n",
    "\n",
    "> Ahora, usemos la ecuación de Kepler para encontrar $M$:\n",
    "\n",
    "> $$\n",
    "M=E-e\\sin E=1.54\\mbox{ rad}.\n",
    "$$\n",
    "\n",
    "> Así, \n",
    "> $$\n",
    "\\tau=\\frac{M}{n}=1376\\mbox{ s}=22.9\\mbox{ minutos}.\n",
    "$$\n",
    "\n",
    "> Dado que \n",
    "> $$\n",
    "T=\\frac{2\\pi}{n}=5609\\mbox{ s}=93.5\\mbox{ minutos},\n",
    "$$\n",
    "\n",
    "> Se sigue entonces que el intervalo de tiempo durante el cual el satélite se mantiene por encima de una altitud de 450 km es\n",
    "\n",
    "> $$\n",
    "\\boxed{t=T-2\\tau=2857\\mbox{ s}=47.6\\mbox{ minutos},}\n",
    "$$\n",
    "> que equivale al 50.9% del periodo de la órbita. Esto es, se demora\n",
    "casi la mitad del periodo de la órbita estando por encima de una altitud\n",
    "de 450 km."
   ]
  },
  {
   "cell_type": "markdown",
   "metadata": {
    "tags": [
     "problem"
    ]
   },
   "source": [
    "10.  **El problema de los dos cuerpos en el tiempo.** Para una órbita elíptica determine el tiempo $t$ que le tomaría a una partícula viajar desde el extremo del latus rectum ($f=-\\pi/2$) al extremo opuesto del latus rectum ($f=\\pi/2$) atravesando el periapsis. Exprese su respuesta como función del la excentricidad y el movimiento medio ($n=2\\pi/T$) y demuestre que cuando la excentricidad tiende a cero se cumple que $t=T/2$ siendo $T$ el período de la órbita."
   ]
  },
  {
   "cell_type": "markdown",
   "metadata": {
    "tags": [
     "solution"
    ]
   },
   "source": [
    "10.  **Solución**\n",
    "\n",
    "> Por simetría y segundo teorema del movimiento planetario de Newton, podemos afirmar que el tiempo $t$ que tarda en ir de un extremo del latus rectum al otro es el doble del tiempo $\\tau$ que le tarda en ir del perigeo a uno de los extremos. Este tiempo satisface que \n",
    "\n",
    "> $$\n",
    "M=n\\tau.\n",
    "$$\n",
    "\n",
    "> Por otro lado, el radio vector en el extremo del latus rectum mide\n",
    "\n",
    "> $$\n",
    "r_{1}=\\frac{a\\left(1-e^{2}\\right)}{1+e\\cos\\frac{\\pi}{2}}=a\\left(1-e^{2}\\right)\n",
    "$$\n",
    "\n",
    "> y dado que $r\\left(E\\right)=a\\left(1-e\\cos E\\right)$, igualamos y obtenemos\n",
    "\n",
    "> $$\n",
    "r\\left(E\\right)=r_{1}={a}\\left(1-e\\cos E\\right)={a}\\left(1-e^{2}\\right)\\qquad\\Longrightarrow\\qquad\\cos E=e.\n",
    "$$\n",
    "\n",
    "> Así, $\\sin E=\\sqrt{1-e^{2}}$ y aplicamos la ecuación de Kepler:\n",
    "\n",
    "> \\begin{eqnarray*}\n",
    "M & = & E-e\\sin E.\\\\\n",
    "n\\tau & = & \\arccos e-e\\sqrt{1-e^{2}}\\qquad\\Longrightarrow\\qquad\\boxed{t=2\\tau=2\\frac{\\arccos e-e\\sqrt{1-e^{2}}}{n}}.\n",
    "\\end{eqnarray*}\n",
    "\n",
    "> Es claro que si $e=0$, se sigue que\n",
    "\n",
    "> $$\n",
    "t=2\\frac{\\arccos0}{n}=\\frac{\\pi}{n}=\\frac{\\pi}{\\frac{2\\pi}{T}}=\\frac{T}{2}.\n",
    "$$"
   ]
  },
  {
   "cell_type": "markdown",
   "metadata": {
    "tags": [
     "problem"
    ]
   },
   "source": [
    "11.  **Satélite en órbita.** Un satélite en órbita elíptica alrededor de la Tierra tiene un período de $15.7430$ horas y una distancia al perigeo de $12756.0$ km (respecto al centro de la Tierra). En $t = 10$ horas después del paso por el perigeo calcule:\n",
    "\n",
    "> a. La distancia radial.\n",
    "\n",
    "> b. La velocidad.\n",
    "\n",
    "> c. La componente radial de la velocidad.\n",
    "\n",
    "> d. ¿Se acerca o se aleja del periapsis?"
   ]
  },
  {
   "cell_type": "markdown",
   "metadata": {
    "tags": [
     "solution"
    ]
   },
   "source": [
    "11.  **Solución**\n",
    "\n",
    "> Para este satélite, se satisface el corolario del segundo teorema del movimiento planetario de Newton con $\\mu=GM_{\\oplus}=3.98199\\times10^{14}\\mbox{ m}^{3}\\mbox{/s}^{2}$, de tal manera que\n",
    "\n",
    "> $$\n",
    "a=\\left(\\frac{\\mu P^{2}}{4\\pi^{2}}\\right)^{1/3}=3.18792\\times10^{7}\\mbox{ m}.\n",
    "$$\n",
    "\n",
    "> Dado que tenemos la distancia al perigeo, $r_{p}=a\\left(1-e\\right)$, encontramos la excentricidad de la órbita\n",
    "\n",
    "> $$\n",
    "e=1-\\frac{r_{p}}{a}=0.599864.\n",
    "$$\n",
    "\n",
    "> Por otro lado, el movimiento medio está dado por\n",
    "\n",
    "> $$\n",
    "n=\\frac{2\\pi}{P}=1.10864\\times10^{-4}\\mbox{ rad/s}\n",
    "$$\n",
    "\n",
    "> y la anomalía media, dado que $t-t_{p}=10\\mbox{ horas}$, por\n",
    "\n",
    "> $$\n",
    "M=n\\left(t-t_{p}\\right)=3.9911\\mbox{ rad}.\n",
    "$$\n",
    "\n",
    "> Así, solucionando la ecuación de Kepler de forma numérica, se obtiene $E=3.68231\\mbox{ rad}$.\n",
    "\n",
    "> a. Se obtiene, entonces,\n",
    "\n",
    ">> $$\n",
    "\\boxed{r\\left(E\\right)=a\\left(1-e\\cos E\\right)=4.82741\\times10^{7}\\mbox{ m}=7.57717R_{\\oplus}.}\n",
    "$$\n",
    "\n",
    "> b. De la ecuación del *vis viva*, se sigue que la rapidez es \n",
    "\n",
    ">> $$\n",
    "\\boxed{v=\\sqrt{\\mu\\left(\\frac{2}{r}-\\frac{1}{a}\\right)}=2001.63\\mbox{ m/s}.}\n",
    "$$\n",
    "\n",
    "> c. Para hallar la componente radial de la velocidad, recordemos que el argumento de la velocidad se puede hallar a partir de la magnitud del momento angular específico como \n",
    "\n",
    ">> $$\n",
    "\\phi=\\sin^{-1}\\left(\\frac{h}{vr}\\right).\n",
    "$$\n",
    "\n",
    ">> Dado que $h^{2}/\\mu=a\\left(1-e^{2}\\right)$, entonces $h=\\sqrt{\\mu a\\left(1 e^{2}\\right)}=9.01465\\times10^{10}\\mbox{ m}^{2}\\mbox{/s}$, por lo que \n",
    "\n",
    ">> $$\n",
    "\\phi=1.20248\\mbox{ rad}\n",
    "$$\n",
    "\n",
    ">> y la componente radial de la velocidad sería\n",
    ">> $$\n",
    "\\boxed{v_{r}=v\\cos\\phi=720.68\\mbox{ m/s}.}\n",
    "$$\n",
    "\n",
    "> d. Pero, dado que $E>\\pi$, entonces el satélite ya pasó por el apogeo y debe suceder que su radio vector está disminuyendo de magnitud, por lo que se debe estar acercando al perigeo."
   ]
  },
  {
   "cell_type": "markdown",
   "metadata": {
    "tags": [
     "navigation"
    ]
   },
   "source": [
    "[Indice](index.ipynb) | Previo: [Problema2Cuerpos.SPICE](07.07.00.00.Problema2Cuerpos.SPICE.ipynb) | Siguiente: [Problema3Cuerpos](08.00.00.00.Problema3Cuerpos.ipynb)"
   ]
  }
 ],
 "metadata": {
  "kernelspec": {
   "display_name": "Python 3",
   "language": "python",
   "name": "python3"
  },
  "language_info": {
   "codemirror_mode": {
    "name": "ipython",
    "version": 3
   },
   "file_extension": ".py",
   "mimetype": "text/x-python",
   "name": "python",
   "nbconvert_exporter": "python",
   "pygments_lexer": "ipython3",
   "version": "3.6.8"
  },
  "mybook": {
   "type": "problems:1"
  }
 },
 "nbformat": 4,
 "nbformat_minor": 2
}
