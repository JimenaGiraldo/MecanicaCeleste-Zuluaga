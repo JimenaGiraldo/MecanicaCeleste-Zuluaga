{
 "cells": [
  {
   "cell_type": "markdown",
   "metadata": {},
   "source": [
    "<p style=\"margin:3em\"></p>\n",
    "<p style=\"text-align:center;font-size:3em;font-weight:bold\">Mecánica Celeste</p>\n",
    "<p style=\"text-align:center;font-size:2em\">Teoría, algoritmos y problemas</p>"
   ]
  },
  {
   "cell_type": "markdown",
   "metadata": {},
   "source": [
    "![Portada](./figures/portada.png)"
   ]
  },
  {
   "cell_type": "markdown",
   "metadata": {},
   "source": [
    "<p style=\"text-align:center;font-size:2em;font-weight:bold\">Jorge I. Zuluaga</p>\n",
    "<p style=\"text-align:center;font-size:1.2em\">Profesor Titular de Física y Astronomía</p>\n",
    "<p style=\"text-align:center;font-size:1.2em\">Instituto de Física, Facultad de Ciencias Exactas y Naturales</p>\n",
    "<p style=\"text-align:center;font-size:1.2em\">Universidad de Antioquia</p>"
   ]
  },
  {
   "cell_type": "markdown",
   "metadata": {},
   "source": [
    "---"
   ]
  },
  {
   "cell_type": "markdown",
   "metadata": {},
   "source": [
    "<p style=\"margin:1em\"></p>\n",
    "<p style=\"text-align:center;font-size:2em;font-weight:bold\">Tabla de Contenido</p>\n",
    "<p style=\"margin:1em\"></p>"
   ]
  },
  {
   "cell_type": "markdown",
   "metadata": {},
   "source": [
    "## Índice de materias\n",
    "- [Prefacio](01.00.00.00.Prefacio.ipynb#prefacio). <b>{#prefacio}</b>\n",
    "   - [¿Otro libro de mecánica celeste?](01.00.00.00.Prefacio.ipynb#otro_libro). <b>{#otro_libro}</b>\n",
    "   - [Mecánica celeste y mecánica analítica](01.00.00.00.Prefacio.ipynb#celeste_analitica). <b>{#celeste_analitica}</b>\n",
    "   - [Mecánica celeste en la era de la información](01.00.00.00.Prefacio.ipynb#celeste_era_informacion). <b>{#celeste_era_informacion}</b>\n",
    "   - [Mecánica celeste en Python](01.00.00.00.Prefacio.ipynb#celeste_python). <b>{#celeste_python}</b>\n",
    "   - [Mecánica celeste con `SPICE`](01.00.00.00.Prefacio.ipynb#celeste_spice). <b>{#celeste_spice}</b>\n",
    "   - [¿Qué hace distinto a este libro?: un decálogo](01.00.00.00.Prefacio.ipynb#libro_distinto). <b>{#libro_distinto}</b>\n",
    "- [Agradecimientos](02.00.00.00.Agradecimientos.ipynb#agradecimientos). <b>{#agradecimientos}</b>\n",
    "- [Introducción](03.00.00.00.Introduccion.ipynb#introduccion). <b>{#introduccion}</b>\n",
    "   - [¿Cómo se organiza este libro?](03.00.00.00.Introduccion.ipynb#organizacion_libro). <b>{#organizacion_libro}</b>\n",
    "   - [¿Cómo usar este libro?](03.00.00.00.Introduccion.ipynb#como_usar_libro). <b>{#como_usar_libro}</b>\n",
    "   - [Mecánica celeste en *libretas*](03.00.00.00.Introduccion.ipynb#celeste_libretas). <b>{#celeste_libretas}</b>\n",
    "      - [Instalación de las libretas](03.00.00.00.Introduccion.ipynb#instalacion_libretas). <b>{#instalacion_libretas}</b>\n",
    "   - [Idioma y Notación](03.00.00.00.Introduccion.ipynb#idioma_notacion). <b>{#idioma_notacion}</b>\n",
    "      - [Palabras extranjeras y guía de pronunciación](03.00.00.00.Introduccion.ipynb#extranjerismos_pronunciacion). <b>{#extranjerismos_pronunciacion}</b>\n",
    "      - [Siglos y décadas](03.00.00.00.Introduccion.ipynb#siglos_decadas). <b>{#siglos_decadas}</b>\n",
    "      - [Notación matemática](03.00.00.00.Introduccion.ipynb#notacion). <b>{#notacion}</b>\n",
    "   - [Elementos no textuales](03.00.00.00.Introduccion.ipynb#elementos_no_textuales). <b>{#elementos_no_textuales}</b>\n",
    "      - [Cajas de texto](03.00.00.00.Introduccion.ipynb#cajas_texto). <b>{#cajas_texto}</b>\n",
    "      - [Algoritmos](03.00.00.00.Introduccion.ipynb#algoritmos). <b>{#algoritmos}</b>\n",
    "   - [Figuras interactivas y animaciones](03.00.00.00.Introduccion.ipynb#interactivas_animaciones). <b>{#interactivas_animaciones}</b>\n",
    "      - [Ejemplo de figura interactiva](03.00.00.00.Introduccion.ipynb#ejemplo_interactiva). <b>{#ejemplo_interactiva}</b>\n",
    "      - [Ejemplo de figura animada](03.00.00.00.Introduccion.ipynb#ejemplo_animada). <b>{#ejemplo_animada}</b>\n"
   ]
  },
  {
   "cell_type": "markdown",
   "metadata": {},
   "source": [
    "## Índice de figuras\n",
    "- Figuras en [01.00.00.00.Prefacio](01.00.00.00.Prefacio.ipynb)\n",
    "   - [Figura 1.1](01.00.00.00.Prefacio.ipynb#fig:utlima_thule). Imagen procesada de Arrokoth, el objeto transneptuniano sobrevolado por la sonda New Horizons el 1 de enero 2019 (crédito: NASA/Johns Hopkins University Applied Physics Laboratory/Southwest Research Institute/Roman Tkachenko.). <b>{fig:utlima_thule}</b>\n",
    "- Figuras en [03.00.00.00.Introduccion](03.00.00.00.Introduccion.ipynb)\n",
    "   - [Figura 3.3](03.00.00.00.Introduccion.ipynb#fig:teorema_danelin). Ilustración esquemática del *teorema de Danelin*.. <b>{fig:teorema_danelin}</b>\n",
    "   - [Figura 3.4](03.00.00.00.Introduccion.ipynb#fig:kepler). Retrato de Johanes Kepler, copia de un original de 1610 de pintor desconocido y que se conserva en el monasterio Benedictino de Kremsmünster (Alemania).. <b>{fig:kepler}</b>\n"
   ]
  },
  {
   "cell_type": "markdown",
   "metadata": {},
   "source": [
    "## Índice de códigos\n",
    "- Código en [03.00.00.00.Introduccion](03.00.00.00.Introduccion.ipynb)\n",
    "    - [Código (3.1)](03.00.00.00.Introduccion.ipynb#code:rutina_discriminante): rutina_discriminante. <b>{code:rutina_discriminante}</b>\n",
    "    - [Código (3.2)](03.00.00.00.Introduccion.ipynb#code:raiz_polinomio): raiz_polinomio. <b>{code:raiz_polinomio}</b>\n",
    "    - [Código (3.3)](03.00.00.00.Introduccion.ipynb#code:plot_sin): plot_sin. <b>{code:plot_sin}</b>\n"
   ]
  }
 ],
 "metadata": {
  "kernelspec": {
   "display_name": "Python 3",
   "language": "python",
   "name": "python3"
  },
  "language_info": {
   "codemirror_mode": {
    "name": "ipython",
    "version": 3
   },
   "file_extension": ".py",
   "mimetype": "text/x-python",
   "name": "python",
   "nbconvert_exporter": "python",
   "pygments_lexer": "ipython3",
   "version": "3.6.8"
  }
 },
 "nbformat": 4,
 "nbformat_minor": 2
}
