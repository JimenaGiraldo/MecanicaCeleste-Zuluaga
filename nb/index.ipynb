{
 "cells": [
  {
   "cell_type": "markdown",
   "metadata": {},
   "source": [
    "<p style=\"margin:3em\"></p>\n",
    "<p style=\"text-align:center;font-size:3em;font-weight:bold\">Mecánica Celeste y Analítica</p>\n",
    "<p style=\"text-align:center;font-size:2em\">Teoría, problemas y algoritmos</p>"
   ]
  },
  {
   "cell_type": "markdown",
   "metadata": {},
   "source": [
    "![Portada](./figures/portada.png)"
   ]
  },
  {
   "cell_type": "markdown",
   "metadata": {},
   "source": [
    "<p style=\"text-align:center;font-size:2em;font-weight:bold\">Jorge I. Zuluaga</p>\n",
    "<p style=\"text-align:center;font-size:1.2em\">Profesor Titular de Física y Astronomía</p>\n",
    "<p style=\"text-align:center;font-size:1.2em\">Instituto de Física, Facultad de Ciencias Exactas y Naturales</p>\n",
    "<p style=\"text-align:center;font-size:1.2em\">Universidad de Antioquia</p>"
   ]
  },
  {
   "cell_type": "markdown",
   "metadata": {},
   "source": [
    "---"
   ]
  },
  {
   "cell_type": "markdown",
   "metadata": {},
   "source": [
    "<p style=\"margin:1em\"></p>\n",
    "<p style=\"text-align:center;font-size:2em;font-weight:bold\">Tabla de Contenido</p>\n",
    "<p style=\"margin:1em\"></p>"
   ]
  },
  {
   "cell_type": "markdown",
   "metadata": {},
   "source": [
    "## Índice de materias\n",
    "- [Prefacio](01.00.00.00.Prefacio.ipynb#prefacio). <b>{#prefacio}</b>\n",
    "   - [¿Otro libro de mecánica celeste?](01.00.00.00.Prefacio.ipynb#otro_libro). <b>{#otro_libro}</b>\n",
    "   - [Mecánica celeste y mecánica analítica](01.00.00.00.Prefacio.ipynb#celeste_analitica). <b>{#celeste_analitica}</b>\n",
    "   - [Mecánica celeste en la era de la información](01.00.00.00.Prefacio.ipynb#celeste_era_informacion). <b>{#celeste_era_informacion}</b>\n",
    "   - [Mecánica celeste en Python](01.00.00.00.Prefacio.ipynb#celeste_python). <b>{#celeste_python}</b>\n",
    "   - [Mecánica celeste con `SPICE`](01.00.00.00.Prefacio.ipynb#celeste_spice). <b>{#celeste_spice}</b>\n",
    "   - [¿Qué hace distinto a este libro?: un decálogo](01.00.00.00.Prefacio.ipynb#libro_distinto). <b>{#libro_distinto}</b>\n",
    "- [Agradecimientos](02.00.00.00.Agradecimientos.ipynb#agradecimientos). <b>{#agradecimientos}</b>\n",
    "- [Introducción](03.00.00.00.Introduccion.ipynb#introduccion). <b>{#introduccion}</b>\n",
    "   - [¿Cómo se organiza este libro?](03.00.00.00.Introduccion.ipynb#organizacion_libro). <b>{#organizacion_libro}</b>\n",
    "   - [¿Cómo usar este libro?](03.00.00.00.Introduccion.ipynb#como_usar_libro). <b>{#como_usar_libro}</b>\n",
    "   - [Mecánica celeste en *libretas*](03.00.00.00.Introduccion.ipynb#celeste_libretas). <b>{#celeste_libretas}</b>\n",
    "      - [Instalación de las libretas](03.00.00.00.Introduccion.ipynb#instalacion_libretas). <b>{#instalacion_libretas}</b>\n",
    "   - [Estructura del libro](03.00.00.00.Introduccion.ipynb#estructura_libro). <b>{#estructura_libro}</b>\n",
    "      - [Cajas de texto](03.00.00.00.Introduccion.ipynb#cajas_texto). <b>{#cajas_texto}</b>\n",
    "      - [Algorítmos](03.00.00.00.Introduccion.ipynb#algoritmos). <b>{#algoritmos}</b>\n",
    "   - [Figuras interactivas y animaciones](03.00.00.00.Introduccion.ipynb#interactivas_animaciones). <b>{#interactivas_animaciones}</b>\n",
    "      - [Ejemplo de figura interactiva](03.00.00.00.Introduccion.ipynb#ejemplo_interactiva). <b>{#ejemplo_interactiva}</b>\n",
    "      - [Ejemplo de figura animada](03.00.00.00.Introduccion.ipynb#ejemplo_animada). <b>{#ejemplo_animada}</b>\n",
    "- [Fundamentos](04.00.00.00.Fundamentos.ipynb#fundamentos). <b>{#fundamentos}</b>\n",
    "   - [Mecánica Newtoniana](04.01.01.01.Fundamentos.Mecanica.Cinematica.Cantidades.ipynb#mecanica_newtoniana). <b>{#mecanica_newtoniana}</b>\n",
    "      - [Sistemas de coordenadas](04.01.01.01.Fundamentos.Mecanica.Cinematica.Cantidades.ipynb#sistemas_coordenadas). <b>{#sistemas_coordenadas}</b>\n",
    "      - [Propiedades cinemáticas](04.01.01.01.Fundamentos.Mecanica.Cinematica.Cantidades.ipynb#propiedades_cinematicas). <b>{#propiedades_cinematicas}</b>\n",
    "      - [La ecuación de movimiento (e.d.m.)](04.01.01.02.Fundamentos.Mecanica.Cinematica.SolucionEdM.ipynb#ecuacion_movimiento). <b>{#ecuacion_movimiento}</b>\n",
    "      - [Integración de la e.d.m.](04.01.01.02.Fundamentos.Mecanica.Cinematica.SolucionEdM.ipynb#integracion_edm). <b>{#integracion_edm}</b>\n",
    "      - [Integración numérica de la e.d.m.](04.01.01.03.Fundamentos.Mecanica.Cinematica.SolucionNumerica.ipynb#integracion_numerica_edm). <b>{#integracion_numerica_edm}</b>\n"
   ]
  },
  {
   "cell_type": "markdown",
   "metadata": {},
   "source": [
    "## Índice de figuras\n",
    "- Figuras en [01.00.00.00.Prefacio](01.00.00.00.Prefacio.ipynb)\n",
    "   - [Figura 1.1](01.00.00.00.Prefacio.ipynb#fig:utlima_thule). Imagen procesada de Ultima Thule, el objeto transneptuniano sobrevolado por la sonda New Horizons en 2019 (crédito: NASA/Johns Hopkins University Applied Physics Laboratory/Southwest Research Institute/Roman Tkachenko.). <b>{fig:utlima_thule}</b>\n",
    "- Figuras en [03.00.00.00.Introduccion](03.00.00.00.Introduccion.ipynb)\n",
    "   - [Figura 3.3](03.00.00.00.Introduccion.ipynb#fig:kepler). Retrato de Johanes Kepler, copia de un original de 1610 de pintor desconocido y que se conserva en el monasterio Benedictino de Kremsmünster. <b>{fig:kepler}</b>\n",
    "- Figuras en [04.01.01.01.Fundamentos.Mecanica.Cinematica.Cantidades](04.01.01.01.Fundamentos.Mecanica.Cinematica.Cantidades.ipynb)\n",
    "   - [Figura 4.6](04.01.01.01.Fundamentos.Mecanica.Cinematica.Cantidades.ipynb#fig:coordenadas). Definción de los sistemas de coordenadas usadas en este texto. <b>{fig:coordenadas}</b>\n"
   ]
  },
  {
   "cell_type": "markdown",
   "metadata": {},
   "source": [
    "## Índice de ecuaciones\n",
    "- Ecuaciones en [04.01.01.01.Fundamentos.Mecanica.Cinematica.Cantidades](04.01.01.01.Fundamentos.Mecanica.Cinematica.Cantidades.ipynb)\n",
    "    - [Ec. (4.1)](04.01.01.01.Fundamentos.Mecanica.Cinematica.Cantidades.ipynb#mjx-eqn-eq%3Aconjunto_mano_derecha): conjunto_mano_derecha. <b>{eq:conjunto_mano_derecha}</b>\n",
    "    - [Ec. (4.2)](04.01.01.01.Fundamentos.Mecanica.Cinematica.Cantidades.ipynb#mjx-eqn-eq%3Acilindricas_a_cartesianas): cilindricas_a_cartesianas. <b>{eq:cilindricas_a_cartesianas}</b>\n",
    "    - [Ec. (4.3)](04.01.01.01.Fundamentos.Mecanica.Cinematica.Cantidades.ipynb#mjx-eqn-eq%3Aunitarios_cilindricas): unitarios_cilindricas. <b>{eq:unitarios_cilindricas}</b>\n",
    "    - [Ec. (4.4)](04.01.01.01.Fundamentos.Mecanica.Cinematica.Cantidades.ipynb#mjx-eqn-eq%3Aesfericas_a_cartesianas): esfericas_a_cartesianas. <b>{eq:esfericas_a_cartesianas}</b>\n",
    "    - [Ec. (4.5)](04.01.01.01.Fundamentos.Mecanica.Cinematica.Cantidades.ipynb#mjx-eqn-eq%3Aunitarios_esfericas): unitarios_esfericas. <b>{eq:unitarios_esfericas}</b>\n",
    "- Ecuaciones en [04.01.01.02.Fundamentos.Mecanica.Cinematica.SolucionEdM](04.01.01.02.Fundamentos.Mecanica.Cinematica.SolucionEdM.ipynb)\n",
    "    - [Ec. (4.6)](04.01.01.02.Fundamentos.Mecanica.Cinematica.SolucionEdM.ipynb#mjx-eqn-eq%3Aedm): edm. <b>{eq:edm}</b>\n",
    "    - [Ec. (4.7)](04.01.01.02.Fundamentos.Mecanica.Cinematica.SolucionEdM.ipynb#mjx-eqn-eq%3Aedm_primer_orden): edm_primer_orden. <b>{eq:edm_primer_orden}</b>\n",
    "    - [Ec. (4.8)](04.01.01.02.Fundamentos.Mecanica.Cinematica.SolucionEdM.ipynb#mjx-eqn-eq%3Aedm_escalar): edm_escalar. <b>{eq:edm_escalar}</b>\n",
    "    - [Ec. (4.9)](04.01.01.02.Fundamentos.Mecanica.Cinematica.SolucionEdM.ipynb#mjx-eqn-eq%3Aedm_primer_orden_escalar): edm_primer_orden_escalar. <b>{eq:edm_primer_orden_escalar}</b>\n",
    "    - [Ec. (4.10)](04.01.01.02.Fundamentos.Mecanica.Cinematica.SolucionEdM.ipynb#mjx-eqn-eq%3Aedm_estado): edm_estado. <b>{eq:edm_estado}</b>\n",
    "    - [Ec. (4.11)](04.01.01.02.Fundamentos.Mecanica.Cinematica.SolucionEdM.ipynb#mjx-eqn-eq%3Aedm_ejemplo1): edm_ejemplo1. <b>{eq:edm_ejemplo1}</b>\n",
    "    - [Ec. (4.12)](04.01.01.02.Fundamentos.Mecanica.Cinematica.SolucionEdM.ipynb#mjx-eqn-eq%3Aedm_ejemplo1_cuadratura): edm_ejemplo1_cuadratura. <b>{eq:edm_ejemplo1_cuadratura}</b>\n",
    "    - [Ec. (4.13)](04.01.01.02.Fundamentos.Mecanica.Cinematica.SolucionEdM.ipynb#mjx-eqn-eq%3AIx_ejemplo1): Ix_ejemplo1. <b>{eq:Ix_ejemplo1}</b>\n",
    "    - [Ec. (4.14)](04.01.01.02.Fundamentos.Mecanica.Cinematica.SolucionEdM.ipynb#mjx-eqn-eq%3AIx_ejemplo2): Ix_ejemplo2. <b>{eq:Ix_ejemplo2}</b>\n",
    "    - [Ec. (4.15)](04.01.01.02.Fundamentos.Mecanica.Cinematica.SolucionEdM.ipynb#mjx-eqn-eq%3Aconstantes_ejemplo1): constantes_ejemplo1. <b>{eq:constantes_ejemplo1}</b>\n",
    "    - [Ec. (4.16)](04.01.01.02.Fundamentos.Mecanica.Cinematica.SolucionEdM.ipynb#mjx-eqn-eq%3Asolucion_ejemplo1): solucion_ejemplo1. <b>{eq:solucion_ejemplo1}</b>\n",
    "- Ecuaciones en [04.01.01.03.Fundamentos.Mecanica.Cinematica.SolucionNumerica](04.01.01.03.Fundamentos.Mecanica.Cinematica.SolucionNumerica.ipynb)\n",
    "    - [Ec. (4.17)](04.01.01.03.Fundamentos.Mecanica.Cinematica.SolucionNumerica.ipynb#mjx-eqn-eq%3Aecuaciones_reducidas): ecuaciones_reducidas. <b>{eq:ecuaciones_reducidas}</b>\n",
    "    - [Ec. (4.18)](04.01.01.03.Fundamentos.Mecanica.Cinematica.SolucionNumerica.ipynb#mjx-eqn-eq%3Avariables_auxiliares_edm): variables_auxiliares_edm. <b>{eq:variables_auxiliares_edm}</b>\n",
    "    - [Ec. (4.19)](04.01.01.03.Fundamentos.Mecanica.Cinematica.SolucionNumerica.ipynb#mjx-eqn-eq%3Aecuaciones_reducidas_particula): ecuaciones_reducidas_particula. <b>{eq:ecuaciones_reducidas_particula}</b>\n"
   ]
  },
  {
   "cell_type": "markdown",
   "metadata": {},
   "source": [
    "## Índice de códigos\n",
    "- Código en [03.00.00.00.Introduccion](03.00.00.00.Introduccion.ipynb)\n",
    "    - [Código (3.1)](03.00.00.00.Introduccion.ipynb#code:rutina_discriminante): rutina_discriminante. <b>{code:rutina_discriminante}</b>\n",
    "    - [Código (3.2)](03.00.00.00.Introduccion.ipynb#code:calcula_discriminante): calcula_discriminante. <b>{code:calcula_discriminante}</b>\n",
    "    - [Código (3.3)](03.00.00.00.Introduccion.ipynb#code:plot_sin): plot_sin. <b>{code:plot_sin}</b>\n",
    "- Código en [04.01.01.03.Fundamentos.Mecanica.Cinematica.SolucionNumerica](04.01.01.03.Fundamentos.Mecanica.Cinematica.SolucionNumerica.ipynb)\n",
    "    - [Código (4.4)](04.01.01.03.Fundamentos.Mecanica.Cinematica.SolucionNumerica.ipynb#code:edm_ejemplo1): edm_ejemplo1. <b>{code:edm_ejemplo1}</b>\n",
    "    - [Código (4.5)](04.01.01.03.Fundamentos.Mecanica.Cinematica.SolucionNumerica.ipynb#code:ejemplo1_grafico_solucion): ejemplo1_grafico_solucion. <b>{code:ejemplo1_grafico_solucion}</b>\n",
    "    - [Código (4.6)](04.01.01.03.Fundamentos.Mecanica.Cinematica.SolucionNumerica.ipynb#code:compara_numerica_analitica): compara_numerica_analitica. <b>{code:compara_numerica_analitica}</b>\n",
    "    - [Código (4.7)](04.01.01.03.Fundamentos.Mecanica.Cinematica.SolucionNumerica.ipynb#code:solucion_numerica_ejemplo): solucion_numerica_ejemplo. <b>{code:solucion_numerica_ejemplo}</b>\n"
   ]
  }
 ],
 "metadata": {
  "kernelspec": {
   "display_name": "Python 3",
   "language": "python",
   "name": "python3"
  },
  "language_info": {
   "codemirror_mode": {
    "name": "ipython",
    "version": 3
   },
   "file_extension": ".py",
   "mimetype": "text/x-python",
   "name": "python",
   "nbconvert_exporter": "python",
   "pygments_lexer": "ipython3",
   "version": "3.6.8"
  }
 },
 "nbformat": 4,
 "nbformat_minor": 2
}
