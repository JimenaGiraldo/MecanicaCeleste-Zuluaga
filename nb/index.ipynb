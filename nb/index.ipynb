{
 "cells": [
  {
   "cell_type": "markdown",
   "metadata": {},
   "source": [
    "<p style=\"margin:3em\"></p>\n",
    "<p style=\"text-align:center;font-size:3em;font-weight:bold\">Mecánica Celeste</p>\n",
    "<p style=\"text-align:center;font-size:2em\">Teoría, algoritmos y problemas</p>"
   ]
  },
  {
   "cell_type": "markdown",
   "metadata": {},
   "source": [
    "![Portada](./figures/portada.png)"
   ]
  },
  {
   "cell_type": "markdown",
   "metadata": {},
   "source": [
    "<p style=\"text-align:center;font-size:2em;font-weight:bold\">Jorge I. Zuluaga</p>\n",
    "<p style=\"text-align:center;font-size:1.2em\">Profesor Titular de Física y Astronomía</p>\n",
    "<p style=\"text-align:center;font-size:1.2em\">Instituto de Física, Facultad de Ciencias Exactas y Naturales</p>\n",
    "<p style=\"text-align:center;font-size:1.2em\">Universidad de Antioquia</p>"
   ]
  },
  {
   "cell_type": "markdown",
   "metadata": {},
   "source": [
    "---"
   ]
  },
  {
   "cell_type": "markdown",
   "metadata": {},
   "source": [
    "<p style=\"margin:1em\"></p>\n",
    "<p style=\"text-align:center;font-size:2em;font-weight:bold\">Tabla de Contenido</p>\n",
    "<p style=\"margin:1em\"></p>"
   ]
  },
  {
   "cell_type": "markdown",
   "metadata": {},
   "source": [
    "## Índice de materias\n",
    "- [Prefacio](01.00.00.00.Prefacio.ipynb#prefacio).\n",
    "   - [¿Otro libro de mecánica celeste?](01.00.00.00.Prefacio.ipynb#otro_libro).\n",
    "   - [Mecánica celeste y mecánica analítica](01.00.00.00.Prefacio.ipynb#celeste_analitica).\n",
    "   - [Mecánica celeste en la era de la información](01.00.00.00.Prefacio.ipynb#celeste_era_informacion).\n",
    "   - [Mecánica celeste en Python](01.00.00.00.Prefacio.ipynb#celeste_python).\n",
    "   - [Mecánica celeste con `SPICE`](01.00.00.00.Prefacio.ipynb#celeste_spice).\n",
    "   - [¿Qué hace distinto a este libro?: un decálogo](01.00.00.00.Prefacio.ipynb#libro_distinto).\n"
   ]
  },
  {
   "cell_type": "markdown",
   "metadata": {},
   "source": [
    "## Índice de figuras\n",
    "- Figuras en [01.00.00.00.Prefacio](01.00.00.00.Prefacio.ipynb)\n",
    "   - [Figura 1.1](01.00.00.00.Prefacio.ipynb#fig:utlima_thule). Imagen procesada de Arrokoth, el objeto transneptuniano sobrevolado por la sonda New Horizons el 1 de enero 2019 (crédito: NASA/Johns Hopkins University Applied Physics Laboratory/Southwest Research Institute/Roman Tkachenko.).\n"
   ]
  }
 ],
 "metadata": {
  "kernelspec": {
   "display_name": "Python 3",
   "language": "python",
   "name": "python3"
  },
  "language_info": {
   "codemirror_mode": {
    "name": "ipython",
    "version": 3
   },
   "file_extension": ".py",
   "mimetype": "text/x-python",
   "name": "python",
   "nbconvert_exporter": "python",
   "pygments_lexer": "ipython3",
   "version": "3.6.8"
  }
 },
 "nbformat": 4,
 "nbformat_minor": 2
}
