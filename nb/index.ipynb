{
 "cells": [
  {
   "cell_type": "markdown",
   "metadata": {},
   "source": [
    "<p style=\"margin:3em\"></p>\n",
    "<p style=\"text-align:center;font-size:3em;font-weight:bold\">Mecánica Celeste y Analítica</p>\n",
    "<p style=\"text-align:center;font-size:2em\">Teoría, problemas y algoritmos</p>"
   ]
  },
  {
   "cell_type": "markdown",
   "metadata": {},
   "source": [
    "![Portada](./figures/portada.png)"
   ]
  },
  {
   "cell_type": "markdown",
   "metadata": {},
   "source": [
    "<p style=\"text-align:center;font-size:2em;font-weight:bold\">Jorge I. Zuluaga</p>\n",
    "<p style=\"text-align:center;font-size:1.2em\">Profesor Titular de Física y Astronomía</p>\n",
    "<p style=\"text-align:center;font-size:1.2em\">Instituto de Física, Facultad de Ciencias Exactas y Naturales</p>\n",
    "<p style=\"text-align:center;font-size:1.2em\">Universidad de Antioquia</p>"
   ]
  },
  {
   "cell_type": "markdown",
   "metadata": {},
   "source": [
    "---"
   ]
  },
  {
   "cell_type": "markdown",
   "metadata": {},
   "source": [
    "<p style=\"margin:1em\"></p>\n",
    "<p style=\"text-align:center;font-size:2em;font-weight:bold\">Tabla de Contenido</p>\n",
    "<p style=\"margin:1em\"></p>"
   ]
  },
  {
   "cell_type": "markdown",
   "metadata": {},
   "source": [
    "## Índice de materias\n",
    "- [Fundamentos](01.00.00.00.Fundamentos.ipynb#fundamentos). <b>{#fundamentos}</b>\n",
    "   - [Vectores y cálculo](01.01.00.00.Fundamentos.Calculo.ipynb#vectores_calculo). <b>{#vectores_calculo}</b>\n",
    "      - [Conjunto, tuplas y vectores](01.01.01.00.Fundamentos.Calculo.Vectores.ipynb#conjuntos_tuplas_vectores). <b>{#conjuntos_tuplas_vectores}</b>\n",
    "      - [Sistemas de coordenadas](01.01.01.00.Fundamentos.Calculo.Vectores.ipynb#sistemas_coordenadas). <b>{#sistemas_coordenadas}</b>\n",
    "      - [Funciones](01.01.02.00.Fundamentos.Calculo.CalculoInfinitesimal.ipynb#funciones). <b>{#funciones}</b>\n",
    "      - [Derivadas](01.01.02.00.Fundamentos.Calculo.CalculoInfinitesimal.ipynb#derivadas). <b>{#derivadas}</b>\n",
    "      - [Funciones homogéneas](01.01.02.00.Fundamentos.Calculo.CalculoInfinitesimal.ipynb#funciones_homogeneas). <b>{#funciones_homogeneas}</b>\n",
    "         - [Algoritmos para la derivada](01.01.02.00.Fundamentos.Calculo.CalculoInfinitesimal.ipynb#algoritmos_derivada). <b>{#algoritmos_derivada}</b>\n",
    "      - [Integrales](01.01.02.00.Fundamentos.Calculo.CalculoInfinitesimal.ipynb#integrales). <b>{#integrales}</b>\n",
    "      - [Integrales vectoriales](01.01.02.00.Fundamentos.Calculo.CalculoInfinitesimal.ipynb#integrales_vectoriales). <b>{#integrales_vectoriales}</b>\n",
    "         - [Algoritmos para la integral](01.01.02.00.Fundamentos.Calculo.CalculoInfinitesimal.ipynb#algoritmos_integral). <b>{#algoritmos_integral}</b>\n",
    "      - [Ecuaciones diferenciales](01.01.03.00.Fundamentos.Calculo.EcuacionesDiferenciales.ipynb#ecuaciones_diferenciales). <b>{#ecuaciones_diferenciales}</b>\n",
    "         - [Algoritmos para la solución de ODE](01.01.03.00.Fundamentos.Calculo.EcuacionesDiferenciales.ipynb#algoritmos_ode). <b>{#algoritmos_ode}</b>\n",
    "      - [Funcionales y cálculo de variaciones](01.01.04.00.Fundamentos.Calculo.CalculoVariacional.ipynb#funcionales_calculo_variaciones). <b>{#funcionales_calculo_variaciones}</b>\n",
    "         - [Algoritmos en el cálculo variacional](01.01.04.00.Fundamentos.Calculo.CalculoVariacional.ipynb#algoritmos_calculo_variacional). <b>{#algoritmos_calculo_variacional}</b>\n",
    "      - [Gráficos interactivos](01.01.04.00.Fundamentos.Calculo.CalculoVariacional.ipynb#graficos_interactivos_variacional). <b>{#graficos_interactivos_variacional}</b>\n"
   ]
  },
  {
   "cell_type": "markdown",
   "metadata": {},
   "source": [
    "## Índice de figuras\n",
    "- Figuras en [01.01.01.00.Fundamentos.Calculo.Vectores](01.01.01.00.Fundamentos.Calculo.Vectores.ipynb)\n",
    "   - [Figura 1.1](01.01.01.00.Fundamentos.Calculo.Vectores.ipynb#fig:vectores). Definición geométrica de vector espacial y de sus operaciones básicas (suma, resta y multiplicación por un escalar). Aunque la resta de $. <b>{fig:vectores}</b>\n",
    "   - [Figura 1.2](01.01.01.00.Fundamentos.Calculo.Vectores.ipynb#fig:coordenadas). Definción de los sistemas de coordenadas usadas en este texto. <b>{fig:coordenadas}</b>\n",
    "- Figuras en [01.01.04.00.Fundamentos.Calculo.CalculoVariacional](01.01.04.00.Fundamentos.Calculo.CalculoVariacional.ipynb)\n",
    "   - [Figura 1.4](01.01.04.00.Fundamentos.Calculo.CalculoVariacional.ipynb#fig:variacion_funcion). El área bajo una curva es un funcional, en tanto depende de la función que represente la curva, $f(t)$ o $f_0(t)$ Se conoce como una variación $. <b>{fig:variacion_funcion}</b>\n"
   ]
  },
  {
   "cell_type": "markdown",
   "metadata": {},
   "source": [
    "## Índice de ecuaciones\n",
    "- Ecuaciones en [01.01.01.00.Fundamentos.Calculo.Vectores](01.01.01.00.Fundamentos.Calculo.Vectores.ipynb)\n",
    "    - [Ec. (1.1)](01.01.01.00.Fundamentos.Calculo.Vectores.ipynb#mjx-eqn-eq%3Asuma_tuplas): suma_tuplas. <b>{eq:suma_tuplas}</b>\n",
    "    - [Ec. (1.2)](01.01.01.00.Fundamentos.Calculo.Vectores.ipynb#mjx-eqn-eq%3Ak_tupla): k_tupla. <b>{eq:k_tupla}</b>\n",
    "    - [Ec. (1.3)](01.01.01.00.Fundamentos.Calculo.Vectores.ipynb#mjx-eqn-eq%3Avectores_en_base): vectores_en_base. <b>{eq:vectores_en_base}</b>\n",
    "    - [Ec. (1.4)](01.01.01.00.Fundamentos.Calculo.Vectores.ipynb#mjx-eqn-eq%3Adelta_kroenecker): delta_kroenecker. <b>{eq:delta_kroenecker}</b>\n",
    "    - [Ec. (1.5)](01.01.01.00.Fundamentos.Calculo.Vectores.ipynb#mjx-eqn-eq%3Abase_mano_derecha): base_mano_derecha. <b>{eq:base_mano_derecha}</b>\n",
    "    - [Ec. (1.6)](01.01.01.00.Fundamentos.Calculo.Vectores.ipynb#mjx-eqn-eq%3Alevi_civita): levi_civita. <b>{eq:levi_civita}</b>\n",
    "    - [Ec. (1.7)](01.01.01.00.Fundamentos.Calculo.Vectores.ipynb#mjx-eqn-eq%3Aproducto_cruz): producto_cruz. <b>{eq:producto_cruz}</b>\n",
    "    - [Ec. (1.8)](01.01.01.00.Fundamentos.Calculo.Vectores.ipynb#mjx-eqn-eq%3Aproducto_cruz_determinante): producto_cruz_determinante. <b>{eq:producto_cruz_determinante}</b>\n",
    "    - [Ec. (1.9)](01.01.01.00.Fundamentos.Calculo.Vectores.ipynb#mjx-eqn-eq%3Atriple_producto_escalar): triple_producto_escalar. <b>{eq:triple_producto_escalar}</b>\n",
    "    - [Ec. (1.10)](01.01.01.00.Fundamentos.Calculo.Vectores.ipynb#mjx-eqn-eq%3Atriple_producto_vectorial): triple_producto_vectorial. <b>{eq:triple_producto_vectorial}</b>\n",
    "    - [Ec. (1.11)](01.01.01.00.Fundamentos.Calculo.Vectores.ipynb#mjx-eqn-eq%3Aconjunto_mano_derecha): conjunto_mano_derecha. <b>{eq:conjunto_mano_derecha}</b>\n",
    "    - [Ec. (1.12)](01.01.01.00.Fundamentos.Calculo.Vectores.ipynb#mjx-eqn-eq%3Acilindricas_a_cartesianas): cilindricas_a_cartesianas. <b>{eq:cilindricas_a_cartesianas}</b>\n",
    "    - [Ec. (1.13)](01.01.01.00.Fundamentos.Calculo.Vectores.ipynb#mjx-eqn-eq%3Aunitarios_cilindricas): unitarios_cilindricas. <b>{eq:unitarios_cilindricas}</b>\n",
    "    - [Ec. (1.14)](01.01.01.00.Fundamentos.Calculo.Vectores.ipynb#mjx-eqn-eq%3Aesfericas_a_cartesianas): esfericas_a_cartesianas. <b>{eq:esfericas_a_cartesianas}</b>\n",
    "    - [Ec. (1.15)](01.01.01.00.Fundamentos.Calculo.Vectores.ipynb#mjx-eqn-eq%3Aunitarios_esfericas): unitarios_esfericas. <b>{eq:unitarios_esfericas}</b>\n",
    "- Ecuaciones en [01.01.02.00.Fundamentos.Calculo.CalculoInfinitesimal](01.01.02.00.Fundamentos.Calculo.CalculoInfinitesimal.ipynb)\n",
    "    - [Ec. (1.16)](01.01.02.00.Fundamentos.Calculo.CalculoInfinitesimal.ipynb#mjx-eqn-eq%3Aderivada_definicion): derivada_definicion. <b>{eq:derivada_definicion}</b>\n",
    "    - [Ec. (1.17)](01.01.02.00.Fundamentos.Calculo.CalculoInfinitesimal.ipynb#mjx-eqn-eq%3Aregla_cadena_general): regla_cadena_general. <b>{eq:regla_cadena_general}</b>\n",
    "    - [Ec. (1.18)](01.01.02.00.Fundamentos.Calculo.CalculoInfinitesimal.ipynb#mjx-eqn-eq%3Agradiente_cartesianas): gradiente_cartesianas. <b>{eq:gradiente_cartesianas}</b>\n",
    "    - [Ec. (1.19)](01.01.02.00.Fundamentos.Calculo.CalculoInfinitesimal.ipynb#mjx-eqn-eq%3Agradiente_cilindricas): gradiente_cilindricas. <b>{eq:gradiente_cilindricas}</b>\n",
    "    - [Ec. (1.20)](01.01.02.00.Fundamentos.Calculo.CalculoInfinitesimal.ipynb#mjx-eqn-eq%3Agradiente_esfericas): gradiente_esfericas. <b>{eq:gradiente_esfericas}</b>\n",
    "    - [Ec. (1.21)](01.01.02.00.Fundamentos.Calculo.CalculoInfinitesimal.ipynb#mjx-eqn-eq%3Aregla_cadena_multivariables): regla_cadena_multivariables. <b>{eq:regla_cadena_multivariables}</b>\n",
    "    - [Ec. (1.22)](01.01.02.00.Fundamentos.Calculo.CalculoInfinitesimal.ipynb#mjx-eqn-eq%3Ateorema_fundamental_calculo): teorema_fundamental_calculo. <b>{eq:teorema_fundamental_calculo}</b>\n",
    "- Ecuaciones en [01.01.03.00.Fundamentos.Calculo.EcuacionesDiferenciales](01.01.03.00.Fundamentos.Calculo.EcuacionesDiferenciales.ipynb)\n",
    "    - [Ec. (1.23)](01.01.03.00.Fundamentos.Calculo.EcuacionesDiferenciales.ipynb#mjx-eqn-eq%3Aecuacion_diferencial_antiderivada): ecuacion_diferencial_antiderivada. <b>{eq:ecuacion_diferencial_antiderivada}</b>\n",
    "    - [Ec. (1.24)](01.01.03.00.Fundamentos.Calculo.EcuacionesDiferenciales.ipynb#mjx-eqn-eq%3Aecuacion_diferencial_simple): ecuacion_diferencial_simple. <b>{eq:ecuacion_diferencial_simple}</b>\n",
    "    - [Ec. (1.25)](01.01.03.00.Fundamentos.Calculo.EcuacionesDiferenciales.ipynb#mjx-eqn-eq%3Aecuacion_diferencial_simple_reducida): ecuacion_diferencial_simple_reducida. <b>{eq:ecuacion_diferencial_simple_reducida}</b>\n",
    "    - [Ec. (1.26)](01.01.03.00.Fundamentos.Calculo.EcuacionesDiferenciales.ipynb#mjx-eqn-eq%3Aecuaciones_reducidas): ecuaciones_reducidas. <b>{eq:ecuaciones_reducidas}</b>\n",
    "    - [Ec. (1.27)](01.01.03.00.Fundamentos.Calculo.EcuacionesDiferenciales.ipynb#mjx-eqn-eq%3Aecuacion_diferencial_simple_identificacion): ecuacion_diferencial_simple_identificacion. <b>{eq:ecuacion_diferencial_simple_identificacion}</b>\n",
    "- Ecuaciones en [01.01.04.00.Fundamentos.Calculo.CalculoVariacional](01.01.04.00.Fundamentos.Calculo.CalculoVariacional.ipynb)\n",
    "    - [Ec. (1.28)](01.01.04.00.Fundamentos.Calculo.CalculoVariacional.ipynb#mjx-eqn-eq%3Avariacion): variacion. <b>{eq:variacion}</b>\n",
    "    - [Ec. (1.29)](01.01.04.00.Fundamentos.Calculo.CalculoVariacional.ipynb#mjx-eqn-eq%3Alongitud_curva): longitud_curva. <b>{eq:longitud_curva}</b>\n",
    "    - [Ec. (1.30)](01.01.04.00.Fundamentos.Calculo.CalculoVariacional.ipynb#mjx-eqn-eq%3Afuncional_integral): funcional_integral. <b>{eq:funcional_integral}</b>\n",
    "    - [Ec. (1.31)](01.01.04.00.Fundamentos.Calculo.CalculoVariacional.ipynb#mjx-eqn-eq%3AdIdepsilon): dIdepsilon. <b>{eq:dIdepsilon}</b>\n",
    "    - [Ec. (1.32)](01.01.04.00.Fundamentos.Calculo.CalculoVariacional.ipynb#mjx-eqn-eq%3Aecuacion_integral_variaciones): ecuacion_integral_variaciones. <b>{eq:ecuacion_integral_variaciones}</b>\n",
    "    - [Ec. (1.33)](01.01.04.00.Fundamentos.Calculo.CalculoVariacional.ipynb#mjx-eqn-eq%3Aecuacion_euler_lagrange): ecuacion_euler_lagrange. <b>{eq:ecuacion_euler_lagrange}</b>\n"
   ]
  },
  {
   "cell_type": "markdown",
   "metadata": {},
   "source": [
    "## Índice de códigos\n",
    "- Código en [01.01.02.00.Fundamentos.Calculo.CalculoInfinitesimal](01.01.02.00.Fundamentos.Calculo.CalculoInfinitesimal.ipynb)\n",
    "    - [Código (1.1)](01.01.02.00.Fundamentos.Calculo.CalculoInfinitesimal.ipynb#code:rutina_potencial): rutina_potencial. <b>{code:rutina_potencial}</b>\n",
    "    - [Código (1.2)](01.01.02.00.Fundamentos.Calculo.CalculoInfinitesimal.ipynb#code:funcion_lambda): funcion_lambda. <b>{code:funcion_lambda}</b>\n",
    "- Código en [01.01.04.00.Fundamentos.Calculo.CalculoVariacional](01.01.04.00.Fundamentos.Calculo.CalculoVariacional.ipynb)\n",
    "    - [Código (1.3)](01.01.04.00.Fundamentos.Calculo.CalculoVariacional.ipynb#code:funcional_integral): funcional_integral. <b>{code:funcional_integral}</b>\n"
   ]
  }
 ],
 "metadata": {
  "kernelspec": {
   "display_name": "Python 3",
   "language": "python",
   "name": "python3"
  },
  "language_info": {
   "codemirror_mode": {
    "name": "ipython",
    "version": 3
   },
   "file_extension": ".py",
   "mimetype": "text/x-python",
   "name": "python",
   "nbconvert_exporter": "python",
   "pygments_lexer": "ipython3",
   "version": "3.6.8"
  }
 },
 "nbformat": 4,
 "nbformat_minor": 2
}
