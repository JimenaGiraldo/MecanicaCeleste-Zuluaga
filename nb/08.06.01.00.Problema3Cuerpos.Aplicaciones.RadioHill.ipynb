{
 "cells": [
  {
   "cell_type": "markdown",
   "metadata": {
    "tags": [
     "navigation"
    ]
   },
   "source": [
    "[Indice](index.ipynb) | Previo: [Problema3Cuerpos.PuntosEquilibrioLagrange](08.05.00.00.Problema3Cuerpos.PuntosEquilibrioLagrange.ipynb) | Siguiente: [Problema3Cuerpos.Aplicaciones.OrbitasCRTBP](08.06.02.00.Problema3Cuerpos.Aplicaciones.OrbitasCRTBP.ipynb)"
   ]
  },
  {
   "cell_type": "markdown",
   "metadata": {},
   "source": [
    "## Aplicaciones del CRTBP"
   ]
  },
  {
   "cell_type": "markdown",
   "metadata": {},
   "source": [
    "Aunque los resultados teóricos de las secciones anteriores parecerían no ser más que curiosidades matemáticas con poca o ninguna importancia en la descripción de sistemas físicos reales (¿qué aplicación podría tener por ejemplo los conceptos de puntos de equilibrio de Lagrange si requieren la increíble coincidencia de que una partícula de prueba se ubique en reposo exactemente sobre ellos para permanecer en reposo allí?) la verdad es que tanto astrónomos como ingenieros aeroespaciales han utilizado estos resultados teóricos para entender y describir fenómenos bastante reales, e incluso para aprovechar la compleja gravitación de los cuerpos reales del sistema solar en función de distintos propósitos de exploración."
   ]
  },
  {
   "cell_type": "markdown",
   "metadata": {},
   "source": [
    "### 8.13.6. El radio de Hill y el lóbulo de Roche\n",
    "<a id='crtbp_esfera_influencia'></a>"
   ]
  },
  {
   "cell_type": "markdown",
   "metadata": {},
   "source": [
    "Dos de esos conceptos útiles en astronomía derivados del estudio teórico del CRTBP son los de **radio de Hill** o **radio de Roche**.  Para introducir estos concepto, volvamos nuevamente a los conceptos de regiones de exclusión, superficies de cero velocidad, constante de Jacobi y potencial modificado $V_\\mathrm{mod}$, pero considerándolos ahora a la luz de lo que aprendimos sobre los puntos de equilibrio de Lagrange."
   ]
  },
  {
   "cell_type": "markdown",
   "metadata": {},
   "source": [
    "Calculemos, por ejemplo, el valor del potencial modificado (o la constante de Jacobi) para una partícula que se encuentra justamente sobre el punto de Lagrange $L_1$.  Para ello necesitamos primero calcular de forma muy precisa la posición de este punto sobre el eje $x$:"
   ]
  },
  {
   "cell_type": "code",
   "execution_count": 5,
   "metadata": {
    "codelabel": "",
    "codeplot": 0
   },
   "outputs": [],
   "source": [
    "#Parámetro del sistema\n",
    "alfa=0.05\n",
    "\n",
    "#Posición del punto L1\n",
    "from scipy.optimize import bisect\n",
    "from pymcel.export import funcion_puntos_colineales\n",
    "xL1=bisect(funcion_puntos_colineales,0,1-2*alfa,args=(alfa,))\n",
    "xL2=bisect(funcion_puntos_colineales,1-0.5*alfa,2,args=(alfa,))"
   ]
  },
  {
   "cell_type": "code",
   "execution_count": 6,
   "metadata": {
    "codelabel": "",
    "codeplot": 0,
    "tags": [
     "hide_input"
    ]
   },
   "outputs": [
    {
     "name": "stdout",
     "output_type": "stream",
     "text": [
      "Posición de L_1 : 0.7152253503687463\n",
      "Posición de L_2 : 1.2280936671011202\n"
     ]
    }
   ],
   "source": [
    "print(f\"Posición de L_1 : {xL1}\")\n",
    "print(f\"Posición de L_2 : {xL2}\")"
   ]
  },
  {
   "cell_type": "markdown",
   "metadata": {},
   "source": [
    "El valor de la constante de Jacobi y el potencial modificado será entonces:"
   ]
  },
  {
   "cell_type": "code",
   "execution_count": 7,
   "metadata": {
    "codelabel": "",
    "codeplot": 0
   },
   "outputs": [],
   "source": [
    "from numpy import array\n",
    "from pymcel.export import constante_jacobi\n",
    "CJ_L1=constante_jacobi(alfa,[[xL1,0,0]],[[0,0,0]])[0]\n",
    "Vmod_L1=-CJ_L1/2"
   ]
  },
  {
   "cell_type": "code",
   "execution_count": 8,
   "metadata": {
    "codelabel": "",
    "codeplot": 0
   },
   "outputs": [
    {
     "name": "stdout",
     "output_type": "stream",
     "text": [
      "Constante de Jacobi = 3.420416387383213\n",
      "Potencial modificado = -1.7102081936916065\n"
     ]
    }
   ],
   "source": [
    "print(f\"Constante de Jacobi = {CJ_L1}\")\n",
    "print(f\"Potencial modificado = {Vmod_L1}\")"
   ]
  },
  {
   "cell_type": "markdown",
   "metadata": {},
   "source": [
    "Hagamos ahora un gráfico del potencial modificado, resaltando, la curva equipotencial correspondiente a al valor específico calculado anteriormente y la posición de los puntos de Lagrange $L_1$ y $L_2$:"
   ]
  },
  {
   "cell_type": "code",
   "execution_count": 10,
   "metadata": {
    "codelabel": "",
    "codeplot": 0
   },
   "outputs": [],
   "source": [
    "%matplotlib nbagg"
   ]
  },
  {
   "cell_type": "markdown",
   "metadata": {},
   "source": [
    "<a id='code:esfera_hill'></a>"
   ]
  },
  {
   "cell_type": "code",
   "execution_count": 11,
   "metadata": {
    "codelabel": "fig:08.06.01.00.Problema3Cuerpos.Aplicaciones.RadioHill_125",
    "codeplot": 1,
    "figcaption": "<b>Figura 8.125.</b> Gráfico del potencial modificado en el CRTBP (mapa de colores) resaltando las curvas equipotenciales correspondientes al valor del potencial del punto de Lagrange $L_1$ (curva sólida negra), la posición de los puntos de Lagrange $L_1$ y $L_2$ (cruces blancas) y la esfera de Hill (circunferencia rayada). ",
    "tags": [
     "hide_autocaption",
     "code:esfera_hill"
    ]
   },
   "outputs": [
    {
     "data": {
      "application/javascript": [
       "/* Put everything inside the global mpl namespace */\n",
       "window.mpl = {};\n",
       "\n",
       "\n",
       "mpl.get_websocket_type = function() {\n",
       "    if (typeof(WebSocket) !== 'undefined') {\n",
       "        return WebSocket;\n",
       "    } else if (typeof(MozWebSocket) !== 'undefined') {\n",
       "        return MozWebSocket;\n",
       "    } else {\n",
       "        alert('Your browser does not have WebSocket support. ' +\n",
       "              'Please try Chrome, Safari or Firefox ≥ 6. ' +\n",
       "              'Firefox 4 and 5 are also supported but you ' +\n",
       "              'have to enable WebSockets in about:config.');\n",
       "    };\n",
       "}\n",
       "\n",
       "mpl.figure = function(figure_id, websocket, ondownload, parent_element) {\n",
       "    this.id = figure_id;\n",
       "\n",
       "    this.ws = websocket;\n",
       "\n",
       "    this.supports_binary = (this.ws.binaryType != undefined);\n",
       "\n",
       "    if (!this.supports_binary) {\n",
       "        var warnings = document.getElementById(\"mpl-warnings\");\n",
       "        if (warnings) {\n",
       "            warnings.style.display = 'block';\n",
       "            warnings.textContent = (\n",
       "                \"This browser does not support binary websocket messages. \" +\n",
       "                    \"Performance may be slow.\");\n",
       "        }\n",
       "    }\n",
       "\n",
       "    this.imageObj = new Image();\n",
       "\n",
       "    this.context = undefined;\n",
       "    this.message = undefined;\n",
       "    this.canvas = undefined;\n",
       "    this.rubberband_canvas = undefined;\n",
       "    this.rubberband_context = undefined;\n",
       "    this.format_dropdown = undefined;\n",
       "\n",
       "    this.image_mode = 'full';\n",
       "\n",
       "    this.root = $('<div/>');\n",
       "    this._root_extra_style(this.root)\n",
       "    this.root.attr('style', 'display: inline-block');\n",
       "\n",
       "    $(parent_element).append(this.root);\n",
       "\n",
       "    this._init_header(this);\n",
       "    this._init_canvas(this);\n",
       "    this._init_toolbar(this);\n",
       "\n",
       "    var fig = this;\n",
       "\n",
       "    this.waiting = false;\n",
       "\n",
       "    this.ws.onopen =  function () {\n",
       "            fig.send_message(\"supports_binary\", {value: fig.supports_binary});\n",
       "            fig.send_message(\"send_image_mode\", {});\n",
       "            if (mpl.ratio != 1) {\n",
       "                fig.send_message(\"set_dpi_ratio\", {'dpi_ratio': mpl.ratio});\n",
       "            }\n",
       "            fig.send_message(\"refresh\", {});\n",
       "        }\n",
       "\n",
       "    this.imageObj.onload = function() {\n",
       "            if (fig.image_mode == 'full') {\n",
       "                // Full images could contain transparency (where diff images\n",
       "                // almost always do), so we need to clear the canvas so that\n",
       "                // there is no ghosting.\n",
       "                fig.context.clearRect(0, 0, fig.canvas.width, fig.canvas.height);\n",
       "            }\n",
       "            fig.context.drawImage(fig.imageObj, 0, 0);\n",
       "        };\n",
       "\n",
       "    this.imageObj.onunload = function() {\n",
       "        fig.ws.close();\n",
       "    }\n",
       "\n",
       "    this.ws.onmessage = this._make_on_message_function(this);\n",
       "\n",
       "    this.ondownload = ondownload;\n",
       "}\n",
       "\n",
       "mpl.figure.prototype._init_header = function() {\n",
       "    var titlebar = $(\n",
       "        '<div class=\"ui-dialog-titlebar ui-widget-header ui-corner-all ' +\n",
       "        'ui-helper-clearfix\"/>');\n",
       "    var titletext = $(\n",
       "        '<div class=\"ui-dialog-title\" style=\"width: 100%; ' +\n",
       "        'text-align: center; padding: 3px;\"/>');\n",
       "    titlebar.append(titletext)\n",
       "    this.root.append(titlebar);\n",
       "    this.header = titletext[0];\n",
       "}\n",
       "\n",
       "\n",
       "\n",
       "mpl.figure.prototype._canvas_extra_style = function(canvas_div) {\n",
       "\n",
       "}\n",
       "\n",
       "\n",
       "mpl.figure.prototype._root_extra_style = function(canvas_div) {\n",
       "\n",
       "}\n",
       "\n",
       "mpl.figure.prototype._init_canvas = function() {\n",
       "    var fig = this;\n",
       "\n",
       "    var canvas_div = $('<div/>');\n",
       "\n",
       "    canvas_div.attr('style', 'position: relative; clear: both; outline: 0');\n",
       "\n",
       "    function canvas_keyboard_event(event) {\n",
       "        return fig.key_event(event, event['data']);\n",
       "    }\n",
       "\n",
       "    canvas_div.keydown('key_press', canvas_keyboard_event);\n",
       "    canvas_div.keyup('key_release', canvas_keyboard_event);\n",
       "    this.canvas_div = canvas_div\n",
       "    this._canvas_extra_style(canvas_div)\n",
       "    this.root.append(canvas_div);\n",
       "\n",
       "    var canvas = $('<canvas/>');\n",
       "    canvas.addClass('mpl-canvas');\n",
       "    canvas.attr('style', \"left: 0; top: 0; z-index: 0; outline: 0\")\n",
       "\n",
       "    this.canvas = canvas[0];\n",
       "    this.context = canvas[0].getContext(\"2d\");\n",
       "\n",
       "    var backingStore = this.context.backingStorePixelRatio ||\n",
       "\tthis.context.webkitBackingStorePixelRatio ||\n",
       "\tthis.context.mozBackingStorePixelRatio ||\n",
       "\tthis.context.msBackingStorePixelRatio ||\n",
       "\tthis.context.oBackingStorePixelRatio ||\n",
       "\tthis.context.backingStorePixelRatio || 1;\n",
       "\n",
       "    mpl.ratio = (window.devicePixelRatio || 1) / backingStore;\n",
       "\n",
       "    var rubberband = $('<canvas/>');\n",
       "    rubberband.attr('style', \"position: absolute; left: 0; top: 0; z-index: 1;\")\n",
       "\n",
       "    var pass_mouse_events = true;\n",
       "\n",
       "    canvas_div.resizable({\n",
       "        start: function(event, ui) {\n",
       "            pass_mouse_events = false;\n",
       "        },\n",
       "        resize: function(event, ui) {\n",
       "            fig.request_resize(ui.size.width, ui.size.height);\n",
       "        },\n",
       "        stop: function(event, ui) {\n",
       "            pass_mouse_events = true;\n",
       "            fig.request_resize(ui.size.width, ui.size.height);\n",
       "        },\n",
       "    });\n",
       "\n",
       "    function mouse_event_fn(event) {\n",
       "        if (pass_mouse_events)\n",
       "            return fig.mouse_event(event, event['data']);\n",
       "    }\n",
       "\n",
       "    rubberband.mousedown('button_press', mouse_event_fn);\n",
       "    rubberband.mouseup('button_release', mouse_event_fn);\n",
       "    // Throttle sequential mouse events to 1 every 20ms.\n",
       "    rubberband.mousemove('motion_notify', mouse_event_fn);\n",
       "\n",
       "    rubberband.mouseenter('figure_enter', mouse_event_fn);\n",
       "    rubberband.mouseleave('figure_leave', mouse_event_fn);\n",
       "\n",
       "    canvas_div.on(\"wheel\", function (event) {\n",
       "        event = event.originalEvent;\n",
       "        event['data'] = 'scroll'\n",
       "        if (event.deltaY < 0) {\n",
       "            event.step = 1;\n",
       "        } else {\n",
       "            event.step = -1;\n",
       "        }\n",
       "        mouse_event_fn(event);\n",
       "    });\n",
       "\n",
       "    canvas_div.append(canvas);\n",
       "    canvas_div.append(rubberband);\n",
       "\n",
       "    this.rubberband = rubberband;\n",
       "    this.rubberband_canvas = rubberband[0];\n",
       "    this.rubberband_context = rubberband[0].getContext(\"2d\");\n",
       "    this.rubberband_context.strokeStyle = \"#000000\";\n",
       "\n",
       "    this._resize_canvas = function(width, height) {\n",
       "        // Keep the size of the canvas, canvas container, and rubber band\n",
       "        // canvas in synch.\n",
       "        canvas_div.css('width', width)\n",
       "        canvas_div.css('height', height)\n",
       "\n",
       "        canvas.attr('width', width * mpl.ratio);\n",
       "        canvas.attr('height', height * mpl.ratio);\n",
       "        canvas.attr('style', 'width: ' + width + 'px; height: ' + height + 'px;');\n",
       "\n",
       "        rubberband.attr('width', width);\n",
       "        rubberband.attr('height', height);\n",
       "    }\n",
       "\n",
       "    // Set the figure to an initial 600x600px, this will subsequently be updated\n",
       "    // upon first draw.\n",
       "    this._resize_canvas(600, 600);\n",
       "\n",
       "    // Disable right mouse context menu.\n",
       "    $(this.rubberband_canvas).bind(\"contextmenu\",function(e){\n",
       "        return false;\n",
       "    });\n",
       "\n",
       "    function set_focus () {\n",
       "        canvas.focus();\n",
       "        canvas_div.focus();\n",
       "    }\n",
       "\n",
       "    window.setTimeout(set_focus, 100);\n",
       "}\n",
       "\n",
       "mpl.figure.prototype._init_toolbar = function() {\n",
       "    var fig = this;\n",
       "\n",
       "    var nav_element = $('<div/>');\n",
       "    nav_element.attr('style', 'width: 100%');\n",
       "    this.root.append(nav_element);\n",
       "\n",
       "    // Define a callback function for later on.\n",
       "    function toolbar_event(event) {\n",
       "        return fig.toolbar_button_onclick(event['data']);\n",
       "    }\n",
       "    function toolbar_mouse_event(event) {\n",
       "        return fig.toolbar_button_onmouseover(event['data']);\n",
       "    }\n",
       "\n",
       "    for(var toolbar_ind in mpl.toolbar_items) {\n",
       "        var name = mpl.toolbar_items[toolbar_ind][0];\n",
       "        var tooltip = mpl.toolbar_items[toolbar_ind][1];\n",
       "        var image = mpl.toolbar_items[toolbar_ind][2];\n",
       "        var method_name = mpl.toolbar_items[toolbar_ind][3];\n",
       "\n",
       "        if (!name) {\n",
       "            // put a spacer in here.\n",
       "            continue;\n",
       "        }\n",
       "        var button = $('<button/>');\n",
       "        button.addClass('ui-button ui-widget ui-state-default ui-corner-all ' +\n",
       "                        'ui-button-icon-only');\n",
       "        button.attr('role', 'button');\n",
       "        button.attr('aria-disabled', 'false');\n",
       "        button.click(method_name, toolbar_event);\n",
       "        button.mouseover(tooltip, toolbar_mouse_event);\n",
       "\n",
       "        var icon_img = $('<span/>');\n",
       "        icon_img.addClass('ui-button-icon-primary ui-icon');\n",
       "        icon_img.addClass(image);\n",
       "        icon_img.addClass('ui-corner-all');\n",
       "\n",
       "        var tooltip_span = $('<span/>');\n",
       "        tooltip_span.addClass('ui-button-text');\n",
       "        tooltip_span.html(tooltip);\n",
       "\n",
       "        button.append(icon_img);\n",
       "        button.append(tooltip_span);\n",
       "\n",
       "        nav_element.append(button);\n",
       "    }\n",
       "\n",
       "    var fmt_picker_span = $('<span/>');\n",
       "\n",
       "    var fmt_picker = $('<select/>');\n",
       "    fmt_picker.addClass('mpl-toolbar-option ui-widget ui-widget-content');\n",
       "    fmt_picker_span.append(fmt_picker);\n",
       "    nav_element.append(fmt_picker_span);\n",
       "    this.format_dropdown = fmt_picker[0];\n",
       "\n",
       "    for (var ind in mpl.extensions) {\n",
       "        var fmt = mpl.extensions[ind];\n",
       "        var option = $(\n",
       "            '<option/>', {selected: fmt === mpl.default_extension}).html(fmt);\n",
       "        fmt_picker.append(option);\n",
       "    }\n",
       "\n",
       "    // Add hover states to the ui-buttons\n",
       "    $( \".ui-button\" ).hover(\n",
       "        function() { $(this).addClass(\"ui-state-hover\");},\n",
       "        function() { $(this).removeClass(\"ui-state-hover\");}\n",
       "    );\n",
       "\n",
       "    var status_bar = $('<span class=\"mpl-message\"/>');\n",
       "    nav_element.append(status_bar);\n",
       "    this.message = status_bar[0];\n",
       "}\n",
       "\n",
       "mpl.figure.prototype.request_resize = function(x_pixels, y_pixels) {\n",
       "    // Request matplotlib to resize the figure. Matplotlib will then trigger a resize in the client,\n",
       "    // which will in turn request a refresh of the image.\n",
       "    this.send_message('resize', {'width': x_pixels, 'height': y_pixels});\n",
       "}\n",
       "\n",
       "mpl.figure.prototype.send_message = function(type, properties) {\n",
       "    properties['type'] = type;\n",
       "    properties['figure_id'] = this.id;\n",
       "    this.ws.send(JSON.stringify(properties));\n",
       "}\n",
       "\n",
       "mpl.figure.prototype.send_draw_message = function() {\n",
       "    if (!this.waiting) {\n",
       "        this.waiting = true;\n",
       "        this.ws.send(JSON.stringify({type: \"draw\", figure_id: this.id}));\n",
       "    }\n",
       "}\n",
       "\n",
       "\n",
       "mpl.figure.prototype.handle_save = function(fig, msg) {\n",
       "    var format_dropdown = fig.format_dropdown;\n",
       "    var format = format_dropdown.options[format_dropdown.selectedIndex].value;\n",
       "    fig.ondownload(fig, format);\n",
       "}\n",
       "\n",
       "\n",
       "mpl.figure.prototype.handle_resize = function(fig, msg) {\n",
       "    var size = msg['size'];\n",
       "    if (size[0] != fig.canvas.width || size[1] != fig.canvas.height) {\n",
       "        fig._resize_canvas(size[0], size[1]);\n",
       "        fig.send_message(\"refresh\", {});\n",
       "    };\n",
       "}\n",
       "\n",
       "mpl.figure.prototype.handle_rubberband = function(fig, msg) {\n",
       "    var x0 = msg['x0'] / mpl.ratio;\n",
       "    var y0 = (fig.canvas.height - msg['y0']) / mpl.ratio;\n",
       "    var x1 = msg['x1'] / mpl.ratio;\n",
       "    var y1 = (fig.canvas.height - msg['y1']) / mpl.ratio;\n",
       "    x0 = Math.floor(x0) + 0.5;\n",
       "    y0 = Math.floor(y0) + 0.5;\n",
       "    x1 = Math.floor(x1) + 0.5;\n",
       "    y1 = Math.floor(y1) + 0.5;\n",
       "    var min_x = Math.min(x0, x1);\n",
       "    var min_y = Math.min(y0, y1);\n",
       "    var width = Math.abs(x1 - x0);\n",
       "    var height = Math.abs(y1 - y0);\n",
       "\n",
       "    fig.rubberband_context.clearRect(\n",
       "        0, 0, fig.canvas.width / mpl.ratio, fig.canvas.height / mpl.ratio);\n",
       "\n",
       "    fig.rubberband_context.strokeRect(min_x, min_y, width, height);\n",
       "}\n",
       "\n",
       "mpl.figure.prototype.handle_figure_label = function(fig, msg) {\n",
       "    // Updates the figure title.\n",
       "    fig.header.textContent = msg['label'];\n",
       "}\n",
       "\n",
       "mpl.figure.prototype.handle_cursor = function(fig, msg) {\n",
       "    var cursor = msg['cursor'];\n",
       "    switch(cursor)\n",
       "    {\n",
       "    case 0:\n",
       "        cursor = 'pointer';\n",
       "        break;\n",
       "    case 1:\n",
       "        cursor = 'default';\n",
       "        break;\n",
       "    case 2:\n",
       "        cursor = 'crosshair';\n",
       "        break;\n",
       "    case 3:\n",
       "        cursor = 'move';\n",
       "        break;\n",
       "    }\n",
       "    fig.rubberband_canvas.style.cursor = cursor;\n",
       "}\n",
       "\n",
       "mpl.figure.prototype.handle_message = function(fig, msg) {\n",
       "    fig.message.textContent = msg['message'];\n",
       "}\n",
       "\n",
       "mpl.figure.prototype.handle_draw = function(fig, msg) {\n",
       "    // Request the server to send over a new figure.\n",
       "    fig.send_draw_message();\n",
       "}\n",
       "\n",
       "mpl.figure.prototype.handle_image_mode = function(fig, msg) {\n",
       "    fig.image_mode = msg['mode'];\n",
       "}\n",
       "\n",
       "mpl.figure.prototype.updated_canvas_event = function() {\n",
       "    // Called whenever the canvas gets updated.\n",
       "    this.send_message(\"ack\", {});\n",
       "}\n",
       "\n",
       "// A function to construct a web socket function for onmessage handling.\n",
       "// Called in the figure constructor.\n",
       "mpl.figure.prototype._make_on_message_function = function(fig) {\n",
       "    return function socket_on_message(evt) {\n",
       "        if (evt.data instanceof Blob) {\n",
       "            /* FIXME: We get \"Resource interpreted as Image but\n",
       "             * transferred with MIME type text/plain:\" errors on\n",
       "             * Chrome.  But how to set the MIME type?  It doesn't seem\n",
       "             * to be part of the websocket stream */\n",
       "            evt.data.type = \"image/png\";\n",
       "\n",
       "            /* Free the memory for the previous frames */\n",
       "            if (fig.imageObj.src) {\n",
       "                (window.URL || window.webkitURL).revokeObjectURL(\n",
       "                    fig.imageObj.src);\n",
       "            }\n",
       "\n",
       "            fig.imageObj.src = (window.URL || window.webkitURL).createObjectURL(\n",
       "                evt.data);\n",
       "            fig.updated_canvas_event();\n",
       "            fig.waiting = false;\n",
       "            return;\n",
       "        }\n",
       "        else if (typeof evt.data === 'string' && evt.data.slice(0, 21) == \"data:image/png;base64\") {\n",
       "            fig.imageObj.src = evt.data;\n",
       "            fig.updated_canvas_event();\n",
       "            fig.waiting = false;\n",
       "            return;\n",
       "        }\n",
       "\n",
       "        var msg = JSON.parse(evt.data);\n",
       "        var msg_type = msg['type'];\n",
       "\n",
       "        // Call the  \"handle_{type}\" callback, which takes\n",
       "        // the figure and JSON message as its only arguments.\n",
       "        try {\n",
       "            var callback = fig[\"handle_\" + msg_type];\n",
       "        } catch (e) {\n",
       "            console.log(\"No handler for the '\" + msg_type + \"' message type: \", msg);\n",
       "            return;\n",
       "        }\n",
       "\n",
       "        if (callback) {\n",
       "            try {\n",
       "                // console.log(\"Handling '\" + msg_type + \"' message: \", msg);\n",
       "                callback(fig, msg);\n",
       "            } catch (e) {\n",
       "                console.log(\"Exception inside the 'handler_\" + msg_type + \"' callback:\", e, e.stack, msg);\n",
       "            }\n",
       "        }\n",
       "    };\n",
       "}\n",
       "\n",
       "// from http://stackoverflow.com/questions/1114465/getting-mouse-location-in-canvas\n",
       "mpl.findpos = function(e) {\n",
       "    //this section is from http://www.quirksmode.org/js/events_properties.html\n",
       "    var targ;\n",
       "    if (!e)\n",
       "        e = window.event;\n",
       "    if (e.target)\n",
       "        targ = e.target;\n",
       "    else if (e.srcElement)\n",
       "        targ = e.srcElement;\n",
       "    if (targ.nodeType == 3) // defeat Safari bug\n",
       "        targ = targ.parentNode;\n",
       "\n",
       "    // jQuery normalizes the pageX and pageY\n",
       "    // pageX,Y are the mouse positions relative to the document\n",
       "    // offset() returns the position of the element relative to the document\n",
       "    var x = e.pageX - $(targ).offset().left;\n",
       "    var y = e.pageY - $(targ).offset().top;\n",
       "\n",
       "    return {\"x\": x, \"y\": y};\n",
       "};\n",
       "\n",
       "/*\n",
       " * return a copy of an object with only non-object keys\n",
       " * we need this to avoid circular references\n",
       " * http://stackoverflow.com/a/24161582/3208463\n",
       " */\n",
       "function simpleKeys (original) {\n",
       "  return Object.keys(original).reduce(function (obj, key) {\n",
       "    if (typeof original[key] !== 'object')\n",
       "        obj[key] = original[key]\n",
       "    return obj;\n",
       "  }, {});\n",
       "}\n",
       "\n",
       "mpl.figure.prototype.mouse_event = function(event, name) {\n",
       "    var canvas_pos = mpl.findpos(event)\n",
       "\n",
       "    if (name === 'button_press')\n",
       "    {\n",
       "        this.canvas.focus();\n",
       "        this.canvas_div.focus();\n",
       "    }\n",
       "\n",
       "    var x = canvas_pos.x * mpl.ratio;\n",
       "    var y = canvas_pos.y * mpl.ratio;\n",
       "\n",
       "    this.send_message(name, {x: x, y: y, button: event.button,\n",
       "                             step: event.step,\n",
       "                             guiEvent: simpleKeys(event)});\n",
       "\n",
       "    /* This prevents the web browser from automatically changing to\n",
       "     * the text insertion cursor when the button is pressed.  We want\n",
       "     * to control all of the cursor setting manually through the\n",
       "     * 'cursor' event from matplotlib */\n",
       "    event.preventDefault();\n",
       "    return false;\n",
       "}\n",
       "\n",
       "mpl.figure.prototype._key_event_extra = function(event, name) {\n",
       "    // Handle any extra behaviour associated with a key event\n",
       "}\n",
       "\n",
       "mpl.figure.prototype.key_event = function(event, name) {\n",
       "\n",
       "    // Prevent repeat events\n",
       "    if (name == 'key_press')\n",
       "    {\n",
       "        if (event.which === this._key)\n",
       "            return;\n",
       "        else\n",
       "            this._key = event.which;\n",
       "    }\n",
       "    if (name == 'key_release')\n",
       "        this._key = null;\n",
       "\n",
       "    var value = '';\n",
       "    if (event.ctrlKey && event.which != 17)\n",
       "        value += \"ctrl+\";\n",
       "    if (event.altKey && event.which != 18)\n",
       "        value += \"alt+\";\n",
       "    if (event.shiftKey && event.which != 16)\n",
       "        value += \"shift+\";\n",
       "\n",
       "    value += 'k';\n",
       "    value += event.which.toString();\n",
       "\n",
       "    this._key_event_extra(event, name);\n",
       "\n",
       "    this.send_message(name, {key: value,\n",
       "                             guiEvent: simpleKeys(event)});\n",
       "    return false;\n",
       "}\n",
       "\n",
       "mpl.figure.prototype.toolbar_button_onclick = function(name) {\n",
       "    if (name == 'download') {\n",
       "        this.handle_save(this, null);\n",
       "    } else {\n",
       "        this.send_message(\"toolbar_button\", {name: name});\n",
       "    }\n",
       "};\n",
       "\n",
       "mpl.figure.prototype.toolbar_button_onmouseover = function(tooltip) {\n",
       "    this.message.textContent = tooltip;\n",
       "};\n",
       "mpl.toolbar_items = [[\"Home\", \"Reset original view\", \"fa fa-home icon-home\", \"home\"], [\"Back\", \"Back to previous view\", \"fa fa-arrow-left icon-arrow-left\", \"back\"], [\"Forward\", \"Forward to next view\", \"fa fa-arrow-right icon-arrow-right\", \"forward\"], [\"\", \"\", \"\", \"\"], [\"Pan\", \"Pan axes with left mouse, zoom with right\", \"fa fa-arrows icon-move\", \"pan\"], [\"Zoom\", \"Zoom to rectangle\", \"fa fa-square-o icon-check-empty\", \"zoom\"], [\"\", \"\", \"\", \"\"], [\"Download\", \"Download plot\", \"fa fa-floppy-o icon-save\", \"download\"]];\n",
       "\n",
       "mpl.extensions = [\"eps\", \"jpeg\", \"pdf\", \"png\", \"ps\", \"raw\", \"svg\", \"tif\"];\n",
       "\n",
       "mpl.default_extension = \"png\";var comm_websocket_adapter = function(comm) {\n",
       "    // Create a \"websocket\"-like object which calls the given IPython comm\n",
       "    // object with the appropriate methods. Currently this is a non binary\n",
       "    // socket, so there is still some room for performance tuning.\n",
       "    var ws = {};\n",
       "\n",
       "    ws.close = function() {\n",
       "        comm.close()\n",
       "    };\n",
       "    ws.send = function(m) {\n",
       "        //console.log('sending', m);\n",
       "        comm.send(m);\n",
       "    };\n",
       "    // Register the callback with on_msg.\n",
       "    comm.on_msg(function(msg) {\n",
       "        //console.log('receiving', msg['content']['data'], msg);\n",
       "        // Pass the mpl event to the overridden (by mpl) onmessage function.\n",
       "        ws.onmessage(msg['content']['data'])\n",
       "    });\n",
       "    return ws;\n",
       "}\n",
       "\n",
       "mpl.mpl_figure_comm = function(comm, msg) {\n",
       "    // This is the function which gets called when the mpl process\n",
       "    // starts-up an IPython Comm through the \"matplotlib\" channel.\n",
       "\n",
       "    var id = msg.content.data.id;\n",
       "    // Get hold of the div created by the display call when the Comm\n",
       "    // socket was opened in Python.\n",
       "    var element = $(\"#\" + id);\n",
       "    var ws_proxy = comm_websocket_adapter(comm)\n",
       "\n",
       "    function ondownload(figure, format) {\n",
       "        window.open(figure.imageObj.src);\n",
       "    }\n",
       "\n",
       "    var fig = new mpl.figure(id, ws_proxy,\n",
       "                           ondownload,\n",
       "                           element.get(0));\n",
       "\n",
       "    // Call onopen now - mpl needs it, as it is assuming we've passed it a real\n",
       "    // web socket which is closed, not our websocket->open comm proxy.\n",
       "    ws_proxy.onopen();\n",
       "\n",
       "    fig.parent_element = element.get(0);\n",
       "    fig.cell_info = mpl.find_output_cell(\"<div id='\" + id + \"'></div>\");\n",
       "    if (!fig.cell_info) {\n",
       "        console.error(\"Failed to find cell for figure\", id, fig);\n",
       "        return;\n",
       "    }\n",
       "\n",
       "    var output_index = fig.cell_info[2]\n",
       "    var cell = fig.cell_info[0];\n",
       "\n",
       "};\n",
       "\n",
       "mpl.figure.prototype.handle_close = function(fig, msg) {\n",
       "    var width = fig.canvas.width/mpl.ratio\n",
       "    fig.root.unbind('remove')\n",
       "\n",
       "    // Update the output cell to use the data from the current canvas.\n",
       "    fig.push_to_output();\n",
       "    var dataURL = fig.canvas.toDataURL();\n",
       "    // Re-enable the keyboard manager in IPython - without this line, in FF,\n",
       "    // the notebook keyboard shortcuts fail.\n",
       "    IPython.keyboard_manager.enable()\n",
       "    $(fig.parent_element).html('<img src=\"' + dataURL + '\" width=\"' + width + '\">');\n",
       "    fig.close_ws(fig, msg);\n",
       "}\n",
       "\n",
       "mpl.figure.prototype.close_ws = function(fig, msg){\n",
       "    fig.send_message('closing', msg);\n",
       "    // fig.ws.close()\n",
       "}\n",
       "\n",
       "mpl.figure.prototype.push_to_output = function(remove_interactive) {\n",
       "    // Turn the data on the canvas into data in the output cell.\n",
       "    var width = this.canvas.width/mpl.ratio\n",
       "    var dataURL = this.canvas.toDataURL();\n",
       "    this.cell_info[1]['text/html'] = '<img src=\"' + dataURL + '\" width=\"' + width + '\">';\n",
       "}\n",
       "\n",
       "mpl.figure.prototype.updated_canvas_event = function() {\n",
       "    // Tell IPython that the notebook contents must change.\n",
       "    IPython.notebook.set_dirty(true);\n",
       "    this.send_message(\"ack\", {});\n",
       "    var fig = this;\n",
       "    // Wait a second, then push the new image to the DOM so\n",
       "    // that it is saved nicely (might be nice to debounce this).\n",
       "    setTimeout(function () { fig.push_to_output() }, 1000);\n",
       "}\n",
       "\n",
       "mpl.figure.prototype._init_toolbar = function() {\n",
       "    var fig = this;\n",
       "\n",
       "    var nav_element = $('<div/>');\n",
       "    nav_element.attr('style', 'width: 100%');\n",
       "    this.root.append(nav_element);\n",
       "\n",
       "    // Define a callback function for later on.\n",
       "    function toolbar_event(event) {\n",
       "        return fig.toolbar_button_onclick(event['data']);\n",
       "    }\n",
       "    function toolbar_mouse_event(event) {\n",
       "        return fig.toolbar_button_onmouseover(event['data']);\n",
       "    }\n",
       "\n",
       "    for(var toolbar_ind in mpl.toolbar_items){\n",
       "        var name = mpl.toolbar_items[toolbar_ind][0];\n",
       "        var tooltip = mpl.toolbar_items[toolbar_ind][1];\n",
       "        var image = mpl.toolbar_items[toolbar_ind][2];\n",
       "        var method_name = mpl.toolbar_items[toolbar_ind][3];\n",
       "\n",
       "        if (!name) { continue; };\n",
       "\n",
       "        var button = $('<button class=\"btn btn-default\" href=\"#\" title=\"' + name + '\"><i class=\"fa ' + image + ' fa-lg\"></i></button>');\n",
       "        button.click(method_name, toolbar_event);\n",
       "        button.mouseover(tooltip, toolbar_mouse_event);\n",
       "        nav_element.append(button);\n",
       "    }\n",
       "\n",
       "    // Add the status bar.\n",
       "    var status_bar = $('<span class=\"mpl-message\" style=\"text-align:right; float: right;\"/>');\n",
       "    nav_element.append(status_bar);\n",
       "    this.message = status_bar[0];\n",
       "\n",
       "    // Add the close button to the window.\n",
       "    var buttongrp = $('<div class=\"btn-group inline pull-right\"></div>');\n",
       "    var button = $('<button class=\"btn btn-mini btn-primary\" href=\"#\" title=\"Stop Interaction\"><i class=\"fa fa-power-off icon-remove icon-large\"></i></button>');\n",
       "    button.click(function (evt) { fig.handle_close(fig, {}); } );\n",
       "    button.mouseover('Stop Interaction', toolbar_mouse_event);\n",
       "    buttongrp.append(button);\n",
       "    var titlebar = this.root.find($('.ui-dialog-titlebar'));\n",
       "    titlebar.prepend(buttongrp);\n",
       "}\n",
       "\n",
       "mpl.figure.prototype._root_extra_style = function(el){\n",
       "    var fig = this\n",
       "    el.on(\"remove\", function(){\n",
       "\tfig.close_ws(fig, {});\n",
       "    });\n",
       "}\n",
       "\n",
       "mpl.figure.prototype._canvas_extra_style = function(el){\n",
       "    // this is important to make the div 'focusable\n",
       "    el.attr('tabindex', 0)\n",
       "    // reach out to IPython and tell the keyboard manager to turn it's self\n",
       "    // off when our div gets focus\n",
       "\n",
       "    // location in version 3\n",
       "    if (IPython.notebook.keyboard_manager) {\n",
       "        IPython.notebook.keyboard_manager.register_events(el);\n",
       "    }\n",
       "    else {\n",
       "        // location in version 2\n",
       "        IPython.keyboard_manager.register_events(el);\n",
       "    }\n",
       "\n",
       "}\n",
       "\n",
       "mpl.figure.prototype._key_event_extra = function(event, name) {\n",
       "    var manager = IPython.notebook.keyboard_manager;\n",
       "    if (!manager)\n",
       "        manager = IPython.keyboard_manager;\n",
       "\n",
       "    // Check for shift+enter\n",
       "    if (event.shiftKey && event.which == 13) {\n",
       "        this.canvas_div.blur();\n",
       "        event.shiftKey = false;\n",
       "        // Send a \"J\" for go to next cell\n",
       "        event.which = 74;\n",
       "        event.keyCode = 74;\n",
       "        manager.command_mode();\n",
       "        manager.handle_keydown(event);\n",
       "    }\n",
       "}\n",
       "\n",
       "mpl.figure.prototype.handle_save = function(fig, msg) {\n",
       "    fig.ondownload(fig, null);\n",
       "}\n",
       "\n",
       "\n",
       "mpl.find_output_cell = function(html_output) {\n",
       "    // Return the cell and output element which can be found *uniquely* in the notebook.\n",
       "    // Note - this is a bit hacky, but it is done because the \"notebook_saving.Notebook\"\n",
       "    // IPython event is triggered only after the cells have been serialised, which for\n",
       "    // our purposes (turning an active figure into a static one), is too late.\n",
       "    var cells = IPython.notebook.get_cells();\n",
       "    var ncells = cells.length;\n",
       "    for (var i=0; i<ncells; i++) {\n",
       "        var cell = cells[i];\n",
       "        if (cell.cell_type === 'code'){\n",
       "            for (var j=0; j<cell.output_area.outputs.length; j++) {\n",
       "                var data = cell.output_area.outputs[j];\n",
       "                if (data.data) {\n",
       "                    // IPython >= 3 moved mimebundle to data attribute of output\n",
       "                    data = data.data;\n",
       "                }\n",
       "                if (data['text/html'] == html_output) {\n",
       "                    return [cell, data, j];\n",
       "                }\n",
       "            }\n",
       "        }\n",
       "    }\n",
       "}\n",
       "\n",
       "// Register the function which deals with the matplotlib target/channel.\n",
       "// The kernel may be null if the page has been refreshed.\n",
       "if (IPython.notebook.kernel != null) {\n",
       "    IPython.notebook.kernel.comm_manager.register_target('matplotlib', mpl.mpl_figure_comm);\n",
       "}\n"
      ],
      "text/plain": [
       "<IPython.core.display.Javascript object>"
      ]
     },
     "metadata": {},
     "output_type": "display_data"
    },
    {
     "data": {
      "text/html": [
       "<img src=\"data:image/png;base64,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\" width=\"500\">"
      ],
      "text/plain": [
       "<IPython.core.display.HTML object>"
      ]
     },
     "metadata": {},
     "output_type": "display_data"
    }
   ],
   "source": [
    "#Malla coordenada\n",
    "from numpy import meshgrid,zeros_like,linspace\n",
    "rango=1.5\n",
    "NG=100\n",
    "X,Y=meshgrid(linspace(-rango,rango,NG),\n",
    "             linspace(-rango,rango,NG))\n",
    "Z=zeros_like(X)\n",
    "\n",
    "#Distancia relativa\n",
    "from numpy import sqrt\n",
    "r1=sqrt((X+alfa)**2+Y**2+Z**2)\n",
    "r2=sqrt((X-1+alfa)**2+Y**2+Z**2)\n",
    "\n",
    "#Calcula el potencial\n",
    "Vmod=-(1-alfa)/r1-alfa/r2-0.5*(X**2+Y**2)\n",
    "\n",
    "#Gráfico\n",
    "import matplotlib.pyplot as plt\n",
    "fig=plt.figure(figsize=(5,5))\n",
    "ax=fig.gca()\n",
    "\n",
    "#Contornos\n",
    "ax.contour(X,Y,Vmod,levels=[Vmod_L1],colors='k',linestyles='solid');\n",
    "ax.contourf(X,Y,Vmod,levels=linspace(-3,Vmod.max(),100),cmap=\"jet\");\n",
    "\n",
    "#Posición de los puntos de Lagrange\n",
    "ax.plot([xL1],[0],'w+',ms=10);\n",
    "ax.plot([xL2],[0],'w+',ms=10);\n",
    "\n",
    "#Esfera de Hill\n",
    "from matplotlib.patches import Circle\n",
    "ax.add_patch(Circle([1-alfa,0],(alfa/3)**(1./3),\n",
    "                    color='w',fill=None,linestyle='--'));\n",
    "\n",
    "#Decoración\n",
    "ax.set_title(f\"CRTBP para $\\\\alpha={alfa}$\");\n",
    "\n"
   ]
  },
  {
   "cell_type": "markdown",
   "metadata": {},
   "source": [
    "<a id='fig:08.06.01.00.Problema3Cuerpos.Aplicaciones.RadioHill_125'></a><center><b>Figura 8.125.</b> Gráfico del potencial modificado en el CRTBP (mapa de colores) resaltando las curvas equipotenciales correspondientes al valor del potencial del punto de Lagrange $L_1$ (curva sólida negra), la posición de los puntos de Lagrange $L_1$ y $L_2$ (cruces blancas) y la esfera de Hill (circunferencia rayada). </center>"
   ]
  },
  {
   "cell_type": "markdown",
   "metadata": {},
   "source": [
    "¿Cómo podemos interpretar el mapa del potencial en la Figura ([code:esfera_hill](#fig:code:esfera_hill))?.  Imaginemos que ponemos una partícula de prueba en reposo sobre el punto de Lagrange $L_1$.  Por tratarse de un punto de equilibrio, la partícula permanecerá allí para siempre. \n",
    "\n",
    "Si perturbamos levemente su posición, por ejemplo, empujándola un poco hacia la derecha, el potencial dictará que la partícula de prueba terminará acelerándose hacia la partícula 2.  \n",
    "\n",
    "Sin modificar mucho las condiciones dinámicas, la curva equipotencial es también, en ese caso, el límite de la región de exclusión correspondiente.  Por lo tanto la trayectoria de la partícula inicialmente perturbada, se mantendrá restringida a los límites impuestos por esa curva equipotencial.  \n",
    "\n",
    "La misma situación aplica si empujaramos la partícula hacia la izquiera, de modo que su trayectoria quedará atrapada en la región con forma de gota que delimita el equipotencial alrededor de la partícula 1."
   ]
  },
  {
   "cell_type": "markdown",
   "metadata": {},
   "source": [
    "Podemos considerar por tanto la curva equipotencial correspondiente a $L_1$ (o lo que es lo mismo, la superficie de cero velocidad que pasa por ese punto) como el límite de las regiones dentro de las cuáles, partículas inicialmente en reposo (en el sistema rotante por supuesto) se mantendrán ligadas a las partículas masivas.  Este equipotencial delimita, por decirlo de otra manera, las regiones del espacio en los que la gravedad de cada cuerpo domina sobre el otro."
   ]
  },
  {
   "cell_type": "markdown",
   "metadata": {},
   "source": [
    "Podemos dividir esta región en dos partes:\n",
    "\n",
    "- Aquella que limita el espacio alrededor de la partícula 1 (la más masiva).  Llamamos a esta región el **lóbulo de Roche** (por su forma particular). La dinámica de las partículas dentro de esta región esta dominada por este cuerpo.  Si una partícula atraviesa ese límite (especialmente si lo hace cerca a $L_1$) terminará siendo *transferida* al cuerpo 2. El volumen del lóbulo de Roche es muy importante en distintas aplicaciones astrofísicas y se cuantifica con el denominado **radio de Roche** (ver el cuadro de Nota *el radio de Roche*).\n",
    "\n",
    "- Aquella que limita el espacio alrededor de la partícula 2 (la menos masiva).  Esta región, que también tiene una forma no trivial, puede en el caso de $\\alpha\\ll 1$ aproximarse como una esfera con un radio igual a la distancia relativa del punto $L_1$ a la partícula 2 (que es aproximadamente igual también en este caso a la distancia relativa de $L_2$). Llamamos a esta esfera imaginaria la **esfera de Hill** y su radio, por definición, lo asumiremos igual a la aproximación analítica de $R_{L1}$ de la Ec. ([L1_aprox](#mjx-eqn-eq%3AL1_aprox)):\n",
    "\n",
    "$$\n",
    "R_H\\equiv\\sqrt[3]{\\frac{\\alpha}{3}}\n",
    "$$"
   ]
  },
  {
   "cell_type": "markdown",
   "metadata": {
    "label": "",
    "subtitle": "el radio de Roche**.  En el estudio de estrellas binarias interactuantes se acostumbra, en lugar del radio de Hill, usar el **radio de Roche",
    "tags": [
     "box_note"
    ],
    "title": "Nota"
   },
   "source": [
    "> **Nota: el radio de Roche**.  En el estudio de estrellas binarias interactuantes se acostumbra, en lugar del radio de Hill, usar el **radio de Roche.**<a id=''></a> definido como el radio de una esfera con el mismo volumen contenido dentro de la equipotencial (bien sea de la partícula 1, el lóbulo de Roche o de la partícula 2, el equivalente a la esfera de Hill).\n",
    "\n",
    "> Es bien conocida en la literatura especializada la aproximación analítica de Eggleton <cite data-cite=\"Eggleton1983\"><a href=\"mybook.html#Eggleton1983\">Eggleton, 1983</a></cite> para el radio de Roche:\n",
    "\n",
    "> $$\n",
    "  R_L=\\frac{0.49q^{2/3}}{0.6 q^{2/3}+\\log(1+q^{1/3})}\n",
    "  $$\n",
    "> donde $q=1/\\alpha$ para el caso del lóbulo de Roche la partícula masiva y $q=\\alpha$ en el caso de la partícula menos masiva.  Esta fórmula provee el valor del radio de Roche con una precisión inferior a 1\\% para cualquier valor en el intervalo $0<q<\\infty$."
   ]
  },
  {
   "cell_type": "markdown",
   "metadata": {},
   "source": [
    "Una situación astrofísica concreta en la que esta teoría tiene aplicación se produce cuando dos estrellas evolucionan a una distancia muy cercana una de otra.  Llamamos a este tipo de sistemas *binarias de contacto*.  En este tipo de binarias, una o las dos estrellas pueden alcanzar estadíos evolutivos en los que crece hasta ser tan grande como su lóbulo de Roche.  Cuando esta situación se produce, parte de la materia en la envoltura de la estrella que creció es transferida a la otra estrella, proceso en el cuál se pueden dar fenómenos astrofísicos muy interesantes.  "
   ]
  },
  {
   "cell_type": "markdown",
   "metadata": {},
   "source": [
    "En el caso en que las componentes sean estrellas normales, el fenómeno conduce a la formación de lo que se conoce como una envoltura común, o lo que podríamos describir como una \"estrella siamés\": dos cuerpos unidos por el cuello de sus lóbulos de Roche.  Las estrellas bajo esta condición evolución de formas diferentes a como lo hacen estrellas individuales o con compañeras situadas a una distancia mucho mayor que su tamaño."
   ]
  },
  {
   "cell_type": "markdown",
   "metadata": {},
   "source": [
    "Algunos de los fenómenos más interesantes se producen cuando una de las compañeras es lo que se conoce en astrofísica como un objeto compacto: una enana blanca, una estrella de neutrones o un agujero negro.  El interés en estos casos estriba en que al tratarse estos últimos de objetos con una densidad muy alta y un campo gravitacional superficial muy intenso, la transferencia de materia *fresca* de su estrella compañera puede, primero, crear una nueva entidad astrofísica conocida como un disco de acreción.  Estos discos pueden ser fuentes de radiación de alta energía que permite detectar el sistema.  En la Figura ([xray_binary](#fig:xray_binary)) se muestra una representación artística de un sistema con estas características."
   ]
  },
  {
   "cell_type": "markdown",
   "metadata": {},
   "source": [
    "En segundo lugar, si la cantidad de materia transferida es muy grande, el objeto compacto puede volverse inestable.  En algunos casos se pueden producir \"pequeños\" estallidos (que dan lugar a fenómenos astronómicos conocidos como Novas) o grandes estallidos que destruyen el objeto compacto y posiblemente su compañero. En este caso puede producirse lo que los astrofísicos llaman *Supernovas tipo Ia*. "
   ]
  },
  {
   "cell_type": "markdown",
   "metadata": {},
   "source": [
    "<a id='fig:xray_binary'></a>![Representación artística de la transferencia de masa desde una estrella que ha llenado su lóbulo de Roche (a la derecha) tras alcanzar un estadío evolutivo tardío y un objeto compacto (compañera binaria) alrededor del cual se forma un disco de acreción (disco azul a la izquierda).  Este tipo de sistemas puede emitir abundante rayos X lo que permite que la presencia del compañero invisible sea detectadas.++t!++1.0++\\label{fig:xray_binary}](./figures/horizontal_xray_binary.png)\n",
    "\n",
    "<center><b>Figura 8.126</b>. Representación artística de la transferencia de masa desde una estrella que ha llenado su lóbulo de Roche (a la derecha) tras alcanzar un estadío evolutivo tardío y un objeto compacto (compañera binaria) alrededor del cual se forma un disco de acreción (disco azul a la izquierda).  Este tipo de sistemas puede emitir abundante rayos X lo que permite que la presencia del compañero invisible sea detectadas.</center>"
   ]
  },
  {
   "cell_type": "markdown",
   "metadata": {},
   "source": [
    "En todos esos casos, conocer el radio del lóbulo de Roche, su relación con las propiedades orbitales del sistema y la densidad de la estrella a la que se está arrebatando masa, es fundamental para entender las observaciones que se realizan del sistema desde la Tierra."
   ]
  },
  {
   "cell_type": "markdown",
   "metadata": {},
   "source": [
    "En el estudio de la dinámica del Sistema Solar o de cualquier otro sistema planetario, el cálculo del radio de la esfera de Hill es fundamental para la descripción de las órbitas de satélites espaciales o naves espaciales, incluso para entender su destino a largo plazo.  "
   ]
  },
  {
   "cell_type": "markdown",
   "metadata": {},
   "source": [
    "Consideremos un primer caso simple: el sistema Sol-Tierra.  Sabemos que la Tierra en la actualidad tiene una órbita con una excentricidad muy baja (menos de 2\\%).  Por lo tanto podemos aplicar la teoría del CRTBP para describir lo que pasa a cuerpos mucho menos masivos que se mueven en el espacio entre nuestro planeta y el Sol."
   ]
  },
  {
   "cell_type": "markdown",
   "metadata": {},
   "source": [
    "En el algoritmo a continuación se calcula primero el parámetro $\\alpha$ del sistema Tierra-Sol:"
   ]
  },
  {
   "cell_type": "code",
   "execution_count": 17,
   "metadata": {
    "codelabel": "",
    "codeplot": 0
   },
   "outputs": [],
   "source": [
    "#Lee las masas de los planetas\n",
    "from spiceypy import furnsh\n",
    "furnsh(\"pymcel/data/de430.tpc\")\n",
    "\n",
    "#Constante de gravitación universal \n",
    "G=6.67e-20 # km^3 / kg s^2\n",
    "\n",
    "#Masa de la Tierra y el sol\n",
    "from spiceypy import bodvrd\n",
    "mutierra=bodvrd(\"EARTH\",\"GM\",1)[1][0]\n",
    "musol=bodvrd(\"SUN\",\"GM\",1)[1][0]\n",
    "\n",
    "#Parámetro alfa\n",
    "alfa=mutierra/(mutierra+musol)"
   ]
  },
  {
   "cell_type": "code",
   "execution_count": 18,
   "metadata": {
    "codelabel": "",
    "codeplot": 0,
    "tags": [
     "hide_input"
    ]
   },
   "outputs": [
    {
     "name": "stdout",
     "output_type": "stream",
     "text": [
      "Sistema Sol-Tierra, alfa = 3.0404234038181026e-06\n"
     ]
    }
   ],
   "source": [
    "print(f\"Sistema Sol-Tierra, alfa = {alfa}\")"
   ]
  },
  {
   "cell_type": "markdown",
   "metadata": {},
   "source": [
    "Con el valor de alfa podemos calcular el radio de la esfera de Hill de la Tierra:"
   ]
  },
  {
   "cell_type": "code",
   "execution_count": 19,
   "metadata": {
    "codelabel": "",
    "codeplot": 0
   },
   "outputs": [],
   "source": [
    "a=1.496e8 #km\n",
    "RH_Tierra=a*(alfa/3)**(1./3)"
   ]
  },
  {
   "cell_type": "code",
   "execution_count": 21,
   "metadata": {
    "codelabel": "",
    "codeplot": 0,
    "tags": [
     "hide_input"
    ]
   },
   "outputs": [
    {
     "name": "stdout",
     "output_type": "stream",
     "text": [
      "Radio de Hill de la Tierra, R_H = 1.502689e+06\n"
     ]
    }
   ],
   "source": [
    "print(f\"Radio de Hill de la Tierra, R_H = {RH_Tierra:e}\")"
   ]
  },
  {
   "cell_type": "markdown",
   "metadata": {},
   "source": [
    "Es decir, dentro de una esfera de aproximadamente 1.5 millones de km, podemos considerar que una partícula que se suelta en reposo en el sistema rotante, se mantendrá siempre cerca a la Tierra, como un satélite o Luna.  Naturalmente, esto no significa que su órbita será kepleriana respecto a esta última (el Sol puede producir una significativa perturbación gravitacional sobre su trayectoria), pero a largo plazo su trayectoria no la alejará a una distancia mayor que $R_H$ de la Tierra."
   ]
  },
  {
   "cell_type": "markdown",
   "metadata": {},
   "source": [
    "Simulaciones detalladas del movimiento de satélites alrededor de planetas, han mostrado que en realidad estos cuerpos tienden a permanecer tiempos relativamente largos en orbitas estables si su distancia al planeta no es mayor que entre 1/3 y 1/2 del radio de Hill.  Ese es precisamente el caso de la Luna.  Su distancia media a la Tierra, $383.000$ km la ubica a casi 1/4 parte del radio de Hill de nuestro planeta, pero cerca de la mitad de la distancia mínima más conservadora ($\\sim 725.000$ km) para que la órbita se haga inestable."
   ]
  },
  {
   "cell_type": "markdown",
   "metadata": {},
   "source": [
    "Las lunas de otros planetas, especialmente de planetas gigantes y lejanos, están bien adentro de la esfera de Hill de su respectivo planeta.  En el algoritmo a continuación se calcula el radio de Hill de los planetas del Sistema Solar:"
   ]
  },
  {
   "cell_type": "code",
   "execution_count": 43,
   "metadata": {
    "codelabel": "",
    "codeplot": 0
   },
   "outputs": [],
   "source": [
    "#Cargamos las efemérides de los planetas\n",
    "furnsh(\"pymcel/data/de430.bsp\")\n",
    "\n",
    "planetas=[\"MERCURY_BARYCENTER\",\"VENUS_BARYCENTER\",\n",
    "                \"EARTH\",\n",
    "                \"MARS_BARYCENTER\",\n",
    "                \"JUPITER_BARYCENTER\",\"SATURN_BARYCENTER\",\n",
    "                \"URANUS_BARYCENTER\",\"NEPTUNE_BARYCENTER\"]\n",
    "\n",
    "#Masa de la Tierra y el sol\n",
    "RH=dict()\n",
    "for planeta in planetas:\n",
    "    #Parámetro de masa\n",
    "    muplaneta=bodvrd(planeta,\"GM\",1)[1][0]\n",
    "\n",
    "    #Parámetro alfa\n",
    "    alfa=muplaneta/(muplaneta+musol)\n",
    "\n",
    "    #Semieje mayor\n",
    "    from spiceypy import spkezr,oscltx\n",
    "    xplaneta,tluz=spkezr(planeta,0,\"J2000\",\"None\",\"SUN\")\n",
    "    elementos=oscltx(xplaneta,0,musol)\n",
    "    aplaneta=elementos[9]\n",
    "    \n",
    "    #Radio de Hill\n",
    "    RH[planeta]=aplaneta*(alfa/3)**(1./3)"
   ]
  },
  {
   "cell_type": "code",
   "execution_count": 49,
   "metadata": {
    "codelabel": "",
    "codeplot": 0,
    "tags": [
     "hide_input"
    ]
   },
   "outputs": [
    {
     "name": "stdout",
     "output_type": "stream",
     "text": [
      "Radio de Hill de MERCURY: 0.22067450795455779 millones de km\n",
      "Radio de Hill de VENUS: 1.0111476710161926 millones de km\n",
      "Radio de Hill de EARTH: 1.5033470375472335 millones de km\n",
      "Radio de Hill de MARS: 1.0840564936087809 millones de km\n",
      "Radio de Hill de JUPITER: 53.19417610097791 millones de km\n",
      "Radio de Hill de SATURN: 65.48868970009971 millones de km\n",
      "Radio de Hill de URANUS: 70.23685638894752 millones de km\n",
      "Radio de Hill de NEPTUNE: 116.187691712555 millones de km\n"
     ]
    }
   ],
   "source": [
    "for planeta in planetas:\n",
    "    print(f\"Radio de Hill de {planeta.split('_')[0]}: {RH[planeta]/1e6} millones de km\")"
   ]
  },
  {
   "cell_type": "markdown",
   "metadata": {},
   "source": [
    "El planeta con el radio de Hill más grande del sistema solar es con mucho Neptuno.  La razón es una combinación de su masa y su enorme distancia al Sol.  Lo sorprendente es que en el espacio de la esfera de Hill de este planeta cabrían casi todos los planetas interiores (Mercurio, Venus y la Tierra). "
   ]
  },
  {
   "cell_type": "markdown",
   "metadata": {},
   "source": [
    "Nótese que los radios de Hill de los planetas Venus, Tierra y Marte, a pesar de sus diferencias de masa y distancia al Sol, son aproximadamente los mismos ($\\sim 1$ millón de km).  Este hecho es significativo sobre todo en el caso de Marte, que tiene una masa casi 10 veces menor que la de la Tierra.  La razón por la cuál Marte tiene un radio de Hill similar a nuestro planeta es simplemente su distancia mayor al Sol, que compensa su baja masa."
   ]
  },
  {
   "cell_type": "markdown",
   "metadata": {},
   "source": [
    "¿Qué pasa con el radio de Hill de las lunas planetarias?.  Consideremos por ejemplo el caso de la estraña luna Pan del planeta Saturno.  En el algoritmo a continuación se consignan las propiedades de este cuerpo y de su planeta central, Saturno y se calcula el radio de Hill "
   ]
  },
  {
   "cell_type": "markdown",
   "metadata": {},
   "source": [
    "<a id='fig:pan'></a>![Fotografía de la luna de Saturno *Pan* tomada por la sonda Cassini.  Pan es una pequeña luna irregular con un *cinturón* de polvo en su ecuador, que reside entre las partículas de los anillos de Saturno. Crédito: NASA.++t!++0.5++\\label{fig:pan}](./figures/square_pan.png)\n",
    "\n",
    "<center><b>Figura 8.127</b>. Fotografía de la luna de Saturno *Pan* tomada por la sonda Cassini.  Pan es una pequeña luna irregular con un *cinturón* de polvo en su ecuador, que reside entre las partículas de los anillos de Saturno. Crédito: NASA.</center>"
   ]
  },
  {
   "cell_type": "code",
   "execution_count": 86,
   "metadata": {
    "codelabel": "",
    "codeplot": 0
   },
   "outputs": [],
   "source": [
    "m1=5.7e26 #Masa del planeta, kg\n",
    "m2=4.2e15 #Masa del satélite, kg\n",
    "a=130000 #Distancia media a Saturno, km\n",
    "Rs=16 #Radio del satélite, km, \n",
    "\n",
    "#Parámetro del CRTBP\n",
    "alfa=m2/(m1+m2)\n",
    "\n",
    "#Radio de Hill\n",
    "RH=a*(alfa/3)**(1./3)"
   ]
  },
  {
   "cell_type": "code",
   "execution_count": 87,
   "metadata": {
    "codelabel": "",
    "codeplot": 0,
    "tags": [
     "hide_input"
    ]
   },
   "outputs": [
    {
     "name": "stdout",
     "output_type": "stream",
     "text": [
      "Radio de Hill de Pan = 17.53992555057494\n"
     ]
    }
   ],
   "source": [
    "print(f\"Radio de Hill de Pan = {RH}\")"
   ]
  },
  {
   "cell_type": "markdown",
   "metadata": {},
   "source": [
    "¿Qué nota usted de curioso en estos números?.  Si comparamos el radio de Hill del satélite con su radio físico, descubrimos que la masa de este curioso satélite llena casi completamente su esfera de Hill.  ¿Qué pasaría en el caso de que el satélite fuera en realidad más grande que su esfera de Hill?.  Esta situación especial reviste mucho interés en las ciencias planetarias.  Si el cuerpo es solo un conjunto de rocas apiladas por su autogravedad (como parece ser el caso de muchas lunas planetarias pequeñas y otros cuerpos del sistema solar como asteroides y cometas, es de esperarse que las partículas del cuerpo que están más afuera empezarán a moverse hacia el planeta, desprendiéndose del satélite.  Con suficiente tiempo el cuerpo terminaría sino desintegrándose, al menos perdiendo una buena parte de su masa.  El satélite Pan esta cerca a ese límite."
   ]
  },
  {
   "cell_type": "markdown",
   "metadata": {},
   "source": [
    "¿Cuál es la condición que debe cumplir un satélite poco cohesionado para que se produzca esta situación?.  Si asumimos por simplicidad que la materia del satélite se reune formando un cuerpo casi esférico de radio promedio $R_s$ y densidad $\\rho_s$, la condición crítica para que el cuerpo empiece a desintegrarse será:\n",
    "\n",
    "$$\n",
    "R_s=R_H\n",
    "$$"
   ]
  },
  {
   "cell_type": "markdown",
   "metadata": {},
   "source": [
    "Reemplazando $R_H$:\n",
    "\n",
    "$$\n",
    "R_S^3 = a_R^3 \\frac{M_s}{3M_p}\n",
    "$$\n",
    "donde $a_R$ es la distancia crítica en la que empieza a ocurrir la desintegración y $M_p$ es la masa del planeta que asumimos mucho más grande que la masa del satélite.  "
   ]
  },
  {
   "cell_type": "markdown",
   "metadata": {},
   "source": [
    "Si ahora expresamos la masa del planeta y el satélite en términos de sus densidades medias $M_s=4\\pi\\rho_s R_S^3/3$ y $M_p=4\\pi\\rho_p R_S^3/3$ y despejamos $a_c$ obtenemos:\n",
    "\n",
    "$$\n",
    "a_R=\\left(3\\frac{\\rho_p}{\\rho_s}\\right)^{1/3} R_p\n",
    "$$"
   ]
  },
  {
   "cell_type": "markdown",
   "metadata": {},
   "source": [
    "Siempre que el satélite se encuentre a distancia menores que esta distancia crítica, el proceso de desintegración hará se desintegre total o parcialmente.  Esta condición la podemos expresar como:\n",
    "\n",
    "\\begin{equation}\n",
    "\\label{eq:radio_Roche}\n",
    "a\\leq a_R\\equiv1.44\\left(\\frac{\\rho_p}{\\rho_s}\\right)^{1/3} R_p\n",
    "\\end{equation}\n",
    "\n",
    "Llamamos a la distancia crítica $a_R$ el **límite de Roche** para agregados de partículas (cuerpos sin cohesión interna).  Este límite no debe confundirse, aunque naturalmente vienen de principios teóricos relacionados, con el *radio de Roche* definido anteriormente."
   ]
  },
  {
   "cell_type": "markdown",
   "metadata": {},
   "source": [
    "Podemos analizar el caso de Pan a la luz del recién definido límite de Roche.  Para calcularlo debemos conocer la densidad del planeta, su radio y la densidad del satélite:"
   ]
  },
  {
   "cell_type": "code",
   "execution_count": 88,
   "metadata": {
    "codelabel": "",
    "codeplot": 0
   },
   "outputs": [],
   "source": [
    "Rp=5.8e4 #Radio de Saturno, km\n",
    "\n",
    "#Densidad promedio de Saturno\n",
    "from numpy import pi\n",
    "rhop=m1/(4*pi*(Rp*1e3)**3/3)\n",
    "rhos=m2/(4*pi*(Rs*1e3)**3/3)\n",
    "\n",
    "#Límite de Roche de Saturno para cuerpos con la densidad de Pan\n",
    "aR=3**(1/3)*(rhop/rhos)**(1/3)*Rp"
   ]
  },
  {
   "cell_type": "code",
   "execution_count": 89,
   "metadata": {
    "codelabel": "",
    "codeplot": 0,
    "tags": [
     "hide_input"
    ]
   },
   "outputs": [
    {
     "name": "stdout",
     "output_type": "stream",
     "text": [
      "Densidad media de Saturno: 697.4326353252005 kg/km^3\n",
      "Densidad media de Pan: 244.79397985325699 kg/km^3\n",
      "Límite de Roche de Saturno: 118586.59228611788 km\n",
      "Distancia de Pan a Saturno: 130000 km\n"
     ]
    }
   ],
   "source": [
    "print(f\"Densidad media de Saturno: {rhop} kg/km^3\")\n",
    "print(f\"Densidad media de Pan: {rhos} kg/km^3\")\n",
    "print(f\"Límite de Roche de Saturno: {aR} km\")\n",
    "print(f\"Distancia de Pan a Saturno: {a} km\")"
   ]
  },
  {
   "cell_type": "markdown",
   "metadata": {},
   "source": [
    "Como vemos Pan esta tan solo un poco más afuera del límite de Roche de Saturno y esta es seguramente la razón por la que todavía podemos verlo de *cuerpo entero*. "
   ]
  },
  {
   "cell_type": "markdown",
   "metadata": {},
   "source": [
    "Una de las teorías que explica el origen de los anillos de Saturno (entre los que se mueve Pan) explica que las partículas que forman esta estructura se pudieron desprender de la corteza de lunas antiguas que por las interacciones con el planeta, con otras lunas o con gases alrededor de ellos, pudieron migrar hasta alcanzar distancias menores que sus correspondientes límites de Roche."
   ]
  },
  {
   "cell_type": "markdown",
   "metadata": {
    "tags": [
     "navigation"
    ]
   },
   "source": [
    "[Indice](index.ipynb) | Previo: [Problema3Cuerpos.PuntosEquilibrioLagrange](08.05.00.00.Problema3Cuerpos.PuntosEquilibrioLagrange.ipynb) | Siguiente: [Problema3Cuerpos.Aplicaciones.OrbitasCRTBP](08.06.02.00.Problema3Cuerpos.Aplicaciones.OrbitasCRTBP.ipynb)"
   ]
  }
 ],
 "metadata": {
  "celltoolbar": "Tags",
  "kernelspec": {
   "display_name": "Python 3",
   "language": "python",
   "name": "python3"
  },
  "language_info": {
   "codemirror_mode": {
    "name": "ipython",
    "version": 3
   },
   "file_extension": ".py",
   "mimetype": "text/x-python",
   "name": "python",
   "nbconvert_exporter": "python",
   "pygments_lexer": "ipython3",
   "version": "3.6.8"
  }
 },
 "nbformat": 4,
 "nbformat_minor": 2
}
