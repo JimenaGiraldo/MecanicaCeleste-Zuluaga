{
 "cells": [
  {
   "cell_type": "markdown",
   "metadata": {
    "tags": [
     "navigation"
    ]
   },
   "source": [
    "[Indice](index.ipynb) | Previo: [ProblemaNCuerpos.SolucionAnalitica.ConstantesMovimiento](06.02.01.00.ProblemaNCuerpos.SolucionAnalitica.ConstantesMovimiento.ipynb) | Siguiente: [ProblemaNCuerpos.SolucionAnalitica.Sintesis](06.02.03.00.ProblemaNCuerpos.SolucionAnalitica.Sintesis.ipynb)"
   ]
  },
  {
   "cell_type": "markdown",
   "metadata": {},
   "source": [
    "### 6.2.5. Energía potencial de N cuerpos\n",
    "<a id='ncuerpos_potencial'></a>"
   ]
  },
  {
   "cell_type": "markdown",
   "metadata": {},
   "source": [
    "Una manera alternativa de escribir la ecuación de movimiento del problema de los N cuerpos, es reconociendo que cada una las fuerzas gravitacionales que actúan sobre las partículas *derivan* de un potencial (son fuerzas conservativas).  Así:\n",
    "\n",
    "$$\n",
    "\\left\\{m_i\\ddot{\\vec r}_i= -\\frac{\\partial}{\\partial\\vec{r}_i}\\left(\\sum_{j\\neq i} m_i V_{j}\\right)\\right\\}_{N},\n",
    "$$\n",
    "donde $V_j=-\\mu_j/r_{ij}$ es el potencial gravitacional de la partícula $j$ (ver [potencial_campo_gravitacional](#mjx-eqn-eq%3Apotencial_campo_gravitacional)), medido en la posición de la partícula $i$, y la *derivada vectorial* $\\partial/\\partial\\vec{r}_i$ es, por definición en este libro, una representación del operador gradiente, $\\vec{\\nabla}_i$, calculado con respecto a las coordenadas de la partícula $i$ (ver la [Sección *Derivadas*](04.01.02.00.Fundamentos.Calculo.CalculoInfinitesimal.ipynb#derivadas).)"
   ]
  },
  {
   "cell_type": "markdown",
   "metadata": {},
   "source": [
    "Si introducimos lo que podemos llamar la *energía potencial gravitacional mutua* $U_{ij}\\equiv m_i V_j$ (ver Ec. [energia_fuerza_campo_gravitacional](#mjx-eqn-eq%3Aenergia_fuerza_campo_gravitacional)), la ecuación de movimiento se puede escribir como:\n",
    "\n",
    "\\begin{equation}\n",
    "\\label{eq:ncuerpos_edm_potencial_individual}\n",
    "\\left\\{m_i\\ddot{\\vec r}_i= -\\frac{\\partial}{\\partial\\vec{r}_i} \\left(\\sum_{j\\neq i} U_{ij}\\right)\\right\\}_{N},\n",
    "\\end{equation}\n"
   ]
  },
  {
   "cell_type": "markdown",
   "metadata": {},
   "source": [
    "Si bien, la función de energía potencia $\\sum_{j\\neq i} U_{ij}$, que aparece en el lado derecho de las Ecs. ([ncuerpos_edm_potencial_individual](#mjx-eqn-eq%3Ancuerpos_edm_potencial_individual)), es unica para cada partícual del sistema, existe una interesante propiedad del problema de los N cuerpos (y otros problemas con *fuerzas de interacción centrales*) que permite calcular las fuerzas en el sistema, como el gradiente de una única función de energía potencial. Aunque esta propiedad es presentada como un resultado trivial en casi todos los libros de mecánica celeste, esta lejos de serlo por lo que profundizaremos un momento en ella."
   ]
  },
  {
   "cell_type": "markdown",
   "metadata": {},
   "source": [
    "Consideremos el caso particular de un sistema de tres cuerpos.  En términos explícitos, las e.d.m. de este sistema (Ecs. [ncuerpos_formulacion_ecuaciones](#mjx-eqn-eq%3Ancuerpos_formulacion_ecuaciones)) tienen la forma :\n",
    "\n",
    "\\begin{eqnarray}\n",
    "\\nonumber\n",
    "m_1 \\ddot{r}_1 & = & -\\frac{m_1\\mu_2}{r_{12}^3}\\vec{r}_{12}-\\frac{m_1\\mu_3}{r_{13}^3}\\vec{r}_{13}\\\\\n",
    "\\nonumber\n",
    "m_2 \\ddot{r}_2 & = & -\\frac{m_2\\mu_1}{r_{21}^3}\\vec{r}_{21}-\\frac{m_2\\mu_3}{r_{23}^3}\\vec{r}_{23}\\\\\n",
    "\\nonumber\n",
    "m_3 \\ddot{r}_3 & = & -\\frac{m_3\\mu_1}{r_{31}^3}\\vec{r}_{31}-\\frac{m_3\\mu_2}{r_{32}^3}\\vec{r}_{32}\\\\\n",
    "\\end{eqnarray}"
   ]
  },
  {
   "cell_type": "markdown",
   "metadata": {},
   "source": [
    "Nótese, por ejemplo, que las fuerzas $\\vec{F}_{12}=-m_1\\mu_2 \\vec{r}_{12}/r_{12}^3$ y $\\vec{F}_{21}=-m_2\\mu_1 \\vec{r}_{21}/r_{21}^3$, en realidad pueden obtenerse de una sola energía potencial, a saber, $U_{12}=-m_1\\mu_2/r_{12}$:\n",
    "\n",
    "$$\n",
    "\\begin{array}{rcl}\n",
    "\\vec{F}_{12} & = & \\partial_{\\vec r_1}U_{12} \\\\\n",
    "\\vec{F}_{21} & = & \\partial_{\\vec r_2}U_{12} \\\\\n",
    "\\end{array}\n",
    "$$\n",
    "\n",
    "La fuerza $\\vec{F}_{12}$ se obtiene de $U_{12}$ si se deriva esta cantidad respecto a $\\vec r_1$; por su lado, la fuerza $\\vec{F}_{21}$ aparece deribando $U_{12}$ respecto a $\\vec r_2$.  Una situación similar ocurre con los pares de fuerzas $\\vec{F}_{13}$, $\\vec{F}_{31}$ y $\\vec{F}_{23}$, $\\vec{F}_{32}$.  "
   ]
  },
  {
   "cell_type": "markdown",
   "metadata": {},
   "source": [
    "Es decir, 6 fuerzas diferentes derivan, en realidad, de solo 3 términos de energía potencial: $U_{12}$, $U_{13}$ y $U_{23}$.  Explícitamente:\n",
    "\n",
    "\\begin{eqnarray}\n",
    "\\nonumber\n",
    "m_1 \\ddot{r}_1 & = & -\\frac{\\partial U_{12}}{\\partial\\vec{r}_1}-\\frac{\\partial U_{13}}{\\partial\\vec{r}_1}\\\\\n",
    "\\nonumber\n",
    "m_2 \\ddot{r}_2 & = & -\\frac{\\partial U_{12}}{\\partial\\vec{r}_2}-\\frac{\\partial U_{23}}{\\partial\\vec{r}_2}\\\\\n",
    "\\nonumber\n",
    "m_3 \\ddot{r}_3 & = & -\\frac{\\partial U_{13}}{\\partial\\vec{r}_3}-\\frac{\\partial U_{23}}{\\partial\\vec{r}_3}\\\\\n",
    "\\end{eqnarray}"
   ]
  },
  {
   "cell_type": "markdown",
   "metadata": {},
   "source": [
    "Si reconocemos que $\\partial U_{23}/\\partial \\vec{r}_1=\\partial U_{13}/\\partial \\vec{r}_2=\\partial U_{12}/\\partial \\vec{r}_3$, las e.d.m. se pueden escribir de forma más completa como:\n",
    "\n",
    "\\begin{eqnarray}\n",
    "\\nonumber\n",
    "m_1 \\ddot{r}_1 & = & \n",
    "-\\frac{\\partial U_{12}}{\\partial\\vec{r}_1}-\\frac{\\partial U_{13}}{\\partial\\vec{r}_1}-\\frac{\\partial U_{23}}{\\partial\\vec{r}_1}\\\\\n",
    "\\nonumber\n",
    "m_2 \\ddot{r}_2 & = & -\\frac{\\partial U_{12}}{\\partial\\vec{r}_2}-\\frac{\\partial U_{13}}{\\partial\\vec{r}_2}-\\frac{\\partial U_{23}}{\\partial\\vec{r}_2}\\\\\n",
    "\\nonumber\n",
    "m_3 \\ddot{r}_3 & = & -\\frac{\\partial U_{12}}{\\partial\\vec{r}_3}-\\frac{\\partial U_{13}}{\\partial\\vec{r}_3}-\\frac{\\partial U_{23}}{\\partial\\vec{r}_3}\\\\\n",
    "\\end{eqnarray}"
   ]
  },
  {
   "cell_type": "markdown",
   "metadata": {},
   "source": [
    "Allí identificamos, finalmente, una sola función de energía potencial para todo el sistema:\n",
    "\n",
    "\\begin{equation}\n",
    "\\label{eq:potencial_tres_cuerpos}\n",
    "U=U_{12}+U_{13}+U_{23},\n",
    "\\end{equation}\n",
    "de la cual puede calcularse la fuerza sobre cualquier partícula del sistema usando la prescripción general:\n",
    "\n",
    "\\begin{equation}\n",
    "\\label{eq:ncuerpos_edm_potencial}\n",
    "\\left\\{m_i\\ddot{\\vec{r}}_i=-\\frac{\\partial  U}{\\partial\\vec{r}_i}\\right\\}_N\n",
    "\\end{equation}\n",
    "\n",
    "Esta es la forma más compacta de escribir las ecuaciones de movimiento del problema de los N cuerpos.  \n",
    "\n",
    "Estudie cuidadosamente las diferencia entre esta forma de las ecuaciones, que usa una sola función de energía potencial y la menos económica forma original escrita en las Ecs. ([ncuerpos_edm_potencial_individual](#mjx-eqn-eq%3Ancuerpos_edm_potencial_individual))."
   ]
  },
  {
   "cell_type": "markdown",
   "metadata": {
    "label": "",
    "subtitle": "Motivación física de la energía potencial de N cuerpos",
    "tags": [
     "box_note"
    ],
    "title": "NOTA"
   },
   "source": [
    "> **NOTA: Motivación física de la energía potencial de N cuerpos.**<a id=''></a> La deducción que hicimos aquí de la energía potencial de tres cuerpos, es de naturaleza eminentemente matemática. Sin embargo, una vez obtenida, es posible dar a ella una interpretación que nos permite entender las razones físicas profundas por las que la energía potencial del sistema tiene en realidad un número restringido de términos.  \n",
    "\n",
    "> Es claro, físicamente, que al cuantificar la energía total de interacción de un sistema, solo debemos tener en cuenta *una vez* la contribución que cada pareja de partículas.  Así, el sistema de partículas 1 y 2 contribuyen con $U_{12}$ a la energía total, es obvio entonces que sumar a esa energía el término $U_{21}$ sería redundante y físicamente incorrecto.  Lo mismo pasa con las energías de interacción $U_{13}$ que descartan la necesidad de incluir la $U_{31}$ y la $U_{23}$ que una vez sumada hace innecesario agregar la energía $U_{32}$.  \n",
    "\n",
    "> Este razonamiento, es la razón *física* por la cual la funcuón de energía potencial en la Ec. ([potencial_tres_cuerpos](#mjx-eqn-eq%3Apotencial_tres_cuerpos)) total solo contiene tres términos (en lugar de 6 como podría intuirse de la forma de la Ec. [ncuerpos_edm_potencial_individual](#mjx-eqn-eq%3Ancuerpos_edm_potencial_individual)).\n",
    "\n",
    "> ¿Podría el lector generalizar este resultado a cuatro cuerpos? O más interesante aún ¿podría ofrecer una fórmula general para el *número de términos* que tiene la función de energía potencial de un sistema de N cuerpos? (intente encontrar la respuesta antes de mirar el pie de nota) [$^1$](06.03.00.00.ProblemaNCuerpos.TeoremaVirial.ipynb#notaspie_1)$. Así, por ejemplo, con $N=3$ y $k=2$, el número de combinaciones es $C_{3,2}=3!/2!=3$ que coincide con el ejemplo desarrollado aquí (ver Ec. [potencial_tres_cuerpos](#mjx-eqn-eq%3Apotencial_tres_cuerpos).)]"
   ]
  },
  {
   "cell_type": "markdown",
   "metadata": {},
   "source": [
    "La energía potencial de N cuerpos $U$, que escribimos en la Ec. ([potencial_tres_cuerpos](#mjx-eqn-eq%3Apotencial_tres_cuerpos)) para un sistema de tres partículas, puede ahora escribirse, en general, para un sistema de N cuerpos, de dos maneras diferentes:\n",
    "\n",
    "1. Restringiendo las sumatorias: \n",
    "\n",
    "    \\begin{equation}\n",
    "    \\label{eq:U_restringido}\n",
    "    U=-\\sum_{i=1}^{i<j}\\sum_{j=1}^{j=N} \\frac{m_i\\mu_j}{r_{ij}}\n",
    "    \\end{equation}\n",
    "\n",
    "   Una fórmula que se escribe en casi todos los textos y de forma simplificada como:\n",
    "   \n",
    "   $$\n",
    "   U=-\\sum_{i<j} \\frac{m_i\\mu_j}{r_{ij}}\n",
    "   $$\n",
    "  \n",
    "   Esta expresión es relativamente simple, pero expandir las sumatorias, en la práctica, puede ser muy complicado (el lector puede intentar, por ejemplo, escribir la energía potencial de un sistema de cuatro cuerpos, usando la fórmula anterior y no el razonamiento físico que esbozamos en la última *Nota*.)\n",
    "\n",
    "2. Sin restringir las sumatorias:\n",
    "\n",
    "    \\begin{equation}\n",
    "    \\label{eq:U_no_restringido}\n",
    "    U=-\\frac{1}{2}\\sum_i\\sum_{j\\neq i} \\frac{m_i\\mu_j}{r_{ij}}\n",
    "    \\end{equation}\n",
    "\n",
    "   El factor $1/2$ en el lado derecho, aunque extraño desde el punto de vista de la física, proviene del hecho de que al no restringir la sumatoria sobre la $i$, apareceran los términos duplicados $m_i\\mu_j/r_{ij}$ y $m_j\\mu_i/r_{ji}$ que son exactamente iguales.\n",
    "   \n",
    "En lo que queda de este texto usaremos la parametrización de la Ec. ([U_no_restringido](#mjx-eqn-eq%3AU_no_restringido))."
   ]
  },
  {
   "cell_type": "markdown",
   "metadata": {},
   "source": [
    "### 6.2.6. Conservación de la energía\n",
    "<a id='ncuerpos_energia'></a>"
   ]
  },
  {
   "cell_type": "markdown",
   "metadata": {},
   "source": [
    "Si multiplicamos las Ecs. ([ncuerpos_edm_potencial](#mjx-eqn-eq%3Ancuerpos_edm_potencial)) por el factor integrante $m_i\\vec{r}_i$ (usando el producto punto o producto escalar) y sumamos sobre todas las partículas (como lo hemos hecho para obtener las otras constantes de movimiento) obtenemos:\n",
    "\n",
    "$$\n",
    "\\sum_i m_i \\dot{\\vec{r}}_i\\cdot\\ddot{\\vec{r}}_i =\n",
    "-\\sum_i\\dot{\\vec{r}}_i\\cdot\\frac{\\partial  U}{\\partial\\vec{r}_i}\n",
    "$$"
   ]
  },
  {
   "cell_type": "markdown",
   "metadata": {},
   "source": [
    "El lado derecho de esta ecuación corresponde a la regla de la cadena (ver Ec. [regla_cadena_general](#mjx-eqn-eq%3Aregla_cadena_general)):\n",
    "\n",
    "$$\n",
    "\\frac{\\mathrm{d}U}{\\mathrm{d}t}=\\frac{\\partial U}{\\partial \\vec{r}_1}\\cdot\\frac{\\mathrm{d}\\vec{r}_1}{\\mathrm{d}t}+\\frac{\\partial U}{\\partial \\vec{r}_2}\\cdot\\frac{\\mathrm{d}\\vec{r}_2}{\\mathrm{d}t}+\\ldots+\\frac{\\partial U}{\\partial \\vec{r}_n}\\cdot\\frac{\\mathrm{d}\\vec{r}_n}{\\mathrm{d}t}\n",
    "$$\n",
    "lo que permite conseguir el objetivo del factor integrante: escribir la ecuación diferencial en cuadraturas:\n",
    "\n",
    "$$\n",
    "\\frac{d}{dt}\\left(\\frac{1}{2}\\sum_i m_i \\dot{\\vec r_i}^2\\right)=-\\frac{dU}{dt}\n",
    "$$"
   ]
  },
  {
   "cell_type": "markdown",
   "metadata": {},
   "source": [
    "De esta ecuación podemos identificar, finalmente, una nueva constante de movimiento en el problema de los N cuerpos:\n",
    "\n",
    "\\begin{equation}\n",
    "\\label{eq:ncuerpos_energia}\n",
    "\\frac{1}{2}\\sum_i m_i \\dot{\\vec r_i}^2+U(\\{\\vec{r}_i\\})=E\n",
    "\\end{equation}\n",
    "\n",
    "Con $U(\\{\\vec{r}_i\\})=(1/2)\\sum_i\\sum_{j\\neq i} m_i\\mu_j/r_{ij}$.\n",
    "\n",
    "Físicamente el valor de $E$ corresponde a la energía mecánica total del sistema de N cuerpos y esta integral no es otra cosa que una expresión del teorema de convervación de la energúa (ver Teo. [regla_cadena_general](05.02.01.00.Mecanica.Dinamica.Postulados.ipynb#box:teo:conservacion.energia)) en la ausencia de fuerzas no conservativas."
   ]
  },
  {
   "cell_type": "markdown",
   "metadata": {},
   "source": [
    "### 6.2.7. Caso de estudio: el sistema Tierra-Luna\n",
    "<a id='energia_tierra_luna'></a>"
   ]
  },
  {
   "cell_type": "markdown",
   "metadata": {},
   "source": [
    "En un terreno más práctico, sería interesante, usar este resultado, para preguntarse, por ejemplo, cuánta energía *mecánica* existe en el sistema Tierra-Luna.\n",
    "\n",
    "Para ello podemos apoyarnos otra vez de `SPICE`, como lo hicimos antes para calcular el momentum angular del sistema Sol-Jupiter (ver Algoritmo [masas_estado_planetas](06.02.01.00.ProblemaNCuerpos.SolucionAnalitica.ConstantesMovimiento.ipynb#code:masas_estado_planetas)):"
   ]
  },
  {
   "cell_type": "markdown",
   "metadata": {},
   "source": [
    "<a id='code:estado_tierra_luna'></a>"
   ]
  },
  {
   "cell_type": "code",
   "execution_count": 2,
   "metadata": {
    "codelabel": "code:estado_tierra_luna",
    "codeplot": 0,
    "tags": [
     "code:estado_tierra_luna"
    ]
   },
   "outputs": [],
   "source": [
    "import spiceypy as spy\n",
    "\n",
    "#Constante de gravitación universal \n",
    "G=6.67e-20 # km^3 / kg s^2\n",
    "\n",
    "#Asumimos un tiempo cualquiera, en este caso t=J2000.0\n",
    "tef=0\n",
    "\n",
    "#Carga kernels con posiciones (bsp) y masas (tpc)\n",
    "spy.furnsh('pymcel/data/de430.bsp')\n",
    "spy.furnsh('pymcel/data/de430.tpc')\n",
    "\n",
    "#Parámetro gravitacional, posiciones y velocidades\n",
    "mutierra=spy.bodvrd(\"EARTH\",\"GM\",1)[1][0]\n",
    "tierra,tluz=spy.spkezr(\"EARTH\",tef,\n",
    "                       \"ECLIPJ2000\",\"None\",\"EARTH_BARYCENTER\")\n",
    "rtierra=tierra[:3]\n",
    "vtierra=tierra[3:]\n",
    "\n",
    "muluna=spy.bodvrd(\"MOON\",\"GM\",1)[1][0]\n",
    "luna,tluz=spy.spkezr(\"MOON\",tef,\n",
    "                     \"ECLIPJ2000\",\"None\",\"EARTH_BARYCENTER\")\n",
    "rluna=luna[:3]\n",
    "vluna=luna[3:]"
   ]
  },
  {
   "cell_type": "markdown",
   "metadata": {},
   "source": [
    "Una diferencia importante entre este algoritmo y el que vimos para el cálculo del momentum angular, es que las posiciones y velocidades de la Tierra y la Luna, son calculadas respecto a la posición del centro de masa del sistema (`EARTH_BARYCENTER`) en lugar de hacerlo respecto del baricentro del sistema solar (`SSB`).  Si bien, nada en la Ec. ([ncuerpos_energia](#mjx-eqn-eq%3Ancuerpos_energia)) nos dice que la energía mecánica total solo se conserva en el sistema de referencia del centro de masa, nuestra interpretación del valor de esta cantidad será más fácil allí.  El lector puede intentar hacer el cálculo relativo al baricentro del sistema solar y comparar con el resultado obtenido aquí."
   ]
  },
  {
   "cell_type": "markdown",
   "metadata": {},
   "source": [
    "La energía mecánica total del sistema, será entonces:"
   ]
  },
  {
   "cell_type": "markdown",
   "metadata": {},
   "source": [
    "<a id='code:energia_tierra_luna'></a>"
   ]
  },
  {
   "cell_type": "code",
   "execution_count": 4,
   "metadata": {
    "codelabel": "code:energia_tierra_luna",
    "codeplot": 0,
    "tags": [
     "code:energia_tierra_luna"
    ]
   },
   "outputs": [],
   "source": [
    "#Masas\n",
    "mtierra=mutierra/G\n",
    "mluna=muluna/G\n",
    "\n",
    "#Energía potencial\n",
    "from numpy.linalg import norm\n",
    "U=-G*mluna*mtierra/norm(rtierra-rluna)\n",
    "\n",
    "#Energía cinética\n",
    "K=0.5*mutierra*norm(vtierra)**2+0.5*mluna*norm(vluna)**2\n",
    "\n",
    "#Energía mecánica total\n",
    "E=K+U"
   ]
  },
  {
   "cell_type": "code",
   "execution_count": 6,
   "metadata": {
    "codelabel": "",
    "codeplot": 0
   },
   "outputs": [
    {
     "name": "stdout",
     "output_type": "stream",
     "text": [
      "Energía potencial U: -7.369786503549795e+22 kg km^2/s^2\n",
      "Energía cinética K: 3.4021556025880696e+22 kg km^2/s^2\n",
      "Energía mecánica total E: -3.967630900961725e+22 kg km^2/s^2\n"
     ]
    }
   ],
   "source": [
    "print(f\"Energía potencial U: {U} kg km^2/s^2\")\n",
    "print(f\"Energía cinética K: {K} kg km^2/s^2\")\n",
    "print(f\"Energía mecánica total E: {E} kg km^2/s^2\")"
   ]
  },
  {
   "cell_type": "markdown",
   "metadata": {},
   "source": [
    "¿Qué significa que la energía mecánica total del sistema Tierra-Luna sea negativa? \n",
    "\n",
    "Como lo comentamos en la [Sección *Energía potencial gravitacional*](05.02.01.00.Mecanica.Dinamica.Postulados.ipynb#energia_potencial_gravitacional) el signo negativo de la energía potencial gravitacional (responsable aquí del signo negativo de $E$) se debe a que escogimos el valor de la constante $C$ en la Ec. ([energia_potencial_gravitacional](#mjx-eqn-eq%3Aenergia_potencial_gravitacional)) como cero.  \n",
    "\n",
    "Siguiendo un razonamiento similar al que usamos en esa sección para explicar físicamente el significado de esta elección arbitraria (y por tanto el signo de $U$), podemos decir aquí que el valor de $|E|$ en el sistema Tierra-Luna y en general en cualquier sistema de dos cuerpos, es el trabajo *mínimo* requerido para separar a la Tierra y a la Luna a una distancia inmensa.  O, en términos *escatológicos*, $|E|$ es la energía mínima necesaria para destruir la unión entre nuestro planeta y su eterna compañera."
   ]
  },
  {
   "cell_type": "markdown",
   "metadata": {},
   "source": [
    "No es difícil mostrar (ver problemas al final del capítulo) que esta energía es igual a la energía cinética de un cuerpo con la masa de la Luna moviéndose a $~$1 km/s relativa al centro de masa del sistema.  Es decir, una colisión *elástica* con un cuerpo gemelo de la Luna podría hacer el trabajo de separarnos de ella[$^2$](06.03.00.00.ProblemaNCuerpos.TeoremaVirial.ipynb#notaspie_2)."
   ]
  },
  {
   "cell_type": "markdown",
   "metadata": {},
   "source": [
    "Para hacernos ahora a una idea más cercana del valor de esta energía, las unidades de energía utilizadas aquí, kg km$^2$/s$^2$, que siguen la convención en `SPICE` de usar km como unidad de longitud, no son las más convenientes.  Para convertirlas a las unidades del sistema internacional, los joules, J = kg m$^2$/s$^2$, basta multiplicar las energía obtenidas anteriormente por un factor de conversión de $10^6$.  \n",
    "\n",
    "En conclusión podemos decir que (el valor absoluto de) la energía mecánica total del sistema Tierra-Luna es $~4\\times 10^{28}$ j.  Esta energía es aproximadamente igual a la energía consumida por toda la humanidad en casi [2 millones de años](https://en.wikipedia.org/wiki/World_energy_consumption)."
   ]
  },
  {
   "cell_type": "markdown",
   "metadata": {
    "tags": [
     "footnote"
    ]
   },
   "source": [
    "**NOTAS AL PIE:**\n",
    "\n",
    "<a id='notaspie_1'></a>\n",
    "1. La respuesta está en la teoría combinatoria: el número de términos de la energía potencial es igual al número de combinaciones $C_{N,k}$ en parejas ($k=2$) de N números (las partículas del sistema). Es un resultado bien conocido de la combinatoria que $C_{N,k}=N!/[k!(N-k)!\n",
    "\n",
    "<a id='notaspie_2'></a>\n",
    "2. En la vida real la colisión mencionada sería *inelástica*, es decir una buena parte de la energía cinética de la se convertiría inicialmente en calor y destruiría a la Luna y al impactor\n",
    "\n"
   ]
  },
  {
   "cell_type": "markdown",
   "metadata": {
    "tags": [
     "navigation"
    ]
   },
   "source": [
    "[Indice](index.ipynb) | Previo: [ProblemaNCuerpos.SolucionAnalitica.ConstantesMovimiento](06.02.01.00.ProblemaNCuerpos.SolucionAnalitica.ConstantesMovimiento.ipynb) | Siguiente: [ProblemaNCuerpos.SolucionAnalitica.Sintesis](06.02.03.00.ProblemaNCuerpos.SolucionAnalitica.Sintesis.ipynb)"
   ]
  }
 ],
 "metadata": {
  "celltoolbar": "Tags",
  "kernelspec": {
   "display_name": "Python 3",
   "language": "python",
   "name": "python3"
  },
  "language_info": {
   "codemirror_mode": {
    "name": "ipython",
    "version": 3
   },
   "file_extension": ".py",
   "mimetype": "text/x-python",
   "name": "python",
   "nbconvert_exporter": "python",
   "pygments_lexer": "ipython3",
   "version": "3.6.8"
  }
 },
 "nbformat": 4,
 "nbformat_minor": 2
}
