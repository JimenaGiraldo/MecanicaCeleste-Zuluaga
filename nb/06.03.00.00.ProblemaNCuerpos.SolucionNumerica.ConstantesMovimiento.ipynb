{
 "cells": [
  {
   "cell_type": "markdown",
   "metadata": {
    "tags": [
     "navigation"
    ]
   },
   "source": [
    "[Indice](index.ipynb) | Previo: [ProblemaNCuerpos.SolucionNumerica](06.03.00.00.ProblemaNCuerpos.SolucionNumerica.ipynb) | "
   ]
  },
  {
   "cell_type": "markdown",
   "metadata": {},
   "source": [
    "### 6.4.5. Constantes de movimiento y teorema del virial\n",
    "<a id='ncuerpos_numerico_constantes_virial'></a>"
   ]
  },
  {
   "cell_type": "markdown",
   "metadata": {},
   "source": [
    "Una interesante primera \"aplicación\" de la solución numérica al problema de los N cuerpos vista en estas secciones, es la de verificar \"experimentalmente\" los resultados analíticos descritos en la [Sección *¿Solución analítica?*](Not Found#solucione_analitica) y en la [Sección *Energía y virial*](06.03.00.00.ProblemaNCuerpos.TeoremaVirial.ipynb#ncuerpos_virial)."
   ]
  },
  {
   "cell_type": "markdown",
   "metadata": {},
   "source": [
    "Para ello estudiaremos un sistema de 5 partículas con masas, posiciones y velocidades generadas al azar.  La solución numérica a las e.d.m.r. del sistema, obtenida con los métodos vistos en esta sección, nos permitirá obtener las listas de sus posiciones y velocidades para distintos valores del tiempo.  Con estas listas podremos calcular y graficar los valores de las constantes de movimiento, momento lineal, momento angular, energía y de las cantidades críticas para el teorema del virial.  "
   ]
  },
  {
   "cell_type": "markdown",
   "metadata": {},
   "source": [
    "Comencemos pues por generar las condiciones iniciales del sistema usando, entre otras cosas, la rutina `sistema_a_Y` del Alg. ([sistema_a_Y](06.03.00.00.ProblemaNCuerpos.SolucionNumerica.ipynb#code:sistema_a_Y)) y las rutinas de generación de números aleatorios que usamos en la [Sección *Centro de masa*](05.02.02.00.Mecanica.Dinamica.SistemaParticulas.ipynb#centro_masa):"
   ]
  },
  {
   "cell_type": "code",
   "execution_count": 4,
   "metadata": {
    "codelabel": "",
    "codeplot": 0,
    "tags": [
     "hide_pdf"
    ]
   },
   "outputs": [],
   "source": [
    "#Importa todos las rutinas y constantes de otras libretas\n",
    "from pymcel.export import *"
   ]
  },
  {
   "cell_type": "markdown",
   "metadata": {},
   "source": [
    "<a id='code:ncuerpos_constantes_condiciones_iniciales'></a>"
   ]
  },
  {
   "cell_type": "code",
   "execution_count": 3,
   "metadata": {
    "codelabel": "code:ncuerpos_constantes_condiciones_iniciales",
    "codeplot": 0,
    "tags": [
     "code:ncuerpos_constantes_condiciones_iniciales"
    ]
   },
   "outputs": [],
   "source": [
    "#Número de partículas\n",
    "N=5\n",
    "\n",
    "#Generación de las condiciones para cada partícula\n",
    "from numpy.random import uniform,seed\n",
    "seed(7)\n",
    "\n",
    "#Condiciones iniciales\n",
    "sistema=[]\n",
    "for i in range(N):\n",
    "    particula=dict(\n",
    "        m=uniform(0.0,1.0),\n",
    "        r=uniform(-1.0,1.0,size=3),\n",
    "        v=uniform(-1.0,1.0,size=3)\n",
    "    )\n",
    "    sistema+=[particula]\n",
    "\n",
    "N,mus,Y0s=sistema_a_Y(sistema)\n",
    "\n",
    "#Tiempos\n",
    "from numpy import linspace\n",
    "Nt=100\n",
    "ts=linspace(0.0,10.0,Nt)"
   ]
  },
  {
   "cell_type": "code",
   "execution_count": 28,
   "metadata": {
    "codelabel": "",
    "codeplot": 0
   },
   "outputs": [
    {
     "name": "stdout",
     "output_type": "stream",
     "text": [
      "N = 5\n",
      "mus = [0.07630829 0.07205113 0.2881456  0.9501295  0.66901324]\n",
      "Y0s = [ 5.59837584e-01 -1.23181537e-01  4.46930356e-01 -4.63122040e-01\n",
      " -2.34998349e-04  3.58459992e-01  8.19187055e-01 -5.73229293e-01\n",
      " -9.57520764e-02 -5.39394242e-01  9.69798385e-02  8.18256750e-01\n",
      " -6.44942805e-02 -5.90301819e-01 -1.84682218e-02  9.55979024e-01\n",
      "  7.69917408e-02  2.24092732e-03  6.07478072e-01 -2.38117734e-01\n",
      " -8.68127306e-01  8.62412039e-01 -9.50201545e-01  2.01097835e-01\n",
      " -7.33661108e-01  4.68251613e-02  5.00819718e-01 -2.55230621e-01\n",
      " -4.51976903e-02 -2.68219228e-01]\n"
     ]
    }
   ],
   "source": [
    "print(f\"N = {N}\")\n",
    "print(f\"mus = {mus}\")\n",
    "print(f\"Y0s = {Y0s}\")"
   ]
  },
  {
   "cell_type": "markdown",
   "metadata": {},
   "source": [
    "Ahora podemos resolver las ecuaciones de movimiento y extraer las posiciones y velocidades de las partículas:"
   ]
  },
  {
   "cell_type": "code",
   "execution_count": 29,
   "metadata": {
    "codelabel": "",
    "codeplot": 0
   },
   "outputs": [],
   "source": [
    "#Solución\n",
    "from scipy.integrate import odeint\n",
    "solucion=odeint(edm_ncuerpos,Y0s,ts,args=(N,mus))\n",
    "\n",
    "#Extracción de las posiciones y velocidades\n",
    "rs,vs=solucion_a_estado(solucion,N,Nt)"
   ]
  },
  {
   "cell_type": "markdown",
   "metadata": {},
   "source": [
    "Una gráfica del movimiento de las partículas en tres dimensiones se puede obtener usando la rutina `plot_ncuerpos_3d` que definimos en el Alg. ([plot_ncuerpos_3d](06.03.00.00.ProblemaNCuerpos.SolucionNumerica.ipynb#code:plot_ncuerpos_3d)):"
   ]
  },
  {
   "cell_type": "code",
   "execution_count": 30,
   "metadata": {
    "codelabel": "",
    "codeplot": 0,
    "tags": [
     "hide_pdf",
     "hide_html"
    ]
   },
   "outputs": [],
   "source": [
    "%matplotlib nbagg"
   ]
  },
  {
   "cell_type": "code",
   "execution_count": 31,
   "metadata": {
    "codelabel": "fig:06.03.00.00.ProblemaNCuerpos.SolucionNumerica.ConstantesMovimiento_31",
    "codeplot": 1,
    "figcaption": "<b>Figura 6.31.</b> "
   },
   "outputs": [
    {
     "data": {
      "application/javascript": [
       "/* Put everything inside the global mpl namespace */\n",
       "window.mpl = {};\n",
       "\n",
       "\n",
       "mpl.get_websocket_type = function() {\n",
       "    if (typeof(WebSocket) !== 'undefined') {\n",
       "        return WebSocket;\n",
       "    } else if (typeof(MozWebSocket) !== 'undefined') {\n",
       "        return MozWebSocket;\n",
       "    } else {\n",
       "        alert('Your browser does not have WebSocket support. ' +\n",
       "              'Please try Chrome, Safari or Firefox ≥ 6. ' +\n",
       "              'Firefox 4 and 5 are also supported but you ' +\n",
       "              'have to enable WebSockets in about:config.');\n",
       "    };\n",
       "}\n",
       "\n",
       "mpl.figure = function(figure_id, websocket, ondownload, parent_element) {\n",
       "    this.id = figure_id;\n",
       "\n",
       "    this.ws = websocket;\n",
       "\n",
       "    this.supports_binary = (this.ws.binaryType != undefined);\n",
       "\n",
       "    if (!this.supports_binary) {\n",
       "        var warnings = document.getElementById(\"mpl-warnings\");\n",
       "        if (warnings) {\n",
       "            warnings.style.display = 'block';\n",
       "            warnings.textContent = (\n",
       "                \"This browser does not support binary websocket messages. \" +\n",
       "                    \"Performance may be slow.\");\n",
       "        }\n",
       "    }\n",
       "\n",
       "    this.imageObj = new Image();\n",
       "\n",
       "    this.context = undefined;\n",
       "    this.message = undefined;\n",
       "    this.canvas = undefined;\n",
       "    this.rubberband_canvas = undefined;\n",
       "    this.rubberband_context = undefined;\n",
       "    this.format_dropdown = undefined;\n",
       "\n",
       "    this.image_mode = 'full';\n",
       "\n",
       "    this.root = $('<div/>');\n",
       "    this._root_extra_style(this.root)\n",
       "    this.root.attr('style', 'display: inline-block');\n",
       "\n",
       "    $(parent_element).append(this.root);\n",
       "\n",
       "    this._init_header(this);\n",
       "    this._init_canvas(this);\n",
       "    this._init_toolbar(this);\n",
       "\n",
       "    var fig = this;\n",
       "\n",
       "    this.waiting = false;\n",
       "\n",
       "    this.ws.onopen =  function () {\n",
       "            fig.send_message(\"supports_binary\", {value: fig.supports_binary});\n",
       "            fig.send_message(\"send_image_mode\", {});\n",
       "            if (mpl.ratio != 1) {\n",
       "                fig.send_message(\"set_dpi_ratio\", {'dpi_ratio': mpl.ratio});\n",
       "            }\n",
       "            fig.send_message(\"refresh\", {});\n",
       "        }\n",
       "\n",
       "    this.imageObj.onload = function() {\n",
       "            if (fig.image_mode == 'full') {\n",
       "                // Full images could contain transparency (where diff images\n",
       "                // almost always do), so we need to clear the canvas so that\n",
       "                // there is no ghosting.\n",
       "                fig.context.clearRect(0, 0, fig.canvas.width, fig.canvas.height);\n",
       "            }\n",
       "            fig.context.drawImage(fig.imageObj, 0, 0);\n",
       "        };\n",
       "\n",
       "    this.imageObj.onunload = function() {\n",
       "        fig.ws.close();\n",
       "    }\n",
       "\n",
       "    this.ws.onmessage = this._make_on_message_function(this);\n",
       "\n",
       "    this.ondownload = ondownload;\n",
       "}\n",
       "\n",
       "mpl.figure.prototype._init_header = function() {\n",
       "    var titlebar = $(\n",
       "        '<div class=\"ui-dialog-titlebar ui-widget-header ui-corner-all ' +\n",
       "        'ui-helper-clearfix\"/>');\n",
       "    var titletext = $(\n",
       "        '<div class=\"ui-dialog-title\" style=\"width: 100%; ' +\n",
       "        'text-align: center; padding: 3px;\"/>');\n",
       "    titlebar.append(titletext)\n",
       "    this.root.append(titlebar);\n",
       "    this.header = titletext[0];\n",
       "}\n",
       "\n",
       "\n",
       "\n",
       "mpl.figure.prototype._canvas_extra_style = function(canvas_div) {\n",
       "\n",
       "}\n",
       "\n",
       "\n",
       "mpl.figure.prototype._root_extra_style = function(canvas_div) {\n",
       "\n",
       "}\n",
       "\n",
       "mpl.figure.prototype._init_canvas = function() {\n",
       "    var fig = this;\n",
       "\n",
       "    var canvas_div = $('<div/>');\n",
       "\n",
       "    canvas_div.attr('style', 'position: relative; clear: both; outline: 0');\n",
       "\n",
       "    function canvas_keyboard_event(event) {\n",
       "        return fig.key_event(event, event['data']);\n",
       "    }\n",
       "\n",
       "    canvas_div.keydown('key_press', canvas_keyboard_event);\n",
       "    canvas_div.keyup('key_release', canvas_keyboard_event);\n",
       "    this.canvas_div = canvas_div\n",
       "    this._canvas_extra_style(canvas_div)\n",
       "    this.root.append(canvas_div);\n",
       "\n",
       "    var canvas = $('<canvas/>');\n",
       "    canvas.addClass('mpl-canvas');\n",
       "    canvas.attr('style', \"left: 0; top: 0; z-index: 0; outline: 0\")\n",
       "\n",
       "    this.canvas = canvas[0];\n",
       "    this.context = canvas[0].getContext(\"2d\");\n",
       "\n",
       "    var backingStore = this.context.backingStorePixelRatio ||\n",
       "\tthis.context.webkitBackingStorePixelRatio ||\n",
       "\tthis.context.mozBackingStorePixelRatio ||\n",
       "\tthis.context.msBackingStorePixelRatio ||\n",
       "\tthis.context.oBackingStorePixelRatio ||\n",
       "\tthis.context.backingStorePixelRatio || 1;\n",
       "\n",
       "    mpl.ratio = (window.devicePixelRatio || 1) / backingStore;\n",
       "\n",
       "    var rubberband = $('<canvas/>');\n",
       "    rubberband.attr('style', \"position: absolute; left: 0; top: 0; z-index: 1;\")\n",
       "\n",
       "    var pass_mouse_events = true;\n",
       "\n",
       "    canvas_div.resizable({\n",
       "        start: function(event, ui) {\n",
       "            pass_mouse_events = false;\n",
       "        },\n",
       "        resize: function(event, ui) {\n",
       "            fig.request_resize(ui.size.width, ui.size.height);\n",
       "        },\n",
       "        stop: function(event, ui) {\n",
       "            pass_mouse_events = true;\n",
       "            fig.request_resize(ui.size.width, ui.size.height);\n",
       "        },\n",
       "    });\n",
       "\n",
       "    function mouse_event_fn(event) {\n",
       "        if (pass_mouse_events)\n",
       "            return fig.mouse_event(event, event['data']);\n",
       "    }\n",
       "\n",
       "    rubberband.mousedown('button_press', mouse_event_fn);\n",
       "    rubberband.mouseup('button_release', mouse_event_fn);\n",
       "    // Throttle sequential mouse events to 1 every 20ms.\n",
       "    rubberband.mousemove('motion_notify', mouse_event_fn);\n",
       "\n",
       "    rubberband.mouseenter('figure_enter', mouse_event_fn);\n",
       "    rubberband.mouseleave('figure_leave', mouse_event_fn);\n",
       "\n",
       "    canvas_div.on(\"wheel\", function (event) {\n",
       "        event = event.originalEvent;\n",
       "        event['data'] = 'scroll'\n",
       "        if (event.deltaY < 0) {\n",
       "            event.step = 1;\n",
       "        } else {\n",
       "            event.step = -1;\n",
       "        }\n",
       "        mouse_event_fn(event);\n",
       "    });\n",
       "\n",
       "    canvas_div.append(canvas);\n",
       "    canvas_div.append(rubberband);\n",
       "\n",
       "    this.rubberband = rubberband;\n",
       "    this.rubberband_canvas = rubberband[0];\n",
       "    this.rubberband_context = rubberband[0].getContext(\"2d\");\n",
       "    this.rubberband_context.strokeStyle = \"#000000\";\n",
       "\n",
       "    this._resize_canvas = function(width, height) {\n",
       "        // Keep the size of the canvas, canvas container, and rubber band\n",
       "        // canvas in synch.\n",
       "        canvas_div.css('width', width)\n",
       "        canvas_div.css('height', height)\n",
       "\n",
       "        canvas.attr('width', width * mpl.ratio);\n",
       "        canvas.attr('height', height * mpl.ratio);\n",
       "        canvas.attr('style', 'width: ' + width + 'px; height: ' + height + 'px;');\n",
       "\n",
       "        rubberband.attr('width', width);\n",
       "        rubberband.attr('height', height);\n",
       "    }\n",
       "\n",
       "    // Set the figure to an initial 600x600px, this will subsequently be updated\n",
       "    // upon first draw.\n",
       "    this._resize_canvas(600, 600);\n",
       "\n",
       "    // Disable right mouse context menu.\n",
       "    $(this.rubberband_canvas).bind(\"contextmenu\",function(e){\n",
       "        return false;\n",
       "    });\n",
       "\n",
       "    function set_focus () {\n",
       "        canvas.focus();\n",
       "        canvas_div.focus();\n",
       "    }\n",
       "\n",
       "    window.setTimeout(set_focus, 100);\n",
       "}\n",
       "\n",
       "mpl.figure.prototype._init_toolbar = function() {\n",
       "    var fig = this;\n",
       "\n",
       "    var nav_element = $('<div/>');\n",
       "    nav_element.attr('style', 'width: 100%');\n",
       "    this.root.append(nav_element);\n",
       "\n",
       "    // Define a callback function for later on.\n",
       "    function toolbar_event(event) {\n",
       "        return fig.toolbar_button_onclick(event['data']);\n",
       "    }\n",
       "    function toolbar_mouse_event(event) {\n",
       "        return fig.toolbar_button_onmouseover(event['data']);\n",
       "    }\n",
       "\n",
       "    for(var toolbar_ind in mpl.toolbar_items) {\n",
       "        var name = mpl.toolbar_items[toolbar_ind][0];\n",
       "        var tooltip = mpl.toolbar_items[toolbar_ind][1];\n",
       "        var image = mpl.toolbar_items[toolbar_ind][2];\n",
       "        var method_name = mpl.toolbar_items[toolbar_ind][3];\n",
       "\n",
       "        if (!name) {\n",
       "            // put a spacer in here.\n",
       "            continue;\n",
       "        }\n",
       "        var button = $('<button/>');\n",
       "        button.addClass('ui-button ui-widget ui-state-default ui-corner-all ' +\n",
       "                        'ui-button-icon-only');\n",
       "        button.attr('role', 'button');\n",
       "        button.attr('aria-disabled', 'false');\n",
       "        button.click(method_name, toolbar_event);\n",
       "        button.mouseover(tooltip, toolbar_mouse_event);\n",
       "\n",
       "        var icon_img = $('<span/>');\n",
       "        icon_img.addClass('ui-button-icon-primary ui-icon');\n",
       "        icon_img.addClass(image);\n",
       "        icon_img.addClass('ui-corner-all');\n",
       "\n",
       "        var tooltip_span = $('<span/>');\n",
       "        tooltip_span.addClass('ui-button-text');\n",
       "        tooltip_span.html(tooltip);\n",
       "\n",
       "        button.append(icon_img);\n",
       "        button.append(tooltip_span);\n",
       "\n",
       "        nav_element.append(button);\n",
       "    }\n",
       "\n",
       "    var fmt_picker_span = $('<span/>');\n",
       "\n",
       "    var fmt_picker = $('<select/>');\n",
       "    fmt_picker.addClass('mpl-toolbar-option ui-widget ui-widget-content');\n",
       "    fmt_picker_span.append(fmt_picker);\n",
       "    nav_element.append(fmt_picker_span);\n",
       "    this.format_dropdown = fmt_picker[0];\n",
       "\n",
       "    for (var ind in mpl.extensions) {\n",
       "        var fmt = mpl.extensions[ind];\n",
       "        var option = $(\n",
       "            '<option/>', {selected: fmt === mpl.default_extension}).html(fmt);\n",
       "        fmt_picker.append(option);\n",
       "    }\n",
       "\n",
       "    // Add hover states to the ui-buttons\n",
       "    $( \".ui-button\" ).hover(\n",
       "        function() { $(this).addClass(\"ui-state-hover\");},\n",
       "        function() { $(this).removeClass(\"ui-state-hover\");}\n",
       "    );\n",
       "\n",
       "    var status_bar = $('<span class=\"mpl-message\"/>');\n",
       "    nav_element.append(status_bar);\n",
       "    this.message = status_bar[0];\n",
       "}\n",
       "\n",
       "mpl.figure.prototype.request_resize = function(x_pixels, y_pixels) {\n",
       "    // Request matplotlib to resize the figure. Matplotlib will then trigger a resize in the client,\n",
       "    // which will in turn request a refresh of the image.\n",
       "    this.send_message('resize', {'width': x_pixels, 'height': y_pixels});\n",
       "}\n",
       "\n",
       "mpl.figure.prototype.send_message = function(type, properties) {\n",
       "    properties['type'] = type;\n",
       "    properties['figure_id'] = this.id;\n",
       "    this.ws.send(JSON.stringify(properties));\n",
       "}\n",
       "\n",
       "mpl.figure.prototype.send_draw_message = function() {\n",
       "    if (!this.waiting) {\n",
       "        this.waiting = true;\n",
       "        this.ws.send(JSON.stringify({type: \"draw\", figure_id: this.id}));\n",
       "    }\n",
       "}\n",
       "\n",
       "\n",
       "mpl.figure.prototype.handle_save = function(fig, msg) {\n",
       "    var format_dropdown = fig.format_dropdown;\n",
       "    var format = format_dropdown.options[format_dropdown.selectedIndex].value;\n",
       "    fig.ondownload(fig, format);\n",
       "}\n",
       "\n",
       "\n",
       "mpl.figure.prototype.handle_resize = function(fig, msg) {\n",
       "    var size = msg['size'];\n",
       "    if (size[0] != fig.canvas.width || size[1] != fig.canvas.height) {\n",
       "        fig._resize_canvas(size[0], size[1]);\n",
       "        fig.send_message(\"refresh\", {});\n",
       "    };\n",
       "}\n",
       "\n",
       "mpl.figure.prototype.handle_rubberband = function(fig, msg) {\n",
       "    var x0 = msg['x0'] / mpl.ratio;\n",
       "    var y0 = (fig.canvas.height - msg['y0']) / mpl.ratio;\n",
       "    var x1 = msg['x1'] / mpl.ratio;\n",
       "    var y1 = (fig.canvas.height - msg['y1']) / mpl.ratio;\n",
       "    x0 = Math.floor(x0) + 0.5;\n",
       "    y0 = Math.floor(y0) + 0.5;\n",
       "    x1 = Math.floor(x1) + 0.5;\n",
       "    y1 = Math.floor(y1) + 0.5;\n",
       "    var min_x = Math.min(x0, x1);\n",
       "    var min_y = Math.min(y0, y1);\n",
       "    var width = Math.abs(x1 - x0);\n",
       "    var height = Math.abs(y1 - y0);\n",
       "\n",
       "    fig.rubberband_context.clearRect(\n",
       "        0, 0, fig.canvas.width / mpl.ratio, fig.canvas.height / mpl.ratio);\n",
       "\n",
       "    fig.rubberband_context.strokeRect(min_x, min_y, width, height);\n",
       "}\n",
       "\n",
       "mpl.figure.prototype.handle_figure_label = function(fig, msg) {\n",
       "    // Updates the figure title.\n",
       "    fig.header.textContent = msg['label'];\n",
       "}\n",
       "\n",
       "mpl.figure.prototype.handle_cursor = function(fig, msg) {\n",
       "    var cursor = msg['cursor'];\n",
       "    switch(cursor)\n",
       "    {\n",
       "    case 0:\n",
       "        cursor = 'pointer';\n",
       "        break;\n",
       "    case 1:\n",
       "        cursor = 'default';\n",
       "        break;\n",
       "    case 2:\n",
       "        cursor = 'crosshair';\n",
       "        break;\n",
       "    case 3:\n",
       "        cursor = 'move';\n",
       "        break;\n",
       "    }\n",
       "    fig.rubberband_canvas.style.cursor = cursor;\n",
       "}\n",
       "\n",
       "mpl.figure.prototype.handle_message = function(fig, msg) {\n",
       "    fig.message.textContent = msg['message'];\n",
       "}\n",
       "\n",
       "mpl.figure.prototype.handle_draw = function(fig, msg) {\n",
       "    // Request the server to send over a new figure.\n",
       "    fig.send_draw_message();\n",
       "}\n",
       "\n",
       "mpl.figure.prototype.handle_image_mode = function(fig, msg) {\n",
       "    fig.image_mode = msg['mode'];\n",
       "}\n",
       "\n",
       "mpl.figure.prototype.updated_canvas_event = function() {\n",
       "    // Called whenever the canvas gets updated.\n",
       "    this.send_message(\"ack\", {});\n",
       "}\n",
       "\n",
       "// A function to construct a web socket function for onmessage handling.\n",
       "// Called in the figure constructor.\n",
       "mpl.figure.prototype._make_on_message_function = function(fig) {\n",
       "    return function socket_on_message(evt) {\n",
       "        if (evt.data instanceof Blob) {\n",
       "            /* FIXME: We get \"Resource interpreted as Image but\n",
       "             * transferred with MIME type text/plain:\" errors on\n",
       "             * Chrome.  But how to set the MIME type?  It doesn't seem\n",
       "             * to be part of the websocket stream */\n",
       "            evt.data.type = \"image/png\";\n",
       "\n",
       "            /* Free the memory for the previous frames */\n",
       "            if (fig.imageObj.src) {\n",
       "                (window.URL || window.webkitURL).revokeObjectURL(\n",
       "                    fig.imageObj.src);\n",
       "            }\n",
       "\n",
       "            fig.imageObj.src = (window.URL || window.webkitURL).createObjectURL(\n",
       "                evt.data);\n",
       "            fig.updated_canvas_event();\n",
       "            fig.waiting = false;\n",
       "            return;\n",
       "        }\n",
       "        else if (typeof evt.data === 'string' && evt.data.slice(0, 21) == \"data:image/png;base64\") {\n",
       "            fig.imageObj.src = evt.data;\n",
       "            fig.updated_canvas_event();\n",
       "            fig.waiting = false;\n",
       "            return;\n",
       "        }\n",
       "\n",
       "        var msg = JSON.parse(evt.data);\n",
       "        var msg_type = msg['type'];\n",
       "\n",
       "        // Call the  \"handle_{type}\" callback, which takes\n",
       "        // the figure and JSON message as its only arguments.\n",
       "        try {\n",
       "            var callback = fig[\"handle_\" + msg_type];\n",
       "        } catch (e) {\n",
       "            console.log(\"No handler for the '\" + msg_type + \"' message type: \", msg);\n",
       "            return;\n",
       "        }\n",
       "\n",
       "        if (callback) {\n",
       "            try {\n",
       "                // console.log(\"Handling '\" + msg_type + \"' message: \", msg);\n",
       "                callback(fig, msg);\n",
       "            } catch (e) {\n",
       "                console.log(\"Exception inside the 'handler_\" + msg_type + \"' callback:\", e, e.stack, msg);\n",
       "            }\n",
       "        }\n",
       "    };\n",
       "}\n",
       "\n",
       "// from http://stackoverflow.com/questions/1114465/getting-mouse-location-in-canvas\n",
       "mpl.findpos = function(e) {\n",
       "    //this section is from http://www.quirksmode.org/js/events_properties.html\n",
       "    var targ;\n",
       "    if (!e)\n",
       "        e = window.event;\n",
       "    if (e.target)\n",
       "        targ = e.target;\n",
       "    else if (e.srcElement)\n",
       "        targ = e.srcElement;\n",
       "    if (targ.nodeType == 3) // defeat Safari bug\n",
       "        targ = targ.parentNode;\n",
       "\n",
       "    // jQuery normalizes the pageX and pageY\n",
       "    // pageX,Y are the mouse positions relative to the document\n",
       "    // offset() returns the position of the element relative to the document\n",
       "    var x = e.pageX - $(targ).offset().left;\n",
       "    var y = e.pageY - $(targ).offset().top;\n",
       "\n",
       "    return {\"x\": x, \"y\": y};\n",
       "};\n",
       "\n",
       "/*\n",
       " * return a copy of an object with only non-object keys\n",
       " * we need this to avoid circular references\n",
       " * http://stackoverflow.com/a/24161582/3208463\n",
       " */\n",
       "function simpleKeys (original) {\n",
       "  return Object.keys(original).reduce(function (obj, key) {\n",
       "    if (typeof original[key] !== 'object')\n",
       "        obj[key] = original[key]\n",
       "    return obj;\n",
       "  }, {});\n",
       "}\n",
       "\n",
       "mpl.figure.prototype.mouse_event = function(event, name) {\n",
       "    var canvas_pos = mpl.findpos(event)\n",
       "\n",
       "    if (name === 'button_press')\n",
       "    {\n",
       "        this.canvas.focus();\n",
       "        this.canvas_div.focus();\n",
       "    }\n",
       "\n",
       "    var x = canvas_pos.x * mpl.ratio;\n",
       "    var y = canvas_pos.y * mpl.ratio;\n",
       "\n",
       "    this.send_message(name, {x: x, y: y, button: event.button,\n",
       "                             step: event.step,\n",
       "                             guiEvent: simpleKeys(event)});\n",
       "\n",
       "    /* This prevents the web browser from automatically changing to\n",
       "     * the text insertion cursor when the button is pressed.  We want\n",
       "     * to control all of the cursor setting manually through the\n",
       "     * 'cursor' event from matplotlib */\n",
       "    event.preventDefault();\n",
       "    return false;\n",
       "}\n",
       "\n",
       "mpl.figure.prototype._key_event_extra = function(event, name) {\n",
       "    // Handle any extra behaviour associated with a key event\n",
       "}\n",
       "\n",
       "mpl.figure.prototype.key_event = function(event, name) {\n",
       "\n",
       "    // Prevent repeat events\n",
       "    if (name == 'key_press')\n",
       "    {\n",
       "        if (event.which === this._key)\n",
       "            return;\n",
       "        else\n",
       "            this._key = event.which;\n",
       "    }\n",
       "    if (name == 'key_release')\n",
       "        this._key = null;\n",
       "\n",
       "    var value = '';\n",
       "    if (event.ctrlKey && event.which != 17)\n",
       "        value += \"ctrl+\";\n",
       "    if (event.altKey && event.which != 18)\n",
       "        value += \"alt+\";\n",
       "    if (event.shiftKey && event.which != 16)\n",
       "        value += \"shift+\";\n",
       "\n",
       "    value += 'k';\n",
       "    value += event.which.toString();\n",
       "\n",
       "    this._key_event_extra(event, name);\n",
       "\n",
       "    this.send_message(name, {key: value,\n",
       "                             guiEvent: simpleKeys(event)});\n",
       "    return false;\n",
       "}\n",
       "\n",
       "mpl.figure.prototype.toolbar_button_onclick = function(name) {\n",
       "    if (name == 'download') {\n",
       "        this.handle_save(this, null);\n",
       "    } else {\n",
       "        this.send_message(\"toolbar_button\", {name: name});\n",
       "    }\n",
       "};\n",
       "\n",
       "mpl.figure.prototype.toolbar_button_onmouseover = function(tooltip) {\n",
       "    this.message.textContent = tooltip;\n",
       "};\n",
       "mpl.toolbar_items = [[\"Home\", \"Reset original view\", \"fa fa-home icon-home\", \"home\"], [\"Back\", \"Back to previous view\", \"fa fa-arrow-left icon-arrow-left\", \"back\"], [\"Forward\", \"Forward to next view\", \"fa fa-arrow-right icon-arrow-right\", \"forward\"], [\"\", \"\", \"\", \"\"], [\"Pan\", \"Pan axes with left mouse, zoom with right\", \"fa fa-arrows icon-move\", \"pan\"], [\"Zoom\", \"Zoom to rectangle\", \"fa fa-square-o icon-check-empty\", \"zoom\"], [\"\", \"\", \"\", \"\"], [\"Download\", \"Download plot\", \"fa fa-floppy-o icon-save\", \"download\"]];\n",
       "\n",
       "mpl.extensions = [\"eps\", \"jpeg\", \"pdf\", \"png\", \"ps\", \"raw\", \"svg\", \"tif\"];\n",
       "\n",
       "mpl.default_extension = \"png\";var comm_websocket_adapter = function(comm) {\n",
       "    // Create a \"websocket\"-like object which calls the given IPython comm\n",
       "    // object with the appropriate methods. Currently this is a non binary\n",
       "    // socket, so there is still some room for performance tuning.\n",
       "    var ws = {};\n",
       "\n",
       "    ws.close = function() {\n",
       "        comm.close()\n",
       "    };\n",
       "    ws.send = function(m) {\n",
       "        //console.log('sending', m);\n",
       "        comm.send(m);\n",
       "    };\n",
       "    // Register the callback with on_msg.\n",
       "    comm.on_msg(function(msg) {\n",
       "        //console.log('receiving', msg['content']['data'], msg);\n",
       "        // Pass the mpl event to the overridden (by mpl) onmessage function.\n",
       "        ws.onmessage(msg['content']['data'])\n",
       "    });\n",
       "    return ws;\n",
       "}\n",
       "\n",
       "mpl.mpl_figure_comm = function(comm, msg) {\n",
       "    // This is the function which gets called when the mpl process\n",
       "    // starts-up an IPython Comm through the \"matplotlib\" channel.\n",
       "\n",
       "    var id = msg.content.data.id;\n",
       "    // Get hold of the div created by the display call when the Comm\n",
       "    // socket was opened in Python.\n",
       "    var element = $(\"#\" + id);\n",
       "    var ws_proxy = comm_websocket_adapter(comm)\n",
       "\n",
       "    function ondownload(figure, format) {\n",
       "        window.open(figure.imageObj.src);\n",
       "    }\n",
       "\n",
       "    var fig = new mpl.figure(id, ws_proxy,\n",
       "                           ondownload,\n",
       "                           element.get(0));\n",
       "\n",
       "    // Call onopen now - mpl needs it, as it is assuming we've passed it a real\n",
       "    // web socket which is closed, not our websocket->open comm proxy.\n",
       "    ws_proxy.onopen();\n",
       "\n",
       "    fig.parent_element = element.get(0);\n",
       "    fig.cell_info = mpl.find_output_cell(\"<div id='\" + id + \"'></div>\");\n",
       "    if (!fig.cell_info) {\n",
       "        console.error(\"Failed to find cell for figure\", id, fig);\n",
       "        return;\n",
       "    }\n",
       "\n",
       "    var output_index = fig.cell_info[2]\n",
       "    var cell = fig.cell_info[0];\n",
       "\n",
       "};\n",
       "\n",
       "mpl.figure.prototype.handle_close = function(fig, msg) {\n",
       "    var width = fig.canvas.width/mpl.ratio\n",
       "    fig.root.unbind('remove')\n",
       "\n",
       "    // Update the output cell to use the data from the current canvas.\n",
       "    fig.push_to_output();\n",
       "    var dataURL = fig.canvas.toDataURL();\n",
       "    // Re-enable the keyboard manager in IPython - without this line, in FF,\n",
       "    // the notebook keyboard shortcuts fail.\n",
       "    IPython.keyboard_manager.enable()\n",
       "    $(fig.parent_element).html('<img src=\"' + dataURL + '\" width=\"' + width + '\">');\n",
       "    fig.close_ws(fig, msg);\n",
       "}\n",
       "\n",
       "mpl.figure.prototype.close_ws = function(fig, msg){\n",
       "    fig.send_message('closing', msg);\n",
       "    // fig.ws.close()\n",
       "}\n",
       "\n",
       "mpl.figure.prototype.push_to_output = function(remove_interactive) {\n",
       "    // Turn the data on the canvas into data in the output cell.\n",
       "    var width = this.canvas.width/mpl.ratio\n",
       "    var dataURL = this.canvas.toDataURL();\n",
       "    this.cell_info[1]['text/html'] = '<img src=\"' + dataURL + '\" width=\"' + width + '\">';\n",
       "}\n",
       "\n",
       "mpl.figure.prototype.updated_canvas_event = function() {\n",
       "    // Tell IPython that the notebook contents must change.\n",
       "    IPython.notebook.set_dirty(true);\n",
       "    this.send_message(\"ack\", {});\n",
       "    var fig = this;\n",
       "    // Wait a second, then push the new image to the DOM so\n",
       "    // that it is saved nicely (might be nice to debounce this).\n",
       "    setTimeout(function () { fig.push_to_output() }, 1000);\n",
       "}\n",
       "\n",
       "mpl.figure.prototype._init_toolbar = function() {\n",
       "    var fig = this;\n",
       "\n",
       "    var nav_element = $('<div/>');\n",
       "    nav_element.attr('style', 'width: 100%');\n",
       "    this.root.append(nav_element);\n",
       "\n",
       "    // Define a callback function for later on.\n",
       "    function toolbar_event(event) {\n",
       "        return fig.toolbar_button_onclick(event['data']);\n",
       "    }\n",
       "    function toolbar_mouse_event(event) {\n",
       "        return fig.toolbar_button_onmouseover(event['data']);\n",
       "    }\n",
       "\n",
       "    for(var toolbar_ind in mpl.toolbar_items){\n",
       "        var name = mpl.toolbar_items[toolbar_ind][0];\n",
       "        var tooltip = mpl.toolbar_items[toolbar_ind][1];\n",
       "        var image = mpl.toolbar_items[toolbar_ind][2];\n",
       "        var method_name = mpl.toolbar_items[toolbar_ind][3];\n",
       "\n",
       "        if (!name) { continue; };\n",
       "\n",
       "        var button = $('<button class=\"btn btn-default\" href=\"#\" title=\"' + name + '\"><i class=\"fa ' + image + ' fa-lg\"></i></button>');\n",
       "        button.click(method_name, toolbar_event);\n",
       "        button.mouseover(tooltip, toolbar_mouse_event);\n",
       "        nav_element.append(button);\n",
       "    }\n",
       "\n",
       "    // Add the status bar.\n",
       "    var status_bar = $('<span class=\"mpl-message\" style=\"text-align:right; float: right;\"/>');\n",
       "    nav_element.append(status_bar);\n",
       "    this.message = status_bar[0];\n",
       "\n",
       "    // Add the close button to the window.\n",
       "    var buttongrp = $('<div class=\"btn-group inline pull-right\"></div>');\n",
       "    var button = $('<button class=\"btn btn-mini btn-primary\" href=\"#\" title=\"Stop Interaction\"><i class=\"fa fa-power-off icon-remove icon-large\"></i></button>');\n",
       "    button.click(function (evt) { fig.handle_close(fig, {}); } );\n",
       "    button.mouseover('Stop Interaction', toolbar_mouse_event);\n",
       "    buttongrp.append(button);\n",
       "    var titlebar = this.root.find($('.ui-dialog-titlebar'));\n",
       "    titlebar.prepend(buttongrp);\n",
       "}\n",
       "\n",
       "mpl.figure.prototype._root_extra_style = function(el){\n",
       "    var fig = this\n",
       "    el.on(\"remove\", function(){\n",
       "\tfig.close_ws(fig, {});\n",
       "    });\n",
       "}\n",
       "\n",
       "mpl.figure.prototype._canvas_extra_style = function(el){\n",
       "    // this is important to make the div 'focusable\n",
       "    el.attr('tabindex', 0)\n",
       "    // reach out to IPython and tell the keyboard manager to turn it's self\n",
       "    // off when our div gets focus\n",
       "\n",
       "    // location in version 3\n",
       "    if (IPython.notebook.keyboard_manager) {\n",
       "        IPython.notebook.keyboard_manager.register_events(el);\n",
       "    }\n",
       "    else {\n",
       "        // location in version 2\n",
       "        IPython.keyboard_manager.register_events(el);\n",
       "    }\n",
       "\n",
       "}\n",
       "\n",
       "mpl.figure.prototype._key_event_extra = function(event, name) {\n",
       "    var manager = IPython.notebook.keyboard_manager;\n",
       "    if (!manager)\n",
       "        manager = IPython.keyboard_manager;\n",
       "\n",
       "    // Check for shift+enter\n",
       "    if (event.shiftKey && event.which == 13) {\n",
       "        this.canvas_div.blur();\n",
       "        event.shiftKey = false;\n",
       "        // Send a \"J\" for go to next cell\n",
       "        event.which = 74;\n",
       "        event.keyCode = 74;\n",
       "        manager.command_mode();\n",
       "        manager.handle_keydown(event);\n",
       "    }\n",
       "}\n",
       "\n",
       "mpl.figure.prototype.handle_save = function(fig, msg) {\n",
       "    fig.ondownload(fig, null);\n",
       "}\n",
       "\n",
       "\n",
       "mpl.find_output_cell = function(html_output) {\n",
       "    // Return the cell and output element which can be found *uniquely* in the notebook.\n",
       "    // Note - this is a bit hacky, but it is done because the \"notebook_saving.Notebook\"\n",
       "    // IPython event is triggered only after the cells have been serialised, which for\n",
       "    // our purposes (turning an active figure into a static one), is too late.\n",
       "    var cells = IPython.notebook.get_cells();\n",
       "    var ncells = cells.length;\n",
       "    for (var i=0; i<ncells; i++) {\n",
       "        var cell = cells[i];\n",
       "        if (cell.cell_type === 'code'){\n",
       "            for (var j=0; j<cell.output_area.outputs.length; j++) {\n",
       "                var data = cell.output_area.outputs[j];\n",
       "                if (data.data) {\n",
       "                    // IPython >= 3 moved mimebundle to data attribute of output\n",
       "                    data = data.data;\n",
       "                }\n",
       "                if (data['text/html'] == html_output) {\n",
       "                    return [cell, data, j];\n",
       "                }\n",
       "            }\n",
       "        }\n",
       "    }\n",
       "}\n",
       "\n",
       "// Register the function which deals with the matplotlib target/channel.\n",
       "// The kernel may be null if the page has been refreshed.\n",
       "if (IPython.notebook.kernel != null) {\n",
       "    IPython.notebook.kernel.comm_manager.register_target('matplotlib', mpl.mpl_figure_comm);\n",
       "}\n"
      ],
      "text/plain": [
       "<IPython.core.display.Javascript object>"
      ]
     },
     "metadata": {},
     "output_type": "display_data"
    },
    {
     "data": {
      "text/html": [
       "<img src=\"data:image/png;base64,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\" width=\"640\">"
      ],
      "text/plain": [
       "<IPython.core.display.HTML object>"
      ]
     },
     "metadata": {},
     "output_type": "display_data"
    }
   ],
   "source": [
    "plot_ncuerpos_3d(rs,vs,marker='.')"
   ]
  },
  {
   "cell_type": "markdown",
   "metadata": {},
   "source": [
    "<a id='fig:06.03.00.00.ProblemaNCuerpos.SolucionNumerica.ConstantesMovimiento_31'></a><center><b>Figura 6.31.</b> </center>"
   ]
  },
  {
   "cell_type": "markdown",
   "metadata": {},
   "source": [
    "Ahora podemos calcular las constantes de movimiento.  En este caso, sin embargo, la dificultad algorítmica estriba en que las posiciones y velocidades de las partículas están guardadas en las matrices `rs` y `vs` que no son triviales de manipular.  \n",
    "\n",
    "Así, por ejemplo el momento lineal inicial de la partícula 0 esta dado por:"
   ]
  },
  {
   "cell_type": "code",
   "execution_count": 32,
   "metadata": {
    "codelabel": "",
    "codeplot": 0
   },
   "outputs": [],
   "source": [
    "p_0_0=mus[0]*vs[0,0,:]"
   ]
  },
  {
   "cell_type": "code",
   "execution_count": 33,
   "metadata": {
    "codelabel": "",
    "codeplot": 0,
    "tags": [
     "hide_input"
    ]
   },
   "outputs": [
    {
     "name": "stdout",
     "output_type": "stream",
     "text": [
      "p_0_0 = [0.07294912 0.00587511 0.000171  ]\n"
     ]
    }
   ],
   "source": [
    "print(f\"p_0_0 = {p_0_0}\")"
   ]
  },
  {
   "cell_type": "markdown",
   "metadata": {},
   "source": [
    "Pero si queremos el momento lineal de esa partícula en cualquier tiempo será:"
   ]
  },
  {
   "cell_type": "code",
   "execution_count": 41,
   "metadata": {
    "codelabel": "",
    "codeplot": 0
   },
   "outputs": [],
   "source": [
    "p_0=mus[0]*vs[0,:,:]"
   ]
  },
  {
   "cell_type": "code",
   "execution_count": 42,
   "metadata": {
    "codelabel": "",
    "codeplot": 0,
    "tags": [
     "hide_input"
    ]
   },
   "outputs": [
    {
     "name": "stdout",
     "output_type": "stream",
     "text": [
      "p_0(t) = \n",
      "[[ 0.07294912  0.00587511  0.000171  ]\n",
      " [ 0.0653799   0.00154574 -0.00381787]\n",
      " [ 0.05898078 -0.00240643 -0.0070324 ]\n",
      " [ 0.05337202 -0.00601935 -0.00963238]\n",
      " [ 0.04832467 -0.00932501 -0.0117392 ]]\n",
      "...\n"
     ]
    }
   ],
   "source": [
    "print(f\"p_0(t) = \\n{p_0[:5]}\\n...\")"
   ]
  },
  {
   "cell_type": "markdown",
   "metadata": {},
   "source": [
    "La cuadratura de momento lineal total $C_{P_\\mathrm{CM}}$ la podemos obtener si sumamos uno a uno los momentos lineales en cada tiempo de todas las partículas del sistema:"
   ]
  },
  {
   "cell_type": "code",
   "execution_count": 43,
   "metadata": {
    "codelabel": "",
    "codeplot": 0
   },
   "outputs": [],
   "source": [
    "from numpy import zeros\n",
    "C_PCM=zeros((Nt,3))\n",
    "for i in range(N):\n",
    "    C_PCM=C_PCM+mus[i]*vs[i,:,:]"
   ]
  },
  {
   "cell_type": "code",
   "execution_count": 44,
   "metadata": {
    "codelabel": "",
    "codeplot": 0,
    "scrolled": true,
    "tags": [
     "hide_input"
    ]
   },
   "outputs": [
    {
     "name": "stdout",
     "output_type": "stream",
     "text": [
      "C_PCM = \n",
      "[[-0.50260689 -0.27082582  0.29196827]\n",
      " [-0.50260689 -0.27082582  0.29196827]\n",
      " [-0.50260689 -0.27082582  0.29196827]\n",
      " [-0.50260689 -0.27082582  0.29196827]\n",
      " [-0.50260689 -0.27082582  0.29196827]]\n",
      "...\n"
     ]
    }
   ],
   "source": [
    "print(f\"C_PCM = \\n{C_PCM[:5]}\\n...\")"
   ]
  },
  {
   "cell_type": "markdown",
   "metadata": {},
   "source": [
    "Y como vemos el valor del momento lineal es el mismo, que es lo que esperabamos de acuerdo con la teoría.  \n",
    "\n",
    "Por otro lado la cuadratura de momento angular será:"
   ]
  },
  {
   "cell_type": "code",
   "execution_count": 47,
   "metadata": {
    "codelabel": "",
    "codeplot": 0
   },
   "outputs": [],
   "source": [
    "from numpy import zeros,cross\n",
    "C_L=zeros((Nt,3))\n",
    "for i in range(N):\n",
    "    C_L=C_L+mus[i]*cross(rs[i,:,:],vs[i,:,:])"
   ]
  },
  {
   "cell_type": "code",
   "execution_count": 48,
   "metadata": {
    "codelabel": "",
    "codeplot": 0,
    "scrolled": false,
    "tags": [
     "hide_input"
    ]
   },
   "outputs": [
    {
     "name": "stdout",
     "output_type": "stream",
     "text": [
      "C_PCM = \n",
      "[[ 0.05919488 -0.37417055 -0.11685289]\n",
      " [ 0.05919488 -0.37417055 -0.11685289]\n",
      " [ 0.05919488 -0.37417055 -0.11685289]\n",
      " [ 0.05919488 -0.37417055 -0.11685289]\n",
      " [ 0.05919488 -0.37417055 -0.11685288]]\n",
      "...\n"
     ]
    }
   ],
   "source": [
    "print(f\"C_PCM = \\n{C_L[:5]}\\n...\")"
   ]
  },
  {
   "cell_type": "markdown",
   "metadata": {},
   "source": [
    "Que de nuevo resulta constante como esperabamos.\n",
    "\n",
    "Finalmente la cuadratura de energía se puede calcular usando la fórmula para la energía potencial la dada por la Ec. ([ncuerpos_potencial](#mjx-eqn-eq%3Ancuerpos_potencial)):"
   ]
  },
  {
   "cell_type": "code",
   "execution_count": 49,
   "metadata": {
    "codelabel": "",
    "codeplot": 0
   },
   "outputs": [],
   "source": [
    "from numpy import zeros\n",
    "from numpy.linalg import norm\n",
    "\n",
    "C_E=zeros(Nt)\n",
    "K=zeros(Nt)\n",
    "U=zeros(Nt)\n",
    "for i in range(N):\n",
    "    K=K+0.5*mus[i]*norm(vs[i,:,:],axis=1)**2\n",
    "    for j in range(N):\n",
    "        if i==j:continue\n",
    "        rij=norm(rs[i,:,:]-rs[j,:,:],axis=1)\n",
    "        U+=-0.5*mus[i]*mus[j]/rij\n",
    "C_E=K+U"
   ]
  },
  {
   "cell_type": "code",
   "execution_count": 50,
   "metadata": {
    "codelabel": "",
    "codeplot": 0,
    "scrolled": false,
    "tags": [
     "hide_input"
    ]
   },
   "outputs": [
    {
     "name": "stdout",
     "output_type": "stream",
     "text": [
      "C_E = \n",
      "[-0.53641214 -0.53641214 -0.53641214 -0.53641214 -0.53641214]\n",
      "...\n"
     ]
    }
   ],
   "source": [
    "print(f\"C_E = \\n{C_E[:5]}\\n...\")"
   ]
  },
  {
   "cell_type": "markdown",
   "metadata": {},
   "source": [
    "Como vemos el valor de la energía es negativo, lo que podría implicar que el sistema es ligado (tal y como sugieren las trayectorias de las partículas.)  Sin embargo, como mencionamos en la [Sección *Virial*](06.03.00.00.ProblemaNCuerpos.TeoremaVirial.ipynb#virial) la condición $E<0$ es necesaria más no suficiente.  Para saber si el sistema es ligado debemos evaluar los promedios a largo plazo de las energía cinética y potencial y compararlas con la energía total:"
   ]
  },
  {
   "cell_type": "code",
   "execution_count": 51,
   "metadata": {
    "codelabel": "",
    "codeplot": 0
   },
   "outputs": [],
   "source": [
    "E=C_E[0]\n",
    "Kmean=K.mean()\n",
    "Umean=U.mean()"
   ]
  },
  {
   "cell_type": "code",
   "execution_count": 52,
   "metadata": {
    "codelabel": "",
    "codeplot": 0
   },
   "outputs": [
    {
     "name": "stdout",
     "output_type": "stream",
     "text": [
      "-E = 0.5364121422571039\n",
      "<K> = 0.5201023115823993\n",
      "-<U>/2 = 0.5282572686928928\n"
     ]
    }
   ],
   "source": [
    "print(f\"-E = {-E}\")\n",
    "print(f\"<K> = {Kmean}\")\n",
    "print(f\"-<U>/2 = {-Umean/2}\")\n"
   ]
  },
  {
   "cell_type": "markdown",
   "metadata": {},
   "source": [
    "Como vemos la identidad $\\langle K\\rangle=-E=-\\langle U\\rangle/2$ se cumple aproximadamente para la ventana de tiempo en la que estudiamos el sistema y podríamos sospechar que es estable."
   ]
  },
  {
   "cell_type": "markdown",
   "metadata": {
    "tags": [
     "hide_pdf",
     "hide_html"
    ]
   },
   "source": [
    "El lector puede escoger otro valor de la semilla en el Alg. ([ncuerpos_constantes_condiciones_iniciales](#code:ncuerpos_constantes_condiciones_iniciales)) y correr nuevamente esta libreta para ver si el sistema resultante es ligado o no.  También puede cambiar el valor del tiempo de integración para verificar si la supuesta estabilidad se mantiene a largo plazo."
   ]
  }
 ],
 "metadata": {
  "celltoolbar": "Tags",
  "kernelspec": {
   "display_name": "Python 3",
   "language": "python",
   "name": "python3"
  },
  "language_info": {
   "codemirror_mode": {
    "name": "ipython",
    "version": 3
   },
   "file_extension": ".py",
   "mimetype": "text/x-python",
   "name": "python",
   "nbconvert_exporter": "python",
   "pygments_lexer": "ipython3",
   "version": "3.6.8"
  }
 },
 "nbformat": 4,
 "nbformat_minor": 2
}
