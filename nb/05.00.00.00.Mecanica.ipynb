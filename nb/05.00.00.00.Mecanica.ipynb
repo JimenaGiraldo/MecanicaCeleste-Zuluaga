{
 "cells": [
  {
   "cell_type": "markdown",
   "metadata": {
    "tags": [
     "navigation"
    ]
   },
   "source": [
    "[Indice](index.ipynb) | Previo: [Fundamentos.Calculo.CalculoVariacional](04.01.04.00.Fundamentos.Calculo.CalculoVariacional.ipynb) | Siguiente: [Mecanica.Cinematica.Cantidades](05.01.01.00.Mecanica.Cinematica.Cantidades.ipynb)"
   ]
  },
  {
   "cell_type": "markdown",
   "metadata": {
    "slideshow": {
     "slide_type": "slide"
    }
   },
   "source": [
    "# 5. Mecánica de partículas\n",
    "<a id='mecanica'></a>"
   ]
  },
  {
   "cell_type": "markdown",
   "metadata": {
    "label": "",
    "subtitle": "",
    "tags": [
     "box_summary"
    ],
    "title": "Resumen"
   },
   "source": [
    "> **:Resumen:** En este capítulo presentaremos una síntesis moderna de los principios y leyes de la mecánica, especialmente la mecánica prerrelativistica o newtoniana, sobre los que se fundamenta la mecánica celeste y la mecánica analítica que desarrollaremos en los siguientes capítulos.  Nos concentraremos aquí en la mecánica de partículas puntuales y sistemas de partículas interactuantes.  Dividiremos la mecánica en cinemática, la descripción del movimiento y dinámica, el estudio de sus causas. Hacia el final presentaremos algunos elementos de mecánica relativística (principalmente cinemática) que serán de utilidad en la mecánica celeste postnewtoniana.  "
   ]
  },
  {
   "cell_type": "markdown",
   "metadata": {
    "slideshow": {
     "slide_type": "fragment"
    }
   },
   "source": [
    "Conocemos con el nombre de **mecánica** al conjunto de definiciones, principios y leyes físicas que permiten describir el movimiento de los cuerpos materiales (cinemática) y la relación con los agentes que los producen y perturban (dinámica).\n",
    "\n",
    "La mecánica se ha desarrollado históricamente durante dos períodos.  El primero período esta comprendido entre la publicación de los *hilosophiae Naturalis Principia Mathematica* por Sir Isaac Newton <cite data-cite=\"Newton1780Principia\"><a href=\"mybook.html#Newton1780Principia\">(Newton & Halley, 1780)</a></cite> y los artículos fundamentales de la teoría de la relatividad de 1905. A la mecánica de este período la llamaremos **mecánica prerrelativistica** o **mecánica newtoniana**.  El segundo período cubre el tiempo entre 1905 y el presente.  A la mecánica que se desarrollo después de los trabajos originales de Einstein la llamaremos **mecánica relativística** e incluye las teorías especial (mecánica en espacio-tiempo plano) y general de la relatividad (gravitación moderna.) \n",
    "\n",
    "El adjetivo newtoniano, que usaremos a lo largo de este capítulo, no significa que las cantidades, principios y leyes que formularemos aquí fueron todas inventadas por Newton. Por un lado, además de sus ideas originales, Newton también compiló y sistematizo ideas que ya existían en su época; por el otro, mucha de sus ideas fueron también ampliadas durante casi 200 años después de la publicación de sus obras. \n",
    "\n",
    "Lo *newtoniano* se refiere aquí al hecho de que en la definición de las cantidades básicas y en la formulación de las leyes, asumiremos, como lo hizo Newton en los *Principia* y lo hicieron sus sucesores hasta principios de los 1900, que: (1) el espacio y el tiempo son entidades independientes y no son afectadas por la materia y (2) la gravedad es una fuerza de acción instantánea a distancia.  \n",
    "\n",
    "Aunque hoy nos parezca increíble, casi toda la mecánica celeste de los últimos 350 años se ha formulado sobre la base de estos principios que hoy sabemos no describen la realidad fundamental del Universo.\n",
    "\n",
    "La mecánica es una teoría muy amplia que se usa para describir no solo el movimiento de cuerpos o partículas individuales, sino también el movimiento, rotación y deformación de cuerpos materiales continuos (cuerpos rígidos y fluídos.)  En este capítulo (y en lo que resta del libro) nos concentraremos, sin embargo, en la mecánica de partículas o sistemas de partículas (nubes de partículas que interactúan debilmente y a distancia entre ellas.)\n",
    "\n",
    "Antes de proceder a formular los principios (axiomas) y postulados (leyes) en los que se fundamenta la mecánica newtoniana, es necesario definir primero, las cantidades físicas que requerimos en esta tarea.  Definir estas cantidades en todo rigor, no solo es un ejercicio intelectual indispensable en la formulación de una teoría, sino, como veremos, puede ser la fuente misma de algunas ideas claves."
   ]
  },
  {
   "cell_type": "markdown",
   "metadata": {
    "tags": [
     "navigation"
    ]
   },
   "source": [
    "[Indice](index.ipynb) | Previo: [Fundamentos.Calculo.CalculoVariacional](04.01.04.00.Fundamentos.Calculo.CalculoVariacional.ipynb) | Siguiente: [Mecanica.Cinematica.Cantidades](05.01.01.00.Mecanica.Cinematica.Cantidades.ipynb)"
   ]
  }
 ],
 "metadata": {
  "celltoolbar": "Tags",
  "kernelspec": {
   "display_name": "Python 3",
   "language": "python",
   "name": "python3"
  },
  "language_info": {
   "codemirror_mode": {
    "name": "ipython",
    "version": 3
   },
   "file_extension": ".py",
   "mimetype": "text/x-python",
   "name": "python",
   "nbconvert_exporter": "python",
   "pygments_lexer": "ipython3",
   "version": "3.6.8"
  }
 },
 "nbformat": 4,
 "nbformat_minor": 2
}
