{
 "cells": [
  {
   "cell_type": "markdown",
   "metadata": {
    "tags": [
     "navigation"
    ]
   },
   "source": [
    "[Indice](index.ipynb) | Previo: [Fundamentos.ProblemasSeleccionados](04.03.00.00.Fundamentos.ProblemasSeleccionados.ipynb) | Siguiente: [Mecanica.Introduccion](05.00.00.00.Mecanica.Introduccion.ipynb)"
   ]
  },
  {
   "cell_type": "markdown",
   "metadata": {
    "slideshow": {
     "slide_type": "slide"
    }
   },
   "source": [
    "# 5. Mecánica newtoniana\n",
    "<a id='mecanica'></a>"
   ]
  },
  {
   "cell_type": "markdown",
   "metadata": {
    "label": "",
    "subtitle": "",
    "tags": [
     "box_summary"
    ],
    "title": "Resumen"
   },
   "source": [
    "> **Resumen:**<a id=''></a> En este capítulo presentaremos una síntesis moderna de los mecánica newtoniana, aplicada específicamente a partículas (puntuales).  Sobre la base de los principios, postulados y proposiciones de la mecánica newtoniana formularemos los principales resultados de la mecánica celeste que desarrollamos en este libro.  Daremos un especial énfasis a la mecánica de sistemas de partículas interactuantes, descritos tanto en sistemas de referencia inerciales como no inerciales. En este último caso nos concentraremos en en los sistemas de referencia rotante, que son importantes para la descripción del problema restringido de los tres cuerpos que estudiaremos más adelante."
   ]
  },
  {
   "cell_type": "markdown",
   "metadata": {
    "tags": [
     "navigation"
    ]
   },
   "source": [
    "[Indice](index.ipynb) | Previo: [Fundamentos.ProblemasSeleccionados](04.03.00.00.Fundamentos.ProblemasSeleccionados.ipynb) | Siguiente: [Mecanica.Introduccion](05.00.00.00.Mecanica.Introduccion.ipynb)"
   ]
  }
 ],
 "metadata": {
  "celltoolbar": "Tags",
  "kernelspec": {
   "display_name": "Python 3",
   "language": "python",
   "name": "python3"
  },
  "language_info": {
   "codemirror_mode": {
    "name": "ipython",
    "version": 3
   },
   "file_extension": ".py",
   "mimetype": "text/x-python",
   "name": "python",
   "nbconvert_exporter": "python",
   "pygments_lexer": "ipython3",
   "version": "3.6.8"
  }
 },
 "nbformat": 4,
 "nbformat_minor": 2
}
