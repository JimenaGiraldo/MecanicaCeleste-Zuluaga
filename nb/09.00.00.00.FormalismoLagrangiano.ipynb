{
 "cells": [
  {
   "cell_type": "markdown",
   "metadata": {
    "tags": [
     "navigation"
    ]
   },
   "source": [
    "[Indice](index.ipynb) | Previo: [Problema3Cuerpos.ProblemasSeleccionados](08.06.00.00.Problema3Cuerpos.ProblemasSeleccionados.ipynb) | Siguiente: [FormalismoLagrangiano.Motivacion](09.00.00.00.FormalismoLagrangiano.Motivacion.ipynb)"
   ]
  },
  {
   "cell_type": "markdown",
   "metadata": {},
   "source": [
    "# 9. El formalismo lagrangiano y la mecánica celeste\n",
    "<a id='formalismo_lagrangiano'></a>"
   ]
  },
  {
   "cell_type": "markdown",
   "metadata": {
    "label": "",
    "subtitle": "",
    "tags": [
     "box_summary"
    ],
    "title": "Resumen"
   },
   "source": [
    "> **Resumen:**<a id=''></a> En este capítulo introduciremos el denominado *formalismo lagrangiano* de la mecánica, la primera y más conocida reformulación teórica de la mecánica newtoniana.  El objetivo del capítulo es el de ofrecer una primera introducción al formalismo y su aplicación en mecánica celeste.  Introduciremos aquí las ecuaciones de Euler-Lagrange, la alternativa del formalismo lagrangiano a las ecuaciones de movimiento newtonianas, que deduciremos, por un lado, a partir del principio de Alambert-Lagrange (basado en el principio de trabajos virtuales) y por el otro a partir del fundamental principio de Hamilton o principio de mínima acción o de acción estacionaria.  Estudiaremos la manera como las constantes de movimiento de un sistema dinámico pueden deducirse a partir de simetrías usando el poderoso teorema de Noether. Finalmente aplicaremos el formalismo en la solución a problemas en mecánica celeste, en especial la solución al problema general de los dos cuerpos sometidos a fuerzas centrales (newtonianas y no newtonianas)."
   ]
  },
  {
   "cell_type": "markdown",
   "metadata": {
    "tags": [
     "navigation"
    ]
   },
   "source": [
    "[Indice](index.ipynb) | Previo: [Problema3Cuerpos.ProblemasSeleccionados](08.06.00.00.Problema3Cuerpos.ProblemasSeleccionados.ipynb) | Siguiente: [FormalismoLagrangiano.Motivacion](09.00.00.00.FormalismoLagrangiano.Motivacion.ipynb)"
   ]
  }
 ],
 "metadata": {
  "celltoolbar": "Tags",
  "kernelspec": {
   "display_name": "Python 3",
   "language": "python",
   "name": "python3"
  },
  "language_info": {
   "codemirror_mode": {
    "name": "ipython",
    "version": 3
   },
   "file_extension": ".py",
   "mimetype": "text/x-python",
   "name": "python",
   "nbconvert_exporter": "python",
   "pygments_lexer": "ipython3",
   "version": "3.6.8"
  }
 },
 "nbformat": 4,
 "nbformat_minor": 2
}
