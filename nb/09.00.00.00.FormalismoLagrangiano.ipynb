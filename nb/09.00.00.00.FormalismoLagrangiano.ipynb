{
 "cells": [
  {
   "cell_type": "markdown",
   "metadata": {
    "tags": [
     "navigation"
    ]
   },
   "source": [
    "[Indice](index.ipynb) | Previo: [Problema3Cuerpos.Aplicaciones.ParametroTisserand](08.06.03.00.Problema3Cuerpos.Aplicaciones.ParametroTisserand.ipynb) | Siguiente: [FormalismoLagrangiano.Motivacion](09.00.00.00.FormalismoLagrangiano.Motivacion.ipynb)"
   ]
  },
  {
   "cell_type": "markdown",
   "metadata": {},
   "source": [
    "# 9. El formalismo lagrangiano\n",
    "<a id='formalismo_lagrangiano'></a>"
   ]
  },
  {
   "cell_type": "markdown",
   "metadata": {
    "tags": [
     "box1"
    ]
   },
   "source": [
    "> **Resumen:** Este es el resumen del capítulo."
   ]
  },
  {
   "cell_type": "markdown",
   "metadata": {
    "tags": [
     "navigation"
    ]
   },
   "source": [
    "[Indice](index.ipynb) | Previo: [Problema3Cuerpos.Aplicaciones.ParametroTisserand](08.06.03.00.Problema3Cuerpos.Aplicaciones.ParametroTisserand.ipynb) | Siguiente: [FormalismoLagrangiano.Motivacion](09.00.00.00.FormalismoLagrangiano.Motivacion.ipynb)"
   ]
  }
 ],
 "metadata": {
  "celltoolbar": "Tags",
  "kernelspec": {
   "display_name": "Python 3",
   "language": "python",
   "name": "python3"
  },
  "language_info": {
   "codemirror_mode": {
    "name": "ipython",
    "version": 3
   },
   "file_extension": ".py",
   "mimetype": "text/x-python",
   "name": "python",
   "nbconvert_exporter": "python",
   "pygments_lexer": "ipython3",
   "version": "3.6.8"
  }
 },
 "nbformat": 4,
 "nbformat_minor": 2
}
