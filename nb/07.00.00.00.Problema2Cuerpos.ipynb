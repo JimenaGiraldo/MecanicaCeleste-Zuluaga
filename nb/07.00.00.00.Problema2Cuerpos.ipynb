{
 "cells": [
  {
   "cell_type": "markdown",
   "metadata": {
    "tags": [
     "navigation"
    ]
   },
   "source": [
    "[Indice](index.ipynb) | Previo: [ProblemaNCuerpos.ProblemasSeleccionados](06.03.00.00.ProblemaNCuerpos.ProblemasSeleccionados.ipynb) | Siguiente: [Problema2Cuerpos.Motivacion](07.01.00.00.Problema2Cuerpos.Motivacion.ipynb)"
   ]
  },
  {
   "cell_type": "markdown",
   "metadata": {},
   "source": [
    "# 7. El Problema de los dos cuerpos\n",
    "<a id='problema_doscuerpos'></a>"
   ]
  },
  {
   "cell_type": "markdown",
   "metadata": {
    "label": "",
    "subtitle": "",
    "tags": [
     "box_summary"
    ],
    "title": "Resumen"
   },
   "source": [
    "> **Resumen:**<a id=''></a> En este capítulo estudiaremos un caso particular de sistemas de N cuerpos, a saber, aquellos que contienen solo dos partículas que interactúan gravitacionalmente. Este es el problema clásico de la mecánica celeste y el primero en ser resuelto en la historia, tanto por Newton, como por sus contemporáneos.  Después de motivar su introducción con los denominados sistemas jerárquicos de N cuerpos, procederemos a escribir las ecuaciones de movimiento relativo, encontraremos las constantes o integrales de movimiento y finalmente deduciremos la solución exacta del problema, tanto en el espacio como en el tiempo.  Los elementos conceptuales y algunas herramientas teóricas y algorítmicas introducidas en este capítulo, se usan en casi todos las áreas de la mecánica celeste, bien sea que pueda o no aplicarse la aproximación de dos cuerpos.  Por esta razón, los resultados en este capítulo no solo son una curiosidad matemática o una decente aproximación para el movimiento de algunos sistemas.  El problema de los dos cuerpos es la base para la descripción general de la trayectoria de una gran diversidad de sistemas físicos en el Universo."
   ]
  },
  {
   "cell_type": "markdown",
   "metadata": {
    "tags": [
     "navigation"
    ]
   },
   "source": [
    "[Indice](index.ipynb) | Previo: [ProblemaNCuerpos.ProblemasSeleccionados](06.03.00.00.ProblemaNCuerpos.ProblemasSeleccionados.ipynb) | Siguiente: [Problema2Cuerpos.Motivacion](07.01.00.00.Problema2Cuerpos.Motivacion.ipynb)"
   ]
  }
 ],
 "metadata": {
  "celltoolbar": "Tags",
  "kernelspec": {
   "display_name": "Python 3",
   "language": "python",
   "name": "python3"
  },
  "language_info": {
   "codemirror_mode": {
    "name": "ipython",
    "version": 3
   },
   "file_extension": ".py",
   "mimetype": "text/x-python",
   "name": "python",
   "nbconvert_exporter": "python",
   "pygments_lexer": "ipython3",
   "version": "3.6.8"
  }
 },
 "nbformat": 4,
 "nbformat_minor": 2
}
