{
 "cells": [
  {
   "cell_type": "markdown",
   "metadata": {
    "tags": [
     "navigation"
    ]
   },
   "source": [
    "[Indice](index.ipynb) | Previo: [Problema2Cuerpos.Perturbaciones](07.06.00.00.Problema2Cuerpos.Perturbaciones.ipynb) | Siguiente: [Problema3Cuerpos](08.00.00.00.Problema3Cuerpos.ipynb)"
   ]
  },
  {
   "cell_type": "markdown",
   "metadata": {},
   "source": [
    "## 7.15. El problema de los dos cuerpos en `SPICE`\n",
    "<a id='doscuerpos_SPICE'></a>"
   ]
  },
  {
   "cell_type": "markdown",
   "metadata": {},
   "source": [
    "Algunos de los procedimientos descritos en este capítulo han sido implementados en la biblioteca de rutinas de `SPICE`.  Las siguientes son las rutinas disponibles en dicho sistema para realizar tareas relacionadas con el problema de dos cuerpos:\n",
    "\n",
    "- `oscelt(X,t,mu)`: Calcula los elementos orbitales de la órbita osculatriz (ver [Sección *Orbita osculatriz*](07.03.00.00.Problema2Cuerpos.OrbitaEspacio.ipynb#orbita_osculatriz)) correspondiente con el vector de estado `X`.  Esta rutina devuelve los siguientes elementos (en ese orden): $q$, $e$, $i$, $\\Omega$, $\\omega$, $M$, donde $q$ es la distancia al periapsis y $M$ es la anomalía media (elíptica o hiperbólica.)  Todos los ángulos son calculados en radianes. La rutina devuelve además el valor de `t` y de `mu`, que aunque son los mismos que los provistos en la entrada, permiten tener una salida consistente con la rutina `conics` descrita más abajo.  Esta rutina realiza el mismo trabajo que la rutina `estado_a_elementos` descrita en la [Sección *Determinación de la órbita*](07.03.00.00.Problema2Cuerpos.OrbitaEspacio.ipynb#determinacion_orbita).\n",
    "\n",
    "- `osceltx(X,t,mu)`: Esta rutina hace los mismo que `oscelt` pero devuelve una lista extendida de elementos orbitales, en este orden: $q$, $e$, $i$, $\\Omega$, $\\omega$, $M$, $t$, $\\mu$, $f$ (anomalía verdadera), $a$, $T$ (período orbital, cuando es posible calcularlo.)\n",
    "\n",
    "- `conics(E,t)`: Calcula el vector de estado en el tiempo $t$ correspondiente a la cónica con elementos orbitales `E`: $q$ , $e$, $i$, $\\Omega$, $\\omega$, $M_0$, $t_0$, $\\mu$; donde $t_0$ y $M_0$ son el tiempo y la anomalía media correspondiente a los elementos provistos.  La rutina devuelve el vector de estado.  Esta rutina realiza, parcialmente, el mismo trabajo que la rutina `elementos_a_estado` descrita en la [Sección *Prediccion del vector de estado*](Not Found#predccion_estado), con la diferencia que además y a diferencia de nuestra rutina que solo hace una transformación geométrica, `conics` también realiza la propagación del estado en el tiempo. \n",
    "\n",
    "- `prop2b(mu,X0,dt)`: Propaga el estado inicial `X0` del vector relativo de un sistema con parámetro gravitacional `mu` por un tiempo `dt=t-t0`. Esta rutina utiliza internamente el formalismo de variables universales que hemos esbozado en las últimas secciones.  La rutina devuelve el estado relativo en el tiempo `t`.  Esta rutina realiza el mismo trabajo que la rutina `propaga_f_g` descrita en la [Sección *Funciones $f$ y $g$*](07.04.03.00.Problema2Cuerpos.SolucionTiempo.VariablesUniversales.ipynb#funciones_fg)."
   ]
  },
  {
   "cell_type": "markdown",
   "metadata": {
    "label": "",
    "subtitle": "Singularidades y errores",
    "tags": [
     "box_note"
    ],
    "title": "Nota"
   },
   "source": [
    "> **Nota: Singularidades y errores.**<a id=''></a> El lector más curioso podrá preguntarse si las rutinas de descritas aquí ya habían sido implementadas en distintos apartes en este capítulo, cuál puede ser entonces el interés de introducir las rutinas específicas de `SPICE`.  Hay dos razones fundamentales para hacerlo.  La primera es que las rutinas del sistema de NASA tienen una larga historia de desarrollo y pruebas que las hace muy confiables.  Podemos usar esas rutinas para comprobar las que desarrollemos por nuestra cuenta. \n",
    "\n",
    "> La segunda razón y en realidad la más importante es que las transformaciones estudiadas en este capítulo (de elementos a vector de estado, de vector de estado a elementos, de vector de estado a vector de estado) tienen algunas limitaciones numéricas.  Así por ejemplo, los elementos osculatrices calculados a partir del vector de estado pueden ser muy inciertos cuando la inclinación es cercana a cero o a 180$^\\circ$ o cuando la excentricidad es muy cercana a 1.  La solución a la ecuación universal de Kepler en $g$ (usada por nuestras rutinas y por las rutinas de `SPICE`) debe calcularse con precaución para valores grandes del tiempo (en los que la precisión numérica de las series de Stumpff puede estar muy limitada.)   Si bien las rutinas de `SPICE` no necesariamente corrijen todos esos inconvenientes, el sistema viene dotado de mecanismos de control de errores que no hemos implementado en las rutinas desarrolladas en y para el libro. "
   ]
  },
  {
   "cell_type": "markdown",
   "metadata": {},
   "source": [
    "A continuación mostramos algunos ejemplos del uso de estas rutinas y comparamos sus resultados con las rutinas desarrolladas en este capítulo.  Usaremos para ello el sistema de ejemplo introducido en la [Sección *Un ejemplo numérico*](07.04.02.00.Problema2Cuerpos.SolucionTiempo.Sintesis.ipynb#ejemplo_numerico_doscuerpos_sintesis)."
   ]
  },
  {
   "cell_type": "markdown",
   "metadata": {},
   "source": [
    "Para usar las rutinas de `SPICE` debemos primero construir el vector de estado inicial:"
   ]
  },
  {
   "cell_type": "code",
   "execution_count": 109,
   "metadata": {
    "codelabel": "",
    "codeplot": 0
   },
   "outputs": [],
   "source": [
    "#Sistema\n",
    "from numpy import array\n",
    "t0=0\n",
    "sistema=[\n",
    "    dict(m=1.0,\n",
    "         r=array([0.0,0.0,+0.3]),\n",
    "         v=array([+1.0,0.0,0.5])),\n",
    "    dict(m=0.5,\n",
    "         r=array([+1.0,0.0,0.0]),\n",
    "         v=array([0.0,+1.0,0.0])),\n",
    "]\n",
    "\n",
    "#Condiciones iniciales\n",
    "m1=sistema[0][\"m\"]\n",
    "r1_0=sistema[0][\"r\"]\n",
    "v1_0=sistema[0][\"v\"]\n",
    "\n",
    "m2=sistema[1][\"m\"]\n",
    "r2_0=sistema[1][\"r\"]\n",
    "v2_0=sistema[1][\"v\"]\n",
    "\n",
    "mu=m1+m2 \n",
    "\n",
    "#Posición y velocidad relativa inicial\n",
    "rvec0=r1_0-r2_0\n",
    "vvec0=v1_0-v2_0\n",
    "\n",
    "#Vector de estado inicial\n",
    "from numpy import append\n",
    "X0=append(rvec0,vvec0)"
   ]
  },
  {
   "cell_type": "code",
   "execution_count": 110,
   "metadata": {
    "codelabel": "",
    "codeplot": 0,
    "tags": [
     "hide_input"
    ]
   },
   "outputs": [
    {
     "name": "stdout",
     "output_type": "stream",
     "text": [
      "X0 = [-1.   0.   0.3  1.  -1.   0.5]\n"
     ]
    }
   ],
   "source": [
    "print(f\"X0 = {X0}\")"
   ]
  },
  {
   "cell_type": "markdown",
   "metadata": {},
   "source": [
    "Calculemos los elementos orbitales correspondientes a este estado:"
   ]
  },
  {
   "cell_type": "code",
   "execution_count": 111,
   "metadata": {
    "codelabel": "",
    "codeplot": 0
   },
   "outputs": [],
   "source": [
    "from spiceypy import oscelt\n",
    "q,e,i,W,w,M0,t0,mu=oscelt(X0,t0,mu)"
   ]
  },
  {
   "cell_type": "code",
   "execution_count": 112,
   "metadata": {
    "codelabel": "",
    "codeplot": 0,
    "tags": [
     "hide_input"
    ]
   },
   "outputs": [
    {
     "name": "stdout",
     "output_type": "stream",
     "text": [
      "q = 0.669944\n",
      "e = 0.721536\n",
      "Inclinación = 40.5106 grados\n",
      "Longitud del nodo ascendente = 159.444 grados\n",
      "Argumento del periapsis = 107.911 grados\n",
      "Anomalía media = 347.311 grados\n"
     ]
    }
   ],
   "source": [
    "from numpy import pi\n",
    "print(f\"q = {q:g}\")\n",
    "print(f\"e = {e:g}\")\n",
    "print(f\"Inclinación = {i*180/pi:g} grados\")\n",
    "print(f\"Longitud del nodo ascendente = {W*180/pi:g} grados\")\n",
    "print(f\"Argumento del periapsis = {w*180/pi:g} grados\")\n",
    "print(f\"Anomalía media = {M0*180/pi:g} grados\")"
   ]
  },
  {
   "cell_type": "markdown",
   "metadata": {},
   "source": [
    "Que coincide con los resultados que obtuvimos en la [Sección *Un ejemplo numérico*](07.03.00.00.Problema2Cuerpos.OrbitaEspacio.ipynb#ejemplo_numerico_orbita_espacio).  Una buena manera de verificar si los resultados producidos por esta rutina son correctos es invocar su inversa `conics`:"
   ]
  },
  {
   "cell_type": "code",
   "execution_count": 113,
   "metadata": {
    "codelabel": "",
    "codeplot": 0
   },
   "outputs": [],
   "source": [
    "from spiceypy import conics\n",
    "X0=conics([q,e,i,W,w,M0,t0,mu],t0)"
   ]
  },
  {
   "cell_type": "code",
   "execution_count": 114,
   "metadata": {
    "codelabel": "",
    "codeplot": 0,
    "tags": [
     "hide_input"
    ]
   },
   "outputs": [
    {
     "name": "stdout",
     "output_type": "stream",
     "text": [
      "X0 = [-1.   0.   0.3  1.  -1.   0.5]\n"
     ]
    }
   ],
   "source": [
    "from numpy import set_printoptions\n",
    "set_printoptions(precision=3,suppress=True)\n",
    "print(f\"X0 = {X0}\")"
   ]
  },
  {
   "cell_type": "markdown",
   "metadata": {},
   "source": [
    "Que coincide con el estado inicial.  Finalmente podemos propagar este estado hasta $t=10$ como lo hicimos en secciones anterioes:"
   ]
  },
  {
   "cell_type": "code",
   "execution_count": 117,
   "metadata": {
    "codelabel": "",
    "codeplot": 0
   },
   "outputs": [],
   "source": [
    "#Tiempo de propagación\n",
    "t0=0.0\n",
    "t=10.0\n",
    "dt=t-t0\n",
    "\n",
    "from spiceypy import prop2b\n",
    "X=prop2b(mu,X0,dt)"
   ]
  },
  {
   "cell_type": "code",
   "execution_count": 118,
   "metadata": {
    "codelabel": "",
    "codeplot": 0,
    "tags": [
     "hide_input"
    ]
   },
   "outputs": [
    {
     "name": "stdout",
     "output_type": "stream",
     "text": [
      "Estado final: [-0.0642266  3.2416631 -2.5740625 -0.3095438  0.0535113  0.0500541]\n"
     ]
    }
   ],
   "source": [
    "from numpy import set_printoptions\n",
    "set_printoptions(precision=7,suppress=True)\n",
    "print(f\"Estado final: {X}\")"
   ]
  },
  {
   "cell_type": "markdown",
   "metadata": {},
   "source": [
    "Que de nuevo, coincide con los resultados obtenidos en el Alg. ([ejemplo_propaga_fg](07.04.03.00.Problema2Cuerpos.SolucionTiempo.VariablesUniversales.ipynb#code:ejemplo_propaga_fg)).  La propagación también puede hacerse con la rutina `conics`:"
   ]
  },
  {
   "cell_type": "code",
   "execution_count": 119,
   "metadata": {
    "codelabel": "",
    "codeplot": 0
   },
   "outputs": [],
   "source": [
    "X=conics([q,e,i,W,w,M0,t0,mu],t)"
   ]
  },
  {
   "cell_type": "code",
   "execution_count": 120,
   "metadata": {
    "codelabel": "",
    "codeplot": 0,
    "scrolled": true,
    "tags": [
     "hide_input"
    ]
   },
   "outputs": [
    {
     "name": "stdout",
     "output_type": "stream",
     "text": [
      "Estado final: [-0.0642266  3.2416631 -2.5740625 -0.3095438  0.0535113  0.0500541]\n"
     ]
    }
   ],
   "source": [
    "from numpy import set_printoptions\n",
    "set_printoptions(precision=7,suppress=True)\n",
    "print(f\"Estado final: {X}\")"
   ]
  },
  {
   "cell_type": "markdown",
   "metadata": {},
   "source": [
    "Que como era de esperarse coincide con los resultados anteriores."
   ]
  },
  {
   "cell_type": "markdown",
   "metadata": {
    "tags": [
     "navigation"
    ]
   },
   "source": [
    "[Indice](index.ipynb) | Previo: [Problema2Cuerpos.Perturbaciones](07.06.00.00.Problema2Cuerpos.Perturbaciones.ipynb) | Siguiente: [Problema3Cuerpos](08.00.00.00.Problema3Cuerpos.ipynb)"
   ]
  }
 ],
 "metadata": {
  "celltoolbar": "Tags",
  "kernelspec": {
   "display_name": "Python 3",
   "language": "python",
   "name": "python3"
  },
  "language_info": {
   "codemirror_mode": {
    "name": "ipython",
    "version": 3
   },
   "file_extension": ".py",
   "mimetype": "text/x-python",
   "name": "python",
   "nbconvert_exporter": "python",
   "pygments_lexer": "ipython3",
   "version": "3.6.8"
  }
 },
 "nbformat": 4,
 "nbformat_minor": 2
}
