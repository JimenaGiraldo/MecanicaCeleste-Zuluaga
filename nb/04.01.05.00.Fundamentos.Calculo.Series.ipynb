{
 "cells": [
  {
   "cell_type": "markdown",
   "metadata": {
    "tags": [
     "navigation"
    ]
   },
   "source": [
    "[Indice](index.ipynb) | Previo: [Fundamentos.Calculo.CalculoVariacional](04.01.04.00.Fundamentos.Calculo.CalculoVariacional.ipynb) | Siguiente: [Fundamentos.Conicas.Geometria](04.02.01.00.Fundamentos.Conicas.Geometria.ipynb)"
   ]
  },
  {
   "cell_type": "markdown",
   "metadata": {},
   "source": [
    "### 4.1.11. Series infinitas\n",
    "<a id='series_infinitas'></a>"
   ]
  },
  {
   "cell_type": "markdown",
   "metadata": {},
   "source": [
    "En la secciones anteriores hemos considerado las funciones como entidades abstractas.  En todos los casos asumimos que que el valor de esas funciones puede obtenerse con algún procedimiento que no hemos especificado.  Considere por ejemplo el caso de la función trigonométrica seno.  Sabemos como se define, conocemos su relación con otras funciones, su antiderivada y todas las derivadas de orden arbitrario de la función.  Pero ¿sabemos cómo calcular el valor de $\\sin t$?"
   ]
  },
  {
   "cell_type": "markdown",
   "metadata": {},
   "source": [
    "Para ser estrictos las únicas funciones cuyos valores se pueden calcularse de manera elemental, es decir ejecutando un número finito de sumas (o restas), multiplicaciones y divisiones son las funciones polinómicas y las funciones racionales.\n",
    "\n",
    "Definimos una función polinómica como aquella que puede escribirse de la forma:\n",
    "$$\n",
    "P_k(t)=a_0+a_1 t+a_2 t^2+\\ldots a_k t^k\n",
    "$$\n",
    "decimos que $P_k(t)$ es un polinomio de orden $k$."
   ]
  },
  {
   "cell_type": "markdown",
   "metadata": {},
   "source": [
    "Las funciones racionales son aquellas que pueden escribirse de la forma:\n",
    "\n",
    "$$\n",
    "R(t)=\\frac{P_k(t)}{Q_m(t)}\n",
    "$$\n",
    "done $P_k(t)$ y $Q_l(t)$ son polinomios de orden $k$ y $m$ respectivamente."
   ]
  },
  {
   "cell_type": "markdown",
   "metadata": {},
   "source": [
    "#### 4.1.11.1. Series de potencias\n",
    "<a id='series_potencias'></a>"
   ]
  },
  {
   "cell_type": "markdown",
   "metadata": {},
   "source": [
    "El primer resultado de interés para el cálculo del valor de funciones no polinómicas ni racionales depende del siguiente teorema: "
   ]
  },
  {
   "cell_type": "markdown",
   "metadata": {
    "label": "",
    "subtitle": "Teorema de Taylor",
    "tags": [
     "box_theorem"
    ],
    "title": "Proposición"
   },
   "source": [
    "> **Proposición: Teorema de Taylor.**<a id=''></a> Si una función $f(t)$ tiene derivadas hasta orden $k$ en el punto $t=t_0$ entonces el polinomio:\n",
    "\n",
    "> $$P_k(x)=\\sum_{n=0}^{k} \\frac{f^{(n)}(t_0)}{n!}(t-t_0)^n$$\n",
    "> ofrece una aproximación al valor de la función para valores de $t\\rightarrow t_0$.  En otras palabras:\n",
    "\n",
    "> $$\\lim_{t\\rightarrow t_0}\\;[f(t)-P_k(t)]=0$$"
   ]
  },
  {
   "cell_type": "markdown",
   "metadata": {},
   "source": [
    "En términos prácticos, el teorema de Taylor se puede escribir diciendo que para valores de $t$ cercano a $t_0$, la función $f(t)$ se puede escribir como:\n",
    "\n",
    "$$\n",
    "\\mathrm{Para}\\;t\\rightarrow t_0:\\;f(t)\\approx\\sum_{n=0}^{k} \\frac{f^{(n)}(t_0)}{n!}(t-t_0)^n\n",
    "$$\n",
    "\n",
    "A la suma de la forma del lado izquierdo de la ecuación anterior, $s_k\\equiv\\sum_{n=0}^{k} a_n$ la llamamos en general una **suma parcial** y a la secuencia $\\{s_0,s_1,s_2,...\\}$ se la conoce como una **serie infinita** o en breve una **serie**.  \n",
    "\n",
    "En particular a la serie formada por las sumas parciales en el teorema de Taylor la llamamos una **serie de potencias** o **serie de Taylor**.  "
   ]
  },
  {
   "cell_type": "markdown",
   "metadata": {
    "label": "box:def:serie.convergente",
    "subtitle": "Serie convergente",
    "tags": [
     "box_definition",
     "box:def:serie.convergente"
    ],
    "title": "Definición"
   },
   "source": [
    "> **Definición 7.3. Serie convergente.**<a id='box:def:serie.convergente'></a> Decimos que una serie $\\{s_0,s_1,s_2,...\\}$ converge a $S$ si:\n",
    "\n",
    "> $$\\lim_{k\\rightarrow\\infty} s_k=S$$\n",
    "\n",
    "> en otros términos:\n",
    "\n",
    "> $$\\sum_{n=0}^{\\infty}a_n\\equiv\\lim_{k\\rightarrow\\infty} \\sum_{n=0}^{k} a_n=S$$\n"
   ]
  },
  {
   "cell_type": "markdown",
   "metadata": {},
   "source": [
    "En la definción anterior hemos introducido la notación $\\sum_{n=0}^{\\infty}a_n$ para representar el valor al que converge una serie (si lo hace.)  Esta notación es corriente en el cálculo y será muy utilizada en este libro.  \n",
    "\n",
    "En términos de esta notación y del concepto de convergencia, el teorema de Taylor se puede escribir como:\n",
    "\n",
    "\\begin{equation}\n",
    "\\label{eq:serie_potencias_limite}\n",
    "f(t)=\\lim_{t\\rightarrow t_0}\\sum_{n=0}^{\\infty} \\frac{f^{(n)}(t_0)}{n!}(t-t_0)^n\n",
    "\\end{equation}"
   ]
  },
  {
   "cell_type": "markdown",
   "metadata": {},
   "source": [
    "Ahora bien, en algunos casos la serie de potencias asociada a una función puede converger incluso en puntos a una distancia finita de $t_0$.  Considere por ejemplo la serie de potencias de la función exponencial $\\exp(t)$ alrededor de $t_0=0$ (ver problemas al final del capítulo):\n",
    "\n",
    "$$\n",
    "\\exp(t)\\approx s_k=\\sum_{n=0}^{k} \\frac{t^n}{n!}\n",
    "$$\n",
    "\n",
    "Es posible mostrar que esta serie converge para cualquier valor real de $t$.  Por la misma razón, usando la notación en la Def. ([funcional_integral](#box:def:serie.convergente)) podemos escribir:\n",
    "\n",
    "\\begin{equation}\n",
    "\\label{eq:exp_taylor}\n",
    "\\exp(t)=\\sum_{n=0}^{\\infty} \\frac{t^n}{n!}\n",
    "\\end{equation}\n",
    "e introducir una nueva definición:"
   ]
  },
  {
   "cell_type": "markdown",
   "metadata": {
    "label": "box:def:funcion.analitica",
    "subtitle": "Convergencia uniforme y función analítica",
    "tags": [
     "box_definition",
     "box:def:funcion.analitica"
    ],
    "title": "Definición"
   },
   "source": [
    "> **Definición 7.4. Convergencia uniforme y función analítica.**<a id='box:def:funcion.analitica'></a> Decimos que una serie $s_k$, cuyos coeficientes son función de una variable independiente $t$, *converge uniformemente* a $f(t)$ si lo hace para todo valor de $t$ que cumple $|t-t_0|<r$, donde $r>0$ se conoce como el *radio de convergencia*. En otras palabras:\n",
    "> $$f(t)=\\sum_{n=0}^{\\infty} a_n(t)$$\n",
    "\n",
    "> A la función $f(t)$ que cumple esta condición la llamamos una **función analítica**."
   ]
  },
  {
   "cell_type": "markdown",
   "metadata": {},
   "source": [
    "Muchas de las series de potencias definidas con la Ec. ([serie_potencias_limite](#mjx-eqn-eq%3Aserie_potencias_limite)) convergen uniformemente al valor de la función que expanden.  En ese caso escribimos:\n",
    "\n",
    "\\begin{equation}\n",
    "\\label{eq:serie_taylor}\n",
    "f(t)=\\sum_{n=0}^{\\infty} \\frac{f^{(n)}(t_0)}{n!}(t-t_0)^n\n",
    "\\end{equation}"
   ]
  },
  {
   "cell_type": "markdown",
   "metadata": {},
   "source": [
    "Las series de taylor de algunas funciones analíticas conocidas que serán de gran utilidad en la mecánica celeste, así como su radio de convergencia uniforme, son provistas en la lista a continuación:"
   ]
  },
  {
   "cell_type": "markdown",
   "metadata": {},
   "source": [
    "- **Funciones seno y coseno**. Para todo $t\\in {\\rm I\\!R}$:\n",
    "  \\begin{equation}\n",
    "  \\label{eq:sin_taylor}\n",
    "  \\sin t=\\sum_{n=0}^{\\infty} \\frac{(-1)^n t^{2n+1}}{(2n+1)!}=t-\\frac{t^3}{3!}+\\frac{t^5}{5!}-\\frac{t^7}{7!}+\\ldots\n",
    "  \\end{equation}\n",
    "  \n",
    "  \\begin{equation}\n",
    "  \\label{eq:cos_taylor}\n",
    "  \\cos t=\\sum_{n=0}^{\\infty} \\frac{(-1)^n t^{2n}}{2n!}=1-t^2+\\frac{t^4}{4!}-\\frac{t^6}{6!}+\\ldots\n",
    "  \\end{equation}\n"
   ]
  },
  {
   "cell_type": "markdown",
   "metadata": {},
   "source": [
    "- **Funciones seno y coseno hiperbólicas**. Para todo $t\\in {\\rm I\\!R}$:\n",
    "  \\begin{equation}\n",
    "  \\label{eq:sinh_taylor}\n",
    "  \\sinh t=\\sum_{n=1}^{\\infty} \\frac{t^{2n+1}}{(2n+1)!}=t+\\frac{t^3}{3!}+\\frac{t^5}{5!}+\\frac{t^7}{7!}+\\ldots\n",
    "  \\end{equation}\n",
    "  \n",
    "  \\begin{equation}\n",
    "  \\label{eq:cosh_taylor}\n",
    "  \\cosh t=\\sum_{n=0}^{\\infty} \\frac{t^{2n}}{2n!}=1+t^2+\\frac{t^4}{4!}+\\frac{t^6}{6!}+\\ldots\n",
    "  \\end{equation}  "
   ]
  },
  {
   "cell_type": "markdown",
   "metadata": {},
   "source": [
    "#### Cálculo numérico de series infinitas"
   ]
  },
  {
   "cell_type": "markdown",
   "metadata": {},
   "source": [
    "Las series de potencias juegan un papel central en la computación porque permiten reducir el cálculo de funciones que pueden ser muy complicadas a la ejecución de un conjuntos finito de operaciones numéricas simples: sumas (o restas), multiplicaciones y divisiones.  Sin embargo usar un computador para calcular eficientemente el valor de convergencia de una serie infinita no es una tarea trivial.  "
   ]
  },
  {
   "cell_type": "markdown",
   "metadata": {},
   "source": [
    "Tres problemas comunes se enfrentan al calcular series infinitas en un computador.  Para empezar la *precisión* con la que podemos representar cantidades numéricas en un computador esta limitada a un cierto número de dígitos significativos.  Para ilustrarlo, considere esta operación:"
   ]
  },
  {
   "cell_type": "code",
   "execution_count": 1,
   "metadata": {
    "codelabel": "",
    "codeplot": 0
   },
   "outputs": [],
   "source": [
    "x=1+1e-16"
   ]
  },
  {
   "cell_type": "code",
   "execution_count": 2,
   "metadata": {
    "codelabel": "",
    "codeplot": 0,
    "tags": [
     "hide_input"
    ]
   },
   "outputs": [
    {
     "name": "stdout",
     "output_type": "stream",
     "text": [
      "1.00000000000000000000\n"
     ]
    }
   ],
   "source": [
    "print(f\"{x:.20f}\")"
   ]
  },
  {
   "cell_type": "markdown",
   "metadata": {},
   "source": [
    "Llamamos a la cantidad `epsilon` ($\\approx 10^{-16}$) que cumple la condición `1+epsilon=1` la *precisión de la máquina*.  Esta limitación implica que para un número representado en notación científica: \n",
    "\n",
    "$$\n",
    "\\mathrm{mantisa}\\times 10^{\\mathrm{exponente}}\n",
    "$$\n",
    "donde $0\\leq\\mathrm{mantisa}<1$, tan solo los primeros 16 dígitos decimales son realmente *significativos*.  Para hacer esto más evidente considere esta operación:"
   ]
  },
  {
   "cell_type": "code",
   "execution_count": 3,
   "metadata": {
    "codelabel": "",
    "codeplot": 0
   },
   "outputs": [],
   "source": [
    "x=0.123456789012345678901234567890"
   ]
  },
  {
   "cell_type": "code",
   "execution_count": 4,
   "metadata": {
    "codelabel": "",
    "codeplot": 0,
    "tags": [
     "hide_input"
    ]
   },
   "outputs": [
    {
     "name": "stdout",
     "output_type": "stream",
     "text": [
      "0.123456789012345677369886232100\n"
     ]
    }
   ],
   "source": [
    "print(f\"{x:.30f}\")"
   ]
  },
  {
   "cell_type": "markdown",
   "metadata": {},
   "source": [
    "Nótese que aunque hemos querido almacenar 30 dígitos significativos, tan solo los primeros 16 fueron efectivamente recuperados de la memoria.  A partir del decimal 17 lo que obtenemos son cifras al azar. "
   ]
  },
  {
   "cell_type": "markdown",
   "metadata": {},
   "source": [
    "Al manipular algebraicamente cantidades que tienen esta limitación, los resultados pueden ser aún menos significativas. En un algortimo (en especial aquellos con los que se calculan el valor de convergencia de series) después de muchas operaciones entre cantidades con precisión limitada el resultado puede llegar a acumular importantes *errores de redondeo*.  "
   ]
  },
  {
   "cell_type": "markdown",
   "metadata": {},
   "source": [
    "Para ilustrar la manera como los errores de redondeo se propagan considere el cálculo de esta sencilla cantidad:\n",
    "\n",
    "$$\n",
    "(Nx+y)-Nx\n",
    "$$\n",
    "donde $N\\gg 1$.  Si bien matemáticamente el resultado es obviamente $y$, en el computador obtenemos:"
   ]
  },
  {
   "cell_type": "code",
   "execution_count": 5,
   "metadata": {
    "codelabel": "",
    "codeplot": 0
   },
   "outputs": [],
   "source": [
    "N=1e12\n",
    "x=1.0\n",
    "y=0.1\n",
    "z=(N*x+y)-(N*x)"
   ]
  },
  {
   "cell_type": "code",
   "execution_count": 6,
   "metadata": {
    "codelabel": "",
    "codeplot": 0,
    "tags": [
     "hide_input"
    ]
   },
   "outputs": [
    {
     "name": "stdout",
     "output_type": "stream",
     "text": [
      "x = +1.000000000000000e+00\n",
      "y = +1.000000000000000e-01\n",
      "z = +9.997558593750000e-02\n"
     ]
    }
   ],
   "source": [
    "print(f\"x = {x:+.15e}\")\n",
    "print(f\"y = {y:+.15e}\")\n",
    "print(f\"z = {z:+.15e}\")"
   ]
  },
  {
   "cell_type": "markdown",
   "metadata": {},
   "source": [
    "A este tipo de errores, que se producen normalmente cuando se restan o dividen cantidades muy parecidas, se los conoce como errores de cancelación substractiva y pueden llegar a ser muy importantes, por ejemplo, al calcular series alternantes.  "
   ]
  },
  {
   "cell_type": "markdown",
   "metadata": {},
   "source": [
    "Para ilutstrar como los errores de cancelación substractiva pueden volverse significatiovos en la estimación del valor de convergencia de una serie alternante consideren el siguiente algoritmo en el que se calcula la suma parcial de la serie de Taylor para la función seno:"
   ]
  },
  {
   "cell_type": "code",
   "execution_count": 7,
   "metadata": {
    "codelabel": "",
    "codeplot": 0
   },
   "outputs": [],
   "source": [
    "from math import factorial\n",
    "from numpy import pi\n",
    "\n",
    "#Numero de términos de la serie\n",
    "k=18\n",
    "#Valor del ángulo\n",
    "t=3*pi\n",
    "#Suma parcial\n",
    "sk=0\n",
    "for n in range(k):\n",
    "    sk+=(-1)**n*t**(2*n+1)/factorial(2*n+1)"
   ]
  },
  {
   "cell_type": "code",
   "execution_count": 8,
   "metadata": {
    "codelabel": "",
    "codeplot": 0,
    "tags": [
     "hide_input"
    ]
   },
   "outputs": [
    {
     "name": "stdout",
     "output_type": "stream",
     "text": [
      "s_18(9.42478) = -7.6538436107548528e-08\n",
      "sin(9.42478) = 3.6739403974420594e-16\n"
     ]
    }
   ],
   "source": [
    "from numpy import sin\n",
    "print(f\"s_{k}({t:g}) = {sk:.16e}\")\n",
    "print(f\"sin({t:g}) = {sin(t):.16e}\")"
   ]
  },
  {
   "cell_type": "markdown",
   "metadata": {},
   "source": [
    "Si bien el resultado obtenido con la suma parcial es correcto hasta la séptima cifra significativa ($\\sim 10^{-7}$), hay una manera más eficiente de calcular este resultado evitando la propagación de errores de redondeo (cancelación substractiva).  Podemos aprovechar la propiedad de la función:\n",
    "\n",
    "$$\n",
    "\\sin(t)=\\sin(t+2n\\pi)\n",
    "$$\n",
    "para que reconocer que $\\sin(3\\pi)=\\sin(\\pi)$ y calcular la suma parcial en el valor más pequeño de $t$:"
   ]
  },
  {
   "cell_type": "code",
   "execution_count": 9,
   "metadata": {
    "codelabel": "",
    "codeplot": 0
   },
   "outputs": [],
   "source": [
    "#Valor de t mapeado en el intervalo [0,2 pi)\n",
    "from numpy import mod\n",
    "tn=mod(t,2*pi)\n",
    "\n",
    "#Suma parcial\n",
    "sk=0\n",
    "for n in range(k):\n",
    "    sk+=(-1)**n*mod(tn,2*pi)**(2*n+1)/factorial(2*n+1)"
   ]
  },
  {
   "cell_type": "code",
   "execution_count": 10,
   "metadata": {
    "codelabel": "",
    "codeplot": 0,
    "tags": [
     "hide_input"
    ]
   },
   "outputs": [
    {
     "name": "stdout",
     "output_type": "stream",
     "text": [
      "s_18(9.42478) = 3.3280566951896521e-16\n",
      "sin(9.42478) = 3.6739403974420594e-16\n"
     ]
    }
   ],
   "source": [
    "from numpy import sin\n",
    "print(f\"s_{k}({t:g}) = {sk:.16e}\")\n",
    "print(f\"sin({t:g}) = {sin(t):.16e}\")"
   ]
  },
  {
   "cell_type": "markdown",
   "metadata": {},
   "source": [
    "La diferencia en los dos resultados se hace notar notar inmediatamente."
   ]
  },
  {
   "cell_type": "markdown",
   "metadata": {},
   "source": [
    "Otro truco que puede ser útil, se ilustra en el cálculo de la función:\n",
    "\n",
    "\\begin{equation}\n",
    "\\label{eq:exp_taylor_general}\n",
    "\\exp(-t)=\\sum_{n=0}^{\\infty} \\frac{(-1)^n t^n}{n!}\n",
    "\\end{equation}"
   ]
  },
  {
   "cell_type": "markdown",
   "metadata": {},
   "source": [
    "<a id='code:exp_negativo'></a>"
   ]
  },
  {
   "cell_type": "code",
   "execution_count": 11,
   "metadata": {
    "codelabel": "code:exp_negativo",
    "codeplot": 0,
    "tags": [
     "code:exp_negativo"
    ]
   },
   "outputs": [],
   "source": [
    "#Número de términos en la serie\n",
    "k=10\n",
    "#Valor de t\n",
    "t=5.0\n",
    "#Suma pacial de exp(-t)\n",
    "sk=0\n",
    "for n in range(k):\n",
    "    sk+=(-1)**n*t**n/factorial(n)"
   ]
  },
  {
   "cell_type": "code",
   "execution_count": 12,
   "metadata": {
    "codelabel": "",
    "codeplot": 0,
    "tags": [
     "hide_input"
    ]
   },
   "outputs": [
    {
     "name": "stdout",
     "output_type": "stream",
     "text": [
      "s_10(1) = -1.8271053791887111e+00\n",
      "exp(1) = 2.7182818284590451e+00\n"
     ]
    }
   ],
   "source": [
    "from numpy import exp\n",
    "print(f\"s_{k}({x:g}) = {sk:.16e}\")\n",
    "print(f\"exp({x:g}) = {exp(x):.16e}\")"
   ]
  },
  {
   "cell_type": "markdown",
   "metadata": {},
   "source": [
    "Si en lugar de la serie alternante usamos la identidad $\\exp(-t)=1/\\exp(t)$ y calculamos la suma parcial correspondiente a $\\exp(t)$ (Ec. [exp_taylor](#mjx-eqn-eq%3Aexp_taylor)) obtenemos:"
   ]
  },
  {
   "cell_type": "markdown",
   "metadata": {},
   "source": [
    "<a id='code:exp_positivo'></a>"
   ]
  },
  {
   "cell_type": "code",
   "execution_count": 13,
   "metadata": {
    "codelabel": "code:exp_positivo",
    "codeplot": 0,
    "tags": [
     "code:exp_positivo"
    ]
   },
   "outputs": [],
   "source": [
    "#Suma parcial de exp(t)\n",
    "sk=0\n",
    "for n in range(k):\n",
    "    sk+=t**n/factorial(n)"
   ]
  },
  {
   "cell_type": "code",
   "execution_count": 14,
   "metadata": {
    "codelabel": "",
    "codeplot": 0,
    "tags": [
     "hide_input"
    ]
   },
   "outputs": [
    {
     "name": "stdout",
     "output_type": "stream",
     "text": [
      "1/s_10(5) = 6.9594528636495370e-03\n",
      "exp(5) = 6.7379469990854670e-03\n"
     ]
    }
   ],
   "source": [
    "from numpy import exp\n",
    "print(f\"1/s_{k}({t:g}) = {1/sk:.16e}\")\n",
    "print(f\"exp({t:g}) = {exp(-t):.16e}\")"
   ]
  },
  {
   "cell_type": "markdown",
   "metadata": {},
   "source": [
    "El tercer problema es la *convergencia lenta*, que puede hacer que se requieran decenas o cientos de términos de una serie para conseguir una precisión aceptable en el valor estimado de convergencia. La convergencia lenta no solo aumenta el tiempo requerido para calcular una serie, sino que también puede hacer que los errores de redondeo y cancelación sustractiva se acumulen al punto en el que el resultado sea más error que otra cosa."
   ]
  },
  {
   "cell_type": "markdown",
   "metadata": {},
   "source": [
    "La siguiente rutina implementa el cálculo de la serie de potencias de la función exponencial pero en lugar de escoger un número fijo de términos de la suma parcial, como lo hicimos en los Algs. ([exp_negativo](#code:exp_negativo) y ([exp_positivo](#code:exp_positivo)), la rutina va agregando nuevos términos hasta que consigue un nivel de precisión o *tolerancia* deseado $\\delta\\ll 1$.  Para esto, por cada término que agrega a la serie calcula el error relativo el valor de la suma como:\n",
    "\n",
    "$$\n",
    "\\Delta_n\\equiv\\left|\\frac{s_{n+1}-s_{n}}{\\bar{s}}\\right|\n",
    "$$\n",
    "donde $\\bar{s}=(s_n+s_{n+1})/2$ es el promedio entre dos sumas parciales sucesivas.\n",
    "\n",
    "El cálculo de la serie converge cuando se cumple:\n",
    "\n",
    "$$\n",
    "\\Delta_n<\\delta\n",
    "$$"
   ]
  },
  {
   "cell_type": "markdown",
   "metadata": {},
   "source": [
    "<a id='code:exp_taylor'></a>"
   ]
  },
  {
   "cell_type": "code",
   "execution_count": 15,
   "metadata": {
    "codelabel": "code:exp_taylor",
    "codeplot": 0,
    "tags": [
     "code:exp_taylor"
    ]
   },
   "outputs": [],
   "source": [
    "def exp_taylor(t,delta=1e-15):\n",
    "    #Valor inicial del error relativo (número arbitrario)\n",
    "    Dn=1\n",
    "    #Primer valor de la suma parcial\n",
    "    sn=0\n",
    "    #Inicializa contador de términos\n",
    "    n=0\n",
    "    #El ciclo continúa mientras no se alcance la tolerancia\n",
    "    while Dn>delta:\n",
    "        #Almacena el último valor de la suma\n",
    "        s=sn\n",
    "        #Calcula el término n-esimo de la suma\n",
    "        from math import factorial\n",
    "        an=t**n/factorial(n)\n",
    "        #Agrega el término a la suma n-esima\n",
    "        sn+=an\n",
    "        #Promedio de dos sumas parciales sucesivas\n",
    "        smed=(sn+s)/2\n",
    "        #Error relativo\n",
    "        Dn=abs(an/smed)\n",
    "        #Incremento en el contador n\n",
    "        n+=1\n",
    "    return sn,Dn,n"
   ]
  },
  {
   "cell_type": "markdown",
   "metadata": {},
   "source": [
    "Aunque esta no es la forma más compacta y efectiva de calcular la función exponencial, la mayoría de las rutinas que usan iteraciones en este libro tendrán una estructura y notación similares a esta.  Además, esta forma de escribirla nos permitirá ilustrar algunos de las limitaciones mencionados anteriormente.  \n",
    "\n",
    "Considere por ejemplo el cálculo de la función $\\exp(-t)$: "
   ]
  },
  {
   "cell_type": "code",
   "execution_count": 16,
   "metadata": {
    "codelabel": "",
    "codeplot": 0
   },
   "outputs": [],
   "source": [
    "t=20\n",
    "x,error_x,n_x=exp_taylor(-t)\n",
    "y,error_y,n_y=exp_taylor(+t)"
   ]
  },
  {
   "cell_type": "code",
   "execution_count": 17,
   "metadata": {
    "codelabel": "",
    "codeplot": 0,
    "tags": [
     "hide_input"
    ]
   },
   "outputs": [
    {
     "name": "stdout",
     "output_type": "stream",
     "text": [
      "x = exp(-20) = 5.4781029165292094e-10 (error 7.00e-16, n = 96)\n",
      "1/y = 1/exp(+20) = 2.0611536224385591e-09 (error 9.22e-16, n = 66)\n",
      "exp(-20) = 2.0611536224385579e-09\n"
     ]
    }
   ],
   "source": [
    "from numpy import exp\n",
    "print(f\"x = exp(-{t:g}) = {x:.16e} (error {error_x:.2e}, n = {n_x})\")\n",
    "print(f\"1/y = 1/exp(+{t:g}) = {1/y:.16e} (error {error_y:.2e}, n = {n_y})\")\n",
    "print(f\"exp(-{t:g}) = {exp(-t):.16e}\")"
   ]
  },
  {
   "cell_type": "markdown",
   "metadata": {},
   "source": [
    "Nótese que todos los efectos descritos hasta aquí son otra vez evidentes: (1) el error en la serie alternada es grande y debido principalmente a cancelaciones substractivas, (2) la serie alternante requiere un número mayor de términos para conseguir el mismo nivel de precisión de la serie no alternante (convergencia lenta.) "
   ]
  },
  {
   "cell_type": "markdown",
   "metadata": {},
   "source": [
    "#### 4.1.11.2. Otras series\n",
    "<a id='otras_series'></a>"
   ]
  },
  {
   "cell_type": "markdown",
   "metadata": {},
   "source": [
    "A continuación se enumeran otras series que serán de utilidad en el texto:\n",
    "\n",
    "- **Serie geométrica**: para $t\\neq 1$,\n",
    "\n",
    "  \\begin{equation}\n",
    "  \\label{eq:serie_geometrica}\n",
    "  \\frac{1}{1-t}=\\sum_{n=0}^{\\infty} t^n=1+t+t^2+t^3+\\ldots\n",
    "  \\end{equation}"
   ]
  },
  {
   "cell_type": "markdown",
   "metadata": {},
   "source": [
    "- **Serie binomial**: para todos los valores de $a\\in{\\rm I\\!R}$ y $|t|<1$,\n",
    "\n",
    "  \\begin{equation}\n",
    "  \\label{eq:serie_binomio}\n",
    "  (1+t)^a=\\sum_{n=0}^{\\infty} \\left(\\begin{array}{c}a\\\\k\\end{array}\\right)\n",
    "  t^n=1+a t+\\frac{a(a-1)}{2!}t^2+\\frac{a(a-1)(a-2)}{3!}t^3+\\cdots\n",
    "  \\end{equation}\n",
    "  \n",
    "  Los coeficientes de esta serie tienen la forma general:\n",
    "  \n",
    "  $$\n",
    "  \\left(\\begin{array}{c}a\\\\k\\end{array}\\right)\\equiv \\frac{a (a-1) (a-2) \\cdots (a-k+1)}{k!}\n",
    "  $$\n",
    "  \n",
    "  Cuando para aproximar la función $(1+t)^a$ se usa una de las sumas parciales de la serie binomial, decimos que se hace una **aproximación binomial de $(1+t)^a$**. "
   ]
  },
  {
   "cell_type": "markdown",
   "metadata": {},
   "source": [
    "#### 4.1.11.3. Series de Stumpff\n",
    "<a id='series_stumpff'></a>"
   ]
  },
  {
   "cell_type": "markdown",
   "metadata": {},
   "source": [
    "Una familia de funciones analíticas de gran interés en la mecánica celeste son las funciones o **series de Stumpff**:\n",
    "\n",
    "$$\n",
    "c_k(t)=\\sum_{n=0}^{\\infty} \\frac{(-1)^n t^{n}}{(2n+k)!}=\\frac{1}{k!}-\\frac{t}{(k+2)!}+\\frac{t^2}{(k+4)!}-\\frac{t^3}{(k+6)!}+\\cdots\n",
    "$$\n",
    "que convergen para todo $t\\in{\\rm I\\!R}$"
   ]
  },
  {
   "cell_type": "markdown",
   "metadata": {},
   "source": [
    "Estas series tienen una serie de propiedades muy interesantes que serán explotadas en el [Capítulo *El problema de los dos cuerpos*](07.00.00.00.Problema2Cuerpos.ipynb#problema_doscuerpos) y que enumeramos a continuación:\n",
    "\n",
    "- **Relación de recurrencia**:  Si se conoce el valor de la función de orden $k+2$ es posible calcular el valor de la función $k$ usando: \n",
    "\n",
    "  \\begin{equation}\n",
    "  \\label{eq:stumpff_recurrencia}\n",
    "  c_{k}(t)=\\frac{1}{k!}-t c_{k+2}(t)\n",
    "  \\end{equation}"
   ]
  },
  {
   "cell_type": "markdown",
   "metadata": {},
   "source": [
    "- **Relación de recurrencia para las derivadas**:  Las derivadas de las series de Stumpff satisfacen las siguientes relaciones de recurrencia: \n",
    "\n",
    "  \\begin{equation}\n",
    "  \\label{eq:stumpff_derivadas_recurrencia}\n",
    "  \\begin{array}{rcll}\n",
    "  \\frac{\\mathrm{d}}{\\mathrm{d}t}\\left[c_0(\\alpha s^2)\\right] & = & -\\alpha sc_{1}(\\alpha s^2) & \\\\\n",
    "  \\frac{\\mathrm{d}}{\\mathrm{d}t}\\left[t^{k+1}c_{k+1}(\\alpha s^2)\\right] & = & s^{k}c_{k}(\\alpha s^2) & \\mathrm{para}\\;k=0,1,2,\\ldots\\\\\n",
    "  \\end{array}\n",
    "  \\end{equation}\n",
    "  donde $\\alpha$ es cualquier número real.  La parametrización de la variable independiente de las series de Stumpff en la forma $\\alpha s^2$ será muy común en mecánica celeste."
   ]
  },
  {
   "cell_type": "markdown",
   "metadata": {},
   "source": [
    "- **Equivalencia con las funciones trigonométricas e hiperbólicas**: Todas series de Stumpff se pueden escribir en términos de las funciones trigonométricas e hiperbólicas.  Por esta razón se consideran una generalización de estas últimas.  Se puede probar, usando las series de Taylor en las Ecs. ([sin_taylor](#mjx-eqn-eq%3Asin_taylor))-([cos_taylor](#mjx-eqn-eq%3Acos_taylor)) que las primeras dos series de Stumpff se pueden escribir como:\n",
    "\n",
    "  \\begin{equation}\n",
    "  \\label{eq:c0_trigo}\n",
    "  c_0(\\alpha s^2)=\\left\\{\n",
    "  \\begin{array}{ll}\n",
    "  \\cos(\\alpha^{1/2}s) & \\mathrm{Si}\\;\\alpha\\geq 0\\\\\n",
    "  \\cosh(|\\alpha|^{1/2}s) & \\mathrm{Si}\\;\\alpha<0\\\\\n",
    "  \\end{array}\n",
    "  \\right.\n",
    "  \\end{equation}\n",
    "  y\n",
    "  \n",
    "  \\begin{equation}\n",
    "  \\label{eq:c1_trigo}\n",
    "  c_1(\\alpha s^2)=\\left\\{\n",
    "  \\begin{array}{ll}\n",
    "  \\sin(\\alpha^{1/2}s)/(\\alpha^{1/2}s) & \\mathrm{Si}\\;\\alpha\\geq 0\\\\\n",
    "  \\sinh(|\\alpha|^{1/2}s)/(|\\alpha|^{1/2}s) & \\mathrm{Si}\\;\\alpha<0\\\\\n",
    "  \\end{array}\n",
    "  \\right.\n",
    "  \\end{equation}  "
   ]
  },
  {
   "cell_type": "markdown",
   "metadata": {},
   "source": [
    "- **Relaciones de escalado**: Si bien las series de Stumpff convergen para todos los valores reales de la variable independiente, el cálculo numérico de las mismas para valores muy grandes de $|t|$ puede sufrir de errores de redondeo o ser muy ineficiente.  Como vimos en el caso del cálculo numérico de la serie de Taylor del seno, una solución posible para este inconveniente es la de mapear un valor arbitrario de $t$ en un intervalo más pequeño.  En el caso de la función coseno, por ejemplo, se puede calcular el coseno de cualquier ángulo grande, por ejemplo $2t$ usando del coseno del ángulo más pequeño $t$ y la identidad:\n",
    "\n",
    "  $$\n",
    "  \\cos(2t)=2\\cos(t)^2-1\n",
    "  $$\n",
    "\n",
    "  Las siguientes juegan un papel análogo en el caso del cálculo de las funciones de Stumpff.\n",
    "\n",
    "  \\begin{eqnarray}\n",
    "  c_0(4t) & = & 2c_0(t)^2-1\\\\\n",
    "  c_1(4t) & = & c_0(t)c_1(t)\\\\\n",
    "  c_2(4t) & = & \\frac{1}{2}c_1(t)^2\\\\\n",
    "  c_3(4t) & = & \\frac{1}{4}c_2(t)+\\frac{1}{4}c_0(t)c_3(t)\\\\\n",
    "  \\end{eqnarray}"
   ]
  },
  {
   "cell_type": "markdown",
   "metadata": {},
   "source": [
    "- **Regla iterativa**: Las series de Stumpff se pueden calcular también usando la regla iterativa (ver problemas al final del capítulo):\n",
    "\n",
    "  \\begin{equation}\n",
    "  \\label{eq:stumpff_iteracion}\n",
    "  p_n=\\frac{t}{(2n+k+1)(2n+k+2)}(1-p_{n+1})\n",
    "  \\end{equation}\n",
    "  \n",
    "  Si se comienza con un valor $p_{N}=0$ para un valor de $N$ suficientemente grande, al descender con la regla iterativa hasta $p_0$ se obtiene una aproximación para la serie de Stumpff de orden $k$:\n",
    "  \n",
    "  $$\n",
    "  c_k(t)\\approx\\frac{1}{k!}(1-p_0)\n",
    "  $$\n",
    "  \n",
    "  El error de esta aproximación es aproximadamente igual a:\n",
    "  \n",
    "  \\begin{equation}\n",
    "  \\label{eq:stumpff_iteracion_error}\n",
    "  \\epsilon_{N}=\\frac{t^N}{(2N+k+2)!}\n",
    "  \\end{equation}"
   ]
  },
  {
   "cell_type": "markdown",
   "metadata": {},
   "source": [
    "En el [Apéndice *Algoritmos y rutinas útiles*](Not Found#algoritmos_utiles) hemos incluido una corta rutina, `serie_stumpff(t,k)` que usa la regla iterativa para calcular el valor de las series de Stumpff de forma muy eficiente.  Para ilustrar el uso de esta rutina, en el algoritmo a continuación ponemos a prueba algunas de las propiedades mencionadas en esta sección."
   ]
  },
  {
   "cell_type": "markdown",
   "metadata": {},
   "source": [
    "Así por ejemplo, podemos verificar la relación de recurrencia (Ec. [stumpff_recurrencia](#mjx-eqn-eq%3Astumpff_recurrencia)):"
   ]
  },
  {
   "cell_type": "code",
   "execution_count": 19,
   "metadata": {
    "codelabel": "",
    "codeplot": 0
   },
   "outputs": [],
   "source": [
    "#Verifica las reglas de recurrencia\n",
    "t=2\n",
    "k=4\n",
    "\n",
    "from pymcel.export import serie_stumpff\n",
    "ck=serie_stumpff(t,k)\n",
    "ckp2=serie_stumpff(t,k+2)"
   ]
  },
  {
   "cell_type": "code",
   "execution_count": 20,
   "metadata": {
    "codelabel": "",
    "codeplot": 0,
    "tags": [
     "hide_input"
    ]
   },
   "outputs": [
    {
     "name": "stdout",
     "output_type": "stream",
     "text": [
      "Regla de recurrencia:\n",
      "c_4(2) = 0.03898592369134362\n",
      "1/4!-t c_6(2) = 0.03898592369134361\n"
     ]
    }
   ],
   "source": [
    "from math import factorial\n",
    "print(\"Regla de recurrencia:\")\n",
    "print(f\"c_{k}({t}) = {ck}\")\n",
    "print(f\"1/{k}!-t c_{k+2}({t}) = {1/factorial(k)-t*ckp2}\")"
   ]
  },
  {
   "cell_type": "code",
   "execution_count": 21,
   "metadata": {
    "codelabel": "",
    "codeplot": 0
   },
   "outputs": [],
   "source": [
    "#Verifica las reglas de escalado\n",
    "t=2\n",
    "k=4\n",
    "\n",
    "from pymcel.export import serie_stumpff\n",
    "c0_4t=serie_stumpff(4*t,0)\n",
    "c0_t=serie_stumpff(t,0)\n",
    "c1_4t=serie_stumpff(4*t,1)\n",
    "c1_t=serie_stumpff(t,1)\n",
    "c2_4t=serie_stumpff(4*t,2)\n",
    "c2_t=serie_stumpff(t,2)\n",
    "c3_4t=serie_stumpff(4*t,3)\n",
    "c3_t=serie_stumpff(t,3)"
   ]
  },
  {
   "cell_type": "code",
   "execution_count": 22,
   "metadata": {
    "codelabel": "",
    "codeplot": 0,
    "tags": [
     "hide_input"
    ]
   },
   "outputs": [
    {
     "name": "stdout",
     "output_type": "stream",
     "text": [
      "c_0(8) = -0.9513631281258474, con escalado = -0.9513631281258474\n",
      "c_1(8) = 0.10891980905843202, con escalado = 0.10891980905843208\n",
      "c_2(8) = 0.24392039101573093, con escalado = 0.24392039101573093\n",
      "c_3(8) = 0.111385023867696, con escalado = 0.11138502386769598\n"
     ]
    }
   ],
   "source": [
    "print(f\"c_0({4*t}) = {c0_4t}, con escalado = {2*c0_t**2-1}\")\n",
    "print(f\"c_1({4*t}) = {c1_4t}, con escalado = {c0_t*c1_t}\")\n",
    "print(f\"c_2({4*t}) = {c2_4t}, con escalado = {0.5*c1_t**2}\")\n",
    "print(f\"c_3({4*t}) = {c3_4t}, con escalado = {0.25*c2_t+0.25*c0_t*c3_t}\")"
   ]
  },
  {
   "cell_type": "markdown",
   "metadata": {},
   "source": [
    "#### 4.1.11.4. Series de Fourier\n",
    "<a id='series_fourier'></a>"
   ]
  },
  {
   "cell_type": "markdown",
   "metadata": {},
   "source": [
    "A lo largo de esta sección hemos visto como es posible aproximar algunas funciones analíticas usando series de potencias o series de polinomios.  Pero los polinomios no son las únicas funciones capaces de realizar esta tarea.  Así por ejemplo, cualquier familia contable de funciones de variable real $f_n(t)$, que en un determinado dominio, obedezca la condición:\n",
    "\n",
    "$$\n",
    "\\int_{\\cal D} g_n(t)g_m(t)\\;\\mathrm{d}t=0,\\mathrm{Si}\\;n\\neq m\n",
    "$$\n",
    "puede aproximar funciones definidas en el dominio ${\\cal D}$ con series del tipo:\n",
    "\n",
    "$$\n",
    "f(t)\\approx\\sum_{n=1}^{k} A_n g_n(t)\n",
    "$$\n",
    "donde:\n",
    "\n",
    "\\begin{equation}\n",
    "\\label{eq:An_serie_funciones}\n",
    "A_n=\\frac{\\int_D g_n(t)f(t)\\;\\mathrm{d}t}{\\int_D g_n(t)^2\\;\\mathrm{d}t}\n",
    "\\end{equation}"
   ]
  },
  {
   "cell_type": "markdown",
   "metadata": {},
   "source": [
    "Uno de los conjuntos contables de funciones más notables usados en la historia para aproximar otras funciones es el de las funciones trigonométricas seno y coseno definidas en el dominio finito ${\\cal D}=[0,T]$:\n",
    "\n",
    "$$\n",
    "\\begin{array}{rcl}\n",
    "g_{0}(t) & = & 1/2\\\\\n",
    "g_{2n-1}(t) & = & \\sin(n\\omega t)\\\\\n",
    "g_{2n}(t) & = & \\cos(n\\omega t)\\\\\n",
    "\\end{array}\n",
    "$$\n",
    "donde $n=1,2,\\cdots$ y $\\omega\\equiv2\\pi/T$.  Es posible mostrar que:\n",
    "\n",
    "\\begin{eqnarray}\n",
    "\\nonumber\n",
    "\\int_0^{T} g_n(t) g_m(t) & = & 0\\\\\n",
    "\\nonumber\n",
    "\\int_0^{T} g_n(t)^2 & = & \\frac{T}{2}\\\\\n",
    "\\end{eqnarray}"
   ]
  },
  {
   "cell_type": "markdown",
   "metadata": {},
   "source": [
    "Las series resultantes, que se puede escribir como\n",
    "\n",
    "\\begin{equation}\n",
    "\\label{eq:serie_fourier}\n",
    "s_k(t)=\\frac{1}{2}A_0+\\sum_{n=1}^{k}A_n\\cos(n\\omega t)+\\sum_{n=1}^{k}B_n\\sin(n\\omega t)\n",
    "\\end{equation}\n",
    "y que permiten aproximar funciones $f(t)$ en el dominio $[0,T]$ se conocen como **Series de Fourier**.  "
   ]
  },
  {
   "cell_type": "markdown",
   "metadata": {},
   "source": [
    "Si una función $f(t)$ es aproximada con una serie de Fourier, los coeficientes correspondientes se calculan usando la Ec. ([An_series_funciones](#mjx-eqn-eq%3AAn_series_funciones)):\n",
    "\n",
    "\\begin{eqnarray}\n",
    "\\label{eq:A0_fourier}\n",
    "A_0 & = & \\frac{2}{T}\\int_0^{T} f(t)\\;\\mathrm{d}t\\\\\n",
    "\\label{eq:An_fourier}\n",
    "A_n & = & \\frac{2}{T}\\int_0^{T} \\cos(n\\omega t) f(t)\\;\\mathrm{d}t\\\\\n",
    "\\label{eq:Bn_fourier}\n",
    "B_n & = & \\frac{2}{T}\\int_0^{T} \\sin(n\\omega t) f(t)\\;\\mathrm{d}t\\\\\n",
    "\\end{eqnarray}"
   ]
  },
  {
   "cell_type": "markdown",
   "metadata": {},
   "source": [
    "Como sucede con las series de potencias, una cosa es aproximar una función en un dominio usando series de funciones y otra muy distinta es asegurar la convergencia uniforme de la serie infinita.  En el caso de las series de Fourier el teorema de Dirichlet ofrece las condiciones para dicha convergencia:"
   ]
  },
  {
   "cell_type": "markdown",
   "metadata": {
    "label": "box:teo:dirichlet",
    "subtitle": "Teorema de Dirichlet para series de Fourier",
    "tags": [
     "box_theorem",
     "box:teo:dirichlet"
    ],
    "title": "Proposición"
   },
   "source": [
    "> **Proposición: Teorema de Dirichlet para series de Fourier.**<a id='box:teo:dirichlet'></a> Dada una función $f(t)$ definida en el dominio $[0,T]$ y que cumple las siguientes condiciones dentro de este intervalo:\n",
    "\n",
    "> 1. Es integrable.\n",
    "> 2. Esta acotada.\n",
    "> 3. Tiene un número finito de discontinuidades.\n",
    "\n",
    "> La serie de Fourier (Ec. [serie_fourier](#mjx-eqn-eq%3Aserie_fourier)) converge uniformemente a $f(t)$ para cualquier valor de $t\\in[0,T]$ "
   ]
  },
  {
   "cell_type": "markdown",
   "metadata": {},
   "source": [
    "Para ilustrar lo visto aquí sobre las series de Fourier, a continuación presentamos el algoritmo de una rutina que calcula el valor de los coeficientes $A_0$, $A_n$ y $B_n$ para cualquier función provista por el usuario.  El algoritmo se vale de la rutina `quad` para calcular numéricamente las integrales en las Ecs. ([A0_fourier](#mjx-eqn-eq%3AA0_fourier))-([Bn_fourier](#mjx-eqn-eq%3ABn_fourier)):"
   ]
  },
  {
   "cell_type": "markdown",
   "metadata": {},
   "source": [
    "<a id='code:coeficientes_fourier'></a>"
   ]
  },
  {
   "cell_type": "code",
   "execution_count": 23,
   "metadata": {
    "codelabel": "",
    "codeplot": 0,
    "tags": [
     "export",
     "code:coeficientes_fourier"
    ]
   },
   "outputs": [],
   "source": [
    "def coeficientes_fourier(funcion,T,k,args=()):\n",
    "    #Funciones externas\n",
    "    from scipy.integrate import quad\n",
    "    from numpy import sin,cos\n",
    "\n",
    "    #Parametro omega\n",
    "    w=2*pi/T\n",
    "    \n",
    "    #Determina los coeficientes en t:\n",
    "    f=lambda t:funcion(t,*args)\n",
    "    As=[2*quad(f,0,T,args=args)[0]/T]\n",
    "    Bs=[0]\n",
    "    for n in range(1,k+1):\n",
    "        f_cos_n=lambda t:funcion(t,*args)*cos(n*w*t)\n",
    "        As+=[2*quad(f_cos_n,0,T)[0]/T]\n",
    "        f_sin_n=lambda t:funcion(t,*args)*sin(n*w*t)\n",
    "        Bs+=[2*quad(f_sin_n,0,T)[0]/T]\n",
    "    \n",
    "    return As,Bs"
   ]
  },
  {
   "cell_type": "markdown",
   "metadata": {},
   "source": [
    "Nótese que el usuario debe proveer la lista de las opciones de la función `funcion` en la forma de la *tupla* `args` (ver [Sección *Funciones*](04.01.02.00.Fundamentos.Calculo.CalculoInfinitesimal.ipynb#funciones)).  Esta rutina solo permite calcular el valor de los coeficientes de la serie (almacenados en las listas `As` y `Bs`).  Para calcular la suma parcial se debe usar la siguiente rutina:"
   ]
  },
  {
   "cell_type": "code",
   "execution_count": 24,
   "metadata": {
    "codelabel": "",
    "codeplot": 0
   },
   "outputs": [],
   "source": [
    "def serie_fourier(t,As,Bs,T,k):\n",
    "    from numpy import sin,cos\n",
    "\n",
    "    #Parametro omega\n",
    "    w=2*pi/T\n",
    "\n",
    "    #Calcula la suma\n",
    "    sk=As[0]/2\n",
    "    for n in range(1,k+1):\n",
    "        sk+=As[n]*cos(n*w*t)+Bs[n]*sin(n*w*t)\n",
    "    \n",
    "    return sk"
   ]
  },
  {
   "cell_type": "markdown",
   "metadata": {},
   "source": [
    "Como un ejemplo, calculemos los primeros 30 coeficientes de la serie de Fourier de una línea recta:"
   ]
  },
  {
   "cell_type": "code",
   "execution_count": 25,
   "metadata": {
    "codelabel": "",
    "codeplot": 0
   },
   "outputs": [],
   "source": [
    "def f(t):\n",
    "    y=t\n",
    "    return y\n",
    "#Dominio de aproximación\n",
    "T=2*pi\n",
    "#Número de coeficientes\n",
    "k=30\n",
    "#Coeficientes\n",
    "As,Bs=coeficientes_fourier(f,T,k)"
   ]
  },
  {
   "cell_type": "code",
   "execution_count": 26,
   "metadata": {
    "codelabel": "",
    "codeplot": 0,
    "tags": [
     "hide_input"
    ]
   },
   "outputs": [
    {
     "name": "stdout",
     "output_type": "stream",
     "text": [
      "As = [ 6.283  0.    -0.    ... -0.    -0.     0.   ]\n",
      "Bs = [ 0.    -2.    -1.    ... -0.071 -0.069 -0.067]\n"
     ]
    }
   ],
   "source": [
    "from numpy import array,set_printoptions\n",
    "set_printoptions(threshold=11,precision=3,suppress=True)\n",
    "print(f\"As = {array(As)}\")\n",
    "print(f\"Bs = {array(Bs)}\")"
   ]
  },
  {
   "cell_type": "markdown",
   "metadata": {},
   "source": [
    "Para comprobar el resultado podemos hacer un gráfico de la rutina `serie_fourier` con algunos o todos los coeficientes calculados:"
   ]
  },
  {
   "cell_type": "code",
   "execution_count": 27,
   "metadata": {
    "codelabel": "",
    "codeplot": 0,
    "tags": [
     "hide_pdf",
     "hide_html"
    ]
   },
   "outputs": [],
   "source": [
    "%matplotlib nbagg"
   ]
  },
  {
   "cell_type": "code",
   "execution_count": 33,
   "metadata": {
    "codelabel": "fig:04.01.05.00.Fundamentos.Calculo.Series_13",
    "codeplot": 1,
    "figcaption": "<b>Figura 4.13.</b> "
   },
   "outputs": [
    {
     "data": {
      "application/javascript": [
       "/* Put everything inside the global mpl namespace */\n",
       "window.mpl = {};\n",
       "\n",
       "\n",
       "mpl.get_websocket_type = function() {\n",
       "    if (typeof(WebSocket) !== 'undefined') {\n",
       "        return WebSocket;\n",
       "    } else if (typeof(MozWebSocket) !== 'undefined') {\n",
       "        return MozWebSocket;\n",
       "    } else {\n",
       "        alert('Your browser does not have WebSocket support. ' +\n",
       "              'Please try Chrome, Safari or Firefox ≥ 6. ' +\n",
       "              'Firefox 4 and 5 are also supported but you ' +\n",
       "              'have to enable WebSockets in about:config.');\n",
       "    };\n",
       "}\n",
       "\n",
       "mpl.figure = function(figure_id, websocket, ondownload, parent_element) {\n",
       "    this.id = figure_id;\n",
       "\n",
       "    this.ws = websocket;\n",
       "\n",
       "    this.supports_binary = (this.ws.binaryType != undefined);\n",
       "\n",
       "    if (!this.supports_binary) {\n",
       "        var warnings = document.getElementById(\"mpl-warnings\");\n",
       "        if (warnings) {\n",
       "            warnings.style.display = 'block';\n",
       "            warnings.textContent = (\n",
       "                \"This browser does not support binary websocket messages. \" +\n",
       "                    \"Performance may be slow.\");\n",
       "        }\n",
       "    }\n",
       "\n",
       "    this.imageObj = new Image();\n",
       "\n",
       "    this.context = undefined;\n",
       "    this.message = undefined;\n",
       "    this.canvas = undefined;\n",
       "    this.rubberband_canvas = undefined;\n",
       "    this.rubberband_context = undefined;\n",
       "    this.format_dropdown = undefined;\n",
       "\n",
       "    this.image_mode = 'full';\n",
       "\n",
       "    this.root = $('<div/>');\n",
       "    this._root_extra_style(this.root)\n",
       "    this.root.attr('style', 'display: inline-block');\n",
       "\n",
       "    $(parent_element).append(this.root);\n",
       "\n",
       "    this._init_header(this);\n",
       "    this._init_canvas(this);\n",
       "    this._init_toolbar(this);\n",
       "\n",
       "    var fig = this;\n",
       "\n",
       "    this.waiting = false;\n",
       "\n",
       "    this.ws.onopen =  function () {\n",
       "            fig.send_message(\"supports_binary\", {value: fig.supports_binary});\n",
       "            fig.send_message(\"send_image_mode\", {});\n",
       "            if (mpl.ratio != 1) {\n",
       "                fig.send_message(\"set_dpi_ratio\", {'dpi_ratio': mpl.ratio});\n",
       "            }\n",
       "            fig.send_message(\"refresh\", {});\n",
       "        }\n",
       "\n",
       "    this.imageObj.onload = function() {\n",
       "            if (fig.image_mode == 'full') {\n",
       "                // Full images could contain transparency (where diff images\n",
       "                // almost always do), so we need to clear the canvas so that\n",
       "                // there is no ghosting.\n",
       "                fig.context.clearRect(0, 0, fig.canvas.width, fig.canvas.height);\n",
       "            }\n",
       "            fig.context.drawImage(fig.imageObj, 0, 0);\n",
       "        };\n",
       "\n",
       "    this.imageObj.onunload = function() {\n",
       "        fig.ws.close();\n",
       "    }\n",
       "\n",
       "    this.ws.onmessage = this._make_on_message_function(this);\n",
       "\n",
       "    this.ondownload = ondownload;\n",
       "}\n",
       "\n",
       "mpl.figure.prototype._init_header = function() {\n",
       "    var titlebar = $(\n",
       "        '<div class=\"ui-dialog-titlebar ui-widget-header ui-corner-all ' +\n",
       "        'ui-helper-clearfix\"/>');\n",
       "    var titletext = $(\n",
       "        '<div class=\"ui-dialog-title\" style=\"width: 100%; ' +\n",
       "        'text-align: center; padding: 3px;\"/>');\n",
       "    titlebar.append(titletext)\n",
       "    this.root.append(titlebar);\n",
       "    this.header = titletext[0];\n",
       "}\n",
       "\n",
       "\n",
       "\n",
       "mpl.figure.prototype._canvas_extra_style = function(canvas_div) {\n",
       "\n",
       "}\n",
       "\n",
       "\n",
       "mpl.figure.prototype._root_extra_style = function(canvas_div) {\n",
       "\n",
       "}\n",
       "\n",
       "mpl.figure.prototype._init_canvas = function() {\n",
       "    var fig = this;\n",
       "\n",
       "    var canvas_div = $('<div/>');\n",
       "\n",
       "    canvas_div.attr('style', 'position: relative; clear: both; outline: 0');\n",
       "\n",
       "    function canvas_keyboard_event(event) {\n",
       "        return fig.key_event(event, event['data']);\n",
       "    }\n",
       "\n",
       "    canvas_div.keydown('key_press', canvas_keyboard_event);\n",
       "    canvas_div.keyup('key_release', canvas_keyboard_event);\n",
       "    this.canvas_div = canvas_div\n",
       "    this._canvas_extra_style(canvas_div)\n",
       "    this.root.append(canvas_div);\n",
       "\n",
       "    var canvas = $('<canvas/>');\n",
       "    canvas.addClass('mpl-canvas');\n",
       "    canvas.attr('style', \"left: 0; top: 0; z-index: 0; outline: 0\")\n",
       "\n",
       "    this.canvas = canvas[0];\n",
       "    this.context = canvas[0].getContext(\"2d\");\n",
       "\n",
       "    var backingStore = this.context.backingStorePixelRatio ||\n",
       "\tthis.context.webkitBackingStorePixelRatio ||\n",
       "\tthis.context.mozBackingStorePixelRatio ||\n",
       "\tthis.context.msBackingStorePixelRatio ||\n",
       "\tthis.context.oBackingStorePixelRatio ||\n",
       "\tthis.context.backingStorePixelRatio || 1;\n",
       "\n",
       "    mpl.ratio = (window.devicePixelRatio || 1) / backingStore;\n",
       "\n",
       "    var rubberband = $('<canvas/>');\n",
       "    rubberband.attr('style', \"position: absolute; left: 0; top: 0; z-index: 1;\")\n",
       "\n",
       "    var pass_mouse_events = true;\n",
       "\n",
       "    canvas_div.resizable({\n",
       "        start: function(event, ui) {\n",
       "            pass_mouse_events = false;\n",
       "        },\n",
       "        resize: function(event, ui) {\n",
       "            fig.request_resize(ui.size.width, ui.size.height);\n",
       "        },\n",
       "        stop: function(event, ui) {\n",
       "            pass_mouse_events = true;\n",
       "            fig.request_resize(ui.size.width, ui.size.height);\n",
       "        },\n",
       "    });\n",
       "\n",
       "    function mouse_event_fn(event) {\n",
       "        if (pass_mouse_events)\n",
       "            return fig.mouse_event(event, event['data']);\n",
       "    }\n",
       "\n",
       "    rubberband.mousedown('button_press', mouse_event_fn);\n",
       "    rubberband.mouseup('button_release', mouse_event_fn);\n",
       "    // Throttle sequential mouse events to 1 every 20ms.\n",
       "    rubberband.mousemove('motion_notify', mouse_event_fn);\n",
       "\n",
       "    rubberband.mouseenter('figure_enter', mouse_event_fn);\n",
       "    rubberband.mouseleave('figure_leave', mouse_event_fn);\n",
       "\n",
       "    canvas_div.on(\"wheel\", function (event) {\n",
       "        event = event.originalEvent;\n",
       "        event['data'] = 'scroll'\n",
       "        if (event.deltaY < 0) {\n",
       "            event.step = 1;\n",
       "        } else {\n",
       "            event.step = -1;\n",
       "        }\n",
       "        mouse_event_fn(event);\n",
       "    });\n",
       "\n",
       "    canvas_div.append(canvas);\n",
       "    canvas_div.append(rubberband);\n",
       "\n",
       "    this.rubberband = rubberband;\n",
       "    this.rubberband_canvas = rubberband[0];\n",
       "    this.rubberband_context = rubberband[0].getContext(\"2d\");\n",
       "    this.rubberband_context.strokeStyle = \"#000000\";\n",
       "\n",
       "    this._resize_canvas = function(width, height) {\n",
       "        // Keep the size of the canvas, canvas container, and rubber band\n",
       "        // canvas in synch.\n",
       "        canvas_div.css('width', width)\n",
       "        canvas_div.css('height', height)\n",
       "\n",
       "        canvas.attr('width', width * mpl.ratio);\n",
       "        canvas.attr('height', height * mpl.ratio);\n",
       "        canvas.attr('style', 'width: ' + width + 'px; height: ' + height + 'px;');\n",
       "\n",
       "        rubberband.attr('width', width);\n",
       "        rubberband.attr('height', height);\n",
       "    }\n",
       "\n",
       "    // Set the figure to an initial 600x600px, this will subsequently be updated\n",
       "    // upon first draw.\n",
       "    this._resize_canvas(600, 600);\n",
       "\n",
       "    // Disable right mouse context menu.\n",
       "    $(this.rubberband_canvas).bind(\"contextmenu\",function(e){\n",
       "        return false;\n",
       "    });\n",
       "\n",
       "    function set_focus () {\n",
       "        canvas.focus();\n",
       "        canvas_div.focus();\n",
       "    }\n",
       "\n",
       "    window.setTimeout(set_focus, 100);\n",
       "}\n",
       "\n",
       "mpl.figure.prototype._init_toolbar = function() {\n",
       "    var fig = this;\n",
       "\n",
       "    var nav_element = $('<div/>');\n",
       "    nav_element.attr('style', 'width: 100%');\n",
       "    this.root.append(nav_element);\n",
       "\n",
       "    // Define a callback function for later on.\n",
       "    function toolbar_event(event) {\n",
       "        return fig.toolbar_button_onclick(event['data']);\n",
       "    }\n",
       "    function toolbar_mouse_event(event) {\n",
       "        return fig.toolbar_button_onmouseover(event['data']);\n",
       "    }\n",
       "\n",
       "    for(var toolbar_ind in mpl.toolbar_items) {\n",
       "        var name = mpl.toolbar_items[toolbar_ind][0];\n",
       "        var tooltip = mpl.toolbar_items[toolbar_ind][1];\n",
       "        var image = mpl.toolbar_items[toolbar_ind][2];\n",
       "        var method_name = mpl.toolbar_items[toolbar_ind][3];\n",
       "\n",
       "        if (!name) {\n",
       "            // put a spacer in here.\n",
       "            continue;\n",
       "        }\n",
       "        var button = $('<button/>');\n",
       "        button.addClass('ui-button ui-widget ui-state-default ui-corner-all ' +\n",
       "                        'ui-button-icon-only');\n",
       "        button.attr('role', 'button');\n",
       "        button.attr('aria-disabled', 'false');\n",
       "        button.click(method_name, toolbar_event);\n",
       "        button.mouseover(tooltip, toolbar_mouse_event);\n",
       "\n",
       "        var icon_img = $('<span/>');\n",
       "        icon_img.addClass('ui-button-icon-primary ui-icon');\n",
       "        icon_img.addClass(image);\n",
       "        icon_img.addClass('ui-corner-all');\n",
       "\n",
       "        var tooltip_span = $('<span/>');\n",
       "        tooltip_span.addClass('ui-button-text');\n",
       "        tooltip_span.html(tooltip);\n",
       "\n",
       "        button.append(icon_img);\n",
       "        button.append(tooltip_span);\n",
       "\n",
       "        nav_element.append(button);\n",
       "    }\n",
       "\n",
       "    var fmt_picker_span = $('<span/>');\n",
       "\n",
       "    var fmt_picker = $('<select/>');\n",
       "    fmt_picker.addClass('mpl-toolbar-option ui-widget ui-widget-content');\n",
       "    fmt_picker_span.append(fmt_picker);\n",
       "    nav_element.append(fmt_picker_span);\n",
       "    this.format_dropdown = fmt_picker[0];\n",
       "\n",
       "    for (var ind in mpl.extensions) {\n",
       "        var fmt = mpl.extensions[ind];\n",
       "        var option = $(\n",
       "            '<option/>', {selected: fmt === mpl.default_extension}).html(fmt);\n",
       "        fmt_picker.append(option);\n",
       "    }\n",
       "\n",
       "    // Add hover states to the ui-buttons\n",
       "    $( \".ui-button\" ).hover(\n",
       "        function() { $(this).addClass(\"ui-state-hover\");},\n",
       "        function() { $(this).removeClass(\"ui-state-hover\");}\n",
       "    );\n",
       "\n",
       "    var status_bar = $('<span class=\"mpl-message\"/>');\n",
       "    nav_element.append(status_bar);\n",
       "    this.message = status_bar[0];\n",
       "}\n",
       "\n",
       "mpl.figure.prototype.request_resize = function(x_pixels, y_pixels) {\n",
       "    // Request matplotlib to resize the figure. Matplotlib will then trigger a resize in the client,\n",
       "    // which will in turn request a refresh of the image.\n",
       "    this.send_message('resize', {'width': x_pixels, 'height': y_pixels});\n",
       "}\n",
       "\n",
       "mpl.figure.prototype.send_message = function(type, properties) {\n",
       "    properties['type'] = type;\n",
       "    properties['figure_id'] = this.id;\n",
       "    this.ws.send(JSON.stringify(properties));\n",
       "}\n",
       "\n",
       "mpl.figure.prototype.send_draw_message = function() {\n",
       "    if (!this.waiting) {\n",
       "        this.waiting = true;\n",
       "        this.ws.send(JSON.stringify({type: \"draw\", figure_id: this.id}));\n",
       "    }\n",
       "}\n",
       "\n",
       "\n",
       "mpl.figure.prototype.handle_save = function(fig, msg) {\n",
       "    var format_dropdown = fig.format_dropdown;\n",
       "    var format = format_dropdown.options[format_dropdown.selectedIndex].value;\n",
       "    fig.ondownload(fig, format);\n",
       "}\n",
       "\n",
       "\n",
       "mpl.figure.prototype.handle_resize = function(fig, msg) {\n",
       "    var size = msg['size'];\n",
       "    if (size[0] != fig.canvas.width || size[1] != fig.canvas.height) {\n",
       "        fig._resize_canvas(size[0], size[1]);\n",
       "        fig.send_message(\"refresh\", {});\n",
       "    };\n",
       "}\n",
       "\n",
       "mpl.figure.prototype.handle_rubberband = function(fig, msg) {\n",
       "    var x0 = msg['x0'] / mpl.ratio;\n",
       "    var y0 = (fig.canvas.height - msg['y0']) / mpl.ratio;\n",
       "    var x1 = msg['x1'] / mpl.ratio;\n",
       "    var y1 = (fig.canvas.height - msg['y1']) / mpl.ratio;\n",
       "    x0 = Math.floor(x0) + 0.5;\n",
       "    y0 = Math.floor(y0) + 0.5;\n",
       "    x1 = Math.floor(x1) + 0.5;\n",
       "    y1 = Math.floor(y1) + 0.5;\n",
       "    var min_x = Math.min(x0, x1);\n",
       "    var min_y = Math.min(y0, y1);\n",
       "    var width = Math.abs(x1 - x0);\n",
       "    var height = Math.abs(y1 - y0);\n",
       "\n",
       "    fig.rubberband_context.clearRect(\n",
       "        0, 0, fig.canvas.width / mpl.ratio, fig.canvas.height / mpl.ratio);\n",
       "\n",
       "    fig.rubberband_context.strokeRect(min_x, min_y, width, height);\n",
       "}\n",
       "\n",
       "mpl.figure.prototype.handle_figure_label = function(fig, msg) {\n",
       "    // Updates the figure title.\n",
       "    fig.header.textContent = msg['label'];\n",
       "}\n",
       "\n",
       "mpl.figure.prototype.handle_cursor = function(fig, msg) {\n",
       "    var cursor = msg['cursor'];\n",
       "    switch(cursor)\n",
       "    {\n",
       "    case 0:\n",
       "        cursor = 'pointer';\n",
       "        break;\n",
       "    case 1:\n",
       "        cursor = 'default';\n",
       "        break;\n",
       "    case 2:\n",
       "        cursor = 'crosshair';\n",
       "        break;\n",
       "    case 3:\n",
       "        cursor = 'move';\n",
       "        break;\n",
       "    }\n",
       "    fig.rubberband_canvas.style.cursor = cursor;\n",
       "}\n",
       "\n",
       "mpl.figure.prototype.handle_message = function(fig, msg) {\n",
       "    fig.message.textContent = msg['message'];\n",
       "}\n",
       "\n",
       "mpl.figure.prototype.handle_draw = function(fig, msg) {\n",
       "    // Request the server to send over a new figure.\n",
       "    fig.send_draw_message();\n",
       "}\n",
       "\n",
       "mpl.figure.prototype.handle_image_mode = function(fig, msg) {\n",
       "    fig.image_mode = msg['mode'];\n",
       "}\n",
       "\n",
       "mpl.figure.prototype.updated_canvas_event = function() {\n",
       "    // Called whenever the canvas gets updated.\n",
       "    this.send_message(\"ack\", {});\n",
       "}\n",
       "\n",
       "// A function to construct a web socket function for onmessage handling.\n",
       "// Called in the figure constructor.\n",
       "mpl.figure.prototype._make_on_message_function = function(fig) {\n",
       "    return function socket_on_message(evt) {\n",
       "        if (evt.data instanceof Blob) {\n",
       "            /* FIXME: We get \"Resource interpreted as Image but\n",
       "             * transferred with MIME type text/plain:\" errors on\n",
       "             * Chrome.  But how to set the MIME type?  It doesn't seem\n",
       "             * to be part of the websocket stream */\n",
       "            evt.data.type = \"image/png\";\n",
       "\n",
       "            /* Free the memory for the previous frames */\n",
       "            if (fig.imageObj.src) {\n",
       "                (window.URL || window.webkitURL).revokeObjectURL(\n",
       "                    fig.imageObj.src);\n",
       "            }\n",
       "\n",
       "            fig.imageObj.src = (window.URL || window.webkitURL).createObjectURL(\n",
       "                evt.data);\n",
       "            fig.updated_canvas_event();\n",
       "            fig.waiting = false;\n",
       "            return;\n",
       "        }\n",
       "        else if (typeof evt.data === 'string' && evt.data.slice(0, 21) == \"data:image/png;base64\") {\n",
       "            fig.imageObj.src = evt.data;\n",
       "            fig.updated_canvas_event();\n",
       "            fig.waiting = false;\n",
       "            return;\n",
       "        }\n",
       "\n",
       "        var msg = JSON.parse(evt.data);\n",
       "        var msg_type = msg['type'];\n",
       "\n",
       "        // Call the  \"handle_{type}\" callback, which takes\n",
       "        // the figure and JSON message as its only arguments.\n",
       "        try {\n",
       "            var callback = fig[\"handle_\" + msg_type];\n",
       "        } catch (e) {\n",
       "            console.log(\"No handler for the '\" + msg_type + \"' message type: \", msg);\n",
       "            return;\n",
       "        }\n",
       "\n",
       "        if (callback) {\n",
       "            try {\n",
       "                // console.log(\"Handling '\" + msg_type + \"' message: \", msg);\n",
       "                callback(fig, msg);\n",
       "            } catch (e) {\n",
       "                console.log(\"Exception inside the 'handler_\" + msg_type + \"' callback:\", e, e.stack, msg);\n",
       "            }\n",
       "        }\n",
       "    };\n",
       "}\n",
       "\n",
       "// from http://stackoverflow.com/questions/1114465/getting-mouse-location-in-canvas\n",
       "mpl.findpos = function(e) {\n",
       "    //this section is from http://www.quirksmode.org/js/events_properties.html\n",
       "    var targ;\n",
       "    if (!e)\n",
       "        e = window.event;\n",
       "    if (e.target)\n",
       "        targ = e.target;\n",
       "    else if (e.srcElement)\n",
       "        targ = e.srcElement;\n",
       "    if (targ.nodeType == 3) // defeat Safari bug\n",
       "        targ = targ.parentNode;\n",
       "\n",
       "    // jQuery normalizes the pageX and pageY\n",
       "    // pageX,Y are the mouse positions relative to the document\n",
       "    // offset() returns the position of the element relative to the document\n",
       "    var x = e.pageX - $(targ).offset().left;\n",
       "    var y = e.pageY - $(targ).offset().top;\n",
       "\n",
       "    return {\"x\": x, \"y\": y};\n",
       "};\n",
       "\n",
       "/*\n",
       " * return a copy of an object with only non-object keys\n",
       " * we need this to avoid circular references\n",
       " * http://stackoverflow.com/a/24161582/3208463\n",
       " */\n",
       "function simpleKeys (original) {\n",
       "  return Object.keys(original).reduce(function (obj, key) {\n",
       "    if (typeof original[key] !== 'object')\n",
       "        obj[key] = original[key]\n",
       "    return obj;\n",
       "  }, {});\n",
       "}\n",
       "\n",
       "mpl.figure.prototype.mouse_event = function(event, name) {\n",
       "    var canvas_pos = mpl.findpos(event)\n",
       "\n",
       "    if (name === 'button_press')\n",
       "    {\n",
       "        this.canvas.focus();\n",
       "        this.canvas_div.focus();\n",
       "    }\n",
       "\n",
       "    var x = canvas_pos.x * mpl.ratio;\n",
       "    var y = canvas_pos.y * mpl.ratio;\n",
       "\n",
       "    this.send_message(name, {x: x, y: y, button: event.button,\n",
       "                             step: event.step,\n",
       "                             guiEvent: simpleKeys(event)});\n",
       "\n",
       "    /* This prevents the web browser from automatically changing to\n",
       "     * the text insertion cursor when the button is pressed.  We want\n",
       "     * to control all of the cursor setting manually through the\n",
       "     * 'cursor' event from matplotlib */\n",
       "    event.preventDefault();\n",
       "    return false;\n",
       "}\n",
       "\n",
       "mpl.figure.prototype._key_event_extra = function(event, name) {\n",
       "    // Handle any extra behaviour associated with a key event\n",
       "}\n",
       "\n",
       "mpl.figure.prototype.key_event = function(event, name) {\n",
       "\n",
       "    // Prevent repeat events\n",
       "    if (name == 'key_press')\n",
       "    {\n",
       "        if (event.which === this._key)\n",
       "            return;\n",
       "        else\n",
       "            this._key = event.which;\n",
       "    }\n",
       "    if (name == 'key_release')\n",
       "        this._key = null;\n",
       "\n",
       "    var value = '';\n",
       "    if (event.ctrlKey && event.which != 17)\n",
       "        value += \"ctrl+\";\n",
       "    if (event.altKey && event.which != 18)\n",
       "        value += \"alt+\";\n",
       "    if (event.shiftKey && event.which != 16)\n",
       "        value += \"shift+\";\n",
       "\n",
       "    value += 'k';\n",
       "    value += event.which.toString();\n",
       "\n",
       "    this._key_event_extra(event, name);\n",
       "\n",
       "    this.send_message(name, {key: value,\n",
       "                             guiEvent: simpleKeys(event)});\n",
       "    return false;\n",
       "}\n",
       "\n",
       "mpl.figure.prototype.toolbar_button_onclick = function(name) {\n",
       "    if (name == 'download') {\n",
       "        this.handle_save(this, null);\n",
       "    } else {\n",
       "        this.send_message(\"toolbar_button\", {name: name});\n",
       "    }\n",
       "};\n",
       "\n",
       "mpl.figure.prototype.toolbar_button_onmouseover = function(tooltip) {\n",
       "    this.message.textContent = tooltip;\n",
       "};\n",
       "mpl.toolbar_items = [[\"Home\", \"Reset original view\", \"fa fa-home icon-home\", \"home\"], [\"Back\", \"Back to previous view\", \"fa fa-arrow-left icon-arrow-left\", \"back\"], [\"Forward\", \"Forward to next view\", \"fa fa-arrow-right icon-arrow-right\", \"forward\"], [\"\", \"\", \"\", \"\"], [\"Pan\", \"Pan axes with left mouse, zoom with right\", \"fa fa-arrows icon-move\", \"pan\"], [\"Zoom\", \"Zoom to rectangle\", \"fa fa-square-o icon-check-empty\", \"zoom\"], [\"\", \"\", \"\", \"\"], [\"Download\", \"Download plot\", \"fa fa-floppy-o icon-save\", \"download\"]];\n",
       "\n",
       "mpl.extensions = [\"eps\", \"jpeg\", \"pdf\", \"png\", \"ps\", \"raw\", \"svg\", \"tif\"];\n",
       "\n",
       "mpl.default_extension = \"png\";var comm_websocket_adapter = function(comm) {\n",
       "    // Create a \"websocket\"-like object which calls the given IPython comm\n",
       "    // object with the appropriate methods. Currently this is a non binary\n",
       "    // socket, so there is still some room for performance tuning.\n",
       "    var ws = {};\n",
       "\n",
       "    ws.close = function() {\n",
       "        comm.close()\n",
       "    };\n",
       "    ws.send = function(m) {\n",
       "        //console.log('sending', m);\n",
       "        comm.send(m);\n",
       "    };\n",
       "    // Register the callback with on_msg.\n",
       "    comm.on_msg(function(msg) {\n",
       "        //console.log('receiving', msg['content']['data'], msg);\n",
       "        // Pass the mpl event to the overridden (by mpl) onmessage function.\n",
       "        ws.onmessage(msg['content']['data'])\n",
       "    });\n",
       "    return ws;\n",
       "}\n",
       "\n",
       "mpl.mpl_figure_comm = function(comm, msg) {\n",
       "    // This is the function which gets called when the mpl process\n",
       "    // starts-up an IPython Comm through the \"matplotlib\" channel.\n",
       "\n",
       "    var id = msg.content.data.id;\n",
       "    // Get hold of the div created by the display call when the Comm\n",
       "    // socket was opened in Python.\n",
       "    var element = $(\"#\" + id);\n",
       "    var ws_proxy = comm_websocket_adapter(comm)\n",
       "\n",
       "    function ondownload(figure, format) {\n",
       "        window.open(figure.imageObj.src);\n",
       "    }\n",
       "\n",
       "    var fig = new mpl.figure(id, ws_proxy,\n",
       "                           ondownload,\n",
       "                           element.get(0));\n",
       "\n",
       "    // Call onopen now - mpl needs it, as it is assuming we've passed it a real\n",
       "    // web socket which is closed, not our websocket->open comm proxy.\n",
       "    ws_proxy.onopen();\n",
       "\n",
       "    fig.parent_element = element.get(0);\n",
       "    fig.cell_info = mpl.find_output_cell(\"<div id='\" + id + \"'></div>\");\n",
       "    if (!fig.cell_info) {\n",
       "        console.error(\"Failed to find cell for figure\", id, fig);\n",
       "        return;\n",
       "    }\n",
       "\n",
       "    var output_index = fig.cell_info[2]\n",
       "    var cell = fig.cell_info[0];\n",
       "\n",
       "};\n",
       "\n",
       "mpl.figure.prototype.handle_close = function(fig, msg) {\n",
       "    var width = fig.canvas.width/mpl.ratio\n",
       "    fig.root.unbind('remove')\n",
       "\n",
       "    // Update the output cell to use the data from the current canvas.\n",
       "    fig.push_to_output();\n",
       "    var dataURL = fig.canvas.toDataURL();\n",
       "    // Re-enable the keyboard manager in IPython - without this line, in FF,\n",
       "    // the notebook keyboard shortcuts fail.\n",
       "    IPython.keyboard_manager.enable()\n",
       "    $(fig.parent_element).html('<img src=\"' + dataURL + '\" width=\"' + width + '\">');\n",
       "    fig.close_ws(fig, msg);\n",
       "}\n",
       "\n",
       "mpl.figure.prototype.close_ws = function(fig, msg){\n",
       "    fig.send_message('closing', msg);\n",
       "    // fig.ws.close()\n",
       "}\n",
       "\n",
       "mpl.figure.prototype.push_to_output = function(remove_interactive) {\n",
       "    // Turn the data on the canvas into data in the output cell.\n",
       "    var width = this.canvas.width/mpl.ratio\n",
       "    var dataURL = this.canvas.toDataURL();\n",
       "    this.cell_info[1]['text/html'] = '<img src=\"' + dataURL + '\" width=\"' + width + '\">';\n",
       "}\n",
       "\n",
       "mpl.figure.prototype.updated_canvas_event = function() {\n",
       "    // Tell IPython that the notebook contents must change.\n",
       "    IPython.notebook.set_dirty(true);\n",
       "    this.send_message(\"ack\", {});\n",
       "    var fig = this;\n",
       "    // Wait a second, then push the new image to the DOM so\n",
       "    // that it is saved nicely (might be nice to debounce this).\n",
       "    setTimeout(function () { fig.push_to_output() }, 1000);\n",
       "}\n",
       "\n",
       "mpl.figure.prototype._init_toolbar = function() {\n",
       "    var fig = this;\n",
       "\n",
       "    var nav_element = $('<div/>');\n",
       "    nav_element.attr('style', 'width: 100%');\n",
       "    this.root.append(nav_element);\n",
       "\n",
       "    // Define a callback function for later on.\n",
       "    function toolbar_event(event) {\n",
       "        return fig.toolbar_button_onclick(event['data']);\n",
       "    }\n",
       "    function toolbar_mouse_event(event) {\n",
       "        return fig.toolbar_button_onmouseover(event['data']);\n",
       "    }\n",
       "\n",
       "    for(var toolbar_ind in mpl.toolbar_items){\n",
       "        var name = mpl.toolbar_items[toolbar_ind][0];\n",
       "        var tooltip = mpl.toolbar_items[toolbar_ind][1];\n",
       "        var image = mpl.toolbar_items[toolbar_ind][2];\n",
       "        var method_name = mpl.toolbar_items[toolbar_ind][3];\n",
       "\n",
       "        if (!name) { continue; };\n",
       "\n",
       "        var button = $('<button class=\"btn btn-default\" href=\"#\" title=\"' + name + '\"><i class=\"fa ' + image + ' fa-lg\"></i></button>');\n",
       "        button.click(method_name, toolbar_event);\n",
       "        button.mouseover(tooltip, toolbar_mouse_event);\n",
       "        nav_element.append(button);\n",
       "    }\n",
       "\n",
       "    // Add the status bar.\n",
       "    var status_bar = $('<span class=\"mpl-message\" style=\"text-align:right; float: right;\"/>');\n",
       "    nav_element.append(status_bar);\n",
       "    this.message = status_bar[0];\n",
       "\n",
       "    // Add the close button to the window.\n",
       "    var buttongrp = $('<div class=\"btn-group inline pull-right\"></div>');\n",
       "    var button = $('<button class=\"btn btn-mini btn-primary\" href=\"#\" title=\"Stop Interaction\"><i class=\"fa fa-power-off icon-remove icon-large\"></i></button>');\n",
       "    button.click(function (evt) { fig.handle_close(fig, {}); } );\n",
       "    button.mouseover('Stop Interaction', toolbar_mouse_event);\n",
       "    buttongrp.append(button);\n",
       "    var titlebar = this.root.find($('.ui-dialog-titlebar'));\n",
       "    titlebar.prepend(buttongrp);\n",
       "}\n",
       "\n",
       "mpl.figure.prototype._root_extra_style = function(el){\n",
       "    var fig = this\n",
       "    el.on(\"remove\", function(){\n",
       "\tfig.close_ws(fig, {});\n",
       "    });\n",
       "}\n",
       "\n",
       "mpl.figure.prototype._canvas_extra_style = function(el){\n",
       "    // this is important to make the div 'focusable\n",
       "    el.attr('tabindex', 0)\n",
       "    // reach out to IPython and tell the keyboard manager to turn it's self\n",
       "    // off when our div gets focus\n",
       "\n",
       "    // location in version 3\n",
       "    if (IPython.notebook.keyboard_manager) {\n",
       "        IPython.notebook.keyboard_manager.register_events(el);\n",
       "    }\n",
       "    else {\n",
       "        // location in version 2\n",
       "        IPython.keyboard_manager.register_events(el);\n",
       "    }\n",
       "\n",
       "}\n",
       "\n",
       "mpl.figure.prototype._key_event_extra = function(event, name) {\n",
       "    var manager = IPython.notebook.keyboard_manager;\n",
       "    if (!manager)\n",
       "        manager = IPython.keyboard_manager;\n",
       "\n",
       "    // Check for shift+enter\n",
       "    if (event.shiftKey && event.which == 13) {\n",
       "        this.canvas_div.blur();\n",
       "        event.shiftKey = false;\n",
       "        // Send a \"J\" for go to next cell\n",
       "        event.which = 74;\n",
       "        event.keyCode = 74;\n",
       "        manager.command_mode();\n",
       "        manager.handle_keydown(event);\n",
       "    }\n",
       "}\n",
       "\n",
       "mpl.figure.prototype.handle_save = function(fig, msg) {\n",
       "    fig.ondownload(fig, null);\n",
       "}\n",
       "\n",
       "\n",
       "mpl.find_output_cell = function(html_output) {\n",
       "    // Return the cell and output element which can be found *uniquely* in the notebook.\n",
       "    // Note - this is a bit hacky, but it is done because the \"notebook_saving.Notebook\"\n",
       "    // IPython event is triggered only after the cells have been serialised, which for\n",
       "    // our purposes (turning an active figure into a static one), is too late.\n",
       "    var cells = IPython.notebook.get_cells();\n",
       "    var ncells = cells.length;\n",
       "    for (var i=0; i<ncells; i++) {\n",
       "        var cell = cells[i];\n",
       "        if (cell.cell_type === 'code'){\n",
       "            for (var j=0; j<cell.output_area.outputs.length; j++) {\n",
       "                var data = cell.output_area.outputs[j];\n",
       "                if (data.data) {\n",
       "                    // IPython >= 3 moved mimebundle to data attribute of output\n",
       "                    data = data.data;\n",
       "                }\n",
       "                if (data['text/html'] == html_output) {\n",
       "                    return [cell, data, j];\n",
       "                }\n",
       "            }\n",
       "        }\n",
       "    }\n",
       "}\n",
       "\n",
       "// Register the function which deals with the matplotlib target/channel.\n",
       "// The kernel may be null if the page has been refreshed.\n",
       "if (IPython.notebook.kernel != null) {\n",
       "    IPython.notebook.kernel.comm_manager.register_target('matplotlib', mpl.mpl_figure_comm);\n",
       "}\n"
      ],
      "text/plain": [
       "<IPython.core.display.Javascript object>"
      ]
     },
     "metadata": {},
     "output_type": "display_data"
    },
    {
     "data": {
      "text/html": [
       "<img src=\"data:image/png;base64,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\" width=\"640\">"
      ],
      "text/plain": [
       "<IPython.core.display.HTML object>"
      ]
     },
     "metadata": {},
     "output_type": "display_data"
    }
   ],
   "source": [
    "#Valores de la variable independiente\n",
    "import matplotlib.pyplot as plt\n",
    "fig=plt.figure();\n",
    "ax=fig.gca();\n",
    "\n",
    "#Aproximaciones\n",
    "from numpy import linspace\n",
    "ts=linspace(0,T,200)\n",
    "k=1\n",
    "ax.plot(ts,serie_fourier(ts,As,Bs,T,k),label=f\"k = {k}\");\n",
    "k=5\n",
    "ax.plot(ts,serie_fourier(ts,As,Bs,T,k),label=f\"k = {k}\");\n",
    "k=10\n",
    "ax.plot(ts,serie_fourier(ts,As,Bs,T,k),label=f\"k = {k}\");\n",
    "#Gráfico de la función\n",
    "ts=linspace(0,T,30)\n",
    "ax.plot(ts,f(ts),'k+',label=\"Función\");\n",
    "\n",
    "#Decoración\n",
    "ax.legend();\n",
    "ax.set_xlabel(\"$t$\");\n",
    "ax.set_ylabel(\"$f(t)$\");"
   ]
  },
  {
   "cell_type": "markdown",
   "metadata": {},
   "source": [
    "<a id='fig:04.01.05.00.Fundamentos.Calculo.Series_13'></a><center><b>Figura 4.13.</b> </center>"
   ]
  },
  {
   "cell_type": "markdown",
   "metadata": {},
   "source": [
    "En las libretas provistas con la [versión electrónica del libro](http://github.com/seap-udea/MecanicaCeleste-Zuluaga) encontrarán una versión interactiva de este gráfico."
   ]
  },
  {
   "cell_type": "markdown",
   "metadata": {
    "tags": [
     "hide_html"
    ]
   },
   "source": [
    "Para construir una versión interactiva, debemos primero escribir una rutina que reuna los algoritmos anteriores:"
   ]
  },
  {
   "cell_type": "code",
   "execution_count": 31,
   "metadata": {
    "codelabel": "",
    "codeplot": 0,
    "tags": [
     "hide_html"
    ]
   },
   "outputs": [],
   "source": [
    "def grafico_serie_fourier(k=1,funcion=1):\n",
    "    #Linea recta\n",
    "    if int(funcion)==1:\n",
    "        T=1\n",
    "        f=lambda t:t\n",
    "    #Función triangular\n",
    "    elif int(funcion)==2:\n",
    "        T=1\n",
    "        f=lambda t:2*t if t<0.5 else (1+2*(0.5-t))\n",
    "    #Parábola invertida\n",
    "    elif int(funcion)==3:\n",
    "        T=1\n",
    "        f=lambda t:1-4*(t-0.5)**2\n",
    "    #Función escalon\n",
    "    elif int(funcion)==4:\n",
    "        T=1\n",
    "        f=lambda t:1 if t<0.5 else -1 \n",
    "        \n",
    "    #Número de coeficientes\n",
    "    k=int(k)\n",
    "    #Coeficientes\n",
    "    As,Bs=coeficientes_fourier(f,T,k)\n",
    "    \n",
    "    #Valores de la variable dependiente\n",
    "\n",
    "    import matplotlib.pyplot as plt\n",
    "    plt.close(\"all\")\n",
    "    fig=plt.figure();\n",
    "    ax=fig.gca();\n",
    "\n",
    "    #Aproximaciones\n",
    "    ts=linspace(0,T,200)\n",
    "    fouriers=[serie_fourier(t,As,Bs,T,k) for t in ts]\n",
    "    ax.plot(ts,fouriers,label=f\"k = {k}\");\n",
    "    #Gráfico de la función\n",
    "    ts=linspace(0,T,30)\n",
    "    fs=[f(t) for t in ts]\n",
    "    ax.plot(ts,fs,'k+-',label=\"Función\");\n",
    "\n",
    "    #Decoración\n",
    "    ax.legend();\n",
    "    ax.set_xlabel(\"$t$\");\n",
    "    ax.set_ylabel(\"$f(t)$\");"
   ]
  },
  {
   "cell_type": "markdown",
   "metadata": {
    "tags": [
     "hide_html"
    ]
   },
   "source": [
    "El código para crear la rutina interactiva es:"
   ]
  },
  {
   "cell_type": "code",
   "execution_count": 32,
   "metadata": {
    "codelabel": "fig:04.01.05.00.Fundamentos.Calculo.Series_14",
    "codeplot": 1,
    "figcaption": "<b>Figura 4.14.</b> ",
    "tags": [
     "hide_html"
    ]
   },
   "outputs": [
    {
     "data": {
      "application/vnd.jupyter.widget-view+json": {
       "model_id": "1c9a47e59a314583990aaa6afc88c60f",
       "version_major": 2,
       "version_minor": 0
      },
      "text/plain": [
       "interactive(children=(IntSlider(value=1, description='k', max=30, min=1), RadioButtons(description='funcion', …"
      ]
     },
     "metadata": {},
     "output_type": "display_data"
    },
    {
     "data": {
      "text/plain": [
       "<function __main__.grafico_serie_fourier(k=1, funcion=1)>"
      ]
     },
     "execution_count": 32,
     "metadata": {},
     "output_type": "execute_result"
    }
   ],
   "source": [
    "from ipywidgets import interact,fixed,widgets\n",
    "opciones=dict(continuous_update=False)\n",
    "interact(grafico_serie_fourier,\n",
    "         k=widgets.IntSlider(value=1,min=1,max=30,step=1),\n",
    "         funcion=widgets.RadioButtons(options=[('Linea',1),\n",
    "                                               ('Triangulo',2),\n",
    "                                               ('Parabola',3),\n",
    "                                               ('Escalon',4),\n",
    "                                              ],value=1),\n",
    "        )"
   ]
  },
  {
   "cell_type": "markdown",
   "metadata": {},
   "source": [
    "<a id='fig:04.01.05.00.Fundamentos.Calculo.Series_14'></a><center><b>Figura 4.14.</b> </center>"
   ]
  },
  {
   "cell_type": "markdown",
   "metadata": {
    "tags": [
     "hide_html"
    ]
   },
   "source": [
    "--end:hide_pdf,hide_html--"
   ]
  },
  {
   "cell_type": "markdown",
   "metadata": {
    "tags": [
     "navigation"
    ]
   },
   "source": [
    "[Indice](index.ipynb) | Previo: [Fundamentos.Calculo.CalculoVariacional](04.01.04.00.Fundamentos.Calculo.CalculoVariacional.ipynb) | Siguiente: [Fundamentos.Conicas.Geometria](04.02.01.00.Fundamentos.Conicas.Geometria.ipynb)"
   ]
  }
 ],
 "metadata": {
  "celltoolbar": "Tags",
  "kernelspec": {
   "display_name": "Python 3",
   "language": "python",
   "name": "python3"
  },
  "language_info": {
   "codemirror_mode": {
    "name": "ipython",
    "version": 3
   },
   "file_extension": ".py",
   "mimetype": "text/x-python",
   "name": "python",
   "nbconvert_exporter": "python",
   "pygments_lexer": "ipython3",
   "version": "3.6.8"
  }
 },
 "nbformat": 4,
 "nbformat_minor": 2
}
