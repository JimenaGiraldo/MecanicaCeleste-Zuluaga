{
 "cells": [
  {
   "cell_type": "markdown",
   "metadata": {
    "tags": [
     "navigation"
    ]
   },
   "source": [
    "[Indice](index.ipynb) | Previo: [ProblemaNCuerpos.SolucionAnalitica.Energia](06.02.02.00.ProblemaNCuerpos.SolucionAnalitica.Energia.ipynb) | Siguiente: [ProblemaNCuerpos.TeoremaVirial](06.03.00.00.ProblemaNCuerpos.TeoremaVirial.ipynb)"
   ]
  },
  {
   "cell_type": "markdown",
   "metadata": {},
   "source": [
    "### 6.2.8. Síntesis y teorema de Bruns\n",
    "<a id='ncuerpos_teorema_bruns'></a>"
   ]
  },
  {
   "cell_type": "markdown",
   "metadata": {},
   "source": [
    "Hasta aquí hemos identificado las siguientes constantes de movimiento (cuadraturas) del problema de N cuerpos: \n",
    "\n",
    "\\begin{equation}\n",
    "\\label{eq:ncuerpos_constantes_movimiento}\n",
    "\\begin{array}{rcl}\n",
    "\\sum_i m_i \\dot{\\vec{r}}_i & = & {\\vec P}_\\mathrm{CM}\\\\\n",
    "\\sum_i m_i \\vec{r}_i-{\\vec P}_\\mathrm{CM} t & = & M{\\vec R}_\\mathrm{CM}\\\\\n",
    "\\sum m_i \\vec{r}_i \\times \\dot{\\vec{r}}_i & = & \\vec L\\\\\n",
    "\\frac{1}{2}\\sum_i m_i \\dot{\\vec r_i}^2+U(\\{\\vec{r}_i\\}) & = & E \\\\\n",
    "\\end{array}\n",
    "\\end{equation}"
   ]
  },
  {
   "cell_type": "markdown",
   "metadata": {},
   "source": [
    "Las tres primeras son formas compactas (vectoriales) de expresar, cada una, tres constantes diferentes, de modo que, en total, tenemos hasta ahora 10 ecuaciones algebraicas (escalares) que relacionan las 6N cantidades desconocidas $\\{x_i(t),y_i(t),z_i(t)\\}_N$, $\\{\\dot{x}_i(t),\\dot{y}_i(t),\\dot{z}_i(t)\\}_N$.  \n",
    "\n",
    "Es claro que nos falta mucho trabajo por hacer si queremos resolver incluso el problema más simple (con N=2, necesitaríamos por lo menos 12 cudraturas para resolver el sistema.)"
   ]
  },
  {
   "cell_type": "markdown",
   "metadata": {},
   "source": [
    "En el año 1887 el destacado matemático Ernst Heinrich Bruns, en un artículo titulado *Sobre las integrales del problema de varios cuerpos* <cite data-cite=\"Bruns1887Integrales\"><a href=\"mybook.html#Bruns1887Integrales\">(Bruns, 1887)</a></cite> demostró que, al menos para el problema de los tres cuerpos, no existen otras primeras integrales de movimiento que puedan expresarse en términos de funciones algebráicas de las posiciones y velocidades de las partículas.  \n",
    "\n",
    "En el año 2000, este resultado fue generalizado a sistemas con un número arbitrario de partículas y de dimensiones espaciales, constituyéndose en lo que se conoce hoy como el poderoso **teorema de Bruns generalizado** <cite data-cite=\"Julliard2000Bruns\"><a href=\"mybook.html#Julliard2000Bruns\">(Julliard-Tosel, 2000)</a></cite>:"
   ]
  },
  {
   "cell_type": "markdown",
   "metadata": {
    "label": "box:teo:bruns",
    "subtitle": "Teorema de Bruns generalizado",
    "tags": [
     "box_theorem",
     "box:teo:bruns"
    ],
    "title": "Proposición"
   },
   "source": [
    "> **Proposición: Teorema de Bruns generalizado.**<a id='box:teo:bruns'></a> En el problema newtoniano de (M+1) cuerpos en ${\\rm I\\!R}^p$, con $M\\geq 2$ y $1\\leq p\\leq M+1$, toda primera integral que es algebraica respecto a las posiciones, el momento lineal y el tiempo, es una función algebraica de las primeras integrales clásicas: la energía, las p(p-1)/2 componentes del momento angular, y las 2p constantes que vienen del movimiento lineal uniforme del centro de masa."
   ]
  },
  {
   "cell_type": "markdown",
   "metadata": {},
   "source": [
    "En el caso particular que hemos estudiado aquí en el que las partículas se mueven en tres dimensiones, es decir en ${\\rm I\\!R}^3$ o bien $p=3$, según el teorema generalizado de Bruns, las únicas integrales de movimiento *independientes* son: (1) la energía, (2,3,4) $p(p-1)/2=3(3-1)/2=3$ componentes del momento angular y (5,6,7,8,9 y 10) $2p=6$ constantes del movimiento lineal uniforme del centro de masa (3 para el momento lineal y 3 para la posición inicial del centro de masa.)  \n",
    "\n",
    "Es decir, para problemas de $N$ cuerpos en 3 dimensiones las 10 cuadraturas escritas en las Ecs. ([ncuerpos_constantes_movimiento](#mjx-eqn-eq%3Ancuerpos_constantes_movimiento)) son las únicas que podemos encontrar."
   ]
  },
  {
   "cell_type": "markdown",
   "metadata": {},
   "source": [
    "Este resultado parece desesperanzador dado que implica que por mucho que lo intentemos, no podemos obtener el número de constantes necesarias para expresar el problema de los N cuerpos como un conjunto completo de cuadraturas."
   ]
  },
  {
   "cell_type": "markdown",
   "metadata": {},
   "source": [
    "Esto, sin embargo, no significa, de un lado, que las cuadraturas obtenidas no puedan enseñarnos cosas muy interesantes sobre los sistemas de N cuerpos (como ilustraremos en la siguiente sección y en el [Capítulo *El problema de los tres cuerpos*](Not Found#problema_tres_cuerpos).)\n",
    "\n",
    "Del otro lado, y más importante aún, la limitación impuesta por el teorema de Bruns, no implica necesariamente que el problema no tenga solución: el hecho de no encontrar cuadraturas suficientes solo significa que una solución algebraica es imposible.\n",
    "\n",
    "En realidad, y contrario a la \"mitología tradicional\", el problema de los N cuerpos, al menos en el caso de sistemas con momento angular cero, tiene solución en series, como lo exigía el concurso del Rey Oscar II (ver el recuadro *Un poco de historia, la solución al problema de los N cuerpos*.)  Dicha solución, que no presentaremos en este libro por razones del nivel matemático exigido (el lector avanzado puede ir directamente a la literatura especializada), sin embargo, converge muy lentamente y se necesitan normalmente millones de términos para aproximar la posición de las partículas incluso en intervalos de tiempo extremadamente cortos <cite data-cite=\"Diacu1996Solution\"><a href=\"mybook.html#Diacu1996Solution\">Diacu, 1996</a></cite>."
   ]
  },
  {
   "cell_type": "markdown",
   "metadata": {
    "label": "",
    "subtitle": "La solución al problema de los N cuerpos",
    "tags": [
     "box_history"
    ],
    "title": "Un poco de historia"
   },
   "source": [
    "> **Un poco de historia: La solución al problema de los N cuerpos.**<a id=''></a> En el año 1990, casi exactamente 100 años después de la formulación del problema en el concurso del Rey Oscar II, el matemático chino Wang Qiu-Dong <cite data-cite=\"Wang1990GlobalSolution\"><a href=\"mybook.html#Wang1990GlobalSolution\">(Wang, 1990)</a></cite> y, antes de él (posiblemente) el ruso L. K. Babadzhaniants (<cite data-cite=\"Babadzhaniants1979Continuation\"><a href=\"mybook.html#Babadzhaniants1979Continuation\">Babadzhaniants, 1979</a></cite>, <cite data-cite=\"Babadzhaniants1993\"><a href=\"mybook.html#Babadzhaniants1993\">Babadzhaniants, 1993</a></cite>) demostraron la existencia de una solución al problema de N cuerpos, con las condiciones expresadas en el problema original (ver la [Sección *formulación del problemas de los N cuerpos*](06.01.00.00.ProblemaNCuerpos.Formulacion.ipynb#ncuerpos_formulacion)), al menos para el caso de un sistema con momentum angular total nulo. Con este resultado, Wang y Babadzhaniants habrían extendido el resultado obtenido en 1912 por Karl Sundman, quién probo la existencia de dicha solución existe en el caso de N=3, incluso en sistemas con un momento angular no nulo.  Esto es lo más cerca que la ciencia ha estado de resolver analíticamente el problema de los N cuerpos."
   ]
  },
  {
   "cell_type": "markdown",
   "metadata": {},
   "source": [
    "El obstáculo que en la solución práctica al problema de los N cuerpos representan, de un lado el teorema de Bruns y del otro la lenta convergencia de las series descubiertas en el último siglo para la solución general al problema, nos llevará, en las siguientes secciones y en los capítulos que les siguen a desarrollar aproximaciones teóricas al problema de los N cuerpos.  Estas aproximaciones nos permitirán formular explicaciones del comportamiento de sistemas astronómicos reales o realizar predicciones precisas requeridas para hacer observaciones astronómicas o controlar el movimiento de vehículos espaciales.  \n",
    "\n",
    "En pocas palabras, los esfuerzos para vencer los obstáculos matemáticos y físicos que enfrentamos en la solución al problema de los N cuerpos, representan la mayor parte de lo que conocemos hoy como mecánica celeste."
   ]
  },
  {
   "cell_type": "markdown",
   "metadata": {
    "tags": [
     "navigation"
    ]
   },
   "source": [
    "[Indice](index.ipynb) | Previo: [ProblemaNCuerpos.SolucionAnalitica.Energia](06.02.02.00.ProblemaNCuerpos.SolucionAnalitica.Energia.ipynb) | Siguiente: [ProblemaNCuerpos.TeoremaVirial](06.03.00.00.ProblemaNCuerpos.TeoremaVirial.ipynb)"
   ]
  }
 ],
 "metadata": {
  "celltoolbar": "Tags",
  "kernelspec": {
   "display_name": "Python 3",
   "language": "python",
   "name": "python3"
  },
  "language_info": {
   "codemirror_mode": {
    "name": "ipython",
    "version": 3
   },
   "file_extension": ".py",
   "mimetype": "text/x-python",
   "name": "python",
   "nbconvert_exporter": "python",
   "pygments_lexer": "ipython3",
   "version": "3.6.8"
  }
 },
 "nbformat": 4,
 "nbformat_minor": 2
}
