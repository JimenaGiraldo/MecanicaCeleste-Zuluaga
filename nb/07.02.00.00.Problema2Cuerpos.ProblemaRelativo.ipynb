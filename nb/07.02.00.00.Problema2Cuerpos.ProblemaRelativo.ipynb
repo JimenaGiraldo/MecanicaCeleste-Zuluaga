{
 "cells": [
  {
   "cell_type": "markdown",
   "metadata": {
    "tags": [
     "navigation"
    ]
   },
   "source": [
    "[Indice](index.ipynb) | Previo: [Problema2Cuerpos.Motivacion](07.01.00.00.Problema2Cuerpos.Motivacion.ipynb) | Siguiente: [Problema2Cuerpos.OrbitaEspacio](07.03.00.00.Problema2Cuerpos.OrbitaEspacio.ipynb)"
   ]
  },
  {
   "cell_type": "markdown",
   "metadata": {},
   "source": [
    "## 7.2. El problema relativo de dos cuerpos\n",
    "<a id='doscuerpos_reducido'></a>"
   ]
  },
  {
   "cell_type": "markdown",
   "metadata": {},
   "source": [
    "Naturalmente el problema de dos cuerpos es un caso particular del problema de los N cuerpos y la mayoría de las propiedades que descubrimos en el [Capítulo *El problema de los N cuerpos*](06.00.00.00.ProblemaNCuerpos.ipynb#problema_ncuerpos) son válidas también en este caso."
   ]
  },
  {
   "cell_type": "markdown",
   "metadata": {},
   "source": [
    "Las ecuaciones de movimiento del sistema se reducen a (Ecs. [edm_ncuerpos](#mjx-eqn-eq%3Aedm_ncuerpos)):\n",
    "\n",
    "\\begin{eqnarray}\n",
    "\\label{eq:edm_doscuerpos}\n",
    "\\ddot{\\vec{r}}_1 & = & -\\frac{\\mu_2}{r_{12}^3}{\\vec r}_{12} \\\\\n",
    "\\nonumber\n",
    "\\ddot{\\vec{r}}_2 & = & -\\frac{\\mu_1}{r_{21}^3}{\\vec r}_{21}\n",
    "\\end{eqnarray}\n",
    "donde ${\\vec r}_{12}={\\vec r}_1-{\\vec r_2}=-{\\vec r}_{21}$ (ver Figura ([problema_dos_cuerpos](#fig:problema_dos_cuerpos)).)\n",
    "\n",
    "Al reducirse de orden, las Ecs. ([edm_doscuerpos](#mjx-eqn-eq%3Aedm_doscuerpos)) corresponden a un total de 12 ecuaciones diferenciales ordinarias escalares de primer orden, con incognitas $x_1(t),y_1(t),z_1(t)$, ${\\dot x}_1(t),{\\dot y}_1(t),{\\dot z}_1(t)$ y $x_2(t),y_2(t),z_2(t)$, ${\\dot x}_2(t),{\\dot y}_2(t),{\\dot z}_2(t)$.  "
   ]
  },
  {
   "cell_type": "markdown",
   "metadata": {},
   "source": [
    "<a id='fig:problema_dos_cuerpos'></a>![Configuración del problema de los dos cuerpos.++t!++0.8++\\label{fig:problema_dos_cuerpos}](./figures/horizontal_centro_masa.png)\n",
    "\n",
    "<center><b>Figura 7.71</b>. Configuración del problema de los dos cuerpos.</center>"
   ]
  },
  {
   "cell_type": "markdown",
   "metadata": {},
   "source": [
    "Las constantes de movimiento son las mismas que encontramos en la [Sección *¿Solución analítica?*](06.02.00.00.ProblemaNCuerpos.SolucionAnalitica.ipynb#solucion_analitica):\n",
    "\n",
    "- Tres para el momento lineal del centro de masa, Ec. ([ncuerpos_momento](#mjx-eqn-eq%3Ancuerpos_momento)).\n",
    "- Tres para la posición inicial del centro de masa, Ec. ([ncuerpos_centro_masa](#mjx-eqn-eq%3Ancuerpos_centro_masa)).\n",
    "- Tres para el momento angular total, Ec. ([ncuerpos_momento_angular](#mjx-eqn-eq%3Ancuerpos_momento_angular))\n",
    "- Una para la energía mecánica total, Ec. ([ncuerpos_energia](#mjx-eqn-eq%3Ancuerpos_energia))\n",
    "\n",
    "El problema tiene entonces, hasta ahora, tan solo 10 cuadraturas (constantes de movimientos) que relacionan algebraicamente 12 variables dependientes.  Por lo tanto, si bien en esta caso el Teorema de Bruns generalizado, Teo. ([ncuerpos_energia](06.02.03.00.ProblemaNCuerpos.SolucionAnalitica.Sintesis.ipynb#box:teo:bruns)) no limita la posibilidad de encontrar otras constantes independientes, con la información disponible, el problema no puede resolverse por cuadraturas."
   ]
  },
  {
   "cell_type": "markdown",
   "metadata": {},
   "source": [
    "Hay sin embargo dos \"simetrías\" que reducen considerablemente el problema y nos ponen en el camino de una solución analítica completa.  \n",
    "\n",
    "La primera simetría la identificamos en la [Sección *Centro de masa*](05.02.02.00.Mecanica.Dinamica.SistemaParticulas.ipynb#centro_masa) y esta ilustrada en la Figura ([problema_doscuerpos](#fig:problema_doscuerpos))).  Habíamos mostrado que el centro de masa de un sistema de dos cuerpos esta siempre ocalizado sobre la línea que une las dos partículas.  Esto implica que la posición de cada partícula puede expresarse como función de una sola cantidad vectorial, a saber, el vector relativo ${\\vec r}\\equiv{\\vec r}_{12}$: \n",
    "\n",
    "\\begin{eqnarray}\n",
    "\\label{eq:r1_r2_r}\n",
    "{\\vec r}_1 & = & {\\vec R}_\\mathrm{CM}+\\frac{m_2}{M} \\vec r\\\\\n",
    "\\nonumber\n",
    "{\\vec r}_2 & = & {\\vec R}_\\mathrm{CM}-\\frac{m_1}{M} \\vec r\n",
    "\\end{eqnarray}\n",
    "y por consiguiente también la velocidad de las partículas es función solamente de la velocidad relativa entre ellas:\n",
    "\n",
    "\\begin{eqnarray}\n",
    "\\label{eq:v1_v2_v}\n",
    "\\dot{\\vec r}_1 & = & \\vec{V}_\\mathrm{CM}+\\frac{m_2}{M} \\dot{\\vec r}\\\\\n",
    "\\nonumber\n",
    "\\dot{\\vec r}_2 & = & \\vec{V}_\\mathrm{CM}-\\frac{m_1}{M} \\dot{\\vec r}\n",
    "\\end{eqnarray}\n",
    "\n",
    "Resolver el problema de los dos cuerpos consiste entonces, en realidad, en encontrar las funciones $\\vec r(t)$ y $\\dot{\\vec r}(t)$ que describen el movimiento del vector relativo.  "
   ]
  },
  {
   "cell_type": "markdown",
   "metadata": {},
   "source": [
    "Para encontrar la e.d.m. del vector relativo, basta que restemos las Ecs. ([edm_doscuerpos](#mjx-eqn-eq%3Aedm_doscuerpos)) y tengamos en cuenta que, por definición, $\\ddot{\\vec{r}} = \\ddot{\\vec{r}}_2 - \\ddot{\\vec{r}}_1$:\n",
    "\n",
    "\\begin{equation}\n",
    "\\label{eq:edm_doscuerpos_relativo}\n",
    "\\ddot{\\vec{r}}=-\\frac{\\mu}{r^3}\\vec{r}\n",
    "\\end{equation}\n",
    "donde hemos introducido $\\mu \\equiv G(m_1+m_2)$ que llamaremos en lo sucesivo el *parámetro gravitacional del sistema*.  \n",
    "\n",
    "Con esta simetría, hemos reducido el tamaño del problema de las 12 ecuaciones diferenciales ordinarias de primer orden equivalentes a las Ecs. ([edm_doscuerpos](#mjx-eqn-eq%3Aedm_doscuerpos)), a solo 6 ecuaciones (la versión reducida de la Ec. [edm_doscuerpos_relativo](#mjx-eqn-eq%3Aedm_doscuerpos_relativo)), al costo, sin embargo, de abandonar las coordenadas originales y por la misma razón las cuadraturas que encontramos anteriormente. "
   ]
  },
  {
   "cell_type": "markdown",
   "metadata": {},
   "source": [
    "Si queremos obtener la solución a este problema por el método de cuadraturas, debemos entonces encontrar 6 constantes de movimiento a partir de la Ec. ([edm_doscuerpos_relativo](#mjx-eqn-eq%3Aedm_doscuerpos_relativo)) y que relacionen las 6 variables del problema: $x(t)$, $y(t)$, $z(t)$, $v_x(t)$, $v_y(t)$, $v_z(t)$."
   ]
  },
  {
   "cell_type": "markdown",
   "metadata": {},
   "source": [
    "## 7.3. Constantes de movimiento\n",
    "<a id='doscuerpos_constantes'></a>"
   ]
  },
  {
   "cell_type": "markdown",
   "metadata": {},
   "source": [
    "Es claro que la Ec. ([edm_doscuerpos_relativo](#mjx-eqn-eq%3Aedm_doscuerpos_relativo)), a diferencia de lo que paso en el problema de los N cuerpos con la Ec. ([ncuerpos_suma_edm](#mjx-eqn-eq%3Ancuerpos_suma_edm)), no puede expresarse directamente en cuadraturas sin la ayuda de un factor integrante.  Esto implica que en el problema relativo, a diferencia de lo que pasa en el problema de los N cuerpos, el momento lineal no es constante."
   ]
  },
  {
   "cell_type": "markdown",
   "metadata": {},
   "source": [
    "### 7.3.1. Momento angular específico relativo\n",
    "<a id='doscuerpos_h'></a>"
   ]
  },
  {
   "cell_type": "markdown",
   "metadata": {},
   "source": [
    "Si pre multiplicamos ambos lados de la Ec. ([edm_doscuerpos_relativo](#mjx-eqn-eq%3Aedm_doscuerpos_relativo)) por $\\vec r\\times$ obtenemos:\n",
    "\n",
    "$$\n",
    "\\vec r\\times \\ddot{\\vec r}=0\n",
    "$$\n",
    "que puede expresarse en cuadraturas como:\n",
    "\n",
    "\n",
    "$$\n",
    "\\frac{\\mathrm{d}}{\\mathrm{d}t} (\\vec{r}\\times \\dot{\\vec{r}}) = 0\n",
    "$$\n",
    "de donde encontramos nuestro primera constante de movimiento:\n",
    "\n",
    "\\begin{equation}\n",
    "\\label{eq:h}\n",
    "\\vec{r} \\times \\dot{\\vec{r}}\\equiv\\vec{h}\n",
    "\\end{equation}\n",
    "\n",
    "Si bien esta cantidad no se corresponde con ninguna cantidad dinámica del sistema original, su estructura y unidades nos recuerda la definición de un momento angular específico (momento angular por unidad de masa) y en lo sucesivo llamaremos a $\\vec h$ el *momento angular específico relativo* del problema."
   ]
  },
  {
   "cell_type": "markdown",
   "metadata": {},
   "source": [
    "La constancia de la cantidad $\\vec r\\times\\dot{\\vec r}$ tiene una implicación mas trascendental aún.  Como sucedió en el problema de los N cuerpos con el momento angular total referido al centro de masa, el vector constante $\\vec h$ define un plano invariable, el análogo aquí del plano invariable de Laplace de la Def. ([plano_orbital](06.02.01.00.ProblemaNCuerpos.SolucionAnalitica.ConstantesMovimiento.ipynb#box:def:plano.invariable)).  Este plano, a diferencia del que encontramos en el problema de los N cuerpos, tiene una propiedad distintiva y crucial.  Dado que por definición, el vector relativo $\\vec r$ y su velocidad $\\dot{\\vec r}$ son perpendiculares a $\\vec h$, ambos residiran siempre sobre ese plano (ver Figura ([plano_orbital](#fig:plano_orbital))).  Como resultado, la trayectoria del vector relativo se realizará siempre sobre un plano (que en el sistema de referencia del centro de masa será invariable también.)  Llamamos a este plano, el **plano orbital** del sistema."
   ]
  },
  {
   "cell_type": "markdown",
   "metadata": {},
   "source": [
    "<a id='fig:problema_dos_cuerpos'></a>![El problema de los dos cuerpos puede reducirse al movimiento de su vector relativo $\\vec r$, un vector libre sin un origen definido.  Por simplicidad podemos suponer la existencia un punto imaginario ${\\cal O}$ alrededor del cual la punta del vector se mueve.  La constancia de $\\vec r\\times\\dot{\\vec r}=\\vec h$ en el problema relativo de los dos cuerpos implica que el movimiento del sistema (trayectoria rayada) se realiza sobre un plano: aquel definido por el vector $\\vec h$.  Adicionalmente (panel inferior) la magnitud de este vector se puede relacionar con la razón de cambio del área barrida por el vector relativo (superficie coloreada en el panel inferior.)++t!++0.8++\\label{fig:problema_dos_cuerpos}](./figures/square_plano_orbital.png)\n",
    "\n",
    "<center><b>Figura 7.72</b>. El problema de los dos cuerpos puede reducirse al movimiento de su vector relativo $</center>"
   ]
  },
  {
   "cell_type": "markdown",
   "metadata": {},
   "source": [
    "La existencia de un plano orbital en el problema relativo de los dos cuerpos es una simetría nueva que reduce aún más el \"tamaño\" del sistema.  Ahora, podemos escribir explícitamente el vector posición y el vector velocidad sobre el plano en términos de sus componentes en coordenadas cilíndricas (ver la [Sección *Sistemas de coordenadas*](04.01.01.00.Fundamentos.Calculo.Vectores.ipynb#sistemas_coordenadas)), como:\n",
    "\n",
    "\\begin{eqnarray}\n",
    "\\label{eq:r}\n",
    "\\vec{r} & = & r\\hat{a_r} \\\\\n",
    "\\label{eq:dotr}\n",
    "\\dot{\\vec{r}} & = & \\dot{r}\\hat{a_r} + r\\dot{\\theta} \\hat{a_\\theta}\n",
    "\\end{eqnarray}\n",
    "y con esto el problema de los dos cuerpos relativo se reduce a encontrar las cuatro funciones $r(t)$, $\\theta(t)$, $\\dot{r}(t)$ y $\\dot{\\theta}(t)$ o sus equivalente cartesianos $x(t)$, $y(t)$, $\\dot{x}(t)$ y $\\dot{y}(t)$."
   ]
  },
  {
   "cell_type": "markdown",
   "metadata": {},
   "source": [
    "En el plano orbital, el momento angular específico relativo tiene solo una componente no nula (en dirección $z$) y se puede escribir simplemente como $\\vec{h}:(0,0,h)$, donde de las Ecs. ([r](#mjx-eqn-eq%3Ar)) y ([dotr](#mjx-eqn-eq%3Adotr)),\n",
    "\n",
    "\\begin{equation}\n",
    "\\label{eq:h_escalar}\n",
    "h=r^2\\dot\\theta\n",
    "\\end{equation}"
   ]
  },
  {
   "cell_type": "markdown",
   "metadata": {},
   "source": [
    "La magnitud del vector $\\vec h$ tiene un significado adicional que viene directamente de la interpretación geométrica de la magnitud del producto cruz $2\\mathrm{dA}=|\\vec r\\times \\mathrm{d}{\\vec r}|$ que no es otra cosa que el área del paralelogramo definido por los vectores $\\vec r$ y $\\mathrm{d}{\\vec r}$ (ver Figura Figura ([teorema_areas](#fig:teorema_areas)).):\n",
    "\n",
    "$$\n",
    "h=2\\frac{\\mathrm{d}A}{\\mathrm{d}t}\n",
    "$$\n",
    "\n",
    "La constancia $h$ conduce a uno de los más conocidos teoremas de la mecánica celeste:"
   ]
  },
  {
   "cell_type": "markdown",
   "metadata": {
    "label": "box:teo:areas",
    "subtitle": "Teorema de áreas",
    "tags": [
     "box:teo:areas",
     "box_theorem"
    ],
    "title": "Teorema"
   },
   "source": [
    "> **Teorema: Teorema de áreas.**<a id='box:teo:areas'></a> La *velocidad areal* del vector relativo (la razón de cambio del área barrida por el vector en su movimiento) en el problema de los dos cuerpos es constante e igual a:\n",
    "\n",
    "> \\begin{equation}\n",
    "  \\label{eq:velocidad_areal}\n",
    "  \\frac{\\mathrm{d}A}{\\mathrm{d}t}=\\frac{1}{2}h\n",
    "  \\end{equation}\n",
    "> donde $h=|\\vec r\\times\\dot{\\vec r}|$.  \n",
    "\n",
    "> En otros términos, el vector relativo en el problema de los dos cuerpos barre áreas iguales en tiempos iguales."
   ]
  },
  {
   "cell_type": "markdown",
   "metadata": {},
   "source": [
    "El teorema de áreas fue introducido originalmente en 1609 por Johanes Kepler en su obra cumbre \"*Astronomía Nueva*\". Kepler lo obtuvo por inducción (a diferencia de como lo hicimos aquí por deducción a partir de las ecuaciones de movimiento) con el objetivo específico de describir de la forma más precisa posible el movimiento del planeta Marte alrededor del Sol, del cual contaba con las observaciones precisas realizadas durante varias decadas por el astrónomo danés Tycho Brahe ([\"tico braja\"](https://es.forvo.com/word/tycho_brahe/#da))  Kepler, extendió este resultado \"empírico\" a todos los planetas, razón por la cual se lo conoce históricamente como la *segunda ley del movimiento planetario*."
   ]
  },
  {
   "cell_type": "markdown",
   "metadata": {},
   "source": [
    "Hay dos diferencias importantes entre la segunda ley de Kepler y el teorema de áreas formulado aquí. Mientras que la ley clásica aplica únicamente para el movimiento de planetas en trayectorias cerradas alrededor del Sol (que se asumía inmóvil) la versión moderna del teorema no hace ninguna suposición específica sobre la forma (si es cerrada o abierta) de la trayectoria del vector relativo.  Adicionalmente, el teorema de áreas no dice nada sobre la relación entre las masas y se aplica universalmente a cualquier sistema de dos cuerpos, sea está la descripción (aproximada) el movimiento de un planeta alrededor del Sol, la de un cometa que sobrevuela a Júpiter o un sistema binario de estrellas de neutrones con masas similares"
   ]
  },
  {
   "cell_type": "markdown",
   "metadata": {},
   "source": [
    "Formulado en términos de la velocidad areal, el teorema de áreas es relativamente oscuro.  Si usamos la magnitud del vector $\\vec h$ (Ec. \\label{eq:h_escalar}) y escribimos:\n",
    "\n",
    "\\begin{equation}\n",
    "\\label{eq:dotq}\n",
    "\\dot\\theta=\\frac{h}{r^2}\n",
    "\\end{equation}\n",
    "otra manera de interpretar la constancia del momento angular específico es decir que la velocidad angular $\\dot\\theta$ del vector relativo es mayor en tanto menor sea la magnitud el vector $r$ (distancia entre las partículas.)  Es decir, las partículas del sistema se mueven más rapidamente en los puntos de máxima aproximación que en aquellos en los que están más lejos.  Este comportamiento ya lo intuíamos al observar la solución numérica de los sistemas que estudiamos en el [Capítulo *El problema de los N cuerpos*](06.00.00.00.ProblemaNCuerpos.ipynb#problema_ncuerpos). "
   ]
  },
  {
   "cell_type": "markdown",
   "metadata": {},
   "source": [
    "### 7.3.2. Energía específica relativa\n",
    "<a id='doscuerpos_epsilon'></a>"
   ]
  },
  {
   "cell_type": "markdown",
   "metadata": {},
   "source": [
    "Si pre multiplicamos ambos lados de la Ec. ([edm_doscuerpos_relativo](#mjx-eqn-eq%3Aedm_doscuerpos_relativo)) por $\\vec r\\cdot$ obtenemos:\n",
    "\n",
    "$$\n",
    "\\dot{\\vec{r}} \\cdot \\ddot{\\vec{r}} = -\\frac{\\mu}{r^3} \\dot{\\vec{r}} \\cdot \\vec{r}\\\\\n",
    "$$\n",
    "que puede expresarse en cuadraturas como:\n",
    "\n",
    "\n",
    "$$\n",
    "\\frac{d}{dt} \\left(\\frac{1}{2} \\dot{\\vec{r}}^2 \\right)= \\frac{d}{dt}\\left(\\frac{\\mu}{r}\\right)\n",
    "$$\n",
    "de donde encontramos una segunda constante de movimiento:\n",
    "\n",
    "\\begin{equation}\n",
    "\\label{eq:epsilon}\n",
    "\\frac{1}{2} \\dot{\\vec{r}}^2 - \\frac{\\mu}{r}\\equiv\\epsilon\n",
    "\\end{equation}\n",
    "\n",
    "Si bien, como sucedió con $\\vec h$, esta cantidad no se corresponde con ninguna cantidad dinámica del sistema original, su estructura y unidades nos recuerda la definición de una energía mecánica específica (energía mecánica por unidad de masa) y en lo sucesivo llamaremos a $\\epsilon$ la *energía específico relativa* del problema."
   ]
  },
  {
   "cell_type": "markdown",
   "metadata": {},
   "source": [
    "De nuevo, teniendo en cuenta que el movimiento se realiza sobre un plano, la energía específica relativa se puede escribir en términos de las componentes cartesianas en la forma:\n",
    "\n",
    "\\begin{equation}\n",
    "\\label{eq:epsilon_cartesianas}\n",
    "\\frac{1}{2}({\\dot x}^2+{\\dot y}^2)-\\frac{\\mu}{\\sqrt{x^2+y^2}}=\\epsilon,\n",
    "\\end{equation}\n",
    "o en coordenadas cilíndricas como:\n",
    "\n",
    "\\begin{equation}\n",
    "\\label{eq:epsilon_cilindricas}\n",
    "\\frac{1}{2}({\\dot r}^2+r^2\\dot{\\theta}^2)-\\frac{\\mu}{r}=\\epsilon\n",
    "\\end{equation}\n",
    "donde al poner $\\epsilon$ del lado derecho de la ecuación estamos reafirmando simbólicamente el hecho de que la fórmula del lado izquierdo es la que define explícitamente la cuadratura que puede, eventualmente, conducirnos a una solución exacta del problema.  $\\epsilon$ no es más que un número cuyo valor puede calcularse usando estas fórmulas por ejemplo a partir de las condiciones iniciales del problema."
   ]
  },
  {
   "cell_type": "markdown",
   "metadata": {},
   "source": [
    "Hasta aquí hemos conseguido dos cuadraturas del problema:\n",
    "\n",
    "- La magnitud del momento angular específico relativo, Ec. ([h_escalar](#mjx-eqn-eq%3Ah_escalar)), cuyo valor es $h$.\n",
    "- La energía específica relativa, Ec. ([epsilon_cilindricas](#mjx-eqn-eq%3Aepsilon_cilindricas)), cuyo valor es $\\epsilon$.\n",
    "\n",
    "Si queremos resolver el problema por caudraturas necesitamos obtener cuatro constantes, el número de variables dependientes del problema relativo sobre el plano orbital. De acuerdo al Teorema de Bruns, para sistema con 3 o más cuerpos no hay ninguna otra constante de movimiento que sea independiente de las anteriores.  En el problema relativo de los dos cuerpos, sin embargo, existe una constante nueva que nos permite resolver analíticamente el problema."
   ]
  },
  {
   "cell_type": "markdown",
   "metadata": {},
   "source": [
    "### 7.3.3. El vector de excentricidad\n",
    "<a id='doscuerpos_e'></a>"
   ]
  },
  {
   "cell_type": "markdown",
   "metadata": {},
   "source": [
    "Que pasa si postmultiplicamos ambos lados de la Ec. ([edm_doscuerpos_relativo](#mjx-eqn-eq%3Aedm_doscuerpos_relativo)) por $\\times\\vec h$:\n",
    "\n",
    "$$\n",
    "\\ddot{\\vec{r}}\\times \\vec{h} = -\\frac{\\mu}{r^3} \\vec{r}\\times \\vec{h}\n",
    "$$\n",
    "\n",
    "Dado que $\\vec h$ es constante, el lado izquierdo se puede escribir en cuadraturas:\n",
    "\n",
    "\\begin{equation}\n",
    "\\label{eq:edmxh}\n",
    "\\frac{\\mathrm{d}}{\\mathrm{d}t}(\\dot{\\vec{r}}\\times \\vec{h})=-\\frac{\\mu}{r^3} \\vec{r}\\times \\vec{h}\n",
    "\\end{equation}"
   ]
  },
  {
   "cell_type": "markdown",
   "metadata": {},
   "source": [
    "Por su parte en el lado derecho:\n",
    "\n",
    "$$\n",
    "\\begin{array}{rcl}\n",
    "\\vec{r}\\times \\vec{h} & = & \\vec{r} \\times (\\vec{r} \\times \\dot{\\vec{r}})\\\\\n",
    "& = & \\vec{r}(\\vec{r}\\cdot \\dot{\\vec{r}}) - \\dot{\\vec{r}}( \\vec{r} \\cdot \\vec{r})\\\\\n",
    "& = & \\vec{r}r\\dot{r} - \\dot{\\vec{r}}r^2\n",
    "\\end{array}\n",
    "$$\n",
    "que multiplicando por $-\\mu/r^3$ también se puede escribir en cuadraturas como:\n",
    "\n",
    "\\begin{eqnarray}\n",
    "\\nonumber\n",
    "\\vec{r}\\times \\vec{h} & = & -\\mu \\left(\\frac{\\vec{r}\\dot{r}}{r^2} - \\frac{\\dot{\\vec{r}}}{r}\\right)\\\\\n",
    "\\nonumber\n",
    "& = & \\frac{\\mathrm{d}}{\\mathrm{d}t}\\left(\\mu \\frac{\\vec{r}}{r} \\right)\n",
    "\\end{eqnarray}"
   ]
  },
  {
   "cell_type": "markdown",
   "metadata": {},
   "source": [
    "Con todo esto la Ec. ([edmxh](#mjx-eqn-eq%3Aedmxh)) en cuadraturas completas queda:\n",
    "\n",
    "\\begin{equation}\n",
    "\\label{eq:cuadratura_e}\n",
    "\\frac{\\mathrm{d}}{\\mathrm{d}t}(\\dot{\\vec{r}}\\times \\vec{h})=\\frac{\\mathrm{d}}{\\mathrm{d}t}\\left(\\mu \\frac{\\vec{r}}{r} \\right)\n",
    "\\end{equation}\n",
    "\n",
    "y de aquí podemos identificar una nueva y complementamente independiente constante de movimiento:\n",
    "\n",
    "\\begin{equation}\n",
    "\\label{eq:e}\n",
    "\\frac{\\dot{\\vec{r}} \\times \\vec{h}}{\\mu} - \\frac{\\vec{r}}{r}\\equiv\\vec{e}\n",
    "\\end{equation}\n",
    "\n",
    "La razón por la que hemos expresado esta integral dividiendo la cuadratura en la Ec. ([cuadratura_e](#mjx-eqn-eq%3Acuadratura_e)) por $\\mu$ es para hacer a la constante resultante adimensional (recordemos que $\\mu$ tiene unidades de L$^3$/T$^2$) lo que es mas conveniente para su manipulación numérica."
   ]
  },
  {
   "cell_type": "markdown",
   "metadata": {},
   "source": [
    "¿Cuál es el significado geométrico o físico del vector $\\vec e$?  A diferencia de lo que pasó con $\\vec h$ y con $\\epsilon$, no es trivial encontrar ahora una cantidad dinámica que podamos asociar con $\\vec e$.  Este vector, sin embargo ha aparecido en distintos contextos en la historia de la física y las matemáticas, desde la mecánica celeste misma, pasando por el cálculo vectorial hasta la más reciente mecánica cuántica (ver recuadro *Un poco de historia, Laplace, de la mecánica celeste a la mecánica cuántica*.)"
   ]
  },
  {
   "cell_type": "markdown",
   "metadata": {},
   "source": [
    "No es difícil mostrar que $\\vec e$ no es enteramente independiente de $\\vec h$ y $\\epsilon$.  Si se valcula la magnitud del vector se obtiene la relación (ver problemas al final del capítulo):\n",
    "\n",
    "\\begin{equation}\n",
    "\\label{eq:e_h_epsilon}\n",
    "e=\\sqrt{1+\\frac{2\\epsilon h^2}{\\mu^2}}\n",
    "\\end{equation}\n",
    "que será de gran utilidad en lo que queda de este capítulo y en general en la mecánica celeste."
   ]
  },
  {
   "cell_type": "markdown",
   "metadata": {},
   "source": [
    "## 7.4. La ecuación de la trayectoria\n",
    "<a id='doscuerpos_ecuacion'></a>"
   ]
  },
  {
   "cell_type": "markdown",
   "metadata": {},
   "source": [
    "Una manera de encontrar una interpretación geométrica para el vector $\\vec e$ es comparar su dirección con la de otros vectores en el plano orbital.  Sabemos, por su definición en la Ec. ([e](#mjx-eqn-eq%3Ae)) que $\\vec e$ esta en el mismo plano que $\\vec r$ y $\\dot{\\vec r}$.  Si proyectamos $\\vec e$ sobre el vector posición obtenemos:\n",
    "\n",
    "$$\n",
    "\\vec{e}\\cdot\\vec{r} = \\frac{1}{\\mu}\\vec{r} \\cdot (\\dot{\\vec{r}} \\times \\vec{h}) \n",
    "- \\vec{r}\\cdot\\frac{\\vec r}{r}\n",
    "$$"
   ]
  },
  {
   "cell_type": "markdown",
   "metadata": {},
   "source": [
    "Utilizando la propiedad cíclica del tripe producto escalar (Ec. [triple_producto_escalar](#mjx-eqn-eq%3Atriple_producto_escalar)) el primer término del lado derecho de la ecuación queda:\n",
    "\n",
    "$$\n",
    "\\begin{array}{rcl}\n",
    "\\vec{r} \\cdot (\\dot{\\vec{r}} \\times \\vec{h}) & = & \\vec{h} \\cdot (\\vec{r} \\times \\dot{\\vec{r}})\\\\\n",
    "& = & \\vec{h} \\cdot \\vec{h} \\\\\n",
    "& = & h^2\n",
    "\\end{array}\n",
    "$$\n",
    "de donde, la proyección es simplemente:\n",
    "\n",
    "$$\n",
    "\\vec{e}\\cdot\\vec{r} = \\frac{h^2}{\\mu} - r\n",
    "$$"
   ]
  },
  {
   "cell_type": "markdown",
   "metadata": {},
   "source": [
    "Si ahora hacemos ${\\vec e} \\cdot {\\vec r} = e r\\cos \\theta_{er}$, con $\\theta_{er}$ el ángulo entre el vector $\\vec e$ y el vector posición $\\vec r$ sobre el plano orbital, la proyección se puede escribir como:\n",
    "\n",
    "$$\n",
    "e r\\cos \\theta_{er} = \\frac{h^2}{\\mu} - r\n",
    "$$\n",
    "de la que podemos despejar explícitamente $r$ en función de $\\theta_{er}$:\n",
    "\n",
    "\\begin{equation}\n",
    "\\label{eq:doscuerpos_trayectoria}\n",
    "r = \\frac{h^2/\\mu}{1 + e \\cos \\theta_{er}},\n",
    "\\end{equation}\n",
    "que es claramente la ecuación de una cónica con *semilatus rectum*, $p=h^2/\\mu$, excentricidad $e=|\\vec e|$ y anomalía verdadera $f=\\theta_{er}$.\n",
    "\n",
    "No solo hemos encontrado la interpretación geométrica para el vector $\\vec e$ (el vector esta dirigido hacia el periapsis de la cónica y su magnitud es la excentricidad de la misma) sino que además encontramos con este sencillo procedimiento la forma general de la trayectoria descrita por el vector relativo en el problema de los dos cuerpos.  Este resultado lo podemos formular como un teorema general:"
   ]
  },
  {
   "cell_type": "markdown",
   "metadata": {
    "label": "box:teo:movimiento.orbital",
    "subtitle": "Primer teorema del movimiento orbital",
    "tags": [
     "box_theorem",
     "box:teo:movimiento.orbital"
    ],
    "title": "Teorema"
   },
   "source": [
    "> **Teorema: Primer teorema del movimiento orbital.**<a id='box:teo:movimiento.orbital'></a> El extremo del vector relativo en el problema de los dos cuerpos, describe en el plano orbital una trayectoria cónica con foco en el origen imaginario ${\\cal O}$ (extremo del vector relativo), periapsis en la dirección del vector $\\vec e=(\\dot{\\vec{r}} \\times \\vec{h})/{\\mu} - {\\vec r}/r$, excentricidad igual a $|\\vec e|=\\sqrt{1+2\\epsilon h^2/\\mu^2}$ y semilatus rectum $p=h^2/\\mu$."
   ]
  },
  {
   "cell_type": "markdown",
   "metadata": {},
   "source": [
    "Este teorema es el equivalente moderno a la primera ley (empírica) de Kepler del movimiento planetario, formulada al mismo tiempo con su segunda ley (ver Teo. [triple_producto_escalar](#box:teo:area)) en 1609 en su texto \"*Astronomía nueva*\".  A diferencia de la deducción realizada aquí, Kepler, después de estudiar el movimiento de Marte, esencialmente adivinó que su trayectoria debía ser una elipse.  Adicionalmente y a diferencia de la primera ley de Kepler, el primer teorema del movimiento orbital formulado aquí no se restringe al caso de trayectorias elípticas, para las cuáles $|\\vec e|<1$, sino que en principio predice que la trayectoria del vector relativo podría ser cualquier cónica incluyendo también una línea recta, una parábola o una hipérbola."
   ]
  },
  {
   "cell_type": "markdown",
   "metadata": {
    "label": "",
    "subtitle": "Laplace y el vector de excentricidad",
    "tags": [
     "box_history"
    ],
    "title": "Un poco de historia"
   },
   "source": [
    "> **Un poco de historia: Laplace y el vector de excentricidad.**<a id=''></a> Aunque pensamos normalmente que la solución al problema de los dos cuerpos fue obtenida por primera vez por Newton, en realidad la versión desarrollada aquí no es precisamente la que apareció en los *Principia*.\n",
    "\n",
    "> El primero en seguir el procedimiento y la notación mostrada aquí,  usando para ello las constantes de movimiento en el problema, y en particular el vector de excentricidad, fue el científico estadoudinense **Josiah Willard Gibbs** (1839-1903.)  Gibbs es además el padre de la notación vectorial que hemos usado y usaremos a lo largo de este texto, por lo que muchos de los resultados presentados aquí no tuvieron esta forma antes de 1870 cuando Gibbs escribió sus trabajos en el tema. \n",
    "\n",
    "> Gibbs había a su vez tomado la idea del vector de excentricidad de los trabajos del matemático alemám **William Rowan Hamilton**. En 1845, Hamilton publicó un artículo titulado \"Aplicaciones de los cuaterniones en algunos problemas dinámicos\" (los cuaterniones fueron inventados por Hamilton y precedieron a los vectores geométricos de Gibbs.)  En este trabajo, el matemático alemán reportaba el descubrimiento de una nueva constante de movimiento en el problema de los dos cuerpos, precisamente el vector $\\vec e$ de la Ec. ([e](#mjx-eqn-eq%3Ae)).\n",
    "\n",
    "> Hoy sabemos que en realidad, Hamilton no había descubierto nada nuevo.  La primera referencia conocida del vector de excentricidad se debe al matemático Francés Pierre-Simon Laplace <cite data-cite=\"Goldstein1975LRL1\"><a href=\"mybook.html#Goldstein1975LRL1\">(Goldstein, 1975)</a></cite>. Es por esto que hoy al vector $\\vec e$ (o en realidad versiones analogas al mismo) se lo conozca en algunos contextos como el *vector de Laplace*. Para ser justos deberíamos llamarlo el *vector de Laplace-Hamilton*.  Si bien Laplace no uso exactamente la notación y el procedimiento mostrado en esta sección, es un hecho conocido que dedujo la forma que debía tener la órbita en el problema reducido de los dos cuerpos, manipulando el vector $\\vec e$ de manera analoga a como lo hicimos aquí.\n",
    "\n",
    "> Laplace (1749-1827, ver Figura ([laplace](#fig:laplace))) es una de las figuras más sobresalientes de las matemáticas, la física, la ingeniería y la astronomía de los 1700 y principios de los 1800.  Los principios y problemas básicos de la mecánica celeste que fueron presentados y desarrollados por Newton y sus contemporáneos en términos geométricos, fueron traducidos enteramente en términos de cálculo infinitesimal (incluyendo la teoría de ecuaciones diferenciales) por Laplace, quién presentó a partir de 1799 una síntesis de todos los avances en el área que se habían realizado en los más de 100 que habían transcurrido desde la publicación de los *Principia* en 1687.  El resultado fue un tratado de cinco volumenes titulado convenientemente *Traité de mécanique céleste* (Tratado de Mecánica Celeste o abreviado la Mecánica Celeste.)  \n",
    "\n",
    "> La Mecánica Celeste de Laplace es considerado por muchos el libro más importante en el área escrito después de los *Principia*.  Allí, además de la solución original al problema de los dos cuerpos presentada en esta sección, Laplace abordó la mayoría de los problemas centrales de la mecánica celeste, incluyendo algunos que Newton no había podido resolver: la teoría general de perturbaciones, la teoría general de mareas gravitacionales, el movimiento en campos gravitacionales producidos por cuerpos no esféricos, la estabilidad del sistema solar, entre muchos otros. \n",
    "\n",
    "> Muchos de los resultados en este libro y en la mayoría de los textos de mecánica celeste escritos en los últimos 200 años, son en realidad reelaboraciones modernas o aplicaciones de los resultados presentados en la Mecánica Celeste de Laplace."
   ]
  },
  {
   "cell_type": "markdown",
   "metadata": {},
   "source": [
    "<a id='fig:laplace'></a>![Izquierda: pintura de Pierre-Simon Laplace de James Posselwhite. Derecha: portada del Tomo I del Tratado de Mecánica Celeste de Laplace, el libro más importante en el área publicado después de los *Principia* (foto Colección *Heralds of Science from the Burndy Library*.)++t!++1.0++\\label{fig:laplace}](./figures/horizontal_laplace.png)\n",
    "\n",
    "<center><b>Figura 7.73</b>. Izquierda: pintura de Pierre-Simon Laplace de James Posselwhite. Derecha: portada del Tomo I del Tratado de Mecánica Celeste de Laplace, el libro más importante en el área publicado después de los *Principia* (foto Colección *Heralds of Science from the Burndy Library*.)</center>"
   ]
  },
  {
   "cell_type": "markdown",
   "metadata": {},
   "source": [
    "Una cosa es el movimiento del vector relativo y otra la trayectoria que describen las partículas mismas en el espacio ¿son también esas trayectorias cónicas?\n",
    "\n",
    "Usando las Ecs. ([r1_r2_r](#mjx-eqn-eq%3Ar1_r2_r)) y la solución en la Ec. ([doscuerpos_trayectoria](#mjx-eqn-eq%3Adoscuerpos_trayectoria)) puede probarse que la distancia de cada partícula al centro de masa esta dada por:\n",
    "\n",
    "\\begin{eqnarray}\n",
    "\\label{eq:doscuerpos_trayectoria_m1}\n",
    "r_1 & = & \\frac{(m_2/M) h^2/\\mu}{1 + e \\cos f }\\\\\n",
    "\\label{eq:doscuerpos_trayectoria_m2}\n",
    "r_2 & = & \\frac{(m_1/M) h^2/\\mu}{1 + e \\cos f }\\\\\n",
    "\\end{eqnarray}\n",
    "\n",
    "Este resultado implica las dos partículas tienen trayectorias cónicas con idéntica excentricidad, foco en el centro de masa y *semilatus rectum* proporcional a la distancia de cada una al centro de masa:\n",
    "\n",
    "\\begin{eqnarray}\n",
    "\\nonumber\n",
    "p_1 & = & \\frac{m_2}{M}p\\\\\n",
    "p_2 & = & \\frac{m_1}{M}p\\\\\n",
    "\\end{eqnarray}\n",
    "\n",
    "En la Figura ([doscuerpos_trayectorias](#fig:doscuerpos_trayectorias)) mostramos un ejemplo de la trayectoria elíptica del vector relativo y las trayectorias correspondientes de las dos partículas. "
   ]
  },
  {
   "cell_type": "markdown",
   "metadata": {},
   "source": [
    "<a id='fig:doscuerpos_trayectorias'></a>![Trayectorias del vector relativo (arriba) y de las partículas individuales (abajo). Las trayectorias tienen todas la misma excentricidad.  El foco de la trayectoria del vector relativo es un punto arbitrario en el espacio $\\cal O$, mientras que el foco de las trayectorias de las partículas es el centro de masa (CMD). El vector relativo se muestra en dos posiciónes: en el apoapsis (flecha rayada) y en un punto cualquiera de la trayectoria (flecha continua.)   Nótese que la anomalía verdadera $f$ es igual en las tres trayectorias.++t!++1.0++\\label{fig:doscuerpos_trayectorias}](./figures/horizontal_doscuerpos.png)\n",
    "\n",
    "<center><b>Figura 7.74</b>. Trayectorias del vector relativo (arriba) y de las partículas individuales (abajo). Las trayectorias tienen todas la misma excentricidad.  El foco de la trayectoria del vector relativo es un punto arbitrario en el espacio $</center>"
   ]
  },
  {
   "cell_type": "markdown",
   "metadata": {},
   "source": [
    "## 7.5. La velocidad relativa\n",
    "<a id='doscuerpos_velocidad'></a>"
   ]
  },
  {
   "cell_type": "markdown",
   "metadata": {},
   "source": [
    "En la sección anterior mostramos que es posible, sin resolver el problema relativo de los dos cuerpos (es decir sin encontrar expresiones para la posición y velocidad relativa como función del tiempo), usar una de las cuadraturas (el vector de excentricidad) para escribir la ecuación en coordenadas cilíndricas de la trayectoria (Ec. [doscuerpos_trayectoria](#mjx-eqn-eq%3Adoscuerpos_trayectoria).)  Usando esa ecuación podemos encontrar el vector posición $\\vec r:(r,\\theta)$ para cualquier valor de $\\theta$.\n",
    "\n",
    "Ahora bien, ¿podemos, de forma análoga, saber cuál es el vector velocidad $\\dot{\\vec r}:(\\dot r,r\\dot \\theta)$? "
   ]
  },
  {
   "cell_type": "markdown",
   "metadata": {},
   "source": [
    "La magnitud del vector velocidad (rapidez) esta contenida en la energía específica relativa:\n",
    "\n",
    "$$\n",
    "\\frac{v^2}{2}-\\frac{\\mu}{r}=\\epsilon,\n",
    "$$\n",
    "de modo que si sabemos $\\epsilon$ y $r$ (esté último se puede obtener con la Ec. [ncuerpos_trayectoria](#mjx-eqn-eq%3Ancuerpos_trayectoria)) podemos obtener $v$."
   ]
  },
  {
   "cell_type": "markdown",
   "metadata": {},
   "source": [
    "De otro lado es posible, usando esta cuadratura escribir una expresión general para $\\epsilon$ que será de mucha utilidad en lo sucesivo.  \n",
    "\n",
    "Para ello partimos de reconocer que podemos, para calcular el valor de la energía específica relativa, usar cualquier punto sobre la trayectoria.  En particular, en el periapsis donde $r=q=a(1-e)$ (con $e\\neq 1$) y $h=qv$, es decir $v=h/q$:\n",
    "\n",
    "$$\n",
    "\\epsilon=\\frac{h^2}{2a^2(1-e)^2}-\\frac{\\mu}{a(1-e)}\n",
    "$$\n",
    "\n",
    "Después de una sencilla manipulación algebraica obtenemos:\n",
    "\n",
    "\\begin{equation}\n",
    "\\label{eq:e_mu_2a}\n",
    "\\epsilon=-\\frac{\\mu}{2a}\n",
    "\\end{equation}\n",
    "\n",
    "Esta expresión es válida únicamente en el caso en el que $e\\neq 1$.  En el caso de la parábola, $e=1$ puede mostrarse que $\\epsilon=0$."
   ]
  },
  {
   "cell_type": "markdown",
   "metadata": {},
   "source": [
    "Si reemplazamos en la cuadratura de la energía específica relativa (Ec. [epsilon](#mjx-eqn-eq%3Aepsilon)) obtenemos:\n",
    "\n",
    "\\begin{equation}\n",
    "\\label{eq:vis_viva}\n",
    "v^2=\\mu\\left(\\frac{2}{r}-\\frac{1}{a}\\right)\n",
    "\\end{equation}\n",
    "\n",
    "Donde de nuevo esta relación es válida únicamente si $e\\neq 1$.  Llamamos a esta relación la *vis viva*."
   ]
  },
  {
   "cell_type": "markdown",
   "metadata": {},
   "source": [
    "Una interesante propiedad de la *vis viva* es que dada una distancia relativa inicial $r$ y una rapidez relativa $v$, el valor del semieje mayor de la órbita resultante será independiente de la dirección de la velocidad:\n",
    "\n",
    "$$\n",
    "a=\\frac{\\mu}{2\\mu/r-v^2}\n",
    "$$"
   ]
  },
  {
   "cell_type": "markdown",
   "metadata": {},
   "source": [
    "La *vis viva* nos permite calcular la magnitud de la velocidad, pero ¿cuál es la dirección de $\\vec v$?  \n",
    "\n",
    "Podemos usar para ello el vector $\\vec h$, cuya magnitud podemos escribir como:\n",
    "\n",
    "$$\n",
    "h=|\\vec r\\times \\dot{\\vec r}|=vr\\sin\\phi\n",
    "$$\n",
    "donde $\\phi$ es el ángulo entre el vector posición y la velocidad (ver Figura ([doscuerpos_trayectorias](#fig:doscuerpos_trayectorias))) que llamaremos en lo sucesivo el *argumento de la velocidad* y que en virtud de la expresión anterior esta dado por:\n",
    "\n",
    "\\begin{equation}\n",
    "\\label{eq:fi_conica}\n",
    "\\sin\\phi=\\frac{h}{rv}\n",
    "\\end{equation}"
   ]
  },
  {
   "cell_type": "markdown",
   "metadata": {
    "label": "",
    "subtitle": "Ángulo a partir de la magnitud del producto cruz",
    "tags": [
     "box_note"
    ],
    "title": "Nota"
   },
   "source": [
    "> **Nota: Ángulo a partir de la magnitud del producto cruz.**<a id=''></a> Aunque la Ec. ([fi_conica](#mjx-eqn-eq%3Afi_conica)) no tiene nunguna discusión, en la práctica el cálculo de $\\phi$ a partir de ella tiene una sutileza.  Dado que $h,r,v>0$ el signo de $\\sin\\phi$ siempre será positivo.  Eso implicaría que $\\phi<\\pi/2$.  Sin embargo si calculamos ahora el producto punto de $\\vec r$ y $\\dot{\\vec r}$ (usando su definición en coordenadas cilíndricas, [Sección *Cantidades cinemáticas*](05.01.01.00.Mecanica.Cinematica.Cantidades.ipynb#cantidades_cinematicas)):\n",
    "\n",
    "> $$\n",
    "  cos\\phi=\\vec r\\cdot\\dot{\\vec r}=r\\dot{r}\n",
    "  $$\n",
    "\n",
    "> De aquí vemos que cuando $\\dot{r}<0$, $\\cos\\phi<0$ y por tanto $\\phi>\\pi/2$.  Es decir la  Ec. ([fi_conica](#mjx-eqn-eq%3Afi_conica)) solo nos dará el valor correcto de $\\phi$ cuando $\\dot{r}\\geq0$.  \n",
    "\n",
    "> Pero, en términos de $r$ y $v$ ¿a qué condición corresponde  $\\dot{r}<0$?  \n",
    "\n",
    "> Sabemos que cuando $0<f<\\pi$, el vector relativo se estará alejando del periapsis, es decir ${\\dot r}>0$.  Del otro lado cuando  $\\pi<f<2\\pi$ entonces ${\\dot r}<0$.  De aquí podemos deducir una fórmula, que si bien no es enteramente trivial, es lo mejor que podemos hacer para calcular el argumento de la velocidad en el cuadrante correcto:\n",
    "\n",
    "> \\begin{equation}\n",
    "  \\phi = \n",
    "  \\left\\{\n",
    "  \\begin{array}{ll}\n",
    "  \\sin^{-1}\\left(\\frac{h}{rv}\\right) & \\mathrm{Si}\\;0\\leq f<pi\\\\\n",
    "  \\pi-\\sin^{-1}\\left(\\frac{h}{rv}\\right) & \\mathrm{Si}\\;\\pi\\leq f<2pi\\\\\n",
    "  \\end{array}\n",
    "  \\right.\n",
    "  \\end{equation}"
   ]
  },
  {
   "cell_type": "markdown",
   "metadata": {},
   "source": [
    "Finalmente, el ángulo que forma la velocidad respecto a la dirección del periapsis (dirección del vector $\\vec e$) estará dada por:\n",
    "\n",
    "\\begin{equation}\n",
    "\\label{eq:tetav_conica}\n",
    "\\theta_v = f+\\phi\n",
    "\\end{equation}"
   ]
  },
  {
   "cell_type": "markdown",
   "metadata": {},
   "source": [
    "## 7.6. El hodográfo del problema de los dos cuerpos\n",
    "<a id='hodografo_doscuerpos'></a>"
   ]
  },
  {
   "cell_type": "markdown",
   "metadata": {},
   "source": [
    "Hay una propiedad interesante que tiene el problema de los dos cuerpos.  Fue descubierta por Hamilton (ver recuadro *Un poco de historia*) mientras estudiaba las consecuencias de describir el problema en términos vectoriales (en realidad usando cuaterniones, los antepasados de los vectores geométricos.)  "
   ]
  },
  {
   "cell_type": "markdown",
   "metadata": {},
   "source": [
    "Para conocer esta propiedad escribamos un algoritmo que nos permita calcular las componentes del vector veclocidad a lo largo de la trayectoria elíptica de un sistema de dos cuerpos ligado.  \n",
    "\n",
    "Supongamos para ello condiciones que nos garanticen que la cónica tiene periapsis sobre el semieje $x+$ (es decir $\\vec e/e={\\hat e}_x$).  Si asumimos condiciones iniciales del tipo $\\vec r_0=x_0{\\hat e}_x$, $\\dot{\\vec r}_0=v_{0y}{\\hat e}_y$, puede mostrarse que la condición anterior se cumple si $v_{0y}<\\sqrt{\\mu x_0}$ (ver problemas al final del capítulo.)\n",
    "\n",
    "Un conjunto de condiciones iniciales que cumple esta condición es:"
   ]
  },
  {
   "cell_type": "code",
   "execution_count": 302,
   "metadata": {
    "codelabel": "",
    "codeplot": 0
   },
   "outputs": [],
   "source": [
    "#Condiciones iniciales\n",
    "mu=1 #unidades canónicas (u.c.)\n",
    "from numpy import array\n",
    "x0=1.0 #u.c.\n",
    "vy0=0.5 #u.c.\n",
    "\n",
    "#Magnitud de h\n",
    "h=x0*vy0\n",
    "\n",
    "#Energía específica relativa\n",
    "from numpy.linalg import norm\n",
    "epsilon=0.5*vy0**2-mu/x0"
   ]
  },
  {
   "cell_type": "code",
   "execution_count": 303,
   "metadata": {
    "codelabel": "",
    "codeplot": 0,
    "tags": [
     "hide_input"
    ]
   },
   "outputs": [
    {
     "name": "stdout",
     "output_type": "stream",
     "text": [
      "h = 0.5\n",
      "epsilon = -0.875\n"
     ]
    }
   ],
   "source": [
    "print(f\"h = {h}\")\n",
    "print(f\"epsilon = {epsilon}\")"
   ]
  },
  {
   "cell_type": "markdown",
   "metadata": {},
   "source": [
    "Usando las Ecs. ([doscuerpos_trayectoria](#mjx-eqn-eq%3Adoscuerpos_trayectoria)) y ([e](#mjx-eqn-eq%3Ae)) podemos calcular las propiedades de la órbita descrita por el vector relativo:"
   ]
  },
  {
   "cell_type": "code",
   "execution_count": 304,
   "metadata": {
    "codelabel": "",
    "codeplot": 0
   },
   "outputs": [],
   "source": [
    "#Parámetros geométricos derivados\n",
    "from numpy import sqrt\n",
    "p=h**2/mu\n",
    "e=sqrt(1+2*epsilon*h**2/mu)\n",
    "a=p/(1-e**2)"
   ]
  },
  {
   "cell_type": "code",
   "execution_count": 305,
   "metadata": {
    "codelabel": "",
    "codeplot": 0,
    "tags": [
     "hide_input"
    ]
   },
   "outputs": [
    {
     "name": "stdout",
     "output_type": "stream",
     "text": [
      "p = 0.25\n",
      "a = 0.5714285714285714\n",
      "e = 0.75\n"
     ]
    }
   ],
   "source": [
    "print(f\"p = {p}\")\n",
    "print(f\"a = {a}\")\n",
    "print(f\"e = {e}\")"
   ]
  },
  {
   "cell_type": "markdown",
   "metadata": {},
   "source": [
    "Comprobamos que efectivamente para las condiciones iniciales provistas la órbita resultante es una órbita elíptica ($e<1$.)"
   ]
  },
  {
   "cell_type": "markdown",
   "metadata": {},
   "source": [
    "Calculemos ahora las componentes de la velocidad de la partícula a lo largo de la trayectoria, usando para ello la *vis viva* (Ec. [vis_viva](#mjx-eqn-eq%3Avis_viva)) y el argumento de la velocidad (Ecs. [fi_conica](#mjx-eqn-eq%3Afi_conica) y [tetav_conica](#mjx-eqn-eq%3Atetav_conica)):"
   ]
  },
  {
   "cell_type": "code",
   "execution_count": 306,
   "metadata": {
    "codelabel": "",
    "codeplot": 0
   },
   "outputs": [],
   "source": [
    "#Valores de la anomalía verdadera\n",
    "from numpy import linspace,pi\n",
    "fs=linspace(0,2*pi,100)\n",
    "\n",
    "#Valores de r\n",
    "from numpy import sin,cos\n",
    "rs=p/(1+e*cos(fs))\n",
    "\n",
    "#Valores de v\n",
    "vs=sqrt(mu*(2/rs-1/a))\n",
    "\n",
    "#Valores de phi\n",
    "from numpy import arcsin,zeros_like\n",
    "phis=zeros_like(fs)\n",
    "for i,f in enumerate(fs):\n",
    "    if f<pi:\n",
    "        phis[i]=arcsin(h/(rs[i]*vs[i]))\n",
    "    else:\n",
    "        phis[i]=pi-arcsin(h/(rs[i]*vs[i]))\n",
    "\n",
    "#Valores de tetav\n",
    "from numpy import mod\n",
    "tetavs=phis+fs\n",
    "\n",
    "#Componentes de la velocidad\n",
    "from numpy import sin\n",
    "vxs=vs*cos(tetavs)\n",
    "vys=vs*sin(tetavs)"
   ]
  },
  {
   "cell_type": "markdown",
   "metadata": {},
   "source": [
    "Hagamos una gráfica del extremo de la velocidad relativa:"
   ]
  },
  {
   "cell_type": "code",
   "execution_count": 307,
   "metadata": {
    "codelabel": "",
    "codeplot": 0,
    "tags": [
     "hide_pdf",
     "hide_html"
    ]
   },
   "outputs": [],
   "source": [
    "%matplotlib nbagg"
   ]
  },
  {
   "cell_type": "code",
   "execution_count": 308,
   "metadata": {
    "codelabel": "fig:07.02.00.00.Problema2Cuerpos.ProblemaRelativo_75",
    "codeplot": 1,
    "figcaption": "<b>Figura 7.75.</b> "
   },
   "outputs": [
    {
     "data": {
      "application/javascript": [
       "/* Put everything inside the global mpl namespace */\n",
       "window.mpl = {};\n",
       "\n",
       "\n",
       "mpl.get_websocket_type = function() {\n",
       "    if (typeof(WebSocket) !== 'undefined') {\n",
       "        return WebSocket;\n",
       "    } else if (typeof(MozWebSocket) !== 'undefined') {\n",
       "        return MozWebSocket;\n",
       "    } else {\n",
       "        alert('Your browser does not have WebSocket support. ' +\n",
       "              'Please try Chrome, Safari or Firefox ≥ 6. ' +\n",
       "              'Firefox 4 and 5 are also supported but you ' +\n",
       "              'have to enable WebSockets in about:config.');\n",
       "    };\n",
       "}\n",
       "\n",
       "mpl.figure = function(figure_id, websocket, ondownload, parent_element) {\n",
       "    this.id = figure_id;\n",
       "\n",
       "    this.ws = websocket;\n",
       "\n",
       "    this.supports_binary = (this.ws.binaryType != undefined);\n",
       "\n",
       "    if (!this.supports_binary) {\n",
       "        var warnings = document.getElementById(\"mpl-warnings\");\n",
       "        if (warnings) {\n",
       "            warnings.style.display = 'block';\n",
       "            warnings.textContent = (\n",
       "                \"This browser does not support binary websocket messages. \" +\n",
       "                    \"Performance may be slow.\");\n",
       "        }\n",
       "    }\n",
       "\n",
       "    this.imageObj = new Image();\n",
       "\n",
       "    this.context = undefined;\n",
       "    this.message = undefined;\n",
       "    this.canvas = undefined;\n",
       "    this.rubberband_canvas = undefined;\n",
       "    this.rubberband_context = undefined;\n",
       "    this.format_dropdown = undefined;\n",
       "\n",
       "    this.image_mode = 'full';\n",
       "\n",
       "    this.root = $('<div/>');\n",
       "    this._root_extra_style(this.root)\n",
       "    this.root.attr('style', 'display: inline-block');\n",
       "\n",
       "    $(parent_element).append(this.root);\n",
       "\n",
       "    this._init_header(this);\n",
       "    this._init_canvas(this);\n",
       "    this._init_toolbar(this);\n",
       "\n",
       "    var fig = this;\n",
       "\n",
       "    this.waiting = false;\n",
       "\n",
       "    this.ws.onopen =  function () {\n",
       "            fig.send_message(\"supports_binary\", {value: fig.supports_binary});\n",
       "            fig.send_message(\"send_image_mode\", {});\n",
       "            if (mpl.ratio != 1) {\n",
       "                fig.send_message(\"set_dpi_ratio\", {'dpi_ratio': mpl.ratio});\n",
       "            }\n",
       "            fig.send_message(\"refresh\", {});\n",
       "        }\n",
       "\n",
       "    this.imageObj.onload = function() {\n",
       "            if (fig.image_mode == 'full') {\n",
       "                // Full images could contain transparency (where diff images\n",
       "                // almost always do), so we need to clear the canvas so that\n",
       "                // there is no ghosting.\n",
       "                fig.context.clearRect(0, 0, fig.canvas.width, fig.canvas.height);\n",
       "            }\n",
       "            fig.context.drawImage(fig.imageObj, 0, 0);\n",
       "        };\n",
       "\n",
       "    this.imageObj.onunload = function() {\n",
       "        fig.ws.close();\n",
       "    }\n",
       "\n",
       "    this.ws.onmessage = this._make_on_message_function(this);\n",
       "\n",
       "    this.ondownload = ondownload;\n",
       "}\n",
       "\n",
       "mpl.figure.prototype._init_header = function() {\n",
       "    var titlebar = $(\n",
       "        '<div class=\"ui-dialog-titlebar ui-widget-header ui-corner-all ' +\n",
       "        'ui-helper-clearfix\"/>');\n",
       "    var titletext = $(\n",
       "        '<div class=\"ui-dialog-title\" style=\"width: 100%; ' +\n",
       "        'text-align: center; padding: 3px;\"/>');\n",
       "    titlebar.append(titletext)\n",
       "    this.root.append(titlebar);\n",
       "    this.header = titletext[0];\n",
       "}\n",
       "\n",
       "\n",
       "\n",
       "mpl.figure.prototype._canvas_extra_style = function(canvas_div) {\n",
       "\n",
       "}\n",
       "\n",
       "\n",
       "mpl.figure.prototype._root_extra_style = function(canvas_div) {\n",
       "\n",
       "}\n",
       "\n",
       "mpl.figure.prototype._init_canvas = function() {\n",
       "    var fig = this;\n",
       "\n",
       "    var canvas_div = $('<div/>');\n",
       "\n",
       "    canvas_div.attr('style', 'position: relative; clear: both; outline: 0');\n",
       "\n",
       "    function canvas_keyboard_event(event) {\n",
       "        return fig.key_event(event, event['data']);\n",
       "    }\n",
       "\n",
       "    canvas_div.keydown('key_press', canvas_keyboard_event);\n",
       "    canvas_div.keyup('key_release', canvas_keyboard_event);\n",
       "    this.canvas_div = canvas_div\n",
       "    this._canvas_extra_style(canvas_div)\n",
       "    this.root.append(canvas_div);\n",
       "\n",
       "    var canvas = $('<canvas/>');\n",
       "    canvas.addClass('mpl-canvas');\n",
       "    canvas.attr('style', \"left: 0; top: 0; z-index: 0; outline: 0\")\n",
       "\n",
       "    this.canvas = canvas[0];\n",
       "    this.context = canvas[0].getContext(\"2d\");\n",
       "\n",
       "    var backingStore = this.context.backingStorePixelRatio ||\n",
       "\tthis.context.webkitBackingStorePixelRatio ||\n",
       "\tthis.context.mozBackingStorePixelRatio ||\n",
       "\tthis.context.msBackingStorePixelRatio ||\n",
       "\tthis.context.oBackingStorePixelRatio ||\n",
       "\tthis.context.backingStorePixelRatio || 1;\n",
       "\n",
       "    mpl.ratio = (window.devicePixelRatio || 1) / backingStore;\n",
       "\n",
       "    var rubberband = $('<canvas/>');\n",
       "    rubberband.attr('style', \"position: absolute; left: 0; top: 0; z-index: 1;\")\n",
       "\n",
       "    var pass_mouse_events = true;\n",
       "\n",
       "    canvas_div.resizable({\n",
       "        start: function(event, ui) {\n",
       "            pass_mouse_events = false;\n",
       "        },\n",
       "        resize: function(event, ui) {\n",
       "            fig.request_resize(ui.size.width, ui.size.height);\n",
       "        },\n",
       "        stop: function(event, ui) {\n",
       "            pass_mouse_events = true;\n",
       "            fig.request_resize(ui.size.width, ui.size.height);\n",
       "        },\n",
       "    });\n",
       "\n",
       "    function mouse_event_fn(event) {\n",
       "        if (pass_mouse_events)\n",
       "            return fig.mouse_event(event, event['data']);\n",
       "    }\n",
       "\n",
       "    rubberband.mousedown('button_press', mouse_event_fn);\n",
       "    rubberband.mouseup('button_release', mouse_event_fn);\n",
       "    // Throttle sequential mouse events to 1 every 20ms.\n",
       "    rubberband.mousemove('motion_notify', mouse_event_fn);\n",
       "\n",
       "    rubberband.mouseenter('figure_enter', mouse_event_fn);\n",
       "    rubberband.mouseleave('figure_leave', mouse_event_fn);\n",
       "\n",
       "    canvas_div.on(\"wheel\", function (event) {\n",
       "        event = event.originalEvent;\n",
       "        event['data'] = 'scroll'\n",
       "        if (event.deltaY < 0) {\n",
       "            event.step = 1;\n",
       "        } else {\n",
       "            event.step = -1;\n",
       "        }\n",
       "        mouse_event_fn(event);\n",
       "    });\n",
       "\n",
       "    canvas_div.append(canvas);\n",
       "    canvas_div.append(rubberband);\n",
       "\n",
       "    this.rubberband = rubberband;\n",
       "    this.rubberband_canvas = rubberband[0];\n",
       "    this.rubberband_context = rubberband[0].getContext(\"2d\");\n",
       "    this.rubberband_context.strokeStyle = \"#000000\";\n",
       "\n",
       "    this._resize_canvas = function(width, height) {\n",
       "        // Keep the size of the canvas, canvas container, and rubber band\n",
       "        // canvas in synch.\n",
       "        canvas_div.css('width', width)\n",
       "        canvas_div.css('height', height)\n",
       "\n",
       "        canvas.attr('width', width * mpl.ratio);\n",
       "        canvas.attr('height', height * mpl.ratio);\n",
       "        canvas.attr('style', 'width: ' + width + 'px; height: ' + height + 'px;');\n",
       "\n",
       "        rubberband.attr('width', width);\n",
       "        rubberband.attr('height', height);\n",
       "    }\n",
       "\n",
       "    // Set the figure to an initial 600x600px, this will subsequently be updated\n",
       "    // upon first draw.\n",
       "    this._resize_canvas(600, 600);\n",
       "\n",
       "    // Disable right mouse context menu.\n",
       "    $(this.rubberband_canvas).bind(\"contextmenu\",function(e){\n",
       "        return false;\n",
       "    });\n",
       "\n",
       "    function set_focus () {\n",
       "        canvas.focus();\n",
       "        canvas_div.focus();\n",
       "    }\n",
       "\n",
       "    window.setTimeout(set_focus, 100);\n",
       "}\n",
       "\n",
       "mpl.figure.prototype._init_toolbar = function() {\n",
       "    var fig = this;\n",
       "\n",
       "    var nav_element = $('<div/>');\n",
       "    nav_element.attr('style', 'width: 100%');\n",
       "    this.root.append(nav_element);\n",
       "\n",
       "    // Define a callback function for later on.\n",
       "    function toolbar_event(event) {\n",
       "        return fig.toolbar_button_onclick(event['data']);\n",
       "    }\n",
       "    function toolbar_mouse_event(event) {\n",
       "        return fig.toolbar_button_onmouseover(event['data']);\n",
       "    }\n",
       "\n",
       "    for(var toolbar_ind in mpl.toolbar_items) {\n",
       "        var name = mpl.toolbar_items[toolbar_ind][0];\n",
       "        var tooltip = mpl.toolbar_items[toolbar_ind][1];\n",
       "        var image = mpl.toolbar_items[toolbar_ind][2];\n",
       "        var method_name = mpl.toolbar_items[toolbar_ind][3];\n",
       "\n",
       "        if (!name) {\n",
       "            // put a spacer in here.\n",
       "            continue;\n",
       "        }\n",
       "        var button = $('<button/>');\n",
       "        button.addClass('ui-button ui-widget ui-state-default ui-corner-all ' +\n",
       "                        'ui-button-icon-only');\n",
       "        button.attr('role', 'button');\n",
       "        button.attr('aria-disabled', 'false');\n",
       "        button.click(method_name, toolbar_event);\n",
       "        button.mouseover(tooltip, toolbar_mouse_event);\n",
       "\n",
       "        var icon_img = $('<span/>');\n",
       "        icon_img.addClass('ui-button-icon-primary ui-icon');\n",
       "        icon_img.addClass(image);\n",
       "        icon_img.addClass('ui-corner-all');\n",
       "\n",
       "        var tooltip_span = $('<span/>');\n",
       "        tooltip_span.addClass('ui-button-text');\n",
       "        tooltip_span.html(tooltip);\n",
       "\n",
       "        button.append(icon_img);\n",
       "        button.append(tooltip_span);\n",
       "\n",
       "        nav_element.append(button);\n",
       "    }\n",
       "\n",
       "    var fmt_picker_span = $('<span/>');\n",
       "\n",
       "    var fmt_picker = $('<select/>');\n",
       "    fmt_picker.addClass('mpl-toolbar-option ui-widget ui-widget-content');\n",
       "    fmt_picker_span.append(fmt_picker);\n",
       "    nav_element.append(fmt_picker_span);\n",
       "    this.format_dropdown = fmt_picker[0];\n",
       "\n",
       "    for (var ind in mpl.extensions) {\n",
       "        var fmt = mpl.extensions[ind];\n",
       "        var option = $(\n",
       "            '<option/>', {selected: fmt === mpl.default_extension}).html(fmt);\n",
       "        fmt_picker.append(option);\n",
       "    }\n",
       "\n",
       "    // Add hover states to the ui-buttons\n",
       "    $( \".ui-button\" ).hover(\n",
       "        function() { $(this).addClass(\"ui-state-hover\");},\n",
       "        function() { $(this).removeClass(\"ui-state-hover\");}\n",
       "    );\n",
       "\n",
       "    var status_bar = $('<span class=\"mpl-message\"/>');\n",
       "    nav_element.append(status_bar);\n",
       "    this.message = status_bar[0];\n",
       "}\n",
       "\n",
       "mpl.figure.prototype.request_resize = function(x_pixels, y_pixels) {\n",
       "    // Request matplotlib to resize the figure. Matplotlib will then trigger a resize in the client,\n",
       "    // which will in turn request a refresh of the image.\n",
       "    this.send_message('resize', {'width': x_pixels, 'height': y_pixels});\n",
       "}\n",
       "\n",
       "mpl.figure.prototype.send_message = function(type, properties) {\n",
       "    properties['type'] = type;\n",
       "    properties['figure_id'] = this.id;\n",
       "    this.ws.send(JSON.stringify(properties));\n",
       "}\n",
       "\n",
       "mpl.figure.prototype.send_draw_message = function() {\n",
       "    if (!this.waiting) {\n",
       "        this.waiting = true;\n",
       "        this.ws.send(JSON.stringify({type: \"draw\", figure_id: this.id}));\n",
       "    }\n",
       "}\n",
       "\n",
       "\n",
       "mpl.figure.prototype.handle_save = function(fig, msg) {\n",
       "    var format_dropdown = fig.format_dropdown;\n",
       "    var format = format_dropdown.options[format_dropdown.selectedIndex].value;\n",
       "    fig.ondownload(fig, format);\n",
       "}\n",
       "\n",
       "\n",
       "mpl.figure.prototype.handle_resize = function(fig, msg) {\n",
       "    var size = msg['size'];\n",
       "    if (size[0] != fig.canvas.width || size[1] != fig.canvas.height) {\n",
       "        fig._resize_canvas(size[0], size[1]);\n",
       "        fig.send_message(\"refresh\", {});\n",
       "    };\n",
       "}\n",
       "\n",
       "mpl.figure.prototype.handle_rubberband = function(fig, msg) {\n",
       "    var x0 = msg['x0'] / mpl.ratio;\n",
       "    var y0 = (fig.canvas.height - msg['y0']) / mpl.ratio;\n",
       "    var x1 = msg['x1'] / mpl.ratio;\n",
       "    var y1 = (fig.canvas.height - msg['y1']) / mpl.ratio;\n",
       "    x0 = Math.floor(x0) + 0.5;\n",
       "    y0 = Math.floor(y0) + 0.5;\n",
       "    x1 = Math.floor(x1) + 0.5;\n",
       "    y1 = Math.floor(y1) + 0.5;\n",
       "    var min_x = Math.min(x0, x1);\n",
       "    var min_y = Math.min(y0, y1);\n",
       "    var width = Math.abs(x1 - x0);\n",
       "    var height = Math.abs(y1 - y0);\n",
       "\n",
       "    fig.rubberband_context.clearRect(\n",
       "        0, 0, fig.canvas.width / mpl.ratio, fig.canvas.height / mpl.ratio);\n",
       "\n",
       "    fig.rubberband_context.strokeRect(min_x, min_y, width, height);\n",
       "}\n",
       "\n",
       "mpl.figure.prototype.handle_figure_label = function(fig, msg) {\n",
       "    // Updates the figure title.\n",
       "    fig.header.textContent = msg['label'];\n",
       "}\n",
       "\n",
       "mpl.figure.prototype.handle_cursor = function(fig, msg) {\n",
       "    var cursor = msg['cursor'];\n",
       "    switch(cursor)\n",
       "    {\n",
       "    case 0:\n",
       "        cursor = 'pointer';\n",
       "        break;\n",
       "    case 1:\n",
       "        cursor = 'default';\n",
       "        break;\n",
       "    case 2:\n",
       "        cursor = 'crosshair';\n",
       "        break;\n",
       "    case 3:\n",
       "        cursor = 'move';\n",
       "        break;\n",
       "    }\n",
       "    fig.rubberband_canvas.style.cursor = cursor;\n",
       "}\n",
       "\n",
       "mpl.figure.prototype.handle_message = function(fig, msg) {\n",
       "    fig.message.textContent = msg['message'];\n",
       "}\n",
       "\n",
       "mpl.figure.prototype.handle_draw = function(fig, msg) {\n",
       "    // Request the server to send over a new figure.\n",
       "    fig.send_draw_message();\n",
       "}\n",
       "\n",
       "mpl.figure.prototype.handle_image_mode = function(fig, msg) {\n",
       "    fig.image_mode = msg['mode'];\n",
       "}\n",
       "\n",
       "mpl.figure.prototype.updated_canvas_event = function() {\n",
       "    // Called whenever the canvas gets updated.\n",
       "    this.send_message(\"ack\", {});\n",
       "}\n",
       "\n",
       "// A function to construct a web socket function for onmessage handling.\n",
       "// Called in the figure constructor.\n",
       "mpl.figure.prototype._make_on_message_function = function(fig) {\n",
       "    return function socket_on_message(evt) {\n",
       "        if (evt.data instanceof Blob) {\n",
       "            /* FIXME: We get \"Resource interpreted as Image but\n",
       "             * transferred with MIME type text/plain:\" errors on\n",
       "             * Chrome.  But how to set the MIME type?  It doesn't seem\n",
       "             * to be part of the websocket stream */\n",
       "            evt.data.type = \"image/png\";\n",
       "\n",
       "            /* Free the memory for the previous frames */\n",
       "            if (fig.imageObj.src) {\n",
       "                (window.URL || window.webkitURL).revokeObjectURL(\n",
       "                    fig.imageObj.src);\n",
       "            }\n",
       "\n",
       "            fig.imageObj.src = (window.URL || window.webkitURL).createObjectURL(\n",
       "                evt.data);\n",
       "            fig.updated_canvas_event();\n",
       "            fig.waiting = false;\n",
       "            return;\n",
       "        }\n",
       "        else if (typeof evt.data === 'string' && evt.data.slice(0, 21) == \"data:image/png;base64\") {\n",
       "            fig.imageObj.src = evt.data;\n",
       "            fig.updated_canvas_event();\n",
       "            fig.waiting = false;\n",
       "            return;\n",
       "        }\n",
       "\n",
       "        var msg = JSON.parse(evt.data);\n",
       "        var msg_type = msg['type'];\n",
       "\n",
       "        // Call the  \"handle_{type}\" callback, which takes\n",
       "        // the figure and JSON message as its only arguments.\n",
       "        try {\n",
       "            var callback = fig[\"handle_\" + msg_type];\n",
       "        } catch (e) {\n",
       "            console.log(\"No handler for the '\" + msg_type + \"' message type: \", msg);\n",
       "            return;\n",
       "        }\n",
       "\n",
       "        if (callback) {\n",
       "            try {\n",
       "                // console.log(\"Handling '\" + msg_type + \"' message: \", msg);\n",
       "                callback(fig, msg);\n",
       "            } catch (e) {\n",
       "                console.log(\"Exception inside the 'handler_\" + msg_type + \"' callback:\", e, e.stack, msg);\n",
       "            }\n",
       "        }\n",
       "    };\n",
       "}\n",
       "\n",
       "// from http://stackoverflow.com/questions/1114465/getting-mouse-location-in-canvas\n",
       "mpl.findpos = function(e) {\n",
       "    //this section is from http://www.quirksmode.org/js/events_properties.html\n",
       "    var targ;\n",
       "    if (!e)\n",
       "        e = window.event;\n",
       "    if (e.target)\n",
       "        targ = e.target;\n",
       "    else if (e.srcElement)\n",
       "        targ = e.srcElement;\n",
       "    if (targ.nodeType == 3) // defeat Safari bug\n",
       "        targ = targ.parentNode;\n",
       "\n",
       "    // jQuery normalizes the pageX and pageY\n",
       "    // pageX,Y are the mouse positions relative to the document\n",
       "    // offset() returns the position of the element relative to the document\n",
       "    var x = e.pageX - $(targ).offset().left;\n",
       "    var y = e.pageY - $(targ).offset().top;\n",
       "\n",
       "    return {\"x\": x, \"y\": y};\n",
       "};\n",
       "\n",
       "/*\n",
       " * return a copy of an object with only non-object keys\n",
       " * we need this to avoid circular references\n",
       " * http://stackoverflow.com/a/24161582/3208463\n",
       " */\n",
       "function simpleKeys (original) {\n",
       "  return Object.keys(original).reduce(function (obj, key) {\n",
       "    if (typeof original[key] !== 'object')\n",
       "        obj[key] = original[key]\n",
       "    return obj;\n",
       "  }, {});\n",
       "}\n",
       "\n",
       "mpl.figure.prototype.mouse_event = function(event, name) {\n",
       "    var canvas_pos = mpl.findpos(event)\n",
       "\n",
       "    if (name === 'button_press')\n",
       "    {\n",
       "        this.canvas.focus();\n",
       "        this.canvas_div.focus();\n",
       "    }\n",
       "\n",
       "    var x = canvas_pos.x * mpl.ratio;\n",
       "    var y = canvas_pos.y * mpl.ratio;\n",
       "\n",
       "    this.send_message(name, {x: x, y: y, button: event.button,\n",
       "                             step: event.step,\n",
       "                             guiEvent: simpleKeys(event)});\n",
       "\n",
       "    /* This prevents the web browser from automatically changing to\n",
       "     * the text insertion cursor when the button is pressed.  We want\n",
       "     * to control all of the cursor setting manually through the\n",
       "     * 'cursor' event from matplotlib */\n",
       "    event.preventDefault();\n",
       "    return false;\n",
       "}\n",
       "\n",
       "mpl.figure.prototype._key_event_extra = function(event, name) {\n",
       "    // Handle any extra behaviour associated with a key event\n",
       "}\n",
       "\n",
       "mpl.figure.prototype.key_event = function(event, name) {\n",
       "\n",
       "    // Prevent repeat events\n",
       "    if (name == 'key_press')\n",
       "    {\n",
       "        if (event.which === this._key)\n",
       "            return;\n",
       "        else\n",
       "            this._key = event.which;\n",
       "    }\n",
       "    if (name == 'key_release')\n",
       "        this._key = null;\n",
       "\n",
       "    var value = '';\n",
       "    if (event.ctrlKey && event.which != 17)\n",
       "        value += \"ctrl+\";\n",
       "    if (event.altKey && event.which != 18)\n",
       "        value += \"alt+\";\n",
       "    if (event.shiftKey && event.which != 16)\n",
       "        value += \"shift+\";\n",
       "\n",
       "    value += 'k';\n",
       "    value += event.which.toString();\n",
       "\n",
       "    this._key_event_extra(event, name);\n",
       "\n",
       "    this.send_message(name, {key: value,\n",
       "                             guiEvent: simpleKeys(event)});\n",
       "    return false;\n",
       "}\n",
       "\n",
       "mpl.figure.prototype.toolbar_button_onclick = function(name) {\n",
       "    if (name == 'download') {\n",
       "        this.handle_save(this, null);\n",
       "    } else {\n",
       "        this.send_message(\"toolbar_button\", {name: name});\n",
       "    }\n",
       "};\n",
       "\n",
       "mpl.figure.prototype.toolbar_button_onmouseover = function(tooltip) {\n",
       "    this.message.textContent = tooltip;\n",
       "};\n",
       "mpl.toolbar_items = [[\"Home\", \"Reset original view\", \"fa fa-home icon-home\", \"home\"], [\"Back\", \"Back to previous view\", \"fa fa-arrow-left icon-arrow-left\", \"back\"], [\"Forward\", \"Forward to next view\", \"fa fa-arrow-right icon-arrow-right\", \"forward\"], [\"\", \"\", \"\", \"\"], [\"Pan\", \"Pan axes with left mouse, zoom with right\", \"fa fa-arrows icon-move\", \"pan\"], [\"Zoom\", \"Zoom to rectangle\", \"fa fa-square-o icon-check-empty\", \"zoom\"], [\"\", \"\", \"\", \"\"], [\"Download\", \"Download plot\", \"fa fa-floppy-o icon-save\", \"download\"]];\n",
       "\n",
       "mpl.extensions = [\"eps\", \"jpeg\", \"pdf\", \"png\", \"ps\", \"raw\", \"svg\", \"tif\"];\n",
       "\n",
       "mpl.default_extension = \"png\";var comm_websocket_adapter = function(comm) {\n",
       "    // Create a \"websocket\"-like object which calls the given IPython comm\n",
       "    // object with the appropriate methods. Currently this is a non binary\n",
       "    // socket, so there is still some room for performance tuning.\n",
       "    var ws = {};\n",
       "\n",
       "    ws.close = function() {\n",
       "        comm.close()\n",
       "    };\n",
       "    ws.send = function(m) {\n",
       "        //console.log('sending', m);\n",
       "        comm.send(m);\n",
       "    };\n",
       "    // Register the callback with on_msg.\n",
       "    comm.on_msg(function(msg) {\n",
       "        //console.log('receiving', msg['content']['data'], msg);\n",
       "        // Pass the mpl event to the overridden (by mpl) onmessage function.\n",
       "        ws.onmessage(msg['content']['data'])\n",
       "    });\n",
       "    return ws;\n",
       "}\n",
       "\n",
       "mpl.mpl_figure_comm = function(comm, msg) {\n",
       "    // This is the function which gets called when the mpl process\n",
       "    // starts-up an IPython Comm through the \"matplotlib\" channel.\n",
       "\n",
       "    var id = msg.content.data.id;\n",
       "    // Get hold of the div created by the display call when the Comm\n",
       "    // socket was opened in Python.\n",
       "    var element = $(\"#\" + id);\n",
       "    var ws_proxy = comm_websocket_adapter(comm)\n",
       "\n",
       "    function ondownload(figure, format) {\n",
       "        window.open(figure.imageObj.src);\n",
       "    }\n",
       "\n",
       "    var fig = new mpl.figure(id, ws_proxy,\n",
       "                           ondownload,\n",
       "                           element.get(0));\n",
       "\n",
       "    // Call onopen now - mpl needs it, as it is assuming we've passed it a real\n",
       "    // web socket which is closed, not our websocket->open comm proxy.\n",
       "    ws_proxy.onopen();\n",
       "\n",
       "    fig.parent_element = element.get(0);\n",
       "    fig.cell_info = mpl.find_output_cell(\"<div id='\" + id + \"'></div>\");\n",
       "    if (!fig.cell_info) {\n",
       "        console.error(\"Failed to find cell for figure\", id, fig);\n",
       "        return;\n",
       "    }\n",
       "\n",
       "    var output_index = fig.cell_info[2]\n",
       "    var cell = fig.cell_info[0];\n",
       "\n",
       "};\n",
       "\n",
       "mpl.figure.prototype.handle_close = function(fig, msg) {\n",
       "    var width = fig.canvas.width/mpl.ratio\n",
       "    fig.root.unbind('remove')\n",
       "\n",
       "    // Update the output cell to use the data from the current canvas.\n",
       "    fig.push_to_output();\n",
       "    var dataURL = fig.canvas.toDataURL();\n",
       "    // Re-enable the keyboard manager in IPython - without this line, in FF,\n",
       "    // the notebook keyboard shortcuts fail.\n",
       "    IPython.keyboard_manager.enable()\n",
       "    $(fig.parent_element).html('<img src=\"' + dataURL + '\" width=\"' + width + '\">');\n",
       "    fig.close_ws(fig, msg);\n",
       "}\n",
       "\n",
       "mpl.figure.prototype.close_ws = function(fig, msg){\n",
       "    fig.send_message('closing', msg);\n",
       "    // fig.ws.close()\n",
       "}\n",
       "\n",
       "mpl.figure.prototype.push_to_output = function(remove_interactive) {\n",
       "    // Turn the data on the canvas into data in the output cell.\n",
       "    var width = this.canvas.width/mpl.ratio\n",
       "    var dataURL = this.canvas.toDataURL();\n",
       "    this.cell_info[1]['text/html'] = '<img src=\"' + dataURL + '\" width=\"' + width + '\">';\n",
       "}\n",
       "\n",
       "mpl.figure.prototype.updated_canvas_event = function() {\n",
       "    // Tell IPython that the notebook contents must change.\n",
       "    IPython.notebook.set_dirty(true);\n",
       "    this.send_message(\"ack\", {});\n",
       "    var fig = this;\n",
       "    // Wait a second, then push the new image to the DOM so\n",
       "    // that it is saved nicely (might be nice to debounce this).\n",
       "    setTimeout(function () { fig.push_to_output() }, 1000);\n",
       "}\n",
       "\n",
       "mpl.figure.prototype._init_toolbar = function() {\n",
       "    var fig = this;\n",
       "\n",
       "    var nav_element = $('<div/>');\n",
       "    nav_element.attr('style', 'width: 100%');\n",
       "    this.root.append(nav_element);\n",
       "\n",
       "    // Define a callback function for later on.\n",
       "    function toolbar_event(event) {\n",
       "        return fig.toolbar_button_onclick(event['data']);\n",
       "    }\n",
       "    function toolbar_mouse_event(event) {\n",
       "        return fig.toolbar_button_onmouseover(event['data']);\n",
       "    }\n",
       "\n",
       "    for(var toolbar_ind in mpl.toolbar_items){\n",
       "        var name = mpl.toolbar_items[toolbar_ind][0];\n",
       "        var tooltip = mpl.toolbar_items[toolbar_ind][1];\n",
       "        var image = mpl.toolbar_items[toolbar_ind][2];\n",
       "        var method_name = mpl.toolbar_items[toolbar_ind][3];\n",
       "\n",
       "        if (!name) { continue; };\n",
       "\n",
       "        var button = $('<button class=\"btn btn-default\" href=\"#\" title=\"' + name + '\"><i class=\"fa ' + image + ' fa-lg\"></i></button>');\n",
       "        button.click(method_name, toolbar_event);\n",
       "        button.mouseover(tooltip, toolbar_mouse_event);\n",
       "        nav_element.append(button);\n",
       "    }\n",
       "\n",
       "    // Add the status bar.\n",
       "    var status_bar = $('<span class=\"mpl-message\" style=\"text-align:right; float: right;\"/>');\n",
       "    nav_element.append(status_bar);\n",
       "    this.message = status_bar[0];\n",
       "\n",
       "    // Add the close button to the window.\n",
       "    var buttongrp = $('<div class=\"btn-group inline pull-right\"></div>');\n",
       "    var button = $('<button class=\"btn btn-mini btn-primary\" href=\"#\" title=\"Stop Interaction\"><i class=\"fa fa-power-off icon-remove icon-large\"></i></button>');\n",
       "    button.click(function (evt) { fig.handle_close(fig, {}); } );\n",
       "    button.mouseover('Stop Interaction', toolbar_mouse_event);\n",
       "    buttongrp.append(button);\n",
       "    var titlebar = this.root.find($('.ui-dialog-titlebar'));\n",
       "    titlebar.prepend(buttongrp);\n",
       "}\n",
       "\n",
       "mpl.figure.prototype._root_extra_style = function(el){\n",
       "    var fig = this\n",
       "    el.on(\"remove\", function(){\n",
       "\tfig.close_ws(fig, {});\n",
       "    });\n",
       "}\n",
       "\n",
       "mpl.figure.prototype._canvas_extra_style = function(el){\n",
       "    // this is important to make the div 'focusable\n",
       "    el.attr('tabindex', 0)\n",
       "    // reach out to IPython and tell the keyboard manager to turn it's self\n",
       "    // off when our div gets focus\n",
       "\n",
       "    // location in version 3\n",
       "    if (IPython.notebook.keyboard_manager) {\n",
       "        IPython.notebook.keyboard_manager.register_events(el);\n",
       "    }\n",
       "    else {\n",
       "        // location in version 2\n",
       "        IPython.keyboard_manager.register_events(el);\n",
       "    }\n",
       "\n",
       "}\n",
       "\n",
       "mpl.figure.prototype._key_event_extra = function(event, name) {\n",
       "    var manager = IPython.notebook.keyboard_manager;\n",
       "    if (!manager)\n",
       "        manager = IPython.keyboard_manager;\n",
       "\n",
       "    // Check for shift+enter\n",
       "    if (event.shiftKey && event.which == 13) {\n",
       "        this.canvas_div.blur();\n",
       "        event.shiftKey = false;\n",
       "        // Send a \"J\" for go to next cell\n",
       "        event.which = 74;\n",
       "        event.keyCode = 74;\n",
       "        manager.command_mode();\n",
       "        manager.handle_keydown(event);\n",
       "    }\n",
       "}\n",
       "\n",
       "mpl.figure.prototype.handle_save = function(fig, msg) {\n",
       "    fig.ondownload(fig, null);\n",
       "}\n",
       "\n",
       "\n",
       "mpl.find_output_cell = function(html_output) {\n",
       "    // Return the cell and output element which can be found *uniquely* in the notebook.\n",
       "    // Note - this is a bit hacky, but it is done because the \"notebook_saving.Notebook\"\n",
       "    // IPython event is triggered only after the cells have been serialised, which for\n",
       "    // our purposes (turning an active figure into a static one), is too late.\n",
       "    var cells = IPython.notebook.get_cells();\n",
       "    var ncells = cells.length;\n",
       "    for (var i=0; i<ncells; i++) {\n",
       "        var cell = cells[i];\n",
       "        if (cell.cell_type === 'code'){\n",
       "            for (var j=0; j<cell.output_area.outputs.length; j++) {\n",
       "                var data = cell.output_area.outputs[j];\n",
       "                if (data.data) {\n",
       "                    // IPython >= 3 moved mimebundle to data attribute of output\n",
       "                    data = data.data;\n",
       "                }\n",
       "                if (data['text/html'] == html_output) {\n",
       "                    return [cell, data, j];\n",
       "                }\n",
       "            }\n",
       "        }\n",
       "    }\n",
       "}\n",
       "\n",
       "// Register the function which deals with the matplotlib target/channel.\n",
       "// The kernel may be null if the page has been refreshed.\n",
       "if (IPython.notebook.kernel != null) {\n",
       "    IPython.notebook.kernel.comm_manager.register_target('matplotlib', mpl.mpl_figure_comm);\n",
       "}\n"
      ],
      "text/plain": [
       "<IPython.core.display.Javascript object>"
      ]
     },
     "metadata": {},
     "output_type": "display_data"
    },
    {
     "data": {
      "text/html": [
       "<img src=\"data:image/png;base64,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\" width=\"640\">"
      ],
      "text/plain": [
       "<IPython.core.display.HTML object>"
      ]
     },
     "metadata": {},
     "output_type": "display_data"
    }
   ],
   "source": [
    "import matplotlib.pyplot as plt\n",
    "fig=plt.figure()\n",
    "ax=fig.gca()\n",
    "\n",
    "#Grafica\n",
    "ax.plot(vxs,vys,'r')\n",
    "\n",
    "#Decoración\n",
    "from pymcel.plot import fija_ejes_proporcionales\n",
    "valores=(vxs,vys)\n",
    "xrango,yrango=fija_ejes_proporcionales(ax,valores,xcm=0)\n",
    "\n",
    "#Dibuja ejes\n",
    "ax.plot(xrango,[0,0],'k-');\n",
    "ax.plot([0,0],yrango,'k-');\n",
    "ax.set_xlabel(\"$v_x$\");\n",
    "ax.set_ylabel(\"$v_y$\");"
   ]
  },
  {
   "cell_type": "markdown",
   "metadata": {},
   "source": [
    "<a id='fig:07.02.00.00.Problema2Cuerpos.ProblemaRelativo_75'></a><center><b>Figura 7.75.</b> </center>"
   ]
  },
  {
   "cell_type": "markdown",
   "metadata": {},
   "source": [
    "A este gráfico se lo conoce en general como el *hodografo*.  Como podemos apreciar, en el problema de los dos cuerpos el hodógrafo es una circunferencia descentrada, un resultado general que se puede formular como un teorema general (cuya demostración puede desarrollarse en la sección de problemas al final de este capítulo):"
   ]
  },
  {
   "cell_type": "markdown",
   "metadata": {
    "label": "box:teo:hodografo",
    "subtitle": "El teorema del hodografo",
    "tags": [
     "box_theorem",
     "box:teo:hodografo"
    ],
    "title": "Teorema"
   },
   "source": [
    "> **Teorema: El teorema del hodografo.**<a id='box:teo:hodografo'></a> El vector velocidad relativa en el problema de los dos cuerpos describe un círculo (hodografo) que tiene centro en $(0,\\mu e/h)$ y radio $\\mu/h$.  Por la misma razón la ecuación paramétrica para la velocidad es:\n",
    "\n",
    "> \\begin{equation}\n",
    "  \\label{eq:v_hodografo}\n",
    "  \\begin{array}{rcl}\n",
    "  \\dot x & = & -\\frac{\\mu}{h} \\sin f\\\\\n",
    "  \\dot y & = & \\frac{\\mu}{h} (e+\\cos f)\\\\\n",
    "  \\dot z & = & 0\\\\\n",
    "  \\end{array}\n",
    "  \\end{equation}\n",
    "  \n",
    "> Este resultado es independiente de la cónica (independiente del valor de $e$)."
   ]
  },
  {
   "cell_type": "markdown",
   "metadata": {},
   "source": [
    "## 7.7. El teorema armónico\n",
    "<a id='teorema_armónico'></a>"
   ]
  },
  {
   "cell_type": "markdown",
   "metadata": {},
   "source": [
    "En las secciones anteriores hemos usado las constantes de movimiento para deducir dos importantes teoremas sobre del problema relativo de los dos cuerpos que fueron descubiertas originalmente por Kepler y que se conocen históricamente como las leyes del movimiento planetario.  \n",
    "\n",
    "En 1619, Kepler publicó su libro \"*La armonía de los mundos*\" y en el revelo la que sería una de las más increíbles leyes del movimiento planetario (al menos para la época): la ley armónica. ¿Cuál es en términos modernos el teorema que corresponde a esta ley?"
   ]
  },
  {
   "cell_type": "markdown",
   "metadata": {
    "label": "box:teo:armonico",
    "subtitle": "Teorema armónico",
    "tags": [
     "box_theorem",
     "box:teo:armonico"
    ],
    "title": "Teorema"
   },
   "source": [
    "> **Teorema: Teorema armónico.**<a id='box:teo:armonico'></a> Dado un sistema de dos cuerpos cuyo movimiento relativo es tal que $e\\neq 1$, la velocidad angular promedio $n=\\langle\\dot\\theta\\rangle$ del vector relativo es independiente de la excentricidad de la órbita, y se relaciona con el valor absoluto del semieje mayor de la órbita relativa $|a|$ a través:\n",
    "\n",
    "> \\begin{equation}\\label{eq:teorema_armonico}n^2|a|^3 = \\mu\\end{equation}\n"
   ]
  },
  {
   "cell_type": "markdown",
   "metadata": {},
   "source": [
    "Naturalmente esta no es la forma tradicional en la que conocemos la tercera ley de Kepler. Esta última fue formulada solo en el caso de movimiento sobre una órbita elíptica, mientras que el teorema general formulado arriba aplica también en el caso de órbitas hiperbólicas."
   ]
  },
  {
   "cell_type": "markdown",
   "metadata": {},
   "source": [
    "En realidad la ley armónica es un corolario del teorema de áreas.  En el caso, por ejemplo, de una órbita elíptica, que es una órbita con período $T$, la velocidad areal se puede escribir como:\n",
    "\n",
    "$$\n",
    "\\frac{\\mathrm{d}A}{\\mathrm{d}t}=\\frac{A}{T}=\\frac{\\pi a b}{T}\n",
    "$$\n",
    "donde hemos aprovechado el hecho que la velocidad areal es constante para escribirla como la razón entre el área total de la elipse $A=\\pi a b$ (Ec. [area_elipse](#mjx-eqn-eq%3Aarea_elipse)) y el período de la misma. "
   ]
  },
  {
   "cell_type": "markdown",
   "metadata": {},
   "source": [
    "Si tenemos ahora en cuenta que $b=a\\sqrt{1-e^2}$, $h^2=\\mu a(1-e^2)$ y $\\mathrm{d}A/\\mathrm{d}t=h/2$ es fácil deducir que:\n",
    "\n",
    "\\begin{equation}\n",
    "\\label{eq:ley_armonica}\n",
    "\\frac{a^3}{T^2} = \\frac{\\mu}{4\\pi^2}\n",
    "\\end{equation} \n",
    "que es la forma original de la ley armónica de Kepler: \"*la razón entre el cubo del semiejemayor y el cuadrado del período orbital de los planetas es constante*\".  \n",
    "\n",
    "Lo que no sabía Kepler era la relación de esa constante con constantes física (la masa total del sistema) y geométricas (el factor $4\\pi^2$.)"
   ]
  },
  {
   "cell_type": "markdown",
   "metadata": {},
   "source": [
    "Para obtener a partir de la Ec. ([ley_armonica](#mjx-eqn-eq%3Aley_armonica)) la relación entre $a$ y $n$ en el teorema armónico (Teo. [ley_armonica](#box:teo:armonico)), basta reconocer, de un lado, que en una órbita periódica la velocidad angular promedio es:\n",
    "\n",
    "$$\n",
    "n=\\frac{2\\pi}{T}\n",
    "$$\n",
    "y escribir la Ec. ([ley_armonica](#mjx-eqn-eq%3Aley_armonica)) en la forma:\n",
    "\n",
    "$$\n",
    "a^3\\left(\\frac{2\\pi}{T}\\right)^2 = \\mu\n",
    "$$\n",
    "\n",
    "Esta última es exactamente la relación $n^2a^3=\\mu$ del teorema armónico."
   ]
  },
  {
   "cell_type": "markdown",
   "metadata": {},
   "source": [
    "En los problemas al final del capítulo el lector podrá demostrar el teorema armónico en el caso de una órbita hiperbólica."
   ]
  },
  {
   "cell_type": "markdown",
   "metadata": {},
   "source": [
    "## 7.8. Teoremas del movimiento orbital\n",
    "<a id='teoremas_orbital'></a>"
   ]
  },
  {
   "cell_type": "markdown",
   "metadata": {},
   "source": [
    "Podemos finalmente sintetizar los resultados de esta sección enumerando en un mismo lugar los teoremas fundamentales del movimiento relativo de dos cuerpos:\n",
    "\n",
    "- **Primer teorema del movimiento orbital** (Teo. [ley_armonica](#box:teo:movimiento.orbital)). El vector relativo de un sistema de dos cuerpos describe una trayectoria cónica.\n",
    "\n",
    "- **Teorema de áreas** (Teo. [ley_armonica](#box:teo:areas)).  La tasa de cambio del área barrida por el vector relativo es constante. \n",
    "\n",
    "- **Teorema armónico** (Teo. [ley_armonica](#box:teo:armonico)).  El producto del cuadrado de la velocidad angular promedio del vector relativo y el cubo del valor absoluto del semiejemayor de su trayectoria es constante.\n",
    "\n",
    "Hoy, por su importancia histórica, estos teoremas son todavía conocidos como las leyes del movimiento planetario de Kepler.  Sin embargo, entre las versiones originales de las leyes formuladas por Kepler y las formas rigurosas de los teoremas presentadas aquí hay importantes diferencias. Por la misma razón en lo sucesivo y a través de todo este libro nos seguiremos refiriendo a estos resultados como los **teoremas del movimiento orbital** en lugar de llamarlos, como se acostumbra en todas partes, las leyes de Kepler."
   ]
  },
  {
   "cell_type": "markdown",
   "metadata": {
    "label": "",
    "subtitle": "Newton, Hooke y el primer teorema del movimiento orbital",
    "tags": [
     "box_history"
    ],
    "title": "Un poco de historia"
   },
   "source": [
    "> **Un poco de historia: Newton, Hooke y el primer teorema del movimiento orbital.**<a id=''></a> Uno de los logros más significativos de la teoría del movimiento y la gravedad formulada por Newton en los 1680 y presentada en los *Principia* fue la demostración, que sintetizamos en esta sección usando métodos modernos, de que un cuerpo sometido a una fuerza central que varía con el inverso del cuadrado de la distancia se movería sobre una curva cónica.\n",
    "\n",
    "> Como sucedió con la idea de la fuerza de gravedad, todo parece indicar que el primero en intuir esta relación fue  Robert Hooke. En 1679, Newton, en respuesta a una carta previa de Hooke discutiendo el problema de la gravedad y la rotación de la Tierra, explicaba que contrario a lo que pensaban los escolásticos, quienes esgrimían contra la rotación de la Tierra la idea de que si un cuerpo se soltaba desde una cierta altura caería al oeste del punto de lanzamiento porque la Tierra debajo de él se habría movido hacia el oriente, en realidad por la ley de inercia el objeto caería un poco hacia el oriente: al lanzarse desde un punto más lejano del centro de la Tierra, su velocidad tangencial sería mayor que la velocidad de la superficie (ver Figura ([hooke_newton](#fig:hooke_newton)).)  Continuaba Newton explicando que si además el cuerpo pudiera moverse por dentro del planeta describiría, por efecto de la aceleración gravitacional una trayectoria en espiral hacia el centro.\n",
    "\n",
    "> Este sería uno de los poquísimos errores de intuición física que cometería Newton en público. La corrección del error le permitiría deducir con su teoría gravitacional, la primera ley de Kepler, pero también le costaría muchos dolores de cabeza en su debate público con Hooke por la prioridad en el descubrimiento.  \n",
    "\n",
    "> Hooke respondió a Newton corrigiéndo en dos aspectos sus conclusiones sobre el experimento mental planteado. El primero era que si el cuerpo de su experimento se lanzaba en la latitud de Londrés en realidad caería hacia el sur oriente, esto porque la aceleración esta dirigida hacia el centro de la Tierra que desde la latitud de Inglaterra esta inclinado hacia al sur.  La segunda y más crucial corrección fue, citando textualmente a Hooke \"*mi teoría del movimiento circular me hace suponer que [la trayectoria del cuerpo] sería algo muy diferente y en lo absoluto parecido a una espiral, sino más bien una especie de elipsoide*.\" Hooke razonaba correctamente al mostrar que el movimiento de un cuerpo sometido a la atracción de la Tierra se movería de forma similar a un planeta alrededor del Sol.\n",
    "\n",
    "> Newton reconocería después que Hooke estaba en lo cierto, pero más importante, esta corrección lo motivo (como él mismo lo reconocío posteriormente) a verificar, usando el cálculo infinitesimal que había inventado unos años antes, si el movimiento sobre una elipse era compatible con una fuerza que variaba con el inverso del cuadrado de la distancia.  Así lo hizo como quedo formulado en un teorema que presentó en un ensayo, anterior a los *Principia* pero que se convertiría en la semilla del Libro III del mismo, titulado *De motu corporum in gyrum* (Sobre los movientos de cuerpos en una órbita) y que fue leída por la *Royal Society* en 1684.\n",
    "\n",
    "> Hasta ahí todo se reduciría a explicar algo que se conocía desde los tiempos de Kepler.  Pero una nueva teoría necesita predicciones enteramente nuevas.  En diciembre de 1680 y enero de 1681 aparicieron en el cielo dos cometas  casi idénticos (ver Figura ([cometa_1680](#fig:cometa_1680)).)  El astrónomo real John Flamsteed sostenía la teoría de que se trataba del mismo objeto que se había aproximado al Sol en 1680 y después había dado la vuelta \"detrás\" de él apareciendo en enero de 1681.  Newton se intereso en la teoría de Flamsteed y recogió observaciones realizadas por él mismo, por el astrónomo real, por el italiano Giovanny Domenico Cassini y por su archienemigo Robert Hooke.  Para 1682 Newton obtuvo finalmente la respuesta esperada: el cometa de 1680/1681 se movía en una trayectoría casi parabólica, producida por la atracción \"magnética\" del Sol y que, como la trayectoría elíptica, también obedecía la ley del inverso cuadrado de la distancia.  La primera ley de Kepler se convertía así en el primer teorema del movimiento planetario formulado aquí."
   ]
  },
  {
   "cell_type": "markdown",
   "metadata": {},
   "source": [
    "<a id='fig:hooke_newton'></a>![Izquierda: ilustración de Newton adaptada de la correspondencia con Hooke en 1679 y en la que explicaba la trayectoria que seguiría una partícula soltada desde el reposo en un punto A a una cierta altura sobre una Tierra que rota. Para esta trayectoria Newton asumía que la fuerza de gravedad era proporcional a la distancia al centro (que es lo que pasaría dentro de la Tierra sólida.)  Derecha: trayectoría elíptica que seguiría la partícula si toda la masa de la Tierra estuviera concentrada en el punto C y la fuerza variara con el inverso del cuadrado de la distancia.  Esta trayectoria fue sugerida por Robert Hooke e inspiro a Newton a demostrar la primera ley de Kepler usando su teoría de la gravedad.++t!++0.8++\\label{fig:hooke_newton}](./figures/horizontal_hooke_newton.png)\n",
    "\n",
    "<center><b>Figura 7.76</b>. Izquierda: ilustración de Newton adaptada de la correspondencia con Hooke en 1679 y en la que explicaba la trayectoria que seguiría una partícula soltada desde el reposo en un punto A a una cierta altura sobre una Tierra que rota. Para esta trayectoria Newton asumía que la fuerza de gravedad era proporcional a la distancia al centro (que es lo que pasaría dentro de la Tierra sólida.)  Derecha: trayectoría elíptica que seguiría la partícula si toda la masa de la Tierra estuviera concentrada en el punto C y la fuerza variara con el inverso del cuadrado de la distancia.  Esta trayectoria fue sugerida por Robert Hooke e inspiro a Newton a demostrar la primera ley de Kepler usando su teoría de la gravedad.</center>"
   ]
  },
  {
   "cell_type": "markdown",
   "metadata": {},
   "source": [
    "<a id='fig:cometa_1680'></a>![Pintura del holandés Lieve Verschuier que muestra la apariencia del gran cometa de 1680, llamado también el cometa de Newton.  Crédito: Museo de Rotterdam.++t!++0.8++\\label{fig:cometa_1680}](./figures/square_cometa_1680.png)\n",
    "\n",
    "<center><b>Figura 7.77</b>. Pintura del holandés Lieve Verschuier que muestra la apariencia del gran cometa de 1680, llamado también el cometa de Newton.  Crédito: Museo de Rotterdam.</center>"
   ]
  },
  {
   "cell_type": "markdown",
   "metadata": {
    "tags": [
     "navigation"
    ]
   },
   "source": [
    "[Indice](index.ipynb) | Previo: [Problema2Cuerpos.Motivacion](07.01.00.00.Problema2Cuerpos.Motivacion.ipynb) | Siguiente: [Problema2Cuerpos.OrbitaEspacio](07.03.00.00.Problema2Cuerpos.OrbitaEspacio.ipynb)"
   ]
  }
 ],
 "metadata": {
  "celltoolbar": "Tags",
  "kernelspec": {
   "display_name": "Python 3",
   "language": "python",
   "name": "python3"
  },
  "language_info": {
   "codemirror_mode": {
    "name": "ipython",
    "version": 3
   },
   "file_extension": ".py",
   "mimetype": "text/x-python",
   "name": "python",
   "nbconvert_exporter": "python",
   "pygments_lexer": "ipython3",
   "version": "3.6.8"
  }
 },
 "nbformat": 4,
 "nbformat_minor": 2
}
