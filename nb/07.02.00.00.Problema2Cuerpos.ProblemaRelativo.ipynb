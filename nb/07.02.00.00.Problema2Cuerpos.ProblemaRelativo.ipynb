{
 "cells": [
  {
   "cell_type": "markdown",
   "metadata": {
    "tags": [
     "navigation"
    ]
   },
   "source": [
    "[Indice](index.ipynb) | Previo: [Problema2Cuerpos.Motivacion](07.01.00.00.Problema2Cuerpos.Motivacion.ipynb) | "
   ]
  },
  {
   "cell_type": "markdown",
   "metadata": {},
   "source": [
    "## 7.2. El problema relativo de dos cuerpos\n",
    "<a id='doscuerpos_reducido'></a>"
   ]
  },
  {
   "cell_type": "markdown",
   "metadata": {},
   "source": [
    "Naturalmente el problema de dos cuerpos es un caso particular del problema de los N cuerpos y la mayoría de las propiedades que descubrimos en el [Capítulo *El problema de los N cuerpos*](06.00.00.00.ProblemaNCuerpos.ipynb#problema_ncuerpos) son válidas también en este caso."
   ]
  },
  {
   "cell_type": "markdown",
   "metadata": {},
   "source": [
    "Las ecuaciones de movimiento del sistema se reducen a (Ecs. [edm_ncuerpos](#mjx-eqn-eq%3Aedm_ncuerpos)):\n",
    "\n",
    "\\begin{eqnarray}\n",
    "\\label{eq:edm_doscuerpos}\n",
    "\\ddot{\\vec{r}}_1 & = & -\\frac{\\mu_2}{r_{12}^3}{\\vec r}_{12} \\\\\n",
    "\\nonumber\n",
    "\\ddot{\\vec{r}}_2 & = & -\\frac{\\mu_1}{r_{21}^3}{\\vec r}_{21}\n",
    "\\end{eqnarray}\n",
    "donde ${\\vec r}_{12}={\\vec r}_1-{\\vec r_2}=-{\\vec r}_{21}$ (ver Figura ([problema_dos_cuerpos](#fig:problema_dos_cuerpos)).)\n",
    "\n",
    "Al reducirse de orden, las Ecs. ([edm_doscuerpos](#mjx-eqn-eq%3Aedm_doscuerpos)) corresponden a un total de 12 ecuaciones diferenciales ordinarias escalares de primer orden, con incognitas $x_1(t),y_1(t),z_1(t)$, ${\\dot x}_1(t),{\\dot y}_1(t),{\\dot z}_1(t)$ y $x_2(t),y_2(t),z_2(t)$, ${\\dot x}_2(t),{\\dot y}_2(t),{\\dot z}_2(t)$.  "
   ]
  },
  {
   "cell_type": "markdown",
   "metadata": {},
   "source": [
    "<a id='fig:problema_dos_cuerpos'></a>![Configuración del problema de los dos cuerpos.++t!++0.8++\\label{fig:problema_dos_cuerpos}](./figures/horizontal_centro_masa.png)\n",
    "\n",
    "<center><b>Figura 7.57</b>. Configuración del problema de los dos cuerpos.</center>"
   ]
  },
  {
   "cell_type": "markdown",
   "metadata": {},
   "source": [
    "Las constantes de movimiento son las mismas que encontramos en la [Sección *¿Solución analítica?*](06.02.00.00.ProblemaNCuerpos.SolucionAnalitica.ipynb#solucion_analitica):\n",
    "\n",
    "- Tres para el momento lineal del centro de masa, Ec. ([ncuerpos_momento](#mjx-eqn-eq%3Ancuerpos_momento)).\n",
    "- Tres para la posición inicial del centro de masa, Ec. ([ncuerpos_centro_masa](#mjx-eqn-eq%3Ancuerpos_centro_masa)).\n",
    "- Tres para el momento angular total, Ec. ([ncuerpos_momento_angular](#mjx-eqn-eq%3Ancuerpos_momento_angular))\n",
    "- Una para la energía mecánica total, Ec. ([ncuerpos_energia](#mjx-eqn-eq%3Ancuerpos_energia))\n",
    "\n",
    "El problema tiene entonces, hasta ahora, tan solo 10 cuadraturas (constantes de movimientos) que relacionan algebraicamente 12 variables dependientes.  Por lo tanto, si bien en esta caso el Teorema de Bruns generalizado, Teo. ([ncuerpos_energia](06.02.03.00.ProblemaNCuerpos.SolucionAnalitica.Sintesis.ipynb#box:teo:bruns)) no limita la posibilidad de encontrar otras constantes independientes, con la información disponible, el problema no puede resolverse por cuadraturas."
   ]
  },
  {
   "cell_type": "markdown",
   "metadata": {},
   "source": [
    "Hay sin embargo dos \"simetrías\" que reducen considerablemente el problema y nos ponen en el camino de una solución analítica completa.  \n",
    "\n",
    "La primera simetría la identificamos en la [Sección *Centro de masa*](05.02.02.00.Mecanica.Dinamica.SistemaParticulas.ipynb#centro_masa) y esta ilustrada en la Figura ([problema_doscuerpos](#fig:problema_doscuerpos))).  Habíamos mostrado que el centro de masa de un sistema de dos cuerpos esta siempre ocalizado sobre la línea que une las dos partículas.  Esto implica que la posición de cada partícula puede expresarse como función de una sola cantidad vectorial, a saber, el vector relativo ${\\vec r}\\equiv{\\vec r}_{12}$: \n",
    "\n",
    "\\begin{eqnarray}\n",
    "\\label{eq:r1_r2_r}\n",
    "{\\vec r}_1 & = & {\\vec R}_\\mathrm{CM}+\\frac{m_2}{M} \\vec r\\\\\n",
    "\\nonumber\n",
    "{\\vec r}_2 & = & {\\vec R}_\\mathrm{CM}-\\frac{m_1}{M} \\vec r\n",
    "\\end{eqnarray}\n",
    "y por consiguiente también la velocidad de las partículas es función solamente de la velocidad relativa entre ellas:\n",
    "\n",
    "\\begin{eqnarray}\n",
    "\\label{eq:v1_v2_v}\n",
    "\\dot{\\vec r}_1 & = & \\vec{V}_\\mathrm{CM}+\\frac{m_2}{M} \\dot{\\vec r}\\\\\n",
    "\\nonumber\n",
    "\\dot{\\vec r}_2 & = & \\vec{V}_\\mathrm{CM}-\\frac{m_1}{M} \\dot{\\vec r}\n",
    "\\end{eqnarray}\n",
    "\n",
    "Resolver el problema de los dos cuerpos consiste entonces, en realidad, en encontrar las funciones $\\vec r(t)$ y $\\dot{\\vec r}(t)$ que describen el movimiento del vector relativo.  "
   ]
  },
  {
   "cell_type": "markdown",
   "metadata": {},
   "source": [
    "Para encontrar la e.d.m. del vector relativo, basta que restemos las Ecs. ([edm_doscuerpos](#mjx-eqn-eq%3Aedm_doscuerpos)) y tengamos en cuenta que, por definición, $\\ddot{\\vec{r}} = \\ddot{\\vec{r}}_2 - \\ddot{\\vec{r}}_1$:\n",
    "\n",
    "\\begin{equation}\n",
    "\\label{eq:edm_doscuerpos_relativo}\n",
    "\\ddot{\\vec{r}}=-\\frac{\\mu}{r^3}\\vec{r}\n",
    "\\end{equation}\n",
    "donde hemos introducido $\\mu \\equiv G(m_1+m_2)$ que llamaremos en lo sucesivo el *parámetro gravitacional del sistema*.  \n",
    "\n",
    "Con esta simetría, hemos reducido el tamaño del problema de las 12 ecuaciones diferenciales ordinarias de primer orden equivalentes a las Ecs. ([edm_doscuerpos](#mjx-eqn-eq%3Aedm_doscuerpos)), a solo 6 ecuaciones (la versión reducida de la Ec. [edm_doscuerpos_relativo](#mjx-eqn-eq%3Aedm_doscuerpos_relativo)), al costo, sin embargo, de abandonar las coordenadas originales y por la misma razón las cuadraturas que encontramos anteriormente. "
   ]
  },
  {
   "cell_type": "markdown",
   "metadata": {},
   "source": [
    "Si queremos obtener la solución a este problema por el método de cuadraturas, debemos entonces encontrar 6 constantes de movimiento a partir de la Ec. ([edm_doscuerpos_relativo](#mjx-eqn-eq%3Aedm_doscuerpos_relativo)) y que relacionen las 6 variables del problema: $x(t)$, $y(t)$, $z(t)$, $v_x(t)$, $v_y(t)$, $v_z(t)$."
   ]
  },
  {
   "cell_type": "markdown",
   "metadata": {},
   "source": [
    "## 7.3. Constantes de movimiento\n",
    "<a id='doscuerpos_constantes'></a>"
   ]
  },
  {
   "cell_type": "markdown",
   "metadata": {},
   "source": [
    "Es claro que la Ec. ([edm_doscuerpos_relativo](#mjx-eqn-eq%3Aedm_doscuerpos_relativo)), a diferencia de lo que paso en el problema de los N cuerpos con la Ec. ([ncuerpos_suma_edm](#mjx-eqn-eq%3Ancuerpos_suma_edm)), no puede expresarse directamente en cuadraturas sin la ayuda de un factor integrante.  Esto implica que en el problema relativo, a diferencia de lo que pasa en el problema de los N cuerpos, el momento lineal no es constante."
   ]
  },
  {
   "cell_type": "markdown",
   "metadata": {},
   "source": [
    "### 7.3.1. Momento angular específico relativo\n",
    "<a id='doscuerpos_h'></a>"
   ]
  },
  {
   "cell_type": "markdown",
   "metadata": {},
   "source": [
    "Si pre multiplicamos ambos lados de la Ec. ([edm_doscuerpos_relativo](#mjx-eqn-eq%3Aedm_doscuerpos_relativo)) por $\\vec r\\times$ obtenemos:\n",
    "\n",
    "$$\n",
    "\\vec r\\times \\ddot{\\vec r}=0\n",
    "$$\n",
    "que puede expresarse en cuadraturas como:\n",
    "\n",
    "\n",
    "$$\n",
    "\\frac{\\mathrm{d}}{\\mathrm{d}t} (\\vec{r}\\times \\dot{\\vec{r}}) = 0\n",
    "$$\n",
    "de donde encontramos nuestro primera constante de movimiento:\n",
    "\n",
    "\\begin{equation}\n",
    "\\label{eq:h}\n",
    "\\vec{r} \\times \\dot{\\vec{r}}\\equiv\\vec{h}\n",
    "\\end{equation}\n",
    "\n",
    "Si bien esta cantidad no se corresponde con ninguna cantidad dinámica del sistema original, su estructura y unidades nos recuerda la definición de un momento angular específico (momento angular por unidad de masa) y en lo sucesivo llamaremos a $\\vec h$ el *momento angular específico relativo* del problema."
   ]
  },
  {
   "cell_type": "markdown",
   "metadata": {},
   "source": [
    "La constancia de la cantidad $\\vec r\\times\\dot{\\vec r}$ tiene una implicación mas trascendental aún.  Como sucedió en el problema de los N cuerpos con el momento angular total referido al centro de masa, el vector constante $\\vec h$ define un plano invariable, el análogo aquí del plano invariable de Laplace de la Def. ([plano_orbital](06.02.01.00.ProblemaNCuerpos.SolucionAnalitica.ConstantesMovimiento.ipynb#box:def:plano.invariable)).  Este plano, a diferencia del que encontramos en el problema de los N cuerpos, tiene una propiedad distintiva y crucial.  Dado que por definición, el vector relativo $\\vec r$ y su velocidad $\\dot{\\vec r}$ son perpendiculares a $\\vec h$, ambos residiran siempre sobre ese plano (ver Figura ([plano_orbital](#fig:plano_orbital))).  Como resultado, la trayectoria del vector relativo se realizará siempre sobre un plano (que en el sistema de referencia del centro de masa será invariable también.)  Llamamos a este plano, el **plano orbital** del sistema."
   ]
  },
  {
   "cell_type": "markdown",
   "metadata": {},
   "source": [
    "<a id='fig:problema_dos_cuerpos'></a>![El problema de los dos cuerpos puede reducirse al movimiento de su vector relativo $\\vec r$, un vector libre sin un origen definido.  Por simplicidad podemos suponer la existencia un punto imaginario ${\\cal O}$ alrededor del cual la punta del vector se mueve.  La constancia de $\\vec r\\times\\dot{\\vec r}=\\vec h$ en el problema relativo de los dos cuerpos implica que el movimiento del sistema (trayectoria rayada) se realiza sobre un plano: aquel definido por el vector $\\vec h$.  Adicionalmente (panel inferior) la magnitud de este vector se puede relacionar con la razón de cambio del área barrida por el vector relativo (superficie coloreada en el panel inferior.)++t!++0.8++\\label{fig:problema_dos_cuerpos}](./figures/square_plano_orbital.png)\n",
    "\n",
    "<center><b>Figura 7.58</b>. El problema de los dos cuerpos puede reducirse al movimiento de su vector relativo $</center>"
   ]
  },
  {
   "cell_type": "markdown",
   "metadata": {},
   "source": [
    "La existencia de un plano orbital en el problema relativo de los dos cuerpos es una simetría nueva que reduce aún más el \"tamaño\" del sistema.  Ahora, podemos escribir explícitamente el vector posición y el vector velocidad sobre el plano en términos de sus componentes en coordenadas cilíndricas (ver la [Sección *Sistemas de coordenadas*](04.01.01.00.Fundamentos.Calculo.Vectores.ipynb#sistemas_coordenadas)), como:\n",
    "\n",
    "\\begin{eqnarray}\n",
    "\\label{eq:r}\n",
    "\\vec{r} & = & r\\hat{a_r} \\\\\n",
    "\\label{eq:dotr}\n",
    "\\dot{\\vec{r}} & = & \\dot{r}\\hat{a_r} + r\\dot{\\theta} \\hat{a_\\theta}\n",
    "\\end{eqnarray}\n",
    "y con esto el problema de los dos cuerpos relativo se reduce a encontrar las cuatro funciones $r(t)$, $\\theta(t)$, $\\dot{r}(t)$ y $\\dot{\\theta}(t)$ o sus equivalente cartesianos $x(t)$, $y(t)$, $\\dot{x}(t)$ y $\\dot{y}(t)$."
   ]
  },
  {
   "cell_type": "markdown",
   "metadata": {},
   "source": [
    "En el plano orbital, el momento angular específico relativo tiene solo una componente no nula (en dirección $z$) y se puede escribir simplemente como $\\vec{h}:(0,0,h)$, donde de las Ecs. ([r](#mjx-eqn-eq%3Ar)) y ([dotr](#mjx-eqn-eq%3Adotr)),\n",
    "\n",
    "\\begin{equation}\n",
    "\\label{eq:h_escalar}\n",
    "h=r^2\\dot\\theta\n",
    "\\end{equation}"
   ]
  },
  {
   "cell_type": "markdown",
   "metadata": {},
   "source": [
    "La magnitud del vector $\\vec h$ tiene un significado adicional que viene directamente de la interpretación geométrica de la magnitud del producto cruz $2\\mathrm{dA}=|\\vec r\\times \\mathrm{d}{\\vec r}|$ que no es otra cosa que el área del paralelogramo definido por los vectores $\\vec r$ y $\\mathrm{d}{\\vec r}$ (ver Figura Figura ([teorema_areas](#fig:teorema_areas)).):\n",
    "\n",
    "$$\n",
    "h=2\\frac{\\mathrm{d}A}{\\mathrm{d}t}\n",
    "$$\n",
    "\n",
    "La constancia $h$ conduce a uno de los más conocidos teoremas de la mecánica celeste:"
   ]
  },
  {
   "cell_type": "markdown",
   "metadata": {
    "label": "box:teo:areas",
    "subtitle": "Teorema de áreas",
    "tags": [
     "box:teo:areas",
     "box_theorem"
    ],
    "title": "Teorema"
   },
   "source": [
    "> **Teorema: Teorema de áreas.**<a id='box:teo:areas'></a> La *velocidad areal* del vector relativo (la razón de cambio del área barrida por el vector en su movimiento) en el problema de los dos cuerpos es constante e igual a:\n",
    "\n",
    "> $$\\frac{\\mathrm{d}A}{\\mathrm{d}t}=\\frac{1}{2}h$$\n",
    "> donde $h=|\\vec r\\times\\dot{\\vec r}|$.  \n",
    "\n",
    "> En otros términos, el vector relativo en el problema de los dos cuerpos barre áreas iguales en tiempos iguales."
   ]
  },
  {
   "cell_type": "markdown",
   "metadata": {},
   "source": [
    "El teorema de áreas fue introducido originalmente en 1609 por Johanes Kepler en su obra cumbre \"*Astronomía Nueva*\". Kepler lo obtuvo por inducción (a diferencia de como lo hicimos aquí por deducción a partir de las ecuaciones de movimiento) con el objetivo específico de describir de la forma más precisa posible el movimiento del planeta Marte alrededor del Sol, del cual contaba con las observaciones precisas realizadas durante varias decadas por el astrónomo danés Tycho Brahe ([\"tico braja\"](https://es.forvo.com/word/tycho_brahe/#da))  Kepler, extendió este resultado \"empírico\" a todos los planetas, razón por la cual se lo conoce históricamente como la *segunda ley del movimiento planetario*."
   ]
  },
  {
   "cell_type": "markdown",
   "metadata": {},
   "source": [
    "Hay dos diferencias importantes entre la segunda ley de Kepler y el teorema de áreas formulado aquí. Mientras que la ley clásica aplica únicamente para el movimiento de planetas en trayectorias cerradas alrededor del Sol (que se asumía inmóvil) la versión moderna del teorema no hace ninguna suposición específica sobre la forma (si es cerrada o abierta) de la trayectoria del vector relativo.  Adicionalmente, el teorema de áreas no dice nada sobre la relación entre las masas y se aplica universalmente a cualquier sistema de dos cuerpos, sea está la descripción (aproximada) el movimiento de un planeta alrededor del Sol, la de un cometa que sobrevuela a Júpiter o un sistema binario de estrellas de neutrones con masas similares"
   ]
  },
  {
   "cell_type": "markdown",
   "metadata": {},
   "source": [
    "Formulado en términos de la velocidad areal, el teorema de áreas es relativamente oscuro.  Si usamos la magnitud del vector $\\vec h$ (Ec. \\label{eq:h_escalar}) y escribimos:\n",
    "\n",
    "\\begin{equation}\n",
    "\\label{eq:dotq}\n",
    "\\dot\\theta=\\frac{h}{r^2}\n",
    "\\end{equation}\n",
    "otra manera de interpretar la constancia del momento angular específico es decir que la velocidad angular $\\dot\\theta$ del vector relativo es mayor en tanto menor sea la magnitud el vector $r$ (distancia entre las partículas.)  Es decir, las partículas del sistema se mueven más rapidamente en los puntos de máxima aproximación que en aquellos en los que están más lejos.  Este comportamiento ya lo intuíamos al observar la solución numérica de los sistemas que estudiamos en el [Capítulo *El problema de los N cuerpos*](06.00.00.00.ProblemaNCuerpos.ipynb#problema_ncuerpos). "
   ]
  },
  {
   "cell_type": "markdown",
   "metadata": {},
   "source": [
    "### 7.3.2. Energía específica relativa\n",
    "<a id='doscuerpos_epsilon'></a>"
   ]
  },
  {
   "cell_type": "markdown",
   "metadata": {},
   "source": [
    "Si pre multiplicamos ambos lados de la Ec. ([edm_doscuerpos_relativo](#mjx-eqn-eq%3Aedm_doscuerpos_relativo)) por $\\vec r\\cdot$ obtenemos:\n",
    "\n",
    "$$\n",
    "\\dot{\\vec{r}} \\cdot \\ddot{\\vec{r}} = -\\frac{\\mu}{r^3} \\dot{\\vec{r}} \\cdot \\vec{r}\\\\\n",
    "$$\n",
    "que puede expresarse en cuadraturas como:\n",
    "\n",
    "\n",
    "$$\n",
    "\\frac{d}{dt} \\left(\\frac{1}{2} \\dot{\\vec{r}}^2 \\right)= \\frac{d}{dt}\\left(\\frac{\\mu}{r}\\right)\n",
    "$$\n",
    "de donde encontramos una segunda constante de movimiento:\n",
    "\n",
    "\\begin{equation}\n",
    "\\label{eq:epsilon}\n",
    "\\frac{1}{2} \\dot{\\vec{r}}^2 - \\frac{\\mu}{r}\\equiv\\epsilon\n",
    "\\end{equation}\n",
    "\n",
    "Si bien, como sucedió con $\\vec h$, esta cantidad no se corresponde con ninguna cantidad dinámica del sistema original, su estructura y unidades nos recuerda la definición de una energía mecánica específica (energía mecánica por unidad de masa) y en lo sucesivo llamaremos a $\\epsilon$ la *energía específico relativa* del problema."
   ]
  },
  {
   "cell_type": "markdown",
   "metadata": {},
   "source": [
    "De nuevo, teniendo en cuenta que el movimiento se realiza sobre un plano, la energía específica relativa se puede escribir en términos de las componentes cartesianas en la forma:\n",
    "\n",
    "\\begin{equation}\n",
    "\\label{eq:epsilon_cartesianas}\n",
    "\\frac{1}{2}({\\dot x}^2+{\\dot y}^2)-\\frac{\\mu}{\\sqrt{x^2+y^2}}=\\epsilon,\n",
    "\\end{equation}\n",
    "o en coordenadas cilíndricas como:\n",
    "\n",
    "\\begin{equation}\n",
    "\\label{eq:epsilon_cilindricas}\n",
    "\\frac{1}{2}({\\dot r}^2+r^2\\dot{\\theta}^2)-\\frac{\\mu}{r}=\\epsilon\n",
    "\\end{equation}\n",
    "donde al poner $\\epsilon$ del lado derecho de la ecuación estamos reafirmando simbólicamente el hecho de que la fórmula del lado izquierdo es la que define explícitamente la cuadratura que puede, eventualmente, conducirnos a una solución exacta del problema.  $\\epsilon$ no es más que un número cuyo valor puede calcularse usando estas fórmulas por ejemplo a partir de las condiciones iniciales del problema."
   ]
  },
  {
   "cell_type": "markdown",
   "metadata": {},
   "source": [
    "Hasta aquí hemos conseguido dos cuadraturas del problema:\n",
    "\n",
    "- La magnitud del momento angular específico relativo, Ec. ([h_escalar](#mjx-eqn-eq%3Ah_escalar)), cuyo valor es $h$.\n",
    "- La energía específica relativa, Ec. ([epsilon_cilindricas](#mjx-eqn-eq%3Aepsilon_cilindricas)), cuyo valor es $\\epsilon$.\n",
    "\n",
    "Si queremos resolver el problema por caudraturas necesitamos obtener cuatro constantes, el número de variables dependientes del problema relativo sobre el plano orbital. De acuerdo al Teorema de Bruns, para sistema con 3 o más cuerpos no hay ninguna otra constante de movimiento que sea independiente de las anteriores.  En el problema relativo de los dos cuerpos, sin embargo, existe una constante nueva que nos permite resolver analíticamente el problema."
   ]
  },
  {
   "cell_type": "markdown",
   "metadata": {},
   "source": [
    "### 7.3.3. El vector de excentricidad\n",
    "<a id='doscuerpos_e'></a>"
   ]
  },
  {
   "cell_type": "markdown",
   "metadata": {},
   "source": [
    "Que pasa si postmultiplicamos ambos lados de la Ec. ([edm_doscuerpos_relativo](#mjx-eqn-eq%3Aedm_doscuerpos_relativo)) por $\\times\\vec h$:\n",
    "\n",
    "$$\n",
    "\\ddot{\\vec{r}}\\times \\vec{h} = -\\frac{\\mu}{r^3} \\vec{r}\\times \\vec{h}\n",
    "$$\n",
    "\n",
    "Dado que $\\vec h$ es constante, el lado izquierdo se puede escribir en cuadraturas:\n",
    "\n",
    "\\begin{equation}\n",
    "\\label{eq:edmxh}\n",
    "\\frac{\\mathrm{d}}{\\mathrm{d}t}(\\dot{\\vec{r}}\\times \\vec{h})=-\\frac{\\mu}{r^3} \\vec{r}\\times \\vec{h}\n",
    "\\end{equation}"
   ]
  },
  {
   "cell_type": "markdown",
   "metadata": {},
   "source": [
    "Por su parte en el lado derecho:\n",
    "\n",
    "$$\n",
    "\\begin{array}{rcl}\n",
    "\\vec{r}\\times \\vec{h} & = & \\vec{r} \\times (\\vec{r} \\times \\dot{\\vec{r}})\\\\\n",
    "& = & \\vec{r}(\\vec{r}\\cdot \\dot{\\vec{r}}) - \\dot{\\vec{r}}( \\vec{r} \\cdot \\vec{r})\\\\\n",
    "& = & \\vec{r}r\\dot{r} - \\dot{\\vec{r}}r^2\n",
    "\\end{array}\n",
    "$$\n",
    "que multiplicando por $-\\mu/r^3$ también se puede escribir en cuadraturas como:\n",
    "\n",
    "\\begin{eqnarray}\n",
    "\\nonumber\n",
    "\\vec{r}\\times \\vec{h} & = & -\\mu \\left(\\frac{\\vec{r}\\dot{r}}{r^2} - \\frac{\\dot{\\vec{r}}}{r}\\right)\\\\\n",
    "\\nonumber\n",
    "& = & \\frac{\\mathrm{d}}{\\mathrm{d}t}\\left(\\mu \\frac{\\vec{r}}{r} \\right)\n",
    "\\end{eqnarray}"
   ]
  },
  {
   "cell_type": "markdown",
   "metadata": {},
   "source": [
    "Con todo esto la Ec. ([edmxh](#mjx-eqn-eq%3Aedmxh)) en cuadraturas completas queda:\n",
    "\n",
    "\\begin{equation}\n",
    "\\label{eq:cuadratura_e}\n",
    "\\frac{\\mathrm{d}}{\\mathrm{d}t}(\\dot{\\vec{r}}\\times \\vec{h})=\\frac{\\mathrm{d}}{\\mathrm{d}t}\\left(\\mu \\frac{\\vec{r}}{r} \\right)\n",
    "\\end{equation}\n",
    "\n",
    "y de aquí podemos identificar una nueva y complementamente independiente constante de movimiento:\n",
    "\n",
    "\\begin{equation}\n",
    "\\label{eq:e}\n",
    "\\frac{\\dot{\\vec{r}} \\times \\vec{h}}{\\mu} - \\frac{\\vec{r}}{r}\\equiv\\vec{e}\n",
    "\\end{equation}\n",
    "\n",
    "La razón por la que hemos expresado esta integral dividiendo la cuadratura en la Ec. ([cuadratura_e](#mjx-eqn-eq%3Acuadratura_e)) por $\\mu$ es para hacer a la constante resultante adimensional (recordemos que $\\mu$ tiene unidades de L$^3$/T$^2$) lo que es mas conveniente para su manipulación numérica."
   ]
  },
  {
   "cell_type": "markdown",
   "metadata": {},
   "source": [
    "¿Cuál es el significado geométrico o físico del vector $\\vec e$?  A diferencia de lo que pasó con $\\vec h$ y con $\\epsilon$, no es trivial encontrar ahora una cantidad dinámica que podamos asociar con $\\vec e$.  Este vector, sin embargo ha aparecido en distintos contextos en la historia de la física y las matemáticas, desde la mecánica celeste misma, pasando por el cálculo vectorial hasta la más reciente mecánica cuántica (ver recuadro *Un poco de historia, Laplace, de la mecánica celeste a la mecánica cuántica*.)"
   ]
  },
  {
   "cell_type": "markdown",
   "metadata": {},
   "source": [
    "No es difícil mostrar que $\\vec e$ no es enteramente independiente de $\\vec h$ y $\\epsilon$.  Si se valcula la magnitud del vector se obtiene la relación (ver problemas al final del capítulo):\n",
    "\n",
    "\\begin{equation}\n",
    "\\label{eq:e_h_epsilon}\n",
    "e=\\sqrt{1+\\frac{2\\epsilon h^2}{\\mu^2}}\n",
    "\\end{equation}\n",
    "que será de gran utilidad en lo que queda de este capítulo y en general en la mecánica celeste."
   ]
  },
  {
   "cell_type": "markdown",
   "metadata": {
    "label": "",
    "subtitle": "Laplace, de la mecánica celeste a la mecánica cuántica",
    "tags": [
     "box_history"
    ],
    "title": "Un poco de historia"
   },
   "source": [
    "> **Un poco de historia: Laplace, de la mecánica celeste a la mecánica cuántica.**<a id=''></a> El vector de excentricidad tiene una historia muy interesante."
   ]
  },
  {
   "cell_type": "markdown",
   "metadata": {},
   "source": [
    "## 7.4. La ecuación de la trayectoria\n",
    "<a id='doscuerpos_ecuacion'></a>"
   ]
  },
  {
   "cell_type": "markdown",
   "metadata": {},
   "source": [
    "Una manera de encontrar una interpretación geométrica para el vector $\\vec e$ es comparar su dirección con la de otros vectores en el plano orbital.  Sabemos, por su definición en la Ec. ([e](#mjx-eqn-eq%3Ae)) que $\\vec e$ esta en el mismo plano que $\\vec r$ y $\\dot{\\vec r}$.  Si proyectamos $\\vec e$ sobre el vector posición obtenemos:\n",
    "\n",
    "$$\n",
    "\\vec{e}\\cdot\\vec{r} = \\frac{1}{\\mu}\\vec{r} \\cdot (\\dot{\\vec{r}} \\times \\vec{h}) \n",
    "- \\vec{r}\\cdot\\frac{\\vec r}{r}\n",
    "$$"
   ]
  },
  {
   "cell_type": "markdown",
   "metadata": {},
   "source": [
    "Utilizando la propiedad cíclica del tripe producto escalar (Ec. [triple_producto_escalar](#mjx-eqn-eq%3Atriple_producto_escalar)) el primer término del lado derecho de la ecuación queda:\n",
    "\n",
    "$$\n",
    "\\begin{array}{rcl}\n",
    "\\vec{r} \\cdot (\\dot{\\vec{r}} \\times \\vec{h}) & = & \\vec{h} \\cdot (\\vec{r} \\times \\dot{\\vec{r}})\\\\\n",
    "& = & \\vec{h} \\cdot \\vec{h} \\\\\n",
    "& = & h^2\n",
    "\\end{array}\n",
    "$$\n",
    "de donde, la proyección es simplemente:\n",
    "\n",
    "$$\n",
    "\\vec{e}\\cdot\\vec{r} = \\frac{h^2}{\\mu} - r\n",
    "$$"
   ]
  },
  {
   "cell_type": "markdown",
   "metadata": {},
   "source": [
    "Si ahora hacemos ${\\vec e} \\cdot {\\vec r} = e r\\cos \\theta_{er}$, con $\\theta_{er}$ el ángulo entre el vector $\\vec e$ y el vector posición $\\vec r$ sobre el plano orbital, la proyección se puede escribir como:\n",
    "\n",
    "$$\n",
    "e r\\cos \\theta_{er} = \\frac{h^2}{\\mu} - r\n",
    "$$\n",
    "de la que podemos despejar explícitamente $r$ en función de $\\theta_{er}$:\n",
    "\n",
    "\\begin{equation}\n",
    "\\label{eq:doscuerpos_trayectoria}\n",
    "r = \\frac{h^2/\\mu}{1 + e \\cos \\theta_{er}},\n",
    "\\end{equation}\n",
    "que es claramente la ecuación de una cónica con *semilatus rectum*, $p=h^2/\\mu$, excentricidad $e=|\\vec e|$ y anomalía verdadera $f=\\theta_{er}$.\n",
    "\n",
    "No solo hemos encontrado la interpretación geométrica para el vector $\\vec e$ (el vector esta dirigido hacia el periapsis de la cónica y su magnitud es la excentricidad de la misma) sino que además encontramos con este sencillo procedimiento la forma general de la trayectoria descrita por el vector relativo en el problema de los dos cuerpos.  Este resultado lo podemos formular como un teorema general:"
   ]
  },
  {
   "cell_type": "markdown",
   "metadata": {
    "label": "box:teo:movimiento.orbital",
    "subtitle": "Primer teorema del movimiento orbital",
    "tags": [
     "box_theorem",
     "box:teo:movimiento.orbital"
    ],
    "title": "Teorema"
   },
   "source": [
    "> **Teorema: Primer teorema del movimiento orbital.**<a id='box:teo:movimiento.orbital'></a> El extremo del vector relativo en el problema de los dos cuerpos, describe en el plano orbital una trayectoria cónica con foco en el origen imaginario ${\\cal O}$ (extremo del vector relativo), periapsis en la dirección del vector $\\vec e=(\\dot{\\vec{r}} \\times \\vec{h})/{\\mu} - {\\vec r}/r$, excentricidad igual a $|\\vec e|=\\sqrt{1+2\\epsilon h^2/\\mu^2}$ y semilatus rectum $p=h^2/\\mu$."
   ]
  },
  {
   "cell_type": "markdown",
   "metadata": {},
   "source": [
    "Este teorema es el equivalente moderno a la primera ley (empírica) de Kepler del movimiento planetario, formulada al mismo tiempo con su segunda ley (ver Teo. [triple_producto_escalar](#box:teo:area)) en 1609 en su texto \"*Astronomía nueva*\".  A diferencia de la deducción realizada aquí, Kepler, después de estudiar el movimiento de Marte, esencialmente adivinó que su trayectoria debía ser una elipse.  Adicionalmente y a diferencia de la primera ley de Kepler, el primer teorema del movimiento orbital formulado aquí no se restringe al caso de trayectorias elípticas, para las cuáles $|\\vec e|<1$, sino que en principio predice que la trayectoria del vector relativo podría ser cualquier cónica incluyendo también una línea recta, una parábola o una hipérbola."
   ]
  },
  {
   "cell_type": "markdown",
   "metadata": {},
   "source": [
    "Una cosa es el movimiento del vector relativo y otra la trayectoria que describen las partículas mismas en el espacio ¿son también esas trayectorias cónicas?\n",
    "\n",
    "Usando las Ecs. ([r1_r2_r](#mjx-eqn-eq%3Ar1_r2_r)) y la solución en la Ec. ([doscuerpos_trayectoria](#mjx-eqn-eq%3Adoscuerpos_trayectoria)) puede probarse que la distancia de cada partícula al centro de masa esta dada por:\n",
    "\n",
    "\\begin{eqnarray}\n",
    "\\nonumber\n",
    "r_1 & = & \\frac{(m_2/M) h^2/\\mu}{1 + e \\cos f }\\\\\n",
    "\\nonumber\n",
    "r_2 & = & \\frac{(m_1/M) h^2/\\mu}{1 + e \\cos f }\\\\\n",
    "\\end{eqnarray}\n",
    "\n",
    "Este resultado implica las dos partículas tienen trayectorias cónicas con idéntica excentricidad, foco en el centro de masa y *semilatus rectum* proporcional a la distancia de cada una al centro de masa:\n",
    "\n",
    "\\begin{eqnarray}\n",
    "\\nonumber\n",
    "p_1 & = & \\frac{m_2}{M}p\\\\\n",
    "p_2 & = & \\frac{m_1}{M}p\\\\\n",
    "\\end{eqnarray}\n",
    "\n",
    "En la Figura ([doscuerpos_trayectorias](#fig:doscuerpos_trayectorias)) mostramos un ejemplo de la trayectoria elíptica del vector relativo y las trayectorias correspondientes de las dos partículas. "
   ]
  },
  {
   "cell_type": "markdown",
   "metadata": {},
   "source": [
    "<a id='fig:doscuerpos_trayectorias'></a>![Trayectorias del vector relativo (arriba) y de las partículas individuales (abajo). Las trayectorias tienen todas la misma excentricidad.  El foco de la trayectoria del vector relativo es un punto arbitrario en el espacio $\\cal O$, mientras que el foco de las trayectorias de las partículas es el centro de masa (CMD). El vector relativo se muestra en dos posiciónes: en el apoapsis (flecha rayada) y en un punto cualquiera de la trayectoria (flecha continua.)   Nótese que la anomalía verdadera $f$ es igual en las tres trayectorias.++t!++1.0++\\label{fig:doscuerpos_trayectorias}](./figures/horizontal_doscuerpos.png)\n",
    "\n",
    "<center><b>Figura 7.59</b>. Trayectorias del vector relativo (arriba) y de las partículas individuales (abajo). Las trayectorias tienen todas la misma excentricidad.  El foco de la trayectoria del vector relativo es un punto arbitrario en el espacio $</center>"
   ]
  },
  {
   "cell_type": "markdown",
   "metadata": {},
   "source": [
    "## 7.5. La velocidad relativa\n",
    "<a id='doscuerpos_velocidad'></a>"
   ]
  },
  {
   "cell_type": "markdown",
   "metadata": {},
   "source": [
    "En la sección anterior mostramos que es posible, sin resolver el problema relativo de los dos cuerpos (es decir sin encontrar expresiones para la posición y velocidad relativa como función del tiempo), usar una de las cuadraturas (el vector de excentricidad) para escribir la ecuación en coordenadas cilíndricas de la trayectoria (Ec. [doscuerpos_trayectoria](#mjx-eqn-eq%3Adoscuerpos_trayectoria).)  Usando esa ecuación podemos encontrar el vector posición $\\vec r:(r,\\theta)$ para cualquier valor de $\\theta$.\n",
    "\n",
    "Ahora bien, ¿podemos, de forma análoga, saber cuál es el vector velocidad $\\dot{\\vec r}:(\\dot r,r\\dot \\theta)$? "
   ]
  },
  {
   "cell_type": "markdown",
   "metadata": {},
   "source": [
    "La magnitud del vector velocidad (rapidez) esta contenida en la energía específica relativa:\n",
    "\n",
    "$$\n",
    "\\frac{v^2}{2}-\\frac{\\mu}{r}=\\epsilon,\n",
    "$$\n",
    "de modo que si sabemos $\\epsilon$ y $r$ (esté último se puede obtener con la Ec. [ncuerpos_trayectoria](#mjx-eqn-eq%3Ancuerpos_trayectoria)) podemos obtener $v$."
   ]
  },
  {
   "cell_type": "markdown",
   "metadata": {},
   "source": [
    "De otro lado es posible, usando esta cuadratura escribir una expresión general para $\\epsilon$ que será de mucha utilidad en lo sucesivo.  \n",
    "\n",
    "Para ello partimos de reconocer que podemos, para calcular el valor de la energía específica relativa, usar cualquier punto sobre la trayectoria.  En particular, en el periapsis donde $r=q=a(1-e)$ (con $e\\neq 1$) y $h=qv$, es decir $v=h/q$:\n",
    "\n",
    "$$\n",
    "\\epsilon=\\frac{h^2}{2a^2(1-e)^2}-\\frac{\\mu}{a(1-e)}\n",
    "$$\n",
    "\n",
    "Después de una sencilla manipulación algebraica obtenemos:\n",
    "\n",
    "\\begin{equation}\n",
    "\\label{eq:e_mu_2a}\n",
    "\\epsilon=-\\frac{\\mu}{2a}\n",
    "\\end{equation}\n",
    "\n",
    "Esta expresión es válida únicamente en el caso en el que $e\\neq 1$.  En el caso de la parábola, $e=1$ puede mostrarse que $\\epsilon=0$."
   ]
  },
  {
   "cell_type": "markdown",
   "metadata": {},
   "source": [
    "Si reemplazamos en la cuadratura de la energía específica relativa (Ec. [epsilon](#mjx-eqn-eq%3Aepsilon)) obtenemos:\n",
    "\n",
    "\\begin{equation}\n",
    "v^2=\\mu\\left(\\frac{2}{r}-\\frac{1}{a}\\right)\n",
    "\\end{equation}\n",
    "\n",
    "Donde de nuevo esta relación es válida únicamente si $e\\neq 1$.  Llamamos a esta relación la *vis viva*."
   ]
  },
  {
   "cell_type": "markdown",
   "metadata": {},
   "source": [
    "Una interesante propiedad de la *vis viva* es que dada una distancia relativa inicial $r$ y una rapidez relativa $v$, el valor del semieje mayor de la órbita resultante será independiente de la dirección de la velocidad:\n",
    "\n",
    "$$\n",
    "a=\\frac{\\mu}{2\\mu/r-v^2}\n",
    "$$"
   ]
  },
  {
   "cell_type": "markdown",
   "metadata": {},
   "source": [
    "La *vis viva* nos permite calcular la magnitud de la velocidad, pero ¿cuál es la dirección de $\\vec v$?  \n",
    "\n",
    "Podemos usar para ello el vector $\\vec h$, cuya magnitud podemos escribir como:\n",
    "\n",
    "$$\n",
    "h=|\\vec r\\times \\dot{\\vec r}|=vr\\sin\\phi\n",
    "$$\n",
    "donde $\\phi$ es el ángulo entre el vector posición y la velocidad (ver Figura ([doscuerpos_trayectorias](#fig:doscuerpos_trayectorias))) que llamaremos en lo sucesivo el *argumento de la velocidad* y que en virtud de la expresión anterior esta dado por:\n",
    "\n",
    "$$\n",
    "\\sin\\phi=\\frac{h}{rv}\n",
    "$$"
   ]
  },
  {
   "cell_type": "markdown",
   "metadata": {},
   "source": [
    "Finalmente, el ángulo que forma la velocidad respecto a la dirección del periapsis (dirección del vector $\\vec e$) estará dada por:\n",
    "\n",
    "$$\n",
    "\\theta_v = \\phi+f\n",
    "$$"
   ]
  },
  {
   "cell_type": "markdown",
   "metadata": {},
   "source": [
    "## 7.6. Teoremas del movimiento orbital\n",
    "<a id='teorema_orbital'></a>"
   ]
  },
  {
   "cell_type": "markdown",
   "metadata": {},
   "source": [
    "En las secciones anteriores hemos usado las constantes de movimiento para deducir dos importantes teoremas sobre del problema relativo de los dos cuerpos que fueron descubiertas originalmente por Kepler y que se conocen históricamente como las leyes del movimiento planetario.  \n",
    "\n",
    "En 1619, Kepler publicó su libro \"*La armonía de los mundos*\" y en el revelo la que sería una de las más increíbles leyes del movimiento planetario (al menos para la época): la ley armónica. ¿Cuál es en términos modernos el teorema que corresponde a esta ley?"
   ]
  },
  {
   "cell_type": "markdown",
   "metadata": {
    "label": "box:teo:armonico",
    "subtitle": "Teorema armónico",
    "tags": [
     "box_theorem",
     "box:teo:armonico"
    ],
    "title": "Teorema"
   },
   "source": [
    "> **Teorema: Teorema armónico.**<a id='box:teo:armonico'></a> Dado un sistema de dos cuerpos cuyo movimiento relativo es tal que $e\\neq 1$, la velocidad angular promedio $n=\\langle\\dot\\theta\\rangle$ del vector relativo es independiente de la excentricidad de la órbita, y se relaciona con el valor absoluto del semieje mayor de la órbita relativa $|a|$ a través:\n",
    "\n",
    "> \\begin{equation}\\label{eq:teorema_armonico}n^2|a|^3 = \\mu\\end{equation}\n"
   ]
  },
  {
   "cell_type": "markdown",
   "metadata": {},
   "source": [
    "Naturalmente esta no es la forma tradicional en la que conocemos la tercera ley de Kepler. Esta última fue formulada solo en el caso de movimiento sobre una órbita elíptica, mientras que el teorema general formulado arriba aplica también en el caso de órbitas hiperbólicas."
   ]
  },
  {
   "cell_type": "markdown",
   "metadata": {},
   "source": [
    "En realidad la ley armónica es un corolario del teorema de áreas.  En el caso, por ejemplo, de una órbita elíptica, que es una órbita con período $T$, la velocidad areal se puede escribir como:\n",
    "\n",
    "$$\n",
    "\\frac{\\mathrm{d}A}{\\mathrm{d}t}=\\frac{A}{T}=\\frac{\\pi a b}{T}\n",
    "$$\n",
    "donde hemos aprovechado el hecho que la velocidad areal es constante para escribirla como la razón entre el área total de la elipse $A=\\pi a b$ y el período de la misma. "
   ]
  },
  {
   "cell_type": "markdown",
   "metadata": {},
   "source": [
    "Si tenemos ahora en cuenta que $b=a\\sqrt{1-e^2}$, $h^2=\\mu a(1-e^2)$ y $\\mathrm{d}A/\\mathrm{d}t=h/2$ es fácil deducir que:\n",
    "\n",
    "\\begin{equation}\n",
    "\\label{eq:ley_armonica}\n",
    "\\frac{a^3}{T^2} = \\frac{\\mu}{4\\pi^2}\n",
    "\\end{equation} \n",
    "que es la forma original de la ley armónica de Kepler: \"*la razón entre el cubo del semiejemayor y el cuadrado del período orbital de los planetas es constante*\".  \n",
    "\n",
    "Lo que no sabía Kepler era la relación de esa constante con constantes física (la masa total del sistema) y geométricas (el factor $4\\pi^2$.)"
   ]
  },
  {
   "cell_type": "markdown",
   "metadata": {},
   "source": [
    "Para obtener a partir de la Ec. ([ley_armonica](#mjx-eqn-eq%3Aley_armonica)) la relación entre $a$ y $n$ en el teorema armónico (Teo. [ley_armonica](#box:teo:armonico)), basta reconocer, de un lado, que en una órbita periódica la velocidad angular promedio es:\n",
    "\n",
    "$$\n",
    "n=\\frac{2\\pi}{T}\n",
    "$$\n",
    "y escribir la Ec. ([ley_armonica](#mjx-eqn-eq%3Aley_armonica)) en la forma:\n",
    "\n",
    "$$\n",
    "a^3\\left(\\frac{2\\pi}{T}\\right)^2 = \\mu\n",
    "$$\n",
    "\n",
    "Esta última es exactamente la relación $n^2a^3=\\mu$ del teorema armónico."
   ]
  },
  {
   "cell_type": "markdown",
   "metadata": {},
   "source": [
    "En los problemas al final del capítulo el lector podrá demostrar el teorema armónico en el caso de una órbita hiperbólica."
   ]
  },
  {
   "cell_type": "markdown",
   "metadata": {},
   "source": [
    "Podemos finalmente sintetizar los resultados de esta sección enumerando en un mismo lugar los teoremas fundamentales del movimiento relativo de dos cuerpos:\n",
    "\n",
    "- **Primer teorema del movimiento orbital** (Teo. [ley_armonica](#box:teo:movimiento.orbital)). El vector relativo de un sistema de dos cuerpos describe una trayectoria cónica.\n",
    "\n",
    "- **Teorema de áreas** (Teo. [ley_armonica](#box:teo:areas)).  La tasa de cambio del área barrida por el vector relativo es constante. \n",
    "\n",
    "- **Teorema armónico** (Teo. [ley_armonica](#box:teo:armonico)).  El producto del cuadrado de la velocidad angular promedio del vector relativo y el cubo del valor absoluto del semiejemayor de su trayectoria es constante.\n",
    "\n",
    "Hoy, por su importancia histórica, estos teoremas son todavía conocidos como las leyes del movimiento planetario de Kepler.  Sin embargo, entre las versiones originales de las leyes formuladas por Kepler y las formas rigurosas de los teoremas presentadas aquí hay importantes diferencias. Por la misma razón en lo sucesivo y a través de todo este libro nos seguiremos refiriendo a estos resultados como los **teoremas del movimiento orbital** en lugar de llamarlos, como se acostumbra en todas partes, las leyes de Kepler."
   ]
  }
 ],
 "metadata": {
  "celltoolbar": "Tags",
  "kernelspec": {
   "display_name": "Python 3",
   "language": "python",
   "name": "python3"
  },
  "language_info": {
   "codemirror_mode": {
    "name": "ipython",
    "version": 3
   },
   "file_extension": ".py",
   "mimetype": "text/x-python",
   "name": "python",
   "nbconvert_exporter": "python",
   "pygments_lexer": "ipython3",
   "version": "3.6.8"
  }
 },
 "nbformat": 4,
 "nbformat_minor": 2
}
