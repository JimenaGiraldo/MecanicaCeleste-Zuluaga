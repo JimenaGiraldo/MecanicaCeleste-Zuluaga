{
 "cells": [
  {
   "cell_type": "markdown",
   "metadata": {},
   "source": [
    "# Predicción posición Tierra y Luna futura"
   ]
  },
  {
   "cell_type": "markdown",
   "metadata": {},
   "source": [
    "Comenzando con la posición de la Tierra y la Luna en 2000-01-01 00:00:00 referida al baricentro del sistema solar (SSB), determine la posición predicha para estos dos cuerpos usando la teoría del problema de los dos cuerpos para la fecha 2000-01-31 00:00:00 (30 días después).  Las posiciones finales deben calcularse también con relación al SSB.  Para ello debe usarse el valor provisto por Horizons para la posición del baricentro del sistema Tierra-Luna en la fecha final (es decir, en lugar de calcular analíticamente la posición del centro de masa del sistema se debe usar la provista por Horizons)."
   ]
  },
  {
   "cell_type": "code",
   "execution_count": 2,
   "metadata": {},
   "outputs": [
    {
     "data": {
      "text/plain": [
       "(7.346031312180854e+22, 5.972365261369357e+24)"
      ]
     },
     "execution_count": 2,
     "metadata": {},
     "output_type": "execute_result"
    }
   ],
   "source": [
    "# Datos de la Luna y de la Tierra\n",
    "mu_luna=4902.800066 # km^3/s^2\n",
    "mu_tierra=398600.435436 # km^3/s^2\n",
    "G=6.67408e-20 # km^3/(kg s^2)\n",
    "\n",
    "mluna=mu_luna/G\n",
    "mtierra=mu_tierra/G\n",
    "mluna,mtierra"
   ]
  },
  {
   "cell_type": "markdown",
   "metadata": {},
   "source": [
    "## Posiciones y velocidades"
   ]
  },
  {
   "cell_type": "code",
   "execution_count": 3,
   "metadata": {},
   "outputs": [],
   "source": [
    "#Luna\n",
    "from numpy import array\n",
    "r_luna=array([-2.659657952880802E+07,1.442683561835989E+08,6.678400538153946E+04])\n",
    "v_luna=array([-2.926974096953943E+01,-6.020397947517719E+00,-1.740793458484102E-03])\n",
    "#Tierra\n",
    "r_tierra=array([-2.627892928682480E+07,1.445102393586391E+08,3.022818135935813E+04])\n",
    "v_tierra=array([-2.983052803283506E+01,-5.220465685407924E+00,-1.014621798034465E-04])"
   ]
  },
  {
   "cell_type": "markdown",
   "metadata": {},
   "source": [
    "## 1. Centro masa"
   ]
  },
  {
   "cell_type": "code",
   "execution_count": 4,
   "metadata": {},
   "outputs": [
    {
     "data": {
      "text/plain": [
       "(6.045825574491166e+24,\n",
       " array([-2.62827889e+07,  1.44507300e+08,  3.06723560e+04]),\n",
       " array([-2.98237141e+01, -5.23018533e+00, -1.21381013e-04]))"
      ]
     },
     "execution_count": 4,
     "metadata": {},
     "output_type": "execute_result"
    }
   ],
   "source": [
    "#Centro de masa\n",
    "r_cm=(mluna*r_luna+mtierra*r_tierra)/(mluna+mtierra)\n",
    "v_cm=(mluna*v_luna+mtierra*v_tierra)/(mluna+mtierra)\n",
    "M=mtierra+mluna\n",
    "M,r_cm,v_cm"
   ]
  },
  {
   "cell_type": "markdown",
   "metadata": {},
   "source": [
    "## 2. Vectores relativos"
   ]
  },
  {
   "cell_type": "code",
   "execution_count": 5,
   "metadata": {},
   "outputs": [
    {
     "data": {
      "text/plain": [
       "(array([317650.24198322, 241883.17504019, -36555.82402218]),\n",
       " array([-0.56078706,  0.79993226,  0.00163933]))"
      ]
     },
     "execution_count": 5,
     "metadata": {},
     "output_type": "execute_result"
    }
   ],
   "source": [
    "rvec=r_tierra-r_luna\n",
    "vvec=v_tierra-v_luna\n",
    "\n",
    "rvec,vvec"
   ]
  },
  {
   "cell_type": "code",
   "execution_count": 6,
   "metadata": {},
   "outputs": [
    {
     "data": {
      "text/plain": [
       "(4.318778271891243, 1.0264176790972799)"
      ]
     },
     "execution_count": 6,
     "metadata": {},
     "output_type": "execute_result"
    }
   ],
   "source": [
    "# Unidades\n",
    "UL = 3.83e5 # km\n",
    "UM = mtierra+mluna\n",
    "from numpy import sqrt\n",
    "UT = sqrt(UL**3/(G*UM))\n",
    "UV = UL/UT\n",
    "mu=1\n",
    "UT/86400,UV"
   ]
  },
  {
   "cell_type": "code",
   "execution_count": 7,
   "metadata": {},
   "outputs": [
    {
     "data": {
      "text/plain": [
       "(array([ 0.829374  ,  0.63154876, -0.09544602]),\n",
       " array([-0.54635367,  0.77934381,  0.00159714]))"
      ]
     },
     "execution_count": 7,
     "metadata": {},
     "output_type": "execute_result"
    }
   ],
   "source": [
    "rvec=rvec/UL\n",
    "vvec=vvec/UV\n",
    "\n",
    "rvec,vvec"
   ]
  },
  {
   "cell_type": "markdown",
   "metadata": {},
   "source": [
    "## 3. Constantes"
   ]
  },
  {
   "cell_type": "code",
   "execution_count": 8,
   "metadata": {},
   "outputs": [],
   "source": [
    "# Vectores clave\n",
    "from numpy import cross\n",
    "from numpy.linalg import norm\n",
    "r=norm(rvec)\n",
    "hvec = cross(rvec,vvec)\n",
    "evec = cross(vvec,hvec)-rvec/r\n",
    "nvec = cross([0,0,1],hvec)"
   ]
  },
  {
   "cell_type": "markdown",
   "metadata": {},
   "source": [
    "## 4. Parámetros de la órbita"
   ]
  },
  {
   "cell_type": "code",
   "execution_count": 9,
   "metadata": {},
   "outputs": [
    {
     "data": {
      "text/plain": [
       "(array([0.07539393, 0.05082266, 0.99141647]),\n",
       " array([-0.01970893, -0.06151967,  0.00465246]),\n",
       " array([-0.05082266,  0.07539393,  0.        ]),\n",
       " 0.06476694137438452,\n",
       " 379619.56864553835,\n",
       " 381218.68829050136)"
      ]
     },
     "execution_count": 9,
     "metadata": {},
     "output_type": "execute_result"
    }
   ],
   "source": [
    "h=norm(hvec)\n",
    "e=norm(evec)\n",
    "\n",
    "p=h**2/mu\n",
    "a=p/(1-e**2)\n",
    "\n",
    "hvec,evec,nvec,e,p*UL,a*UL"
   ]
  },
  {
   "cell_type": "markdown",
   "metadata": {},
   "source": [
    "## 5. Elementos orbitales"
   ]
  },
  {
   "cell_type": "code",
   "execution_count": 10,
   "metadata": {},
   "outputs": [
    {
     "data": {
      "text/plain": [
       "145.15503092423884"
      ]
     },
     "execution_count": 10,
     "metadata": {},
     "output_type": "execute_result"
    }
   ],
   "source": [
    "# Orientación de la órbita\n",
    "from numpy import arccos,dot,pi\n",
    "ip=arccos(dot(hvec,[0,0,1])/h)\n",
    "i=ip\n",
    "Wp=arccos(dot(nvec,[1,0,0])/norm(nvec))\n",
    "W=Wp if nvec[1]>0 else 2*pi-Wp\n",
    "wp=arccos(dot(nvec,evec)/(norm(nvec)*norm(evec)))\n",
    "w=wp if evec[2]>=0 else 2*pi-wp\n",
    "fp=arccos(dot(rvec,evec)/(norm(rvec)*norm(evec)))\n",
    "fo=fp if dot(rvec,vvec)>0 else 2*pi-fp\n",
    "\n",
    "fo*180/pi"
   ]
  },
  {
   "cell_type": "markdown",
   "metadata": {},
   "source": [
    "## 6. Anomalía media inicial"
   ]
  },
  {
   "cell_type": "code",
   "execution_count": 11,
   "metadata": {},
   "outputs": [
    {
     "data": {
      "text/plain": [
       "142.9748179782127"
      ]
     },
     "execution_count": 11,
     "metadata": {},
     "output_type": "execute_result"
    }
   ],
   "source": [
    "#Anomalía excéntrica\n",
    "from numpy import tan,arctan,sqrt\n",
    "Eo=2*arctan(sqrt((1-e)/(1+e))*tan(fo/2))\n",
    "\n",
    "Eo*180/pi"
   ]
  },
  {
   "cell_type": "code",
   "execution_count": 12,
   "metadata": {},
   "outputs": [
    {
     "data": {
      "text/plain": [
       "140.74025689441984"
      ]
     },
     "execution_count": 12,
     "metadata": {},
     "output_type": "execute_result"
    }
   ],
   "source": [
    "# Anomalía media inicial: Mo = Eo - e sin Eo\n",
    "from numpy import sin\n",
    "Mo=Eo-e*sin(Eo)\n",
    "\n",
    "Mo*180/pi"
   ]
  },
  {
   "cell_type": "markdown",
   "metadata": {},
   "source": [
    "## 7. Anomalía media futura"
   ]
  },
  {
   "cell_type": "code",
   "execution_count": 13,
   "metadata": {},
   "outputs": [],
   "source": [
    "# Tiempo: 30 días después\n",
    "t=30*86400/UT"
   ]
  },
  {
   "cell_type": "code",
   "execution_count": 14,
   "metadata": {},
   "outputs": [
    {
     "data": {
      "text/plain": [
       "1.007017196507007"
      ]
     },
     "execution_count": 14,
     "metadata": {},
     "output_type": "execute_result"
    }
   ],
   "source": [
    "# Movimiento orbital medio del sistema\n",
    "n=sqrt(mu/a**3)\n",
    "\n",
    "n"
   ]
  },
  {
   "cell_type": "code",
   "execution_count": 15,
   "metadata": {},
   "outputs": [
    {
     "data": {
      "text/plain": [
       "541.5330155720809"
      ]
     },
     "execution_count": 15,
     "metadata": {},
     "output_type": "execute_result"
    }
   ],
   "source": [
    "#Anomalía media futura\n",
    "M=Mo+n*(t-0)\n",
    "\n",
    "M*180/pi"
   ]
  },
  {
   "cell_type": "code",
   "execution_count": 16,
   "metadata": {},
   "outputs": [
    {
     "data": {
      "text/plain": [
       "181.5330155720809"
      ]
     },
     "execution_count": 16,
     "metadata": {},
     "output_type": "execute_result"
    }
   ],
   "source": [
    "#Entre 0 y 360 grados\n",
    "from numpy import mod\n",
    "M=mod(M,2*pi)\n",
    "\n",
    "M*180/pi"
   ]
  },
  {
   "cell_type": "markdown",
   "metadata": {},
   "source": [
    "## 8. Solución a la ecuación de Kepler"
   ]
  },
  {
   "cell_type": "code",
   "execution_count": 17,
   "metadata": {},
   "outputs": [
    {
     "data": {
      "text/plain": [
       "181.43977552700463"
      ]
     },
     "execution_count": 17,
     "metadata": {},
     "output_type": "execute_result"
    }
   ],
   "source": [
    "#Anomalía excéntrica\n",
    "from pymcel.export import kepler_newton\n",
    "E,error,ni=kepler_newton(M,e,1e-8)\n",
    "\n",
    "E*180/pi"
   ]
  },
  {
   "cell_type": "code",
   "execution_count": 19,
   "metadata": {},
   "outputs": [
    {
     "data": {
      "text/plain": [
       "(-3.1180417496790733, -178.65063260219762)"
      ]
     },
     "execution_count": 19,
     "metadata": {},
     "output_type": "execute_result"
    }
   ],
   "source": [
    "#Anomalía verdadera\n",
    "f=2*arctan(sqrt((1+e)/(1-e))*tan(E/2))\n",
    "\n",
    "f,f*180/pi"
   ]
  },
  {
   "cell_type": "code",
   "execution_count": 22,
   "metadata": {},
   "outputs": [
    {
     "data": {
      "text/plain": [
       "181.34936739780238"
      ]
     },
     "execution_count": 22,
     "metadata": {},
     "output_type": "execute_result"
    }
   ],
   "source": [
    "360-178.65063260219762"
   ]
  },
  {
   "cell_type": "markdown",
   "metadata": {},
   "source": [
    "## 9. Cálculo de la posición y la velocidad a partir de los elementos orbitales"
   ]
  },
  {
   "cell_type": "code",
   "execution_count": 24,
   "metadata": {},
   "outputs": [
    {
     "data": {
      "text/plain": [
       "(array([ 0.29871367,  1.01407799, -0.07470053]),\n",
       " array([-0.89893809,  0.26722291,  0.0546627 ]))"
      ]
     },
     "execution_count": 24,
     "metadata": {},
     "output_type": "execute_result"
    }
   ],
   "source": [
    "from pymcel.export import elementos_a_estado\n",
    "x=elementos_a_estado(mu,array([p,e,i,W,w,f]))\n",
    "r=x[:3]\n",
    "v=x[3:]\n",
    "\n",
    "r,v"
   ]
  },
  {
   "cell_type": "markdown",
   "metadata": {},
   "source": [
    "## 10. Estado en el sistema de referencia original"
   ]
  },
  {
   "cell_type": "code",
   "execution_count": 26,
   "metadata": {},
   "outputs": [
    {
     "data": {
      "text/plain": [
       "(array([ 0.00362955,  0.01232164, -0.00090766]),\n",
       " array([-0.01092262,  0.00324691,  0.00066418]),\n",
       " array([-0.29508413, -1.00175635,  0.07379287]),\n",
       " array([ 0.88801547, -0.263976  , -0.05399851]))"
      ]
     },
     "execution_count": 26,
     "metadata": {},
     "output_type": "execute_result"
    }
   ],
   "source": [
    "# Posiciones de la Tierra y la Luna respecto al CM\n",
    "rt_tierra=mluna/(mtierra+mluna)*r\n",
    "vt_tierra=mluna/(mtierra+mluna)*v\n",
    "\n",
    "rt_luna=-mtierra/(mtierra+mluna)*r\n",
    "vt_luna=-mtierra/(mtierra+mluna)*v\n",
    "\n",
    "rt_tierra,vt_tierra,rt_luna,vt_luna"
   ]
  },
  {
   "cell_type": "code",
   "execution_count": 28,
   "metadata": {},
   "outputs": [
    {
     "data": {
      "text/plain": [
       "(array([-9.65826853e+07,  1.11757956e+08,  3.03564709e+04]),\n",
       " array([-2.31562312e+01, -1.94355580e+01, -1.23905698e-04]))"
      ]
     },
     "execution_count": 28,
     "metadata": {},
     "output_type": "execute_result"
    }
   ],
   "source": [
    "# Posición del centro de masa del sistema en t = 2000-01-31\n",
    "rcm=array([-9.658268525168775E+07,1.117579562771948E+08,3.035647087994218E+04])\n",
    "vcm=array([-2.315623122669038E+01,-1.943555800686110E+01,-1.239056982322850E-04])\n",
    "\n",
    "rcm,vcm"
   ]
  },
  {
   "cell_type": "code",
   "execution_count": 32,
   "metadata": {},
   "outputs": [
    {
     "data": {
      "text/plain": [
       "(array([-9.65812951e+07,  1.11762675e+08,  3.00088390e+04]),\n",
       " array([-2.31674424e+01, -1.94322253e+01,  5.57824214e-04]),\n",
       " array([-9.65812951e+07,  1.11762675e+08,  3.00088390e+04]),\n",
       " array([-2.31674424e+01, -1.94322253e+01,  5.57824214e-04]))"
      ]
     },
     "execution_count": 32,
     "metadata": {},
     "output_type": "execute_result"
    }
   ],
   "source": [
    "# Calculamos ahora la posición respecto al SSB\n",
    "rt_tierra_SSB=rcm+rt_tierra*UL\n",
    "vt_tierra_SSB=vcm+vt_tierra*UV\n",
    "\n",
    "rt_luna_SSB=rcm+rt_tierra*UL\n",
    "vt_luna_SSB=vcm+vt_tierra*UV\n",
    "\n",
    "rt_tierra_SSB,vt_tierra_SSB,rt_luna_SSB,vt_luna_SSB"
   ]
  },
  {
   "cell_type": "markdown",
   "metadata": {},
   "source": [
    "Ahora comparamos con lo que nos entrega Horizons:\n",
    "\n",
    "Tierra: \n",
    "\n",
    "X =-9.658098596353926E+07 Y = 1.117625598418280E+08 Z = 2.998860558517277E+04\n",
    "\n",
    "VX=-2.316716073476717E+01 VY=-1.943129637946240E+01 VZ= 4.998724441378499E-04\n",
    " \n",
    "Luna\n",
    " \n",
    "X =-9.672083834518087E+07 Y = 1.113836838527478E+08 Z = 6.026412868751585E+04\n",
    "\n",
    "VX=-2.226765600034653E+01 VY=-1.978203073955845E+01 VZ=-5.083742364905941E-02"
   ]
  },
  {
   "cell_type": "code",
   "execution_count": 34,
   "metadata": {},
   "outputs": [],
   "source": [
    "rt_tierra_h=array([-9.658098596353926E+07,1.117625598418280E+08,2.998860558517277E+04])\n",
    "vt_tierra_h=array([-2.316716073476717E+01,-1.943129637946240E+01,4.998724441378499E-04])\n",
    "\n",
    "rt_luna_h=array([-9.672083834518087E+07,1.113836838527478E+08,6.026412868751585E+04])\n",
    "vt_luna_h=array([-2.226765600034653E+01,-1.978203073955845E+01,-5.083742364905941E-02])"
   ]
  },
  {
   "cell_type": "code",
   "execution_count": 36,
   "metadata": {},
   "outputs": [
    {
     "data": {
      "text/plain": [
       "(array([-9.65826853e+07,  1.11757956e+08,  3.03564709e+04]),\n",
       " array([-2.31562312e+01, -1.94355580e+01, -1.23905698e-04]))"
      ]
     },
     "execution_count": 36,
     "metadata": {},
     "output_type": "execute_result"
    }
   ],
   "source": [
    "rcm_h=(mtierra*rt_tierra_h+mluna*rt_luna_h)/(mtierra+mluna)\n",
    "vcm_h=(mtierra*vt_tierra_h+mluna*vt_luna_h)/(mtierra+mluna)\n",
    "\n",
    "rcm_h,vcm_h"
   ]
  },
  {
   "cell_type": "code",
   "execution_count": null,
   "metadata": {},
   "outputs": [],
   "source": []
  }
 ],
 "metadata": {
  "kernelspec": {
   "display_name": "Python 3",
   "language": "python",
   "name": "python3"
  },
  "language_info": {
   "codemirror_mode": {
    "name": "ipython",
    "version": 3
   },
   "file_extension": ".py",
   "mimetype": "text/x-python",
   "name": "python",
   "nbconvert_exporter": "python",
   "pygments_lexer": "ipython3",
   "version": "3.6.8"
  }
 },
 "nbformat": 4,
 "nbformat_minor": 2
}
