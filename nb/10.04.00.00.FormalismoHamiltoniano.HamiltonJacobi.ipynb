{
 "cells": [
  {
   "cell_type": "markdown",
   "metadata": {
    "tags": [
     "navigation"
    ]
   },
   "source": [
    "[Indice](index.ipynb) | Previo: [FormalismoHamiltoniano.TransformacionesCanonicas.FuncionGeneratriz](10.03.01.00.FormalismoHamiltoniano.TransformacionesCanonicas.FuncionGeneratriz.ipynb) | Siguiente: [FormalismoHamiltoniano.MecanicaCeleste](10.04.00.00.FormalismoHamiltoniano.MecanicaCeleste.ipynb)"
   ]
  },
  {
   "cell_type": "markdown",
   "metadata": {},
   "source": [
    "## 10.8. El método de Hamilton-Jacobi\n",
    "<a id='hamilton_jacobi'></a>"
   ]
  },
  {
   "cell_type": "markdown",
   "metadata": {},
   "source": [
    "Como vimos en las secciones anteriores, las transformaciones canónicas permiten, en muchas situaciones, simplificar el Hamiltoniano de un sistema dinámico hasta lograr que todas (o gran parte) de las nuevas coordenadas del sistema (normalmente las variables generalizadas) sean cíclicas.  Una vez conseguido esto, las variables conjugadas (normalmente momentos) en el nuevo sistema de coordenadas se vuelven constantes y la solución al problema es practicamente trivial."
   ]
  },
  {
   "cell_type": "markdown",
   "metadata": {},
   "source": [
    "¿Será posible, dado un sistema dinámico, encontrar una (súper) transformación canónica tal que todas las coordenadas y momentos sean constantes de movimiento?.  Matemáticamente:\n",
    "\n",
    "\\begin{eqnarray}\n",
    "\\nonumber\n",
    "\\dot Q_j & = & \\frac{\\partial K}{\\partial P_j} = 0\\\\\n",
    "\\nonumber\n",
    "\\dot P_j & = & -\\frac{\\partial K}{\\partial Q_j} = 0\n",
    "\\end{eqnarray}"
   ]
  },
  {
   "cell_type": "markdown",
   "metadata": {},
   "source": [
    "Una manera de conseguir este ideal sería encontrar una transformación canónica tal que el Hamiltoniano $K$ transformado fuera constante o lo que es lo mismo cero.  Esta condición puede escribirse matemáticamente usando la Ecuación ([K_H_dFdt](#mjx-eqn-eq%3AK_H_dFdt)):\n",
    "\n",
    "\\begin{equation}\n",
    "\\label{eq:HJ_general}\n",
    "H(\\{q_j\\},\\{p_j\\},t)+\\frac{\\partial F}{\\partial t}=0\n",
    "\\end{equation}"
   ]
  },
  {
   "cell_type": "markdown",
   "metadata": {},
   "source": [
    "El reto consiste entonces en encontrar, dado el Hamiltoniano $H$ del sistema, la función generatriz $F$ que satisface la ecuacion diferencial en derivadas parciales escrita arriba.  Pero ¿qué tan complejo puede llegar a ser este problema?.  En principio la función generatriz $F$ puede depender de todas las cantidades relevantes involucradas, las variables originales $\\{q_j\\}, \\{p_j\\}$ así como las nuevas $\\{Q_j\\}, \\{P_j\\}$ y el tiempo."
   ]
  },
  {
   "cell_type": "markdown",
   "metadata": {},
   "source": [
    "Una primera idea (que puede no funcionar para todos los sistemas dinámicos posibles), podría ser la de restringir la función generatriz a uno de los tipos básicos introducidos en la sección anterior.  Así por ejemplo si suponemos que la función es del tipo $F_{qP}$, sabemos que el momento conjugado de las variables $q_j$ estará dado por:\n",
    "\n",
    "$$\n",
    "p_j=\\frac{\\partial F_{qP}}{\\partial q_j}\n",
    "$$"
   ]
  },
  {
   "cell_type": "markdown",
   "metadata": {},
   "source": [
    "Esta identidad nos permite escribir la condición en la Ec. ([HJ_general](#mjx-eqn-eq%3AHJ_general)) de la forma:\n",
    "\n",
    "\\begin{equation}\n",
    "\\label{eq:HamiltonJacobi}\n",
    "H\\left(\\{q_j\\},\\left\\{\\frac{\\partial F_{qP}}{\\partial q_j}\\right\\},t\\right)+\\frac{\\partial F_{qP}}{\\partial t}=0\n",
    "\\end{equation}\n",
    "\n",
    "Esta ecuación es central a todo el formalismo que sigue y la llamaremos la **Ecuación de Hamilton-Jacobi**.  Para abreviar, además, en lo sucesivo usaremos la notación $S\\equiv F_{qP}$ y llamaremos a está última **función principal de Hamilton**. "
   ]
  },
  {
   "cell_type": "markdown",
   "metadata": {
    "label": "",
    "subtitle": "Interpretación física de $S$",
    "tags": [
     "box_note"
    ],
    "title": "Nota"
   },
   "source": [
    "> **Nota: Interpretación física de $S$.**<a id=''></a> Existe una interesante interpretación de la función principal de Hamilton que se obtiene si se toma la derivada total de la función respecto al tiempo y se desarrolla usando la regla de la cadena:\n",
    "\n",
    "> $$\n",
    "  \\frac{\\mathrm{d}S}{\\mathrm{d}t}=\\sum_j\\frac{\\partial S}{\\partial q_j}\\dot q_j+\\frac{\\partial S}{\\partial t}\n",
    "  $$\n",
    "\n",
    "> Si ahora utilizamos la propiedad de la función generatriz $p_j=\\partial S/\\partial q_j$ y la ecuación de Hamilton-Jacobi (Ec. [HamiltonJacobi](#mjx-eqn-eq%3AHamiltonJacobi)) $\\partial S/\\partial t=-H$, encontramos:\n",
    "\n",
    "> $$\n",
    "  \\frac{\\mathrm{d}S}{\\mathrm{d}t}=\\sum_j p_j \\dot q_j-H=L\n",
    "  $$\n",
    "\n",
    "> Integrando, obtenemos:\n",
    "\n",
    "> $$\n",
    "  S=\\int_{t_1}^{t_2} L\\;\\mathrm{d}t + k\n",
    "  $$\n",
    "> donde $k$ es una constante.  Es decir, la función principal de Hamilton difiere por una constante de la acción."
   ]
  },
  {
   "cell_type": "markdown",
   "metadata": {},
   "source": [
    "### 10.8.1. Ejemplo 1: el oscilador armónico en una dimension\n",
    "<a id='hamilton_jacobi_mas_1d'></a>"
   ]
  },
  {
   "cell_type": "markdown",
   "metadata": {},
   "source": [
    "La mejor manera de ilustrar el uso de la ecuación de Hamilton-Jacobi es considerar al menos un problema concreto.  Ya lo hemos hecho para poner a prueba muchos conceptos abstractos de los últimos dos capítulos y la haremos aquí para hacer mostrar el poder del método de Hamilton-Jacobi."
   ]
  },
  {
   "cell_type": "markdown",
   "metadata": {},
   "source": [
    "Consideremos nuevamente el oscilador armónico, cuyo Hamiltoniano ya habíamso escrito antes:\n",
    "\n",
    "$$\n",
    "H_\\mathrm{MAS}=\\frac{1}{2m}(p_x^2+m^2 \\omega^2 x^2)\n",
    "$$"
   ]
  },
  {
   "cell_type": "markdown",
   "metadata": {},
   "source": [
    "La ecuación de Hamilton-Jacobi se obtiene *reemplazando* $p_x=\\partial S/\\partial x$:\n",
    "\n",
    "$$\n",
    "\\frac{1}{2m}\\left[\\left(\\frac{\\partial S}{\\partial x}\\right)^2+m^2 \\omega^2 x^2\\right]+\\frac{\\partial S}{\\partial t}=0\n",
    "$$"
   ]
  },
  {
   "cell_type": "markdown",
   "metadata": {},
   "source": [
    "La meta es encontrar, a partir de esta ecuación la función principal de Hamilton $S$, que genera la transformación que hace al Hamiltoniano cíclico en todas las variables."
   ]
  },
  {
   "cell_type": "markdown",
   "metadata": {},
   "source": [
    "La invarianza implícita del tiempo del Hamiltoniano original implica que la siguiente cuadratura es válida:\n",
    "\n",
    "$$H_\\mathrm{MAS}=E$$\n",
    "donde $E$ es la energía mecánica del sistema.  Ahora bien, por la definición misma de $S$ es cierto también que:\n",
    "\n",
    "$$\n",
    "\\frac{\\partial S}{\\partial t}=-H_\\mathrm{MAS}=-E\n",
    "$$ "
   ]
  },
  {
   "cell_type": "markdown",
   "metadata": {},
   "source": [
    "Esta última ecuación puede integrarse para producir:\n",
    "\n",
    "$$\n",
    "S=W-Et\n",
    "$$\n",
    "donde la nueva función $W$, que no depende del tiempo, se llamamos frecuentemente **función característica de Hamilton**.  El procedimiento anterior es fundamental en tanto nos permite separar la dependencia del tiempo de la función principal de Hamilton y dejar abierto solamente el problema de su dependencia de las demás variables generalizadas, dependencia que queda restringida a la función característica."
   ]
  },
  {
   "cell_type": "markdown",
   "metadata": {},
   "source": [
    "En términos de $W$, la ecuación de Jamilton-Jacobi se convierte en:\n",
    "\n",
    "$$\n",
    "\\frac{1}{2m}\\left[\\left(\\frac{\\partial W}{\\partial x}\\right)^2+m^2 \\omega^2 x^2\\right]=E\n",
    "$$"
   ]
  },
  {
   "cell_type": "markdown",
   "metadata": {},
   "source": [
    "Esta ecuación diferencial es separable y se integra como:\n",
    "\n",
    "$$\n",
    "W(x)=\\sqrt{2mE}\\int_0^x \\sqrt{1-\\frac{m\\omega^2x'^2}{2E}} dx\n",
    "$$\n",
    "y de ella se puede obtener finalmente la función de Hamilton del sistema:\n",
    "\n",
    "$$\n",
    "S(x,E,t)=\\sqrt{2mE}\\int_0^x \\sqrt{1-\\frac{m\\omega^2x'^2}{2E}}\\mathrm{d}x'-Et\n",
    "$$"
   ]
  },
  {
   "cell_type": "markdown",
   "metadata": {},
   "source": [
    "¿Qué propósito tiene exactamente esta función?.  No debemos perder de vista que $S$ es una función generatriz de tipo $F_{qP}$ de una transformación canónica que hace al Hamiltoniano igual a 0.  De acuerdo con las propiedades de una función generatriz de este tipo, se cumple que:\n",
    "\n",
    "\\begin{eqnarray}\n",
    "\\nonumber\n",
    "p_x & = & \\frac{\\partial S}{\\partial x}\\\\\n",
    "\\nonumber\n",
    "Q & = & \\frac{\\partial S}{\\partial P}\\\\\n",
    "\\nonumber\n",
    "\\end{eqnarray}"
   ]
  },
  {
   "cell_type": "markdown",
   "metadata": {},
   "source": [
    "¿Qué cantidades físicas juegan, en el contexto de esta transformación, el papel del momento canónico $P$ o de la variable generalizada $Q$?.  Esta es quizás una de las características más peculiares de lo que llamaremos aquí, el  **método de Hamilton-Jacobi**.  Dado que el hamiltoniano en las variables $Q$ y $P$ es 0, estas dos cantidades deben ser cuadraturas o constantes del sistema dinámico.  Esto implica que en principio podemos escoger de entre todas las cantidades constantes aquellas que puedan jugar de la manera más conveniente posible el papel del momento $P$.  Una vez elegida $P$, el significado y valor de $Q$ deberá obtenerse a partir de la ecuación $\\partial S/\\partial P$. "
   ]
  },
  {
   "cell_type": "markdown",
   "metadata": {},
   "source": [
    "En el caso del sistema que estamos estudiando en este ejemplo, examinando la fórmula de la función principal de Hamilton, nos damos cuenta que la energía $E$ puede ser una elección adecuada para el momento $P$.  Con esta elección $Q$ queda:\n",
    "\n",
    "$$\n",
    "Q = \\frac{\\partial S}{\\partial P} = \\frac{\\partial S}{\\partial E}\n",
    "= \\sqrt{\\frac{m}{2E}}\\int_0^x \\frac{\\mathrm{d}x'}{\\sqrt{1-\\frac{m\\omega^2x'^2}{2E}}}-t\n",
    "$$\n",
    "que integrando se convierte en:\n",
    "\n",
    "$$\n",
    "\\omega Q=\\sin^{-1}\\left(\\sqrt{\\frac{m\\omega^2}{2E}}x\\right)-\\omega t\n",
    "$$"
   ]
  },
  {
   "cell_type": "markdown",
   "metadata": {},
   "source": [
    "Si llamamos $\\beta\\equiv \\omega Q$, la relación anterior nos permite encontrar la solución del problema para $x$:\n",
    "\n",
    "$$\n",
    "x=\\sqrt{\\frac{2E}{m\\omega^2}} \\sin(\\omega t+\\beta)\n",
    "$$"
   ]
  },
  {
   "cell_type": "markdown",
   "metadata": {},
   "source": [
    "Este es uno de las características más importantes del método de Hamilton-Jacobi: permite encontrar la trayectoria del sistema mientras buscamos el valor de las constantes de movimiento después de la transformación canónica. "
   ]
  },
  {
   "cell_type": "markdown",
   "metadata": {},
   "source": [
    "Finalmente $S$ nos permite encontrar la solución para $p_x$ usando la relación:\n",
    "\n",
    "$$\n",
    "p_x = \\frac{\\partial S}{\\partial x}=\\sqrt{2mE}\\sqrt{1-\\frac{m\\omega^2x^2}{2E}}\n",
    "$$\n",
    "donde hemos usado el teorema fundamental del cálculo.  Con un poco de algebra y usando la solución para $x$ obtenemos finalmente:\n",
    "\n",
    "$$\n",
    "p_x=\\sqrt{2mE}\\cos(\\omega t+\\beta)\n",
    "$$"
   ]
  },
  {
   "cell_type": "markdown",
   "metadata": {},
   "source": [
    "Podemos resumir el procedimiento anterior de la siguiente manera:"
   ]
  },
  {
   "cell_type": "markdown",
   "metadata": {},
   "source": [
    "1. **Hamitoniano original**. Un sistema dinámico con un grado de libertad tiene el siguiente Hamiltoniano:\n",
    "\n",
    "   $$\n",
    "   H_\\mathrm{MAS}=\\frac{1}{2m}(p_x^2+m^2 \\omega^2 x^2)\n",
    "   $$\n",
    "   \n",
    "   Queremos encontrar $x(t)$ y $p_x(t)$."
   ]
  },
  {
   "cell_type": "markdown",
   "metadata": {},
   "source": [
    "2. **Variables y Hamiltoniano objetivo**. Para resolver el problema sabemos que existe una transformación canónica $(x,p_x)\\rightarrow(Q,P)$ tal que en el nuevo conjunto de variables:\n",
    "\n",
    "   $$\n",
    "   \\begin{array}{rcl}\n",
    "   K(Q,P) & = & 0 \\\\\n",
    "   \\dot{P} & = & 0 \\\\\n",
    "   \\dot{Q} & = & 0 \n",
    "   \\end{array}\n",
    "   $$"
   ]
  },
  {
   "cell_type": "markdown",
   "metadata": {},
   "source": [
    "3. **Propiedades de la transformación**. Asumimos que la transformación canónica tiene una función generatriz del tipo $F_{qP}$ que llamaremos $S(x,P)$, tal que:\n",
    "\n",
    "   \\begin{eqnarray}\n",
    "   \\nonumber\n",
    "   p_x & = & \\frac{\\partial S}{\\partial x}\\\\\n",
    "   \\nonumber\n",
    "   Q & = & \\frac{\\partial S}{\\partial P}\\\\\n",
    "   \\nonumber\n",
    "   0 & = & H+\\frac{\\partial S}{\\partial t}\\\\\n",
    "   \\end{eqnarray}"
   ]
  },
  {
   "cell_type": "markdown",
   "metadata": {},
   "source": [
    "4. **La energía y la ecuación de Hamilton-Jacobi**. La última ecuación del apartado anterior tiene dos implicaciones posibles.  \n",
    "\n",
    "   1. Dado que el hamiltoniano del sistema cumple las condiciones del teorema de conservación de la energía, esta ecuación puede ser vista como una relación numérica entre la derivada parcial de la función generatriz con respecto al tiempo y la energía mecánica total del sistema $E$:\n",
    "      $$\n",
    "      \\frac{\\partial S}{\\partial t}=-E\n",
    "      $$\n",
    "      que además puede integrarse para obtener:\n",
    "   \n",
    "      $$\n",
    "      S(x,P,t)=W(x,P)-Et\n",
    "      $$\n",
    "      Este resultado además nos permite identificar el momento en el nuevo sistema de coordenadas \n",
    "      \n",
    "      $$P=E$$\n",
    "      \n",
    "   2. La misma ecuación puede ser vista como una cuadratura, es decir una formula en la que se escribe $H$ de forma como función de $x$ y $p_x$.  Ahora bien, aprovechamos la relación $p_x=\\partial S/\\partial x=\\partial W/\\partial x$, para que la cuadratura adopte la forma de una ecuación diferencial:\n",
    "   \n",
    "      $$\n",
    "      \\frac{1}{2m}\\left[\\left(\\frac{\\partial S}{\\partial x}\\right)^2+m^2 \\omega^2 x^2\\right]=E\n",
    "      $$\n",
    "      \n",
    "      A esta ecuación la llamamos la **Ecuación de Hamilton-Jacobi** y su solución debe provernos en últimas la función generatriz $S$ de la transformación."
   ]
  },
  {
   "cell_type": "markdown",
   "metadata": {},
   "source": [
    "5. **Solución a la ecuación de Hamilton-Jacobi y la función generatriz**. La ecuación de Hamilton-Jacobi de este sistema es directamente separable y la función principal de Hamilton resulta ser:\n",
    "\n",
    "   $$\n",
    "   S(x,E,t)=\\sqrt{2mE}\\int_0^x \\sqrt{1-\\frac{m\\omega^2x'^2}{2E}}\\mathrm{d}x'-Et\n",
    "   $$"
   ]
  },
  {
   "cell_type": "markdown",
   "metadata": {},
   "source": [
    "6. **Variable generalizada en el nuevo sistema**. De acuerdo con las propiedades de la transformación, la variable generalizada $Q=\\partial S/\\partial E$ resulta ser:\n",
    "\n",
    "   $$\n",
    "   Q=\\frac{1}{\\omega}\\sin^{-1}\\left(\\sqrt{\\frac{m\\omega^2}{2E}}x\\right)-t\n",
    "   $$\n",
    "   \n",
    "   Como sabemos que $Q$ es una constante, de esta ecuación podemos despejar $x$ y obtener la solución:\n",
    "   \n",
    "   $$\n",
    "   x=\\sqrt{\\frac{2E}{m\\omega^2}} \\sin(\\omega t+\\beta)\n",
    "   $$\n",
    "   donde hemos llamado $\\beta\\equiv \\omega Q$"
   ]
  },
  {
   "cell_type": "markdown",
   "metadata": {},
   "source": [
    "7. **Momentos del sistema original**. De otra parte $p_x=\\partial S/\\partial x$, de donde podemos obtener la solución para $p_x$ a partir de la función generatriz:\n",
    "\n",
    "   $$\n",
    "   p_x=\\sqrt{2mE}\\cos(\\omega t+\\beta)\n",
    "   $$"
   ]
  },
  {
   "cell_type": "markdown",
   "metadata": {
    "label": "",
    "subtitle": "¿Método, formalismo o teoría?**.  Aunque no estemos muy familiarizados con el método de Hamilton-Jacobi, este método representa una tercera alternativa para resolver problemas mecánicos.  Es por esto que muchos autores lo llaman también el **formalismo de Hamilton-Jacobi** o la **teoría de Hamilton-Jacobi",
    "tags": [
     "box_note"
    ],
    "title": "Nota"
   },
   "source": [
    "> **Nota: ¿Método, formalismo o teoría?**.  Aunque no estemos muy familiarizados con el método de Hamilton-Jacobi, este método representa una tercera alternativa para resolver problemas mecánicos.  Es por esto que muchos autores lo llaman también el **formalismo de Hamilton-Jacobi** o la **teoría de Hamilton-Jacobi.**<a id=''></a> "
   ]
  },
  {
   "cell_type": "markdown",
   "metadata": {},
   "source": [
    "### 10.8.2. Ejemplo 2: partícula en caída libre\n",
    "<a id='hamilton_jacobi_caida'></a>"
   ]
  },
  {
   "cell_type": "markdown",
   "metadata": {},
   "source": [
    "Una de las características que hace complicada la aplicación del método de Hamilton-Jacobi, es que los pormenores del método dependen mucho del sistema que estemos estudiando.  La mejor manera de aprender a aplicarlo es aplicándolo al mayor número posible de sistemas."
   ]
  },
  {
   "cell_type": "markdown",
   "metadata": {},
   "source": [
    "Un tipo importante de ejemplo que debemos conocer antes de aplicar el método a la mecánica celeste, es el de sistemas con más de un grado de libertad.  Consideremos por ejemplo el caso de una partícula que se mueve sin restricciones en un campo gravitacional homogéneo $\\vec g=-g \\hat{e}_z$.  Para organizar la solución al problema la presentaremos de la misma manera que lo hicimos con la síntesis del problema del oscilador armónico simple en la última sesión."
   ]
  },
  {
   "cell_type": "markdown",
   "metadata": {},
   "source": [
    "1. **Hamitoniano original**. El hamiltoniano del sistema es\n",
    "\n",
    "   $$\n",
    "   H_\\mathrm{CL}=\\frac{1}{2m}(p_x^2+p_y^2+p_z^2)+mgz\n",
    "   $$\n",
    "   \n",
    "   Queremos encontrar $x(t),y(t),z(t)$ y $p_x(t),p_y(t),p_z(t)$."
   ]
  },
  {
   "cell_type": "markdown",
   "metadata": {},
   "source": [
    "2. **Variables y Hamiltoniano objetivo**. Para resolver el problema sabemos que existe una transformación canónica $(x,y,z,p_x,p_y,p_z)\\rightarrow(\\beta_1,\\beta_2,\\beta_3,\\alpha_1,\\alpha_2,\\alpha_3)$ tal que en el nuevo conjunto de variables:\n",
    "\n",
    "   $$\n",
    "   \\begin{array}{rcl}\n",
    "   K(\\{\\beta_j\\},\\{\\alpha_j\\}) & = & 0 \\\\\n",
    "   \\dot{\\beta}_j & = & 0\\\\\n",
    "   \\dot{\\alpha}_j & = & 0\\\\\n",
    "   \\end{array}\n",
    "   $$"
   ]
  },
  {
   "cell_type": "markdown",
   "metadata": {},
   "source": [
    "3. **Propiedades de la transformación**. Asumimos que la transformación canónica tiene una función generatriz del tipo $F_{qP}$ que llamaremos $S(\\{x_j\\},\\{\\alpha_j\\},t)$ donde $\\{x_j\\}:(x,y,z)$ tal que:\n",
    "\n",
    "   \\begin{eqnarray}\n",
    "   \\nonumber\n",
    "   p_j & = & \\frac{\\partial S}{\\partial x_j}\\\\\n",
    "   \\nonumber\n",
    "   \\beta_j & = & \\frac{\\partial S}{\\partial \\alpha_j}\\\\\n",
    "   \\nonumber\n",
    "   0 & = & H+\\frac{\\partial S}{\\partial t}\\\\\n",
    "   \\end{eqnarray}"
   ]
  },
  {
   "cell_type": "markdown",
   "metadata": {},
   "source": [
    "4. **La energía y la ecuación de Hamilton-Jacobi**. La última ecuación del apartado anterior tiene dos implicaciones posibles.  \n",
    "\n",
    "   1. Dado que el hamiltoniano del sistema cumple las condiciones del teorema de conservación de la energía se cumple que:\n",
    "      $$\n",
    "      \\frac{\\partial S}{\\partial t}=-E\n",
    "      $$\n",
    "      que puede integrarse para obtener:\n",
    "   \n",
    "      $$\n",
    "      S(\\{x_j\\},\\{\\alpha_j\\},t)=W(\\{x_j\\},\\{\\alpha_j\\})-Et\n",
    "      $$\n",
    "      \n",
    "   2. La ecuación de Hamilton-Jacobi en este caso será:\n",
    "   \n",
    "      $$\n",
    "      \\frac{1}{2m}\\left[\\left(\\frac{\\partial W}{\\partial x}\\right)^2+\\left(\\frac{\\partial W}{\\partial y}\\right)^2+\\left(\\frac{\\partial W}{\\partial z}\\right)^2\\right]+mg z=E\n",
    "      $$"
   ]
  },
  {
   "cell_type": "markdown",
   "metadata": {},
   "source": [
    "5. **Solución a la ecuación de Hamilton-Jacobi y la función generatriz**. La ecuación de Hamilton-Jacobi en este caso es un poco más complicada. Aún así, al menos para este sistema, podemos aplicar un método conocido en la teoría de ecuaciones diferenciales en derivadas parciales como separación de variables.  Para ello asumimos que la función característica $W$ puede escribirse como una suma:\n",
    "\n",
    "   $$\n",
    "   W=W_x+W_y+W_z\n",
    "   $$\n",
    "   donde, por ejemplo la función $W_x$ no depende de $y$, ni de $z$.  Siendo este el caso, la ecuación de Hamilton-Jacobi es equivalente en realidad a 3 ecuaciones diferenciales de primer orden en cada una de las variables:\n",
    "   \n",
    "   \\begin{eqnarray}\n",
    "   \\nonumber\n",
    "   \\frac{1}{2m}\\left(\\frac{\\partial W_x}{\\partial x}\\right)^2 & = & \\alpha_1\\\\\n",
    "   \\nonumber\n",
    "   \\frac{1}{2m}\\left(\\frac{\\partial W_y}{\\partial y}\\right)^2 & = & \\alpha_1\\\\\n",
    "   \\nonumber\n",
    "   \\frac{1}{2m}\\left(\\frac{\\partial W_z}{\\partial z}\\right)^2 & = & \\alpha_3-mgz\\\\\n",
    "   \\end{eqnarray}\n",
    "   donde $\\alpha_1$, $\\alpha_2$ y $\\alpha_3$ son tres constantes (que asumiremos iguales a los momentos canónicos en el nuevo sistema de coordenadas) que cumplen:\n",
    "   \n",
    "   $$\n",
    "   \\alpha_1+\\alpha_2+\\alpha_3=E\n",
    "   $$\n",
    "   \n",
    "   Las ecuaciones individuales son integrables y producen la siguiente solución:\n",
    "   \n",
    "   \\begin{eqnarray}\n",
    "   \\nonumber\n",
    "   W_x & = & \\sqrt{2m\\alpha_1} x\\\\\n",
    "   \\nonumber\n",
    "   W_y & = & \\sqrt{2m\\alpha_1} y\\\\\n",
    "   \\nonumber\n",
    "   W_z & = & \\sqrt{\\frac{8}{9mg^2}} (\\alpha_3 - mgz)^{3/2}\\\\\n",
    "   \\end{eqnarray}\n",
    "   y con esto la función generatriz de la transformación canónica queda:\n",
    "   \n",
    "   $$\n",
    "   S = \\sqrt{2m\\alpha_1} x+\\sqrt{2m\\alpha_1} y+\\sqrt{\\frac{8}{9mg^2}}(\\alpha_3 - mgz)^{3/2}-(\\alpha_1+\\alpha_2+\\alpha_3) t\n",
    "   $$\n",
    "   donde reemplazamos $E=\\alpha_1+\\alpha_2+\\alpha_3$.\n",
    "   "
   ]
  },
  {
   "cell_type": "markdown",
   "metadata": {},
   "source": [
    "6. **Variable generalizada en el nuevo sistema**. Las variables generalizadas $\\beta_j=\\partial S/\\partial \\alpha_j$ se obtienen derivando la función generatriz:\n",
    "\n",
    "   \\begin{eqnarray}\n",
    "   \\nonumber\n",
    "   \\beta_1 & = & \\sqrt{\\frac{m}{2\\alpha_1}}x - t \\\\\n",
    "   \\nonumber\n",
    "   \\beta_2 & = & \\sqrt{\\frac{m}{2\\alpha_2}}y - t \\\\\n",
    "   \\nonumber\n",
    "   \\beta_3 & = & \\sqrt{\\frac{2(\\alpha_3-mgz)}{mg^2}} - t \n",
    "   \\end{eqnarray}\n",
    "\n",
    "   De aquí podemos despejar $x,y,z$ para finalmente obtener la solución:\n",
    "   \n",
    "   \\begin{eqnarray}\n",
    "   \\nonumber\n",
    "   x & = & \\sqrt{\\frac{2\\alpha_1}{m}}(\\beta_1+t)\\\\\n",
    "   \\nonumber\n",
    "   y & = & \\sqrt{\\frac{2\\alpha_2}{m}}(\\beta_2+t)\\\\\n",
    "   \\nonumber\n",
    "   z & = & \\frac{\\alpha_3}{mg}-\\frac{g}{2}(\\beta_3+t)^2\n",
    "   \\end{eqnarray}"
   ]
  },
  {
   "cell_type": "markdown",
   "metadata": {},
   "source": [
    "7. **Momentos del sistema original**. Los momentos originales $p_j=\\partial S/\\partial x_j$ se obtienen también de la función generatriz:\n",
    "\n",
    "   \\begin{eqnarray}\n",
    "   \\nonumber\n",
    "   p_x & = & \\sqrt{2m\\alpha_1}\\\\\n",
    "   \\nonumber\n",
    "   p_y & = & \\sqrt{2m\\alpha_2}\\\\\n",
    "   \\nonumber\n",
    "   p_z & = & -\\sqrt{2m} (\\alpha_3 - mgz)^{1/2}\n",
    "   \\end{eqnarray}"
   ]
  },
  {
   "cell_type": "markdown",
   "metadata": {},
   "source": [
    "¿Coinciden estos resultados con aquellos que conocemos de la mecánica (o la cinemática) newtoniana?.  Los momentos lineales en el punto 7 coinciden con la expectativa de que el momento es constante en dirección de $x$ y de $y$ (lo que también es consistente con el hecho de que estas variables son cíclicas en el Lagrangiano original).  Además podemos hacer la identificación:\n",
    "\n",
    "\\begin{eqnarray}\n",
    "\\nonumber\n",
    "v_x & = & \\sqrt{\\frac{2\\alpha_1}{m}}\\\\\n",
    "\\nonumber\n",
    "v_y & = & \\sqrt{\\frac{2\\alpha_2}{m}}\\\\\n",
    "\\end{eqnarray}\n",
    "que son constantes en el sistema de coordenadas original."
   ]
  },
  {
   "cell_type": "markdown",
   "metadata": {},
   "source": [
    "De aquí reconocemos que las constantes:\n",
    "\n",
    "\\begin{eqnarray}\n",
    "\\nonumber\n",
    "\\alpha_1 & = & \\frac{1}{2}m v_x^2\\\\\n",
    "\\nonumber\n",
    "\\alpha_2 & = & \\frac{1}{2}m v_y^2\\\\\n",
    "\\end{eqnarray}\n",
    "coinciden con las que identificamos en la mecánica newtoniana como partes de la energía cinética en dirección de $x$ y en dirección de $y$.  "
   ]
  },
  {
   "cell_type": "markdown",
   "metadata": {},
   "source": [
    "Con esto la solución para las componentes de la posición de la partícula sobre el plano $x-y$ se pueden escribir como:\n",
    "\n",
    "\\begin{eqnarray}\n",
    "\\nonumber\n",
    "x & = & v_x(t+\\beta_1)\\\\\n",
    "\\nonumber\n",
    "y & = & v_y(t+\\beta_2)\\\\\n",
    "\\end{eqnarray}\n",
    "que coincide con lo que sabemos de la cinemática galileana.  De aquí podemos ver que las constantes $\\beta_1$ y $\\beta_2$ están relacionadas con la posición inicial de la partícula $(x_0,y_0)$:\n",
    "\n",
    "\\begin{eqnarray}\n",
    "\\nonumber\n",
    "\\beta_1 & = & \\frac{x_0}{v_x}\\\\\n",
    "\\nonumber\n",
    "\\beta_2 & = & \\frac{y_0}{v_x}\\\\\n",
    "\\end{eqnarray}\n"
   ]
  },
  {
   "cell_type": "markdown",
   "metadata": {},
   "source": [
    "Un poco más difícil es juzgar la solución en dirección de $z$.  Desarrollando la expresión obtenida para $z(t)$:\n",
    "\n",
    "$$\n",
    "z(t)=\\left(\\frac{\\alpha_3}{mg}-\\frac{1}{2}g\\beta_3^2\\right)-\\beta_3 g t-\\frac{g t^2}{2}\n",
    "$$"
   ]
  },
  {
   "cell_type": "markdown",
   "metadata": {},
   "source": [
    "Comparando con nuestras expectativas galileanas podemos reconocer que $\\beta_3=v_{0z}/g$ (componente inicial de la velocidad en dirección $z$) y $\\alpha_3=mgz_0+\\frac{1}{2}m v_{0z}^2$ (parte de la energía total asociada con la posición y velocidad en $z$)."
   ]
  },
  {
   "cell_type": "markdown",
   "metadata": {},
   "source": [
    "Finalmente si elevamos al cuadrado la solución obtenida para $p_z$ y reemplazamos $\\alpha_3$ obtenemos:\n",
    "\n",
    "$$\n",
    "\\frac{p_z^2}{2m}=\\frac{1}{2}mv_{0z}^2+mg(z-z_0)\n",
    "$$\n",
    "que escrita en términos de la velocidad $v_z$,\n",
    "\n",
    "$$\n",
    "v_z^2=v_{0z}^2+2g(z-z_0)\n",
    "$$\n",
    "coincide con un conocido resultado de la cinemática galileana."
   ]
  },
  {
   "cell_type": "markdown",
   "metadata": {},
   "source": [
    "En conclusión el método de Hamilton-Jacobi es equivalente a los métodos newtonianos."
   ]
  },
  {
   "cell_type": "markdown",
   "metadata": {
    "tags": [
     "navigation"
    ]
   },
   "source": [
    "[Indice](index.ipynb) | Previo: [FormalismoHamiltoniano.TransformacionesCanonicas.FuncionGeneratriz](10.03.01.00.FormalismoHamiltoniano.TransformacionesCanonicas.FuncionGeneratriz.ipynb) | Siguiente: [FormalismoHamiltoniano.MecanicaCeleste](10.04.00.00.FormalismoHamiltoniano.MecanicaCeleste.ipynb)"
   ]
  }
 ],
 "metadata": {
  "celltoolbar": "Tags",
  "kernelspec": {
   "display_name": "Python 3",
   "language": "python",
   "name": "python3"
  },
  "language_info": {
   "codemirror_mode": {
    "name": "ipython",
    "version": 3
   },
   "file_extension": ".py",
   "mimetype": "text/x-python",
   "name": "python",
   "nbconvert_exporter": "python",
   "pygments_lexer": "ipython3",
   "version": "3.6.8"
  }
 },
 "nbformat": 4,
 "nbformat_minor": 2
}
