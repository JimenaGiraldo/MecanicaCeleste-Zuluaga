{
 "cells": [
  {
   "cell_type": "markdown",
   "metadata": {
    "tags": [
     "navigation"
    ]
   },
   "source": [
    "[Indice](index.ipynb) | Previo: [FormalismoLagrangiano.EcuacionesLagrange](09.02.00.00.FormalismoLagrangiano.EcuacionesLagrange.ipynb) | Siguiente: [FormalismoLagrangiano.PrincipioHamilton](09.04.00.00.FormalismoLagrangiano.PrincipioHamilton.ipynb)"
   ]
  },
  {
   "cell_type": "markdown",
   "metadata": {},
   "source": [
    "## 9.5. La función lagrangiana\n",
    "<a id='funcion_lagrangiana'></a>"
   ]
  },
  {
   "cell_type": "markdown",
   "metadata": {},
   "source": [
    "En la sección anterior vimos que la evolución de cualquier sistema dinámico obedece las **ecuaciones de Lagrange**:\n",
    "\n",
    "$$\n",
    "\\left\\{ \\frac{d}{dt} \\left(\\frac{\\partial T}{\\partial \\dot{q}_j} \\right) - \\frac{\\partial T}{\\partial q_j} =  Q_j   \\right\\}_M\n",
    "$$\n",
    "donde $T(\\{q_j\\},\\{\\dot q_j\\},t)=\\sum_i m_i\\vec{r}_i(\\{q_j\\},\\{\\dot q_j\\},t)^2/2$ es la función de energía cinética, $\\{q_j\\}$ son las denominadas variables generalizadas del sistema, y $Q_j$ se conoce como la fuerza generalizada, que se expresa, en términos de las fuerzas convencionales y las reglas de transformación de variables generalizadas a vectores coordenados, como:\n",
    "\n",
    "$$\n",
    "Q_j = \\sum_i \\vec{F}_i \\cdot \\frac{\\partial \\vec{r}_i}{\\partial q_j}\n",
    "$$"
   ]
  },
  {
   "cell_type": "markdown",
   "metadata": {},
   "source": [
    "A pesar de que el formalismo lagrangiano expresado por las definiciones de las secciones anterioes y coronado por este conjunto de ecuaciones, es una versión alternativa para el formalismo vectorial, su aplicación sigue siendo muy elaborada. Es cierto, como mencionamos antes, que cualquiera con las habilidades matemáticas correctas puede usar el formalismo para encontrar al menos las ecuaciones de movimiento, usando para ello un procedimiento analítico claramente definido y que no requiere de una desarrollada intuición física.  Aún así, el cálculo, por ejemplo, de las fuerzas generalizadas, puede llegar a ser matemáticamente engorroso."
   ]
  },
  {
   "cell_type": "markdown",
   "metadata": {},
   "source": [
    "Existen sin embargo algunas situaciones comunes en los que el formalismo se simplica considerablemente.  Considere por ejemplo el caso de sistemas dinámicos en las que las fuerzas involucradas son todas fuerzas conservativas; es decir, fuerzas que pueden obtenerse a partir de una función de energía potencial:\n",
    "\n",
    "$$\n",
    "\\vec F_i(\\vec{r}_i,t)=-\\nabla_i U_i(\\{\\vec{r}_j\\},t)\n",
    "$$\n",
    "\n",
    "Nótese que la función $U_i$ considerada aquí solo depende de las posiciones de las partículas, y posiblemente del tiempo."
   ]
  },
  {
   "cell_type": "markdown",
   "metadata": {},
   "source": [
    "Para fuerzas de este tipo, las fuerzas generalizadas se pueden escribir en la forma:\n",
    "\n",
    "$$\n",
    "Q_j = -\\sum_i \\nabla_i U_i \\cdot \\frac{\\partial \\vec{r}_i}{\\partial q_j} \n",
    "$$\n",
    "que por propiedades de la regla de la cadena puede probarse es equivalente a:\n",
    "\n",
    "$$\n",
    "Q_j = -\\frac{\\partial U}{\\partial q_j}\n",
    "$$\n",
    "donde:\n",
    "\n",
    "$$\n",
    "U(\\{\\vec{r}_j\\},t)=\\sum U_i(\\{\\vec{r}_j\\},t)\n",
    "$$"
   ]
  },
  {
   "cell_type": "markdown",
   "metadata": {},
   "source": [
    "Si reemplazamos en las ecuaciones de Lagrange obtenemos una versión más compacta de esas mismas ecuaciones:\n",
    "\n",
    "$$\n",
    "\\left\\{ \\frac{d}{dt} \\left(\\frac{\\partial T}{\\partial \\dot{q}_j} \\right) - \\frac{\\partial (T-U)}{\\partial q_j} =  0\\right\\}_M\n",
    "$$\n",
    "y con esto nos hemos liberado de las engorrosas fuerzas generalizadas.  Pero el milagro no termina ahí."
   ]
  },
  {
   "cell_type": "markdown",
   "metadata": {},
   "source": [
    "Dado que la función de energía potencial $U$ solo depende de las coordenadas o, lo que es lo mismo de las variables generalizadas y no de sus velocidades, una condición que matemáticamente se puede escribir como \n",
    "\n",
    "$$\\partial U/\\partial\\dot q_j=0$$\n",
    "una forma más \"elegante\" de escribir las ecuaciones de Lagrange en términos de la energía cinética y la función e energía potencial, sería:\n",
    "\n",
    "$$\n",
    "\\left\\{ \\frac{d}{dt} \\left(\\frac{\\partial (T-U)}{\\partial \\dot{q}_j} \\right) - \\frac{\\partial (T-U)}{\\partial q_j} =  0\\right\\}_M\n",
    "$$"
   ]
  },
  {
   "cell_type": "markdown",
   "metadata": {},
   "source": [
    "Hay que mirar esta ecuación con el respeto que se merece. Si bien nuestra motivación original era encontrar una versión menos engorrosa de las ecuaciones de Lagrange y lo obtenido es producto esencialmente de realizar un par de convenientes manipulaciones matemáticas, el mensaje en esta ecuación es bastante claro: dado un sistema dinámico en el que las fuerzas aplicadas son conservativas, el funcional $T-U$ es fundamental en la descripción de su dinámica."
   ]
  },
  {
   "cell_type": "markdown",
   "metadata": {},
   "source": [
    "Y no hay que confundir este funcional con aquel otro que conocemos bastante bien en la mecánica newtoniana: $T+U$, la energía mecánica.  Si bien más adelante demostraremos una sútil entre ellos, la importancia de $T-U$ en el contexto del formalismo Lagrangiano es tal que merece su propio nombre:"
   ]
  },
  {
   "cell_type": "markdown",
   "metadata": {
    "label": "",
    "subtitle": "Función Lagrangiana",
    "tags": [
     "box_definition"
    ],
    "title": "Definición"
   },
   "source": [
    "> **Definición 11.21. Función Lagrangiana.**<a id=''></a> Dado un sistema dinámico con función de energía cinética $T(\\{q_j\\},\\{\\dot q_j\\},t)$, en el que todas las partículas están sometidas a fuerzas conservativas que derivan de funciones de energía potencial $U_i(\\{q_j\\},t)$, definimos la función lagrangiana del sistema $L(\\{q_j\\},\\{\\dot q_j\\},t)$ como:\n",
    "\n",
    ">   $$\n",
    "    L\\equiv T-U\n",
    "    $$\n",
    "> donde $U(\\{q_j\\},t)=\\sum U_i(\\{q_j\\},t)$.  A la función lagrangiana la llamaremos también **el Lagrangiano del sistema**."
   ]
  },
  {
   "cell_type": "markdown",
   "metadata": {},
   "source": [
    "En términos del Lagrangiano las ecuaciones de Lagrange se escriben como:\n",
    "\n",
    "\\begin{equation}\n",
    "\\label{eq:ecuaciones_euler_lagrange}\n",
    "\\left\\{ \\frac{d}{dt} \\left(\\frac{\\partial L}{\\partial \\dot{q}_j} \\right) - \\frac{\\partial L}{\\partial q_j} =  0\\right\\}_M\n",
    "\\end{equation}\n",
    "que por razones que explicaremos en una sección posterior se conocen también como las **Ecuaciones de Euler-Lagrange**."
   ]
  },
  {
   "cell_type": "markdown",
   "metadata": {
    "label": "",
    "subtitle": "No siempre hay un lagrangiano",
    "tags": [
     "box_note"
    ],
    "title": "Nota"
   },
   "source": [
    "> **Nota: No siempre hay un lagrangiano.**<a id=''></a> Es importante entender que no a todos los sistemas dinámicos se les puede asociar un Lagrangiano. Es obvio que si alguna de las fuerzas aplicadas que actúan sobre las partículas no es conservativa, no podrá definirse una función de energía potencial y por tanto tampoco podrá construirs un Lagrangiano.  Pero la condición es aún más compleja.  De manera general las condición necesarias y suficientes para que podamos definir un Lagrangiano en un sistema dinámico son:\n",
    "\n",
    "> 1. El sistema debe estar sometido a restricciones holonómicas de modo que pueda encontrarse un conjunto de variables generalizadas independientes para describirlo.\n",
    "\n",
    "> 2. Las fuerzas generalizadas sobre el sistema deben derivar de un potencial."
   ]
  },
  {
   "cell_type": "markdown",
   "metadata": {},
   "source": [
    "### 9.5.1. El potencial generalizado\n",
    "<a id='potencial_generalizado'></a>"
   ]
  },
  {
   "cell_type": "markdown",
   "metadata": {},
   "source": [
    "Si bien, en el desarrollo anterior, la condición de que las fuerzas sobre el sistema derivaran de un potencial, se restringían a las clásicas fuerzas conservativas, en el formalismo Lagrangiano es posible extender esta condición a un conjunto más amplio de fuerzas.\n"
   ]
  },
  {
   "cell_type": "markdown",
   "metadata": {},
   "source": [
    "Si en lugar de la condición de que $Q_i=\\partial U/\\partial q_i$, las fuerzas generalizadas satisfacen la condición más general que:\n",
    "\n",
    "\\begin{equation}\n",
    "Q_j = -\\frac{\\partial U_\\mathrm{gen}}{\\partial q_j} + \\frac{d}{dt}\\frac{\\partial U_\\mathrm{gen}}{\\partial \\dot{q}_j}\n",
    "\\end{equation}\n",
    "también es posible escribir una función Lagrangiana.  A la función $U_\\mathrm{gen}$ la llamamos una **función de energía potencial generalizada** o en breve un **potencial generalizado**."
   ]
  },
  {
   "cell_type": "markdown",
   "metadata": {},
   "source": [
    "Nótese que para fuerzas de este tipo, el potencial $U_\\mathrm{gen}$ puede en general depender de las velocidades generalizadas.  Esto, sin embargo, no significa necesariamente que el potencial de las fuerzas reales depende de velocidades coordenadas.  Aún así, esta generalización permite incluir en el formalismo lagrangiano una amplia diversidad de fuerzas que van más allá de las restrictivas fuerzas conservativas de la mecánica newtoniana original."
   ]
  },
  {
   "cell_type": "markdown",
   "metadata": {},
   "source": [
    "### 9.5.2. Un ejemplo: el Lagrangiano del péndulo elástico\n",
    "<a id='lagrangiano_pendulo_elastico'></a>"
   ]
  },
  {
   "cell_type": "markdown",
   "metadata": {},
   "source": [
    "Para ilustrar la construcción de la función Lagrangiana, volvamos a nuestro ejemplo del péndulo elástico.  Para ello debemos primero demostrar que las fuerzas generalizadas $Q_i$, derivan de un potencial $U(\\{q_j\\})$ mediante la regla:\n",
    "\n",
    "$$\n",
    "Q_i=-\\frac{\\partial}{\\partial q_i} U(\\{q_j\\})\n",
    "$$"
   ]
  },
  {
   "cell_type": "markdown",
   "metadata": {},
   "source": [
    "En la [Sección *Un ejemplo: el péndulo elástico*](09.02.00.00.FormalismoLagrangiano.EcuacionesLagrange.ipynb#pendulo_elastico), habíamos encontrado que las fuerzas generalizadas en el sistema tienen la forma:\n",
    "\n",
    "\\begin{eqnarray}\n",
    "Q_1 & = & -W(L+q_2)\\sin q_1\\\\\n",
    "Q_2 & = & W\\cos q_1 - k q_2\n",
    "\\end{eqnarray}"
   ]
  },
  {
   "cell_type": "markdown",
   "metadata": {},
   "source": [
    "Es fácil mostrar (ver Problemas al final del capítulo) que estas fuerzas derivan de una única función de energía potencial dada por:\n",
    "\n",
    "$$\n",
    "U(q_1,q_2)=-W(L+q_2)\\cos q_1+\\frac{kq_2^2}{2}\n",
    "$$"
   ]
  },
  {
   "cell_type": "markdown",
   "metadata": {},
   "source": [
    "Si escribimos esta función de energía potencial en términos de las coordenadas originales (coordenadas cartesianas y la elongación del resorte), la función resulta ser muy familiar para nosotros:\n",
    "\n",
    "$$\n",
    "U(x,y)=-mgy+\\frac{ke^2}{2}\n",
    "$$"
   ]
  },
  {
   "cell_type": "markdown",
   "metadata": {},
   "source": [
    "Este resultado es más que natural, en tanto, cuando en un sistema solo intervienen fuerzas conservativas (como lo hacen en este caso la gravedad y la fuerza elástica) la función $U$ en el formalismo Lagrangiano no es distinta de la misma función en el formalismo vectorial, excepto porque la primera usa las variables generalizadas en lugar de las coordenadas cartesianas. Esta importante propiedad se puede describir matemáticamente como:\n",
    "\n",
    "$$\n",
    "U(\\{q_j\\},t)=U(\\{\\vec{r}_j(\\{q_k\\},t)\\},t)\n",
    "$$"
   ]
  },
  {
   "cell_type": "markdown",
   "metadata": {},
   "source": [
    "Con esto el Lagrangiano del péndulo elástico se puede escribir finalmente como :\n",
    "\n",
    "$$\n",
    "L_\\mathrm{PE}=\\frac{1}{2}m\\left[(1+q_2)^2\\dot q_1^2 +\\dot q_2^2\\right]-W(L+q_2)\\cos q_1+\\frac{kq_2^2}{2}\n",
    "$$"
   ]
  },
  {
   "cell_type": "markdown",
   "metadata": {
    "label": "",
    "subtitle": "No confundir L con L",
    "tags": [
     "box_note"
    ],
    "title": "Nota"
   },
   "source": [
    "> **Nota: No confundir L con L.**<a id=''></a> En lo sucesivo, al escribir la función lagrangiana agregaremos un sencillo subíndice que indique a qué sistema dinámico esta asociado.  En el caso que vimos en esta sección hemos agregado \"PE\" para indicar que se trata del lagrangiano del \"Péndulo Elástico\". Este subíndice además nos permitirá distinguir a la importante función lagrangiana de otras cantidades física que se representan con la misma letra, por ejemplo la Longitud (en el ejemplo visto aquí), la inductancia en un circuito, etc. "
   ]
  },
  {
   "cell_type": "markdown",
   "metadata": {
    "tags": [
     "navigation"
    ]
   },
   "source": [
    "[Indice](index.ipynb) | Previo: [FormalismoLagrangiano.EcuacionesLagrange](09.02.00.00.FormalismoLagrangiano.EcuacionesLagrange.ipynb) | Siguiente: [FormalismoLagrangiano.PrincipioHamilton](09.04.00.00.FormalismoLagrangiano.PrincipioHamilton.ipynb)"
   ]
  }
 ],
 "metadata": {
  "celltoolbar": "Tags",
  "kernelspec": {
   "display_name": "Python 3",
   "language": "python",
   "name": "python3"
  },
  "language_info": {
   "codemirror_mode": {
    "name": "ipython",
    "version": 3
   },
   "file_extension": ".py",
   "mimetype": "text/x-python",
   "name": "python",
   "nbconvert_exporter": "python",
   "pygments_lexer": "ipython3",
   "version": "3.6.8"
  }
 },
 "nbformat": 4,
 "nbformat_minor": 2
}
