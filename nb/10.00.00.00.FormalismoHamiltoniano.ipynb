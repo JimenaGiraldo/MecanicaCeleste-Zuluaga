{
 "cells": [
  {
   "cell_type": "markdown",
   "metadata": {
    "tags": [
     "navigation"
    ]
   },
   "source": [
    "[Indice](index.ipynb) | Previo: [FormalismoLagrangiano.MecanicaCeleste.Problema2Cuerpos.PrecesionPerihelio](09.06.00.02.FormalismoLagrangiano.MecanicaCeleste.Problema2Cuerpos.PrecesionPerihelio.ipynb) | Siguiente: [FormalismoHamiltoniano.Motivacion](10.00.00.00.FormalismoHamiltoniano.Motivacion.ipynb)"
   ]
  },
  {
   "cell_type": "markdown",
   "metadata": {},
   "source": [
    "# 1. El formalismo hamiltoniano\n",
    "<a id='formalismo_hamiltoniano'></a>"
   ]
  },
  {
   "cell_type": "markdown",
   "metadata": {
    "tags": [
     "box1"
    ]
   },
   "source": [
    "> **Resumen:** Este es el resumen del capítulo."
   ]
  },
  {
   "cell_type": "markdown",
   "metadata": {
    "tags": [
     "navigation"
    ]
   },
   "source": [
    "[Indice](index.ipynb) | Previo: [FormalismoLagrangiano.MecanicaCeleste.Problema2Cuerpos.PrecesionPerihelio](09.06.00.02.FormalismoLagrangiano.MecanicaCeleste.Problema2Cuerpos.PrecesionPerihelio.ipynb) | Siguiente: [FormalismoHamiltoniano.Motivacion](10.00.00.00.FormalismoHamiltoniano.Motivacion.ipynb)"
   ]
  }
 ],
 "metadata": {
  "celltoolbar": "Tags",
  "kernelspec": {
   "display_name": "Python 3",
   "language": "python",
   "name": "python3"
  },
  "language_info": {
   "codemirror_mode": {
    "name": "ipython",
    "version": 3
   },
   "file_extension": ".py",
   "mimetype": "text/x-python",
   "name": "python",
   "nbconvert_exporter": "python",
   "pygments_lexer": "ipython3",
   "version": "3.6.8"
  }
 },
 "nbformat": 4,
 "nbformat_minor": 2
}
