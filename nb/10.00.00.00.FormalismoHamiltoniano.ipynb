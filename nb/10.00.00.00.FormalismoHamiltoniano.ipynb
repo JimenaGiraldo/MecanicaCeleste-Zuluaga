{
 "cells": [
  {
   "cell_type": "markdown",
   "metadata": {
    "tags": [
     "navigation"
    ]
   },
   "source": [
    "[Indice](index.ipynb) | Previo: [FormalismoLagrangiano.ProblemasSeleccionados](09.06.00.00.FormalismoLagrangiano.ProblemasSeleccionados.ipynb) | Siguiente: [FormalismoHamiltoniano.Motivacion](10.00.00.00.FormalismoHamiltoniano.Motivacion.ipynb)"
   ]
  },
  {
   "cell_type": "markdown",
   "metadata": {},
   "source": [
    "# 1. El formalismo hamiltoniano y la mecánica celeste\n",
    "<a id='formalismo_hamiltoniano'></a>"
   ]
  },
  {
   "cell_type": "markdown",
   "metadata": {
    "label": "",
    "subtitle": "",
    "tags": [
     "box_summary"
    ],
    "title": "Resumen"
   },
   "source": [
    "> **Resumen:**<a id=''></a> En este último capítulo presentamos una introducción a una de las alternativas más poderosas a la mecánica newtoniana: el formalismo hamiltoniano.  Las cantidades, principios y métodos de este formalismo han sido usados por más de 150 años no solo para describir los problemas mecánicos más diversos, incluyendo los de la mecánica celeste, sino también en áreas tan aparentemente distintas como la óptica, la relatividad o la teoría cuántica.  Introduciremos aquí la función hamiltoniana y las ecuaciones canónicas de Hamilton, el espacio de fase, la teoría básica de transformaciones canónicas y el poderoso método de Hamilton-Jacobi.  Como lo hicimos antes con el formalismo lagrangiano veremos algunas aplicaciones básicas del formalismo en Mecánica Celeste."
   ]
  },
  {
   "cell_type": "markdown",
   "metadata": {
    "tags": [
     "navigation"
    ]
   },
   "source": [
    "[Indice](index.ipynb) | Previo: [FormalismoLagrangiano.ProblemasSeleccionados](09.06.00.00.FormalismoLagrangiano.ProblemasSeleccionados.ipynb) | Siguiente: [FormalismoHamiltoniano.Motivacion](10.00.00.00.FormalismoHamiltoniano.Motivacion.ipynb)"
   ]
  }
 ],
 "metadata": {
  "celltoolbar": "Tags",
  "kernelspec": {
   "display_name": "Python 3",
   "language": "python",
   "name": "python3"
  },
  "language_info": {
   "codemirror_mode": {
    "name": "ipython",
    "version": 3
   },
   "file_extension": ".py",
   "mimetype": "text/x-python",
   "name": "python",
   "nbconvert_exporter": "python",
   "pygments_lexer": "ipython3",
   "version": "3.6.8"
  }
 },
 "nbformat": 4,
 "nbformat_minor": 2
}
