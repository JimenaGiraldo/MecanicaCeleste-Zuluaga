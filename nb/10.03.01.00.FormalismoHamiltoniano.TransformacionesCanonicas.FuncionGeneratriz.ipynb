{
 "cells": [
  {
   "cell_type": "markdown",
   "metadata": {
    "tags": [
     "navigation"
    ]
   },
   "source": [
    "[Indice](index.ipynb) | Previo: [FormalismoHamiltoniano.TransformacionesCanonicas](10.03.00.00.FormalismoHamiltoniano.TransformacionesCanonicas.ipynb) | Siguiente: [FormalismoHamiltoniano.HamiltonJacobi](10.04.00.00.FormalismoHamiltoniano.HamiltonJacobi.ipynb)"
   ]
  },
  {
   "cell_type": "markdown",
   "metadata": {},
   "source": [
    "### 10.7.1. La función generatriz\n",
    "<a id='funcion_generatriz'></a>"
   ]
  },
  {
   "cell_type": "markdown",
   "metadata": {},
   "source": [
    "En la sección anterior definimos e ilustramos el concepto de transformación canónica y de su utilidad estudiando un sistema muy conocido: el oscilador armónico simple.  Los métodos heurísticos que usamos allí podrían ser utilizados para unos cuantos sistemas dinámicos relativamente simples.  Pero ¿existe algún método analítico, alguna sistemática que nos permita encontrar transformaciones canónicas que sean útiles para una amplia diversidad de sistemas dinámicos?.  Esta es justamente la pregunta que responde el denominado *formalismo de la función generatriz* que describimos a continuación."
   ]
  },
  {
   "cell_type": "markdown",
   "metadata": {},
   "source": [
    "Comencemos por considerar el principio de Hamilton:\n",
    "\n",
    "$$\n",
    "\\delta\\int_{t_1}^{t_2} L dt = 0\n",
    "$$"
   ]
  },
  {
   "cell_type": "markdown",
   "metadata": {},
   "source": [
    "Habíamos aprendido en el [Capítulo *Formalismo lagrangiano*](09.00.00.00.FormalismoLagrangiano.ipynb#formalismo_lagrangiano) que existe una cierta libertad en la elección de la función lagrangiana que satisface la ecuación anterior.  En partícular si una función $L'$ es tal que:\n",
    "\n",
    "\\begin{equation}\n",
    "\\label{eq:L_transformacion}\n",
    "L'=L-\\frac{\\mathrm{d}F}{\\mathrm{d}t}\n",
    "\\end{equation}\n",
    "donde $F$ es una función cualquiera de las variables generalizadas y del tiempo entonces el principio de Hamilton sigue siendo válido para $L'$ así como lo son las correspondientes ecuaciones de Euler-Lagrange. $L'$ es también un Lagrangiano del sistema.  Pero ¿que es físicamente la función $F$?."
   ]
  },
  {
   "cell_type": "markdown",
   "metadata": {},
   "source": [
    "Una aplicación muy interesante de este resultado tiene que ver justamente con la determinación de las propiedades de las transformaciones de coordenadas que estamos estamos estudiando en estas secciones.  Así, suponga que cambiamos las variables generalizadas originales del Hamiltoniano $\\{q_j\\}$ por unas nuevas variables y lo hacemos a través de un conjunto invertible de reglas de transformación \n",
    "\n",
    "\\begin{equation}\n",
    "\\label{eq:Q_transformacion}\n",
    "Q_j=Q_j(\\{q_k\\},t)\n",
    "\\end{equation}\n",
    "\n",
    "A este tipo de transformación la llamamos una **transformación puntual** en el espacio de configuración."
   ]
  },
  {
   "cell_type": "markdown",
   "metadata": {},
   "source": [
    "Si reemplazamos la inversa de esta transformación $\\{q_j(\\{Q_k\\},t)\\}$ en el lagrangiano original obtendremos una nueva función $L'(\\{Q_j\\},\\{\\dot Q_j\\},t)$.  La pregunta es, como nos la hicimos en la sección anterior con el Hamiltoniano, si $L'$ sigue siendo una función apropiada para describir la dinámica del sistema usando el principio de Hamilton o equivalentemente las ecuaciones de Euler-Lagrange."
   ]
  },
  {
   "cell_type": "markdown",
   "metadata": {},
   "source": [
    "Utilizando la propiedad expresada en la Ec. ([L_transformacion](#mjx-eqn-eq%3AL_transformacion)) podemos afirmar que si la nueva función es tal que se cumple:\n",
    "\n",
    "$$L'(\\{Q_j\\},\\{\\dot Q_j\\},t)=L(\\{q_j\\},\\{\\dot q_j\\},t)-\\frac{\\mathrm{d}F(\\{q_j\\},\\{Q_j\\},t)}{\\mathrm{d}t}$$\n",
    "entonces el principio de Hamilton con $L'$ en lugar de $L$ seguirá siendo válido.  Nótese que en esta nueva expresión la *misteriorsa* $F$ puede ser ahora función de las variables originales y de las nuevas variables."
   ]
  },
  {
   "cell_type": "markdown",
   "metadata": {},
   "source": [
    "Si usamos la regla de la cadena para expresar la derivada total de $F$ respecto al tiempo, la ecuación anterior se puede escribir como:\n",
    "\n",
    "$$\n",
    "L'(\\{Q_j\\},\\{\\dot Q_j\\},t)=L(\\{q_j\\},\\{\\dot q_j\\},t)-\n",
    "\\sum_k\\left(\\frac{\\partial F_{qQ}}{\\partial q_k}\\dot{q}_k + \\frac{\\partial F_{qQ}}{\\partial Q_k}\\dot{Q}_k\\right)+ \\frac{\\partial F_{qQ}}{\\partial t}\n",
    "$$\n",
    "donde hemos introducido la notación $F_{qQ}$ que indica que la función $F$ escrita aquí es función solo de las variables generalizadas.  Esta notación será usada sistemáticamente en lo sucesivo."
   ]
  },
  {
   "cell_type": "markdown",
   "metadata": {},
   "source": [
    "Una interesante consecuencia de este resultado es que los momentos canónicos conjugados $p_j=\\partial L/\\partial \\dot{q}_j$ y $P_j=\\partial L'/\\partial \\dot{Q}_j$, en ambos sistemas de coordenadas, obedecen relaciones muy interesantes con la misteriosa función $F$.  Así por ejemplo, si derivamos parcialmente la ecuación anterior por $\\dot{Q}_j$ y tenemos en cuenta que $L$ no depende explícitamente de esa cantidad obtenemos:\n",
    "\n",
    "\\begin{equation}\n",
    "\\label{eq:P_transformacion_F1}\n",
    "P_j=-\\frac{\\partial F_{qQ}}{\\partial Q_k}\n",
    "\\end{equation}\n",
    "\n",
    "De forma similar si derivamos respecto a $\\dot{q}_j$ obtenemos la relación:\n",
    "\n",
    "\\begin{equation}\n",
    "\\label{eq:p_transformacion_F1}\n",
    "p_j=\\frac{\\partial F_{qQ}}{\\partial q_k}\n",
    "\\end{equation}"
   ]
  },
  {
   "cell_type": "markdown",
   "metadata": {},
   "source": [
    "Las dos ecuaciones anteriores no son ecuaciones cualquiera.  Implícitamente expresan la manera como los momentos canónicos conjugados se relacionan con las variables generalizadas de uno y otro sistema.  Estas ecuaciones *son* las reglas de transformación de los momentos canónicos que mantienen la estructura formal de la descripción dinámica del sistema."
   ]
  },
  {
   "cell_type": "markdown",
   "metadata": {},
   "source": [
    "En otras palabras, podemos estar seguros que tanto el lagrangiano como el Hamiltoniano del sistema, escrito en términos de las variables generalizadas $\\{Q_j\\}$ o de los momentos canónicos conjugados $\\{P_j\\}$, que obedecen las ecuaciones de transformación ([Q_transformacion](#mjx-eqn-eq%3AQ_transformacion)) y ([P_transformacion_F1](#mjx-eqn-eq%3AP_transformacion_F1)), respectivamente, seguirán satisfaciendo también las ecuaciones de Euler-Lagrange y las ecuaciones canónicas de Hamilton.  Está última es justamente la condición de una transformación canónica."
   ]
  },
  {
   "cell_type": "markdown",
   "metadata": {},
   "source": [
    "En resumen, hemos descubierto como *generar* una transformación canónica, partiendo de una transformación puntual y una función $F(\\{q_j\\},\\{Q_j\\},t)$ dada.  Es justamente por esta razón que llamamos a la función $F$, la **función generatriz** y al procedimiento esbozado en los párrafos anteriores el **formalismo de la función generatriz** de las transformaciones canónicas. "
   ]
  },
  {
   "cell_type": "markdown",
   "metadata": {},
   "source": [
    "Para clarificar un poco todo lo anterior, consideremos una función generatriz específica y trivial:\n",
    "\n",
    "$$\n",
    "F_{qQ}=\\sum Q_k q_k\n",
    "$$"
   ]
  },
  {
   "cell_type": "markdown",
   "metadata": {},
   "source": [
    "Si aplicamos las Ecs. ([P_transformacion_F1](#mjx-eqn-eq%3AP_transformacion_F1)) y ([p_transformacion_F1](#mjx-eqn-eq%3Ap_transformacion_F1)) para este caso obtenemos:\n",
    "\n",
    "$$\n",
    "P_j = -q_j\n",
    "$$\n",
    "y\n",
    "\n",
    "$$\n",
    "p_j = Q_j\n",
    "$$"
   ]
  },
  {
   "cell_type": "markdown",
   "metadata": {},
   "source": [
    "Es decir, si *en cualquier sistema dinámico* invertimos los momentos por las variables generalizadas y viceversa:\n",
    "\n",
    "\\begin{equation}\n",
    "\\label{eq:transformacion_canonica_F1_trivial}\n",
    "\\begin{array}{rcl}\n",
    "Q_j &=& p_j\\\\\n",
    "P_j &=& -q_j\n",
    "\\end{array}\n",
    "\\end{equation}\n",
    "tanto el Lagrangiano como el Hamiltoniano resultante seguirán satisfaciendo las ecuaciones de Euler-Lagrange y las ecuaciones canónicas de Hamilton, respectivamente.  Es decir, las transformaciones dadas por las Ecs. ([transformacion_canonica_F1_trivial](#mjx-eqn-eq%3Atransformacion_canonica_F1_trivial)) son transformaciones canónicas."
   ]
  },
  {
   "cell_type": "markdown",
   "metadata": {},
   "source": [
    "¿Tienen todas las transformaciones canónicas una función generatriz asociada? ¿Dada una transformación que simplifica el Hamiltoniano de un sistema (y por lo tanto su dinámica) cómo encontrar la función generatriz correspondiente? ¿son todas las funciones generatrices de la forma $F_{qQ}=F(\\{q_j\\},\\{Q_j\\},t)$?."
   ]
  },
  {
   "cell_type": "markdown",
   "metadata": {},
   "source": [
    "### 10.7.2. Transformaciones canónicas básicas\n",
    "<a id='transformaciones_canonicas_basicas'></a>"
   ]
  },
  {
   "cell_type": "markdown",
   "metadata": {},
   "source": [
    "Los mismos resultados teóricos que obtuvimos al analizar el principio de Hamilton en la sección anterior y su rol en la evaluación de las transformaciones puntuales, podemos aplicarlo ahora con el principio de Hamilton modificado (Ec. [principio_hamilton_modificado](#mjx-eqn-eq%3Aprincipio_hamilton_modificado)):\n",
    "\n",
    "\\begin{equation}\n",
    "\\label{eq:hamilton_modificado_original}\n",
    "\\delta\\int_{t_1}^{t_2} \\left(\\sum p_k\\dot{q}_k - H\\right) dt = 0\n",
    "\\end{equation}"
   ]
  },
  {
   "cell_type": "markdown",
   "metadata": {},
   "source": [
    "En la [Sección *principio de Hamilton modificado*](10.01.00.00.FormalismoHamiltoniano.EcuacionesCanonicas.ipynb#principio_hamilton_modificado) habíamos probado que de este principio geométrico se derivan las ecuaciones canónicas de Hamilton.  Esto implica, para transformaciones en el espacio de fase o **transformaciones de contacto**, que si en el nuevo conjunto de coordenadas (variables generalizadas y momentos), el Hamiltoniano es una función $K$, también se satisface para ella:\n",
    "\n",
    "\\begin{equation}\n",
    "\\label{eq:hamilton_modificado_transformacion}\n",
    "\\delta\\int\\left(\\sum_k P_k \\dot Q_k - K\\right) dt = 0\n",
    "\\end{equation}"
   ]
  },
  {
   "cell_type": "markdown",
   "metadata": {},
   "source": [
    "La condición para que se cumpla esta relación es análoga a la que encontramos en el caso del Lagrangiano (Ec. \\label{eq:L_transformacion}):\n",
    "\n",
    "\\begin{equation}\n",
    "\\label{eq:condicion_transformaciones_canonicas}\n",
    "\\sum_k P_k \\dot Q_k-K=\\sum p_k\\dot{q}_k - H-\\frac{\\mathrm{d}F}{\\mathrm{d}t}\n",
    "\\end{equation}"
   ]
  },
  {
   "cell_type": "markdown",
   "metadata": {},
   "source": [
    "La novedad en esta última expresión es que ahora es claro que la función generatriz $F$ puede en realidad depender de todas las variables implicadas en el problema $\\{q_j\\},\\{p_j\\},\\{Q_j\\},\\{P_j\\}$ o de algunas combinaciones de ellas y no solo de las variables $\\{q_j\\}$ y $\\{Q_j\\}$ como se implicaba en la sección anterior."
   ]
  },
  {
   "cell_type": "markdown",
   "metadata": {},
   "source": [
    "En el caso particular en el que la función generatriz sea del tipo $F_{qQ}=F(\\{q_j\\},\\{Q_j\\},t)$ deberíamos reproducir las condiciones de la transformación canónica en las Ecs. ([P_transformacion_F1](#mjx-eqn-eq%3AP_transformacion_F1)) y ([p_transformacion_F1](#mjx-eqn-eq%3Ap_transformacion_F1)). Pongamos entonces a prueba, con esta función generatriz particular, la nueva condición en la Ec. ([condicion_transformaciones_canonicas](#mjx-eqn-eq%3Acondicion_transformaciones_canonicas)).  Si utilizamos la regla de la cadena para escribir $\\mathrm{d}F/\\mathrm{d}t$ y despejamos $K$ obtenemos:\n",
    "\n",
    "\\begin{equation}\n",
    "\\label{eq:K_transformacion_F1}\n",
    "K=H+\\sum\\left(-p_k+\\frac{\\partial F_{qQ}}{\\partial q_k}\\right)\\dot q_k+\\sum\\left(P_k+\\frac{\\partial F_{qQ}}{\\partial Q_k}\\right)\\dot Q_k+\\frac{\\partial F_{qQ}}{\\partial t}\n",
    "\\end{equation}"
   ]
  },
  {
   "cell_type": "markdown",
   "metadata": {},
   "source": [
    "En esta ecuación ni $K$, ni $H$, ni $\\partial F/\\partial t$ dependen de $\\dot{q}_j$ o de $\\dot{Q}_j$.  No existe ninguna manera de que esta ecuación sea consistente mientras cualquiera de los términos en las sumatorias sea distinto de cero.  Puesto de otro modo, si derivamos parcialmente a ambos lados de la ecuación con respecto a $\\dot{q}_j$ el resultado será:\n",
    "\n",
    "$$\n",
    "-p_j+\\frac{\\partial F_{qQ}}{\\partial q_j}=0\n",
    "$$\n",
    "para cualquier $j$.  Un razonamiento similar puede usarse para mostrar que:\n",
    "$$\n",
    "P_j+\\frac{\\partial F_{qQ}}{\\partial Q_j}=0\n",
    "$$"
   ]
  },
  {
   "cell_type": "markdown",
   "metadata": {},
   "source": [
    "Esto implica que la Ecuación ([K_transformacion_F1](#mjx-eqn-eq%3AK_transformacion_F1)) solo es válida si se cumplen las siguientes condiciones:\n",
    "\n",
    "\\begin{eqnarray}\n",
    "\\nonumber\n",
    "p_j & = & \\frac{\\partial F_{qQ}}{\\partial q_j}\\\\\n",
    "\\nonumber\n",
    "P_j & = & -\\frac{\\partial F_{qQ}}{\\partial Q_j}\\\\\n",
    "\\nonumber\n",
    "K & = & H + \\frac{\\partial F_{qQ}}{\\partial t}\n",
    "\\end{eqnarray}\n",
    "\n",
    "De estas, las primeras dos condiciones son justamente las que habíamos derivado en la sección anterior. Sin embargo la última es una condición nueva y muy interesante: no basta con reemplazar las variables antiguas en el hamiltoniano original para obtener el nuevo Hamiltoniano.  Si la función generatriz depende explícitamente del tiempo, es necesario agregar al hamiltoniano original el término $\\partial F_{qQ}/\\partial t$ para que la nueva función $K$ sea un Hamiltoniano."
   ]
  },
  {
   "cell_type": "markdown",
   "metadata": {},
   "source": [
    "El procedimiento anterior puede repetirse para el caso, por ejemplo, en el que asumimos que la función generatriz $F$ depende de las variables generalizadas originales $\\{q_j\\}$ y de los nuevos momentos conjugados $\\{P_j\\}$.  Es decir, usando la notación introducida antes $F_{qP}$.  Usando la regla de la cadena, la Ec. ([condicion_transformaciones_canonicas](#mjx-eqn-eq%3Acondicion_transformaciones_canonicas)) quedaría:\n",
    "\n",
    "\\begin{equation}\n",
    "\\label{eq:K_H_qP}\n",
    "K=H+\\sum\\left(-p_k+\\frac{\\partial F_{qP}}{\\partial q_k}\\right)\\dot q_k+\\sum P_k\\dot Q_k+\n",
    "\\sum_k \\frac{\\partial F_{qP}}{\\partial P_k}\\dot{P}_k+ \\frac{\\partial F_{qP}}{\\partial t}\n",
    "\\end{equation}"
   ]
  },
  {
   "cell_type": "markdown",
   "metadata": {},
   "source": [
    "En este caso, sin embargo, tenemos una proliferación de variables que nos conduce a un callejón sin salida matemático.  Una posible salida a ese callejón es usar como función generatriz, no una función del tipo $F_{qP}$ sino una de la forma:\n",
    "\n",
    "$$\n",
    "F(\\{q_j\\},\\{P_j\\},\\{Q_j\\})=F_{qP}-\\sum Q_k P_k\n",
    "$$\n",
    "de ese modo a los términos de la Ecuación ([K_H_qP](#mjx-eqn-eq%3AK_H_qP)), agregaríamos los términos nuevos $-\\sum (P_k\\dot{Q}_k +Q_k\\dot{P}_k)$, que permitirían eliminar de un lado el segundo término $\\sum P_k\\dot{Q}_k$ y del otro, reunir los factores proporcionales a $\\dot{P}_k$ para obtener finalmente:\n",
    "\n",
    "$$\n",
    "K=H+\\sum\\left(-p_k+\\frac{\\partial F_{qP}}{\\partial q_k}\\right)\\dot q_k+\n",
    "\\sum_k \\left(-Q_k+\\frac{\\partial F_{qP}}{\\partial P_k}\\right)\\dot{P}_k+ \\frac{\\partial F_{qP}}{\\partial t}\n",
    "$$"
   ]
  },
  {
   "cell_type": "markdown",
   "metadata": {},
   "source": [
    "Como hicimos en el caso de la función generatriz del tipo $F_{qQ}$, la anterior condición conduce a las siguientes relaciones que definen la transformación canónica generada por $F_{qP}$:\n",
    "\n",
    "\\begin{eqnarray}\n",
    "\\nonumber\n",
    "p_j & = & \\frac{\\partial F_{qP}}{\\partial q_j}\\\\\n",
    "\\nonumber\n",
    "Q_j & = & \\frac{\\partial F_{qP}}{\\partial P_j}\\\\\n",
    "\\nonumber\n",
    "K & = & H + \\frac{\\partial F_{qP}}{\\partial t}\n",
    "\\end{eqnarray}"
   ]
  },
  {
   "cell_type": "markdown",
   "metadata": {},
   "source": [
    "Un ejemplo trivial de una transformación de este tipo sería aquella que tiene función generatriz:\n",
    "\n",
    "$$\n",
    "F_{qP}=\\sum q_k P_k\n",
    "$$"
   ]
  },
  {
   "cell_type": "markdown",
   "metadata": {},
   "source": [
    "En este caso la transformación queda:\n",
    "\n",
    "\\begin{eqnarray}\n",
    "\\nonumber\n",
    "p_j & = & P_j\\\\\n",
    "\\nonumber\n",
    "q_j & = & Q_j\\\\\n",
    "\\nonumber\n",
    "K & = & H \n",
    "\\end{eqnarray}\n",
    "es decir, $F_{qP}=\\sum q_k P_k$ es la función generatriz de la **transformación canónica identidad**."
   ]
  },
  {
   "cell_type": "markdown",
   "metadata": {},
   "source": [
    "Una síntesis de los tipos de transformaciones canónicas básicas obtenidos siguiendo procedimientos análogos a los que usamos en esta sección y sus propiedades básicas, se presentan a continuación:"
   ]
  },
  {
   "cell_type": "markdown",
   "metadata": {
    "label": "",
    "subtitle": "Transformaciones canónicas básicas",
    "tags": [
     "box_theorem"
    ],
    "title": "Proposición"
   },
   "source": [
    "> **Proposición: Transformaciones canónicas básicas.**<a id=''></a> Las siguientes son los únicos tipos de función generatriz y transformaciones canónicas que involucran todos los grados de libertad de las variables generalizadas y los momentos, y que se obtienen por transformaciones de legendre a partir del tipo básico $F_{qQ}$:\n",
    "\n",
    "> - **Transformación de tipo $qQ$**.  $F=F_{qQ}$, Transformación: $p_j=\\partial F_{qQ}/\\partial q_j$, $P_j=-\\partial F_{qQ}/\\partial Q_j\\}$.\n",
    "> - **Transformación de tipo $qP$**.  $F=F_{qP}-\\sum Q_k P_k$, Transformación: $p_j=\\partial F_{qP}/\\partial q_j$, $Q_j=\\partial F_{qP}/\\partial P_j$.\n",
    "> - **Transformación de tipo $pQ$**.  $F=F_{pQ}+\\sum q_k p_k$, Transformación: $q_j=-\\partial F_{pQ}/\\partial p_j$, $P_j=-\\partial F_{pQ}/\\partial Q_j$.\n",
    "> - **Transformación de tipo $pP$**.  $F=F_{pP}+\\sum q_k p_k-\\sum Q_k P_k$, Transformación: $q_j=-\\partial F_{pP}/\\partial p_j$, $Q_j=-\\partial F_{pP}/\\partial P_j$.\n",
    "\n",
    "> En todos los casos:\n",
    "\n",
    "> \\begin{equation}\n",
    "  \\label{eq:K_H_dFdt}\n",
    "  K=H+\\frac{\\partial F}{\\partial t}\n",
    "  \\end{equation}"
   ]
  },
  {
   "cell_type": "markdown",
   "metadata": {
    "tags": [
     "navigation"
    ]
   },
   "source": [
    "[Indice](index.ipynb) | Previo: [FormalismoHamiltoniano.TransformacionesCanonicas](10.03.00.00.FormalismoHamiltoniano.TransformacionesCanonicas.ipynb) | Siguiente: [FormalismoHamiltoniano.HamiltonJacobi](10.04.00.00.FormalismoHamiltoniano.HamiltonJacobi.ipynb)"
   ]
  }
 ],
 "metadata": {
  "celltoolbar": "Tags",
  "kernelspec": {
   "display_name": "Python 3",
   "language": "python",
   "name": "python3"
  },
  "language_info": {
   "codemirror_mode": {
    "name": "ipython",
    "version": 3
   },
   "file_extension": ".py",
   "mimetype": "text/x-python",
   "name": "python",
   "nbconvert_exporter": "python",
   "pygments_lexer": "ipython3",
   "version": "3.6.8"
  }
 },
 "nbformat": 4,
 "nbformat_minor": 2
}
