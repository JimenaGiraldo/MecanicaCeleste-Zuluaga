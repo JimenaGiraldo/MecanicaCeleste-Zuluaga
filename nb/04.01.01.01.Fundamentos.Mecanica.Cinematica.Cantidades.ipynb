{
 "cells": [
  {
   "cell_type": "markdown",
   "metadata": {
    "tags": [
     "navigation"
    ]
   },
   "source": [
    "[Indice](index.ipynb) | Previo: [Fundamentos](04.00.00.00.Fundamentos.ipynb) | Siguiente: [Fundamentos.Mecanica.Cinematica.SolucionEdM](04.01.01.02.Fundamentos.Mecanica.Cinematica.SolucionEdM.ipynb)"
   ]
  },
  {
   "cell_type": "markdown",
   "metadata": {},
   "source": [
    "## 4.1. Mecánica Newtoniana\n",
    "<a id='mecanica_newtoniana'></a>"
   ]
  },
  {
   "cell_type": "markdown",
   "metadata": {},
   "source": [
    "Conocemos con el nombre de *mecánica* al conjunto de definiciones, principios y leyes físicas que permiten describir el movimiento de los cuerpos materiales (cinemática) y la relación con los agentes que los producen y perturban (dinámica).  \n",
    "\n",
    "El adjetivo newtoniano, que usaremos en esta sección, no significa que estas cantidades, principios y leyes hayan sido inventadas solo por Newton. Por un lado, además de sus ideas originales, Newton también compiló y sistematizo ideas que ya existían en su época; por el otro, mucha de sus ideas fueron también ampliadas después de la publicación de sus obras. \n",
    "\n",
    "Lo *newtoniano* se refiere aquí al hecho de que en la definición de las cantidades básicas y en la formulación de las leyes, asumiremos, como lo hizo Newton en los *Principia* y lo hicieron sus sucesores hasta principios de los 1900, que el espacio y el tiempo son entidades independientes y no son afectadas por la materia."
   ]
  },
  {
   "cell_type": "markdown",
   "metadata": {},
   "source": [
    "### 4.1.1. Sistemas de coordenadas\n",
    "<a id='sistemas_coordenadas'></a>"
   ]
  },
  {
   "cell_type": "markdown",
   "metadata": {},
   "source": [
    "<a id='fig:coordenadas'></a>![Definción de los sistemas de coordenadas usadas en este texto++t++1++\\label{fig:coordenadas}](./figures/horizontal_sistemas_coordenadas.png)\n",
    "\n",
    "<center><b>Figura 4.6</b>. Definción de los sistemas de coordenadas usadas en este texto</center>"
   ]
  },
  {
   "cell_type": "markdown",
   "metadata": {},
   "source": [
    "Para describir el movimiento de un cuerpo, es necesario primero definir un sistema de coordenadas en el que se puedan expresar sus cantidades cinemáticas básicas.  \n",
    "\n",
    "A lo largo de este libro, usaremos los tres sistemas de coordenadas ortogonales *clásicos* (cartesianas, cilíndricas y esféricas, ver Figura ([coordenadas](#fig:coordenadas))) con algunas convenciones más propias de la astronomía y la mecánica celeste que del cálculo.  A continuación, para clarificar nuestra notación, enumeramos detalladamente las propiedades de cada sistema.\n",
    "\n",
    "- **Sistema de coordenadas cartesiano**.\n",
    "\n",
    "  - Coordenadas: $x\\in(-\\infty,+\\infty)$, $y\\in(-\\infty,+\\infty)$, $z\\in(-\\infty,+\\infty)$. \n",
    "  - Vectores unitarios: $\\hat{e}_x$, $\\hat{e}_y$, $\\hat{e}_z$.\n",
    "  - Comentarios: \n",
    "  \n",
    "    - En todos los casos la orientación de los ejes obedecerá la *regla de la mano derecha*, es decir, los sistemas cartesianos usados en el texto y cuyos ejes están definidos por el conjunto de vectores unitarios ($\\hat{e}_x$, $\\hat{e}_y$, $\\hat{e}_z$) forman un *conjunto de mano derecha*, a saber: \n",
    "  \n",
    "  \\begin{equation}\n",
    "  \\label{eq:conjunto_mano_derecha}\n",
    "  \\begin{array}{ccl}\n",
    "  \\hat{e}_x\\times\\hat{e}_y & = & \\hat{e}_z\\\\\n",
    "  \\hat{e}_y\\times\\hat{e}_z & = & \\hat{e}_x\\\\\n",
    "  \\hat{e}_z\\times\\hat{e}_x & = & \\hat{e}_y\n",
    "  \\end{array}\n",
    "  \\end{equation}"
   ]
  },
  {
   "cell_type": "markdown",
   "metadata": {},
   "source": [
    "- **Sistema de coordenadas cilíndrico** (ver Figura ([coordenadas_cilindricas](#fig:coordenadas_cilindricas))).\n",
    "\n",
    "  - Coordenadas: $r\\in[0,+\\infty)$, $\\theta\\in[0,2\\pi)$, $z\\in(-\\infty,+\\infty)$. \n",
    "\n",
    "  - Conversión al sistema de coordenadas cartesianas:\n",
    "\n",
    "      \\begin{equation}\n",
    "      \\label{eq:cilindricas_a_cartesianas}\n",
    "      \\begin{array}{ccl}\n",
    "      x & = & r\\cos\\theta\\\\\n",
    "      y & = & r\\sin\\theta\\\\\n",
    "      \\end{array}\n",
    "      \\end{equation}\n",
    " \n",
    "  - Vectores unitarios expresados en el sistema de coordenadas cartesianas:\n",
    "  \n",
    "      \\begin{equation}\n",
    "      \\label{eq:unitarios_cilindricas}\n",
    "      \\begin{array}{ccl}\n",
    "      \\hat{e}_r & = & \\cos\\theta\\;\\hat{e}_x + \\sin\\theta\\;\\hat{e}_y\\\\\n",
    "      \\hat{e}_\\theta & = & -\\sin\\theta\\;\\hat{e}_x + \\cos\\theta\\;\\hat{e}_y\\\\\n",
    "      \\hat{e}_z & = & \\hat{e}_z\n",
    "      \\end{array}\n",
    "      \\end{equation}\n",
    "\n",
    "  - Comentarios: \n",
    "    \n",
    "    - El conjunto de vectores unitarios ($\\hat{e}_r$, $\\hat{e}_\\theta$, $\\hat{e}_z$) forman un conjunto de mano derecha tal y como se definió en las Ecs. ([conjunto_mano_derecha](#mjx-eqn-eq%3Aconjunto_mano_derecha)).\n",
    "    \n",
    "    - Nótese que, a diferencia de la notación usada generalmente en los textos de cálculo, la coordenada cilíndrica $r$ usa la misma letra que la coordenada esférica $r$ y la magnitud del vector posición (ver siguiente sección).  La distinción entre las tres, dependerá del contexto.  \n",
    "    \n",
    "    - Usaremos la letra griega $\\theta$ para denotar el ángulo *acimutal*, a diferencia de la notación convencional que usa esta letra para la coordenada esférica polar (ángulo del vector posición respecto al eje z.)"
   ]
  },
  {
   "cell_type": "markdown",
   "metadata": {},
   "source": [
    "- **Sistema de coordenadas esférico** (ver Figura ([coordenadas_cilindricas](#fig:coordenadas_cilindricas))).\n",
    "\n",
    "  - Coordenadas: $r\\in[0,+\\infty)$, $\\theta\\in[0,2\\pi)$, $\\phi\\in[-\\pi/2,+\\pi/2]$. \n",
    "\n",
    "  - Conversión al sistema de coordenadas cartesianas:\n",
    "\n",
    "      \\begin{equation}\n",
    "      \\label{eq:esfericas_a_cartesianas}\n",
    "      \\begin{array}{ccl}\n",
    "      x & = & r\\cos\\phi\\cos\\theta\\\\\n",
    "      y & = & r\\cos\\phi\\sin\\theta\\\\\n",
    "      z & = & r\\sin\\phi\\\\\n",
    "      \\end{array}\n",
    "      \\end{equation}\n",
    "\n",
    "  - Vectores unitarios expresados en el sistema de coordenadas cartesianas:\n",
    "  \n",
    "      \\begin{equation}\n",
    "      \\label{eq:unitarios_esfericas}\n",
    "      \\begin{array}{ccl}\n",
    "      \\hat{e}_r & = & \\cos\\phi\\cos\\theta\\;\\hat{e}_x + \\cos\\phi\\sin\\theta\\;\\hat{e}_y + \\sin\\phi\\;\\hat{e}_z\\\\\n",
    "      \\hat{e}_\\theta & = & -\\sin\\theta\\;\\hat{e}_x + \\cos\\theta\\;\\hat{e}_y\\\\\n",
    "      \\hat{e}_\\phi & = & \\cos\\phi\\cos\\theta\\;\\hat{e}_x + \\sin\\phi\\sin\\theta\\;\\hat{e}_y - \\sin\\phi\\;\\hat{e}_z\\\\\n",
    "      \\end{array}\n",
    "      \\end{equation}\n",
    "\n",
    "  - Comentarios: \n",
    "    \n",
    "    - El conjunto de vectores unitarios ($\\hat{e}_r$, $\\hat{e}_\\theta$, $\\hat{e}_\\phi$) forman un conjunto de mano derecha tal y como se definió en las Ecs. ([conjunto_mano_derecha](#mjx-eqn-eq%3Aconjunto_mano_derecha)).\n",
    "\n",
    "    - Nótese que, a diferencia de la notación usada generalmente en los textos de cálculo, la coordenada esférica $\\phi$ se medirá respecto al plano $x-y$ (como una *latitud*) en lugar de hacerlo respecto al eje $z$ (como una *colatitud*).\n",
    "    \n",
    "Una interesante página interactiva que permite visualizar mejor la definición de los sistemas de coordenadas y la orientación de los vectores coordenadas puede encontrarse en los siguientes enlaces, tanto para el [sistema de coordenadas cilíndrica](http://dynref.engr.illinois.edu/rvy.html) como para el [sistema de coordenadas esféricas](http://dynref.engr.illinois.edu/rvy.html). "
   ]
  },
  {
   "cell_type": "markdown",
   "metadata": {},
   "source": [
    "### 4.1.2. Propiedades cinemáticas\n",
    "<a id='propiedades_cinematicas'></a>"
   ]
  },
  {
   "cell_type": "markdown",
   "metadata": {},
   "source": [
    "Las propiedades cinemáticas son aquellas que se usan para describir el movimiento, tal y como ocurre, independiente de sus causas.\n",
    "\n",
    "* **Tiempo**,  $t$: Un número real que indica el *intervalo* transcurrido desde un *instante* de referencia.  Esta cantidad es *independiente y absoluta* (ver recuadro de *Notas* abajo.)\n",
    "\n",
    "* **Posición (o vector posición), $\\vec r$**: \n",
    "    - Coordenadas cartesianas: $\\vec r= x\\hat{e}_x+y\\hat{e}_y+z\\hat{e}_z$.\n",
    "    - Coordenadas cilíndricas: $\\vec r= r\\hat{e}_r+z\\hat{e}_z$.\n",
    "    - Coordenadas esféricas: $\\vec r= r\\hat{e}_r$.   \n",
    "\n",
    "* **Velocidad $\\vec v$**: \n",
    "    - Definición general: $\\vec v\\equiv \\mathrm{d}\\vec r/\\mathrm{d}t\\equiv \\dot{\\vec r}$.\n",
    "    - Coordenadas cartesianas: $\\vec v=\\dot{x}\\hat{e}_x+\\dot{y}\\hat{e}_y+\\dot{z}\\hat{e}_z$.\n",
    "    - Coordenadas cilíndricas: $\\vec v=\\dot{r}\\hat{e}_r+r\\dot{\\theta}\\hat{e}_\\theta+\\dot{z}\\hat{e}_z$.\n",
    "    - Coordenadas esféricas: $\\vec v=\\dot{r} \\hat{e}_r + r\\dot\\theta\\cos\\phi \\hat{e}_\\theta + r\\dot\\phi \\hat{e}_\\phi$\n",
    "     \n",
    "* **Estado $\\vec X$**: En el contexto de la cinemática en mecánica celeste, llamamos vector de estado $\\vec X$, al vector columna formado por la unión de las componentes cartesianas de los vectores posición y velocidad, $\\vec{X}:(x\\;y\\;z\\;\\dot x\\;\\dot y\\;\\dot z)^\\mathrm{T}$ o en otras palabras:\n",
    "\n",
    "    \\begin{equation}\n",
    "    \\vec X:\\left(\n",
    "    \\begin{array}{c}\n",
    "    x \\\\ y \\\\ z \\\\ \\dot x\\\\ \\dot y\\\\ \\dot z\n",
    "    \\end{array}\n",
    "    \\right)\n",
    "    \\end{equation}\n",
    "    \n",
    "* **Aceleración $\\vec a$**: \n",
    "    - Definición general: $\\vec a \\equiv \\mathrm{d}\\vec v/\\mathrm{d}t\\equiv\\dot{\\vec v}=\\mathrm{d}^2\\vec r/\\mathrm{d}t^2\\equiv\\ddot r$.\n",
    "    - Coordenadas cartesianas: $\\vec a=\\ddot{x}\\hat{e}_x+\\ddot{y}\\hat{e}_y+\\ddot{z}\\hat{e}_z$.\n",
    "    - Coordenadas cilíndricas: $\\vec a=(\\ddot r - r\\dot\\theta^2) \\hat{e}_r + (r\\ddot\\theta+2\\dot r\\dot\\theta) \\hat\n",
    "a_\\theta + \\ddot z \\hat{e}_z$.\n",
    "    - Coordenadas esféricas: $\\vec a=(\\ddot r - r\\dot\\theta^2 \\cos^2\\phi - r\\dot\\phi^2) \\hat{e}_r + (2\\dot r\\dot \\theta \\cos\\phi + r\\ddot\\theta \\cos\\phi-2 r\\dot\\theta\\dot\\phi \\sin\\phi) \\hat{e}_\\theta + (2\\dot r\\dot\\phi + r \\dot \\phi^2 \\sin\\phi \\cos\\phi + r\\ddot\\phi) \\hat{e}_\\phi$\n",
    "\n",
    "* **Tirón y otras**: Es posible definir propiedades que correspondan a derivadas superiores de la posición. Así por ejemplo, en algunos contextos es útil definir el *tirón* (*jerk* en inglés) o *sobreaceleración* $\\vec j=\\mathrm{d}\\vec a/\\mathrm{d}t\\equiv\\mathrm{d}^3\\vec r/\\mathrm{d}t^3$ o el *chasquido* o *rebote* (*jounce* en inglés), $\\vec s\\equiv\\mathrm{d}\\vec j/\\mathrm{d}t\\equiv\\mathrm{d}^4\\vec r/\\mathrm{d}t^4$. \n",
    "\n",
    "Las expesiones para $\\vec v$ y para $\\vec a$ en el sistema de coordenadas cilíndricas y esféricas, pueden obtenerse a partir de las derivadas de los vectores unitarios en cada sistema de coordenadas.  Dejamos al lector estas deducciones (ver problemas al final del capítulo.)"
   ]
  },
  {
   "cell_type": "markdown",
   "metadata": {
    "subtitle": "Sobre las cantidades cinemáticas",
    "tags": [
     "box_note"
    ],
    "title": "Nota"
   },
   "source": [
    "> **:Nota: Sobre las cantidades cinemáticas.** Varias precisiones deben hacerse sobre la definición de las cantidades cinemáticas aquí:\n",
    "\n",
    "> - **Tiempo independiente y absoluto**. En la mecánica newtoniana el valor del tiempo $t$ asociado a un evento, depende solo de las unidades y el origen escogido. Sin embargo, si dos sistemas de referencia, independiente de su estado de movimiento relativo, usan las mismas unidades y el mismo origen, obtendrán el mismo valor de $t$. Esta aproximación aunque útil es inexacta. Discutiremos esta idea más adelante en este capítulo ([Sección *fundamentos de relatividad*](Not Found#fundamentos_relatividad).)\n",
    "\n",
    "> - **Notación del vector posición en coordenadas cilíndricas**. La notación del vector posición en coordenadas cilíndricas, $\\vec r= r\\hat a_r+z\\hat a_z$ es inconsistente. En general, la magnitud de un vector se simboliza con su *letra asociada*, así $|\\vec r|$ es $r=\\sqrt{r^2+z^2}$ que es una expresión sin sentido (el $r$ del lado izquierdo - la magnitud del vector posición - no es el mismo $r$ que aparece al lado derecho - la coordenada radial cilíndrica). En lo que resta del libro, el significado de $r$ se precisara de acuerdo al contexto.  \n",
    "\n",
    "> - **Velocidad, rapidez y componente radial de la velocidad**. Asegurese de entender la diferencia entre $\\dot{\\vec r}$ (vector velocidad), $v$ (magnitud de la velocidad o rapidez) y $\\dot{r}$ (componente radial de la velocidad en el sistema de coordenadas cilíndricas o esféricas).\n",
    "\n",
    "> - **Tirón y chasquido**. Aunque el tirón y el chasquido pueden ser de utilidad en algunos contextos mecánicos (por ejemplo en aplicaciones tecnológicas) e incluso en algunos contextos de física teórica, en mecánica celeste ninguno de los dos tiene una función específica (aunque es natural que puedan aparecer derivadas superiores de la posición en los desarrollos.)  Por esta misma razón no profundizaremos en estas cantidades.  Los interesados pueden [encontrar en línea](https://en.wikipedia.org/wiki/Jerk_(physics)) algunas [lecturas interesantes](http://math.ucr.edu/home/baez/physics/General/jerk.html) al respecto."
   ]
  },
  {
   "cell_type": "markdown",
   "metadata": {
    "tags": [
     "navigation"
    ]
   },
   "source": [
    "[Indice](index.ipynb) | Previo: [Fundamentos](04.00.00.00.Fundamentos.ipynb) | Siguiente: [Fundamentos.Mecanica.Cinematica.SolucionEdM](04.01.01.02.Fundamentos.Mecanica.Cinematica.SolucionEdM.ipynb)"
   ]
  }
 ],
 "metadata": {
  "celltoolbar": "Tags",
  "kernelspec": {
   "display_name": "Python 3",
   "language": "python",
   "name": "python3"
  },
  "language_info": {
   "codemirror_mode": {
    "name": "ipython",
    "version": 3
   },
   "file_extension": ".py",
   "mimetype": "text/x-python",
   "name": "python",
   "nbconvert_exporter": "python",
   "pygments_lexer": "ipython3",
   "version": "3.6.8"
  }
 },
 "nbformat": 4,
 "nbformat_minor": 2
}
