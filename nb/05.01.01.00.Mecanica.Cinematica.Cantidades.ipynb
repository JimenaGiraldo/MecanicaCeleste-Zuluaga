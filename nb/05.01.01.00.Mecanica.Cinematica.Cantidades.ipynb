{
 "cells": [
  {
   "cell_type": "markdown",
   "metadata": {
    "tags": [
     "navigation"
    ]
   },
   "source": [
    "[Indice](index.ipynb) | Previo: [Mecanica](05.00.00.00.Mecanica.ipynb) | Siguiente: [Mecanica.Cinematica.SolucionEdM](05.01.02.00.Mecanica.Cinematica.SolucionEdM.ipynb)"
   ]
  },
  {
   "cell_type": "markdown",
   "metadata": {},
   "source": [
    "## 5.1. Cinemática\n",
    "<a id='cinematica'></a>"
   ]
  },
  {
   "cell_type": "markdown",
   "metadata": {},
   "source": [
    "### 5.1.1. Cantidades cinemáticas\n",
    "<a id='cantidades_cinematicas'></a>"
   ]
  },
  {
   "cell_type": "markdown",
   "metadata": {},
   "source": [
    "Las cantidades cinemáticas son aquellas que se usan para describir el movimiento, tal y como ocurre, independiente de sus causas.\n",
    "\n",
    "Para detalles sobre las convenciones y la notación de las cantidades definidas abajo se recomienda leer la [Sección *Conjuntos, tuplas y vectores*](04.01.01.00.Fundamentos.Calculo.Vectores.ipynb#conjuntos_tuplas_vectores), [*Sistemas de coordenadas*](04.01.01.00.Fundamentos.Calculo.Vectores.ipynb#sistemas_coordenadas) y [*Derivadas*](04.01.02.00.Fundamentos.Calculo.CalculoInfinitesimal.ipynb#derivadas)."
   ]
  },
  {
   "cell_type": "markdown",
   "metadata": {},
   "source": [
    "* **Tiempo**,  $t$: Un número real que indica el *intervalo* transcurrido desde un *instante* de referencia.  Esta cantidad es *independiente y absoluta* (ver comentarios abajo.)\n",
    "\n",
    "* **Posición (o vector posición), $\\vec r$**: Es el vector que va del origen de coordenadas a un lugar del espacio. \n",
    "    - Coordenadas cartesianas: $\\vec r= x\\hat{e}_x+y\\hat{e}_y+z\\hat{e}_z$.\n",
    "    - Coordenadas cilíndricas: $\\vec r= r\\hat{e}_r+z\\hat{e}_z$.\n",
    "    - Coordenadas esféricas: $\\vec r= r\\hat{e}_r$.   "
   ]
  },
  {
   "cell_type": "markdown",
   "metadata": {},
   "source": [
    "* **Velocidad $\\vec v$**: \n",
    "    - Definición general: $\\vec v\\equiv \\mathrm{d}\\vec r/\\mathrm{d}t=\\dot{\\vec r}$.\n",
    "    - Coordenadas cartesianas: $\\vec v=\\dot{x}\\hat{e}_x+\\dot{y}\\hat{e}_y+\\dot{z}\\hat{e}_z$.\n",
    "    - Coordenadas cilíndricas: $\\vec v=\\dot{r}\\hat{e}_r+r\\dot{\\theta}\\hat{e}_\\theta+\\dot{z}\\hat{e}_z$.\n",
    "    - Coordenadas esféricas: $\\vec v=\\dot{r} \\hat{e}_r + r\\dot\\theta\\cos\\phi \\hat{e}_\\theta + r\\dot\\phi \\hat{e}_\\phi$"
   ]
  },
  {
   "cell_type": "markdown",
   "metadata": {},
   "source": [
    "* **Estado $\\vec X$**: En el contexto de la cinemática en mecánica celeste, llamamos vector de estado $\\vec X$, al vector formado por la unión de las componentes cartesianas de los vectores posición y velocidad, $\\vec{X}:(x,y,z,\\dot x,\\dot y,\\dot z)$.  En distintos contextos será más conveniente denotar al vector de estado usando *notación matricial*, como un vector columna (matriz $6\\times1$) $\\vec X:(x\\;y\\;z\\;\\dot x\\;\\dot y\\;\\dot z)^\\mathrm{T}$ o explícitamente:\n",
    "\n",
    "    \\begin{equation}\n",
    "    \\vec X:\\left(\n",
    "    \\begin{array}{c}\n",
    "    x \\\\ y \\\\ z \\\\ \\dot x\\\\ \\dot y\\\\ \\dot z\n",
    "    \\end{array}\n",
    "    \\right)\n",
    "    \\end{equation}"
   ]
  },
  {
   "cell_type": "markdown",
   "metadata": {},
   "source": [
    "* **Aceleración $\\vec a$**: \n",
    "    - Definición general: $\\vec a \\equiv \\mathrm{d}\\vec v/\\mathrm{d}t=\\dot{\\vec v}=\\mathrm{d}^2\\vec r/\\mathrm{d}t^2=\\ddot{\\vec{r}}$.\n",
    "    - Coordenadas cartesianas: $\\vec a=\\ddot{x}\\hat{e}_x+\\ddot{y}\\hat{e}_y+\\ddot{z}\\hat{e}_z$.\n",
    "    - Coordenadas cilíndricas: \n",
    "    \n",
    "    \\begin{equation}\n",
    "    \\label{eq:a_cilindricas}\n",
    "    \\vec a = (\\ddot r - r\\dot\\theta^2) \\hat{e}_r \n",
    "             (r\\ddot\\theta+2\\dot r\\dot\\theta) \\hat{e}_\\theta+\n",
    "             \\ddot z \\hat{e}_z\n",
    "    \\end{equation}\n",
    "    \n",
    "    - Coordenadas esféricas: \n",
    "    \n",
    "    \\begin{equation}\n",
    "    \\label{eq:a_esfericas}\n",
    "    \\begin{array}{rcl}\n",
    "    \\vec a & = & (\\ddot r - r\\dot\\theta^2 \\cos^2\\phi - r\\dot\\phi^2) \\hat{e}_r + \\\\\n",
    "           &   & (2\\dot r\\dot \\theta \\cos\\phi + r\\ddot\\theta \\cos\\phi-2 r\\dot\\theta\\dot\\phi \\sin\\phi) \\hat{e}_\\theta+\\\\\n",
    "           &   & (2\\dot r\\dot\\phi + r \\dot \\phi^2 \\sin\\phi \\cos\\phi + r\\ddot\\phi) \\hat{e}_\\phi\n",
    "    \\end{array}\n",
    "    \\end{equation}\n"
   ]
  },
  {
   "cell_type": "markdown",
   "metadata": {},
   "source": [
    "* **Tirón y otras**: Es posible definir propiedades que correspondan a la derivada tercera e incluso derivadas superiores del vector posición. \n",
    "\n",
    "  Así por ejemplo, en algunos contextos es útil definir el *tirón* o *sobreaceleración*(*jerk* en inglés):\n",
    "  \n",
    "  $$\\vec j=\\mathrm{d}\\vec a/\\mathrm{d}t=\\frac{\\mathrm{d}^3\\vec r}{\\mathrm{d}t^3},$$\n",
    "  \n",
    "  el *chasquido* o *rebote* (*jounce* en inglés): \n",
    "  \n",
    "  $$\\vec s\\equiv\\mathrm{d}\\vec j/\\mathrm{d}t=\\frac{\\mathrm{d}^4\\vec r}{\\mathrm{d}t^4}.$$ \n",
    "  \n",
    "  Aunque estas cantidades pueden ser de utilidad en algunos contextos mecánicos (por ejemplo en aplicaciones tecnológicas) e incluso en algunos contextos de física teórica, en mecánica celeste ninguno de los dos tiene una función específica (aunque es natural que puedan aparecer derivadas superiores de la posición en los desarrollos.)  Por esta misma razón no profundizaremos en estas cantidades.  Los interesados pueden [encontrar en línea](https://en.wikipedia.org/wiki/Jerk_(physics)) algunas [lecturas interesantes](http://math.ucr.edu/home/baez/physics/General/jerk.html) al respecto."
   ]
  },
  {
   "cell_type": "markdown",
   "metadata": {},
   "source": [
    "Las expesiones para $\\vec v$ y para $\\vec a$ en el sistema de coordenadas cilíndricas y esféricas, provistas en la enumeración anterior, pueden obtenerse a partir de las derivadas respecto al tiempo de los vectores unitarios en cada sistema de coordenadas.  Dejamos al lector estas deducciones (ver problemas al final del capítulo.)"
   ]
  },
  {
   "cell_type": "markdown",
   "metadata": {},
   "source": [
    "Varias precisiones deben hacerse sobre la definición de las cantidades cinemáticas presentadas arriba:"
   ]
  },
  {
   "cell_type": "markdown",
   "metadata": {},
   "source": [
    "- **Tiempo independiente y absoluto**. En la mecánica newtoniana, el valor del tiempo $t$ asociado a un evento depende solo de las unidades y el instante de referencia escogido. Si dos sistemas de referencia, independiente de su estado de movimiento relativo, usan las mismas unidades y el mismo instante de referencia, obtendrán el mismo valor de $t$. Este postulado (que formularemos rigurosamente en el siguiente aparte) aunque bastante útil, es inexacto como se comprobaría a principios de los 1900."
   ]
  },
  {
   "cell_type": "markdown",
   "metadata": {},
   "source": [
    "- **Notación del vector posición en coordenadas cilíndricas**. La notación del vector posición en coordenadas cilíndricas, $\\vec r= r\\hat a_r+z\\hat a_z$ es \"inconsistente\" porque usa la mismas letra para referirse a cantidades diferentes. Así, en este sistema de coordenadas la magnitud del vector posición es $r=\\sqrt{r^2+z^2}$, una expresión que carece de sentido (parece indicar que todos los puntos tienen $z=0$). Para subsanar esta dificultad es común que en los libros de cálculo se use la letra griega $\\rho$ para denotar la componente radial del vector posición en coordenadas cilíndricas.  ¿Por qué no hacer lo mismo aquí? Como sucede con muchas elecciones no muy sensatas en astronomía, lo haremos simplemente porque es tradición en mecánica celeste usar la letra $r$ para referirse a la coordenada radial sobre un plano.  En lo que resta del libro, el significado de las cantidades que denotemos como $r$ se precisará de acuerdo al contexto en la que se usen.  "
   ]
  },
  {
   "cell_type": "markdown",
   "metadata": {},
   "source": [
    "- **Velocidad, rapidez y componente radial de la velocidad**. Asegurese de entender la diferencia conceptual y matemática entre las cantidades: $\\dot{\\vec r}$ (vector velocidad), $v=|\\dot{\\vec{r}}|$ (magnitud de la velocidad o rapidez) y $\\dot{r}$ (componente radial de la velocidad en el sistema de coordenadas cilíndricas o esféricas)."
   ]
  },
  {
   "cell_type": "markdown",
   "metadata": {},
   "source": [
    "### 5.1.2. Sistemas de referencia\n",
    "<a id='sistemas_referencia'></a>"
   ]
  },
  {
   "cell_type": "markdown",
   "metadata": {},
   "source": [
    "Como hemos sugerido antes, el valor de las cantidades cinemáticas definidas arriba, dependerá, por ejemplo, de cómo elijamos el instante de referencia para medir el tiempo o el origen del sistema de coordenadas.  Estas elecciones (arbitrarias) definen lo que en física se conoce como el **sistema de referencia**.  \n",
    "\n",
    "Vale la pena aclarar que el sistema de referencia no es lo mismo que el sistema de coordenadas: en un mismo sistema de referencia se pueden usar distintos sistemas de coordenadas."
   ]
  },
  {
   "cell_type": "markdown",
   "metadata": {},
   "source": [
    "¿Cómo se relacionan las cantidades cinemáticas medidas en dos sistemas de referencia diferentes?  \n",
    "\n",
    "Esta pregunta fue importante en los albores de la mecánica, especialmente en los trabajos de Galileo.  En aquel entonces, sin embargo, tenía un valor más bien filosófico e incluso retórico (como herramienta de argumentación), pero una relevancia física menor. A principios de los 1900, especialmente en los trabajos de Albert Einstein y colaboradores, la pregunta por la relación entre las observaciones realizadas en distintos sistemas de referencia, se convirtió en la base de la formulación de una nueva teoría física (la teoría de la relatividad.)  "
   ]
  },
  {
   "cell_type": "markdown",
   "metadata": {},
   "source": [
    "Toda la mecánica newtoniana que veremos a continuación, y sobre la base de ella, los resultados de la mecánica celeste que desarrollaremos en este libro, se apoyan en el postulado de que las observaciones realizadas en sistemas de referencias diferentes se pueden conectar a través de las denominadas **transformaciones de Galileo**:"
   ]
  },
  {
   "cell_type": "markdown",
   "metadata": {
    "label": "box:pos:transformaciones.galileo",
    "subtitle": "Transformaciones de Galileo",
    "tags": [
     "box_postulate",
     "box:pos:transformaciones.galileo"
    ],
    "title": "Postulado"
   },
   "source": [
    "> **Postulado: Transformaciones de Galileo.**<a id='box:pos:transformaciones.galileo'></a> Si dos sistemas de referencia, $R$ y $R'$ usan las mismas unidades y el origen de sus sistema de coordenadas coincide en $t=0$, las siguientes relaciones entre las propiedades cinemáticas básicas medidas en los dos sistemas de referencia, se consideran válidas (ver Figura ([transformaciones_galileo](#fig:transformaciones_galileo))):\n",
    "\n",
    "  \\begin{equation}\n",
    "  \\label{eq:transformaciones_galileo}\n",
    "  \\begin{array}{rcl}\n",
    "  t & = & t'\\\\\n",
    "  \\vec r & = & \\vec{r}' + \\vec u t\n",
    "  \\end{array}\n",
    "  \\end{equation}\n",
    "\n",
    "> Donde $\\vec{u}$ es la velocidad (constante) del origen de coordenadas del sistema $R'$ respecto del sistema $R$. "
   ]
  },
  {
   "cell_type": "markdown",
   "metadata": {},
   "source": [
    "<a id='fig:transformaciones_galileo'></a>![Construcción geométrica para deducir la regla de transformación de la posición $\\vec r$ de una partícula (circulo gris) entre dos sistemas de referencia inerciales (que se mueven uno respecto de otro con velocidad constante $\\vec u$.++t++0.5++\\label{fig:transformaciones_galileo}](./figures/square_transformaciones_galileo.png)\n",
    "\n",
    "<center><b>Figura 5.34</b>. Construcción geométrica para deducir la regla de transformación de la posición $</center>"
   ]
  },
  {
   "cell_type": "markdown",
   "metadata": {},
   "source": [
    "Estas transformaciones fundamentales, permiten escribir las reglas de transformación para cualquier otras propiedad cinemática, por ejemplo, para la velocidad y la aceleración:\n",
    "\n",
    "\\begin{eqnarray}\n",
    "\\label{eq:ley_adicion_velocidades}\n",
    "\\vec{v} & = & \\vec{v}'+\\vec u\\\\\n",
    "\\label{eq:ley_adicion_aceleraciones}\n",
    "\\vec{a} & = & \\vec{a}'\n",
    "\\end{eqnarray}\n",
    "\n",
    "La Ec. ([ley_adicion_velocidades](#mjx-eqn-eq%3Aley_adicion_velocidades)) se conoce como la **ley de adición de velocidades galileana** y tiene una importancia histórica en el desarrollo de los postulados de la teoría de la relatividad.  La Ec. ([ley_adicion_aceleraciones](#mjx-eqn-eq%3Aley_adicion_aceleraciones)) será importante en la definición, en las próximas secciones, del concepto de **sistema de referencia inercial**."
   ]
  },
  {
   "cell_type": "markdown",
   "metadata": {
    "tags": [
     "navigation"
    ]
   },
   "source": [
    "[Indice](index.ipynb) | Previo: [Mecanica](05.00.00.00.Mecanica.ipynb) | Siguiente: [Mecanica.Cinematica.SolucionEdM](05.01.02.00.Mecanica.Cinematica.SolucionEdM.ipynb)"
   ]
  }
 ],
 "metadata": {
  "celltoolbar": "Tags",
  "kernelspec": {
   "display_name": "Python 3",
   "language": "python",
   "name": "python3"
  },
  "language_info": {
   "codemirror_mode": {
    "name": "ipython",
    "version": 3
   },
   "file_extension": ".py",
   "mimetype": "text/x-python",
   "name": "python",
   "nbconvert_exporter": "python",
   "pygments_lexer": "ipython3",
   "version": "3.6.8"
  }
 },
 "nbformat": 4,
 "nbformat_minor": 2
}
