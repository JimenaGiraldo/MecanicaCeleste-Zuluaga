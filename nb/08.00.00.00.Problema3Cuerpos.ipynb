{
 "cells": [
  {
   "cell_type": "markdown",
   "metadata": {
    "tags": [
     "navigation"
    ]
   },
   "source": [
    "[Indice](index.ipynb) | Previo: [Problema2Cuerpos.ProblemasSeleccionados](07.07.00.00.Problema2Cuerpos.ProblemasSeleccionados.ipynb) | Siguiente: [Problema3Cuerpos.Motivacion](08.00.00.00.Problema3Cuerpos.Motivacion.ipynb)"
   ]
  },
  {
   "cell_type": "markdown",
   "metadata": {},
   "source": [
    "# 8. El problema restringido de los tres cuerpos\n",
    "<a id='problema_tres_cuerpos'></a>"
   ]
  },
  {
   "cell_type": "markdown",
   "metadata": {
    "label": "",
    "subtitle": "",
    "tags": [
     "box_summary"
    ],
    "title": "Resumen"
   },
   "source": [
    "> **Resumen:**<a id=''></a> En este capítulo revisaremos algunos de los resultados más importantes del problema restringido de los tres cuerpos, es decir el problema de predecir la posición de una partícula muy ligera sometida a la acción conjunta de dos partículas más masivas que se mueven una respecto a la otra en trayectorias Keplerianas.  Este es uno de los problemas más estudiados teóricamente en la mecánica celeste desde el tiempo de Newton.  Conoceremos aquí los conceptos de Constante de Jacobi, superficies de cero velocidad, puntos de equilibrio de Lagrange, radio de Hill, radio, límite y lóbulos de Roche. "
   ]
  },
  {
   "cell_type": "markdown",
   "metadata": {
    "tags": [
     "navigation"
    ]
   },
   "source": [
    "[Indice](index.ipynb) | Previo: [Problema2Cuerpos.ProblemasSeleccionados](07.07.00.00.Problema2Cuerpos.ProblemasSeleccionados.ipynb) | Siguiente: [Problema3Cuerpos.Motivacion](08.00.00.00.Problema3Cuerpos.Motivacion.ipynb)"
   ]
  }
 ],
 "metadata": {
  "celltoolbar": "Tags",
  "kernelspec": {
   "display_name": "Python 3",
   "language": "python",
   "name": "python3"
  },
  "language_info": {
   "codemirror_mode": {
    "name": "ipython",
    "version": 3
   },
   "file_extension": ".py",
   "mimetype": "text/x-python",
   "name": "python",
   "nbconvert_exporter": "python",
   "pygments_lexer": "ipython3",
   "version": "3.6.8"
  }
 },
 "nbformat": 4,
 "nbformat_minor": 2
}
