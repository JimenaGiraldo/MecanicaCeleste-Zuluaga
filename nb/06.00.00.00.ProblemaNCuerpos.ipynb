{
 "cells": [
  {
   "cell_type": "markdown",
   "metadata": {
    "tags": [
     "navigation"
    ]
   },
   "source": [
    "[Indice](index.ipynb) | Previo: [Mecanica.Dinamica.SistemaParticulas](05.02.02.00.Mecanica.Dinamica.SistemaParticulas.ipynb) | Siguiente: [ProblemaNCuerpos.Formulacion](06.01.00.00.ProblemaNCuerpos.Formulacion.ipynb)"
   ]
  },
  {
   "cell_type": "markdown",
   "metadata": {},
   "source": [
    "# 6. El Problema de los N cuerpos\n",
    "<a id='problema_ncuerpos'></a>"
   ]
  },
  {
   "cell_type": "markdown",
   "metadata": {
    "label": "",
    "subtitle": "",
    "tags": [
     "box_summary"
    ],
    "title": "Resumen"
   },
   "source": [
    "> **Resumen:**<a id=''></a> En este capítulo abordaremos el que podría considerarse el problema central de la mecánica celeste: predecir la evolución futura de un sistema de cuerpos que se atraen gravitacionalmente (los planetas del sistema solar, las estrellas de un cúmulo globular o las galaxias de un cúmulo galáctico). A este problema se lo conoce históricamente como el *problema de los N cuerpos*. Formularemos física y matemáticamente el problema general, estudiaremos a continuación su \"solución\" aproximada usando algoritmos numéricos y finalmente exploraremos algunas de sus propiedades matemáticas más generales. Para todo ello, nos valdremos de los principios y leyes de la mecánica newtoniana y de su aplicación usando fuerzas, cálculo vectorial y geometría (un enfoque que llamaremos en lo sucesico *formalismo vectorial* o *formalismo geométrico* de la mecánica celeste). Este capítulo sentará las bases numéricas y teóricas de los capítulos posteriores."
   ]
  },
  {
   "cell_type": "markdown",
   "metadata": {
    "tags": [
     "navigation"
    ]
   },
   "source": [
    "[Indice](index.ipynb) | Previo: [Mecanica.Dinamica.SistemaParticulas](05.02.02.00.Mecanica.Dinamica.SistemaParticulas.ipynb) | Siguiente: [ProblemaNCuerpos.Formulacion](06.01.00.00.ProblemaNCuerpos.Formulacion.ipynb)"
   ]
  }
 ],
 "metadata": {
  "celltoolbar": "Tags",
  "kernelspec": {
   "display_name": "Python 3",
   "language": "python",
   "name": "python3"
  },
  "language_info": {
   "codemirror_mode": {
    "name": "ipython",
    "version": 3
   },
   "file_extension": ".py",
   "mimetype": "text/x-python",
   "name": "python",
   "nbconvert_exporter": "python",
   "pygments_lexer": "ipython3",
   "version": "3.6.8"
  }
 },
 "nbformat": 4,
 "nbformat_minor": 2
}
