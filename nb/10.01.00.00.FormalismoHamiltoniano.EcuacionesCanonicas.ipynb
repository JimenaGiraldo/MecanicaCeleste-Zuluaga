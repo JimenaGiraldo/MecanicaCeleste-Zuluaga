{
 "cells": [
  {
   "cell_type": "markdown",
   "metadata": {
    "tags": [
     "navigation"
    ]
   },
   "source": [
    "[Indice](index.ipynb) | Previo: [FormalismoHamiltoniano.Motivacion](10.00.00.00.FormalismoHamiltoniano.Motivacion.ipynb) | Siguiente: [FormalismoHamiltoniano.EspacioFase](10.02.00.00.FormalismoHamiltoniano.EspacioFase.ipynb)"
   ]
  },
  {
   "cell_type": "markdown",
   "metadata": {},
   "source": [
    "## 10.2. Las ecuaciones de Hamilton\n",
    "<a id='ecuaciones_hamilton'></a>"
   ]
  },
  {
   "cell_type": "markdown",
   "metadata": {},
   "source": [
    "Las ecuaciones de Euler-Lagrange:\n",
    "\n",
    "$$\n",
    "\\left\\{ \\frac{\\mathrm{d}}{\\mathrm{d}t} \\left(\\frac{\\partial L}{\\partial \\dot{q}_j} \\right) - \\frac{\\partial L}{\\partial q_j} =  0\\right\\}_M\n",
    "$$\n",
    "son ecuaciones de segundo orden que hacen que el espacio de configuración sea degenerado. El problema que nos proponemos ahora resolver es encontrar un sistema de ecuaciones equivalente que sea de primer orden."
   ]
  },
  {
   "cell_type": "markdown",
   "metadata": {},
   "source": [
    "Una primera idea podría ser la de usar una sustición análoga a la que usamos para la linearización de ecuaciones diferenciales ordinarias de segundo orden. Así, por ejemplo podría bastar con introducir como variables auxiliares los que llamaremos en lo sucesivo **momentos canónicos conjugados**:\n",
    "\n",
    "$$\n",
    "p_j\\equiv \\frac{\\partial L}{\\partial \\dot{q}_j}\n",
    "$$"
   ]
  },
  {
   "cell_type": "markdown",
   "metadata": {},
   "source": [
    "Si usando esta identidad podemos invertir las coordenadas y velocidades generalizadas para escribir funciones del tipo:\n",
    "\n",
    "$$\n",
    "\\dot q_j=\\dot q_j(\\{q_k\\},\\{p_k\\})\n",
    "$$\n",
    "el Lagrangiano podría expresarse como función de $q_j$ y $p_j$:\n",
    "\n",
    "$$\n",
    "L_{qp}(\\{q_j\\},\\{p_j\\})\\equiv L(\\{q_j\\},\\dot q_j(\\{q_k\\},\\{p_k\\}),t)\n",
    "$$"
   ]
  },
  {
   "cell_type": "markdown",
   "metadata": {},
   "source": [
    "Nótese que en la definición anterior hemos cambiado el nombre del Lagrangiano clásico $L$, que depende de las variables generalizadas $q$ y sus velocidades $\\dot q$, por $L_{qp}$ para que sea claro que este último lagrangiano que depende del nuevo conjunto de variables.  Estos dos largangianos son matemáticamente diferentes y no deben nunca confundirse."
   ]
  },
  {
   "cell_type": "markdown",
   "metadata": {},
   "source": [
    "Reemplazando en las ecuaciones de Euler-Lagrange y despejando $\\dot{p}_j$, obtenemos el conjunto de ecuaciones diferenciales de primer orden:\n",
    "\n",
    "\\begin{equation}\n",
    "\\label{eq:dotp_Lqp}\n",
    "\\left\\{ \\dot p_j = \\frac{\\partial L_{qp}}{\\partial q_j} \\right\\}_M\n",
    "\\end{equation}"
   ]
  },
  {
   "cell_type": "markdown",
   "metadata": {},
   "source": [
    "Para ilustrar este aparentemente confuso cambio de variables, consideremos nuevamente el caso del oscilador armónico simple.  El Lagrangiano del sistema es:\n",
    "\n",
    "$$\n",
    "L_\\mathrm{MAS}(x,\\dot x)=\\frac{1}{2}m\\dot x^2-\\frac{1}{2}kx^2\n",
    "$$"
   ]
  },
  {
   "cell_type": "markdown",
   "metadata": {},
   "source": [
    "Si introducimos la nueva variable auxiliar:\n",
    "\n",
    "$$\n",
    "p_x\\equiv\\frac{\\partial L}{\\partial\\dot x}=m\\dot x\n",
    "$$\n",
    "el lagrangiano modificado queda:\n",
    "\n",
    "$$\n",
    "L_{\\mathrm{MAS},xp}=\\frac{1}{2m}p_x^2-\\frac{1}{2}kx^2\n",
    "$$"
   ]
  },
  {
   "cell_type": "markdown",
   "metadata": {},
   "source": [
    "La ecuación de movimiento linearizada (Ec. [dotp_Lqp](#mjx-eqn-eq%3Adotp_Lqp)) queda:\n",
    "\n",
    "\\begin{eqnarray}\n",
    "\\nonumber\n",
    "\\dot p_x & = & \\frac{\\partial L_{xp}}{\\partial x}\\\\\n",
    "\\nonumber\n",
    "& = & -kx\n",
    "\\end{eqnarray}"
   ]
  },
  {
   "cell_type": "markdown",
   "metadata": {},
   "source": [
    "Hasta aquí todo parece andar a las mil maravillas, excepto por un inconveniente: $M$ ecuaciones dirferenciales de segundo orden (las ecuaciones de Euler-Lagrange) no son equivalentes a $M$ ecuaciones de primer orden (las ecuaciones para las nuevas variables $\\{p_j\\}$, Ecs. [dotp_Lqp](#mjx-eqn-eq%3Adotp_Lqp)).  Hace falta todavía otras $M$ ecuaciones diferenciales que describan la variación de las variables generalizadas, $q_j$. "
   ]
  },
  {
   "cell_type": "markdown",
   "metadata": {},
   "source": [
    "Cuando linearizamos ecuaciones diferenciales ordinarias, las definiciones mismas de las variables auxiliares, por ejemplo $v_x=\\dot x$ en el caso del oscilador armónico simple, eran en si mismas ecuaciones diferenciales del sistema."
   ]
  },
  {
   "cell_type": "markdown",
   "metadata": {},
   "source": [
    "Si bien podría decirse que nuestra definición de los momentos canónicos conjugados,\n",
    "\n",
    "$$\\left\\{p_j=\\frac{\\partial L}{\\partial\\dot q_j}\\right\\}_M$$\n",
    "es intrínsecamente un conjunto de ecuaciones diferenciales de primer orden, en tanto el lagrangiano depende de $\\{\\dot q_j\\}$, buscamos un sistema de ecuaciones que sea mucho más simétrico."
   ]
  },
  {
   "cell_type": "markdown",
   "metadata": {},
   "source": [
    "¿Podría existir un sistema de ecuaciones diferenciales análogo a las (Ecs. \\label{eq:dotp_Lqp}) para el caso de las variables generalizadas?. En particular, podríamos escribir:\n",
    "\n",
    "$$\n",
    "\\left\\{ \\dot q_j = \\frac{\\partial L_{qp}}{\\partial p_j} \\right\\}_M\\;{\\rm ?}\n",
    "$$"
   ]
  },
  {
   "cell_type": "markdown",
   "metadata": {},
   "source": [
    "Veamos precisamente qué es $\\partial L_{qp}/\\partial p_j$.  Por la regla de la cadena:\n",
    "\n",
    "$$\n",
    "\\frac{\\partial L_{qp}}{\\partial p_j}=\\sum_k \\frac{\\partial L}{\\partial \\dot q_k}\\frac{\\partial \\dot q_k}{\\partial p_j}=\\sum_k p_k\\frac{\\partial \\dot q_k}{\\partial p_j}\n",
    "$$\n",
    "\n",
    "Nótese que en esta última expresión $\\dot q_j$ es una función $\\dot q_j(\\{q_k\\},\\{p_k\\})$ y no una variable cualquiera."
   ]
  },
  {
   "cell_type": "markdown",
   "metadata": {},
   "source": [
    "Otra manera de escribir la expresión anterior es hacerlo en la forma:\n",
    "\n",
    "$$\n",
    "\\frac{\\partial L_{qp}}{\\partial p_j}=\\sum_k \\frac{\\partial}{\\partial p_j}(p_k \\dot q_k)-\\dot q_j\n",
    "$$"
   ]
  },
  {
   "cell_type": "markdown",
   "metadata": {},
   "source": [
    "Despejando $\\dot q_j$ obtenemos:\n",
    "\n",
    "$$\n",
    "\\dot q_j=\\sum_k \\frac{\\partial}{\\partial p_j}(p_k \\dot q_k)-\\frac{\\partial L_{qp}}{\\partial p_j}\n",
    "$$\n",
    "es decir, el sueño de tener dos conjuntos de ecuaciones diferenciales de primer orden tanto para $p_j$ como para $q_j$ con una estructura similar no es posible."
   ]
  },
  {
   "cell_type": "markdown",
   "metadata": {},
   "source": [
    "Sin embargo, si juntamos los términos del lado derecho de la ecuación anterior, arribamos a la siguiente ecuación:\n",
    "\n",
    "$$\n",
    "\\left\\{ \\dot q_j = \\frac{\\partial H}{\\partial p_j} \\right\\}_M\n",
    "$$\n",
    "en la que hemos introducido una nueva función:\n",
    "\n",
    "\\begin{equation}\n",
    "\\label{eq:H_L}\n",
    "H(\\{q_j\\},\\{p_j\\},t)\\equiv\\sum_k p_k \\dot q_k(\\{q_l\\},\\{p_l\\},t)-L_{qp}(\\{q_l\\},\\{p_l\\},t)\n",
    "\\end{equation}\n",
    "A esta nueva función la llamaremos el **Hamiltoniano del sistema**."
   ]
  },
  {
   "cell_type": "markdown",
   "metadata": {
    "label": "",
    "subtitle": "El Hamiltoniano no es la función de Jacobi",
    "tags": [
     "box_note"
    ],
    "title": "Nota"
   },
   "source": [
    "> **Nota: El Hamiltoniano no es la función de Jacobi.**<a id=''></a> Nótese la similaridad del Hamiltoniano con la función de Jacobi $h$ que habíamos definido en la [Sección *La función de Jacobi y la conservación de la energía*](09.05.00.00.FormalismoLagrangiano.Simetrias.ipynb#funcion_jacobi). Es importante, sin embargo insistir en que ambas funciones son sutilmente diferentes.  La función de Jacobi depende de las coordenadas y velocidad generalizadas, así como del Lagrangiano clásico.  En sistemas que cumplen las condiciones del teorema de conservación de la energía, esta función constituye una cuadratura del sistema (constante de movimiento).  Por otro lado el Hamiltoniano del sistema depende de las coordenadas y los momentos canónicos conjugados (tratados estos como variables independientes) y del Lagrangiano modificado.\n",
    "\n",
    "> Para el movimiento armónico simple, por ejemplo, la función de Jacobi es:\n",
    "\n",
    "> $$\n",
    "  h(x,\\dot x)=\\frac{1}{2}m\\dot x^2-\\frac{1}{2}k x^2\n",
    "  $$\n",
    "  \n",
    "> mientras que el Hamiltoniano se escribe:\n",
    "\n",
    "> $$\n",
    "  H(x,p_x)=\\frac{p_x^2}{2m}-\\frac{1}{2}k x^2\n",
    "  $$"
   ]
  },
  {
   "cell_type": "markdown",
   "metadata": {},
   "source": [
    "En síntesis, la dinámica de cualquier sistema dinámico (para el cuál se pueda escribir un Lagrangiano) se puede describir con el siguiente conjunto de $2M$ ecuaciones diferenciales de primer orden:\n",
    "\n",
    "\\begin{eqnarray}\n",
    "\\left\\{\\dot q_j = \\frac{\\partial H}{\\partial p_j}\\right\\}_M \\\\\n",
    "\\left\\{\\dot p_j = \\frac{\\partial L_{qp}}{\\partial q_j}\\right\\}_M \\\\  \n",
    "\\end{eqnarray}\n",
    "\n",
    "Llamamos aquí a este conjunto de ecuaciones, las **ecuaciones de Hamilton**."
   ]
  },
  {
   "cell_type": "markdown",
   "metadata": {},
   "source": [
    "Hemos logrado nuestro objetivo: la dinámica del sistema dinámico se puede ahora escribir con un conjunto de ecuaciones diferenciales de primer orden.  Estas ecuaciones están definidas sobre el espacio geométrico que definen las variables generalizadas $\\{q_j\\}$ y sus momentos canónicos conjugados $\\{p_j\\}$.  Este espacio no es degenerado y lo llamaremos en lo sucesivo el **espacio de fase** del sistema."
   ]
  },
  {
   "cell_type": "markdown",
   "metadata": {
    "label": "",
    "subtitle": "De la óptica a la mecánica**. *El formalismo hamiltoniano surgió en realidad del interés de su creador William Rowan Hamilton (\"jamilton\") (1805-1865) por la óptica.  Toda su teoría fue publicada en un libro llamado \"Toería de los sistemas de rayos\", el primero de los cuáles se publico incluso cuando Hamilton todavía era estudiante de pregrado en el Trinity College en Dublin (Escocia).  En este trabajo también esbozaba el método de Hamilton Jacobi que veremos más adelante en este capítulo y la primera formulación en la historia del principio que lleva su nombre, el **principio de Hamilton** también conocido hoy como **principio de acción estacionaria** o **principio de mínima acción",
    "tags": [
     "box_history"
    ],
    "title": "Un poco de historia"
   },
   "source": [
    "> **Un poco de historia: De la óptica a la mecánica**. *El formalismo hamiltoniano surgió en realidad del interés de su creador William Rowan Hamilton (\"jamilton\") (1805-1865) por la óptica.  Toda su teoría fue publicada en un libro llamado \"Toería de los sistemas de rayos\", el primero de los cuáles se publico incluso cuando Hamilton todavía era estudiante de pregrado en el Trinity College en Dublin (Escocia).  En este trabajo también esbozaba el método de Hamilton Jacobi que veremos más adelante en este capítulo y la primera formulación en la historia del principio que lleva su nombre, el **principio de Hamilton** también conocido hoy como **principio de acción estacionaria** o **principio de mínima acción.**<a id=''></a> El genio de Hamilton fue reconozido desde muy temprano.  Su capacidad para entender idiomas clásicos o para encontrar errores en los trabajos de matemáticos muy famosos impresiono a muchos.  En un evento sin precedentes la Universidad en Dublin le ofreció la posición de profesor cuando todavía era un estudiante de pregrado.  Él también llego a ser el Astrónomo Real de Irlanda, lo que le permitió vivir en el observatorio de Dunskink aunque rara vez hizo alguna observación el mismo.  Desafortunadamente, los últimos años de la vida de Hamilton no fueron los más felices.  La mujer a la que amaba se caso con otra persona lo que lo llevo a una depresión, se sumergió en el alcohol, la mala poesía y los cuaterniones.*[$^1$](11.00.00.00.ApendiceAlgoritmos.ipynb#notaspie_1)"
   ]
  },
  {
   "cell_type": "markdown",
   "metadata": {},
   "source": [
    "<a id='fig:william_hamilton'></a>![Retrato de William Rowan Hamilton a mediados de los 1800.++t!++0.7++\\label{fig:william_hamilton}](./figures/vertical_william_hamilton.png)\n",
    "\n",
    "<center><b>Figura 10.171</b>. Retrato de William Rowan Hamilton a mediados de los 1800.</center>"
   ]
  },
  {
   "cell_type": "markdown",
   "metadata": {},
   "source": [
    "## 10.3. Las ecuaciones canónicas de Hamilton\n",
    "<a id='ecuaciones_canonicas'></a>"
   ]
  },
  {
   "cell_type": "markdown",
   "metadata": {},
   "source": [
    "Pero hay un defecto de las ecuaciones de Hamilton: no son en realidad el conjunto de ecuaciones diferenciales de primer orden más simple que podemos encontrar equivalentes a las ecuaciones de Euler-Lagrange.  Para describir el movimiento de un sistema dinámico usando las ecuaciones de Hamilton, es necesario encontrar dos funciones (interrelacionadas), $L_{qp}$ y $H$.  ¿Existirá alguna manera de describir la dinámica en términos de una sola función?."
   ]
  },
  {
   "cell_type": "markdown",
   "metadata": {},
   "source": [
    "La transformación de coordenadas:\n",
    "\n",
    "$$\n",
    "p_j\\equiv \\frac{\\partial L}{\\partial \\dot{q}_j}\n",
    "$$\n",
    "tiene una forma conocida en física-matemática como *transformación de Legendre*.  El uso de este tipo de transformaciones de coordenadas es común en termodinámica para cambiar de un conjunto de variables de estado a otro."
   ]
  },
  {
   "cell_type": "markdown",
   "metadata": {},
   "source": [
    "Considere la función Hamiltoniana $H(\\{q_j\\},\\{p_j\\},t)$ cuyo diferencial total se puede escribir en general como:\n",
    "\n",
    "\\begin{equation}\n",
    "\\label{eq:dH_definicion}\n",
    "\\mathrm{d}H=\\sum_j \\frac{\\partial H}{\\partial q_j}\\mathrm{d}q_j+\\frac{\\partial H}{\\partial p_j}\\mathrm{d}p_j+\\frac{\\partial H}{\\partial t}\\mathrm{d}t\n",
    "\\end{equation}"
   ]
  },
  {
   "cell_type": "markdown",
   "metadata": {},
   "source": [
    "Por otro lado, por la definición misma del Hamiltoniano:\n",
    "\n",
    "$$H(\\{q_j\\},\\{p_j\\},t)\\equiv\\sum_k p_k \\dot q_k(\\{q_l\\},\\{p_l\\},t)-L_{qp}(\\{q_l\\},\\{p_l\\},t)$$ \n",
    "otra forma del diferencial total será:\n",
    "\n",
    "$$\n",
    "\\mathrm{d}H=\\sum_k (\\dot q_k \\mathrm{d}p_k+p_k \\mathrm{d}\\dot q_k)-\\sum_j \\left(\\frac{\\partial L}{\\partial q_k}\\mathrm{d}q_k+\\frac{\\partial L}{\\partial \\dot q_k}\\mathrm{d}\\dot q_k+\\frac{\\partial L}{\\partial t}\\mathrm{d}t\\right)\n",
    "$$"
   ]
  },
  {
   "cell_type": "markdown",
   "metadata": {},
   "source": [
    "Este último diferencial contiene sin embargo la incómoda (y fuera de lugar) variable $\\dot{q}_k$.  Una forma de eliminarla es justamente usando la transformación de Legandre $p_j=\\partial L/\\partial\\dot q_j$ y la ecuación de Euler-Lagrange $\\dot p_j=\\partial L/\\partial q_j$ en la ecuación anterior para obtener:\n",
    "\n",
    "\\begin{equation}\n",
    "\\label{eq:dH_L}\n",
    "\\mathrm{d}H=\\sum_k \\left(\\dot q_k \\mathrm{d}p_k-\\dot p_k \\mathrm{d}q_k+\\frac{\\partial L}{\\partial t}\\mathrm{d}t\\right)\n",
    "\\end{equation}"
   ]
  },
  {
   "cell_type": "markdown",
   "metadata": {},
   "source": [
    "Dado que las variables $p_k$, $q_k$ y $t$ son completamente independientes, los coeficientes que acompañan el diferencial de las Ecs. ([dH_definicion](#mjx-eqn-eq%3AdH_definicion)) y ([dH_L](#mjx-eqn-eq%3AdH_L)) serán iguales.  Esta condición conduce al conjunto de ecuaciones:\n",
    "\n",
    "\\begin{eqnarray}\n",
    "\\label{eq:dq_H}\n",
    "\\left\\{\\dot q_j = +\\frac{\\partial H}{\\partial p_j}\\right\\}_M\\\\\n",
    "\\label{eq:dp_H}\n",
    "\\left\\{\\dot p_j = -\\frac{\\partial H}{\\partial q_j}\\right\\}_M\\\\\n",
    "\\end{eqnarray}\n",
    "con la propiedad adicional\n",
    "$$\n",
    "\\frac{\\partial H}{\\partial t}=-\\frac{\\partial L_{qp}}{\\partial t}\n",
    "$$"
   ]
  },
  {
   "cell_type": "markdown",
   "metadata": {},
   "source": [
    "Las Ecuaciones ([dq_H](#mjx-eqn-eq%3Adq_H)) y ([dp_H](#mjx-eqn-eq%3Adp_H)), que son también un conjunto de $2M$ ecuaciones diferenciales lineales ordinarias equivalentes a las ecuaciones de Euler-Lagrange, como las ecuaciones de Hamilton deducidas en la sección anterior, solo necesitan que se específique una función, el Hamiltoniano para determinar completamente (a través de las ecuaciones anteriores) la dinámica del sistema.  Llamamos a este sistema conjunto de ecuaciones, las **ecuaciones canónicas de Hamilton**."
   ]
  },
  {
   "cell_type": "markdown",
   "metadata": {
    "label": "",
    "subtitle": "Variables canónicas conjugadas**. Dos cantidades físicas cuya dinámica se relaciona a través de las ecuaciones canónicas de Hamilton, se dice que son **variables canónicas conjugadas",
    "tags": [
     "box_definition"
    ],
    "title": "Definición"
   },
   "source": [
    "> **Definición 11.22. Variables canónicas conjugadas**. Dos cantidades físicas cuya dinámica se relaciona a través de las ecuaciones canónicas de Hamilton, se dice que son **variables canónicas conjugadas.**<a id=''></a> En sistemas dinámicos y en el formalismo hamiltoniano, $p_j$ es el *momento canónico conjugado* de $q_j$.  Sin embargo, esta terminología es utilizada en otras aplicaciones de la física moderna (no solamente en mecánica analítica) donde la función no necesariamente es el Hamiltoniano $H$."
   ]
  },
  {
   "cell_type": "markdown",
   "metadata": {},
   "source": [
    "## 10.4. El principio de Hamilton modificado\n",
    "<a id='principio_hamilton_modificado'></a>"
   ]
  },
  {
   "cell_type": "markdown",
   "metadata": {},
   "source": [
    "La deducción de las ecuaciones canónicas de Hamilton que realizamos en la sección anterior ha seguido un procedimiento de naturaleza *heurística*.  El resultado surgió como respuesta a nuestra búsqueda de la forma más simple de un conjunto de ecuaciones diferenciales de primer orden equivalente a las ecuaciones de Euler-Lagrange.  ¿Existe alguna manera de deducir estas ecuaciones desde primeros principios?."
   ]
  },
  {
   "cell_type": "markdown",
   "metadata": {},
   "source": [
    "En el [Capítulo *El formalismo lagrangiano*](09.00.00.00.FormalismoLagrangiano.ipynb#formalismo_lagrangiano) habíamos comprobado que las ecuaciones de ese formalismo, es decir las ecuaciones de Euler-Lagrange, podían obtenerse a partir del **principio de Hamilton** que establece que la acción es estacionaria a lo largo de la trayectoria real del sistema.  Matemáticamente:\n",
    "\n",
    "$$\n",
    "\\delta\\int_{t_1}^{t_2} L(\\{q_j\\},\\{\\dot{q}_j\\},t) dt = 0\n",
    "$$"
   ]
  },
  {
   "cell_type": "markdown",
   "metadata": {},
   "source": [
    "Por definición sabemos que la función Hamiltoniana se relaciona con el Lagrangiano a través de la Ec. ([H_L](#mjx-eqn-eq%3AH_L)):\n",
    "\n",
    "$$\n",
    "H(\\{q_j\\},\\{p_j\\},t)=\\sum p_k\\dot{q}_k - L_{qp}(\\{q_j\\},\\{\\dot{q}_j\\},t)\n",
    "$$\n",
    "o lo que es lo mismo:\n",
    "\n",
    "$$\n",
    "L_{qp}(\\{q_j\\},\\{\\dot{q}_j\\},t)=\\sum p_k\\dot{q}_k - H(\\{q_j\\},\\{p_j\\},t)\n",
    "$$"
   ]
  },
  {
   "cell_type": "markdown",
   "metadata": {},
   "source": [
    "Si reemplazamos $L_{pq}$ usando la relación anterior, en la fórmula para la acción[$^2$](#notaspie_2), obtenemos:\n",
    "\n",
    "\\begin{equation}\n",
    "\\label{eq:principio_hamilton_modificado}\n",
    "\\delta\\int_{t_1}^{t_2} \\left[\\sum p_k\\dot{q}_k - H(\\{q_j\\},\\{p_j\\},t)\\right] dt = 0\n",
    "\\end{equation}\n",
    "\n",
    "A este resultado se lo conoce como el **principio de Hamilton modificado**."
   ]
  },
  {
   "cell_type": "markdown",
   "metadata": {},
   "source": [
    "Pero ¿qué puede tener de útil modificar el principio de Hemilton?.  Una respuesta inmediata a esta pregunta es que la aplicación del cálculo variacional sobre este principio puede darnos justamente lo que estamos buscando: las ecuaciones canónicas."
   ]
  },
  {
   "cell_type": "markdown",
   "metadata": {},
   "source": [
    "En el principio de Hamilton modificado la función en el integrando es mucho más completa que el lagrangiano en el principio original.  Podemos escribir el principio modificado como:\n",
    "\n",
    "\\begin{equation}\n",
    "\\label{eq:integrando_hamilton_modificado}\n",
    "\\delta\\int_{t_1}^{t_2} f(\\{q_k\\},\\{p_k\\},\\{\\dot{q}_k\\},\\{\\dot{p}_k\\},t) dt = 0\n",
    "\\end{equation}\n",
    "donde\n",
    "\n",
    "\\begin{equation}\n",
    "\\label{eq:funcionf_hamilton_modificado}\n",
    "f(\\{q_k\\},\\{p_k\\},\\{\\dot{q}_k\\},\\{\\dot{p}_k\\},t)=\\sum p_k\\dot{q}_k - H(\\{q_j\\},\\{p_j\\},t)\n",
    "\\end{equation}"
   ]
  },
  {
   "cell_type": "markdown",
   "metadata": {},
   "source": [
    "La Ecuacion ([integrando_hamilton_modificado](#mjx-eqn-eq%3Aintegrando_hamilton_modificado)), no es muy distinta del principio de Hamilton original, donde ahora la función $f$ juega el papel del Lagrangiano y las variables generalizadas se han ahora duplicado en número para incluir los momentos canónicos conjugados.  La función $f$ cumple entonces con las ecuaciones de Euler que podemos escribir como:\n",
    "\n",
    "$$\n",
    "\\left\\{ \\frac{\\mathrm{d}}{\\mathrm{d}t} \\left(\\frac{\\partial f}{\\partial \\dot{q}_j} \\right) - \\frac{\\partial f}{\\partial q_j} =  0\\right\\}_M\n",
    "$$\n",
    "\n",
    "$$\n",
    "\\left\\{ \\frac{\\mathrm{d}}{\\mathrm{d}t} \\left(\\frac{\\partial f}{\\partial \\dot{p}_j} \\right) - \\frac{\\partial f}{\\partial p_j} =  0\\right\\}_M\n",
    "$$"
   ]
  },
  {
   "cell_type": "markdown",
   "metadata": {},
   "source": [
    "Reemplazando $f$ en las ecuaciones anteriores y teniendo en cuenta que $H$ no depende ni de $\\dot{q}_j$ ni de $\\dot{p}_j$, obtenemos:\n",
    "\n",
    "\\begin{eqnarray}\n",
    "\\nonumber\n",
    "\\dot{p}_j+\\frac{\\partial H}{\\partial q_j} & = & 0\\\\\n",
    "-\\dot{q}_j+\\frac{\\partial H}{\\partial p_j} & = & 0\\\\\n",
    "\\end{eqnarray}\n",
    "que no son otra cosa que las ecuaciones canónicas de Hamilton."
   ]
  },
  {
   "cell_type": "markdown",
   "metadata": {},
   "source": [
    "En síntesis, las ecuaciones canónicas de Hamilton, como las ecuaciones de Euler-Lagrange, se pueden obtener también de un principio geométrico, el principio de Hamilton modificado.  Volveremos sobre este principio en la [Sección *Transformaciones canónicas*](10.03.00.00.FormalismoHamiltoniano.TransformacionesCanonicas.ipynb#transformaciones_canonicas)."
   ]
  },
  {
   "cell_type": "markdown",
   "metadata": {
    "tags": [
     "footnote"
    ]
   },
   "source": [
    "**NOTAS AL PIE:**\n",
    "\n",
    "<a id='notaspie_1'></a>\n",
    "1. Traducido y adaptado de las notas de *Classical Dynamics*, Dr. David Tong, Universidad de Cambride, Disponible en línea en: https://es.scribd.com/document/53163687/dynamics-clas\n",
    "\n",
    "<a id='notaspie_2'></a>\n",
    "2. Es importante aclarar que el hecho básico expresado por el principio de Hamilton, a saber que la acción sea estacionaria a través de la trayectoria real, no depende de si calculamos el Lagrangiano como función de las variables $q$ y $\\dot{q}$ o si lo hacemos en su lugar con las variables $q$ y $p$.\n",
    "\n"
   ]
  },
  {
   "cell_type": "markdown",
   "metadata": {
    "tags": [
     "navigation"
    ]
   },
   "source": [
    "[Indice](index.ipynb) | Previo: [FormalismoHamiltoniano.Motivacion](10.00.00.00.FormalismoHamiltoniano.Motivacion.ipynb) | Siguiente: [FormalismoHamiltoniano.EspacioFase](10.02.00.00.FormalismoHamiltoniano.EspacioFase.ipynb)"
   ]
  }
 ],
 "metadata": {
  "celltoolbar": "Tags",
  "kernelspec": {
   "display_name": "Python 3",
   "language": "python",
   "name": "python3"
  },
  "language_info": {
   "codemirror_mode": {
    "name": "ipython",
    "version": 3
   },
   "file_extension": ".py",
   "mimetype": "text/x-python",
   "name": "python",
   "nbconvert_exporter": "python",
   "pygments_lexer": "ipython3",
   "version": "3.6.8"
  }
 },
 "nbformat": 4,
 "nbformat_minor": 2
}
