{
 "cells": [
  {
   "cell_type": "markdown",
   "metadata": {
    "tags": [
     "navigation"
    ]
   },
   "source": [
    "[Indice](index.ipynb) | Previo: [ProblemaNCuerpos.ConstantesMovimiento.Energia](05.02.01.00.ProblemaNCuerpos.ConstantesMovimiento.Energia.ipynb) | Siguiente: [ProblemaNCuerpos.SolucionNumerica](05.03.00.00.ProblemaNCuerpos.SolucionNumerica.ipynb)"
   ]
  },
  {
   "cell_type": "markdown",
   "metadata": {},
   "source": [
    "## 5.3. El teorema del Virial\n",
    "<a id='ncuerpos_teorema_virial'></a>"
   ]
  },
  {
   "cell_type": "markdown",
   "metadata": {},
   "source": [
    "En la última sección le pusimos números a una de las más importantes constantes de movimiento en el problema de los N cuerpos: la Energía.  Para hacerlo, calculamos la energía mecánica total del sistema Tierra-Luna y encontramos, contra toda intuición, que era negativa.  La interpretación de este resultado nos condujo a entender que el signo de la energía en el sistema indica que *hace falta* energía para separar a la Tierra y la Luna a una distancia enorme; o dicho en otros términos, que *el valor negativo de la energía de un sistema de dos partículas indica que la distancia entre las partículas esta acotada y forman un sistema ligado*."
   ]
  },
  {
   "cell_type": "markdown",
   "metadata": {},
   "source": [
    "Este interesante resultado, aunque parece obvio, es evidencia de una afirmación que hemos repetido a lo largo de este capítulo: las constantes de movimiento o integrales en el problema de los N cuerpos, no necesariamente proveen toda la información necesaria para saber dónde estarán las cuerpos en el futuro, pero ofrecen pistas *útiles* sobre el destino del sistema."
   ]
  },
  {
   "cell_type": "markdown",
   "metadata": {},
   "source": [
    "¿Podríamos generalizar la interpretación del signo de la energía en el sistema Tierra-Luna a sistema formados por un número arbitrario de partículas?"
   ]
  },
  {
   "cell_type": "markdown",
   "metadata": {},
   "source": [
    "Para responder a esta pregunta debemos identificar o definir primero una cantidad física que nos ayude a evaluar la afirmación \"las partículas se encuentran a una distancia finita\".  \n",
    "\n",
    "No es difícil descubrir que el momento de inercia total del sistema puede cumplir esta función:\n",
    "\n",
    "$$\n",
    "I\\equiv \\sum_i m_i \\vec{r}_i^2\n",
    "$$\n",
    "\n",
    "En términos de $I$,  el sistema tenderá a disgregarse, si para $t\\rightarrow \\infty$, el momento de inercia $I\\rightarrow \\infty$.  Al contrario, el sistema colapsará totalmente, si, en algún tiempo finito $t_\\mathrm{c}$, el momento de inercia $I\\rightarrow 0$ .  Un sistema *ligado* (que no se disgrega, ni colapsa), será aquel que se encuentra entre estos dos extremos."
   ]
  },
  {
   "cell_type": "markdown",
   "metadata": {},
   "source": [
    "¿Cómo evoluciona $I$?  Podemos saberlo si encontramos sus primeras derivadas respecto al tiempo:\n",
    "\n",
    "$$\n",
    "\\dot I=2\\sum_i m_i \\vec{r}_i\\cdot\\dot{\\vec{r}}_i\n",
    "$$\n",
    "\n",
    "Esta primera derivada no parece proveer mucha información.  Podemos intentar con la segunda derivada:\n",
    "\n",
    "\\begin{eqnarray}\n",
    "\\nonumber\n",
    "\\ddot I & = & 2\\sum_i m_i {\\dot{\\vec{r}}_i}^2 + 2\\sum_i \\vec{r}_i\\cdot (m_i \\ddot{\\vec{r}}_i)\\\\\n",
    "\\label{eq:I_K_U}\n",
    "        & = & 2\\sum_i m_i {\\dot{\\vec{r}}_i}^2 - 2\\sum_i \\vec{r}_i\\cdot\\frac{\\partial U}{\\partial\\vec{r}_i}\n",
    "\\end{eqnarray}\n",
    "\n",
    "Esta parece más interesante, por cuanto reconocemos en ella cantidades físicas que habíamos encontrado antes, por ejemplo la energía cinética $K=\\sum_i m_i {\\dot{\\vec{r}}_i}^2/2$ y la energía potencial."
   ]
  },
  {
   "cell_type": "markdown",
   "metadata": {},
   "source": [
    "En este punto es interesante introducir un resultado que será de utilidad en varias partes del libro y que se conoce como el **Teorema de funciones homogéneas de Euler**."
   ]
  },
  {
   "cell_type": "markdown",
   "metadata": {
    "subtitle": "Teorema de funciones homogeneas de de Euler",
    "tags": [
     "box_theorem"
    ],
    "title": "Teorema"
   },
   "source": [
    "> **:Teorema: Teorema de funciones homogeneas de de Euler.** Si una función multivariada $f(\\{x_i\\}_N)$ es tal que $f(\\{\\lambda x_i\\}_N)=\\lambda^k f(\\{x_i\\}_N)$, entonces es cierto que:\n",
    "\n",
    "  $$\n",
    "  \\sum_i x_i \\frac{\\partial f}{\\partial x_i} = k f\n",
    "  $$\n",
    "  \n",
    "> A las funciones que cumplen esta condición se las conoce como *funciones homogéneas*."
   ]
  },
  {
   "cell_type": "markdown",
   "metadata": {},
   "source": [
    "Es fácil mostrar que la función de energía potencial newtoniana $U(\\{\\vec{r}_i\\}$ definida en la Ec. ([U_no_restringido](#mjx-eqn-eq%3AU_no_restringido)) es una función homogénea con $k=-1$ y por tanto:\n",
    "\n",
    "$$\n",
    "\\sum_i \\vec{r}_i\\cdot\\frac{\\partial U}{\\partial\\vec{r}_i}=-U\n",
    "$$\n",
    "\n",
    "Y con esta propiedad la Ec. ([I_K_U](#mjx-eqn-eq%3AI_K_U)) se convierte en la que es conocida como la **Identidad de Lagrange-Jacobi**:\n",
    "\n",
    "\\begin{equation}\n",
    "\\label{eq:identidad_lagrange_jacobi}\n",
    "\\begin{array}{ccc}\n",
    "\\ddot I & = & 4K+2U \\\\\n",
    "        & = & 4E-2U \\\\\n",
    "        & = & 2K+2E \\\\\n",
    "\\end{array}\n",
    "\\end{equation}\n",
    "\n",
    "Donde hemos usado el hecho que $E=K+U$ para escribir las dos últimas formas de la identidad."
   ]
  },
  {
   "cell_type": "markdown",
   "metadata": {},
   "source": [
    "Ahora consideremos la última forma de la identidad de Lagrange-Jacobi, $\\ddot I=2K+2E$.  Dado que por definición $K\\geq0$, si la energía mecánica total del sistema es $E\\geq0$, el valor (constante) de $\\ddot I$ será siempre positivo y por lo tanto $I$, independiente de su valor inicial, crecerá indefinidamente y el sistema tenderá a disgregarse (no será ligado) [$^1$](#notaspie_1)\n",
    "\n",
    "Por otro lado si $E<0$, el signo de $\\ddot I$ dependerá de la comparación entre $K$ y $|E|$.  Sin embargo como el valor de $K$ es variable en el tiempo (recordemos que solo $E$ es constante), no hay manera de predecir, trivialmente, si el sistema estará ligado o no.  En otras palabras, $E<0$ es una condición necesaria (puesto que $E\\geq$ implica un sistema no ligado), mas no suficiente para que un sistema de N cuerpos sea ligado."
   ]
  },
  {
   "cell_type": "markdown",
   "metadata": {},
   "source": [
    "Puede que no sepamos cuánto vale la energía cinética de un sistema, pero podríamos averiguar si esta acotada por un valor máximo y si este es finito.  Una manera de hacerlo podría ser calcular el *promedio asintótico* de $K(t)$, que definimos como:\n",
    "\n",
    "$$\n",
    "\\langle K\\rangle=\\lim_{T\\rightarrow\\infty} \\frac{1}{T}\\int_0^{T} K(t)\\;\\mathrm{d}t\n",
    "$$\n",
    "\n",
    "Un sistema en el que la energía cinética tampoco este acotada, para algún tiempo $t$, es decir $K\\rightarrow\\infty$, tendrá un valor promedio de la energía cinética $\\langle K\\rangle\\rightarrow\\infty$ y posiblemente, en virtud de las identidades de Lagrange-Jacobi no sea tampoco acotado."
   ]
  },
  {
   "cell_type": "markdown",
   "metadata": {},
   "source": [
    "No parece entonces un problema trivial.  La definición de si un sistema es ligado o no, va más allá de solo limitar las posiciones de las partículas. También sus velocidades deben estar limitadas. \n",
    "\n",
    "Con este propósito podemos definir una nueva cantidad, diferente de $I$ que combine ambas propiedades y nos permita definir la condición para un sistema ligado.  No es difícil reconocer que la siguiente cantidad, cumple ese propósito:\n",
    "\n",
    "$$\n",
    "G=\\sum_i m_i\\vec{r}_i\\cdot\\dot{\\vec{r}_i}\n",
    "$$\n",
    "\n",
    "En un intervalo de tiempo dado, si el sistema esta ligado, el valor de $G$ oscilará entre dos extremos finitos, $G_\\mathrm{max}$ y $G_\\mathrm{min}$.  ¿Pero cómo podemos convertir este hecho básico en alguna información sobre el hecho que la energía cinética o la energía potencial estén acotadas?"
   ]
  },
  {
   "cell_type": "markdown",
   "metadata": {},
   "source": [
    "Es fácil mostrar que $G=2\\dot I$ y por lo tanto que $\\dot G=2\\ddot I$.  Por lo tanto el valor promedio de $\\dot G$ esta relacionado directamente con el valor promedio de $K$ y $U$ a través de las identidades de Lagrange-Jacobi (Ec. {eq:identidad_lagrange_jacobi}):\n",
    "\n",
    "$$\n",
    "\\langle\\dot G\\rangle=8\\langle\\dot K\\rangle+4\\langle\\dot U\\rangle\n",
    "$$"
   ]
  },
  {
   "cell_type": "markdown",
   "metadata": {},
   "source": [
    "Por otro lado:\n",
    "\n",
    "\n",
    "$$\n",
    "\\langle \\dot G\\rangle=\\lim_{T\\rightarrow\\infty} \\frac{1}{T}\\int_0^{T} \\dot G dt=\\lim_{T\\rightarrow\\infty} \\left(\\frac{G(T)-G(0)}{T}\\right)\n",
    "$$\n",
    "\n",
    "Donde hemos usado el teorema fundamental del cálculo. \n",
    "\n",
    "Ahora bien si $G$ esta acotada, es decir si $G_\\mathrm{min}\\leq G(t)\\leq G_\\mathrm{max}$\n",
    "\n",
    "$$\n",
    "\\langle \\dot G\\rangle\\leq\\lim_{T\\rightarrow\\infty} \\left(\\frac{G_\\mathrm{max}-G_\\mathrm{min}}{T}\\right)=0\n",
    "$$\n",
    "\n",
    "Lo que conduce a uno de los más importantes resultados relacionados con la dinámica de sistemas de muchas partículas:"
   ]
  },
  {
   "cell_type": "markdown",
   "metadata": {
    "subtitle": "Teorema del virial",
    "tags": [
     "box_theorem"
    ],
    "title": "Teorema"
   },
   "source": [
    "> **:Teorema: Teorema del virial.** Si en un sistema de N cuerpos se define la cantidad física $G\\equiv\\sum_i m_i\\vec{r}_i\\cdot\\dot{\\vec{r}_i}$, la condición $G_\\mathrm{max}\\leq G\\leq G_\\mathrm{min}$ ($G$ esta acotada) es necesaria y suficiente[$^2$](#notaspie_2) para que el promedio asintótico de las funciones de energía potencial $U$ y energía cinética $K$, satisfagan:\n",
    "\n",
    "  $$\n",
    "  \\langle U\\rangle=-2\\langle K\\rangle\n",
    "  $$\n",
    "  \n",
    "> o equivalentemente:\n",
    "\n",
    "  $$\n",
    "  E=-\\langle K\\rangle\n",
    "  $$\n",
    "\n",
    "  \n",
    "> Donde $\\langle f\\rangle = \\lim_{T\\rightarrow\\infty} (1/T) \\int_0^T f(t)\\;\\mathrm{d}t$"
   ]
  },
  {
   "cell_type": "markdown",
   "metadata": {},
   "source": [
    "La conclusión es que de la misma manera que en un sistema de dos cuerpos (por ejemplo el sistema Tierra-Luna) una energía negativa es necesaria para que el sistema este ligado, en el caso de un sistema de N cuerpos, la energía también debe ser negativa, pero no tener cualquier valor, sino específicamente $E=-\\langle K\\rangle$."
   ]
  },
  {
   "cell_type": "markdown",
   "metadata": {},
   "source": [
    "Aunque las consecuencias del teorema del virial son interesantes, sus aplicaciones prácticas en mecánica celeste, especialmente al estudiar sistemas de pocas partículas, no son muchas.  Sin embargo cuando se estudian, tanto en astronomía como en física, sistemas con un número significativo de partículas ($N\\rightarrow \\infty$), las implicaciones pueden ser muy útiles."
   ]
  },
  {
   "cell_type": "markdown",
   "metadata": {},
   "source": [
    "### Aplicación: la masa de cúmulos de galaxias"
   ]
  },
  {
   "cell_type": "markdown",
   "metadata": {},
   "source": [
    "<a id='fig:coma_cluster'></a>![Mosaico en falso color del cúmulo de Galaxias de Coma que combina imágenes en luz visible e infrarrojo. Crédito: NASA / JPL-Caltech / L. Jenkins (GSFC).++t++0.7++\\label{fig:coma_cluster}](./figures/square_coma_cluster.png)\n",
    "\n",
    "<center><b>Figura 5.12</b>. Mosaico en falso color del cúmulo de Galaxias de Coma que combina imágenes en luz visible e infrarrojo. Crédito: NASA / JPL-Caltech / L. Jenkins (GSFC).</center>"
   ]
  },
  {
   "cell_type": "markdown",
   "metadata": {},
   "source": [
    "En astronomía por ejemplo, el teorema del virial se usa para estudiar la distribución de masa en cúmulos de estrellas y galaxias.  \n",
    "\n",
    "Se dice que un cúmulo, formado por una cantidad significativa de galaxias, estrellas o \"partículas\" de materia oscura, esta \"virializado\" (es estable o esta ligado) si ha alcanzado un estado en el cuál es posible aplicar el teorema del virial para describir, estadísticamente sus propiedades.  \n",
    "\n",
    "Si asumimos que las partículas del cúmulo tienen una distribución esférica con una densidad aproximadamente uniforme y radio característico $R_\\mathrm{vir}$ (dentro del cual hay una masa $M_\\mathrm{vir}$), la energía potencial promedio del cúmulo será igual a:\n",
    "\n",
    "$$\n",
    "\\langle U\\rangle=-\\frac{3GM_\\mathrm{vir}^2}{5R_\\mathrm{vir}}\n",
    "$$"
   ]
  },
  {
   "cell_type": "markdown",
   "metadata": {},
   "source": [
    "Por su parte si asumimos que todas las partículas tienen la misma masa, el promedio de la energía cinética total será:\n",
    "\n",
    "$$\n",
    "\\langle K\\rangle=\\frac{1}{2} M_\\mathrm{vir}\\langle v^2\\rangle\n",
    "$$\n",
    "\n",
    "Usando el teorema del virial obtenemos:\n",
    "\n",
    "$$\n",
    "\\frac{3GM_\\mathrm{vir}}{5R_\\mathrm{vir}}=\\langle v^2\\rangle\n",
    "$$\n",
    "\n",
    "Si se puede estimar el radio del sistema y el promedio del cuadrado de las rapideces de las partículas, la masa del sistema se puede calcular usando:\n",
    "\n",
    "$$\n",
    "M_\\mathrm{vir}=\\frac{5R_\\mathrm{vir}\\langle v^2\\rangle}{3G}\n",
    "$$"
   ]
  },
  {
   "cell_type": "markdown",
   "metadata": {},
   "source": [
    "En el algoritmo a continuación estimamos la masa de virial del cúmulo de Coma (ver Figura ([coma_cluster](#fig:coma_cluster))) para el cuál se ha estimado que $R_\\mathrm{vir}\\approx 2\\times 10^6$ pc (parsecs[$^3$](#notaspie_3)) y $\\langle v^2\\rangle\\approx (1.000$ km/s)$^2$ (datos tomados de <cite data-cite=\"Gavazzi2009ComaCluster\"><a href=\"mybook.html#Gavazzi2009ComaCluster\">Gavazzi et al., 2019</a></cite> y <cite data-cite=\"Struble1999ComaCluster\"><a href=\"mybook.html#Struble1999ComaCluster\">Strubble et al., 2019</a></cite> respectivamente): "
   ]
  },
  {
   "cell_type": "code",
   "execution_count": 36,
   "metadata": {
    "codelabel": "",
    "codeplot": 0
   },
   "outputs": [],
   "source": [
    "#Constante gravitacional\n",
    "G=6.67e-20 # km^3 / kg s^2\n",
    "\n",
    "#Parsec y año-luz\n",
    "pc=3.26\n",
    "al=9.46e12 #km \n",
    "\n",
    "#Radio del viral\n",
    "Rvir=2e6*pc*al\n",
    "\n",
    "#Dispersión de velocidades\n",
    "v2=1000**2\n",
    "\n",
    "#Masa del virial del cúmulo\n",
    "Mvir=5*Rvir*v2/(3*G)"
   ]
  },
  {
   "cell_type": "code",
   "execution_count": 37,
   "metadata": {
    "codelabel": "",
    "codeplot": 0,
    "tags": [
     "hide_input"
    ]
   },
   "outputs": [
    {
     "name": "stdout",
     "output_type": "stream",
     "text": [
      "Masa del virial del cúmulo de Coma:\n",
      "1.5412093953023487e+45 kg\n"
     ]
    }
   ],
   "source": [
    "print(f\"Masa del virial del cúmulo de Coma:\\n{Mvir} kg\")"
   ]
  },
  {
   "cell_type": "markdown",
   "metadata": {},
   "source": [
    "Que equivale a $\\sim7\\times10^{14}\\;M_\\odot$ ($1\\;M_\\odot\\approx 2\\times10^{30}$ kg), o lo que es lo mismo a la masa de estrellas y gas de unas 10.000 galaxias típicas."
   ]
  },
  {
   "cell_type": "markdown",
   "metadata": {
    "tags": [
     "footnote"
    ]
   },
   "source": [
    "**NOTAS AL PIE:**\n",
    "\n",
    "<a id='notaspie_1'></a>\n",
    "1. Es interesante anotar que para que $I$ crezca indefinidamente, bastará que al menos una partícula, por ejemplo la partícula $k$, escape del sistema, esto es que $r_k\\rightarrow\\infty$ cuando $t\\rightarrow\\infty$.\n",
    "\n",
    "<a id='notaspie_2'></a>\n",
    "2. La condición de que $G$ este acotada es demasiado restringida.  Es posible mostrar, por ejemplo, que en el caso de un sistema de dos cuerpos que se mueven sobre una parábola, también se cumple el teorema del Virial. Por lo tanto, existe una condición mucho más general y satisfactoria para formular el teorema que puede encontrarse en <cite data-cite=\"Pollard1964Virial,\"><a href=\"mybook.html#Pollard1964Virial\">(Pollard, 1964)</a></cite>\n",
    "\n",
    "<a id='notaspie_3'></a>\n",
    "3. 1 parsec = 3.26 a.l., 1 año-luz = $9.46\\times 10^{12}$ km\n",
    "\n"
   ]
  },
  {
   "cell_type": "markdown",
   "metadata": {
    "tags": [
     "navigation"
    ]
   },
   "source": [
    "[Indice](index.ipynb) | Previo: [ProblemaNCuerpos.ConstantesMovimiento.Energia](05.02.01.00.ProblemaNCuerpos.ConstantesMovimiento.Energia.ipynb) | Siguiente: [ProblemaNCuerpos.SolucionNumerica](05.03.00.00.ProblemaNCuerpos.SolucionNumerica.ipynb)"
   ]
  }
 ],
 "metadata": {
  "celltoolbar": "Tags",
  "kernelspec": {
   "display_name": "Python 3",
   "language": "python",
   "name": "python3"
  },
  "language_info": {
   "codemirror_mode": {
    "name": "ipython",
    "version": 3
   },
   "file_extension": ".py",
   "mimetype": "text/x-python",
   "name": "python",
   "nbconvert_exporter": "python",
   "pygments_lexer": "ipython3",
   "version": "3.6.8"
  }
 },
 "nbformat": 4,
 "nbformat_minor": 2
}
