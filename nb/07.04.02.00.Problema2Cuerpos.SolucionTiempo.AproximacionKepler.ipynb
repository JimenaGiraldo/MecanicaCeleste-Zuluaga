{
 "cells": [
  {
   "cell_type": "markdown",
   "metadata": {
    "tags": [
     "navigation"
    ]
   },
   "source": [
    "[Indice](index.ipynb) | Previo: [Problema2Cuerpos.SolucionTiempo.EcuacionKepler](07.04.01.00.Problema2Cuerpos.SolucionTiempo.EcuacionKepler.ipynb) | Siguiente: [Problema2Cuerpos.SolucionTiempo.Sintesis](07.04.02.00.Problema2Cuerpos.SolucionTiempo.Sintesis.ipynb)"
   ]
  },
  {
   "cell_type": "markdown",
   "metadata": {},
   "source": [
    "### 7.10.5. Solución numérica a la ecuación de Kepler\n",
    "<a id='solucion_kepler_numerica'></a>"
   ]
  },
  {
   "cell_type": "markdown",
   "metadata": {},
   "source": [
    "Casi que desde que se formuló la ecuación de Kepler para órbitas elípticas en 1609, decenas, sino cientos de métodos distintos se han inventado para resolver la ecuación con distintos niveles de precisión.  Estos métodos han evolucionado mucho recientemente (especialmente a partir de las últimas décadas de los 1900) obedeciendo, de un lado, a las exigencias de los vuelos espaciales y la astronomía de alta precisión y del otro a la disposición de computadoras que pueden calcular a gran velocidad el valor aproximado de series infinitas o aplicar métodos iterativos, independientemente de su complejidad.  Para una revisión exhaustiva de los distintos métodos y sus propiedades numéricas se invita al lector a revisar el libro de Peter Colwell \"*Solving Kepler's equation over three centuries*\" <cite data-cite=\"Colwell1993Kepler\"><a href=\"mybook.html#Colwell1993Kepler\">(Colwell, 1993)</a></cite> o en la literatura especializada, la excelente serie de artículos publicados por Danby y Burkardt <cite data-cite=\"Danby1983KeplerI\"><a href=\"mybook.html#Danby1983KeplerI\">(Danby & Burkardt, 1983</a></cite>,<cite data-cite=\"Danby1983KeplerII\"><a href=\"mybook.html#Danby1983KeplerII\">Burkardt & Danby, 1983</a></cite>,<cite data-cite=\"Danby1983KeplerIII\"><a href=\"mybook.html#Danby1983KeplerIII\">Danby, 1987)</a></cite> o el también reconocido trabajo de Odell \\& Gooding <cite data-cite=\"Odell1986Kepler\"><a href=\"mybook.html#Odell1986Kepler\">(Odell & Gooding, 1986)</a></cite>."
   ]
  },
  {
   "cell_type": "markdown",
   "metadata": {},
   "source": [
    "A continuación hacemos una síntesis de algunos de los métodos ideados en los últimos 300 años para resolver la ecuación de Kepler y describimos algunos algorítmos que serán útiles en lo sucesivo en este libro.  Nos concentraremos específicamente en ilustrar la solución a la ecuación de Kepler en el caso de órbitas elípticas, que son también las de mayor interés en astronomía e ingeniería aeroespacial.  Sin embargo, la mayoría de estos métodos se aplican también para el caso hiperbólico sin muchas modificaciones.\n",
    "\n",
    "Bajo ninguna circunstancia, esta breve síntesis puede considerarse completa o representativa de la vasta literatura en el tema.  Este resumen, tiene el único propósito de poner al tanto al lector de algunos los retos y de los logros matemáticos que se han conseguido en esta materia durante el par de siglos que nos separan desde los trabajos pioneros de Kepler."
   ]
  },
  {
   "cell_type": "markdown",
   "metadata": {},
   "source": [
    "#### 7.10.5.1. El Método de Kepler\n",
    "<a id='kepler_metodo_kepler'></a>"
   ]
  },
  {
   "cell_type": "markdown",
   "metadata": {},
   "source": [
    "El primer método ideado para resolver la Ec. ([ecuacion_kepler](#mjx-eqn-eq%3Aecuacion_kepler)) fue presentado precisamente por el mismo Kepler en su libro \"Epítome de la astronomía Copernicana* publicado entre 1617 y 1621[$^1$](11.00.00.00.ApendiceAlgoritmos.ipynb#notaspie_1)"
   ]
  },
  {
   "cell_type": "markdown",
   "metadata": {},
   "source": [
    "Para ilustrar el método original de Kepler, supongamos que queremos encontrar el valor de la anomalía excéntrica para los siguientes valores de $e$ y $M$:"
   ]
  },
  {
   "cell_type": "code",
   "execution_count": 3,
   "metadata": {
    "codelabel": "",
    "codeplot": 0
   },
   "outputs": [],
   "source": [
    "e=0.5\n",
    "M=37 #grados"
   ]
  },
  {
   "cell_type": "markdown",
   "metadata": {},
   "source": [
    "El método consiste en elegir un valor para la anomalía excéntrica $E_0$, que sirva como punto de partida.  Escojamos por ejemplo el siguiente valor para esta cantidad:"
   ]
  },
  {
   "cell_type": "code",
   "execution_count": 4,
   "metadata": {
    "codelabel": "",
    "codeplot": 0
   },
   "outputs": [],
   "source": [
    "E0=45 "
   ]
  },
  {
   "cell_type": "markdown",
   "metadata": {},
   "source": [
    "El siguiente paso consiste en calcular el valor de la anomalía media $M_0$ correspondiente a $E_0$ de acuerdo con la ecuación de Kepler:\n",
    "\n",
    "$$M_0=E_0-e\\sin E_0$$  \n",
    "\n",
    "Para usar las funciones trigonométricas tenermos que convertir primero los valores de `M` y `E0` a radianes:"
   ]
  },
  {
   "cell_type": "code",
   "execution_count": 5,
   "metadata": {
    "codelabel": "",
    "codeplot": 0
   },
   "outputs": [],
   "source": [
    "from numpy import pi\n",
    "M=M*pi/180\n",
    "E0=E0*pi/180\n",
    "\n",
    "from numpy import sin\n",
    "M0=E0-e*sin(E0)"
   ]
  },
  {
   "cell_type": "code",
   "execution_count": 6,
   "metadata": {
    "codelabel": "",
    "codeplot": 0,
    "tags": [
     "hide_input"
    ]
   },
   "outputs": [
    {
     "name": "stdout",
     "output_type": "stream",
     "text": [
      "M0 = 24.742882886465114 grados\n"
     ]
    }
   ],
   "source": [
    "print(f\"M0 = {M0*180/pi} grados\")"
   ]
  },
  {
   "cell_type": "markdown",
   "metadata": {},
   "source": [
    "Como vemos, $M_0$ no coincide con el valor original de $M$. Sin embargo podemos usar la diferencia $\\epsilon_0=M-M_0$ para calcular un valor corregido de la anomalía excéntrica, $E_1=E_0+\\epsilon_0$:"
   ]
  },
  {
   "cell_type": "code",
   "execution_count": 7,
   "metadata": {
    "codelabel": "",
    "codeplot": 0
   },
   "outputs": [],
   "source": [
    "epsilon0=M-M0\n",
    "E1=E0+epsilon0"
   ]
  },
  {
   "cell_type": "code",
   "execution_count": 8,
   "metadata": {
    "codelabel": "",
    "codeplot": 0,
    "tags": [
     "hide_input"
    ]
   },
   "outputs": [
    {
     "name": "stdout",
     "output_type": "stream",
     "text": [
      "epsilon0 = 12.257117113534887\n",
      "E1 = 57.25711711353489 grados\n"
     ]
    }
   ],
   "source": [
    "print(f\"epsilon0 = {epsilon0*180/pi}\")\n",
    "print(f\"E1 = {E1*180/pi} grados\")"
   ]
  },
  {
   "cell_type": "markdown",
   "metadata": {},
   "source": [
    "Si repetimos el procedimiento anterior podemos encontrar un tercer valor para $E$:"
   ]
  },
  {
   "cell_type": "code",
   "execution_count": 9,
   "metadata": {
    "codelabel": "",
    "codeplot": 0
   },
   "outputs": [],
   "source": [
    "M1=E1-e*sin(E1)\n",
    "epsilon1=M-M1\n",
    "E2=E1+epsilon1"
   ]
  },
  {
   "cell_type": "code",
   "execution_count": 10,
   "metadata": {
    "codelabel": "",
    "codeplot": 0,
    "tags": [
     "hide_input"
    ]
   },
   "outputs": [
    {
     "name": "stdout",
     "output_type": "stream",
     "text": [
      "M1 = 33.16119928670333\n",
      "epsilon1 = 3.8388007132966724\n",
      "E2 = 61.09591782683156\n"
     ]
    }
   ],
   "source": [
    "print(f\"M1 = {M1*180/pi}\")\n",
    "print(f\"epsilon1 = {epsilon1*180/pi}\")\n",
    "print(f\"E2 = {E2*180/pi}\")"
   ]
  },
  {
   "cell_type": "markdown",
   "metadata": {},
   "source": [
    "Vemos que en esta segunda iteración, el valor de $M_1$ es más cercano al valor real de $M$, lo que muestra que el procedimiento esta *convergiendo*.  Si repetimos la misma *regla de iteración* otras 5 veces obtenemos la siguiente secuencia de valores de $M$, $\\epsilon$ y $E$:"
   ]
  },
  {
   "cell_type": "code",
   "execution_count": 11,
   "metadata": {
    "codelabel": "",
    "codeplot": 0,
    "tags": [
     "hide_input"
    ]
   },
   "outputs": [
    {
     "name": "stdout",
     "output_type": "stream",
     "text": [
      "Paso 3: M2 = 36.02 gr., epsilon2 = 0.983 gr., E3 = 62.07922 gr.\n",
      "Paso 4: M3 = 36.77 gr., epsilon3 = 0.234 gr., E4 = 62.31316 gr.\n",
      "Paso 5: M4 = 36.95 gr., epsilon4 = 0.055 gr., E5 = 62.36772 gr.\n",
      "Paso 6: M5 = 36.99 gr., epsilon5 = 0.013 gr., E6 = 62.38038 gr.\n",
      "Paso 7: M6 = 37.00 gr., epsilon6 = 0.003 gr., E7 = 62.38332 gr.\n"
     ]
    }
   ],
   "source": [
    "En=E2\n",
    "for i in range(5):\n",
    "    Mn=En-e*sin(En)\n",
    "    en=M-Mn\n",
    "    En=En+en\n",
    "    print(f\"Paso {i+3}: M{i+2} = {Mn*180/pi:.2f} gr., epsilon{i+2} = {en*180/pi:.3f} gr., E{i+3} = {En*180/pi:.5f} gr.\")"
   ]
  },
  {
   "cell_type": "markdown",
   "metadata": {},
   "source": [
    "Notamos que el valor de $\\epsilon$ se hace cada vez más pequeño y el valor de la anomalía excéntrica se estabiliza con lo que podemos asegurar que el valor real de esta cantidad esta cerca del último valor de $E$ presentado en la lista de arriba.  El *margen de error* de nuestra estimación se puede cifrar cercano a $\\epsilon$."
   ]
  },
  {
   "cell_type": "markdown",
   "metadata": {},
   "source": [
    "En términos simbólicos la regla de iteración del método de Kepler se puede escribir como:\n",
    "\n",
    "\\begin{equation}\n",
    "\\label{eq:kepler_kepler}\n",
    "\\begin{array}{rcl}\n",
    "M_{n} & = & E_{n}-e\\sin E_{n}\\\\\n",
    "\\epsilon_{n} & = & M-M_{n}\\\\\n",
    "E_{n+1} & = & E_{n}+\\epsilon_{n}\n",
    "\\end{array}\n",
    "\\end{equation}\n",
    "con $n=0,1,2\\ldots$."
   ]
  },
  {
   "cell_type": "markdown",
   "metadata": {},
   "source": [
    "El *criterio de convergencia*, es decir la condición que nos permite decir cuándo estamos satisfechos con el último valor de la anomalía excéntrica provisto por la regla, puede definirse con la condición:\n",
    "\n",
    "$$\n",
    "\\Delta_n\\equiv\\left|\\frac{\\epsilon_n}{M}\\right|<\\delta\n",
    "$$\n",
    "donde $\\Delta_n$ es una estimación del *error relativo* del algoritmo en el paso $n$ y $\\delta$ es un número arbitrariamente pequeño escogido por el usuario.  Llamamos a $\\delta$ la *tolerancia solicitada*."
   ]
  },
  {
   "cell_type": "markdown",
   "metadata": {},
   "source": [
    "Como regla general, puede ser interesante tomar, en lugar del último valor de la anomalía excéntrica provisto por el método iterativo, es decir $E_{n+1}$, el valor promedio entre los dos últimos *pasos*:\n",
    "\n",
    "$$\n",
    "\\bar{E}=\\frac{E_n+E_{n+1}}{2}\n",
    "$$\n",
    "\n",
    "Finalmente el valor verdadero de la anomalía excéntrica estará contenido con alta probabilidad en el intervalo:\n",
    "\n",
    "$$\n",
    "E\\in[\\bar{E}-2\\Delta_n\\bar E,\\bar{E}+2\\Delta_n\\bar E]\n",
    "$$\n",
    "que se puede escribir como:\n",
    "\n",
    "$$\n",
    "E=\\bar{E}\\pm \\Delta_n\\bar E\n",
    "$$"
   ]
  },
  {
   "cell_type": "markdown",
   "metadata": {},
   "source": [
    "El método de Kepler se puede implementar con la siguiente rutina:"
   ]
  },
  {
   "cell_type": "markdown",
   "metadata": {},
   "source": [
    "<a id='code:kepler_kepler'></a>"
   ]
  },
  {
   "cell_type": "code",
   "execution_count": 12,
   "metadata": {
    "codelabel": "",
    "codeplot": 0,
    "tags": [
     "export",
     "code:kepler_kepler"
    ]
   },
   "outputs": [],
   "source": [
    "def kepler_kepler(M,e,E0=1.0,delta=1e-5):\n",
    "    #Valor inicial de la anomalía excéntrica\n",
    "    E=E0\n",
    "    #Valor inicial del error relativo\n",
    "    Dn=1\n",
    "    #Contador de iteraciones\n",
    "    ni=0\n",
    "    while Dn>delta:\n",
    "        #\"En\" es igual al último valor de E\n",
    "        En=E\n",
    "        #Regla de iteración\n",
    "        from math import sin\n",
    "        Mn=En-e*sin(En)\n",
    "        en=M-Mn\n",
    "        E=En+en\n",
    "        #Valor promedio\n",
    "        Emed=(E+En)/2\n",
    "        #Error relativo\n",
    "        Dn=abs(en/M)\n",
    "        #Conteo de iteraciones\n",
    "        ni+=1\n",
    "    return Emed,Dn,ni"
   ]
  },
  {
   "cell_type": "markdown",
   "metadata": {},
   "source": [
    "Que se invoca como:"
   ]
  },
  {
   "cell_type": "code",
   "execution_count": 13,
   "metadata": {
    "codelabel": "",
    "codeplot": 0
   },
   "outputs": [],
   "source": [
    "E,error,ni=kepler_kepler(M,e,E0,1e-8)"
   ]
  },
  {
   "cell_type": "code",
   "execution_count": 14,
   "metadata": {
    "codelabel": "",
    "codeplot": 0,
    "tags": [
     "hide_input"
    ]
   },
   "outputs": [
    {
     "name": "stdout",
     "output_type": "stream",
     "text": [
      "M = 37, e = 0.50\n",
      "E estimada (promedio últimos dos pasos) = 62.38420178431245\n",
      "Error absoluto = 1.1e-07 grados\n",
      "Intervalo = [62.38420157333525,62.384201995289665] grados\n",
      "Número de iteraciones: 14\n"
     ]
    }
   ],
   "source": [
    "print(f\"M = {M*180/pi:.2g}, e = {e:.2f}\")\n",
    "print(f\"E estimada (promedio últimos dos pasos) = {E*180/pi:.14f}\")\n",
    "print(f\"Error absoluto = {error*M*180/pi:.1e} grados\")\n",
    "print(f\"Intervalo = [{(E-2*error*M)*180/pi},{(E+2*error*M)*180/pi}] grados\")\n",
    "print(f\"Número de iteraciones: {ni}\")"
   ]
  },
  {
   "cell_type": "markdown",
   "metadata": {},
   "source": [
    "#### 7.10.5.2. Método del punto fijo\n",
    "<a id='kepler_metodo_puntofijo'></a>"
   ]
  },
  {
   "cell_type": "markdown",
   "metadata": {},
   "source": [
    "Otro método muy común y sencillo de entender e implementar es el método del punto fijo.  Este método parte de reescribir la ecuación de Kepler como:\n",
    "\n",
    "$$\n",
    "E=M+e\\sin E\n",
    "$$\n",
    "\n",
    "Escrita de esta manera la solución a la ecuación de Kepler es equivalente a la búsqueda del punto de intersección entre la recta $E$ y la curva $M-e\\sin E$."
   ]
  },
  {
   "cell_type": "markdown",
   "metadata": {},
   "source": [
    "La regla de iteración del método del punto fijo es:\n",
    "\n",
    "\\begin{equation}\n",
    "\\label{eq:kepler_puntofijo}\n",
    "\\begin{array}{rcl}\n",
    "E_{n+1} & = & M+e\\sin E_n\\\\\n",
    "\\epsilon_n & = & E_{n+1}-E_n\\\\\n",
    "\\end{array}\n",
    "\\end{equation}\n",
    "con un criterio de convergencia:\n",
    "\n",
    "$$\n",
    "\\left|\\frac{\\epsilon_n}{\\bar{E}}\\right|<\\delta\n",
    "$$"
   ]
  },
  {
   "cell_type": "markdown",
   "metadata": {},
   "source": [
    "Es fácil mostrar que las ecuaciones de iteración del método original de Kepler (Ecs. [kepler_kepler](#mjx-eqn-eq%3Akepler_kepler)) son equivalentes a las del método del punto fijo (ver problemas al final del capítulo.)"
   ]
  },
  {
   "cell_type": "markdown",
   "metadata": {},
   "source": [
    "#### 7.10.5.3. Método de Newton-Raphson\n",
    "<a id='kepler_metodo_newton'></a>"
   ]
  },
  {
   "cell_type": "markdown",
   "metadata": {},
   "source": [
    "Los métodos más rápidos que se han diseñado en la historia para resolver numéricamente la ecuación de Kepler son variaciones de un método cuya autoría original se atribuye a Newton.  En 1669 en su ensayo \"Sobre el análisis por series infinitas\" (que además se considera el primer texto de cálculo infinitesimal de la historia) Newton presentó una versión particular del método aplicado exclusivamente al caso de funciones polinómicas. El método fue generalizado para funciones no polinómicas en 1690 por Joseph Raphson, razón por la cuál recibe hoy el nombre de **método de Newton-Raphson**."
   ]
  },
  {
   "cell_type": "markdown",
   "metadata": {},
   "source": [
    "El método permite encontrar las raices de ecuaciones del tipo:\n",
    "\n",
    "$$\n",
    "f(x)=0\n",
    "$$\n",
    "donde $f(E)$ es una ecuación diferenciable al menos una vez.  Claramente la **función generalizada de Kepler**, que introdujimos en la [Sección *Función de Kepler*](07.04.01.00.Problema2Cuerpos.SolucionTiempo.EcuacionKepler.ipynb#funcion_kepler) (Ec. [kepler_generalizada](#mjx-eqn-eq%3Akepler_generalizada)), satisface esta condición."
   ]
  },
  {
   "cell_type": "markdown",
   "metadata": {},
   "source": [
    "La raiz de la ecuación se obtiene usando la regla de iteración:\n",
    "\n",
    "$$\n",
    "x_{n+1} = x_n-\\frac{f(x_n)}{f'(x_n)}\\\\\n",
    "$$\n",
    "con $f'(x)=\\mathrm{d}f/\\mathrm{d}x$."
   ]
  },
  {
   "cell_type": "markdown",
   "metadata": {},
   "source": [
    "Si usamos la forma explícita de la función generalizada de Kepler y de su primera derivada (Ec. \\label{eq:kepler_generalizada_derivada1}) la regla de iteración del método de Newton-Raphson aplicado al problema de Kepler queda:\n",
    "\n",
    "$$\n",
    "G_{n+1} = \\frac{M/\\sigma+e\\;\\mathrm{s}G_n-e G_n\\;\\mathrm{c}G_n}{1-e\\;\\mathrm{c}G_n}\n",
    "$$"
   ]
  },
  {
   "cell_type": "markdown",
   "metadata": {},
   "source": [
    "Esta regla se puede implementar con la siguiente rutina:"
   ]
  },
  {
   "cell_type": "markdown",
   "metadata": {},
   "source": [
    "<a id='code:kepler_newton'></a>"
   ]
  },
  {
   "cell_type": "code",
   "execution_count": 16,
   "metadata": {
    "codelabel": "",
    "codeplot": 0,
    "tags": [
     "export",
     "code:kepler_newton"
    ]
   },
   "outputs": [],
   "source": [
    "def kepler_newton(M,e,G0=1,delta=1e-5):\n",
    "    #Valor inicial de la anomalía excéntrica\n",
    "    Gn=G0\n",
    "    #Valor inicial del error relativo\n",
    "    Dn=1\n",
    "    #Contador de iteraciones\n",
    "    ni=0\n",
    "    while Dn>delta:\n",
    "        #Inicializa el valor de En\n",
    "        G=Gn\n",
    "        #Función de Kepler y de su primera derivada en G\n",
    "        from pymcel.export import funcion_kepler\n",
    "        k,kp,kpp=funcion_kepler(G,M,e)\n",
    "        #Nuevo valor (regla de iteración)\n",
    "        Gn=G-k/kp\n",
    "        #Valor medio\n",
    "        Gmed=(G+Gn)/2\n",
    "        #Criterio de convergencia\n",
    "        en=Gn-G\n",
    "        Dn=abs(en/Gmed)\n",
    "        ni+=1\n",
    "    return Gmed,Dn,ni"
   ]
  },
  {
   "cell_type": "markdown",
   "metadata": {},
   "source": [
    "Al aplicarlo al ejemplo anterior queda:"
   ]
  },
  {
   "cell_type": "code",
   "execution_count": 17,
   "metadata": {
    "codelabel": "",
    "codeplot": 0
   },
   "outputs": [],
   "source": [
    "E,error,ni=kepler_newton(M,e,E0,1e-8)"
   ]
  },
  {
   "cell_type": "code",
   "execution_count": 18,
   "metadata": {
    "codelabel": "",
    "codeplot": 0,
    "tags": [
     "hide_input"
    ]
   },
   "outputs": [
    {
     "name": "stdout",
     "output_type": "stream",
     "text": [
      "M = 37, e = 0.50\n",
      "E estimada (promedio últimos dos pasos) = 62.38420186888202\n",
      "Error absoluto = 0.0e+00 grados\n",
      "Intervalo = [62.38420186888202,62.38420186888202] grados\n",
      "Número de iteraciones: 5\n"
     ]
    }
   ],
   "source": [
    "print(f\"M = {M*180/pi:.2g}, e = {e:.2f}\")\n",
    "print(f\"E estimada (promedio últimos dos pasos) = {E*180/pi:.14f}\")\n",
    "print(f\"Error absoluto = {error*E*180/pi:.1e} grados\")\n",
    "print(f\"Intervalo = [{(E-error*E)*180/pi},{(E+error*E)*180/pi}] grados\")\n",
    "print(f\"Número de iteraciones: {ni}\")"
   ]
  },
  {
   "cell_type": "markdown",
   "metadata": {},
   "source": [
    "Que como se ve, converge muchísimo más rápido que el método de punto fijo."
   ]
  },
  {
   "cell_type": "markdown",
   "metadata": {},
   "source": [
    "Una rutina general que aplica el método de Newton de forma análoga a como lo hemos hecho en la rutina `kepler_newton`, pero para encontrar la raíz de cualquier función es provisto en el [Apéndice *Algoritmos y rutinas útiles*](11.00.00.00.ApendiceAlgoritmos.ipynb#algoritmos_utiles).  Esta rutina será utilizada en el libro con alguna frecuencia.  Un ejemplo de su uso para el caso ilustrado aquí se muestra a continuación:"
   ]
  },
  {
   "cell_type": "code",
   "execution_count": 20,
   "metadata": {
    "codelabel": "",
    "codeplot": 0
   },
   "outputs": [],
   "source": [
    "from pymcel.export import funcion_kepler,metodo_newton\n",
    "E,error,ni=metodo_newton(funcion_kepler,x0=E0,delta=1e-8,args=(M,e))"
   ]
  },
  {
   "cell_type": "code",
   "execution_count": 21,
   "metadata": {
    "codelabel": "",
    "codeplot": 0,
    "scrolled": true,
    "tags": [
     "hide_input"
    ]
   },
   "outputs": [
    {
     "name": "stdout",
     "output_type": "stream",
     "text": [
      "M = 37, e = 0.50\n",
      "E estimada (promedio últimos dos pasos) = 62.38420186888202\n",
      "Error absoluto = 0.0e+00 grados\n",
      "Intervalo = [62.38420186888202,62.38420186888202] grados\n",
      "Número de iteraciones: 5\n"
     ]
    }
   ],
   "source": [
    "print(f\"M = {M*180/pi:.2g}, e = {e:.2f}\")\n",
    "print(f\"E estimada (promedio últimos dos pasos) = {E*180/pi:.14f}\")\n",
    "print(f\"Error absoluto = {error*E*180/pi:.1e} grados\")\n",
    "print(f\"Intervalo = [{(E-error*E)*180/pi},{(E+error*E)*180/pi}] grados\")\n",
    "print(f\"Número de iteraciones: {ni}\")"
   ]
  },
  {
   "cell_type": "markdown",
   "metadata": {},
   "source": [
    "#### 7.10.5.4. El método de Laguerre-Conway\n",
    "<a id='kepler_laguerre'></a>"
   ]
  },
  {
   "cell_type": "markdown",
   "metadata": {},
   "source": [
    "Décadas de experimentación numérica han mostrado que el método de Newton, si bien simple y poderoso, puede no converger con la precisión y velocidad apropiadas para ciertos pares de valores de $M$ y $e$.  Un método con convergencia rápida y asegurada es el método de Laguerre-Conway <cite data-cite=\"Conway1986\"><a href=\"mybook.html#Conway1986\">(Conway, 1986)</a></cite> que usa la siguiente regla de iteración:\n",
    "\n",
    "\\begin{eqnarray}\n",
    "\\epsilon_n & = & \\frac{\\eta f(x)}{f'(x_n)\\pm\\sqrt{(\\eta-1)^2(f'(x_n))^2-\\eta(\\eta-1)f(x_n)f''(x_n)}} \\\\\n",
    "E_{n+1} & = & E_n-\\epsilon_n\n",
    "\\end{eqnarray}\n",
    "donde $\\eta$ es un parámetro entero.  Cuando $\\eta=1$ el método de Laguerre-Conway es equivalente al método de Newton.  \n",
    "\n",
    "Experimentos numéricos han mostrado que el valor óptimo de $\\eta$ en el caso de la ecuación de Kepler es $\\eta=5$. "
   ]
  },
  {
   "cell_type": "markdown",
   "metadata": {},
   "source": [
    "En el [Apéndice *Algoritmos y rutinas útiles*](11.00.00.00.ApendiceAlgoritmos.ipynb#algoritmos_utiles) el lector puede encontrar una rutina general que aplica el método de Laguerre-Conway para encontrar la raíz de cualquier ecuación.  Un ejemplo de su uso para la ecuación de Kepler se muestra a continuación:"
   ]
  },
  {
   "cell_type": "code",
   "execution_count": 24,
   "metadata": {
    "codelabel": "",
    "codeplot": 0
   },
   "outputs": [],
   "source": [
    "from pymcel.export import funcion_kepler,metodo_laguerre\n",
    "E,error,ni=metodo_laguerre(funcion_kepler,x0=E0,delta=1e-8,args=(M,e))"
   ]
  },
  {
   "cell_type": "code",
   "execution_count": 25,
   "metadata": {
    "codelabel": "",
    "codeplot": 0,
    "scrolled": true,
    "tags": [
     "hide_input"
    ]
   },
   "outputs": [
    {
     "name": "stdout",
     "output_type": "stream",
     "text": [
      "M = 37, e = 0.50\n",
      "E estimada (promedio últimos dos pasos) = 62.38420186756679\n",
      "Error absoluto = 2.6e-09 grados\n",
      "Intervalo = [62.38420186493632,62.384201870197266] grados\n",
      "Número de iteraciones: 3\n"
     ]
    }
   ],
   "source": [
    "print(f\"M = {M*180/pi:.2g}, e = {e:.2f}\")\n",
    "print(f\"E estimada (promedio últimos dos pasos) = {E*180/pi:.14f}\")\n",
    "print(f\"Error absoluto = {error*E*180/pi:.1e} grados\")\n",
    "print(f\"Intervalo = [{(E-error*E)*180/pi},{(E+error*E)*180/pi}] grados\")\n",
    "print(f\"Número de iteraciones: {ni}\")"
   ]
  },
  {
   "cell_type": "markdown",
   "metadata": {},
   "source": [
    "Nótese que el número de iteraciones es mucho menor que en el caso del método de Newton."
   ]
  },
  {
   "cell_type": "markdown",
   "metadata": {},
   "source": [
    "#### 7.10.5.5. Métodos de horquillado\n",
    "<a id='kepler_horquillado'></a>"
   ]
  },
  {
   "cell_type": "markdown",
   "metadata": {},
   "source": [
    "En los métodos de Kepler, Newton-Raphson y Laguerre-Conway visto en las secciones anteriores, es necesario proveerun primer valor inicial de la anomalía excéntrica (la variable `E0` en los algoritmos presentados hasta aquí.)  Determinar el valor óptimo de `E0` ha probado ser una tarea poco trivial.  Existen métodos alternativos, que aunque mucho menos eficientes, solo requieren conocer a priori un intervalo en el que se encuentre la solución.  En el análisis numérico a estos métodos se los llama en general *bracketing methods* o \"métodos de horquillado.\"  En el paquete `optimize` de la biblioteca `SciPy` podrán encontrar un conjunto de rutinas generales que implementan métodos de horquillado para encontrar la raiz de funciones trascendentales. "
   ]
  },
  {
   "cell_type": "markdown",
   "metadata": {},
   "source": [
    "Para encontrar un intervalo de horquillado general, en el caso del movimiento elíptico, comencemos con la ecuación de Kepler escrita de la forma (Ec. [ecuacion_kepler](#mjx-eqn-eq%3Aecuacion_kepler)):\n",
    "\n",
    "$$\n",
    "e\\sin E-E=-M\n",
    "$$\n",
    "\n",
    "Como sabemos que $-1\\leq\\sin E\\leq 1$, el término del lado izquierdo de la ecuación estará acotado por $-e-E\\leq e\\sin E-E\\leq e-E$.  De allí, la ecuación de Kepler se puede escribir en forma de desigualdad:\n",
    "\n",
    "$$\n",
    "-e-E\\leq -M\\leq e-E\n",
    "$$\n",
    "trasponiendo algunos términos encontramos que:\n",
    "\n",
    "$$\n",
    "M-e\\leq E\\leq M+e\n",
    "$$\n",
    "que es el intervalo de horquillado deseado."
   ]
  },
  {
   "cell_type": "markdown",
   "metadata": {},
   "source": [
    "Para el caso hiperbólico la ecuación de Kepler tiene la forma (Ec. [ecuacion_kepler_hiperbolica](#mjx-eqn-eq%3Aecuacion_kepler_hiperbolica)):\n",
    "\n",
    "$$\n",
    "e\\sinh F-F=M\n",
    "$$\n",
    "\n",
    "Usando la respresentación en series de Taylor de la función seno hiperbólico:\n",
    "\n",
    "$$\n",
    "\\sinh F=F+\\frac{F^3}{3!}+\\frac{F^5}{5!}+\\ldots\n",
    "$$ \n",
    "vemos que $\\sinh F$ esta acotada por debajo por: \n",
    "\n",
    "$$\\sinh F\\geq F$$"
   ]
  },
  {
   "cell_type": "markdown",
   "metadata": {},
   "source": [
    "Sin embargo la función no tienen ninguna cota superior.  Con esto, la ecuación de Kepler hiperbólica se puede escribir en forma de desigualdad como:\n",
    "\n",
    "$$\n",
    "M\\geq (e-1)F\n",
    "$$\n",
    "de donde obtenemos el límite superior de nuestro intervalo de horquillado:\n",
    "\n",
    "$$\n",
    "F\\leq\\frac{M}{e-1}\n",
    "$$"
   ]
  },
  {
   "cell_type": "markdown",
   "metadata": {},
   "source": [
    "Ahora bien, sabemos que el mínimo valor de la anomalía excéntrica es $F=0$ cuando $M=0$.  Para todos los valores positivos de $M$, $F\\geq 0$.  Con esto podemos finalmente escribir un intervalo de horquillado completo para el caso hiperbólico como:\n",
    "\n",
    "$$\n",
    "0\\leq F\\leq \\frac{M}{e-1}\n",
    "$$"
   ]
  },
  {
   "cell_type": "markdown",
   "metadata": {},
   "source": [
    "En el algoritmo abajo se ilustra el uso de algunas de los métodos de horquillado implementados en `SciPy.optimize` para resolver la ecuación de Kepler en el ejemplo desarrollado en esta sección:"
   ]
  },
  {
   "cell_type": "code",
   "execution_count": 26,
   "metadata": {
    "codelabel": "",
    "codeplot": 0
   },
   "outputs": [],
   "source": [
    "from numpy import pi\n",
    "from scipy import optimize\n",
    "\n",
    "#Recuerde que funcion_kepler devuelve también las derivadas\n",
    "from pymcel.export import funcion_kepler\n",
    "kepler=lambda G,M,e:funcion_kepler(G,M,e)[0]\n",
    "\n",
    "#Método de bisección\n",
    "E_bis,info_bis=optimize.bisect(kepler,M-e,M+e,rtol=1e-8,\n",
    "                               args=(M,e),full_output=True)\n",
    "ni_bis=info_bis.iterations\n",
    "\n",
    "#Método de Brent\n",
    "E_bre,info_bre=optimize.brentq(kepler,M-e,M+e,rtol=1e-8,\n",
    "                               args=(M,e),full_output=True)\n",
    "ni_bre=info_bre.iterations\n",
    "\n",
    "#Método de Ridder\n",
    "E_rid,info_rid=optimize.ridder(kepler,M-e,M+e,rtol=1e-8,\n",
    "                               args=(M,e),full_output=True)\n",
    "ni_rid=info_rid.iterations"
   ]
  },
  {
   "cell_type": "code",
   "execution_count": 27,
   "metadata": {
    "codelabel": "",
    "codeplot": 0,
    "tags": [
     "hide_input"
    ]
   },
   "outputs": [
    {
     "name": "stdout",
     "output_type": "stream",
     "text": [
      "M = 37, e = 0.50\n",
      "Bisección: E = 62.38420210930057408 iteraciones = 27\n",
      "Brent: E = 62.38420186878084195 iteraciones = 6\n",
      "Ridder: E = 62.38420218086032065 iteraciones = 4\n"
     ]
    }
   ],
   "source": [
    "print(f\"M = {M*180/pi:.2g}, e = {e:.2f}\")\n",
    "print(f\"Bisección:\",\n",
    "      f\"E = {E_bis*180/pi:.17f}\",\n",
    "      f\"iteraciones = {ni_bis}\")\n",
    "print(f\"Brent:\",\n",
    "      f\"E = {E_bre*180/pi:.17f}\",\n",
    "      f\"iteraciones = {ni_bre}\")\n",
    "print(f\"Ridder:\",\n",
    "      f\"E = {E_rid*180/pi:.17f}\",\n",
    "      f\"iteraciones = {ni_rid}\")"
   ]
  },
  {
   "cell_type": "markdown",
   "metadata": {},
   "source": [
    "#### 7.10.5.6. Otros métodos\n",
    "<a id='kepler_otros_metodos'></a>"
   ]
  },
  {
   "cell_type": "markdown",
   "metadata": {},
   "source": [
    "Otro esfuerzo notable realizado especialmente en las últimas décadas <cite data-cite=\"Nijenhuis1991Kepler\"><a href=\"mybook.html#Nijenhuis1991Kepler\">(Nijenhuis, 1991)</a></cite>, <cite data-cite=\"Fukushima1991Kepler\"><a href=\"mybook.html#Fukushima1991Kepler\">(Fukushima, 1991)</a></cite> ha sido el de desarrollar rutinas que resuelven la ecuación de Kepler ejecutando el mínimo número de funciones analíticas (p.e. funciones trigonométricas) o usando únicamente operaciones básicas (multiplicaciones, sumas, divisiones).  \n",
    "\n",
    "En el [Apéndice *Algoritmos y rutinas útiles*](11.00.00.00.ApendiceAlgoritmos.ipynb#algoritmos_utiles) hemos incluido algunas rutinas que se encuentran en la literatura y que usan esta aproximación."
   ]
  },
  {
   "cell_type": "markdown",
   "metadata": {},
   "source": [
    "Un ejemplo de ellas es la rutina `kepler_semianalitico` <cite data-cite=\"Nijenhuis1991Kepler\"><a href=\"mybook.html#Nijenhuis1991Kepler\">(Nijenhuis, 1991)</a></cite>.  Esta rutina cálcula el valor aproximado de la anomalía excéntrica $E$ usando un solo llamado de las funciones seno y coseno.  En comparación la rutina `kepler_newton` (Alg. [kepler_newton](#code:kepler_newton)) en cada iteración usa 3 llamados a las funciones trigonométricas, de modo que cuando, por ejemplo se quiere obtener un valor de $E$ con una precisión muy alta y el número de iteraciones es también alto, gran parte del tiempo de computo se ha invertido en calcular decenas de funciones trigonométricas."
   ]
  },
  {
   "cell_type": "markdown",
   "metadata": {},
   "source": [
    "Un ejemplo del uso de la rutina se muestra a continuación:"
   ]
  },
  {
   "cell_type": "code",
   "execution_count": 28,
   "metadata": {
    "codelabel": "",
    "codeplot": 0
   },
   "outputs": [],
   "source": [
    "from pymcel.export import kepler_semianalitico\n",
    "E,error,ni=kepler_semianalitico(M,e)"
   ]
  },
  {
   "cell_type": "code",
   "execution_count": 29,
   "metadata": {
    "codelabel": "",
    "codeplot": 0,
    "tags": [
     "hide_input"
    ]
   },
   "outputs": [
    {
     "name": "stdout",
     "output_type": "stream",
     "text": [
      "M = 37, e = 0.50\n",
      "E estimada (promedio últimos dos pasos) = 62.38761309530199\n",
      "Error absoluto = 4.4e-03 grados\n",
      "Intervalo = [62.38319428043351,62.392031910170466] grados\n",
      "Número de iteraciones: 1\n"
     ]
    }
   ],
   "source": [
    "print(f\"M = {M*180/pi:.2g}, e = {e:.2f}\")\n",
    "print(f\"E estimada (promedio últimos dos pasos) = {E*180/pi:.14f}\")\n",
    "print(f\"Error absoluto = {error*E*180/pi:.1e} grados\")\n",
    "print(f\"Intervalo = [{(E-error*E)*180/pi},{(E+error*E)*180/pi}] grados\")\n",
    "print(f\"Número de iteraciones: {ni}\")"
   ]
  },
  {
   "cell_type": "markdown",
   "metadata": {},
   "source": [
    "A diferencia de los métodos iterativos vistos antes, la rutina `kepler_semianalitico` no permite calcular el valor de $E$ con una precisión arbitraria.  Por el contrario, para cada valor de $e$ y $M$ existe un único valor devuelto por la rutina y que difiere del valor real en una cantidad que no puede predecirse con anticipación.  Aún así la rutina es suficientemente buena al menos para situaciones en las que no se requiere una excesiva precisión, tal y como se evidencia en la Figura ([code:precision_seminalitica](#fig:code:precision_seminalitica)).  Como vemos allí el error relativo $\\Delta_n=|E-\\bar E|/E$ oscila entre $\\sim 0.01$ (para valores de la excentricidad $e>0.2$) y $\\sim 10^{-12}$ (para bajas excentricidades y algunos valores específicos de $M$."
   ]
  },
  {
   "cell_type": "code",
   "execution_count": 30,
   "metadata": {
    "codelabel": "",
    "codeplot": 0,
    "tags": [
     "hide_pdf",
     "hide_html"
    ]
   },
   "outputs": [],
   "source": [
    "%matplotlib nbagg"
   ]
  },
  {
   "cell_type": "markdown",
   "metadata": {},
   "source": [
    "<a id='code:precision_seminalitica'></a>"
   ]
  },
  {
   "cell_type": "code",
   "execution_count": 31,
   "metadata": {
    "codelabel": "code:precision_seminalitica--hide_input--hide_autocaption",
    "codeplot": 1,
    "figcaption": "<b>Figura 7.91.</b> Errores de la rutina semianalítica, es decir, aquella que resuelve la ecuación de Kepler sin usar iteraciones y solo hace un llamado a las funciones trigonométricas.",
    "tags": [
     "code:precision_seminalitica",
     "hide_input",
     "hide_autocaption"
    ]
   },
   "outputs": [
    {
     "data": {
      "application/javascript": [
       "/* Put everything inside the global mpl namespace */\n",
       "window.mpl = {};\n",
       "\n",
       "\n",
       "mpl.get_websocket_type = function() {\n",
       "    if (typeof(WebSocket) !== 'undefined') {\n",
       "        return WebSocket;\n",
       "    } else if (typeof(MozWebSocket) !== 'undefined') {\n",
       "        return MozWebSocket;\n",
       "    } else {\n",
       "        alert('Your browser does not have WebSocket support. ' +\n",
       "              'Please try Chrome, Safari or Firefox ≥ 6. ' +\n",
       "              'Firefox 4 and 5 are also supported but you ' +\n",
       "              'have to enable WebSockets in about:config.');\n",
       "    };\n",
       "}\n",
       "\n",
       "mpl.figure = function(figure_id, websocket, ondownload, parent_element) {\n",
       "    this.id = figure_id;\n",
       "\n",
       "    this.ws = websocket;\n",
       "\n",
       "    this.supports_binary = (this.ws.binaryType != undefined);\n",
       "\n",
       "    if (!this.supports_binary) {\n",
       "        var warnings = document.getElementById(\"mpl-warnings\");\n",
       "        if (warnings) {\n",
       "            warnings.style.display = 'block';\n",
       "            warnings.textContent = (\n",
       "                \"This browser does not support binary websocket messages. \" +\n",
       "                    \"Performance may be slow.\");\n",
       "        }\n",
       "    }\n",
       "\n",
       "    this.imageObj = new Image();\n",
       "\n",
       "    this.context = undefined;\n",
       "    this.message = undefined;\n",
       "    this.canvas = undefined;\n",
       "    this.rubberband_canvas = undefined;\n",
       "    this.rubberband_context = undefined;\n",
       "    this.format_dropdown = undefined;\n",
       "\n",
       "    this.image_mode = 'full';\n",
       "\n",
       "    this.root = $('<div/>');\n",
       "    this._root_extra_style(this.root)\n",
       "    this.root.attr('style', 'display: inline-block');\n",
       "\n",
       "    $(parent_element).append(this.root);\n",
       "\n",
       "    this._init_header(this);\n",
       "    this._init_canvas(this);\n",
       "    this._init_toolbar(this);\n",
       "\n",
       "    var fig = this;\n",
       "\n",
       "    this.waiting = false;\n",
       "\n",
       "    this.ws.onopen =  function () {\n",
       "            fig.send_message(\"supports_binary\", {value: fig.supports_binary});\n",
       "            fig.send_message(\"send_image_mode\", {});\n",
       "            if (mpl.ratio != 1) {\n",
       "                fig.send_message(\"set_dpi_ratio\", {'dpi_ratio': mpl.ratio});\n",
       "            }\n",
       "            fig.send_message(\"refresh\", {});\n",
       "        }\n",
       "\n",
       "    this.imageObj.onload = function() {\n",
       "            if (fig.image_mode == 'full') {\n",
       "                // Full images could contain transparency (where diff images\n",
       "                // almost always do), so we need to clear the canvas so that\n",
       "                // there is no ghosting.\n",
       "                fig.context.clearRect(0, 0, fig.canvas.width, fig.canvas.height);\n",
       "            }\n",
       "            fig.context.drawImage(fig.imageObj, 0, 0);\n",
       "        };\n",
       "\n",
       "    this.imageObj.onunload = function() {\n",
       "        fig.ws.close();\n",
       "    }\n",
       "\n",
       "    this.ws.onmessage = this._make_on_message_function(this);\n",
       "\n",
       "    this.ondownload = ondownload;\n",
       "}\n",
       "\n",
       "mpl.figure.prototype._init_header = function() {\n",
       "    var titlebar = $(\n",
       "        '<div class=\"ui-dialog-titlebar ui-widget-header ui-corner-all ' +\n",
       "        'ui-helper-clearfix\"/>');\n",
       "    var titletext = $(\n",
       "        '<div class=\"ui-dialog-title\" style=\"width: 100%; ' +\n",
       "        'text-align: center; padding: 3px;\"/>');\n",
       "    titlebar.append(titletext)\n",
       "    this.root.append(titlebar);\n",
       "    this.header = titletext[0];\n",
       "}\n",
       "\n",
       "\n",
       "\n",
       "mpl.figure.prototype._canvas_extra_style = function(canvas_div) {\n",
       "\n",
       "}\n",
       "\n",
       "\n",
       "mpl.figure.prototype._root_extra_style = function(canvas_div) {\n",
       "\n",
       "}\n",
       "\n",
       "mpl.figure.prototype._init_canvas = function() {\n",
       "    var fig = this;\n",
       "\n",
       "    var canvas_div = $('<div/>');\n",
       "\n",
       "    canvas_div.attr('style', 'position: relative; clear: both; outline: 0');\n",
       "\n",
       "    function canvas_keyboard_event(event) {\n",
       "        return fig.key_event(event, event['data']);\n",
       "    }\n",
       "\n",
       "    canvas_div.keydown('key_press', canvas_keyboard_event);\n",
       "    canvas_div.keyup('key_release', canvas_keyboard_event);\n",
       "    this.canvas_div = canvas_div\n",
       "    this._canvas_extra_style(canvas_div)\n",
       "    this.root.append(canvas_div);\n",
       "\n",
       "    var canvas = $('<canvas/>');\n",
       "    canvas.addClass('mpl-canvas');\n",
       "    canvas.attr('style', \"left: 0; top: 0; z-index: 0; outline: 0\")\n",
       "\n",
       "    this.canvas = canvas[0];\n",
       "    this.context = canvas[0].getContext(\"2d\");\n",
       "\n",
       "    var backingStore = this.context.backingStorePixelRatio ||\n",
       "\tthis.context.webkitBackingStorePixelRatio ||\n",
       "\tthis.context.mozBackingStorePixelRatio ||\n",
       "\tthis.context.msBackingStorePixelRatio ||\n",
       "\tthis.context.oBackingStorePixelRatio ||\n",
       "\tthis.context.backingStorePixelRatio || 1;\n",
       "\n",
       "    mpl.ratio = (window.devicePixelRatio || 1) / backingStore;\n",
       "\n",
       "    var rubberband = $('<canvas/>');\n",
       "    rubberband.attr('style', \"position: absolute; left: 0; top: 0; z-index: 1;\")\n",
       "\n",
       "    var pass_mouse_events = true;\n",
       "\n",
       "    canvas_div.resizable({\n",
       "        start: function(event, ui) {\n",
       "            pass_mouse_events = false;\n",
       "        },\n",
       "        resize: function(event, ui) {\n",
       "            fig.request_resize(ui.size.width, ui.size.height);\n",
       "        },\n",
       "        stop: function(event, ui) {\n",
       "            pass_mouse_events = true;\n",
       "            fig.request_resize(ui.size.width, ui.size.height);\n",
       "        },\n",
       "    });\n",
       "\n",
       "    function mouse_event_fn(event) {\n",
       "        if (pass_mouse_events)\n",
       "            return fig.mouse_event(event, event['data']);\n",
       "    }\n",
       "\n",
       "    rubberband.mousedown('button_press', mouse_event_fn);\n",
       "    rubberband.mouseup('button_release', mouse_event_fn);\n",
       "    // Throttle sequential mouse events to 1 every 20ms.\n",
       "    rubberband.mousemove('motion_notify', mouse_event_fn);\n",
       "\n",
       "    rubberband.mouseenter('figure_enter', mouse_event_fn);\n",
       "    rubberband.mouseleave('figure_leave', mouse_event_fn);\n",
       "\n",
       "    canvas_div.on(\"wheel\", function (event) {\n",
       "        event = event.originalEvent;\n",
       "        event['data'] = 'scroll'\n",
       "        if (event.deltaY < 0) {\n",
       "            event.step = 1;\n",
       "        } else {\n",
       "            event.step = -1;\n",
       "        }\n",
       "        mouse_event_fn(event);\n",
       "    });\n",
       "\n",
       "    canvas_div.append(canvas);\n",
       "    canvas_div.append(rubberband);\n",
       "\n",
       "    this.rubberband = rubberband;\n",
       "    this.rubberband_canvas = rubberband[0];\n",
       "    this.rubberband_context = rubberband[0].getContext(\"2d\");\n",
       "    this.rubberband_context.strokeStyle = \"#000000\";\n",
       "\n",
       "    this._resize_canvas = function(width, height) {\n",
       "        // Keep the size of the canvas, canvas container, and rubber band\n",
       "        // canvas in synch.\n",
       "        canvas_div.css('width', width)\n",
       "        canvas_div.css('height', height)\n",
       "\n",
       "        canvas.attr('width', width * mpl.ratio);\n",
       "        canvas.attr('height', height * mpl.ratio);\n",
       "        canvas.attr('style', 'width: ' + width + 'px; height: ' + height + 'px;');\n",
       "\n",
       "        rubberband.attr('width', width);\n",
       "        rubberband.attr('height', height);\n",
       "    }\n",
       "\n",
       "    // Set the figure to an initial 600x600px, this will subsequently be updated\n",
       "    // upon first draw.\n",
       "    this._resize_canvas(600, 600);\n",
       "\n",
       "    // Disable right mouse context menu.\n",
       "    $(this.rubberband_canvas).bind(\"contextmenu\",function(e){\n",
       "        return false;\n",
       "    });\n",
       "\n",
       "    function set_focus () {\n",
       "        canvas.focus();\n",
       "        canvas_div.focus();\n",
       "    }\n",
       "\n",
       "    window.setTimeout(set_focus, 100);\n",
       "}\n",
       "\n",
       "mpl.figure.prototype._init_toolbar = function() {\n",
       "    var fig = this;\n",
       "\n",
       "    var nav_element = $('<div/>');\n",
       "    nav_element.attr('style', 'width: 100%');\n",
       "    this.root.append(nav_element);\n",
       "\n",
       "    // Define a callback function for later on.\n",
       "    function toolbar_event(event) {\n",
       "        return fig.toolbar_button_onclick(event['data']);\n",
       "    }\n",
       "    function toolbar_mouse_event(event) {\n",
       "        return fig.toolbar_button_onmouseover(event['data']);\n",
       "    }\n",
       "\n",
       "    for(var toolbar_ind in mpl.toolbar_items) {\n",
       "        var name = mpl.toolbar_items[toolbar_ind][0];\n",
       "        var tooltip = mpl.toolbar_items[toolbar_ind][1];\n",
       "        var image = mpl.toolbar_items[toolbar_ind][2];\n",
       "        var method_name = mpl.toolbar_items[toolbar_ind][3];\n",
       "\n",
       "        if (!name) {\n",
       "            // put a spacer in here.\n",
       "            continue;\n",
       "        }\n",
       "        var button = $('<button/>');\n",
       "        button.addClass('ui-button ui-widget ui-state-default ui-corner-all ' +\n",
       "                        'ui-button-icon-only');\n",
       "        button.attr('role', 'button');\n",
       "        button.attr('aria-disabled', 'false');\n",
       "        button.click(method_name, toolbar_event);\n",
       "        button.mouseover(tooltip, toolbar_mouse_event);\n",
       "\n",
       "        var icon_img = $('<span/>');\n",
       "        icon_img.addClass('ui-button-icon-primary ui-icon');\n",
       "        icon_img.addClass(image);\n",
       "        icon_img.addClass('ui-corner-all');\n",
       "\n",
       "        var tooltip_span = $('<span/>');\n",
       "        tooltip_span.addClass('ui-button-text');\n",
       "        tooltip_span.html(tooltip);\n",
       "\n",
       "        button.append(icon_img);\n",
       "        button.append(tooltip_span);\n",
       "\n",
       "        nav_element.append(button);\n",
       "    }\n",
       "\n",
       "    var fmt_picker_span = $('<span/>');\n",
       "\n",
       "    var fmt_picker = $('<select/>');\n",
       "    fmt_picker.addClass('mpl-toolbar-option ui-widget ui-widget-content');\n",
       "    fmt_picker_span.append(fmt_picker);\n",
       "    nav_element.append(fmt_picker_span);\n",
       "    this.format_dropdown = fmt_picker[0];\n",
       "\n",
       "    for (var ind in mpl.extensions) {\n",
       "        var fmt = mpl.extensions[ind];\n",
       "        var option = $(\n",
       "            '<option/>', {selected: fmt === mpl.default_extension}).html(fmt);\n",
       "        fmt_picker.append(option);\n",
       "    }\n",
       "\n",
       "    // Add hover states to the ui-buttons\n",
       "    $( \".ui-button\" ).hover(\n",
       "        function() { $(this).addClass(\"ui-state-hover\");},\n",
       "        function() { $(this).removeClass(\"ui-state-hover\");}\n",
       "    );\n",
       "\n",
       "    var status_bar = $('<span class=\"mpl-message\"/>');\n",
       "    nav_element.append(status_bar);\n",
       "    this.message = status_bar[0];\n",
       "}\n",
       "\n",
       "mpl.figure.prototype.request_resize = function(x_pixels, y_pixels) {\n",
       "    // Request matplotlib to resize the figure. Matplotlib will then trigger a resize in the client,\n",
       "    // which will in turn request a refresh of the image.\n",
       "    this.send_message('resize', {'width': x_pixels, 'height': y_pixels});\n",
       "}\n",
       "\n",
       "mpl.figure.prototype.send_message = function(type, properties) {\n",
       "    properties['type'] = type;\n",
       "    properties['figure_id'] = this.id;\n",
       "    this.ws.send(JSON.stringify(properties));\n",
       "}\n",
       "\n",
       "mpl.figure.prototype.send_draw_message = function() {\n",
       "    if (!this.waiting) {\n",
       "        this.waiting = true;\n",
       "        this.ws.send(JSON.stringify({type: \"draw\", figure_id: this.id}));\n",
       "    }\n",
       "}\n",
       "\n",
       "\n",
       "mpl.figure.prototype.handle_save = function(fig, msg) {\n",
       "    var format_dropdown = fig.format_dropdown;\n",
       "    var format = format_dropdown.options[format_dropdown.selectedIndex].value;\n",
       "    fig.ondownload(fig, format);\n",
       "}\n",
       "\n",
       "\n",
       "mpl.figure.prototype.handle_resize = function(fig, msg) {\n",
       "    var size = msg['size'];\n",
       "    if (size[0] != fig.canvas.width || size[1] != fig.canvas.height) {\n",
       "        fig._resize_canvas(size[0], size[1]);\n",
       "        fig.send_message(\"refresh\", {});\n",
       "    };\n",
       "}\n",
       "\n",
       "mpl.figure.prototype.handle_rubberband = function(fig, msg) {\n",
       "    var x0 = msg['x0'] / mpl.ratio;\n",
       "    var y0 = (fig.canvas.height - msg['y0']) / mpl.ratio;\n",
       "    var x1 = msg['x1'] / mpl.ratio;\n",
       "    var y1 = (fig.canvas.height - msg['y1']) / mpl.ratio;\n",
       "    x0 = Math.floor(x0) + 0.5;\n",
       "    y0 = Math.floor(y0) + 0.5;\n",
       "    x1 = Math.floor(x1) + 0.5;\n",
       "    y1 = Math.floor(y1) + 0.5;\n",
       "    var min_x = Math.min(x0, x1);\n",
       "    var min_y = Math.min(y0, y1);\n",
       "    var width = Math.abs(x1 - x0);\n",
       "    var height = Math.abs(y1 - y0);\n",
       "\n",
       "    fig.rubberband_context.clearRect(\n",
       "        0, 0, fig.canvas.width / mpl.ratio, fig.canvas.height / mpl.ratio);\n",
       "\n",
       "    fig.rubberband_context.strokeRect(min_x, min_y, width, height);\n",
       "}\n",
       "\n",
       "mpl.figure.prototype.handle_figure_label = function(fig, msg) {\n",
       "    // Updates the figure title.\n",
       "    fig.header.textContent = msg['label'];\n",
       "}\n",
       "\n",
       "mpl.figure.prototype.handle_cursor = function(fig, msg) {\n",
       "    var cursor = msg['cursor'];\n",
       "    switch(cursor)\n",
       "    {\n",
       "    case 0:\n",
       "        cursor = 'pointer';\n",
       "        break;\n",
       "    case 1:\n",
       "        cursor = 'default';\n",
       "        break;\n",
       "    case 2:\n",
       "        cursor = 'crosshair';\n",
       "        break;\n",
       "    case 3:\n",
       "        cursor = 'move';\n",
       "        break;\n",
       "    }\n",
       "    fig.rubberband_canvas.style.cursor = cursor;\n",
       "}\n",
       "\n",
       "mpl.figure.prototype.handle_message = function(fig, msg) {\n",
       "    fig.message.textContent = msg['message'];\n",
       "}\n",
       "\n",
       "mpl.figure.prototype.handle_draw = function(fig, msg) {\n",
       "    // Request the server to send over a new figure.\n",
       "    fig.send_draw_message();\n",
       "}\n",
       "\n",
       "mpl.figure.prototype.handle_image_mode = function(fig, msg) {\n",
       "    fig.image_mode = msg['mode'];\n",
       "}\n",
       "\n",
       "mpl.figure.prototype.updated_canvas_event = function() {\n",
       "    // Called whenever the canvas gets updated.\n",
       "    this.send_message(\"ack\", {});\n",
       "}\n",
       "\n",
       "// A function to construct a web socket function for onmessage handling.\n",
       "// Called in the figure constructor.\n",
       "mpl.figure.prototype._make_on_message_function = function(fig) {\n",
       "    return function socket_on_message(evt) {\n",
       "        if (evt.data instanceof Blob) {\n",
       "            /* FIXME: We get \"Resource interpreted as Image but\n",
       "             * transferred with MIME type text/plain:\" errors on\n",
       "             * Chrome.  But how to set the MIME type?  It doesn't seem\n",
       "             * to be part of the websocket stream */\n",
       "            evt.data.type = \"image/png\";\n",
       "\n",
       "            /* Free the memory for the previous frames */\n",
       "            if (fig.imageObj.src) {\n",
       "                (window.URL || window.webkitURL).revokeObjectURL(\n",
       "                    fig.imageObj.src);\n",
       "            }\n",
       "\n",
       "            fig.imageObj.src = (window.URL || window.webkitURL).createObjectURL(\n",
       "                evt.data);\n",
       "            fig.updated_canvas_event();\n",
       "            fig.waiting = false;\n",
       "            return;\n",
       "        }\n",
       "        else if (typeof evt.data === 'string' && evt.data.slice(0, 21) == \"data:image/png;base64\") {\n",
       "            fig.imageObj.src = evt.data;\n",
       "            fig.updated_canvas_event();\n",
       "            fig.waiting = false;\n",
       "            return;\n",
       "        }\n",
       "\n",
       "        var msg = JSON.parse(evt.data);\n",
       "        var msg_type = msg['type'];\n",
       "\n",
       "        // Call the  \"handle_{type}\" callback, which takes\n",
       "        // the figure and JSON message as its only arguments.\n",
       "        try {\n",
       "            var callback = fig[\"handle_\" + msg_type];\n",
       "        } catch (e) {\n",
       "            console.log(\"No handler for the '\" + msg_type + \"' message type: \", msg);\n",
       "            return;\n",
       "        }\n",
       "\n",
       "        if (callback) {\n",
       "            try {\n",
       "                // console.log(\"Handling '\" + msg_type + \"' message: \", msg);\n",
       "                callback(fig, msg);\n",
       "            } catch (e) {\n",
       "                console.log(\"Exception inside the 'handler_\" + msg_type + \"' callback:\", e, e.stack, msg);\n",
       "            }\n",
       "        }\n",
       "    };\n",
       "}\n",
       "\n",
       "// from http://stackoverflow.com/questions/1114465/getting-mouse-location-in-canvas\n",
       "mpl.findpos = function(e) {\n",
       "    //this section is from http://www.quirksmode.org/js/events_properties.html\n",
       "    var targ;\n",
       "    if (!e)\n",
       "        e = window.event;\n",
       "    if (e.target)\n",
       "        targ = e.target;\n",
       "    else if (e.srcElement)\n",
       "        targ = e.srcElement;\n",
       "    if (targ.nodeType == 3) // defeat Safari bug\n",
       "        targ = targ.parentNode;\n",
       "\n",
       "    // jQuery normalizes the pageX and pageY\n",
       "    // pageX,Y are the mouse positions relative to the document\n",
       "    // offset() returns the position of the element relative to the document\n",
       "    var x = e.pageX - $(targ).offset().left;\n",
       "    var y = e.pageY - $(targ).offset().top;\n",
       "\n",
       "    return {\"x\": x, \"y\": y};\n",
       "};\n",
       "\n",
       "/*\n",
       " * return a copy of an object with only non-object keys\n",
       " * we need this to avoid circular references\n",
       " * http://stackoverflow.com/a/24161582/3208463\n",
       " */\n",
       "function simpleKeys (original) {\n",
       "  return Object.keys(original).reduce(function (obj, key) {\n",
       "    if (typeof original[key] !== 'object')\n",
       "        obj[key] = original[key]\n",
       "    return obj;\n",
       "  }, {});\n",
       "}\n",
       "\n",
       "mpl.figure.prototype.mouse_event = function(event, name) {\n",
       "    var canvas_pos = mpl.findpos(event)\n",
       "\n",
       "    if (name === 'button_press')\n",
       "    {\n",
       "        this.canvas.focus();\n",
       "        this.canvas_div.focus();\n",
       "    }\n",
       "\n",
       "    var x = canvas_pos.x * mpl.ratio;\n",
       "    var y = canvas_pos.y * mpl.ratio;\n",
       "\n",
       "    this.send_message(name, {x: x, y: y, button: event.button,\n",
       "                             step: event.step,\n",
       "                             guiEvent: simpleKeys(event)});\n",
       "\n",
       "    /* This prevents the web browser from automatically changing to\n",
       "     * the text insertion cursor when the button is pressed.  We want\n",
       "     * to control all of the cursor setting manually through the\n",
       "     * 'cursor' event from matplotlib */\n",
       "    event.preventDefault();\n",
       "    return false;\n",
       "}\n",
       "\n",
       "mpl.figure.prototype._key_event_extra = function(event, name) {\n",
       "    // Handle any extra behaviour associated with a key event\n",
       "}\n",
       "\n",
       "mpl.figure.prototype.key_event = function(event, name) {\n",
       "\n",
       "    // Prevent repeat events\n",
       "    if (name == 'key_press')\n",
       "    {\n",
       "        if (event.which === this._key)\n",
       "            return;\n",
       "        else\n",
       "            this._key = event.which;\n",
       "    }\n",
       "    if (name == 'key_release')\n",
       "        this._key = null;\n",
       "\n",
       "    var value = '';\n",
       "    if (event.ctrlKey && event.which != 17)\n",
       "        value += \"ctrl+\";\n",
       "    if (event.altKey && event.which != 18)\n",
       "        value += \"alt+\";\n",
       "    if (event.shiftKey && event.which != 16)\n",
       "        value += \"shift+\";\n",
       "\n",
       "    value += 'k';\n",
       "    value += event.which.toString();\n",
       "\n",
       "    this._key_event_extra(event, name);\n",
       "\n",
       "    this.send_message(name, {key: value,\n",
       "                             guiEvent: simpleKeys(event)});\n",
       "    return false;\n",
       "}\n",
       "\n",
       "mpl.figure.prototype.toolbar_button_onclick = function(name) {\n",
       "    if (name == 'download') {\n",
       "        this.handle_save(this, null);\n",
       "    } else {\n",
       "        this.send_message(\"toolbar_button\", {name: name});\n",
       "    }\n",
       "};\n",
       "\n",
       "mpl.figure.prototype.toolbar_button_onmouseover = function(tooltip) {\n",
       "    this.message.textContent = tooltip;\n",
       "};\n",
       "mpl.toolbar_items = [[\"Home\", \"Reset original view\", \"fa fa-home icon-home\", \"home\"], [\"Back\", \"Back to previous view\", \"fa fa-arrow-left icon-arrow-left\", \"back\"], [\"Forward\", \"Forward to next view\", \"fa fa-arrow-right icon-arrow-right\", \"forward\"], [\"\", \"\", \"\", \"\"], [\"Pan\", \"Pan axes with left mouse, zoom with right\", \"fa fa-arrows icon-move\", \"pan\"], [\"Zoom\", \"Zoom to rectangle\", \"fa fa-square-o icon-check-empty\", \"zoom\"], [\"\", \"\", \"\", \"\"], [\"Download\", \"Download plot\", \"fa fa-floppy-o icon-save\", \"download\"]];\n",
       "\n",
       "mpl.extensions = [\"eps\", \"jpeg\", \"pdf\", \"png\", \"ps\", \"raw\", \"svg\", \"tif\"];\n",
       "\n",
       "mpl.default_extension = \"png\";var comm_websocket_adapter = function(comm) {\n",
       "    // Create a \"websocket\"-like object which calls the given IPython comm\n",
       "    // object with the appropriate methods. Currently this is a non binary\n",
       "    // socket, so there is still some room for performance tuning.\n",
       "    var ws = {};\n",
       "\n",
       "    ws.close = function() {\n",
       "        comm.close()\n",
       "    };\n",
       "    ws.send = function(m) {\n",
       "        //console.log('sending', m);\n",
       "        comm.send(m);\n",
       "    };\n",
       "    // Register the callback with on_msg.\n",
       "    comm.on_msg(function(msg) {\n",
       "        //console.log('receiving', msg['content']['data'], msg);\n",
       "        // Pass the mpl event to the overridden (by mpl) onmessage function.\n",
       "        ws.onmessage(msg['content']['data'])\n",
       "    });\n",
       "    return ws;\n",
       "}\n",
       "\n",
       "mpl.mpl_figure_comm = function(comm, msg) {\n",
       "    // This is the function which gets called when the mpl process\n",
       "    // starts-up an IPython Comm through the \"matplotlib\" channel.\n",
       "\n",
       "    var id = msg.content.data.id;\n",
       "    // Get hold of the div created by the display call when the Comm\n",
       "    // socket was opened in Python.\n",
       "    var element = $(\"#\" + id);\n",
       "    var ws_proxy = comm_websocket_adapter(comm)\n",
       "\n",
       "    function ondownload(figure, format) {\n",
       "        window.open(figure.imageObj.src);\n",
       "    }\n",
       "\n",
       "    var fig = new mpl.figure(id, ws_proxy,\n",
       "                           ondownload,\n",
       "                           element.get(0));\n",
       "\n",
       "    // Call onopen now - mpl needs it, as it is assuming we've passed it a real\n",
       "    // web socket which is closed, not our websocket->open comm proxy.\n",
       "    ws_proxy.onopen();\n",
       "\n",
       "    fig.parent_element = element.get(0);\n",
       "    fig.cell_info = mpl.find_output_cell(\"<div id='\" + id + \"'></div>\");\n",
       "    if (!fig.cell_info) {\n",
       "        console.error(\"Failed to find cell for figure\", id, fig);\n",
       "        return;\n",
       "    }\n",
       "\n",
       "    var output_index = fig.cell_info[2]\n",
       "    var cell = fig.cell_info[0];\n",
       "\n",
       "};\n",
       "\n",
       "mpl.figure.prototype.handle_close = function(fig, msg) {\n",
       "    var width = fig.canvas.width/mpl.ratio\n",
       "    fig.root.unbind('remove')\n",
       "\n",
       "    // Update the output cell to use the data from the current canvas.\n",
       "    fig.push_to_output();\n",
       "    var dataURL = fig.canvas.toDataURL();\n",
       "    // Re-enable the keyboard manager in IPython - without this line, in FF,\n",
       "    // the notebook keyboard shortcuts fail.\n",
       "    IPython.keyboard_manager.enable()\n",
       "    $(fig.parent_element).html('<img src=\"' + dataURL + '\" width=\"' + width + '\">');\n",
       "    fig.close_ws(fig, msg);\n",
       "}\n",
       "\n",
       "mpl.figure.prototype.close_ws = function(fig, msg){\n",
       "    fig.send_message('closing', msg);\n",
       "    // fig.ws.close()\n",
       "}\n",
       "\n",
       "mpl.figure.prototype.push_to_output = function(remove_interactive) {\n",
       "    // Turn the data on the canvas into data in the output cell.\n",
       "    var width = this.canvas.width/mpl.ratio\n",
       "    var dataURL = this.canvas.toDataURL();\n",
       "    this.cell_info[1]['text/html'] = '<img src=\"' + dataURL + '\" width=\"' + width + '\">';\n",
       "}\n",
       "\n",
       "mpl.figure.prototype.updated_canvas_event = function() {\n",
       "    // Tell IPython that the notebook contents must change.\n",
       "    IPython.notebook.set_dirty(true);\n",
       "    this.send_message(\"ack\", {});\n",
       "    var fig = this;\n",
       "    // Wait a second, then push the new image to the DOM so\n",
       "    // that it is saved nicely (might be nice to debounce this).\n",
       "    setTimeout(function () { fig.push_to_output() }, 1000);\n",
       "}\n",
       "\n",
       "mpl.figure.prototype._init_toolbar = function() {\n",
       "    var fig = this;\n",
       "\n",
       "    var nav_element = $('<div/>');\n",
       "    nav_element.attr('style', 'width: 100%');\n",
       "    this.root.append(nav_element);\n",
       "\n",
       "    // Define a callback function for later on.\n",
       "    function toolbar_event(event) {\n",
       "        return fig.toolbar_button_onclick(event['data']);\n",
       "    }\n",
       "    function toolbar_mouse_event(event) {\n",
       "        return fig.toolbar_button_onmouseover(event['data']);\n",
       "    }\n",
       "\n",
       "    for(var toolbar_ind in mpl.toolbar_items){\n",
       "        var name = mpl.toolbar_items[toolbar_ind][0];\n",
       "        var tooltip = mpl.toolbar_items[toolbar_ind][1];\n",
       "        var image = mpl.toolbar_items[toolbar_ind][2];\n",
       "        var method_name = mpl.toolbar_items[toolbar_ind][3];\n",
       "\n",
       "        if (!name) { continue; };\n",
       "\n",
       "        var button = $('<button class=\"btn btn-default\" href=\"#\" title=\"' + name + '\"><i class=\"fa ' + image + ' fa-lg\"></i></button>');\n",
       "        button.click(method_name, toolbar_event);\n",
       "        button.mouseover(tooltip, toolbar_mouse_event);\n",
       "        nav_element.append(button);\n",
       "    }\n",
       "\n",
       "    // Add the status bar.\n",
       "    var status_bar = $('<span class=\"mpl-message\" style=\"text-align:right; float: right;\"/>');\n",
       "    nav_element.append(status_bar);\n",
       "    this.message = status_bar[0];\n",
       "\n",
       "    // Add the close button to the window.\n",
       "    var buttongrp = $('<div class=\"btn-group inline pull-right\"></div>');\n",
       "    var button = $('<button class=\"btn btn-mini btn-primary\" href=\"#\" title=\"Stop Interaction\"><i class=\"fa fa-power-off icon-remove icon-large\"></i></button>');\n",
       "    button.click(function (evt) { fig.handle_close(fig, {}); } );\n",
       "    button.mouseover('Stop Interaction', toolbar_mouse_event);\n",
       "    buttongrp.append(button);\n",
       "    var titlebar = this.root.find($('.ui-dialog-titlebar'));\n",
       "    titlebar.prepend(buttongrp);\n",
       "}\n",
       "\n",
       "mpl.figure.prototype._root_extra_style = function(el){\n",
       "    var fig = this\n",
       "    el.on(\"remove\", function(){\n",
       "\tfig.close_ws(fig, {});\n",
       "    });\n",
       "}\n",
       "\n",
       "mpl.figure.prototype._canvas_extra_style = function(el){\n",
       "    // this is important to make the div 'focusable\n",
       "    el.attr('tabindex', 0)\n",
       "    // reach out to IPython and tell the keyboard manager to turn it's self\n",
       "    // off when our div gets focus\n",
       "\n",
       "    // location in version 3\n",
       "    if (IPython.notebook.keyboard_manager) {\n",
       "        IPython.notebook.keyboard_manager.register_events(el);\n",
       "    }\n",
       "    else {\n",
       "        // location in version 2\n",
       "        IPython.keyboard_manager.register_events(el);\n",
       "    }\n",
       "\n",
       "}\n",
       "\n",
       "mpl.figure.prototype._key_event_extra = function(event, name) {\n",
       "    var manager = IPython.notebook.keyboard_manager;\n",
       "    if (!manager)\n",
       "        manager = IPython.keyboard_manager;\n",
       "\n",
       "    // Check for shift+enter\n",
       "    if (event.shiftKey && event.which == 13) {\n",
       "        this.canvas_div.blur();\n",
       "        event.shiftKey = false;\n",
       "        // Send a \"J\" for go to next cell\n",
       "        event.which = 74;\n",
       "        event.keyCode = 74;\n",
       "        manager.command_mode();\n",
       "        manager.handle_keydown(event);\n",
       "    }\n",
       "}\n",
       "\n",
       "mpl.figure.prototype.handle_save = function(fig, msg) {\n",
       "    fig.ondownload(fig, null);\n",
       "}\n",
       "\n",
       "\n",
       "mpl.find_output_cell = function(html_output) {\n",
       "    // Return the cell and output element which can be found *uniquely* in the notebook.\n",
       "    // Note - this is a bit hacky, but it is done because the \"notebook_saving.Notebook\"\n",
       "    // IPython event is triggered only after the cells have been serialised, which for\n",
       "    // our purposes (turning an active figure into a static one), is too late.\n",
       "    var cells = IPython.notebook.get_cells();\n",
       "    var ncells = cells.length;\n",
       "    for (var i=0; i<ncells; i++) {\n",
       "        var cell = cells[i];\n",
       "        if (cell.cell_type === 'code'){\n",
       "            for (var j=0; j<cell.output_area.outputs.length; j++) {\n",
       "                var data = cell.output_area.outputs[j];\n",
       "                if (data.data) {\n",
       "                    // IPython >= 3 moved mimebundle to data attribute of output\n",
       "                    data = data.data;\n",
       "                }\n",
       "                if (data['text/html'] == html_output) {\n",
       "                    return [cell, data, j];\n",
       "                }\n",
       "            }\n",
       "        }\n",
       "    }\n",
       "}\n",
       "\n",
       "// Register the function which deals with the matplotlib target/channel.\n",
       "// The kernel may be null if the page has been refreshed.\n",
       "if (IPython.notebook.kernel != null) {\n",
       "    IPython.notebook.kernel.comm_manager.register_target('matplotlib', mpl.mpl_figure_comm);\n",
       "}\n"
      ],
      "text/plain": [
       "<IPython.core.display.Javascript object>"
      ]
     },
     "metadata": {},
     "output_type": "display_data"
    },
    {
     "data": {
      "text/html": [
       "<img src=\"data:image/png;base64,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\" width=\"640\">"
      ],
      "text/plain": [
       "<IPython.core.display.HTML object>"
      ]
     },
     "metadata": {},
     "output_type": "display_data"
    }
   ],
   "source": [
    "from numpy import linspace,pi,zeros,log10\n",
    "\n",
    "#Valores de e y M\n",
    "Ne=30\n",
    "es=linspace(0,0.99,Ne)\n",
    "NM=30\n",
    "Ms=linspace(0.01,2*pi-0.01,NM)\n",
    "\n",
    "#Construye la matriz de errores\n",
    "log_errores=zeros((Ne,NM))\n",
    "for i,ex in enumerate(es):\n",
    "    for j,Mx in enumerate(Ms):\n",
    "        E,error,ni=kepler_semianalitico(Mx,ex)\n",
    "        log_errores[i,j]=log10(error) if error>0 else -14\n",
    "        \n",
    "import matplotlib.pyplot as plt\n",
    "fig=plt.figure()\n",
    "ax=fig.gca()\n",
    "\n",
    "#Gráfico de contorno\n",
    "contorno=plt.contourf(Ms*180/pi,es,log_errores,\n",
    "                      cmap=\"rainbow\",levels=100)\n",
    "color=plt.colorbar(contorno)\n",
    "color.set_label(\"$\\log_{10}(\\Delta_n)$\",fontsize=14)\n",
    "\n",
    "#Decoración\n",
    "ax.set_xlabel(\"$M$ (grados)\");\n",
    "ax.set_ylabel(\"$e$\");\n",
    "\n"
   ]
  },
  {
   "cell_type": "markdown",
   "metadata": {},
   "source": [
    "<a id='code:precision_seminalitica--hide_input--hide_autocaption'></a><center><b>Figura 7.91.</b> Errores de la rutina semianalítica, es decir, aquella que resuelve la ecuación de Kepler sin usar iteraciones y solo hace un llamado a las funciones trigonométricas.</center>"
   ]
  },
  {
   "cell_type": "markdown",
   "metadata": {},
   "source": [
    "Podemos usar `kepler_semianalitico` (pero también cualquiera de las rutinas vistas hasta aquí) para visualizar cómo varía la anomalía excéntrica como función de la anomalía media, para distintos valores de la excentridad.  Para ello, en la Figura ([code:E_vs_M](#fig:code:E_vs_M)) hemos graficado el valor de la función $g(M)=E(M)-M$."
   ]
  },
  {
   "cell_type": "markdown",
   "metadata": {},
   "source": [
    "<a id='code:E_vs_M'></a>"
   ]
  },
  {
   "cell_type": "code",
   "execution_count": 32,
   "metadata": {
    "codelabel": "code:E_vs_M--hide_input--hide_autocaption",
    "codeplot": 1,
    "figcaption": "<b>Figura 7.92.</b> Anomalía excéntrica como función de la anomalía verdadera para distintos valores de la excentricidad.",
    "tags": [
     "code:E_vs_M",
     "hide_input",
     "hide_autocaption"
    ]
   },
   "outputs": [
    {
     "data": {
      "application/javascript": [
       "/* Put everything inside the global mpl namespace */\n",
       "window.mpl = {};\n",
       "\n",
       "\n",
       "mpl.get_websocket_type = function() {\n",
       "    if (typeof(WebSocket) !== 'undefined') {\n",
       "        return WebSocket;\n",
       "    } else if (typeof(MozWebSocket) !== 'undefined') {\n",
       "        return MozWebSocket;\n",
       "    } else {\n",
       "        alert('Your browser does not have WebSocket support. ' +\n",
       "              'Please try Chrome, Safari or Firefox ≥ 6. ' +\n",
       "              'Firefox 4 and 5 are also supported but you ' +\n",
       "              'have to enable WebSockets in about:config.');\n",
       "    };\n",
       "}\n",
       "\n",
       "mpl.figure = function(figure_id, websocket, ondownload, parent_element) {\n",
       "    this.id = figure_id;\n",
       "\n",
       "    this.ws = websocket;\n",
       "\n",
       "    this.supports_binary = (this.ws.binaryType != undefined);\n",
       "\n",
       "    if (!this.supports_binary) {\n",
       "        var warnings = document.getElementById(\"mpl-warnings\");\n",
       "        if (warnings) {\n",
       "            warnings.style.display = 'block';\n",
       "            warnings.textContent = (\n",
       "                \"This browser does not support binary websocket messages. \" +\n",
       "                    \"Performance may be slow.\");\n",
       "        }\n",
       "    }\n",
       "\n",
       "    this.imageObj = new Image();\n",
       "\n",
       "    this.context = undefined;\n",
       "    this.message = undefined;\n",
       "    this.canvas = undefined;\n",
       "    this.rubberband_canvas = undefined;\n",
       "    this.rubberband_context = undefined;\n",
       "    this.format_dropdown = undefined;\n",
       "\n",
       "    this.image_mode = 'full';\n",
       "\n",
       "    this.root = $('<div/>');\n",
       "    this._root_extra_style(this.root)\n",
       "    this.root.attr('style', 'display: inline-block');\n",
       "\n",
       "    $(parent_element).append(this.root);\n",
       "\n",
       "    this._init_header(this);\n",
       "    this._init_canvas(this);\n",
       "    this._init_toolbar(this);\n",
       "\n",
       "    var fig = this;\n",
       "\n",
       "    this.waiting = false;\n",
       "\n",
       "    this.ws.onopen =  function () {\n",
       "            fig.send_message(\"supports_binary\", {value: fig.supports_binary});\n",
       "            fig.send_message(\"send_image_mode\", {});\n",
       "            if (mpl.ratio != 1) {\n",
       "                fig.send_message(\"set_dpi_ratio\", {'dpi_ratio': mpl.ratio});\n",
       "            }\n",
       "            fig.send_message(\"refresh\", {});\n",
       "        }\n",
       "\n",
       "    this.imageObj.onload = function() {\n",
       "            if (fig.image_mode == 'full') {\n",
       "                // Full images could contain transparency (where diff images\n",
       "                // almost always do), so we need to clear the canvas so that\n",
       "                // there is no ghosting.\n",
       "                fig.context.clearRect(0, 0, fig.canvas.width, fig.canvas.height);\n",
       "            }\n",
       "            fig.context.drawImage(fig.imageObj, 0, 0);\n",
       "        };\n",
       "\n",
       "    this.imageObj.onunload = function() {\n",
       "        fig.ws.close();\n",
       "    }\n",
       "\n",
       "    this.ws.onmessage = this._make_on_message_function(this);\n",
       "\n",
       "    this.ondownload = ondownload;\n",
       "}\n",
       "\n",
       "mpl.figure.prototype._init_header = function() {\n",
       "    var titlebar = $(\n",
       "        '<div class=\"ui-dialog-titlebar ui-widget-header ui-corner-all ' +\n",
       "        'ui-helper-clearfix\"/>');\n",
       "    var titletext = $(\n",
       "        '<div class=\"ui-dialog-title\" style=\"width: 100%; ' +\n",
       "        'text-align: center; padding: 3px;\"/>');\n",
       "    titlebar.append(titletext)\n",
       "    this.root.append(titlebar);\n",
       "    this.header = titletext[0];\n",
       "}\n",
       "\n",
       "\n",
       "\n",
       "mpl.figure.prototype._canvas_extra_style = function(canvas_div) {\n",
       "\n",
       "}\n",
       "\n",
       "\n",
       "mpl.figure.prototype._root_extra_style = function(canvas_div) {\n",
       "\n",
       "}\n",
       "\n",
       "mpl.figure.prototype._init_canvas = function() {\n",
       "    var fig = this;\n",
       "\n",
       "    var canvas_div = $('<div/>');\n",
       "\n",
       "    canvas_div.attr('style', 'position: relative; clear: both; outline: 0');\n",
       "\n",
       "    function canvas_keyboard_event(event) {\n",
       "        return fig.key_event(event, event['data']);\n",
       "    }\n",
       "\n",
       "    canvas_div.keydown('key_press', canvas_keyboard_event);\n",
       "    canvas_div.keyup('key_release', canvas_keyboard_event);\n",
       "    this.canvas_div = canvas_div\n",
       "    this._canvas_extra_style(canvas_div)\n",
       "    this.root.append(canvas_div);\n",
       "\n",
       "    var canvas = $('<canvas/>');\n",
       "    canvas.addClass('mpl-canvas');\n",
       "    canvas.attr('style', \"left: 0; top: 0; z-index: 0; outline: 0\")\n",
       "\n",
       "    this.canvas = canvas[0];\n",
       "    this.context = canvas[0].getContext(\"2d\");\n",
       "\n",
       "    var backingStore = this.context.backingStorePixelRatio ||\n",
       "\tthis.context.webkitBackingStorePixelRatio ||\n",
       "\tthis.context.mozBackingStorePixelRatio ||\n",
       "\tthis.context.msBackingStorePixelRatio ||\n",
       "\tthis.context.oBackingStorePixelRatio ||\n",
       "\tthis.context.backingStorePixelRatio || 1;\n",
       "\n",
       "    mpl.ratio = (window.devicePixelRatio || 1) / backingStore;\n",
       "\n",
       "    var rubberband = $('<canvas/>');\n",
       "    rubberband.attr('style', \"position: absolute; left: 0; top: 0; z-index: 1;\")\n",
       "\n",
       "    var pass_mouse_events = true;\n",
       "\n",
       "    canvas_div.resizable({\n",
       "        start: function(event, ui) {\n",
       "            pass_mouse_events = false;\n",
       "        },\n",
       "        resize: function(event, ui) {\n",
       "            fig.request_resize(ui.size.width, ui.size.height);\n",
       "        },\n",
       "        stop: function(event, ui) {\n",
       "            pass_mouse_events = true;\n",
       "            fig.request_resize(ui.size.width, ui.size.height);\n",
       "        },\n",
       "    });\n",
       "\n",
       "    function mouse_event_fn(event) {\n",
       "        if (pass_mouse_events)\n",
       "            return fig.mouse_event(event, event['data']);\n",
       "    }\n",
       "\n",
       "    rubberband.mousedown('button_press', mouse_event_fn);\n",
       "    rubberband.mouseup('button_release', mouse_event_fn);\n",
       "    // Throttle sequential mouse events to 1 every 20ms.\n",
       "    rubberband.mousemove('motion_notify', mouse_event_fn);\n",
       "\n",
       "    rubberband.mouseenter('figure_enter', mouse_event_fn);\n",
       "    rubberband.mouseleave('figure_leave', mouse_event_fn);\n",
       "\n",
       "    canvas_div.on(\"wheel\", function (event) {\n",
       "        event = event.originalEvent;\n",
       "        event['data'] = 'scroll'\n",
       "        if (event.deltaY < 0) {\n",
       "            event.step = 1;\n",
       "        } else {\n",
       "            event.step = -1;\n",
       "        }\n",
       "        mouse_event_fn(event);\n",
       "    });\n",
       "\n",
       "    canvas_div.append(canvas);\n",
       "    canvas_div.append(rubberband);\n",
       "\n",
       "    this.rubberband = rubberband;\n",
       "    this.rubberband_canvas = rubberband[0];\n",
       "    this.rubberband_context = rubberband[0].getContext(\"2d\");\n",
       "    this.rubberband_context.strokeStyle = \"#000000\";\n",
       "\n",
       "    this._resize_canvas = function(width, height) {\n",
       "        // Keep the size of the canvas, canvas container, and rubber band\n",
       "        // canvas in synch.\n",
       "        canvas_div.css('width', width)\n",
       "        canvas_div.css('height', height)\n",
       "\n",
       "        canvas.attr('width', width * mpl.ratio);\n",
       "        canvas.attr('height', height * mpl.ratio);\n",
       "        canvas.attr('style', 'width: ' + width + 'px; height: ' + height + 'px;');\n",
       "\n",
       "        rubberband.attr('width', width);\n",
       "        rubberband.attr('height', height);\n",
       "    }\n",
       "\n",
       "    // Set the figure to an initial 600x600px, this will subsequently be updated\n",
       "    // upon first draw.\n",
       "    this._resize_canvas(600, 600);\n",
       "\n",
       "    // Disable right mouse context menu.\n",
       "    $(this.rubberband_canvas).bind(\"contextmenu\",function(e){\n",
       "        return false;\n",
       "    });\n",
       "\n",
       "    function set_focus () {\n",
       "        canvas.focus();\n",
       "        canvas_div.focus();\n",
       "    }\n",
       "\n",
       "    window.setTimeout(set_focus, 100);\n",
       "}\n",
       "\n",
       "mpl.figure.prototype._init_toolbar = function() {\n",
       "    var fig = this;\n",
       "\n",
       "    var nav_element = $('<div/>');\n",
       "    nav_element.attr('style', 'width: 100%');\n",
       "    this.root.append(nav_element);\n",
       "\n",
       "    // Define a callback function for later on.\n",
       "    function toolbar_event(event) {\n",
       "        return fig.toolbar_button_onclick(event['data']);\n",
       "    }\n",
       "    function toolbar_mouse_event(event) {\n",
       "        return fig.toolbar_button_onmouseover(event['data']);\n",
       "    }\n",
       "\n",
       "    for(var toolbar_ind in mpl.toolbar_items) {\n",
       "        var name = mpl.toolbar_items[toolbar_ind][0];\n",
       "        var tooltip = mpl.toolbar_items[toolbar_ind][1];\n",
       "        var image = mpl.toolbar_items[toolbar_ind][2];\n",
       "        var method_name = mpl.toolbar_items[toolbar_ind][3];\n",
       "\n",
       "        if (!name) {\n",
       "            // put a spacer in here.\n",
       "            continue;\n",
       "        }\n",
       "        var button = $('<button/>');\n",
       "        button.addClass('ui-button ui-widget ui-state-default ui-corner-all ' +\n",
       "                        'ui-button-icon-only');\n",
       "        button.attr('role', 'button');\n",
       "        button.attr('aria-disabled', 'false');\n",
       "        button.click(method_name, toolbar_event);\n",
       "        button.mouseover(tooltip, toolbar_mouse_event);\n",
       "\n",
       "        var icon_img = $('<span/>');\n",
       "        icon_img.addClass('ui-button-icon-primary ui-icon');\n",
       "        icon_img.addClass(image);\n",
       "        icon_img.addClass('ui-corner-all');\n",
       "\n",
       "        var tooltip_span = $('<span/>');\n",
       "        tooltip_span.addClass('ui-button-text');\n",
       "        tooltip_span.html(tooltip);\n",
       "\n",
       "        button.append(icon_img);\n",
       "        button.append(tooltip_span);\n",
       "\n",
       "        nav_element.append(button);\n",
       "    }\n",
       "\n",
       "    var fmt_picker_span = $('<span/>');\n",
       "\n",
       "    var fmt_picker = $('<select/>');\n",
       "    fmt_picker.addClass('mpl-toolbar-option ui-widget ui-widget-content');\n",
       "    fmt_picker_span.append(fmt_picker);\n",
       "    nav_element.append(fmt_picker_span);\n",
       "    this.format_dropdown = fmt_picker[0];\n",
       "\n",
       "    for (var ind in mpl.extensions) {\n",
       "        var fmt = mpl.extensions[ind];\n",
       "        var option = $(\n",
       "            '<option/>', {selected: fmt === mpl.default_extension}).html(fmt);\n",
       "        fmt_picker.append(option);\n",
       "    }\n",
       "\n",
       "    // Add hover states to the ui-buttons\n",
       "    $( \".ui-button\" ).hover(\n",
       "        function() { $(this).addClass(\"ui-state-hover\");},\n",
       "        function() { $(this).removeClass(\"ui-state-hover\");}\n",
       "    );\n",
       "\n",
       "    var status_bar = $('<span class=\"mpl-message\"/>');\n",
       "    nav_element.append(status_bar);\n",
       "    this.message = status_bar[0];\n",
       "}\n",
       "\n",
       "mpl.figure.prototype.request_resize = function(x_pixels, y_pixels) {\n",
       "    // Request matplotlib to resize the figure. Matplotlib will then trigger a resize in the client,\n",
       "    // which will in turn request a refresh of the image.\n",
       "    this.send_message('resize', {'width': x_pixels, 'height': y_pixels});\n",
       "}\n",
       "\n",
       "mpl.figure.prototype.send_message = function(type, properties) {\n",
       "    properties['type'] = type;\n",
       "    properties['figure_id'] = this.id;\n",
       "    this.ws.send(JSON.stringify(properties));\n",
       "}\n",
       "\n",
       "mpl.figure.prototype.send_draw_message = function() {\n",
       "    if (!this.waiting) {\n",
       "        this.waiting = true;\n",
       "        this.ws.send(JSON.stringify({type: \"draw\", figure_id: this.id}));\n",
       "    }\n",
       "}\n",
       "\n",
       "\n",
       "mpl.figure.prototype.handle_save = function(fig, msg) {\n",
       "    var format_dropdown = fig.format_dropdown;\n",
       "    var format = format_dropdown.options[format_dropdown.selectedIndex].value;\n",
       "    fig.ondownload(fig, format);\n",
       "}\n",
       "\n",
       "\n",
       "mpl.figure.prototype.handle_resize = function(fig, msg) {\n",
       "    var size = msg['size'];\n",
       "    if (size[0] != fig.canvas.width || size[1] != fig.canvas.height) {\n",
       "        fig._resize_canvas(size[0], size[1]);\n",
       "        fig.send_message(\"refresh\", {});\n",
       "    };\n",
       "}\n",
       "\n",
       "mpl.figure.prototype.handle_rubberband = function(fig, msg) {\n",
       "    var x0 = msg['x0'] / mpl.ratio;\n",
       "    var y0 = (fig.canvas.height - msg['y0']) / mpl.ratio;\n",
       "    var x1 = msg['x1'] / mpl.ratio;\n",
       "    var y1 = (fig.canvas.height - msg['y1']) / mpl.ratio;\n",
       "    x0 = Math.floor(x0) + 0.5;\n",
       "    y0 = Math.floor(y0) + 0.5;\n",
       "    x1 = Math.floor(x1) + 0.5;\n",
       "    y1 = Math.floor(y1) + 0.5;\n",
       "    var min_x = Math.min(x0, x1);\n",
       "    var min_y = Math.min(y0, y1);\n",
       "    var width = Math.abs(x1 - x0);\n",
       "    var height = Math.abs(y1 - y0);\n",
       "\n",
       "    fig.rubberband_context.clearRect(\n",
       "        0, 0, fig.canvas.width / mpl.ratio, fig.canvas.height / mpl.ratio);\n",
       "\n",
       "    fig.rubberband_context.strokeRect(min_x, min_y, width, height);\n",
       "}\n",
       "\n",
       "mpl.figure.prototype.handle_figure_label = function(fig, msg) {\n",
       "    // Updates the figure title.\n",
       "    fig.header.textContent = msg['label'];\n",
       "}\n",
       "\n",
       "mpl.figure.prototype.handle_cursor = function(fig, msg) {\n",
       "    var cursor = msg['cursor'];\n",
       "    switch(cursor)\n",
       "    {\n",
       "    case 0:\n",
       "        cursor = 'pointer';\n",
       "        break;\n",
       "    case 1:\n",
       "        cursor = 'default';\n",
       "        break;\n",
       "    case 2:\n",
       "        cursor = 'crosshair';\n",
       "        break;\n",
       "    case 3:\n",
       "        cursor = 'move';\n",
       "        break;\n",
       "    }\n",
       "    fig.rubberband_canvas.style.cursor = cursor;\n",
       "}\n",
       "\n",
       "mpl.figure.prototype.handle_message = function(fig, msg) {\n",
       "    fig.message.textContent = msg['message'];\n",
       "}\n",
       "\n",
       "mpl.figure.prototype.handle_draw = function(fig, msg) {\n",
       "    // Request the server to send over a new figure.\n",
       "    fig.send_draw_message();\n",
       "}\n",
       "\n",
       "mpl.figure.prototype.handle_image_mode = function(fig, msg) {\n",
       "    fig.image_mode = msg['mode'];\n",
       "}\n",
       "\n",
       "mpl.figure.prototype.updated_canvas_event = function() {\n",
       "    // Called whenever the canvas gets updated.\n",
       "    this.send_message(\"ack\", {});\n",
       "}\n",
       "\n",
       "// A function to construct a web socket function for onmessage handling.\n",
       "// Called in the figure constructor.\n",
       "mpl.figure.prototype._make_on_message_function = function(fig) {\n",
       "    return function socket_on_message(evt) {\n",
       "        if (evt.data instanceof Blob) {\n",
       "            /* FIXME: We get \"Resource interpreted as Image but\n",
       "             * transferred with MIME type text/plain:\" errors on\n",
       "             * Chrome.  But how to set the MIME type?  It doesn't seem\n",
       "             * to be part of the websocket stream */\n",
       "            evt.data.type = \"image/png\";\n",
       "\n",
       "            /* Free the memory for the previous frames */\n",
       "            if (fig.imageObj.src) {\n",
       "                (window.URL || window.webkitURL).revokeObjectURL(\n",
       "                    fig.imageObj.src);\n",
       "            }\n",
       "\n",
       "            fig.imageObj.src = (window.URL || window.webkitURL).createObjectURL(\n",
       "                evt.data);\n",
       "            fig.updated_canvas_event();\n",
       "            fig.waiting = false;\n",
       "            return;\n",
       "        }\n",
       "        else if (typeof evt.data === 'string' && evt.data.slice(0, 21) == \"data:image/png;base64\") {\n",
       "            fig.imageObj.src = evt.data;\n",
       "            fig.updated_canvas_event();\n",
       "            fig.waiting = false;\n",
       "            return;\n",
       "        }\n",
       "\n",
       "        var msg = JSON.parse(evt.data);\n",
       "        var msg_type = msg['type'];\n",
       "\n",
       "        // Call the  \"handle_{type}\" callback, which takes\n",
       "        // the figure and JSON message as its only arguments.\n",
       "        try {\n",
       "            var callback = fig[\"handle_\" + msg_type];\n",
       "        } catch (e) {\n",
       "            console.log(\"No handler for the '\" + msg_type + \"' message type: \", msg);\n",
       "            return;\n",
       "        }\n",
       "\n",
       "        if (callback) {\n",
       "            try {\n",
       "                // console.log(\"Handling '\" + msg_type + \"' message: \", msg);\n",
       "                callback(fig, msg);\n",
       "            } catch (e) {\n",
       "                console.log(\"Exception inside the 'handler_\" + msg_type + \"' callback:\", e, e.stack, msg);\n",
       "            }\n",
       "        }\n",
       "    };\n",
       "}\n",
       "\n",
       "// from http://stackoverflow.com/questions/1114465/getting-mouse-location-in-canvas\n",
       "mpl.findpos = function(e) {\n",
       "    //this section is from http://www.quirksmode.org/js/events_properties.html\n",
       "    var targ;\n",
       "    if (!e)\n",
       "        e = window.event;\n",
       "    if (e.target)\n",
       "        targ = e.target;\n",
       "    else if (e.srcElement)\n",
       "        targ = e.srcElement;\n",
       "    if (targ.nodeType == 3) // defeat Safari bug\n",
       "        targ = targ.parentNode;\n",
       "\n",
       "    // jQuery normalizes the pageX and pageY\n",
       "    // pageX,Y are the mouse positions relative to the document\n",
       "    // offset() returns the position of the element relative to the document\n",
       "    var x = e.pageX - $(targ).offset().left;\n",
       "    var y = e.pageY - $(targ).offset().top;\n",
       "\n",
       "    return {\"x\": x, \"y\": y};\n",
       "};\n",
       "\n",
       "/*\n",
       " * return a copy of an object with only non-object keys\n",
       " * we need this to avoid circular references\n",
       " * http://stackoverflow.com/a/24161582/3208463\n",
       " */\n",
       "function simpleKeys (original) {\n",
       "  return Object.keys(original).reduce(function (obj, key) {\n",
       "    if (typeof original[key] !== 'object')\n",
       "        obj[key] = original[key]\n",
       "    return obj;\n",
       "  }, {});\n",
       "}\n",
       "\n",
       "mpl.figure.prototype.mouse_event = function(event, name) {\n",
       "    var canvas_pos = mpl.findpos(event)\n",
       "\n",
       "    if (name === 'button_press')\n",
       "    {\n",
       "        this.canvas.focus();\n",
       "        this.canvas_div.focus();\n",
       "    }\n",
       "\n",
       "    var x = canvas_pos.x * mpl.ratio;\n",
       "    var y = canvas_pos.y * mpl.ratio;\n",
       "\n",
       "    this.send_message(name, {x: x, y: y, button: event.button,\n",
       "                             step: event.step,\n",
       "                             guiEvent: simpleKeys(event)});\n",
       "\n",
       "    /* This prevents the web browser from automatically changing to\n",
       "     * the text insertion cursor when the button is pressed.  We want\n",
       "     * to control all of the cursor setting manually through the\n",
       "     * 'cursor' event from matplotlib */\n",
       "    event.preventDefault();\n",
       "    return false;\n",
       "}\n",
       "\n",
       "mpl.figure.prototype._key_event_extra = function(event, name) {\n",
       "    // Handle any extra behaviour associated with a key event\n",
       "}\n",
       "\n",
       "mpl.figure.prototype.key_event = function(event, name) {\n",
       "\n",
       "    // Prevent repeat events\n",
       "    if (name == 'key_press')\n",
       "    {\n",
       "        if (event.which === this._key)\n",
       "            return;\n",
       "        else\n",
       "            this._key = event.which;\n",
       "    }\n",
       "    if (name == 'key_release')\n",
       "        this._key = null;\n",
       "\n",
       "    var value = '';\n",
       "    if (event.ctrlKey && event.which != 17)\n",
       "        value += \"ctrl+\";\n",
       "    if (event.altKey && event.which != 18)\n",
       "        value += \"alt+\";\n",
       "    if (event.shiftKey && event.which != 16)\n",
       "        value += \"shift+\";\n",
       "\n",
       "    value += 'k';\n",
       "    value += event.which.toString();\n",
       "\n",
       "    this._key_event_extra(event, name);\n",
       "\n",
       "    this.send_message(name, {key: value,\n",
       "                             guiEvent: simpleKeys(event)});\n",
       "    return false;\n",
       "}\n",
       "\n",
       "mpl.figure.prototype.toolbar_button_onclick = function(name) {\n",
       "    if (name == 'download') {\n",
       "        this.handle_save(this, null);\n",
       "    } else {\n",
       "        this.send_message(\"toolbar_button\", {name: name});\n",
       "    }\n",
       "};\n",
       "\n",
       "mpl.figure.prototype.toolbar_button_onmouseover = function(tooltip) {\n",
       "    this.message.textContent = tooltip;\n",
       "};\n",
       "mpl.toolbar_items = [[\"Home\", \"Reset original view\", \"fa fa-home icon-home\", \"home\"], [\"Back\", \"Back to previous view\", \"fa fa-arrow-left icon-arrow-left\", \"back\"], [\"Forward\", \"Forward to next view\", \"fa fa-arrow-right icon-arrow-right\", \"forward\"], [\"\", \"\", \"\", \"\"], [\"Pan\", \"Pan axes with left mouse, zoom with right\", \"fa fa-arrows icon-move\", \"pan\"], [\"Zoom\", \"Zoom to rectangle\", \"fa fa-square-o icon-check-empty\", \"zoom\"], [\"\", \"\", \"\", \"\"], [\"Download\", \"Download plot\", \"fa fa-floppy-o icon-save\", \"download\"]];\n",
       "\n",
       "mpl.extensions = [\"eps\", \"jpeg\", \"pdf\", \"png\", \"ps\", \"raw\", \"svg\", \"tif\"];\n",
       "\n",
       "mpl.default_extension = \"png\";var comm_websocket_adapter = function(comm) {\n",
       "    // Create a \"websocket\"-like object which calls the given IPython comm\n",
       "    // object with the appropriate methods. Currently this is a non binary\n",
       "    // socket, so there is still some room for performance tuning.\n",
       "    var ws = {};\n",
       "\n",
       "    ws.close = function() {\n",
       "        comm.close()\n",
       "    };\n",
       "    ws.send = function(m) {\n",
       "        //console.log('sending', m);\n",
       "        comm.send(m);\n",
       "    };\n",
       "    // Register the callback with on_msg.\n",
       "    comm.on_msg(function(msg) {\n",
       "        //console.log('receiving', msg['content']['data'], msg);\n",
       "        // Pass the mpl event to the overridden (by mpl) onmessage function.\n",
       "        ws.onmessage(msg['content']['data'])\n",
       "    });\n",
       "    return ws;\n",
       "}\n",
       "\n",
       "mpl.mpl_figure_comm = function(comm, msg) {\n",
       "    // This is the function which gets called when the mpl process\n",
       "    // starts-up an IPython Comm through the \"matplotlib\" channel.\n",
       "\n",
       "    var id = msg.content.data.id;\n",
       "    // Get hold of the div created by the display call when the Comm\n",
       "    // socket was opened in Python.\n",
       "    var element = $(\"#\" + id);\n",
       "    var ws_proxy = comm_websocket_adapter(comm)\n",
       "\n",
       "    function ondownload(figure, format) {\n",
       "        window.open(figure.imageObj.src);\n",
       "    }\n",
       "\n",
       "    var fig = new mpl.figure(id, ws_proxy,\n",
       "                           ondownload,\n",
       "                           element.get(0));\n",
       "\n",
       "    // Call onopen now - mpl needs it, as it is assuming we've passed it a real\n",
       "    // web socket which is closed, not our websocket->open comm proxy.\n",
       "    ws_proxy.onopen();\n",
       "\n",
       "    fig.parent_element = element.get(0);\n",
       "    fig.cell_info = mpl.find_output_cell(\"<div id='\" + id + \"'></div>\");\n",
       "    if (!fig.cell_info) {\n",
       "        console.error(\"Failed to find cell for figure\", id, fig);\n",
       "        return;\n",
       "    }\n",
       "\n",
       "    var output_index = fig.cell_info[2]\n",
       "    var cell = fig.cell_info[0];\n",
       "\n",
       "};\n",
       "\n",
       "mpl.figure.prototype.handle_close = function(fig, msg) {\n",
       "    var width = fig.canvas.width/mpl.ratio\n",
       "    fig.root.unbind('remove')\n",
       "\n",
       "    // Update the output cell to use the data from the current canvas.\n",
       "    fig.push_to_output();\n",
       "    var dataURL = fig.canvas.toDataURL();\n",
       "    // Re-enable the keyboard manager in IPython - without this line, in FF,\n",
       "    // the notebook keyboard shortcuts fail.\n",
       "    IPython.keyboard_manager.enable()\n",
       "    $(fig.parent_element).html('<img src=\"' + dataURL + '\" width=\"' + width + '\">');\n",
       "    fig.close_ws(fig, msg);\n",
       "}\n",
       "\n",
       "mpl.figure.prototype.close_ws = function(fig, msg){\n",
       "    fig.send_message('closing', msg);\n",
       "    // fig.ws.close()\n",
       "}\n",
       "\n",
       "mpl.figure.prototype.push_to_output = function(remove_interactive) {\n",
       "    // Turn the data on the canvas into data in the output cell.\n",
       "    var width = this.canvas.width/mpl.ratio\n",
       "    var dataURL = this.canvas.toDataURL();\n",
       "    this.cell_info[1]['text/html'] = '<img src=\"' + dataURL + '\" width=\"' + width + '\">';\n",
       "}\n",
       "\n",
       "mpl.figure.prototype.updated_canvas_event = function() {\n",
       "    // Tell IPython that the notebook contents must change.\n",
       "    IPython.notebook.set_dirty(true);\n",
       "    this.send_message(\"ack\", {});\n",
       "    var fig = this;\n",
       "    // Wait a second, then push the new image to the DOM so\n",
       "    // that it is saved nicely (might be nice to debounce this).\n",
       "    setTimeout(function () { fig.push_to_output() }, 1000);\n",
       "}\n",
       "\n",
       "mpl.figure.prototype._init_toolbar = function() {\n",
       "    var fig = this;\n",
       "\n",
       "    var nav_element = $('<div/>');\n",
       "    nav_element.attr('style', 'width: 100%');\n",
       "    this.root.append(nav_element);\n",
       "\n",
       "    // Define a callback function for later on.\n",
       "    function toolbar_event(event) {\n",
       "        return fig.toolbar_button_onclick(event['data']);\n",
       "    }\n",
       "    function toolbar_mouse_event(event) {\n",
       "        return fig.toolbar_button_onmouseover(event['data']);\n",
       "    }\n",
       "\n",
       "    for(var toolbar_ind in mpl.toolbar_items){\n",
       "        var name = mpl.toolbar_items[toolbar_ind][0];\n",
       "        var tooltip = mpl.toolbar_items[toolbar_ind][1];\n",
       "        var image = mpl.toolbar_items[toolbar_ind][2];\n",
       "        var method_name = mpl.toolbar_items[toolbar_ind][3];\n",
       "\n",
       "        if (!name) { continue; };\n",
       "\n",
       "        var button = $('<button class=\"btn btn-default\" href=\"#\" title=\"' + name + '\"><i class=\"fa ' + image + ' fa-lg\"></i></button>');\n",
       "        button.click(method_name, toolbar_event);\n",
       "        button.mouseover(tooltip, toolbar_mouse_event);\n",
       "        nav_element.append(button);\n",
       "    }\n",
       "\n",
       "    // Add the status bar.\n",
       "    var status_bar = $('<span class=\"mpl-message\" style=\"text-align:right; float: right;\"/>');\n",
       "    nav_element.append(status_bar);\n",
       "    this.message = status_bar[0];\n",
       "\n",
       "    // Add the close button to the window.\n",
       "    var buttongrp = $('<div class=\"btn-group inline pull-right\"></div>');\n",
       "    var button = $('<button class=\"btn btn-mini btn-primary\" href=\"#\" title=\"Stop Interaction\"><i class=\"fa fa-power-off icon-remove icon-large\"></i></button>');\n",
       "    button.click(function (evt) { fig.handle_close(fig, {}); } );\n",
       "    button.mouseover('Stop Interaction', toolbar_mouse_event);\n",
       "    buttongrp.append(button);\n",
       "    var titlebar = this.root.find($('.ui-dialog-titlebar'));\n",
       "    titlebar.prepend(buttongrp);\n",
       "}\n",
       "\n",
       "mpl.figure.prototype._root_extra_style = function(el){\n",
       "    var fig = this\n",
       "    el.on(\"remove\", function(){\n",
       "\tfig.close_ws(fig, {});\n",
       "    });\n",
       "}\n",
       "\n",
       "mpl.figure.prototype._canvas_extra_style = function(el){\n",
       "    // this is important to make the div 'focusable\n",
       "    el.attr('tabindex', 0)\n",
       "    // reach out to IPython and tell the keyboard manager to turn it's self\n",
       "    // off when our div gets focus\n",
       "\n",
       "    // location in version 3\n",
       "    if (IPython.notebook.keyboard_manager) {\n",
       "        IPython.notebook.keyboard_manager.register_events(el);\n",
       "    }\n",
       "    else {\n",
       "        // location in version 2\n",
       "        IPython.keyboard_manager.register_events(el);\n",
       "    }\n",
       "\n",
       "}\n",
       "\n",
       "mpl.figure.prototype._key_event_extra = function(event, name) {\n",
       "    var manager = IPython.notebook.keyboard_manager;\n",
       "    if (!manager)\n",
       "        manager = IPython.keyboard_manager;\n",
       "\n",
       "    // Check for shift+enter\n",
       "    if (event.shiftKey && event.which == 13) {\n",
       "        this.canvas_div.blur();\n",
       "        event.shiftKey = false;\n",
       "        // Send a \"J\" for go to next cell\n",
       "        event.which = 74;\n",
       "        event.keyCode = 74;\n",
       "        manager.command_mode();\n",
       "        manager.handle_keydown(event);\n",
       "    }\n",
       "}\n",
       "\n",
       "mpl.figure.prototype.handle_save = function(fig, msg) {\n",
       "    fig.ondownload(fig, null);\n",
       "}\n",
       "\n",
       "\n",
       "mpl.find_output_cell = function(html_output) {\n",
       "    // Return the cell and output element which can be found *uniquely* in the notebook.\n",
       "    // Note - this is a bit hacky, but it is done because the \"notebook_saving.Notebook\"\n",
       "    // IPython event is triggered only after the cells have been serialised, which for\n",
       "    // our purposes (turning an active figure into a static one), is too late.\n",
       "    var cells = IPython.notebook.get_cells();\n",
       "    var ncells = cells.length;\n",
       "    for (var i=0; i<ncells; i++) {\n",
       "        var cell = cells[i];\n",
       "        if (cell.cell_type === 'code'){\n",
       "            for (var j=0; j<cell.output_area.outputs.length; j++) {\n",
       "                var data = cell.output_area.outputs[j];\n",
       "                if (data.data) {\n",
       "                    // IPython >= 3 moved mimebundle to data attribute of output\n",
       "                    data = data.data;\n",
       "                }\n",
       "                if (data['text/html'] == html_output) {\n",
       "                    return [cell, data, j];\n",
       "                }\n",
       "            }\n",
       "        }\n",
       "    }\n",
       "}\n",
       "\n",
       "// Register the function which deals with the matplotlib target/channel.\n",
       "// The kernel may be null if the page has been refreshed.\n",
       "if (IPython.notebook.kernel != null) {\n",
       "    IPython.notebook.kernel.comm_manager.register_target('matplotlib', mpl.mpl_figure_comm);\n",
       "}\n"
      ],
      "text/plain": [
       "<IPython.core.display.Javascript object>"
      ]
     },
     "metadata": {},
     "output_type": "display_data"
    },
    {
     "data": {
      "text/html": [
       "<img src=\"data:image/png;base64,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\" width=\"500\">"
      ],
      "text/plain": [
       "<IPython.core.display.HTML object>"
      ]
     },
     "metadata": {},
     "output_type": "display_data"
    }
   ],
   "source": [
    "import matplotlib.pyplot as plt\n",
    "fig=plt.figure(figsize=(5,5))\n",
    "ax=fig.gca()\n",
    "\n",
    "from numpy import array,linspace,pi\n",
    "es=linspace(0.05,0.95,4)\n",
    "Ms=linspace(0,2*pi,100)\n",
    "\n",
    "for ex in es:\n",
    "    #Valores de la anomalía excéntrica\n",
    "    Es=[kepler_semianalitico(Mx,ex)[0] for Mx in Ms]\n",
    "    ax.plot(array(Ms)*180/pi,array(Es)*180/pi-array(Ms)*180/pi,label=f\"e = {ex:.2f}\");\n",
    "    \n",
    "#Decoración\n",
    "ax.legend();\n",
    "ax.set_xlim((0,360))\n",
    "\n",
    "ax.set_xlabel(\"$M$ (grados)\")\n",
    "ax.set_ylabel(\"$g(M)=E-M$ (grados)\")\n",
    "ax.grid()\n",
    "fig.tight_layout()\n",
    "\n"
   ]
  },
  {
   "cell_type": "markdown",
   "metadata": {},
   "source": [
    "<a id='code:E_vs_M--hide_input--hide_autocaption'></a><center><b>Figura 7.92.</b> Anomalía excéntrica como función de la anomalía verdadera para distintos valores de la excentricidad.</center>"
   ]
  },
  {
   "cell_type": "markdown",
   "metadata": {},
   "source": [
    "De allí podemos comprobar varias propiedades que convendrá mantener presentes en la solución de problemas prácticos en mecánica celeste:\n",
    "\n",
    "- El valor de $E$ coincide con el de $M$ cuando $M=0,\\pi,2\\pi$.  En términos de $g(M)$, esto implica que $g(0)=g(\\pi)=g(2\\pi)=0$.  Llamamos a estos valores los *puntos nodales* de $g$.\n",
    "\n",
    "- La funcion $g(M)$ es periódica en el intervalo $[0,2\\pi)$ y antisimétrica alrededor de $M=\\pi$.  Esto implica que para encontrar la solución a la ecuación de Kepler para cualquier valor de $M$, basta encontrar el valor correspondiente en el intervalo $[0,\\pi]$ y aplicar las reglas de antisimetría correspondientes.  En términos matemáticos, para cualquier valor de $M>\\pi$:\n",
    "\n",
    "  $$\n",
    "  g(M)=-g(2\\pi-M)\n",
    "  $$\n",
    "\n",
    "- Para valores pequeños de $e$, el valor de $E\\approx M$.\n",
    "\n",
    "- La máximas diferencias entre $E$ y $M$, para valores de $e\\approx 1$, se producen cuando $M\\approx 35^\\circ$ y $E\\approx 90^\\circ$. "
   ]
  },
  {
   "cell_type": "markdown",
   "metadata": {},
   "source": [
    "### 7.10.6. Solución analítica por aproximaciones sucesivas\n",
    "<a id='solucion_kepler_aproximacions'></a>"
   ]
  },
  {
   "cell_type": "markdown",
   "metadata": {},
   "source": [
    "La solución numérica a la ecuación de Kepler es una estrategia adecuada cuando se trata de resolver problemas prácticos (predecir la posición de un asteroide, calcular efemérides de los planetas, etc.)  Sin embargo en situaciones teóricas más generales, en las que la solución a la ecuación es parte de algún desarrollo matemático, es poco lo que algoritmos iterativos nos pueden enseñar."
   ]
  },
  {
   "cell_type": "markdown",
   "metadata": {},
   "source": [
    "Para subsanar esta limitación, casi desde el tiempo de Newton se han encontrado soluciones a la ecuación expresadas como sumas parciales o series infinitas (ver [Sección *Series infinitas*](04.01.05.00.Fundamentos.Calculo.Series.ipynb#series_infinitas)), que en el caso de valores pequeños de la excentricidad proveen expresiones algebraicas aproximadas para la anomalía excéntrica (y otras cantides de interés.)"
   ]
  },
  {
   "cell_type": "markdown",
   "metadata": {},
   "source": [
    "Una de las más conocidas representaciones en series de la anomalía excéntrica, puede obtenerse aplicando sucesivamente el método del punto fijo (Ec. [kepler_punto_fijo](#mjx-eqn-eq%3Akepler_punto_fijo)):\n",
    "\n",
    "\\begin{equation}\n",
    "\\label{eq:E_iteracion}\n",
    "E_{n+1}=M+e\\sin E_{n}\n",
    "\\end{equation}"
   ]
  },
  {
   "cell_type": "markdown",
   "metadata": {},
   "source": [
    "Si hacemos $E_0 = M$ y calculamos analíticamente el valor de las primeras dos aproximaciones obtenemos:\n",
    "\n",
    "\\begin{eqnarray}\n",
    "\\label{eq:E_e1}\n",
    "E_1 & = & M+e\\sin M \\\\\n",
    "\\nonumber\n",
    "E_2 & = & M+e\\sin (M+e\\sin M)\n",
    "\\end{eqnarray}"
   ]
  },
  {
   "cell_type": "markdown",
   "metadata": {},
   "source": [
    "Aplicando las identidades de suma de ángulos en la última expresión, podemos escribir:\n",
    "\n",
    "\\begin{equation}\n",
    "\\label{eq:E2}\n",
    "\\begin{array}{rcl}\n",
    "E_2 & = & M+e\\sin (M+e\\sin M) \\\\\n",
    "    & = & M + e[\\sin M \\cos (e\\sin M) + \\sin (e\\sin M)\\cos M]\n",
    "\\end{array}\n",
    "\\end{equation}\n",
    "\n",
    "Las funciones trigonométricas en esta ecuación que tienen como argumento la cantidad $e\\sin M<1$, pueden aproximarse usando las series de Taylor de $\\cos$ y $\\sin$ (Ecs. [sin_taylor](#mjx-eqn-eq%3Asin_taylor) y [cos_taylor](#mjx-eqn-eq%3Acos_taylor)):\n",
    "\n",
    "\\begin{eqnarray}\n",
    "\\label{eq:cos_taylor}\n",
    "\\cos t & = & 1-\\frac{t^2}{2!} + \\frac{t^4}{4!} +\\ldots\\\\\n",
    "\\label{eq:sin_taylor}\n",
    "\\sin t & = & t-\\frac{t^3}{3!} + \\frac{t^5}{5!} +\\ldots\n",
    "\\end{eqnarray}"
   ]
  },
  {
   "cell_type": "markdown",
   "metadata": {},
   "source": [
    "Usando estas representaciones de las funciones trigonométricas y truncando los términos proporcionales a  $e^3$ o potencias superiores de $e$, el valor de $E_2$ en la Ec. ([E2](#mjx-eqn-eq%3AE2)) se puede escribir como:\n",
    "\n",
    "\\begin{equation}\n",
    "\\label{eq:E_e2}\n",
    "E_2 \\approx M + e\\sin M + \\frac{1}{2}e^2 \\sin 2M\n",
    "\\end{equation}\n",
    "\n",
    "El subíndice 2 en esta expresión entonces ya no solo representa el hecho de que se trata de la segunda iteración en el método de punto fijo, sino también de que esta expresión puede darnos el valor aproximado de la excentricidad con un error proporcional a $e^3$.  Es decir, si la escentricidad es suficientemente pequeña $e\\ll 1$ la Ec. ([E_e2](#mjx-eqn-eq%3AE_e2)) ofrecerá una aproximación bastante buena para la anomalía excéntrica."
   ]
  },
  {
   "cell_type": "markdown",
   "metadata": {},
   "source": [
    "Si continuamos el proceso con una nueva iteración de la Ec. ([E_iteracion](#mjx-eqn-eq%3AE_iteracion)), pero usamos la expresión aproximada de $E_2$ obtenida en la Ec. ([E_e2](#mjx-eqn-eq%3AE_e2)) obtenemos:\n",
    "\n",
    "$$\n",
    "E_3 = M + e\\sin \\left(M + e\\sin M + \\frac{1}{2}e^2 \\sin 2M \\right)\n",
    "$$"
   ]
  },
  {
   "cell_type": "markdown",
   "metadata": {},
   "source": [
    "Aplicando nuevamente la identidades del seno de suma de ángulos y expandiendo las funciones trigonométricas compuestas hasta términos de orden $e^3$ (truncando todos los términos de orden $e^4$ y superiores) obtenemos una nueva aproximación:\n",
    "\n",
    "\\begin{equation}\n",
    "\\label{eq:E_e3}\n",
    "E_3 \\approx M + \\left(e - \\frac{1}{8}e^3 \\right)\\sin M + \\frac{1}{2}e^2\\sin 2M + \\frac{3}{8}e^3\\sin 3M\n",
    "\\end{equation}"
   ]
  },
  {
   "cell_type": "markdown",
   "metadata": {},
   "source": [
    "La siguiente rutina permite calcular las aproximaciones provistas aquí:"
   ]
  },
  {
   "cell_type": "markdown",
   "metadata": {},
   "source": [
    "<a id='code:kepler_aproximacion'></a>"
   ]
  },
  {
   "cell_type": "code",
   "execution_count": 33,
   "metadata": {
    "codelabel": "code:kepler_aproximacion--export",
    "codeplot": 0,
    "tags": [
     "code:kepler_aproximacion",
     "export"
    ]
   },
   "outputs": [],
   "source": [
    "def kepler_aproximacion(M,e,orden=1):\n",
    "    from math import sin\n",
    "    \n",
    "    #Formula de acuerdo al orden de aproximacion\n",
    "    if orden==1:\n",
    "        E=M+e*sin(M)\n",
    "    elif orden==2:\n",
    "        E=M+e*sin(M)+0.5*e**2*sin(2*M)\n",
    "    elif orden==3:\n",
    "        E=M+(e-1./8*e**3)*sin(M)+0.5*e**2*sin(2*M)+3./8*e**3*sin(3*M)\n",
    "        \n",
    "    #Estimación el error relativo\n",
    "    Ma=E-e*sin(E)\n",
    "    Dn=abs(Ma-M)/M\n",
    "    \n",
    "    return E,Dn,1"
   ]
  },
  {
   "cell_type": "markdown",
   "metadata": {},
   "source": [
    "Un ejemplo de uso de la rutina se muestra en este algoritmo:"
   ]
  },
  {
   "cell_type": "code",
   "execution_count": 34,
   "metadata": {
    "codelabel": "",
    "codeplot": 0
   },
   "outputs": [],
   "source": [
    "E1,error1,ni1=kepler_aproximacion(M,e,orden=1)\n",
    "E2,error2,ni1=kepler_aproximacion(M,e,orden=2)\n",
    "E3,error3,ni1=kepler_aproximacion(M,e,orden=3)"
   ]
  },
  {
   "cell_type": "code",
   "execution_count": 35,
   "metadata": {
    "codelabel": "",
    "codeplot": 0,
    "tags": [
     "hide_input"
    ]
   },
   "outputs": [
    {
     "name": "stdout",
     "output_type": "stream",
     "text": [
      "M = 37, e = 0.50\n",
      "E (orden e) = 54.2407304 (error 6.006443353743711)\n",
      "E (orden e^2) = 61.1252602 (error 0.9610525147400825)\n",
      "E (orden e^3) = 63.0938414 (error 0.5471173899178785)\n"
     ]
    }
   ],
   "source": [
    "print(f\"M = {M*180/pi:.2g}, e = {e:.2f}\")\n",
    "print(f\"E (orden e) = {E1*180/pi:.7f} (error {error1*M*180/pi})\")\n",
    "print(f\"E (orden e^2) = {E2*180/pi:.7f} (error {error2*M*180/pi})\")\n",
    "print(f\"E (orden e^3) = {E3*180/pi:.7f} (error {error3*M*180/pi})\")"
   ]
  },
  {
   "cell_type": "markdown",
   "metadata": {},
   "source": [
    "En el [Apéndice *Algoritmos y rutinas útiles*](11.00.00.00.ApendiceAlgoritmos.ipynb#algoritmos_utiles) hemos incluído una rutina, `kepler_eserie`, que permite calcular la anomalía excéntrica usando términos hasta un orden arbitrario $e^n$.  Un ejemplo del uso de la rutina se presenta a continuación "
   ]
  },
  {
   "cell_type": "code",
   "execution_count": 36,
   "metadata": {
    "codelabel": "",
    "codeplot": 0
   },
   "outputs": [],
   "source": [
    "from pymcel.export import kepler_eserie\n",
    "E8,error8,ni1=kepler_eserie(M,e,orden=8)"
   ]
  },
  {
   "cell_type": "code",
   "execution_count": 37,
   "metadata": {
    "codelabel": "",
    "codeplot": 0,
    "tags": [
     "hide_input"
    ]
   },
   "outputs": [
    {
     "name": "stdout",
     "output_type": "stream",
     "text": [
      "M = 37, e = 0.50\n",
      "E (orden e^8) = 62.3103928 (error 0.003867448222173536)\n"
     ]
    }
   ],
   "source": [
    "print(f\"M = {M*180/pi:.2g}, e = {e:.2f}\")\n",
    "print(f\"E (orden e^8) = {E8*180/pi:.7f} (error {error8*M*180/pi})\")"
   ]
  },
  {
   "cell_type": "markdown",
   "metadata": {},
   "source": [
    "Esta rutina puede usarse de la misma manera que hemos usado otras anteriormente, proveyendo el valor de la tolerancia con la que se quiere encontrar la anomalía excéntrica:"
   ]
  },
  {
   "cell_type": "code",
   "execution_count": 38,
   "metadata": {
    "codelabel": "",
    "codeplot": 0
   },
   "outputs": [],
   "source": [
    "E,error,ni=kepler_eserie(M,e,1e-8)"
   ]
  },
  {
   "cell_type": "code",
   "execution_count": 39,
   "metadata": {
    "codelabel": "",
    "codeplot": 0,
    "tags": [
     "hide_input"
    ]
   },
   "outputs": [
    {
     "name": "stdout",
     "output_type": "stream",
     "text": [
      "M = 37, e = 0.50\n",
      "E estimada (promedio últimos dos pasos) = 62.38420069661132\n",
      "Error absoluto = 3.1e-07 grados\n",
      "Intervalo = [62.38420038384044,62.38420100938219] grados\n",
      "Número de iteraciones: 32\n"
     ]
    }
   ],
   "source": [
    "print(f\"M = {M*180/pi:.2g}, e = {e:.2f}\")\n",
    "print(f\"E estimada (promedio últimos dos pasos) = {E*180/pi:.14f}\")\n",
    "print(f\"Error absoluto = {error*E*180/pi:.1e} grados\")\n",
    "print(f\"Intervalo = [{(E-error*E)*180/pi},{(E+error*E)*180/pi}] grados\")\n",
    "print(f\"Número de iteraciones: {ni}\")"
   ]
  },
  {
   "cell_type": "markdown",
   "metadata": {},
   "source": [
    "El cálculo numérico de la anomalía excéntrica con esta serie de aproximaciones sucesivas no es sin embargo muy eficiente y solo converge cuando $e<0.6$ (ver [Apéndice *Algoritmos y rutinas útiles*](11.00.00.00.ApendiceAlgoritmos.ipynb#algoritmos_utiles).)"
   ]
  },
  {
   "cell_type": "markdown",
   "metadata": {},
   "source": [
    "### 7.10.7. Solución por series de la ecuación de Kepler\n",
    "<a id='solucion_kepler_series'></a>"
   ]
  },
  {
   "cell_type": "markdown",
   "metadata": {},
   "source": [
    "En la solución a la ecuación de Kepler discutida en la sección anterior, vimos que al usar aproximaciones sucesivas, la anomalía excéntrica se puede escribir en la forma:\n",
    "\n",
    "$$\n",
    "g(M)=E-M=B_1(e)\\sin(M)+B_2(e)\\sin(2M)+B_3(e)\\sin(3M)+\\ldots\n",
    "$$\n",
    "donde $B_1$, $B_2$, $B_3$, ... son funciones de la excentricidad que deben encontrarse con los procedimientos vistos. "
   ]
  },
  {
   "cell_type": "markdown",
   "metadata": {},
   "source": [
    "El hecho de que este procedimiento pueda extenderse indefinidamente nos conduce naturalmente a suponer que la función $g(M)$ puede escribirse en general como la serie infinita:\n",
    "\n",
    "\\begin{equation}\n",
    "\\label{eq:serie_gM}\n",
    "g(M)=\\sum_{n=1}^{\\infty} B_n(e)\\sin(nM)\n",
    "\\end{equation}\n",
    "es decir como una serie de Fourier."
   ]
  },
  {
   "cell_type": "markdown",
   "metadata": {},
   "source": [
    "Como vimos en la [Sección *Series infinitas*](04.01.05.00.Fundamentos.Calculo.Series.ipynb#series_infinitas) los coeficiente $B_n$ de la serie en la Ec. ([serie_gM](#mjx-eqn-eq%3Aserie_gM)) se pueden calcular usando:\n",
    "\n",
    "$$\n",
    "B_n=\\frac{1}{\\pi}\\int_0^{2\\pi} g(M)\\sin(nM)\\;\\mathrm{d}M\n",
    "$$"
   ]
  },
  {
   "cell_type": "markdown",
   "metadata": {},
   "source": [
    "Si tenemos en cuenta las propiedades de simetría de $g(M)$, a saber $g(M>\\pi)=-g(2\\pi-M)$, la integral anterior se puede escribir como:\n",
    "\n",
    "$$\n",
    "B_n=\\frac{1}{\\pi}\\left[\\int_0^{\\pi} g(M)\\sin(nM)\\;\\mathrm{d}M-\\int_\\pi^{2\\pi} g(2\\pi-M)\\sin(nM)\\;\\mathrm{d}M\\right]\n",
    "$$\n",
    "que después de un cambio de variable $M'=2\\pi-M$ en la segunda integral entre corchetes, conduce a la integral más sencilla:\n",
    "\n",
    "$$\n",
    "B_n=\\frac{2}{\\pi}\\int_0^{\\pi} g(M)\\sin(nM)\n",
    "$$"
   ]
  },
  {
   "cell_type": "markdown",
   "metadata": {},
   "source": [
    "Integrando por partes con $u=g(M)$ y $dv=sin(nM)\\;\\mathrm{d}M$ obtenemos:\n",
    "\n",
    "$$\n",
    "B_n=\\frac{2}{n\\pi}\\left\\{\\left[-g(M)\\cos(nM)\\right]_0^{\\pi}+\\int_0^{\\pi} \\cos(nM)\\mathrm{d}g\\right\\}\n",
    "$$"
   ]
  },
  {
   "cell_type": "markdown",
   "metadata": {},
   "source": [
    "Teniendo en cuenta que $g(0)=g(\\pi)=0$ (ver Figura ([code:E_vs_M](#fig:code:E_vs_M))), $\\mathrm{d}g=\\mathrm{d}E$ y $M=E-e\\sin E$, el coeficiente $A_n$ se puede escribir como:\n",
    "\n",
    "\\begin{equation}\n",
    "\\label{eq:An}\n",
    "B_n=\\frac{2}{n}\\left[\\frac{1}{\\pi}\\int_0^\\pi \\cos(nE-ne\\sin E)\\;\\mathrm{d}E\\right]\n",
    "\\end{equation}"
   ]
  },
  {
   "cell_type": "markdown",
   "metadata": {
    "label": "",
    "subtitle": "Las funciones de Bessel y la ecuación de Kepler",
    "tags": [
     "box_history"
    ],
    "title": "Un poco de historia"
   },
   "source": [
    "> **Un poco de historia: Las funciones de Bessel y la ecuación de Kepler.**<a id=''></a> La importancia de la función entre corchetes en la Ec. [An](#mjx-eqn-eq%3AAn) fue reconocida por primera vez por Friederich Wilhelm Bessel ([\"Fridrich Vilhelm Besel\"](https://forvo.com/search/Friedrich%20Wilhelm%20Bessel/de/)) en 1826.  En un artículo histórico que publico ese mismo año, Bessel introdujo por primera vez la definición:\n",
    "\n",
    "> \\begin{equation}\n",
    "  \\label{eq:Jn_integral}\n",
    "  J_n(x)\\equiv\\frac{1}{\\pi}\\int_0^{\\pi} \\cos(n\\theta-x\\sin \\theta)\\;\\mathrm{d}\\theta\n",
    "  \\end{equation}\n",
    "> y llamo a estas funciones *Funciones de Bessel*. \n",
    "\n",
    "> En el mismo artículo, Bessel demostró que estas funciones pueden expresarse como series de Taylor en la forma:\n",
    "\n",
    "> \\begin{equation}\n",
    "  \\label{eq:Jn_serie}\n",
    "  J_n(x) = \\sum_{k=0}^{\\infty} \\frac{(-1)^k}{(n+k)! k!}\\left(\\frac{x}{2} \\right)^{n+2k}\n",
    "  \\end{equation}\n",
    "> y mostró adicionalmente que satisfacen una ecuación diferencial característica, conocida hoy también como la *ecuación diferencial de Bessel*. \n",
    "\n",
    "> Hoy sabemos que estas funciones eran ya conocidas, al menos en la forma de series de potencias desde 1703 por Johan Bernoulli y después fueron aplicadas en 1764 por Leonhard Euler en sus estudios sobre las vibraciones.\n",
    "\n",
    "> Es sin embargo notable, descubrir que fueron escritas por primera vez por Bessel en relación con un problema de Mecánica Celeste."
   ]
  },
  {
   "cell_type": "markdown",
   "metadata": {},
   "source": [
    "Finalmente la solución a la ecuación de Kepler se puede escribir en forma de la serie infinita:\n",
    "\n",
    "\\begin{equation}\n",
    "\\label{eq:kepler_bessel}\n",
    "E = M + \\sum_{n=1}^{\\infty} \\frac{2}{n}J_n(ne)\\sin (nM)\n",
    "\\end{equation}\n",
    "donde $J_n$ son las funciones de Bessel de *primer tipo* (Ecs. [Jn_integral](#mjx-eqn-eq%3AJn_integral) y [Jn_serie](#mjx-eqn-eq%3AJn_serie)) y a las cantidad $J_n(ne)$ se las conoce en mecánica celeste como *coeficiente de Bessel*.\n",
    "\n",
    "Es importante anotar que esta serie converge para cualquier valor de $e<1$."
   ]
  },
  {
   "cell_type": "markdown",
   "metadata": {},
   "source": [
    "En el [Apéndice *Algoritmos y rutinas útiles*](11.00.00.00.ApendiceAlgoritmos.ipynb#algoritmos_utiles) encontrarán el algoritmo de la rutina `kepler_bessel(M,e,delta)` que implementa la Ec. ([kepler_bessel](#mjx-eqn-eq%3Akepler_bessel)).  Un ejemplo de uso se muestra en el algoritmo a continuación"
   ]
  },
  {
   "cell_type": "code",
   "execution_count": 40,
   "metadata": {
    "codelabel": "",
    "codeplot": 0
   },
   "outputs": [],
   "source": [
    "from pymcel.export import kepler_bessel\n",
    "E,error,n=kepler_bessel(M,e,1e-8)"
   ]
  },
  {
   "cell_type": "code",
   "execution_count": 41,
   "metadata": {
    "codelabel": "",
    "codeplot": 0,
    "scrolled": false,
    "tags": [
     "hide_input"
    ]
   },
   "outputs": [
    {
     "name": "stdout",
     "output_type": "stream",
     "text": [
      "M = 37, e = 0.50\n",
      "E estimada (promedio últimos dos pasos) = 62.38420129936800\n",
      "Error absoluto = 8.0e-08 grados\n",
      "Intervalo = [62.38420121961613,62.38420137911987] grados\n",
      "Número de iteraciones: 32\n"
     ]
    }
   ],
   "source": [
    "print(f\"M = {M*180/pi:.2g}, e = {e:.2f}\")\n",
    "print(f\"E estimada (promedio últimos dos pasos) = {E*180/pi:.14f}\")\n",
    "print(f\"Error absoluto = {error*E*180/pi:.1e} grados\")\n",
    "print(f\"Intervalo = [{(E-error*E)*180/pi},{(E+error*E)*180/pi}] grados\")\n",
    "print(f\"Número de iteraciones: {ni}\")"
   ]
  },
  {
   "cell_type": "markdown",
   "metadata": {},
   "source": [
    "Nótese que los métodos de las aproximaciones sucesivas visto en la sección anterior como el de la serie de Fourier visto aquí, proveen aproximaciones analíticas muy útiles para la teoría, pero, como ha quedado demostrado en los algortimos en los que los implementamos, su eficiencia numérica es muy inferior a la de los métodos iterativos vistos en la [Sección *Solución numérica a la ecuación de Kepler*](#solucion_kepler_numerica)."
   ]
  },
  {
   "cell_type": "markdown",
   "metadata": {},
   "source": [
    "### 7.10.8. Eficiencia de los métodos de solución\n",
    "<a id='kepler_precision_eficiencia'></a>"
   ]
  },
  {
   "cell_type": "markdown",
   "metadata": {},
   "source": [
    "En las libretas que encontrará con la [versión electrónica del libro](http://github.com/seap-udea/MecanicaCeleste-Zuluaga) encontrará algoritmos que permiten evaluar el tiempo de ejecución y comparar la eficiencia de los distintos métodos numéricos presentados aquí."
   ]
  },
  {
   "cell_type": "markdown",
   "metadata": {
    "tags": [
     "hide_html"
    ]
   },
   "source": [
    "Para comparar la eficiencia de las distintas rutinas introducidas en estas secciones, usaremos el *comando mágico* de `Jupyter`, `%timeit` que permite determinar el valor promedio del tiempo de ejecución de una rutina."
   ]
  },
  {
   "cell_type": "markdown",
   "metadata": {
    "tags": [
     "hide_html"
    ]
   },
   "source": [
    "Primero decidamos los valores de $M$ y $e$ en los que queremos evaluar la eficiencia de las rutinas:"
   ]
  },
  {
   "cell_type": "code",
   "execution_count": 42,
   "metadata": {
    "codelabel": "",
    "codeplot": 0,
    "tags": [
     "hide_html"
    ]
   },
   "outputs": [],
   "source": [
    "e=0.48\n",
    "M=298*pi/180"
   ]
  },
  {
   "cell_type": "markdown",
   "metadata": {
    "tags": [
     "hide_html"
    ]
   },
   "source": [
    "Ahora debemos escoger el valor de la tolerancia $\\delta$ que exigiremos a las rutinas iterativas y a las series.  Para ello podemos usar el error relativo obtenido con la rutina semianalítica:"
   ]
  },
  {
   "cell_type": "code",
   "execution_count": 43,
   "metadata": {
    "codelabel": "",
    "codeplot": 0,
    "tags": [
     "hide_html"
    ]
   },
   "outputs": [],
   "source": [
    "E,delta_semi,ni=kepler_semianalitico(M,e)"
   ]
  },
  {
   "cell_type": "code",
   "execution_count": 44,
   "metadata": {
    "codelabel": "",
    "codeplot": 0,
    "tags": [
     "hide_input",
     "hide_html"
    ]
   },
   "outputs": [
    {
     "name": "stdout",
     "output_type": "stream",
     "text": [
      "E = 270.4990668992051\n",
      "Error = 7.451523386894413e-09\n"
     ]
    }
   ],
   "source": [
    "print(f\"E = {E*180/pi}\")\n",
    "print(f\"Error = {delta_semi}\")"
   ]
  },
  {
   "cell_type": "markdown",
   "metadata": {
    "tags": [
     "hide_html"
    ]
   },
   "source": [
    "Hay dos maneras de medir el tiempo de ejecución.  En `Jupyter` podemos usar el *comando mágico* `%timeit`, que hace una estimación estadística del tiempo promedio de ejecución de un algoritmo, que puede variar dependiendo de la máquina y los procesos activos, y de su *desviación estándar* (error):"
   ]
  },
  {
   "cell_type": "code",
   "execution_count": 48,
   "metadata": {
    "codelabel": "",
    "codeplot": 0,
    "tags": [
     "hide_html"
    ]
   },
   "outputs": [
    {
     "name": "stdout",
     "output_type": "stream",
     "text": [
      "Semianalítico:\n",
      "9.93 µs ± 1.04 µs per loop (mean ± std. dev. of 7 runs, 1000 loops each)\n",
      "Newton:\n",
      "114 µs ± 6.99 µs per loop (mean ± std. dev. of 7 runs, 1000 loops each)\n",
      "Kepler (punto fijo):\n",
      "17.7 µs ± 1.15 µs per loop (mean ± std. dev. of 7 runs, 1000 loops each)\n",
      "Método de bisección:\n",
      "429 µs ± 89.9 µs per loop (mean ± std. dev. of 7 runs, 1000 loops each)\n",
      "Método de Brent:\n",
      "111 µs ± 9.44 µs per loop (mean ± std. dev. of 7 runs, 1000 loops each)\n",
      "Método de Ridder:\n",
      "205 µs ± 55.7 µs per loop (mean ± std. dev. of 7 runs, 1000 loops each)\n",
      "Aproximaciones sucesivas:\n",
      "550 µs ± 29.2 µs per loop (mean ± std. dev. of 7 runs, 1000 loops each)\n",
      "Serie de Fourier con coeficientes de Bessel:\n",
      "188 µs ± 14.7 µs per loop (mean ± std. dev. of 7 runs, 1000 loops each)\n"
     ]
    }
   ],
   "source": [
    "from pymcel.export import funcion_kepler\n",
    "kepler=lambda G,M,e:funcion_kepler(G,M,e)[0]\n",
    "\n",
    "print(\"Semianalítico:\")\n",
    "%timeit -n 1000 kepler_semianalitico(M,e)\n",
    "print(\"Newton:\")\n",
    "%timeit -n 1000 kepler_newton(M,e,E0,delta_semi)\n",
    "print(\"Kepler (punto fijo):\")\n",
    "%timeit -n 1000 kepler_kepler(M,e,E0,delta_semi)\n",
    "print(\"Método de bisección:\")\n",
    "%timeit -n 1000 optimize.bisect(kepler,0,2*pi,rtol=delta_semi,args=(M,e))\n",
    "print(\"Método de Brent:\")\n",
    "%timeit -n 1000 optimize.brentq(kepler,0,2*pi,rtol=delta_semi,args=(M,e))\n",
    "print(\"Método de Ridder:\")\n",
    "%timeit -n 1000 optimize.ridder(kepler,0,2*pi,rtol=delta_semi,args=(M,e))\n",
    "print(\"Aproximaciones sucesivas:\")\n",
    "%timeit -n 1000 kepler_eserie(M,e,delta_semi)\n",
    "print(\"Serie de Fourier con coeficientes de Bessel:\")\n",
    "%timeit -n 1000 kepler_bessel(M,e,delta_semi)"
   ]
  },
  {
   "cell_type": "markdown",
   "metadata": {
    "tags": [
     "hide_html"
    ]
   },
   "source": [
    "Otra manera de hacerlo es usando el paquete `timeit`, que realiza un procedimiento similar a `%timeit` pero puede usarse en cualquier programa de python, incluso si este no se ejecuta en `Jupyter`:"
   ]
  },
  {
   "cell_type": "markdown",
   "metadata": {},
   "source": [
    "<a id='code:kepler_tiempos'></a>"
   ]
  },
  {
   "cell_type": "code",
   "execution_count": 49,
   "metadata": {
    "codelabel": "code:kepler_tiempos--hide_html",
    "codeplot": 0,
    "tags": [
     "code:kepler_tiempos",
     "hide_html"
    ]
   },
   "outputs": [],
   "source": [
    "#Valores \n",
    "#Usa una tolerancia igual al error de la rutina semianalítica\n",
    "delta=delta_semi\n",
    "#Podría usar una tolerancia mucho menor si descomenta la línea abajo\n",
    "#delta=1e-12\n",
    "#Puede usar unos valores distintos de e y M para probar\n",
    "#e=0.48\n",
    "#M=298*pi/180\n",
    "repeticiones=1000\n",
    "from timeit import Timer\n",
    "t_sem=Timer(\"kepler_semianalitico(M,e)\",\n",
    "            globals=globals()).timeit(repeticiones)/repeticiones*1e6\n",
    "t_new=Timer(\"kepler_newton(M,e,E0,delta)\",\n",
    "            globals=globals()).timeit(repeticiones)/repeticiones*1e6\n",
    "t_kep=Timer(\"kepler_kepler(M,e,E0,delta)\",\n",
    "            globals=globals()).timeit(repeticiones)/repeticiones*1e6\n",
    "t_bis=Timer(\"optimize.bisect(kepler,0,2*pi,rtol=delta,args=(M,e))\",\n",
    "            globals=globals()).timeit(1000)/repeticiones*1e6\n",
    "t_bre=Timer(\"optimize.brentq(kepler,0,2*pi,rtol=delta,args=(M,e))\",\n",
    "            globals=globals()).timeit(1000)/repeticiones*1e6\n",
    "t_rid=Timer(\"optimize.ridder(kepler,0,2*pi,rtol=delta,args=(M,e))\",\n",
    "            globals=globals()).timeit(1000)/repeticiones*1e6\n",
    "t_ese=Timer(\"kepler_eserie(M,e,delta)\",\n",
    "            globals=globals()).timeit(1000)/repeticiones*1e6\n",
    "t_bes=Timer(\"kepler_bessel(M,e,delta)\",\n",
    "            globals=globals()).timeit(1000)/repeticiones*1e6"
   ]
  },
  {
   "cell_type": "markdown",
   "metadata": {
    "tags": [
     "hide_html"
    ]
   },
   "source": [
    "Podemos incluso hacer un gráfico de los resultados:"
   ]
  },
  {
   "cell_type": "code",
   "execution_count": 50,
   "metadata": {
    "codelabel": "fig:07.04.02.00.Problema2Cuerpos.SolucionTiempo.AproximacionKepler_93",
    "codeplot": 1,
    "figcaption": "<b>Figura 7.93.</b> ",
    "tags": [
     "hide_html"
    ]
   },
   "outputs": [
    {
     "data": {
      "application/javascript": [
       "/* Put everything inside the global mpl namespace */\n",
       "window.mpl = {};\n",
       "\n",
       "\n",
       "mpl.get_websocket_type = function() {\n",
       "    if (typeof(WebSocket) !== 'undefined') {\n",
       "        return WebSocket;\n",
       "    } else if (typeof(MozWebSocket) !== 'undefined') {\n",
       "        return MozWebSocket;\n",
       "    } else {\n",
       "        alert('Your browser does not have WebSocket support. ' +\n",
       "              'Please try Chrome, Safari or Firefox ≥ 6. ' +\n",
       "              'Firefox 4 and 5 are also supported but you ' +\n",
       "              'have to enable WebSockets in about:config.');\n",
       "    };\n",
       "}\n",
       "\n",
       "mpl.figure = function(figure_id, websocket, ondownload, parent_element) {\n",
       "    this.id = figure_id;\n",
       "\n",
       "    this.ws = websocket;\n",
       "\n",
       "    this.supports_binary = (this.ws.binaryType != undefined);\n",
       "\n",
       "    if (!this.supports_binary) {\n",
       "        var warnings = document.getElementById(\"mpl-warnings\");\n",
       "        if (warnings) {\n",
       "            warnings.style.display = 'block';\n",
       "            warnings.textContent = (\n",
       "                \"This browser does not support binary websocket messages. \" +\n",
       "                    \"Performance may be slow.\");\n",
       "        }\n",
       "    }\n",
       "\n",
       "    this.imageObj = new Image();\n",
       "\n",
       "    this.context = undefined;\n",
       "    this.message = undefined;\n",
       "    this.canvas = undefined;\n",
       "    this.rubberband_canvas = undefined;\n",
       "    this.rubberband_context = undefined;\n",
       "    this.format_dropdown = undefined;\n",
       "\n",
       "    this.image_mode = 'full';\n",
       "\n",
       "    this.root = $('<div/>');\n",
       "    this._root_extra_style(this.root)\n",
       "    this.root.attr('style', 'display: inline-block');\n",
       "\n",
       "    $(parent_element).append(this.root);\n",
       "\n",
       "    this._init_header(this);\n",
       "    this._init_canvas(this);\n",
       "    this._init_toolbar(this);\n",
       "\n",
       "    var fig = this;\n",
       "\n",
       "    this.waiting = false;\n",
       "\n",
       "    this.ws.onopen =  function () {\n",
       "            fig.send_message(\"supports_binary\", {value: fig.supports_binary});\n",
       "            fig.send_message(\"send_image_mode\", {});\n",
       "            if (mpl.ratio != 1) {\n",
       "                fig.send_message(\"set_dpi_ratio\", {'dpi_ratio': mpl.ratio});\n",
       "            }\n",
       "            fig.send_message(\"refresh\", {});\n",
       "        }\n",
       "\n",
       "    this.imageObj.onload = function() {\n",
       "            if (fig.image_mode == 'full') {\n",
       "                // Full images could contain transparency (where diff images\n",
       "                // almost always do), so we need to clear the canvas so that\n",
       "                // there is no ghosting.\n",
       "                fig.context.clearRect(0, 0, fig.canvas.width, fig.canvas.height);\n",
       "            }\n",
       "            fig.context.drawImage(fig.imageObj, 0, 0);\n",
       "        };\n",
       "\n",
       "    this.imageObj.onunload = function() {\n",
       "        fig.ws.close();\n",
       "    }\n",
       "\n",
       "    this.ws.onmessage = this._make_on_message_function(this);\n",
       "\n",
       "    this.ondownload = ondownload;\n",
       "}\n",
       "\n",
       "mpl.figure.prototype._init_header = function() {\n",
       "    var titlebar = $(\n",
       "        '<div class=\"ui-dialog-titlebar ui-widget-header ui-corner-all ' +\n",
       "        'ui-helper-clearfix\"/>');\n",
       "    var titletext = $(\n",
       "        '<div class=\"ui-dialog-title\" style=\"width: 100%; ' +\n",
       "        'text-align: center; padding: 3px;\"/>');\n",
       "    titlebar.append(titletext)\n",
       "    this.root.append(titlebar);\n",
       "    this.header = titletext[0];\n",
       "}\n",
       "\n",
       "\n",
       "\n",
       "mpl.figure.prototype._canvas_extra_style = function(canvas_div) {\n",
       "\n",
       "}\n",
       "\n",
       "\n",
       "mpl.figure.prototype._root_extra_style = function(canvas_div) {\n",
       "\n",
       "}\n",
       "\n",
       "mpl.figure.prototype._init_canvas = function() {\n",
       "    var fig = this;\n",
       "\n",
       "    var canvas_div = $('<div/>');\n",
       "\n",
       "    canvas_div.attr('style', 'position: relative; clear: both; outline: 0');\n",
       "\n",
       "    function canvas_keyboard_event(event) {\n",
       "        return fig.key_event(event, event['data']);\n",
       "    }\n",
       "\n",
       "    canvas_div.keydown('key_press', canvas_keyboard_event);\n",
       "    canvas_div.keyup('key_release', canvas_keyboard_event);\n",
       "    this.canvas_div = canvas_div\n",
       "    this._canvas_extra_style(canvas_div)\n",
       "    this.root.append(canvas_div);\n",
       "\n",
       "    var canvas = $('<canvas/>');\n",
       "    canvas.addClass('mpl-canvas');\n",
       "    canvas.attr('style', \"left: 0; top: 0; z-index: 0; outline: 0\")\n",
       "\n",
       "    this.canvas = canvas[0];\n",
       "    this.context = canvas[0].getContext(\"2d\");\n",
       "\n",
       "    var backingStore = this.context.backingStorePixelRatio ||\n",
       "\tthis.context.webkitBackingStorePixelRatio ||\n",
       "\tthis.context.mozBackingStorePixelRatio ||\n",
       "\tthis.context.msBackingStorePixelRatio ||\n",
       "\tthis.context.oBackingStorePixelRatio ||\n",
       "\tthis.context.backingStorePixelRatio || 1;\n",
       "\n",
       "    mpl.ratio = (window.devicePixelRatio || 1) / backingStore;\n",
       "\n",
       "    var rubberband = $('<canvas/>');\n",
       "    rubberband.attr('style', \"position: absolute; left: 0; top: 0; z-index: 1;\")\n",
       "\n",
       "    var pass_mouse_events = true;\n",
       "\n",
       "    canvas_div.resizable({\n",
       "        start: function(event, ui) {\n",
       "            pass_mouse_events = false;\n",
       "        },\n",
       "        resize: function(event, ui) {\n",
       "            fig.request_resize(ui.size.width, ui.size.height);\n",
       "        },\n",
       "        stop: function(event, ui) {\n",
       "            pass_mouse_events = true;\n",
       "            fig.request_resize(ui.size.width, ui.size.height);\n",
       "        },\n",
       "    });\n",
       "\n",
       "    function mouse_event_fn(event) {\n",
       "        if (pass_mouse_events)\n",
       "            return fig.mouse_event(event, event['data']);\n",
       "    }\n",
       "\n",
       "    rubberband.mousedown('button_press', mouse_event_fn);\n",
       "    rubberband.mouseup('button_release', mouse_event_fn);\n",
       "    // Throttle sequential mouse events to 1 every 20ms.\n",
       "    rubberband.mousemove('motion_notify', mouse_event_fn);\n",
       "\n",
       "    rubberband.mouseenter('figure_enter', mouse_event_fn);\n",
       "    rubberband.mouseleave('figure_leave', mouse_event_fn);\n",
       "\n",
       "    canvas_div.on(\"wheel\", function (event) {\n",
       "        event = event.originalEvent;\n",
       "        event['data'] = 'scroll'\n",
       "        if (event.deltaY < 0) {\n",
       "            event.step = 1;\n",
       "        } else {\n",
       "            event.step = -1;\n",
       "        }\n",
       "        mouse_event_fn(event);\n",
       "    });\n",
       "\n",
       "    canvas_div.append(canvas);\n",
       "    canvas_div.append(rubberband);\n",
       "\n",
       "    this.rubberband = rubberband;\n",
       "    this.rubberband_canvas = rubberband[0];\n",
       "    this.rubberband_context = rubberband[0].getContext(\"2d\");\n",
       "    this.rubberband_context.strokeStyle = \"#000000\";\n",
       "\n",
       "    this._resize_canvas = function(width, height) {\n",
       "        // Keep the size of the canvas, canvas container, and rubber band\n",
       "        // canvas in synch.\n",
       "        canvas_div.css('width', width)\n",
       "        canvas_div.css('height', height)\n",
       "\n",
       "        canvas.attr('width', width * mpl.ratio);\n",
       "        canvas.attr('height', height * mpl.ratio);\n",
       "        canvas.attr('style', 'width: ' + width + 'px; height: ' + height + 'px;');\n",
       "\n",
       "        rubberband.attr('width', width);\n",
       "        rubberband.attr('height', height);\n",
       "    }\n",
       "\n",
       "    // Set the figure to an initial 600x600px, this will subsequently be updated\n",
       "    // upon first draw.\n",
       "    this._resize_canvas(600, 600);\n",
       "\n",
       "    // Disable right mouse context menu.\n",
       "    $(this.rubberband_canvas).bind(\"contextmenu\",function(e){\n",
       "        return false;\n",
       "    });\n",
       "\n",
       "    function set_focus () {\n",
       "        canvas.focus();\n",
       "        canvas_div.focus();\n",
       "    }\n",
       "\n",
       "    window.setTimeout(set_focus, 100);\n",
       "}\n",
       "\n",
       "mpl.figure.prototype._init_toolbar = function() {\n",
       "    var fig = this;\n",
       "\n",
       "    var nav_element = $('<div/>');\n",
       "    nav_element.attr('style', 'width: 100%');\n",
       "    this.root.append(nav_element);\n",
       "\n",
       "    // Define a callback function for later on.\n",
       "    function toolbar_event(event) {\n",
       "        return fig.toolbar_button_onclick(event['data']);\n",
       "    }\n",
       "    function toolbar_mouse_event(event) {\n",
       "        return fig.toolbar_button_onmouseover(event['data']);\n",
       "    }\n",
       "\n",
       "    for(var toolbar_ind in mpl.toolbar_items) {\n",
       "        var name = mpl.toolbar_items[toolbar_ind][0];\n",
       "        var tooltip = mpl.toolbar_items[toolbar_ind][1];\n",
       "        var image = mpl.toolbar_items[toolbar_ind][2];\n",
       "        var method_name = mpl.toolbar_items[toolbar_ind][3];\n",
       "\n",
       "        if (!name) {\n",
       "            // put a spacer in here.\n",
       "            continue;\n",
       "        }\n",
       "        var button = $('<button/>');\n",
       "        button.addClass('ui-button ui-widget ui-state-default ui-corner-all ' +\n",
       "                        'ui-button-icon-only');\n",
       "        button.attr('role', 'button');\n",
       "        button.attr('aria-disabled', 'false');\n",
       "        button.click(method_name, toolbar_event);\n",
       "        button.mouseover(tooltip, toolbar_mouse_event);\n",
       "\n",
       "        var icon_img = $('<span/>');\n",
       "        icon_img.addClass('ui-button-icon-primary ui-icon');\n",
       "        icon_img.addClass(image);\n",
       "        icon_img.addClass('ui-corner-all');\n",
       "\n",
       "        var tooltip_span = $('<span/>');\n",
       "        tooltip_span.addClass('ui-button-text');\n",
       "        tooltip_span.html(tooltip);\n",
       "\n",
       "        button.append(icon_img);\n",
       "        button.append(tooltip_span);\n",
       "\n",
       "        nav_element.append(button);\n",
       "    }\n",
       "\n",
       "    var fmt_picker_span = $('<span/>');\n",
       "\n",
       "    var fmt_picker = $('<select/>');\n",
       "    fmt_picker.addClass('mpl-toolbar-option ui-widget ui-widget-content');\n",
       "    fmt_picker_span.append(fmt_picker);\n",
       "    nav_element.append(fmt_picker_span);\n",
       "    this.format_dropdown = fmt_picker[0];\n",
       "\n",
       "    for (var ind in mpl.extensions) {\n",
       "        var fmt = mpl.extensions[ind];\n",
       "        var option = $(\n",
       "            '<option/>', {selected: fmt === mpl.default_extension}).html(fmt);\n",
       "        fmt_picker.append(option);\n",
       "    }\n",
       "\n",
       "    // Add hover states to the ui-buttons\n",
       "    $( \".ui-button\" ).hover(\n",
       "        function() { $(this).addClass(\"ui-state-hover\");},\n",
       "        function() { $(this).removeClass(\"ui-state-hover\");}\n",
       "    );\n",
       "\n",
       "    var status_bar = $('<span class=\"mpl-message\"/>');\n",
       "    nav_element.append(status_bar);\n",
       "    this.message = status_bar[0];\n",
       "}\n",
       "\n",
       "mpl.figure.prototype.request_resize = function(x_pixels, y_pixels) {\n",
       "    // Request matplotlib to resize the figure. Matplotlib will then trigger a resize in the client,\n",
       "    // which will in turn request a refresh of the image.\n",
       "    this.send_message('resize', {'width': x_pixels, 'height': y_pixels});\n",
       "}\n",
       "\n",
       "mpl.figure.prototype.send_message = function(type, properties) {\n",
       "    properties['type'] = type;\n",
       "    properties['figure_id'] = this.id;\n",
       "    this.ws.send(JSON.stringify(properties));\n",
       "}\n",
       "\n",
       "mpl.figure.prototype.send_draw_message = function() {\n",
       "    if (!this.waiting) {\n",
       "        this.waiting = true;\n",
       "        this.ws.send(JSON.stringify({type: \"draw\", figure_id: this.id}));\n",
       "    }\n",
       "}\n",
       "\n",
       "\n",
       "mpl.figure.prototype.handle_save = function(fig, msg) {\n",
       "    var format_dropdown = fig.format_dropdown;\n",
       "    var format = format_dropdown.options[format_dropdown.selectedIndex].value;\n",
       "    fig.ondownload(fig, format);\n",
       "}\n",
       "\n",
       "\n",
       "mpl.figure.prototype.handle_resize = function(fig, msg) {\n",
       "    var size = msg['size'];\n",
       "    if (size[0] != fig.canvas.width || size[1] != fig.canvas.height) {\n",
       "        fig._resize_canvas(size[0], size[1]);\n",
       "        fig.send_message(\"refresh\", {});\n",
       "    };\n",
       "}\n",
       "\n",
       "mpl.figure.prototype.handle_rubberband = function(fig, msg) {\n",
       "    var x0 = msg['x0'] / mpl.ratio;\n",
       "    var y0 = (fig.canvas.height - msg['y0']) / mpl.ratio;\n",
       "    var x1 = msg['x1'] / mpl.ratio;\n",
       "    var y1 = (fig.canvas.height - msg['y1']) / mpl.ratio;\n",
       "    x0 = Math.floor(x0) + 0.5;\n",
       "    y0 = Math.floor(y0) + 0.5;\n",
       "    x1 = Math.floor(x1) + 0.5;\n",
       "    y1 = Math.floor(y1) + 0.5;\n",
       "    var min_x = Math.min(x0, x1);\n",
       "    var min_y = Math.min(y0, y1);\n",
       "    var width = Math.abs(x1 - x0);\n",
       "    var height = Math.abs(y1 - y0);\n",
       "\n",
       "    fig.rubberband_context.clearRect(\n",
       "        0, 0, fig.canvas.width / mpl.ratio, fig.canvas.height / mpl.ratio);\n",
       "\n",
       "    fig.rubberband_context.strokeRect(min_x, min_y, width, height);\n",
       "}\n",
       "\n",
       "mpl.figure.prototype.handle_figure_label = function(fig, msg) {\n",
       "    // Updates the figure title.\n",
       "    fig.header.textContent = msg['label'];\n",
       "}\n",
       "\n",
       "mpl.figure.prototype.handle_cursor = function(fig, msg) {\n",
       "    var cursor = msg['cursor'];\n",
       "    switch(cursor)\n",
       "    {\n",
       "    case 0:\n",
       "        cursor = 'pointer';\n",
       "        break;\n",
       "    case 1:\n",
       "        cursor = 'default';\n",
       "        break;\n",
       "    case 2:\n",
       "        cursor = 'crosshair';\n",
       "        break;\n",
       "    case 3:\n",
       "        cursor = 'move';\n",
       "        break;\n",
       "    }\n",
       "    fig.rubberband_canvas.style.cursor = cursor;\n",
       "}\n",
       "\n",
       "mpl.figure.prototype.handle_message = function(fig, msg) {\n",
       "    fig.message.textContent = msg['message'];\n",
       "}\n",
       "\n",
       "mpl.figure.prototype.handle_draw = function(fig, msg) {\n",
       "    // Request the server to send over a new figure.\n",
       "    fig.send_draw_message();\n",
       "}\n",
       "\n",
       "mpl.figure.prototype.handle_image_mode = function(fig, msg) {\n",
       "    fig.image_mode = msg['mode'];\n",
       "}\n",
       "\n",
       "mpl.figure.prototype.updated_canvas_event = function() {\n",
       "    // Called whenever the canvas gets updated.\n",
       "    this.send_message(\"ack\", {});\n",
       "}\n",
       "\n",
       "// A function to construct a web socket function for onmessage handling.\n",
       "// Called in the figure constructor.\n",
       "mpl.figure.prototype._make_on_message_function = function(fig) {\n",
       "    return function socket_on_message(evt) {\n",
       "        if (evt.data instanceof Blob) {\n",
       "            /* FIXME: We get \"Resource interpreted as Image but\n",
       "             * transferred with MIME type text/plain:\" errors on\n",
       "             * Chrome.  But how to set the MIME type?  It doesn't seem\n",
       "             * to be part of the websocket stream */\n",
       "            evt.data.type = \"image/png\";\n",
       "\n",
       "            /* Free the memory for the previous frames */\n",
       "            if (fig.imageObj.src) {\n",
       "                (window.URL || window.webkitURL).revokeObjectURL(\n",
       "                    fig.imageObj.src);\n",
       "            }\n",
       "\n",
       "            fig.imageObj.src = (window.URL || window.webkitURL).createObjectURL(\n",
       "                evt.data);\n",
       "            fig.updated_canvas_event();\n",
       "            fig.waiting = false;\n",
       "            return;\n",
       "        }\n",
       "        else if (typeof evt.data === 'string' && evt.data.slice(0, 21) == \"data:image/png;base64\") {\n",
       "            fig.imageObj.src = evt.data;\n",
       "            fig.updated_canvas_event();\n",
       "            fig.waiting = false;\n",
       "            return;\n",
       "        }\n",
       "\n",
       "        var msg = JSON.parse(evt.data);\n",
       "        var msg_type = msg['type'];\n",
       "\n",
       "        // Call the  \"handle_{type}\" callback, which takes\n",
       "        // the figure and JSON message as its only arguments.\n",
       "        try {\n",
       "            var callback = fig[\"handle_\" + msg_type];\n",
       "        } catch (e) {\n",
       "            console.log(\"No handler for the '\" + msg_type + \"' message type: \", msg);\n",
       "            return;\n",
       "        }\n",
       "\n",
       "        if (callback) {\n",
       "            try {\n",
       "                // console.log(\"Handling '\" + msg_type + \"' message: \", msg);\n",
       "                callback(fig, msg);\n",
       "            } catch (e) {\n",
       "                console.log(\"Exception inside the 'handler_\" + msg_type + \"' callback:\", e, e.stack, msg);\n",
       "            }\n",
       "        }\n",
       "    };\n",
       "}\n",
       "\n",
       "// from http://stackoverflow.com/questions/1114465/getting-mouse-location-in-canvas\n",
       "mpl.findpos = function(e) {\n",
       "    //this section is from http://www.quirksmode.org/js/events_properties.html\n",
       "    var targ;\n",
       "    if (!e)\n",
       "        e = window.event;\n",
       "    if (e.target)\n",
       "        targ = e.target;\n",
       "    else if (e.srcElement)\n",
       "        targ = e.srcElement;\n",
       "    if (targ.nodeType == 3) // defeat Safari bug\n",
       "        targ = targ.parentNode;\n",
       "\n",
       "    // jQuery normalizes the pageX and pageY\n",
       "    // pageX,Y are the mouse positions relative to the document\n",
       "    // offset() returns the position of the element relative to the document\n",
       "    var x = e.pageX - $(targ).offset().left;\n",
       "    var y = e.pageY - $(targ).offset().top;\n",
       "\n",
       "    return {\"x\": x, \"y\": y};\n",
       "};\n",
       "\n",
       "/*\n",
       " * return a copy of an object with only non-object keys\n",
       " * we need this to avoid circular references\n",
       " * http://stackoverflow.com/a/24161582/3208463\n",
       " */\n",
       "function simpleKeys (original) {\n",
       "  return Object.keys(original).reduce(function (obj, key) {\n",
       "    if (typeof original[key] !== 'object')\n",
       "        obj[key] = original[key]\n",
       "    return obj;\n",
       "  }, {});\n",
       "}\n",
       "\n",
       "mpl.figure.prototype.mouse_event = function(event, name) {\n",
       "    var canvas_pos = mpl.findpos(event)\n",
       "\n",
       "    if (name === 'button_press')\n",
       "    {\n",
       "        this.canvas.focus();\n",
       "        this.canvas_div.focus();\n",
       "    }\n",
       "\n",
       "    var x = canvas_pos.x * mpl.ratio;\n",
       "    var y = canvas_pos.y * mpl.ratio;\n",
       "\n",
       "    this.send_message(name, {x: x, y: y, button: event.button,\n",
       "                             step: event.step,\n",
       "                             guiEvent: simpleKeys(event)});\n",
       "\n",
       "    /* This prevents the web browser from automatically changing to\n",
       "     * the text insertion cursor when the button is pressed.  We want\n",
       "     * to control all of the cursor setting manually through the\n",
       "     * 'cursor' event from matplotlib */\n",
       "    event.preventDefault();\n",
       "    return false;\n",
       "}\n",
       "\n",
       "mpl.figure.prototype._key_event_extra = function(event, name) {\n",
       "    // Handle any extra behaviour associated with a key event\n",
       "}\n",
       "\n",
       "mpl.figure.prototype.key_event = function(event, name) {\n",
       "\n",
       "    // Prevent repeat events\n",
       "    if (name == 'key_press')\n",
       "    {\n",
       "        if (event.which === this._key)\n",
       "            return;\n",
       "        else\n",
       "            this._key = event.which;\n",
       "    }\n",
       "    if (name == 'key_release')\n",
       "        this._key = null;\n",
       "\n",
       "    var value = '';\n",
       "    if (event.ctrlKey && event.which != 17)\n",
       "        value += \"ctrl+\";\n",
       "    if (event.altKey && event.which != 18)\n",
       "        value += \"alt+\";\n",
       "    if (event.shiftKey && event.which != 16)\n",
       "        value += \"shift+\";\n",
       "\n",
       "    value += 'k';\n",
       "    value += event.which.toString();\n",
       "\n",
       "    this._key_event_extra(event, name);\n",
       "\n",
       "    this.send_message(name, {key: value,\n",
       "                             guiEvent: simpleKeys(event)});\n",
       "    return false;\n",
       "}\n",
       "\n",
       "mpl.figure.prototype.toolbar_button_onclick = function(name) {\n",
       "    if (name == 'download') {\n",
       "        this.handle_save(this, null);\n",
       "    } else {\n",
       "        this.send_message(\"toolbar_button\", {name: name});\n",
       "    }\n",
       "};\n",
       "\n",
       "mpl.figure.prototype.toolbar_button_onmouseover = function(tooltip) {\n",
       "    this.message.textContent = tooltip;\n",
       "};\n",
       "mpl.toolbar_items = [[\"Home\", \"Reset original view\", \"fa fa-home icon-home\", \"home\"], [\"Back\", \"Back to previous view\", \"fa fa-arrow-left icon-arrow-left\", \"back\"], [\"Forward\", \"Forward to next view\", \"fa fa-arrow-right icon-arrow-right\", \"forward\"], [\"\", \"\", \"\", \"\"], [\"Pan\", \"Pan axes with left mouse, zoom with right\", \"fa fa-arrows icon-move\", \"pan\"], [\"Zoom\", \"Zoom to rectangle\", \"fa fa-square-o icon-check-empty\", \"zoom\"], [\"\", \"\", \"\", \"\"], [\"Download\", \"Download plot\", \"fa fa-floppy-o icon-save\", \"download\"]];\n",
       "\n",
       "mpl.extensions = [\"eps\", \"jpeg\", \"pdf\", \"png\", \"ps\", \"raw\", \"svg\", \"tif\"];\n",
       "\n",
       "mpl.default_extension = \"png\";var comm_websocket_adapter = function(comm) {\n",
       "    // Create a \"websocket\"-like object which calls the given IPython comm\n",
       "    // object with the appropriate methods. Currently this is a non binary\n",
       "    // socket, so there is still some room for performance tuning.\n",
       "    var ws = {};\n",
       "\n",
       "    ws.close = function() {\n",
       "        comm.close()\n",
       "    };\n",
       "    ws.send = function(m) {\n",
       "        //console.log('sending', m);\n",
       "        comm.send(m);\n",
       "    };\n",
       "    // Register the callback with on_msg.\n",
       "    comm.on_msg(function(msg) {\n",
       "        //console.log('receiving', msg['content']['data'], msg);\n",
       "        // Pass the mpl event to the overridden (by mpl) onmessage function.\n",
       "        ws.onmessage(msg['content']['data'])\n",
       "    });\n",
       "    return ws;\n",
       "}\n",
       "\n",
       "mpl.mpl_figure_comm = function(comm, msg) {\n",
       "    // This is the function which gets called when the mpl process\n",
       "    // starts-up an IPython Comm through the \"matplotlib\" channel.\n",
       "\n",
       "    var id = msg.content.data.id;\n",
       "    // Get hold of the div created by the display call when the Comm\n",
       "    // socket was opened in Python.\n",
       "    var element = $(\"#\" + id);\n",
       "    var ws_proxy = comm_websocket_adapter(comm)\n",
       "\n",
       "    function ondownload(figure, format) {\n",
       "        window.open(figure.imageObj.src);\n",
       "    }\n",
       "\n",
       "    var fig = new mpl.figure(id, ws_proxy,\n",
       "                           ondownload,\n",
       "                           element.get(0));\n",
       "\n",
       "    // Call onopen now - mpl needs it, as it is assuming we've passed it a real\n",
       "    // web socket which is closed, not our websocket->open comm proxy.\n",
       "    ws_proxy.onopen();\n",
       "\n",
       "    fig.parent_element = element.get(0);\n",
       "    fig.cell_info = mpl.find_output_cell(\"<div id='\" + id + \"'></div>\");\n",
       "    if (!fig.cell_info) {\n",
       "        console.error(\"Failed to find cell for figure\", id, fig);\n",
       "        return;\n",
       "    }\n",
       "\n",
       "    var output_index = fig.cell_info[2]\n",
       "    var cell = fig.cell_info[0];\n",
       "\n",
       "};\n",
       "\n",
       "mpl.figure.prototype.handle_close = function(fig, msg) {\n",
       "    var width = fig.canvas.width/mpl.ratio\n",
       "    fig.root.unbind('remove')\n",
       "\n",
       "    // Update the output cell to use the data from the current canvas.\n",
       "    fig.push_to_output();\n",
       "    var dataURL = fig.canvas.toDataURL();\n",
       "    // Re-enable the keyboard manager in IPython - without this line, in FF,\n",
       "    // the notebook keyboard shortcuts fail.\n",
       "    IPython.keyboard_manager.enable()\n",
       "    $(fig.parent_element).html('<img src=\"' + dataURL + '\" width=\"' + width + '\">');\n",
       "    fig.close_ws(fig, msg);\n",
       "}\n",
       "\n",
       "mpl.figure.prototype.close_ws = function(fig, msg){\n",
       "    fig.send_message('closing', msg);\n",
       "    // fig.ws.close()\n",
       "}\n",
       "\n",
       "mpl.figure.prototype.push_to_output = function(remove_interactive) {\n",
       "    // Turn the data on the canvas into data in the output cell.\n",
       "    var width = this.canvas.width/mpl.ratio\n",
       "    var dataURL = this.canvas.toDataURL();\n",
       "    this.cell_info[1]['text/html'] = '<img src=\"' + dataURL + '\" width=\"' + width + '\">';\n",
       "}\n",
       "\n",
       "mpl.figure.prototype.updated_canvas_event = function() {\n",
       "    // Tell IPython that the notebook contents must change.\n",
       "    IPython.notebook.set_dirty(true);\n",
       "    this.send_message(\"ack\", {});\n",
       "    var fig = this;\n",
       "    // Wait a second, then push the new image to the DOM so\n",
       "    // that it is saved nicely (might be nice to debounce this).\n",
       "    setTimeout(function () { fig.push_to_output() }, 1000);\n",
       "}\n",
       "\n",
       "mpl.figure.prototype._init_toolbar = function() {\n",
       "    var fig = this;\n",
       "\n",
       "    var nav_element = $('<div/>');\n",
       "    nav_element.attr('style', 'width: 100%');\n",
       "    this.root.append(nav_element);\n",
       "\n",
       "    // Define a callback function for later on.\n",
       "    function toolbar_event(event) {\n",
       "        return fig.toolbar_button_onclick(event['data']);\n",
       "    }\n",
       "    function toolbar_mouse_event(event) {\n",
       "        return fig.toolbar_button_onmouseover(event['data']);\n",
       "    }\n",
       "\n",
       "    for(var toolbar_ind in mpl.toolbar_items){\n",
       "        var name = mpl.toolbar_items[toolbar_ind][0];\n",
       "        var tooltip = mpl.toolbar_items[toolbar_ind][1];\n",
       "        var image = mpl.toolbar_items[toolbar_ind][2];\n",
       "        var method_name = mpl.toolbar_items[toolbar_ind][3];\n",
       "\n",
       "        if (!name) { continue; };\n",
       "\n",
       "        var button = $('<button class=\"btn btn-default\" href=\"#\" title=\"' + name + '\"><i class=\"fa ' + image + ' fa-lg\"></i></button>');\n",
       "        button.click(method_name, toolbar_event);\n",
       "        button.mouseover(tooltip, toolbar_mouse_event);\n",
       "        nav_element.append(button);\n",
       "    }\n",
       "\n",
       "    // Add the status bar.\n",
       "    var status_bar = $('<span class=\"mpl-message\" style=\"text-align:right; float: right;\"/>');\n",
       "    nav_element.append(status_bar);\n",
       "    this.message = status_bar[0];\n",
       "\n",
       "    // Add the close button to the window.\n",
       "    var buttongrp = $('<div class=\"btn-group inline pull-right\"></div>');\n",
       "    var button = $('<button class=\"btn btn-mini btn-primary\" href=\"#\" title=\"Stop Interaction\"><i class=\"fa fa-power-off icon-remove icon-large\"></i></button>');\n",
       "    button.click(function (evt) { fig.handle_close(fig, {}); } );\n",
       "    button.mouseover('Stop Interaction', toolbar_mouse_event);\n",
       "    buttongrp.append(button);\n",
       "    var titlebar = this.root.find($('.ui-dialog-titlebar'));\n",
       "    titlebar.prepend(buttongrp);\n",
       "}\n",
       "\n",
       "mpl.figure.prototype._root_extra_style = function(el){\n",
       "    var fig = this\n",
       "    el.on(\"remove\", function(){\n",
       "\tfig.close_ws(fig, {});\n",
       "    });\n",
       "}\n",
       "\n",
       "mpl.figure.prototype._canvas_extra_style = function(el){\n",
       "    // this is important to make the div 'focusable\n",
       "    el.attr('tabindex', 0)\n",
       "    // reach out to IPython and tell the keyboard manager to turn it's self\n",
       "    // off when our div gets focus\n",
       "\n",
       "    // location in version 3\n",
       "    if (IPython.notebook.keyboard_manager) {\n",
       "        IPython.notebook.keyboard_manager.register_events(el);\n",
       "    }\n",
       "    else {\n",
       "        // location in version 2\n",
       "        IPython.keyboard_manager.register_events(el);\n",
       "    }\n",
       "\n",
       "}\n",
       "\n",
       "mpl.figure.prototype._key_event_extra = function(event, name) {\n",
       "    var manager = IPython.notebook.keyboard_manager;\n",
       "    if (!manager)\n",
       "        manager = IPython.keyboard_manager;\n",
       "\n",
       "    // Check for shift+enter\n",
       "    if (event.shiftKey && event.which == 13) {\n",
       "        this.canvas_div.blur();\n",
       "        event.shiftKey = false;\n",
       "        // Send a \"J\" for go to next cell\n",
       "        event.which = 74;\n",
       "        event.keyCode = 74;\n",
       "        manager.command_mode();\n",
       "        manager.handle_keydown(event);\n",
       "    }\n",
       "}\n",
       "\n",
       "mpl.figure.prototype.handle_save = function(fig, msg) {\n",
       "    fig.ondownload(fig, null);\n",
       "}\n",
       "\n",
       "\n",
       "mpl.find_output_cell = function(html_output) {\n",
       "    // Return the cell and output element which can be found *uniquely* in the notebook.\n",
       "    // Note - this is a bit hacky, but it is done because the \"notebook_saving.Notebook\"\n",
       "    // IPython event is triggered only after the cells have been serialised, which for\n",
       "    // our purposes (turning an active figure into a static one), is too late.\n",
       "    var cells = IPython.notebook.get_cells();\n",
       "    var ncells = cells.length;\n",
       "    for (var i=0; i<ncells; i++) {\n",
       "        var cell = cells[i];\n",
       "        if (cell.cell_type === 'code'){\n",
       "            for (var j=0; j<cell.output_area.outputs.length; j++) {\n",
       "                var data = cell.output_area.outputs[j];\n",
       "                if (data.data) {\n",
       "                    // IPython >= 3 moved mimebundle to data attribute of output\n",
       "                    data = data.data;\n",
       "                }\n",
       "                if (data['text/html'] == html_output) {\n",
       "                    return [cell, data, j];\n",
       "                }\n",
       "            }\n",
       "        }\n",
       "    }\n",
       "}\n",
       "\n",
       "// Register the function which deals with the matplotlib target/channel.\n",
       "// The kernel may be null if the page has been refreshed.\n",
       "if (IPython.notebook.kernel != null) {\n",
       "    IPython.notebook.kernel.comm_manager.register_target('matplotlib', mpl.mpl_figure_comm);\n",
       "}\n"
      ],
      "text/plain": [
       "<IPython.core.display.Javascript object>"
      ]
     },
     "metadata": {},
     "output_type": "display_data"
    },
    {
     "data": {
      "text/html": [
       "<img src=\"data:image/png;base64,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\" width=\"640\">"
      ],
      "text/plain": [
       "<IPython.core.display.HTML object>"
      ]
     },
     "metadata": {},
     "output_type": "display_data"
    }
   ],
   "source": [
    "import matplotlib.pyplot as plt\n",
    "fig=plt.figure()\n",
    "ax=fig.gca()\n",
    "valores=[t_sem,t_new,t_kep,t_bis,t_bre,t_rid,t_ese,t_bes]\n",
    "etiquetas=[\"\",\"Sem.\",\"Newton\",\"Kepler\",\"Bisección\",\"Brent\",\"Ridder\",\"Serie e\",\"Bessel\"]\n",
    "ax.plot(valores,'ko-');\n",
    "ax.set_xticklabels(etiquetas);\n",
    "\n",
    "#Decoración\n",
    "ax.grid()\n",
    "ax.set_xlabel(\"Método\");\n",
    "ax.set_ylabel(\"Tiempo ($\\mu s$)\");\n",
    "ax.set_title(f\"Tiempo de ejecución para $\\delta=${delta:g}\");"
   ]
  },
  {
   "cell_type": "markdown",
   "metadata": {},
   "source": [
    "<a id='fig:07.04.02.00.Problema2Cuerpos.SolucionTiempo.AproximacionKepler_93'></a><center><b>Figura 7.93.</b> </center>"
   ]
  },
  {
   "cell_type": "markdown",
   "metadata": {
    "tags": [
     "hide_html"
    ]
   },
   "source": [
    "Observamos que para una precisión relativamente baja (aquella provista como referencia por la rutina `kepler_semianalitica`), el método de Kepler o el de punto fijo y el método de Newton, son en general los más rápidos entre los vistos en esta sección.  "
   ]
  },
  {
   "cell_type": "markdown",
   "metadata": {
    "tags": [
     "hide_html"
    ]
   },
   "source": [
    "Sin embargo si cambiamos el valor de los parámetros $M$ y $e$ o incrementamos la precisión (disminuímos el valor de la tolerancia $\\delta$) los resultados varían de unos métodos a otros.  \n",
    "\n",
    "El lector puede cambiar en el algoritmo [kepler_tiempos](#code:kepler_tiempos), el valor del parámetro `delta`, o de los parámetros de entrada $M$ y $e$ para ver el efecto que tiene en el tiempo de ejecución promedio de las rutinas."
   ]
  },
  {
   "cell_type": "markdown",
   "metadata": {
    "tags": [
     "footnote"
    ]
   },
   "source": [
    "**NOTAS AL PIE:**\n",
    "\n",
    "<a id='notaspie_1'></a>\n",
    "1. En este libro apareció también formulada por primera vez la ley armónica, que llamamos aquí tercer teorema del movimiento orbital o teorema armónico.  En los Epítome Kepler uso también por primera vez la palabra *inercia*, cuyo concepto sería elaborado en profundidad posteriormente por Galileo, Descartes y por supuesto por Newton.\n",
    "\n"
   ]
  },
  {
   "cell_type": "markdown",
   "metadata": {
    "tags": [
     "navigation"
    ]
   },
   "source": [
    "[Indice](index.ipynb) | Previo: [Problema2Cuerpos.SolucionTiempo.EcuacionKepler](07.04.01.00.Problema2Cuerpos.SolucionTiempo.EcuacionKepler.ipynb) | Siguiente: [Problema2Cuerpos.SolucionTiempo.Sintesis](07.04.02.00.Problema2Cuerpos.SolucionTiempo.Sintesis.ipynb)"
   ]
  }
 ],
 "metadata": {
  "celltoolbar": "Tags",
  "kernelspec": {
   "display_name": "Python 3",
   "language": "python",
   "name": "python3"
  },
  "language_info": {
   "codemirror_mode": {
    "name": "ipython",
    "version": 3
   },
   "file_extension": ".py",
   "mimetype": "text/x-python",
   "name": "python",
   "nbconvert_exporter": "python",
   "pygments_lexer": "ipython3",
   "version": "3.6.8"
  }
 },
 "nbformat": 4,
 "nbformat_minor": 2
}
